{
 "cells": [
  {
   "cell_type": "markdown",
   "metadata": {
    "kernel": "SoS"
   },
   "source": [
    "Anteriormente habíamos comprovado cómo es interesante usar PCA después de la extracción de features aleatorios. Ahora vamos a ver cómo se comporta con RandomForest, pero vamos a usar un dataset más adecuado que antes, uno que solo tiene variables numéricas.\n",
    "\n",
    "En principio esto solo hay que implementarlo en python"
   ]
  },
  {
   "cell_type": "code",
   "execution_count": 1,
   "metadata": {
    "kernel": "Python3"
   },
   "outputs": [],
   "source": [
    "path = \"../../datasets/falldetection/falldetection.csv\""
   ]
  },
  {
   "cell_type": "code",
   "execution_count": 2,
   "metadata": {
    "kernel": "Python3"
   },
   "outputs": [],
   "source": [
    "using_dataset = \"digits\"\n",
    "# Options:\n",
    "#    digits\n",
    "#    fall_detection"
   ]
  },
  {
   "cell_type": "code",
   "execution_count": 11,
   "metadata": {
    "kernel": "Python3"
   },
   "outputs": [],
   "source": [
    "import pandas as pd\n",
    "import numpy as np\n",
    "from sklearn.ensemble import RandomForestClassifier\n",
    "from sklearn.tree import DecisionTreeClassifier\n",
    "from sklearn.kernel_approximation import RBFSampler\n",
    "from sklearn import datasets\n",
    "from sklearn.decomposition import PCA\n",
    "from sklearn.pipeline import Pipeline\n",
    "import matplotlib.pyplot as plt\n",
    "import math\n",
    "import ipywidgets as widgets\n",
    "df = pd.read_csv(path)"
   ]
  },
  {
   "cell_type": "code",
   "execution_count": 4,
   "metadata": {
    "kernel": "Python3"
   },
   "outputs": [],
   "source": [
    "def get_data(d):\n",
    "    if d == \"fall_detection\":\n",
    "        df = pd.read_csv(path)\n",
    "        N = df.shape[0]\n",
    "\n",
    "        prop_train = 2 / 3\n",
    "        N_train = np.ceil(N * prop_train).astype(np.int64)\n",
    "        N_test = N - N_train\n",
    "\n",
    "        data = df.drop([\"ACTIVITY\"], 1)\n",
    "        target = df.ACTIVITY\n",
    "\n",
    "        data_train = data.iloc[:N_train]\n",
    "        data_test = data.iloc[N_train:]\n",
    "\n",
    "        target_train = target[:N_train]\n",
    "        target_test = target[N_train:]\n",
    "        \n",
    "        return data_train, data_test, target_train, target_test\n",
    "    elif d == \"digits\":\n",
    "        digits = datasets.load_digits()\n",
    "        target = digits.target\n",
    "        data = digits.data\n",
    "        \n",
    "        data /= 16\n",
    "        data -= data.mean(axis=0)\n",
    "        \n",
    "        N = data.shape[0]\n",
    "        prop_train = 2 / 3\n",
    "        N_train = math.ceil(N * prop_train)\n",
    "        N_test = N - N_train\n",
    "        \n",
    "        data_train = data[:N_train]\n",
    "        data_test = data[N_train:]\n",
    "        \n",
    "        target_train = target[:N_train]\n",
    "        target_test = target[N_train:]\n",
    "        \n",
    "        return data_train, data_test, target_train, target_test\n",
    "    else:\n",
    "        print(\"No such dataset\")"
   ]
  },
  {
   "cell_type": "markdown",
   "metadata": {
    "kernel": "Python3"
   },
   "source": [
    "N = df.shape[0]\n",
    "\n",
    "prop_train = 2 / 3\n",
    "N_train = np.ceil(N * prop_train).astype(np.int64)\n",
    "N_test = N - N_train\n",
    "\n",
    "data = df.drop([\"ACTIVITY\"], 1)\n",
    "target = df.ACTIVITY\n",
    "\n",
    "data_train = data.iloc[:N_train]\n",
    "data_test = data.iloc[N_train:]\n",
    "\n",
    "target_train = target[:N_train]\n",
    "target_test = target[N_train:]"
   ]
  },
  {
   "cell_type": "code",
   "execution_count": null,
   "metadata": {
    "kernel": "Python3"
   },
   "outputs": [],
   "source": []
  },
  {
   "cell_type": "code",
   "execution_count": null,
   "metadata": {
    "kernel": "Python3"
   },
   "outputs": [],
   "source": []
  },
  {
   "cell_type": "code",
   "execution_count": 5,
   "metadata": {
    "kernel": "Python3"
   },
   "outputs": [],
   "source": [
    "feats = list(range(50,700,50))"
   ]
  },
  {
   "cell_type": "code",
   "execution_count": 6,
   "metadata": {
    "kernel": "Python3"
   },
   "outputs": [],
   "source": [
    "# Random Forest\n",
    "RF_clf = RandomForestClassifier(n_estimators = 100)\n",
    "data_train, data_test, target_train, target_test = get_data(using_dataset)\n",
    "RF_clf.fit(data_train, target_train)\n",
    "RF_train_score = RF_clf.score(data_train, target_train)\n",
    "RF_test_score = RF_clf.score(data_test, target_test)"
   ]
  },
  {
   "cell_type": "code",
   "execution_count": 7,
   "metadata": {
    "kernel": "Python3"
   },
   "outputs": [],
   "source": [
    "# Random Forest\n",
    "RBF_PCA_RF_clf = Pipeline([\n",
    "    (\"sampler\",RBFSampler(gamma = 0.2)),\n",
    "    (\"pca\", PCA(n_components = 0.9, svd_solver = \"full\")),\n",
    "    (\"clf\", RandomForestClassifier(n_estimators = 100))\n",
    "])\n",
    "\n",
    "RBF_PCA_RF_train_scores = []\n",
    "RBF_PCA_RF_test_scores = []\n",
    "data_train, data_test, target_train, target_test = get_data(using_dataset)\n",
    "for f in feats:\n",
    "    RBF_PCA_RF_clf.set_params(sampler__n_components = f)\n",
    "    RBF_PCA_RF_clf.fit(data_train, target_train)\n",
    "    train_score = RBF_PCA_RF_clf.score(data_train, target_train)\n",
    "    test_score = RBF_PCA_RF_clf.score(data_test, target_test)\n",
    "    \n",
    "    RBF_PCA_RF_train_scores.append(train_score)\n",
    "    RBF_PCA_RF_test_scores.append(test_score)"
   ]
  },
  {
   "cell_type": "code",
   "execution_count": 8,
   "metadata": {
    "kernel": "Python3"
   },
   "outputs": [],
   "source": [
    "# Decision Tree\n",
    "RBF_PCA_DT_clf = Pipeline([\n",
    "    (\"sampler\",RBFSampler(gamma = 0.2)),\n",
    "    (\"pca\", PCA(n_components = 0.9, svd_solver = \"full\")),\n",
    "    (\"clf\", DecisionTreeClassifier())\n",
    "])\n",
    "\n",
    "RBF_PCA_DT_train_scores = []\n",
    "RBF_PCA_DT_test_scores = []\n",
    "data_train, data_test, target_train, target_test = get_data(using_dataset)\n",
    "for f in feats:\n",
    "    RBF_PCA_DT_clf.set_params(sampler__n_components = f)\n",
    "    RBF_PCA_DT_clf.fit(data_train, target_train)\n",
    "    train_score = RBF_PCA_DT_clf.score(data_train, target_train)\n",
    "    test_score = RBF_PCA_DT_clf.score(data_test, target_test)\n",
    "    \n",
    "    RBF_PCA_DT_train_scores.append(train_score)\n",
    "    RBF_PCA_DT_test_scores.append(test_score)"
   ]
  },
  {
   "cell_type": "code",
   "execution_count": 9,
   "metadata": {
    "kernel": "Python3"
   },
   "outputs": [],
   "source": [
    "# Decision Tree\n",
    "DT_clf = DecisionTreeClassifier()\n",
    "data_train, data_test, target_train, target_test = get_data(using_dataset)\n",
    "DT_clf.fit(data_train, target_train)\n",
    "DT_train_score = DT_clf.score(data_train, target_train)\n",
    "DT_test_score = DT_clf.score(data_test, target_test)"
   ]
  },
  {
   "cell_type": "code",
   "execution_count": 10,
   "metadata": {
    "kernel": "Python3"
   },
   "outputs": [
    {
     "data": {
      "text/plain": [
       "Text(0, 0.5, 'Accuracy')"
      ]
     },
     "execution_count": 10,
     "metadata": {},
     "output_type": "execute_result"
    },
    {
     "data": {
      "image/png": "[encoded data removed]",
      "text/plain": [
       "<Figure size 1440x360 with 2 Axes>"
      ]
     },
     "metadata": {
      "needs_background": "light"
     },
     "output_type": "display_data"
    }
   ],
   "source": [
    "fig = plt.figure(figsize=(20,5))\n",
    "test_graph = fig.add_subplot(121)\n",
    "train_graph = fig.add_subplot(122, sharey = test_graph)\n",
    "#test_graph = plt.subplot(121)\n",
    "#train_graph = plt.subplot(122)\n",
    "\n",
    "test_graph.plot(feats, RBF_PCA_RF_test_scores, label = \"RBF_PCA_RF Test scores\")\n",
    "test_graph.plot(feats, RBF_PCA_DT_test_scores, label = \"RBF_PCA_DT Test scores\")\n",
    "test_graph.plot([feats[0],feats[-1]], [RF_test_score, RF_test_score], label = \"RF Test score\")\n",
    "test_graph.plot([feats[0],feats[-1]], [DT_test_score, DT_test_score], label = \"DT Test score\")\n",
    "\n",
    "\n",
    "train_graph.plot(feats, RBF_PCA_RF_train_scores, label = \"RBF_PCA_RF Train scores\")\n",
    "train_graph.plot(feats, RBF_PCA_DT_train_scores, label = \"RBF_PCA_DT Train scores\")\n",
    "train_graph.plot([feats[0],feats[-1]], [RF_train_score, RF_train_score], label = \"RF Train score\")\n",
    "train_graph.plot([feats[0],feats[-1]], [DT_train_score, DT_train_score], label = \"DT Train score\")\n",
    "\n",
    "train_graph.grid(True)\n",
    "test_graph.grid(True)\n",
    "train_graph.legend()\n",
    "test_graph.legend()\n",
    "plt.xlabel(\"Number of features\")\n",
    "plt.ylabel(\"Accuracy\")"
   ]
  },
  {
   "cell_type": "code",
   "execution_count": null,
   "metadata": {
    "kernel": "Python3"
   },
   "outputs": [],
   "source": []
  },
  {
   "cell_type": "code",
   "execution_count": null,
   "metadata": {
    "kernel": "Python3"
   },
   "outputs": [],
   "source": []
  },
  {
   "cell_type": "code",
   "execution_count": null,
   "metadata": {
    "kernel": "Python3"
   },
   "outputs": [],
   "source": []
  }
 ],
 "metadata": {
  "kernelspec": {
   "display_name": "SoS",
   "language": "sos",
   "name": "sos"
  },
  "language_info": {
   "codemirror_mode": "sos",
   "file_extension": ".sos",
   "mimetype": "text/x-sos",
   "name": "sos",
   "nbconvert_exporter": "sos_notebook.converter.SoS_Exporter",
   "pygments_lexer": "sos"
  },
  "sos": {
   "kernels": [],
   "panel": {
    "displayed": false,
    "height": 0,
    "style": "side"
   },
   "version": "0.16.12"
  }
 },
 "nbformat": 4,
 "nbformat_minor": 2
}
