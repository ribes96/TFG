{
 "cells": [
  {
   "cell_type": "markdown",
   "metadata": {
    "kernel": "SoS"
   },
   "source": [
    "# Comparación DT en R y en Python"
   ]
  },
  {
   "cell_type": "markdown",
   "metadata": {
    "kernel": "SoS"
   },
   "source": [
    "En este notebook compararé el comportamiento del modelo DecisionTree de R con el de Python, para ver si descrepan.\n",
    "\n",
    "Iré modificando los parámetros que cada uno tiene, y veremos el accuracy que consigue cada uno"
   ]
  },
  {
   "cell_type": "markdown",
   "metadata": {
    "kernel": "SoS"
   },
   "source": [
    "https://www.kaggle.com/pitasr/falldata"
   ]
  },
  {
   "cell_type": "code",
   "execution_count": 1,
   "metadata": {
    "kernel": "SoS"
   },
   "outputs": [],
   "source": [
    "sos_path = \"../../datasets/falldetection/falldetection.csv\""
   ]
  },
  {
   "cell_type": "markdown",
   "metadata": {
    "kernel": "SoS"
   },
   "source": [
    "## En python3"
   ]
  },
  {
   "cell_type": "code",
   "execution_count": 2,
   "metadata": {
    "kernel": "Python3"
   },
   "outputs": [],
   "source": [
    "%use python3\n",
    "\n",
    "import pandas as pd\n",
    "import numpy as np\n",
    "from sklearn.tree import DecisionTreeClassifier\n",
    "import matplotlib.pyplot as plt\n",
    "df = pd.read_csv(sos_path)"
   ]
  },
  {
   "cell_type": "code",
   "execution_count": 3,
   "metadata": {
    "kernel": "Python3"
   },
   "outputs": [],
   "source": [
    "N = df.shape[0]\n",
    "prop_train = 2 / 3\n",
    "N_train = np.ceil(N * prop_train).astype(np.int64)\n",
    "N_test = N - N_train"
   ]
  },
  {
   "cell_type": "code",
   "execution_count": 4,
   "metadata": {
    "kernel": "Python3"
   },
   "outputs": [],
   "source": [
    "data = df.drop([\"ACTIVITY\"], 1)\n",
    "target = df.ACTIVITY"
   ]
  },
  {
   "cell_type": "code",
   "execution_count": 5,
   "metadata": {
    "kernel": "Python3"
   },
   "outputs": [],
   "source": [
    "data_train = data.iloc[:N_train]\n",
    "data_test = data.iloc[N_train:]\n",
    "\n",
    "target_train = target[:N_train]\n",
    "target_test = target[N_train:]"
   ]
  },
  {
   "cell_type": "code",
   "execution_count": 6,
   "metadata": {
    "kernel": "Python3"
   },
   "outputs": [],
   "source": [
    "dtc = DecisionTreeClassifier()"
   ]
  },
  {
   "cell_type": "code",
   "execution_count": 7,
   "metadata": {
    "kernel": "Python3"
   },
   "outputs": [
    {
     "data": {
      "text/plain": [
       "DecisionTreeClassifier(class_weight=None, criterion='gini', max_depth=None,\n",
       "            max_features=None, max_leaf_nodes=None,\n",
       "            min_impurity_decrease=0.0, min_impurity_split=None,\n",
       "            min_samples_leaf=1, min_samples_split=2,\n",
       "            min_weight_fraction_leaf=0.0, presort=False, random_state=None,\n",
       "            splitter='best')"
      ]
     },
     "execution_count": 7,
     "metadata": {},
     "output_type": "execute_result"
    }
   ],
   "source": [
    "dtc.fit(data_train, target_train)"
   ]
  },
  {
   "cell_type": "code",
   "execution_count": 8,
   "metadata": {
    "kernel": "Python3"
   },
   "outputs": [],
   "source": [
    "train_score = dtc.score(data_train, target_train)\n",
    "test_score = dtc.score(data_test, target_test)"
   ]
  },
  {
   "cell_type": "code",
   "execution_count": 9,
   "metadata": {
    "kernel": "Python3"
   },
   "outputs": [
    {
     "data": {
      "text/plain": [
       "(1.0, 0.6915750915750916)"
      ]
     },
     "execution_count": 9,
     "metadata": {},
     "output_type": "execute_result"
    }
   ],
   "source": [
    "train_score, test_score"
   ]
  },
  {
   "cell_type": "markdown",
   "metadata": {
    "kernel": "Python3"
   },
   "source": [
    "## En R"
   ]
  },
  {
   "cell_type": "code",
   "execution_count": 10,
   "metadata": {
    "kernel": "R"
   },
   "outputs": [],
   "source": [
    "%use R\n",
    "library(rpart)\n",
    "df = read.csv(sos_path)"
   ]
  },
  {
   "cell_type": "code",
   "execution_count": 11,
   "metadata": {
    "kernel": "R"
   },
   "outputs": [],
   "source": [
    "df$ACTIVITY = as.factor(df$ACTIVITY)"
   ]
  },
  {
   "cell_type": "code",
   "execution_count": 12,
   "metadata": {
    "kernel": "R"
   },
   "outputs": [],
   "source": [
    "N = nrow(df)\n",
    "prop_train = 2/3\n",
    "N_train = ceiling(N * prop_train)\n",
    "N_test = N - N_train\n",
    "data_train = df[1:N_train,]\n",
    "data_test = df[(N_train + 1):N,]"
   ]
  },
  {
   "cell_type": "code",
   "execution_count": 13,
   "metadata": {
    "kernel": "R"
   },
   "outputs": [],
   "source": [
    "ctrl = rpart.control(\n",
    "    minsplit = 2,\n",
    "    cp = 0,\n",
    "    maxcomplete = 0,\n",
    "    maxsurrogate = 0,\n",
    "    usesurrogate = 0,\n",
    "    xval = 10,\n",
    "    surrogatestyle = 0,\n",
    "    maxdepth = 30,\n",
    ")"
   ]
  },
  {
   "cell_type": "code",
   "execution_count": 14,
   "metadata": {
    "kernel": "R"
   },
   "outputs": [],
   "source": [
    "rpt = rpart(ACTIVITY ~ ., data = data_train,control = ctrl, method = \"class\")"
   ]
  },
  {
   "cell_type": "code",
   "execution_count": 15,
   "metadata": {
    "kernel": "R"
   },
   "outputs": [],
   "source": [
    "train_pred = predict(rpt, data_train, type = \"class\")\n",
    "test_pred = predict(rpt, data_test, type = \"class\")"
   ]
  },
  {
   "cell_type": "code",
   "execution_count": 16,
   "metadata": {
    "kernel": "R"
   },
   "outputs": [],
   "source": [
    "train_cf = table(data_train$ACTIVITY, train_pred)\n",
    "test_cf = table(data_test$ACTIVITY, test_pred)"
   ]
  },
  {
   "cell_type": "code",
   "execution_count": 17,
   "metadata": {
    "kernel": "R"
   },
   "outputs": [],
   "source": [
    "R_train_score = sum(diag(train_cf)) / nrow(data_train)\n",
    "R_test_score = sum(diag(test_cf)) / nrow(data_test)"
   ]
  },
  {
   "cell_type": "code",
   "execution_count": 18,
   "metadata": {
    "kernel": "R"
   },
   "outputs": [
    {
     "data": {
      "text/html": [
       "1"
      ],
      "text/latex": [
       "1"
      ],
      "text/markdown": [
       "1"
      ],
      "text/plain": [
       "[1] 1"
      ]
     },
     "metadata": {},
     "output_type": "display_data"
    }
   ],
   "source": [
    "R_train_score"
   ]
  },
  {
   "cell_type": "code",
   "execution_count": 19,
   "metadata": {
    "kernel": "R"
   },
   "outputs": [
    {
     "data": {
      "text/html": [
       "0.684065934065934"
      ],
      "text/latex": [
       "0.684065934065934"
      ],
      "text/markdown": [
       "0.684065934065934"
      ],
      "text/plain": [
       "[1] 0.6840659"
      ]
     },
     "metadata": {},
     "output_type": "display_data"
    }
   ],
   "source": [
    "R_test_score"
   ]
  },
  {
   "cell_type": "code",
   "execution_count": 20,
   "metadata": {
    "kernel": "Python3",
    "scrolled": true
   },
   "outputs": [
    {
     "data": {
      "image/png": "[encoded data removed]",
      "text/plain": [
       "<Figure size 432x288 with 1 Axes>"
      ]
     },
     "metadata": {
      "needs_background": "light"
     },
     "output_type": "display_data"
    }
   ],
   "source": [
    "%get R_train_score R_test_score --from R\n",
    "\n",
    "scores = [train_score,R_train_score, test_score,R_test_score]\n",
    "labs = [\"Python train\", \"R train\", \"Python test\",  \"R_test\"]\n",
    "cols = [\"r\",\"r\",\"b\",\"b\"]\n",
    "posit = [0,1,3,4]\n",
    "plt.bar(x = posit,  height = scores, tick_label = labs, color = cols)\n",
    "plt.grid(True)\n",
    "plt.title(\"DT scores in Python and in R\")\n",
    "plt.ylim(0,1.25)\n",
    "for i in range(len(scores)):\n",
    "    plt.text(posit[i], scores[i] + 0.05, round(scores[i],3),fontweight='bold')\n",
    "    "
   ]
  },
  {
   "cell_type": "markdown",
   "metadata": {
    "kernel": "Python3"
   },
   "source": [
    "## Modificando min_samples_split"
   ]
  },
  {
   "cell_type": "markdown",
   "metadata": {
    "kernel": "Python3"
   },
   "source": [
    "### En R"
   ]
  },
  {
   "cell_type": "code",
   "execution_count": 21,
   "metadata": {
    "kernel": "R"
   },
   "outputs": [],
   "source": [
    "%use R\n",
    "df = read.csv(sos_path)\n",
    "df$ACTIVITY = as.factor(df$ACTIVITY)\n",
    "N = nrow(df)\n",
    "prop_train = 2/3\n",
    "N_train = ceiling(N * prop_train)\n",
    "N_test = N - N_train\n",
    "data_train = df[1:N_train,]\n",
    "data_test = df[(N_train + 1):N,]"
   ]
  },
  {
   "cell_type": "code",
   "execution_count": 22,
   "metadata": {
    "kernel": "R"
   },
   "outputs": [],
   "source": [
    "spl = 2:60"
   ]
  },
  {
   "cell_type": "code",
   "execution_count": 23,
   "metadata": {
    "kernel": "R"
   },
   "outputs": [],
   "source": [
    "f = function(s) \n",
    "    {\n",
    "        ctrl = rpart.control(\n",
    "            minsplit = s,\n",
    "            cp = 0,\n",
    "            maxcomplete = 0,\n",
    "            maxsurrogate = 0,\n",
    "            usesurrogate = 0,\n",
    "            xval = 10,\n",
    "            surrogatestyle = 0,\n",
    "            maxdepth = 30,\n",
    "        )\n",
    "        rpt = rpart(ACTIVITY ~ ., data = data_train,control = ctrl, method = \"class\")\n",
    "    \n",
    "        train_pred = predict(rpt, data_train, type = \"class\")\n",
    "        test_pred = predict(rpt, data_test, type = \"class\")\n",
    "        \n",
    "        train_cf = table(data_train$ACTIVITY, train_pred)\n",
    "        test_cf = table(data_test$ACTIVITY, test_pred)\n",
    "    \n",
    "        R_train_score = sum(diag(train_cf)) / nrow(data_train)\n",
    "        R_test_score = sum(diag(test_cf)) / nrow(data_test)\n",
    "        return(list(\"train\" = R_train_score, \"test\" = R_test_score))\n",
    "    }"
   ]
  },
  {
   "cell_type": "code",
   "execution_count": 24,
   "metadata": {
    "kernel": "R"
   },
   "outputs": [],
   "source": [
    "res = sapply(spl, FUN = \"f\")"
   ]
  },
  {
   "cell_type": "code",
   "execution_count": 25,
   "metadata": {
    "kernel": "R"
   },
   "outputs": [],
   "source": [
    "R_train_scores = res[1, 1:ncol(res)]\n",
    "R_test_scores = res[2, 1:ncol(res)]"
   ]
  },
  {
   "cell_type": "markdown",
   "metadata": {
    "kernel": "Python3"
   },
   "source": [
    "### En Python3"
   ]
  },
  {
   "cell_type": "code",
   "execution_count": 26,
   "metadata": {
    "kernel": "Python3"
   },
   "outputs": [],
   "source": [
    "clf = DecisionTreeClassifier()"
   ]
  },
  {
   "cell_type": "code",
   "execution_count": 27,
   "metadata": {
    "kernel": "Python3"
   },
   "outputs": [],
   "source": [
    "python_train_scores = []\n",
    "python_test_scores = []\n",
    "for i in range(2,61):\n",
    "    clf.set_params(min_samples_split = i)\n",
    "    clf.fit(data_train, target_train)\n",
    "    train_score = clf.score(data_train, target_train)\n",
    "    test_score = clf.score(data_test, target_test)\n",
    "    \n",
    "    python_train_scores.append(train_score)\n",
    "    python_test_scores.append(test_score)"
   ]
  },
  {
   "cell_type": "code",
   "execution_count": 28,
   "metadata": {
    "kernel": "Python3"
   },
   "outputs": [
    {
     "data": {
      "text/plain": [
       "Text(0, 0.5, 'Accuracy')"
      ]
     },
     "execution_count": 28,
     "metadata": {},
     "output_type": "execute_result"
    },
    {
     "data": {
      "image/png": "[encoded data removed]",
      "text/plain": [
       "<Figure size 720x360 with 1 Axes>"
      ]
     },
     "metadata": {
      "needs_background": "light"
     },
     "output_type": "display_data"
    }
   ],
   "source": [
    "%get R_train_scores R_test_scores spl --from R\n",
    "plt.figure(figsize=(10,5))\n",
    "plt.plot(spl ,R_train_scores, label = \"Train Score in R\")\n",
    "plt.plot(spl, R_test_scores, label = \"Test score in R\")\n",
    "plt.plot(spl, python_train_scores, label = \"Train Score in Python3\")\n",
    "plt.plot(spl, python_test_scores, label = \"Test Score in Python3\")\n",
    "plt.grid(True)\n",
    "plt.legend()\n",
    "plt.xlabel(\"Min obs. to split\")\n",
    "plt.ylabel(\"Accuracy\")\n",
    "#plt.ylim(0.5,1.1)\n"
   ]
  },
  {
   "cell_type": "markdown",
   "metadata": {
    "kernel": "Python3"
   },
   "source": [
    "## Modificando max_depth"
   ]
  },
  {
   "cell_type": "code",
   "execution_count": 29,
   "metadata": {
    "kernel": "R"
   },
   "outputs": [],
   "source": [
    "%use R\n",
    "\n",
    "df = read.csv(sos_path)\n",
    "\n",
    "df$ACTIVITY = as.factor(df$ACTIVITY)\n",
    "\n",
    "N = nrow(df)\n",
    "prop_train = 2/3\n",
    "N_train = ceiling(N * prop_train)\n",
    "N_test = N - N_train\n",
    "\n",
    "data_train = df[1:N_train,]\n",
    "\n",
    "data_test = df[(N_train + 1):N,]\n",
    "\n",
    "d = 2:30\n",
    "\n"
   ]
  },
  {
   "cell_type": "code",
   "execution_count": 30,
   "metadata": {
    "kernel": "R"
   },
   "outputs": [],
   "source": [
    "f = function(d) {\n",
    "    ctrl = rpart.control(\n",
    "            minsplit = 20,\n",
    "            cp = 0,\n",
    "            maxcomplete = 0,\n",
    "            maxsurrogate = 0,\n",
    "            usesurrogate = 0,\n",
    "            xval = 10,\n",
    "            surrogatestyle = 0,\n",
    "            maxdepth = d,\n",
    "    )\n",
    "    rpt = rpart(ACTIVITY ~ ., data = data_train,control = ctrl, method = \"class\")\n",
    "    \n",
    "    train_pred = predict(rpt, data_train, type = \"class\")\n",
    "    test_pred = predict(rpt, data_test, type = \"class\")\n",
    "        \n",
    "    train_cf = table(data_train$ACTIVITY, train_pred)\n",
    "    test_cf = table(data_test$ACTIVITY, test_pred)\n",
    "    \n",
    "    R_train_score = sum(diag(train_cf)) / nrow(data_train)\n",
    "    R_test_score = sum(diag(test_cf)) / nrow(data_test)\n",
    "    return(list(\"train\" = R_train_score, \"test\" = R_test_score))\n",
    "}"
   ]
  },
  {
   "cell_type": "code",
   "execution_count": 31,
   "metadata": {
    "kernel": "R"
   },
   "outputs": [],
   "source": [
    "res = sapply(d, FUN = \"f\")"
   ]
  },
  {
   "cell_type": "code",
   "execution_count": 32,
   "metadata": {
    "kernel": "R"
   },
   "outputs": [],
   "source": [
    "R_train_scores = res[1, 1:ncol(res)]\n",
    "R_test_scores = res[2, 1:ncol(res)]"
   ]
  },
  {
   "cell_type": "markdown",
   "metadata": {
    "kernel": "R"
   },
   "source": [
    "#### Nos pasamos a python"
   ]
  },
  {
   "cell_type": "code",
   "execution_count": 33,
   "metadata": {
    "kernel": "Python3"
   },
   "outputs": [],
   "source": [
    "clf = DecisionTreeClassifier()"
   ]
  },
  {
   "cell_type": "code",
   "execution_count": 34,
   "metadata": {
    "kernel": "Python3"
   },
   "outputs": [],
   "source": [
    "python_train_scores = []\n",
    "python_test_scores = []\n",
    "d = list(range(2,31))\n",
    "for i in d:\n",
    "    clf.set_params(max_depth = i)\n",
    "    clf.fit(data_train, target_train)\n",
    "    train_score = clf.score(data_train, target_train)\n",
    "    test_score = clf.score(data_test, target_test)\n",
    "    \n",
    "    python_train_scores.append(train_score)\n",
    "    python_test_scores.append(test_score)"
   ]
  },
  {
   "cell_type": "code",
   "execution_count": 35,
   "metadata": {
    "kernel": "Python3"
   },
   "outputs": [
    {
     "data": {
      "text/plain": [
       "Text(0, 0.5, 'Accuracy')"
      ]
     },
     "execution_count": 35,
     "metadata": {},
     "output_type": "execute_result"
    },
    {
     "data": {
      "image/png": "[encoded data removed]",
      "text/plain": [
       "<Figure size 720x360 with 1 Axes>"
      ]
     },
     "metadata": {
      "needs_background": "light"
     },
     "output_type": "display_data"
    }
   ],
   "source": [
    "%get R_train_scores R_test_scores --from R\n",
    "plt.figure(figsize=(10,5))\n",
    "plt.plot(d ,R_train_scores, label = \"Train Score in R\")\n",
    "plt.plot(d, R_test_scores, label = \"Test score in R\")\n",
    "plt.plot(d, python_train_scores, label = \"Train Score in Python3\")\n",
    "plt.plot(d, python_test_scores, label = \"Test Score in Python3\")\n",
    "plt.grid(True)\n",
    "plt.legend()\n",
    "plt.xlabel(\"Max depth\")\n",
    "plt.ylabel(\"Accuracy\")\n",
    "#plt.ylim(0.5,1.1)"
   ]
  }
 ],
 "metadata": {
  "kernelspec": {
   "display_name": "SoS",
   "language": "sos",
   "name": "sos"
  },
  "language_info": {
   "codemirror_mode": "sos",
   "file_extension": ".sos",
   "mimetype": "text/x-sos",
   "name": "sos",
   "nbconvert_exporter": "sos_notebook.converter.SoS_Exporter",
   "pygments_lexer": "sos"
  },
  "sos": {
   "kernels": [
    [
     "Python3",
     "python3",
     "Python3",
     "#FFD91A"
    ],
    [
     "R",
     "ir",
     "R",
     "#DCDCDA"
    ],
    [
     "SoS",
     "sos",
     "",
     ""
    ]
   ],
   "panel": {
    "displayed": true,
    "height": 0,
    "style": "side"
   },
   "version": "0.16.12"
  }
 },
 "nbformat": 4,
 "nbformat_minor": 2
}
