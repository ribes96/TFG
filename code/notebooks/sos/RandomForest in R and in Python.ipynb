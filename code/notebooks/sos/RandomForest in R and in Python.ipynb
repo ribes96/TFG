{
 "cells": [
  {
   "cell_type": "markdown",
   "metadata": {
    "kernel": "SoS"
   },
   "source": [
    "Aplicar Random Forest con \"falldetection\" en python y en R, para ver si discrepan"
   ]
  },
  {
   "cell_type": "code",
   "execution_count": 1,
   "metadata": {
    "kernel": "SoS"
   },
   "outputs": [],
   "source": [
    "sos_path = \"../../datasets/falldetection/falldetection.csv\""
   ]
  },
  {
   "cell_type": "markdown",
   "metadata": {
    "kernel": "SoS"
   },
   "source": [
    "### Python"
   ]
  },
  {
   "cell_type": "code",
   "execution_count": 1,
   "metadata": {
    "kernel": "Python3"
   },
   "outputs": [
    {
     "ename": "NameError",
     "evalue": "name 'sos_path' is not defined",
     "output_type": "error",
     "traceback": [
      "\u001b[0;31m---------------------------------------------------------------------------\u001b[0m",
      "\u001b[0;31mNameError\u001b[0m                                 Traceback (most recent call last)",
      "\u001b[0;32m<ipython-input-1-800950d8b102>\u001b[0m in \u001b[0;36m<module>\u001b[0;34m\u001b[0m\n\u001b[1;32m      4\u001b[0m \u001b[0;32mfrom\u001b[0m \u001b[0msklearn\u001b[0m\u001b[0;34m.\u001b[0m\u001b[0mpipeline\u001b[0m \u001b[0;32mimport\u001b[0m \u001b[0mPipeline\u001b[0m\u001b[0;34m\u001b[0m\u001b[0m\n\u001b[1;32m      5\u001b[0m \u001b[0;32mimport\u001b[0m \u001b[0mmatplotlib\u001b[0m\u001b[0;34m.\u001b[0m\u001b[0mpyplot\u001b[0m \u001b[0;32mas\u001b[0m \u001b[0mplt\u001b[0m\u001b[0;34m\u001b[0m\u001b[0m\n\u001b[0;32m----> 6\u001b[0;31m \u001b[0mdf\u001b[0m \u001b[0;34m=\u001b[0m \u001b[0mpd\u001b[0m\u001b[0;34m.\u001b[0m\u001b[0mread_csv\u001b[0m\u001b[0;34m(\u001b[0m\u001b[0msos_path\u001b[0m\u001b[0;34m)\u001b[0m\u001b[0;34m\u001b[0m\u001b[0m\n\u001b[0m",
      "\u001b[0;31mNameError\u001b[0m: name 'sos_path' is not defined"
     ]
    }
   ],
   "source": [
    "import pandas as pd\n",
    "import numpy as np\n",
    "from sklearn.ensemble import RandomForestClassifier\n",
    "import matplotlib.pyplot as plt\n",
    "df = pd.read_csv(sos_path)"
   ]
  },
  {
   "cell_type": "code",
   "execution_count": 3,
   "metadata": {
    "kernel": "Python3"
   },
   "outputs": [],
   "source": [
    "N = df.shape[0]\n",
    "\n",
    "prop_train = 2 / 3\n",
    "N_train = np.ceil(N * prop_train).astype(np.int64)\n",
    "N_test = N - N_train\n",
    "\n",
    "data = df.drop([\"ACTIVITY\"], 1)\n",
    "target = df.ACTIVITY\n",
    "\n",
    "data_train = data.iloc[:N_train]\n",
    "data_test = data.iloc[N_train:]\n",
    "\n",
    "target_train = target[:N_train]\n",
    "target_test = target[N_train:]"
   ]
  },
  {
   "cell_type": "code",
   "execution_count": 4,
   "metadata": {
    "kernel": "Python3"
   },
   "outputs": [],
   "source": [
    "rfc = RandomForestClassifier(n_estimators = 100)"
   ]
  },
  {
   "cell_type": "code",
   "execution_count": 5,
   "metadata": {
    "kernel": "Python3"
   },
   "outputs": [
    {
     "data": {
      "text/plain": [
       "RandomForestClassifier(bootstrap=True, class_weight=None, criterion='gini',\n",
       "            max_depth=None, max_features='auto', max_leaf_nodes=None,\n",
       "            min_impurity_decrease=0.0, min_impurity_split=None,\n",
       "            min_samples_leaf=1, min_samples_split=2,\n",
       "            min_weight_fraction_leaf=0.0, n_estimators=100, n_jobs=None,\n",
       "            oob_score=False, random_state=None, verbose=0,\n",
       "            warm_start=False)"
      ]
     },
     "execution_count": 5,
     "metadata": {},
     "output_type": "execute_result"
    }
   ],
   "source": [
    "rfc.fit(data_train, target_train)"
   ]
  },
  {
   "cell_type": "code",
   "execution_count": 6,
   "metadata": {
    "kernel": "Python3"
   },
   "outputs": [],
   "source": [
    "train_score = rfc.score(data_train, target_train)\n",
    "test_score = rfc.score(data_test, target_test)"
   ]
  },
  {
   "cell_type": "code",
   "execution_count": 7,
   "metadata": {
    "kernel": "Python3"
   },
   "outputs": [
    {
     "data": {
      "text/plain": [
       "(1.0, 0.7782051282051282)"
      ]
     },
     "execution_count": 7,
     "metadata": {},
     "output_type": "execute_result"
    }
   ],
   "source": [
    "train_score, test_score"
   ]
  },
  {
   "cell_type": "markdown",
   "metadata": {
    "kernel": "Python3"
   },
   "source": [
    "### En R"
   ]
  },
  {
   "cell_type": "code",
   "execution_count": 8,
   "metadata": {
    "kernel": "R"
   },
   "outputs": [
    {
     "name": "stderr",
     "output_type": "stream",
     "text": [
      "randomForest 4.6-14\n",
      "Type rfNews() to see new features/changes/bug fixes.\n"
     ]
    }
   ],
   "source": [
    "library(randomForest)\n",
    "df = read.csv(sos_path)"
   ]
  },
  {
   "cell_type": "code",
   "execution_count": 9,
   "metadata": {
    "kernel": "R"
   },
   "outputs": [],
   "source": [
    "df$ACTIVITY = as.factor(df$ACTIVITY)"
   ]
  },
  {
   "cell_type": "code",
   "execution_count": 10,
   "metadata": {
    "kernel": "R"
   },
   "outputs": [],
   "source": [
    "N = nrow(df)\n",
    "prop_train = 2/3\n",
    "N_train = ceiling(N * prop_train)\n",
    "N_test = N - N_train\n",
    "data_train = df[1:N_train,]\n",
    "data_test = df[(N_train + 1):N,]"
   ]
  },
  {
   "cell_type": "code",
   "execution_count": 11,
   "metadata": {
    "kernel": "R"
   },
   "outputs": [],
   "source": [
    "rf = randomForest(ACTIVITY ~ ., data = data_train, ntree = 100)"
   ]
  },
  {
   "cell_type": "code",
   "execution_count": 12,
   "metadata": {
    "kernel": "R"
   },
   "outputs": [],
   "source": [
    "R_test_score = sum(diag(table(data_test$ACTIVITY, predict(rf, data_test)))) / nrow(data_test)\n",
    "R_train_score = sum(diag(table(data_train$ACTIVITY, predict(rf, data_train)))) / nrow(data_train)"
   ]
  },
  {
   "cell_type": "markdown",
   "metadata": {
    "kernel": "R"
   },
   "source": [
    "### Gráfica"
   ]
  },
  {
   "cell_type": "code",
   "execution_count": 13,
   "metadata": {
    "kernel": "Python3"
   },
   "outputs": [
    {
     "data": {
      "image/png": "[encoded data removed]",
      "text/plain": [
       "<Figure size 432x288 with 1 Axes>"
      ]
     },
     "metadata": {
      "needs_background": "light"
     },
     "output_type": "display_data"
    }
   ],
   "source": [
    "%get R_train_score R_test_score --from R\n",
    "\n",
    "scores = [train_score,R_train_score, test_score,R_test_score]\n",
    "labs = [\"Python train\", \"R train\", \"Python test\",  \"R_test\"]\n",
    "cols = [\"r\",\"r\",\"b\",\"b\"]\n",
    "posit = [0,1,3,4]\n",
    "plt.bar(x = posit,  height = scores, tick_label = labs, color = cols)\n",
    "plt.grid(True)\n",
    "plt.title(\"Random Forest scores in Python and in R\")\n",
    "plt.ylim(0,1.25)\n",
    "for i in range(len(scores)):\n",
    "    plt.text(posit[i], scores[i] + 0.05, round(scores[i],3),fontweight='bold')"
   ]
  },
  {
   "cell_type": "markdown",
   "metadata": {
    "kernel": "Python3"
   },
   "source": [
    "### Incrementando la cantidad de árboles"
   ]
  },
  {
   "cell_type": "code",
   "execution_count": 14,
   "metadata": {
    "kernel": "R"
   },
   "outputs": [],
   "source": [
    "#nt = 3:500"
   ]
  },
  {
   "cell_type": "code",
   "execution_count": 15,
   "metadata": {
    "kernel": "R"
   },
   "outputs": [],
   "source": [
    "nt = seq(5,100,5)"
   ]
  },
  {
   "cell_type": "code",
   "execution_count": 16,
   "metadata": {
    "kernel": "R"
   },
   "outputs": [],
   "source": [
    "df = read.csv(sos_path)\n",
    "df$ACTIVITY = as.factor(df$ACTIVITY)\n",
    "N = nrow(df)\n",
    "prop_train = 2/3\n",
    "N_train = ceiling(N * prop_train)\n",
    "N_test = N - N_train\n",
    "data_train = df[1:N_train,]\n",
    "data_test = df[(N_train + 1):N,]\n",
    "N = nrow(df)\n",
    "prop_train = 2/3\n",
    "N_train = ceiling(N * prop_train)\n",
    "N_test = N - N_train\n",
    "data_train = df[1:N_train,]\n",
    "data_test = df[(N_train + 1):N,]"
   ]
  },
  {
   "cell_type": "code",
   "execution_count": 17,
   "metadata": {
    "kernel": "R"
   },
   "outputs": [],
   "source": [
    "f = function(n) {\n",
    "    rf = randomForest(ACTIVITY ~ ., data = data_train, ntree = n)\n",
    "    R_test_score = sum(diag(table(data_test$ACTIVITY, predict(rf, data_test)))) / nrow(data_test)\n",
    "    R_train_score = sum(diag(table(data_train$ACTIVITY, predict(rf, data_train)))) / nrow(data_train)\n",
    "    return(list(\"train\" = R_train_score, \"test\" = R_test_score))\n",
    "}"
   ]
  },
  {
   "cell_type": "code",
   "execution_count": 18,
   "metadata": {
    "kernel": "R"
   },
   "outputs": [],
   "source": [
    "res = sapply(nt, FUN = \"f\")"
   ]
  },
  {
   "cell_type": "code",
   "execution_count": 19,
   "metadata": {
    "kernel": "R"
   },
   "outputs": [],
   "source": [
    "R_train_scores = res[1, 1:ncol(res)]\n",
    "R_test_scores = res[2, 1:ncol(res)]"
   ]
  },
  {
   "cell_type": "markdown",
   "metadata": {
    "kernel": "R"
   },
   "source": [
    "### En python"
   ]
  },
  {
   "cell_type": "code",
   "execution_count": 20,
   "metadata": {
    "kernel": "Python3"
   },
   "outputs": [],
   "source": [
    "rfc = RandomForestClassifier()"
   ]
  },
  {
   "cell_type": "code",
   "execution_count": 21,
   "metadata": {
    "kernel": "Python3"
   },
   "outputs": [],
   "source": [
    "%get nt --from R\n",
    "python_train_scores = []\n",
    "python_test_scores = []\n",
    "for i in nt:\n",
    "    rfc.set_params(n_estimators = i)\n",
    "    rfc.fit(data_train, target_train)\n",
    "    train_score = rfc.score(data_train, target_train)\n",
    "    test_score = rfc.score(data_test, target_test)\n",
    "    \n",
    "    python_train_scores.append(train_score)\n",
    "    python_test_scores.append(test_score)"
   ]
  },
  {
   "cell_type": "code",
   "execution_count": 22,
   "metadata": {
    "kernel": "Python3"
   },
   "outputs": [
    {
     "name": "stdout",
     "output_type": "stream",
     "text": [
      "[0.949917597509614, 0.97363120307636, 0.980681193920527, 0.985808459989013, 0.98681560153818, 0.98983702618568, 0.991118842702802, 0.992125984251969, 0.991210401025453, 0.992309100897272, 0.992950009155832, 0.99340780076909, 0.993041567478484, 0.992950009155832, 0.993957150704999, 0.994140267350302, 0.994872733931514, 0.994323383995605, 0.994140267350302, 0.993774034059696]\n"
     ]
    }
   ],
   "source": [
    "%get R_train_scores --from R\n",
    "print(R_train_scores)"
   ]
  },
  {
   "cell_type": "code",
   "execution_count": 23,
   "metadata": {
    "kernel": "Python3"
   },
   "outputs": [
    {
     "data": {
      "text/plain": [
       "Text(0, 0.5, 'Accuracy')"
      ]
     },
     "execution_count": 23,
     "metadata": {},
     "output_type": "execute_result"
    },
    {
     "data": {
      "image/png": "[encoded data removed]",
      "text/plain": [
       "<Figure size 720x360 with 1 Axes>"
      ]
     },
     "metadata": {
      "needs_background": "light"
     },
     "output_type": "display_data"
    }
   ],
   "source": [
    "%get R_train_scores R_test_scores --from R\n",
    "plt.figure(figsize=(10,5))\n",
    "plt.plot(nt ,R_train_scores, label = \"Train Score in R\")\n",
    "plt.plot(nt, R_test_scores, label = \"Test score in R\")\n",
    "plt.plot(nt, python_train_scores, label = \"Train Score in Python3\")\n",
    "plt.plot(nt, python_test_scores, label = \"Test Score in Python3\")\n",
    "plt.grid(True)\n",
    "plt.legend()\n",
    "plt.xlabel(\"Number estimators\")\n",
    "plt.ylabel(\"Accuracy\")\n",
    "#plt.ylim(0.5,1.1)"
   ]
  }
 ],
 "metadata": {
  "kernelspec": {
   "display_name": "SoS",
   "language": "sos",
   "name": "sos"
  },
  "language_info": {
   "codemirror_mode": "sos",
   "file_extension": ".sos",
   "mimetype": "text/x-sos",
   "name": "sos",
   "nbconvert_exporter": "sos_notebook.converter.SoS_Exporter",
   "pygments_lexer": "sos"
  },
  "sos": {
   "kernels": [],
   "panel": {
    "displayed": true,
    "height": 0,
    "style": "side"
   },
   "version": "0.16.12"
  }
 },
 "nbformat": 4,
 "nbformat_minor": 2
}
