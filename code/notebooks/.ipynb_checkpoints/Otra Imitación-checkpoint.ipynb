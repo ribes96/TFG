{
 "cells": [
  {
   "cell_type": "markdown",
   "metadata": {},
   "source": [
    "Imports"
   ]
  },
  {
   "cell_type": "code",
   "execution_count": 1,
   "metadata": {},
   "outputs": [],
   "source": [
    "import matplotlib.pyplot as plt\n",
    "import numpy as np\n",
    "from time import time\n",
    "\n",
    "# Import datasets, classifiers and performance metrics\n",
    "from sklearn import datasets, svm, pipeline\n",
    "from sklearn.kernel_approximation import (RBFSampler,\n",
    "                                          Nystroem)\n",
    "from sklearn.decomposition import PCA"
   ]
  },
  {
   "cell_type": "markdown",
   "metadata": {},
   "source": [
    "Sacar el dataset"
   ]
  },
  {
   "cell_type": "code",
   "execution_count": 3,
   "metadata": {},
   "outputs": [],
   "source": [
    "# The digits dataset\n",
    "digits = datasets.load_digits(n_class=9)"
   ]
  },
  {
   "cell_type": "code",
   "execution_count": 6,
   "metadata": {},
   "outputs": [],
   "source": [
    "# To apply an classifier on this data, we need to flatten the image, to\n",
    "# turn the data in a (samples, feature) matrix:\n",
    "n_samples = len(digits.data)\n",
    "data = digits.data / 16.\n",
    "data -= data.mean(axis=0)"
   ]
  },
  {
   "cell_type": "code",
   "execution_count": 21,
   "metadata": {},
   "outputs": [
    {
     "data": {
      "text/plain": [
       "array([[ 0.        , -0.02009895, -0.0094697 , ..., -0.40793135,\n",
       "        -0.12905844, -0.02493043],\n",
       "       [ 0.        , -0.02009895, -0.3219697 , ...,  0.21706865,\n",
       "        -0.12905844, -0.02493043],\n",
       "       [ 0.        , -0.02009895, -0.3219697 , ...,  0.59206865,\n",
       "         0.43344156, -0.02493043],\n",
       "       ...,\n",
       "       [ 0.        , -0.02009895,  0.0530303 , ..., -0.03293135,\n",
       "        -0.12905844, -0.02493043],\n",
       "       [ 0.        , -0.02009895, -0.2594697 , ..., -0.03293135,\n",
       "        -0.12905844, -0.02493043],\n",
       "       [ 0.        , -0.02009895,  0.3030303 , ...,  0.34206865,\n",
       "        -0.06655844, -0.02493043]])"
      ]
     },
     "execution_count": 21,
     "metadata": {},
     "output_type": "execute_result"
    }
   ],
   "source": [
    "data"
   ]
  },
  {
   "cell_type": "code",
   "execution_count": 22,
   "metadata": {},
   "outputs": [],
   "source": [
    "# We learn the digits on the first half of the digits\n",
    "data_train, targets_train = (data[:n_samples // 2],\n",
    "                             digits.target[:n_samples // 2])\n",
    "\n",
    "\n",
    "# Now predict the value of the digit on the second half:\n",
    "data_test, targets_test = (data[n_samples // 2:],\n",
    "                           digits.target[n_samples // 2:])"
   ]
  },
  {
   "cell_type": "markdown",
   "metadata": {},
   "source": [
    "Hasta ahora solo ha modificado los datos originales, y ha definido:\n",
    "- data_train\n",
    "- targets_train\n",
    "- data_test\n",
    "- targets_test"
   ]
  },
  {
   "cell_type": "markdown",
   "metadata": {},
   "source": [
    "Crea dos clasificadores distintos"
   ]
  },
  {
   "cell_type": "code",
   "execution_count": 29,
   "metadata": {},
   "outputs": [],
   "source": [
    "kernel_svm = svm.SVC(gamma=.2)\n",
    "linear_svm = svm.LinearSVC()"
   ]
  },
  {
   "cell_type": "code",
   "execution_count": 30,
   "metadata": {},
   "outputs": [],
   "source": [
    "rbf_sampler = RBFSampler(gamma=.2, random_state=1)\n",
    "nystroem_sampler = Nystroem(gamma=.2, random_state=1)"
   ]
  },
  {
   "cell_type": "code",
   "execution_count": 32,
   "metadata": {},
   "outputs": [
    {
     "data": {
      "text/plain": [
       "RBFSampler(gamma=0.2, n_components=100, random_state=1)"
      ]
     },
     "execution_count": 32,
     "metadata": {},
     "output_type": "execute_result"
    }
   ],
   "source": [
    "rbf_sampler"
   ]
  },
  {
   "cell_type": "markdown",
   "metadata": {},
   "source": [
    "Simplemente entrena el clasificador con kernel"
   ]
  },
  {
   "cell_type": "code",
   "execution_count": 44,
   "metadata": {},
   "outputs": [],
   "source": [
    "kernel_svm.fit(data_train, targets_train)\n",
    "kernel_svm_score = kernel_svm.score(data_test, targets_test)"
   ]
  },
  {
   "cell_type": "code",
   "execution_count": 46,
   "metadata": {},
   "outputs": [
    {
     "data": {
      "text/plain": [
       "0.9715698393077874"
      ]
     },
     "execution_count": 46,
     "metadata": {},
     "output_type": "execute_result"
    }
   ],
   "source": [
    "kernel_svm_score"
   ]
  },
  {
   "cell_type": "code",
   "execution_count": null,
   "metadata": {},
   "outputs": [],
   "source": []
  }
 ],
 "metadata": {
  "kernelspec": {
   "display_name": "Python 3",
   "language": "python",
   "name": "python3"
  },
  "language_info": {
   "codemirror_mode": {
    "name": "ipython",
    "version": 3
   },
   "file_extension": ".py",
   "mimetype": "text/x-python",
   "name": "python",
   "nbconvert_exporter": "python",
   "pygments_lexer": "ipython3",
   "version": "3.6.5"
  }
 },
 "nbformat": 4,
 "nbformat_minor": 2
}
