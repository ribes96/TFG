{
 "cells": [
  {
   "cell_type": "markdown",
   "metadata": {},
   "source": [
    "El único objetivo de este notebook es ver si influye la normalización de los datos a la hora de hacer un SVM"
   ]
  },
  {
   "cell_type": "markdown",
   "metadata": {},
   "source": [
    "Imports"
   ]
  },
  {
   "cell_type": "code",
   "execution_count": 1,
   "metadata": {},
   "outputs": [],
   "source": [
    "import matplotlib.pyplot as plt\n",
    "import numpy as np\n",
    "from time import time\n",
    "\n",
    "# Import datasets, classifiers and performance metrics\n",
    "from sklearn import datasets, svm, pipeline\n",
    "from sklearn.kernel_approximation import (RBFSampler,\n",
    "                                          Nystroem)\n",
    "from sklearn.decomposition import PCA\n",
    "import math\n",
    "from sklearn.tree import DecisionTreeClassifier\n",
    "from sklearn.kernel_approximation import RBFSampler"
   ]
  },
  {
   "cell_type": "markdown",
   "metadata": {},
   "source": [
    "#### Gestión de los datasets"
   ]
  },
  {
   "cell_type": "code",
   "execution_count": 2,
   "metadata": {},
   "outputs": [],
   "source": [
    "digits = datasets.load_digits()"
   ]
  },
  {
   "cell_type": "code",
   "execution_count": 3,
   "metadata": {},
   "outputs": [],
   "source": [
    "data, target = digits.data, digits.target"
   ]
  },
  {
   "cell_type": "code",
   "execution_count": 4,
   "metadata": {},
   "outputs": [],
   "source": [
    "prop_train = 2 / 3\n",
    "N = data.shape[0]\n",
    "N_train = math.ceil(N * prop_train)\n",
    "N_test = N - N_train"
   ]
  },
  {
   "cell_type": "code",
   "execution_count": 5,
   "metadata": {},
   "outputs": [],
   "source": [
    "data_train = data[:N_train]\n",
    "data_test = data[N_train:]\n",
    "target_train = target[:N_train]\n",
    "target_test = target[N_train:]"
   ]
  },
  {
   "cell_type": "code",
   "execution_count": 6,
   "metadata": {},
   "outputs": [],
   "source": [
    "changed_data = digits.data  / 16\n",
    "changed_data -= changed_data.mean(axis = 0)"
   ]
  },
  {
   "cell_type": "code",
   "execution_count": 7,
   "metadata": {},
   "outputs": [],
   "source": [
    "changed_data_train = changed_data[:N_train]\n",
    "changed_data_test = changed_data[N_train:]"
   ]
  },
  {
   "cell_type": "markdown",
   "metadata": {},
   "source": [
    "Hemos generado dos datos distintos:\n",
    "- data_train\n",
    "- data_test\n",
    "- changed_data_train\n",
    "- changed_data_test\n",
    "Los dos usan target_train y target_test"
   ]
  },
  {
   "cell_type": "markdown",
   "metadata": {},
   "source": [
    "### Creación de los samplers"
   ]
  },
  {
   "cell_type": "code",
   "execution_count": 8,
   "metadata": {},
   "outputs": [],
   "source": [
    "normal_sampler = RBFSampler()\n",
    "changed_sampler = RBFSampler()"
   ]
  },
  {
   "cell_type": "code",
   "execution_count": 9,
   "metadata": {},
   "outputs": [
    {
     "data": {
      "text/plain": [
       "RBFSampler(gamma=1.0, n_components=100, random_state=None)"
      ]
     },
     "execution_count": 9,
     "metadata": {},
     "output_type": "execute_result"
    }
   ],
   "source": [
    "normal_sampler.fit(data_train)\n",
    "changed_sampler.fit(changed_data_train)"
   ]
  },
  {
   "cell_type": "code",
   "execution_count": 10,
   "metadata": {},
   "outputs": [],
   "source": [
    "mapped_data_train = normal_sampler.transform(data_train)\n",
    "mapped_data_test = normal_sampler.transform(data_test)\n",
    "\n",
    "changed_mapped_data_train = changed_sampler.transform(changed_data_train)\n",
    "changed_mapped_data_test = changed_sampler.transform(changed_data_test)"
   ]
  },
  {
   "cell_type": "markdown",
   "metadata": {},
   "source": [
    "### Creación de los clasificadores"
   ]
  },
  {
   "cell_type": "code",
   "execution_count": 11,
   "metadata": {},
   "outputs": [],
   "source": [
    "arbol_normal = DecisionTreeClassifier()\n",
    "arbol_changed = DecisionTreeClassifier()\n",
    "\n",
    "arbol_mapped_normal = DecisionTreeClassifier()\n",
    "arbol_mapped_changed = DecisionTreeClassifier()"
   ]
  },
  {
   "cell_type": "code",
   "execution_count": 12,
   "metadata": {},
   "outputs": [
    {
     "data": {
      "text/plain": [
       "DecisionTreeClassifier(class_weight=None, criterion='gini', max_depth=None,\n",
       "            max_features=None, max_leaf_nodes=None,\n",
       "            min_impurity_decrease=0.0, min_impurity_split=None,\n",
       "            min_samples_leaf=1, min_samples_split=2,\n",
       "            min_weight_fraction_leaf=0.0, presort=False, random_state=None,\n",
       "            splitter='best')"
      ]
     },
     "execution_count": 12,
     "metadata": {},
     "output_type": "execute_result"
    }
   ],
   "source": [
    "arbol_normal.fit(data_train, target_train)\n",
    "arbol_changed.fit(changed_data_train, target_train)\n",
    "\n",
    "arbol_mapped_normal.fit(mapped_data_train, target_train)\n",
    "arbol_mapped_changed.fit(changed_mapped_data_train, target_train)"
   ]
  },
  {
   "cell_type": "code",
   "execution_count": 13,
   "metadata": {},
   "outputs": [],
   "source": [
    "normal_train_score = arbol_normal.score(data_train, target_train)\n",
    "normal_test_score = arbol_normal.score(data_test, target_test)\n",
    "\n",
    "changed_train_score = arbol_changed.score(changed_data_train, target_train)\n",
    "changed_test_score = arbol_changed.score(changed_data_test, target_test)\n",
    "\n",
    "mapped_normal_train_score = arbol_mapped_normal.score(mapped_data_train, target_train)\n",
    "mapped_normal_test_score = arbol_mapped_normal.score(mapped_data_test, target_test)\n",
    "\n",
    "changed_mapped_train_score = arbol_mapped_changed.score(changed_mapped_data_train, target_train)\n",
    "changed_mapped_test_score = arbol_mapped_changed.score(changed_mapped_data_test, target_test)"
   ]
  },
  {
   "cell_type": "markdown",
   "metadata": {},
   "source": [
    "Train scores"
   ]
  },
  {
   "cell_type": "code",
   "execution_count": 14,
   "metadata": {},
   "outputs": [
    {
     "name": "stdout",
     "output_type": "stream",
     "text": [
      "Normal score: 1.0\n",
      "Changed score: 1.0\n",
      "Mapped Normal score: 1.0\n",
      "Mapped Changed score: 1.0\n"
     ]
    }
   ],
   "source": [
    "print(\"Normal score:\", normal_train_score)\n",
    "print(\"Changed score:\", changed_train_score)\n",
    "print(\"Mapped Normal score:\", mapped_normal_train_score)\n",
    "print(\"Mapped Changed score:\", changed_mapped_train_score)"
   ]
  },
  {
   "cell_type": "markdown",
   "metadata": {},
   "source": [
    "Test scores"
   ]
  },
  {
   "cell_type": "code",
   "execution_count": 18,
   "metadata": {},
   "outputs": [
    {
     "name": "stdout",
     "output_type": "stream",
     "text": [
      "Normal score: 0.7829716193656093\n",
      "Changed score: 0.7829716193656093\n",
      "Mapped Normal score: 0.11018363939899833\n",
      "Mapped Changed score: 0.1986644407345576\n"
     ]
    }
   ],
   "source": [
    "print(\"Normal score:\", normal_test_score)\n",
    "print(\"Changed score:\", changed_test_score)\n",
    "print(\"Mapped Normal score:\", mapped_normal_test_score)\n",
    "print(\"Mapped Changed score:\", changed_mapped_test_score)"
   ]
  },
  {
   "cell_type": "code",
   "execution_count": null,
   "metadata": {},
   "outputs": [],
   "source": []
  },
  {
   "cell_type": "code",
   "execution_count": null,
   "metadata": {},
   "outputs": [],
   "source": []
  },
  {
   "cell_type": "code",
   "execution_count": null,
   "metadata": {},
   "outputs": [],
   "source": []
  },
  {
   "cell_type": "code",
   "execution_count": null,
   "metadata": {},
   "outputs": [],
   "source": []
  },
  {
   "cell_type": "code",
   "execution_count": null,
   "metadata": {},
   "outputs": [],
   "source": []
  }
 ],
 "metadata": {
  "kernelspec": {
   "display_name": "Python 3",
   "language": "python",
   "name": "python3"
  },
  "language_info": {
   "codemirror_mode": {
    "name": "ipython",
    "version": 3
   },
   "file_extension": ".py",
   "mimetype": "text/x-python",
   "name": "python",
   "nbconvert_exporter": "python",
   "pygments_lexer": "ipython3",
   "version": "3.6.5"
  }
 },
 "nbformat": 4,
 "nbformat_minor": 2
}
