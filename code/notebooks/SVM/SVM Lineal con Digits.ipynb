{
 "cells": [
  {
   "cell_type": "markdown",
   "metadata": {},
   "source": [
    "# Clasificación con SVM Lineal con el dataset Digits de scikit-learn"
   ]
  },
  {
   "cell_type": "markdown",
   "metadata": {},
   "source": [
    "http://scikit-learn.org/stable/modules/generated/sklearn.datasets.load_digits.html"
   ]
  },
  {
   "cell_type": "markdown",
   "metadata": {},
   "source": [
    "## Información del dataset"
   ]
  },
  {
   "cell_type": "markdown",
   "metadata": {},
   "source": [
    "Casi 1800 imágenes de 8x8 con los dígitos 0..9. Cada píxel se representa con un número entre 0..15, que representa un color en la escala de grises."
   ]
  },
  {
   "cell_type": "markdown",
   "metadata": {},
   "source": [
    "En este notebook se hará el training con los datos directamente. En algunos ejemplo de scikit-learn, normalizan este dataset (dividen cada fila por 16 y luego le restan la media). En este notebook el training se hará directamente con los datos, sin hacer ningún tipo de preprocesado. Para ver el mismo código pero normalizando, estará en otro notebook."
   ]
  },
  {
   "cell_type": "code",
   "execution_count": 1,
   "metadata": {},
   "outputs": [],
   "source": [
    "from sklearn.datasets import load_digits\n",
    "#from sklearn.tree import DecisionTreeClassifier\n",
    "from sklearn.svm import SVC\n",
    "from sklearn.svm import LinearSVC"
   ]
  },
  {
   "cell_type": "code",
   "execution_count": 2,
   "metadata": {},
   "outputs": [],
   "source": [
    "import math\n",
    "import numpy as np"
   ]
  },
  {
   "cell_type": "code",
   "execution_count": 3,
   "metadata": {},
   "outputs": [],
   "source": [
    "digits = load_digits()"
   ]
  },
  {
   "cell_type": "code",
   "execution_count": 4,
   "metadata": {},
   "outputs": [],
   "source": [
    "data = digits.data\n",
    "target = digits.target\n",
    "N = data.shape[0]\n",
    "prop_train = 2 / 3\n",
    "N_train = math.ceil(N * prop_train)\n",
    "N_test = N - N_train"
   ]
  },
  {
   "cell_type": "code",
   "execution_count": 5,
   "metadata": {},
   "outputs": [],
   "source": [
    "data_train = data[:N_train]\n",
    "data_test = data[N_train:]\n",
    "\n",
    "target_train = target[:N_train]\n",
    "target_test = target[N_train:]"
   ]
  },
  {
   "cell_type": "markdown",
   "metadata": {},
   "source": [
    "## Hacer n_runs ejecuciones y devolver la media de accuracy de todas ellas"
   ]
  },
  {
   "cell_type": "code",
   "execution_count": 6,
   "metadata": {},
   "outputs": [],
   "source": [
    "n_runs = 50\n",
    "train_scores = []\n",
    "test_scores = []"
   ]
  },
  {
   "cell_type": "code",
   "execution_count": 7,
   "metadata": {},
   "outputs": [],
   "source": [
    "#indices = np.arange(len(data))\n",
    "#indices = np.random.choice(indices, len(indices), replace = False)\n",
    "#train_indices = indices[:N_train]\n",
    "#test_indices = indices[N_train:]\n",
    "#dat_train = np.take(data, train_indices, axis = 0)\n",
    "#targ_train = np.take(target, train_indices, axis = 0)\n",
    "#\n",
    "#dat_test = np.take(data, test_indices, axis = 0)\n",
    "#targ_test = np.take(target, test_indices, axis = 0)\n",
    "#\n",
    "#dat_train.shape, targ_train.shape, dat_test.shape, targ_test.shape"
   ]
  },
  {
   "cell_type": "code",
   "execution_count": 8,
   "metadata": {},
   "outputs": [],
   "source": [
    "for i in range(n_runs):\n",
    "    #clf = DecisionTreeClassifier()\n",
    "    #clf = SVC()\n",
    "    clf = LinearSVC()\n",
    "    \n",
    "    # Samplear los datos\n",
    "    indices = np.arange(len(data))\n",
    "    indices = np.random.choice(indices, len(indices), replace = False) # Mezclar los indices\n",
    "    train_indices = indices[:N_train] # Los N_train primeros son de train\n",
    "    test_indices = indices[N_train:] # El resto son de test\n",
    "    dat_train = np.take(data, train_indices, axis = 0)\n",
    "    targ_train = np.take(target, train_indices, axis = 0)\n",
    "\n",
    "    dat_test = np.take(data, test_indices, axis = 0)\n",
    "    targ_test = np.take(target, test_indices, axis = 0)\n",
    "\n",
    "    clf.fit(dat_train, targ_train)\n",
    "    train_score = clf.score(dat_train, targ_train)\n",
    "    test_score = clf.score(dat_test, targ_test)\n",
    "    train_scores.append(train_score)\n",
    "    test_scores.append(test_score)"
   ]
  },
  {
   "cell_type": "code",
   "execution_count": 9,
   "metadata": {},
   "outputs": [
    {
     "name": "stdout",
     "output_type": "stream",
     "text": [
      "Mean of test scores: 0.9441068447412354\n",
      "Mean of train scores: 0.9916026711185308\n"
     ]
    }
   ],
   "source": [
    "print(\"Mean of test scores:\",np.mean(test_scores))\n",
    "print(\"Mean of train scores:\", np.mean(train_scores))"
   ]
  },
  {
   "cell_type": "code",
   "execution_count": 10,
   "metadata": {},
   "outputs": [
    {
     "name": "stdout",
     "output_type": "stream",
     "text": [
      "Standard deviation of test scores: 0.009855350548105662\n",
      "Standard deviation of train scores: 0.004902640736134796\n"
     ]
    }
   ],
   "source": [
    "print(\"Standard deviation of test scores:\",np.std(test_scores))\n",
    "print(\"Standard deviation of train scores:\",np.std(train_scores))"
   ]
  },
  {
   "cell_type": "markdown",
   "metadata": {},
   "source": [
    "### Conclusiones"
   ]
  },
  {
   "cell_type": "markdown",
   "metadata": {},
   "source": [
    "SVM Lineal es un clasificador bastante bueno. Consigue ajustar y generalizar bastante bien, aunque tiene margen de mejora."
   ]
  },
  {
   "cell_type": "markdown",
   "metadata": {},
   "source": [
    "Nota: anteriormente lo había probado con SVC a secas, que por defecto usa el kernel rbf, y conseguía un accuracy de solo 40%"
   ]
  }
 ],
 "metadata": {
  "kernelspec": {
   "display_name": "Python 3",
   "language": "python",
   "name": "python3"
  },
  "language_info": {
   "codemirror_mode": {
    "name": "ipython",
    "version": 3
   },
   "file_extension": ".py",
   "mimetype": "text/x-python",
   "name": "python",
   "nbconvert_exporter": "python",
   "pygments_lexer": "ipython3",
   "version": "3.6.6"
  }
 },
 "nbformat": 4,
 "nbformat_minor": 2
}
