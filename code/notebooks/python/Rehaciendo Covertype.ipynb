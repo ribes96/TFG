{
 "cells": [
  {
   "cell_type": "markdown",
   "metadata": {},
   "source": [
    "El dataset \"Covertype\" (https://archive.ics.uci.edu/ml/datasets/covertype) está preprocesado para Redes Neuronales, y tiene OneHotEncoding con las categóricas. Vamos a desacer ese preprocesado y vamos a guardar ese dataset en memoria de manera que lo pueda usar tanto Python como R"
   ]
  },
  {
   "cell_type": "code",
   "execution_count": 1,
   "metadata": {},
   "outputs": [],
   "source": [
    "%matplotlib inline\n",
    "import csv\n",
    "import numpy as np\n",
    "from sklearn.preprocessing import OneHotEncoder\n",
    "import matplotlib.pyplot as plt\n",
    "import pandas as pd\n",
    "import feather"
   ]
  },
  {
   "cell_type": "code",
   "execution_count": 2,
   "metadata": {},
   "outputs": [],
   "source": [
    "file_name = \"covtype.data\""
   ]
  },
  {
   "cell_type": "code",
   "execution_count": 3,
   "metadata": {},
   "outputs": [],
   "source": [
    "total_inst = 50000"
   ]
  },
  {
   "cell_type": "code",
   "execution_count": 4,
   "metadata": {},
   "outputs": [],
   "source": [
    "n_quant = 10\n",
    "n_p1 = 4\n",
    "n_p2 = 40\n",
    "\n",
    "quant_ind = list(range(n_quant))\n",
    "p1_ind = list(range(n_quant, n_quant + n_p1))\n",
    "p2_ind = [i + 14 for i in list(range(40))]\n",
    "target_ind = [n_quant + n_p1 + n_p2]\n"
   ]
  },
  {
   "cell_type": "code",
   "execution_count": 5,
   "metadata": {},
   "outputs": [],
   "source": [
    "a = pd.read_csv(file_name)"
   ]
  },
  {
   "cell_type": "code",
   "execution_count": 6,
   "metadata": {},
   "outputs": [],
   "source": [
    "good_array = a.iloc[:, quant_ind]\n",
    "p1_array = a.iloc[:, p1_ind]\n",
    "p2_array = a.iloc[:, p2_ind]\n",
    "target_array = a.iloc[:, target_ind]"
   ]
  },
  {
   "cell_type": "code",
   "execution_count": 7,
   "metadata": {},
   "outputs": [],
   "source": [
    "enc1 = OneHotEncoder(categories = 'auto')\n",
    "enc2 = OneHotEncoder(categories = 'auto')"
   ]
  },
  {
   "cell_type": "code",
   "execution_count": 8,
   "metadata": {},
   "outputs": [],
   "source": [
    "class_p1 = np.arange(n_p1).reshape(n_p1,1)\n",
    "class_p2 = np.arange(n_p2).reshape(n_p2, 1)"
   ]
  },
  {
   "cell_type": "code",
   "execution_count": 9,
   "metadata": {},
   "outputs": [
    {
     "data": {
      "text/plain": [
       "OneHotEncoder(categorical_features=None, categories='auto',\n",
       "       dtype=<class 'numpy.float64'>, handle_unknown='error',\n",
       "       n_values=None, sparse=True)"
      ]
     },
     "execution_count": 9,
     "metadata": {},
     "output_type": "execute_result"
    }
   ],
   "source": [
    "enc1.fit(class_p1)\n",
    "enc2.fit(class_p2)"
   ]
  },
  {
   "cell_type": "code",
   "execution_count": 10,
   "metadata": {},
   "outputs": [],
   "source": [
    "p1_cat = enc1.inverse_transform(p1_array).astype(dtype = int)\n",
    "p2_cat = enc2.inverse_transform(p2_array).astype(dtype = int)"
   ]
  },
  {
   "cell_type": "code",
   "execution_count": 11,
   "metadata": {},
   "outputs": [],
   "source": [
    "target = target_array - 1"
   ]
  },
  {
   "cell_type": "code",
   "execution_count": 12,
   "metadata": {},
   "outputs": [],
   "source": [
    "data = np.hstack((good_array, p1_cat, p2_cat, target))"
   ]
  },
  {
   "cell_type": "code",
   "execution_count": 13,
   "metadata": {},
   "outputs": [],
   "source": [
    "df = pd.DataFrame(data)"
   ]
  },
  {
   "cell_type": "code",
   "execution_count": 14,
   "metadata": {},
   "outputs": [],
   "source": [
    "cols = [\n",
    "    \"elevation\",\n",
    "    \"aspect\",\n",
    "    \"slope\",\n",
    "    \"hd_to_hydrology\",\n",
    "    \"vd_to_hydrology\",\n",
    "    \"hd_to_roadways\",\n",
    "    \"hillshade_9am\",\n",
    "    \"hillshade_noon\",\n",
    "    \"hillshade_3pm\",\n",
    "    \"hd_to_firepoint\",\n",
    "    \"wilderness\",\n",
    "    \"soil\",\n",
    "    \"target\"\n",
    "]"
   ]
  },
  {
   "cell_type": "code",
   "execution_count": 15,
   "metadata": {},
   "outputs": [],
   "source": [
    "df.columns = cols"
   ]
  },
  {
   "cell_type": "code",
   "execution_count": 16,
   "metadata": {},
   "outputs": [],
   "source": [
    "df.soil = df.soil.astype('category')\n",
    "df.wilderness = df.wilderness.astype('category')\n",
    "df.target = df.target.astype('category')"
   ]
  },
  {
   "cell_type": "code",
   "execution_count": 17,
   "metadata": {},
   "outputs": [],
   "source": [
    "def subset(df, n_inst):\n",
    "    classes = np.unique(df.target)\n",
    "    all_ind = []\n",
    "    for c in classes:\n",
    "        ind = np.flatnonzero(df.target == c)\n",
    "        np.random.shuffle(ind)\n",
    "        ind = ind[:n_inst]\n",
    "        if len(ind) < n_inst:\n",
    "            print(\"warning: not so many instances of class\", c, \"just\", len(ind))\n",
    "        all_ind.append(ind)\n",
    "    h = np.concatenate(tuple(all_ind))\n",
    "    np.random.shuffle(h)\n",
    "    gg = df.iloc[h]\n",
    "    return gg"
   ]
  },
  {
   "cell_type": "code",
   "execution_count": 18,
   "metadata": {},
   "outputs": [],
   "source": [
    "csv_full_name = \"full_covertype_cleaned.csv\"\n",
    "csv_partial_name = \"4900_covertype_cleaned.csv\""
   ]
  },
  {
   "cell_type": "code",
   "execution_count": 19,
   "metadata": {},
   "outputs": [],
   "source": [
    "df = df.sample(frac=1)"
   ]
  },
  {
   "cell_type": "code",
   "execution_count": 20,
   "metadata": {},
   "outputs": [],
   "source": [
    "subs = subset(df, 700)"
   ]
  },
  {
   "cell_type": "code",
   "execution_count": 21,
   "metadata": {},
   "outputs": [],
   "source": [
    "df.to_csv(csv_full_name, index = False)\n",
    "subs.to_csv(csv_partial_name, index = False)"
   ]
  }
 ],
 "metadata": {
  "kernelspec": {
   "display_name": "Python 3",
   "language": "python",
   "name": "python3"
  },
  "language_info": {
   "codemirror_mode": {
    "name": "ipython",
    "version": 3
   },
   "file_extension": ".py",
   "mimetype": "text/x-python",
   "name": "python",
   "nbconvert_exporter": "python",
   "pygments_lexer": "ipython3",
   "version": "3.6.6"
  }
 },
 "nbformat": 4,
 "nbformat_minor": 2
}
