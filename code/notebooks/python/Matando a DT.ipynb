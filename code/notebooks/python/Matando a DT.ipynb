{
 "cells": [
  {
   "cell_type": "markdown",
   "metadata": {},
   "source": [
    "# Matando a DT"
   ]
  },
  {
   "cell_type": "markdown",
   "metadata": {},
   "source": [
    "En este notebook voy a mostrar que DT no se beneficia de RFF y Nÿstroem mientras que otros modelos sí que lo hacen"
   ]
  },
  {
   "cell_type": "code",
   "execution_count": 1,
   "metadata": {},
   "outputs": [],
   "source": [
    "%matplotlib inline\n",
    "import matplotlib.pyplot as plt\n",
    "import numpy as np\n",
    "from time import time\n",
    "import math\n",
    "\n",
    "# Import datasets, classifiers and performance metrics\n",
    "from sklearn import datasets\n",
    "#from sklearn import pipeline\n",
    "#from sklearn.kernel_approximation import (RBFSampler,\n",
    " #                            Nystroem)\n",
    "\n"
   ]
  },
  {
   "cell_type": "markdown",
   "metadata": {},
   "source": [
    "## DT, Logit y SVM normales"
   ]
  },
  {
   "cell_type": "code",
   "execution_count": 2,
   "metadata": {},
   "outputs": [],
   "source": [
    "from sklearn.tree import DecisionTreeClassifier\n",
    "from sklearn.linear_model import LogisticRegression\n",
    "from sklearn.svm import LinearSVC"
   ]
  },
  {
   "cell_type": "code",
   "execution_count": 3,
   "metadata": {},
   "outputs": [],
   "source": [
    "digits = datasets.load_digits()"
   ]
  },
  {
   "cell_type": "code",
   "execution_count": 4,
   "metadata": {},
   "outputs": [],
   "source": [
    "data = digits.data\n",
    "target = digits.target\n",
    "N = data.shape[0]\n",
    "prop_train = 2 / 3\n",
    "N_train = math.ceil(N * prop_train)\n",
    "N_test = N - N_train"
   ]
  },
  {
   "cell_type": "code",
   "execution_count": 5,
   "metadata": {},
   "outputs": [],
   "source": [
    "# Esto solo es una prueba\n",
    "data /= 16\n",
    "data -= data.mean(axis = 0)"
   ]
  },
  {
   "cell_type": "code",
   "execution_count": 6,
   "metadata": {},
   "outputs": [],
   "source": [
    "data_train = data[:N_train]\n",
    "data_test = data[N_train:]\n",
    "\n",
    "target_train = target[:N_train]\n",
    "target_test = target[N_train:]"
   ]
  },
  {
   "cell_type": "code",
   "execution_count": 7,
   "metadata": {},
   "outputs": [],
   "source": [
    "dtc = DecisionTreeClassifier()\n",
    "lg = LogisticRegression(C = 1, multi_class = 'multinomial', \n",
    "                           solver = 'lbfgs')\n",
    "lsvc = LinearSVC()"
   ]
  },
  {
   "cell_type": "code",
   "execution_count": 8,
   "metadata": {},
   "outputs": [
    {
     "data": {
      "text/plain": [
       "LinearSVC(C=1.0, class_weight=None, dual=True, fit_intercept=True,\n",
       "     intercept_scaling=1, loss='squared_hinge', max_iter=1000,\n",
       "     multi_class='ovr', penalty='l2', random_state=None, tol=0.0001,\n",
       "     verbose=0)"
      ]
     },
     "execution_count": 8,
     "metadata": {},
     "output_type": "execute_result"
    }
   ],
   "source": [
    "dtc.fit(data_train, target_train)\n",
    "lg.fit(data_train, target_train)\n",
    "lsvc.fit(data_train, target_train)"
   ]
  },
  {
   "cell_type": "code",
   "execution_count": 9,
   "metadata": {},
   "outputs": [],
   "source": [
    "dtc_train_score = dtc.score(data_train, target_train)\n",
    "dtc_test_score = dtc.score(data_test, target_test)\n",
    "\n",
    "lg_train_score = lg.score(data_train, target_train)\n",
    "lg_test_score = lg.score(data_test, target_test)\n",
    "\n",
    "lsvc_train_score = lsvc.score(data_train, target_train)\n",
    "lsvc_test_score = lsvc.score(data_test, target_test)"
   ]
  },
  {
   "cell_type": "code",
   "execution_count": 10,
   "metadata": {},
   "outputs": [
    {
     "data": {
      "text/plain": [
       "(1.0, 0.7729549248747913)"
      ]
     },
     "execution_count": 10,
     "metadata": {},
     "output_type": "execute_result"
    }
   ],
   "source": [
    "dtc_train_score, dtc_test_score"
   ]
  },
  {
   "cell_type": "code",
   "execution_count": 11,
   "metadata": {},
   "outputs": [
    {
     "data": {
      "text/plain": [
       "(0.991652754590985, 0.9215358931552587)"
      ]
     },
     "execution_count": 11,
     "metadata": {},
     "output_type": "execute_result"
    }
   ],
   "source": [
    "lg_train_score, lg_test_score"
   ]
  },
  {
   "cell_type": "code",
   "execution_count": 12,
   "metadata": {},
   "outputs": [
    {
     "data": {
      "text/plain": [
       "(0.991652754590985, 0.9131886477462438)"
      ]
     },
     "execution_count": 12,
     "metadata": {},
     "output_type": "execute_result"
    }
   ],
   "source": [
    "lsvc_train_score, lsvc_test_score"
   ]
  },
  {
   "cell_type": "markdown",
   "metadata": {},
   "source": [
    "### Conclusiones"
   ]
  },
  {
   "cell_type": "markdown",
   "metadata": {},
   "source": [
    "- Los tres modelos generalizan por sí solos\n",
    "- De peor a mejor, el orden es:\n",
    "    1. Decision Tree\n",
    "    2. SVM Lineal\n",
    "    3. Regresión Logística"
   ]
  },
  {
   "cell_type": "markdown",
   "metadata": {},
   "source": [
    "## DT, Logit y SVM con RFF"
   ]
  },
  {
   "cell_type": "code",
   "execution_count": 13,
   "metadata": {},
   "outputs": [],
   "source": [
    "from sklearn.kernel_approximation import RBFSampler\n",
    "from sklearn import pipeline"
   ]
  },
  {
   "cell_type": "code",
   "execution_count": 14,
   "metadata": {},
   "outputs": [],
   "source": [
    "feature_map_fourier = RBFSampler(gamma=.2, random_state=1)"
   ]
  },
  {
   "cell_type": "code",
   "execution_count": 15,
   "metadata": {},
   "outputs": [],
   "source": [
    "dtc_rff = pipeline.Pipeline([(\"feature_map\", feature_map_fourier),\n",
    "                                        (\"dtc\", DecisionTreeClassifier())])\n",
    "\n",
    "lg_rff = pipeline.Pipeline([(\"feature_map\", feature_map_fourier),\n",
    "                                        (\"lg\", LogisticRegression(C = 1, multi_class = 'multinomial', \n",
    "                           solver = 'lbfgs'))])\n",
    "\n",
    "lsvc_rff = pipeline.Pipeline([(\"feature_map\", feature_map_fourier),\n",
    "                             (\"lsvc\", LinearSVC())])"
   ]
  },
  {
   "cell_type": "code",
   "execution_count": 16,
   "metadata": {},
   "outputs": [],
   "source": [
    "sample_sizes = 30 * np.arange(1, 50)\n",
    "\n",
    "dtc_scores = []\n",
    "lg_scores = []\n",
    "lsvc_scores = []\n",
    "\n",
    "for D in sample_sizes:\n",
    "    dtc_rff.set_params(feature_map__n_components=D)\n",
    "    lg_rff.set_params(feature_map__n_components=D)\n",
    "    lsvc_rff.set_params(feature_map__n_components=D)\n",
    "    \n",
    "    dtc_rff.fit(data_train, target_train)\n",
    "    lg_rff.fit(data_train, target_train)\n",
    "    lsvc_rff.fit(data_train, target_train)\n",
    "    \n",
    "    dtc_rff_score = dtc_rff.score(data_test, target_test)\n",
    "    lg_rff_score = lg_rff.score(data_test, target_test)\n",
    "    lsvc_rff_score = lsvc_rff.score(data_test, target_test)\n",
    "    \n",
    "    dtc_scores.append(dtc_rff_score)\n",
    "    lg_scores.append(lg_rff_score)\n",
    "    lsvc_scores.append(lsvc_rff_score)"
   ]
  },
  {
   "cell_type": "code",
   "execution_count": 17,
   "metadata": {},
   "outputs": [
    {
     "data": {
      "text/plain": [
       "<matplotlib.legend.Legend at 0x7f060016d3c8>"
      ]
     },
     "execution_count": 17,
     "metadata": {},
     "output_type": "execute_result"
    },
    {
     "data": {
      "image/png": "[encoded data removed]",
      "text/plain": [
       "<Figure size 432x288 with 1 Axes>"
      ]
     },
     "metadata": {},
     "output_type": "display_data"
    }
   ],
   "source": [
    "accuracy = plt.subplot(111)\n",
    "accuracy.plot(sample_sizes, dtc_scores, label = \"DT with RFF\" )\n",
    "accuracy.plot(sample_sizes, lg_scores, label = \"Logit with RFF\")\n",
    "accuracy.plot(sample_sizes, lsvc_scores, label = \"Linear SVC with RFF\")\n",
    "accuracy.grid(True)\n",
    "accuracy.legend(loc='best')"
   ]
  },
  {
   "cell_type": "markdown",
   "metadata": {},
   "source": [
    "## DT, Logit y SVM con Nÿstroem"
   ]
  },
  {
   "cell_type": "code",
   "execution_count": 18,
   "metadata": {},
   "outputs": [],
   "source": [
    "from sklearn.kernel_approximation import Nystroem"
   ]
  },
  {
   "cell_type": "code",
   "execution_count": 19,
   "metadata": {},
   "outputs": [],
   "source": [
    "feature_map_nystroem = Nystroem(gamma=.2, random_state=1)"
   ]
  },
  {
   "cell_type": "code",
   "execution_count": 20,
   "metadata": {},
   "outputs": [],
   "source": [
    "dtc_nys = pipeline.Pipeline([(\"feature_map\", feature_map_nystroem),\n",
    "                                        (\"dtc\", DecisionTreeClassifier())])\n",
    "\n",
    "lg_nys = pipeline.Pipeline([(\"feature_map\", feature_map_nystroem),\n",
    "                                        (\"lg\", LogisticRegression(C = 1, multi_class = 'multinomial', \n",
    "                           solver = 'lbfgs'))])\n",
    "\n",
    "lsvc_nys = pipeline.Pipeline([(\"feature_map\", feature_map_nystroem),\n",
    "                             (\"lsvc\", LinearSVC())])"
   ]
  },
  {
   "cell_type": "code",
   "execution_count": 21,
   "metadata": {},
   "outputs": [],
   "source": [
    "sample_sizes = 30 * np.arange(1, 30)\n",
    "\n",
    "dtc_scores = []\n",
    "lg_scores = []\n",
    "lsvc_scores = []\n",
    "\n",
    "for D in sample_sizes:\n",
    "    dtc_nys.set_params(feature_map__n_components=D)\n",
    "    lg_nys.set_params(feature_map__n_components=D)\n",
    "    lsvc_nys.set_params(feature_map__n_components=D)\n",
    "    \n",
    "    dtc_nys.fit(data_train, target_train)\n",
    "    lg_nys.fit(data_train, target_train)\n",
    "    lsvc_nys.fit(data_train, target_train)\n",
    "    \n",
    "    dtc_nys_score = dtc_nys.score(data_test, target_test)\n",
    "    lg_nys_score = lg_nys.score(data_test, target_test)\n",
    "    lsvc_nys_score = lsvc_nys.score(data_test, target_test)\n",
    "    \n",
    "    dtc_scores.append(dtc_nys_score)\n",
    "    lg_scores.append(lg_nys_score)\n",
    "    lsvc_scores.append(lsvc_nys_score)"
   ]
  },
  {
   "cell_type": "code",
   "execution_count": 22,
   "metadata": {},
   "outputs": [
    {
     "data": {
      "text/plain": [
       "<matplotlib.legend.Legend at 0x7f06001bb9b0>"
      ]
     },
     "execution_count": 22,
     "metadata": {},
     "output_type": "execute_result"
    },
    {
     "data": {
      "image/png": "[encoded data removed]",
      "text/plain": [
       "<Figure size 432x288 with 1 Axes>"
      ]
     },
     "metadata": {},
     "output_type": "display_data"
    }
   ],
   "source": [
    "accuracy = plt.subplot(111)\n",
    "accuracy.plot(sample_sizes, dtc_scores, label = \"DT with Nystroem\" )\n",
    "accuracy.plot(sample_sizes, lg_scores, label = \"Logit with Nystroem\")\n",
    "accuracy.plot(sample_sizes, lsvc_scores, label = \"Linear SVC with Nystroem\")\n",
    "accuracy.grid(True)\n",
    "accuracy.legend(loc='best')"
   ]
  }
 ],
 "metadata": {
  "kernelspec": {
   "display_name": "Python 3",
   "language": "python",
   "name": "python3"
  },
  "language_info": {
   "codemirror_mode": {
    "name": "ipython",
    "version": 3
   },
   "file_extension": ".py",
   "mimetype": "text/x-python",
   "name": "python",
   "nbconvert_exporter": "python",
   "pygments_lexer": "ipython3",
   "version": "3.6.6"
  }
 },
 "nbformat": 4,
 "nbformat_minor": 2
}
