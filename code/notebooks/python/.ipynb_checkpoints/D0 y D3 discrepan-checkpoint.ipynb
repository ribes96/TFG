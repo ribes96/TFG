{
 "cells": [
  {
   "cell_type": "markdown",
   "metadata": {},
   "source": [
    "En otro notebook he observado cómo ejecuciones que deberían ser igual en la Demo0 y en la Demo3 presentan resultados distintos. En particular, un valor especifico de gamma en Demo0 no se corresponde con ese mismo valor\n",
    "en Demo0. De momento, esto lo he observado solo con MNIST"
   ]
  },
  {
   "cell_type": "code",
   "execution_count": 1,
   "metadata": {},
   "outputs": [],
   "source": [
    "from demo_utils.demo0 import Demo0\n",
    "from demo_utils.demo3 import Demo3\n",
    "import warnings"
   ]
  },
  {
   "cell_type": "code",
   "execution_count": 2,
   "metadata": {},
   "outputs": [],
   "source": [
    "warnings.filterwarnings('ignore')"
   ]
  },
  {
   "cell_type": "code",
   "execution_count": 3,
   "metadata": {},
   "outputs": [],
   "source": [
    "d0 = Demo0()\n",
    "d3 = Demo3()\n",
    "\n",
    "d0_data = {'dts_name': 'mnist',\n",
    "           'dts_size': 1000,\n",
    "           'features_range': (30, 300),\n",
    "           'models': [{'model_name': 'logit',\n",
    "                       'sampler_name': 'rbf',\n",
    "                       'box_type': 'none',\n",
    "                       'n_estim': None,\n",
    "                       'pca': False,\n",
    "                       'pca_first': False}],\n",
    "           'rbfsampler_gamma': 0.001,\n",
    "           'nystroem_gamma': 1.0,\n",
    "           'hparams': {'dt': {'max_depth': 100.0,\n",
    "                              'min_samples_split': 3,\n",
    "                              'min_samples_leaf': 1,\n",
    "                              'min_weight_fraction_leaf': 0.0,\n",
    "                              'max_leaf_nodes': 1000,\n",
    "                              'min_impurity_decrease': 0.0},\n",
    "                       'logit': {'C': 0.01},\n",
    "                       'linearsvc': {'C': 5}}}\n",
    "\n",
    "d3_data = {'dts_name': 'mnist',\n",
    "           'dts_size': 1000,\n",
    "           'model_data': {'model_name': 'logit',\n",
    "                          'sampler_name': 'rbf',\n",
    "                          'pca_bool': False,\n",
    "                          'pca_first': False,\n",
    "                          'n_estim': None,\n",
    "                          'box_type': 'none'},\n",
    "           'hparams': {'dt': {'max_depth': 100.0,\n",
    "                              'min_samples_split': 3,\n",
    "                              'min_samples_leaf': 1,\n",
    "                              'min_weight_fraction_leaf': 0.0,\n",
    "                              'max_leaf_nodes': 1000,\n",
    "                              'min_impurity_decrease': 0.0},\n",
    "                       'logit': {'C': 0.01},\n",
    "                       'linearsvc': {'C': 5}},\n",
    "           'features_range': (30, 300)}\n"
   ]
  },
  {
   "cell_type": "code",
   "execution_count": 4,
   "metadata": {},
   "outputs": [
    {
     "data": {
      "text/markdown": [
       "# Demo genérica"
      ],
      "text/plain": [
       "<IPython.core.display.Markdown object>"
      ]
     },
     "metadata": {},
     "output_type": "display_data"
    },
    {
     "data": {
      "application/vnd.jupyter.widget-view+json": {
       "model_id": "389abb4db4374aba91d59c808e9e1d46",
       "version_major": 2,
       "version_minor": 0
      },
      "text/plain": [
       "Tab(children=(VBox(children=(Dropdown(description='Dataset:', options=('segment', 'covertype', 'digits', 'fall…"
      ]
     },
     "metadata": {},
     "output_type": "display_data"
    },
    {
     "data": {
      "application/vnd.jupyter.widget-view+json": {
       "model_id": "fe68be939f394d23ba287c3784e484f2",
       "version_major": 2,
       "version_minor": 0
      },
      "text/plain": [
       "Output()"
      ]
     },
     "metadata": {},
     "output_type": "display_data"
    },
    {
     "data": {
      "text/html": [],
      "text/plain": [
       "<demo_utils.demo0.Demo0 at 0x7f8da0a26da0>"
      ]
     },
     "execution_count": 4,
     "metadata": {},
     "output_type": "execute_result"
    }
   ],
   "source": [
    "d0.non_interactive(**d0_data)"
   ]
  },
  {
   "cell_type": "code",
   "execution_count": 5,
   "metadata": {},
   "outputs": [
    {
     "data": {
      "text/markdown": [
       "# Diferencias entre los valores de gamma"
      ],
      "text/plain": [
       "<IPython.core.display.Markdown object>"
      ]
     },
     "metadata": {},
     "output_type": "display_data"
    },
    {
     "data": {
      "application/vnd.jupyter.widget-view+json": {
       "model_id": "d794bd475339445081a1b14961e8195e",
       "version_major": 2,
       "version_minor": 0
      },
      "text/plain": [
       "Tab(children=(VBox(children=(VBox(children=(Dropdown(description='Dataset:', options=('segment', 'covertype', …"
      ]
     },
     "metadata": {},
     "output_type": "display_data"
    },
    {
     "data": {
      "application/vnd.jupyter.widget-view+json": {
       "model_id": "3454adfcbdb645aba2823a5e13b2935d",
       "version_major": 2,
       "version_minor": 0
      },
      "text/plain": [
       "Output()"
      ]
     },
     "metadata": {},
     "output_type": "display_data"
    },
    {
     "data": {
      "text/html": [],
      "text/plain": [
       "<demo_utils.demo3.Demo3 at 0x7f8da0a26d68>"
      ]
     },
     "execution_count": 5,
     "metadata": {},
     "output_type": "execute_result"
    }
   ],
   "source": [
    "d3.non_interactive(**d3_data)"
   ]
  },
  {
   "cell_type": "code",
   "execution_count": null,
   "metadata": {},
   "outputs": [],
   "source": []
  },
  {
   "cell_type": "code",
   "execution_count": null,
   "metadata": {},
   "outputs": [],
   "source": []
  }
 ],
 "metadata": {
  "kernelspec": {
   "display_name": "Python 3",
   "language": "python",
   "name": "python3"
  },
  "language_info": {
   "codemirror_mode": {
    "name": "ipython",
    "version": 3
   },
   "file_extension": ".py",
   "mimetype": "text/x-python",
   "name": "python",
   "nbconvert_exporter": "python",
   "pygments_lexer": "ipython3",
   "version": "3.7.1"
  }
 },
 "nbformat": 4,
 "nbformat_minor": 2
}
