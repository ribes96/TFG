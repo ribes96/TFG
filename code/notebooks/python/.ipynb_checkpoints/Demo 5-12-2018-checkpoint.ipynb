{
 "cells": [
  {
   "cell_type": "code",
   "execution_count": null,
   "metadata": {},
   "outputs": [],
   "source": [
    "from IPython.display import Image\n",
    "from demo_utils.demo0 import Demo0\n",
    "from demo_utils.demo5 import Demo5\n",
    "from demo_utils.temporal_data import *\n",
    "import importlib"
   ]
  },
  {
   "cell_type": "code",
   "execution_count": null,
   "metadata": {},
   "outputs": [],
   "source": [
    "import warnings\n",
    "warnings.filterwarnings('ignore')"
   ]
  },
  {
   "cell_type": "markdown",
   "metadata": {},
   "source": [
    "Anteriormente había llegado a la conclusión de que realizar PCA sobre un dataset\n",
    "daba mejores resultados a los modelos "
   ]
  },
  {
   "cell_type": "code",
   "execution_count": null,
   "metadata": {},
   "outputs": [],
   "source": [
    "Image('demo_previa_pca_dt.png')"
   ]
  },
  {
   "cell_type": "markdown",
   "metadata": {},
   "source": [
    "La imagen previa utiliza el dataset 'digits' (directamente como lo ofrece la biblioteca sklearn)"
   ]
  },
  {
   "cell_type": "markdown",
   "metadata": {},
   "source": [
    "Da a entender que es mejor usar PCA respecto a no usarlo, y que lo mejor es hacer primero el sampling y después el PCA"
   ]
  },
  {
   "cell_type": "markdown",
   "metadata": {},
   "source": [
    "Pues ahora no obtengo los mismos resultados"
   ]
  },
  {
   "cell_type": "code",
   "execution_count": null,
   "metadata": {},
   "outputs": [],
   "source": [
    "Demo0().non_interactive(**data_d0)"
   ]
  },
  {
   "cell_type": "markdown",
   "metadata": {},
   "source": [
    "Notar que en la primera imagen se está mirando el score, mientras que en la segunda el error"
   ]
  },
  {
   "cell_type": "markdown",
   "metadata": {},
   "source": [
    "Para empezar, el DT solo ahora es mejor que el DT con PCA. Eso es distinto a lo que muestra la primera imagen."
   ]
  },
  {
   "cell_type": "markdown",
   "metadata": {},
   "source": [
    "Después, no parece haber una diferencia real entre usar PCA y no usarlo cuando se hace sampling. Nystroem parece que se beneficia un poco en algunos casos, pero la diferencia no es mucha."
   ]
  },
  {
   "cell_type": "markdown",
   "metadata": {},
   "source": [
    "La única diferencia que se me ocurre en las dos ejecuciones es que en la primera utilizo el\n",
    "dataset de juguete que ofrecen en scikit-learn, y hago la normalización que usaban ellos (dividir entre 16 y restar la media).\n",
    "\n",
    "En la segunda, en cambio, utilizo un subconjunto propio del dataset digits que está en UCI, y uso la la estandarización (restar la media y dividir entre la varianza)"
   ]
  },
  {
   "cell_type": "markdown",
   "metadata": {},
   "source": [
    "Me queda pendiente enfrentar estas diferencias para ver si son las que están causando estas discordancias"
   ]
  },
  {
   "cell_type": "markdown",
   "metadata": {},
   "source": [
    "Quería volver a comprobar cómo es mejor hacer primero el sampling y después el PCA, y he hecho una demo probando las dos ordenaciones. Los resultados son estos:"
   ]
  },
  {
   "cell_type": "code",
   "execution_count": null,
   "metadata": {},
   "outputs": [],
   "source": [
    "Demo5().non_interactive(**data_d1_1)"
   ]
  },
  {
   "cell_type": "code",
   "execution_count": null,
   "metadata": {},
   "outputs": [],
   "source": [
    "Demo5().non_interactive(**data_d1_2)"
   ]
  },
  {
   "cell_type": "markdown",
   "metadata": {},
   "source": [
    "Se puede observar cómo haciendo RBF no hay ninguna diferencia real entre cambiar el orden del sampling y PCA, y en Nystroem hay una pequeña diferencia. Parece que es mejor hacer primero el sampling y después el PCA"
   ]
  },
  {
   "cell_type": "markdown",
   "metadata": {},
   "source": [
    "### Usando digits"
   ]
  },
  {
   "cell_type": "code",
   "execution_count": null,
   "metadata": {},
   "outputs": [],
   "source": [
    "Demo0().non_interactive(**data_d2_1)"
   ]
  },
  {
   "cell_type": "markdown",
   "metadata": {},
   "source": [
    "Se puede observar que lo que va mejor es Logit RBF con un Grey Box, con resultados muy parecidos a usar un PCA. El resto de combinaciones son bastante similares."
   ]
  },
  {
   "cell_type": "markdown",
   "metadata": {},
   "source": [
    "De todos modos, lo mejor sigue siendo usar un Logit clásico sin más"
   ]
  },
  {
   "cell_type": "markdown",
   "metadata": {},
   "source": [
    "¿Es esto lo que estábamos esperando?"
   ]
  },
  {
   "cell_type": "code",
   "execution_count": null,
   "metadata": {},
   "outputs": [],
   "source": [
    "Demo0().non_interactive(**data_d2_2)"
   ]
  },
  {
   "cell_type": "markdown",
   "metadata": {},
   "source": [
    "### Usando Segment"
   ]
  },
  {
   "cell_type": "code",
   "execution_count": null,
   "metadata": {},
   "outputs": [],
   "source": [
    "Demo0().non_interactive(**data_d2_3)"
   ]
  },
  {
   "cell_type": "code",
   "execution_count": null,
   "metadata": {},
   "outputs": [],
   "source": [
    "Demo0().non_interactive(**data_d2_4)"
   ]
  }
 ],
 "metadata": {
  "kernelspec": {
   "display_name": "Python 3",
   "language": "python",
   "name": "python3"
  },
  "language_info": {
   "codemirror_mode": {
    "name": "ipython",
    "version": 3
   },
   "file_extension": ".py",
   "mimetype": "text/x-python",
   "name": "python",
   "nbconvert_exporter": "python",
   "pygments_lexer": "ipython3",
   "version": "3.6.7"
  },
  "widgets": {
   "application/vnd.jupyter.widget-state+json": {
    "state": {
     "002a66b3af924dd5834f691eabb99fe7": {
      "model_module": "@jupyter-widgets/base",
      "model_module_version": "1.1.0",
      "model_name": "LayoutModel",
      "state": {}
     },
     "004f7b1a13734496a782c311a4292739": {
      "model_module": "@jupyter-widgets/base",
      "model_module_version": "1.1.0",
      "model_name": "LayoutModel",
      "state": {}
     },
     "00c1d9bfbf3f40f4a9387af07e201507": {
      "model_module": "@jupyter-widgets/controls",
      "model_module_version": "1.4.0",
      "model_name": "DescriptionStyleModel",
      "state": {
       "description_width": ""
      }
     },
     "00d7ad9b85cb442aaa7a9d2b2a4bd988": {
      "model_module": "@jupyter-widgets/base",
      "model_module_version": "1.1.0",
      "model_name": "LayoutModel",
      "state": {}
     },
     "00e3de34e1c3404a84a72f4fab372dd9": {
      "model_module": "@jupyter-widgets/controls",
      "model_module_version": "1.4.0",
      "model_name": "ButtonStyleModel",
      "state": {}
     },
     "01132272f1f4458890166511539659d2": {
      "model_module": "@jupyter-widgets/controls",
      "model_module_version": "1.4.0",
      "model_name": "LabelModel",
      "state": {
       "layout": "IPY_MODEL_21128231d2174401bd788bc56af67a01",
       "style": "IPY_MODEL_16c0717fc413415eb95f3c6eb8f88951",
       "value": "Number Estimators"
      }
     },
     "0122325074b4486e83c10bbde99cf431": {
      "model_module": "@jupyter-widgets/base",
      "model_module_version": "1.1.0",
      "model_name": "LayoutModel",
      "state": {}
     },
     "016a4fb86fca4e82ab53ce9bd17b7ca2": {
      "model_module": "@jupyter-widgets/controls",
      "model_module_version": "1.4.0",
      "model_name": "ButtonModel",
      "state": {
       "button_style": "info",
       "description": "Add model",
       "layout": "IPY_MODEL_0b0282bfa597468a905edf89661c971e",
       "style": "IPY_MODEL_5b6dfe6fb2864c839893cff88052ea0f"
      }
     },
     "01cf361338634d9aa3c65b05ed757715": {
      "model_module": "@jupyter-widgets/controls",
      "model_module_version": "1.4.0",
      "model_name": "LabelModel",
      "state": {
       "layout": "IPY_MODEL_e5a9be11e76a4baf8deb042ae9c1d5b9",
       "style": "IPY_MODEL_3df9ab0e3305445bbf6f21b851dec655",
       "value": "Box Type"
      }
     },
     "02128f8973fd4cb39958328f9bc512b2": {
      "model_module": "@jupyter-widgets/base",
      "model_module_version": "1.1.0",
      "model_name": "LayoutModel",
      "state": {}
     },
     "0271c795082a4c0eafa4370f7db56b23": {
      "model_module": "@jupyter-widgets/base",
      "model_module_version": "1.1.0",
      "model_name": "LayoutModel",
      "state": {}
     },
     "028bf898810e4ba8a680d6c9b5ec7180": {
      "model_module": "@jupyter-widgets/controls",
      "model_module_version": "1.4.0",
      "model_name": "DescriptionStyleModel",
      "state": {
       "description_width": ""
      }
     },
     "0299c244a34249f887cc56958130729e": {
      "model_module": "@jupyter-widgets/base",
      "model_module_version": "1.1.0",
      "model_name": "LayoutModel",
      "state": {
       "width": "90px"
      }
     },
     "02e56f41c56e4eaca3fc9b68f6a7c1d6": {
      "model_module": "@jupyter-widgets/base",
      "model_module_version": "1.1.0",
      "model_name": "LayoutModel",
      "state": {}
     },
     "0385f239354148cfb9cce05c9b797811": {
      "model_module": "@jupyter-widgets/base",
      "model_module_version": "1.1.0",
      "model_name": "LayoutModel",
      "state": {}
     },
     "0394e34f80aa450db8ce5de3ac3786f9": {
      "model_module": "@jupyter-widgets/base",
      "model_module_version": "1.1.0",
      "model_name": "LayoutModel",
      "state": {}
     },
     "03fa25564908498598c1cac64e9c6a5e": {
      "model_module": "@jupyter-widgets/base",
      "model_module_version": "1.1.0",
      "model_name": "LayoutModel",
      "state": {}
     },
     "03fdcb3475c14eb1aa29c5a56828bf6d": {
      "model_module": "@jupyter-widgets/base",
      "model_module_version": "1.1.0",
      "model_name": "LayoutModel",
      "state": {
       "visibility": "visible"
      }
     },
     "0422d12a1fea420e9f3e12108a46fa21": {
      "model_module": "@jupyter-widgets/controls",
      "model_module_version": "1.4.0",
      "model_name": "ButtonStyleModel",
      "state": {}
     },
     "04337e68327c4ad68226ee02b8e75eaa": {
      "model_module": "@jupyter-widgets/base",
      "model_module_version": "1.1.0",
      "model_name": "LayoutModel",
      "state": {}
     },
     "04363ff6fda14957bacacf063c21b684": {
      "model_module": "@jupyter-widgets/controls",
      "model_module_version": "1.4.0",
      "model_name": "DescriptionStyleModel",
      "state": {
       "description_width": ""
      }
     },
     "04445dd56fcf461a9b50774089c0fa2f": {
      "model_module": "@jupyter-widgets/controls",
      "model_module_version": "1.4.0",
      "model_name": "DropdownModel",
      "state": {
       "_options_labels": [
        "dt",
        "logit",
        "linear_svc"
       ],
       "index": 0,
       "layout": "IPY_MODEL_73b9c793541642c59ffadb83cf6be760",
       "style": "IPY_MODEL_e8c4fe891e4f48c28296941b68740f36"
      }
     },
     "048ccc6073a94fe68a573b2767c9c3eb": {
      "model_module": "@jupyter-widgets/controls",
      "model_module_version": "1.4.0",
      "model_name": "DescriptionStyleModel",
      "state": {
       "description_width": ""
      }
     },
     "04f816c2e08b41fd84d936d612747819": {
      "model_module": "@jupyter-widgets/base",
      "model_module_version": "1.1.0",
      "model_name": "LayoutModel",
      "state": {}
     },
     "051dd116076645d9a830fd9fee649f9a": {
      "model_module": "@jupyter-widgets/base",
      "model_module_version": "1.1.0",
      "model_name": "LayoutModel",
      "state": {}
     },
     "05d0eda5a70b4356a6e9ba6430059cfe": {
      "model_module": "@jupyter-widgets/base",
      "model_module_version": "1.1.0",
      "model_name": "LayoutModel",
      "state": {}
     },
     "062c249ca4ba4a5e8bcdf25c845b35ee": {
      "model_module": "@jupyter-widgets/base",
      "model_module_version": "1.1.0",
      "model_name": "LayoutModel",
      "state": {}
     },
     "066b32f2a3b34c4482ac7eccd81589f6": {
      "model_module": "@jupyter-widgets/base",
      "model_module_version": "1.1.0",
      "model_name": "LayoutModel",
      "state": {
       "visibility": "hidden",
       "width": "300px"
      }
     },
     "06ad189aec40404dbd852377b5594848": {
      "model_module": "@jupyter-widgets/controls",
      "model_module_version": "1.4.0",
      "model_name": "DescriptionStyleModel",
      "state": {
       "description_width": ""
      }
     },
     "07093d59711340af9e265f071672757e": {
      "model_module": "@jupyter-widgets/controls",
      "model_module_version": "1.4.0",
      "model_name": "DropdownModel",
      "state": {
       "_options_labels": [
        "None",
        "black",
        "grey"
       ],
       "index": 1,
       "layout": "IPY_MODEL_0299c244a34249f887cc56958130729e",
       "style": "IPY_MODEL_ef53775876694f6ca34b2a2c9e082525"
      }
     },
     "070c5850db5249eb8c652dd2fa296d1f": {
      "model_module": "@jupyter-widgets/controls",
      "model_module_version": "1.4.0",
      "model_name": "SliderStyleModel",
      "state": {
       "description_width": ""
      }
     },
     "07268c7c37244fb5a7963d7a6eca1a99": {
      "model_module": "@jupyter-widgets/base",
      "model_module_version": "1.1.0",
      "model_name": "LayoutModel",
      "state": {}
     },
     "07407d6813214dfb992d457805eeaaa8": {
      "model_module": "@jupyter-widgets/controls",
      "model_module_version": "1.4.0",
      "model_name": "DescriptionStyleModel",
      "state": {
       "description_width": ""
      }
     },
     "075bd299b6e64e2f81d0c2101a369cb3": {
      "model_module": "@jupyter-widgets/base",
      "model_module_version": "1.1.0",
      "model_name": "LayoutModel",
      "state": {}
     },
     "07e55076a76a41ebbfaf96984f6636b4": {
      "model_module": "@jupyter-widgets/controls",
      "model_module_version": "1.4.0",
      "model_name": "VBoxModel",
      "state": {
       "children": [
        "IPY_MODEL_812337d658b9425b8ca2c22167090260",
        "IPY_MODEL_d7c0e2795b3f402f808c710f98275c8b"
       ],
       "layout": "IPY_MODEL_95e7658a487a4356be69faf3071fdadd"
      }
     },
     "07e818b8889e4c10bf4c4417629fae68": {
      "model_module": "@jupyter-widgets/controls",
      "model_module_version": "1.4.0",
      "model_name": "IntSliderModel",
      "state": {
       "disabled": true,
       "layout": "IPY_MODEL_7f6d77685e4440abaa5aebd417da27e6",
       "max": 200,
       "min": 2,
       "style": "IPY_MODEL_6b3aa45339ae4967bb5fc91172760ef6",
       "value": 30
      }
     },
     "07f9be42002b4ed6aa2abbba3a1ebba5": {
      "model_module": "@jupyter-widgets/base",
      "model_module_version": "1.1.0",
      "model_name": "LayoutModel",
      "state": {}
     },
     "0817c425eda14efb9cb2ceed3f617f85": {
      "model_module": "@jupyter-widgets/controls",
      "model_module_version": "1.4.0",
      "model_name": "DropdownModel",
      "state": {
       "_options_labels": [
        "dt",
        "logit",
        "linear_svc"
       ],
       "description": "Model",
       "index": 0,
       "layout": "IPY_MODEL_51228155bd77485695f5d821f395f45b",
       "style": "IPY_MODEL_92d00eaafed64083bec37473850d958d"
      }
     },
     "0851979e52f94791be221ce09eebef79": {
      "model_module": "@jupyter-widgets/base",
      "model_module_version": "1.1.0",
      "model_name": "LayoutModel",
      "state": {}
     },
     "085cc7e75b8e49848304a30ce13c2171": {
      "model_module": "@jupyter-widgets/controls",
      "model_module_version": "1.4.0",
      "model_name": "LabelModel",
      "state": {
       "layout": "IPY_MODEL_a1fa6e8e26ec4c57ba124859a2fc4b15",
       "style": "IPY_MODEL_04363ff6fda14957bacacf063c21b684",
       "value": "Box Type"
      }
     },
     "086c2e7ee47942d4a2901451d3e48f1a": {
      "model_module": "@jupyter-widgets/base",
      "model_module_version": "1.1.0",
      "model_name": "LayoutModel",
      "state": {
       "width": "90px"
      }
     },
     "088c0487ab3d443198ceb87b310ad40d": {
      "model_module": "@jupyter-widgets/base",
      "model_module_version": "1.1.0",
      "model_name": "LayoutModel",
      "state": {}
     },
     "0893c4e519ed41d79d4719209d88e4cf": {
      "model_module": "@jupyter-widgets/controls",
      "model_module_version": "1.4.0",
      "model_name": "DescriptionStyleModel",
      "state": {
       "description_width": ""
      }
     },
     "08aad4af63b64aaa85f18e59578d6885": {
      "model_module": "@jupyter-widgets/controls",
      "model_module_version": "1.4.0",
      "model_name": "LabelModel",
      "state": {
       "layout": "IPY_MODEL_051dd116076645d9a830fd9fee649f9a",
       "style": "IPY_MODEL_7695c9630d3d4b6f9ccdb8ae51637aff",
       "value": "Box Type"
      }
     },
     "08cafe8f839a48c78b47ab2e84cc78be": {
      "model_module": "@jupyter-widgets/controls",
      "model_module_version": "1.4.0",
      "model_name": "DescriptionStyleModel",
      "state": {
       "description_width": ""
      }
     },
     "090c15d907124c49afced1e7afc37d4e": {
      "model_module": "@jupyter-widgets/controls",
      "model_module_version": "1.4.0",
      "model_name": "ButtonStyleModel",
      "state": {}
     },
     "0926776edfc84bda9c726ca38492c931": {
      "model_module": "@jupyter-widgets/controls",
      "model_module_version": "1.4.0",
      "model_name": "LabelModel",
      "state": {
       "layout": "IPY_MODEL_a6da14a3bf06442aa9a10a30b936976a",
       "style": "IPY_MODEL_4a06136f43b441ab858b35b0fac0d351",
       "value": "Box Type"
      }
     },
     "09324221e9724fbd80af39ebc15db198": {
      "model_module": "@jupyter-widgets/base",
      "model_module_version": "1.1.0",
      "model_name": "LayoutModel",
      "state": {}
     },
     "09488b40c16540328d55d795669fe8b3": {
      "model_module": "@jupyter-widgets/controls",
      "model_module_version": "1.4.0",
      "model_name": "LabelModel",
      "state": {
       "layout": "IPY_MODEL_a9304008c9fc4331b0f971c830e61825",
       "style": "IPY_MODEL_3fb2c75a61524ac0bb1c6fc8e9561c26",
       "value": "Number Estimators"
      }
     },
     "09a28617c3f04d47b22402fd62c440f7": {
      "model_module": "@jupyter-widgets/base",
      "model_module_version": "1.1.0",
      "model_name": "LayoutModel",
      "state": {}
     },
     "09f17ac391bc458e92fdeeec3e8e42b7": {
      "model_module": "@jupyter-widgets/controls",
      "model_module_version": "1.4.0",
      "model_name": "SliderStyleModel",
      "state": {
       "description_width": ""
      }
     },
     "0a1cc07ecb524bbaa1562c4ef36ba418": {
      "model_module": "@jupyter-widgets/controls",
      "model_module_version": "1.4.0",
      "model_name": "DropdownModel",
      "state": {
       "_options_labels": [
        "None",
        "black",
        "grey"
       ],
       "description": "Bagging",
       "index": 0,
       "layout": "IPY_MODEL_359672e9c5a74ef4a7c66a9d0738c955",
       "style": "IPY_MODEL_e2508368694c42d5aa369f8ddaa52e24"
      }
     },
     "0a6af44065524c80adbe5a088f1f32ad": {
      "model_module": "@jupyter-widgets/controls",
      "model_module_version": "1.4.0",
      "model_name": "ButtonStyleModel",
      "state": {}
     },
     "0aac0922bb3b4489844e0b96fb04ec9c": {
      "model_module": "@jupyter-widgets/controls",
      "model_module_version": "1.4.0",
      "model_name": "DescriptionStyleModel",
      "state": {
       "description_width": ""
      }
     },
     "0aafa3d997d7462eac732d19848d3c9e": {
      "model_module": "@jupyter-widgets/controls",
      "model_module_version": "1.4.0",
      "model_name": "ButtonModel",
      "state": {
       "button_style": "info",
       "description": "Add model",
       "layout": "IPY_MODEL_c7147250d221480aac290e11b2fad727",
       "style": "IPY_MODEL_19fed49e87b947b5926b4d9298d7d00d"
      }
     },
     "0aebb462df6043dd8cc14a96d3c0cee6": {
      "model_module": "@jupyter-widgets/controls",
      "model_module_version": "1.4.0",
      "model_name": "DescriptionStyleModel",
      "state": {
       "description_width": ""
      }
     },
     "0aedea15f52c4a5d92cb54c4dfd5fe2e": {
      "model_module": "@jupyter-widgets/controls",
      "model_module_version": "1.4.0",
      "model_name": "VBoxModel",
      "state": {
       "children": [
        "IPY_MODEL_1e8a960246c34f1d8e4d7211cc7d61ac",
        "IPY_MODEL_c496737bd2d34509ad6cfcba3aeef1a3",
        "IPY_MODEL_6ac17a6f0e6b49f6a50d815a831bcf88",
        "IPY_MODEL_339c82759e2744bbbc58f16a4f6c4b75",
        "IPY_MODEL_c9cea4f9ea49453ba80a5b224355d983"
       ],
       "layout": "IPY_MODEL_4a1c560e93ec40609dfae0724303ed10"
      }
     },
     "0b0282bfa597468a905edf89661c971e": {
      "model_module": "@jupyter-widgets/base",
      "model_module_version": "1.1.0",
      "model_name": "LayoutModel",
      "state": {}
     },
     "0b35d8bb19be483aa72cf8f4ced137af": {
      "model_module": "@jupyter-widgets/base",
      "model_module_version": "1.1.0",
      "model_name": "LayoutModel",
      "state": {}
     },
     "0b47171ca25c4ed186c7ce793fc3650c": {
      "model_module": "@jupyter-widgets/base",
      "model_module_version": "1.1.0",
      "model_name": "LayoutModel",
      "state": {}
     },
     "0b4fe1fdac384b67b9359df29db1c502": {
      "model_module": "@jupyter-widgets/controls",
      "model_module_version": "1.4.0",
      "model_name": "ButtonStyleModel",
      "state": {}
     },
     "0b8c21cccb594f45819068733cf02a2b": {
      "model_module": "@jupyter-widgets/output",
      "model_module_version": "1.0.0",
      "model_name": "OutputModel",
      "state": {
       "layout": "IPY_MODEL_31ac546412594294bf4e27e33d20651f"
      }
     },
     "0b99e775b67448a8b83a37f02b20a715": {
      "model_module": "@jupyter-widgets/controls",
      "model_module_version": "1.4.0",
      "model_name": "ButtonModel",
      "state": {
       "button_style": "info",
       "description": "Add model",
       "layout": "IPY_MODEL_1c62235f856743f2b4946d52c4a9ba26",
       "style": "IPY_MODEL_65af5ba095884ca585aa13fc33b26d29"
      }
     },
     "0b9e1f1efa9f4fb5b4454ce3ec3c0282": {
      "model_module": "@jupyter-widgets/controls",
      "model_module_version": "1.4.0",
      "model_name": "ButtonModel",
      "state": {
       "button_style": "info",
       "description": "Add model",
       "layout": "IPY_MODEL_09a28617c3f04d47b22402fd62c440f7",
       "style": "IPY_MODEL_6aa79c4905eb4345956f1e71a0c88faa"
      }
     },
     "0baa901595a645cfbaa485c10b63577e": {
      "model_module": "@jupyter-widgets/base",
      "model_module_version": "1.1.0",
      "model_name": "LayoutModel",
      "state": {
       "visibility": "hidden"
      }
     },
     "0bab178116b64260ba8fa3454ebe72d8": {
      "model_module": "@jupyter-widgets/controls",
      "model_module_version": "1.4.0",
      "model_name": "VBoxModel",
      "state": {
       "children": [
        "IPY_MODEL_ccda3806dbfc403798077c5531c71b94",
        "IPY_MODEL_b565582af9dd461fae5e697c5b85c241",
        "IPY_MODEL_a41bb06faeae422483389bd85b571c69",
        "IPY_MODEL_8cbbbeda02354429b8f21ac8e7634053",
        "IPY_MODEL_64dcb635f6974ed89e3e0dc48de9e299",
        "IPY_MODEL_a8cc209db96a46fda925a905ca409f6c",
        "IPY_MODEL_302063d4b0124478a3081472826b7856",
        "IPY_MODEL_cee6a2ef337840299991f910e6b7a438",
        "IPY_MODEL_85441311995c4489bee2fc4a835c8313"
       ],
       "layout": "IPY_MODEL_3703fe379a8e4f4395fa500ac6c0400a"
      }
     },
     "0bd853ea68b24f608bcde62b422b66c1": {
      "model_module": "@jupyter-widgets/controls",
      "model_module_version": "1.4.0",
      "model_name": "IntSliderModel",
      "state": {
       "disabled": true,
       "layout": "IPY_MODEL_fd58bba18c884337aff424c91f488a93",
       "max": 200,
       "min": 2,
       "style": "IPY_MODEL_f9ae9eb83cc24307a871e5e10341645d",
       "value": 30
      }
     },
     "0bdbd9345edf417b99531457bf0f7013": {
      "model_module": "@jupyter-widgets/controls",
      "model_module_version": "1.4.0",
      "model_name": "DropdownModel",
      "state": {
       "_options_labels": [
        "segment",
        "covertype",
        "digits",
        "fall_detection",
        "mnist",
        "pen_digits",
        "satellite",
        "vowel"
       ],
       "description": "Dataset:",
       "index": 0,
       "layout": "IPY_MODEL_d4170b7367394fe29ab5d9e3d6ed5e31",
       "style": "IPY_MODEL_46319153bddf468aa8330968d65a7803"
      }
     },
     "0cc0c6d6291044da9ded5cb70b525e8d": {
      "model_module": "@jupyter-widgets/controls",
      "model_module_version": "1.4.0",
      "model_name": "DescriptionStyleModel",
      "state": {
       "description_width": ""
      }
     },
     "0cd73eef0ded404e85009d797f057008": {
      "model_module": "@jupyter-widgets/controls",
      "model_module_version": "1.4.0",
      "model_name": "DescriptionStyleModel",
      "state": {
       "description_width": ""
      }
     },
     "0d1955aeae6648868cc69907019e9935": {
      "model_module": "@jupyter-widgets/controls",
      "model_module_version": "1.4.0",
      "model_name": "DropdownModel",
      "state": {
       "_options_labels": [
        "None",
        "rbf",
        "nystroem"
       ],
       "index": 0,
       "layout": "IPY_MODEL_604040093cfc4c728b4b50462d627dc9",
       "style": "IPY_MODEL_faac0dbdb6144ba7aadf193063d9d6f2"
      }
     },
     "0d247ee4415e4aa6977ec933aa1ee808": {
      "model_module": "@jupyter-widgets/controls",
      "model_module_version": "1.4.0",
      "model_name": "VBoxModel",
      "state": {
       "children": [
        "IPY_MODEL_c8de4d08c6f64defa3fb570051a89cf1",
        "IPY_MODEL_fc63787df1c442faa977ef2a3d19a0d9"
       ],
       "layout": "IPY_MODEL_5698351a8fb7404584d09bd682c6687d"
      }
     },
     "0d5a5847fe6c4e8aabc6f106cacf5efd": {
      "model_module": "@jupyter-widgets/controls",
      "model_module_version": "1.4.0",
      "model_name": "DescriptionStyleModel",
      "state": {
       "description_width": ""
      }
     },
     "0d8bf9009ec54e33803ef7d3dc54852f": {
      "model_module": "@jupyter-widgets/controls",
      "model_module_version": "1.4.0",
      "model_name": "DescriptionStyleModel",
      "state": {
       "description_width": ""
      }
     },
     "0d915d9a80884a4983313e6dd805ad10": {
      "model_module": "@jupyter-widgets/base",
      "model_module_version": "1.1.0",
      "model_name": "LayoutModel",
      "state": {}
     },
     "0d967538ba974f0c9bc0222f93675ba2": {
      "model_module": "@jupyter-widgets/base",
      "model_module_version": "1.1.0",
      "model_name": "LayoutModel",
      "state": {}
     },
     "0dd1495feeef4703b50054736019ce62": {
      "model_module": "@jupyter-widgets/controls",
      "model_module_version": "1.4.0",
      "model_name": "DropdownModel",
      "state": {
       "_options_labels": [
        "None",
        "black",
        "grey"
       ],
       "index": 1,
       "layout": "IPY_MODEL_a339fcb2919a43e5892b1bf7e173738a",
       "style": "IPY_MODEL_c7efbf468663420e9234079f1acfdd0e"
      }
     },
     "0e0c628e0de34f7aac8569961e6ae87a": {
      "model_module": "@jupyter-widgets/base",
      "model_module_version": "1.1.0",
      "model_name": "LayoutModel",
      "state": {
       "visibility": "hidden",
       "width": "300px"
      }
     },
     "0e7c30ee755c4019b23b19c3f7519ba2": {
      "model_module": "@jupyter-widgets/controls",
      "model_module_version": "1.4.0",
      "model_name": "DropdownModel",
      "state": {
       "_options_labels": [
        "None",
        "black",
        "grey"
       ],
       "description": "Bagging",
       "index": 0,
       "layout": "IPY_MODEL_61dbca18d63c4d3b91cbd8f34a980cf8",
       "style": "IPY_MODEL_5144a9811f6a4531bdbe0a731b9f3e25"
      }
     },
     "0e887d8770b44a08b461d2e844d9554e": {
      "model_module": "@jupyter-widgets/base",
      "model_module_version": "1.1.0",
      "model_name": "LayoutModel",
      "state": {}
     },
     "0eaae70c98914f8e97746a0177b8479a": {
      "model_module": "@jupyter-widgets/controls",
      "model_module_version": "1.4.0",
      "model_name": "ButtonModel",
      "state": {
       "button_style": "info",
       "description": "Add model",
       "layout": "IPY_MODEL_92e15fb2632244908fa7a4c95d6f0844",
       "style": "IPY_MODEL_f38e46d8b9ec467682b71e103aa19c93"
      }
     },
     "0ec4e21826a747d6849337337d32612f": {
      "model_module": "@jupyter-widgets/controls",
      "model_module_version": "1.4.0",
      "model_name": "DescriptionStyleModel",
      "state": {
       "description_width": ""
      }
     },
     "0efaba74bd1948c191d759cff6e29a17": {
      "model_module": "@jupyter-widgets/base",
      "model_module_version": "1.1.0",
      "model_name": "LayoutModel",
      "state": {}
     },
     "0efd0cb429f9412f9f1c0786842b4817": {
      "model_module": "@jupyter-widgets/controls",
      "model_module_version": "1.4.0",
      "model_name": "DescriptionStyleModel",
      "state": {
       "description_width": ""
      }
     },
     "0f0468c01ce948cdbad9ddad9950cf1c": {
      "model_module": "@jupyter-widgets/controls",
      "model_module_version": "1.4.0",
      "model_name": "VBoxModel",
      "state": {
       "children": [
        "IPY_MODEL_c6f2e2d19c744399a81ad4af4799b00b",
        "IPY_MODEL_ce743e70eeab4bf9a1a521356e009b75",
        "IPY_MODEL_70bd1d3dccba4ca4b111a1a9d54760a2",
        "IPY_MODEL_14bbede7ae8c4bf0b29360f5de5798dd",
        "IPY_MODEL_a1e8df310e914465b4db731fd68467b3",
        "IPY_MODEL_193e7984abfb4a409a52b478f1c73308",
        "IPY_MODEL_3f7f5e29c2f144b8a60614c9b8c65c0e"
       ],
       "layout": "IPY_MODEL_8e92bc5b322741b7ad97ced29c9c0e45"
      }
     },
     "0f48150dfd0d451099b975a1bf8f2a60": {
      "model_module": "@jupyter-widgets/controls",
      "model_module_version": "1.4.0",
      "model_name": "ButtonStyleModel",
      "state": {}
     },
     "0f5823f076d64ef99bcedf2b075f1c02": {
      "model_module": "@jupyter-widgets/controls",
      "model_module_version": "1.4.0",
      "model_name": "IntSliderModel",
      "state": {
       "disabled": true,
       "layout": "IPY_MODEL_3317a748a34e4972bdff143cc00cedd0",
       "max": 200,
       "min": 2,
       "style": "IPY_MODEL_bb0ebeb99e4e4706a6ff4e4d9afd5b14",
       "value": 30
      }
     },
     "0fcd4b0d2b234672802194c6be386a4b": {
      "model_module": "@jupyter-widgets/controls",
      "model_module_version": "1.4.0",
      "model_name": "VBoxModel",
      "state": {
       "children": [
        "IPY_MODEL_8caf007cf60d4c6cae74b51fd3f72300",
        "IPY_MODEL_483713989b304f8b87bd603dd173f0be",
        "IPY_MODEL_0eaae70c98914f8e97746a0177b8479a",
        "IPY_MODEL_daada1ca45fe4f4fbbdfbe9fe2d5b82f",
        "IPY_MODEL_8c13cdb3c08b464f87ef0635d98844c2",
        "IPY_MODEL_d64b8497295340a3909e78a930431eee",
        "IPY_MODEL_3fdf353b4a194cb58b8314e632d7bddc"
       ],
       "layout": "IPY_MODEL_4d534b3456684c3fbcdba06e35803909"
      }
     },
     "1016a05747c34ffaac170e231fc9a5ca": {
      "model_module": "@jupyter-widgets/base",
      "model_module_version": "1.1.0",
      "model_name": "LayoutModel",
      "state": {}
     },
     "108a76bf1e664bcb9eac0f3df09f6a30": {
      "model_module": "@jupyter-widgets/controls",
      "model_module_version": "1.4.0",
      "model_name": "DescriptionStyleModel",
      "state": {
       "description_width": ""
      }
     },
     "109f1015889544b59be5505fd1f6d323": {
      "model_module": "@jupyter-widgets/controls",
      "model_module_version": "1.4.0",
      "model_name": "CheckboxModel",
      "state": {
       "disabled": false,
       "layout": "IPY_MODEL_3ca7612558d4406daa11a1368ce14082",
       "style": "IPY_MODEL_df4ad3f758cc4d15961571d5e8f3e95b",
       "value": false
      }
     },
     "10bdf97ba4624c039ddbfd79ab15da5e": {
      "model_module": "@jupyter-widgets/controls",
      "model_module_version": "1.4.0",
      "model_name": "VBoxModel",
      "state": {
       "children": [
        "IPY_MODEL_a3e6dc8eeb5e474895dccfabf5047355",
        "IPY_MODEL_0bd853ea68b24f608bcde62b422b66c1"
       ],
       "layout": "IPY_MODEL_1c13442979af491984f80bb3b1d50c3a"
      }
     },
     "10d8763607f149859875ba706895d58f": {
      "model_module": "@jupyter-widgets/controls",
      "model_module_version": "1.4.0",
      "model_name": "DescriptionStyleModel",
      "state": {
       "description_width": ""
      }
     },
     "11141ad2e1dc49049162ee809331ba4f": {
      "model_module": "@jupyter-widgets/controls",
      "model_module_version": "1.4.0",
      "model_name": "DropdownModel",
      "state": {
       "_options_labels": [
        "segment",
        "covertype",
        "digits",
        "fall_detection",
        "mnist",
        "pen_digits",
        "satellite",
        "vowel"
       ],
       "description": "Dataset:",
       "index": 0,
       "layout": "IPY_MODEL_6380b5d79f8b4a4081df87605c272d7f",
       "style": "IPY_MODEL_367bd5752f7b421cba01bea86a4ddac1"
      }
     },
     "112e2ccb12c34e4c96af9223be7abe01": {
      "model_module": "@jupyter-widgets/controls",
      "model_module_version": "1.4.0",
      "model_name": "DescriptionStyleModel",
      "state": {
       "description_width": ""
      }
     },
     "11529d0113084a7ab2988f35b71ccb0c": {
      "model_module": "@jupyter-widgets/controls",
      "model_module_version": "1.4.0",
      "model_name": "DescriptionStyleModel",
      "state": {
       "description_width": ""
      }
     },
     "117dd1ae2ff5466cb3348c6e850dd808": {
      "model_module": "@jupyter-widgets/base",
      "model_module_version": "1.1.0",
      "model_name": "LayoutModel",
      "state": {}
     },
     "11d56885bfb4453da661403b6ebefb34": {
      "model_module": "@jupyter-widgets/controls",
      "model_module_version": "1.4.0",
      "model_name": "DescriptionStyleModel",
      "state": {
       "description_width": ""
      }
     },
     "12b2f76bdf484319b9828d9c355b7cc2": {
      "model_module": "@jupyter-widgets/controls",
      "model_module_version": "1.4.0",
      "model_name": "LabelModel",
      "state": {
       "layout": "IPY_MODEL_3e041cf09ce64d20992f9d008b7a078f",
       "style": "IPY_MODEL_eca2df6211c140ec9f8ab7185feac7fc",
       "value": "Sampler"
      }
     },
     "12b68f6a0d694b6c9b6aee889f2a3468": {
      "model_module": "@jupyter-widgets/controls",
      "model_module_version": "1.4.0",
      "model_name": "DescriptionStyleModel",
      "state": {
       "description_width": ""
      }
     },
     "12ec15bcb9a84de48033456f0b110e11": {
      "model_module": "@jupyter-widgets/base",
      "model_module_version": "1.1.0",
      "model_name": "LayoutModel",
      "state": {
       "visibility": "hidden",
       "width": "300px"
      }
     },
     "12fb11e8a8ae4599914af22f7eb9e5f5": {
      "model_module": "@jupyter-widgets/controls",
      "model_module_version": "1.4.0",
      "model_name": "DescriptionStyleModel",
      "state": {
       "description_width": ""
      }
     },
     "12fc4d62e5c94bc299139a33d5ea30b6": {
      "model_module": "@jupyter-widgets/controls",
      "model_module_version": "1.4.0",
      "model_name": "DescriptionStyleModel",
      "state": {
       "description_width": ""
      }
     },
     "131f8927dc9d4587a5273574a05c1281": {
      "model_module": "@jupyter-widgets/base",
      "model_module_version": "1.1.0",
      "model_name": "LayoutModel",
      "state": {
       "width": "90px"
      }
     },
     "136330f219d043e6a687a1a42e5c8d8d": {
      "model_module": "@jupyter-widgets/controls",
      "model_module_version": "1.4.0",
      "model_name": "RadioButtonsModel",
      "state": {
       "_options_labels": [
        "1000",
        "2000",
        "5000",
        "10000"
       ],
       "description": "Size",
       "index": 0,
       "layout": "IPY_MODEL_44e25a04dd4c4fc6bedc5f0e8c80d8e2",
       "style": "IPY_MODEL_e44a04e9781841b49d621256536413e5"
      }
     },
     "13634e9c16354410bf92038fd78f4946": {
      "model_module": "@jupyter-widgets/controls",
      "model_module_version": "1.4.0",
      "model_name": "IntSliderModel",
      "state": {
       "disabled": true,
       "layout": "IPY_MODEL_d95b5f1b46df44448c4b9f4cbc85b243",
       "max": 200,
       "min": 2,
       "style": "IPY_MODEL_822dca99ef0f4433a901fc95313a30c2",
       "value": 30
      }
     },
     "1364bdf0461e4369bbeb121e8ec2f8bd": {
      "model_module": "@jupyter-widgets/controls",
      "model_module_version": "1.4.0",
      "model_name": "RadioButtonsModel",
      "state": {
       "_options_labels": [
        "1000",
        "2000",
        "5000",
        "10000"
       ],
       "description": "Size",
       "index": 0,
       "layout": "IPY_MODEL_49e9e1b8b9d8436baf676fc7dfc8cfbc",
       "style": "IPY_MODEL_6e6aa64c8ae4408ab2612d26ca71a35e"
      }
     },
     "13f34c23ca524f0f9c03e538834c658c": {
      "model_module": "@jupyter-widgets/base",
      "model_module_version": "1.1.0",
      "model_name": "LayoutModel",
      "state": {}
     },
     "144370dcbfd845248a94f9e8663cffc5": {
      "model_module": "@jupyter-widgets/base",
      "model_module_version": "1.1.0",
      "model_name": "LayoutModel",
      "state": {
       "width": "90px"
      }
     },
     "148934e40146449f8979b13a12080852": {
      "model_module": "@jupyter-widgets/controls",
      "model_module_version": "1.4.0",
      "model_name": "ButtonModel",
      "state": {
       "button_style": "warning",
       "description": "Remove model",
       "layout": "IPY_MODEL_6c58aee803eb42f188de876655f7c00d",
       "style": "IPY_MODEL_5e707cb6934245b0a428dd531479cc0b"
      }
     },
     "14a9a6026fbb4038ba7894caa6753885": {
      "model_module": "@jupyter-widgets/controls",
      "model_module_version": "1.4.0",
      "model_name": "DescriptionStyleModel",
      "state": {
       "description_width": ""
      }
     },
     "14b05d83ab47497382dd20d6d3a442c7": {
      "model_module": "@jupyter-widgets/base",
      "model_module_version": "1.1.0",
      "model_name": "LayoutModel",
      "state": {}
     },
     "14bbede7ae8c4bf0b29360f5de5798dd": {
      "model_module": "@jupyter-widgets/controls",
      "model_module_version": "1.4.0",
      "model_name": "ButtonModel",
      "state": {
       "button_style": "warning",
       "description": "Remove model",
       "layout": "IPY_MODEL_2987974631c3459da68f954b7b2953e4",
       "style": "IPY_MODEL_00e3de34e1c3404a84a72f4fab372dd9"
      }
     },
     "14c6a78f60744da18c7ee8efea2f2dda": {
      "model_module": "@jupyter-widgets/controls",
      "model_module_version": "1.4.0",
      "model_name": "VBoxModel",
      "state": {
       "children": [
        "IPY_MODEL_629543eb0dd244619cf49441a103a0db",
        "IPY_MODEL_5e464e49d7e24845bad2708ea925ce88"
       ],
       "layout": "IPY_MODEL_fb285a5910f14b5eaf444ec188e50c20"
      }
     },
     "14dcfc5a949f4436a73606b907ba2e68": {
      "model_module": "@jupyter-widgets/controls",
      "model_module_version": "1.4.0",
      "model_name": "CheckboxModel",
      "state": {
       "disabled": false,
       "layout": "IPY_MODEL_d104b7c973814990912b178f26b8e59c",
       "style": "IPY_MODEL_1c0578fb08c843419335ed493929e4df",
       "value": false
      }
     },
     "14fe802e299442e0893907717a5988bc": {
      "model_module": "@jupyter-widgets/controls",
      "model_module_version": "1.4.0",
      "model_name": "DescriptionStyleModel",
      "state": {
       "description_width": ""
      }
     },
     "1545e223d14c41d6831660930da8fb0d": {
      "model_module": "@jupyter-widgets/controls",
      "model_module_version": "1.4.0",
      "model_name": "CheckboxModel",
      "state": {
       "disabled": false,
       "layout": "IPY_MODEL_3c002d7cf11045e281325658d80e0e9b",
       "style": "IPY_MODEL_221c2bb665224db2b9a84855100a53dd",
       "value": false
      }
     },
     "15943fa72b0a43b3b3cae6caace4a3cc": {
      "model_module": "@jupyter-widgets/base",
      "model_module_version": "1.1.0",
      "model_name": "LayoutModel",
      "state": {}
     },
     "15ce198fc86c4e4da4ef36aa25a7eeba": {
      "model_module": "@jupyter-widgets/base",
      "model_module_version": "1.1.0",
      "model_name": "LayoutModel",
      "state": {}
     },
     "1602e94aa8cf4da0917e0d4187eb8d89": {
      "model_module": "@jupyter-widgets/base",
      "model_module_version": "1.1.0",
      "model_name": "LayoutModel",
      "state": {}
     },
     "161255d71c0943a38acffa5e920ff1ab": {
      "model_module": "@jupyter-widgets/base",
      "model_module_version": "1.1.0",
      "model_name": "LayoutModel",
      "state": {}
     },
     "16275d826bd247b493c4677f322c4ff1": {
      "model_module": "@jupyter-widgets/controls",
      "model_module_version": "1.4.0",
      "model_name": "DropdownModel",
      "state": {
       "_options_labels": [
        "dt",
        "logit",
        "linear_svc"
       ],
       "index": 0,
       "layout": "IPY_MODEL_58ec7b353b764cf8902ffd0616d50b1b",
       "style": "IPY_MODEL_d3feb947bccb4600b39f8fd5b6717694"
      }
     },
     "162cbaeda0b24a5b8bed35c1f239aa24": {
      "model_module": "@jupyter-widgets/controls",
      "model_module_version": "1.4.0",
      "model_name": "VBoxModel",
      "state": {
       "children": [
        "IPY_MODEL_b9f62d90e7ed435d9c2e93c16addf95c",
        "IPY_MODEL_9153d97be66b4bd086af28257873a241"
       ],
       "layout": "IPY_MODEL_caf377fa89a2457baed1803106485ef4"
      }
     },
     "165d9ba0287949b19156144279a28d7b": {
      "model_module": "@jupyter-widgets/controls",
      "model_module_version": "1.4.0",
      "model_name": "VBoxModel",
      "state": {
       "children": [
        "IPY_MODEL_309db0fa616140babb5d8a4f7b3fe1ae",
        "IPY_MODEL_f356695eb99a4f0582d0dcae67fce78b"
       ],
       "layout": "IPY_MODEL_9b94095cacda417e8bc972bb84f95137"
      }
     },
     "1663d8c10b0f4ea086b023f90583d319": {
      "model_module": "@jupyter-widgets/controls",
      "model_module_version": "1.4.0",
      "model_name": "SliderStyleModel",
      "state": {
       "description_width": ""
      }
     },
     "16664713565c46f5930685da5b41b13f": {
      "model_module": "@jupyter-widgets/base",
      "model_module_version": "1.1.0",
      "model_name": "LayoutModel",
      "state": {
       "border": "3px solid black"
      }
     },
     "166fd14ac1454db19ded6183379d0ea5": {
      "model_module": "@jupyter-widgets/controls",
      "model_module_version": "1.4.0",
      "model_name": "HBoxModel",
      "state": {
       "children": [
        "IPY_MODEL_af372f23e23840ff8185fc84f4ac9b40",
        "IPY_MODEL_0aedea15f52c4a5d92cb54c4dfd5fe2e",
        "IPY_MODEL_a6af1c0c996c4ca291e27a0aa7b02775",
        "IPY_MODEL_d4cdb5938a314d89997b637da41ae03a",
        "IPY_MODEL_5fae3f009e4d4429b0648ac72597da43"
       ],
       "layout": "IPY_MODEL_95e76a30fd1945d4abaec26e11923e8f"
      }
     },
     "169f9194fca4416ebc217d8bf2299c8d": {
      "model_module": "@jupyter-widgets/base",
      "model_module_version": "1.1.0",
      "model_name": "LayoutModel",
      "state": {}
     },
     "16c0717fc413415eb95f3c6eb8f88951": {
      "model_module": "@jupyter-widgets/controls",
      "model_module_version": "1.4.0",
      "model_name": "DescriptionStyleModel",
      "state": {
       "description_width": ""
      }
     },
     "16e2045a4296421eb93f5bd304384110": {
      "model_module": "@jupyter-widgets/base",
      "model_module_version": "1.1.0",
      "model_name": "LayoutModel",
      "state": {}
     },
     "1706e3ef59044926b4d3da007543ccdd": {
      "model_module": "@jupyter-widgets/base",
      "model_module_version": "1.1.0",
      "model_name": "LayoutModel",
      "state": {}
     },
     "174d517827ba4c179d5973aedeb0b04a": {
      "model_module": "@jupyter-widgets/controls",
      "model_module_version": "1.4.0",
      "model_name": "DropdownModel",
      "state": {
       "_options_labels": [
        "dt",
        "logit",
        "linear_svc"
       ],
       "index": 0,
       "layout": "IPY_MODEL_a576d0eeb6484f36aac2c31bf234a821",
       "style": "IPY_MODEL_37d64891f9db4f2f939e28de8ea92eec"
      }
     },
     "1789f680649b4d4b925383e43d93c56b": {
      "model_module": "@jupyter-widgets/base",
      "model_module_version": "1.1.0",
      "model_name": "LayoutModel",
      "state": {}
     },
     "179fae3d637343769a280ab0df2e2cec": {
      "model_module": "@jupyter-widgets/base",
      "model_module_version": "1.1.0",
      "model_name": "LayoutModel",
      "state": {
       "width": "90px"
      }
     },
     "185d8993cc474ce1a5fe768cb2830b32": {
      "model_module": "@jupyter-widgets/controls",
      "model_module_version": "1.4.0",
      "model_name": "DropdownModel",
      "state": {
       "_options_labels": [
        "None",
        "rbf",
        "nystroem"
       ],
       "index": 0,
       "layout": "IPY_MODEL_36bf42b8d4e64a4d890a71320315d472",
       "style": "IPY_MODEL_ddb8139014d7400bb8bd780f295b8d56"
      }
     },
     "188414dad78d4be88f7ffdcb843b12c5": {
      "model_module": "@jupyter-widgets/controls",
      "model_module_version": "1.4.0",
      "model_name": "ButtonModel",
      "state": {
       "button_style": "warning",
       "description": "Remove model",
       "layout": "IPY_MODEL_ee64d885d49747e9ac9011d1cb7eff0e",
       "style": "IPY_MODEL_f00eae40af5c4148ab5cd8c02cd9f720"
      }
     },
     "19054819441d4fa393c792f731bb24de": {
      "model_module": "@jupyter-widgets/controls",
      "model_module_version": "1.4.0",
      "model_name": "ButtonStyleModel",
      "state": {}
     },
     "193e7984abfb4a409a52b478f1c73308": {
      "model_module": "@jupyter-widgets/controls",
      "model_module_version": "1.4.0",
      "model_name": "HBoxModel",
      "state": {
       "children": [
        "IPY_MODEL_0bab178116b64260ba8fa3454ebe72d8",
        "IPY_MODEL_ae48edc12230448d99405b9dfc3e690f",
        "IPY_MODEL_e74d006738064a7aa18b8765043bf22e",
        "IPY_MODEL_33c3a07c25e54b9790d108444162e9eb",
        "IPY_MODEL_6abe9b623bad473b9741fec72742be89"
       ],
       "layout": "IPY_MODEL_fa400587acb448c2bd85201da91f75a5"
      }
     },
     "19484baedc9740568031cca67dee5101": {
      "model_module": "@jupyter-widgets/controls",
      "model_module_version": "1.4.0",
      "model_name": "VBoxModel",
      "state": {
       "children": [
        "IPY_MODEL_c2e0f876fb12436f872822c8b3adff46",
        "IPY_MODEL_b204bb18ee864e2fb3d3e9e18e45d8f9"
       ],
       "layout": "IPY_MODEL_87b63e3000464f2da2fe092cdcfaab3b"
      }
     },
     "196ff3ab935845609ff493e1b12707ca": {
      "model_module": "@jupyter-widgets/controls",
      "model_module_version": "1.4.0",
      "model_name": "VBoxModel",
      "state": {
       "children": [
        "IPY_MODEL_ee94008409614c759d405b0622143380",
        "IPY_MODEL_24ea01c6b6884b70b8f22a5bef170bed"
       ],
       "layout": "IPY_MODEL_d34da4213be340c190511829241f3539"
      }
     },
     "19a1c889de8043ecba4210adb6a9fd87": {
      "model_module": "@jupyter-widgets/base",
      "model_module_version": "1.1.0",
      "model_name": "LayoutModel",
      "state": {
       "width": "90px"
      }
     },
     "19ac6e124cdf4b4299a885dac69e3886": {
      "model_module": "@jupyter-widgets/base",
      "model_module_version": "1.1.0",
      "model_name": "LayoutModel",
      "state": {}
     },
     "19bba096fb834bcc82bea87fbafe19c7": {
      "model_module": "@jupyter-widgets/controls",
      "model_module_version": "1.4.0",
      "model_name": "DescriptionStyleModel",
      "state": {
       "description_width": ""
      }
     },
     "19e4a1e617ad4d6aa739240cca8f44a1": {
      "model_module": "@jupyter-widgets/controls",
      "model_module_version": "1.4.0",
      "model_name": "DescriptionStyleModel",
      "state": {
       "description_width": ""
      }
     },
     "19fed49e87b947b5926b4d9298d7d00d": {
      "model_module": "@jupyter-widgets/controls",
      "model_module_version": "1.4.0",
      "model_name": "ButtonStyleModel",
      "state": {}
     },
     "1a266bc79e9042509b9f9be9fe31db8b": {
      "model_module": "@jupyter-widgets/controls",
      "model_module_version": "1.4.0",
      "model_name": "DescriptionStyleModel",
      "state": {
       "description_width": ""
      }
     },
     "1a5e456f478244f88dededad4b3dc969": {
      "model_module": "@jupyter-widgets/base",
      "model_module_version": "1.1.0",
      "model_name": "LayoutModel",
      "state": {
       "visibility": "hidden",
       "width": "300px"
      }
     },
     "1a9db9247fdd4232b11e905d4e844b59": {
      "model_module": "@jupyter-widgets/controls",
      "model_module_version": "1.4.0",
      "model_name": "SliderStyleModel",
      "state": {
       "description_width": ""
      }
     },
     "1aba64bca5ae45228dcdf36d8c8a411f": {
      "model_module": "@jupyter-widgets/controls",
      "model_module_version": "1.4.0",
      "model_name": "DescriptionStyleModel",
      "state": {
       "description_width": ""
      }
     },
     "1ac3efb49818433c8af02d1ace1c24e4": {
      "model_module": "@jupyter-widgets/controls",
      "model_module_version": "1.4.0",
      "model_name": "SliderStyleModel",
      "state": {
       "description_width": ""
      }
     },
     "1ac5342688854506a7479b8cf548317c": {
      "model_module": "@jupyter-widgets/controls",
      "model_module_version": "1.4.0",
      "model_name": "DescriptionStyleModel",
      "state": {
       "description_width": ""
      }
     },
     "1ac81fd2b62a4a67bfdc47fb3ef813e8": {
      "model_module": "@jupyter-widgets/controls",
      "model_module_version": "1.4.0",
      "model_name": "ButtonStyleModel",
      "state": {}
     },
     "1ae1dd4da56a4fc38a593868869d6d09": {
      "model_module": "@jupyter-widgets/controls",
      "model_module_version": "1.4.0",
      "model_name": "DescriptionStyleModel",
      "state": {
       "description_width": ""
      }
     },
     "1b2ff101bf9d4cea91b47698f2181b39": {
      "model_module": "@jupyter-widgets/controls",
      "model_module_version": "1.4.0",
      "model_name": "LabelModel",
      "state": {
       "layout": "IPY_MODEL_78f3cd716ef94dd9a905328c2730d806",
       "style": "IPY_MODEL_8552bbfd8c2047f9939ccb19b73395e1",
       "value": "Box Type"
      }
     },
     "1b6e93c991074ff1bbac14a92ee28f71": {
      "model_module": "@jupyter-widgets/controls",
      "model_module_version": "1.4.0",
      "model_name": "VBoxModel",
      "state": {
       "children": [
        "IPY_MODEL_9e02f102ebfe435f92077a0bba193d06",
        "IPY_MODEL_4dc59b414b6345db9e96dc35d0a13af3"
       ],
       "layout": "IPY_MODEL_d311a991cb2d428ba581381cb28acb12"
      }
     },
     "1bf4e96d64224df79be5868ecf493464": {
      "model_module": "@jupyter-widgets/controls",
      "model_module_version": "1.4.0",
      "model_name": "IntRangeSliderModel",
      "state": {
       "_model_name": "IntRangeSliderModel",
       "_view_name": "IntRangeSliderView",
       "disabled": true,
       "layout": "IPY_MODEL_cbd9a041b4ba4e78928d6a6ff6972d97",
       "max": 400,
       "min": 30,
       "step": 10,
       "style": "IPY_MODEL_e7b058d149d441589a7b2785707262f3",
       "value": [
        30,
        100
       ]
      }
     },
     "1c0578fb08c843419335ed493929e4df": {
      "model_module": "@jupyter-widgets/controls",
      "model_module_version": "1.4.0",
      "model_name": "DescriptionStyleModel",
      "state": {
       "description_width": ""
      }
     },
     "1c13442979af491984f80bb3b1d50c3a": {
      "model_module": "@jupyter-widgets/base",
      "model_module_version": "1.1.0",
      "model_name": "LayoutModel",
      "state": {}
     },
     "1c274f464d6c407e9414d00b1cb573c6": {
      "model_module": "@jupyter-widgets/base",
      "model_module_version": "1.1.0",
      "model_name": "LayoutModel",
      "state": {}
     },
     "1c492a505d794de5a010102c60480cf0": {
      "model_module": "@jupyter-widgets/controls",
      "model_module_version": "1.4.0",
      "model_name": "DescriptionStyleModel",
      "state": {
       "description_width": ""
      }
     },
     "1c4a49d5c17e4d038afc12eab0bfb4e5": {
      "model_module": "@jupyter-widgets/controls",
      "model_module_version": "1.4.0",
      "model_name": "LabelModel",
      "state": {
       "layout": "IPY_MODEL_c24a766901f64989961784da7b496f3d",
       "style": "IPY_MODEL_3ef49c9714294673a4b1f71a83b3c8b7",
       "value": "Sampler"
      }
     },
     "1c62235f856743f2b4946d52c4a9ba26": {
      "model_module": "@jupyter-widgets/base",
      "model_module_version": "1.1.0",
      "model_name": "LayoutModel",
      "state": {}
     },
     "1c74a2d19bd0438c8f0d4f66d0601594": {
      "model_module": "@jupyter-widgets/controls",
      "model_module_version": "1.4.0",
      "model_name": "DescriptionStyleModel",
      "state": {
       "description_width": ""
      }
     },
     "1ca8a2632a874a18a1ade782bc01c57c": {
      "model_module": "@jupyter-widgets/base",
      "model_module_version": "1.1.0",
      "model_name": "LayoutModel",
      "state": {}
     },
     "1dcf3c3bbea24bc494e33a78b781cf46": {
      "model_module": "@jupyter-widgets/controls",
      "model_module_version": "1.4.0",
      "model_name": "SliderStyleModel",
      "state": {
       "description_width": ""
      }
     },
     "1e28220da20048eabc301ab0ba55c0f0": {
      "model_module": "@jupyter-widgets/controls",
      "model_module_version": "1.4.0",
      "model_name": "VBoxModel",
      "state": {
       "children": [
        "IPY_MODEL_6eb6d795e47f4660886b90e5351c0adf",
        "IPY_MODEL_ac91ba9b86ad49fcb756d257f10ffd15"
       ],
       "layout": "IPY_MODEL_2d495d82814b470296c74a44aaa04880"
      }
     },
     "1e8a960246c34f1d8e4d7211cc7d61ac": {
      "model_module": "@jupyter-widgets/controls",
      "model_module_version": "1.4.0",
      "model_name": "LabelModel",
      "state": {
       "layout": "IPY_MODEL_ee8544aa423147ee9065e1f4339316d8",
       "style": "IPY_MODEL_b977c225199d4458a0d47b8bdf68f42a",
       "value": "Sampler"
      }
     },
     "1ebfe39c34fe4fb7857306328f01cdca": {
      "model_module": "@jupyter-widgets/controls",
      "model_module_version": "1.4.0",
      "model_name": "ButtonStyleModel",
      "state": {}
     },
     "1ee18c64f5404421862b6f7927f5d4a4": {
      "model_module": "@jupyter-widgets/controls",
      "model_module_version": "1.4.0",
      "model_name": "CheckboxModel",
      "state": {
       "disabled": false,
       "layout": "IPY_MODEL_7e0ffe4572f54b05a8501673e65681e9",
       "style": "IPY_MODEL_64c62c632d1644c3bca24b7610583b20",
       "value": true
      }
     },
     "1f127eff30c843eca58e68e004c58219": {
      "model_module": "@jupyter-widgets/base",
      "model_module_version": "1.1.0",
      "model_name": "LayoutModel",
      "state": {
       "visibility": "hidden",
       "width": "300px"
      }
     },
     "1f91bb4178014f8b9abb2699c8520780": {
      "model_module": "@jupyter-widgets/controls",
      "model_module_version": "1.4.0",
      "model_name": "IntSliderModel",
      "state": {
       "disabled": true,
       "layout": "IPY_MODEL_fb61e86e13304150853e028921a1bfe4",
       "max": 200,
       "min": 2,
       "style": "IPY_MODEL_4fe240a1c6cc419eb8afba0c599b18ff",
       "value": 30
      }
     },
     "1fcda46a217148e59b269467b2020dc2": {
      "model_module": "@jupyter-widgets/controls",
      "model_module_version": "1.4.0",
      "model_name": "DescriptionStyleModel",
      "state": {
       "description_width": ""
      }
     },
     "1fcf6a316e3f4142a3a3b56810629767": {
      "model_module": "@jupyter-widgets/base",
      "model_module_version": "1.1.0",
      "model_name": "LayoutModel",
      "state": {}
     },
     "201849b5e198442ebe3b637cc8ddf123": {
      "model_module": "@jupyter-widgets/controls",
      "model_module_version": "1.4.0",
      "model_name": "DescriptionStyleModel",
      "state": {
       "description_width": ""
      }
     },
     "201a1be1f9a84356bb24a779f57fed00": {
      "model_module": "@jupyter-widgets/base",
      "model_module_version": "1.1.0",
      "model_name": "LayoutModel",
      "state": {}
     },
     "206f8832becc4a48bcc733aa81d86077": {
      "model_module": "@jupyter-widgets/controls",
      "model_module_version": "1.4.0",
      "model_name": "LabelModel",
      "state": {
       "layout": "IPY_MODEL_5c72578dc3e9441cad003cdd3d47b1a6",
       "style": "IPY_MODEL_3293cb21d39443568f109afff14ff9d9",
       "value": "Model"
      }
     },
     "20aceab924884a94a1ada3f656c333cc": {
      "model_module": "@jupyter-widgets/controls",
      "model_module_version": "1.4.0",
      "model_name": "IntSliderModel",
      "state": {
       "disabled": true,
       "layout": "IPY_MODEL_1a5e456f478244f88dededad4b3dc969",
       "max": 200,
       "min": 2,
       "style": "IPY_MODEL_9a08598b10034849b125487a849826bf",
       "value": 30
      }
     },
     "20f3153c57bf4debb414df982d393bdd": {
      "model_module": "@jupyter-widgets/controls",
      "model_module_version": "1.4.0",
      "model_name": "VBoxModel",
      "state": {
       "children": [
        "IPY_MODEL_9c887492e9ed4ad2bb5b5bc5ee5d6c46",
        "IPY_MODEL_fc1b99c29cc245338cc2a1da4e9cb420",
        "IPY_MODEL_b683e800b12a4cd390e142f04483c3e7",
        "IPY_MODEL_148934e40146449f8979b13a12080852",
        "IPY_MODEL_60b388fa7ad84b11955b39b6807d63cb",
        "IPY_MODEL_50ceb1dc3f3e451b90c44ef5316da19b",
        "IPY_MODEL_f56c4d732faa4a6c82e145617d6922ab"
       ],
       "layout": "IPY_MODEL_9c1270687140419f808aec42d2d282aa"
      }
     },
     "21128231d2174401bd788bc56af67a01": {
      "model_module": "@jupyter-widgets/base",
      "model_module_version": "1.1.0",
      "model_name": "LayoutModel",
      "state": {}
     },
     "2116c0f38a844342887f75f512871018": {
      "model_module": "@jupyter-widgets/controls",
      "model_module_version": "1.4.0",
      "model_name": "VBoxModel",
      "state": {
       "children": [
        "IPY_MODEL_4391d18ba52c4734840a25f06d94b091",
        "IPY_MODEL_d5d4d822a80c48ae872ec1c9d200f8a6"
       ],
       "layout": "IPY_MODEL_02128f8973fd4cb39958328f9bc512b2"
      }
     },
     "212fb225b6ed4e019d76b6b0139a12e8": {
      "model_module": "@jupyter-widgets/base",
      "model_module_version": "1.1.0",
      "model_name": "LayoutModel",
      "state": {}
     },
     "214a11fdadd0476db9f15de5ae49cbc7": {
      "model_module": "@jupyter-widgets/controls",
      "model_module_version": "1.4.0",
      "model_name": "DescriptionStyleModel",
      "state": {
       "description_width": ""
      }
     },
     "21a300e7400b4df4b9d06a385292c28a": {
      "model_module": "@jupyter-widgets/controls",
      "model_module_version": "1.4.0",
      "model_name": "VBoxModel",
      "state": {
       "children": [
        "IPY_MODEL_b35a593fac0342e78aaf01479791ec9e",
        "IPY_MODEL_1545e223d14c41d6831660930da8fb0d"
       ],
       "layout": "IPY_MODEL_16e2045a4296421eb93f5bd304384110"
      }
     },
     "21c35109f7704a9eb770b431f6d24eb7": {
      "model_module": "@jupyter-widgets/controls",
      "model_module_version": "1.4.0",
      "model_name": "DescriptionStyleModel",
      "state": {
       "description_width": ""
      }
     },
     "221c2bb665224db2b9a84855100a53dd": {
      "model_module": "@jupyter-widgets/controls",
      "model_module_version": "1.4.0",
      "model_name": "DescriptionStyleModel",
      "state": {
       "description_width": ""
      }
     },
     "222b5da53537431d87c59a369aae9f6a": {
      "model_module": "@jupyter-widgets/controls",
      "model_module_version": "1.4.0",
      "model_name": "DescriptionStyleModel",
      "state": {
       "description_width": ""
      }
     },
     "2294ac98c8df4a0e86af5592c7ffe6d7": {
      "model_module": "@jupyter-widgets/base",
      "model_module_version": "1.1.0",
      "model_name": "LayoutModel",
      "state": {}
     },
     "22bd5e43652a47029865d5986079f7f0": {
      "model_module": "@jupyter-widgets/controls",
      "model_module_version": "1.4.0",
      "model_name": "VBoxModel",
      "state": {
       "children": [
        "IPY_MODEL_d9961b07a3da49eba306cb9bd46bd40a",
        "IPY_MODEL_d4dc3068f5654cc19e90553f61d78627"
       ],
       "layout": "IPY_MODEL_b8a866e88d394709bfb9ac6cb34f7d7d"
      }
     },
     "22fb574bcf4549759d544419f006e44b": {
      "model_module": "@jupyter-widgets/controls",
      "model_module_version": "1.4.0",
      "model_name": "DescriptionStyleModel",
      "state": {
       "description_width": ""
      }
     },
     "23070101392e4f678439221be06cd633": {
      "model_module": "@jupyter-widgets/controls",
      "model_module_version": "1.4.0",
      "model_name": "RadioButtonsModel",
      "state": {
       "_options_labels": [
        "1000",
        "2000",
        "5000",
        "10000"
       ],
       "description": "Size",
       "index": 0,
       "layout": "IPY_MODEL_ac243383c14243459861d12391e5f248",
       "style": "IPY_MODEL_697ab59ad148404a8014d9b6412e6848"
      }
     },
     "2308ff9c3bfb4d63a076b678dedc30a2": {
      "model_module": "@jupyter-widgets/base",
      "model_module_version": "1.1.0",
      "model_name": "LayoutModel",
      "state": {
       "border": "3px solid black"
      }
     },
     "236a589242a944f199cfe48a18d5b85b": {
      "model_module": "@jupyter-widgets/controls",
      "model_module_version": "1.4.0",
      "model_name": "LabelModel",
      "state": {
       "layout": "IPY_MODEL_49686b7fc08544baa3525e0761b0894a",
       "style": "IPY_MODEL_594ae3582d37495ebb939df56ccc4fb3",
       "value": "Model"
      }
     },
     "23770b8597824121a5321f7ce5318071": {
      "model_module": "@jupyter-widgets/base",
      "model_module_version": "1.1.0",
      "model_name": "LayoutModel",
      "state": {}
     },
     "23871f747e684a629e43d6b6dece3b91": {
      "model_module": "@jupyter-widgets/controls",
      "model_module_version": "1.4.0",
      "model_name": "IntSliderModel",
      "state": {
       "disabled": true,
       "layout": "IPY_MODEL_4c98d00efe7d46a5a3ec7f4f26bc7196",
       "max": 200,
       "min": 2,
       "style": "IPY_MODEL_41e29f478c82423b8278c34f6d594bf6",
       "value": 30
      }
     },
     "23968d20878841adaa65f1030dc2ce81": {
      "model_module": "@jupyter-widgets/controls",
      "model_module_version": "1.4.0",
      "model_name": "DescriptionStyleModel",
      "state": {
       "description_width": ""
      }
     },
     "23a20a9e0467430c8ff3a0438de5a686": {
      "model_module": "@jupyter-widgets/controls",
      "model_module_version": "1.4.0",
      "model_name": "ButtonModel",
      "state": {
       "button_style": "info",
       "description": "Demo0",
       "layout": "IPY_MODEL_002a66b3af924dd5834f691eabb99fe7",
       "style": "IPY_MODEL_1ac81fd2b62a4a67bfdc47fb3ef813e8"
      }
     },
     "23acd471a9dd4b32b448676bfe6ef479": {
      "model_module": "@jupyter-widgets/controls",
      "model_module_version": "1.4.0",
      "model_name": "DescriptionStyleModel",
      "state": {
       "description_width": ""
      }
     },
     "246fe51667914cfb85bd636b926b1a14": {
      "model_module": "@jupyter-widgets/controls",
      "model_module_version": "1.4.0",
      "model_name": "ButtonStyleModel",
      "state": {}
     },
     "24a538d0277e411d9c12219866be2461": {
      "model_module": "@jupyter-widgets/controls",
      "model_module_version": "1.4.0",
      "model_name": "IntSliderModel",
      "state": {
       "disabled": true,
       "layout": "IPY_MODEL_2dbd9cf1126c4fa49f1a7cbb69f065b7",
       "max": 200,
       "min": 2,
       "style": "IPY_MODEL_09f17ac391bc458e92fdeeec3e8e42b7",
       "value": 30
      }
     },
     "24ba36800f4a44e2b982b1f9f2c77da0": {
      "model_module": "@jupyter-widgets/controls",
      "model_module_version": "1.4.0",
      "model_name": "ButtonStyleModel",
      "state": {}
     },
     "24c4d6d01e7f4e6ebc98593bacda72f5": {
      "model_module": "@jupyter-widgets/controls",
      "model_module_version": "1.4.0",
      "model_name": "ButtonStyleModel",
      "state": {}
     },
     "24ea01c6b6884b70b8f22a5bef170bed": {
      "model_module": "@jupyter-widgets/controls",
      "model_module_version": "1.4.0",
      "model_name": "DropdownModel",
      "state": {
       "_options_labels": [
        "None",
        "rbf",
        "nystroem"
       ],
       "index": 0,
       "layout": "IPY_MODEL_144370dcbfd845248a94f9e8663cffc5",
       "style": "IPY_MODEL_e606c50b621548c5ad39f047afb04630"
      }
     },
     "24ec5887fcca4990a570290ad01f7749": {
      "model_module": "@jupyter-widgets/controls",
      "model_module_version": "1.4.0",
      "model_name": "ButtonModel",
      "state": {
       "button_style": "info",
       "description": "Demo0",
       "layout": "IPY_MODEL_ac5f17bde0524fc1b516f7f0b4462186",
       "style": "IPY_MODEL_090c15d907124c49afced1e7afc37d4e"
      }
     },
     "24eed6bb63e745039dde772e17645695": {
      "model_module": "@jupyter-widgets/controls",
      "model_module_version": "1.4.0",
      "model_name": "DescriptionStyleModel",
      "state": {
       "description_width": ""
      }
     },
     "24f96a87fabb4e4a8b2c52e51f62e485": {
      "model_module": "@jupyter-widgets/controls",
      "model_module_version": "1.4.0",
      "model_name": "DescriptionStyleModel",
      "state": {
       "description_width": ""
      }
     },
     "253ef90df417492ca50223606f522c79": {
      "model_module": "@jupyter-widgets/controls",
      "model_module_version": "1.4.0",
      "model_name": "ButtonStyleModel",
      "state": {}
     },
     "25f81f0ca5a543cda2aa6fa786041d75": {
      "model_module": "@jupyter-widgets/base",
      "model_module_version": "1.1.0",
      "model_name": "LayoutModel",
      "state": {}
     },
     "26067c55df3a4c32bc769a74aa2945c7": {
      "model_module": "@jupyter-widgets/controls",
      "model_module_version": "1.4.0",
      "model_name": "VBoxModel",
      "state": {
       "children": [
        "IPY_MODEL_c0a444a8e0a54d448f9df89c7dad66ab",
        "IPY_MODEL_c83796537f5b40d6a33fe5ee5b481f75"
       ],
       "layout": "IPY_MODEL_473b2e4a9b40474fbe4522514eb8af72"
      }
     },
     "26550320b8cf47aeab6c6ea180dc1a99": {
      "model_module": "@jupyter-widgets/base",
      "model_module_version": "1.1.0",
      "model_name": "LayoutModel",
      "state": {}
     },
     "266438497514493b95151557623bdef2": {
      "model_module": "@jupyter-widgets/controls",
      "model_module_version": "1.4.0",
      "model_name": "LabelModel",
      "state": {
       "layout": "IPY_MODEL_e0970a8cb0cc43ba99660b376c5a002c",
       "style": "IPY_MODEL_d3947375ec9549aaaec932c659ed2794",
       "value": "PCA?"
      }
     },
     "26f61570d1f84b03b6e73f7e7382e6b2": {
      "model_module": "@jupyter-widgets/base",
      "model_module_version": "1.1.0",
      "model_name": "LayoutModel",
      "state": {}
     },
     "2716d29fc5b047588d46d75a31adb1e6": {
      "model_module": "@jupyter-widgets/controls",
      "model_module_version": "1.4.0",
      "model_name": "DescriptionStyleModel",
      "state": {
       "description_width": ""
      }
     },
     "276ae42b53994900807f4252e55bd8ec": {
      "model_module": "@jupyter-widgets/controls",
      "model_module_version": "1.4.0",
      "model_name": "VBoxModel",
      "state": {
       "children": [
        "IPY_MODEL_ed4d8014f9f04021b0fa89a5e02a6899",
        "IPY_MODEL_109f1015889544b59be5505fd1f6d323"
       ],
       "layout": "IPY_MODEL_706db4d4345c439e809e7929da416897"
      }
     },
     "276b1b8718ba492a807c42d6f582ba23": {
      "model_module": "@jupyter-widgets/base",
      "model_module_version": "1.1.0",
      "model_name": "LayoutModel",
      "state": {}
     },
     "277a12f69ac94e99ae71475d4f8f504b": {
      "model_module": "@jupyter-widgets/base",
      "model_module_version": "1.1.0",
      "model_name": "LayoutModel",
      "state": {}
     },
     "277de54a7ec14ff4a6675df8cc29e1f1": {
      "model_module": "@jupyter-widgets/controls",
      "model_module_version": "1.4.0",
      "model_name": "DescriptionStyleModel",
      "state": {
       "description_width": ""
      }
     },
     "27b9f760cabb4c04b0e776800fbf737f": {
      "model_module": "@jupyter-widgets/controls",
      "model_module_version": "1.4.0",
      "model_name": "DropdownModel",
      "state": {
       "_options_labels": [
        "dt",
        "logit",
        "linear_svc"
       ],
       "description": "Model",
       "index": 0,
       "layout": "IPY_MODEL_d7264c58694a4673b9274322a827c390",
       "style": "IPY_MODEL_277de54a7ec14ff4a6675df8cc29e1f1"
      }
     },
     "28148fe5a97d4cd4af82c053df9f14c9": {
      "model_module": "@jupyter-widgets/controls",
      "model_module_version": "1.4.0",
      "model_name": "DropdownModel",
      "state": {
       "_options_labels": [
        "dt",
        "logit",
        "linear_svc"
       ],
       "description": "Model",
       "index": 0,
       "layout": "IPY_MODEL_58234ebddd304a40aa63e392c7765f52",
       "style": "IPY_MODEL_14a9a6026fbb4038ba7894caa6753885"
      }
     },
     "287ce91d9e2d46b790493c08166be2db": {
      "model_module": "@jupyter-widgets/controls",
      "model_module_version": "1.4.0",
      "model_name": "IntSliderModel",
      "state": {
       "disabled": true,
       "layout": "IPY_MODEL_55367b6382374a1893e8eafa8bce8de1",
       "max": 200,
       "min": 2,
       "style": "IPY_MODEL_1a9db9247fdd4232b11e905d4e844b59",
       "value": 30
      }
     },
     "28db18852c0e48b98c4700e56b025400": {
      "model_module": "@jupyter-widgets/controls",
      "model_module_version": "1.4.0",
      "model_name": "DescriptionStyleModel",
      "state": {
       "description_width": ""
      }
     },
     "29193f96f31b476c89315affb9d37b56": {
      "model_module": "@jupyter-widgets/controls",
      "model_module_version": "1.4.0",
      "model_name": "SliderStyleModel",
      "state": {
       "description_width": ""
      }
     },
     "294cde4266514071bd5b34b6994f42fc": {
      "model_module": "@jupyter-widgets/controls",
      "model_module_version": "1.4.0",
      "model_name": "VBoxModel",
      "state": {
       "children": [
        "IPY_MODEL_da1456b1c6c446eba2511fd9e2cfc569",
        "IPY_MODEL_5eba008de5c5499c8d3105804e564b97"
       ],
       "layout": "IPY_MODEL_49c8d829748d46d4b8540af474c78efd"
      }
     },
     "29586e5646a64cd1813bf6698ca63295": {
      "model_module": "@jupyter-widgets/base",
      "model_module_version": "1.1.0",
      "model_name": "LayoutModel",
      "state": {}
     },
     "296c891f9d8c4406840fe0c7261829be": {
      "model_module": "@jupyter-widgets/base",
      "model_module_version": "1.1.0",
      "model_name": "LayoutModel",
      "state": {}
     },
     "2987974631c3459da68f954b7b2953e4": {
      "model_module": "@jupyter-widgets/base",
      "model_module_version": "1.1.0",
      "model_name": "LayoutModel",
      "state": {}
     },
     "298e5e50cb2242118f77b5d1664abff1": {
      "model_module": "@jupyter-widgets/controls",
      "model_module_version": "1.4.0",
      "model_name": "VBoxModel",
      "state": {
       "children": [
        "IPY_MODEL_c19ddaf8eb9e4edb9088ca6183459cbc",
        "IPY_MODEL_80ec277274ff4d628a123bca5b159f43"
       ],
       "layout": "IPY_MODEL_eeb39ff6f96a4abebe8c1e83c1d97404"
      }
     },
     "29eb3e586e0d492db615e7c8e6a33750": {
      "model_module": "@jupyter-widgets/controls",
      "model_module_version": "1.4.0",
      "model_name": "IntSliderModel",
      "state": {
       "disabled": true,
       "layout": "IPY_MODEL_066b32f2a3b34c4482ac7eccd81589f6",
       "max": 200,
       "min": 2,
       "style": "IPY_MODEL_bfeba3f038cc4fdeb16c21f40e64536c",
       "value": 30
      }
     },
     "2a1f1aae140d4ecd86a66ba2329eaa77": {
      "model_module": "@jupyter-widgets/base",
      "model_module_version": "1.1.0",
      "model_name": "LayoutModel",
      "state": {}
     },
     "2a77f7b36e3a4ffbaeafc8d201062bfc": {
      "model_module": "@jupyter-widgets/controls",
      "model_module_version": "1.4.0",
      "model_name": "VBoxModel",
      "state": {
       "children": [
        "IPY_MODEL_98f8a937213648db8b9c5e840ea7b978",
        "IPY_MODEL_31451eabe04d4436983e742e29bdcd81"
       ],
       "layout": "IPY_MODEL_ce02c859d14846c6981cac1583e9ddd9"
      }
     },
     "2aad642d8d2b4fdd92b623a3fb485c8b": {
      "model_module": "@jupyter-widgets/controls",
      "model_module_version": "1.4.0",
      "model_name": "CheckboxModel",
      "state": {
       "disabled": false,
       "layout": "IPY_MODEL_35404dd1aaff4b8f97e9070102e908d3",
       "style": "IPY_MODEL_4361163803164abe934a9edc3cc355e5",
       "value": false
      }
     },
     "2ac05247bec44ed6942e342368c09208": {
      "model_module": "@jupyter-widgets/base",
      "model_module_version": "1.1.0",
      "model_name": "LayoutModel",
      "state": {}
     },
     "2ac6cdd9cc334fb1bb779e5816582a39": {
      "model_module": "@jupyter-widgets/base",
      "model_module_version": "1.1.0",
      "model_name": "LayoutModel",
      "state": {}
     },
     "2acb16bdc72a41269d0486e19adba50f": {
      "model_module": "@jupyter-widgets/base",
      "model_module_version": "1.1.0",
      "model_name": "LayoutModel",
      "state": {}
     },
     "2ae976333eb5473fa0a72abb8a7aee0e": {
      "model_module": "@jupyter-widgets/base",
      "model_module_version": "1.1.0",
      "model_name": "LayoutModel",
      "state": {
       "visibility": "hidden"
      }
     },
     "2b0c727548df4a308a304f630fd65798": {
      "model_module": "@jupyter-widgets/controls",
      "model_module_version": "1.4.0",
      "model_name": "CheckboxModel",
      "state": {
       "disabled": false,
       "layout": "IPY_MODEL_9f69960a8f304abd833eaa756e462e5d",
       "style": "IPY_MODEL_d469805d16804d1ea8476a9dee378346",
       "value": false
      }
     },
     "2b1c0ad6283c471bb53dc27ce05794f6": {
      "model_module": "@jupyter-widgets/base",
      "model_module_version": "1.1.0",
      "model_name": "LayoutModel",
      "state": {}
     },
     "2b2d77dc4252442d96b2d77acf840d3a": {
      "model_module": "@jupyter-widgets/base",
      "model_module_version": "1.1.0",
      "model_name": "LayoutModel",
      "state": {}
     },
     "2b334e3049b442d8b50e653a7baa112d": {
      "model_module": "@jupyter-widgets/controls",
      "model_module_version": "1.4.0",
      "model_name": "ButtonStyleModel",
      "state": {}
     },
     "2b5e9a2956b44384a9051079569c933f": {
      "model_module": "@jupyter-widgets/controls",
      "model_module_version": "1.4.0",
      "model_name": "VBoxModel",
      "state": {
       "children": [
        "IPY_MODEL_81a4ba7b6a6e45edb65a41b1dad8e836",
        "IPY_MODEL_24a538d0277e411d9c12219866be2461"
       ],
       "layout": "IPY_MODEL_30f89d2e5ef34fd78bd0ef90773736c5"
      }
     },
     "2c2bc0c7ffbd44f79e6a9692745ee2fe": {
      "model_module": "@jupyter-widgets/controls",
      "model_module_version": "1.4.0",
      "model_name": "DropdownModel",
      "state": {
       "_options_labels": [
        "None",
        "rbf",
        "nystroem"
       ],
       "index": 1,
       "layout": "IPY_MODEL_b028aa16c51a47edb4bb7f6185eed36f",
       "style": "IPY_MODEL_8d2fb5104a494b019d6a43502294bbd6"
      }
     },
     "2c5897d9dfa7492099c359fb961ed4a2": {
      "model_module": "@jupyter-widgets/controls",
      "model_module_version": "1.4.0",
      "model_name": "DescriptionStyleModel",
      "state": {
       "description_width": ""
      }
     },
     "2c6ebae945d74e459040130ba3b86717": {
      "model_module": "@jupyter-widgets/base",
      "model_module_version": "1.1.0",
      "model_name": "LayoutModel",
      "state": {}
     },
     "2cb0a9ca99e64782a6fef7e5a366d2ce": {
      "model_module": "@jupyter-widgets/controls",
      "model_module_version": "1.4.0",
      "model_name": "DropdownModel",
      "state": {
       "_options_labels": [
        "segment",
        "covertype",
        "digits",
        "fall_detection",
        "mnist",
        "pen_digits",
        "satellite",
        "vowel"
       ],
       "description": "Dataset:",
       "index": 0,
       "layout": "IPY_MODEL_04f816c2e08b41fd84d936d612747819",
       "style": "IPY_MODEL_2d0d05c65c194b73bcf32e49596d2aa4"
      }
     },
     "2d0d05c65c194b73bcf32e49596d2aa4": {
      "model_module": "@jupyter-widgets/controls",
      "model_module_version": "1.4.0",
      "model_name": "DescriptionStyleModel",
      "state": {
       "description_width": ""
      }
     },
     "2d495d82814b470296c74a44aaa04880": {
      "model_module": "@jupyter-widgets/base",
      "model_module_version": "1.1.0",
      "model_name": "LayoutModel",
      "state": {}
     },
     "2d4cd23d50174793b87c20e58067b9cd": {
      "model_module": "@jupyter-widgets/base",
      "model_module_version": "1.1.0",
      "model_name": "LayoutModel",
      "state": {
       "border": "3px solid black"
      }
     },
     "2dbd9cf1126c4fa49f1a7cbb69f065b7": {
      "model_module": "@jupyter-widgets/base",
      "model_module_version": "1.1.0",
      "model_name": "LayoutModel",
      "state": {
       "visibility": "hidden",
       "width": "300px"
      }
     },
     "2dfdbf8577f64ad1a6ac24e4ad96c054": {
      "model_module": "@jupyter-widgets/base",
      "model_module_version": "1.1.0",
      "model_name": "LayoutModel",
      "state": {}
     },
     "2e03dcde96984870ae46938e81a704f1": {
      "model_module": "@jupyter-widgets/controls",
      "model_module_version": "1.4.0",
      "model_name": "VBoxModel",
      "state": {
       "children": [
        "IPY_MODEL_9edddfecf1014b4c82f44c70acb9fba6",
        "IPY_MODEL_14dcfc5a949f4436a73606b907ba2e68"
       ],
       "layout": "IPY_MODEL_4e2e8d8f9b8c4987a18f41981d7da419"
      }
     },
     "2e874502774c44e29dbd667bcc1e7504": {
      "model_module": "@jupyter-widgets/base",
      "model_module_version": "1.1.0",
      "model_name": "LayoutModel",
      "state": {}
     },
     "2f4306148b824c96a58d1ab7bf9765bd": {
      "model_module": "@jupyter-widgets/base",
      "model_module_version": "1.1.0",
      "model_name": "LayoutModel",
      "state": {
       "visibility": "hidden"
      }
     },
     "2f6ca9ccfee84079951ad413e1c35bc5": {
      "model_module": "@jupyter-widgets/controls",
      "model_module_version": "1.4.0",
      "model_name": "ButtonModel",
      "state": {
       "button_style": "warning",
       "description": "Remove model",
       "layout": "IPY_MODEL_d709c03e928d4ec2a4c8a2c04f25a6b3",
       "style": "IPY_MODEL_c6b7aa0218ba4e158b7f86b46fb08ce6"
      }
     },
     "300a5cdf0e5f4b3597b1827ae7d07cb2": {
      "model_module": "@jupyter-widgets/controls",
      "model_module_version": "1.4.0",
      "model_name": "DropdownModel",
      "state": {
       "_options_labels": [
        "segment",
        "covertype",
        "digits",
        "fall_detection",
        "mnist",
        "pen_digits",
        "satellite",
        "vowel"
       ],
       "description": "Dataset:",
       "index": 0,
       "layout": "IPY_MODEL_7bfc34b520254ab2b62f86e83240b985",
       "style": "IPY_MODEL_e4587a5d2c1d43ad9c4239d0d97c504c"
      }
     },
     "302063d4b0124478a3081472826b7856": {
      "model_module": "@jupyter-widgets/controls",
      "model_module_version": "1.4.0",
      "model_name": "DropdownModel",
      "state": {
       "_options_labels": [
        "dt",
        "logit",
        "linear_svc"
       ],
       "index": 1,
       "layout": "IPY_MODEL_a339fcb2919a43e5892b1bf7e173738a",
       "style": "IPY_MODEL_0aebb462df6043dd8cc14a96d3c0cee6"
      }
     },
     "309db0fa616140babb5d8a4f7b3fe1ae": {
      "model_module": "@jupyter-widgets/controls",
      "model_module_version": "1.4.0",
      "model_name": "LabelModel",
      "state": {
       "layout": "IPY_MODEL_9163f1e7c07d472a9931bc3feb2fb2fb",
       "style": "IPY_MODEL_8bd1a0e8f7274ce1a383e7a88a6d3107",
       "value": "Sampler"
      }
     },
     "30cf02598ddb4a3cbe21d63a21ae7cfb": {
      "model_module": "@jupyter-widgets/controls",
      "model_module_version": "1.4.0",
      "model_name": "DropdownModel",
      "state": {
       "_options_labels": [
        "dt",
        "logit",
        "linear_svc"
       ],
       "index": 0,
       "layout": "IPY_MODEL_131f8927dc9d4587a5273574a05c1281",
       "style": "IPY_MODEL_a0bb696cc28d45a29135dde7f7a127ce"
      }
     },
     "30e1d6a1657c4a0dae660ef679acf7a8": {
      "model_module": "@jupyter-widgets/base",
      "model_module_version": "1.1.0",
      "model_name": "LayoutModel",
      "state": {}
     },
     "30f0ac4b5c20423ca558791a6ed86bbd": {
      "model_module": "@jupyter-widgets/controls",
      "model_module_version": "1.4.0",
      "model_name": "DescriptionStyleModel",
      "state": {
       "description_width": ""
      }
     },
     "30f89d2e5ef34fd78bd0ef90773736c5": {
      "model_module": "@jupyter-widgets/base",
      "model_module_version": "1.1.0",
      "model_name": "LayoutModel",
      "state": {}
     },
     "30ff27c9392241bfa0f7133d5593b270": {
      "model_module": "@jupyter-widgets/output",
      "model_module_version": "1.0.0",
      "model_name": "OutputModel",
      "state": {
       "layout": "IPY_MODEL_3190a3e41731430e9b1725ee7a3148cc",
       "outputs": [
        {
         "data": {
          "text/markdown": "\n- Dataset: **segment**\n- Size: **1000**\n        ",
          "text/plain": "<IPython.core.display.Markdown object>"
         },
         "metadata": {},
         "output_type": "display_data"
        },
        {
         "data": {
          "image/png": "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\n",
          "text/plain": "<Figure size 921.6x345.6 with 2 Axes>"
         },
         "metadata": {},
         "output_type": "display_data"
        }
       ]
      }
     },
     "31242e6c57e5447a8c910a9c16aa192d": {
      "model_module": "@jupyter-widgets/base",
      "model_module_version": "1.1.0",
      "model_name": "LayoutModel",
      "state": {}
     },
     "3128b99e82d54b0284be7850ac4cc2d9": {
      "model_module": "@jupyter-widgets/base",
      "model_module_version": "1.1.0",
      "model_name": "LayoutModel",
      "state": {}
     },
     "312cce0705f94891a3a5f37976b4c3e0": {
      "model_module": "@jupyter-widgets/controls",
      "model_module_version": "1.4.0",
      "model_name": "ButtonStyleModel",
      "state": {}
     },
     "313df1096d74435ea10083fb155a6968": {
      "model_module": "@jupyter-widgets/base",
      "model_module_version": "1.1.0",
      "model_name": "LayoutModel",
      "state": {}
     },
     "31451eabe04d4436983e742e29bdcd81": {
      "model_module": "@jupyter-widgets/controls",
      "model_module_version": "1.4.0",
      "model_name": "DropdownModel",
      "state": {
       "_options_labels": [
        "None",
        "black",
        "grey"
       ],
       "index": 0,
       "layout": "IPY_MODEL_58ec7b353b764cf8902ffd0616d50b1b",
       "style": "IPY_MODEL_3a7aa378a02c466bbc8a6dd0a511ccdf"
      }
     },
     "314b07240ed345fe8134c0db1c495850": {
      "model_module": "@jupyter-widgets/controls",
      "model_module_version": "1.4.0",
      "model_name": "SliderStyleModel",
      "state": {
       "description_width": ""
      }
     },
     "315a47e9db65459cba1e9c16e8664ff0": {
      "model_module": "@jupyter-widgets/controls",
      "model_module_version": "1.4.0",
      "model_name": "DescriptionStyleModel",
      "state": {
       "description_width": ""
      }
     },
     "3190a3e41731430e9b1725ee7a3148cc": {
      "model_module": "@jupyter-widgets/base",
      "model_module_version": "1.1.0",
      "model_name": "LayoutModel",
      "state": {}
     },
     "31ac546412594294bf4e27e33d20651f": {
      "model_module": "@jupyter-widgets/base",
      "model_module_version": "1.1.0",
      "model_name": "LayoutModel",
      "state": {}
     },
     "31cf642144e84af0971f7f43272cc680": {
      "model_module": "@jupyter-widgets/base",
      "model_module_version": "1.1.0",
      "model_name": "LayoutModel",
      "state": {}
     },
     "31db596ab11f4c779e8d463df4d3e228": {
      "model_module": "@jupyter-widgets/base",
      "model_module_version": "1.1.0",
      "model_name": "LayoutModel",
      "state": {}
     },
     "3261a2ac648a4b009d1fcc83e752d06f": {
      "model_module": "@jupyter-widgets/controls",
      "model_module_version": "1.4.0",
      "model_name": "DescriptionStyleModel",
      "state": {
       "description_width": ""
      }
     },
     "3293cb21d39443568f109afff14ff9d9": {
      "model_module": "@jupyter-widgets/controls",
      "model_module_version": "1.4.0",
      "model_name": "DescriptionStyleModel",
      "state": {
       "description_width": ""
      }
     },
     "32949eed3a204142964e80b58908c678": {
      "model_module": "@jupyter-widgets/controls",
      "model_module_version": "1.4.0",
      "model_name": "LabelModel",
      "state": {
       "layout": "IPY_MODEL_277a12f69ac94e99ae71475d4f8f504b",
       "style": "IPY_MODEL_1fcda46a217148e59b269467b2020dc2",
       "value": "Box Type"
      }
     },
     "3310e27d0a9747568007ef82373660f6": {
      "model_module": "@jupyter-widgets/controls",
      "model_module_version": "1.4.0",
      "model_name": "IntRangeSliderModel",
      "state": {
       "_model_name": "IntRangeSliderModel",
       "_view_name": "IntRangeSliderView",
       "disabled": true,
       "layout": "IPY_MODEL_aa0570e95101422db4a0fcc8f1f1540a",
       "max": 400,
       "min": 30,
       "step": 10,
       "style": "IPY_MODEL_a3c0a8cec4624f4cbf327fcaa447342d",
       "value": [
        30,
        100
       ]
      }
     },
     "3317a748a34e4972bdff143cc00cedd0": {
      "model_module": "@jupyter-widgets/base",
      "model_module_version": "1.1.0",
      "model_name": "LayoutModel",
      "state": {
       "visibility": "hidden",
       "width": "300px"
      }
     },
     "3384ff567a3a4a179f5e1627099c41b9": {
      "model_module": "@jupyter-widgets/controls",
      "model_module_version": "1.4.0",
      "model_name": "VBoxModel",
      "state": {
       "children": [
        "IPY_MODEL_f30e943752814c0e9f2b19959dbfb33c",
        "IPY_MODEL_287ce91d9e2d46b790493c08166be2db"
       ],
       "layout": "IPY_MODEL_fef3b4747a4e44d2a9cdfd84543d8e23"
      }
     },
     "339877ad60d3491a8ea8205de5a8a737": {
      "model_module": "@jupyter-widgets/base",
      "model_module_version": "1.1.0",
      "model_name": "LayoutModel",
      "state": {}
     },
     "339c82759e2744bbbc58f16a4f6c4b75": {
      "model_module": "@jupyter-widgets/controls",
      "model_module_version": "1.4.0",
      "model_name": "DropdownModel",
      "state": {
       "_options_labels": [
        "None",
        "rbf",
        "nystroem"
       ],
       "index": 1,
       "layout": "IPY_MODEL_be9ec8280cdd4e4f916e90441c92a09f",
       "style": "IPY_MODEL_f31eae015b364115b49988bfe71449df"
      }
     },
     "33c3a07c25e54b9790d108444162e9eb": {
      "model_module": "@jupyter-widgets/controls",
      "model_module_version": "1.4.0",
      "model_name": "VBoxModel",
      "state": {
       "children": [
        "IPY_MODEL_01132272f1f4458890166511539659d2",
        "IPY_MODEL_a6db5c488e3b4e18a5dbe79373470e25",
        "IPY_MODEL_c513a838fd2f47558a7b64b5a9d9a817",
        "IPY_MODEL_e5158e6b7d0a4f0bb0d7fe91b7d4e3cc",
        "IPY_MODEL_20aceab924884a94a1ada3f656c333cc",
        "IPY_MODEL_d7f156b6a6a246ed87eedab7ab94dcfb",
        "IPY_MODEL_67e9f44f11954e1fb0e942a89430af38",
        "IPY_MODEL_efa872d4f33642d689aff7b236bb5208",
        "IPY_MODEL_762a18764b11426d991e6bdec1c1feda"
       ],
       "layout": "IPY_MODEL_42691c7f8c48476788e93efa43637cd4"
      }
     },
     "33e2af2693b4433982a068393f230b03": {
      "model_module": "@jupyter-widgets/base",
      "model_module_version": "1.1.0",
      "model_name": "LayoutModel",
      "state": {}
     },
     "34bf7a5d4f5442179001ffe5aba72f19": {
      "model_module": "@jupyter-widgets/controls",
      "model_module_version": "1.4.0",
      "model_name": "VBoxModel",
      "state": {
       "children": [
        "IPY_MODEL_b96601156c664f00aa771406ce1287cd",
        "IPY_MODEL_ffe48c4569d6489bb6838c8b58742368"
       ],
       "layout": "IPY_MODEL_4193acb20ce140948f34f5d7dc6f092c"
      }
     },
     "34f3225c88bb4d3ba26aac40305a5f73": {
      "model_module": "@jupyter-widgets/controls",
      "model_module_version": "1.4.0",
      "model_name": "ButtonStyleModel",
      "state": {}
     },
     "353a08c133354e21ba1d680dd7bd6d5f": {
      "model_module": "@jupyter-widgets/base",
      "model_module_version": "1.1.0",
      "model_name": "LayoutModel",
      "state": {}
     },
     "35404dd1aaff4b8f97e9070102e908d3": {
      "model_module": "@jupyter-widgets/base",
      "model_module_version": "1.1.0",
      "model_name": "LayoutModel",
      "state": {}
     },
     "359672e9c5a74ef4a7c66a9d0738c955": {
      "model_module": "@jupyter-widgets/base",
      "model_module_version": "1.1.0",
      "model_name": "LayoutModel",
      "state": {}
     },
     "35baad3abe184a0c84ff0946dd5ad0de": {
      "model_module": "@jupyter-widgets/controls",
      "model_module_version": "1.4.0",
      "model_name": "DropdownModel",
      "state": {
       "_options_labels": [
        "dt",
        "logit",
        "linear_svc"
       ],
       "index": 0,
       "layout": "IPY_MODEL_f0ddcce54f8d49baa2c1df999ee505df",
       "style": "IPY_MODEL_108a76bf1e664bcb9eac0f3df09f6a30"
      }
     },
     "36159fa502924dccbb940c9bb1ce2b8b": {
      "model_module": "@jupyter-widgets/base",
      "model_module_version": "1.1.0",
      "model_name": "LayoutModel",
      "state": {}
     },
     "366c019630fe4e1daf50f263a4041394": {
      "model_module": "@jupyter-widgets/controls",
      "model_module_version": "1.4.0",
      "model_name": "LabelModel",
      "state": {
       "layout": "IPY_MODEL_815f79784abf4cd6ad564d1daef24691",
       "style": "IPY_MODEL_56a8b7434b40478ea7c5e5a0d26eca20",
       "value": "Model"
      }
     },
     "367bd5752f7b421cba01bea86a4ddac1": {
      "model_module": "@jupyter-widgets/controls",
      "model_module_version": "1.4.0",
      "model_name": "DescriptionStyleModel",
      "state": {
       "description_width": ""
      }
     },
     "36b0188f3fe342f89a7d9ec5878d4851": {
      "model_module": "@jupyter-widgets/base",
      "model_module_version": "1.1.0",
      "model_name": "LayoutModel",
      "state": {}
     },
     "36bf42b8d4e64a4d890a71320315d472": {
      "model_module": "@jupyter-widgets/base",
      "model_module_version": "1.1.0",
      "model_name": "LayoutModel",
      "state": {
       "width": "90px"
      }
     },
     "36d1c1dc5d964c3cae96ad8d53eb822f": {
      "model_module": "@jupyter-widgets/controls",
      "model_module_version": "1.4.0",
      "model_name": "DropdownModel",
      "state": {
       "_options_labels": [
        "None",
        "rbf",
        "nystroem"
       ],
       "index": 0,
       "layout": "IPY_MODEL_58ec7b353b764cf8902ffd0616d50b1b",
       "style": "IPY_MODEL_a80ec893e2994dde96328c7b6faf8e55"
      }
     },
     "36fb92ca53d1478ca2270bc76d5ed3f4": {
      "model_module": "@jupyter-widgets/base",
      "model_module_version": "1.1.0",
      "model_name": "LayoutModel",
      "state": {}
     },
     "37027dd9f79040b2aad56f100b47dcb0": {
      "model_module": "@jupyter-widgets/base",
      "model_module_version": "1.1.0",
      "model_name": "LayoutModel",
      "state": {
       "visibility": "hidden"
      }
     },
     "3703fe379a8e4f4395fa500ac6c0400a": {
      "model_module": "@jupyter-widgets/base",
      "model_module_version": "1.1.0",
      "model_name": "LayoutModel",
      "state": {}
     },
     "371cd254fee4456a837ff9dfeb0a5b98": {
      "model_module": "@jupyter-widgets/controls",
      "model_module_version": "1.4.0",
      "model_name": "ButtonModel",
      "state": {
       "button_style": "info",
       "description": "Add model",
       "layout": "IPY_MODEL_23770b8597824121a5321f7ce5318071",
       "style": "IPY_MODEL_b31593c8aa4e494a89bb2439c2590b61"
      }
     },
     "374355b0a2e145d2ba0d60ad3c91a059": {
      "model_module": "@jupyter-widgets/base",
      "model_module_version": "1.1.0",
      "model_name": "LayoutModel",
      "state": {}
     },
     "376428e87ac1432986f657c4e8c60a89": {
      "model_module": "@jupyter-widgets/controls",
      "model_module_version": "1.4.0",
      "model_name": "VBoxModel",
      "state": {
       "children": [
        "IPY_MODEL_1c4a49d5c17e4d038afc12eab0bfb4e5",
        "IPY_MODEL_d03373ead9c14b47bfba3c48dd449bc2"
       ],
       "layout": "IPY_MODEL_5798cb98c7d44e0aab8337cdb792b051"
      }
     },
     "376791fc3d864a74accc4f4b3615d14c": {
      "model_module": "@jupyter-widgets/controls",
      "model_module_version": "1.4.0",
      "model_name": "IntSliderModel",
      "state": {
       "disabled": true,
       "layout": "IPY_MODEL_b4e3786202b74fe39f09b03a1a83420d",
       "max": 200,
       "min": 2,
       "style": "IPY_MODEL_ce9f418b7704411dbd860beff41b6415",
       "value": 30
      }
     },
     "379d81ff93b04576bdd7479398bd3506": {
      "model_module": "@jupyter-widgets/base",
      "model_module_version": "1.1.0",
      "model_name": "LayoutModel",
      "state": {
       "width": "90px"
      }
     },
     "37b75d1670534e088cf2a5825cccc4d1": {
      "model_module": "@jupyter-widgets/base",
      "model_module_version": "1.1.0",
      "model_name": "LayoutModel",
      "state": {}
     },
     "37d64891f9db4f2f939e28de8ea92eec": {
      "model_module": "@jupyter-widgets/controls",
      "model_module_version": "1.4.0",
      "model_name": "DescriptionStyleModel",
      "state": {
       "description_width": ""
      }
     },
     "3868e22967414943ae666058d2743448": {
      "model_module": "@jupyter-widgets/controls",
      "model_module_version": "1.4.0",
      "model_name": "LabelModel",
      "state": {
       "layout": "IPY_MODEL_2dfdbf8577f64ad1a6ac24e4ad96c054",
       "style": "IPY_MODEL_59e64965f7a44b899e20fca096641dcc",
       "value": "PCA?"
      }
     },
     "3899846fe2f444f19fc29a85ac5f8394": {
      "model_module": "@jupyter-widgets/controls",
      "model_module_version": "1.4.0",
      "model_name": "VBoxModel",
      "state": {
       "children": [
        "IPY_MODEL_300a5cdf0e5f4b3597b1827ae7d07cb2",
        "IPY_MODEL_0817c425eda14efb9cb2ceed3f617f85",
        "IPY_MODEL_566c20c888254de69ea2a85297b54325",
        "IPY_MODEL_dc7e7f5732a14011afc050297e26d17c",
        "IPY_MODEL_0e7c30ee755c4019b23b19c3f7519ba2",
        "IPY_MODEL_e2a6d4eb4c3a479baa0fa379073a95e9",
        "IPY_MODEL_d5cb596aa1704abb8b79ad4a6fc1f7ab"
       ],
       "layout": "IPY_MODEL_68641e843fc54d50afdac264d89e5270"
      }
     },
     "38b6588d891748fabf14bab425c9cb6e": {
      "model_module": "@jupyter-widgets/base",
      "model_module_version": "1.1.0",
      "model_name": "LayoutModel",
      "state": {}
     },
     "38e5e1a624ed49819739cb508c86f898": {
      "model_module": "@jupyter-widgets/controls",
      "model_module_version": "1.4.0",
      "model_name": "LabelModel",
      "state": {
       "layout": "IPY_MODEL_996330408d844bbe80ca6aed76d28f40",
       "style": "IPY_MODEL_4bfacdb501dc4691a133213dda4674c0",
       "value": "Box Type"
      }
     },
     "399a0f99967941c7a151dacb8a424908": {
      "model_module": "@jupyter-widgets/controls",
      "model_module_version": "1.4.0",
      "model_name": "LabelModel",
      "state": {
       "layout": "IPY_MODEL_b1723866368149f5a2f0a804bbfe7d17",
       "style": "IPY_MODEL_6f6d8001098d4b37b093f9161b4c7b94",
       "value": "Model"
      }
     },
     "39a4ed56205a4dda936dd5e5a2d72822": {
      "model_module": "@jupyter-widgets/base",
      "model_module_version": "1.1.0",
      "model_name": "LayoutModel",
      "state": {}
     },
     "39b744a79ca045b5b6fb204ed1cf3c4b": {
      "model_module": "@jupyter-widgets/controls",
      "model_module_version": "1.4.0",
      "model_name": "RadioButtonsModel",
      "state": {
       "_options_labels": [
        "1000",
        "2000",
        "5000",
        "10000"
       ],
       "description": "Size",
       "index": 0,
       "layout": "IPY_MODEL_78e31b9ea28346ab90564e699fd369df",
       "style": "IPY_MODEL_a8aa220d90d94b578be627590623ba5a"
      }
     },
     "39bd7e77d5f34de5b2cff1ded4ec8b8a": {
      "model_module": "@jupyter-widgets/base",
      "model_module_version": "1.1.0",
      "model_name": "LayoutModel",
      "state": {}
     },
     "3a135bcc1ecd4eff8685a44a86988847": {
      "model_module": "@jupyter-widgets/base",
      "model_module_version": "1.1.0",
      "model_name": "LayoutModel",
      "state": {}
     },
     "3a1c3ffda1af456d9e685abe4a58e2c3": {
      "model_module": "@jupyter-widgets/controls",
      "model_module_version": "1.4.0",
      "model_name": "ButtonModel",
      "state": {
       "button_style": "info",
       "description": "Add model",
       "layout": "IPY_MODEL_3cea6690f77a4f0bb828891b13f914fe",
       "style": "IPY_MODEL_d2c33f3f7b1044a6a953dcf6a120f383"
      }
     },
     "3a45511aa68941eb8beb26e38e55b9d6": {
      "model_module": "@jupyter-widgets/base",
      "model_module_version": "1.1.0",
      "model_name": "LayoutModel",
      "state": {}
     },
     "3a7aa378a02c466bbc8a6dd0a511ccdf": {
      "model_module": "@jupyter-widgets/controls",
      "model_module_version": "1.4.0",
      "model_name": "DescriptionStyleModel",
      "state": {
       "description_width": ""
      }
     },
     "3ad4eceb79bc463caa9a34a377d3cf3d": {
      "model_module": "@jupyter-widgets/base",
      "model_module_version": "1.1.0",
      "model_name": "LayoutModel",
      "state": {}
     },
     "3ae0c024c978487081e1baef35c7f654": {
      "model_module": "@jupyter-widgets/base",
      "model_module_version": "1.1.0",
      "model_name": "LayoutModel",
      "state": {}
     },
     "3b5f2c58e6794b528fc8fe4e0f70d01a": {
      "model_module": "@jupyter-widgets/controls",
      "model_module_version": "1.4.0",
      "model_name": "VBoxModel",
      "state": {
       "children": [
        "IPY_MODEL_12b2f76bdf484319b9828d9c355b7cc2",
        "IPY_MODEL_185d8993cc474ce1a5fe768cb2830b32"
       ],
       "layout": "IPY_MODEL_d74d8756de4b45708ccb2d8f6a8796e1"
      }
     },
     "3bd0b16c48944fb2993b727240cb3772": {
      "model_module": "@jupyter-widgets/controls",
      "model_module_version": "1.4.0",
      "model_name": "VBoxModel",
      "state": {
       "children": [
        "IPY_MODEL_aa1f609ead96484e9959abf12bf61e40",
        "IPY_MODEL_2aad642d8d2b4fdd92b623a3fb485c8b"
       ],
       "layout": "IPY_MODEL_8829a6c9574b49778a20c14e69ba3f4e"
      }
     },
     "3bfb9768e22d47798c169478ca6adb11": {
      "model_module": "@jupyter-widgets/controls",
      "model_module_version": "1.4.0",
      "model_name": "VBoxModel",
      "state": {
       "children": [
        "IPY_MODEL_920c886605bc4781a38b6b866c72feee",
        "IPY_MODEL_47444add663a477f9b15d2de6cd08df2"
       ],
       "layout": "IPY_MODEL_36fb92ca53d1478ca2270bc76d5ed3f4"
      }
     },
     "3c002d7cf11045e281325658d80e0e9b": {
      "model_module": "@jupyter-widgets/base",
      "model_module_version": "1.1.0",
      "model_name": "LayoutModel",
      "state": {}
     },
     "3c0858f49aa048cba78328e514ce0ba0": {
      "model_module": "@jupyter-widgets/controls",
      "model_module_version": "1.4.0",
      "model_name": "VBoxModel",
      "state": {
       "children": [
        "IPY_MODEL_f3c8f2e4ce824fc78d9c518e5f47e7c8",
        "IPY_MODEL_36d1c1dc5d964c3cae96ad8d53eb822f"
       ],
       "layout": "IPY_MODEL_3f1e247fdc3541a283941f29ffaf2346"
      }
     },
     "3c12db524d524e609eec8f1e2e992745": {
      "model_module": "@jupyter-widgets/controls",
      "model_module_version": "1.4.0",
      "model_name": "DescriptionStyleModel",
      "state": {
       "description_width": ""
      }
     },
     "3c4200b41f00494ab0257eaca703a572": {
      "model_module": "@jupyter-widgets/controls",
      "model_module_version": "1.4.0",
      "model_name": "DropdownModel",
      "state": {
       "_options_labels": [
        "None",
        "black",
        "grey"
       ],
       "description": "Bagging",
       "index": 0,
       "layout": "IPY_MODEL_ab99c24d64d64e7ab4a72eb44bbee52a",
       "style": "IPY_MODEL_0d5a5847fe6c4e8aabc6f106cacf5efd"
      }
     },
     "3c69d2b19a59442e9aac19ada60562bc": {
      "model_module": "@jupyter-widgets/base",
      "model_module_version": "1.1.0",
      "model_name": "LayoutModel",
      "state": {}
     },
     "3ca7612558d4406daa11a1368ce14082": {
      "model_module": "@jupyter-widgets/base",
      "model_module_version": "1.1.0",
      "model_name": "LayoutModel",
      "state": {}
     },
     "3cea6690f77a4f0bb828891b13f914fe": {
      "model_module": "@jupyter-widgets/base",
      "model_module_version": "1.1.0",
      "model_name": "LayoutModel",
      "state": {}
     },
     "3d2d18f11e044b59bff166bb31ae3e70": {
      "model_module": "@jupyter-widgets/controls",
      "model_module_version": "1.4.0",
      "model_name": "ButtonModel",
      "state": {
       "button_style": "warning",
       "description": "Remove model",
       "layout": "IPY_MODEL_cebcac4c314b4e5ea30c99825aeff3a6",
       "style": "IPY_MODEL_0422d12a1fea420e9f3e12108a46fa21"
      }
     },
     "3d3c4fd016664fc99b67c53ea347d2c9": {
      "model_module": "@jupyter-widgets/controls",
      "model_module_version": "1.4.0",
      "model_name": "LabelModel",
      "state": {
       "layout": "IPY_MODEL_ec72457165ec4cfb943975673d8bbcc9",
       "style": "IPY_MODEL_9861d7fc2c944967a320b79db9a4c182",
       "value": "Sampler"
      }
     },
     "3d3dfacf02ae43198636da6f3494989c": {
      "model_module": "@jupyter-widgets/controls",
      "model_module_version": "1.4.0",
      "model_name": "CheckboxModel",
      "state": {
       "disabled": false,
       "layout": "IPY_MODEL_9698e17c96be475eb80c7cf2db0a3fbc",
       "style": "IPY_MODEL_d9a69ede08034bdb85bfc4bb4c2e9150",
       "value": false
      }
     },
     "3d856279b5d540feab05c27d253419e0": {
      "model_module": "@jupyter-widgets/base",
      "model_module_version": "1.1.0",
      "model_name": "LayoutModel",
      "state": {}
     },
     "3db2566950cc4630aaabb1efd1ac7977": {
      "model_module": "@jupyter-widgets/controls",
      "model_module_version": "1.4.0",
      "model_name": "VBoxModel",
      "state": {
       "children": [
        "IPY_MODEL_dd70ecdbeda3446a867394934bbc31ef",
        "IPY_MODEL_a548fffd25e74d38b2f1b9881023cfca"
       ],
       "layout": "IPY_MODEL_b8d12a60f3c54833bdf4a79958f5ba46"
      }
     },
     "3df9ab0e3305445bbf6f21b851dec655": {
      "model_module": "@jupyter-widgets/controls",
      "model_module_version": "1.4.0",
      "model_name": "DescriptionStyleModel",
      "state": {
       "description_width": ""
      }
     },
     "3e041cf09ce64d20992f9d008b7a078f": {
      "model_module": "@jupyter-widgets/base",
      "model_module_version": "1.1.0",
      "model_name": "LayoutModel",
      "state": {}
     },
     "3e064036f102481d9825bb499415cc36": {
      "model_module": "@jupyter-widgets/base",
      "model_module_version": "1.1.0",
      "model_name": "LayoutModel",
      "state": {}
     },
     "3e63490e1e834b49a3ee8b5516b33d02": {
      "model_module": "@jupyter-widgets/controls",
      "model_module_version": "1.4.0",
      "model_name": "ButtonModel",
      "state": {
       "button_style": "warning",
       "description": "Remove model",
       "layout": "IPY_MODEL_a63217ef3c464f40afd3aaa1641228b5",
       "style": "IPY_MODEL_0f48150dfd0d451099b975a1bf8f2a60"
      }
     },
     "3e9e1cff4417411a8b8e457f82020844": {
      "model_module": "@jupyter-widgets/controls",
      "model_module_version": "1.4.0",
      "model_name": "DescriptionStyleModel",
      "state": {
       "description_width": ""
      }
     },
     "3ef49c9714294673a4b1f71a83b3c8b7": {
      "model_module": "@jupyter-widgets/controls",
      "model_module_version": "1.4.0",
      "model_name": "DescriptionStyleModel",
      "state": {
       "description_width": ""
      }
     },
     "3f0af7a462234b41bc2e1a5ff5ec7081": {
      "model_module": "@jupyter-widgets/controls",
      "model_module_version": "1.4.0",
      "model_name": "ButtonModel",
      "state": {
       "button_style": "info",
       "description": "Demo0",
       "layout": "IPY_MODEL_8c4c10bbb9dd4ea38fd92ac205dac6ba",
       "style": "IPY_MODEL_253ef90df417492ca50223606f522c79"
      }
     },
     "3f0afc7330bc477ca0cb384a2e66610a": {
      "model_module": "@jupyter-widgets/base",
      "model_module_version": "1.1.0",
      "model_name": "LayoutModel",
      "state": {}
     },
     "3f1e247fdc3541a283941f29ffaf2346": {
      "model_module": "@jupyter-widgets/base",
      "model_module_version": "1.1.0",
      "model_name": "LayoutModel",
      "state": {}
     },
     "3f6e226a35b44af1830243d602735763": {
      "model_module": "@jupyter-widgets/base",
      "model_module_version": "1.1.0",
      "model_name": "LayoutModel",
      "state": {}
     },
     "3f7ca8458c2248b5ac9990c2bf98f482": {
      "model_module": "@jupyter-widgets/controls",
      "model_module_version": "1.4.0",
      "model_name": "VBoxModel",
      "state": {
       "children": [
        "IPY_MODEL_dd83d5bad07747d0b166f8ba85461ff5",
        "IPY_MODEL_839ee30526b2430abef61d2c9f57dd4f"
       ],
       "layout": "IPY_MODEL_0d915d9a80884a4983313e6dd805ad10"
      }
     },
     "3f7f5e29c2f144b8a60614c9b8c65c0e": {
      "model_module": "@jupyter-widgets/controls",
      "model_module_version": "1.4.0",
      "model_name": "ButtonModel",
      "state": {
       "button_style": "info",
       "description": "Demo0",
       "layout": "IPY_MODEL_276b1b8718ba492a807c42d6f582ba23",
       "style": "IPY_MODEL_5631d80376294389bd9e6abdbb0d7932"
      }
     },
     "3fb2c75a61524ac0bb1c6fc8e9561c26": {
      "model_module": "@jupyter-widgets/controls",
      "model_module_version": "1.4.0",
      "model_name": "DescriptionStyleModel",
      "state": {
       "description_width": ""
      }
     },
     "3fdf353b4a194cb58b8314e632d7bddc": {
      "model_module": "@jupyter-widgets/controls",
      "model_module_version": "1.4.0",
      "model_name": "ButtonModel",
      "state": {
       "button_style": "info",
       "description": "Demo0",
       "layout": "IPY_MODEL_0122325074b4486e83c10bbde99cf431",
       "style": "IPY_MODEL_42dea0a6ad37497dbdbbaef97b52d8b7"
      }
     },
     "4001f6c0b0ac4fe5bd223970f5650c96": {
      "model_module": "@jupyter-widgets/controls",
      "model_module_version": "1.4.0",
      "model_name": "ButtonModel",
      "state": {
       "button_style": "warning",
       "description": "Remove model",
       "layout": "IPY_MODEL_3128b99e82d54b0284be7850ac4cc2d9",
       "style": "IPY_MODEL_9aa9e7a7dc0c4e0dbfe79482fa1ee005"
      }
     },
     "4024b7213d91486593481f2afd27be91": {
      "model_module": "@jupyter-widgets/controls",
      "model_module_version": "1.4.0",
      "model_name": "IntRangeSliderModel",
      "state": {
       "_model_name": "IntRangeSliderModel",
       "_view_name": "IntRangeSliderView",
       "description": "Features",
       "layout": "IPY_MODEL_9cfe5f0d51f64164859e30ac97123233",
       "max": 400,
       "min": 30,
       "step": 10,
       "style": "IPY_MODEL_dbe2f6c12270409f990d9c9c75421d07",
       "value": [
        30,
        100
       ]
      }
     },
     "40d8b9485ef1434e92fc42f4a32cae99": {
      "model_module": "@jupyter-widgets/controls",
      "model_module_version": "1.4.0",
      "model_name": "ButtonStyleModel",
      "state": {}
     },
     "4181ac1a3aba4548894c89e1d2f33b1a": {
      "model_module": "@jupyter-widgets/base",
      "model_module_version": "1.1.0",
      "model_name": "LayoutModel",
      "state": {}
     },
     "41856d7406254e3e83b4ed714d8b149a": {
      "model_module": "@jupyter-widgets/base",
      "model_module_version": "1.1.0",
      "model_name": "LayoutModel",
      "state": {
       "border": "3px solid black"
      }
     },
     "4193acb20ce140948f34f5d7dc6f092c": {
      "model_module": "@jupyter-widgets/base",
      "model_module_version": "1.1.0",
      "model_name": "LayoutModel",
      "state": {}
     },
     "41b5215209bd455ea980fb12e3f5a051": {
      "model_module": "@jupyter-widgets/base",
      "model_module_version": "1.1.0",
      "model_name": "LayoutModel",
      "state": {}
     },
     "41e29f478c82423b8278c34f6d594bf6": {
      "model_module": "@jupyter-widgets/controls",
      "model_module_version": "1.4.0",
      "model_name": "SliderStyleModel",
      "state": {
       "description_width": ""
      }
     },
     "42459d215d144510ac76c24ce7fb9481": {
      "model_module": "@jupyter-widgets/output",
      "model_module_version": "1.0.0",
      "model_name": "OutputModel",
      "state": {
       "layout": "IPY_MODEL_a1b468f19d0c46fc8e22342c7e6aab73"
      }
     },
     "42691c7f8c48476788e93efa43637cd4": {
      "model_module": "@jupyter-widgets/base",
      "model_module_version": "1.1.0",
      "model_name": "LayoutModel",
      "state": {}
     },
     "426e0deb65874212917f1036f6d39b10": {
      "model_module": "@jupyter-widgets/base",
      "model_module_version": "1.1.0",
      "model_name": "LayoutModel",
      "state": {}
     },
     "42abc4e20d494966be5274f686fb7297": {
      "model_module": "@jupyter-widgets/base",
      "model_module_version": "1.1.0",
      "model_name": "LayoutModel",
      "state": {}
     },
     "42dea0a6ad37497dbdbbaef97b52d8b7": {
      "model_module": "@jupyter-widgets/controls",
      "model_module_version": "1.4.0",
      "model_name": "ButtonStyleModel",
      "state": {}
     },
     "430fc892e9fa4b74a0d1d6079f118b85": {
      "model_module": "@jupyter-widgets/controls",
      "model_module_version": "1.4.0",
      "model_name": "ButtonStyleModel",
      "state": {}
     },
     "433ee51b39cb4d5b96cad46241c3f209": {
      "model_module": "@jupyter-widgets/controls",
      "model_module_version": "1.4.0",
      "model_name": "CheckboxModel",
      "state": {
       "disabled": false,
       "layout": "IPY_MODEL_c0dc503760f14885adffd7a58566b3e0",
       "style": "IPY_MODEL_c15e55dc2720410ba3b7a74f98cd9182",
       "value": true
      }
     },
     "4361163803164abe934a9edc3cc355e5": {
      "model_module": "@jupyter-widgets/controls",
      "model_module_version": "1.4.0",
      "model_name": "DescriptionStyleModel",
      "state": {
       "description_width": ""
      }
     },
     "4391d18ba52c4734840a25f06d94b091": {
      "model_module": "@jupyter-widgets/controls",
      "model_module_version": "1.4.0",
      "model_name": "LabelModel",
      "state": {
       "layout": "IPY_MODEL_b85761897ca747b1878ccd66766a1475",
       "style": "IPY_MODEL_222b5da53537431d87c59a369aae9f6a",
       "value": "Sampler"
      }
     },
     "43a06f7db1654cfbbebd86a0c84b7849": {
      "model_module": "@jupyter-widgets/controls",
      "model_module_version": "1.4.0",
      "model_name": "DescriptionStyleModel",
      "state": {
       "description_width": ""
      }
     },
     "43a2cce297f448b9bc1f00f8aef292db": {
      "model_module": "@jupyter-widgets/controls",
      "model_module_version": "1.4.0",
      "model_name": "DropdownModel",
      "state": {
       "_options_labels": [
        "None",
        "black",
        "grey"
       ],
       "index": 0,
       "layout": "IPY_MODEL_131f8927dc9d4587a5273574a05c1281",
       "style": "IPY_MODEL_b20514b6658a46ce82dbee26e0e1a3c5"
      }
     },
     "446c918f13b94c6cae720781e13a3af7": {
      "model_module": "@jupyter-widgets/controls",
      "model_module_version": "1.4.0",
      "model_name": "DescriptionStyleModel",
      "state": {
       "description_width": ""
      }
     },
     "448992744f8a4b5dbc29a659a4290208": {
      "model_module": "@jupyter-widgets/controls",
      "model_module_version": "1.4.0",
      "model_name": "DescriptionStyleModel",
      "state": {
       "description_width": ""
      }
     },
     "44b5d2921c714b22986072b65183e372": {
      "model_module": "@jupyter-widgets/controls",
      "model_module_version": "1.4.0",
      "model_name": "ButtonStyleModel",
      "state": {}
     },
     "44e25a04dd4c4fc6bedc5f0e8c80d8e2": {
      "model_module": "@jupyter-widgets/base",
      "model_module_version": "1.1.0",
      "model_name": "LayoutModel",
      "state": {}
     },
     "4509b20fe29d4d51a946af4f18f51030": {
      "model_module": "@jupyter-widgets/controls",
      "model_module_version": "1.4.0",
      "model_name": "SliderStyleModel",
      "state": {
       "description_width": ""
      }
     },
     "45f2f425c3ea4189a585d86ddeffefd2": {
      "model_module": "@jupyter-widgets/base",
      "model_module_version": "1.1.0",
      "model_name": "LayoutModel",
      "state": {}
     },
     "461a739f750943e39fcce14252ab4683": {
      "model_module": "@jupyter-widgets/base",
      "model_module_version": "1.1.0",
      "model_name": "LayoutModel",
      "state": {}
     },
     "4628f2efbb82418796c2433df1388a60": {
      "model_module": "@jupyter-widgets/base",
      "model_module_version": "1.1.0",
      "model_name": "LayoutModel",
      "state": {}
     },
     "46319153bddf468aa8330968d65a7803": {
      "model_module": "@jupyter-widgets/controls",
      "model_module_version": "1.4.0",
      "model_name": "DescriptionStyleModel",
      "state": {
       "description_width": ""
      }
     },
     "46fa3a9aadb44629a260329ac75c7938": {
      "model_module": "@jupyter-widgets/base",
      "model_module_version": "1.1.0",
      "model_name": "LayoutModel",
      "state": {}
     },
     "473b2e4a9b40474fbe4522514eb8af72": {
      "model_module": "@jupyter-widgets/base",
      "model_module_version": "1.1.0",
      "model_name": "LayoutModel",
      "state": {}
     },
     "47444add663a477f9b15d2de6cd08df2": {
      "model_module": "@jupyter-widgets/controls",
      "model_module_version": "1.4.0",
      "model_name": "DropdownModel",
      "state": {
       "_options_labels": [
        "dt",
        "logit",
        "linear_svc"
       ],
       "index": 0,
       "layout": "IPY_MODEL_9e000b4f3e774a26bb3d2fb342b6aef1",
       "style": "IPY_MODEL_446c918f13b94c6cae720781e13a3af7"
      }
     },
     "4754092c6bc849f091ea46a4e4850d32": {
      "model_module": "@jupyter-widgets/controls",
      "model_module_version": "1.4.0",
      "model_name": "ButtonModel",
      "state": {
       "button_style": "info",
       "description": "Add model",
       "layout": "IPY_MODEL_6b8886493520483e979891ea077ef122",
       "style": "IPY_MODEL_246fe51667914cfb85bd636b926b1a14"
      }
     },
     "47660e48a71d460a81a30f1ba87ad451": {
      "model_module": "@jupyter-widgets/controls",
      "model_module_version": "1.4.0",
      "model_name": "DropdownModel",
      "state": {
       "_options_labels": [
        "None",
        "black",
        "grey"
       ],
       "index": 2,
       "layout": "IPY_MODEL_b028aa16c51a47edb4bb7f6185eed36f",
       "style": "IPY_MODEL_0d8bf9009ec54e33803ef7d3dc54852f"
      }
     },
     "4782cf8df8454c9db7194851306160ec": {
      "model_module": "@jupyter-widgets/base",
      "model_module_version": "1.1.0",
      "model_name": "LayoutModel",
      "state": {}
     },
     "47bc2db67d9341999313a196eebc867c": {
      "model_module": "@jupyter-widgets/base",
      "model_module_version": "1.1.0",
      "model_name": "LayoutModel",
      "state": {}
     },
     "47e83e03ec09408e8e5ff1dfd6b4de46": {
      "model_module": "@jupyter-widgets/controls",
      "model_module_version": "1.4.0",
      "model_name": "DescriptionStyleModel",
      "state": {
       "description_width": ""
      }
     },
     "482552b8ea644404b216929d097d15a8": {
      "model_module": "@jupyter-widgets/controls",
      "model_module_version": "1.4.0",
      "model_name": "VBoxModel",
      "state": {
       "children": [
        "IPY_MODEL_266438497514493b95151557623bdef2",
        "IPY_MODEL_c96dab83e2c2439fa346e12bfe1b736a"
       ],
       "layout": "IPY_MODEL_e66590cdabfb4c6e9adce00585ed7734"
      }
     },
     "4827811adaa6494489025ac2632f68c7": {
      "model_module": "@jupyter-widgets/controls",
      "model_module_version": "1.4.0",
      "model_name": "ButtonStyleModel",
      "state": {}
     },
     "4832c7fddcec4485973cb385dbaad293": {
      "model_module": "@jupyter-widgets/controls",
      "model_module_version": "1.4.0",
      "model_name": "DropdownModel",
      "state": {
       "_options_labels": [
        "segment",
        "covertype",
        "digits",
        "fall_detection",
        "mnist",
        "pen_digits",
        "satellite",
        "vowel"
       ],
       "description": "Dataset:",
       "index": 0,
       "layout": "IPY_MODEL_64ef0b7a7afa42439881ae6bf30aa856",
       "style": "IPY_MODEL_de5888a5af1642f5adb2070dda70826b"
      }
     },
     "483713989b304f8b87bd603dd173f0be": {
      "model_module": "@jupyter-widgets/controls",
      "model_module_version": "1.4.0",
      "model_name": "RadioButtonsModel",
      "state": {
       "_options_labels": [
        "1000",
        "2000",
        "5000",
        "10000"
       ],
       "description": "Size",
       "index": 0,
       "layout": "IPY_MODEL_53de7edc576e4e8589531825bc33a917",
       "style": "IPY_MODEL_7b487c443fc04aeeb23c371389185b20"
      }
     },
     "48586efcd0424b65b96399372c4b62fb": {
      "model_module": "@jupyter-widgets/base",
      "model_module_version": "1.1.0",
      "model_name": "LayoutModel",
      "state": {}
     },
     "48a168f8a4094c29b8f7fc6e7e6e27a4": {
      "model_module": "@jupyter-widgets/base",
      "model_module_version": "1.1.0",
      "model_name": "LayoutModel",
      "state": {}
     },
     "48cb6e5c73a14984aea94df4b1868f06": {
      "model_module": "@jupyter-widgets/controls",
      "model_module_version": "1.4.0",
      "model_name": "VBoxModel",
      "state": {
       "children": [
        "IPY_MODEL_ae07ba5e477f40ecafa5274c6228ece5",
        "IPY_MODEL_7b8e5b0995e74b7c8cdff6f7a18a9208"
       ],
       "layout": "IPY_MODEL_c27624949f8e4dfca5fb6506b01a3522"
      }
     },
     "494d863cfdf4422d88986703c2aab2b1": {
      "model_module": "@jupyter-widgets/base",
      "model_module_version": "1.1.0",
      "model_name": "LayoutModel",
      "state": {}
     },
     "4952d454d40949c59ce6a92e40e9eb7a": {
      "model_module": "@jupyter-widgets/base",
      "model_module_version": "1.1.0",
      "model_name": "LayoutModel",
      "state": {}
     },
     "49686b7fc08544baa3525e0761b0894a": {
      "model_module": "@jupyter-widgets/base",
      "model_module_version": "1.1.0",
      "model_name": "LayoutModel",
      "state": {}
     },
     "49aa5ded73d04fa3922168cff3bbe234": {
      "model_module": "@jupyter-widgets/base",
      "model_module_version": "1.1.0",
      "model_name": "LayoutModel",
      "state": {}
     },
     "49c8d829748d46d4b8540af474c78efd": {
      "model_module": "@jupyter-widgets/base",
      "model_module_version": "1.1.0",
      "model_name": "LayoutModel",
      "state": {}
     },
     "49e9e1b8b9d8436baf676fc7dfc8cfbc": {
      "model_module": "@jupyter-widgets/base",
      "model_module_version": "1.1.0",
      "model_name": "LayoutModel",
      "state": {}
     },
     "49eaf6486f7e4a4c9cfde87cb2bd0904": {
      "model_module": "@jupyter-widgets/controls",
      "model_module_version": "1.4.0",
      "model_name": "DescriptionStyleModel",
      "state": {
       "description_width": ""
      }
     },
     "4a01e9e4445e46e2b5631ee170a791e0": {
      "model_module": "@jupyter-widgets/base",
      "model_module_version": "1.1.0",
      "model_name": "LayoutModel",
      "state": {
       "visibility": "hidden",
       "width": "300px"
      }
     },
     "4a06136f43b441ab858b35b0fac0d351": {
      "model_module": "@jupyter-widgets/controls",
      "model_module_version": "1.4.0",
      "model_name": "DescriptionStyleModel",
      "state": {
       "description_width": ""
      }
     },
     "4a1c560e93ec40609dfae0724303ed10": {
      "model_module": "@jupyter-widgets/base",
      "model_module_version": "1.1.0",
      "model_name": "LayoutModel",
      "state": {}
     },
     "4ac72964db594243bfcb89755ed42909": {
      "model_module": "@jupyter-widgets/base",
      "model_module_version": "1.1.0",
      "model_name": "LayoutModel",
      "state": {}
     },
     "4acb6d8e8bd34050918b8a436be76098": {
      "model_module": "@jupyter-widgets/base",
      "model_module_version": "1.1.0",
      "model_name": "LayoutModel",
      "state": {}
     },
     "4b4aab07dd6244239843200d1e4716c4": {
      "model_module": "@jupyter-widgets/controls",
      "model_module_version": "1.4.0",
      "model_name": "VBoxModel",
      "state": {
       "children": [
        "IPY_MODEL_3d3c4fd016664fc99b67c53ea347d2c9",
        "IPY_MODEL_688adb1a8eee4cc794132b0985cec75a"
       ],
       "layout": "IPY_MODEL_0394e34f80aa450db8ce5de3ac3786f9"
      }
     },
     "4b56bb42c5af440fac04c38406ab15d2": {
      "model_module": "@jupyter-widgets/controls",
      "model_module_version": "1.4.0",
      "model_name": "ButtonStyleModel",
      "state": {}
     },
     "4bfacdb501dc4691a133213dda4674c0": {
      "model_module": "@jupyter-widgets/controls",
      "model_module_version": "1.4.0",
      "model_name": "DescriptionStyleModel",
      "state": {
       "description_width": ""
      }
     },
     "4c1a3207ce0a49ffac85b3587d3975e2": {
      "model_module": "@jupyter-widgets/base",
      "model_module_version": "1.1.0",
      "model_name": "LayoutModel",
      "state": {
       "width": "90px"
      }
     },
     "4c98d00efe7d46a5a3ec7f4f26bc7196": {
      "model_module": "@jupyter-widgets/base",
      "model_module_version": "1.1.0",
      "model_name": "LayoutModel",
      "state": {
       "visibility": "hidden",
       "width": "300px"
      }
     },
     "4cbf92a763a1484585424b2317367120": {
      "model_module": "@jupyter-widgets/controls",
      "model_module_version": "1.4.0",
      "model_name": "LabelModel",
      "state": {
       "layout": "IPY_MODEL_117dd1ae2ff5466cb3348c6e850dd808",
       "style": "IPY_MODEL_23acd471a9dd4b32b448676bfe6ef479",
       "value": "Box Type"
      }
     },
     "4d345c2e6698481f80a9377191a23156": {
      "model_module": "@jupyter-widgets/base",
      "model_module_version": "1.1.0",
      "model_name": "LayoutModel",
      "state": {}
     },
     "4d50cfb4f6974b20806571bb6030a2e0": {
      "model_module": "@jupyter-widgets/controls",
      "model_module_version": "1.4.0",
      "model_name": "CheckboxModel",
      "state": {
       "disabled": false,
       "layout": "IPY_MODEL_60e65e373b154c299f2afce1a13871f3",
       "style": "IPY_MODEL_6ceb56f96ae2443ab76ecfac197d41a7",
       "value": false
      }
     },
     "4d534b3456684c3fbcdba06e35803909": {
      "model_module": "@jupyter-widgets/base",
      "model_module_version": "1.1.0",
      "model_name": "LayoutModel",
      "state": {}
     },
     "4d60863d91c84ff7a13abe9d2ac4ef95": {
      "model_module": "@jupyter-widgets/controls",
      "model_module_version": "1.4.0",
      "model_name": "DescriptionStyleModel",
      "state": {
       "description_width": ""
      }
     },
     "4d6bca27cf314804bbc4bdf93b0e017a": {
      "model_module": "@jupyter-widgets/base",
      "model_module_version": "1.1.0",
      "model_name": "LayoutModel",
      "state": {}
     },
     "4d7351d654c14902a57dd0bf2c646fdd": {
      "model_module": "@jupyter-widgets/controls",
      "model_module_version": "1.4.0",
      "model_name": "HBoxModel",
      "state": {
       "children": [
        "IPY_MODEL_d009af4e699b4b1b90dd048ea4e9713d",
        "IPY_MODEL_376428e87ac1432986f657c4e8c60a89",
        "IPY_MODEL_f29b0a8666864ca8b86a5974b8c6c667",
        "IPY_MODEL_294cde4266514071bd5b34b6994f42fc",
        "IPY_MODEL_48cb6e5c73a14984aea94df4b1868f06"
       ],
       "layout": "IPY_MODEL_d8c500952f9a4ffbaee49fa69fd5ccdd"
      }
     },
     "4db297e4e1cf48fdb1f1de6ed1270763": {
      "model_module": "@jupyter-widgets/controls",
      "model_module_version": "1.4.0",
      "model_name": "DescriptionStyleModel",
      "state": {
       "description_width": ""
      }
     },
     "4dc59b414b6345db9e96dc35d0a13af3": {
      "model_module": "@jupyter-widgets/controls",
      "model_module_version": "1.4.0",
      "model_name": "IntSliderModel",
      "state": {
       "disabled": true,
       "layout": "IPY_MODEL_4a01e9e4445e46e2b5631ee170a791e0",
       "max": 200,
       "min": 2,
       "style": "IPY_MODEL_1dcf3c3bbea24bc494e33a78b781cf46",
       "value": 30
      }
     },
     "4dd04aab17a040938f67798137b616b5": {
      "model_module": "@jupyter-widgets/controls",
      "model_module_version": "1.4.0",
      "model_name": "VBoxModel",
      "state": {
       "children": [
        "IPY_MODEL_5b62c309bfc44253afc996fbb05a8cae",
        "IPY_MODEL_f7b14301103c4e1cb68e383de8649cb7"
       ],
       "layout": "IPY_MODEL_59d9ec25649f44d2bf850ae72342ec5c"
      }
     },
     "4dd92d1049314a6db38d432607e3b2b3": {
      "model_module": "@jupyter-widgets/controls",
      "model_module_version": "1.4.0",
      "model_name": "LabelModel",
      "state": {
       "layout": "IPY_MODEL_8e46be4306a344a782b6139d99621245",
       "style": "IPY_MODEL_d90505ddbb6643db99fd4a7bcd45cb5e",
       "value": "Model"
      }
     },
     "4e0cbe1a4ba7457b862cf13bd61fb97d": {
      "model_module": "@jupyter-widgets/controls",
      "model_module_version": "1.4.0",
      "model_name": "VBoxModel",
      "state": {
       "children": [
        "IPY_MODEL_9b2eac8fd56e4e3bb795cc2ef8166601",
        "IPY_MODEL_f70d15a4d03b4a9d88a112018b3b2357",
        "IPY_MODEL_0b9e1f1efa9f4fb5b4454ce3ec3c0282",
        "IPY_MODEL_f6228205b3894ecda5a6e9a8c084b962",
        "IPY_MODEL_9feb68bd13c54f5e89b1679530f03a6d",
        "IPY_MODEL_c1e7f8e525d84a2d8474f43ec4088fd1",
        "IPY_MODEL_5e87cdfcbc40414290acb5bfe5503b1c"
       ],
       "layout": "IPY_MODEL_58cea6183d444040bcfdebded82bc6af"
      }
     },
     "4e2e8d8f9b8c4987a18f41981d7da419": {
      "model_module": "@jupyter-widgets/base",
      "model_module_version": "1.1.0",
      "model_name": "LayoutModel",
      "state": {}
     },
     "4e34704641b7450eb3a0575b3bac532f": {
      "model_module": "@jupyter-widgets/controls",
      "model_module_version": "1.4.0",
      "model_name": "LabelModel",
      "state": {
       "layout": "IPY_MODEL_4628f2efbb82418796c2433df1388a60",
       "style": "IPY_MODEL_cd9a4fe37d2548c28267ceddcddf534e",
       "value": "PCA?"
      }
     },
     "4e60486420ba48f8bb361492d3820e65": {
      "model_module": "@jupyter-widgets/controls",
      "model_module_version": "1.4.0",
      "model_name": "SliderStyleModel",
      "state": {
       "description_width": ""
      }
     },
     "4e70986d676c4c75b75f8094207e79ed": {
      "model_module": "@jupyter-widgets/controls",
      "model_module_version": "1.4.0",
      "model_name": "DescriptionStyleModel",
      "state": {
       "description_width": ""
      }
     },
     "4e7eb5827d144753b26863cb7d3e4cc9": {
      "model_module": "@jupyter-widgets/controls",
      "model_module_version": "1.4.0",
      "model_name": "ButtonStyleModel",
      "state": {}
     },
     "4e83fc41382d4614868484c79ceded2a": {
      "model_module": "@jupyter-widgets/controls",
      "model_module_version": "1.4.0",
      "model_name": "DropdownModel",
      "state": {
       "_options_labels": [
        "rbf",
        "nystroem"
       ],
       "description": "Sampler",
       "index": 0,
       "layout": "IPY_MODEL_48586efcd0424b65b96399372c4b62fb",
       "style": "IPY_MODEL_70ab592fdd594ffaa727cba1d82e07cc"
      }
     },
     "4ea1e1f67ff94e648994281f60525814": {
      "model_module": "@jupyter-widgets/controls",
      "model_module_version": "1.4.0",
      "model_name": "DescriptionStyleModel",
      "state": {
       "description_width": ""
      }
     },
     "4ea366ddf3914637b6a505e329c30a3d": {
      "model_module": "@jupyter-widgets/controls",
      "model_module_version": "1.4.0",
      "model_name": "VBoxModel",
      "state": {
       "children": [
        "IPY_MODEL_59e74f508bff4b70bd87708b84cd7176",
        "IPY_MODEL_a4b1ec451a42402ab3747b073e2d146c"
       ],
       "layout": "IPY_MODEL_b2c194306a394ac7a76b4b697f0f20b1"
      }
     },
     "4eb26f69c7ea44e28cbf5ad36f263240": {
      "model_module": "@jupyter-widgets/output",
      "model_module_version": "1.0.0",
      "model_name": "OutputModel",
      "state": {
       "layout": "IPY_MODEL_5bbb66cc3e294c24bf341e4b045d3684",
       "outputs": [
        {
         "data": {
          "text/markdown": "\n- Dataset: **segment**\n- Size: **1000**\n- Model: **dt**\n- Sampler: **rbf**\n- N. estim.: **None**\n        ",
          "text/plain": "<IPython.core.display.Markdown object>"
         },
         "metadata": {},
         "output_type": "display_data"
        },
        {
         "data": {
          "image/png": "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\n",
          "text/plain": "<Figure size 921.6x345.6 with 2 Axes>"
         },
         "metadata": {},
         "output_type": "display_data"
        }
       ]
      }
     },
     "4eba1edff9ba4e1899003d31b9427785": {
      "model_module": "@jupyter-widgets/base",
      "model_module_version": "1.1.0",
      "model_name": "LayoutModel",
      "state": {}
     },
     "4ecf5cf6d37a450887851a6691d5910a": {
      "model_module": "@jupyter-widgets/controls",
      "model_module_version": "1.4.0",
      "model_name": "RadioButtonsModel",
      "state": {
       "_options_labels": [
        "1000",
        "2000",
        "5000",
        "10000"
       ],
       "description": "Size",
       "index": 0,
       "layout": "IPY_MODEL_3f6e226a35b44af1830243d602735763",
       "style": "IPY_MODEL_b2d6a8b842ed4b7d95a8ada7c1696b9b"
      }
     },
     "4f232a1d065744cea760b16cb3834e02": {
      "model_module": "@jupyter-widgets/controls",
      "model_module_version": "1.4.0",
      "model_name": "SliderStyleModel",
      "state": {
       "description_width": ""
      }
     },
     "4f340f7348fa4f0486385cf5c3d79280": {
      "model_module": "@jupyter-widgets/base",
      "model_module_version": "1.1.0",
      "model_name": "LayoutModel",
      "state": {}
     },
     "4f38c3f2ef734442b2affd4655f47b42": {
      "model_module": "@jupyter-widgets/controls",
      "model_module_version": "1.4.0",
      "model_name": "VBoxModel",
      "state": {
       "children": [
        "IPY_MODEL_236a589242a944f199cfe48a18d5b85b",
        "IPY_MODEL_eacd26d9bed24e0eb1474a9dc519abc1"
       ],
       "layout": "IPY_MODEL_6a531440d0134cd59ada79c33ed4dcb9"
      }
     },
     "4f423979dc90414eaa85e00192b56819": {
      "model_module": "@jupyter-widgets/base",
      "model_module_version": "1.1.0",
      "model_name": "LayoutModel",
      "state": {}
     },
     "4fc1b7b9244b4c4cb592b04c41be75f8": {
      "model_module": "@jupyter-widgets/controls",
      "model_module_version": "1.4.0",
      "model_name": "VBoxModel",
      "state": {
       "children": [
        "IPY_MODEL_0bdbd9345edf417b99531457bf0f7013",
        "IPY_MODEL_7c364f8b60aa4dd199718910c7012255",
        "IPY_MODEL_d00a1598662b4851afc338a9cc8e20b0",
        "IPY_MODEL_c7b89acace594428b12386ee90f8bc3e",
        "IPY_MODEL_f67eae1017f543c687231e68b4963682",
        "IPY_MODEL_7dbb0ce1852c44b7b2cdadce689997e0",
        "IPY_MODEL_555f2ee7c0554b19945f41f2372afab6"
       ],
       "layout": "IPY_MODEL_bcfbe85c8d41475385d9f2ce3b6e7020"
      }
     },
     "4fe240a1c6cc419eb8afba0c599b18ff": {
      "model_module": "@jupyter-widgets/controls",
      "model_module_version": "1.4.0",
      "model_name": "SliderStyleModel",
      "state": {
       "description_width": ""
      }
     },
     "4ff2a72d943d4450b5946e1288496d18": {
      "model_module": "@jupyter-widgets/controls",
      "model_module_version": "1.4.0",
      "model_name": "DescriptionStyleModel",
      "state": {
       "description_width": ""
      }
     },
     "5005dbdce87d49268453e6a47d59a1da": {
      "model_module": "@jupyter-widgets/output",
      "model_module_version": "1.0.0",
      "model_name": "OutputModel",
      "state": {
       "layout": "IPY_MODEL_7db17b4808ef46a594b6fe95c2ca6363",
       "outputs": [
        {
         "data": {
          "text/markdown": "\n- Dataset: **segment**\n- Size: **1000**\n        ",
          "text/plain": "<IPython.core.display.Markdown object>"
         },
         "metadata": {},
         "output_type": "display_data"
        },
        {
         "data": {
          "image/png": "iVBORw0KGgoAAAANSUhEUgAAAv8AAAE0CAYAAAC7PFzIAAAABHNCSVQICAgIfAhkiAAAAAlwSFlzAAALEgAACxIB0t1+/AAAADl0RVh0U29mdHdhcmUAbWF0cGxvdGxpYiB2ZXJzaW9uIDMuMC4wLCBodHRwOi8vbWF0cGxvdGxpYi5vcmcvqOYd8AAAIABJREFUeJzs3Xl8lNW9+PHPmSUJWSEhKwmyG5CQsIUqslirFaQqF7VSrXIttT9taxer0ttartr6QtTb1tJbr2JVeinlCrhbrSJhE5WIQTAEEiAkITvZJttklvP7YyZD9kz27ft+vfIy8yznOc8Ynu+ZM+d8j9JaI4QQQgghhBj+DANdASGEEEIIIUT/kMa/EEIIIYQQI4Q0/oUQQgghhBghpPEvhBBCCCHECCGNfyGEEEIIIUYIafwLIYQQQggxQkjjXwghhBCiCaWUUSlVrZQaP9B1EaK3SeNfDFnuB3Pjj1MpVdfk9e09KPcTpdQdvVlXIYQQfae344HW2qG1DtRa5/RFfYUYSKaBroAQ3aW1Dmz8XSmVDazVWn84cDVqTSllANBaOzva5kU5Jq21vfdrKIQQQ19X48FgeaZKjBADQXr+xbDl/tr2EaXUGaVUqVJqq1JqtHtfgFLqH0qpMqVUhVLqU6XUGKXUM8B8YLO7x+iZdspe5D6nQil1RCm1sMm+T5RSjymlPgVqgZh2to1XSr3rrsMppdRdTcrYoJT6u1Jqu1LKAtzWh2+VEEIMa0qp37qfp9vcz9Q7lFKXu5/NFUqpAqXUs0ops/t4k1JKK6UmuF//r3v/P5VSFqXUIaXUxA6ut7BJ2WlKqcVN9h1QSj2ulDoE1ADj29kWq5R62x0jMpVSd3d0P33xvonhSRr/Yjj7BXAtcCUQC9iA37v3rcX1zdc4YCzwI6BBa/0AcBhXr1Gg+3Uz7mDwOvArIBT4NfC6UmpMk8PuAO4EgoDCdra9CpwEooHvAL9v+iECWAW8AoQAO7v5HgghhHBZCfwd1zN1O2AHfoIrBiwErgN+0MH53wEewfXczwEeb+sgpVQc8Caw3n3sOmCXUiqsyWHfBe4GgoG8drZtB84CMcC3gY1KqSUd3I8QXpHGvxjO/h+wTmudr7WuBx4Fvq2UUrg+CIQDk7XWdq31Ya11jZfl3gXs0lp/qLV2aq3fBdJxfdBotFlrfVJrbWvyVaxnGzARSAT+Q2tt1Vqn4mrof7dJGXu11u+6r1HX3TdBCCEEAAe01m81PlPdz/1P3THgDPA8sKSD83dorVPdz/CtQFI7x90JvKm1ft99rfeAo7g+XDT6q9b6RIsY4dkGxAHJuGJYvdb6CPASzWNEs/vp8rshRiwZ8y+GJXcDPw54Vymlm+wyAGHAi0AUsEMpFQhsAR7RWju8KP4SYLVS6pYm28y4emca5bZxXtNtMUBJiwf2OeDqTsoQQgjRPc2eqUqpeOAZYC7gj6tN9GkH5xc2+b0WCGznuMYYsbLJNjPwXnt1aWNbDFDaolPqHDCzkzKE6JT0/IthSWutgfPA17XWo5v8+GmtS9297b/RWscDi4FbuDiuXrdXrlsurl78puUGaK1/3+SYtspoui0fCFdKjWqybby7zh2VIYQQontaPlP/BzgOTNFaBwO/AVQvXCcXeKmNGPFUB3VpuS0fGKuUCmiyTWKE6BXS+BfD2XPABvf4S5RSEUqpb7l//4ZSaoY7q0IVrrGfjZkVioBJHZT7CnCLUupq96TiUe7fo7pQtyzgGPBbpZSvUmoOruFE/9ulOxRCCNFdQUAlUKOUmk7H4/274m/ASqXUNe4Y4aeUukopFdPpmW5a67NAKvCEO0YkAf+OxAjRC6TxL4azjcCHwEfubAgfA3Pc+8YBbwAWXD0/73JxwtTvgTuVUuVKqY0tC3WPDV2Faw5BKa6vYn9CF/49ub+ZuAWYgeur5O3Ag1rrA128RyGEEN3zAK5OFwuubwF6ZdKs1job12TcR4ASXJODH6Drba5vA1NxxYgduOaIpfRGHcXIplxtECGEEEIIIcRwJz3/QgghhBBCjBDS+BdCCCGEEGKEkMa/EEIIIYQQI4Q0/oUQQgghhBghpPEvhBBCCCHECDGkVvgdO3asnjBhQrfOrampISAgoPMDB5jUs3dJPXvXUKknDJ26dreen3/+eanWOrwPqjRkSEwYPIZKPWHo1FXq2btGQj29jgta6yHzM3fuXN1de/bs6fa5/Unq2buknr1rqNRT66FT1+7WE0jVg+C5PJA/EhMGj6FST62HTl2lnr1rJNTT27ggw36EEEIIIYQYIaTxL4QQQgghxAghjX8hhBBCCCFGiCE14VeItthsNvLy8qivr2+1LyQkhBMnTgxArbpG6tn7hkpdO6unn58fsbGxmM3mfqyVEENXRzEBhs+zYbCQevYub+rZ07ggjX8x5OXl5REUFMSECRNQSjXbZ7FYCAoKGqCaeU/q2fuGSl07qqfWmgsXLpCXl8fEiRP7uWZCDE0dxQQYHs+GwUTq2bs6q2dvxAUZ9iOGvPr6esLCwtp8yAsxlCmlCAsLa7cHUwjRmsQEMZz1RlyQxr8YFuQhL4Yr+dsWouvk340Yznr69y2NfyF6QWBgYLfPXbt2LRkZGQA88cQTvVUlIYQQA6SnMSE9PR2QmCD6xoho/OuGBrDbB7oaQrRp8+bNxMfHA/KgF0KIkW7z5s3MmDEDkJgg+sawb/zXZ2SQMSsR3+PH+/W6Jc8+S96Pf9yv1xQDT2vNgw8+yMyZM0lISGD79u0AOJ1O7rvvPuLj47nmmmtYvnw5O3bsAGDp0qUcOXKEdevWUVdXR1JSErfffvtA3oYQQohe0N2YkJqayvr16yUmiD4x7LP9GENDATBUVPbrdav37qMhJ6dfryng0be+Ij2/yvPa4XBgNBp7VOaMmGDWf+syr47dtWsXaWlpHD16lNLSUubPn8/ixYs5ePAg2dnZpKenU1xczPTp07n77rubnbthwwY2bdpEWlpaj+orhBDCpWVMgJ7Hhf6KCY8++ijPP/+8xATR64Z9z78pLAwMBgxV/df4104n1jNncFosOCyWfruuGHgHDhxg9erVGI1GIiMjWbJkCYcPH+bAgQPccsstGAwGoqKiuOqqqwa6qkIIIfqYxAQxGA37nn9lNGIaOxZjP/b82/Lz0XV1rt8LCjAOgbyyw0XL3pihktdXCCFE72urh17ighjphn3PP4ApIgJDZUW/Xc+amen53Zaf32/XFQNv0aJFbN++HYfDQUlJCfv27SM5OZmFCxeyc+dOnE4nRUVFpKSktHm+2WzGZrP1b6WFEEL0CYkJYjAa9j3/4G78nzzZb9ezZmV5frcXFPTbdcXAW7lyJYcOHSIxMRGlFBs3biQqKopVq1axe/duZsyYQVxcHHPmzCEkJKTV+ffccw+zZs1izpw5bN26dQDuQAghRG+RmCAGo5HR+A8Px/jZZ/12vYasLIzhY3FUVGLLl8b/SFBdXQ24Ft546qmneOqpp5rtNxgMPP300wQGBnLhwgWSk5NJSEgAICUlBYt7bsiTTz7Jk08+2b+VF0II0at6GhPANTxJYoLoCyOj8R8RjqG6Gt3QgPLx6fPrWTOz8Js6jYbcXGzS8y/cVqxYQUVFBQ0NDTzyyCNERUUNdJWEEEIMEIkJYqCMkMZ/BAD20lLMMTF9eq3GTD9jvn0r2m6Xxr/waG9MpxBCiJFHYoIYKCNiwq+5sfFfXNzn17KdP4+ur8dn8mTM0dHYCmTCrxBCCCGEGBxGROO/seff1g+Nf2uma7Kv75SpmGKisRcVo+32Pr+uEEIIIYQQnRkZjf/wcADsxSV9fq3GTD++U1w9/zgc2Ev6/rpCCCGEEEJ0ZkQ0/o2hoWiDoV8a4Q2nszBFRmIMDsYc7ZpfIOP+hRBCCCHEYOBV418pdZ1S6qRSKkspta6N/T9XSqUrpb5USu1WSl3i3p6klDqklPrKve/bTc55WSl1VimV5v5J6r3balE/gwFnSEi/jPm3ZmbhO3kyAOaYaABJ9zkCBAYGdvvctWvXkpGRAcATTzzR7nETJkwgISGBWbNmce2111JYWAi4Usr94Ac/YPLkycydO5elS5fy6aefes57/fXXUUp5riFETw31mCBEX+tpTEhPTwckJoi+0WnjXyllBP4MLANmAKuVUjNaHPYFME9rPQvYAWx0b68F7tRaXwZcB/xBKTW6yXkPaq2T3D9pPbyXDvVH478x04/v1CkArmE/yCq/omObN28mPj4e6PhBD7Bnzx6+/PJL5s2b5zl27dq1hIaGkpmZyeeff85LL71EaWmp55xt27Zx5ZVXsm3btr67CTFiDJeYIMRgtXnzZmbMcP2Tkpgg+oI3Pf/JQJbW+ozWugH4B3Bj0wO01nu01rXul58Ase7tp7TWme7f84FiILy3Kt8Vjn5o/Nvy8lyZfqa4Gv8Gf3+Mo0dLxp8RRGvNgw8+yMyZM0lISGD79u0AOJ1O7rvvPuLj47nmmmtYvnw5O3bsAGDp0qUcOXKEdevWUVdXR1JSErfffnuH11m8eDFZWVmcPn2aTz/9lN/+9rcYDK5/zhMnTuT6668HXD1ABw4c4MUXX+Qf//hHH965GEGGRUwQoj90Nyakpqayfv16iQmiT3iT538ckNvkdR6woIPjvwf8s+VGpVQy4AOcbrL5d0qp3wC7gXVaa6sX9ekWZ0gI9uzsvioeAGuW69Z83Y1/wJXxR4b99J9/roPCY56Xoxx2MPZwOYuoBFi2watDd+3aRVpaGkePHqW0tJT58+ezePFiDh48SHZ2Nunp6RQXFzN9+nTuvvvuZudu2LCBTZs2kZbWeYfn22+/TUJCAl999RVJSUkYjcY2j3vjjTe47rrrmDZtGmFhYXz++efMnTvXq3sRoh3DIiaIEaJFTIBeiAv9FBMeffRRnn/+eYkJotf16iJfSqk7gHnAkhbbo4G/AXdprZ3uzb8ECnE9/J8HHgYea6PMe4B7ACIjI7u9KIbJfxT+lZWkfPABmM3dKqMz/v/6F0HA4cJCtLueIWYfjFlZnPay3tXV1UNi4Y/BVM+QkBAsFgsAvrYGDI4mqVU12B09S7XqtDVgdZffEYvFwkcffcTKlSupra3F39+fK664gn379rF3716+9a1vUVNTQ0BAAIsWLaKurg6LxYLD4cDpdHruwdLOtbTWLFmyBKPRyGWXXcbDDz/Mxx9/jN1ub/ecv/3tb9x7771YLBZuuukmXnnlFaZNm9bt98LhcLR7rcFmqNTVm3rW19cPmn9vXTGYY8JgeoZ1ROrZdR3GBOhxXOiPmFBTU4PD4fCU05bBEBNgeD1rBwNv69mTuOBN4/88ENfkdax7WzNKqW8AvwKWNO2tUUoFA+8Av9Jaf9K4XWvd2B1uVUq9BPyirYtrrZ/HFQiYN2+eXrp0qRdVbu2Tgx8DcMX0GfjEjutWGZ05/+671EZGsmTZMs+2wgMHqXzjDbytd0pKitfHDqTBVM8TJ04QFBTkenHDfzXbZ7FYLu7rAR8vjgkKCsLHxwc/Pz/PNc1mM6NGjWq13WQyMWrUKIKCgjAajRgMBs++9uqrlGLv3r2MHTvWs23evHn88pe/xN/fv1VPT1lZGfv27ePEiRMopXA4HCil+OMf/4hSqhvvQu+9n/1hqNTVm3r6+fkxe/bsfqpRp4ZFTBhMz7COSD27rqOYAL3zbOjrmBAQEOB5pg/mmADD61k7GHhbz57EBW/G/B8GpiqlJiqlfIDbgDebHqCUmg38D3CD1rq4yXYf4DVgi9Z6R4tzot3/VcBNwPFu3YGXnKNDgL5d5dealdVsyA+4Jv06LRYcQ+DTZndppxPtdHZ+4AiwaNEitm/fjsPhoKSkhH379pGcnMzChQvZuXMnTqeToqKidj+tm81mbDab19ebPHky8+bNY/369WitAcjOzuadd95hx44dfPe73+XcuXNkZ2eTm5vLxIkT2b9/f2/cqhi5hkVMEKI/SEwQg1GnjX+ttR34EfA+cAL4P631V0qpx5RSN7gPewoIBF51p2hrDAS3AouBNW2kb9uqlDoGHAPGAr/tvdtqzRnSt41/7XDQcPpM68Z/Y7rPYZzrf/+2V9j2mwcHuhqDwsqVK5k1axaJiYl8/etfZ+PGjURFRbFq1SpiY2OZMWMGd9xxB3PmzCHE/TfZ1D333MOsWbM6ndzV1ObNmykqKmLKlCnMnDmTNWvWEBERwbZt21i5cmWzY1etWiUZHkSPDJeYIER/kJggBiWt9ZD5mTt3ru6ulDff1OmXxusLr2zpdhkdsZ47p9Mvjdflr77abHvtF1/o9EvjtSUlxaty9uzZ0we1631N67nlofv1M9/+lrZZrQNSl/T09Hb3VVVV9WNNOmaxWLTWWpeWlupJkybpgoICz77BVM+ODJV6aj106upNPdv6GwdS9SB4Lg/kT09iwlB81g5mg6meHcUErQfPs6GjmKD14KlnZ6SevcvbevYkLvTqhN/BTAcEgNncZ6v8WrOyAPBxL/DVyDTMV/l12G2U5p5DayflhfmEj58w0FUatFasWEFFRQUNDQ088sgjREVFDXSVhBBCDBCJCWKgjJjGPwYDpvCxfTbsx5rpavy3HPZjCh8LZnObq/w67E6MJq8WWR60SnNzcLqzJpSdz5PGfwcGSyYMIYQQA09ighgoQ7vl2UXm8AjsJX3U+M/KwhQVhbHFDG1lMGCOimq1yu+F/Gqe/+leSnKG9kTg4uyLKbrLzud2cKQQQgghhBhoI6rxb4qIwNZXPf+nW2f6aWSOjm417CfnqzKcdj30G/9nz2D2G0VweARl+XkDXR0hhBBCCNGBkdX4Dw/HXtz7Y/7by/TTyNX4b97zX5BVAYClrL7X69Ofis+eJvySiYSNi+OC9PwLIYQQQgxqI6LxX1ZQg9OhMUVE4Kyqwlnfuw1uW14e2mrFd8rkNvebYqKxFxWj7a6x8VprCk5XAmC5MHQb/06ng5JzZ4mcOJnQcXGU55+XfP9CCCGEEIPYsG/8F56pZNujn2LJcw37AXo9409jpp+Oev5xODzXrSiqpb7atWjHUO75rygswGatJ2LCJELHxWFvsFJV2jfZlAa7wMDAbp+7du1aMjIyAHjiiSe8Pm/ChAmUlpa22l5SUsKCBQuYPXu2LN4ihBADoKcxIT09HZCYIPrGsG/8R04IJjh8FGWZ+mLjv5fH/VuzXJNefdpt/DdP99nY6x9xSRBVF+p6tS79qfis674jJk4mdFwsIJN+u2Pz5s3Ex8cD3j/oHQ5Hu/t2795NQkICX3zxBYsWLeqVOgohhOgfmzdvZsaMGYDEBNE3hn3jXxkUCUvGUVsKFfTNKr/WrCxM0dEY2/mk71nl153usyCzAr9AM3HTQ6mpaMDpGJpDZYqzz2AwmgiLjSNsXBzAiB/3r7XmwQcfZObMmSQkJLB9+3YAnE4n9913H/Hx8VxzzTUsX76cHTt2ALB06VKOHDnCunXrqKurIykpqc3VHAMDA3nggQdITEzk0KFDAGzcuJGEhASSk5PJysoiLS2Nhx56iDfeeIOkpCTq6obuh0shhBjquhsTUlNTWb9+vcQE0SdGRJ7/+Muj+fi1LDIy7Iyjbxr/vpPbHu8PYHYv3NE46Tf/dCXRk0MICvNDOzXVFVaCw0b1ap36Q9HZ04wdfwlGk5lRQWZGBYcMeMafJz97koyyDM9rh8OB0WjsUZnxofE8nPywV8fu2rWLtLQ0jh49SmlpKfPnz2fx4sUcPHiQ7Oxs0tPTKS4uZvr06dx9993Nzt2wYQObNm0iLS2tzbJrampYsGABzzzzjGdbSEgIx44dY8uWLfz0pz/l7bff5rHHHiM1NZVNmzZ1/6aFEGIYaBkToOdxob9iwqOPPsrzzz8vMUH0umHf8w/gF2Bm9ATIOlqBfVRIr4751w4HDWfaz/QDYAgIwBgSgr2ggJpKK1UldURPGU1QmB8A1UNw3L/WmuLsM0RMuPihJzQmdsQP+zlw4ACrV6/GaDQSGRnJkiVLOHz4MAcOHOCWW27BYDAQFRXFVVdd1eWyjUYjq1atarZt9erVnv829vwIIYQYHCQmiMFoRPT8A4ROVZSfdlI46WpCe7Hn35PpZ2r7jX8AU0wMtvwCCrJc4/2jp4TgO8r19lddqCdmaq9VqV/YaizUW6qImDjJsy1sXBynPvt4AGtFq94Yi8VCUIuF14YqPz+/Vr1VSqk2fxdCCNE6JsDwiQsSE0R3jYiefwC/0YqYqaPJDUvGVtx6Nnx3dZbpp5E5Ohpbfj4FpyswmQ2Ejw8iKNTV8z8U033WuldKbtbzPy6WeksVtVWVA1WtAbdo0SK2b9+Ow+GgpKSEffv2kZyczMKFC9m5cydOp5OioqJ2l3U3m83YbDavr9c4fnT79u1cfvnlvXELQggheonEBDEYjZief4BZV8XyXmYFBZZAJvRSmdZMV+Pfp4Mx/wDmmBhqDx+mIKuSyEnBGI0GMMKoYJ8hme6ztrQIlCLikomebaHuSb9l53PxDw4ZqKoNqJUrV3Lo0CESExNRSrFx40aioqJYtWoVu3fvZsaMGcTFxTFnzhxCQlq/R/fccw+zZs1izpw5bN26tdPrlZeXM2vWLHx9fdm2bVtf3JIQQohukpggBqMR1fifmDiWUUYr2T4z6K3Pw51l+mlkjo6mobaB0lwLc5dN8GwPCvUbmj3/pcWERo/D7Ofn2daY8acsP4/Y6TMHqmoDorq6GnB9zfrUU0/x1FNPNdtvMBh4+umnCQwM5MKFCyQnJ5OQkABASkoKFosFgCeffJInn3yyw2s0ys7O9pzT1Jo1a1izZk1Pb0kIIUQ39TQmgGt4ksQE0RdGVOPfYDQwJaKaY45pXDh7gbCJYT0u03r6dKdDfsCV7rMqeCJau8b7NwoO86Mkx9LjevS32tJiJifOabYtKGwsJl/fET/ptz0rVqygoqKChoYGHnnkEaLcWaCEEEKMPBITxEAZUY1/gGnxPhw/b+PLD89y1fd71vhvzPQT8LWvdXqsOTqaipDJKAVREy82/oNC/ThztATt1CjD0JicU1tVia3aQsSESc22K4OB0OhYLpwf2HSfg1V7YzqFEEKMPBITxEAZMRN+GwXFhRNZfIRTX1bRUGfvUVm23FxXph8vev5N0TFUhkxmdIANn1EXP3MFhfnhtGtqLQ09qou37A0NNNT3bJGP4uwzgGtl35ZCx8VSJo1/IYQQQohBacQ1/k0REcSe34vdBhmfFPaorIuZfjqe7AugQkOpDJ5AmKmi2fb+zvjz3l/+wLZHHsTZwVLgnSk+expov/FfVVqMzTr05jEIIYQQQgx3I6/xHx5OsOUcoQFWjqXkobXudlmNjX+fyZ33/F/Iq8Vp9GVMffNe8caFvvqr8V90OpPSnGzS933U7TKKs8/gExjEqMDWeZLDxsWB1pTln+9JNYUQQgghRB8YcY1/Q3AwyteXyf75VBTVkneivNtlWbNOY4qJxhgY0OmxBaddPf7BF5ovM+5p/PdDuk+H3UZlcREAH+/4O/aG7g01Ks4+w6ixkW3uC42JBVwZf4QQYjC68OJfGb3pz/16TW23k//rX1OfkdH5wUII0YdGXONfKYUpIoKo2lOMCjLzZYp3jdTSutYLg1mzstod729vaKChrtbzuiCrkgBDLabzZ5od5+Nnwtff1C89/xWFhWjt5LIl38BSWsLRD/7Z5TIa6usoLziPf3hEm/tHR49DKUO/ZPyxl5X16Jub3hTYSarXjqxdu5YMd4PgiSee8Pq8CRMmUFra+u+ypKSEBQsWMHv2bPbv399s39KlS7n00ktJTExk4cKFnDx5EgCbzca6deuYOnUqc+bM4fLLL+ef/7z495GWloZSig8++KA7tyjEoOKoKMcnIwPtdPbbNa2nz1C5YydV77/fb9cUA6enMSE9PR0Y/DHhvffe684tigE24hr/4Br3r0sKmXFlDNnHSqkq7XgC7P68/Xz9/77OlyVferY1ZvrxbWfIz7+e/xOvPv4r17FaU3C6grGB9diKitD25hONg8L8+qXnv6zA9UEn8dpljJ+ZyKevbW/2AcUbJdlnQWv82+n5N5nNjI6Koiyvbxv/9rIyspYsperNN/v0Ov1h8+bNxMfHA94/6B0dzNnYvXs3CQkJfPHFFyxatKjV/q1bt3L06FHuuusuHnzwQQAeeeQRCgoKOH78OEeOHOH111/3rD0AsG3bNq688kp27NjRlVsTYlAyRUah7HYcZWX9dk3rqVMA2HIkFbLo2ObNm5kxYwYw+GOCLCQ2NI3Qxn849uJiZi4eh1KK43s7Hp/+fvb7aDTbT273bGvIyUE3NLTZ829rsJL52ceUnDuLdjqpLK6jzmIjMsYMDgf2kpJmxweF+lHVDz3/5e5x+KExsSxafRd1lipS3369S2UUZ7sm+/qPbbvnH2BMTGyfD/tpOHcObbNR9a/B1ROttebBBx9k5syZJCQkeJZadzqd3HfffcTHx3PNNdewfPlyT0N66dKlHDlyhHXr1lFXV0dSUhK33357q7IDAwN54IEHSExM5NChQwBs3LiRhIQEkpOTycrKIi0tjYceeog33niDpKQk6ura/2C7ePFisrKyqK2t5YUXXuBPf/oTvr6+AERGRnLrrbd67unVV1/l5ZdfZs+ePdTXy2RuMbSZo1351G2FRf12TespV49qQ640/keS7saE1NRU1q9fP+hjwgcffCAxYQjyKs+/Uuo64I+AEdistd7QYv/PgbWAHSgB7tZan3Pvuwv4tfvQ32qtX3Fvnwu8DIwC3gV+ovtpDIcpPJyavfsIHOPHpKSxpB/MZ/63JmL2MbY61uF0sP/8fhSKf2X/i4eTHybYJ5iG065GsO/U1o3/c0e/wG61AlBdUUZ+lmtsfcyUUKoAW0EB5uhoz/FBYX7kZpT3+RCW8oLz+IeMxtc/gKgp05iafAWfv/MaSd+8Hv/g1suKt6U4+wyjgoIxB7T/lWbYuDjOHT2C0+HAYGz9nvYGe5EraNccOoT+4X2e7YVPPIH1xMUxtXaHg7Ie1sF3ejxR//EfXh27a9cu0tLSOHr0KKWlpcyfP5/Fixdz8OBBsrOzSU9Pp7i4mOnTp3P33Xd0ZrwxAAAgAElEQVQ3O3fDhg1s2rSJtLS0NsuuqalhwYIFPPPMM55tISEhHDt2jC1btvDTn/6Ut99+m8cee4zU1FQ2bdrUYV3feustEhISyMrKYvz48QQHB7d53Mcff8zEiROZPHkyV155Je+88w6rVq3y6v0Qw9dQjgsm92JK9sICmHlZbxffpnpPz39Ov1xPuLSMCdDzuNBfMeHRRx/l+eefH9QxYenSpbz//vvccccdXr0fYnDotOdfKWUE/gwsA2YAq5VSM1oc9gUwT2s9C9gBbHSfGwqsBxYAycB6pdQY9zl/Ab4PTHX/XNfju2mD1pqjJUexOq2ebeaICJy1tTiqa0hYGou11k7m4bZ7gI6VHqOsvow1l62h3lHPO2feAZqk+ZzcOt1l1uFDnt8riwopyKrAL8BMWLyrwW/LL2h2fFCoH3arA2tNz9Yd6ExZ/nnPhFyAhd/+LrZ6K5+9/qrXZRSfPUPExMko1f6CZKExsTjsdipL+q5XzVbgStOqa2vR3Zy43BatNT1paRw4cIDVq1djNBqJjIxkyZIlHD58mAMHDnDLLbdgMBiIioriqquu6nLZRqOxVaN79erVnv829vx05vbbbycpKYmDBw/y9NNPd3r8tm3buO222wC4+eab5WteMeTjgtnd+G98jvQH66lMABwVFTgsQ29Vd9E9wz0m3HbbbTIcdAjypuc/GcjSWp8BUEr9A7gRSG88QGu9p8nxnwCNHwG/CXygtS5zn/sBcJ1SKgUI1lp/4t6+BbgJ6PoM1E58Wfold7x7B3eG3ck3+SbgGvMPYC8pJmbqBMLGBfDpm2eImhhCaEzzzD0puSmYlIm1s9byScEn7Di1g9suvQ1rZhbmmBgMAc2PdzocnP78M6KnxVNwKoPK4iIKsvyJnhKCj7u331aQ3+ycxow/VRd6tvhWZ8rz85gy/+JqxGGxccxY8nXS/vUOc5bfSPDY8A7Pd9htlOaeY+6Km+homlzouDgAys7nMiYqpjeq3oq9sBDl5wdOJ7rJV44te2MsFgtBQa1TkrZFOxxYT55C+Y/CZ/x4lGFwjYrz8/PD2KK3qumHsI4+kDW1detW5s2b53kdFhZGTk4OVVVVrXp6HA4HO3fu5I033uB3v/sdTqeTsrKyLr2vYlga0nHBGBqKNpmwF/VP499RVYW9oAC/hATqjx2jISeHUZf1zzcOI11bPfTD5fk1GGKC1poLFy4Mm/d0pPCmdTMOaDpIMc+9rT3f4+LDur1zx7l/97bMbksYm0BMQAypNamebZ7Gf3EJSimuufsy0PDafx2hJKd5j0xKbgpzI+cS7BPMzdNu5lT5KY6XHsealYVPG4t75Z04Tn21hTnLbgClKMnJo7KkjugpozEEBGAMCcFe0LznPzhsFNC36T7rqi3UWaoY06TnH+CKW74DWnNoR+e9uaW5OTgddiImTOrwuNBxrmtc6MNJv7bCQswxMfgnJ+O0Wjs/wQvOunq004GzupqG7Gx0NxZCW7RoEdu3b8fhcFBSUsK+fftITk5m4cKF7Ny5E6fTSVFRUbvLupvNZmw2m9fXaxw/un37di6//PIu1xfA39+f733ve/zkJz+hwf0tSklJCa+++iq7d+9m1qxZ5Obmkp2dzVdffcWqVat47bXXunUtMWwM6biglMIxenS/9fxbM129/kFXXw24VocXI8Nwjwnnzp3jhhtukJgwxHg15t9bSqk7gHnAkl4s8x7gHnBNOGnvH0hHLjNexu6a3by1+y2CjEEYCwsZCxzbm0K9O9tNzCLNuT2aHU8d5pLFCv9wRamtlNOVp0k0JJKSkkKQMwgf5cOmPc/yk9OnqR0fx5kW9cnZ/yHKZCK/xopPQCCnvjgOxFFQdZrKlDOEBgdRe+w4GU3Os1tdA02++Owr/MbVdOseO1Nd6Pq24fyFcmpalB82I5HjKR+gI8fhNyas3TJKTxwDILu4FLvJp8N6mvwDSD+SSm3I2B7XvS1jTp1C+/pijY5mlN2OpawMzOZWxzkcjmYZCjpiqKzEADhCQ6GsjLrTp3FERICXY0MtFgvf+MY32Lt3LwkJCSilePTRRwkICODaa6/lvffeIz4+ntjYWBITEzGbzVgsFhwOB06nE4vFwpo1a5g5cyaJiYm8+OKLbV6jkdaaoqIiZs6ciY+PD3/961+xWCzU19fT0NDQ5n07HA5qampa7Xv44Yd5/PHHiY+Px8/PD39/f371q1+xZcsWli1b5jne4XCwfPlyNm/ezMqVK716XwZKV/7fDyRv6llfX98nz4X+0NtxoTdiAkBwcDClJ0+S2Q/v66iUvQQDJ4KDGQtkpOyl1s/Pq3Orq6uHxP/7wVTPkJCQDv9N9dezoScxoaamBofDMehjAsCKFSt46aWXJCb0Em/r2aO4oLXu8Ae4HHi/yetfAr9s47hvACeAiCbbVgP/0+T1/7i3RQMZ7R3X3s/cuXN1d5wsO6lnvjxTbzuxTWuttb2qSqdfGq9LN7/Y7LiqC3X6f39zSD/34z0656sL+m9f/U3PfHmmzqnM8Rzzm4O/0Sv+OFenXxqvy3fuana+0+HQz/2/O/XrT/1Wa6319v9cp5+794f6uR/t0XabQ2utdc699+nTN9zY/DynUz93f4ret/2k3rNnT7fusTPHUz7UT996vb5wPrfVvprKCv3HO2/Wbz7zRIdlfPjiX/Qf77xZOx2OTuu5/dFf6q2/+nlPqtyhU4uX6PO//A9tPXtWH/3wQ20rLW3zuKqqKq/LtJ47p+tOntRau/5Gao8f13WnTmlHQ0Ov1NlisWittS4tLdWTJk3SBQUF3arnQBoq9dR66NTVm3qmp6e32gak6k6emX31M1jiQndjgtZaf/7dO3Xm16/u9vldkb9+vc6YN187nU598vIrdP6vf+31uX0VE3rbYKpnW/9emhosz4aOYoLWg6eenZF69i5v69mTuODNsJ/DwFSl1ESllA9wG9AsubpSarb7AX6D1rq4ya73gWuVUmPcE7qudQeMAqBKKfU15RqUdifwhhd16ZZpY6YRY47xTNY1BAaiRo1qM+XmygfmEBLhz9v/fZQvPs1icshk4oLjPMesmrqK8ELX2PyWmX4Kz2RSXXaBqcmur9pCIqOorSwlcmIwRpPrrTZHR2NrMexHKUVQqF+fLvRVXnAeg9FISERUq33+wSHMvf4mTn16kMLTme2WUXz2NBETJno1Fj50XBxl5/P6JIORttuxl5RgjorEZ8IEMBpxVFf3uFxnXR2GUa4hWMagIFfZNhsNZ8/i7IVJxStWrCApKYlFixbxyCOPEBXV+v+FEEPEkI8LzjFjsBUX98tCX9ZTmfhOm4ZSCp+4OBok179AYoIYOJ224rTWduBHuB7YJ4D/01p/pZR6TCl1g/uwp4BA4FWlVJpS6k33uWXA47gCxWHgMfc2gPuAzUAWcJo+mNTV1NyAuaSVpJFnyXOv8uvK9d+Sf7APN/1sNmGx/kz4dCFX1d/UbH/C2ARm17iGxvhOaj72PfOzQxiMRibNSQYgMDQCp72aiAn+nmPMMdE4q6paNVaD+3ihr7L8PEIiojCa2h7pNW/FSvyCgjnwjy1t7nc6HZScO0vEhNbzHNoSGhOLtbaG2sqKbte5PfaSEnA6Pen6DH5+OKurexTEnTYb2mbzNP4BjAEBrg8A7gXdnD3MZZySkkJaWhrp6emsWbOmR2UJMZCGQ1xwjBkNNhuOCxf66hKA69t1a2YmfpdOA8A8fjwNuZLuU0hMEAPHq3QmWut3tdbTtNaTtda/c2/7jda68WH+Da11pNY6yf1zQ5Nz/6q1nuL+eanJ9lSt9Ux3mT/SfdFF3MS8ANdM9veyXUtRm8Mj2mz8A/gFmAlYWUZ+SBamlPEc33txDppSijm1ERSHwIn6bM92rTVZnx0i7rJZ+HmW9XbNkg8Ou9hr3Jjf35bfIuNPX/f8559nTHT7mXd8/f1ZcNMtnPvyC3KOH221v6KwAJu1vtPJvo3C3Bl/+mLSb+MkvcZ0fcrXF7TGWVPT7TK1e+ET5e/fbLvB3x+fiRMBXN8AdLBAihAjyVCPC84xruyifb3Ql72gAKfFgu80V+PfJy4Oe0Fhr3ybKIQQ3TG4chn2oVBTKHMi5vDOmXfQWmOKiMBW0nbjH2BfUQqHZr3KhFlh7N12is/fy8bpcPUsRxRZyQ83svPUTs/xZedzKS84z5T5F2fX19W4epHNPhcbpeYYVwO8ZcafoDA/rLV2HLY+GCbjdFJemN8q009LSddeT2DYWPZve6XZcB1bURFF7uFAERO97Pl3Z/wpO9/7jf/G9Hympo1/ZcDZg4k8zro6UApDG5PwDH5+rg8ABgMNZ8/i6MGHDCHE4OAYEwqArbCgkyN7pv6ka2Xfxsa/eXwcaI0tr+OV5YUQoq+MmMY/wPKJy8mqyOJU+SlM4eHYi0vaHJNuc9rYf34/V15yBdf9IIGp8yP55PUzvPTQQXa/9BWFlUGYJk3l3bPvUmtzZQvK/My1mMaUeQs85VSWurLP1FRcnFtgcve+txz3HxTqanTa+qBdWVVagsNmIzSm46x5Jh8frrj5OxRmnSIr9RPAtSDN6Wu/Se6/3sNoMhEWO96rawaGhuEzahRl+XmdH9xFrXr+lcIYGICjurrbcwyctbUYfH3bnc9g8PV1fQAwmWg4d65X5hgIIQaOY8xoAOx9nO6zcXEv36lTAfAZ73qG2mTojxBigIyoxv+1E67FpEy8e/ZdTBER6Lq6NoeKpBWnYWmwsDRuKUajgWv+fQbLfpDA+JmhnEkr4cvpaym1/5CFx7/Nrnd3U19jI/Ozj4meFk9gqGs+gMPhpCTXgcHoQ2WThWRM4WPBbG69ym9Y3zX+y90N8DHRnafMvmzJ1YyJieXgP/6G0+mgPiMDbbVSkn+esLhL2p0z0JJSitCYWC70Uc+/wd8fQ5MFRQyBgeiGhm6t9qu1RtfVtRry05LBxwffiRMx+Pi4PgBUVXX5WkKIwUEHBqJ8fLD18UJf1lOnMMVEY3Q/r3ziXEMiZdKvEGKgjKjG/xi/MVwecznvnn0XY4Qr/3xb4/5TclMwG8xcEXMFAMqgmDQ7nGv+/TJuWdZA0tFnmTbDn5iayVT+M4AXf/4uxWdPExg6g+py14JTpbnVOBqcBIyJoKL4YnBRBgPmyMjWPf/uxn9Dbe/fd5l7ReHQTob9ABiMRq789h1cyMvhxP4U6k9koIGymiqvJ/s2Co2J7ZNhP7aCQkxRUc1WL2z8INCdoT+6oQHtdDab7NseZTbjM2ECBj8/GnJysVe4JjQHeuZ5dN3atWvJyMgA4IknnvD6vAkTJlBaWtpqe0lJCQsWLGD27Nns37/fq3P+8z//06tl3VvKzs5m5syZHR5z7tw55syZQ1JSEpdddhnPPfecZ9/nn39OQkICU6ZM4f777+9xdqjs7Gz+/ve/e16npqZy//3396hMMUwphSkqqh96/k/hN+1Sz2vj2LEof3+Z9DvM9TQmpKe7FsuWmCAxoS8M+8a/3WYj5/iX2OtdEzWvn3Q9hTWFnDVXuva3aPxrrUnJTSE5Ohl/c+ueYPvZ04SWn+Sqf08k/J5Kds18huA410P8XHoIr/zyIK9uSOWzt84AEDYuulnPPzSm+2w+4dc/yAeDSWGr6f0x/+UFefiM8sc/ZLRXx09dsJDISVM4+H//S+2Jr6g3G2nQTiK9HO/fKHRcHNVlF2io691PNLaiQs+Qn0YGHx+Ur2+3huM4a13186bxD6BMJtcHgAB/bHl52MvKOj+pA5s3byY+Ph7w/kHv6GD14d27d5OQkMAXX3zBokWLelS33hAdHc2hQ4dIS0vj008/ZcOGDeS7J7zfe++9vPDCC2RmZpKZmcl7773Xo2u1fNDPmzePZ599tkdliuHLHBWFrajvJvzqhgasZ896xvuD61tRn9hYbNLzL9qxefNmZsyYAUhMkJjQN4Z94/9C7jleffw/qMw5C8BVcVcxyjSKlLovgdaN/7NVZ8mx5LA0dmmb5VkzszCPG4chIIAbJn+LipBCCssPMTbuEu54/Dq+dpMrG07OV2WMifInLDaGypKiZp9ezTHR2FsM+1EGV67/vhj2U5Z/ntCYcc16yjuilOLK1XdhKS0hIzODqlG+AERM9C7TT6PQWNfX22Xne3fcv93d89+SMTAIZ00NuoOHYFt0XR3KYHBNHPaSMhrxueQSDEFBzTI3aa158MEHmTlzJgkJCZ6l1p1OJ/fddx/x8fFcc801LF++nB07dgCwdOlSjhw5wrp166irqyMpKYnbb7+91TUDAwN54IEHSExM5NAh1xyTjRs3kpCQQHJyMllZWaSlpfHQQw/xxhtvkJSURF0b2YlantPSCy+8wPz580lMTGTVqlXUuj8cFRUV8Z3vfIfExEQSExP5+OOPm5135swZZs+ezeHDh5tt9/Hxwdf93lqtVpzulKwFBQVUVVXxta99DaUUd955J6+//nqr+pSUlLBq1Srmz5/P/PnzOXjwIAB79+4lKSmJpKQkZs+ejcViYd26dezfv5+kpCQ2bdpESkoKK1asAFw9WXfddReLFi3ikksuYdeuXTz00EMkJCRw3XXXYbPZAFi3bh0zZsxg1qxZ/OIXv2hVHzF8mKIiWyVf6E3Ws2fBbm/W+AfXpN+GXGn8jwTdjQmpqamsX79+0MeElStXcsUVV0hMGGK8G8A9hIVPmIhfYBCWvHMA+Jv9WRq3lLfPHuQ6Wjf+9+buBWBJbNsr0VuzsvCd4lrca7TfaK6JWIrKy2DCymsZExXA3OsCmHvdBKrLrSgDnDpUgt1qpbaygoDRrtRypuhobEVFaIcDZTR6yg4K9eNCce+nkizPP0/s9Mu6dM4lCUnETZ9JxrGjjAvyB60ZGxPX+YlNNA4zKsvPI2rKtE6O9o622dwLfLVu/BuCAvnk9bOUv/M5yuj603Y4HBibvMdtcdbXAQrDP79oc//YuEAW3dq6/spgwBQeTkOToUa7du0iLS2No0ePUlpayvz581m8eDEHDx4kOzub9PR0iouLmT59OnfffXez8jZs2MCmTZtIS0trsx41NTUsWLCAZ555xrMtJCSEY8eOsWXLFn7605/y9ttv89hjj5GamsqmTZvaLKetc5r6t3/7N77//e8D8Otf/5oXX3yRH//4x9x///0sXLiQt956C4fDQXV1NeXl5QCcPHmS2267jZdffpnExMRW18zNzeX6668nKyuLp556ipiYGFJTU4mNvTgULTY2lvPnW2dA+clPfsLPfvYzrrzySnJycvjmN7/JiRMnePrpp/nzn//MwoULqa6uxs/Pjw0bNvD000/z9ttvY7FY+Pzzz5uVdfr0afbs2UN6ejqXX345O3fuZOPGjaxcuZJ33nmHRYsW8dprr5GRkYFSioqK3l+nQgwe5qhoqtwLfXmzeGFXWU+dAsB32tRm233ixlOzb3+fXVdctP//TlGa2/wbYW/iQkfaiwlt6UlMePTRR3n++ecHdUxYsmQJW7Zswd/fX2LCEDLsnzoGg5Hxl82iKi/H0/u+YtIKiqnCOcq31Sq/KbkpxIfGEx0Y3aosbbfTcPYsPlMuDn+5onYaCkVRTPMFpgLH+BIQ4ktIpKuRWtlk3L85OgYcjtYrDIf5YevlMf82az2WCyWM6STTT0tKKZKvWEKDyUj22BACrDZUF8fTj46MxmA09uqkX3tJCWiNKSqy1T6Dv7/r240u9fxr6EEANjR+W+D+2zpw4ACrV6/GaDQSGRnJkiVLOHz4MAcOHOCWW27BYDAQFRXFVVdd1eVrGY1GVq1a1Wzb6tWrPf9t7PnpTGfnHD9+nEWLFpGQkMDWrVv56quvAPjoo49Yu3atpy4hISGAqxfmxhtvZOvWrW0+5AHi4uL48ssvycrK4pVXXqGoC0MtPvzwQ370ox+RlJTEDTfcQFVVFdXV1SxcuJCf//znPPvss1RUVGDyYjL6smXLMJvNJCQk4HA4uO666wBISEggOzubkJAQ/Pz8+N73vseuXbvw72QSuBjaTFGRYLdjb2PMc2+wnjoFZjO+7rVCGvmMj0M3NLS71owYPoZ7TLj33ns9dZGYMHQM+55/gPEJiZz69CDlBecJjYnl8pjLGe07GktwHSFNHr4V9RWklaTx/YTvt1lOQ04u2mbDd8rFXhz7yQLqAuDt6j3cyt2tzgkJdzf+iwqJmTYdcA37AbDlFzTrwQ4K9cNeD/YGByaf7vdKNFXehcm+LY221BFZWU1RSCAhdVZshYWeRcq8YTSZGB0Z3auTfhsX5DFHR1NRWEDQ2LGefcpg4IrlMTjr6vCdNg2lFBaLhaAmWYFactbWYj1zBp+4OIzuB1dXKKMRZTZ3/Ua6wc/Pr1VvVdOhXF0Z1tXROWvWrOH1118nMTGRl19+mZSUlA7LCwkJYfz48Rw4cMAzTrU9MTExzJw5k/3797Nw4ULy8i4OCcvLy2PcuNYfUp1OJ5988gl+LdZgWLduHddffz3vvvsuCxcu5P333+/w2oDnq2aDwYDZbPbcv8FgwG63YzKZ+Oyzz9i9ezc7duxg06ZNfPTRR52WK4Ymc5TreWYvLMQcEdHr5defOoXvpEmtnhHmOFe6z4acnDa/xRS9p60e+s7iwlAhMUFiQncN+55/gPEJSQDkHHOtXGs2mLn2kmvJ96unoclk3P3n9+PUTq6Ka/sTuDXLna/ZPeynoa6WnGNpjEmYyhclaWSVtx4rF+wOKBXNev7bXuU32J3xx1LWeyv9lhe4vjLzJs1nS/UZGVxaUYfBYGB0TT32wq5nxQgdF9erY/7t7gV5an1M/PVnP2DLQ/djd4/LA3fKT5sNbbV6VZ6znZV9u6LpwmCLFi1i+/btOBwOSkpK2LdvH8nJySxcuJCdO3fidDopKipq9+FpNps94wy90Th+dPv27Vx++eWdHO3dORaLhejoaGw2G1u3bvVsv/rqq9m8eTPg+tq8stI1ad7Hx4fXXnuNLVu2NJtY1SgvL88zzrS8vJwDBw5w6aWXEh0dTXBwMJ988glaa7Zs2cKNN97Y6vxrr72WP/3pT57XjV+Bnz59moSEBB5++GHmz59PRkYGQUFBWHqw2Ft1dTWVlZUsX76c3//+9xw92nq1azF8mKNdDW9bN55t3rCeymw13h9cPf8ANhn3P+wN95jwl7/8BZCYMNSMiJ7/0ZHR+AQFc+5YGknfvB5wZf1JDdhGdf7FdGt7cvcQPiqc6WHT2yzH6p4I4zvZNfH1zBepOOx2vnn1rWw+msLOzJ08nPxws3PMPr4EjgmlsslXWp7Gf4uMP0FNGv9jogJ6csse5fnuxn9UTJfPtZ44QfglE1nzu9+Rv3yFp9e9K8Ji4zhz5DMcdrvXawR0pLEOheUX0E4n9dUWaivKqSopJjA0rFnKz7ZW623JWVeHMpkw9KD3Xvn5gdZop5OVK1dy6NAhEhMTUUqxceNGoqKiWLVqFbt372bGjBnExcUxZ84cz1ekTd1zzz3MmjWLOXPmNHvItqe8vJxZs2bh6+vLtm3bvKpvZ+c8/vjjLFiwgPDwcBYsWOB5cP7xj3/k7rvvZuvWrRiNRv7yl78Q7f5bDggI4O233+aaa64hMDCQG264wVPeiRMneOCBB1BKobXmF7/4BQkJCQD893//N2vWrKGuro5ly5axbNmyVvV59tln+eEPf8isWbOw2+0sXryY5557jj/84Q/s2bMHg8HAZZddxrJlyzAYDBiNRhITE7ntttu8Dn6NLBYLN954I/X19Wit+a//+i8A3nzzTVJTU3nssce6VJ4Y3BoTB3SnY6MzjspK7AUFrcb7gzsGGI2S638EGO4x4Z577uGFF17AbDZLTBhKtNZD5mfu3Lm6u176zTr9pzW3aofDrrXW2uF06E13z9dfzpyhnU6nttqtesHWBXr9wfXtlpH3s5/pzKu/4Xn91u836P/+/u3a4bDrB1Ie0Ff8/Qpdb69vdd623zyo/7H+4WbbTiYv0AWPPtpsW2Vprd70g936+L68bt9nS+/86Wn9P/eu6fJ5TqdTZ8ybr/PXr9dOp1OfmD1HFz7xhGf/nj17vCrnq7279dO3Xq9Lc3O6XIe2FPzudzpj9hz93l/+oDf9+7e1tbZGH/nsM12QdUoXnT2tay1Vui4zU9efOaO11rqqqqrD8upOntTWc+d6VCd7RYWuPXZMO2prOzzOYrForbUuLS3VkyZN0gUFBZ59ndVzsBgq9dR66NTVm3qmp6e32gak6kHwXB7In57EhD179riebbMSdeGTG7tdTntqDh/W6ZfGa0tKSpv7M79xjc772c86LcfbZ+1AG0z1bOvfS1OD5dnQUUzQevDUszNSz97lbT17EhdGxLAfgODY8Vhrayg64+q9NygDMRMuw2RzcqEkh9TCVGpsNe0O+QGwZp3Gd7Jrsq/dZuNsWiqT5y3AYDBy87SbqWqo4oNzH7Q6LyQiisri5r3mppiYVqv8Bo72BdX+sJ9aWy351flt7mtPeX4eY6K73utvO5+P02LBL346SinXwmTd6PkPHedO95nfOz1c9sIiTNHRnD95gphLp+Mzyh+/wEDCYuMwmkxUFhVSazJir6vtNOWnttvRDQ0oL/P7t6cxRaizk6FGK1asICkpiUWLFvHII48QJWN9hRhQSilXus/C3k/3Wd+Y6efSS9vc7xMXJz3/I5zEBDFQRsSwH4Cgca4JVjnHjhI9xfUwnj5tIZpP2H/0TU4EW/Az+rEgekGb5zdm+glc7FogI+d4Gg11dUxNdq0CnByVTGxgLDtP7WTFpBXNzg2JiCJ9/x7sNhsm9/ASc3Q0thYprAxGA+ZRYLnQduP/2S+e5Z9n/0nKrSleTeTRWlNekE/8lUs7PbYla8YJAPymx7vrG4WtGwEydJw73Wcvjfu3FRbijAinPD+PmUu/4dlu9vUjdFwctZWVVJeVYvP1wVlSjCy7LDIAACAASURBVPZvf/iUs971Pnu7uFd7lI8PKIWu73iuRmeTpIQQ/c8cFd2tjo3OWE+dwhAcjCmydWYycOX6r/tnzxYwEkObxAQxUEZMz7/ZP4Dw8RPIOX4xX+74Sa4UVEe++pC9uXv5WvTX8DO1PU68IScHbbPh457sm/npIXxG+TN+5izA9U3CqmmrSC1K5Wzl2Wbnjo6MAq2pKrmYWci1ym/rxrQ5oP2e/7TiNMrqyyio8a4RXltZgbW2htAupvkEqD+RAQaDZ7KaKTIKezcCpI/fKALDxvZauk97YSHlwa4G/bhLm2cRUEoRMHo0YXHjMTk1NTXV1JeXYbO2/X52dWXf9iiDAYOvr+fDhBBi6DBHRXarY6Mzrsm+U9vtqPGJG4+zshKHe5KkEEL0lxHT+AdX1p/zJ09ga3ANzzC5M/GU5WWRX5PP0ril7Z5rzXRP9p0yFafTwenPP2XSnPkYTRcnit405SZMysSuzF3Nzg2OcPX8NMv1HxONs6oKR3XzxUfMAW33/NscNk6Vu75GzizP9Op+Gyf7hnYz04/PJZd4Gsbm6CjsJSVou73LZYX1UsafxgW+Lhg0RrOZyMmtJ9IBmMw+BPn6EeBwop0OLuTlUlVa4llF0FNeXR3K17fZQmvdpfz80PXeZRgSQgwepqho7EXFXV4ZvCNaa6ynTuHXRqafRmZ3xp/hOPTHYbez/T/XcTbt884PFkL0uxHW+E/EYbOR7x7SYgoPB2CMu/29OHZxu+daT7sb/5Mmkp9xgrqqSqbMbz5rfOyosSyNW8obWW/Q4GjwbB8dcTHXf6PGjD8tl5Y3+0NNhRWHo3lDNasiC5vTle4rs8K7xn9ZY5rPbvT8WzMyPEN+wNXzj9PZamEyb4TGxFKWn4drLkr3NS7wVVxXQ9TkqZ4hVG0xBAVharDhHxiMf3AItZUVXMg9h7W2BnAFZ2ddXY97/T3X8/VF223d+nDUktZavkUQop+YoyJdiy6WXui1Mu35+Tirq9tM89nIZ7xrKKotN6fdY4aqisJ88k4c56u9uwe6KkKINoyoxn/s9JkYjEbOuYf+GPz9MQQGEu+MZE7EHML9w9s9tyErC3NsLAZ/fzIPH8JoNjNx9txWx9087WbKreV8lHtxEYiA0WMwmX2a5/p3L1zRkNP8we8ToNAaasqb9yKnX0gH/j975x0eR3X1/8/MdnXJltVluchFsmS5Y4SxgRDcAhgDiSEBEhzAJBAgFCchgZA3jn/EoZiWAHkhzkuABEwzLWBcwU0GuUmymmX13lbS9rm/P2a10koraSUZY2N9n0ePvTP33rkzszvnzLnf8z1g0BjIb8z363ybqirQ6HQEj+77vHzB1dqKo6ICw5QuyVOPHnbV0LT+HVYLbY3DM66O6mqcskRjSyNxU1L7basJCgJAttkIiRxDRFw8kizTVF2J0+FQawE4nafM+ZfcsqIDJf36A1dLC7bCwpEXgBGM4DSgS+6zKxDT0drCPx/4hUcgYrDwJPtO8p3sC6CPV/Ohvo2R/06aZ9mxw8MO+oxgBCM49TinnH+90URM8hRKj3Tx/rVjxnCBIYVnLnmm3762gkIMEycihKBg/xeMTZ+B3tjbcZwfO5/YwFjeyH/Ds02SZULGRHlF/g3JySDLWHNyvfrr3PmpPak/OQ05BOuCmRs91//If2U54dGxyPLgaC3WvDyA3pF/wFkzeOd/lDvpd7i8f2d1NS0mA4qiEDel/6qBkk6HbDIhuQuJ6I0mj+qRpbUF4d4um05Nqe5Q90rOQEm/vrB69Wry3Nd83bp1uJqb1bEGeJFISkqivr6+1/a6ujrmzZvHjBkz2LVrl199Hn74YTZs2DDouZeUlDBt2rR+25w8eZKZM2eSkZFBamoqf/3rXz37Dh48SFpaGhMnTuTOO+8ctqNQUlLiVVQmKyuLO++8c1hjDnQ8k8lERkYGKSkp3HbbbR56WX5+PkuXLiU5OZmZM2dy7bXXepWwv+uuu4iLi+tFRxvB6YWn7kq3nKbCA3upLSmi9OjQCvrY8t0FIX1o/HdCDgxEM3o09m9h5L+hXD2njpbmU1rh/WxCkDsANRSsXr2anBw14Ldu3Tq/+43YBN/zGbEJvXFOOf8AidOmU3OiCEubWqRCO2YM1DcSpO/7hyocDmwlJRiSJ1J7oghzfR3Jc3wXipAlmauSr2Jf1T7KWrseemFR0bTUdd1kOSAA/fhxWI8d8+rvcf57JP3mNuYyZdQUJoVPoqSlBIdr4Ip/TVWVQ6rsa+t0/qd0Of/DjfwDwzYCjqpqGgNNIEnEJvsuxNYdclAQks3moeJotDqMgUFYzC24OjpAkpCMhmHNqTskjWZI0foXX3yRKe5rvW7dOpQ2NzXJ0TeFyNUPP3nr1q2kpaXx1VdfsWDBgkHP51QjJiaGPXv2kJ2dzb59+1i/fj2V7urWa9as4YUXXqCgoICCggI++mh46ic9H/SzZ89m48aNwxpzIEyYMIHs7GwOHz5MTk4Ob7/9NlarlWXLlrFmzRoKCgr48ssvuf3226lz0+YUReGtt94iISGB3bt3f63zG0H/6FTj6R75Lzq4D+iqkD5Y2PLz0cXGelYg+4I+IQHHtzHyX16Gzh0cKz12+BuezdmHF198kZQUNcDlr/M/YhN8Y8Qm+MY55/yPTcsAIShzP5C0YyJx1tb228deVgYOB/oJEyg8sAdJlhk/a26f7a+ceCWyJPNmwZuebaFjommpqfZ6izWlpmJ1v913QucORLd2i/w7FAfHG4+TEpFCcngyTuGkuKW43zm7nE5aaqqGxPe35uahGTXKkxMBKodeCggYUuQ/IDQMQ2DgsJN+HTXVNIcGMjphLEY/oioad7Xf7knVASFhKC4Fm6UD2WhEkk/dT0AyGFAsVu677z6mTZtGWlqap2y6oijcfvvtTJkyhUsvvZSlS5fyxhvq6tCiRYv48ssvWbt2LRaLhXlXr+THDzyAcHq/4AUFBfHLX/6S6dOns2fPHgAeffRR0tLSmDt3LoWFhWRnZ3P//ffzzjvvkJGR4Smh3h09+/TECy+8wJw5c5g+fTorV66kw62KVFNTw3XXXcf06dOZPn06X3zxhVe/4uJiZsyYwYEDB7y26/V6DO5aCDabzRPVqKqqorW1lfPOOw9Jkrjhhht4++23e82nrq6OlStXMmfOHObMmcPnn38OwI4dO8jIyCAjI4MZM2ZgNptZu3Ytu3btIiMjg6effprt27ezfLkqvfvwww9z4403smDBAsaOHcvmzZu5//77SUtLY/HixTgc6vVeu3YtKSkppKenc++99/Z5v3tCq9Vy/vnnU1hYyL/+9S/mz5/P9773Pc/+RYsWeSJi27dvJzU1lTVr1ni+ByP4ZqAJC0MyGj2Rf4fNSukRNeLfVD24uiqdsOUf75fv3wl9YoJqX75laKwoI35KCsGjIz229lyFEGJINiErK4uHHnoIi8VCRkYG119/fa+xzwSbsGLFCs4///wRm+ADZ7JNOGd0/jsRPXESOqOJ0iPZTJqXiTZSdf6FED4l2RS7nVp3OWdTaioFf32c+KnTCAjpXYa7E1GBUWTGZvLJyU+4a9ZdgOr82y0dWNvMmIJDADCmpNDyzrs46+o8jraskQgI1XlF/oubi7ErdlJGqc4/qEm/kyP65pO21NaguFxExMYP8gqB9XieV9QfVBlNXXT0kCL/kiQREZcw7Mi/vbKKJpOB1Ml9U362vfw8tSfdL0ZClfOUtBpPIS4EOGw2EApaWYNk0A943DFjx3PRTbcM2E42Gnnj3/8mOzubQ4cOUV9fz5w5c7jwwgv5/PPPKSkpIScnh9raWqZOncpPfvITr/7r16/n6aee4sCWLQhFQTi8nf/29nbmzZvHX/7yF8+20NBQjhw5wqZNm7jrrrvYsmULjzzyCFlZWTz99NM+5+mrT3dcddVV/PSnPwXgwQcf5O9//zt33HEHd955J5mZmbz33nu4XC7a2tpoamoC4Pjx4/zgBz/g5ZdfZvr06b2OWVZWxrJlyygsLOTPf/4zsbGxZGVlER/f9f2Mj4+noqJ3pPUXv/gFd999NxdccAGlpaVcdtll5ObmsmHDBp555hkyMzNpa2vDaDSyfv16NmzYwJYtWzCbzRw86K02UlRUxLZt28jJyWH+/Pm8+eabPProo6xYsYL333+fBQsW8NZbb5GXl4ckSTS7KVj+oKOjg61bt/LII4/wySefMGtW75ygTrz66qusWrWKK664gl/96lc4HA50/SSwj+DrQ1cRQzXyX3r0EE67jeDRkTRXDd75F3Y7thMlBF18yYBtdQmJON99D8VmQzaculXIbxKK4qKxspyx6TMICA2j6MsDCEU5pYGWwcDLJrjhcrrQaIeu8uavTQDYvHnzkG3C73//e55//nmys7N9jn0m2ISFCxeyadMmAgICRmxCD5zJNuGci/xrtFoSUqZx0s37140Zg3A4UHxoLSsdHZTftoa2T7cS9Zvf0B4YQEN5aS+VH19IGZVCeVu5R/UntFPus1vk3JiqJq1aelB/giOMXpz/zmTflFEpJIUmoZW1A8p9NlWpUfbBVvcVdjv2gkIvvn8ndNFROIYQ+QdV8We4nP/6miqcEsRN7T/Z1wMJhCwjnC4QXdtkjYwAhB+F0gYDyWjki4MH+f4116DRaIiKimLhwoUcOHCA3bt3c8011yDLMtHR0Vx0Ue9K0ordDkIgh4Yi6XS9nH+NRsPKlSu9tq1atcrzb2fkZyAM1Ofo0aMsWLCAtLQ0XnnlFY65v5+fffYZq1ev9swlNFR9Aa6rq+OKK67glVde8fmQB0hISODw4cMUFhbyj3/8w4vnOBA+/fRTfv7zn5ORkcHll19Oa2srbW1tZGZmcs8997Bx40aam5vRageOZSxZsgSdTkdaWhoul4vFixcDkJaWRklJCaGhoRiNRm6++WY2b95MQMDAOSFFRUVkZGSQmZnJsmXLWLJkSb/t7XY7H3zwAVdeeSUhISHMnj2bjz/+2L+LMYKvBdqYGJzuwEbRwf3oTSamLfoObU2N2K29I6X9wXbiBDid/fL9O6FPTAAhcJSfmiKIZwJaamtwORxExMWTkJqO1dxKfdnJb3pa3xh2797NqlWrhmQTBsKZYBPWrFnjmcuITVBxNtiEcy7yD5A4LYPiLw/QWlfr0fp31NaiCQvztHG1tlJ22xos2dnErFtH2FUr2P+OuhQzcc55Ax4jKTQJRSiUmcuYEDaBUHfCbHNtNdET1eVg49SpIElYjx0jeNEiT9/gUUZqT5o9n3MacgjUBZIYkogsyYwLHTew81/ZKfM5uMi/7cQJhMPhpfTTCW10DLYhctFGxSVwbPunWNva/KLs+EKduRlCjb2Ke3VHz2hMW3U1mvp6DOPHI7t/tI7GBhobGzAEBhI2hJyIvtCp+INj4HwMX+hM9NWEhiJsNpT2dq/9RqMRTY+aBN1Xq/yp+uxPn5tuuom3336b6dOn8/LLLw9YhTI0NJTExER2797t4an2hdjYWKZNm8auXbvIzMykvJvTU15eTlxc7/uhKAp79+7FaPQuwLd27VqWLVvGBx98QGZmpl8Py86lZlmW0el0nvOXZRmn04lWq2X//v1s3bqVN954g6effprPPvusvyE9/M7uSE1NZceOHT7bf/zxxzQ3N5OWlgao0bvg4GDPUvQITj90UVG079+PUBSKD+4nafosRsWPBaC5uooxSeP9HsvmVvrpT+Pfc9yETq3/UgwTJgxh5mceGsrVIM+ouESCIiIAVfUncuy4b2Q+viL0ZrOZYDct9GzGiE0YsQlDxTkX+QcYm6a+iZ48mu1x/p21Xfr1zsZGTt50E5YjR4h77DHCrloBQOH+PURPSCbED+nMcSHqg66kpQTwHfmXAwPRjxuH9Zg37z84wkhboxWhqOHqnMYcpkRMQZbU25Ucluwp+NUXGqsqMAWHYAoa3APOmquqD/UV+XfW1fWKSPuDCLfiT2Pl0KL/wm6nXjgJNBj9uv6efu6Hg8vcxfsXFit6RWCzWHCdAl3+TsgGA+fPmsW/33gDl8tFXV0dO3fuZO7cuWRmZvLmm2+iKAo1NTW9H55C4GppQafT4ZIkJK0O4XQOqHTQyR99/fXXmT9/4BUpf/qYzWZiYmJwOBy88sornu2XXHIJL774IqAml7W4V8v0ej1vvfUWmzZt8kqs6kR5ebmHZ9rU1MTu3buZPHkyMTExhISEsHfvXoQQbNq0iSuuuKJX/+9+97s89dRTns+dD9WioiLS0tJ44IEHmDNnDnl5eQQHB2M2m3uN4S/a2tpoaWlh6dKlPP744xw6NDS1l+uuu44vvviC999/37Nt586dHD16lFdffZUXX3yRkpISSkpKOHLkCJ988omHRzuC0wOXveu3pY2JxllbS3VhPu3NTUyYPc+zajrYpF/b8eOg06FPShqwbZfW/7eH999J7xwVn0DI6DGERkVTeuzINzyrbw4LFizg9ddfH7xNcEOn03m45/7gdNuE5557DhixCQPhTLMJfjn/kiQtliTpuCRJhZIkrfWx/0JJkr6UJMkpSdLV3bZfJElSdrc/qyRJV7r3vSxJ0olu+zJO3Wn1j1EJYwkIDaP0yKFuzr+a9OuoqeHkD3+EvaiYhGeeJmTxZQCYG+upKjzuF+UHYGyIGjUqaS0BVKnJgNAwryq/oFJ/eib9howyorgE7S12nIqT/MZ8UkZ1vT0nhydT01FDi63vsvBNlRVDU/rJzUMyGNCPHdtrnzY6GoQYWqEvt+LPUKk/jtpamgKNREcNjsaERoNsCkBp6/rxC4sFo06PEAJLa9/XcLCQNBquXLyYaZMnM336dC6++GIeffRRoqOjWblyJfHx8aSkpPDDH/6QmTNnepZIAXA6ETYbq2+8kfT0dG74+c9AiAGLhjU1NZGens6TTz7J448/7tc8B+rzhz/8gXnz5pGZmelRIQJ48skn2bVrF2lpacyaNcsjRQcQGBjIli1bePzxx3n33Xe9xsvNzWXevHlMnz6dhQsXcu+993oiHM8++yyrV69m4sSJTJgwwefy6MaNG8nKyiI9PZ2UlBSPLNwTTzzBtGnTSE9PR6fTsWTJEtLT09FoNEyfPr1Pfmt/MJvNLF++nPT0dC644AIec+f7vPvuu/zud7/zexyTycSWLVt46qmnSE5OJiUlhWeffZbg4GA++ugjli1b5nXtLrjgAt57771Bz/ebwtluE3a9nk/xf4UnwKKLjgGXi4Ld25EkmXEZswiP7nT+B8f7t+bnYxg/HskPvq4mIgI5IOBbpfXfUF5KUMQoDAGqdF1CSjrluUdQlFNXQflswooVK0hPTx+8TXDjlltuIT093WfCry+cbpuwbds2zjvvvBGbMADOOJsghOj3D9AARcB4QA8cAlJ6tEkC0oFNwNV9jBMBNAIB7s8v99W2r79Zs2aJoWLbtm1en7c8+ah49qfXC2dHh8iZPEXUPfdXYSstFQWXfEfkzZwl2vfv92r/5UfviQ3XLhP15aV+H3PR64vEg7sf9Hx+5Tf3iH8/8muvNvX/+5LImTxFOOrrPfM8cbhOPH3rVlFZ2CyONx4X016eJt4res/TZ0fZDjHt5Wkiqzqrz2M/d8sPxYfPPu73XDtRcuNNovjqa3zuM+/YIXImTxHtB7/sdT0HgsvlFI9fd4XY/s+/D3pOQghR9el/xYZrl4m9zzzZa19OTk6f/VpbW4W9pkZ0HDkiFIdDKC6X6DhyVNirq0VjZYWoOVEkFMU1pDn5gq2kRFjy833uM5vNQggh6uvrxfjx40VVVZVnX9vJk6Lj6FGhOBxCCCGcLS2i48gR4WpvP2VzOxVobW39pqfgN86WufozT1/fcSBLDOL5ear+vg024fj+KvH0rVvFicN1QgghWrdtEzmTp4iXfn6zeO2hBzzt/nrrj8SHzzw2qLHzFy4S5ffd53f7oiuuFCdvuaXP/YN91n5T6JznP9feJf79h994tufs/ExsuHaZqC4qOG1z6c8mCHHmPBv6swlCnDnzHAgj8zy18Heew7EL/kT+5wKFQohiIYQdeA3wWocRQpQIIQ4D/VUmuBr4UAhxRqxtj03LUAuQ1NUgh4TQkZXFyet/iGI2k/jyywTMmePVvnD/HiJi4xnljmD7g6SQJA/tB9xyn70i/2pEv7vef/AolapibrR4Jft2YlK4yiXti/dv6+igvblp0Eo/Qghsubm9lH464asSpr+QZQ3hMXFDVvzplItLmD5j0H27S34qFgsgkE0mAkJDUVwurD249cOBZDQibHaEjyIdy5cvJyMjgwULFvDb3/6WaPf1FEIgt7ejCQpCcicodUYNh0KxGsEIvmac9TZhwowxaI1wZLtK6dHFxGDRaWmorfaScQ6PiaNxELQfV0sLzupqv/j+nfg2af0LRaGxooxR8V12MiE1HeCcl/z0hb5swghG8HXDn4TfOKD7k6kcmDeEY/0AeKzHtj9KkvQ7YCuwVgjRq6SpJEm3ALcAREVFDZho0hfa2tq8+trbVL7ZZ2+9QUpgIMru3bhCQmj6xZ1UNtRDt7ZOq4XSY4eJnjF3UMc3tBvI68jz9Gm22mipq2Xb1q1I7iQdyWJhDJC7ZQvtikJbWxvZx1RN3EMHctkR/Sl6SU/JlyWUSmrVRCEEJsnEjmM7iK72flhoT5ygxajKV1Y2NvWar6NDIFygD+6d1CM3NhLZ0kKpRsNxH+cpdXQwBsj7/Ava5p836Hvh0huoKCoY0j2sOHwIrdNFfouZfHf/jgaBKRzCwsP65PS5XC7ahUCr0WBvbEQYDMhAh6IgnCBrNJgbG3Ceogr0khBoELQ1NYHeW0a05xJe55wlqxWNy4XdYMDWeR4uF1rA0taG8CGRpzidSLKENMjqzcOFy+UaFn/ydOJsmas/87RarUN+9n0N+FbYhMBEO6XHGvj4vW0Y5Q46QlRBgAYXnjEtQqK59KTfx9AVFBABHLdasfvZJwgIKCtj+2efgY/fek/bdaaira2NT97fgsNmpaHd+/tqCIvgq53baAuOOC1zCQ0N7fc3daY8G/qyCZ04U+Y5EEbmeWrh7zyHYxdOi9qPJEkxQBrQPfX6V0A16rLx88ADwCM9+wohnnfvZ/bs2WJRN1WcwWD79u307Fu+9X10ljbCp03DKklMeOl/e3HdHXYb7z32JxCCS79//aBUH04eO8nnWZ8zY/4MQg2hHBUOqg/uZca0VMKiupz2oic3Et3RQcKiRZ55lny0i8jQSFqMLUwzTePiiy72Gnvqh1Npp93rnGwnTlB82xqMt/yEPGDBpZcxKj7Rs19xKbz2h/0oiuD635/XK6vf/Nk2yoG0yy8nYGbvCLsQgvwHf0tiYAAdQUG9rudA0NVWsG/z61xw/vloezjGA+GF/32GCJuTRUuXAtBc08ErD+0l8+qJGIztfSo3dKo62FtbUcxmZK0WRacj2K3spBEK5vo6jHodOoPR5xiDgaLTYauvx6TRoPVTTcLe2opLkgiMjPS8FAohsFZUYJA16HqMI4SgvrQEndFIWFTMsOc8GJxNKhlny1z9mafRaGTGjMGvep2pOBNswieWbZgLIdAST+Y1E9n03OMEG0wsvvIqT5sD5kZ25h7mvNmz/VIpa6yooAaYc/XV6PyM4jZV11D9ySdkTp2KLqb379mX7ToTsX37dsaGBXMEmH/xJcRPnebZ5yw8Ru7u7Vy4YAGy5usPWOTm5vb7m/o2PRvOBIzM89TC33kOxy74Q/upALpzXeLd2waDa4G3hBAeDoMQopPcZgNeQl1KPq1InDad8pyjRK3/E+Pf39LL8bdbOtj8p4c4kX2QS3/680E5/qDSfgBOtJwAfCv+gFrsq2fSb/AoI60NFo43Hfei/HQiOTyZwqZCLzUY23FVAaih4DiSJBPawzHM21tNU3UHLbUWGit7U12searST1+VKSVJQhsdjbPafz3e7oiIi0cIZdBVMztaW2i1WRit6yqCU1mgymIWfelf8rEmOBjhcuEym5FNXTq9pqBgJFmmw0edh6FA0utBkhBW68CNUZfJldZWFFOAx/EH9VpLOl2vKr+gRv1dTid2i2VANaARjOBrwLfCJuhMEhNmjSF3TxXtzWYaAgzEar0LbXmSfqv9Oz1bfgFySAjaqCi/56FP7JT7PPupPw3l6up0RA96bEJqOnaLhZri3tVjRzCCEZx++OP8HwCSJUkaJ0mSHnWp9t0B+vTEKuDV7hvckR8kNfx8JXB0kGMOG2PTMnDYrNSUlSCbTF77LG1m/vM/D1J5PJeld9xL+ncWD3r8pNAkoEvxp1Pr35fij7OyCqe7Mh6ocp+N9WYsTotv5z8sGbPDTHV711i2IvXB2lRXQ+iYKLTd1CacDhcHtpwgIjYQJCjO7u002/KOoxubiCYosM9z0kVH46geWqGvznyJxorBFbSpPK6+lESFjuraVqg6/9UnWlCUgR1gOSgIteqX8LrXskaDKSgYa5sZl2v4sp+SLCMbDCh+Ov9KWxvC5UIE9r7mvgp9AThs6tiKy4VrJCdgBKcf3xqbkLYoHrvFyd63tiMkiah2b5ZRp2Kav4o/tvx8jJMm+a2vDqDzyH2W+t3nTEVjRRmmkFACQrxVaxJSVCWX0hHe/whGcEZgQOdfCOEEfo66PJsL/FsIcUySpEckSbocQJKkOZIklQPXAH+TJMmTvSpJUhJqlKhndYNXJEk6AhwBRgP/M/zTGRwSUtNBkig94l2Mob25iX8/vJa6kye4/Je/ZmrmwiGNHxsUi1bScrJVrW4YFDEKWaOl2YfzD2A96p3029HoAAFTI3oX3EoOV6tHdtf7txepJczNdithY7yXnI/uqKCtycaC708ielyoT+ffmpeH0Udxr+5QI/9Dc/7DY2JBkgad9FtxPAdZCCJju6RLqwqbCY8OAAFO+8AScpJGgxygOv1SgPeLFwCWFQAAIABJREFUnik0VKXZmFsHNa8+j2U0Iqy9qMo+4WppQdJoEKbelKO+nf+usR1+vmSMwBuK3a5WVB7BoPFtsgnR40OITAwmf+8e9LKGkJp6r/2hUdFIkuyX8y+EwFZQ0OfKaV/QRUeDVvstifx7J/t2IiA0jFHxiSNJvyMYwRkCv3T+hRAfCCEmCSEmCCH+6N72OyHEu+7/HxBCxAshAoUQo4QQqd36lggh4oQQSo8xLxZCpAkhpgkhfiiEaOM0wxgURNS4iZQe7Sra0FpXy2sP3U9LbQ0rHniICbOGksemQifriA+O9yj+yLKG0DFjaKn1ps34VPyJMCKcEmFiNONCe1dG7HT+C5q7FH9sRUUQEEC7XkeIvmv52m5xcvDDkyRMDSd+cjjjMyKpL2ujtb6rbL2rrQ1HaanP4l5e5xQdrer8uwav2awzGAkZPWbQWv/lOUcI7bBidDv/7c02WuutTM2MJTTShNPen6BIFzShoepLQI+qgDq9Ab3JREdLy5BpNEHd+MCywYBwOgbU6BcuF65WM7f/4Q/kHT8OwLp16zz7Ja0O4ehd6Mths6IzGJm78CKqfKyi1NXVMW/ePGbMmMGuXbuGdD7DwcmTJ5k5cyYZGRmkpqZ6NJgBDh48SFpaGhMnTuTOO+8cNm2ppKTEq4hMVlYWd95554D9HGVlOMoHtwI1gi58W2yCJEmkXhiNpbWAUaExKLW1Xr9brU5H8OhImv2gKjorK1Ha2vp0/m0dHbx452oKD+z1noNWiy4uFvtZHvkXQtBQUcqouESf+xNS06k4noPLB5Xx24igIVayB1i9erVHM7+7TRgISUlJ1NfX99o+YhMGtgnnGs7JCr/dMTZtOlUFx7FbOmisrOC1hx7AYm7l6gf/wNi04deYSQpN8tB+wC332YPzrwkORjc20afcZ6phOhofii7B+mBiAmM8kX/hcmE/cQLtxYtwaWQCOroiwtmflmJtd3DelWr5+PEzRgPe1B+b2/k09CHz2QltjFroSx4iR35UXDyNlf47XQ6bldoTRYS3WdFFqzzaqiL12LETwxg/IxKXQ0FxDfwCoImIwDBpkhe3vhMBoWG4nE5sHcOX/ZTcLxeKrf/ov8tsBqHwwgsveAqneDn/Oi3gXehLCIHDZkPW6UCSvFYBOrF161bS0tL46quvWLBgwaDn7xxm1eOYmBj27NlDdnY2+/btY/369VRWqs7TmjVreOGFFygoKKCgoICPPvpoWMfq+aCfPXs2Gzdu7LePUBQUqxXFYh3JmRgBQaFNIKwIYyooCs4ezlN4TKxfVX6t7pyrvpz/kkMHaamp7uX8A+gTEs96uU9nRzu29vZefP9OJKam47TZqC70LVE9gi68+OKLpKSoQUF/nX9XPwG5EZvQv004F3HOO/+JaRkoLhdffbSF1x9+AKfDzrW/+xOxk/qnv/iLpJAkSltLcbmrG/rS+ofeSb+B4Spff4Kmb2c8OTzZo/XvKC9H2O3Yxyep49Wojr3FbCf70zImzIxkzNgQdQ6RAYyKC/Jy/q25eWq/AZz/TgULTWNTv+36QkRcPE2VFT518H2hujAfRVGIaLeijVYTmKsKm9HqZEYnBjE+IxIAu8UP6o8k+XT8AQwBgWi02mEn/goheODhh5m9YgXT58zxlE1XFIXbb7+dKVOmcOmll7J06VL+869/Iel0XLJsGV9++SVr167FYrGQkZHB9ddf31Uh1E39CQoK4p677+bipcv48tAhJEli47PPkjZtGnPnzqWwsJDs7Gzuv/9+3nnnHTIyMjwl1DvxwQcfMGXKFGbNmsWdd97J8uXLAXj44Yf50Y9+RGZmJj/60Y9wuVzcd999zJkzh/T0dP72t78BarXJt99+2zPe9ddfzzvvvON1DL1ej8GgrjzZbDYU972uqqqitbWV885TlaZuuOEGr7E6UVdXx8qVK5kzZw5z5szh888/B2DHjh1kZGSQkZHBjBkzMJvNrF27ll27dpGRkcHjjz/O9u3bPee0bt06brzxRhYsWMDYsWPZvHkz999/P+np6Vx+66047DaEzcbatWtJSUkhPT2de++9d+g3fwRnJUoOZSHJGpqtE7EawnFUedcxUZ3/ygFfFG35nc5/ss/9RQf3A1BZkNdrnz4xAXvZ2e38W5oaAXzSfgDiU6aBJJ1z1B8hBPfddx/Tpk0jLS2tX5vwxhtvALBo0SKysrJ46KGHvGxCTwQFBfHLX/6S6dOns2fPHgAeffRR0tLSTptNuOGGG9iyZYtnvLPRJqSlpbF48WIcblt7LtiE0yL1eSYjbnIKWp2e3a9tImjUaK558H8GXRyrPySFJGFX7FS1VxEfHE9oVDTWNjPW9jaMgV3LgqbUVMwffoTUpq50N+tUxzxG8b2ECmrS7xcVX+BwOVTKD9Dh1vjXF6jJvwc/PInT7mLe5d5KReMzRnPggxI6Wu0EhOixHc9DExY2oEpFp/MvNw/V+U/AabfRWl9L6JiBpfAq8tQXovAO78h/1PgQNBqZqKQQyqrBZnFgDNLR/F4R9m5KRi6XE4vGv6+5y+nA5nTgMNQhSV3vxfrYQMK+N8GvMTZv3syhw4fZ/9ZbNDpdZF7+PS688EI+//xzSkpKyMnJoba2lqlTp/LD71yKpls59/Xr1/P000+Tna3moCjuh3Qn77+9vZ2ZGRk8cMfPGJ0wFkmSCA4O5sDevfx782buuusutmzZwiOPPEJWVlavUuZWq5Vbb72VnTt3Mm7cOFatWuW1Pycnh927d2MymXj++ecJDQ3lwIED2Gw2MjMzufTS7/DDVT/ghf99iSuvvJKWlha++OIL/vGPf/S6DmVlZSxbtozCwkL+/Oc/ExsbS1ZWFvHxXb+t+Ph4Kip6R1R/8YtfcPfdd3PBBRdQWlrKZZddRm5uLhs2bOCZZ54hMzOTtrY2jEYj69evZ8OGDR7j01PzuKioiG3btpGTk8P8+fN58803WferX3HV1Vfz4c6dLAoJ4a233iIvLw9JkmhubvbrPo/g24Oig/uJnZRKY62BitgFTKjxpmWGx8Rht3TQ0dJMYFh4n+PY8vPRxcWh8UH3UFwuTnx5AFmjpamyHEubGVNQl5SfLiERpbUVV3MzGrcM8dkGa5O6YtJdXro7TMEhRCYmUZZzmPNW/uC0zaunTYDB2QVfGKxNyM7O5tChQ9TX1zNnzpw+bcJPfvITr76///3vef755z02oSfa29uZN28ef/nLXzzbQkNDOXLkCJs2bfrabcJ3v/tdbr75Zv785z+zatWqs9YmPProo6xYsYL333+fBQsWnBM24ZyP/Gv1esbPnEN4TCw/ePj/nVLHH3wo/nTKffbi/auUWJ176fd4Rx52jZUQ++g+x04OT8YpnJxoPYGtUHX+W50OtBotmvJKmgoqObKznCnnxxAe7a0mM37GGBBw4pD6kmHNzcMwdcqAKhXa4Ub+3dfXX8WfiuM5hAWFoHMpaKNjsFuc1JeZiZmoGkhJltDqNdgtLoQfqj/9QaPVIiHhtNthiHSQ3bt3s2rVKrQBAYwJCWbhwoUcOHCA3bt3c8011yDLMtHR0SzKzAREv4a+Z5VfjUbD8sWXIWtkNG7az1XfW47DamHVqlWeyE9fyMvLY/z48Ywbp+aQ9HzQX3755ZjcSkj//e9/2bRpExkZGcybN4+GhgaOfJXNrNQU8vPzqaur49VXX2XlypVotb2NaEJCAocPH6awsJB//OMf1NT4Lw/76aef8vOf/5yMjAwuv/xyWltbaWtrIzMzk3vuuYeNGzfS3Nzs87g9sWTJEnQ6HWlpabhcLhYvXoywWkmdNInSqipCdHqMRiM333wzmzdvJiAgYMAxR/DtQWNlBU2V5Uw6bz5jU8KojDkfa4X3ymyX3Gf/vH9bQX6flJ/K47lY29s8qnFVPaL/HrnPszj6b21qwBAY2O8LUuK0dCqP56nP2HMEnTZBo9EQFRXVp0246KKLBj22RqNh5cqVXts6n+unwyYUFBSwcOFCioqKzmqbAJCWlkZJSQmhoaHnhE045yP/AEvvvBdZ1iD5qK44XIwNUWsHlLSUcEHcBZ5od0ttNVHjuiIHRje/T1uqJn3lNeViN8Qht8fRFyaFq4amoKmAGUWFaKOiaK6vJWx0JBLH2bc5DwmZOct6JwyPigskZLSR4uw6UuZHYcvPJ9zHsmJPaIKDkQMDhxX5B2ioKGPcjNn9tlUUF5X5uYw1hSAHBaEJCqQipwEhIHZCl9Os1WsQQmC3OntFYwZb1MNu6aCpugpJoyE8Js5LLnUwkI1GXP1EDITDgaTT9Uo+9oJGo9YMcKh8S6PRiMvpQGswel7SdEYjdqsVYyiDkhf0hcBucqNCCJ566ikuu+wyz+f60hJcTifXXnUV//d//8drr73GSy+91O+YsbGxTJs2jV27dpGZmUl5tyTb8vJy4uJ6f78VRWHv3r0Ye1ybtWvXsmzZMj744AMyMzP5+OOPe/Xtic6lZlmW0el0SJKEYrGg0elxSRKy08H+/fvZunUrb7zxBk8//TSfffbZgOOO4NuB4oP7AJgway6RSTpKjjVzoriWMd3ahMWozn9zVSXxU1J9jKKqR9lOlBB08SU+9xce3IdGq+W8q77PoU8+oCo/j/Ez5nj26xI6tf5LMaWlnYIzO/2wNDUQEZfQ73MoITWdg++/Q1VBnqq2dxrgK0J/thR7GghGoxFNDypr9+v/ddqE7li1atVZbRM6PzudTrRa7TlhE875yD+ARqv7Whx/gFHGUQTrgj2R/87Kvr2SfkND0cXHo3M7/zkNOYhgB22NfSeNJoUmoZW15DflYysqxjBhAk1VFYxKGkd7cBzFJwTTFsYRHOFDRlKSGJ8RSXleE215RQi7fUCln05oo6PRNA3N+Q8ICcUUHOJX0m/dyRLsFgujnAq6GPW6VRW2IEkQNT7E006jlZBkCVvH8HX69aYAwmPiEIqLpsryQUeoFixYwOuvv46i01FbX8/OnTuZO3cumZmZvPnmmyiKQlVZGTv37kXyoe2v0+k8vENfhb6cdhv6bpWI3/3gIxx2K6+++irz58/vd26TJ0+muLiYkpISAA/31Bcuu+wynnvuOc9cjh7KxtzaiqzVcvXly3niiScAPElp3VFeXu7hlTY1NbF7924mT55MTEwMISEh7N27FyEEmzZt4oorrujV/7vf/S5PPfWU53PnkndRURFpaWk88MADzJkzh7y8PIKDgwdVrl0IgbBakXRaJJ2O1oYGmpubWbp0KY8//jiHDh0aeJARfGtQ9OV+RicmETomivgp4QTZ6yloHOXF7w+NjELWaPpN+rUXF4PT2Sffv/jgfhJS0wkMCycycRyV+T0i/27n33FWR/4b+1T66UT81GlIkkzpsSOnaVbfPDptgsvloq6uzqdNqKmp6UVP6UR3m+APOp/rr7/++tdqE/Lz82lvV+lU119//VlrE3qira2NlpaWb71NGIn8f82QJMlL8ccQEIgxKLgX7QdU6o/l4EEUoZDXmEd6+Hcxn+xbx10n6xgXOo6ChnxsxcUEX7WClqP7SLnwYkpSr0UjnMxaPLbP/uMzIsn+tIyi3UUYAMNk/5x/XXQ0Gh+8PH8RERfvl9Z/J98/rKkVrfulqaqomdEJweiNXV9dSZIwmLTYLKos5nCjHXqjkfCYeJqqKmisLCc8JhadoZ8IfTesWLGCPXv2MGvhQnA4WP/ww0RHR7Ny5Uq2bt1KSkoK8VFRZEydSnh075yHW265hfT0dGbOnMkrr7zSW+tfgNbQJeNqbmvj4qXfIyAwkNf6eXADmEwmnn32WRYvXkxgYCBz5szps+3q1aspKSlh5syZCCEIDwnh5b89hyE4lNFOJ5OSk1l59dU+++bm5vLLX/4SSZIQQnDvvfeS5o5mPvvss9x0001YLBaWLFnCkiVLevXfuHEjP/vZz0hPT8fpdHLhhRfy17/+lSeeeIJt27YhyzKpqaksWbIEWZbRaDRMnz6dm266acBS58JuRygKklaLpNVibmvjB8uWYbXbEULw2GOPAfDuu++SlZXFI4880u94Izh74bRaqMjLYe4V1wDqc2ScXMQRMY+aE61Ej1fzcWSNhtAx0f3SfjqTfY2TJ/fa11hZTlNVBTOXXA5AzKQp5Oz8DEVxIbuV3GSTCW1k5Fmr9d/R2oLT0tFnsm8nDAGBjBk3wZ30O/BK87cBnTZh+vTpSJLEo48+2ssmJCQkMHPmTEJDQ3v172kTBkJTUxPp6ekYDAZeffXVftsOxyZERkZ6knPHjBnD1KlTufLKK332PZNtQk+YzWauuOIKrFbrt9smCCHOmr9Zs2aJoWLbtm1D7jtc/Grnr8Ql/77E8/mfa+8Sb/zxt73a1f3teZEzeYooKj0kpr08TWx6ZYt4+tatwtrh6HPs+3fcL655fpHImTxFFP71ObHh2mViz+YPxdO3bhUffO9XQlGUPvsqLkX87327xFv3vCFyp6UJxW7363wqfv1rcWTuPL/a+sLHf9sonr551YDt3n18vfjbmpvE8QsuEJUPPiicTpf468+3iZ2vHfdql5OTI6ztdlFT0iJsPa5Va2vrkOfpsNlEbUmxqC4uFLaOjkH1VZxO0XHkiLDX1Hq2mc1moSiKKN+3T4xLTBRVVVUDztNWViYseXlCCCHamhpFVWG+cDq6ztHldIqqwnxhbqj3a15ms1mdn6KINWvWiMcee2zAPnabVT1GY4NobW0VpQXHRVJiomhqavLrmN8UfF1TZ3Oz6DhyRLg6OoTLYhEdR44Ixzd8Hv58R3NycnptA7LEGfBc/ib/hmMT3vjbM2LDtctEZX6eZ9vJBx4Uf139vvj4xaNebTevf1i8fO/P+hyr5s9/7vMZuv/dN8WGa5eJlroaIYQQx3Z+JjZcu0zUlhR7tTtx3fWi5Pof9ur/Tdouf1GWc0RsuHaZKP4qa8C22//5d/HYqiuE3Wr52ubj6/fSHcOxC6cSnc/j+vp6MX78eC+bIMTpmedQbEJPVFdXi/Hjx4vm5uZTPb1TijPlvg8Ef+c5HLswQvs5DRgbMpaajho6HB2AWjXSp9ynu9hXyQGVXzY2VuWamhv6jv4nhyejL6tV25lUpZ/SXDDoFOKLPsBx8mSffSVZYtz00VS3BaFNntIlLTkAdNExyK2tPqvP+oNRcQlYza10tPYtqymEoDLvGLGTpuCqb0AbFU1dqRmnQ/Ek+3rNyahFkk4N9acTWr2eiNh4NBotTdUV2Do6/O4raTRq1N7Wde+WL1/OjIwMvrNqFb+57z6ifUT+e42j6yr05bBZ0Wi1aLolNckaDVqDAbuflX5feOEFT6GVlpYWbr311gH7WFpakCQJU0gI27ZtI/PiS/jxj35IQLcViLMFisUCkoRkMCAZDCDLiB7SdyM4N9BSUkRAaBjRE7qoOqbYSKKr9lD0ZS3tLV2Uy/CYWJqrq/qUKLbm56OfMMHnM7Qoax+RSeMJGa1mEsQmqyuslfm5Xu30CWev3GengMOoPjT+uyMxNR3F5aTyeG/J03MNy5cvJyMjgwULFvDb3/7WL5twqjEUm9Adn376KXPmzOGOO+7wuXIxgjMTI7Sf04BOxZ9ScylTIqYQNiaKwv17vJZ9oSvpt/nQl+gn6pmQkMgRmjA3Whkd77ta4KTwSRQ2qP9vdtqRZQ21JzWctygc7Sc2LEeOoE9K6nNu4zJGc2xXJS0T+ucGdoc2OgpJCJy1teh8JOcMhC7FnzICQnw/LFrramhraiQmNgGEQBcTTXmh+rIQM7F3H1mW0Bs12CwOgoRh2NSfTmh0OsJj42iqrqS5upLQqGgvidb+IBuNiG5O+fbt23FUV+NsaPBJD/AF1ZlQC305bDaf9CO90YjFbPaL8nT33Xdz9913+3VsUCUKLW1mjEHBaDRaLrroIkpKTlJ38gQWcwt6txLE2QLFakU2GDw5PrLR6JFUHcG5A5fTQUvpCVIuWOSV76WNjia+4g3K4y8iZ3elRywhLDoOp92GubGBkNGRvcaz5RcQMLc3ZcJibqXyeC7zrrrWsy00KhpTSCiV+XlMv3SpZ7suMQHn22+r39H+hADOQDSUlyJrdQSP6ludrhNxU1KQZJmynMOMTR9+Ic2zGX3x/E8nBmsTeuI73/kOx44d+1YkUJ9LGIn8nwYkhSQBquIPqIW+FJeTtsYGr3ba8HBcERGQX8zkiMmER6o/JnND387JpPBJxNcLnKEBNNZWo9GPIjgigOkr0pECArAc7j+xKirMidbZQY1pot/no3MX23IMQqqrOzoVfw5//D6HP/3I59+Bd98EYEyw6uhro6KpKmwmJNJEYKjviLMhQIviEjjtAxf8Ggw0Wi0RMXFoDQaaa6qwmFv96icZjSg2uydaKITA1dKCHBSE5IckGeBpp9hsuBwOdG6nwGF34XKq4+qMJoSi4LR3RSqFy4XL3Ob3OfYFS5sZoSgEdIvoyLKMKSgYa1sbSj9VJc80CCEQFqunAjO4nX/rqan063Q4fFZcHsGZh/KcYygOOxNmz/ParouOJsBSR1yClqM7K3C5K4eHdyr++OD9u1pacFZXY/Qh83niqyyEUJgwq+s4kiQRO2lKb7nPBDVZ1lHufwX0MwUNFWUYwyP8Es7QmwKInpBM6TlW7GsEIziTMBL5Pw1IDFEf6l1a/12KP51LwZ2wJyYScfIwKaMWYwrWodHJ/dJ+ogKiSGyQaYoOoqb4BC4lktlLk9AZdZhSUrAc7j9T3Vl4nFENR6kMnIfiUpA1Az+8O4tt9ayE6S9MDicGh5PcPbvI3bOrz3ZBo0YT7BS0oa42VL1dRdK0UX2215vUr7Otw4nOcGq/2rJb+rO5upKW2hqEIrwcYl+QDAZAIGw2JJMJpaMD4XAMWEjNaww3jcDhjk7rDEaEEDTXdGAwaQkZbULvdmbtVqtnZcDZ2IizpgZdbCzaiIghnLHqLFtamtEZjb1WHEwhIXS0tmBtMxMQenYUJRJOJ8LlRO62WiGZTNDYiLDb3fdr6DDX12G3Whgdn6jWYRjBGYuig/uQNFrGpk332t5Zx2RybAeflek5ebiB8TMiPc5/U1UlidO8+3gq+/pYzSs6uJ/A8AgvWWeAmOQpFGXto6O1xbP66dH6Ly3DMNH/YMyZgIbyUoyj/X+uJU6bzoF338RutaA3nl2rhyMYwbcBI87/aYBJayImMKbL+Xcr1zTXVvfSOm6JH0V0tkKqYZxawTXCiLmxfz53QgMcTRR0tDSgDZjKhJnqC4UxPZ2mf/5TdWz0ep99rXnHiaw7RE3UXCoLW4if3HeBlk5oY9TIv7N6aJH/lrfeZlFuKQ6DnqT/vI6uj6ViQ2Agrf/8PwDa5TCsbaU++f6dkDUyeqMWW4eTwLDhq/70Gl+WCY+Opbm2mtb6WoRwERjWt2PduXSv2GzIJhOulhaQZTSDWB71OP/uqL7WYMBpVxCK8ET+NVodGp1OfUFwO+KddCNHVRWy0Yg8hEIldksHToeD0PDeL1w6g/pC0NHaiikk9JRf668Dndx+r8i/+0VAsViQh+n8O+02hKLQ2lBHWFTMWXFNzlVMyVxIg6U3ja6zgvlopQqdcTylOarzHxwxGq1O7yX3qQgFIQTWTue/R+Tf5XRQcuggU85f2CsiHjdpKgBVBceZMGuueuxEd+S/rPQUnunXD1tHB22NDcQl95Z47AsJKense+vfVOTlMC5j1tc4u+FDCAGKgtRDT38EIzibMUL7OU1ICkny0H6CR41GkmVafch9lsaozt6UOvXf4AhDv5F/Z10dRouLQqOqRz86fizGQLWvKT0N4XBgPZ7fZ39rXi5RphY0Opni7Dq/zkUTFIRiNOKo7p20PBCEy0Xzm28SMHEiRqsN58efEhQxyuefzmDEUVWNHBxMTZV6fr74/t1hCNDiciq4HL4T84YLSZYJi4rBGBSMuaEBc2N9n5QRSa9Xi3RZrQhFQWlpQRMcPDgjotGAJONw2NHqDciyjN2qJjW7nF3H1RuN2K0Wz1yE1YocEICk1WEvLRtScnZHSwuyRoMxqHc9AlCj/0677ayhuijuF6LufGrJYABp+Em/isuFy+lEq9Nja2/H5ta/HsGZidhJU4hM6V1kSg4ORg4IwFVTRdykcMry1HomkiwTFh3jkft0KS5u/eRWbvjwBizH85BDQ9GO8V7FLcs5it1iYbzbue+OqAkTkTUaL+qPJiwMOSjorJP77JRtNvoIEvSF2MlTkDVat+TnmYlOmqa9uBhrbi7WvDxsxcXYKypw1tfjMptR3BLBIxjB2YZzI/L/4Voy8nbBiW+OnjBWauQ92hEvLUWDRIgBmve8Bh2vebWrk1QqzajNT0LFPwiuv5T6ponw0jKf49pPqk6LWRNICDBBkw0vqdFyU6vqJFqevw3TTN9Os21fGUGjdSQG5XPi8xYWtN+NPwFLvcmBc9+b8NLn/py+B+1FHTirqom6YgzNLhNNLz3HaOP7SBrfB3Xsr0ZncFD+4RsYteMJ++Ba6Nl02v1Qr36V9UIGIrHV16DVt2NyucB2aiM2EhCqAUkP7U1NiI4mYidn0HYyu1c7WQOKuRHF1YJwudDIHVBf4NVu9V2/5s5bbiQ9ZTLrHn+OX9+9xmsMSRY4XS6MGhfUF+CwhgN6Zp6XysGt/yZyVAQ6J1hc4KorpLGhkWXf/ykOl4Mn//ggc5OnYy8uQB+h8+veAjgVsHVAkAGkhiLP9u7X0yjALIGlrgx9t5X7k2UVrLjxZyiKgsPp5I7VP+K2m9Sy8QcPHeWmO9ZisVhZ+p2FPLnuwWFFyEtKy/niwFdct/J7AGRlH2HT62+z8U+/7XXvRYsDSSMhNRV7tkmArBUo5ibQDZwjUVJaztTMJUyeMA67w8GF8+fw7KMP41Rkik6c4A9/+iP5xScJCgxk8oSxPP2n3xI1Rl3Zuus3f+Q/735I2aGdyN0iwQYTX+c9AAAgAElEQVShgZFkuTMCkiShjY7GWV1DwvxwSg7X01pvIWS0ifCYOOrL1aj834/+nb1VewEo+aqc+OTkXt/joqx9aPUGEntQi0BdOYsc613sS5IkdIkJ2M+yyH+D+5oYI/x3/nUGIzHJkyk9euY5/0JR1DyOunqE3Yak16ONjFRpgzYbSmsrru65TpKMbNB7FMRkgwFJryckMpK2tqHlXa1evZp77rmHhIQE1q1bx69//Wu/+iUlJZGVlcXo0d6r6XV1dSxfvhy73c7GjRtZsGDBkOY1VJw8eZIVK1aoNsHh4I477uC2224D4ODBgx6d/6VLl/Lkk08OzyaUlPDFF19w3XXXAZCVlcWmTZvYuHHjKTkXX8ebOnUqkydPxm63c+GFF/Lss88iyzL5+fncddddFBQUEBwczMSJE3nqqaeIclN/77rrLv7zn/9QVlbmZRNOB0Yi/6cJSUJHuyRoQI1IhwZAiw/lyCMhCi0hEo4aNZoabGjF4gzA4fL9nmarVyPiJkckSAYmj+mKGmmDNWgCNVirfEdmFbuCvdGBIdLA+PAC2uzB1Lb7x9uUAyUc5sEnezYdakUTIBOcHEjEzFBc7S5aj/cdJXWanWiDtVSa44gJrhjQedVIClrZgc319cpQSkCICQL00NFP4FvSSgiHwGVxIckg63v/5F58Yh0pk1WO77on/tZrv9BICECnASHA7tKhuNQXO0Wo4+ndPq7DCZ9u/5zU5GSyPnqLhRfMRReiRXEoOM3+yaA6nU4sdvUcTb7ZYgDIEhh1YHWA0i34FRMVyZ4P/0329nfZ99F/WL/xeSrdFLE19z3EC4/9DwX7P6GguISPtu70a059oaSsgn+9+Z7n8+yMNDb+6bc+2ypOgazr/QWSdTLCoeBv/G5CUiLZ29/l8I73yDleyNsffEJbh40frb6F2266juN7P+G/77zNTddfR11Do3psReGtDz4hIS6GHV/sH/R5juD0QRcdjaO6mvjJKqWv/Lga/Q+LiaWlpprDNYd4Lvs5loxbwrXJ12A8WUtzgndwRQhB0cF9jE3PQKf3/SyKSZ5CdWG+V9K8ISkJy6HD2IqLffY5E9FQUYZGp8MQPDiZx4TUdGpPFGHrODNWyYTLhbO+HltBAY6KCiRZQp+QgCE5GV1UFPq4OAzjx2OcOhXjlCnox41z51SFg06H0mHBWVuLvawMW1GR+rAeIl588UVPpdx169b51cfVj/jC1q1bSUtL46uvvhqS4+90Dk9COyYmhj179pCdnc2+fftYv349lZXqKtqaNWt44YUXKCgooKCggI8++mhYxyopKeFf//qX5/Ps2bO/Nse/ExMmTCA7O5vDhw+Tk5PD22+/jdVqZdmyZaxZs4aCggK+/PJLbr/9durqVIaFoii89dZbJCQksGPHjq91fr5wbkT+l6wn27SdRYsWfWNTGFfxBXx6KyeW/IHR0XMIdTxFUdY++PH/edoIIcj9v3mYJ47G2qiDH79P8L5qeCmHtuX/Ijy6N/3CVvp7pOAtBHfokA3BhN/+gmefBJgO3I6ltBR+vKVXX+tXXwHXYbzuDySddyHSfbspTvgNUVdO6NW2J1p230xwfgH8+H2/r4Gjtpa2DRcz6sc/Rlp9L4GKgm7/EpoqRhP6Z9+VCx1/X4CYcRmtjeFMWz4HLvWhQZybC6O7tLoNLTbam224QidgsbZ/bRJkEmC0WOioLAdJgtHJCCG4//77+fDDD5EkiV/deScr5s/HYVG4Z8MGduzbR0JCAjqdjp/85CdcffXVLFq0iN///vd8+OGHWKxWMr5zDampqZ5qjq72k+C0M2bSDFbf/FM++e+nPLZBLaX+6Auv89//fozJZOKpR9djVwRr//gYlo4OZi//Pnv27sU02oTQVuFsaOCjrCPc97vfERgYSGZmJsXFxWzZsoWHH36YoqIiiouLSUhI4PE/PsK6vzzO3gNZ2Gw2fvazn3Hrrbfyo1Wr+P73v++p5HjbD37AZYsWcu1113UlLna7RjapAQUZIsZT5ZBo7bBz3mK1ouoNq9fw9rbtLPnBaq/rWldXx2233UZpqRpRfOKJJ8jMzGTHjh384he/UK+9JLFz507W/ulpcnNzyfjONdx4443MmDGDDRs2sGXLFn77q19RWVlJcXExpaWlrL/7brIKC/nvjh3ExcXx3nvvodPp+M3/3KX+PyCA7152GRs2bOj7prfpQKOH0clogfMXXkJhbQdV733K7JkzuOKHtyBJEoHaOmbNmqfK2ppMbP/sM1LTpvP973+fV/8/e+8dH2WZ9f+/7ymZmWQy6ZUkJLRUQhEEpNoRFLGy2Ntadl1dXXfXZx/15+rq165rW3WtiA1sdAtIlY6UkNDSCaQnM5ne7uv3xyQhZZJMQgD32bxfr3kpc7frnszc51znOudzVm7k3Lk3nviMzGa6mWMNcJpRxcfj3LSJiIRggsOCqDjQQNbkRCLiE5G9Hp784X+JDo7mkYmPwPEajrk+4zPvLlKdJsI0vt9AXXkp5rpaJl01v8vrJI7IYM/3y6k7WkZs6hAAou+5B+v2HZTdcCMp7/67Vf7510zDsaNEJgwKSOmnLSnZI9n61WdUHNjfTg3pdCM8HjwNDXjr6xFeL4rgYNSJiT5Vti6iTVJLv5WQ9jZZyDLC5WpNiW1JCWprEx555BHmzZuHLMvce++9/PTTT35twgsvvMCnn36K3W5v1eHv2OFXr9dz1113sXr1at544w0AnnvuOVatWoVOp+PTTz/FYrHwl7/8Bbvdzs6dO9myZQu6NqIHK1eu5MEHH+zWJqSkpLBw4UIefvhh1q1b184m3HTTTVxyySXMn+/7rl9//fVce+21XH755a3XCGpTc+h0OpGbFfAqKytpampi4sSJANx00018++23nbr89somPPywzyaMHt3JJjz99NPtbMLLL7/M1q1bWbVqVTub8PDDD7N06VJUKhUXXXRR9zahDSqVinPOOYfCwkI+/fRTJk2axGWXXda6va0Pum7dOrKzs3024bPPOPfccwO6Rn/x3+H8/woYHDYY8Cn+jI8fT1hMHDaTsZ3aQYW5ArtsR505HtcnP+G1WAiN8uUnN9U7/Dr/rqJiFEMyULusuGM7pzXpckdiWbcOr9ncqdDUeegQANqMDNQhahKHh1Oyp5ZJATj/3vAIPHV13RYTd8T09Tfg9RJ+9dWAL4824rr51DzzLI6Cgk6GTna58NbVYdGnQEPP+f4Aq1atorKyCo/Li1KlQCCjPMlCrfj4eL8txwGU6vY/oa+//po9e/awd+9e6urqGD9uHBMXLGDr7t2UV1VRUFBATU0NmZmZ3Hbbbe2OfeaZZ3j99dfZs6d9+pBH8k00rFYrY0edxd8e/Dvhcb4CXoPeQF5eHgsWLOCxp57mk/fe4//785/ZsW0b/1q4sNUgq+LisBlN3HPffaxfu5ahmZmtD+sWCgoK2LRpE8Lt4o3XXiU6JpYdO3bgdDqZPHkyF110ETfddBNvv/02c+fOxWQysXXbNl5+5mnsbVRLAI4ePcrs2bMpLCzk+eefJzExkZ07d5KUlNS6T1JSEseOHaMj999/Pw888ABTpkyhvLyciy++mAMHDvDCCy/wxhtvMHnyZCwWC1qtlmeeeab1wQ6ddbOLiopYu3YteTt3MuW881i08BNefP11rrjiClasWMHUqVNZsnIlu7/9lqDkZHqzSG+z2VizZg1PPPEES7/5mjGjR7c6CyERUTisVprqaogalMxnn33G/Pnzufzyy/nb3/6G2+1GPaAI9KtEHR+Pp7YWPB6SMyIpL6hHyKJV8cdcXcPTN7yBIciAuXgXAAfDbTy59Umen/Y8kiT5AjvAkLGdtf9bSBzR0uzrYKvzrxk+nNSFH1N2222U3XwLyW+/dSpvtV+orygnflhgfUvakjA8A6VazdH8fafU+V+1ahVVHerTvF6vzy54vchOJwiBpFL5BBYCmMR0ZRMkhQJJq/XZWuHrz/LN0qXtbcL48UybNo2ff/6Z0tLSbm3C3//+d955551ONqEFq9XKhAkTePHFF1vfCwsLa7UJf/zjH1m+fDlPPPEEO3fu5PXXX293vMPh4K677mLDhg2kpaV1aRN0Oh3vvPMOYWFhnWzC7bffzvPPP8/8+fMxmUxs3ryZjz76qNNYf202oaCggEmTJvHVV1/x3HPPtbMJ33zzDQcPHkSSJIxGo9/P3h9tbcKPP/7IWWd1Xcx+pm3CQNrPaSIhJAGNUkOZyddxt0Xxx9Sm6LegoQCAmDG+WbCjoIDQSJ/z31XRr7OoiKrEHBAuqqM6f0m1I3NBCBz793fa5jhwEIXBgKq5k/DQMTE0VtloqOx5GdYbGQFC+IxkAAhZxrh4McETJrRrOhZ+5ZVIOh0Nn3SO/HtqfJ2LG4hBpVYQkxxYBF+SfC/Ze+oLsRRKVbPD57vWpk2bmD9/Pkqlkri4OKZNm8au/fvZvHcv18ybh0KhID4+vlezfK+QUcq+ScwlF81BrVGiUvt+ulc3Nw+aP38+O3f9gsftQna7fR2G2xgxSaGg2GohLTmZQQoFwuPp9KCfM2cOWq0Wm8nEhs1b+OSzzxg9ejQTJkygvr6eI0eOMGXKFI4cOUJtbS2fffYZV111FYaISNxOJ+423YyTk5PZt28fhYWFfPTRR1T3oifE6tWruffeexk9ejRz5syhqakJi8XC5MmTefDBB3n11VcxGo2oAuiVcMkll6BWq8kZMhSv18usOb4ozMiRIyktLSUsLAytTsfdjz3G1199RXAAqkhFRUWMHj2ayZMnM3v2bGbOnOmLGLaZZCoUCgzRMXhcLhprqlm5ciVz587FYDAwYcIEvv/++4A/jwFOL6qE+NZnW1JmBHazm/rjFvK9JQBcZJjC+HifU98i83nJBXfxfen3LCv2paAV/bKdhGHphIR3rZ5miIkjOCy8c6ff1FRSFy5EFRlJ+e13EFRwoIsznDmEEMjNv3lTbQ1RST139u2IKiiIxBGZlOd334vmVCHcbmSHEyQJhU7X2vG7P2hRERM2WyebMH36dHbs2MGmTZu45ppr+mQTWlAqlVx11VXt3mt5rs+fP58tW7Z0e/zBgwcZMmQIaWlp7Y5tYc6cOa2rBD/88AMLFizoZBOmT59OUVFRO5vg79n8a7MJI0eOxOv1MnPmTKCDTdBquf322/n666/7ZBO6Cha24HK5zrhNGIj8nyYUkoIUQ0qr3GdLG/TKI4eISUkFoKC+ACVK0sZfQBlP48gvIGLceBQKya/cp6exEW99PceFb0Vgv+EIbq8btfLE7FE3MgcA+748Qia17+LrOHgAbUZGa7QybVQMGz4/TPGeWiIT/Cu8tCA3GzV3VVVAXX6tm7fgPnaMmA6dBJUGA2Fz5mD69ltiH3oIVcQJY+lp7iNQZ9ESl2ZAqer5wdzyo7MYndhMTrThYAgz9HhcX5Ekyafp3sU8Q1IokFRqFBptn4qYhPAV+wbJAq1Wi/BCkF6FpPAtB4g2okYtzr7X4/apBHUci0rl6zrs8eCqqOikUhESEoLb4cDjcqJUqnjttde4+OKL2+1jNpu56aabWLhwIZ9//jkffPBBs/JRHfamJtQx7aUTExMTycnJYePGjUyePJmKNg2MKioqGOTnuyPLMlu3bkXbocvpww8/zOzZs1m5ciWTJ08O6GGpaZHvdDlRq9UomiMrCoUCj8eDSqVi+/btfLdwIV9/9x1vffIJP/30U7fnbMnvbMHjdjNi2DB27mtfvKgJDkGrD2XZ0iUYjUZGjhwJ+KJDOp2OSy+9tMfxD3D6aZH79OX9ZwNwcF8FT5me51K1gTHKExr8zsOHUQ8axE3j7mJ9w3ae3vY0mUFDqSo8zOR5N/o9fwutzb4OH+y0TZ2YyOBPFlJ++x2Ev/km5hHDCb3ggn68y5Oj8dNPqXvtdQwfvQdCEJWUwnF77xXFkrNHsnnxp9gtZnT6U5Oe2dERE14v9rIyJJsNpcGAetCgfpfxbJETPtXdw7VabaeV7bZ25mTlhkPapDUJIfzaBPBNGtrahO74tdgEhUKBWq1u/Yw62oQ1a9bw5Zdf8vrrr/faJgBkZ2d3mcv//fffn3GbMBD5P42kGlJbnf/olFTC4xM4tPnEl6OgvoDEoESC4xJQxcXhKChAoZAIifAv9+kqLkaWFNQ1d3KtC7VR0lTSbh9lWBhBqanY89o7JsLrxXnoMJqME8u1+ggNsakGSgKQ/PRGnHD+A8G4eDHK8HBCL+xswCKuuw7hdGL6+ut277urqvEoNTQ0im71/f2hCfbNa72uXh3WJ5QqdavvP3XqVL744gu8Xi+1tbVs2LCByXMvZ8oF5/PVV18hyzLV1dVdtnVXq9W428hyelxOhBAoZbl1gqHWKlsfWF9+vRiAL774gkkTJyJJEl6BX2OWnp5OcWkpxzweZIuFz/0szdpMRhRKBTNnzeJf//pX61gOHz6MtVm+8pZbbuGVV3w1B1lZWc1yoKHYLWZkWaaiogJ7s9FrbGxk06ZNpKenk5CQgMFgYOvWrQghWLBgQbu80BYuuugiXnvttdZ/tzxUi4qKGDlyJH/9618ZP348Bw8eJDQ0FLPZ7PezbEuLzGdHLBYLJpOJSy65hOceeoi9e7tviucPj8vJFXMuY9v2HaxYcaIGZsOGDZRVVvHN8hW8/NyzlJSUUFpaSklJCT/++CM2m5+K/wFOCzW2Gpq8/jt1tzr/lZXoIzSExwezafsv2L12ohKSaKo+8cxzHD6EJj0dpULJ01OeRoGC17/6O0Cn7sH+SByRibG6Epup86qtKjqawQs+wp2cTMX9f8S0dGlfbvWU0LRqFV6jkeqdO4ATwazekpI9CoSgouD0RP9lpxNncTGSzYY6Lg51cvIp0e+XFAqQJGS73a9NOPvss5k8eXKfbEJPfPHFF63/ndQh4NeR9PR0iouLKS0tbXesPy6++OIubcL111/fziZ05NdoE7qixSbMmjWLl19+uU82AeC6665j8+bNnWzC/v37+eyzz3j33XcpLS09YzZhwPk/jaQaUqkwV+CW3UiSROaUGZTn52FpqEcIQUF9AUlBvvw3bXY2jvx8AAxRWr/Ov7OwCJNhCG5nLUGhYbjUgiONRzrtp80diWNf+4erq6wM4XCgzchs9/7QMTHUlJl7bCwmR/iccU8Azr+nrg7zmjWEzZ3rt5GSNn0EwWefTeOnnyHaKBa4qyppMqQhRGD5/m1RqRUoVAq8vQ9G9ZqWvH8hBFdccQW5ubmMGjWK8847j+eee46EhASuvvpqkpKSyMrK4oYbbmDs2LGE+ekQfOedd5Kbm8v1118P0Kqhr2yW05EkCbXmhLFqbGwkNzeXf/7zn7z8yiuo1GpkhX/nX6fT8eabb3LpvHlMvu46QlQqDG2WNGXZi8NmQRcaxp133klWVhZjx44lJyeHu+66q1XxIS4ujszMTG699dYT5zYYELKMw2LmwIEDTJgwgVGjRjF9+nQeeuih1gjHm2++yR133MGwYcMYOnSo3+XRV199lZ07d5Kbm0tWVhZvveXLe37llVfIyckhNzcXtVrNJZdcQm5uLkqlklGjRvHyyy/7/fsIrxfRRS8Cs9nMpZdeylkXXsj5N9zAC88+C8DSpUt57LHH/B7TEY/LhU6rZdmypbz22msMHz6crKws3nzzTcIjIli3YSPnTp6M3exzNkNCQpgyZQrLli3r4cwDnCre2PMGjx97nH9s/QcV5op221q6/LY0MbTF1aKtieRPYx4iblBaa6Mv2eXCVVKKZoRPbCBRn8j/TvxfKKpDCtMRnTy4x3EktOT9Hznkd7syLAzj/fcRPH48x//yVxo/+6xvN9yPeE0m7Lt9zlfNgXwUSiXh8Ql9Olf8sOGoNBqOnobUH29TE66iIvB48MbGooqJOeWN+ITdzty5czvZhPj4eK666qo+2YSeaGcTungmttBiE2bOnMlZZ51FaGio3zGAT360K5sQGxvbySa05ddmE7qjxSbk5uYyZcoUXnrpJaB3NgF8n+3y5cs72YTQ0FC+++47Zs8+Id9+RmyCEOI/5nXWWWeJvrJ27do+H9tfLClcInI+zBHFxmIhhBD1x46KF66dLXYs+1pUmCtEzoc54smlTwohhKh5/XVRkJEpPGaLWP1Bvvjgr5s6na/yqafE0jmPihfn3ywW/eNRMXrBaPHyzpc77Ve/4GNRkJ4hXFVVre+ZVqwQBekZwl5Q0G7fxiqreP2uNWLPmvJu72Xt2rXi4FnjROU/nurxvuv+/W9RkJ4hHIWFXe5j+u57UZCeIZrWrDlxf088KVbM+Zt44+41wmlzd3lsQYd7aKGp3i6qS03C65V7HOPJYGlsEJWFh4XX4+l2P7PZLIQQoq6uTgwZMkRUVlaeGGtTk99jjNVVorqkSNj254vaskbRWG1t3WaqtYnao+Z2+5sqjorKwsPC43B0OwavxyPuvO568exf/iK8drtvDHW1orLwsHC7XF3eQ1NTk7BarWLIkCHCaDS2vi/LsqgtLxV1R7v/3nRE9nqFu65OuGtru315u7if7mj5TD1Wq7Dl5QmPydTlvl6bzbdPm3sKlMaq46KmrKTL7bIsi/pjFaKquFB43J2/x1397dvi7zsO7BS/gufymXz11SaUmkrFb7/8rRi9YLQY9dEo8dcNfxWHGw63bj849ixR+Y+nxJGGI2LuyzeK1+9aIyoONYhNX3wsXpx3mfC4XcJ+4IAoSM8QphUrWo9zOezi+esuFXf8ZZrYW7O3x3G4nA7x0vw5YsMnH3S5z9q1a4XX4RDld98jCtIzRO3b7/TpnvsL08qVoiA9QxRkZonPb5kv3n/g7tZx9oXF/3hEfPin3/XjCNv/XmRZFq6qKmHLyxOOwkLhdToD+s2dLO7GRmHLy2t9vvqjO5sgRGDPhpOlZQyyLIt77rlHvPTSS70+R1VVVSeb8GvkdHye/UGg4zwZuzCQ838aSTWkAlBqKiUtLI3IxCTihgzj4M/raRypByA5yLd8qs3OBiFwHjyAPioSq8mJ1yO3y3t3FRVTF30RwrqH+LQZpOnTOGLsHPnX5fpm2Pa9e1FfdBHgK/ZFrUYztL2yT3hcMBEJIZTsqWXUed0v5ari4/BUVXa7jxCCxsWL0Y07q9O12hJ6/nmo4uNpXPgJoeedB/hSipoixhGVpCdI1/uvqiZYhd3swmX3tHY9PhUom/PIvW53u6LPjlx66aUYjUZcLhePPvoo8c0Rxu5wOx2oNVpwC2ShIEjbpqhUKSF7ZYQQrRGslhUCj9eLv5H8+9//5qOPPsLlcjF61Cju+M1vcJaX4zTocVitaPV6VN0oDqxdu5Y//OEPPPDAA+0iRJIkoTOEYa6rxe10ovazwuMPb1MT7sruv0MAUn09mmHD+rRE39K9V+qQL9ru/BpN6zK9sovIV1d4XC5U3SheSZKEISaG+qPlmOtq+xwlHaD/GPzzv3iuPB9neCwLJDOLi1ayongFM4SO24WBUK0L17av+OugLzHr1UjIVHzxJhHSZoSQMP5rLqoyX2qBJv9lqPbJLJbXgOSRsMQ4+J8VN7NYxBPczQK7GojVw/ENi8G52O8+o41GFCXhJJ0lOF4VQu1LLyFvfp+YaRGnPHLtD8uKGpRaBdp4DUZTPQmhJvhgNqONxj410kx2wKajEra3ZxPcX5q3zY0fhSxwGT3ILhmlTona4EVqKjslzR87omjuwC7XlqLQ+b/WpZffgNHUhMvt5tE/3km8ygx1J1JWTsc4//3WB3z0+Te43G7GjMzirofv7tSIsjtWr/+Z2+//Gw/cfSth7hqoqzmFoz05Tsfn2R+cjsaPAXlUkiTNBP4JKIF3hRDPdNg+DXgFyAV+I4T4ss02L9CyplcuhJjT/H4a8DkQBewCbhRCnIYM7TPHYMMJuc8WMiZPZ/3H71F3eAcqSUVikE95p0X20pGfT+iwC0GApdFJWMwJfd6Go0YsgwUImeiUVIbLw9lds7vTdTUZGaBW48jLw9Di/B88iGboUL8ynUNGR/PLd2XYLS50+q6fxur4BNxV3Vfs27Ztx11WTszvftftfpJKRcRvfkPtK6/gLC5GM2QIrqoajNGJZPUy3791fBolSOC0nWLnX9Xs/HvcqOnawewqp7MrZK8Xj8uFNkSPpzlrRa098ZNtmQjKXoFS1ez8u3x5Tm6HHY0flYIHHniAB5qLroUQ2OpqaWoygdWKPjKKkPDuP+tzzz2XsrIyv9t0+lAs9XXYm0yoY2IDu0eLFUmpRDNiRNf72O24Skvx1NSgTui94yw7HD71o24mNZJCgUKj7XWBnpBlPG4XmhB9t/up1EGERERiaajHYbWg7WH//wT+L9iFOFT8WUTwWwx8Jix8Kpm5UVHNswaB3uzgsKTgdWU4tfoqKkyDOWfQZgAabWCodSEpISjixPeqqAaClIIHIvTcQQ3PSY08LrrvfJsQDnkVIMvdi81ISonES2NRBNVRv9WI7JKJuyDqtE4AhBBYiu2EpOlQhquxWlVE6gSd264HToqvlxpHGyC953hIwMhuGZfRg/AK1AYVquDT6/RJKsmnOucSoPO/z7olC/1vOI08cPetPHC3/3SdQLhg+mSKdv2E6hTUTgxw6ujR+ZckSQm8AVwIVAA7JElaKoQoaLNbOXAL8JCfU9iFEKP9vP8s8LIQ4nNJkt4Cbgf+1cvx/0cRpgkjUhtJWdMJ5ynjnGmsX/g+NbvyGJo1FLXkMyTq5pxER0EBhgk+eUJzvb3V+fdaLFSLeIS3DvAVEA83DWdlyUrMLjOhQSdmjQqNBm16OvY2ef+OgwfQnzPZ7ziHjoll16oySvfVkXlOYpf3o4qPw3Gos1JFW4yLFqEwGAj1oxDQkfBrrqbujTdo/ORT4h99hAYTeGNUJPbR+ZckCWUQuOwehCx8CjmngJacf08virICwe3yefxqrftjPgYAACAASURBVBa7BSRZbpX4BF/kH0D2+laEhBDgdKDSaXA5u6/ZcLucNNXW4HY4UKvUaC1WglweJKnvZUC+wl89dosZfVR0j+3KhRDIVguKkJBuI/pKvR5lZCSe+nqUYWEoApBea3cduwNJ27PakqTTIjc1tVtJ6QmP2w2CbiP/LYSER+CwWDDX1RKk1XW7SvRr5z/eLnRo/BgO3APc7Lbx1ZGvqPr+FdIP25iXPp/pEx9h65Iifvm+nJAbFsLWG6moH0FC/iY0WSOR7lgE+CaCxffcTOr4bM6+/WFu2/UK7+1/j6nnPsX5g8/vciiJP69n96vPU3vuK8QNGdZp+551J8YpAfG3CRTPv0DD++8jJ59LwlP/QApA4rA/cOTtx2u7Bv2tj2F0ORCLFxA68lq44eZ24+wNcV4vQXt/w9GYGaTf+vt+Gae8axfOBg+SSoVmcHKnZ4bdbD5lzR9bkADJUorweCC68981EE7HOPuDgXH2L6ej8WMglv5soFAIUdwcgfkcaFeOLYQoFULsA2R/J+iI5LOs5wEtkaCPgLkBj/o/mFRDKiWmE4o8+sgokrNGojlsJCuyffGtNjsbe35+a6OvtkW4ruJiaqNyCVLVoVAqiUwcxIgIX/TUX9GvLjcXx/79rS3MvbV1aDIz/I4xOllPaKSW4t3dq/6o4xPw1tUjXP4Dc57GRsw//kjY5Zej6CblogVVVBSGWZdg+uYbPI2NNBADQMLQntMwfKlunVGqfdtcDg8e2UOT07/Cx8mgUChRKJU+ic1+xNPswKs0GtxChdLT3qFXqFqkPX33LtxuhCyjVgfhdjj8fiZCljE31NNQcRSv201YbByRKYNRh4Xhqa3BYzR2+VkGgi40DCHLOK09t8sSLhfC7Uah7zkKro6LQ1KpcB8/jpADesz4riHLyE5Hq+52dyh0Ol9xcC8mcZ6WCVoAzr8v/ScWr8eDpbE+4GuczN/jFPJ/0i4Eq4O5MetGZk28iQirxF9GPQhAckYkQhYU/vMz1F6Zml92ETJpEonPnljsqC4uxGpsbFX5+f3o35MZmcnjWx6nxtZ1KkTiCN9z//iR7gMpLUiSROyfHyLm/vswLVnCsQceQO7iGdzfWDasB0kiZMoULCE+hzrEdHLPVIVSyaCM7H7R+xcuF5V//zvehgYknQ7N0KG9Dhb0JwqdDtnh7NUza4ABAuFk7UIg4YJBwNE2/64AetOOTytJ0k7AAzwjhPgW35KuUQjhaXNOv2LxkiTdCdwJPpWR3qZOtGCxWPp8bH8SZA0i357fbiz2SAP6fCX2I04sMSfGGRISQkhRMbt2bgTU5O06SLXL11RGtXEHprAxIO8hKCyCjZt+xuQxAfDttm9pMrR/IGuD1IRZrWz6YhFKYyMRwEGnE3dX8mLRMmX5Dtb8uBalunMU1GKxUGQyEiYEG5cuQ47uvLQdvHo1oW43R1IHczDAz16VmUnUkqXsefRRTGFDCVI52LGn+0Yler2eiooKwsLCOkdslTJICiwmO1anEbPXTIIzoXWFpd9QKHA5HH2WGPN6vZ2OdVisKJRKLGYbAgmV14HFaITmKJ9ozu+32+y4ZYdPtxoQCiVClmlqbGzVtQfwupy4zE3IXi8qrY4gfSgeJCwWC4SGorTZcFdU4KquQQ4zIIKDfd3SehhnW4QQKFQqzI0NeHpIBZDMZpSAHSCAz02KiEBZW4vt+HHkAPLyvV4vlsZGVELgBBw9XUOWUQG2hgZESPd9LlpwWSwgSdgcTiRnYA6YWheMzWRCVihRqoO6/UyFEJhMJqxW66/i+dWGM2YXTodN0JothAnB1hWrkNwudD+sQaG6mqN7q9DpgzCmD6fwqispLC+H8nIAjm3fBJLEcauDmubzXqm9kucan+P3y37PPbH3oPCzsiaEQB0cwp6N6zFpOk+EuxxnZia6a6+BRYvZe8utmO64vd+aVHVFxPLlkDqYTfv2cXz/XhCCxu07WZe97qRsrEsbQuPxCn5YsZygk0iJC161itAlS/GOHUutSkWYzeZ3Fa+n51h/IQFKBNb6ekQAAbCOnK5xniwD4+xfArGzJ2sXTsda4WAhxDFJkoYAP0mSlAeYAj1YCPEO8A7AuHHjRF+WFcGXb93XY/uT4v3FbN21lbHnjMUQ5Gs+9X28leqfN5LujECv17eO0yzLVKxYwcS4GMrDbEQZIpkxw1cLsP2nIpAUKCQrKZk5rce8+8271IfUd7pXZ0oKxR9+xEiNBm9QEDXAxHnzUHaR430ssZFvX9rN4Mhshp3VOX973bp15EyfwdGPFzIuLZXgDm2shRAUP/scytGjmRqgRFkLJStXwfoNGMdfSEpKcI9/N7fbTUVFhd+24A6HA+FR4nV7sWma8MgerEHWdmlR/YG9yYTH4yHU0jedXofD0amBibm+DpVajbLRitPqQeM0onJEomgTZTY3OAjSKtEEq/GazchmM0ohsDQ2oDU1EaQLRm6OxLsdjlZNfpXLA00dHi7C17XTW18PFUdBqUSp1yMFB7caUH/j7IjTbsNpsRBiMqPsJh3B09CAcLtR9yL9xWMyIaprUMXG9Jjq4HA4CJJlvEYjKiGQGhu73V8Igae6GoXVitIQWGM4m8mILMvonYGvFgghY2loQKquJiQ8EqfT2e1nqtVqGTVq1Glt/X4a6LNdOB02waJUcfTjhSQvXoRjXx6SRkPMjFlYR19EUlwY5QV5nY5dsPIrkjKyuWBme6lCxSEFT259kuNxx7kh6wa/1zPv3kJNSRFTJ0/D65HbCRx0a7tmzKA+NY2a555j0N7xxD7wx0Bvv9d4Gho4UlpG9L2/Z9SMGSzbsw2zUk1kfT3jZ8w4KRtbnZLEwi3rSVRJ5JyEnS5btBjb0KHkzJzZpU2AwJ5j/YHwen3PFLsdZQArnB05XeM8WQbG2b8EMs6TtQuBOP/HgLayL0nN7wWEEOJY83+LJUlaB4wBvgLCJUlSNUd5enXO/2RaFH/KTGWMjPGp8ByyFXEsxkHo7nyiR5wInmmzfd0lHfvzCY3Kaqf1f6xGRZCngSZzPdHNHYIBJiRMYGnRUtyyG7XixJciKDUVhV6PPW8fstmCKjGhS8cfIGFYOLpQNcV7av06/wDq+DgA3JWdtf7tu3bhKikh4amnevhEOhN5/XUUPv4S7qBQEoZH9Li/Wq1ubU/ekXXr1pEUmsX3C/azJOtVasPLiA+JZ+WVK/u1UG7T5x+zfcli/rjwmz7lcq9bt44xY8a0/tvSUM/bj/+Zc2/+LRWlaTSUNzHu298x6JWXMTS3IwdY+NgWYpJDufi3mRz700PYd+9m2E9r+Pe9txE3ZBjDxk1k/YJ3cdqsjJ9zFROunIc6qHslHiHLmNesof6tt3Hk5aGKiSHyllsInzePjTt3tBunP2xNJt6552ZyL7yE8265y/81vF4OnzOZ0AvOJ7EX3xF3dTXFsy9FlzuS5Pfe6/ZvuG7dOjJ+3ozxyy9J37kjIKWg4kceQRUeTsr77wc0nrfvuZmU7FzG3/ungO8BoPiXHXzz7N+ZfO0NOKLie/xMf4X8n7YLQYNTAHCVlBJ9z91E3Hgj9h1mNn9dSFJGPJb6tSeUuICm2hpqy0qYdsNtnc51zYhr2FixkZd3vczZCWe3pme2JXF4Bke2bea7f2+n4bjMdX+fiFIZWBQ/8tZbcJWUUP/22wSlphJ+xanJlLJu2gRCoJ82HYCGinLCwyNw7d2O3Nzsqa/EpKYRpA6i4MXnyRg3EVVU90XSXbHneAlFegUj3nyZsy+/mrTMTL/7dXzenkqO3HcfwaPHMOilF3t97Okc58kwMM7+5XSMM5Cnyw5guCRJaZIkBQG/AQJqNShJUoQkSZrm/48GJgMFzVqka4Grm3e9GVjS28H/J9Iq99lG8aegoQDbiFBsRiPm4ydW0lWxsSijo3EUFBAapW3N+fd6ZKrlWMIUvtqBmDbO/6SESdg9dvJq2+dPSgoF2pE5OPbl4Th4EG26/3z/FhQKidTcaErz6vC6/ecrqpolCz3VnZ3/xkWLUOj1GC6Z2WmbEIIjO6vZuarU7+uwMofSEVcAkDTKbzZYr0jJjgSlIK0hl1tzbqXCUkFeXf82lQmLi/M5zfU9d0cOhMoiX3pXTNpwjh1uJCm9uaNyh4mWPkKDpdGXd+48fLhVNWdQehZHtm1m1RsvER6fwA3P/JMpv7mpR8cffN8Vw4UXkrroC1I+eJ+gYUOpef55Cs8/n5AVK9s1YvNHsCGMYWefw4ENa1uLljviKDiAbDIRMumcHsfTFnVcHLF/ehDr5i2YlnR+ZAghqC0rYd/q75A9HhwHCtCmpwcsEarLzsaRXxBQPqXdYsbS0H7yHShDxo5nxKSpbP36cxyNDb0+/lfA/2m7EJSSQurixQz76Sdi7rsPVUQESZm+36DX41s1NLaROS76ZTsAQ8/qnPkkSRKPn/M4+iA9D298GKe3828ioTnvv/iXfTTVOSjcGbhcoiRJxD/2KMGTJlL52GPYduwI/EZ7gWX9BpRRUWizs5C9XhorjxGVkgqyjONgYPUKXSFJCqIcLuqDNT4Z6j7gaDJRqgKDLoTiX3bw8V/v4+tnHqfiwP6TGtvJohuZi33fvpM+j2y3n/Qka4ABWujR+W+OwNwLfA8cABYJIfIlSXpCkqQWebbxkiRVANcAb0uSlN98eCawU5Kkvfge6s+0UYP4K/CgJEmF+HI93+vPG/u1khyajFJSthb9CiE4UH+AuJwsgnQ6Go4caN1XkiS02Vk+uc9ILZYGJ7IsOJZfg1ehISTUl7YRnXKik+S4+HEoJAVbK7d2urZuZC6Ow4dxlZSg7aLYty1DRsfgdnipOOQ/XUKpD0Gh13dySL1GI+bvvidszmWdiq2EEPy8uJAf3s1n25Jiv6/ty8uoisglxNNAZFrfIkBtCdKqaIqtZLhxLLdk30KQIoiVJStP+rxtCY/1adQZ/UyE+kJV4WHfCoLk+xsk58Yh6XSdOirrI7RYGh0IlwtnSUmr8z9i4hSCw8I5/7Z7mP/E8+0miIEiSRIhkyYx+IMPSF28iOCzzkK/bBlNy5f3eGzu+RfjsFo4sm2z3+3WLb46jpCJvUkT9xE+bx66MWOoeeZZPA0NyLKXigP7WbfgXd67/7cs+Msf+PHfr1N/aD/OggNos/xH//yhzc7GazLhPna8x33ryksB+uT8A5x3y52oNBoai/13d/01899gF3Qjc1DqT9R+RA/So9WrsRh9xeMtnX4BinZuIyJhEJGJ/oMVUboonpz8JEcaj/DV4a86bY9LG4qkUCK7j6OP1LBndXmvCvoktZqkV14hKCmJinv/gKsLOd6+IrxeLJs2oZ86FUmhwFhdhdfjITYnFwDH/pNzsB379hFRVYdNo6bql519Osf+JV/jUSqYNuMi7nzjAybPu5GqwsN88fjDfPbYXyj+ZccZKZ7X5Y7EXVGBp6Hvk3whBOV3/JaKP/yhH0c2wH8zAeX8CyFWAis7vPdYm//fgW+JtuNxm4GRXZyzGJ9ixH8VaqWaQfpBrXKf1bZqGhwNZMXlEHl2LAe2bGjXNEiXnU3dxk3oQxXIssBmclK0uRSF1wXBLjTBIYRGxbSeP0wTRlZkFtsqt/G70e219XWjcqG5Hbcmo2fnPykjArVWSfGeWgbn+HfC1QnxuDs0+jItXYZwuQi/5pp278uyYP0nByn4uZLc85I454ph3cpDKxRSv6Tm2D129uo3MbXyWhxVMD15OqtKVvHQuIdQKfqn7CWs2fk31fSf8x+dkkpVkQUkSEqP5FhcHO6Ozn+4BqvJhb2oGDyeVud/2PiJDBs/sV/GAqAbOZKk118jb+ZMal99DcMll/jtEdFCctZIwuMTyFvzPVlTz+203bZ1C5oRI1BFR/d6LJJCQcyjj7Dz9lvI//N9VCl9ufdKlYqUnFGcffnVbFn8KZaiI8g2W2vPjEBoTbXLzycoqftVpxPO/+Bu9+uKkPAIbn7+DXblndnIZF/5b7MLkkIiKT2C40d8UfnGSt8E0WmzcTQ/j7Gz5nR7/LSkaSSHJrO1civXZV7X4eRKFKpY1Jo6xs9OY+3HB6k42EhyZmTA41OGhZH89luUXjuPo3fdTeoXnwfcsM5cX4fNZOxyu+PgIRpddtQ5mVQXF3LsoG8eF5uZjTk2Fnt+Pgzu2+8AfCvFgxweDsmCfft20lthTCEEezf+hMHmIHnCOWj1eiZeOY+zZl9O3k8/snP513zz7N+JSUll/NxrTqv6ji63eYKUl4d++vQ+ncOyZg32XbtQRgb+fRhggO4Y6PB7BhhsGNya9lNQ7wt4ZUVlET4lk/z1qynevYMRE3wa/NqsLJBlNFZfOklTvYOywxYiGw9iCrcSlTy4k4M8MXEiH+7/EKvbSoj6RORKO/KEvdV2kQvZFpVayeCcKEr21jL9unQUfnTyVXHxeNo0+hJCYFy8CO3Ike2u4fXIrP6wgMKdNYybncrZl6adtuY0O6p2UBS2h6nStRTvqWXW6Fn8WPYj2yu3c86g3qWddIU+KgqFUompHyL/QpapKjpC5pTpVBxsJCY5FK1ejSohvnPkP1KLkAWm/YUAaEYMP+nrd4WkUGCZOxf1q6/RuGgxkTd0XcgtKRSMPO9iNn76IfXHjhI16ER6uOxwYNu5i4j583t1fafNSvHunRRu30LJnl24U2JRmRoYnJFNxi13kjZ6XGtjs2MHCzi8eSMC0ATwXW9BM2IEqFQ48vMxXHxRt/vWlZehDdGjj+j76lRoVO8nPwOcOZIyIijcVYPOEN7q/Jft+wXZ62Ho2J7nLOPjx7O6bDWykNsp/xTuqgEpAZdtP8PGRrN1SRB7fizvlfMPvnSlpNdfo+zW26i4/4+k/PudbpvbARw/fIAvHn8YuYd0PkYkw7JFvhegUKqIHJSEOycHx/58mDWrV2NtwWux0LRyFTGXziat6ABF5kaa6mowRAfWKBDgaP4+jKZGcuvNaNrUf6k1WsZechmjLryEgz+vZ/uSL1n56vMEGcKI9DrInn5BQD06TgZtVhYoFNj39c35F14vNa+8AoC3oQHZakURoBrZAAN0xanVBRvAL6lhqZQ3lSMLmYL6AhSSgvTIdFKyc1Hpgjm4aX3rvi2RSHW1L02oLK8eq11BZON+Guqq/aZzTEyYiEd42FW9q9376thYVPHxKPR61IMCy6UfMjoGu9lNZaH/qJAv8n/CIbXv2YPzSCHh11zd+p7H5WXV23kU7qzhnCuHMeGyIae1K+XGio1IOpmEYQaKd9cyNWkqoepQVpSs6LdrKBRKDDGxGGu673gcCA2Vx3DZbUSnDKOq2ERShi/XWB0X7zfyD2A8fBTU6naG71Tgyswk+OyzqXvrrR7zT7Onn4+kUPDjko/avW/fvRvhchFyzqSArnlkxxa+evox3rzjela++jwVB/aTOXk6c//0v1xihZytexjRxvH3yl5qYzx4PG7Meh2a4YFPiBQaDZphw3Dk5/e4b+3RUqIHp57W7/IAZ5YWZ1wTEkNjlc/5L9q1Ha0+lMT0nieZ4+LG0eRq6tSLJW9tBaHRqXjdLhqOl5F7bhLlBQ3UVfTcL6MjwePGkfDkE9i2bqXqiSe6TXWRvV5Wv/smweERXP7QI1z+50f9viZ6VExShrR777p/vECQLhhtTjaukhIkR/eNBbuiaflyhN1O+LXXkjMsC4Rg57JvenWO3d8tI0hSkBIa7renjFKlInv6+dzywhvMeeh/UWl1rH73Td79w+1sX/IlLkfvOnv3BkVICJphw/qc929augxXYRGhF14IgPt4zymJAwzQEwPO/xkg1ZCKw+ug2lpNQX0BQ8KGoFP5On5GDsugePcOHM1NklTx8SgjI1GW+FIDCjb5fvgRwY04bTa/+cajY0ejUWr85v0bLr6I0PPPQwpQD3pwThTaEDWrPyigsaqzs6eKi8dbV9fa6Mu4aDGK4GAMs2YD4HJ4WP76Xsr21zPj+nTGXJQS0HX7CyEEm45tYkL8BIaNjaexyoalys0Fgy9gTfkaHJ6+GSx/hMXG90vkv6LA97dWBiUiewXJGT6HQ5UQj6e21tcxshl9pM/5N5XXoRkypMco30kjScQ++ADeujoaPv64211DwiNoSFNTsX4LW1adyHO2btkKKhXB48b1eLmdy79h6QtP0Vh5jLGz5vCbJ57nrrc+4sI772Xo2ZNIeuLvuCsqqH3jjdZj1les543GTwEwDk5qJ40aCNrsLBwF3Rf9CiGoP1pGdHJqr849wH82hmgdhmgtQoRhrDqOLHsp3r2TtDHjAlL5Ghfn+87vqDpRlFtVYqKmzEzueb5txw8fJGfaIFQaJXtXl/dpnOFz5xJ1910YF39Jw/sfdLnfnh9WUFtWwrk33eFLFRw3odNrcHIakfmHGDHjgnbvt3Qj1mVngxCojh7t8jpdIYSg8YtFaDIy0ObkEJmVTWKjmbw132FrCkwRvKm2hqKd20l1yQQP7T5hSFIoGD5+EhlXXs81jz5FVPJgNn76Id+/+Uqvx94btLkjcezb1/uaA7eb2tdeRZudTeRttwLgqqg4BSMc4L+NAef/DJAW5ovOljSVcKDhAFlRJ3KSI4dn4nW7ObLdVyjpK/rNxlOQh1avxmF1E+asRE7wyXT6yzfWKDWMiR3j1/mP+5//IfHZZwMea5BWxeUPjMbrkfnmxV+oPdpeG16d4Mt1d9fU4DWbaVq1CsOll6LUh+Cwulnyyh6OF5q48NYssqeevHJPb6nx1FBhqWDKoCkMOysWSYIjO6qZNWQWVreV9RXrez5JgITHxWOqPfnIf8menRhi4jDValCqFCQM8+XtquMTQJbx1J5QFNKH+6Jcllpra77/qUY3ejT688+n/t338HSjnS+EYEN2NRUxdjZ/+AE7ln0N+Ip9daNGdbt0LYRg8+JPWP/xe4yYOIVbX36L6TfcxqD0TBSKE05W8PjxhF9zDQ0ffoSjwJdCt6Z8DTaNh2Cni7rQ3i+Pa7Oz8TY24qms7HKfptoaXHZ7nwqpB/jPJikjEoc1GJvJSOmeX3CYm/yq/PgjQZ9Akj6pnfOft64CtVbJqAuy0EdFc/zwAbQharLOSeDwjmrctr4Vqcbcdx+hM2dS88ILmFev7rTd0tjAz18sZHDuGIY3p5n6w7ppIwD66dP8bm9dne5DkbFjfz7OAwcIv/YaJElCM2I4Q2uMeNxudn+3LKBz7PnRV3YyqOQYmqFDAjpGkiRSckZxzSP/YMIV13J428/UV/R+8hIoutxcn5BALydIuo0b8RyvJObBBwhK9qVOuiv+K1TRBzjFDDj/Z4DBBp/DvrNqJ3X2unbOf3BsPOFxCe1Tf7KycBYWEhrhi2BGVv6CJcwnNxed7L/IamLCRI40HqHOXnfS441OCuWKP41FqVLw7Uu7qSo+EZFRxfucf09VFaZlyxAOB+HXXIPV5OTbl36hrsLMzDtzGHF2/EmPoy/k233pG1OSphBsCCIpM5LDO6oZFzuOGF0MK4v7T/UnLDYeh7kJp63vcmwet5vyvL2kjRlHxSEj8UPDUAX5nN3WvgptUn80ISpUagmbU3lK8/07EnP/fchWK/XvvtvlPvWOeho9JnZMdFCWYGfDwvfZtOA97Pv3EzKp65QfIQTrP36XLV9+RvaMC5h9/59Rqrpe0Yh96E8oIyKofPQxXC476yvWk2jXEmO2U+u04nEH3oALmiOZ4Cti7ILakyz2HeA/l6SMCGTZNyHfufwbFEoVqaPGBnz8+Pjx7KzeiSxkbE0uCnfWkDkpgSCtipSskRzavIEFf74Xj30zXlc1dYf6VpwqKRQkPvP/0ObkcPx//obsbC8xumHh+3jdLs6/7e5uU9cs6zegiovrMrigio5GlZCAqg/Ov3HRIiStlrDLLgNAM2wYeqeblNgEdn+3DJe9+6aJbpeTvJ9+IC0rB53dQdDQob0ew9hZl6MK0rBjaWcVpv6ipejXvi9wiWmvxYp+1SqCJ04k5JxzUEZFIel0uAci/wP0AwPO/xkgRhdDsCq4VW6yrfMvSRIZU6ZTnr8PS7P+tzY7C7xeQtQ+Jya6di9NCgiNikHbRSv0iQk+pZdtldtOaqxCCL458g0eg40rHhqLTq9myT/3YKnyRaPUzc6/u7IK46LFaLIycScO5ZsXf8FUa+fS349iyOiY7i5xSimwFzA0bCiD9L5VhxFnx2Gud1BbamVm2kw2HtuIyRlww+luCYtrUfzpe/S/vGAfbqeD8lAb9RWW1nx/aNNXoY3zL0kSwToJpyYc7WmK/ANoR4wgbM4cGhd+grva//0WGn1FyA9N+DM/j23ElR3NthXfcCAhkuBJ/iOlsuzlx3deY9eKJYy55DIuvuu+dpF+fyjDwoh/5H9x5Oez/1/P0eQwc4vlDiItLryyTOWR3umGa9LTQansNu+/Vemni8l3IAghqHnpZVRddCEd4NdJUkYEktL3uzyav4/k7JGt9SaBMD5+fGvef8GmY8hewcgZPlGk8267mxk33YEmRM/u777G2bSQyu3vsea9tzlakIcs91CU2wGFVkvMfX9ANpux/nxCdvdo/j4ObFrH+DlXEZHQ9YqscLux/vwz+mnTup0gaLOzUJf3LkXJa7HStGIFhlmzUIb6gllKgwFVbCwZSi1Oq5W9q7/r9hyHft6Aw9xE5mBfuo+mh7QffwQbwhh53kUc2LSWprr+6dPSEc2wYUhaLfZ9ewM+puGjD1GYLcQ+8Eckyad8px6UiOvYgPP/fxl3dTWqsrJ26b2nggHn/wwgSRKpYakcsxxDQiI9Ir3d9ozJ00EIDm3eAJyIREYraomNktFbj9Fos3QbdcyIzMAQZDhp53958XIe2/wYr+1+DUOUjiseGoshSkv5BkHJ3lpUzQ6vefVqnAcPopz9G7554RfsZjdz7h/Ta7WK/sTmtlHoKGRq0tTW94aMXPaNFAAAIABJREFUikGpVnBkexWz02bjlt2sKV/TL9cLi/FF5nub9+/wOMiz5fHoz4/y/BcP41UIlpfuAWjN94e2kf/2zrZOYcehiThtaT8tRP/hDwhZpu6NN/1uLzIWATA1aSrXZszj88G7SQuLoDQmnI3bNnZyZLweNytffYG8n35g4pXzOPfmOwOuTQm9+GL0M2agfm8x4yrG0FA0AndwBgJB2b49vbovhVaLZuhQHPkFXe5TV16KISaOIF3gTl9HzN9/T/077xBUcKDnnQf41aDTBxGTMogWneIhAaj8tKUl73/7sR3sX3+MlKxIwuN83yNNcAhnzZ7LvMef4e63FzDxqt8iKaPZt2YVi/7+P7x15418969XKNq1rcsGeh0JmTABRWgo5h9+AMDr8bDm/bcwxMRx9txruj3W9stuZKu1y5SfFnQ5OaiqfamfgdK0cgWyzdZOHAJAM3w4+vLjpOTksmvFt12u3Akh2P3dcqKSUoiy+T4LzZC+CR6Mu8zXVHLX8t4VGgeKpFKhzc7GEWDk39PYSMP7H+AYPRrdqFGt7wcNShpI+/k/TtPy5UT9v2fwNjWd0usMOP9niJbUn7SwNILV7R2IqEHJxKYN5UBz6o8qMRFleDjJxl3MSDyEUEgY62u7bS6kVCiZkDCBLZVb+tzYpMHRwHM7nkMhKVhZshKjw0hImIYr/jQWbTisens/RQVmn2H5/nsskUNYcyAer0dm7oNjSBgamMb0qWJr5Va8eJk66ITzH6RTkToymsJfakgPz2CwYTArivtH9acl8m8MQOvf5DSxrGgZD657kGlfTOOd2ndYU7aG1PpQgockkmhJR9LIxAwObT1GYTAgBQfj6dBXQeMw4tRFtqZgnS6CkgYRMW8exq++wlVa2ml7kbEIQ5CBKG0Ud4y8A41KQ/yhA2RpQslfv4YV/3wer8dn2N0uJ0tffJpDWzYy9bpbmDzvxl6p6EiSROxjj+BBZlqRz7kyxaRTG+7i0J4tvb43bXY2jvz8Ln87dUfLTirlx2syUfWPp9BmZ2M7r3MfhAF+3aRkxSEpfKuuQ8/qnfOfoE9gkH4Qh3Yfw2pytUb9OxIcFs7kay8nPG0u4cn3Meu+vzA4dwxHtm3m2+ee5F93XM/Sl56mYONa3M6uhQukoCBCzzsP808/IVwuflm5hPqKcs679U7Ums7KOG2xbFgPajXBE7tX5tJm5wB0O2HuiHHRYjTDh6MbPbrd+5phw3AWFzP+squwNjZQsMF/cOb44YPUlBYxZualuIqKUSUm9FkC0xAdS+aUGez76fuAC417iy431yckEEAaYv3b7yDb7VjmtO8doU5Kwl1RcUaalQ1werDv3483MhLVKe7pMOD8nyHSDL4IRduUn7ZkTp5OdfERGo4fay36deQX4CoqxpmchOz19lhsOCF+AlXWKsrNfVOMeGHHC1jcFp6d+ixOr5OvC30Fm9oQNYPPlUgYGsaPHxRQOeQCTKGp7B51HwqVkiv+NJaY5NAezn7q2XhsI1pJy5jYMe3eH3F2HHazm2MHjcxKm8WOqh1UW0++UFcbokcbou8y8l9trebzg5/z2x9+y4wvZvC3TX9jT80eLhtyGb+L/R1LZnyOyuhi4uTZJJky8MQ3teutIEkS6ri4TpH/IFMlLrWBM2EPou++C0mjofbVVzttKzIWMSx8GJIkEaWL4s64K4motpIycTTTb7iNw1s3seT5f2AzGfnm/z1O8e6dXHDH7zj78qv9XKlnDqsb+GJqMDa1r/bBGjaUmmgXjaXlva7D0GZn421owOMnpcnjdtNwvIKYlL7Lqta88CLexkYSnnwCAlCJGeDXRVJmBJIyhoiEVMJi43p9/Pj48SjzYzBEa0npooFiC9EZEjYTKNUjmH3fn/ndu59w1d+eIGvauRw/fJBVr7/Ixw//keriwi7PEXrxRchNTVSvWc2WLz9jyFlnB1SkbN2wgeBxZ7XrdOwPbc6J5niB4CgowLF/P+HXXttpkq8ZMRzhcJAQHkXckOHsWPqV33SnPd8vRxMcQubUc3EWF/Up5act4+dchcfpZPd3PXcw7wu63JEIlwvH4cPd7ueurKTx008Ju/xyvIkJ7bapBw1CtliQTadmgjLAmceRtx93auopv86A83+GSA1LBbp2/tMnTwNJ4uDPvui/NisL55EjOA4cwJboi/B2F/kHX7Mv6Fve/+Zjm1lWvIzbcm5jZtpMxseP54uDX+Btfggr1RKX/WEUg7OjyI+4gN2j70cbquHKh8YSEX/mG5AIIdhYsZF0XTpqZfti0cHZUWiCVRzeUcWstFkIBN+Vdp9bGihhHRR/hBAsOrSI61ZcxwVfXsBT256iylrFTdk3sXDWQlZfs5pHJz1Kpi6TiuZ80NjBuYQ6I6mNLO10/o4dlYUQqKpKEJICm8l1UmPfWrmVfbW906JWRUcTedONNK1c1aq20zKuQmMh6e7RHD3oq125rNEXKf8kJI9xl13Jhb+9l5K9v/Dve2+n4mA+s37/IKMu7FujIIDV5aspHXwWQqEmouEAdmUUsSMykASU7Q881xaa62zw78w0HDuKkOU+R/5tO3ZgXLyYyJtv7lX34QF+PSQMC0djmMmQ8bf36fhRignEmlKJGx/kt3liW/SJEBEfzO4fyxFCoFSpSR01lgvu+D13vfkh5z3wR9wOO58+8ie2fbvYr6McMnkyiuBgNnz5KUKWOe+WO3sco/vYMZxHCtFP+//ZO+/wqMq0/3/O9EkmyaR30kNIoyUh9AgICCuoa8HXV8XdRdfVXVdXXd3fWte6rrr2tbz2XVcsKCpICS1AEjophPRCCultUqae3x9DQkImyUwIiMrnunLpNeec5zwzzJxzn/v53t979MZUMnd3zB4e9Obb16269bPPEJRK3FZcPmSbMtIaxBtKS0m54mraTtZRnL130D661haKsnYTl7YIuVyBobQM5RiKfQfiGTSByORUjthRaDwWVAmnOv2O4vff+NprIIp433nHkG3yU13HDRelP+cEQ1XVD7qqYmptxVhdjTHk3FuiXwz+fyCmeE8hSBPE7ADbFmsuHl4ExyZwfM8ORFG02qmZTBjKy9G5Olt7AgSMbJ05wWUC/s7+Ni0/R6LH1MPjWY8T6hrKrYnWm8T1MddT21U7yBpTppBy2W8TCPXU4Srp5KoHU3H1Ujt0rnNFSVsJ9d31xKnihmyTyiVETPWm7EgTgepg4jzj+ouvz5aBXv8W0cJT2U/xt6y/YbKY+MPUP/DVyq9Yf8V67p5+N5O9Jw/q8ll++ABavwCOpncgSiwc1xwYMv6ZHZVNdXUo2q0PA7rWsfcsaOlt4a5td/HiwRcdPtbz179G6ubW34USoKmniQ59J+6749j0Vh5GvRnTvsMY3Zz4RjzCvrp9JC5ayrLf34va1ZXL73mQSXPHLn8RRZFtVduY0pmGq1ZGSG8+IhJSQ1diklg4sH+o1eFIqGJiQCKxGfz3FfuOxebTotdT9/AjyIOCbN7cL/LjQK6QEhwTwLE9bWx5L5/mGseacamO+2OUGKifMHIWGKwrflMunUDTCR01hYOtdau7ari15EEKV7gRmZzK7k8+4LPH/x8dTQ2D9pMolXSmJnNC10bKyqtx8xldIqjLGNni80yMISH05I2e+bd0d9Ox/htcly5B6jZUGqo4lcHXFxcTlTwT94Ag9n31+aCgLGfr91jMZqYsXoaxthZRr0cZeXbBP0DKymvo7dKRk77prMc6E3lgAFIPjxEdf/RlZbR/uQ7t9atsNuJUBFklYsaLJgHjTm9hIaWLl6BLH58awDHN4dTvxxhy7l3kLgb/PxD+Gn82/nIj4drhfYljZs+nta6W+rKS/mVVgA4BPAKCRrQ/BOtNI9U/ley67P6MvT28ceQNanQ1PDzzYZRSaxOpS4IvwdfJl0+OfzJoX6lMwvInV3DDm9egcR9ZP3o+yaix3rgmqW133YxK8cOkN1OR08SysGUcaz5GeXv5WZ/XzdePjsZ6DCY9D+15iP8W/pfVcav59BefsiZxDRHaCJtadovRyIn8XNSuUVQda0GcXUex+RhG82B9qPyMRl+9hYUo9dbuy7pW+woAbfF2ztt0m7qp1TnePVLq4oLnrWvo2pVB936rf3lpeylB7dFYOmTou00U7TtJV2Ym7nPm4+vsx0uHXkIURSbNns+tr71HVLJ93X6Ho6y9jMbGVlwafZg4O4gpH1kfYoINMTR5mqjOc2xFQ6JWo4wIt2n32VhVgVQmQ+sX4PA8m998C0N5OX6PPorEAYeYi1x4LFwdS+KCIMqONPHfv+3ju9dzBtkgD0dvl5GaQ53U+hdwsG2fXeeKTvFF7arg8JbBEs7nDzxPr7mXLQ3bMSyPZunv7qa+vJQP7/s9BXtOJ2pMRiOHjTqc9Abi/O3LKup27kIeFITCzq7hxpAJGKuqMI8iSenYuBFLVxfaa6+1uV2qcUYeEIC+uARBIiF5xVU0VJRSefQQYDUGyNm6kbAp03H3D0RfYpU7KcLPPvj3j5pIcFwiB79d57BF8GgIgoA6MZGe3OGvRY0vvYxEpcLrtttsbpf3Bf8X7T7HHd0uq8FK9/6hSbfzRd/KmWnCxcz/z5roGbORymQc37MDeWAgklNZktaujlElP33M8J9Bh6GD4y322R0WNBfw4bEP+WXUL0n2S+5/XSaRcd3E68iqy6Ksrczh93K+yajOYKL7RLQyrc3tAVFanLVKivbVc1nYZQgI45L91/r4YTaZ+MvGP7G+dD13TrmTe6bfM2rxamftCUxGA021nsTO9ick1Q2zaKZaN/giL/P1G9ToS19UjEpvzQaONfNfq6vl08JPUUgU1HfXY7I4bjHmfsMNyHx8aHjhRURRpLStlEkNM1E4S/EIcCZnUxmmpiZcZs3h9sm3k9OUw7YT28Y0X1ukV6UT0TwVEIhO8cPZTYlMDS1VPbhGhyBt6aW5afimXbZQxcYNkjL10XSiEo/AYKQymUPj6YuLaXr7bVxXXI5mzvBNlS7y48DJVcGcq6O4+clZJP8ijLrSNr74+0HWPX+IqvzmYeUDBXvqMBktOE/V9/v9j4ZMLiUxLYiq/Jb+VYasuizSq9L5/dTfM8NvBs/ufxaXqVHc9OzLeAQFs+Hl59jwyj/Qd3dxYP0XdHS0Ed/QQfe20X93Fr2erqysUS0+B2I6JYOz9ZsZSNvaz1BERKCeNnxvBEVUZH9QHzv3EjSeXmR//RkAxdl76WprZcrSXwBgKLPej+xt8DUaKSuvRtfaQkHG9nEZbyCqxAQMpWWYdUNXinpyc+nctAmPW25B5mm7DkTq6orE1RXjRbvPcac702oM0ZNrfy+G8aYnNw9FaCjieUgMXQz+L2BUGg1hU5M4vjcDUbSgip2EUSJB19Fut7/4DH9rUZc90h+TxcSjmY+iVWq5e/rdQ7ZfFXUVcol8SPbfUSyiha9KvqJGd26WLjsNnRxuODzI4vNMJBKBqCQfqvKacbFoSfFPYUPZhrPW+6k8rQ8bR4qz+HPyn7lt8m123TxbSspAkOMXMYl5qyYS6hoKQEV7xaD9+jsq11mlRfqiIlQ+bsjkEnRtY8v8v3H0DQQEfp3wa8yimfpux4ufJSoVXnfcQc/hw+i276C0rpKwlkQmpQYweUEwLU1G2twicZ6ZysrIlYS6hvLKoVccWpEaia2VW0lsm4NPiEu/baKTJ9RXdJA64zIAtu363KExVXFxmBubMNYPllA0VVXYfPjOacxhe5XtgEG0WKh7+BGkzs74PvCAQ/O4yIWNSiMn5Rdh3PTkLGZfHUl7Yw/fvHKUtU/tp/hAPRbL6WuKxSKSt6uagCgtU2Im0a5v7++HMRrx8wKRKSQc2VqFyWLi2X3PEqgJ5Oa4m3lizhPIJXIezHgQZx8vVj36LDOv/h+O793Fh/f/nux1a4meMZuwpBl0bNmCaBn5gaP7wAHEnh67JT9Av065J2943X9vYSE9R4/ifqqj73CooqIwlJUhmkxIZXKSll9J9bE8aosKOPz9t2h9/QmbPB0AfUkpMm9vmxKisRCSOBWfsAj2r//c4b4Ko6FOSARRpNfGZ9T44otItVo8blk94hjyoEAMFzP/44qlt5fuAwf7+7vY48h0LujNy0MVH39eznUx+L/AiZmdRldrCyfyc3FdshRTqtXG0N7Mv5faiyj3KLuC//8U/Idjzcd4YMYDuCmHXkg91Z5cFnYZ60vX02Ppceh99GG2mHl076M8tOchnj/w/JjGGI3M2kzM4mCLT1tEp/hhsYiUHm5gedhyqjqryG+2z63CFp2GTp4rehWAmwKu4X9j/9eu43q7jbSWlSNXTmDZ7VORyiX9VrAVHRWD9u3rq2CqPx38q6Oi0Xio0LU4HvyXtpWyvnQ918VcxzRfayZuLNIfAO1VV6IICaHxxRfpypUiEaXEzgkgKsUXOQbqoi5DHhCATCLjzql3UtpeynflZ2+zWqurpbamGU27N1HJp51X1J4CHY09pE5cgl5hocBBy09bDia9Oh26lmabD98vH36ZP+74I3tr9w7Z1vbpp/QcPozPA38+5xZuF/lhUKhkTFk0gRufmMklN8ZgMljY/E4+/3k0i2O7azEbLVTmNdPR1EtCWhBJftZr+f6T++0aX6WRM2l2AEX76ll76EtK2kq4L+k+lFIlfs5+PDzzYXKacngr5y0kUimzrvkfVj32dwSJBIlMStrNa3BZvBhzYxM9hw+PeK6uXbsQlEqcUuy3MRWdnZEHBfXrlm3RtvYzBLkc1zMsLM9EERmJaDRiONU4LGHhYlQaF7a89Sq1RQVMWbK8vweIvrR0TJ19h0MQBFJWXkNrXS3F2Y7bBI+EOsEa2J2p++/KzKRrbyaev70NqcZ2484+Lnr9jz89hw8jGgy4Ll+GqNejLy4+73MwNjRgqq/v/46cay4G/xc44dOTUajVHN+zE/dV1yFZdR0A3iGhdo8xw28GhxsOozcPHxzW6Gp49cirzAuax5KQJcPud33M9XSbutmns0+rOhCj2cj9u+5nXck6gl2C2XliJzqDY4Vy9pBRk4GLwoVE78QR9/MK1uDu50TRvnoWhixELpGP2fO/tbeV32z+DQd78kEQiBDs04OLFpENr+9CNLUz+dI5/XUTbko3PFQeVHZUDtp/YOZfNBjQl5ejnDgRZ62SrjbHZT+vHn4VtUzNbxJ+Q6CztcBsrMG/IJfjfdcf6C0uxr8wDKNPOx7+zsgECwF1e6nXTOyXJl0acimxnrG8dvg1DOazcynaVrWNqKbpIEBU0oDg/1SM3VLTizzUB6GylQ69/Y1TVDExIAiDgv/+Yt+QoTrosrYyLKKF+3fdT3Xn6cycsb6ehudfwHnWTNxWrnTw3V3kx4ZUJiF2dgDXPzKDJWviUahkbP/4OB89lMneL0pw1ioJm+JFoCaQQE0gB07arzGevCAY0SKyZ1MBM/xmsGDCgv5tS0KXsCJiBW/lvMWRBmtju4DoGG7+x2vc8uKbuHh6oUmbjyCX07Fp5IJW3c5dOM1IQaJ2zMBBFR8/rN2npaeH9m++wWXJEmTu7jb36UMZabXr1RdZgzCFSs3UpZfTdKISmVJJXNoiwFrobygtPWunnzOJmjETd/9A9n392bi6v0i1WhQhIfQO0P33d/r298f9+utHHUMeFISxpmbIvERRpLXu4kPBWOjKzAKZDM9f/QoY+nB2Puh7aL6Y+b8IAHKFkqiUWRRn78VkMNBUVYHSyRkXT2+7x5gZMBO9Wd9/QzgTURT5W9bfAPjrjL+OuBwb7xVPglcCuzp32aVV7aPX1Msftv+BzZWbuTfpXp6e+zQGi4GtVY65sIyGRbSwu2Y3swNmI5OMrMkWBIGoZF9qi9sQdArmB81nY/lGh6UoDd0N3PL9LZS2lfLPRS/h6uVDe4N90pkDGys4kWctZJuyePASe6hr6JAiZImLi7XRV/1J9OUVYDKhjI7GxV3pcMFvbmMuW6u2cnPszXioPPBz9kNAGHPwD+CydCkdCZcgt3jhlmD9HHty8wio3IYI5GdYx5YIEu6aehe1XbV8VvTZmM8HkF6ZTmxLKkET3XHWKvtfV3kAAtSXdxA3bQ5OvVK+P/Sl3eNKnJxQhIcPCmYaT1QADLH5bNe309jTyNXRV2MRLdy94256TNbVsfonnkA0GvF79FGHGpdd5MeNRCIQOd2Hax5MYsUfpqD1VdNW301CWiBSqfXWm+SbZLfuH8DNW40hpJmI2iTumXzvkO/TgykP4u/szwMZD/QnVuQKJRp365OwVKPBec4cOrdsHTaoNVRWYqiosMvi80zU8XEYq6sxtbYO2daxaROWjg60147cVRhO6fcFoV/3DzB16S9QqJ2IT1uEytmaHTfV12Pp6hoXp5+BSCRSklf8kobyUipzRl4lcRRVYiI9R08H/51bttCbm4v3nXcgUSpHONKKPDAQUa/vr/vq4/D33/LuH2/j6Jbxca77OdGVmYl68mSUEyci1WpHLMo+V/Tm5YJEgmqSbZOS8eYnH/y3t7fz/fff09XlWJOfC4mY2fPRd3dRfvgATScq8AwOcSiImO47HZkgG1b6s7F8I3tq9vCHqX/AX+Nvc5+BXB9zPQ2mBrstRHUGHbdvvZ09NXt4eObD3Bx3M4leiQRpgthQNr4XquMtx2nqaRpR7z+QPplI8YF6loUvo7m3mYf3Psxz+5+z6+8fm1/hsTdepb6zkTcWvcG8oHlofX3t6vJbkdvEvm/LUTnVoHL3HNIsKNQtdIjsRxAE5H5+GOtOoj/VLEYZHYWzu5KuNj0Ws/0PZC8dfgl3pTs3xd0EgFwqx8fJ56xqMQSJhPL4JciM3cTXW7N2XZl7UetbCJmkJT+jBrPROseZATNJ8UvhrZy36DaOzVe7pbeFE2WNOHVrB0l+wNqLwsPfmYaKDmbOXA7AgewtDo2viosdnPmvrEDlrEHjPrggr+8hLS0ojWfnPkthSyGPZT5Gx+YtdG7Zitedd6A4Dw4OF7nwEASB4FgPrrh7Gjc+MZNpi08/OCb7JdOmb7Nb91/SWsK3Lh+iNKsx5g/tp6JRaHh67tPUddXx9L6nbY7hsngxpro6eocpbNTtcszicyCquD6p3NCi37a1n6EIDcUpOXnItjORqNXIg4MHyS/ULq7c8uK/mH/jb/pf05eUAoyr7KePSXMvQePuwb6vHasVGg11QgKmhgaM9fWIJhONL72MIjzc7lXBPq//gdIfXWsLez79CEEiYceH/0dzzYlxnfNPGXN7O715eTinplobqiYmjNqL4VzQk5eHMiLivLnA/eSDf4vFQlZWFu0/4o54E+In4+SmpWD3DpqqKvF2sLmQs9yZBO8EsmqHBuvt+nae3f8s8Z7xXB8z+pIjWJeXNRINnxSMXvjb1tvGms1rONJwhGfmPsM10dasjyAILAtfRvbJbJp6mhx6PyOxu2Y3wLD9E85E6+OET6grxfvrmRc0j0htJFsrt/J50ecj/q0r+IqSze0o1k0ktjiNO+ueYbLW2kl4oNf/cLTVd7Pl3WN4+CvobqvAzUa32FDXUFp6W+gwDJaqyP18MdafRF9UCHI5yrAwNO4qRBG6O+yT0GTWZpJdl82axDU4y08HEYGaQGq7xp7579EZaKnXoOjah8sn32Lp7qYrMxNVXByJl4bS02mk5JC1gFYQBO6YcgctvS1srtw8pvPtOLGDiMZpCFKImDp0Ncwn1JX6ig60vn7gpkZfVufQ900dF4epsRFjg3XOjSesxb5nPnyXtVsdR8LdwpkbNJc7ptzBtmPfUv7oX1DGxOC5evWY3t9Fflq4eqkRBjT1ckT3L4oif9//d3o8WvCJ0HAkvcrmw/5Un6msSVjD+tL1bKoYKu9xWXAJyGTDSn90u3ahCAtDERxs79vqp69p3ZnSH31xMT2HDqG9ZuRC34Eoo6IGZf4BNO4eyOSnLa4Npdbt4y37AZDJ5Uz/xZWcyM+hrrhw3MZVJyYA0JOTQ/vX6zGUluL9x7sQ7HQPs+X1v+vjdzEbDVzz0JPIlEo2vPIPzKYfpmj1x0ZXdjaIIs6zrHbT6sTJ6EtKMevOX8JYFEV6c/NQJSSct3P+5IN/rVaLSqWis7Pzh57KmJFIpUycOZeS/Vnou7vwCg51eIxU/1Tym/Np1w9+CPrHgX/Qrm/n0VmPIpVI7RpLIVUwWzObndU7B2mbz6Sxu5FbNt1CUWsRL17yIsvCB3dvXR62HIto4fvy8emuC1aLzzjPODzVtq3SbBGd4kvTCR1d9SbWrVxH9g3ZI/59MX0jvyv+B4knFhA7I4h5q6JprzCx/qUj9HYZcfPxo7u9DWOvbQ2+odfExjdzESQQN9uCxWzCLWSoTV1f0W9l+2Ddv8zPH1PdSXqLilCGhSHI5WjcrcvF9kh/RFHk5UMv4+/sz7UTB3ttB2gCzkr2U5h1EiwC2fFHEZtbaHrzLXqOHMV55kyCYzzQ+jqRu+P0d2aqz1SCXYLHXGuRXplOdEsSoQleKJ2G9r3wDXWlV2eks7mXkIQp+DWr2Fhq/2pTfybz2DFEUaT5RKXNzr6lbaUopUoCNNZajzWJa7jvoD+yVh2tf1yFIB+5J8dFfp4EagIJcA7gYP3BUffdcWIHmXWZ/G7K70haEo6uRd//IH0mt02+jQSvBB7PfJyTXYMTEVI3N5xTU+ncvGWI9MfS00N3djaaeY5n/fvGlodMGOJm0/b55yCX43blFXaPpYyMxFBZicUwfEJDX1qGVKtFeo6K6BMXLkHlrCH7q7XjNqZy0iSQy+k5cIDG115FlZCAy6WX2n18X/OvPrvPE/k5FOzeQfKKXxIcm8DiW++kobyUvWv/fdZzFS0W6stKRqx7MNbUIGltO+tz/VB0ZWYicXJCnWitEVQnJlgdmYapXTkXmGprMbe2DurndK75yQf/giDg5+eHzoav7o8ILwLgAAAgAElEQVSJSXPSEE/pQm0FH6OR6p+KiDiouCy7LpuvSr5iddxqJnpMdGi82S6zkQgS1hbavijW6mpZ/f1qanQ1vL7oddKC04bsE64NJ8YjZty667b1tpHTlGO35KePyOk+CAIU7R85W9+jM5D+/jG+/qe1dmLFH6ewaHUsCWlBLF0TT+OJTr568TBqVy8A2m1If0RRZPtHx2mt62LJb+KpL81BoVbj7De0m2OoWygw1PFH7ueLqbER/bEClNHRAP2FwvYE/+lV6eQ153H75Nv7m7j14e/sz8muk2Py+hdFkWO7a+l0b6BnuhbNJZfQ/OabYDLhPDMVQSKQkBZIfXkH9RXW1QxBEFgWtox9J/fR2N04yhkG02XsorKgCZVBw8QU2x1LfUNdAavlZ/z0uShMEnYe+NbucyhjJvUX/XY0NmDo6bH58F3aXkqYW1j/A3Tv4aPEZ9SwZ5Yb99S/PiQAu8hF+kjyS+LAyZF1/wazgecOPEeEWwTXTryW0HhP3P2cOLLlhM3ATC6R8/TcpzFajPx1z1+HjO2yZDHGEyfQFxQMer0rOxvRYBiT5KcPdVwcPfmng3+LXk/bV1/jeukih5yulJGRp7raVwy7j760FEWk7caJ44FC7cS0ZSspPZDN1/94gs7ms1+lliiVqCZOpOU/n2CqrcPnnrsdmr9ErUbq5YWhuhqzyUT6u//C1duXlCusq+pRKbOIv2Qx+9Z/QfWx4W1XR6OpqoJPHrmfjx/8I4WZGUO2i6JIy0cfU7psOR5PP93vzPRjozszC6fk5P4ETV/2vfc86v57cq3/TuqLmf/xxd/fn66uLszm8fXsPZ/4RUbjdsrmcSyZ/wSvBNQyNZl1VuuyXlMvj2c+TrBLML+d/FuHx3OXubNgwgK+KP6iv7Cxj/L2cm7aeBOt+lbeXvx2f68BWywPW05uUy5VHWd/4dhbuxeLaBnV4vNMnN2UBMW4U7y/3uaNVBRFjmfV8Z9HsinaV8/0pSGseiiF4JjTN7Lwqd4s/10i7fXdHNxkLXZrs1H0e3hLFSUHG0i9IoKgGHfKjhxgQvwUJNKhqy7BmmCkgnRI0a/Mzw9EEVNj44Dgvy/zP7Ljj8li4uXDLxPuFs7lEZcP2R6oCcQsmmnotp1RHIm6knZaT3aT57ObSG0k3n/8IwgCgkLR39AnJtUfuVI6KPu/LHwZFtFiU6IwEhnVGYQ1TEGqhJB42ys9HoHOSOUS6ss7mBA/GYDu0pohLkrDIdU4owgNpTf/GE39xb6hQ/YrbysnzM0q3RINBuoefgiZvx8Ln/g/9GY99+y4Z0S3rYv8fEn2S6ZV30ppW+mw+3xc8DEnOk9wf8r9yCVyBInAlEUTaKzqpKbIdtY1xDWEPyf/mey6bD469tGgbS4LF4JEQsdmq9yupa4Li9litfh0ckKdlDTm96OKi8dUW4eppQWAzs2bsbS3D9vRdziU0accf0ps2y6Kooi+pARlROSY52oPM668lrn/s5qKo4d5/0+3c2jjN2ft/69OTACjEaeZqTjPdLy7uSIwEGN1DYc2fE1zdRULbrkVuVLVv/2S1WvQ+vqx4bXn6e1yLPFpNOjJ+OQDPnrgLlrralE5ayjcOzj4NzU2cuLW26h/8kmckpIQzGaqfv0bTE3jJ+E9HxhrazFUVPRLfgBk7u7Ig4MHFWWfa3rz86wS3omOJWHPhp9F8O/n54fFYqHpR/bFHIggCCRffhURSTNQjeIDbAu5VE6SbxLZddkAvJnzJlWdVTw882FUMtUoR9vm+pjr6TB0sLF8Y/9rhS2FrP5+NUaLkXeXvMtk78kjjrE0bCkCwrj4vWfUZOCudCfO0/Gls+gUPzqaeqkvH6yvb2voZv1LR0h/vwCtr5pr/18yqVdEIFMMDdYnxHpy+V1TMPRaC3ZOlg5+oDlR0ELWulIipvkwdfEEmk9UomtuImyq7RutXConUBM41O7T73SWWzXRGvwrnWTIFJJRM//flH5DeXs5v5/6e5tuSH2ylbEU/R7bXYtMJSHfLZMIbQSqidF4rF6N21VXIlFZv2MKtYyYVD+KD9TT02ldzg93C2eSxySHpT/byrYT0TKFyKm+Nv89AKRSCd7BLjRUdODk6oZ7cDABzWqHVptUcXH05ufTVGX9dzjT47/b2E1tVy0RblbdcdM772AoKcX/kUeI8I/jyTlPktuUy1PZT42rbeBFfhr0dVIfTvffYe7gzaNvkhacxqyAWf2vR8/wRe0i58iW4RMnV0VdRVpQGq8deQ2j+bQGXObhgVNKCp2bNlNf0cEnj2WT/kEBnTt34TxzJhKFYszvp8+qsE820bb2M+QTJjjUMwBAERYGUumwnuvm5mYs7e3j1tl3OCRSKSkrr+bmf7xGQPQktr//Jp88dB8NFWPvdO+UMgOkUnzuuWdMx8uDguiorSbz808In55CxPTBCTaFSs2yO+9F19JM+v+9Yfe4lTlH+PDeO9n31WdMmpPGLS+8QcycNCqOHMTQa03ydW7bTtmKlXTv24fvQ38l+J23ab3zDkxNTVTdeqvN7sUXKl2Z1jpIpzMewNSJiee1029Pbh6q6Oiz+t05ys8i+Pf3tzrYnDz54156n3zpMq6476ExH5/qn0pFRwW7qnfxft77rIhYQap/6pjHS/JNIso9ik+Of4IoihxtPMotm25BLpHz/tL3ifGIGXUMP2c/pvtOP+vuumaLmT01e5gdONvu2oWBhE/xRiqTULTfmq03mywc2FjBf/+2j4aKDuZfH81V907HM3DkB6+ASC1X/mk2CAqObMmjucZ6Iexo6mHzO/m4+zuz4KYYBEGg7LBVghU2dfqw49ly/JENCP77Mv+CIKBxV42Y+deb9bx+9HXiPeNZOGGhzX0CNVb5UV1X3Yjv80x6u6yFvNp4AZPUQKTWmo3z/fP9+D/66KB949OCsJhE8nefri1YHr6cvOY8uzPyBrOBirwm5GYlE2eM7FDlG+pKY1UnZrOF8MlJ+Laq+L7oO7u/b6q4OEz19TQUH8fV2xflGW4MfSszEdoI9GXlNL/xL1yXXYZmvtUqceGEhaxJWMOXxV+eta3pRX569On+D9Tb9vv/pvUbDBYD9yXdN+h1mVxK4iVBVOY101xrO+ASBIErIq+gx9RDXvNgCYjL4ksxlJeTv9Eq/SnaV085UWPW+/ehirVaFfbm5aEvK6d7/36011zd35TLXiQKBYqQkCFFv33oS63B97lw+rGF1tePqx58jGV/uI+OxgY+fvCP7Pz43WFru0bCZclionbuGLPMQx4URI7EhMViYcHqW23u4x81kZlXX8/xPTsp2L1jxPG6O9rZ8OrzfP7kXxEkAtc89CRLf3c3Tq5uRM+YhclooCx7L3WPPEr1736HzM+PsC8+x+OGGxAEAVNYGEEvv4S+qJjqO+4csU7jQqIrMxOplxfKqKhBr6sTEzCdPDmku/u5QLRYzmtn3z7s+jUKgrBUEIRCQRBKBEEY0pteEIR5giAcEgTBJAjC1QNenyIIQqYgCPmCIOQIgnDdgG3vC4JQLgjCkVN/U8bnLQ3Fy8sLiURCXZ1jAc1PjT75zb0778VF4TLkZuIogiBwfcz1HG85ztu5b7Nm8xq0Si0fXvZhvwTCHpaHL6eio4KCloLRdx6G/OZ8WvWtDkt++lCoZYQmelJyoJ7a4jbWPrWf7K/LCE3w5H8eTSV+ftAgl46R8AlxxcPfH4upjXUvHKK2uJWNb+ZisYhcdlsCCpU1415+5ADeIWG4eHgNO1aoayhVHVWDNLt9mX+Ji8ugBwHNKF7/awvXcrLrJHdNv2tYjWmf17+jmf+ifScxGy30Rll/Y+Ha4bNxHv7OBMW4k7+rpt+tZEnoEgQEuzPyWXVZBNfHI3OGwIkjNwzyCXPBZLTQUttFSMIUJBboqaznWMtQO0JbqOKsDiaNZaU26236nH7CXEI5+fDDCGo1vn/5y6B97phyB7MDZ/P0vqeH7bfxY+LHfk+40OjT/Z/5QJrXlEdWVxY3xt7IBNehVrHx84KQKSTkpA9v7Tjd15pcOHNlwWXRIsxSBSW5HUSn+BKo7aYk8io6Q4ZPRtiD1MUFRWgoPfn5tH32GchkaK+8ckxjKSMjMRQPF/yX9O9zvhAEgUmz57P6hTeIT1vEgW++5P1776D8yOgF22eOI/Ma/ro/Gg0yOOnmTPLCpbj52K53AphxxbUERE9i6zuv09E4NJAVRZG87Vt47+7fUrg3g9SrruOmv7/aL5EECJwUh9rJmSP/fJ62tWvx+PWvCP30v0M+d83cuQQ89STd2dnU3nc/4gUusxZFka6srH6Lz4GoEqzFv7155z77b6isxKLTnbfOvn2MGvwLgiAFXgMuA2KB6wVBiD1jtypgNfCfM17vBm4SRTEOWAr8UxAE7YDt94miOOXU3zm7I0okEpydnX/2wX+UexQeKg96TD3cn3I/WpV29INGYXnYclwULrxy+BUCNYF8sPSDfumIvVwacikyieysPP8zajKQCJJBy+KOEp3sR0+nkXXPH8LQY2LZ7xJZemvCoMZR9uIRGICzmx6lWsa65w/TVK3j0l/FovW1Zo313V3UHD82rOSnjxDXEHrNvYMKRiUuLkicnFBGRw+6aI0U/HcZu3g7521S/VNHXO1RSBV4O3k75PgjiiL5GbX4hLhQLj+OVqnFUzWy21JCWhC6Vj3lOVYpnp+zH0l+SXavAG0r2UFIaxwxKQFIRnko8w11A6ChooOgmDgkUilBLU52y4zkUVE0adS0tbbgbUPvX9pWisosRfPvDXQfOIDv/fcNubFLJVKenfssfk5+/GnHn8bV3vZ881O4J1xoJPkmDdH9i6LIM/uewUXiwq0JtrO7Ko2c6Bl+FO2rp7fLtrWjVqUl2j16SPAv9/GhPWklRouU2NkBxJ9cj5O5g61f1I5aOzQaqvh4eo/m0L5uHS4LFow50FVGRmKoqsJyKrveVK2jR2fNKhtKSpFoNMh8fM5qrmVtZTT3NDt0jFrjwuLb/sB1jzyDTC7ny6cf4duX/k5X29DmZuONyWgkK+8QTnoDCVEjS1wlUinLfv8nQGTjay8MqlVoqa3hs8f/wqZ/vYRHYDA3/f1lZl93I7IB0hNRFGn5v3fxqj7JSZlAwNtv4nvffcPKU9xWrMDnz3+mc9MmTj7xxLDX8tqi4z+4Fam+uBhzU5PNmgtV7CSQyc6L7r/PGetCzPynACWiKJaJomgA/gsM6kYhimKFKIo5gOWM14tEUSw+9f+1QANgf2vaccTFxYWTJ0/+rDW3EkHCtROv5fLwy1ketnxcxnSSO/HbxN8yN3Au7y15D28nx/953ZRuzAmcM6buun3srt5NolfiWT3QhMR7EhClZfKCYK5/ZAZhiWPPzLj5+qFrbuCKe6bhH+nG7F9GEppwerzKnMOIFsuowX/fCspA6Y8gCLgsuwzXZZcN2lfjrqK73Xajrw/zP6RV38pd0+4ade6BmkCHgv/68g5aaruInRNAaVspEdrR3TdCE71w8VCRu/104e/yMOsK0GgZebPFTMWRZqSijJgZoz9ounqpUDnLqS/vQK5SERA9ich2T7ZWDt/l1NjbS/G+vWx89Xne/tPt7IsIQAKEJk4bPBddF5ovtvHKv8y0vPYGmgULcPvlL22O6aZ045+X/JNOYyd/2vGnQRrsHxk/iXvChUS/7r/+dIC+oXwDRxuPssJ9BRrF8HLDxLQgTEYLBXuGT24l+SZxtPHokO9crW8qqp5G3A01GA9mMSeiDpPBwsY38/qb8Y0F1an+GOa2NocLfQeijI4CUcRQVkZ9RQefPbWfTx7LpiKnyer0ExF+Vk4/Fe0VrPpuFc8deG5MxwfFxnPj319h1jU3ULJvL+/d81ty0r9HtIz9sxuNA+u/oL2thbjqJiz1o3eSd/PxY8Etv6W6II/967/EZDSS+fknfHjfHTRUlHHpmjtZ9egzeAYNXVnSpafT+PwLhEdMxCwRaFSOblnsectqPH79K9o++S9Nr78+ZHvx/kw+eehejmw6+zq/s6E702p+4jxzaDJMolKhio4+L51+e/PyEJTK87qCBfYF/4HAwDXF6lOvOYQgCCmAAhhoafDkqaXfFwVBcDy96gAajQa9Xk+rjbbjPyfumHIHT819alyt0W6Ku4nXF71+VoH38vDlNPQ02OV3fSZNPU3kNecxJ3DOmM8PIJVLuPJP05hzbVS/NGesaH38MBkNCEI3V907nSmLBl9Yyw4fQOnsTEDUyHURoa6hgPUmNZCAJ57A44YbBr2mcVciitDVPlhv2dLbwgfHPmDRhEXEe42eXfB39ndI9pO/uxa5Ukpkkg+lbaX9ev+RkEgE4ucHUlPU1l8XsShkkV0rQIcbDuNfF4PcXcQnxGXUcwmC0N/sC2BCwmSUzQZaWgdLf3o6O8jbsZWvnnuC19fcwPrnn6Ls0H7Cp6cwxyOAJQ1dBMVaPz9TayuNL79CycKFzP6yGJ2/GxPe/T+CXnt1xN/WRI+JPDbrMQ41HBpzwHEB8JO4J1xIBGoC8Xf278/Odxu7eeHgC8R6xpLiPHKhrGeghoAoLbk7q7FYbD/MJvsl02PqIb/5tHd5e2M3DR0qAuoyqX/ib2A0ErBoBotWx9JQ0cHO/xaOOVmmPuVXLg8MHOSk4ih9AZGuoJgt7+bj5KbAyVXJd6/ncKQnBml49JjHNlqMPJDxAD2mHnIbxy7vkMnlzLz6em567lW8Q8LY8tarfPrYA7SeHHu/lOFobzhJ9rq1RKXMxLtb3+/1Pxqx8xYQPXMue9d+zIf33cnez/5NRPJMVr/wBomLlg5bj9H87nvIAwOZ8s+XUTlrKMreY9f5fO69F7crrqDplVdp/e9/+1/Xd3ex7VQBcmHWbrvGOld07c1EERqKPMB2AkmVmEBvbt45fZCDU8W+kybZ3eRtvDgvZxMEwR/4CLhZFPvFyw8CJ7Fe/N8C/gw8buPYW4FbAXx9fdmxY8eY5iA9ZaWYnp6Ot/eFm2jS6XRjfo/nk/Gep8QiQSkoeWfvO3R7djt0bLbO6mDkdNKJHa2D5/RDfZ7tJ60ZmR3fb0TjPzguEkWRwn2ZuAQEsSvDaqE23DxFUUQpKNlTsIeA+pGz3J211ht1xrZMnLxOB6BftnxJt7GbGaYZdn0WplYTdbo60renIxUGF0+fOU+zQaQwW0QbAt/v2UCnsRNzg9m+8yAiSGHTJ/sISLLefCYpJ/FV4VdM101HIti+IX1V9y2R7UvRxFrYuXPnsOMPnGsPFlpqIX3LdnqMIojg36zmg41vktQSSlt5MZ111SCKyJ1dcI+ORRsWhYt/IIJUilDTDHUZ7P7wI1RZmTjt3oNgMNAzOZG/TcknctJMZAYDjDCfPtSoucTlEj45/gnSRilxxP0ofvPjyYVwT7jQrrXBBJN5IpPt27ezoX0DDd0N3OByA91d3aPOU+Ij0lks8t0nO3AJHPrw2Wu2ymY+zfyUNjerNWh9jgUE8FTU0Hs0D4tazb6ODpDm4xULBXvqaNOfxCPSvkTRwM9T6O3FS6WiJTWV6l277P8QzsRsxkcqZVt6M+0WF0IXCKg9DXDQSDUpNLV3EfDldtQejiWzdDodD3z9APkd+UQoIyjtLGVD+gacpE6jHzwCPvOWIPUNpHrPDj77+xNErxj7qkffPAf+25dsWIdFFFFNTMSs3cCJgwfJt/M7rJ40GVnuEbp0nUQuuwqXkHAOjCBrkZeV4XHoEB3XXUt1VhbOwaEUZe9FNWkyEung0NHmb+nSRWhLS6h77HGO19ainzaNql1b0bW1og2Loq7oOJu//QaFZvQEznjRP0+zGe+sLHpnDH9PVCkUuOl07F67FrPf8HUVZ4XZjE9eHj2zZ1MxYB7n49pkT/BfAwzs8x106jW7EATBFfgO+H+iKGb1vS6KYt8apV4QhPeAe20dL4riW1hvBCQlJYlpaWn2nnoQ6enpCIKAh4cHYx3jfLBjx44Len59nIt57sjYwY7qHcyaOwuF1H7Lq+92fodXtxc3LL5hSMD4Q32eLbWRlGz4kvBAf2LnDT5/fVkJh7q7mLF4GXHz00adZ8S3EZiUplHfR3ONjqpd+4gKjSUqyReAOl0de9btYWXkSlbNXmXX3JuKmticuZnY5Fj8NYOddM6cZ97Oao6bi1h0XRIl8jyogcuSLyPF3z5bP0l9AcUH6km9fTYqZzn6Cj337rwX5xhnm/0hRFHk0xe2ICDhsmtn4O7nPOzYA+da4dnEd/k5xIRMwX/BPMq/X8fcfG+kh8s4QRmeQROYccW1RCan4hseOSR736VSU/Xll3g+9RTIZLgtX47nmt9Q4WGm5JuruXXyAtLC0oZOYhjmWOZw25bbWNuwlrt87uIXab+w+9gLgJ/EPeFCu9a2Freyb+8+pFFStu/YzrKwZfxq3q/smqfFbOGjY5mITU6k3TDV5j7vrn+XZlUzaWlpWCwiH23ay4RYDRFJS2l4Lg+3+fOJW2h1AbPME/nutaNUH25l1oKp+IW7jTr/M+dpnj0biUZz1qvMmbGX0mgJZdqSCcy80roS0O1+iMN3PE5h6h+oSIcZK8KYcumEUet/+njn+3fY0ryFq6KuYknIEm7behsesR5n5X7XzyWXsF2lJCd9E3PnzEYqG3t374GfaenBbA5WljLvhltI/sXlVH76GaLRxDQHvsPz5s9HKpPZNafqL76ky82N5PvvR+LsTJmrM+uefYxQDzfCpyYPO8+BWGbNomr1LUjeex95WAgHjx1l2mUrSFy0lPfvuR0vKQ7N/2zpm2f3wYNU6vVEXf1LXIc5vz4oiLIPPyJBqUJ7jubYW1hEucFA5NIluA04x/m4Ntkj+9kPRAmCECYIggJYBay3Z/BT+68DPhRF8fMztvmf+q8AXAGMvRWdHUilUry9vX/2Rb8XMsvCl9Fp6CSjZmg3weEwWUzsqd3DnMA5w2aKfwhcvXxAEGi30eir/JTFZ+jkaUO22SLUNXSI7McWfYXJXW2ni37fOPoGIiK/m/w7u84F9nv9i6LVrtMrWIP3BJf+YsUIrf3We5MXBmM2iWR8WgTA/KD5OMmchnX9KWgpwKc2CrmvacTA/0wGdvqVSKVMvnQZKl9PDkxsZdHf/srq519nzqob8YuIshmsqBMTUE+fjvsNNxC56XsCnn0GZWRkv81nuJtjXuMyiYzn5j+Hl9qLcn356AdcWPwk7gkXGn26/wcyHkAiSLh7+t12HyuRSoibG8iJglZaT3bZHt83mSONRzCajZw41oKuVU/sbH9clixFUChwXbL49HgSgUt/FYfGXcnGN3Ppane8QZ3UxeWsA/+udj15nktw7a0j5fLTvzF9SQkerYVcfXsEYYleZK4rZf0/D9PZMnqhcqehk4+aPiLIJYg/J/+ZWE9rrfqxZvvcv+whMCYWk0FPQ/nYewGcyZ61/8YjIIhpy6zlNfKgIIzV9sl++lCo1HYF/obKSjq3bsV91Sokztbr7ISEKSjUThRn77X7fBK1mqB/vYFkwgS2fvg2Lq5aZl/3v3gGBuMZNIHiffbJiMabrswsEAScZwzfgFQRFobE2fmcdvrtL/Y9j519+xg1WhJF0QTcCWwCCoC1oijmC4LwuCAIKwAEQUgWBKEauAZ4UxCEPmHhtcA8YLUN+7Z/C4KQC+QCXsAT4/rObODv7/+j9/r/KZPqn4qHysMh15+cxhw6DZ1jtvg8V8gUCjQenrQ3DP2+lR85iG94FM7akS0q+wh1C6Wuq45e08g3NqWTDJlSiq7FeqMuay/j69KvuW7idUMy+CNhr9d/Y1UnTSd0xM0JQBAESttKcVe646ke2elnIJ6BGpKXh1K0r56i/SdRyVQsClnElootNjvipudk4NM1gfjUoZabI6F2UeDqpaLhlO5/3g23cO1jz5AX0cF+/egxpsTJidB/f4zfQ39FHnhaxlXaXopEkBDi6th8ADxUHqxbuY75rvMdPvaH5Kd0T7iQCNQE4ufsR6ehk1/F/wo/Z8ekBrFzApDIBHJ32H5oH6j7L9hbi0ojJzTRC0VQIFF7duOydOmg/VXOcpbdnoihx8Smt/Iwm86t9vlMRFFk2wcFmAUZk3LeRtCf7iRvKC1DUKlwiQxmya3xLLgphvrKTj59Yh8lB0f2Zn8y+0nazG08M/cZnOROaFVaAjWB5Dflj3icIwTGWGseqo+Pz5gNFWU0VpQxefFypKe04fLAQEwNDVj04985vOWDDxBkMjz+93RdmUwuJ2J6CiX7szCbTHaPJXN3p+HqFegUMiaVVkOj1eksasZsqgvyx+SQJFosVOYewWQcm2lCV2Ymqvh4pG7Dr2gJUimq+Hh6cs6d3WdPXi4SZ2sX+fONXalSURQ3iKIYLYpihCiKT5567WFRFNef+v/9oigGiaLoLIqi5ykbN0RR/FgURfkA67Z++zZRFBeIopggimK8KIr/K4riOW8L5+/vj06no7Oz81yf6iJjQCaRsSR0CTurd6Iz2Pd1yKjJQCpImRkw9qKyc4XWx4+2+sHBf09nB3XFhaO6/Awk1DUUEZGqzuE7ecKpRl9aJbo260PCq4dfRSVVsSZxjUPz9ne2PiiMlvnPz6hFppAQlWINUkraSkb09x+O6UtD8At3Zed/iuhs6WVZ2DI6jZ3srh5aEFZxsAURkcTUUIfP4xvqOqiDs5+zH/Ge8aRXpjs8Vh+lbaUEaYLG3CXbSX52GuMfip/KPeFCQhAE5gfNJ9glmNVxqx0+3slVQdR0X45n1mHoGRqc9fv9Vxyi/GgTE2f4IZVZQ4DhsvSegRoW3DSJutJ2dn9mu9PuuSJ3RzVVx1qYPhmcu+vRl56uC9eXlqIMD0eQSKze+7MCWPXXZLS+Tmx6J4/KPNvWnRvKNvBd2XcsdVtKondi/+uxnrGDiqHPFmetO1o/f2qOj89qwrFd6UikMmJmn14xK7oAACAASURBVG7AJg+yJiGMNeNbWGxqbaXty3W4rlyB7Iz6yKjU2fTqOqk+Zv+iXHP1CQ5s3UBU4lR8dT1U/fo3mJqaiE6dDaJIyf6s0Qc5g2MZ2/n8ib/y4f2/58Qxx4Jzs66LnqNHbVp8nok6MYHewsJz8oAF0JuXjyouzuEGeOPBhaOTOA/4nSracFT6093dTXp6Or1j6OR3EcdYFrYMvVlPepV9AVlGdQZTfabiojh/RUP24ubjNyTzX5FzGFG0EO5g8A9DHX9s0ef1n9+cz5bKLdwcdzMeKg9Hpo1CqsBH7TOi3aeh10TR/noik3xRqmWIokhZW5ldTj9nIpFKWHRLHKJFZOt7x0j2TcFD5cF35YOt4MrbyvGoDkMeZEDj7rgRjE+oK7pW/SAJw8KQheQ15w3qo+AI5e3lhLuFYzSYydtZTc726vOeIb3IT4cHUh7gixVfjPlhMuGSIIx6M8ezhn6f3VXuRGojqTjQisUsMmmWfauBUUm+TLl0Ank7ayjYO/4ONrZortWx94tSQhI8SVxilRHqBzT70peWoogcLC9083Zi5d1T8QzUsOXdfNoaBhtH1OnqeCLrCaZ4T2Gx2+JB2+I846jR1dCubx+39xA4MY6awmNnbS9uNpk4lrGDiOkpOLmezlQrgoIA7Hb8sZfW//wHsbcXz1tuGbItdPI05EoVRdn2OfWIFgtb3n4VuVLFwjvuIehfb2BqaODErbfh7uaOu3+A3Q5C/WOKIoe//wZXbx8sJiNrH3uQTf96iR6dfUnd7gP7wWSyy4VKlZgIRiP6grE3IB0O0WBAf/z4eff37+NnGfw7Kv05cuQIGRkZrFu3Dss5tn36uTPZezKBmkC7Or3Wd9VT2FrI3KALS/LTh5uvL7qWZkwDWp2XHz6A2sUV3wj7g+Q+SclAr//h6Av+1xWvQy1Tc1PsTQ7PG6y6/5GC/+L99Zj0ZuLmWOsDGrob6DR2OqT3H4ibt5q510VTW9xGXnotS0OXsvPETjoNpy/oWw/uRtvrQ+Ks0DGdo0/33yf9AVg4wVrguK1qm8PjGS1GalvqiSxL5cO/7GXnJ0VkfFrEp0/up66kbUxzvMjPG5lEhlqmHvPxvqGu+IS6kruj2mbQmeybjLrEH+9QFzwDh+8dcCYzrwgnKMadnf8poqGyY/QDzgKz0cKW/zuGQi1lwY2TUEyYgKBUoi+2rjyYdV2Y6upQhg+91sgVUi67zaqf/v7NXIx6a98Ys8XMX3b/BbNo5qm5Tw1xMevT/Y9n9j8wJpbezg5aas8uOC8/cpCejnbi0hYOel3eH/w71o19JCy9vbT++z9o0tJQRtj6fJWETUumZH/WoIZhw5G7bTM1x/OZf+Ovcda64zR1KoH/fJHeoiIqrryK0AnhnMjPoafT/u9UXXEh9WUlJF/+S27+x2skr7ya/J3pvHf3bynI2D7qw1Z3ZiaCUol6qu3C+IGoE62rQ+dC+tNbVIxoNJ73zr59/KyCf5VKhYeHh8OZ/8LCQmQyGYWFhWRk2F+MehHHEQSBZWHLyKrLGrUL6p5aa8bgQtP796E91Xa9vdFa9GuxmKk4cpDQKdORSKQjHToIJ7kTPk4+dmb+rY2+dlXtYqb/zBGbA42Ev2Zkr/9ju2vxCHDGN8waUPcV+44l899HzEw/IqZ6k72+jHmqxRgshkErQBUHW7FIzExLHds5vCa4IEiEfr9/sDZRC3cLt3ulqY+udj1bPj3KqgN/RXbQH58QV6780zSW35GIUW/iy38cYse/j6Pv/tE28rrIj5TES4Joq++mumColjpeTMa92w/XRMeaKUqkEhb/Jg4nVwUb/5VLd4dh9IPGSNbXpTTX6Fhw4yScXBUIUimK8HD0JdbMv+FUEa0y0naiwc1bzeLfxNFS28W2jwoQRZH389/nQP0BHpzxIMEuwUOOOTdFv1bdf81Z6v6P7UxH7epG6OTpg16X+fggyOUOF/2ORPtXX2NuacHjV0Oz/n1Ez5hFd3vbqJImXWsLu/79HhPiE4lLW9T/uktaGqEffwRSKU4ff4posVDiQPb/yKZvUaidiJ2/ALlSxbz/Wc2Nz7yE1sePDa8+zxdPPUzbyeFjvK69mThNn4ZEOfrqsdzXF5mPDz25toP/7vY2crdvJnfb8H95O7aia20ZcmxvnnXMHyrzf367ClwA+Pn5UVtr/9Jld3c3VVVVzJkzh7a2NrZv346/vz/R0WNvLnKRkVkevpy3c99mU8Umbph0w7D7ZVRn4Ovke1YB57nEtS/4bziJZ2Aw9aUl9HR2OKT37yPMNYzKjspR9+tr9NXR1kPa1DSHz9NHoCaQLRVbMFvMSM94UGms6qShspO51512xilps96YHXW9GYggCKTdEMPJsmwq1hmZEBvKhrINXBF5BSc7T+J2IhhpSA9Kp7FZ58kVUjwDnQdl/sGa/X83713aettGbVTX3tjD4c2VHM88idlspsrjGNetWkhqwuT+fQKitOz7ppycbScoP9rE3OuiiZjmPa6N9S5ykeGInObDns+LydlRTXDsYMmfstgHo6SOE77lgGO2lmqNgst+m8AXzx1k8zt5rLhrChLp+OYPTxxv4cjWE8TPCyR0QId1ZVQk3fusDdD0JdZEg8JGZrqPCbGezFgZTtZXZYhePbza+SqXhlzKyoiVNvd3U7oR7BI8rsG/u38Aalc3ao4fI3Hh0tEPsIGpp5vSg/uYuvR0oW8fgkSCPCAAQ/X4ZP5Fi4WW995DFR+PU3LysPuFTU1CJldQnL2X4NjhXWq2vfcvzEYji9bcOeTap54yhbB161A/+STqgoMcfesNJkZOGrXwtautlcLM3UxefBkK1ekVMu+QMFb97e8c3bKR3Z98wAf33kHq1deT9IsrB31ukvZ29MXFuK64fJRP4zSqxAR6c2w7/mx953WK943ufiSVyYibv4ikFVfh7mddLe/Jy0Oq1fav4JxvfnbBv7+/P8eOHaOnpwe1evTl1ZKSEkRRZOLEifj4+NDY2MgXX3zBrbfeiqen/a4mF7GfCG0EMR4xfJD/wYgX4z21e1gevvyCDaq0vn3BvzXzX3b4AIIgITRx9OXGMwl1C2VD+QZEURzx/WrcrVphF4P7WcmhAjQBmEQTjT2NQ1xHju2uRSqXEJ1y+vWy9jKHnX5sodLIWXhzLOtfPsJlnjfxdu8TNPU0sSVzD85GdybPOrsGfb6hrhQfaEC0iAinPMEXhizk7dy32VG9gysir7B5nK5VT+a6Eor31yNIBWJS/SkKyWRr2Qc8EXP7oH0VKhlzrokiOsWXHf8uZNPbeYQkeDJvVTSunmOXdFzkIvYglVttPw9srKCjqQdXL+t3zmgwU3WojUb/UgpacljDrx0e23uCC5fcMJGt7xew98tS5lwTNW7z7u0ykv5+Ae5+Tsy6enBCRxkZRcf6bzB3dGAoLUGQy1EED83gD2TakhBOVrRR8n0TE6dO45GZj4x47Yz1jD2rTr9nIggCgRNjqSkc+wNFS8lxLGYTcfMX2dw+FrvP4dBt346hspLAF54f8XNSqNSETplGcfYeLrl5jc1i1ZL9WRRn72XOqpv6g90zkWqcCXz6KSIff4i8vEMU/vKXBD3wANqrr/7/7J13eFRl+vc/Z3p6772HNFoCGFroRYpgwYpd1111dd11993dd/u71f2tv3XVdVVwRUVBQXonCZ2EkpAe0hPSe5skU877x5BAyEwyKSBoPtc11wVnnvPMmZJz7nM/3/t7m3z9S0f2o9dpmbR4YF8UiUTK5CUrCI6bwdEN73Fi83/JPZnMomdfxDM03HDseXkAWN0VP+Tn0YtFzETaDx9B19yM1P5acqi+rITLKaeIXbmWyUtN30x0d3aQfnAPmUmHyTh6kNAZM5l2z/10ZWSiior6xuKX75TsB4av+8/Ly8PKygpPT08UCgXr1q1DIpHwxRdf0H2TKsDHgScin0AiSDhfc97kw9XS1WQm53bA0s4emUJJy1XHn+KL53APCcXCxnbYc/nZ+tHW00Zj18Dlw+vpLYSdoIzB2cJ50LGD4WVlcJK4Ufev14rkp1QTPMUVldW1DHxBc8GI9f434hPhyMQFPghZTng3hrO/eD/F5xvRSruZPj1iVHO7+tvSo9b2KwaMcIzAw8rDqPRHrxfJSKrgs9+eofBiHRMX+LD+D/HMezScIjEXDysPrOTG+w24+tly30+nMvO+YK7kNbH5t2dJO1yGXjdeNzTOzSVytsF+NyP5Wla48EItPV06bGP0XKy9iEY/Mkla2AwPouZ4kX6knNZ69dA7mEnK7mI6W3tY9FQkckX/1UZliOFmoLugkO7CIhT+/giywXOXgiBwMXIvTRY1JOQ+gtA2eOPISKdIKjsqaeoavvWkKbzCI2ipqaa90bj70FA05Gbh6h+Ei1+A0efHMvhv2LARuZcXNosXDzk2dPpM2psaqSrIG/Bcd2cnRza8i4uvP7Er1w45V9SDDyMKAk0TQqn+v7+i4qWX0DYN/A50Wi2XDu3Df+IUHD29jMxkwMbRmdU//gWrf/xLujra2fyrn3D4w3fp7uxAkZuL1M4O1YTwIY+rF4sYw+qGOqO/w9GZbV8gV1kw7Z77sXV2Mflw8fVn4TM/4Jm3PiR25RqK086x6acvc0LTSouv8RujW8F3Lvj38DA4HJgT/Gu1WgoKCggNDUVy9e7WwcGB++67j7q6Onbu3DnqSv5xjHN34N3sv3f/oI/da3YzyXXS0JN9QwiCgJ2rGy211XQ0N1FTdJnAScOX/MA1x5+hpD9qlaFANkIZM+i4oTDV6KulDHq6dETMunbSEkWRwubCMQv+AWbcE4iTlxULix5jZ/o+rCs8kQR1IlOYXythDGNFv4IgMN93PqeunKJTc+2moL6inW1/O8+xz/NxD7DloV9NY+Z9IX3N1HqdfgZDIpUwaaEvD/16Ol5hDpz8soAv/3KeurJxu+Fxbh7WDioCJ7mQc7ISTY9B359zsgo7FwsmTwxHrVWPSuIyeYkvAPmpA5sYjoTWejVZx64wYaYHLr4DnduUIYYVhu7Ll406/RgjuTyZL4o2Y3l3I1JRyr73MtD2mK51iHQyaPTHUvrj3av7H0H2v66shM76GiLnzjc5Ru7lha65GV278cZu5qJOS0N9/jyOjz8+5E0VQODUaUikMvLPDNTqn/j8v7Q3NbLo+ZcGSJV6OXXlVF8fF4/gMKwdnWicGInr66/TnnyM4lWrafjoI5o+/7zvkfbm32lvaiTE0tawbcsWOk6fRlNTYzQOC46bwZN/f4fJS1eQfmgvG3/0Ai3FhVhOn44gNf86ooqMBEFAfV2zr4Yr5eSdOcHkJXdjYW2e06C1gyNzHnmSZ9/eyLQ5C2lRKTmYdZ7Nv3qdwvMptzyW/M4F/9bW1tjY2JhV9FtWVkZ3dzdhYWH9tgcFBbFgwQKysrI4dcr8bnfjfPewc3OnpaaakvQLACPS+4NB9gNDO/6crj+JRtKNl+A/otfppbcp2I2Z/6ZCEQd3SzyCr1nO1XTW0K5pH9PaC5lcyqKnIlHoLJhy5h6UOgsmxhvPfg0HBw8rZEopNSX9g+8Fvgvo0fdw4soJND06Tm8vYOsfU2mpU7PwyQhWvjwJO5drnvw6vY6iliKz+xrYOllw9/djWPxMJB3N3Wz9Uyontl6mp8v8ZjnjjDMcYuZ50d2p5XJKDc21nVRebmbCTA9i3a/6/VenjnhuWycLPILtyE8xHngNl5TdxQgSgbjlJjLcnp4IFhZ0ZWaiKS9HOYRbWr26nl+d+hWhDqG8NO95Fj0VSX15O0mf5Zk83glOE4Cxdfxx8Q9EplSOyO8/K/kISCSEz0owOUbR5/U/uux/w4aNSOzssL936Ew9gNLSCv+Jk7mccqrf51mZn0Pawb1MWboSj+Awo/vmNebx/OHn+Sr/K8BQuxAyLZ7S9AvYPPwgAVu+QGJnS+2f/0L1b37b90hPPIhltwbZvz80bPvVryl78ikK5iaQHxtH8f0PUPnTn1L/3n9oPXSI7sJC5DI58594nkf+8HeUCiXpTlbI46YaPS5TSG1sUAQG0nWd40/K9i3IFAqmrlgzrLkAVFbWRNo4MS+nlLn3PUxbQx1f//V3fPz6S+ScSEKvG14x/kj5zmn+wSD9MSf473X5CQwceIGfOXMmlZWVHD58GA8PD6NjxjGOKIqcPHmSgIAAvLxML999G7B3dac8K4Oii+ewsnfA1X9kvxNPK0/kEvmQjj/HKpLxspiDrHN0RURKqRIXCxcqOwzBv6gXKbhQi7oBptzn2U+nWNRscN8Yy8w/GBoMxaxw59IOgS5FOzNjR98JVyIRcPW16ef4AzDZdTIOSgdOnk2jJsOa1vouwuM9mLk2GJX1wALjyo5KunXdBNmZ/54FQSAk1g3fCEdOby8k/Ug5hRdrcYoeXz0cZ+zxCLbHycuaS0kVtNSrEQQIn+GBlUpJsH0w56rP8Uz0MyOePzTOjeTN+TRcacfZe+R9VhqutJN3tprJC31N9u8QJBKUwcG0HT0KoogyyPR5VBRFfnXyV7T3tPPh4g9RSBX4xzgTtyKA1N3FuPrZgBGZtY3CBj9bvzHN/EtlMjxDwobd6Ven1ZJzPBF7v8B+3v430mf3WVGBKsx4sD0UPWVltB06hNNzzyGxMi5hNEbItHiKLqRSU1Rw9Zg1HHzvLWwcnZm57lGT+52tOgvApfpLPMzDgEFGdHH/LoovniPsrtkE7jC4DvVSV1FG059/zew1DxK6YAlg8MnvKS+nu7CQnqJieoqL6DhzlpYdO6+9mEyGwscHRWAgk7q0HJVKuKKU4Wb2uzRgERNDe3IyoijSUlNNzslkpixbNeh3MxjqzAyUzs5E3f8wk9c8QN6pY6Ts+JK9b73ByS82YRcWjTY+HplicKnaaPjOZf7BIP2pr69HM0hraFEUycvLIyAgAIWRL0AQBFavXo2zszNbt26luXnc19tc0tPTOXz4MJs3b6azs3PoHe5g7Nzc0XSpKTqfgv+kqSPu5CeVSPG18aW4tdjkGLVWzemq01jYyehoHn09ioe1B1daK8k7W83nf0jh4AdZKGwg/K7+zYF6nX7GOvgHmLUkAk1IHY536ZHKRif56cXN35b6ijZ0mmvae02HnlWl38M1MRZBInDPq5NZsH6C0cAfDJIfYEQdjZWWchIeCWfNj6cgV8rQjpcOjXMTEASB6AQvGirauXSkHL8opz7JWqxbLBdqL4xY9w8QNNUViUQgP2V00p8zO4pQqGRMWeo36DhlcDC6BoN2fjCnny15Wzh+5Tg/iv0RwQ7XVgjilvvjH+PMya0FdNQav+Ee606/YLD8rC8tobvTfGlOSfoFOluacQob3Aby+uB/pDR+9F8EmQyHRx4e1n5BcTOQSKVcvmrTmbrjKxoqylj4zPdRWJjuXN674pRZf01D7xk+AUs7+z4ZkSCVInNx6XtcOnsSmVJJzIp7+rbJvbywmjEDx0cewf3//hLfDRsISU4i9Nw5/LduxfOvf8Hp6adRBgfTU1qCMuU8Vlo9uZfOD/cjwiImGl1jI5orlZz9eitSqcysegZTdGVm9Vl8SmUyIubM5/G//YvVP/4llrb2lJ9KHNbvZSR8Z4N/URSpqTF90qqtraW5uXmA5Od6lEol69atQ6/X8/nnnw96MzGOgY6ODg4cOICLiwudnZ3s2rXrW103YedqyDFoe7qH1dXXGP52/oNq/s9WnaVb142bqyPtjaPrRq3t0RFWOYOw/cs5vNGQCVv4ZATBy4R+hb4AhS2FOKoch91J2BwEicArr63jyYeMu/CMBLcAW/RakfqKdkRRJOdUJZ/+5gyWpe6c89qP79NavMIcBp2jt6/BaKxNPYPtWfeLOOwGj3nGGWfEhE5zR2kpQ6vRMyH+Wp1OnHvcqHX/FtYKfCIduZxag6gf2Tm8uqiFkkv1TF7kO+C8ciO9un+kUpOWkEUtRbxx7g1mes7k4fD+wawgEVj4ZAS2LhaUnxRpbxp4jox0iqS6o5oG9cgKdI3hFRaJKOqpys81e5/s5CNY2Nhi6zu41FHq4IBgaUnPCBt9aZuaaN62DdtVK5G7ug5rXwtrG3wiY8g/e5KupkbObPvckLWfYtomVKfXcb7mPHKJnNLW0r6OyhKJlJBpd1F88Rya7v7fi7q9jdwTSUTMmofKeui+NVJrKyyio7BbtQrXV1/B+61/ErR7NxMuXsBhVgJVl/NoqCgb1ntVRRtq6OpOnSD72BGiFyzB2mFk1ztdezs9xcWobmjuJUgkBMfN4KE/vEHEA09gZT/4NWi0fCeD/17Hn8GkP/n5+QBD+vk7Ozuzdu1aqqur2b1797c6kB0LDhw4QHd3N/fffz/z588nJyeHtLS0b/qwbhp2V73+BYkEvxFYfF6Pv60/5W3laPXGdeJJ5UlYy63x8/Cko7UH3QhcZbrVWs7vL+HjX57G6VwkbfImln4vkgd/OY2w6e599pjXM5ZOP7cC16tFv5dTa9jxj4sc/TgXRw8r1v58MtmBySRWDt3tt7C5EGcLZ+yUI1v27UUqk9y2VrXj3PnIlVKi53lj66zCL+aaDe9Ut9Hr/gFCp7nR3tRNVeHwV75FUeT09kIsbBXEzB9aptjr+KPw9UViQg6xMXMjUomU38/8vdG/K6WFjGXPRyPqYP9/Mvut/sHNafblERqGIJGYXfSrbmul8PxZJsxKQDJEYaogCCi8vNCM0Ou/afNmxK4unJ403dRrMEKnz6S5uoqCfduRKZXMe+K5QcfnNubSpmljVdAqoH/2P2TaTDTdXX31cb1kHj2IVtPDpKUD7T2HgyCT4RgehUQqI+PowWHtqwoNQVAoOJ98GEEQiFt174iPoysrG0QRCxPNvQRBQHWTA3/4jgb/9vb2qFSqQR1/8vLy8PDwwNZ2aFvGsLAwEhISSE9PJyUlZSwPFaBvlSI5OZmDBw/SZMQG606goKCAS5cuMXv2bFxdXYmPj8ff3599+/bR2Di4heWdSm/m3ys8AqWl+XpKY/jZ+qHVa4123tWLepIrkon3jMfW0RJE6GwxvwunVqMjdU8xH//8FGe+LsLZ2xq7+1rYHvkPrEJEo0E/GH6bRc1Fo8qA32qsHZRY2ipIP1pOXXk7CY+EseZHU3D3NvRGSCxLRDdE63pznH7GGed2YNqKAB793V1Ir2vI5WThZND915wb1dwBMS7IlNIRSX/KshupvNxM3HJ/FKqhyw97M/8KE3p/nV7HsYpjzPGeg4ul6X4gjp5WeE0XqClu5dgX+f2em+A4AQFhTKU/CpUFrv5BZuv+c08dQ6fV9uuKOxgjtfvUd3fT9MmnWM+dizJ4ZGYNwXEzEAQJ3S1NzH306SGz1WerDXr/JyKfQEAgo/5aEa13RBQqG1sun71moqLX60g7uBfviChcfP1HdIzXI7ewJCh2GtnHE9FpzVdqCAoF4oRwCuuriExYiI3TyG20v+nOvr18J4N/QRAGLfptb2+noqJiUMnPjcyZM4fQ0FAOHDhAaenQnViHQq/XU1ZWxsGDB3nrrbd49913SUxM5MyZM/zzn//kq6++GlS2dLvR09PD7t27cXJyYtasWQBIJBLWrFmDIAhs27YN3S2qcr+VyJUqouYtZsqyVaOeK8DOsARsTPqT3ZBNvbqeBJ+EvkZf7U3micmv5DXxxR9SSdlVjHe4A/f/n1hWvTyJgAmuIEBVh+kVspvh9HOzEQSBiQt8CI/34OHfTCdytte1hl++C2joaiC9Lt3k/qIoUthSOB78j3NHIAiC0Zv3WLdYLtaM3O8fDCsLgROdKbhQi15n/qq3qBc583Uhts6qfrbBgyFzc0MRGIjVtOlGn8+oz6Cxq5EE74Qh57L1EZiy1I/sE5VkHb+WTLFWWONn63cTdP8RVF/ONyvgzEo6gotfgNnmEL3B/3BVBy1Xi2odn3pqWPtdj6WdPYFT47D18Sdq3qIhx6dUpxBgF4C/nT+BdoH9Mv9SmYzg2OkUnk9Be1VCXXThHK11NUxeMrqs//VEzVuEurWFovPDW/UqdLZFFEXiRuDwcz3qzEzknp7IHMdeJjscvpPBPxh0/zU1NUYDzsuXLwMMK/iXSCSsXbsWe3t7tmzZQmtr69A73YBWq6WhoYFdu3bx97//nQ0bNnDmzBkcHBxYsWIFr732Gq+88gozZswgNzeXd999l88++4yysuHp174JkpKSaG5uZuXKlcjl17SddnZ2rFixgoqKCo4fP/4NHuHNY8n3XiZkmvkdBU3R6/XfW2x6PYnliUgECbO9Zvc5ZhjTtF5PV7uGIx/n8PU/LqLX6Vn18iSWPR+Nq59htcuU1//19Grf7yTZDxi6fy5YPwEru/7uIrO9ZiOXyI02/OqlprOGDk3HHfeexxnnemLdY+nUdpLTkDOqeULi3Oju0NJhXt9MAAou1FJf3s60lYFIZeaFIYIgELR3D47rHzP6fFJ5EjJBxkyvmWbNN31VIL4Rjhz7PJ/SrGsa/0jnyDGV/YAh+NdqeqgpKhx0XH15KTVFl4mcu8DsueVenug7O9ENw3RE1Otp3PgRqshILKeZ1uh3abs4WHLQpNQUYPWPf0nw3fcOKV/U6DVcqLnANPdpAEQ5R5FRn9HvpiV0+kx61J2UZRikwGkHdmPt5Exw3F1mv7eh8J84BWtHJzISzZf+dDQ3UdBUi1djG6qW0fVo6crIRBUdPao5xoLvdPCv0+mor68f8FxeXh62trZ9tQHmolKpePDBB+np6WHLli1otUN7eHd3d5OZmcmXX37J3/72NzIyMsjIyMDPz497772X119/nccee4zY2FhsbGywtbVlyZIlvPrqqyQkJFBeXs6GDRvYuHEjly9fvi1rDiorKzl9+jRTpkzB30ihVnR0NDExMSQnJ1NeXn7rD/AOwV5lj53SzqjXf3J5MpNdJ2Ovsr8u+DeetgHJMQAAIABJREFU+RdFkbyz1Xz22zPkn6lmyhI/HvzVdHwi+mciPKyMe/1fT6/Tz52U+R8Ma4U10z2mc6TsiMm/paIWg7XpeOZ/nDuZWDeDAcFodf8+EY6orOU0l5p37dHp9JzdWYSTlxUhccM1XTRNckUyU9ymmF2HI5EILHo6EhsnFbvfSmfbG+cpyagnwjGS2s5a6jrrxuzYvMIMtQRXhpD+ZCUfQSKVMmEQb/8bUYzA8ac9KYme4mKcnn7KZNB+pf0K6/et57Xk1zhYYjpQFgTBrLqlrPos1Fo1ce6Gm40Ylxgauxr77KQBfKMnorS0Iv/MSRqulFN66SITFy4bsvZhOEgkUiLnLqAk7QJtjQPjP2Ok7tqGXq8nqLYJ9aVLQ+9gAm1Tk8GWNSpyxHOMFd9Jn3/oX/Tr5nbtBKTRaCgsLGTixIkjKsRzdXXlnnvuYevWrWzcuHHQmoGuri7KysrQ6XRYWloSERGBVqtl1apV/bLjxrC0tCQhIYH4+HjOnz/P6dOn+fTTT3F3d+f+++/Hyclp0P1vFTqdjl27dmFlZcWiRaaXBZcvX05paSnbtm3je9/7Hkqlcb/n7zr+tgMdf6raq8hryuO1qa8BoLCQIVdKjWb+W+o6Sf4sj/KcJtwCbEn4YTjO3sYdFFQyFU4qp0GD/8Jmg9OPg+rmFyjdKhb6LuQ3p39DXlMe4Y4D28D39jUYic3nOOPcLjhZOBFkF0RqTSpPRz894nmkUgnBU13JOnGFni7tkPr93FNVtNSqWf79GCQmaomGS3lbOQXNBbwe9/qw9lNZyVn3i2lkn6wk7VAZe96+hKWbD8G2U8iqyyLBL2FMjs/K3gEHD0+u5GUTh/FiUb1OR87xRAImx2JpZ2/23NfbfVqYmVFu2LABuacnNosXG33+VOUpXj/2Onq9HrlETmZDJssDl5t9TMbovcnsDf6jnA2a94z6DLysDf1+pDI5QVOnUXjuDFK5DKlMRsxVX/+xJCphEWe3byE7+SjT1zww6NjO1hbSD+0lfOZcbIvrUF+6hMMDg+9jiq5Mw82fud/TzeQ7m/l3dnZGJpMNKPotKSlBo9EMS/JzI5GRkSxevBiNRkNDQ4PJh1qtJi4ujieffJIf//jHrF69GicnpyED/+tRKBTcddddvPzyy6xevZqWlha2bt1q1qrDreDs2bNUVVWxbNkyLCwsTI5TqVSsXbuW5uZm9u/ffwuP8M7C39Z/QKOvpIokAOb6GJpgCYKAtYOSjusy/zqdngsHStn8uxSqi1uZ82Aoa38y1WTg34uXtdfgsp+Wwm+d/CXBJwGJIDEp/SlqKcJOaYeT6va4wR5nnJES627Q/Q8m6zCH0Dg3RB0Upw2eLdf26EjdXYx7oB3+0WP395Ncngxglt7/RuRKKRPn+/DoH+5iweMTkKNg4eXHyXq7i8xjV9BqxqYWzTMsgit5OYh64y5spZcu0tHcNCzJD1wL/nvMzPyr09NRnzuP4xOPI8j636iJosgHGR/wwuEXcLFwYfOKzYbeB/Wjr4FIqU4h2D64zxI6xCEEhURBZl1mv3Eh02fS1dHOpcP7Cbtr9rBuhMzF3t0Dn4hoMhMPmfw+ejm/52u0PT1MX7sOVUxMv06/w6Ury/BeVRERI55jrPjOZv4lEonRot+8vDzkcrlRecpwiI+PJz5+9Dpvc5HJZEyePBkLCws+//xzEhMTB8203wqamppITEwkNDSUCDN+7H5+fsyaNYvjx48TEhJi1j7fNfzt/NlRuIP2nnasFYbAPbk8GX9b/76CYDA42rRdDf6ri1tI+iSPhivtBE5yYfa6UJOdNG/E09rTpP611+lnReDYFWPdDjhZODHJZRJHyo7wg0k/GPB8YXMhQXZB4xad49zxxLnH8UXeF+Q05BDtMvJspHuQHXIryE+tIWyGh8lxl5Iq6GjpYfEzkWP695NUnkSQXRA+tj4jnkMqlRB+lwdh09157v3XCCuJJ/mzPFJ3FzNxgQ9Rc7xQWIw8ZPIKjyAr6TCNlVdw8h54nJnJR1DZ2A7qk2/0uK2tkdrZoTHT679hw0YktrbY39t/BaK9p51fnPgFR8uPssx/Gb+J/w1KiYqJ9QnkVOZxjmKT31lX1+CSrx5dD2m1aawNudYYSy6RM8FpQj/HHwC/iZORqyzQdKmZvHSlWe9pJETNW8S+t/+HitwsfCKM//bV7W2kHdhN2IxZOHn5oI+Opv7kSfQdHcPqhtw3X0YmCn9/pGa4SN5svrOZfzBIf6qrq9FfvfPr7eobFBQ0rOz77UR4eDhTpkzh5MmTFBeb7gZ7sxFFkT179iAIAnfffbfZJ/q5c+fi4eHBrl27RlQ0/W2nt+i3V/rToekgpTqFud5z+42zclDR1qDm2Of5fPXX83R1aFj2vWiWfS/a7MAfDMF/VUcVenFgduROdPoxlwW+C7jcdJmy1oHF9EUtRf1utMYZ506lT/dfMzrdvyAI2PlCeU4Tna3GLYa7OzVc2F+Kb6QTniFjJxNs7WnlfM35vpXP0SJIBFwjLdgz6W1WvzIJR08rTm8v5ONfnOLMjkLUbeZbKF+Pd7hB521M99/V3k5h6mkmzJyLVDb82MPg+DN08N9TVkbboUM4PPhgv+C1sLmQh/Y8RHJFMq/Hvc5f5vwFS7klKTuLsTwVyNSSZZzdUcyZr4uMPkoSRbo7TTsZZdRn0KXrYprHtH7bo52jyWnM6bfyJFcoiZgzH7+YybgHD95naTSETI9HYWFJ5iCe/xf27qRHrWb62nUAqGKiQa+nK3tkBeFdmZnfuMVnL9/64F/X3kPdfy6hMFKg7eHhQXd3N81Xq+Srqqpoa2sbleTnZqLOa6T1yNDOPkuXLsXR0ZHt27ejVqtvwZENJCMjg4KCAhYsWICdnfmNkGQyGffeey9arZatW7dSW1t7E4/yzqM3+O8t+j1VeQqNXjPgwmftoETdpiEjuYKYBG8e/s10AieZ9r42hZe1Fxq9hnr1wMKo3mLfwbTv586d4+TJk7dlIfpgLPAzLL3fKP1p7Gqkubv5Wyd1Gue7SZ/uf5RFvwB2/gKiXqTgvPFz9sWDZXR3aplxj/HzRb26nv0l+4d9rjh55SRaUcs8n3nDPmZTRDhFUN9Vj8JXy+pXJnPfz2LxCnPg/P5SPv75KY59nk9rw/Curfbunlja2RsN/vu8/U1IfrrVWi6fq6GqwLijj7le/40f/RekUhwefaRv28GSgzy05yFae1p5f/H7PBbxGIIgcCW/iQsHS/GKteL96a/h82oHz781d8Djvp/FouuG1L0lJl83pToFAaHvZrOXaOdo1Fp1n2tcLwuffoH7fvF7k/Npe3Tkna0eliSrqKWIHPU1Zyu5UsWEWXPJP3uK7s6OAeO7Ozu4uG8nwXF39fUYsIgxdPodSdGvprYWbU0NFtHjwf8tQa/Woq1X45Uioae8/x3AjZ1+e7v6hvS2Eb+N6KnqoPGTHFoPl6LrGNwrWKFQsHbtWtra2tizZ88tOsJrdHZ2sn//fry8vIiLG94SJhjqMVauXEl1dTXvvPMOmzdvpmIETUy+jfja+iIg9AX/SeVJ2Cpsmezav3tw4EQXAiY6c9/rscxeF2pWEx1j9Np9Giv67T1hG8v8i6LIkSNH2L17N4cOHWL37t19K2x3Al7WXkxwnDAg+O+zNrUbD/7H+XYQ6x7LhZoLo9b9q+wEnLysuZw60POzo6Wb9KPlhMS64uJjM+D5XmeZnyT/hONXhmf5nFSehIPSgWjnsSuijHQyZOl7te5u/rYsez6ah389neA4N7KOXeHT/3uGwx9l01g5MHA0hiAIeIVFGO30m518BGdff1wDrp1XOpq7abwssvOfaWz48XEOfpDFtr9fIPvkwHOx3NsLzZUrg+rX25KSaPr8c+zXrEHu6opWr+V/zv0PryW/RohDCFtWbOkrxu3u1HB4YzZ2zhYsfXgyCoWc7JYsZHLpgIebvy0OgZBxtIKmauOfRWp1KuGO4QOcmHq/sxulP0Nx4ssCDm/M5tSXBWaN1+l1vJb0Gu/XvU+nprNve1TCIrQ93eSePDZgn4v7d9Pd2cGMq1l/AJmjI3Jvb9Qj0P33FvuOZ/5vEXIXS1y+NxG9DOrez6Drujbkrq6uSCSSvqLfvLw8vL29sbYevAjyVqPv1NCwKRsEQIRuM1qpe3t7k5CQQGZmJpdGYU01Eg4ePEhXVxerVq1CIhnZTywmJoZXXnmFuXPnUlpaygcffMBHH31EYWHhHZdFHksUUgWe1p6UtJSg0+s4XnGc2d6zkUn6B/cuvjYsfyEGt4DRaQsH8/o35fSj1+vZt28fx48fZ8qUKcyaNYvz58+zffv2O6qR23zf+aTXpfez/Bt3+hnn20av3/++4n2jL/yd5kZ1USstdf2z4uf3lqDXikxbNfDvpqiliPX71tPc3YyLhQsfZHxg9utp9BqOXznOHO85SCVjZwcZ5hiGRJAMaPbl4G7FgvUTePQPdxGV4EXhhVo2/+4se9+9RHVxy5DzeoVH0lJb089isqGinKqCPCLnzKe5ppMLB0r58i/n+OhnJ6k6L9Jap2bifB/WvDYZ3wmOJG7KJf1If0tsuZcXokaDts54wXVXXh6VP3oNVXg4bj/7KY1djTx/6Hk2Zm1kXdg6PlryEW5W11wPkzfn09HSw6KnIlFZKgh3DB+094FrjIBMIeGkkWC8S9tFWm1a343F9XjbeGOntOvX7Gsoii/Vk3XsCjZOKjKSr1CSMbRd597ivRQ0F6ARNRy7ci3QdwsKwdnXn8wbPP971J2c3/M1gVPicAvsn9yyiIlGnTH8mKorMwMkElQTJgx735vBtz74B5A5qqiYrkdqr6R+Yxbq3EYA5HI5Li4uVFVV0draSlVV1W0n+RH1Io1f5KFr6cb5ySgEpZRuE0t/NzJ79mx8fHzYs2dPn7TpZlNUVERaWhozZ87sZ6E6EqysrJg3bx6vvvoqixcvpqGhgU2bNvGf//yH7OzsOyqTPJb42xnsPi/VX6Kpu4kEn4Sb9lqDef0XNhcOyPrr9Xp27txJSkoKM2bMYOXKlSxcuJAFCxaQkZHBli1b0GhG3lH0VrLA17AEn1ie2LetqKUIS5klbpZj508+zjjfJDPcZ+Bs4czPT/ychC0J/OLELzhSdgS1dviS0V7f/sup17rPt9SpyTpeyYRZnti7WvYbn9OQw5P7n0Sn17FxyUaeiX6Gi7UXuVBzwazXS6tNo62nbczPgRYyCwLtAk0GvDaOKmY/EMr6P8YTe7c/lZeb+eov5/n6Hxcoz240maDyCu/1+zfMK4oiqbv2giAh56wtn/3mLKe3F6LXiUxfFUjQMoFHfjeD+HuD8QxxYPkLMQRNduHE1suk7C7ue53BvP41tbWUf+8FJDY2eL/7LlkdhTyw6wHS69L5w8w/8MsZv0QuvVZnkJ9SzeXUGuLu9u9LHkU6RZLbmGvy5lCmEohbEUBpZsOAYDy9Lh2NXtPX3Ot6BEEgyjmKS/XmBdOdrT0kbsrByduadb+chpOXFUc/zjFZZwKg0Wl4O+1twh3DsZHYcLj0cL/Xj563iOrCy9SVlfRtTzu4l672Nmbc++CA+VTRMWgrq0zeaJlCnZmJMigIiaXl0INvAWYF/4IgLBUEIU8QhAJBEH5m5Pk5giBcEARBKwjCfTc897ggCJevPh6/bvtUQRAyrs75T+EmW2foVODyfAxyN0saPs6m85Lhi+t1/OmV/NxuwX/r4VK68pqwXxmEMsAOZaAdXWYG/71dh0VRZNu2bcMOljs7O0lLS2P79u2kpqYOGbRpNBp27dqFo6Mjc+bMGdZrDYZSqSQ+Pp4f/vCHrFy5ku7ubrZs2cLbb79NXl7emL3OnUKAbQAlrSUklicaOlp6DuxoWVlZyc6dO2lsbBzVa1nILHBUOQ7I/IuiSGFLYb9GV1qtli+//JK0tDQSEhJYsmRJX6H37NmzWb58OXl5eXz22Wd0dxtvQHY7EWwfjJ+tX7+LRa+16bjTz7fjujCOoXngnjV7eDPhTeZ4zSGxPJFXEl9hzudz+OHRH7KzcCct3UNntcEQFHsE25GfUt0XmKbsLkIiFYhb7t9v7MXaizx94GkUUgUfLf2IMMcw1oSswVHlaHb2P7E8EblETrzn2DvrRTpFktWQNehKs4W1gukrA1n/x3ji7w2mubqTnf9MY+ufznF2ZxFnd/V/lGSCRKbgwv4zJH2Wx0c/O0FW8lEkMn9snJyYvS6E9X+M54GfxxG73B+VXf8GWlK5hMXPRBI+w53U3cWc/KoAURT7ef1fj16tpuIHL6Jrbsbn3XfY336Wx/c/jkwiY9OyTawOXt1vfGuDmuTP8nAPtGPqUr++7RFOEai1aqPd5XuJTvDG3s2Sk18WoNNeizVSqlOQCBKmuE0xul+McwyFzYX95DjGEEWRox/n0NOlY9FTESgtZCx6KpIetY7ETTkmv6et+Vu50n6FH075ITGWMRyrOEaX9loPnPBZCUikMjITDwGg6e7i/J6v8YuZjEfwwHjQYuJV3X9GBm2NXRSnD30TIIribdPZt5chhcCCIEiBt4FFQAWQKgjCTlEUr78lLgOeAH58w76OwK+BWEAEzl/dtwl4F3gWOAvsBZYC+0b7hgZDaiXH5dlo6j/KonFzLmK3Dg8PD9LT0zl//jz29va4uAy/KPJmoc6qp+1oOZaxblhNN9QnqILt6cppRNvYhcxRNeQcDg4OLF++nK+//pqTJ08ye/bsQcc3NzeTl5dHTk4OpaWliKKIUqkkPT2d5ORkZsyYQWxsrNF9k5OTaWpq4vHHH78pbkkymYypU6cyefJksrOzSU5OZvPmzUyYMIFly5YN2lDt24SfrR9qrZodBTuY6j4VG0V/DW1XVxdbtmyhubmZS5cukZCQwF133YV0hF0Svay9BmT+qzuq6dB09GX+e7taFxQUsHjxYqM2t9OmTUOhULBjxw42bdrEI488Mmjvh28aQRCY7zufTVmbaOluwU5pR1FzEXd5jl2r+TuVb9N1YRywlFuywG8BC/wWoNFrOF9zniOlRzhafpSj5UeRClJi3WKZ5zuPBb4LcLdyNzlX6DR3kj/Lo76iHUEQyE+pYcpiX6zsr7mMnao8xSuJr+Bq6cr7i97Hw9qwwmghs+CRCY/w1sW3yGvMI8zRdDJOFEWSypOY5jENS/nYZ1MjnSPZUbiDms6aQd8vgEIlY/IiX2ISvMk7W83FQ2WcM1kA6051QQ5tzdNwcKunUexg8TP3EZkw2cT4/kikEuavn4DcQkb64XI0ai2z7zO4j13v9S/q9VT+7P/QlZmJ99v/Qhfix++3PEG0czT/O+9/sVf198/X60UOb8xGBBY9FYFEei033FsDkd2QTYiD8ZpIqUzCzPuC2fP2JTKSKpi00Bcw6P0jHCMGXKd6iXKOQi/qyW7IJtbdeGwBkJl8hdLMBmavC8HJ0yDNdvKy5q41QZzYepms45VEzfHqt0+nppP/XPoPsW6xzPScSaZlJifbT3Ky8mTfyq6lrR3BcTPIPp7I7Ief4NLhA3S2NBvN+gMG2Y5USmf6JY6l2FJb0sp9P40dVGKrraxE19R0W3T27cWcKsBpQIEoikUAgiB8DqwG+k7yoiiWXH3uxtTyEuCQKIqNV58/BCwVBCEJsBVF8czV7R8D93ALTvISlQznp6Jo+CSHpq8uYzfTEHxUVVUxffr02yajp6ntpHFLPnJvaxxWB/cdl/KqRVp3QTOyaYOfkHqZOHEi+fn5JCYmEhQUhKenZ99zoihSV1dHbm4uOTk5fcXPzs7OzJo1i/DwcDw8PCgpKeHEiRMcPnyYEydO4OrqSlxcHFZX7cKqq6s5deoUkyZNIiDg5togSiQSoqKiCA8P5/Tp0yQlJVFUVMTChQuZOnXqiOsM7hT87fwBg/OMMYeLvXv30tLSwgMPPEBGRgaHDx8mIyODlStX4n01QzQcPK09yW3M7betsOVq4at9EF1dXWzevJnS0lJWrlzJ1KlTTc41adIkFAoFX375JR999BGPPfbYbVdjcz0LfBewMXMjxyqOMddnLnXqunGnHwPfquvCONeQS+TM8JjBDI8Z/Hz6z8lqyOJo2VGOlB3hzyl/5s8pfybCKYLlAct5OPzhfpIRgOAprhz/PJ/8lBqaqztQWsiYvPhaFvlI2RF+kvwTAuwCeG/RezhbOPfb/8HwB9mQuYEPMz/kr3P+avI4i1uKKW8r5/GIx02OGQ0RTgaJTlZD1pDBfy9SuYSIWZ5EzPI0OebU1mpOf7WZJ/4cx6H330ZlZU3YzOElFASJwOwHQlCopJzfV0pPtw5/Fzc0V64laer+95+0HTiA6+uvYzN/Pl/lf4Vaq+bVqa8OCPwBLh4spaqghQVPTMDWuX9Sxs/WD0uZJVkNWQNWC67HP9oZ30gnUveUEDrNHSy0ZNRnsD5ivcl9ejv9ZtZnmgz+G6s6OPlVAb6RjkQn9L+GxczzpjSznpNbL+MVao+D+zUL009yPqGhq4E3572JIAiEqEKwU9pxqPRQX/APED1vEflnTpB/5gSpu77CJzKmz5r1RiQWFihDQynIaqdW1opEInD660LuedX0zZs6w1DTcDt09u3FnCjJC7i+uqTi6jZzMLWv19V/j2TOUSNRSHFeH4FFlBPKk9ccgG4XyY++S0vDpmwEmQSnRyMQ5Ne+JpmLBRJbBV0FTWbPJwgCK1aswMrKiq+++oru7m7Ky8s5dOgQb731Fu+88w5Hjx5FIpGwcOFCXnzxRV588UUWLFiAl5cXEomEwMBA1q9fz7PPPktAQABlZWX84x//YO/evTQ1NbFr1y5UKhWLTbQLvxnIZDJmz57N97//fTw9PdmzZw8bNmygpqZm6J3vYHrtPoEB/v69Bd5z5swhIiKCdevW8eCDD9LZ2ckHH3zAnj176OrqYjh4WntS2V7Zz+u/1/XGS+nFxx9/THl5Offee++ggX8vERERPPzwwzQ0NLBx40ZaWsyTFHwTRDtH42rhypGyI33FvuNOP8C38LowzkB6NdkvT3mZHffsYOc9O3llyivIBBlvnHuDR/c9OkAKorKW4xvlRNbxK5RkNDB5sS8qK8MNwq7CXbyW9BoTHCewYcmGAYE/gK3ClgdCH+BAyQHKW8sHPN/LjZ3Nx5owhzCkgnRMuttej1d4BIgixRfPUZB6mvBZc5GNYKVcEARmrA7irjVBFJyr5VLoE3RVGJJ3zdu/puG997C//34cn3wCgG0F2wi0C2Siy8QBc9WWtpKys5jgqa6ETR94oyOVSAl3DB9QAG2MWfcHo+3WcXZXEWm1aWj1WqN6/14cVY54WXuZ1P3rtHoObchCrpQyf/2EAQlaQSKw4PEIZAophzZk90mOmrua2Zi5kQSfBCa5TjK8D0HKPJ95JJcn06O7VifgGzMJGycXDn/wDh1NjcxYazzr34sschLZ+ihc/W2IvzeYK3lNlOeYlth2ZWWCXI7yNokx4Q7o8CsIwnPAcwBubm4kJSWNaJ729vaB+3qCa6ME23oLOqU9lJSUUFY2tI/+zaS9rZ38d05hVQ+VsXry004PGONqLWCZ201GYo3BAchMAgMDSU9P569//gs6UY8gCNjb2xMSEoKzszNKpRKtVktm5uCV925ubkgkEhoaGkhNTSUlJQWACRMm9P37VuPr64tSqaSgoIB///vf+Pj44Ofnh1qtHvFv5lZi9PdpAr2oRyEocJI5UXC+gAIMDgtdXV2cO3cOGxsbw5L4dfNNnDiR4uJiUlNTSU9PJyQkxGyJW0dbBxq9hl1HdiHtkpKUlMSJ+hM46Z3Y9P4m1Go1kZGRNDQ0DOuzjoqKIiMjg3feeYcpU6agVJrffGwwurq6KC0txdnZeUy++zBpGMfKj+HQZlh1q82tJalwdPP29PTQ0NBAfX099vb2d8Rv9Hbhpl4TbkNut+MMIoggqyDShXQ+a/iMe3fcy1qHtUxkYt9xaq1ENF0iMhW0yIpJSirheNtxtjRuIVQVymMWj3Hx9EXTr6ENQiJK+OOhP7LOaZ3RMTuqd+Ct8CY3NZdcco2OMYW5n6m7zJ0Tl08Q0xozrPkHQ6fpAUHg0IZ/o9No6LJ2MHksZh2nEjymClSd8+FUdzwV//4A57fepCc8jLyEueQlJ1PVU8WlukvcY38PycnJ/XbXa0UKD4hIlCDzqxvwfC92ajtOtJ/gSOIRpEJ/CemNx2kfLJJ9vJJy7TEkSGjPayfpsun34aZ341zFOaPvtTpNT0M5+MwWSL04MB7qxWWSSPnJNr58Owm3iRK+bvqaDk0Hd2nv6pu3vb0dd6k77Zp2/nPgP0RZXrPdtPYPou38GazcvSisa6BokM+9oTuAHoUtNg6lNNCO3BIOfpxG4GLBqHrE/thxJB4eHDt1yuSc13Mr/ubNCf6vANf3ova+us0crgAJN+ybdHW79w3bjc4piuJ/gP8AxMbGigkJCcaGDUlSUhLG9hUTRGrfaaGrroN5s+ciyMfOLmwkpH+YjHWtgN2KQHxmGU96ddjU0LQ1n/iwWBSe5ksmRJ2IRUYXNZomYpbEET41asSa66SkJO6//35aWlo4fdrwB3l9gec3RUdHBwcPHiQ9PZ329nZ8fHyMfu+3G6Z+n6Z4Ju0ZAuwCSAgw7KPX6/n4448RBIEnnngCJycno/tVVFSwa9cusrKyCA8PZ9myZUM2YZNWSNlyZAt+MX40ZzeTkJDAhm0bmFk9E41ew/r160cs9Zo2bRobN26ktraWRx55ZNSSrfr6ej7++GNaW1vRarXce0ML+5GgrFRy/NBxUnWpKKVK1i5YOyJbwebmZnJzc8nNze2rp7G1tUUul98Rv9Eb+MauCzf7mnC7cbseZwIJPNT5EL888Uu+qPqCbIts/rXoXziqHNH06Nhaco6pS3wJm+HBhxkfsqV0CwneCbyR8AZK6dC71rnmAAAgAElEQVQ3+mmn09hZsJPfL//9gBWCxq5GSraU8HzM8yRMShj2sZv7mR49eZSk8iTmzp07pte26sR9VBdexsnbl+X3rzM5t9nffQKkVn5EaqUfpScrcQkII/rjjUiv1sG9kfoGsmoZryx+BSeL/teGpE9z6WmvZPUrk/EOM915uaOog8TjiXhP9B5Qi3HjcXbFafj012ewzQshZmYMS+YvGfTwy7LK+Nu5vxE1Parfd30lr4msLy4SMduTeY+ED/kxHBVzyDldReQ8X05UnGBF4Aoenv1wv+N8dvazfPLFJ9TY1fDizBf7nmuNiuCLsmKWPf8S3hGmvfhb6tR8tlWPe/VZ7nKPwG7BPDwtqzjy3xx8bCMJnurab7yo15P/k9exXb6cGDP/jm/F37w5V9pUIEQQhABBEBTAg8BOM+c/ACwWBMFBEAQHYDFwQBTFKqBVEIQZV90c1gM7RnD8o0aQCMxYMpuobu8+C9BvCnVeI46XBSwmuWA907RmUBVs0OuZa/nZS3dhM1Gd3izQRONbaj0mxZZ2dnYsXbqUpUuXfuOBPxjsQdesWcP69QaNYXp6Otu3b6ejw7xGLHcKL0x6gaUBS/v+f/r0aUpKSli2bJnJwB8M/R+ee+45Fi1aREFBAW+//TZnz54d1AnqxkZfdXV1eGR7INfJRxX4A3h6erJkyRIKCwtHvWpUXV3Nhg0b0Gq1REVFUVdX11fDMhpi3WOxVdhS2lpKgF2A2YG/KIrU1NSQnJzMe++9x5tvvsn+/fvp6Ohg1qxZPPfcc7z66qt9zQbvML7V14VxzMPV0pV/L/o3r8e9To46h7U71nK84jhyhZSHfz2d0Onu/O+F/+XNC2+yLGAZ/zPvf8wK/AGeinwKrahlU/amAc8drziOXtTfNMlPL5FOkTR1N1HVMfrzyPX0Wn5Gzl1g1nWzrrOOrflbOXnlpMkxIZHWRGV+QJuFB2mTX6VLNHzOGp2GXUW7mOszd0DgX5xeR9bxSiYv9B008IdrNRCD+f33orKSM+luL+waPYhTG+9afD3RLgYt/PV+/10dGg5/lI2diwWz7jOv8eqsB0Kwdbbg6H9zkWrkfH/S9weMUUgVJPgkcLTsKBr9NQdDW2dXnv3Xh4MG/gCnvipAIpUQXHWwr9lX6HR3HDysOLuzCL2u/7W0p7QUfVvbbdPZt5chg39RFLXAixhO2DnAFlEUswRB+J0gCKsABEGIEwShArgfeE8QhKyr+zYCv8dwoUgFftdb5AV8H/gAKAAK+QaLupRB9khs5HSmDc+3dSzRNqhp3JxHjw04rA0Z9IQgtVMic7Ew2/Kzl860WgSVFJu53qgz6umpaBt6pzuUwMBAXnjhBXx9fcnIyOBf//oXaWlp38oGYVVVVRw5coTw8HAmTx7aMUIqlTJz5kx+8IMf4OPjw759+/jwww/7mt3dSJ/Xf0clbW1tfLjhQwS9QODCQHx8fIzuMxymTp1KaGgohw4dGnG9Rnl5OR999BEymYynnnqKFStWIJPJOHLkyNA7D4FcIu/zEQ+wG/xGR6/XU1ZWxsGDB3nrrbd49913SUxMRCqVsnDhQl566SV+8IMfsGDBAjw9PW+LG+aR8F24LoxjHhJBwmMRj/ETj5/goHLg+0e+z5/O/gm1Vs0fz/6RDzI+4L7Q+/jTrD8hl5ivbfex9WGJ3xK+yPuC1p7Wfs8lVyTjauFKhGPEWL+dfkQ6X+30a4bWfTiETJuJg6c3EXPmmxxT0lLC4ZbDPLL3EeZvnc/vTv+OV5NepUHdYHS8xaRJeFo2sXiFHa0tWra/cYHWBjXHKo7R2NXImuA1/cZ3tHRzdFMuzj7WTDfSfO1G/Gz9sJJbmf1ZtAeVU295BYtUP7Q9gzd3DHcMRypIuVRn0P2LosixzXl0Xm00Jleal3BRqGREPeCA0CHnwbpX8LYxbnCx0G8hrT2tpFanmjVvLxW5jRSl1TF1mT/2Yb6oMwzBv0QiMGN1IM01neSe6X8dvd06+/ZiluZfFMW9GGzXrt/2q+v+nUr/5drrx20ANhjZfg64LT4NQSJgGeNC+5kq9GotEovRl0J0XKylp6QF63hP5G5Wg47V9+j6OvhWTdYTpBj6h64MtqfzXA2iVo8gG3oBR9ToUGc1YBHtjM08HzpSq2k5UILL06OvPldnNdBT1ortYj8E6ehkG2OJXC4nMDCQFStWsGvXLr7++mtOnz6N5Rg32bCysmLJkiXY2Bi3MhsuBQUFXLp0ifDwcMLDwweVwmg0GrZt24alpSUrV64cVjDp4ODAo48+SmZmJvv27eO9997Dz8/P6BzzauZRkVhBVUsVMpWMZM9k7g+4f0Tv73p0rT207CtmxYJlvHflA7Zt28azzz6LTGb+32BRURGbN2/G2tqaxx9/HHt7w8qYr68vBQUFlJSU4O/vP6rjnO87n52FO00W+4qiyJkzZzhx4gQdHR1IJBICAgKIj48nLCxszH4btxPf9uvCOMPDU+HJ5ws+583zb/JJzifsKtpFW08bT0Q+wY+m/mhEN7pPRT/FvpJ9bMnbwjPRzwDQrevmxBWDpONm3zyHOIQgE2RkN2SzyG/RmM3rFR7BU//4d79toiiS3ZDNkbIjHC072ueoFuEUwUuTXyLcMZyXj77M+xnv87NpA9pqoAwOJviQoVOtVWQLu/+VzvY3LpA2/SAuFi7M9JrZ77USN+Wi6dax6MlIpPKhr9sSQUKEU4RZmX+A1JpUzgae5e7MF7h4qIy4u00nTixkFoQ6hPZl/vPOVHP5XC3TVwXi5j88C+9PGz+g2VfO5KJF5KdWExo3cGV1pudMLGQWHCo9ZHaPCL1Oz4mtl7FxUjFpoQ+NWdE0/vdj9D09SBQKAiY64xZgS+ruYkKnuSG7KiHvysxAUCpRBgcP8Qq3ltsnUvuGsZzkCjoRdebQraKHQluvpumry3ScrabmHxeo/zibnnLjWXZRFGn6Mh9NTSdOD4WjNTMuVQU7IGr09JSZl71X5zQiduuwnOSKRCXDZp4P3Zebh716cCOiTqR5ZwFtyRU0bMpB1Ax+h/9N4OrqypNPPsndd9+NSqVCq9WO6SMvL4+NGzeOuotye3s7X375JZ988glZWVls2bKFd955h4sXL6LVGu+seOjQIerq6rjnnnv6bFeHgyAIREdH8+KLLxIbG4tOpzP6HlUSFT2aHkMvjDkutMvbx8T1piOlis6LtehON7B69WpqamqGla3Py8vj008/xcHBgaeeeqov8Afw8vLCxsaGw4cPj3rFZ5bXLFYFrTIaAIiiyOHDhzlw4ABubm7ce++9vP766zz22GPExsZ+KwP/ccYxhlKq5KfTfsp7C9/DSeXEy5NfHnHgD4aM8CyvWWzK3tTXmCm1OhW1Vn1TO5v3opQqCXEIGXPHn140eg1nqs7wx7N/ZNGXi3hwj8Hm1MnCiZ9N+xm/9fotX6z4gudinmOO9xzuCb6HLXlbBjRdvBGPIDvu+dFkNBotnkfiWe2wDpnkWkKl1zM/fm0wjp7mXzciHCPIa8zrJ5cxRUp1Cq7BVgRNceHC/lLaGgd3mYtyjiKzIZPcM5Uc3ZSLV6g9U65rNGYO2Q3ZHCg5wMQlnrgH2pH8WT6tDQM7VatkKuZ4z+Fo2VF0evNiluwTlTRc6WDmvcHI5FJU0TGIGg3duYZic0EQmHFPEO1N3WQmX/t+1JlZqCZMQBhGQutWcHsdzTeI3NsamZOKzrRarIzcKZqLKIo0fV2AIBVw+cEU1Bl1tJ+qoja7AWWQHTYJPiiD7ftOhu3Hr6C+VI/tUn9UoQ5QOcQLXEUZZAcCdBU0oQwcvGAToDOtDomNom+s9QxP2k9coeVACcqgiSM+OXflNKBr6cFiogvqS3XUb8zC6fEIJMrb66clkUiIi4sjLi5uzOcuLy/n008/ZcOGDaxfvx5n54H2dYMhiiJVVVX861//QqPRkJCQQHx8PPn5+Rw/fpwdO3aQmJhIfHw8U6ZMQaFQAHD58mVSUlKYPn06waPMKlhaWnL33XebfP61pNfIacphscNiDmsO46RyMuoVPRxEUaTzanfEjpRqAmdPJS4ujtOnTxMSEkJg4OBL0RkZGWzbtg0PDw8effTRASs6UqmUuXPnsnv3bvLz80dl5auUKvl/s/7fgO16vZ69e/dy7tw5YmNjWb58+be+z8S3gdzcXIqLi2/LQtpvA/Fe8exas2tM5no66mmePPAk2wu281D4QySVJ2Ehs2C6x/QxmX8oIpwi2F+yn7+mmu45MBIauxo5XnGc1p5WlFIl8Z7xvDT5JeZ6z+07tybVJPXb53sTv8euwl28k/aO0fPR9bj42KBf9f/Ze+/wqK40X/fdlatUKqVSzkISQgkJkUQGYYMxxgaDDQZjsNt2292e6Tl9ZqZ7Zu6dObfnzPQ5M+dMu93BdjsBTTBtwAEHcpAQGUkIJYICCihLpVClUoV9/yiQkZUjwq73eXgoVe2wKuy9vrXW9/1+pdg/0aL+ajLVkwz4RbjRWHVPM9+LhEVDU9KN08fRae/kVvMtYjz7LsA1mA0UNhby2tTXmDM9ktKrDZw9cItHX+rb5CpBn0D+6TscO1VI4GQPVryWgEQytLjkt1d+i5vSjS0JW7CHyPj4f17g2EcFPPk3yT2O9UjoIxwqPcSV2ivM8Os/Luhot3D+8xICo92JSHao5KkTHVkTpqu5qBMdalBBkz0IjvXk8tdlRMdpsBVcpSM/H/e1a/s89oNiYkVoDxBBEFAn+dB6/Da2FjNS3fBkB41XajHfbMb9qUgU/i4o/F1wXRhE+/lqWtMrqX//GvIgLbpFwQhKKYavS1DHe+G6cGjmSxKVDEWQK+ZbA2uk240WOooa0aYGINy9AAS5BN3SUJr23aAjrwF1/NAC1nu0ZVYhdVfi+exkTDGeNP6liPr3rqHfGodEM/ouvxOR4OBgXnjhBXbs2MGHH37I888/P+gizrq6Og4ePEhZWRmhoaGsXLmyS4IzPj6euLg4bt68SXp6Ot988w2nT59m1qxZxMfH89lnn+Ht7c3SpUvH8u0BDpffk+UnsbvbKTYUdzn7jgRLVTvWOhO6pSG0nqqg5UgZj6x5hJKSEg4cOMBrr73WZ4rW5cuX+eKLLwgNDWXDhg2oVL27XScnJ5OZmcmxY8eIiooa1cDcZrPx2WefcfXqVebOncvSpUsf2hz+HxoVFRWUlZXR1tY2oU3mnECKbwpJ3kl8dO0j1kav5VTFKVL9UwddODxSFgcv5kjZEfbf2D+qx1VJVSwKXsSS4CWkBqQOyqXYz8WPDTEb2FGwg61xW4n06Ps+LIoin9XvJXBRGPOzNvHZm9ksfyWec5/euquZHzPk+9U9p9+8+rx+g//LNZcREZnhNwOdXk3yoyFc+qqUhIWB+Ef2Pmnkci2E+SXrUEdaWfnTxK60mcFysfoiZ6rO8POUnzvchL1hwbPRHNtWQNbhMlKWh3Xbfn7gfJRSJUfKjgwY/F88WILZaGHeM9/WY8r8/JB5e9ORexVRfA5LZRWmy5eIvHOd8vYUTmz9NRGlXyIoFGgXjW1h+nBwBv/3oUnypvXYbYw59bjOH7q3jK2tE8OXxShCdbjc574rUcpwXRCENjWA9is1tJ6uoOHPBQDIfDR4rIseVtCgjHSn9VQ59g4rElXfX6XpWgPYRDRJ3XXdNdN8aT1dgeFwGapYr66BwWCxVLdjLjbg9liYo24i2QdBIaVhVwF17+aifykeqatiyO/rYcTf358XX3yR7du389FHH7Fx48Z+i2GtVivp6elkZGQgl8uZPHkyzz77bI/gVBAEoqKiiIqK4vbt26Snp3PixImuItJNmzYhH4ZBzFAJ0AbQae+k1dbKreZbPBX51IiPacyqBamAdk4AotVO66kKtAuDWbNmDe+99x4HDx5k3bp1Pa6NzMxMDh8+TGRkJM8880zXSkhvSKVSlixZwieffEJubi5Tp/Y0uBkOVquVTz75hMLCQtLS0pg/f/6oHNfJ+JCYmEhGRgZ5eXnMmjU+M8hOhocgCLyU8BJvHH+DNy+/SXV7Na9P7aniMlYsDF7ImQ19q+yMNz9K+BH7buzjray3eHPJm31ud7nmMrdbb/PqvFdJS5vG529mc/CtHABWvJ6Ii9vQB0/BrsG4yl3Ja8jjafqWUb5Y7ZBFTvR2zIhPWxZKQeYd0vfeYN0vpneLNURR5Nynxdw4ZKDYOxuvuWZk8qGZhYqiyG+u/AYfjQ/rY7416Jo824/S3HoufF5C8BTPbvto5BrmBc7jaNlRfjHzF0iE3ieGGqvayT1VSez8QPRB36ZwCoKAKjGR1mPHaV+0GOtdsQqpVot/ijcVEcuZ/Y/P4DFzKpJR8rAZTZzr0/ch99YgD9RizK4d1v6Gg8XYzTY81kT2GkgLcgnaWf74/bfpeG6YjDpBj9fm4afIKCPdwQ7m4v5n/43Ztcj0auSB3We4BKmA7tFQrLVGRyA2RNrOVoFMgmb6twMddZwX+i1xWBtM1L1zFWvz0NxkH2b0ej0vvvgiarWa7du3U1xc3Ot2paWlvP3225w6dYrY2Fh++tOf4u/vP+CsdEhICBs3buTHP/4xycnJrFq1atxkIu/Jfd4038RoNTLJfWT5/qJdxHi1DlW0BxKNHNcFQQhKGS2HSgkICGDx4sXk5+eTk5Pz7T6iyIkTJzh8+DCxsbGsX7++38D/HrGxsfj5+XHixIk+ayeGQmdnJ7t27aKwsJDHHnvMGfg/hPj4+ODi4kLuXbUOJxObBUELiHSPZFv+NgQE5gf9cK85d5U7L8S9wPHy4+TU5fS53YGbB3CRu7A0ZCkubkpW/7dpBE/xYNqyUMITh7fSLwjCoIp+L1RfIMknCYXUcX+WK6Wkrp5E3e1WCs99K5sq2kVO77nOlUNlxM0PoGluHtcah35Nnig/wdW6q7w29TVUsm9XgQVBYNHGGNQ6BUc+yMdu7V77tTR0KXWmui6Voe8iiiIZf7mOQiVl1hM9C5Z1y5cj9fREk5KC7//zT4R/9inR58+x+H+sw4aU/Cr3CRn4g3PmvweaJG8MX5ZgqTMi9x68KkzH9SaM2XW4poUMqO4jSAU0U33QTPXpd7uBUIbqEOQSzDebUcf2ru1uM5gxlxjQpYX0urqgjtcjD9TScqQMzVTvQSkHAUgsjhQnzVRvpC7dZ55VUR7of5RA/YfXqHv7KvofJSDXj9xT4GHA3d2dF198kR07drBz506eeeaZrlxzk8nEkSNHuHLlCu7u7mzatGlYufp+fn48+eSTo930fglwcQT/eSZH4dtIg39ziQF7Syeaxx3XgEQjx3VhEC2HSjGXGpg7dy43b97kq6++IiQkBA8PDw4dOsS5c+dISkpi1apVg07hkUgkpKWlsXPnTq5cucLMmX1bzQ+EyWRi165dVFRU8NRTT5GUlDTsYzl5sPj6+lJcXExjYyOenp4D7/Adbty4wfXr14e0j1QqZdasWXh49K+pPppUVVVRVVVFSkrKQ5uWJhEkvJTwEr9M/yUJ3gk9TL9+aGyO3czuwt28eeVN3n/0/R7fa2tnK4dLD7Ny0squdCKVVs6qvx5YCnogYvWx7MjfQaetsyu4v5+mjiauN13njeQ3uj0fPdOXa6cqOPtpMZOSfZApJBzfXkjR+WqSHwkhdc0krlyJ48/5f+7z2L1hs9t4K+stwnRhva5Iq1zkpG2Zwue/yYYrIKaJXZ/XwqCFyCVyjpQdIcmn5728NLeB8oIm5q2LQt1LFoPbEytxe2Jlj+c9/FyYkurHtfRKpqYFo5uA8Y9z5v87aKZ6g8CQNP/tnTaaDtxA5q1Gt3jkuueDRZBJUITp6LjVt8qMMacORFAn9T7QEAQBt+Vh2JrNtJ0fvJGJa6WAaLGjndO7GZkyVIf3y4mIFht1b+dgqf5+mWz1h6urK1u2bMHX15ePP/6Y3NzcLq+BrKws5s6dy+uvvz7iIt3x5N7Mf4HJka420px/U3YdgkKK6r6lWO3cACSucgzflCIIAqtXr0YQBA4cOMAXX3zBuXPnmDVr1pAC/3tERkYSGhrKqVOn6OzsHFab29vb2bZtG5WVlaxbt84Z+D/k+Pg47onDmf23Wq189tlnZGVlce3atUH/u3DhAh9//PGorEANhoaGBnbs2MHBgwfJzMwcl3OOFcvDljPLfxbPTn72QTflgaORa3gl8RUuVl/kbNXZHq9/U/oNHbYO1kSuGfVzx3rFYrVbudF8o9fXL9VcAmCmX/dJFkEQmPdMNKaWTs5/UcyhP+VRdL6aWasiSF0zyaE8p0/AYrdQ1Fg06PZ8WfIlN5tv8tPkn3ZTNLqf4BhPpi0LpbkY0vdcR7Q7VgBcFa6kBqRytKynIpzNYufMX27g4achfoiF0QAzVoYjIHDxYMmQ9x0PnDP/30GqU6KMcMOUXYtuae+z5d+l5UgZtiYz3q8mDnrmfLRQRXpg+LoEW0snUl3Pkakxpw55kLbfmXdlpDvKCDdaj5fjMt13wDQk0S7idltAEapDEdh3sZwiUIv3q1Opfy+X2neu4v1iPIrggWUPbW2dtGVWIXbYcHsi4qGcrdJoNGzevJndu3ezb98+wOFmu2nTJvz9/R9w64aORq7BQ+lBk7kJvVqPm3Jgham+EK12jLn1qOO8kNznaSFRSNEtCaH5s1t0XG/CfbInjz/+OPv376e8vJwFCxawePHiYf0eBEEgLS2NDz74gHPnzrFgwYJB79vY2EhhYSEXL16ktbWVDRs2EBU1OMdJJxMXlUrVZQK4YMGCIf2uCgoKaGtrY+PGjUP6LRQWFrJnzx5OnDjBI4+Mnm58bxiNRnbt2gVAVFQUR44cwdPTkylTpozpeQHMZjMXLlxgypQpQ1Y/6wuZRMZ7j743Ksf6PrAueh3b87bzmyu/YXbA7G456wduHCDSPZJ4/ehbZtwr+s1vyO96fD8X7lxALVN3GaTdj2+YjphUP64erwAcjrxTl3w7YZqgdyjo5Nbndrn+9kenrZPfZ/2eKZ5TBvRhmP1UBGVlZeSeqqSzw8aSzTFIpBKWhizldMVpx/u5r805J8ox1Jl44o2pSIfhX6T1UBG30J+rxysQ3K2Ehfnj4adB560e1vFGG2fw3wuaJB+a9t3AUtE2YLDaWdlGW0YlLjP9UIYPPyAaLsq7lfMdt5pxSe4+u2+pNWKpbMNtZf+SiYIgoFseRt0fcmjLqEKXFtLv9h03mlAYBbSpAwexch8N3j+eSt17udT9KRevF2JRTeq92t/a1EFbeiXtF6sRLQ6LbM10XxQBD6cah0qlYuPGjRw5cgS9Xs+MGTMeahnIAG0ATeamEev7dxQ1InZYexSgA7jM8KM1vZKWb0pRRXmQmJhIU1MTLi4uTJ8+fUTnDQkJITo6mjNnzjB9+vQ+lYREUaS6uprCwkIKCwu7XId9fX15/vnnCQ0dmva0k4lLYmIiBw8epLq6ekiD8gsXLuDp6cmkSUO7FmJiYkhJSeHMmTNERkYSHt6/Y/RwsVqt7N27l+bmZjZv3kxAQAAfffQR+/fvZ+vWrQQE9L5iOxpUVFSwb98+mpqauHz5Mq+88sqoGys6AYVUwU+Sf8I/ZvwjR8qOsCxsGQA3mm6QW5/L307/2zGZOAvSBqFT6Mirz2NddE+jxwvVF5jmM61PN+fZT02iqdpI/IJAYr4TQ/hqfPFWe3eZfQ3EX67/har2Kv459Z/7LNi9hyAI+E4ViIwO4/znJVjMNh59KY4lIQ735MNlh7uC/3aDmUtflRKW4EVIXO8p1QMhiiJHvT5Gog6n4BuBAhweUhKpgJu3Gg8/F9z9NHj6aXD3c8HDV4NiFAxmB8vDG4mMIep4PUiFAQt/RZtI077rSLRy3B4bm5v4QMj9XZBoZJh7MesyZteCAJrEnkHWd1GG6FDFetF6ugJbe/8GHu2ZVViV4qDlQWWeKnx+nIjUXUn9h3mYChu7vW6paadxbxHV/3GJtnN3UCd64/3jRJAIXTrwDysKhYLHH3+cWbNmPdSBP3yb+jPSfH9jdh0SFznKyJ55z4JMgtsjoVjutGPKdXz3CxcuHHHgf4+0tDTMZjNnznRX77Db7ZSWlvLNN9/w5ptv8s4773Dq1CmUSiXLli3jr/7qr3jttdecgf/3jNjYWCQSyZBSf6qqqigvLx/2YH7ZsmV4eXlx4MABTKaeBkQjRRRFvvzyS0pLS1m1ahWhoaHI5XLWr1+PRqNh9+7dtLS0jPp57XY7p06d4v3338dut7NixQpaW1vZt28fdrt91M/nBB4Pf5xI90h+l/U7rHZHKtmBmweQSWSsnNQzF3006K/ot95UT7GhmJn+fddVubgpWfv303sE/veOHa+PJ7d+4Oux3dLOu1ffZYbfDFIDUgfd9ukrwpm3Lori7Dq+/ONVNGiZ4TejW+rP+c+KsVnszF07/BXeD/M+ZH/5X6hekcn7M/4O61M3SdsyhaRHQvDwc6Gpup3sw7c5+lEBn/z6En/6m9N89PcZfPpfWdy5bMdsHNhIbSQ4Z/57QaKWoYrxxHi1DrfHI/qUwGw7U4mlqh3PjTFIxnHEdj+CREA5yR3zzSZE8dtClnsGSspJ7r2mA/WG27JQan7TQOvJctwf7321wFpvouN6Ey0R4pBSnKQ6Jd6vJlL/wTUatufjuX4yMg8VLSfK6chvcCghpfqjnR+EzN1RHa+KcseUXYfbsrAhy5A6GX0CtY68x5EE//YOK6aCRlxm+CJIe/9O1VO9kZ8qx3C4DHW8HmEUl0h9fX1JTEzk/PnzpKSkUFdXR2FhIUVFRRiNRqRSKRERESxYsIDo6GinBvz3HI1GQ2RkJLm5uSxdunRQwfyFCxeQy+XDrvlQKBSsWbOG999/n4MHD7J27dpRnaE9c+YMWVlZLFiwoJu0raurKxs2bOCDDz5g165dbN26FeUoKZE0NTWRnZ1NS6+DUhoAACAASURBVEsLCQkJXW7qUqmUL774guPHj4+LH8kPDalEyhvJb/DXJ/6az25+xqpJqzh46yCLgxfjqRp6EftgifOKY1v+Nsw2cze/hYvVF4Ge+f5DIUGfwInyExjMhn7TS3fk76Cxo5HfTvvtkK+fqWnBKNRSTuwo5IvfZpO27FH+Net/cL3pOh6t/hScvUPS0hDcfYe3YnWs7Bi/ufwbloct538v+N/8c+Y/8/7N3zE3aRqps7+dyLLZ7LTUmWiqNtJcY6TpTjtNNUYMlQzZ52CoOIP/PtAkedOR14D5VjOqqJ4zlNbGDlqOlKGa4jlsg6zRQhnpjim3Hmu9qUuhqLO8FVtDx5AKkOW+LmiSfWg7W4V2XiCyXnSA287dAUHAECz2coT+kbrI8X45gfqP8mjcddcSWyXDdUkw2rmBPVSDNMk+NO4porO0ZVAuxgPRcbOZtjOVuMzyRzXZY1xqCURRpGnfDaw1xn63C2qRUJuX3fW3oJLi/sQk5D4TZ7n83sz/SIp9TXkNYLWj6aMAHRwDWt2yMBq25dN+qQbtrNGtkVi0aBHXrl3jt7/9LQBKpZKoqCimTJlCZGTksAOitjOVmEsMqKZ4oYrx7PF7djIxSUhI4Pr165SVlQ2YhtPe3k5ubi7Jycmo1cNX8AgMDGTRokUcP36c6OjoUfOfKCgo4OjRo8TFxfXqXuzn58fatWvZvXs3+/fv79VbZCiIokhOTg5fffUVNpuNNWvWkHjX7RQgJSWFqqoqMjIyCAgIIDY2dtjn+j7R1NRETk4Os2fP7tOgcLAsDl5Moncif8j5AwqpgiZzE6sjV49SS3snTh/nKPptutGtruBC9QW0cm2/BmADce94eQ15zAmY0+01URQpNhRzpfYK2/K2sSR4CVO9h3ftTJkTgFwp48gHebh9FogmwJUjpUfwP5qKWitn+oqwYR03ryGPX6T/ggTvBH4191cIgsAvZv6CSzWX+IeMf+CTVZ+gU+gAkEolePi54OHXXSHyxIkTSOVjmyngDP77QB3jiaCUYsyu6xH8i6JI04EbIAi4Pxn5wAtSVXfz/s03m7uCf1N2HciEIQ9MdEtDMebU0Xr0Nh5Pd1/ysnfaaL9UjTpBj01VPay2SlQy9C/GY/iqBJmnCpdZfn0WGKumeCHIJRhzakcc/Ns7rDTtLcLW0klHQSNyPxdcFwWhTvDucwZ6NOgsacF4qQZ5kLZfx2ObCYT7Vo8sla3UvZOD/sWEfouqx5PFwYs5nXd6REVkxuxapJ4qFCH919KoYjxRhOpoOXobTbJPt8LgkeLp6cljjz1GTU0NMTExhIWFIZON7FZoLjXQfLAYQSZxmOpJQBnmhjrOC1Wcvms1y8nEY/LkycjlcnJzcwcM/rOysrDZbCOSi73HvHnzesjZjoSqqir27dtHYGAgTz31VJ9BfXR0NMuWLeObb77hyJEjLFu2bFjnM5lMHDx4kLy8PEJCQggICOgW+N/j3rV24MAB9Hp9l8rSDxWTycTOnTupr6/n+vXrbNq0aUQ1EYIg8LNpP+PFQy/yq3O/wkfj0yNoHm1ivRyDuLz6vG79wcXqi6T4pvSpujMY7h3vWv01ZvjOIL8xn6yaLC7XXia7NptmsyPF2c/Fj5+l/GwE7wIiU3yQK6V8/U4u6wx/y/WWHIRiA4ufj0E5jGyO6vZq3jj2Bp4qT95c/GaX54BGruHX83/N5q8382/n/41fz/91v8cZj5jSGfz3gSCXoo7XY7pWj/hUJMJ9ozBTdh3mG824r5o0ITp1mZcaqYeSjpvNaFMDEG0OAyX1ZM9+nX97PZanCu0sf9rOVaFdENjN68CYVYvYYXMU+pYOL/gHh6qLx1MDzx5LlFJUsV6Ycutxf2LSiJSUDIdKsbV24v3jRKwNHbSeKqdxTxHSw2W4LgzCZZpvt+94tGg7W4WgluH9SmK/AWzeyZNMXvTtTdRSb6L+T7nU/ekq+i1xKMPGv5j8u/i5+PGs17OD1l/+LrbWTsw3m3FdFDzgzU0QBNyWhVH37lXaz1bhunB0JXRnzOjfzn0o2Dusjt+SpwrfN5Kx1psw5TVgyqun+Yti+KIYeaAWdZwX6jgvZD6aBz5h4ORbFAoFU6ZMIT8/nxUrVvQ5ELTZbFy8eJGwsLBRCWAlEgmrV6/m7bff5sCBA2zZsmXYs/AGg4Fdu3bh4uLChg0bBnT9njVrFg0NDZw9exa9Xk9KSsqA5+js7KS+vr7rX3Z2Nm1tbaSlpTF37lxOnz7d634ymYxnnnmGd955hz179vDyyy+PaNXkYcZms7F3714aGxtZtGgR6enpfPTRRzz//PO4ug6shNcXM/xmMDdgLmeqzrBpyiakkrFNGQlwCcBd6U5+47d5/zXtNZS1lPVaBDwUXBWuhLuFsy1vG3+6+ic6bA6j0FBdKIuCFzHNZxrTfKcR4jo4NcaBCI33YtVfTeXAW5eZXLQAqY8F/2lDH4wZLUbeOP4GRquRHY/t6OFFkeidyKtTX+UP2X9gQeACVkSsGHHbR4Iz+O8HTZI3xss1mAob0SQ4vkhbu4Xmg7dQBLviMnviSDaqIj0w5tYh2kXMt5qxt1nQJA+vg3JdEkz7pWpaDpfhtdEhCyeKIm2ZVcj9XVCE6qB0FBvfD5pkH0w5dXTcaEI9ZXhV9+ayFtrP3UGbGoAyzA1lmBuaZB868htoOVlO84GbtBwtw3VeEC6z+16JGCpWgxlTXj3aeYFDnrmW69V4v5ZI/XvXqH//Gl6bY3tNP3uYMF11eE70pvLTG8oIN1STPWg5WYHLTP8HVlczEM2f3cLWYsb7x1ORqGQoglxRBLnitiwMS50RU16D47d2uIyWw2XI9GpUdwcCiqDhd/hORo+EhASuXr3KzZs3iYnpPWXh+vXrGAwGli9fPmrn9fDwYMWKFRw4cICMjIwhSdDew2w2s3v3bjo7O3nppZcGVaciCALLly+nsbGRL7/8Eg8PDyIiIhz3+ba2bkH+vX8Gg6Hb/n5+fjz77LMEBg6sga7T6XjmmWfYtm0bBw4cYP369Q+9AMJQEUWRr776ipKSki6DwJCQEHbv3s0HH3zA5s2bR7T68/PpP6c1s3XEwfdgEASBOK848urzup67UH0BGFm+/z3WRK7hcNlhpnpPZZrvNJJ9ksfU2C0gyoNHfxrDng9OcMJ3D2//pZLpvtNZErKEJSFL8HPx63d/m93G36f/PdebrvP7tN8T5dF7ofDLCS+TWZnJv577V5J8krpSaR8EE7M3nSAoI9yRaOWYsmu7gn/Dl8XYTTY8no6aUEWoykh32i9WY6lsw5hdi6CUopo8vIIfqVaBdl4grcfL6axoRRHkSmeJAWuN0fG+x3HWUhXljkQjw5hdN7zg3w5N+28g1SnRLftWqUWQOFKiVHFemG8103qyAsPXJbScKMfzmeg+HZOHQvv5OyCCdvbwLnCZu8pRJP1+LvUf5eH13BTUw5QdGw0sNe34X5ZgDmlGGdG7XGt/GLPrkPu7DOiAfT+6R8OofSuLmreyhhT8C1IBN42AvdM2qilD38WYU4cxqxbXtBCUIboer8u9NcgXadAtCsbWYsaU34Apr4G29EraTlUgcVXgGjpx7iM/VCIiItBoNOTm5vYZ/F+4cAGdTkd0dPSonjsxMZEbN25w8uRJJk2aNGAwbbfbMRgM1NfXdxWs19TU8Nxzz+Hr6zvo80qlUtatW8f777/Pxx9/jF6vp76+HrPZ3LWNXC5Hr9cTEhKCt7c3er0evV6Pp6fnkFPlQkNDWbZsGV9//TWnTp1i8eLFQ9rfZrNx5swZQkJCCAsLG9K+E4GzZ89y+fJl5s2b11UsHhERwebNm9m5cycffvghmzdvHrYvQpRHFDsf3zmaTe6XWK9YduTs4FT6KaqqqiiUFqJT6JjsOXnEx94Sv4Ut8VtG3sghEBUdxD/++0ZWNyRz7PYxjt8+zr9f+Hf+/cK/E+flkARNC0kjwq2n99B/Xf4vTpaf5Jczf8m8wHl9nkMmkfFv8/+NdV+s4x8y/oH3H31/zFdp+mzLAznrQ4IgFdAketN24Q52k5XOilaMV2pxXRyM3G/wAcx4oJzkSAsxFTiCC3W8fkRpLK4Lgmg/dwfDoVK8X0qg7ewdJBrZoGdtRwtBKkGdoMd4pRa72YZEObQLxaNEwFpjxGtzbK8z+oIgoIr0QBXpQWd5K02f3qRxTxE+P5k6pCD1u4hWO+0XqlHFeCLzHH5Bl9RVgfcridR/mEfDznw8100e9orOSGk5Xo5LnUDdu7lopvviviK83zqG+7E2mOgsbx2yJK4iUItueRidpUOTJrS1deJdKKH61xfQzg1Em+o/6LYOFmuzmaYDN1EEu6Jb0r83BjgUr7SzA9DODsBustJR2IgpvwG7bPTlHp0MDalUSlxcHFlZWXR0dPQowqytraWkpIS0tDSk0tHtrAVB4PHHH+f27dvs27ePV199FaVSicVioaGhgZqaGk6cONE1A9/Q0NDNIVij0bBy5cphGc+pVCqee+45Pv30UyQSCYmJiV0Bvl6vR6fTjepkz8yZM6mqquLUqVMEBAQwefLgAkWr1conn3xCYWEhUqmUtWvXjotZ2WhRWFjI4cOHiY2NZcmSJd1eCw4OZsuWLezYsYMPPviA559/fsIbQba2tqIuVvPo7Uc5UXYCAONtI7NjZw+otz+RkQgS4vXxxOvj+etpf02JoYTjt49z/PZx3sp6i7ey3iJUF+pYEQheQqJ3Ivtv7Gdb/jY2xGzguSnPDXiOYNdgfjnzl/zTmX/iw7wP+VHCj8bhnfXEGfwPgCbZh7bMKozZtbSmVyLTqwfV0Y83Uq0Cub8LbRmViJ12NMkjC9IlKhmui4IxfFVC+5Wau+krQQhjLD/VG5okH9rPV9OR3zCkwNdSZ8TjloA6QT+omXxFsCv6zbHUvJVFw44CfH6aNOSaiXuYcuuxt1nQpo58WU+ikaP/UTwN2/Jp3FuEvdM26go4A2Fr6cSUW48h2E5gRAht6RV0FDbivjIC9VTvAQMEY7ZDs189dei/S92i4eX7nztwkkiDJy1Hymg9VYHLbD9c5wUi1Y28Tke0izTtLQK7Hc9nJw+5aFyilqFJ9kGT7EPuyZoRt8fJyElMTOTixYsUFhb2kPG8cOECUqmUadOmjcm51Wo1q1evZtu2bbz33ntYLBaam7/1bikoKMDDwwO9Xk9ERES3AN3FZWQTUR4eHmzdunWkb2FQCILAypUrqa2tZf/+/bz88ssDznR3dnayZ88eiouLSUtLo6ioiL179/LUU0+NmkrSWHLnzh327dtHQEBAn4XYfn5+bN26le3bt/PRRx+xceNGQkImXpzR2NjImTNnyM7Oxm63c0dzh/nz5yOWihTdKEKdpeYbxTcsXrx41GRkHyThbuG8lPASLyW8RK2xlhO3T3C8/Dg78nbw4bUP8VZ709TRxLzAefzdjL8b9HFXTVrFqYpT/D7r98wJmNNVQD2eOIP/AZAHaZF6qWg+WAw2Ef3LCWNSGDoaKCPdsdxpR+IqH1ZaxnfRpvrTllFJ0yfX76avPJjZCEWoDqm7EmN27aCDf1EUadp/E1EC7qsGr0svdVPitXEKdX/KpfHjIryejx1WeldbZhUyb3WXA/NIkShl6LfG0bCzkOYDNxE7bLguDBqVYw+G9gt3QBRpDhOJeywczVRvmvbfoHFPEcortXg8FdnnCocoihiza1GE68a1QL7DA/Sr4+i8007rqXJHqs2ZKlxSfHFdGITMa/hFh20ZlZiLDXg8HYVM/8MsXvy+ERQUhLu7O7m5ud2C/46ODnJyckhISBhxoN0f4eHhpKWlkZ+fj6+vL0lJSej1ekpLS1m2bNmARbwPC3K5nGeffZZ33323qwC4r0DRZDKxa9cuKioqePLJJ0lOTmbmzJns2bOHAwcOYDabR0V5aaxoaWlh165dqNVqNmzYgELRt1iCXq/nxRdfZPv27ezYsYP169ePY0v7586dO5w5c4a8vDwkEgnJycnMmTOH1UdWE2ANQKvVciTwCD93+znnzp2joKCAFStWDHpl52HAR+PDszHP8mzMs7R0tpBekc6x28cwWo38x4L/GJLCkSAI/HPqP5NTl8Pfn/579j6xF7VsfPuRiRnFTiAEQUAz1RtsIprpvqgmjU4wNxbck/zUJHqPSj2CIJfiujQE7Iw4fWVE7ZA4voOOG03Y2joHtY/xUg2dJQYaJotIXYemTqMMd8P98XA6ChppPX57yO3tLG+ls7wV7Wz/Ua0LEeRSvJ6fgjpRj+HrEgyHS7scCccS0Wqn7fwdVNEeWO7GPooALT6vJ+H2RASdpS3U/NdlWk9VINp6Onlaqtqx1pn61fYfSxT+Lnitj8Hvv0/HZbov7VdqqP7PS9Rvy6P9Us2AjtbfpbOqDcOhUlRxXmimDz7H2snERhAEEhISKC4upq2trev57OxsLBbLuASZ8+fP59VXX2Xt2rUsWrSI+Ph4tFrt9ybwv4e7uztr166loaGBTz/9tNf7WHt7O9u2baOyspK1a9eSnJwMOHw5nnvuOaKjo/nqq69IT08f7+YPis7OTnbv3o3ZbOa5554blJqPu7s7W7duxcPDg127dlFfXz8OLe2bsrIy/vznP/POO+9w/fp15syZw89+9jNWrlyJp6enw+m3MZ/rHddxdXHluTXP8eKLL6JQKNi9ezd79+4dEzfpB41OoePxiMf5v4v+L28vfRutYuhy3G5KN/7nvP9JaUsp/+fS/wEc/g/nzp3j2rVrY+6K7Zz5HwTa2QHY2y24LQt70E3pF+Ukd7RzAtDOH1h9YbC4pPhhrTHiMqP/avexRp3kQ+upCky59QOm0thaO2n+sgRFuI6WoKZhnc9lTgCdFW20HLuNPMgVdczgi6fbzlYhKKRoUkY/MBSkEjzXx9CkuEHr8XLEDhtuK/t2oR4NTHn12FstuMwJgDvfdkaCRMB1biDqOD3Nn9/C8HUJxuxaPNZEoQj+tqMz5tSCdOieE6ONzEuNx+oodGmhtJ2pxJhdR0dBIwiOAd89BR6Ze9+DXNFio3FPIRKNHI8141v87mTsSUhIID09nWvXrjF79mzsdjsXLlwgKCiIgIAHp8zxfSQiIoJHHnmEw4cPk5GRwfz587teMxgM7Nixg+bmZjZs2NCjnuHe6sGnn37KsWPHMJvNpKWlTZjr0W63s3//fqqrq1m/fj1+foPvP11dXdmyZQs7d+7k2rVrREVFjWt6kyiK3Lhxg/T0dMrLy9FoNCxZsoQZM2b0kGiN84ojsyoTrUTL7KDZCIJASEgIr776KpmZmZw6dYpbt26xdOlSUlJSfnAKTwMxy28Wm4I2cencJf7z4n/S1uCYdHBxcaGtrQ2drqeIxGjhDP4HgVSnwGP10IupxhtBJhlSisugjikVcH9idI85HBT+Lsh8NRiz6wYM/pu/uIVoseGxJgryLgzrfIIg4LEmEktNO417CvH5aTLyQaR32No6MV6tw2WG37DrBQZsm0TA4+koJEopbWeqsJvHVn2qLfMOMi+VQ2r0Ts/XZe5K9JtjMV2rp+nzW9T+IRttagC6ZaEIcimm7DpU0R4TxvFWqlPg9lg4uuVhWCrbuhR4DF8UY7inyR97dyDg212T3/B1KdZaE/oX4yfM+3EydNovVuObLdBQVdDteSmgV7qTdfIC0bc9qJ1kpbGxccjKNOOFaBdpPX4bZZQHytCxCxTGitTUVKqqqjh27Bh+fn5ERUXR2NjI9u3bMRqNbNq0qU9lH6lUyurVq1EoFGRkZGA2m3nsscceeIBpsVg4dOgQhYWFLFu2bFipLxqNhs2bN/PHP/6RAwcO0NnZ2ac3idVq5c6dO9y+fZvGxkbi4uIIDw8f8kDIZrORl5dHRkYGtbW1uLm58dhjj5GcnNxnulKsVyx20U6LraWbxKdMJmPBggXExcVx8OBBvvzyS3JycnjiiSeGpEg1WpjNZrKysigvLx/3c38Xu91OeXk5hYWFFBYWYmoyEUsslepKHlv0GCkJKeTm5o5p4A/O4N/JQ4QmyYeWQ6VYGzv6TEEyFTZiulqP7pHQbgZlw0GQS/HaFEvt77Jo2JGPz+tJA6oNtV+sAas4KoW+/bZNEBwz/ioZrcduI3baHIWnIzBC643OyjY6y1oGtbqgjtejjHTHcKiUtrNVmK7Vo5nui62lE7fHx1clajAIgvCtJv+jYVjqTXTcNedqOVJGy5Eyx6AnTo86zgu7yUpbZhXauQGooh9uz4UfOjaDGWWrgMXW3uO1SPw511FAzbVyzhZdR+viMmGVZdoyKmk5ehshoxKf15OQ+4zsnjfeCILAqlWrqKurY9++faxevZovvvgCm83GCy+8MKDsqUQiYeXKlSiVSjIzMzGbzTz55JOjrsg0WIqLizl48CCNjY2kpqYye/bsYR9LqVSSkJBAdXU1X375JWazmXnz5tHR0UFFRQW3b9+mrKyMysrKLvUnuVzO5cuXCQwMZN68eUyePHnAwZDFYiE7O5vMzEyamprQ6/U89dRTJCQkDPg5xnnFdT2e4d9zcOLl5cXmzZvJycnh0KFDvPPOO8yZM4eFCxeOSyqb0Wjk/PnzXLhwAZPJoapWUVFBUND41cuB4zMuKSmhsLCQoqIi2tvbkUqlhIeHM3fuXJR+Srae3IrZauYRz0fGpU3O4N/JQ4Nmqjcth0ox5tShW9xTAcZuttF84CYyH82oFcPKPFV4boih/oNrNH1yHc/nYvqcURFtIu3n7qCMdB+XTlgQBNweCUWilGL4qoSGThtem6aMqiJT29kqBLkEl0GmMElUMjyejEST7EPzfkdqkqCQoBqmQdt4IterkS8MwnVhkEPd6K5sbtuZStpOVwAg89XgtnxocqVOJh66paFckZWwaNH0Hq+lGqI4918F5Ec3cvtGLdOJQToBy+Pu1Z4ooxxCD/Uf5eHz+lSk2uE5cD8oFApFVwHw7t270Wq1bN26ddAuyoIg8Mgjj6BUKrskUd3c+ndEr6uro6bmW5WtqKgokpOTh5021N7ezuHDh8nJycHT05PNmzcTERExrGPdj1QqZf369ezfv5+jR4+SlZVFY2MjoigiCAL+/v5Mnz6dkJAQQkJCUCqVXYH8Pe+GefPm9RrId3R0cOnSJc6ePUt7ezuBgYE8+uijgxow3MNH44Neraezs5NwXe/3RUEQSEpKIioqqivFKy8vjyVLlhAbGzsmAzWDwdDlq2CxWJg8eTKzZs1i9+7dHD16lBdeeGFcUsRMJhNff/01hYWFdHZ2olAoiIqKYsqUKURGRnaTFP6blL/h1xd+zd6ivfgy9qsjgwr+BUFYDryJY1X0PVEUf/2d15XAdiAFaACeFUWxVBCEjcDf3rdpIjBNFMVsQRBOAv7APZHrR0VRrB3Jm3Hy/UbmqUIRqsOYXdtr8N9yuLTLaXU0Z8BVUR64LQ/H8HUJbacrcF3Yu/RkR0EDNoN51FOvBsJ1QRCCUkrzpzep+yAP/Quxo5JyZGu3YMyuwyXFZ8juusoQHT5vJDv8IdSyMTXaGgukOgXaWf5oZ/lj73Bo8ptvGdDOD5ywal/jzfe1X3BzcyM0NJTcm/lIJBKiGvQ07b+Bx7roCZNTLlpsNH5chEQjx3N9DNYGE3Xv5tKwowDvlxNGfQVwrPH09OSZZ54hMzOTFStW4Ok5NINKQRBYuHAhGo2GixcvDlgoazQau7axWCwUFBRQVFTEqlWrhqToJIpi16y22Wxm/vz5LFiwYFRntaVSKU8//TQeHh5UVVURHx9PSEgIQUFBvaokzZgxg2nTppGfn09GRgaffvopJ06cYM6cOSQnJ9PZ2dk1G242m4mIiGD+/PmEhYUN+fctCAIbp2zkdsntAfd1cXFh9erVJCUl8eWXX7Jv3z6OHz/O3LlzmTp16qh8ZvX19Zw5c4acnBxEUSQhIYG5c+d2pRqFhoZy8+ZNiouLmTRpbPvp9vZ2duzYQW1tLUlJSUyZMoXw8PA+zfGei3mO9Ip0/vPSf/Jz35+PadtgEMG/IAhS4PfAI0AFcFEQhM9FUcy/b7OXgCZRFCMFQVgP/C8cN/qdwM67x0kAPhVFMfu+/TaKonhplN6Lkx8AmiRvmj+7haW6vZvRWmd5K22ZVbjM8h+T3FftgkA6K1sxfFOKPEDryH//Dm2ZVUjdlaimDM9ZeUTtm+WPRCmlce916t7LRb915DnpxkvVYLUPO4VJkEpwnTd6xecPColKhibJ54GpFU1Evu/9QkJCAmVlZcTGxeLvHkXL0dvIvNXoFk8M7XXD16VYa4xdtSdSFzmez0TTuKuQpn038Hhm4gxUBktERMSIZ8tnzJjRZ278/Zw8eZJFixYBjhzs8+fPc/ToUf74xz/y5JNPDsowraGhgYMHD1JSUkJwcDBPPPHEoFcrhopEImHp0qWD3l4qlZKQkEB8fHxX8e7XX3/NyZMnsVgsWK1WYmNjmTdv3ogL2X+U8CNONpwc9Pbh4eG8/vrrFBUVkZ6ezsGDBzl58iSpqamkpKT0MNgbDFVVVWRkZJCfn49MJiMlJYU5c+bg4dG9nw4ICKCuro6jR48SHh4+ZvUhAxWs94YgCPxq7q94+vOn2V6/nadtTyOXjl1q1GCm82YCN0VRLL7bwD3Ak8D9N/kngX+5+/gT4HeCIAhid/2uDcCeEbfYyQ8adYKe5i9uYcyq7XKLFW12mvbdQOKqwG152JicVxAEPJ6OxlJjpHG3owD4/roDS0075mIDbo+FjanyTn9oknwQFFIadhVQ9+5VvF9KQKobXgqAaBdpO3sHZYTbhHOzdjIh+F73C/Hx8RQVFTF//nxcfXyw1JtoOVSGzEuNJvHB1q90XG/qtfZEk+iNtc7kqFXRq9GlTYyBykRHIpGQmppKeHg4+/btY+fOncyaNYulS5f2OhtttVo5c+YMp0+fRiaTDUM0GQAAHidJREFUsXLlSqZNm/bAC417QxAEoqOjiY6OpqysjPPnz6NSqZgzZ86A5mpjiUQiYcqUKcTExFBSUkJ6ejpHjhwhPT2dGTNmMHv27AFXYERRpLS0lIyMDG7duoVSqWTevHnMnj0brbZ36U2JRMLixYv59NNPKSgoIC4urtftRsL9BevPP/88oaGhg97XW+PNv8z5F/5Xxv+ioaMBP5exU1kcTPAfCNxfIl0BzOprG1EUrYIgGAAv4P61t2dxdAb386EgCDZgH/CvYm9iv06c3IdUq0AV5eHI+1/mCLRb0yuxVLfj9fyUMVPYAZAopeifj6Xmd1k0/Dkfn9emduXXt2VWgUyCZvoDlkSN9UK/JZ6G7XnUvp2D59polBH957/2RkdBI7ZmM26Pjzxv1cn3ku91v6BSqdi4cWPX355PR1PXZKZx73VkHqpuUrbjia2tk8a/FN2tPQnr8brrkmCs9d8OADTDcNT+oeLn58crr7zC0aNHOX/+PMXFxTz99NPdZDrLyso4ePAgdXV1xMXFsXz58kHp908EQkNDhxSIjgeCIHSt+FRWVpKRkUF6ejpnz54lLCys3wFVS0sL1dXVuLi4sHTpUqZPnz6oVYPExETOnDnD8ePHiYmJGdWag9raWrZv3z7ogvXeWBKyBNFfHNPAH0AY6L4qCMJaYLkoij+6+/fzwCxRFH963zbX7m5TcffvW3e3qb/79ywcOaEJ9+0TKIpipSAIrjhu8n8WRXF7L+d/BXgFwNfXN2XPnuFNErW1tfU5GpxIONs5MNoqAb+rEipm2bApIPiMBKM3VCf3NMUYi3ZqasH/ioTWAJHaBBGJFcJOSmjzc/w9HEa7ncpm8MuRIDcJGILsNEwWsQ9hBTHgogR5O5QtsHezAnxYfp/w8LR1uO1cvHjxZVEUe1asjgMPsl94UH2CpBOCz0oQbFCRasc6ToacXe0UwS9LgksdlM+x09lXzGmHwIsSlAaonGnHPE6+lA/L9QYDt7WxsZHCwkIsFgsRERH4+flRXFzMnTt3UCqVREdH4+U19iIGD8tnOprtbG9vp7y8vJvRXm9IJBJ8fX3x8/MbdAB/r5319fVcu3aN6OjoUfPvaGlp4erVq0gkEqZOnToiN/CRfJ6D7RcGM01aCdxf4Rh097netqkQBEEGuOEo8LrHemD3/TuIolh59/9WQRB24VhG7hH8i6L4LvAuwPTp08V7eXpD5f4cv4mMs50DYzfbuFNwjsn4Yb3TQae8laiXUojR9Sx+Gqt2tniWIRy9TUhKBKIcDLZiItdMIzZweBfsWLTTvsJGy9EyyKjEo1mO+xMRqBO9B8wFttQaqfnmMrploYR/J8f5Yfl9wsPT1oelnd/hgfULD7JPsExtp/YPOUQVKfH+8dQxXWm8x712tl24Q3PtTdweDyd4fv9qZrZZFmp/n03oNRs+P0lC5tFzRlS02h1SvqUGOqvacV0UjMJ/+AHLw/Q7Hkxb29vb+fzzzykqKqK0tBS73U5qaiqLFy/uU/f+QbRzIvCwtVMURZqbm7lz5w7r1q0bcbFxaWkpu3btQqvVsnnz5iEXrPfVzrFkMElqF4EoQRDCBUFQ4Lhhf/6dbT4HXrj7eC1w/N5SrSAIEuAZ7svrFARBJgiC/u5jObASuDaSN+Lkh4NEKUUV60X7xWrMN5txeywcaS+B/1jiuiQE1RRPmr8spvVkOYpQHYphBv5jhUQhxX1FBD4/TUbqrqRxdxH1H+Zhbezod7+2s1UgFR64q7OTCc0Psl+Q+7rgtWkKllpH7Y9oG5+MJEudEcMXxSgj3dHOHTiVQOoiR78lDtFqp/6jPOwdVodqVVEjhkOl1L6TQ+W/nKXujzkYvi7FdK2ehm152Not4/BuHg5cXFxYv349TzzxBJMmTeLll19m2bJl4xb4Oxk7BEEgLS2N1tZWLl68OKJj3bhxgz//+c/odDq2bt064sB/vBhw2uJuruZPgUM4JN0+EEUxTxCE/w+4JIri58D7wA5BEG4CjTg6gnssAMrvFYbdRQkcunuDlwJHgT+Nyjty8oNAk+SNKacORagOl5njH6QKEgHPZydT+7tsrPUmtCsnbm68IkCLz+tJtGVW0XK4lJr/uozukVC0cwMRpN1XAewdVoyXa9FM9X7o9MKdjB8/5H5BFeWB+6pImj+9Sf2H11CG6ZB5a5B5q5F7q0fVZwMAOzR+XIQgl+C5LnrQggJyHw1em6ZQ/0Ee1f9xCbvRAiIgAXmAFu1sf5RhOhRhOmxNZmrfzqFxdyH6rfE97gs/VARBICUlhZSUlAfdFCejTHh4OJMmTSI9PZ1p06YNWWXIbDZz8eJFjh8/jo+PD88///yIUn3Gm0GtWYqi+BXw1Xee+3/ve9wBrOtj35PA7O88145D+9mJk2GhivbAdVEwLjN8H5i6jkQlQ78lDmNOHeqEB6ecMBgEiYDrvEDU8XqaP7uJ4asSjFm1eKyJ6la8aLxSi9hpG3OHYicPPz/kfkE72x+7yUL7xRrMt5odQTWAAFIPFXJvtWNA4KNG7q1B5qMZtvSu500BS0UbnhunIHUb2gqnKtIDj3XRGLNqUYa4ogjToQjW9XAql2oVeDwVSdO+GxgOl+L+mNPIzsn3n7S0NN59910yMzNZsmTJoPZpb2/v8kno6OggKiqKNWvWoFaPUxHQKOF0+HXyUCJIJWMm6zkUHjZJPZm7Eq/NsXTkNdD02S1q/5CNdk4AukdDEeRS2s5WIQ92fWBqJk6cPCzoFoegWxyCaLFhqTNhrTNhrTM6Htca6bhlAOu3IgQSjczhPj4/EHXc4CYLzKUGPIoFNCm+aIY5weCS7INL8sD68y4z/OisaKXtVAWKQO0DlzR14mSsCQgIIC4ujrNnzzJz5sx+i2ybm5vJzMzkypUrWK1WYmJimDdvHkFB/dffTFScwb8TJz8wBEFAHa9HGemO4ZtS2jKrMF1rQDPNB2udCY9nJz/oJjpx8tAgyKUoArQoAroHDqJdxNZsdgwIah0DA3OJgYYdBWim++L+xKQeM/D3Y++w0rinCKsa3FeNT1qh+xOTsFQbafrLdeQ+GqfHh5PvPYsXLyY/P5/Tp0+zYsWKHq/X1dWRkZFBbm4u4DAAnDdvHt7eD/fg2Bn8O3HyA0WikuHxVCSaZB+a9t+g9UQ5Ehf5sGcYnThx8i2CREDmqULmqUJ1dzwtWu20HL1N66lyOksMeK6P6XOVrfmzW9hazNTMsBOuHJ+uWpBJ8NoYQ81bWdTvyMf3J0lINGPnMjrRsZtttF+sxlLZhma6L8oIt4fOOdmJg/ZLNXheFxAXit2+Q71eT3JyMpcuXSI1NbXLFbiiooKMjAwKCwuRyWTMmDGD1NRU3N3HSTt3jHEG/06c/MBRhurw/atk2s/dQeqpQpBNPKdKJ06+DwgyR7qiKtqDxr1F1P4xG11aKK6Lg7vVLhlzajFm1eKaFkKHvGRc2yjVKfHaOIW6P+XS+HERXi/EPbC6qgeFrd1C+9kq2jKrsButCAopxqxaFMGuuC4KQjXF6wf3mTzMtJwop+VQKZ5IaD9fjXa2f7fXFy5cyNWrVzlx4gRTp04lIyODkpISVCoVCxYsYNasWQ9VMe9gcAb/Tpw4QZBKBiUh6MTJ94H/8UUemfkm/lh09oG1QaUTedoiMO1IGTmny9jlLaVRLuBuFfnvlTZqlPD7W5U0Gh5MO1PdBdYWNfHh/z7DIY+BFYyam8e2nSEdIgta7Lja+t+uU4A6OdTKBcc/BbRJgPtme/tqq84qsshgZ3ariFKEPI3AMX8plQqY0SZh8Z1WOncUUC2H424SsrQC9jFcCWhuNvGngkwmm0TijCJWAU67SaiXT6yBx1h/98NGFFnRZCfNIHLFRUBhthD92U1+ebGEWkX3z9BHGYT16lWuXr2KRaKk0TWaZk0wWTdkvHPj6rg2W2c3M9a2Cc7g34kTJ06cOBlnOqQCO32kFLTZWVNv5+eVNvZ7SZjZJiKIsMtbOqaB5UCcdRUINgs82ixSqbBzzeUBrAiKIpNNIksMdiI7wCiBOwMoELvZILIDFOK3HgxGCdTKoebugKCkU0q7RaRRBnZBQG8RWdJsJ6VNRACyXAROuEuovi9APKsTOO8qMLXdse1z9XaWN8NJNwkXtAKWUVwJUNtEpphEYtpUxDfbUIpgEhwBW2qrjVyNwDF3CZXKiTUImEgIosjqBjtzW0UyXQX2e0mwN5n5VauM5+psvBUgxXbf9VWvDUdm68Co9MSgDkAURlmyd4IhiOL4mJSMBtOnTxcvXbo05P0cszy3H4pcrebmZmc7RxFnO0eXh6Wd8PC0VWdv4U+vLRvyfoIgDMrG/fvMcPsEmFiupNbGDhr3FtFZ2gKAx9ooXKY7/EseZDtFi53ad3Kw1pnw+UkSch9Nn9uOZjtFu4jpWj2tJ8uxVLUj1SnQzg/CZaZfv0XS9+9vM5ix1pmw1Bq7FV3b2+4zMpMKyDxUWBtMIJXgMt0X1wVByDz713wXRZGOwkZaT1bQWdaCxEWOdm4A2tQAJOrhzanaDGZM+Q2Y8howFxvALmJVirglB6CO9UIZ4YbdZKXtTCVtZ+8gmm0oo9xxXRT8wGsRJtK1BCDaRJo+uY4xqxbtgiDcHgtDEAROnjzJLH08DX8uwHVREG7LJ6ak7Ug+z8H2C86ZfydOnDhx4uQBIvNU4f1KIm0ZldhNVjQpvg+6SQAIcglem2KpfSuLhh35+Pzk/2/vToPjKO88jn//o5FGMx6NTttYhy98YRswVzBHwMYcToojyZIAYWGrlsCmdlMh+2YrW7ubreTdVm1VQmpTEBZYdqkKRyAJLMUGSIwwEAyxjY0PfB9Ixocu675GevZFt2xZlq2xPNL0SL9P1ZRmerpbP7VG+j8z3c/zLCOUP3bNBpfsp2PjMVrX1pKs7yRcFqX4L+YTu2zaOfVFspDXqA8X55O/oPiU5/o7evn4zQ+4uGrRiSFao0vLiF9XTk5BahMbmhnRi0qJXlRK9/5mWqtraHnrIK3v1jJl+QwKrqsgJzHyvnqPddC5rYHObfX01rYB3vDRBV+uIH9JKR/u3ciKlfNOrJ9TkEfh6jkUrKiibd1h2t4/RP1/bvH7IlSRf1HJpO+L4JL9NDy/g65tDSRu9fvTDHpjFF1aRuzK6bS+W0v+ghIicwszmDZzJkXj/1/vWEJ1QR0rVlyT6Sgj8t7xKWe6KGd6ZUtOyJ6s1dXVmY4gAWAho+CG4I0ZHi6KUHr/Iuqe2kLjS7so/cuL0tLAdL39JBsGPpnvpLeug+59zfS39JBbEafk/kVEl5SlvTEbiuXSVcyJMyvnKzKnkMicQnq+aKO1uoa2tbW0fXDIG/r1LJ/G97f1kGzoAiC3Mk7ittlEl5SeenZl3/DbhvLDJFZUUXBdOe0bjtL6bi0Nz20npyR/xDcw4bIo0SWl5M8vSv9s1GmQbOyi7f1DEDISN888pzeb/T19NDy3ne7dxym8Yy4FZ+jHVnTHhfTsb6bxpZ1Mf/TyUZ+tGUnvsQ5a13xObnmcKVdfQGicRu1KRXCSiIiISOBE5hZR+NW5NL++j9Z3as5pYsO+9l6SdScb+Mlj3te+xq6TMyMDOUUR8irixO8uJzK/KOuG1Mwrj1P67YtI1nfS+v4hkvWdZ10/PC1G/PoK8heXEj7HmZsHWG4O8eXlTLlqBp2f1tGx6Riu7yyXcjtH57Z6OjYcxXJD5C8oJn9pGdGFxRkf0rX3SDut1TV0fFrnvWnqd3Rub6DknoVEZiVG3L6/M0n9s9vo+bzllMvmhhOK5FB8z0LqnthM06t7KL13UTp/FJxztK87TPMb3khdHZvqaHmnhvg1M4hfVzHq2b7TSY1/EREROav4deX0Hmqj5Q8Hya2ME11Ycto6/V1Jeg620H2ghZ6DLfQe7aC/fdA19mEjtyxGXkWc8LJp5E6NEp4WI1wWJZQXvE+hRyNcFqX4a/NGXjGNLMeIXTaNWAozObtkP937m73Ljfw+Bk0hIzK3kOiSUqKLS8kZ5ZuR0eg+2ELrOzV07WjE8rxR5wquryB5vJvGF3dS98RmClZWkVg1E8sZ/tKvvrYe6p/ZSu/RDkq+vYjYxSNPwBWZmSCxahYtbx+kY1EJsWUjH7tU9LX20PTKbrp2NBJZUEzJNxfQd7ybluoaWtfU0PbeIaZcdQHxGyoJF43fcR5KjX8RERE5KzOj6Ovz6D3STuPzO5n+vWVYXoju/S10H2imamuIL9780Ps0PwS55XGii0sJT4sSnhojd2qUnOL8SX9NeqZZOET+/GLy5xdTdOeF9NS20uW/CTj+6l6Ov7qX3KoCootLT78MKU2cc3TvaqKluoae/S2EYmESN88kfm35iTMQOYURpn//Mo6/tpfWNTV07z5OyT0LCZdFT9lXX3M3dU9tIdnUTemDi4d9U3omBSuq6NrVRNNv95A3K0G4+OwdvUfSuaORppd30d+VpPCOucSvKcdCRk5BHmUPLPYuA6qu8fprrDtM7LJpFNxYOSbHeCRq/IuIiMiIQnk5lD6wmGP/8QlHfrYRkv2A1zG4LwGJVTPJm50gryqR0qg8klkWMiIzE0RmJihcPedkB+TtDbS8eYCWNw8QnholvnwGsasuOO+zMyf2v7mO3iPt5BTmUXj7XG8Up2H2HcoPU/KtheQvKqHpN3s4+vONFN1xIbErp2NmJBs6qXt6K/3tvUz966Xn3HnXcoySexZy9LGNNL64k6mPXDKqN6f9PX00v7Gf9nWHyb1gClO/czG5F5w+KVjutBgl31pI4pZZtL13iPY/H6Fj41Gii0spWFlFXuXws32PBTX+RUREJCXhknxKH1hM27rD5FUWEJmdILd8Cu++t5YFK2ZlOp6ch9xpMXKnxUisrCLZ3E3X9gY6PjnG8f/dR8uamnMeztT1u1POLCTrvH4QuZVxiu+eT2xZaqM4xS6ZSt7MBE0v7TxxSU38+goafrUD+vqZ+vDFo244h0vyKbrzQpp+vYvWtbUkVlSd0/Y9h9pofGEHybpO4tdXULh69og/U7jY+54FN1XR9qcvaPvTYTq3NRCZV0TBispT+sKMFTX+RUREJGUDI9zIxBUujBC/xmvsDzuc6fUVw44sNLRPQX9LD/h9CuLXlo+6g3O4KELZdy6m7b1DNL91gM5tDYQK8pj6N5eQO/30T9nPRezyaXTtaKTlrYN0bqlPfUPn6D3aQWhKLmUPLSV/fvHI2wySE8+j8NbZFNxQSftHR2h9v5b6p7ZSWRgieXn3qDuCp0KNfxEREREZ1pmGM51yhTcpmiWhY0sdXdsa6NzRiOvqG5PRhCxkFNxYSWReEW0ffkFiZRXh0ujIG460XzOKvz4Pi+ScOglcCvJmJkjcMuu8RvAJ5YcpuLGS+LXltG88yhdrd5MTT23OidFS419EREREzuqU4UzX1tK+/ijtHx9hjoVo7N9BKBYmuqRszOcRyKuIU3L3grTuMxTLTfs+z5XlhohfPYMvOneyIGdsO8ar8S8iIiIiKQmXRSn+xnwSN8+k7cPD1Ow7yLxbLyEyuxAb40arpEfq82WLiIiIiAA5iQiFt82m/iJH/oVFavhnETX+RUREREQmCTX+RUREREQmCTX+RUREREQmCTX+RUREREQmCTX+RUREREQmCTX+RUREREQmiZQa/2a22sx2mtkeM/vhMM9HzOxF//mPzGy2v3y2mXWa2Sb/9sSgba4wsy3+Nj83M40RJSKSJVQXRESy04iNfzPLAX4BfAVYDNxnZouHrPYQ0OScmwf8FPi3Qc/tdc4t82/fHbT8ceBhYL5/Wz36H0NERMaL6oKISPZK5ZP/LwF7nHP7nHM9wAvAXUPWuQv4b//+y8Cqs31iY2YzgIRzbp1zzgH/A3ztnNOLiEgmqC6IiGSpcArrVAA1gx7XAlefaR3nXNLMmoFS/7k5ZvYJ0AL8s3PuPX/92iH7rBjum5vZI8AjANOnT6e6ujqFyKdra2sb9bbjSTnTSznTK1tyQvZkzZacQ2SsLqgmBFO25ITsyaqc6aWcJ6XS+D8fh4GZzrkGM7sC+J2ZLTmXHTjnngSeBDCzupUrVx4cZZYyoH6U244n5Uwv5UyvbMkJ2ZN1tDlnpTvIODmvuqCaEFjZkhOyJ6typtdkyJlSXUil8X8IqBr0uNJfNtw6tWYWBgqBBv/UbTeAc26Dme0FFvjrV46wz9M456amkHdYZrbeOXflaLcfL8qZXsqZXtmSE7Ina7bkHCIQdUE1ITiyJSdkT1blTC/lPCmVa/7/DMw3szlmlgfcC7w2ZJ3XgL/y798NrHHOOTOb6ncMw8zm4nXg2uecOwy0mNly/xrQB4FX0/DziIjI2FNdEBHJUiN+8u9fq/k94E0gB3jGObfNzH4CrHfOvQY8DTxnZnuARrxCAHAD8BMz6wX6ge865xr95/4WeBaIAv/n30REJOBUF0REsldK1/w7594A3hiy7EeD7ncB3xxmu1eAV86wz/XA0nMJe56eHMfvdT6UM72UM72yJSdkT9ZsyXmKCVAXsuW4K2f6ZUtW5Uwv5fSZd/mliIiIiIhMdCnN8CsiIiIiItlvwjX+zSzfzD42s81mts3Mfuwvn+NPMb/Hn3I+L9NZwZsp08w+MbPX/ceBy2lmB8xsi5ltMrP1/rISM3vbzHb7X4sznRPAzIrM7GUz22Fmn5nZNUHLamYL/WM5cGsxsx8ELaef9e/9v6OtZva8//cVxNfoo37GbWb2A39Zxo+nmT1jZsfMbOugZcPmMs/P/eP6qZldPt55JyrVhTHJmBV1QTUh7VlVE84/W8brwoRr/OMNIXeTc+5SYBmw2syW400t/1N/qvkmvKnng+BR4LNBj4Oac6Vzbtmg4ad+CPzROTcf+KP/OAgeA37vnFsEXIp3bAOV1Tm30z+Wy4ArgA7gtwQsp5lVAN8HrnTOLcXr2HkvAXuNmtlS4GG8WWcvBW43s3kE43g+C6wesuxMub6CN/LNfLxJrB4fp4yTgerC2MiGuqCakCaqCWnzLJmuC865CXsDYsBGvJkn64Gwv/wa4M0A5Kv0f8k3Aa8DFtCcB4CyIct2AjP8+zOAnQHIWQjsx+/LEuSsg7LdCnwQxJycnKG1BG9wgNeB24L2GsXrVPr0oMf/AvxDUI4nMBvYOujxsLmAXwL3Dbeebmn9fagupCdn4OuCakLas6kmpC9jRuvCRPzkf+CU6SbgGPA2sBc47pxL+qsMO218BvwM7wXZ7z8uJZg5HfCWmW0ws0f8ZdOdNy43wBFgemainWIOUAf8l3/K/Ckzm0Iwsw64F3jevx+onM65Q8C/A5/jzcraDGwgeK/RrcCXzazUzGLAV/EmlwrU8RzkTLkGCuuAIBzbCUN1Ie2yoS6oJqSRasKYGte6MCEb/865PuedPqvEO+2zKMORTmNmtwPHnHMbMp0lBdc75y7HO/30d2Z2w+Annfd2NAjDRoWBy4HHnXOXAe0MOa0XoKz410XeCfx66HNByOlfc3gXXgEtB6Zw+qnKjHPOfYZ32vkt4PfAJqBvyDoZP57DCWquiUh1Ie2yoS6oJqSRasL4GI9sE7LxP8A5dxx4B+80VJF5U8xDCtPGj4PrgDvN7ADwAt4p3scIXs6Bd/s4547hXYf4JeComc0A8L8ey1zCE2qBWufcR/7jl/H+8QcxK3hFc6Nz7qj/OGg5bwb2O+fqnHO9wG/wXrdBfI0+7Zy7wjl3A941p7sI3vEccKZch/A+nRoQiGM70agupEeW1AXVhPRSTRg741oXJlzj37yp44v8+1HgFrwOPu/gTTEP3pTzGZ023jn3j865SufcbLzTfGucc/cTsJxmNsXMCgbu412PuBV4DS8fBCAngHPuCFBjZgv9RauA7QQwq+8+Tp7eheDl/BxYbmYxMzNOHs9AvUYBzGya/3Um8A3gVwTveA44U67XgAf90R2WA82DTgPLeVBdSK9sqQuqCWmnmjB2xrcujFVnhkzdgEuAT4BP8f4Z/chfPhf4GNiDd0otkumsgzKvAF4PYk4/z2b/tg34J395KV6ntN3AH4CSTB9HP9cyYL3/+/8dUBzErHinSxuAwkHLgpjzx8AO/2/pOSAStNeon/M9vCK0GVgVlOOJV8gPA714n0I+dKZceB07f4F3LfoWvBE1MnpcJ8pNdSHt2bKmLqgmpD2nasL5Z8t4XdAMvyIiIiIik8SEu+xHRERERESGp8a/iIiIiMgkoca/iIiIiMgkoca/iIiIiMgkoca/iIiIiMgkoca/iIiIiMgkoca/iIiIiMgkoca/iIiIiMgk8f81imHZZSueCgAAAABJRU5ErkJggg==\n",
          "text/plain": "<Figure size 921.6x345.6 with 2 Axes>"
         },
         "metadata": {},
         "output_type": "display_data"
        }
       ]
      }
     },
     "50088e563b5f4f969c66f5424fb9932e": {
      "model_module": "@jupyter-widgets/controls",
      "model_module_version": "1.4.0",
      "model_name": "DescriptionStyleModel",
      "state": {
       "description_width": ""
      }
     },
     "501024f2763941b49d1d342966df0b2f": {
      "model_module": "@jupyter-widgets/base",
      "model_module_version": "1.1.0",
      "model_name": "LayoutModel",
      "state": {}
     },
     "50975aee2cc94fcbb9a6e4f32277ab63": {
      "model_module": "@jupyter-widgets/controls",
      "model_module_version": "1.4.0",
      "model_name": "DropdownModel",
      "state": {
       "_options_labels": [
        "rbf",
        "nystroem"
       ],
       "description": "Sampler",
       "index": 0,
       "layout": "IPY_MODEL_26f61570d1f84b03b6e73f7e7382e6b2",
       "style": "IPY_MODEL_f7e119087d644abf9e8301b76557dc21"
      }
     },
     "50bd151ff43845e69016aba442ea9149": {
      "model_module": "@jupyter-widgets/controls",
      "model_module_version": "1.4.0",
      "model_name": "ButtonStyleModel",
      "state": {}
     },
     "50bdf9cbda554e6291c13c91c5b71457": {
      "model_module": "@jupyter-widgets/base",
      "model_module_version": "1.1.0",
      "model_name": "LayoutModel",
      "state": {}
     },
     "50ceb1dc3f3e451b90c44ef5316da19b": {
      "model_module": "@jupyter-widgets/controls",
      "model_module_version": "1.4.0",
      "model_name": "HBoxModel",
      "state": {
       "children": [
        "IPY_MODEL_298e5e50cb2242118f77b5d1664abff1",
        "IPY_MODEL_0d247ee4415e4aa6977ec933aa1ee808",
        "IPY_MODEL_19484baedc9740568031cca67dee5101",
        "IPY_MODEL_ea4c0071e19d497088305c002e4b79a9",
        "IPY_MODEL_4dd04aab17a040938f67798137b616b5"
       ],
       "layout": "IPY_MODEL_e2bb7bc2acfe4b4bb87937155d1e0393"
      }
     },
     "50d9f59828c24e248f6cb5c38e2d7f84": {
      "model_module": "@jupyter-widgets/base",
      "model_module_version": "1.1.0",
      "model_name": "LayoutModel",
      "state": {
       "visibility": "hidden",
       "width": "300px"
      }
     },
     "50f980f7a3a648fb86b6e7b3b488c67b": {
      "model_module": "@jupyter-widgets/controls",
      "model_module_version": "1.4.0",
      "model_name": "LabelModel",
      "state": {
       "layout": "IPY_MODEL_862dff53304b4eb1a611cf4537db021f",
       "style": "IPY_MODEL_b2c74d2e08294c59a2b3a2df73d23bf7",
       "value": "Model"
      }
     },
     "510b3f04f3784ea1904c3c356b636e51": {
      "model_module": "@jupyter-widgets/controls",
      "model_module_version": "1.4.0",
      "model_name": "DropdownModel",
      "state": {
       "_options_labels": [
        "None",
        "black",
        "grey"
       ],
       "description": "Bagging",
       "index": 0,
       "layout": "IPY_MODEL_64c2a2f247cb4ceebac1669f37c52fd8",
       "style": "IPY_MODEL_07407d6813214dfb992d457805eeaaa8"
      }
     },
     "512132f0bbe94e489e55f5c7780eb847": {
      "model_module": "@jupyter-widgets/base",
      "model_module_version": "1.1.0",
      "model_name": "LayoutModel",
      "state": {}
     },
     "51228155bd77485695f5d821f395f45b": {
      "model_module": "@jupyter-widgets/base",
      "model_module_version": "1.1.0",
      "model_name": "LayoutModel",
      "state": {}
     },
     "5144a9811f6a4531bdbe0a731b9f3e25": {
      "model_module": "@jupyter-widgets/controls",
      "model_module_version": "1.4.0",
      "model_name": "DescriptionStyleModel",
      "state": {
       "description_width": ""
      }
     },
     "51a68a5cdfba4014a83e8897c31cf2d3": {
      "model_module": "@jupyter-widgets/controls",
      "model_module_version": "1.4.0",
      "model_name": "DropdownModel",
      "state": {
       "_options_labels": [
        "dt",
        "logit",
        "linear_svc"
       ],
       "index": 0,
       "layout": "IPY_MODEL_36bf42b8d4e64a4d890a71320315d472",
       "style": "IPY_MODEL_94c0def97ceb4638bccc3ada405c8773"
      }
     },
     "51c3026f1f9a4621b4fb7081af5b3d7d": {
      "model_module": "@jupyter-widgets/controls",
      "model_module_version": "1.4.0",
      "model_name": "DescriptionStyleModel",
      "state": {
       "description_width": ""
      }
     },
     "51e7540869fa4e6b91d0ec873bc17260": {
      "model_module": "@jupyter-widgets/base",
      "model_module_version": "1.1.0",
      "model_name": "LayoutModel",
      "state": {
       "visibility": "hidden"
      }
     },
     "521559c19bc6441c8fcb22f1722cf1cc": {
      "model_module": "@jupyter-widgets/controls",
      "model_module_version": "1.4.0",
      "model_name": "DescriptionStyleModel",
      "state": {
       "description_width": ""
      }
     },
     "521c886fc01c4473a9c7880b599fad0d": {
      "model_module": "@jupyter-widgets/controls",
      "model_module_version": "1.4.0",
      "model_name": "DescriptionStyleModel",
      "state": {
       "description_width": ""
      }
     },
     "527947f007c8488b850776b667af05cb": {
      "model_module": "@jupyter-widgets/base",
      "model_module_version": "1.1.0",
      "model_name": "LayoutModel",
      "state": {}
     },
     "52e96ab7bf2a4bf8bf250898a47ac80f": {
      "model_module": "@jupyter-widgets/controls",
      "model_module_version": "1.4.0",
      "model_name": "ButtonStyleModel",
      "state": {}
     },
     "534d454c604a4987ba68f3d6a6c25c9d": {
      "model_module": "@jupyter-widgets/controls",
      "model_module_version": "1.4.0",
      "model_name": "SliderStyleModel",
      "state": {
       "description_width": ""
      }
     },
     "5386a9dabd6547e69c0f225f4d4c0f42": {
      "model_module": "@jupyter-widgets/controls",
      "model_module_version": "1.4.0",
      "model_name": "DropdownModel",
      "state": {
       "_options_labels": [
        "dt",
        "logit",
        "linear_svc"
       ],
       "index": 0,
       "layout": "IPY_MODEL_e40636e087124774a851b4fedd09b605",
       "style": "IPY_MODEL_7fe42c741b6c437f93c44854465daf0b"
      }
     },
     "53de7edc576e4e8589531825bc33a917": {
      "model_module": "@jupyter-widgets/base",
      "model_module_version": "1.1.0",
      "model_name": "LayoutModel",
      "state": {}
     },
     "545f5f5e0c6d487292b0790c35fbe3ac": {
      "model_module": "@jupyter-widgets/controls",
      "model_module_version": "1.4.0",
      "model_name": "DropdownModel",
      "state": {
       "_options_labels": [
        "None",
        "black",
        "grey"
       ],
       "index": 0,
       "layout": "IPY_MODEL_c176f2d131034ef29b59e43d8d2dad35",
       "style": "IPY_MODEL_55ee11c9ed754a379df0a9cfa5990840"
      }
     },
     "5480ad03793f4c7f9ea28a7f726523e4": {
      "model_module": "@jupyter-widgets/controls",
      "model_module_version": "1.4.0",
      "model_name": "LabelModel",
      "state": {
       "layout": "IPY_MODEL_f7859389784f4f05ab519e825d058159",
       "style": "IPY_MODEL_d4165e7fe4a544d792a54515af1a120e",
       "value": "Box Type"
      }
     },
     "54ad0fa07ac645319849712bd70cce31": {
      "model_module": "@jupyter-widgets/controls",
      "model_module_version": "1.4.0",
      "model_name": "DescriptionStyleModel",
      "state": {
       "description_width": ""
      }
     },
     "55367b6382374a1893e8eafa8bce8de1": {
      "model_module": "@jupyter-widgets/base",
      "model_module_version": "1.1.0",
      "model_name": "LayoutModel",
      "state": {
       "visibility": "hidden",
       "width": "300px"
      }
     },
     "555f2ee7c0554b19945f41f2372afab6": {
      "model_module": "@jupyter-widgets/controls",
      "model_module_version": "1.4.0",
      "model_name": "ButtonModel",
      "state": {
       "button_style": "info",
       "description": "Demo0",
       "layout": "IPY_MODEL_296c891f9d8c4406840fe0c7261829be",
       "style": "IPY_MODEL_d704786c2b1549d09655f91939dc615b"
      }
     },
     "556455be03e94f14a575baa876bbc988": {
      "model_module": "@jupyter-widgets/controls",
      "model_module_version": "1.4.0",
      "model_name": "DescriptionStyleModel",
      "state": {
       "description_width": ""
      }
     },
     "55d0a2f542e74c7e9b9e7835452edce5": {
      "model_module": "@jupyter-widgets/base",
      "model_module_version": "1.1.0",
      "model_name": "LayoutModel",
      "state": {}
     },
     "55dcfbd1bd554792be786598ffa2e213": {
      "model_module": "@jupyter-widgets/controls",
      "model_module_version": "1.4.0",
      "model_name": "ButtonStyleModel",
      "state": {}
     },
     "55ee11c9ed754a379df0a9cfa5990840": {
      "model_module": "@jupyter-widgets/controls",
      "model_module_version": "1.4.0",
      "model_name": "DescriptionStyleModel",
      "state": {
       "description_width": ""
      }
     },
     "55f226f928f94a738c267e36477fff03": {
      "model_module": "@jupyter-widgets/controls",
      "model_module_version": "1.4.0",
      "model_name": "DescriptionStyleModel",
      "state": {
       "description_width": ""
      }
     },
     "560e2aa6cac94c189be22ddc703caee8": {
      "model_module": "@jupyter-widgets/base",
      "model_module_version": "1.1.0",
      "model_name": "LayoutModel",
      "state": {}
     },
     "561c0e15f65f4c1699367710e319f9eb": {
      "model_module": "@jupyter-widgets/controls",
      "model_module_version": "1.4.0",
      "model_name": "DropdownModel",
      "state": {
       "_options_labels": [
        "None",
        "black",
        "grey"
       ],
       "index": 0,
       "layout": "IPY_MODEL_f889a5da21724244ac6bedbda306c459",
       "style": "IPY_MODEL_5a7df33570dc4681b253aa5599aca90e"
      }
     },
     "5631d80376294389bd9e6abdbb0d7932": {
      "model_module": "@jupyter-widgets/controls",
      "model_module_version": "1.4.0",
      "model_name": "ButtonStyleModel",
      "state": {}
     },
     "566c20c888254de69ea2a85297b54325": {
      "model_module": "@jupyter-widgets/controls",
      "model_module_version": "1.4.0",
      "model_name": "DropdownModel",
      "state": {
       "_options_labels": [
        "rbf",
        "nystroem"
       ],
       "description": "Sampler",
       "index": 0,
       "layout": "IPY_MODEL_d1fad66f39fb4935b2f98609f31090a7",
       "style": "IPY_MODEL_6fcc017f8d6e4975b5856c21fdf52bee"
      }
     },
     "568f03520ec14b1abccc3f4b2fda8863": {
      "model_module": "@jupyter-widgets/controls",
      "model_module_version": "1.4.0",
      "model_name": "VBoxModel",
      "state": {
       "children": [
        "IPY_MODEL_a1d215b8263841d2a0a9d61fd90d88c8",
        "IPY_MODEL_29eb3e586e0d492db615e7c8e6a33750"
       ],
       "layout": "IPY_MODEL_29586e5646a64cd1813bf6698ca63295"
      }
     },
     "5698351a8fb7404584d09bd682c6687d": {
      "model_module": "@jupyter-widgets/base",
      "model_module_version": "1.1.0",
      "model_name": "LayoutModel",
      "state": {}
     },
     "56a8b7434b40478ea7c5e5a0d26eca20": {
      "model_module": "@jupyter-widgets/controls",
      "model_module_version": "1.4.0",
      "model_name": "DescriptionStyleModel",
      "state": {
       "description_width": ""
      }
     },
     "56ab112a2ef64c25a446c3da3cda300f": {
      "model_module": "@jupyter-widgets/base",
      "model_module_version": "1.1.0",
      "model_name": "LayoutModel",
      "state": {}
     },
     "573edc46a71d433f98b1fdb5d2fa0ae2": {
      "model_module": "@jupyter-widgets/controls",
      "model_module_version": "1.4.0",
      "model_name": "VBoxModel",
      "state": {
       "children": [
        "IPY_MODEL_a0c633d2d7a14417988eea8918ed11e8",
        "IPY_MODEL_f9227ff14e0d4546a4e0bc42040a357f",
        "IPY_MODEL_6f847046d8e74729bb9cd81a5dcd7631",
        "IPY_MODEL_eccdb46edb00421eb82f4d6634575ea2",
        "IPY_MODEL_a8bc6b20802e497b99910e1529eb906f",
        "IPY_MODEL_604e6f4f076040d2af547dcc22d57b8d",
        "IPY_MODEL_c6a9cd97a361441a8664f70255bfdf79"
       ],
       "layout": "IPY_MODEL_e7fbd6123927420284c06575754d0dd3"
      }
     },
     "575bbb37e5c8428e96bf79eb3fd3bf08": {
      "model_module": "@jupyter-widgets/controls",
      "model_module_version": "1.4.0",
      "model_name": "LabelModel",
      "state": {
       "layout": "IPY_MODEL_4d345c2e6698481f80a9377191a23156",
       "style": "IPY_MODEL_e8028425f5fc415eb13a5c269462f91b",
       "value": "PCA?"
      }
     },
     "5760f055ef20462394497667ed7053a8": {
      "model_module": "@jupyter-widgets/controls",
      "model_module_version": "1.4.0",
      "model_name": "IntRangeSliderModel",
      "state": {
       "_model_name": "IntRangeSliderModel",
       "_view_name": "IntRangeSliderView",
       "disabled": true,
       "layout": "IPY_MODEL_37027dd9f79040b2aad56f100b47dcb0",
       "max": 400,
       "min": 30,
       "step": 10,
       "style": "IPY_MODEL_7610d11513e54d3691b9d841e6cbd819",
       "value": [
        30,
        100
       ]
      }
     },
     "5798cb98c7d44e0aab8337cdb792b051": {
      "model_module": "@jupyter-widgets/base",
      "model_module_version": "1.1.0",
      "model_name": "LayoutModel",
      "state": {}
     },
     "57ab4d38b99441f186fd0d2a26d47553": {
      "model_module": "@jupyter-widgets/base",
      "model_module_version": "1.1.0",
      "model_name": "LayoutModel",
      "state": {}
     },
     "57bd132add0249d6bb49458eb8f15b0e": {
      "model_module": "@jupyter-widgets/base",
      "model_module_version": "1.1.0",
      "model_name": "LayoutModel",
      "state": {}
     },
     "57c8cce3b25f43fba466c9b541c78e57": {
      "model_module": "@jupyter-widgets/base",
      "model_module_version": "1.1.0",
      "model_name": "LayoutModel",
      "state": {
       "visibility": "hidden"
      }
     },
     "580750778aa64bea808b60e181e57954": {
      "model_module": "@jupyter-widgets/controls",
      "model_module_version": "1.4.0",
      "model_name": "DropdownModel",
      "state": {
       "_options_labels": [
        "None",
        "black",
        "grey"
       ],
       "index": 0,
       "layout": "IPY_MODEL_fcc361cb214049e2a87feee3fcfc7e81",
       "style": "IPY_MODEL_5e6312e14a3f4a32b0351c86fde4646c"
      }
     },
     "58234ebddd304a40aa63e392c7765f52": {
      "model_module": "@jupyter-widgets/base",
      "model_module_version": "1.1.0",
      "model_name": "LayoutModel",
      "state": {}
     },
     "585c0fbd7dd046dabd1d54b4d259733e": {
      "model_module": "@jupyter-widgets/controls",
      "model_module_version": "1.4.0",
      "model_name": "DescriptionStyleModel",
      "state": {
       "description_width": ""
      }
     },
     "58c72346f6874219acd9ea1db38ff33f": {
      "model_module": "@jupyter-widgets/controls",
      "model_module_version": "1.4.0",
      "model_name": "RadioButtonsModel",
      "state": {
       "_options_labels": [
        "1000",
        "2000",
        "5000",
        "10000"
       ],
       "description": "Size",
       "index": 0,
       "layout": "IPY_MODEL_47bc2db67d9341999313a196eebc867c",
       "style": "IPY_MODEL_521c886fc01c4473a9c7880b599fad0d"
      }
     },
     "58cea6183d444040bcfdebded82bc6af": {
      "model_module": "@jupyter-widgets/base",
      "model_module_version": "1.1.0",
      "model_name": "LayoutModel",
      "state": {}
     },
     "58e7c98619ce4fe78a25d734be69500c": {
      "model_module": "@jupyter-widgets/base",
      "model_module_version": "1.1.0",
      "model_name": "LayoutModel",
      "state": {}
     },
     "58ec7b353b764cf8902ffd0616d50b1b": {
      "model_module": "@jupyter-widgets/base",
      "model_module_version": "1.1.0",
      "model_name": "LayoutModel",
      "state": {
       "width": "90px"
      }
     },
     "5925a6306935479991f2272fc57d9e2e": {
      "model_module": "@jupyter-widgets/base",
      "model_module_version": "1.1.0",
      "model_name": "LayoutModel",
      "state": {}
     },
     "594ae3582d37495ebb939df56ccc4fb3": {
      "model_module": "@jupyter-widgets/controls",
      "model_module_version": "1.4.0",
      "model_name": "DescriptionStyleModel",
      "state": {
       "description_width": ""
      }
     },
     "59cc7a1d08f2476487a6f40c4392a585": {
      "model_module": "@jupyter-widgets/controls",
      "model_module_version": "1.4.0",
      "model_name": "ButtonStyleModel",
      "state": {}
     },
     "59d9ec25649f44d2bf850ae72342ec5c": {
      "model_module": "@jupyter-widgets/base",
      "model_module_version": "1.1.0",
      "model_name": "LayoutModel",
      "state": {}
     },
     "59e4df225db0494187dcf8770346a670": {
      "model_module": "@jupyter-widgets/controls",
      "model_module_version": "1.4.0",
      "model_name": "IntRangeSliderModel",
      "state": {
       "_model_name": "IntRangeSliderModel",
       "_view_name": "IntRangeSliderView",
       "disabled": true,
       "layout": "IPY_MODEL_2f4306148b824c96a58d1ab7bf9765bd",
       "max": 400,
       "min": 30,
       "step": 10,
       "style": "IPY_MODEL_4f232a1d065744cea760b16cb3834e02",
       "value": [
        30,
        100
       ]
      }
     },
     "59e64965f7a44b899e20fca096641dcc": {
      "model_module": "@jupyter-widgets/controls",
      "model_module_version": "1.4.0",
      "model_name": "DescriptionStyleModel",
      "state": {
       "description_width": ""
      }
     },
     "59e74f508bff4b70bd87708b84cd7176": {
      "model_module": "@jupyter-widgets/controls",
      "model_module_version": "1.4.0",
      "model_name": "LabelModel",
      "state": {
       "layout": "IPY_MODEL_ce0b948ec90349d5aa2d7c0c1b6d1892",
       "style": "IPY_MODEL_6df0044bc35f478cbc1a2ad3ff4dcb89",
       "value": "Model"
      }
     },
     "5a40d605fbb74b289c0a01f007ab1b5d": {
      "model_module": "@jupyter-widgets/output",
      "model_module_version": "1.0.0",
      "model_name": "OutputModel",
      "state": {
       "layout": "IPY_MODEL_5fc0a9b8104146898c1d7b91e11fd050",
       "outputs": [
        {
         "data": {
          "text/markdown": "\n- Dataset: **segment**\n- Size: **1000**\n        ",
          "text/plain": "<IPython.core.display.Markdown object>"
         },
         "metadata": {},
         "output_type": "display_data"
        },
        {
         "data": {
          "image/png": "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\n",
          "text/plain": "<Figure size 921.6x345.6 with 2 Axes>"
         },
         "metadata": {},
         "output_type": "display_data"
        }
       ]
      }
     },
     "5a674efeab3c427a892190ff105da153": {
      "model_module": "@jupyter-widgets/controls",
      "model_module_version": "1.4.0",
      "model_name": "DescriptionStyleModel",
      "state": {
       "description_width": ""
      }
     },
     "5a7df33570dc4681b253aa5599aca90e": {
      "model_module": "@jupyter-widgets/controls",
      "model_module_version": "1.4.0",
      "model_name": "DescriptionStyleModel",
      "state": {
       "description_width": ""
      }
     },
     "5a8069344e594dafae5de8a6f783e594": {
      "model_module": "@jupyter-widgets/base",
      "model_module_version": "1.1.0",
      "model_name": "LayoutModel",
      "state": {}
     },
     "5a85079e4a824c4d8c67dd1d9a42c774": {
      "model_module": "@jupyter-widgets/controls",
      "model_module_version": "1.4.0",
      "model_name": "DropdownModel",
      "state": {
       "_options_labels": [
        "segment",
        "covertype",
        "digits",
        "fall_detection",
        "mnist",
        "pen_digits",
        "satellite",
        "vowel"
       ],
       "description": "Dataset:",
       "index": 0,
       "layout": "IPY_MODEL_3f0afc7330bc477ca0cb384a2e66610a",
       "style": "IPY_MODEL_a4ee6a76211a4aa0b99a25b63aa2f643"
      }
     },
     "5aeab9e432544527bcc9b9dd483627e8": {
      "model_module": "@jupyter-widgets/controls",
      "model_module_version": "1.4.0",
      "model_name": "SliderStyleModel",
      "state": {
       "description_width": ""
      }
     },
     "5b2ec67282344181967cc9491e321194": {
      "model_module": "@jupyter-widgets/controls",
      "model_module_version": "1.4.0",
      "model_name": "VBoxModel",
      "state": {
       "children": [
        "IPY_MODEL_654d9fe3ea6c4e52822c1a81176400d3",
        "IPY_MODEL_ece2bdd132ea4a38af8fabd964ab0782",
        "IPY_MODEL_bdb08691e7554dc8b76f5cd9f6f79423",
        "IPY_MODEL_88ff0873c1054e49ace28cba7bbf38b5",
        "IPY_MODEL_0a1cc07ecb524bbaa1562c4ef36ba418",
        "IPY_MODEL_9ebd8b2f7ac54d07a889994e4659726b",
        "IPY_MODEL_a98dbbded5fb4a96a3ae6c75557f5d24"
       ],
       "layout": "IPY_MODEL_b87e8dd39df04707ba7332f5129458a7"
      }
     },
     "5b3746b519bb48158b6a4b36e25dc07c": {
      "model_module": "@jupyter-widgets/output",
      "model_module_version": "1.0.0",
      "model_name": "OutputModel",
      "state": {
       "layout": "IPY_MODEL_b121dfc665aa454b8329c815c0e96698"
      }
     },
     "5b62c309bfc44253afc996fbb05a8cae": {
      "model_module": "@jupyter-widgets/controls",
      "model_module_version": "1.4.0",
      "model_name": "LabelModel",
      "state": {
       "layout": "IPY_MODEL_ff2912c5d16b4ebbb8a40a4e856a3485",
       "style": "IPY_MODEL_2c5897d9dfa7492099c359fb961ed4a2",
       "value": "PCA?"
      }
     },
     "5b6dfe6fb2864c839893cff88052ea0f": {
      "model_module": "@jupyter-widgets/controls",
      "model_module_version": "1.4.0",
      "model_name": "ButtonStyleModel",
      "state": {}
     },
     "5b7b5bd8f74a487f888e45809993acce": {
      "model_module": "@jupyter-widgets/controls",
      "model_module_version": "1.4.0",
      "model_name": "DropdownModel",
      "state": {
       "_options_labels": [
        "segment",
        "covertype",
        "digits",
        "fall_detection",
        "mnist",
        "pen_digits",
        "satellite",
        "vowel"
       ],
       "description": "Dataset:",
       "index": 0,
       "layout": "IPY_MODEL_313df1096d74435ea10083fb155a6968",
       "style": "IPY_MODEL_315a47e9db65459cba1e9c16e8664ff0"
      }
     },
     "5bbb66cc3e294c24bf341e4b045d3684": {
      "model_module": "@jupyter-widgets/base",
      "model_module_version": "1.1.0",
      "model_name": "LayoutModel",
      "state": {}
     },
     "5bca39061f84495d918f832447ebeeb3": {
      "model_module": "@jupyter-widgets/base",
      "model_module_version": "1.1.0",
      "model_name": "LayoutModel",
      "state": {}
     },
     "5c0c9b68546846d0be3bf36daa0f19f0": {
      "model_module": "@jupyter-widgets/controls",
      "model_module_version": "1.4.0",
      "model_name": "DropdownModel",
      "state": {
       "_options_labels": [
        "segment",
        "covertype",
        "digits",
        "fall_detection",
        "mnist",
        "pen_digits",
        "satellite",
        "vowel"
       ],
       "description": "Dataset:",
       "index": 0,
       "layout": "IPY_MODEL_77f611da5c6b4ad2ac45dd0e7994168b",
       "style": "IPY_MODEL_8d421d28925a44b8af90a0ee0241effb"
      }
     },
     "5c467b88e59940f6a37aef9f96bb97b6": {
      "model_module": "@jupyter-widgets/controls",
      "model_module_version": "1.4.0",
      "model_name": "DropdownModel",
      "state": {
       "_options_labels": [
        "None",
        "rbf",
        "nystroem"
       ],
       "index": 1,
       "layout": "IPY_MODEL_c176f2d131034ef29b59e43d8d2dad35",
       "style": "IPY_MODEL_b5e7681edb644531829453d8a9a40bfe"
      }
     },
     "5c72578dc3e9441cad003cdd3d47b1a6": {
      "model_module": "@jupyter-widgets/base",
      "model_module_version": "1.1.0",
      "model_name": "LayoutModel",
      "state": {}
     },
     "5cb39b27fd624ebf8dc727527a8caf2a": {
      "model_module": "@jupyter-widgets/controls",
      "model_module_version": "1.4.0",
      "model_name": "DropdownModel",
      "state": {
       "_options_labels": [
        "None",
        "black",
        "grey"
       ],
       "index": 0,
       "layout": "IPY_MODEL_c1360911ced44c58b02f01fd1b1c6846",
       "style": "IPY_MODEL_b11357c2383f40c595f42090c777239c"
      }
     },
     "5ce37b2c7f0f4a1a9452530c3d3bcae4": {
      "model_module": "@jupyter-widgets/controls",
      "model_module_version": "1.4.0",
      "model_name": "LabelModel",
      "state": {
       "layout": "IPY_MODEL_36b0188f3fe342f89a7d9ec5878d4851",
       "style": "IPY_MODEL_9f91b392bd8c4ca5867facf7c359e747",
       "value": "Number Estimators"
      }
     },
     "5d6ef620e803414aabbf212e199f7b4b": {
      "model_module": "@jupyter-widgets/base",
      "model_module_version": "1.1.0",
      "model_name": "LayoutModel",
      "state": {}
     },
     "5d78fb2be66c4ed89c7993eebf54ea28": {
      "model_module": "@jupyter-widgets/controls",
      "model_module_version": "1.4.0",
      "model_name": "DescriptionStyleModel",
      "state": {
       "description_width": ""
      }
     },
     "5d8053d86540408f90f156760ce9e4b1": {
      "model_module": "@jupyter-widgets/base",
      "model_module_version": "1.1.0",
      "model_name": "LayoutModel",
      "state": {
       "visibility": "visible",
       "width": "300px"
      }
     },
     "5d8281b49db44484865c79ccbc27a6ef": {
      "model_module": "@jupyter-widgets/controls",
      "model_module_version": "1.4.0",
      "model_name": "DescriptionStyleModel",
      "state": {
       "description_width": ""
      }
     },
     "5e107f367baf4ad1b8dcea4df2c826f6": {
      "model_module": "@jupyter-widgets/controls",
      "model_module_version": "1.4.0",
      "model_name": "SliderStyleModel",
      "state": {
       "description_width": ""
      }
     },
     "5e464e49d7e24845bad2708ea925ce88": {
      "model_module": "@jupyter-widgets/controls",
      "model_module_version": "1.4.0",
      "model_name": "DropdownModel",
      "state": {
       "_options_labels": [
        "dt",
        "logit",
        "linear_svc"
       ],
       "index": 0,
       "layout": "IPY_MODEL_19a1c889de8043ecba4210adb6a9fd87",
       "style": "IPY_MODEL_9f1cd4ea73ee4f75944af9b9ce331b32"
      }
     },
     "5e6312e14a3f4a32b0351c86fde4646c": {
      "model_module": "@jupyter-widgets/controls",
      "model_module_version": "1.4.0",
      "model_name": "DescriptionStyleModel",
      "state": {
       "description_width": ""
      }
     },
     "5e707cb6934245b0a428dd531479cc0b": {
      "model_module": "@jupyter-widgets/controls",
      "model_module_version": "1.4.0",
      "model_name": "ButtonStyleModel",
      "state": {}
     },
     "5e87cdfcbc40414290acb5bfe5503b1c": {
      "model_module": "@jupyter-widgets/controls",
      "model_module_version": "1.4.0",
      "model_name": "ButtonModel",
      "state": {
       "button_style": "info",
       "description": "Demo0",
       "layout": "IPY_MODEL_8b91e38c918845bfb8e61707df8a6fca",
       "style": "IPY_MODEL_a8974381e822487faab24bfd1c8ff4e0"
      }
     },
     "5e9590fc0d1843e5a8fcb33cb7ccbee4": {
      "model_module": "@jupyter-widgets/controls",
      "model_module_version": "1.4.0",
      "model_name": "DescriptionStyleModel",
      "state": {
       "description_width": ""
      }
     },
     "5eb2da5bcff44ae5b2f652f96e5b8554": {
      "model_module": "@jupyter-widgets/controls",
      "model_module_version": "1.4.0",
      "model_name": "DropdownModel",
      "state": {
       "_options_labels": [
        "None",
        "rbf",
        "nystroem"
       ],
       "index": 0,
       "layout": "IPY_MODEL_64e7917a1a4c4a8e969b3daa8cf39ca2",
       "style": "IPY_MODEL_de3990396b6f45b1a9661b92de6da8a7"
      }
     },
     "5eb354af86374f67961d45c1a9bfa3b3": {
      "model_module": "@jupyter-widgets/controls",
      "model_module_version": "1.4.0",
      "model_name": "ButtonModel",
      "state": {
       "button_style": "info",
       "description": "Demo5",
       "layout": "IPY_MODEL_3a45511aa68941eb8beb26e38e55b9d6",
       "style": "IPY_MODEL_312cce0705f94891a3a5f37976b4c3e0"
      }
     },
     "5eba008de5c5499c8d3105804e564b97": {
      "model_module": "@jupyter-widgets/controls",
      "model_module_version": "1.4.0",
      "model_name": "IntSliderModel",
      "state": {
       "disabled": true,
       "layout": "IPY_MODEL_0e0c628e0de34f7aac8569961e6ae87a",
       "max": 200,
       "min": 2,
       "style": "IPY_MODEL_cd394b263b1a4a3da2d923cf5928547c",
       "value": 30
      }
     },
     "5ecf955f10254345910c38aad8144a8b": {
      "model_module": "@jupyter-widgets/base",
      "model_module_version": "1.1.0",
      "model_name": "LayoutModel",
      "state": {
       "visibility": "hidden"
      }
     },
     "5efc5ee272964701a169e4393bcb2c20": {
      "model_module": "@jupyter-widgets/base",
      "model_module_version": "1.1.0",
      "model_name": "LayoutModel",
      "state": {}
     },
     "5f3d5c0199af4f29b0576dee5afad9b4": {
      "model_module": "@jupyter-widgets/controls",
      "model_module_version": "1.4.0",
      "model_name": "HBoxModel",
      "state": {
       "children": [
        "IPY_MODEL_14c6a78f60744da18c7ee8efea2f2dda",
        "IPY_MODEL_87f19fec02004e6bafde5c2506cb3177",
        "IPY_MODEL_8319b3209b384f6a856e83ce31932c8f",
        "IPY_MODEL_3f7ca8458c2248b5ac9990c2bf98f482",
        "IPY_MODEL_92cd19bd3e234f0a8104095d179ea212"
       ],
       "layout": "IPY_MODEL_8b85c81c520640faa740d9c4234bb1f8"
      }
     },
     "5f465aa6199d475f88ca24597d65b465": {
      "model_module": "@jupyter-widgets/controls",
      "model_module_version": "1.4.0",
      "model_name": "DescriptionStyleModel",
      "state": {
       "description_width": ""
      }
     },
     "5f543844400b4db485e8f0cd676f571a": {
      "model_module": "@jupyter-widgets/controls",
      "model_module_version": "1.4.0",
      "model_name": "RadioButtonsModel",
      "state": {
       "_options_labels": [
        "1000",
        "2000",
        "5000",
        "10000"
       ],
       "description": "Size",
       "index": 0,
       "layout": "IPY_MODEL_6ba04210a47444ccabc2d42852446493",
       "style": "IPY_MODEL_50088e563b5f4f969c66f5424fb9932e"
      }
     },
     "5f588290979642fdbbdf3d53bf77d435": {
      "model_module": "@jupyter-widgets/base",
      "model_module_version": "1.1.0",
      "model_name": "LayoutModel",
      "state": {}
     },
     "5f873323f8ff4d42922f4e9f2e4a47e8": {
      "model_module": "@jupyter-widgets/base",
      "model_module_version": "1.1.0",
      "model_name": "LayoutModel",
      "state": {
       "visibility": "hidden"
      }
     },
     "5fae3f009e4d4429b0648ac72597da43": {
      "model_module": "@jupyter-widgets/controls",
      "model_module_version": "1.4.0",
      "model_name": "VBoxModel",
      "state": {
       "children": [
        "IPY_MODEL_92f168d8d5714aaa8aede698edc3e581",
        "IPY_MODEL_fd91cbe81b6e4b2993d07192db5c9ec0",
        "IPY_MODEL_1ee18c64f5404421862b6f7927f5d4a4",
        "IPY_MODEL_4d50cfb4f6974b20806571bb6030a2e0",
        "IPY_MODEL_2b0c727548df4a308a304f630fd65798"
       ],
       "layout": "IPY_MODEL_93560746381248d987ada57b008acecc"
      }
     },
     "5fc0a9b8104146898c1d7b91e11fd050": {
      "model_module": "@jupyter-widgets/base",
      "model_module_version": "1.1.0",
      "model_name": "LayoutModel",
      "state": {}
     },
     "5ffccf2beb1c4c7cae291fb09a578b2a": {
      "model_module": "@jupyter-widgets/controls",
      "model_module_version": "1.4.0",
      "model_name": "CheckboxModel",
      "state": {
       "disabled": false,
       "layout": "IPY_MODEL_339877ad60d3491a8ea8205de5a8a737",
       "style": "IPY_MODEL_7509560d973a4ebb8e8d484c24a268ae",
       "value": false
      }
     },
     "601308ab81c24f8fba67c6122881c982": {
      "model_module": "@jupyter-widgets/controls",
      "model_module_version": "1.4.0",
      "model_name": "SliderStyleModel",
      "state": {
       "description_width": ""
      }
     },
     "604040093cfc4c728b4b50462d627dc9": {
      "model_module": "@jupyter-widgets/base",
      "model_module_version": "1.1.0",
      "model_name": "LayoutModel",
      "state": {
       "width": "90px"
      }
     },
     "604e6f4f076040d2af547dcc22d57b8d": {
      "model_module": "@jupyter-widgets/controls",
      "model_module_version": "1.4.0",
      "model_name": "HBoxModel",
      "state": {
       "children": [
        "IPY_MODEL_ca050544069b49a18daeb72dcd37e4c0",
        "IPY_MODEL_a580caa218ee46cf83c81277b2df51ae",
        "IPY_MODEL_6bc4a959ae6c497e94998ba41fef266a",
        "IPY_MODEL_3384ff567a3a4a179f5e1627099c41b9",
        "IPY_MODEL_21a300e7400b4df4b9d06a385292c28a"
       ],
       "layout": "IPY_MODEL_6bbb5db827a9422eb1e4f14c42cbb1da"
      }
     },
     "60847606662241149fd5e84f80d8d217": {
      "model_module": "@jupyter-widgets/controls",
      "model_module_version": "1.4.0",
      "model_name": "DescriptionStyleModel",
      "state": {
       "description_width": ""
      }
     },
     "60b388fa7ad84b11955b39b6807d63cb": {
      "model_module": "@jupyter-widgets/controls",
      "model_module_version": "1.4.0",
      "model_name": "IntRangeSliderModel",
      "state": {
       "_model_name": "IntRangeSliderModel",
       "_view_name": "IntRangeSliderView",
       "disabled": true,
       "layout": "IPY_MODEL_e1c2b120277e4306a3f081671009c45d",
       "max": 400,
       "min": 30,
       "step": 10,
       "style": "IPY_MODEL_4509b20fe29d4d51a946af4f18f51030",
       "value": [
        30,
        100
       ]
      }
     },
     "60e65e373b154c299f2afce1a13871f3": {
      "model_module": "@jupyter-widgets/base",
      "model_module_version": "1.1.0",
      "model_name": "LayoutModel",
      "state": {}
     },
     "60e7532b76014df5a1211a72df589702": {
      "model_module": "@jupyter-widgets/controls",
      "model_module_version": "1.4.0",
      "model_name": "DescriptionStyleModel",
      "state": {
       "description_width": ""
      }
     },
     "611e58b3582f4d1ca09de59f12eb60fa": {
      "model_module": "@jupyter-widgets/base",
      "model_module_version": "1.1.0",
      "model_name": "LayoutModel",
      "state": {}
     },
     "614405c0929c46608f30d0ae66323c15": {
      "model_module": "@jupyter-widgets/controls",
      "model_module_version": "1.4.0",
      "model_name": "DropdownModel",
      "state": {
       "_options_labels": [
        "None",
        "rbf",
        "nystroem"
       ],
       "index": 0,
       "layout": "IPY_MODEL_c1360911ced44c58b02f01fd1b1c6846",
       "style": "IPY_MODEL_1c74a2d19bd0438c8f0d4f66d0601594"
      }
     },
     "61c429ffa6534b7b9eef1dddda252fff": {
      "model_module": "@jupyter-widgets/controls",
      "model_module_version": "1.4.0",
      "model_name": "LabelModel",
      "state": {
       "layout": "IPY_MODEL_705c441aa2ba48519fce37932af69e07",
       "style": "IPY_MODEL_6e53058cfbc949609519195f2886af2b",
       "value": "Model"
      }
     },
     "61dbca18d63c4d3b91cbd8f34a980cf8": {
      "model_module": "@jupyter-widgets/base",
      "model_module_version": "1.1.0",
      "model_name": "LayoutModel",
      "state": {}
     },
     "61ef0a5b2d184f9ca9fd0ccebe6abb1c": {
      "model_module": "@jupyter-widgets/base",
      "model_module_version": "1.1.0",
      "model_name": "LayoutModel",
      "state": {}
     },
     "6287c054395541eda4e0a93c95fd7e81": {
      "model_module": "@jupyter-widgets/controls",
      "model_module_version": "1.4.0",
      "model_name": "VBoxModel",
      "state": {
       "children": [
        "IPY_MODEL_4e34704641b7450eb3a0575b3bac532f",
        "IPY_MODEL_9e093a91e0d04480a24606dcb35697b4"
       ],
       "layout": "IPY_MODEL_65d2670986fc4436a45fb83355644f0e"
      }
     },
     "629543eb0dd244619cf49441a103a0db": {
      "model_module": "@jupyter-widgets/controls",
      "model_module_version": "1.4.0",
      "model_name": "LabelModel",
      "state": {
       "layout": "IPY_MODEL_0b35d8bb19be483aa72cf8f4ced137af",
       "style": "IPY_MODEL_e426a402fde84648bad55d83cee2f616",
       "value": "Model"
      }
     },
     "62ee50c05f2b4197b7e3ac4048155163": {
      "model_module": "@jupyter-widgets/controls",
      "model_module_version": "1.4.0",
      "model_name": "VBoxModel",
      "state": {
       "children": [
        "IPY_MODEL_a366e238d6d04ccaa787d56064e30e50",
        "IPY_MODEL_5386a9dabd6547e69c0f225f4d4c0f42"
       ],
       "layout": "IPY_MODEL_3ae0c024c978487081e1baef35c7f654"
      }
     },
     "62f3609818cb4a4aa46f19d528f07d39": {
      "model_module": "@jupyter-widgets/base",
      "model_module_version": "1.1.0",
      "model_name": "LayoutModel",
      "state": {}
     },
     "62fe0a5585954a4cb074a3640123e03c": {
      "model_module": "@jupyter-widgets/controls",
      "model_module_version": "1.4.0",
      "model_name": "DescriptionStyleModel",
      "state": {
       "description_width": ""
      }
     },
     "6380b5d79f8b4a4081df87605c272d7f": {
      "model_module": "@jupyter-widgets/base",
      "model_module_version": "1.1.0",
      "model_name": "LayoutModel",
      "state": {}
     },
     "63a4fb0d835d4f21ab4c341973076ddf": {
      "model_module": "@jupyter-widgets/controls",
      "model_module_version": "1.4.0",
      "model_name": "DescriptionStyleModel",
      "state": {
       "description_width": ""
      }
     },
     "64b51d537bfd48e09d4a504422c718dd": {
      "model_module": "@jupyter-widgets/base",
      "model_module_version": "1.1.0",
      "model_name": "LayoutModel",
      "state": {}
     },
     "64c2a2f247cb4ceebac1669f37c52fd8": {
      "model_module": "@jupyter-widgets/base",
      "model_module_version": "1.1.0",
      "model_name": "LayoutModel",
      "state": {}
     },
     "64c2f7dfd7464549865e9ad949367f58": {
      "model_module": "@jupyter-widgets/controls",
      "model_module_version": "1.4.0",
      "model_name": "DropdownModel",
      "state": {
       "_options_labels": [
        "None",
        "black",
        "grey"
       ],
       "index": 2,
       "layout": "IPY_MODEL_179fae3d637343769a280ab0df2e2cec",
       "style": "IPY_MODEL_f2cd0ae2fabb4adea5968e91ece8340d"
      }
     },
     "64c62c632d1644c3bca24b7610583b20": {
      "model_module": "@jupyter-widgets/controls",
      "model_module_version": "1.4.0",
      "model_name": "DescriptionStyleModel",
      "state": {
       "description_width": ""
      }
     },
     "64dcb635f6974ed89e3e0dc48de9e299": {
      "model_module": "@jupyter-widgets/controls",
      "model_module_version": "1.4.0",
      "model_name": "DropdownModel",
      "state": {
       "_options_labels": [
        "dt",
        "logit",
        "linear_svc"
       ],
       "index": 1,
       "layout": "IPY_MODEL_c176f2d131034ef29b59e43d8d2dad35",
       "style": "IPY_MODEL_940f40dacbf6467da894e67edd66c48c"
      }
     },
     "64e7917a1a4c4a8e969b3daa8cf39ca2": {
      "model_module": "@jupyter-widgets/base",
      "model_module_version": "1.1.0",
      "model_name": "LayoutModel",
      "state": {
       "width": "90px"
      }
     },
     "64ef0b7a7afa42439881ae6bf30aa856": {
      "model_module": "@jupyter-widgets/base",
      "model_module_version": "1.1.0",
      "model_name": "LayoutModel",
      "state": {}
     },
     "64facd6e8be84c6aa988c0197918f138": {
      "model_module": "@jupyter-widgets/controls",
      "model_module_version": "1.4.0",
      "model_name": "DescriptionStyleModel",
      "state": {
       "description_width": ""
      }
     },
     "654d9fe3ea6c4e52822c1a81176400d3": {
      "model_module": "@jupyter-widgets/controls",
      "model_module_version": "1.4.0",
      "model_name": "DropdownModel",
      "state": {
       "_options_labels": [
        "segment",
        "covertype",
        "digits",
        "fall_detection",
        "mnist",
        "pen_digits",
        "satellite",
        "vowel"
       ],
       "description": "Dataset:",
       "index": 0,
       "layout": "IPY_MODEL_dcfdb6f1cb6240ad8fae87f0049276da",
       "style": "IPY_MODEL_0cc0c6d6291044da9ded5cb70b525e8d"
      }
     },
     "6560937d18794997bbf973e31e7323d6": {
      "model_module": "@jupyter-widgets/base",
      "model_module_version": "1.1.0",
      "model_name": "LayoutModel",
      "state": {
       "width": "90px"
      }
     },
     "65af5ba095884ca585aa13fc33b26d29": {
      "model_module": "@jupyter-widgets/controls",
      "model_module_version": "1.4.0",
      "model_name": "ButtonStyleModel",
      "state": {}
     },
     "65d2670986fc4436a45fb83355644f0e": {
      "model_module": "@jupyter-widgets/base",
      "model_module_version": "1.1.0",
      "model_name": "LayoutModel",
      "state": {}
     },
     "66b5411107a246318528161a42a80d4d": {
      "model_module": "@jupyter-widgets/base",
      "model_module_version": "1.1.0",
      "model_name": "LayoutModel",
      "state": {}
     },
     "66d2ac92b2254ae1a06ee5c760e55a6a": {
      "model_module": "@jupyter-widgets/controls",
      "model_module_version": "1.4.0",
      "model_name": "DescriptionStyleModel",
      "state": {
       "description_width": ""
      }
     },
     "66fd274e8f524a50aa0a29588ecc5c9e": {
      "model_module": "@jupyter-widgets/base",
      "model_module_version": "1.1.0",
      "model_name": "LayoutModel",
      "state": {}
     },
     "67255259544a447e80825d358bdbf091": {
      "model_module": "@jupyter-widgets/controls",
      "model_module_version": "1.4.0",
      "model_name": "DescriptionStyleModel",
      "state": {
       "description_width": ""
      }
     },
     "676afb3a5ccb438db0effb8c39916724": {
      "model_module": "@jupyter-widgets/controls",
      "model_module_version": "1.4.0",
      "model_name": "DescriptionStyleModel",
      "state": {
       "description_width": ""
      }
     },
     "677e17ce3b054865a888a4e88279406e": {
      "model_module": "@jupyter-widgets/controls",
      "model_module_version": "1.4.0",
      "model_name": "LabelModel",
      "state": {
       "layout": "IPY_MODEL_13f34c23ca524f0f9c03e538834c658c",
       "style": "IPY_MODEL_b7e8f911d4d948369df9e1327acdce7f",
       "value": "Sampler"
      }
     },
     "67ac824b573b44b89f49f2ad2de9fcf2": {
      "model_module": "@jupyter-widgets/base",
      "model_module_version": "1.1.0",
      "model_name": "LayoutModel",
      "state": {}
     },
     "67b80627b0e44dbd8ab57d28e877205e": {
      "model_module": "@jupyter-widgets/controls",
      "model_module_version": "1.4.0",
      "model_name": "DescriptionStyleModel",
      "state": {
       "description_width": ""
      }
     },
     "67e9f44f11954e1fb0e942a89430af38": {
      "model_module": "@jupyter-widgets/controls",
      "model_module_version": "1.4.0",
      "model_name": "IntSliderModel",
      "state": {
       "layout": "IPY_MODEL_b5e9139a53f34c8bbc77f3282a26abe2",
       "max": 200,
       "min": 2,
       "style": "IPY_MODEL_9c8e899109df4b398f95abeec91d8577",
       "value": 30
      }
     },
     "67fd447ae2e94fe29aa832263e9c1030": {
      "model_module": "@jupyter-widgets/base",
      "model_module_version": "1.1.0",
      "model_name": "LayoutModel",
      "state": {}
     },
     "68641e843fc54d50afdac264d89e5270": {
      "model_module": "@jupyter-widgets/base",
      "model_module_version": "1.1.0",
      "model_name": "LayoutModel",
      "state": {}
     },
     "688adb1a8eee4cc794132b0985cec75a": {
      "model_module": "@jupyter-widgets/controls",
      "model_module_version": "1.4.0",
      "model_name": "DropdownModel",
      "state": {
       "_options_labels": [
        "None",
        "rbf",
        "nystroem"
       ],
       "index": 0,
       "layout": "IPY_MODEL_131f8927dc9d4587a5273574a05c1281",
       "style": "IPY_MODEL_0893c4e519ed41d79d4719209d88e4cf"
      }
     },
     "689846f985bf4911899c13eba4a00496": {
      "model_module": "@jupyter-widgets/base",
      "model_module_version": "1.1.0",
      "model_name": "LayoutModel",
      "state": {}
     },
     "6961781330594177a46f9b0faba7a262": {
      "model_module": "@jupyter-widgets/base",
      "model_module_version": "1.1.0",
      "model_name": "LayoutModel",
      "state": {}
     },
     "697ab59ad148404a8014d9b6412e6848": {
      "model_module": "@jupyter-widgets/controls",
      "model_module_version": "1.4.0",
      "model_name": "DescriptionStyleModel",
      "state": {
       "description_width": ""
      }
     },
     "69dbd318e4b04cbfa5003cda38acb9e7": {
      "model_module": "@jupyter-widgets/controls",
      "model_module_version": "1.4.0",
      "model_name": "VBoxModel",
      "state": {
       "children": [
        "IPY_MODEL_38e5e1a624ed49819739cb508c86f898",
        "IPY_MODEL_d2f30ce79fe24f0a87442c1f39815d3d"
       ],
       "layout": "IPY_MODEL_212fb225b6ed4e019d76b6b0139a12e8"
      }
     },
     "6a531440d0134cd59ada79c33ed4dcb9": {
      "model_module": "@jupyter-widgets/base",
      "model_module_version": "1.1.0",
      "model_name": "LayoutModel",
      "state": {}
     },
     "6a9be19c1a9f4f54aa017f5e25db6b1d": {
      "model_module": "@jupyter-widgets/base",
      "model_module_version": "1.1.0",
      "model_name": "LayoutModel",
      "state": {}
     },
     "6a9cc83242ef4da5809766729925ba7f": {
      "model_module": "@jupyter-widgets/base",
      "model_module_version": "1.1.0",
      "model_name": "LayoutModel",
      "state": {}
     },
     "6aa79c4905eb4345956f1e71a0c88faa": {
      "model_module": "@jupyter-widgets/controls",
      "model_module_version": "1.4.0",
      "model_name": "ButtonStyleModel",
      "state": {}
     },
     "6abe9b623bad473b9741fec72742be89": {
      "model_module": "@jupyter-widgets/controls",
      "model_module_version": "1.4.0",
      "model_name": "VBoxModel",
      "state": {
       "children": [
        "IPY_MODEL_d16dbdcef39d436b98294898a0eb3d96",
        "IPY_MODEL_9de7dd9c3e7644bca6e4007e819156ad",
        "IPY_MODEL_7372439f835f4711b393e10678cb67d1",
        "IPY_MODEL_e8280291006c40a5996775a88f88f0ce",
        "IPY_MODEL_433ee51b39cb4d5b96cad46241c3f209",
        "IPY_MODEL_ac2c1a350b2a4d829a4e5f250bbbff0a",
        "IPY_MODEL_b11b8346d32a49f29200714eb0569aa3",
        "IPY_MODEL_f49d5016d471473e873744cfd478e7b3",
        "IPY_MODEL_6e2329660b334974ad2e3f36a694aab0"
       ],
       "layout": "IPY_MODEL_ed04019fda65412b8b580f4b6dec1d65"
      }
     },
     "6ac17a6f0e6b49f6a50d815a831bcf88": {
      "model_module": "@jupyter-widgets/controls",
      "model_module_version": "1.4.0",
      "model_name": "DropdownModel",
      "state": {
       "_options_labels": [
        "None",
        "rbf",
        "nystroem"
       ],
       "index": 0,
       "layout": "IPY_MODEL_f0ddcce54f8d49baa2c1df999ee505df",
       "style": "IPY_MODEL_448992744f8a4b5dbc29a659a4290208"
      }
     },
     "6ae56617a23c496e84c3e483649af14d": {
      "model_module": "@jupyter-widgets/controls",
      "model_module_version": "1.4.0",
      "model_name": "VBoxModel",
      "state": {
       "children": [
        "IPY_MODEL_a6e1139735654b689b198f92ea27d22b",
        "IPY_MODEL_9456dabd3850483c8767527825ab8cf3",
        "IPY_MODEL_98da1f630f75421a8a2bf3887e7c0daa",
        "IPY_MODEL_8ce7e3bbfc33428b8d88fbc7e6486553",
        "IPY_MODEL_5760f055ef20462394497667ed7053a8",
        "IPY_MODEL_d911cf1ab6dd4810a6e00571e1096eae",
        "IPY_MODEL_d10a0934b3ec4a6abdcb97283a96f7b5"
       ],
       "layout": "IPY_MODEL_2b2d77dc4252442d96b2d77acf840d3a"
      }
     },
     "6b13d3c54a264e02b36d145bcb415d08": {
      "model_module": "@jupyter-widgets/base",
      "model_module_version": "1.1.0",
      "model_name": "LayoutModel",
      "state": {}
     },
     "6b2909950d9f409ebf04e49409f1468c": {
      "model_module": "@jupyter-widgets/controls",
      "model_module_version": "1.4.0",
      "model_name": "DescriptionStyleModel",
      "state": {
       "description_width": ""
      }
     },
     "6b3aa45339ae4967bb5fc91172760ef6": {
      "model_module": "@jupyter-widgets/controls",
      "model_module_version": "1.4.0",
      "model_name": "SliderStyleModel",
      "state": {
       "description_width": ""
      }
     },
     "6b713f79c2a349d18c2e64191c041657": {
      "model_module": "@jupyter-widgets/controls",
      "model_module_version": "1.4.0",
      "model_name": "RadioButtonsModel",
      "state": {
       "_options_labels": [
        "1000",
        "2000",
        "5000",
        "10000"
       ],
       "description": "Size",
       "index": 0,
       "layout": "IPY_MODEL_3e064036f102481d9825bb499415cc36",
       "style": "IPY_MODEL_9f6f0df51e864447aae20a6217c44d45"
      }
     },
     "6b8886493520483e979891ea077ef122": {
      "model_module": "@jupyter-widgets/base",
      "model_module_version": "1.1.0",
      "model_name": "LayoutModel",
      "state": {}
     },
     "6ba04210a47444ccabc2d42852446493": {
      "model_module": "@jupyter-widgets/base",
      "model_module_version": "1.1.0",
      "model_name": "LayoutModel",
      "state": {}
     },
     "6ba617b62eeb4e4aad415b19cb11b044": {
      "model_module": "@jupyter-widgets/controls",
      "model_module_version": "1.4.0",
      "model_name": "SliderStyleModel",
      "state": {
       "description_width": ""
      }
     },
     "6bbb5db827a9422eb1e4f14c42cbb1da": {
      "model_module": "@jupyter-widgets/base",
      "model_module_version": "1.1.0",
      "model_name": "LayoutModel",
      "state": {
       "border": "3px solid black"
      }
     },
     "6bc4a959ae6c497e94998ba41fef266a": {
      "model_module": "@jupyter-widgets/controls",
      "model_module_version": "1.4.0",
      "model_name": "VBoxModel",
      "state": {
       "children": [
        "IPY_MODEL_1b2ff101bf9d4cea91b47698f2181b39",
        "IPY_MODEL_ee330b6e38184c6292a448468a7fdd03"
       ],
       "layout": "IPY_MODEL_6bdb9c24ddca4d34af7539dde39864d3"
      }
     },
     "6bcd1a5a264a4fe6a037b77321331c92": {
      "model_module": "@jupyter-widgets/controls",
      "model_module_version": "1.4.0",
      "model_name": "DescriptionStyleModel",
      "state": {
       "description_width": ""
      }
     },
     "6bdb9c24ddca4d34af7539dde39864d3": {
      "model_module": "@jupyter-widgets/base",
      "model_module_version": "1.1.0",
      "model_name": "LayoutModel",
      "state": {}
     },
     "6c58aee803eb42f188de876655f7c00d": {
      "model_module": "@jupyter-widgets/base",
      "model_module_version": "1.1.0",
      "model_name": "LayoutModel",
      "state": {}
     },
     "6caa39ba7e6143dc80d2be8ca9ecf046": {
      "model_module": "@jupyter-widgets/controls",
      "model_module_version": "1.4.0",
      "model_name": "ButtonStyleModel",
      "state": {}
     },
     "6cb51a483f394287a63eedf7373e08d6": {
      "model_module": "@jupyter-widgets/controls",
      "model_module_version": "1.4.0",
      "model_name": "LabelModel",
      "state": {
       "layout": "IPY_MODEL_55d0a2f542e74c7e9b9e7835452edce5",
       "style": "IPY_MODEL_22fb574bcf4549759d544419f006e44b",
       "value": "Sampler"
      }
     },
     "6ce5f309ee8e405eb0462e5b25ad9846": {
      "model_module": "@jupyter-widgets/base",
      "model_module_version": "1.1.0",
      "model_name": "LayoutModel",
      "state": {}
     },
     "6ceb56f96ae2443ab76ecfac197d41a7": {
      "model_module": "@jupyter-widgets/controls",
      "model_module_version": "1.4.0",
      "model_name": "DescriptionStyleModel",
      "state": {
       "description_width": ""
      }
     },
     "6d203dc2f81344e8a43261dcf4d0bd07": {
      "model_module": "@jupyter-widgets/controls",
      "model_module_version": "1.4.0",
      "model_name": "DescriptionStyleModel",
      "state": {
       "description_width": ""
      }
     },
     "6d2a26b21784479a99a0e6a107f581ee": {
      "model_module": "@jupyter-widgets/controls",
      "model_module_version": "1.4.0",
      "model_name": "ButtonModel",
      "state": {
       "button_style": "info",
       "description": "Demo0",
       "layout": "IPY_MODEL_7feab0b46b6d4ea1884b7b4c07b11302",
       "style": "IPY_MODEL_1ebfe39c34fe4fb7857306328f01cdca"
      }
     },
     "6d8f52fb4c8540c9ba3a1bde25481baa": {
      "model_module": "@jupyter-widgets/controls",
      "model_module_version": "1.4.0",
      "model_name": "IntSliderModel",
      "state": {
       "disabled": true,
       "layout": "IPY_MODEL_ac93deb919164134a5dda3daead9d66d",
       "max": 200,
       "min": 2,
       "style": "IPY_MODEL_7d0f39ca834a4f9498cb8186375fa286",
       "value": 30
      }
     },
     "6df0044bc35f478cbc1a2ad3ff4dcb89": {
      "model_module": "@jupyter-widgets/controls",
      "model_module_version": "1.4.0",
      "model_name": "DescriptionStyleModel",
      "state": {
       "description_width": ""
      }
     },
     "6e0f8f67d63a49989661514d4e6faafc": {
      "model_module": "@jupyter-widgets/controls",
      "model_module_version": "1.4.0",
      "model_name": "CheckboxModel",
      "state": {
       "disabled": false,
       "layout": "IPY_MODEL_67ac824b573b44b89f49f2ad2de9fcf2",
       "style": "IPY_MODEL_d2f9331e48474252b8d1bb4ea33366ea",
       "value": false
      }
     },
     "6e2329660b334974ad2e3f36a694aab0": {
      "model_module": "@jupyter-widgets/controls",
      "model_module_version": "1.4.0",
      "model_name": "CheckboxModel",
      "state": {
       "disabled": false,
       "layout": "IPY_MODEL_2294ac98c8df4a0e86af5592c7ffe6d7",
       "style": "IPY_MODEL_12fc4d62e5c94bc299139a33d5ea30b6",
       "value": true
      }
     },
     "6e425efa6cac4bc5a753595532e3d69b": {
      "model_module": "@jupyter-widgets/controls",
      "model_module_version": "1.4.0",
      "model_name": "DescriptionStyleModel",
      "state": {
       "description_width": ""
      }
     },
     "6e53058cfbc949609519195f2886af2b": {
      "model_module": "@jupyter-widgets/controls",
      "model_module_version": "1.4.0",
      "model_name": "DescriptionStyleModel",
      "state": {
       "description_width": ""
      }
     },
     "6e6aa64c8ae4408ab2612d26ca71a35e": {
      "model_module": "@jupyter-widgets/controls",
      "model_module_version": "1.4.0",
      "model_name": "DescriptionStyleModel",
      "state": {
       "description_width": ""
      }
     },
     "6eb6d795e47f4660886b90e5351c0adf": {
      "model_module": "@jupyter-widgets/controls",
      "model_module_version": "1.4.0",
      "model_name": "LabelModel",
      "state": {
       "layout": "IPY_MODEL_fcc045e852f94065a45617809536cb1b",
       "style": "IPY_MODEL_5d8281b49db44484865c79ccbc27a6ef",
       "value": "Number Estimators"
      }
     },
     "6ef660d6798d4ab3a1a335035542e42d": {
      "model_module": "@jupyter-widgets/controls",
      "model_module_version": "1.4.0",
      "model_name": "DescriptionStyleModel",
      "state": {
       "description_width": ""
      }
     },
     "6f6d8001098d4b37b093f9161b4c7b94": {
      "model_module": "@jupyter-widgets/controls",
      "model_module_version": "1.4.0",
      "model_name": "DescriptionStyleModel",
      "state": {
       "description_width": ""
      }
     },
     "6f847046d8e74729bb9cd81a5dcd7631": {
      "model_module": "@jupyter-widgets/controls",
      "model_module_version": "1.4.0",
      "model_name": "ButtonModel",
      "state": {
       "button_style": "info",
       "description": "Add model",
       "layout": "IPY_MODEL_6fc3adeec6e44f9fb5dd2cae892c1f6a",
       "style": "IPY_MODEL_f9b2829b5b8e4b749525eed7e1b75d91"
      }
     },
     "6fb69b340c1e4f01be56cf59efdcaab3": {
      "model_module": "@jupyter-widgets/controls",
      "model_module_version": "1.4.0",
      "model_name": "DescriptionStyleModel",
      "state": {
       "description_width": ""
      }
     },
     "6fc3adeec6e44f9fb5dd2cae892c1f6a": {
      "model_module": "@jupyter-widgets/base",
      "model_module_version": "1.1.0",
      "model_name": "LayoutModel",
      "state": {}
     },
     "6fcc017f8d6e4975b5856c21fdf52bee": {
      "model_module": "@jupyter-widgets/controls",
      "model_module_version": "1.4.0",
      "model_name": "DescriptionStyleModel",
      "state": {
       "description_width": ""
      }
     },
     "705c441aa2ba48519fce37932af69e07": {
      "model_module": "@jupyter-widgets/base",
      "model_module_version": "1.1.0",
      "model_name": "LayoutModel",
      "state": {}
     },
     "706db4d4345c439e809e7929da416897": {
      "model_module": "@jupyter-widgets/base",
      "model_module_version": "1.1.0",
      "model_name": "LayoutModel",
      "state": {}
     },
     "708170e46d2647c7bea6778435ad5339": {
      "model_module": "@jupyter-widgets/controls",
      "model_module_version": "1.4.0",
      "model_name": "DescriptionStyleModel",
      "state": {
       "description_width": ""
      }
     },
     "70aab0ba93f0496b903a09915105a450": {
      "model_module": "@jupyter-widgets/controls",
      "model_module_version": "1.4.0",
      "model_name": "VBoxModel",
      "state": {
       "children": [
        "IPY_MODEL_967848ba4fac41068ad94ea175939510",
        "IPY_MODEL_4ecf5cf6d37a450887851a6691d5910a",
        "IPY_MODEL_0b99e775b67448a8b83a37f02b20a715",
        "IPY_MODEL_7208ba5fbabf455aa707bd1543846d23",
        "IPY_MODEL_d10611cbe14b49daad0d25f4ed8fca1d",
        "IPY_MODEL_d8f27735fead4317b1dfe9c6a7f3f12e",
        "IPY_MODEL_f88e343a18ce47c3885951f3f5849195"
       ],
       "layout": "IPY_MODEL_58e7c98619ce4fe78a25d734be69500c"
      }
     },
     "70ab592fdd594ffaa727cba1d82e07cc": {
      "model_module": "@jupyter-widgets/controls",
      "model_module_version": "1.4.0",
      "model_name": "DescriptionStyleModel",
      "state": {
       "description_width": ""
      }
     },
     "70bd1d3dccba4ca4b111a1a9d54760a2": {
      "model_module": "@jupyter-widgets/controls",
      "model_module_version": "1.4.0",
      "model_name": "ButtonModel",
      "state": {
       "button_style": "info",
       "description": "Add model",
       "layout": "IPY_MODEL_5925a6306935479991f2272fc57d9e2e",
       "style": "IPY_MODEL_24c4d6d01e7f4e6ebc98593bacda72f5"
      }
     },
     "70c91f766b2943afa81da95afbd73813": {
      "model_module": "@jupyter-widgets/controls",
      "model_module_version": "1.4.0",
      "model_name": "LabelModel",
      "state": {
       "layout": "IPY_MODEL_57bd132add0249d6bb49458eb8f15b0e",
       "style": "IPY_MODEL_f31bde5a30834971883b4ddec29fcdb7",
       "value": "Sampler"
      }
     },
     "7155d51c905d4c05b69add246edac44e": {
      "model_module": "@jupyter-widgets/output",
      "model_module_version": "1.0.0",
      "model_name": "OutputModel",
      "state": {
       "layout": "IPY_MODEL_ecee33b702e043a38b2d6ad005a273bd",
       "outputs": [
        {
         "data": {
          "text/markdown": "\n- Dataset: **segment**\n- Size: **1000**\n- Model: **dt**\n- Sampler: **rbf**\n- N. estim.: **None**\n        ",
          "text/plain": "<IPython.core.display.Markdown object>"
         },
         "metadata": {},
         "output_type": "display_data"
        },
        {
         "data": {
          "image/png": "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\n",
          "text/plain": "<Figure size 921.6x345.6 with 2 Axes>"
         },
         "metadata": {},
         "output_type": "display_data"
        }
       ]
      }
     },
     "71c26cc6720a485a98e4ad8229bdde42": {
      "model_module": "@jupyter-widgets/controls",
      "model_module_version": "1.4.0",
      "model_name": "VBoxModel",
      "state": {
       "children": [
        "IPY_MODEL_99ce2f3ec47c442c8c9dc5465fd0050d",
        "IPY_MODEL_dbad94ae10874e5f961e2a6e62972b25"
       ],
       "layout": "IPY_MODEL_edc0fac887dd4aad90623b24e6c9eccc"
      }
     },
     "7208ba5fbabf455aa707bd1543846d23": {
      "model_module": "@jupyter-widgets/controls",
      "model_module_version": "1.4.0",
      "model_name": "ButtonModel",
      "state": {
       "button_style": "warning",
       "description": "Remove model",
       "layout": "IPY_MODEL_0efaba74bd1948c191d759cff6e29a17",
       "style": "IPY_MODEL_24ba36800f4a44e2b982b1f9f2c77da0"
      }
     },
     "722d339b20e1492587a777f3ca9912d9": {
      "model_module": "@jupyter-widgets/controls",
      "model_module_version": "1.4.0",
      "model_name": "VBoxModel",
      "state": {
       "children": [
        "IPY_MODEL_01cf361338634d9aa3c65b05ed757715",
        "IPY_MODEL_5cb39b27fd624ebf8dc727527a8caf2a"
       ],
       "layout": "IPY_MODEL_4f340f7348fa4f0486385cf5c3d79280"
      }
     },
     "72ae6119e2bd49adaec18e814f152524": {
      "model_module": "@jupyter-widgets/base",
      "model_module_version": "1.1.0",
      "model_name": "LayoutModel",
      "state": {
       "visibility": "hidden",
       "width": "300px"
      }
     },
     "7368ba2a700e47e6adc4e327d0771755": {
      "model_module": "@jupyter-widgets/output",
      "model_module_version": "1.0.0",
      "model_name": "OutputModel",
      "state": {
       "layout": "IPY_MODEL_e87c4ed978f44b47801d83b4bf2434b9"
      }
     },
     "7372439f835f4711b393e10678cb67d1": {
      "model_module": "@jupyter-widgets/controls",
      "model_module_version": "1.4.0",
      "model_name": "CheckboxModel",
      "state": {
       "disabled": false,
       "layout": "IPY_MODEL_ab295a33aa224f44a69a235082313634",
       "style": "IPY_MODEL_f842f8b416e842c5807c6ed1f21860ff",
       "value": true
      }
     },
     "73a8a83f7ba34981a6773ca1dacc5e2c": {
      "model_module": "@jupyter-widgets/controls",
      "model_module_version": "1.4.0",
      "model_name": "DropdownModel",
      "state": {
       "_options_labels": [
        "None",
        "black",
        "grey"
       ],
       "index": 0,
       "layout": "IPY_MODEL_d909d92920f7487a907206166832cac8",
       "style": "IPY_MODEL_8ea5c3b640244784811fb561671707fa"
      }
     },
     "73b9c793541642c59ffadb83cf6be760": {
      "model_module": "@jupyter-widgets/base",
      "model_module_version": "1.1.0",
      "model_name": "LayoutModel",
      "state": {
       "width": "90px"
      }
     },
     "748ea4cdd80c4ee3a77260f7b23121d5": {
      "model_module": "@jupyter-widgets/controls",
      "model_module_version": "1.4.0",
      "model_name": "DropdownModel",
      "state": {
       "_options_labels": [
        "None",
        "black",
        "grey"
       ],
       "index": 0,
       "layout": "IPY_MODEL_82abb4fcc2014d3da2123cad2d07e9ed",
       "style": "IPY_MODEL_6b2909950d9f409ebf04e49409f1468c"
      }
     },
     "7509560d973a4ebb8e8d484c24a268ae": {
      "model_module": "@jupyter-widgets/controls",
      "model_module_version": "1.4.0",
      "model_name": "DescriptionStyleModel",
      "state": {
       "description_width": ""
      }
     },
     "75706a893a0744a18972994c908aa3b6": {
      "model_module": "@jupyter-widgets/controls",
      "model_module_version": "1.4.0",
      "model_name": "VBoxModel",
      "state": {
       "children": [
        "IPY_MODEL_cc9ad29d6fec4169856e96a9b8011389",
        "IPY_MODEL_808fe331a98f40d39ebcef00b283103b",
        "IPY_MODEL_a0f65b1ae7a14a0f818232fc7c7853a3",
        "IPY_MODEL_f1e66e9ed2884dd3bf1bdce60cfe953b",
        "IPY_MODEL_bfa7121607054b22885b153155c11d1d",
        "IPY_MODEL_dedfe2fc3d3745b5a82cbc3fb6e56c8e",
        "IPY_MODEL_c03f245063694b6fb21a4b58cadfdd45"
       ],
       "layout": "IPY_MODEL_15943fa72b0a43b3b3cae6caace4a3cc"
      }
     },
     "75762d182d9a4514b51da9d0db9d0403": {
      "model_module": "@jupyter-widgets/base",
      "model_module_version": "1.1.0",
      "model_name": "LayoutModel",
      "state": {}
     },
     "75d2a3a7fa61472d8fed9e05a8c41d23": {
      "model_module": "@jupyter-widgets/controls",
      "model_module_version": "1.4.0",
      "model_name": "DropdownModel",
      "state": {
       "_options_labels": [
        "dt",
        "logit",
        "linear_svc"
       ],
       "index": 0,
       "layout": "IPY_MODEL_d909d92920f7487a907206166832cac8",
       "style": "IPY_MODEL_7c6f643f133848c3879bc22fb779b7b2"
      }
     },
     "7610d11513e54d3691b9d841e6cbd819": {
      "model_module": "@jupyter-widgets/controls",
      "model_module_version": "1.4.0",
      "model_name": "SliderStyleModel",
      "state": {
       "description_width": ""
      }
     },
     "762a18764b11426d991e6bdec1c1feda": {
      "model_module": "@jupyter-widgets/controls",
      "model_module_version": "1.4.0",
      "model_name": "IntSliderModel",
      "state": {
       "layout": "IPY_MODEL_af77aeb09ddf4e87a119d7a60e811bfe",
       "max": 200,
       "min": 2,
       "style": "IPY_MODEL_b6feab094ce54e1c8d2436673fd350fc",
       "value": 30
      }
     },
     "766c13b58d9d42d59eea777947223572": {
      "model_module": "@jupyter-widgets/base",
      "model_module_version": "1.1.0",
      "model_name": "LayoutModel",
      "state": {}
     },
     "7695c9630d3d4b6f9ccdb8ae51637aff": {
      "model_module": "@jupyter-widgets/controls",
      "model_module_version": "1.4.0",
      "model_name": "DescriptionStyleModel",
      "state": {
       "description_width": ""
      }
     },
     "76d0ef4c7b9940abbaae21a85720e858": {
      "model_module": "@jupyter-widgets/base",
      "model_module_version": "1.1.0",
      "model_name": "LayoutModel",
      "state": {}
     },
     "777491ec6bda499e87cf6dcc385f7894": {
      "model_module": "@jupyter-widgets/output",
      "model_module_version": "1.0.0",
      "model_name": "OutputModel",
      "state": {
       "layout": "IPY_MODEL_e3a8ce6343494dcbbea09d6e1be1fcc4"
      }
     },
     "7798320cad3c4c2a865bd93afbb773cf": {
      "model_module": "@jupyter-widgets/base",
      "model_module_version": "1.1.0",
      "model_name": "LayoutModel",
      "state": {}
     },
     "77cc1b786fbd495eb47fcee5cfff145c": {
      "model_module": "@jupyter-widgets/output",
      "model_module_version": "1.0.0",
      "model_name": "OutputModel",
      "state": {
       "layout": "IPY_MODEL_14b05d83ab47497382dd20d6d3a442c7"
      }
     },
     "77d47ec1ccb04137af0c06d4122d91e2": {
      "model_module": "@jupyter-widgets/controls",
      "model_module_version": "1.4.0",
      "model_name": "ButtonStyleModel",
      "state": {}
     },
     "77f611da5c6b4ad2ac45dd0e7994168b": {
      "model_module": "@jupyter-widgets/base",
      "model_module_version": "1.1.0",
      "model_name": "LayoutModel",
      "state": {}
     },
     "7819e224f2bc40a78aab96bf8e27f77b": {
      "model_module": "@jupyter-widgets/controls",
      "model_module_version": "1.4.0",
      "model_name": "VBoxModel",
      "state": {
       "children": [
        "IPY_MODEL_8dc14b7cb2da46d083206d430daf3e33",
        "IPY_MODEL_1364bdf0461e4369bbeb121e8ec2f8bd",
        "IPY_MODEL_d8a2e6a71e1948e1b9cb6d47f259b5b1",
        "IPY_MODEL_a0f1a947ca334b67873ea46fe388d3fc",
        "IPY_MODEL_d7a6164d6038467e99c2ccd63d8a8144",
        "IPY_MODEL_5f3d5c0199af4f29b0576dee5afad9b4",
        "IPY_MODEL_24ec5887fcca4990a570290ad01f7749"
       ],
       "layout": "IPY_MODEL_ef5f5f4b2c624b81b54eda489e53c86e"
      }
     },
     "785274e15ec44003ba5b78aa6cd7aed2": {
      "model_module": "@jupyter-widgets/controls",
      "model_module_version": "1.4.0",
      "model_name": "DescriptionStyleModel",
      "state": {
       "description_width": ""
      }
     },
     "78713d50e2d3417ab4ce0e88ec892515": {
      "model_module": "@jupyter-widgets/controls",
      "model_module_version": "1.4.0",
      "model_name": "DescriptionStyleModel",
      "state": {
       "description_width": ""
      }
     },
     "78a039c0ab1345a6a03f4299c2ae38e9": {
      "model_module": "@jupyter-widgets/controls",
      "model_module_version": "1.4.0",
      "model_name": "DropdownModel",
      "state": {
       "_options_labels": [
        "segment",
        "covertype",
        "digits",
        "fall_detection",
        "mnist",
        "pen_digits",
        "satellite",
        "vowel"
       ],
       "description": "Dataset:",
       "index": 0,
       "layout": "IPY_MODEL_461a739f750943e39fcce14252ab4683",
       "style": "IPY_MODEL_49eaf6486f7e4a4c9cfde87cb2bd0904"
      }
     },
     "78e31b9ea28346ab90564e699fd369df": {
      "model_module": "@jupyter-widgets/base",
      "model_module_version": "1.1.0",
      "model_name": "LayoutModel",
      "state": {}
     },
     "78f3cd716ef94dd9a905328c2730d806": {
      "model_module": "@jupyter-widgets/base",
      "model_module_version": "1.1.0",
      "model_name": "LayoutModel",
      "state": {}
     },
     "797665cd21e5476ca3fa856faf5825db": {
      "model_module": "@jupyter-widgets/controls",
      "model_module_version": "1.4.0",
      "model_name": "IntSliderModel",
      "state": {
       "disabled": true,
       "layout": "IPY_MODEL_9f7b0b397b074be9bc50b2830436220d",
       "max": 200,
       "min": 2,
       "style": "IPY_MODEL_6ba617b62eeb4e4aad415b19cb11b044",
       "value": 30
      }
     },
     "79d4165b134544f3b41495a326187601": {
      "model_module": "@jupyter-widgets/controls",
      "model_module_version": "1.4.0",
      "model_name": "IntRangeSliderModel",
      "state": {
       "_model_name": "IntRangeSliderModel",
       "_view_name": "IntRangeSliderView",
       "disabled": true,
       "layout": "IPY_MODEL_ddc06ac38f8d420dbdd9b7154059b2ed",
       "max": 400,
       "min": 30,
       "step": 10,
       "style": "IPY_MODEL_cb2eed11a9504f89ae6545dcd2c1d2a0",
       "value": [
        30,
        100
       ]
      }
     },
     "7aa98f22e82441efaded87a3889087a2": {
      "model_module": "@jupyter-widgets/base",
      "model_module_version": "1.1.0",
      "model_name": "LayoutModel",
      "state": {}
     },
     "7ae92b3af20b48c68909858e77b6505f": {
      "model_module": "@jupyter-widgets/controls",
      "model_module_version": "1.4.0",
      "model_name": "IntRangeSliderModel",
      "state": {
       "_model_name": "IntRangeSliderModel",
       "_view_name": "IntRangeSliderView",
       "disabled": true,
       "layout": "IPY_MODEL_b6995b412836475188313ed5c39b2108",
       "max": 400,
       "min": 30,
       "step": 10,
       "style": "IPY_MODEL_be7a4d386d99485ba913ec8f458988ff",
       "value": [
        30,
        100
       ]
      }
     },
     "7b487c443fc04aeeb23c371389185b20": {
      "model_module": "@jupyter-widgets/controls",
      "model_module_version": "1.4.0",
      "model_name": "DescriptionStyleModel",
      "state": {
       "description_width": ""
      }
     },
     "7b49daa7540f47b1932945ca2039138a": {
      "model_module": "@jupyter-widgets/base",
      "model_module_version": "1.1.0",
      "model_name": "LayoutModel",
      "state": {}
     },
     "7b637debb01245b595e658221d8c348e": {
      "model_module": "@jupyter-widgets/base",
      "model_module_version": "1.1.0",
      "model_name": "LayoutModel",
      "state": {
       "border": "3px solid black"
      }
     },
     "7b791599cda24f74bf9efd3a9934c81d": {
      "model_module": "@jupyter-widgets/controls",
      "model_module_version": "1.4.0",
      "model_name": "DescriptionStyleModel",
      "state": {
       "description_width": ""
      }
     },
     "7b8e5b0995e74b7c8cdff6f7a18a9208": {
      "model_module": "@jupyter-widgets/controls",
      "model_module_version": "1.4.0",
      "model_name": "CheckboxModel",
      "state": {
       "disabled": false,
       "layout": "IPY_MODEL_004f7b1a13734496a782c311a4292739",
       "style": "IPY_MODEL_12fb11e8a8ae4599914af22f7eb9e5f5",
       "value": false
      }
     },
     "7ba7ee68fb4646f283c5c2d43816739e": {
      "model_module": "@jupyter-widgets/base",
      "model_module_version": "1.1.0",
      "model_name": "LayoutModel",
      "state": {}
     },
     "7bbf1e65ff2d4c1ebd14313e1c332665": {
      "model_module": "@jupyter-widgets/base",
      "model_module_version": "1.1.0",
      "model_name": "LayoutModel",
      "state": {}
     },
     "7bfc34b520254ab2b62f86e83240b985": {
      "model_module": "@jupyter-widgets/base",
      "model_module_version": "1.1.0",
      "model_name": "LayoutModel",
      "state": {}
     },
     "7c364f8b60aa4dd199718910c7012255": {
      "model_module": "@jupyter-widgets/controls",
      "model_module_version": "1.4.0",
      "model_name": "RadioButtonsModel",
      "state": {
       "_options_labels": [
        "1000",
        "2000",
        "5000",
        "10000"
       ],
       "description": "Size",
       "index": 0,
       "layout": "IPY_MODEL_6ce5f309ee8e405eb0462e5b25ad9846",
       "style": "IPY_MODEL_8f2f1864517640c79cc834ab31b33168"
      }
     },
     "7c6f643f133848c3879bc22fb779b7b2": {
      "model_module": "@jupyter-widgets/controls",
      "model_module_version": "1.4.0",
      "model_name": "DescriptionStyleModel",
      "state": {
       "description_width": ""
      }
     },
     "7c9c5515f2ba4753937bffe422232b85": {
      "model_module": "@jupyter-widgets/controls",
      "model_module_version": "1.4.0",
      "model_name": "IntSliderModel",
      "state": {
       "description": "N. estim.",
       "layout": "IPY_MODEL_1602e94aa8cf4da0917e0d4187eb8d89",
       "max": 200,
       "min": 2,
       "style": "IPY_MODEL_5aeab9e432544527bcc9b9dd483627e8",
       "value": 30
      }
     },
     "7cd7f6dd528f443a89c7d6a6204bf5fc": {
      "model_module": "@jupyter-widgets/controls",
      "model_module_version": "1.4.0",
      "model_name": "DropdownModel",
      "state": {
       "_options_labels": [
        "None",
        "rbf",
        "nystroem"
       ],
       "index": 1,
       "layout": "IPY_MODEL_fcc361cb214049e2a87feee3fcfc7e81",
       "style": "IPY_MODEL_5e9590fc0d1843e5a8fcb33cb7ccbee4"
      }
     },
     "7ce817d047c4414fab108b14b46a69ba": {
      "model_module": "@jupyter-widgets/controls",
      "model_module_version": "1.4.0",
      "model_name": "IntRangeSliderModel",
      "state": {
       "_model_name": "IntRangeSliderModel",
       "_view_name": "IntRangeSliderView",
       "disabled": true,
       "layout": "IPY_MODEL_2ae976333eb5473fa0a72abb8a7aee0e",
       "max": 400,
       "min": 30,
       "step": 10,
       "style": "IPY_MODEL_994c9273823d41edaaba7224ab617bcd",
       "value": [
        30,
        100
       ]
      }
     },
     "7d0f39ca834a4f9498cb8186375fa286": {
      "model_module": "@jupyter-widgets/controls",
      "model_module_version": "1.4.0",
      "model_name": "SliderStyleModel",
      "state": {
       "description_width": ""
      }
     },
     "7daf63e00bd847818d1483d812ea1f40": {
      "model_module": "@jupyter-widgets/controls",
      "model_module_version": "1.4.0",
      "model_name": "VBoxModel",
      "state": {
       "children": [
        "IPY_MODEL_e008cd2d479a494f8b3886a96734b522",
        "IPY_MODEL_f502f4ca508d401ba086651aaa13bcba"
       ],
       "layout": "IPY_MODEL_d0431759b27845e48e61a36836f58c49"
      }
     },
     "7db17b4808ef46a594b6fe95c2ca6363": {
      "model_module": "@jupyter-widgets/base",
      "model_module_version": "1.1.0",
      "model_name": "LayoutModel",
      "state": {}
     },
     "7dbb0ce1852c44b7b2cdadce689997e0": {
      "model_module": "@jupyter-widgets/controls",
      "model_module_version": "1.4.0",
      "model_name": "HBoxModel",
      "state": {
       "children": [
        "IPY_MODEL_3bfb9768e22d47798c169478ca6adb11",
        "IPY_MODEL_97d8e5d1ccae4c489e2b79de0e07787e",
        "IPY_MODEL_3db2566950cc4630aaabb1efd1ac7977",
        "IPY_MODEL_faa5a4cd7efb4fb7814332ce0686b634",
        "IPY_MODEL_276ae42b53994900807f4252e55bd8ec"
       ],
       "layout": "IPY_MODEL_9e75ddb3635346baa33a2d2e5239725e"
      }
     },
     "7df6ba02baf94fb4b3e11786c6c24dcb": {
      "model_module": "@jupyter-widgets/controls",
      "model_module_version": "1.4.0",
      "model_name": "DescriptionStyleModel",
      "state": {
       "description_width": ""
      }
     },
     "7e0ffe4572f54b05a8501673e65681e9": {
      "model_module": "@jupyter-widgets/base",
      "model_module_version": "1.1.0",
      "model_name": "LayoutModel",
      "state": {}
     },
     "7e81556779c04a7c8522d48f6efd250d": {
      "model_module": "@jupyter-widgets/base",
      "model_module_version": "1.1.0",
      "model_name": "LayoutModel",
      "state": {}
     },
     "7ebc46fa8af24b9db13c8110603a251e": {
      "model_module": "@jupyter-widgets/controls",
      "model_module_version": "1.4.0",
      "model_name": "DescriptionStyleModel",
      "state": {
       "description_width": ""
      }
     },
     "7f350ad4f41940cabf04af2fe6b3c588": {
      "model_module": "@jupyter-widgets/controls",
      "model_module_version": "1.4.0",
      "model_name": "ButtonStyleModel",
      "state": {}
     },
     "7f6d77685e4440abaa5aebd417da27e6": {
      "model_module": "@jupyter-widgets/base",
      "model_module_version": "1.1.0",
      "model_name": "LayoutModel",
      "state": {
       "visibility": "hidden",
       "width": "300px"
      }
     },
     "7f7bcf42c63246e482dbe21641b8fe7f": {
      "model_module": "@jupyter-widgets/controls",
      "model_module_version": "1.4.0",
      "model_name": "VBoxModel",
      "state": {
       "children": [
        "IPY_MODEL_cbbfaa2bf1cc481ab46a7d8aae063062",
        "IPY_MODEL_797665cd21e5476ca3fa856faf5825db"
       ],
       "layout": "IPY_MODEL_fb26407d36f6473aa68d143c048b9943"
      }
     },
     "7fabfeaa8fd1454e9409465e2fd5589b": {
      "model_module": "@jupyter-widgets/controls",
      "model_module_version": "1.4.0",
      "model_name": "RadioButtonsModel",
      "state": {
       "_options_labels": [
        "1000",
        "2000",
        "5000",
        "10000"
       ],
       "description": "Size",
       "index": 0,
       "layout": "IPY_MODEL_50bdf9cbda554e6291c13c91c5b71457",
       "style": "IPY_MODEL_0cd73eef0ded404e85009d797f057008"
      }
     },
     "7fbe01fab82b4e208b085f6b0c8fcf27": {
      "model_module": "@jupyter-widgets/base",
      "model_module_version": "1.1.0",
      "model_name": "LayoutModel",
      "state": {}
     },
     "7fe42c741b6c437f93c44854465daf0b": {
      "model_module": "@jupyter-widgets/controls",
      "model_module_version": "1.4.0",
      "model_name": "DescriptionStyleModel",
      "state": {
       "description_width": ""
      }
     },
     "7feab0b46b6d4ea1884b7b4c07b11302": {
      "model_module": "@jupyter-widgets/base",
      "model_module_version": "1.1.0",
      "model_name": "LayoutModel",
      "state": {}
     },
     "7fef537d70554c3e86daaa6334f5f61a": {
      "model_module": "@jupyter-widgets/controls",
      "model_module_version": "1.4.0",
      "model_name": "DescriptionStyleModel",
      "state": {
       "description_width": ""
      }
     },
     "8010b67ba5d546818c14ff2cc51dbc7f": {
      "model_module": "@jupyter-widgets/controls",
      "model_module_version": "1.4.0",
      "model_name": "DescriptionStyleModel",
      "state": {
       "description_width": ""
      }
     },
     "808fe331a98f40d39ebcef00b283103b": {
      "model_module": "@jupyter-widgets/controls",
      "model_module_version": "1.4.0",
      "model_name": "RadioButtonsModel",
      "state": {
       "_options_labels": [
        "1000",
        "2000",
        "5000",
        "10000"
       ],
       "description": "Size",
       "index": 0,
       "layout": "IPY_MODEL_c38d9062db7844c7a6ebe870501c4106",
       "style": "IPY_MODEL_3e9e1cff4417411a8b8e457f82020844"
      }
     },
     "80e87273b92548228bd6f678bbbd4816": {
      "model_module": "@jupyter-widgets/controls",
      "model_module_version": "1.4.0",
      "model_name": "DropdownModel",
      "state": {
       "_options_labels": [
        "segment",
        "covertype",
        "digits",
        "fall_detection",
        "mnist",
        "pen_digits",
        "satellite",
        "vowel"
       ],
       "description": "Dataset:",
       "index": 0,
       "layout": "IPY_MODEL_94c7cab1ac634060845ed3b2fa547cda",
       "style": "IPY_MODEL_21c35109f7704a9eb770b431f6d24eb7"
      }
     },
     "80ec277274ff4d628a123bca5b159f43": {
      "model_module": "@jupyter-widgets/controls",
      "model_module_version": "1.4.0",
      "model_name": "DropdownModel",
      "state": {
       "_options_labels": [
        "dt",
        "logit",
        "linear_svc"
       ],
       "index": 0,
       "layout": "IPY_MODEL_379d81ff93b04576bdd7479398bd3506",
       "style": "IPY_MODEL_e32db508ef8e4c7fbaecc9d7489d8a2f"
      }
     },
     "812337d658b9425b8ca2c22167090260": {
      "model_module": "@jupyter-widgets/controls",
      "model_module_version": "1.4.0",
      "model_name": "LabelModel",
      "state": {
       "layout": "IPY_MODEL_67fd447ae2e94fe29aa832263e9c1030",
       "style": "IPY_MODEL_e1ca94d7b38a4484ad3254602d18c13e",
       "value": "Box Type"
      }
     },
     "81302ee43a664ba0b5384d434411299e": {
      "model_module": "@jupyter-widgets/base",
      "model_module_version": "1.1.0",
      "model_name": "LayoutModel",
      "state": {}
     },
     "815f79784abf4cd6ad564d1daef24691": {
      "model_module": "@jupyter-widgets/base",
      "model_module_version": "1.1.0",
      "model_name": "LayoutModel",
      "state": {}
     },
     "819a4c26d9e94e93af63bc5d22f4a7a2": {
      "model_module": "@jupyter-widgets/base",
      "model_module_version": "1.1.0",
      "model_name": "LayoutModel",
      "state": {}
     },
     "81a4ba7b6a6e45edb65a41b1dad8e836": {
      "model_module": "@jupyter-widgets/controls",
      "model_module_version": "1.4.0",
      "model_name": "LabelModel",
      "state": {
       "layout": "IPY_MODEL_57ab4d38b99441f186fd0d2a26d47553",
       "style": "IPY_MODEL_5d78fb2be66c4ed89c7993eebf54ea28",
       "value": "Number Estimators"
      }
     },
     "822dca99ef0f4433a901fc95313a30c2": {
      "model_module": "@jupyter-widgets/controls",
      "model_module_version": "1.4.0",
      "model_name": "SliderStyleModel",
      "state": {
       "description_width": ""
      }
     },
     "82683dc1dbc44d8888d4a471c051c75c": {
      "model_module": "@jupyter-widgets/controls",
      "model_module_version": "1.4.0",
      "model_name": "VBoxModel",
      "state": {
       "children": [
        "IPY_MODEL_61c429ffa6534b7b9eef1dddda252fff",
        "IPY_MODEL_30cf02598ddb4a3cbe21d63a21ae7cfb"
       ],
       "layout": "IPY_MODEL_0b47171ca25c4ed186c7ce793fc3650c"
      }
     },
     "827ad959141e46fab8fc58109e093aaa": {
      "model_module": "@jupyter-widgets/controls",
      "model_module_version": "1.4.0",
      "model_name": "LabelModel",
      "state": {
       "layout": "IPY_MODEL_d15e6eb0142e421d9ef5f24ad67c6847",
       "style": "IPY_MODEL_6e425efa6cac4bc5a753595532e3d69b",
       "value": "Number Estimators"
      }
     },
     "82abb4fcc2014d3da2123cad2d07e9ed": {
      "model_module": "@jupyter-widgets/base",
      "model_module_version": "1.1.0",
      "model_name": "LayoutModel",
      "state": {
       "width": "90px"
      }
     },
     "82fed45531764a01baa9fa0f8373fd45": {
      "model_module": "@jupyter-widgets/controls",
      "model_module_version": "1.4.0",
      "model_name": "LabelModel",
      "state": {
       "layout": "IPY_MODEL_04337e68327c4ad68226ee02b8e75eaa",
       "style": "IPY_MODEL_556455be03e94f14a575baa876bbc988",
       "value": "Box Type"
      }
     },
     "8319b3209b384f6a856e83ce31932c8f": {
      "model_module": "@jupyter-widgets/controls",
      "model_module_version": "1.4.0",
      "model_name": "VBoxModel",
      "state": {
       "children": [
        "IPY_MODEL_d3fa6935cec44d32bef43fafbc07ebdd",
        "IPY_MODEL_d59633cd307b4fad94215c67f7b35ad6"
       ],
       "layout": "IPY_MODEL_e08e3d2ca368428c93273f5d3f5c746f"
      }
     },
     "835a0b3d741e4637806ef64a92cfea31": {
      "model_module": "@jupyter-widgets/controls",
      "model_module_version": "1.4.0",
      "model_name": "DescriptionStyleModel",
      "state": {
       "description_width": ""
      }
     },
     "837589c91f95489da9f046563664544e": {
      "model_module": "@jupyter-widgets/base",
      "model_module_version": "1.1.0",
      "model_name": "LayoutModel",
      "state": {}
     },
     "839ee30526b2430abef61d2c9f57dd4f": {
      "model_module": "@jupyter-widgets/controls",
      "model_module_version": "1.4.0",
      "model_name": "IntSliderModel",
      "state": {
       "disabled": true,
       "layout": "IPY_MODEL_50d9f59828c24e248f6cb5c38e2d7f84",
       "max": 200,
       "min": 2,
       "style": "IPY_MODEL_314b07240ed345fe8134c0db1c495850",
       "value": 30
      }
     },
     "83cbe9f7dd664959a88a8e2af1c53026": {
      "model_module": "@jupyter-widgets/controls",
      "model_module_version": "1.4.0",
      "model_name": "DropdownModel",
      "state": {
       "_options_labels": [
        "None",
        "rbf",
        "nystroem"
       ],
       "index": 0,
       "layout": "IPY_MODEL_086c2e7ee47942d4a2901451d3e48f1a",
       "style": "IPY_MODEL_00c1d9bfbf3f40f4a9387af07e201507"
      }
     },
     "83e2e5eb0bd24be4b4291e0ddb29795b": {
      "model_module": "@jupyter-widgets/controls",
      "model_module_version": "1.4.0",
      "model_name": "ButtonStyleModel",
      "state": {}
     },
     "83e5778bc6974a4fb7c048566f15bb02": {
      "model_module": "@jupyter-widgets/base",
      "model_module_version": "1.1.0",
      "model_name": "LayoutModel",
      "state": {}
     },
     "842259026ca147799bf5e5c510903555": {
      "model_module": "@jupyter-widgets/controls",
      "model_module_version": "1.4.0",
      "model_name": "DescriptionStyleModel",
      "state": {
       "description_width": ""
      }
     },
     "8435610b00954c07afd6694d5748b507": {
      "model_module": "@jupyter-widgets/controls",
      "model_module_version": "1.4.0",
      "model_name": "VBoxModel",
      "state": {
       "children": [
        "IPY_MODEL_5b7b5bd8f74a487f888e45809993acce",
        "IPY_MODEL_f5d47d505f0f478880b0b6aa25f3fe52",
        "IPY_MODEL_db48953d7fe34a95af42395f9ceec4a8",
        "IPY_MODEL_b6e51290f4da4b08b067f7a5c877ec47",
        "IPY_MODEL_1bf4e96d64224df79be5868ecf493464",
        "IPY_MODEL_de4f67bc23f446c2a6016703529bb352",
        "IPY_MODEL_d1323f936b42400f90abe0f31d932c94"
       ],
       "layout": "IPY_MODEL_66b5411107a246318528161a42a80d4d"
      }
     },
     "85441311995c4489bee2fc4a835c8313": {
      "model_module": "@jupyter-widgets/controls",
      "model_module_version": "1.4.0",
      "model_name": "DropdownModel",
      "state": {
       "_options_labels": [
        "dt",
        "logit",
        "linear_svc"
       ],
       "index": 1,
       "layout": "IPY_MODEL_b028aa16c51a47edb4bb7f6185eed36f",
       "style": "IPY_MODEL_ac895c1972d74a79b9bda2b57407dee1"
      }
     },
     "8552bbfd8c2047f9939ccb19b73395e1": {
      "model_module": "@jupyter-widgets/controls",
      "model_module_version": "1.4.0",
      "model_name": "DescriptionStyleModel",
      "state": {
       "description_width": ""
      }
     },
     "85a19525558d4beda72ca5b34b6850aa": {
      "model_module": "@jupyter-widgets/controls",
      "model_module_version": "1.4.0",
      "model_name": "ButtonModel",
      "state": {
       "button_style": "info",
       "description": "Add model",
       "layout": "IPY_MODEL_61ef0a5b2d184f9ca9fd0ccebe6abb1c",
       "style": "IPY_MODEL_f0da26efe08446e09004304ba17d8ca6"
      }
     },
     "85a9b417b58d42f2859eac9603a92946": {
      "model_module": "@jupyter-widgets/controls",
      "model_module_version": "1.4.0",
      "model_name": "RadioButtonsModel",
      "state": {
       "_options_labels": [
        "1000",
        "2000",
        "5000",
        "10000"
       ],
       "description": "Size",
       "index": 0,
       "layout": "IPY_MODEL_4acb6d8e8bd34050918b8a436be76098",
       "style": "IPY_MODEL_64facd6e8be84c6aa988c0197918f138"
      }
     },
     "85c530e33d374ca097a7d50d0eae9061": {
      "model_module": "@jupyter-widgets/controls",
      "model_module_version": "1.4.0",
      "model_name": "SliderStyleModel",
      "state": {
       "description_width": ""
      }
     },
     "85e92dacd3e24559aa88a4c59ca26934": {
      "model_module": "@jupyter-widgets/controls",
      "model_module_version": "1.4.0",
      "model_name": "VBoxModel",
      "state": {
       "children": [
        "IPY_MODEL_827ad959141e46fab8fc58109e093aaa",
        "IPY_MODEL_1f91bb4178014f8b9abb2699c8520780"
       ],
       "layout": "IPY_MODEL_92e71308dddf438580a309e0ee651629"
      }
     },
     "86130186524847b7b3163ca668ae8d75": {
      "model_module": "@jupyter-widgets/base",
      "model_module_version": "1.1.0",
      "model_name": "LayoutModel",
      "state": {}
     },
     "862c6350b93c4b4c856d1cc706f89cf3": {
      "model_module": "@jupyter-widgets/base",
      "model_module_version": "1.1.0",
      "model_name": "LayoutModel",
      "state": {}
     },
     "862dff53304b4eb1a611cf4537db021f": {
      "model_module": "@jupyter-widgets/base",
      "model_module_version": "1.1.0",
      "model_name": "LayoutModel",
      "state": {}
     },
     "86b46b5b46ce42bcaaad98ba1a6196ae": {
      "model_module": "@jupyter-widgets/controls",
      "model_module_version": "1.4.0",
      "model_name": "ButtonModel",
      "state": {
       "button_style": "info",
       "description": "Demo0",
       "layout": "IPY_MODEL_38b6588d891748fabf14bab425c9cb6e",
       "style": "IPY_MODEL_59cc7a1d08f2476487a6f40c4392a585"
      }
     },
     "86f0fa95b28447039dce0ac02bd03eeb": {
      "model_module": "@jupyter-widgets/base",
      "model_module_version": "1.1.0",
      "model_name": "LayoutModel",
      "state": {}
     },
     "876c60a8890b48758966466fe3e8f679": {
      "model_module": "@jupyter-widgets/controls",
      "model_module_version": "1.4.0",
      "model_name": "SliderStyleModel",
      "state": {
       "description_width": ""
      }
     },
     "87b63e3000464f2da2fe092cdcfaab3b": {
      "model_module": "@jupyter-widgets/base",
      "model_module_version": "1.1.0",
      "model_name": "LayoutModel",
      "state": {}
     },
     "87dcd999dba6443096bb5fdd97016110": {
      "model_module": "@jupyter-widgets/base",
      "model_module_version": "1.1.0",
      "model_name": "LayoutModel",
      "state": {}
     },
     "87f19fec02004e6bafde5c2506cb3177": {
      "model_module": "@jupyter-widgets/controls",
      "model_module_version": "1.4.0",
      "model_name": "VBoxModel",
      "state": {
       "children": [
        "IPY_MODEL_70c91f766b2943afa81da95afbd73813",
        "IPY_MODEL_d5e821b35b784352ad0465b0f5db4831"
       ],
       "layout": "IPY_MODEL_09324221e9724fbd80af39ebc15db198"
      }
     },
     "8829a6c9574b49778a20c14e69ba3f4e": {
      "model_module": "@jupyter-widgets/base",
      "model_module_version": "1.1.0",
      "model_name": "LayoutModel",
      "state": {}
     },
     "882b0b07226c4c79936819f4bcca057a": {
      "model_module": "@jupyter-widgets/base",
      "model_module_version": "1.1.0",
      "model_name": "LayoutModel",
      "state": {}
     },
     "882f7011842a4035badd4a1b567fd6f1": {
      "model_module": "@jupyter-widgets/base",
      "model_module_version": "1.1.0",
      "model_name": "LayoutModel",
      "state": {}
     },
     "8865256c6eea4779be33544946f18f16": {
      "model_module": "@jupyter-widgets/base",
      "model_module_version": "1.1.0",
      "model_name": "LayoutModel",
      "state": {}
     },
     "8881b65365d24ddb99c723fc6343909e": {
      "model_module": "@jupyter-widgets/controls",
      "model_module_version": "1.4.0",
      "model_name": "VBoxModel",
      "state": {
       "children": [
        "IPY_MODEL_e800610409d145bba77e8d03b8734fc0",
        "IPY_MODEL_5f543844400b4db485e8f0cd676f571a",
        "IPY_MODEL_85a19525558d4beda72ca5b34b6850aa",
        "IPY_MODEL_2f6ca9ccfee84079951ad413e1c35bc5",
        "IPY_MODEL_79d4165b134544f3b41495a326187601",
        "IPY_MODEL_ebc7fb338f4a4b72ad8273877de6d258",
        "IPY_MODEL_fa97f80fd97046c3970e1ce4fb7bbfc4"
       ],
       "layout": "IPY_MODEL_c478278830f9485e98c9aab3fa5bb5d9"
      }
     },
     "88ff0873c1054e49ace28cba7bbf38b5": {
      "model_module": "@jupyter-widgets/controls",
      "model_module_version": "1.4.0",
      "model_name": "IntRangeSliderModel",
      "state": {
       "_model_name": "IntRangeSliderModel",
       "_view_name": "IntRangeSliderView",
       "description": "Features",
       "layout": "IPY_MODEL_4952d454d40949c59ce6a92e40e9eb7a",
       "max": 400,
       "min": 30,
       "step": 10,
       "style": "IPY_MODEL_876c60a8890b48758966466fe3e8f679",
       "value": [
        30,
        100
       ]
      }
     },
     "896545a7075949048ca501731ba6559f": {
      "model_module": "@jupyter-widgets/controls",
      "model_module_version": "1.4.0",
      "model_name": "SliderStyleModel",
      "state": {
       "description_width": ""
      }
     },
     "89d9604255af40dc95134ea310e4f609": {
      "model_module": "@jupyter-widgets/controls",
      "model_module_version": "1.4.0",
      "model_name": "SliderStyleModel",
      "state": {
       "description_width": ""
      }
     },
     "8a893579deeb4ff6bbcfbe54bc0cd25f": {
      "model_module": "@jupyter-widgets/base",
      "model_module_version": "1.1.0",
      "model_name": "LayoutModel",
      "state": {}
     },
     "8b0152bfbc5c424cbff385fe9a9a5c3b": {
      "model_module": "@jupyter-widgets/base",
      "model_module_version": "1.1.0",
      "model_name": "LayoutModel",
      "state": {}
     },
     "8b85c81c520640faa740d9c4234bb1f8": {
      "model_module": "@jupyter-widgets/base",
      "model_module_version": "1.1.0",
      "model_name": "LayoutModel",
      "state": {
       "border": "3px solid black"
      }
     },
     "8b91e38c918845bfb8e61707df8a6fca": {
      "model_module": "@jupyter-widgets/base",
      "model_module_version": "1.1.0",
      "model_name": "LayoutModel",
      "state": {}
     },
     "8bd1a0e8f7274ce1a383e7a88a6d3107": {
      "model_module": "@jupyter-widgets/controls",
      "model_module_version": "1.4.0",
      "model_name": "DescriptionStyleModel",
      "state": {
       "description_width": ""
      }
     },
     "8c13cdb3c08b464f87ef0635d98844c2": {
      "model_module": "@jupyter-widgets/controls",
      "model_module_version": "1.4.0",
      "model_name": "IntRangeSliderModel",
      "state": {
       "_model_name": "IntRangeSliderModel",
       "_view_name": "IntRangeSliderView",
       "disabled": true,
       "layout": "IPY_MODEL_d759ba3e8acb432c85a4eee2d4b0de0a",
       "max": 400,
       "min": 30,
       "step": 10,
       "style": "IPY_MODEL_e717a584d0a44d7fa75f880008cf3be3",
       "value": [
        30,
        100
       ]
      }
     },
     "8c4c10bbb9dd4ea38fd92ac205dac6ba": {
      "model_module": "@jupyter-widgets/base",
      "model_module_version": "1.1.0",
      "model_name": "LayoutModel",
      "state": {}
     },
     "8caf007cf60d4c6cae74b51fd3f72300": {
      "model_module": "@jupyter-widgets/controls",
      "model_module_version": "1.4.0",
      "model_name": "DropdownModel",
      "state": {
       "_options_labels": [
        "segment",
        "covertype",
        "digits",
        "fall_detection",
        "mnist",
        "pen_digits",
        "satellite",
        "vowel"
       ],
       "description": "Dataset:",
       "index": 0,
       "layout": "IPY_MODEL_940680764bb94f17991c63896171dc1c",
       "style": "IPY_MODEL_feecc4a4e3194d7188ddc866d08c254f"
      }
     },
     "8cb9402adf70477792f5fa1eb9d1710c": {
      "model_module": "@jupyter-widgets/controls",
      "model_module_version": "1.4.0",
      "model_name": "DropdownModel",
      "state": {
       "_options_labels": [
        "dt",
        "logit",
        "linear_svc"
       ],
       "index": 0,
       "layout": "IPY_MODEL_6560937d18794997bbf973e31e7323d6",
       "style": "IPY_MODEL_785274e15ec44003ba5b78aa6cd7aed2"
      }
     },
     "8cbbbeda02354429b8f21ac8e7634053": {
      "model_module": "@jupyter-widgets/controls",
      "model_module_version": "1.4.0",
      "model_name": "DropdownModel",
      "state": {
       "_options_labels": [
        "dt",
        "logit",
        "linear_svc"
       ],
       "index": 1,
       "layout": "IPY_MODEL_fcc361cb214049e2a87feee3fcfc7e81",
       "style": "IPY_MODEL_3261a2ac648a4b009d1fcc83e752d06f"
      }
     },
     "8cc8e897570d447182dc7293fbe1562a": {
      "model_module": "@jupyter-widgets/controls",
      "model_module_version": "1.4.0",
      "model_name": "IntRangeSliderModel",
      "state": {
       "_model_name": "IntRangeSliderModel",
       "_view_name": "IntRangeSliderView",
       "layout": "IPY_MODEL_03fdcb3475c14eb1aa29c5a56828bf6d",
       "max": 400,
       "min": 30,
       "step": 10,
       "style": "IPY_MODEL_b5167d78e509459bb5ce7481602673a4",
       "value": [
        30,
        100
       ]
      }
     },
     "8ce7e3bbfc33428b8d88fbc7e6486553": {
      "model_module": "@jupyter-widgets/controls",
      "model_module_version": "1.4.0",
      "model_name": "ButtonModel",
      "state": {
       "button_style": "warning",
       "description": "Remove model",
       "layout": "IPY_MODEL_7798320cad3c4c2a865bd93afbb773cf",
       "style": "IPY_MODEL_44b5d2921c714b22986072b65183e372"
      }
     },
     "8cfd87baa4e04903b302f932c9f5c02a": {
      "model_module": "@jupyter-widgets/controls",
      "model_module_version": "1.4.0",
      "model_name": "LabelModel",
      "state": {
       "layout": "IPY_MODEL_25f81f0ca5a543cda2aa6fa786041d75",
       "style": "IPY_MODEL_19bba096fb834bcc82bea87fbafe19c7",
       "value": "PCA?"
      }
     },
     "8d2fb5104a494b019d6a43502294bbd6": {
      "model_module": "@jupyter-widgets/controls",
      "model_module_version": "1.4.0",
      "model_name": "DescriptionStyleModel",
      "state": {
       "description_width": ""
      }
     },
     "8d421d28925a44b8af90a0ee0241effb": {
      "model_module": "@jupyter-widgets/controls",
      "model_module_version": "1.4.0",
      "model_name": "DescriptionStyleModel",
      "state": {
       "description_width": ""
      }
     },
     "8d4baba6932842a39be65ec7f9065781": {
      "model_module": "@jupyter-widgets/controls",
      "model_module_version": "1.4.0",
      "model_name": "VBoxModel",
      "state": {
       "children": [
        "IPY_MODEL_575bbb37e5c8428e96bf79eb3fd3bf08",
        "IPY_MODEL_9ac6d56284284e4792efe5631bfaf4b7"
       ],
       "layout": "IPY_MODEL_837589c91f95489da9f046563664544e"
      }
     },
     "8dc14b7cb2da46d083206d430daf3e33": {
      "model_module": "@jupyter-widgets/controls",
      "model_module_version": "1.4.0",
      "model_name": "DropdownModel",
      "state": {
       "_options_labels": [
        "segment",
        "covertype",
        "digits",
        "fall_detection",
        "mnist",
        "pen_digits",
        "satellite",
        "vowel"
       ],
       "description": "Dataset:",
       "index": 0,
       "layout": "IPY_MODEL_9c2a1cc8844e47248cdd28cd34b02d5d",
       "style": "IPY_MODEL_deaa321242d74a1daf35ee654cfadb4f"
      }
     },
     "8e46be4306a344a782b6139d99621245": {
      "model_module": "@jupyter-widgets/base",
      "model_module_version": "1.1.0",
      "model_name": "LayoutModel",
      "state": {}
     },
     "8e65ca27975b4902a84f2c8243e76290": {
      "model_module": "@jupyter-widgets/controls",
      "model_module_version": "1.4.0",
      "model_name": "SliderStyleModel",
      "state": {
       "description_width": ""
      }
     },
     "8e92bc5b322741b7ad97ced29c9c0e45": {
      "model_module": "@jupyter-widgets/base",
      "model_module_version": "1.1.0",
      "model_name": "LayoutModel",
      "state": {}
     },
     "8ea5c3b640244784811fb561671707fa": {
      "model_module": "@jupyter-widgets/controls",
      "model_module_version": "1.4.0",
      "model_name": "DescriptionStyleModel",
      "state": {
       "description_width": ""
      }
     },
     "8f2f1864517640c79cc834ab31b33168": {
      "model_module": "@jupyter-widgets/controls",
      "model_module_version": "1.4.0",
      "model_name": "DescriptionStyleModel",
      "state": {
       "description_width": ""
      }
     },
     "8f771bb5fdfb44f6bc0a0e183cf641b8": {
      "model_module": "@jupyter-widgets/controls",
      "model_module_version": "1.4.0",
      "model_name": "DropdownModel",
      "state": {
       "_options_labels": [
        "None",
        "black",
        "grey"
       ],
       "index": 0,
       "layout": "IPY_MODEL_086c2e7ee47942d4a2901451d3e48f1a",
       "style": "IPY_MODEL_a2dc6ecebdf94cdd9b7fb04457b842e4"
      }
     },
     "8fcdd190fe01401aa87175984e423cac": {
      "model_module": "@jupyter-widgets/controls",
      "model_module_version": "1.4.0",
      "model_name": "DropdownModel",
      "state": {
       "_options_labels": [
        "dt",
        "logit",
        "linear_svc"
       ],
       "description": "Model",
       "index": 0,
       "layout": "IPY_MODEL_39a4ed56205a4dda936dd5e5a2d72822",
       "style": "IPY_MODEL_f5f3481a9e3c4d53b8633ba95f8aa4c7"
      }
     },
     "900d004cc3c04e7896af987877759330": {
      "model_module": "@jupyter-widgets/output",
      "model_module_version": "1.0.0",
      "model_name": "OutputModel",
      "state": {
       "layout": "IPY_MODEL_81302ee43a664ba0b5384d434411299e"
      }
     },
     "905a80b8cbf74691b7a3fe1786a00d12": {
      "model_module": "@jupyter-widgets/controls",
      "model_module_version": "1.4.0",
      "model_name": "DropdownModel",
      "state": {
       "_options_labels": [
        "None",
        "black",
        "grey"
       ],
       "index": 0,
       "layout": "IPY_MODEL_4c1a3207ce0a49ffac85b3587d3975e2",
       "style": "IPY_MODEL_e88d0f7ba1f04e8d9dde6f333b9c2da7"
      }
     },
     "909fdabf1ef44a689b537937f67ee7e0": {
      "model_module": "@jupyter-widgets/controls",
      "model_module_version": "1.4.0",
      "model_name": "DescriptionStyleModel",
      "state": {
       "description_width": ""
      }
     },
     "90d0595ca01c4364a04827880eb98b39": {
      "model_module": "@jupyter-widgets/controls",
      "model_module_version": "1.4.0",
      "model_name": "LabelModel",
      "state": {
       "layout": "IPY_MODEL_42abc4e20d494966be5274f686fb7297",
       "style": "IPY_MODEL_0efd0cb429f9412f9f1c0786842b4817",
       "value": "Model"
      }
     },
     "913ce892f38e4be288f81001da8cb542": {
      "model_module": "@jupyter-widgets/base",
      "model_module_version": "1.1.0",
      "model_name": "LayoutModel",
      "state": {}
     },
     "9153d97be66b4bd086af28257873a241": {
      "model_module": "@jupyter-widgets/controls",
      "model_module_version": "1.4.0",
      "model_name": "CheckboxModel",
      "state": {
       "disabled": false,
       "layout": "IPY_MODEL_512132f0bbe94e489e55f5c7780eb847",
       "style": "IPY_MODEL_24f96a87fabb4e4a8b2c52e51f62e485",
       "value": false
      }
     },
     "9163f1e7c07d472a9931bc3feb2fb2fb": {
      "model_module": "@jupyter-widgets/base",
      "model_module_version": "1.1.0",
      "model_name": "LayoutModel",
      "state": {}
     },
     "920c886605bc4781a38b6b866c72feee": {
      "model_module": "@jupyter-widgets/controls",
      "model_module_version": "1.4.0",
      "model_name": "LabelModel",
      "state": {
       "layout": "IPY_MODEL_984bc15b19d2452fbd5f2f8d61b93644",
       "style": "IPY_MODEL_1ae1dd4da56a4fc38a593868869d6d09",
       "value": "Model"
      }
     },
     "92141ea9dbc74250bf9267941f9963f6": {
      "model_module": "@jupyter-widgets/controls",
      "model_module_version": "1.4.0",
      "model_name": "DescriptionStyleModel",
      "state": {
       "description_width": ""
      }
     },
     "9287bc3be4b34e8fb8b64c1fe7acc918": {
      "model_module": "@jupyter-widgets/base",
      "model_module_version": "1.1.0",
      "model_name": "LayoutModel",
      "state": {}
     },
     "92b58d1f61b54b0895e1b83c5f0875df": {
      "model_module": "@jupyter-widgets/controls",
      "model_module_version": "1.4.0",
      "model_name": "DropdownModel",
      "state": {
       "_options_labels": [
        "None",
        "rbf",
        "nystroem"
       ],
       "index": 0,
       "layout": "IPY_MODEL_82abb4fcc2014d3da2123cad2d07e9ed",
       "style": "IPY_MODEL_585c0fbd7dd046dabd1d54b4d259733e"
      }
     },
     "92cd19bd3e234f0a8104095d179ea212": {
      "model_module": "@jupyter-widgets/controls",
      "model_module_version": "1.4.0",
      "model_name": "VBoxModel",
      "state": {
       "children": [
        "IPY_MODEL_3868e22967414943ae666058d2743448",
        "IPY_MODEL_6e0f8f67d63a49989661514d4e6faafc"
       ],
       "layout": "IPY_MODEL_c151013b52de41939e3f1406aff52cd0"
      }
     },
     "92d00eaafed64083bec37473850d958d": {
      "model_module": "@jupyter-widgets/controls",
      "model_module_version": "1.4.0",
      "model_name": "DescriptionStyleModel",
      "state": {
       "description_width": ""
      }
     },
     "92e15fb2632244908fa7a4c95d6f0844": {
      "model_module": "@jupyter-widgets/base",
      "model_module_version": "1.1.0",
      "model_name": "LayoutModel",
      "state": {}
     },
     "92e71308dddf438580a309e0ee651629": {
      "model_module": "@jupyter-widgets/base",
      "model_module_version": "1.1.0",
      "model_name": "LayoutModel",
      "state": {}
     },
     "92f168d8d5714aaa8aede698edc3e581": {
      "model_module": "@jupyter-widgets/controls",
      "model_module_version": "1.4.0",
      "model_name": "LabelModel",
      "state": {
       "layout": "IPY_MODEL_baac565067314bd69ca9d9e94347d848",
       "style": "IPY_MODEL_51c3026f1f9a4621b4fb7081af5b3d7d",
       "value": "PCA?"
      }
     },
     "93321f3ad7e346bf8c1d947c431e14b1": {
      "model_module": "@jupyter-widgets/base",
      "model_module_version": "1.1.0",
      "model_name": "LayoutModel",
      "state": {}
     },
     "933740460fcb4ca1b3d5a02836364b25": {
      "model_module": "@jupyter-widgets/controls",
      "model_module_version": "1.4.0",
      "model_name": "DescriptionStyleModel",
      "state": {
       "description_width": ""
      }
     },
     "93560746381248d987ada57b008acecc": {
      "model_module": "@jupyter-widgets/base",
      "model_module_version": "1.1.0",
      "model_name": "LayoutModel",
      "state": {}
     },
     "93aa2da85ff64a7888ac4aa36f89dcc8": {
      "model_module": "@jupyter-widgets/controls",
      "model_module_version": "1.4.0",
      "model_name": "VBoxModel",
      "state": {
       "children": [
        "IPY_MODEL_78a039c0ab1345a6a03f4299c2ae38e9",
        "IPY_MODEL_6b713f79c2a349d18c2e64191c041657",
        "IPY_MODEL_016a4fb86fca4e82ab53ce9bd17b7ca2",
        "IPY_MODEL_bc09fbf009504a66b5af7063ffcaac3b",
        "IPY_MODEL_7ce817d047c4414fab108b14b46a69ba",
        "IPY_MODEL_b1f2575140d245d5b1b6ec8fddd687f1",
        "IPY_MODEL_3f0af7a462234b41bc2e1a5ff5ec7081"
       ],
       "layout": "IPY_MODEL_8865256c6eea4779be33544946f18f16"
      }
     },
     "940680764bb94f17991c63896171dc1c": {
      "model_module": "@jupyter-widgets/base",
      "model_module_version": "1.1.0",
      "model_name": "LayoutModel",
      "state": {}
     },
     "940f40dacbf6467da894e67edd66c48c": {
      "model_module": "@jupyter-widgets/controls",
      "model_module_version": "1.4.0",
      "model_name": "DescriptionStyleModel",
      "state": {
       "description_width": ""
      }
     },
     "94277ea1c9ab4272873437b246559d03": {
      "model_module": "@jupyter-widgets/controls",
      "model_module_version": "1.4.0",
      "model_name": "DropdownModel",
      "state": {
       "_options_labels": [
        "segment",
        "covertype",
        "digits",
        "fall_detection",
        "mnist",
        "pen_digits",
        "satellite",
        "vowel"
       ],
       "description": "Dataset:",
       "index": 0,
       "layout": "IPY_MODEL_d0cfa65f79cd47a7aa33a003ff86e4fe",
       "style": "IPY_MODEL_54ad0fa07ac645319849712bd70cce31"
      }
     },
     "94440a60093843ffb4601207684fe629": {
      "model_module": "@jupyter-widgets/base",
      "model_module_version": "1.1.0",
      "model_name": "LayoutModel",
      "state": {}
     },
     "9456dabd3850483c8767527825ab8cf3": {
      "model_module": "@jupyter-widgets/controls",
      "model_module_version": "1.4.0",
      "model_name": "RadioButtonsModel",
      "state": {
       "_options_labels": [
        "1000",
        "2000",
        "5000",
        "10000"
       ],
       "description": "Size",
       "index": 0,
       "layout": "IPY_MODEL_9e8c8a6ff59846688730bece4321f178",
       "style": "IPY_MODEL_66d2ac92b2254ae1a06ee5c760e55a6a"
      }
     },
     "94587a82eda941448656edcfb0bcde70": {
      "model_module": "@jupyter-widgets/controls",
      "model_module_version": "1.4.0",
      "model_name": "ButtonStyleModel",
      "state": {}
     },
     "94621f4d33cc4f69b999738457b0cc02": {
      "model_module": "@jupyter-widgets/controls",
      "model_module_version": "1.4.0",
      "model_name": "SliderStyleModel",
      "state": {
       "description_width": ""
      }
     },
     "94c0def97ceb4638bccc3ada405c8773": {
      "model_module": "@jupyter-widgets/controls",
      "model_module_version": "1.4.0",
      "model_name": "DescriptionStyleModel",
      "state": {
       "description_width": ""
      }
     },
     "94c7cab1ac634060845ed3b2fa547cda": {
      "model_module": "@jupyter-widgets/base",
      "model_module_version": "1.1.0",
      "model_name": "LayoutModel",
      "state": {}
     },
     "95041259d7bf42e9bd187d565ae8ef93": {
      "model_module": "@jupyter-widgets/controls",
      "model_module_version": "1.4.0",
      "model_name": "IntSliderModel",
      "state": {
       "description": "N. estim.",
       "layout": "IPY_MODEL_862c6350b93c4b4c856d1cc706f89cf3",
       "max": 200,
       "min": 2,
       "style": "IPY_MODEL_070c5850db5249eb8c652dd2fa296d1f",
       "value": 30
      }
     },
     "95c2a5245f784bb7b97f0b63123e2163": {
      "model_module": "@jupyter-widgets/controls",
      "model_module_version": "1.4.0",
      "model_name": "DropdownModel",
      "state": {
       "_options_labels": [
        "dt",
        "logit",
        "linear_svc"
       ],
       "index": 0,
       "layout": "IPY_MODEL_64e7917a1a4c4a8e969b3daa8cf39ca2",
       "style": "IPY_MODEL_1ac5342688854506a7479b8cf548317c"
      }
     },
     "95cbd44399f448c8af254b120f85446d": {
      "model_module": "@jupyter-widgets/controls",
      "model_module_version": "1.4.0",
      "model_name": "LabelModel",
      "state": {
       "layout": "IPY_MODEL_f0c054c7ad294c298f636b8c575a939b",
       "style": "IPY_MODEL_e969df2d9bb940debc6ac6fb58db5fb2",
       "value": "Model"
      }
     },
     "95e7658a487a4356be69faf3071fdadd": {
      "model_module": "@jupyter-widgets/base",
      "model_module_version": "1.1.0",
      "model_name": "LayoutModel",
      "state": {}
     },
     "95e76a30fd1945d4abaec26e11923e8f": {
      "model_module": "@jupyter-widgets/base",
      "model_module_version": "1.1.0",
      "model_name": "LayoutModel",
      "state": {
       "border": "3px solid black"
      }
     },
     "96032e12beae4098915b93a27f6e5924": {
      "model_module": "@jupyter-widgets/controls",
      "model_module_version": "1.4.0",
      "model_name": "VBoxModel",
      "state": {
       "children": [
        "IPY_MODEL_4dd92d1049314a6db38d432607e3b2b3",
        "IPY_MODEL_8cb9402adf70477792f5fa1eb9d1710c"
       ],
       "layout": "IPY_MODEL_03fa25564908498598c1cac64e9c6a5e"
      }
     },
     "961d183352bb42e592f8f39edb7ab48a": {
      "model_module": "@jupyter-widgets/controls",
      "model_module_version": "1.4.0",
      "model_name": "VBoxModel",
      "state": {
       "children": [
        "IPY_MODEL_4832c7fddcec4485973cb385dbaad293",
        "IPY_MODEL_23070101392e4f678439221be06cd633",
        "IPY_MODEL_371cd254fee4456a837ff9dfeb0a5b98",
        "IPY_MODEL_b0bf421da1cc484f844cac0c2dc38fcd",
        "IPY_MODEL_8cc8e897570d447182dc7293fbe1562a",
        "IPY_MODEL_166fd14ac1454db19ded6183379d0ea5",
        "IPY_MODEL_9eb6bf11f406498eb96630a311be923a"
       ],
       "layout": "IPY_MODEL_94440a60093843ffb4601207684fe629"
      }
     },
     "965be077651142fcabfca65673551e2b": {
      "model_module": "@jupyter-widgets/controls",
      "model_module_version": "1.4.0",
      "model_name": "LabelModel",
      "state": {
       "layout": "IPY_MODEL_9287bc3be4b34e8fb8b64c1fe7acc918",
       "style": "IPY_MODEL_d681964a342c4788a9480be5596bdbe6",
       "value": "PCA?"
      }
     },
     "967848ba4fac41068ad94ea175939510": {
      "model_module": "@jupyter-widgets/controls",
      "model_module_version": "1.4.0",
      "model_name": "DropdownModel",
      "state": {
       "_options_labels": [
        "segment",
        "covertype",
        "digits",
        "fall_detection",
        "mnist",
        "pen_digits",
        "satellite",
        "vowel"
       ],
       "description": "Dataset:",
       "index": 0,
       "layout": "IPY_MODEL_aa2ca7d07766469d9cae904963cb1dcb",
       "style": "IPY_MODEL_f1921bfb000f4946a8aeaa68f6c46ea9"
      }
     },
     "9698e17c96be475eb80c7cf2db0a3fbc": {
      "model_module": "@jupyter-widgets/base",
      "model_module_version": "1.1.0",
      "model_name": "LayoutModel",
      "state": {}
     },
     "970c889929994feea420795fa6336a2d": {
      "model_module": "@jupyter-widgets/controls",
      "model_module_version": "1.4.0",
      "model_name": "DescriptionStyleModel",
      "state": {
       "description_width": ""
      }
     },
     "9732d3b3f443446a89368773f322ab4d": {
      "model_module": "@jupyter-widgets/controls",
      "model_module_version": "1.4.0",
      "model_name": "IntRangeSliderModel",
      "state": {
       "_model_name": "IntRangeSliderModel",
       "_view_name": "IntRangeSliderView",
       "disabled": true,
       "layout": "IPY_MODEL_0baa901595a645cfbaa485c10b63577e",
       "max": 400,
       "min": 30,
       "step": 10,
       "style": "IPY_MODEL_e6ebc99b9aa0493880d8845f2ce3ded0",
       "value": [
        30,
        100
       ]
      }
     },
     "97c0ce89ee564011a43f621d5f4752f7": {
      "model_module": "@jupyter-widgets/controls",
      "model_module_version": "1.4.0",
      "model_name": "ButtonStyleModel",
      "state": {}
     },
     "97d8e5d1ccae4c489e2b79de0e07787e": {
      "model_module": "@jupyter-widgets/controls",
      "model_module_version": "1.4.0",
      "model_name": "VBoxModel",
      "state": {
       "children": [
        "IPY_MODEL_caddf6d0112e48d8b76b8c4ddd146d27",
        "IPY_MODEL_e54ecb730e0a4309ab9b2e90abb980d5"
       ],
       "layout": "IPY_MODEL_6961781330594177a46f9b0faba7a262"
      }
     },
     "984bc15b19d2452fbd5f2f8d61b93644": {
      "model_module": "@jupyter-widgets/base",
      "model_module_version": "1.1.0",
      "model_name": "LayoutModel",
      "state": {}
     },
     "9861d7fc2c944967a320b79db9a4c182": {
      "model_module": "@jupyter-widgets/controls",
      "model_module_version": "1.4.0",
      "model_name": "DescriptionStyleModel",
      "state": {
       "description_width": ""
      }
     },
     "986ebab022784b53883fefbca9ed6fb9": {
      "model_module": "@jupyter-widgets/base",
      "model_module_version": "1.1.0",
      "model_name": "LayoutModel",
      "state": {}
     },
     "98da1f630f75421a8a2bf3887e7c0daa": {
      "model_module": "@jupyter-widgets/controls",
      "model_module_version": "1.4.0",
      "model_name": "ButtonModel",
      "state": {
       "button_style": "info",
       "description": "Add model",
       "layout": "IPY_MODEL_30e1d6a1657c4a0dae660ef679acf7a8",
       "style": "IPY_MODEL_b306cfdffd244e4097272caab652c1c1"
      }
     },
     "98f8a937213648db8b9c5e840ea7b978": {
      "model_module": "@jupyter-widgets/controls",
      "model_module_version": "1.4.0",
      "model_name": "LabelModel",
      "state": {
       "layout": "IPY_MODEL_b8c83ed45780453aa977f77024bea6a4",
       "style": "IPY_MODEL_cf2eb93f7a7140b2b99bc53103dca719",
       "value": "Box Type"
      }
     },
     "994c9273823d41edaaba7224ab617bcd": {
      "model_module": "@jupyter-widgets/controls",
      "model_module_version": "1.4.0",
      "model_name": "SliderStyleModel",
      "state": {
       "description_width": ""
      }
     },
     "996330408d844bbe80ca6aed76d28f40": {
      "model_module": "@jupyter-widgets/base",
      "model_module_version": "1.1.0",
      "model_name": "LayoutModel",
      "state": {}
     },
     "9995ebdb98254b7a9b08548aa47d7f2f": {
      "model_module": "@jupyter-widgets/controls",
      "model_module_version": "1.4.0",
      "model_name": "DescriptionStyleModel",
      "state": {
       "description_width": ""
      }
     },
     "99c0e52728e74970a7ef69550208cd1b": {
      "model_module": "@jupyter-widgets/base",
      "model_module_version": "1.1.0",
      "model_name": "LayoutModel",
      "state": {}
     },
     "99ce2f3ec47c442c8c9dc5465fd0050d": {
      "model_module": "@jupyter-widgets/controls",
      "model_module_version": "1.4.0",
      "model_name": "LabelModel",
      "state": {
       "layout": "IPY_MODEL_7aa98f22e82441efaded87a3889087a2",
       "style": "IPY_MODEL_c3f12b61c3704bd1a87fb0777d830589",
       "value": "Model"
      }
     },
     "99fb03d6568440f0862995d4edd03ae0": {
      "model_module": "@jupyter-widgets/controls",
      "model_module_version": "1.4.0",
      "model_name": "SliderStyleModel",
      "state": {
       "description_width": ""
      }
     },
     "9a0669ccb0a24f92b24451ae22d7413c": {
      "model_module": "@jupyter-widgets/controls",
      "model_module_version": "1.4.0",
      "model_name": "DescriptionStyleModel",
      "state": {
       "description_width": ""
      }
     },
     "9a08598b10034849b125487a849826bf": {
      "model_module": "@jupyter-widgets/controls",
      "model_module_version": "1.4.0",
      "model_name": "SliderStyleModel",
      "state": {
       "description_width": ""
      }
     },
     "9a4aadb415464d7fbfc47805f64a324e": {
      "model_module": "@jupyter-widgets/controls",
      "model_module_version": "1.4.0",
      "model_name": "IntSliderModel",
      "state": {
       "disabled": true,
       "layout": "IPY_MODEL_a0620143a04e49b49f851821123f8c42",
       "max": 200,
       "min": 2,
       "style": "IPY_MODEL_a71f53a64c6c4161b750661b8693d94f",
       "value": 30
      }
     },
     "9a890f71d0064b1ea0b253c7eceed763": {
      "model_module": "@jupyter-widgets/output",
      "model_module_version": "1.0.0",
      "model_name": "OutputModel",
      "state": {
       "layout": "IPY_MODEL_b0b693b905e745d38fc6a08fc71fb206"
      }
     },
     "9aa9e7a7dc0c4e0dbfe79482fa1ee005": {
      "model_module": "@jupyter-widgets/controls",
      "model_module_version": "1.4.0",
      "model_name": "ButtonStyleModel",
      "state": {}
     },
     "9ac6d56284284e4792efe5631bfaf4b7": {
      "model_module": "@jupyter-widgets/controls",
      "model_module_version": "1.4.0",
      "model_name": "CheckboxModel",
      "state": {
       "disabled": false,
       "layout": "IPY_MODEL_dbce7126bc714125b132652e2f5fc468",
       "style": "IPY_MODEL_9a0669ccb0a24f92b24451ae22d7413c",
       "value": false
      }
     },
     "9ac8969164564cfeb0b71f4d2cd85092": {
      "model_module": "@jupyter-widgets/output",
      "model_module_version": "1.0.0",
      "model_name": "OutputModel",
      "state": {
       "layout": "IPY_MODEL_161255d71c0943a38acffa5e920ff1ab"
      }
     },
     "9b2eac8fd56e4e3bb795cc2ef8166601": {
      "model_module": "@jupyter-widgets/controls",
      "model_module_version": "1.4.0",
      "model_name": "DropdownModel",
      "state": {
       "_options_labels": [
        "segment",
        "covertype",
        "digits",
        "fall_detection",
        "mnist",
        "pen_digits",
        "satellite",
        "vowel"
       ],
       "description": "Dataset:",
       "index": 0,
       "layout": "IPY_MODEL_c2f531853b844bcab9c31d0592fdcb92",
       "style": "IPY_MODEL_e4edb75c2f5d42708b3fb6759a4140f5"
      }
     },
     "9b94095cacda417e8bc972bb84f95137": {
      "model_module": "@jupyter-widgets/base",
      "model_module_version": "1.1.0",
      "model_name": "LayoutModel",
      "state": {}
     },
     "9bc0886a9c474a69aaa84e29947e7251": {
      "model_module": "@jupyter-widgets/controls",
      "model_module_version": "1.4.0",
      "model_name": "SliderStyleModel",
      "state": {
       "description_width": ""
      }
     },
     "9c1270687140419f808aec42d2d282aa": {
      "model_module": "@jupyter-widgets/base",
      "model_module_version": "1.1.0",
      "model_name": "LayoutModel",
      "state": {}
     },
     "9c2a1cc8844e47248cdd28cd34b02d5d": {
      "model_module": "@jupyter-widgets/base",
      "model_module_version": "1.1.0",
      "model_name": "LayoutModel",
      "state": {}
     },
     "9c887492e9ed4ad2bb5b5bc5ee5d6c46": {
      "model_module": "@jupyter-widgets/controls",
      "model_module_version": "1.4.0",
      "model_name": "DropdownModel",
      "state": {
       "_options_labels": [
        "segment",
        "covertype",
        "digits",
        "fall_detection",
        "mnist",
        "pen_digits",
        "satellite",
        "vowel"
       ],
       "description": "Dataset:",
       "index": 0,
       "layout": "IPY_MODEL_0271c795082a4c0eafa4370f7db56b23",
       "style": "IPY_MODEL_214a11fdadd0476db9f15de5ae49cbc7"
      }
     },
     "9c8e899109df4b398f95abeec91d8577": {
      "model_module": "@jupyter-widgets/controls",
      "model_module_version": "1.4.0",
      "model_name": "SliderStyleModel",
      "state": {
       "description_width": ""
      }
     },
     "9cfe5f0d51f64164859e30ac97123233": {
      "model_module": "@jupyter-widgets/base",
      "model_module_version": "1.1.0",
      "model_name": "LayoutModel",
      "state": {}
     },
     "9d3d8dbc34dc46edbc3d6e26891e67e0": {
      "model_module": "@jupyter-widgets/base",
      "model_module_version": "1.1.0",
      "model_name": "LayoutModel",
      "state": {}
     },
     "9ddf447c61cf41f0ad8b3a25c5402248": {
      "model_module": "@jupyter-widgets/controls",
      "model_module_version": "1.4.0",
      "model_name": "LabelModel",
      "state": {
       "layout": "IPY_MODEL_f7b225cc021f4989a1265c8fffd90dae",
       "style": "IPY_MODEL_6fb69b340c1e4f01be56cf59efdcaab3",
       "value": "Number Estimators"
      }
     },
     "9de4a504047b4a8ba0f395638e0dd4d4": {
      "model_module": "@jupyter-widgets/base",
      "model_module_version": "1.1.0",
      "model_name": "LayoutModel",
      "state": {
       "visibility": "hidden"
      }
     },
     "9de7dd9c3e7644bca6e4007e819156ad": {
      "model_module": "@jupyter-widgets/controls",
      "model_module_version": "1.4.0",
      "model_name": "CheckboxModel",
      "state": {
       "disabled": false,
       "layout": "IPY_MODEL_c2b00b5103994778b76b3669c6741797",
       "style": "IPY_MODEL_55f226f928f94a738c267e36477fff03",
       "value": false
      }
     },
     "9e000b4f3e774a26bb3d2fb342b6aef1": {
      "model_module": "@jupyter-widgets/base",
      "model_module_version": "1.1.0",
      "model_name": "LayoutModel",
      "state": {
       "width": "90px"
      }
     },
     "9e02f102ebfe435f92077a0bba193d06": {
      "model_module": "@jupyter-widgets/controls",
      "model_module_version": "1.4.0",
      "model_name": "LabelModel",
      "state": {
       "layout": "IPY_MODEL_4ac72964db594243bfcb89755ed42909",
       "style": "IPY_MODEL_e3c236c4c60d4f5a8ce54a5a5cd7b894",
       "value": "Number Estimators"
      }
     },
     "9e093a91e0d04480a24606dcb35697b4": {
      "model_module": "@jupyter-widgets/controls",
      "model_module_version": "1.4.0",
      "model_name": "CheckboxModel",
      "state": {
       "disabled": false,
       "layout": "IPY_MODEL_3d856279b5d540feab05c27d253419e0",
       "style": "IPY_MODEL_9f3e64eda37a433a84d9d3a2239274d1",
       "value": false
      }
     },
     "9e3c97d9ddc240da838f263717704b0b": {
      "model_module": "@jupyter-widgets/controls",
      "model_module_version": "1.4.0",
      "model_name": "DropdownModel",
      "state": {
       "_options_labels": [
        "None",
        "black",
        "grey"
       ],
       "index": 0,
       "layout": "IPY_MODEL_f0ddcce54f8d49baa2c1df999ee505df",
       "style": "IPY_MODEL_7fef537d70554c3e86daaa6334f5f61a"
      }
     },
     "9e5497135a734926beead5993b49c91b": {
      "model_module": "@jupyter-widgets/controls",
      "model_module_version": "1.4.0",
      "model_name": "DescriptionStyleModel",
      "state": {
       "description_width": ""
      }
     },
     "9e75ddb3635346baa33a2d2e5239725e": {
      "model_module": "@jupyter-widgets/base",
      "model_module_version": "1.1.0",
      "model_name": "LayoutModel",
      "state": {
       "border": "3px solid black"
      }
     },
     "9e8c8a6ff59846688730bece4321f178": {
      "model_module": "@jupyter-widgets/base",
      "model_module_version": "1.1.0",
      "model_name": "LayoutModel",
      "state": {}
     },
     "9eb6bf11f406498eb96630a311be923a": {
      "model_module": "@jupyter-widgets/controls",
      "model_module_version": "1.4.0",
      "model_name": "ButtonModel",
      "state": {
       "button_style": "info",
       "description": "Demo0",
       "layout": "IPY_MODEL_b61ca20211aa468ab19b443688c08137",
       "style": "IPY_MODEL_a82a1bed579c407c824285bfe4e49eac"
      }
     },
     "9ebd8b2f7ac54d07a889994e4659726b": {
      "model_module": "@jupyter-widgets/controls",
      "model_module_version": "1.4.0",
      "model_name": "IntSliderModel",
      "state": {
       "description": "N. estim.",
       "layout": "IPY_MODEL_e3043938534d45cc8811548fd12f7786",
       "max": 200,
       "min": 2,
       "style": "IPY_MODEL_1ac3efb49818433c8af02d1ace1c24e4",
       "value": 30
      }
     },
     "9edddfecf1014b4c82f44c70acb9fba6": {
      "model_module": "@jupyter-widgets/controls",
      "model_module_version": "1.4.0",
      "model_name": "LabelModel",
      "state": {
       "layout": "IPY_MODEL_faaa5808f3c54f36ac1f7f5ba8dcdb96",
       "style": "IPY_MODEL_e56499b8d63b4dd4a49f6359d3c82b23",
       "value": "PCA?"
      }
     },
     "9ee07d8358364886811c1234299c98b9": {
      "model_module": "@jupyter-widgets/controls",
      "model_module_version": "1.4.0",
      "model_name": "DropdownModel",
      "state": {
       "_options_labels": [
        "None",
        "rbf",
        "nystroem"
       ],
       "index": 1,
       "layout": "IPY_MODEL_0299c244a34249f887cc56958130729e",
       "style": "IPY_MODEL_6d203dc2f81344e8a43261dcf4d0bd07"
      }
     },
     "9f1cd4ea73ee4f75944af9b9ce331b32": {
      "model_module": "@jupyter-widgets/controls",
      "model_module_version": "1.4.0",
      "model_name": "DescriptionStyleModel",
      "state": {
       "description_width": ""
      }
     },
     "9f3e64eda37a433a84d9d3a2239274d1": {
      "model_module": "@jupyter-widgets/controls",
      "model_module_version": "1.4.0",
      "model_name": "DescriptionStyleModel",
      "state": {
       "description_width": ""
      }
     },
     "9f69960a8f304abd833eaa756e462e5d": {
      "model_module": "@jupyter-widgets/base",
      "model_module_version": "1.1.0",
      "model_name": "LayoutModel",
      "state": {}
     },
     "9f6f0df51e864447aae20a6217c44d45": {
      "model_module": "@jupyter-widgets/controls",
      "model_module_version": "1.4.0",
      "model_name": "DescriptionStyleModel",
      "state": {
       "description_width": ""
      }
     },
     "9f7b0b397b074be9bc50b2830436220d": {
      "model_module": "@jupyter-widgets/base",
      "model_module_version": "1.1.0",
      "model_name": "LayoutModel",
      "state": {
       "visibility": "hidden",
       "width": "300px"
      }
     },
     "9f91b392bd8c4ca5867facf7c359e747": {
      "model_module": "@jupyter-widgets/controls",
      "model_module_version": "1.4.0",
      "model_name": "DescriptionStyleModel",
      "state": {
       "description_width": ""
      }
     },
     "9feb68bd13c54f5e89b1679530f03a6d": {
      "model_module": "@jupyter-widgets/controls",
      "model_module_version": "1.4.0",
      "model_name": "IntRangeSliderModel",
      "state": {
       "_model_name": "IntRangeSliderModel",
       "_view_name": "IntRangeSliderView",
       "disabled": true,
       "layout": "IPY_MODEL_ae40532f43e44659a6b52c874357ee47",
       "max": 400,
       "min": 30,
       "step": 10,
       "style": "IPY_MODEL_e6f337571e9e4b6ca09ae67b7e0ea9ea",
       "value": [
        30,
        100
       ]
      }
     },
     "a043af60d3874ec4b24df1c116a86f7f": {
      "model_module": "@jupyter-widgets/controls",
      "model_module_version": "1.4.0",
      "model_name": "LabelModel",
      "state": {
       "layout": "IPY_MODEL_f22ec5185e3e420296c2fb3dfe914741",
       "style": "IPY_MODEL_f4f2d9686c014b2fbb95575c130f9eaf",
       "value": "PCA?"
      }
     },
     "a0620143a04e49b49f851821123f8c42": {
      "model_module": "@jupyter-widgets/base",
      "model_module_version": "1.1.0",
      "model_name": "LayoutModel",
      "state": {
       "visibility": "hidden",
       "width": "300px"
      }
     },
     "a0bb696cc28d45a29135dde7f7a127ce": {
      "model_module": "@jupyter-widgets/controls",
      "model_module_version": "1.4.0",
      "model_name": "DescriptionStyleModel",
      "state": {
       "description_width": ""
      }
     },
     "a0c633d2d7a14417988eea8918ed11e8": {
      "model_module": "@jupyter-widgets/controls",
      "model_module_version": "1.4.0",
      "model_name": "DropdownModel",
      "state": {
       "_options_labels": [
        "segment",
        "covertype",
        "digits",
        "fall_detection",
        "mnist",
        "pen_digits",
        "satellite",
        "vowel"
       ],
       "description": "Dataset:",
       "index": 0,
       "layout": "IPY_MODEL_c3b816841c5343dca729aea2c22d899e",
       "style": "IPY_MODEL_f49a684f9aca4c41af3ac8cfd09a86ae"
      }
     },
     "a0f1a947ca334b67873ea46fe388d3fc": {
      "model_module": "@jupyter-widgets/controls",
      "model_module_version": "1.4.0",
      "model_name": "ButtonModel",
      "state": {
       "button_style": "warning",
       "description": "Remove model",
       "layout": "IPY_MODEL_f622a780847447a49f4f588e8cfd70ba",
       "style": "IPY_MODEL_4827811adaa6494489025ac2632f68c7"
      }
     },
     "a0f65b1ae7a14a0f818232fc7c7853a3": {
      "model_module": "@jupyter-widgets/controls",
      "model_module_version": "1.4.0",
      "model_name": "ButtonModel",
      "state": {
       "button_style": "info",
       "description": "Add model",
       "layout": "IPY_MODEL_3a135bcc1ecd4eff8685a44a86988847",
       "style": "IPY_MODEL_2b334e3049b442d8b50e653a7baa112d"
      }
     },
     "a104c120de414bfea51f0b6ffb00d53c": {
      "model_module": "@jupyter-widgets/controls",
      "model_module_version": "1.4.0",
      "model_name": "CheckboxModel",
      "state": {
       "disabled": false,
       "layout": "IPY_MODEL_46fa3a9aadb44629a260329ac75c7938",
       "style": "IPY_MODEL_c588b2b59fa64713a3669a28679d9a74",
       "value": false
      }
     },
     "a1912e04895441f4a8462b8dc70ba9dd": {
      "model_module": "@jupyter-widgets/base",
      "model_module_version": "1.1.0",
      "model_name": "LayoutModel",
      "state": {}
     },
     "a1b468f19d0c46fc8e22342c7e6aab73": {
      "model_module": "@jupyter-widgets/base",
      "model_module_version": "1.1.0",
      "model_name": "LayoutModel",
      "state": {}
     },
     "a1b59492d4374f7faed6137ebd1eb800": {
      "model_module": "@jupyter-widgets/controls",
      "model_module_version": "1.4.0",
      "model_name": "DropdownModel",
      "state": {
       "_options_labels": [
        "dt",
        "logit",
        "linear_svc"
       ],
       "index": 0,
       "layout": "IPY_MODEL_4c1a3207ce0a49ffac85b3587d3975e2",
       "style": "IPY_MODEL_60847606662241149fd5e84f80d8d217"
      }
     },
     "a1d215b8263841d2a0a9d61fd90d88c8": {
      "model_module": "@jupyter-widgets/controls",
      "model_module_version": "1.4.0",
      "model_name": "LabelModel",
      "state": {
       "layout": "IPY_MODEL_c1eabe602fd8419490acd41c4f46ebed",
       "style": "IPY_MODEL_08cafe8f839a48c78b47ab2e84cc78be",
       "value": "Number Estimators"
      }
     },
     "a1e8df310e914465b4db731fd68467b3": {
      "model_module": "@jupyter-widgets/controls",
      "model_module_version": "1.4.0",
      "model_name": "IntRangeSliderModel",
      "state": {
       "_model_name": "IntRangeSliderModel",
       "_view_name": "IntRangeSliderView",
       "layout": "IPY_MODEL_b04449b4f3154f0b9b60c9460682060d",
       "max": 400,
       "min": 30,
       "step": 10,
       "style": "IPY_MODEL_601308ab81c24f8fba67c6122881c982",
       "value": [
        30,
        100
       ]
      }
     },
     "a1fa6e8e26ec4c57ba124859a2fc4b15": {
      "model_module": "@jupyter-widgets/base",
      "model_module_version": "1.1.0",
      "model_name": "LayoutModel",
      "state": {}
     },
     "a2043dc9c3014fca9df82d608eb06cea": {
      "model_module": "@jupyter-widgets/base",
      "model_module_version": "1.1.0",
      "model_name": "LayoutModel",
      "state": {}
     },
     "a21331b9840b41348efb63af176c0b51": {
      "model_module": "@jupyter-widgets/controls",
      "model_module_version": "1.4.0",
      "model_name": "LabelModel",
      "state": {
       "layout": "IPY_MODEL_4f423979dc90414eaa85e00192b56819",
       "style": "IPY_MODEL_5a674efeab3c427a892190ff105da153",
       "value": "Number Estimators"
      }
     },
     "a28fd062848a488199cb51300818fe4b": {
      "model_module": "@jupyter-widgets/base",
      "model_module_version": "1.1.0",
      "model_name": "LayoutModel",
      "state": {}
     },
     "a2dc6ecebdf94cdd9b7fb04457b842e4": {
      "model_module": "@jupyter-widgets/controls",
      "model_module_version": "1.4.0",
      "model_name": "DescriptionStyleModel",
      "state": {
       "description_width": ""
      }
     },
     "a2f4b89c1ac54c5eaaa732ac6a6aa454": {
      "model_module": "@jupyter-widgets/controls",
      "model_module_version": "1.4.0",
      "model_name": "VBoxModel",
      "state": {
       "children": [
        "IPY_MODEL_5480ad03793f4c7f9ea28a7f726523e4",
        "IPY_MODEL_8f771bb5fdfb44f6bc0a0e183cf641b8"
       ],
       "layout": "IPY_MODEL_2e874502774c44e29dbd667bcc1e7504"
      }
     },
     "a339fcb2919a43e5892b1bf7e173738a": {
      "model_module": "@jupyter-widgets/base",
      "model_module_version": "1.1.0",
      "model_name": "LayoutModel",
      "state": {
       "width": "90px"
      }
     },
     "a366e238d6d04ccaa787d56064e30e50": {
      "model_module": "@jupyter-widgets/controls",
      "model_module_version": "1.4.0",
      "model_name": "LabelModel",
      "state": {
       "layout": "IPY_MODEL_3c69d2b19a59442e9aac19ada60562bc",
       "style": "IPY_MODEL_ead7f2a8885a4b969f2d25a1748ce8e3",
       "value": "Model"
      }
     },
     "a3c0a8cec4624f4cbf327fcaa447342d": {
      "model_module": "@jupyter-widgets/controls",
      "model_module_version": "1.4.0",
      "model_name": "SliderStyleModel",
      "state": {
       "description_width": ""
      }
     },
     "a3de12d298f14df8974973c39f013382": {
      "model_module": "@jupyter-widgets/base",
      "model_module_version": "1.1.0",
      "model_name": "LayoutModel",
      "state": {}
     },
     "a3e6dc8eeb5e474895dccfabf5047355": {
      "model_module": "@jupyter-widgets/controls",
      "model_module_version": "1.4.0",
      "model_name": "LabelModel",
      "state": {
       "layout": "IPY_MODEL_e2e13f423bb24192895d18241447dc9f",
       "style": "IPY_MODEL_4d60863d91c84ff7a13abe9d2ac4ef95",
       "value": "Number Estimators"
      }
     },
     "a41bb06faeae422483389bd85b571c69": {
      "model_module": "@jupyter-widgets/controls",
      "model_module_version": "1.4.0",
      "model_name": "DropdownModel",
      "state": {
       "_options_labels": [
        "dt",
        "logit",
        "linear_svc"
       ],
       "index": 1,
       "layout": "IPY_MODEL_82abb4fcc2014d3da2123cad2d07e9ed",
       "style": "IPY_MODEL_f248e3cb6cd3446e8ce491abf0b0ab6a"
      }
     },
     "a4b1ec451a42402ab3747b073e2d146c": {
      "model_module": "@jupyter-widgets/controls",
      "model_module_version": "1.4.0",
      "model_name": "DropdownModel",
      "state": {
       "_options_labels": [
        "dt",
        "logit",
        "linear_svc"
       ],
       "index": 0,
       "layout": "IPY_MODEL_144370dcbfd845248a94f9e8663cffc5",
       "style": "IPY_MODEL_b0f35ae2e2a64a95ae11ef70a81a3862"
      }
     },
     "a4ee6a76211a4aa0b99a25b63aa2f643": {
      "model_module": "@jupyter-widgets/controls",
      "model_module_version": "1.4.0",
      "model_name": "DescriptionStyleModel",
      "state": {
       "description_width": ""
      }
     },
     "a548fffd25e74d38b2f1b9881023cfca": {
      "model_module": "@jupyter-widgets/controls",
      "model_module_version": "1.4.0",
      "model_name": "DropdownModel",
      "state": {
       "_options_labels": [
        "None",
        "black",
        "grey"
       ],
       "index": 0,
       "layout": "IPY_MODEL_9e000b4f3e774a26bb3d2fb342b6aef1",
       "style": "IPY_MODEL_9995ebdb98254b7a9b08548aa47d7f2f"
      }
     },
     "a576d0eeb6484f36aac2c31bf234a821": {
      "model_module": "@jupyter-widgets/base",
      "model_module_version": "1.1.0",
      "model_name": "LayoutModel",
      "state": {
       "width": "90px"
      }
     },
     "a580caa218ee46cf83c81277b2df51ae": {
      "model_module": "@jupyter-widgets/controls",
      "model_module_version": "1.4.0",
      "model_name": "VBoxModel",
      "state": {
       "children": [
        "IPY_MODEL_afb151fdf61849a2a70af4173547af00",
        "IPY_MODEL_ce2a5eb5bdc54a30a9adb89a75cb0f62"
       ],
       "layout": "IPY_MODEL_87dcd999dba6443096bb5fdd97016110"
      }
     },
     "a63217ef3c464f40afd3aaa1641228b5": {
      "model_module": "@jupyter-widgets/base",
      "model_module_version": "1.1.0",
      "model_name": "LayoutModel",
      "state": {}
     },
     "a6af1c0c996c4ca291e27a0aa7b02775": {
      "model_module": "@jupyter-widgets/controls",
      "model_module_version": "1.4.0",
      "model_name": "VBoxModel",
      "state": {
       "children": [
        "IPY_MODEL_0926776edfc84bda9c726ca38492c931",
        "IPY_MODEL_905a80b8cbf74691b7a3fe1786a00d12",
        "IPY_MODEL_9e3c97d9ddc240da838f263717704b0b",
        "IPY_MODEL_b0d12f685dcc48af86104cd5b58b0a67",
        "IPY_MODEL_561c0e15f65f4c1699367710e319f9eb"
       ],
       "layout": "IPY_MODEL_56ab112a2ef64c25a446c3da3cda300f"
      }
     },
     "a6da14a3bf06442aa9a10a30b936976a": {
      "model_module": "@jupyter-widgets/base",
      "model_module_version": "1.1.0",
      "model_name": "LayoutModel",
      "state": {}
     },
     "a6db5c488e3b4e18a5dbe79373470e25": {
      "model_module": "@jupyter-widgets/controls",
      "model_module_version": "1.4.0",
      "model_name": "IntSliderModel",
      "state": {
       "disabled": true,
       "layout": "IPY_MODEL_72ae6119e2bd49adaec18e814f152524",
       "max": 200,
       "min": 2,
       "style": "IPY_MODEL_fbbf18fc902248f492933cf4287b6df1",
       "value": 30
      }
     },
     "a6e1139735654b689b198f92ea27d22b": {
      "model_module": "@jupyter-widgets/controls",
      "model_module_version": "1.4.0",
      "model_name": "DropdownModel",
      "state": {
       "_options_labels": [
        "segment",
        "covertype",
        "digits",
        "fall_detection",
        "mnist",
        "pen_digits",
        "satellite",
        "vowel"
       ],
       "description": "Dataset:",
       "index": 0,
       "layout": "IPY_MODEL_5d6ef620e803414aabbf212e199f7b4b",
       "style": "IPY_MODEL_fd65a7a3021340de8fc5ec6ad6f3d779"
      }
     },
     "a71f53a64c6c4161b750661b8693d94f": {
      "model_module": "@jupyter-widgets/controls",
      "model_module_version": "1.4.0",
      "model_name": "SliderStyleModel",
      "state": {
       "description_width": ""
      }
     },
     "a74e7acc602742b99eebb698f54d6925": {
      "model_module": "@jupyter-widgets/controls",
      "model_module_version": "1.4.0",
      "model_name": "HBoxModel",
      "state": {
       "children": [
        "IPY_MODEL_b168ef79a72943b48872b9d436aa73ac",
        "IPY_MODEL_3b5f2c58e6794b528fc8fe4e0f70d01a",
        "IPY_MODEL_26067c55df3a4c32bc769a74aa2945c7",
        "IPY_MODEL_1b6e93c991074ff1bbac14a92ee28f71",
        "IPY_MODEL_bc95c466ccff435d8c3a5d70cf0dcd37"
       ],
       "layout": "IPY_MODEL_d3796787cec0425f8222d8bd4ea6b0ca"
      }
     },
     "a7a3f048b0be4712978d518e17b73ae4": {
      "model_module": "@jupyter-widgets/controls",
      "model_module_version": "1.4.0",
      "model_name": "IntSliderModel",
      "state": {
       "disabled": true,
       "layout": "IPY_MODEL_ef13597a0ff64eeeadebef350b523f81",
       "max": 200,
       "min": 2,
       "style": "IPY_MODEL_bf0d1ed6a37e47b3830d0364658a08cc",
       "value": 30
      }
     },
     "a80ec893e2994dde96328c7b6faf8e55": {
      "model_module": "@jupyter-widgets/controls",
      "model_module_version": "1.4.0",
      "model_name": "DescriptionStyleModel",
      "state": {
       "description_width": ""
      }
     },
     "a82a1bed579c407c824285bfe4e49eac": {
      "model_module": "@jupyter-widgets/controls",
      "model_module_version": "1.4.0",
      "model_name": "ButtonStyleModel",
      "state": {}
     },
     "a861950382aa49f08c3537956feea6ea": {
      "model_module": "@jupyter-widgets/controls",
      "model_module_version": "1.4.0",
      "model_name": "DropdownModel",
      "state": {
       "_options_labels": [
        "None",
        "black",
        "grey"
       ],
       "index": 0,
       "layout": "IPY_MODEL_b6f62164dd6a46ecb473d331776da0c9",
       "style": "IPY_MODEL_d38cc708f5a241f893d41e7bb23f82f5"
      }
     },
     "a8974381e822487faab24bfd1c8ff4e0": {
      "model_module": "@jupyter-widgets/controls",
      "model_module_version": "1.4.0",
      "model_name": "ButtonStyleModel",
      "state": {}
     },
     "a8aa220d90d94b578be627590623ba5a": {
      "model_module": "@jupyter-widgets/controls",
      "model_module_version": "1.4.0",
      "model_name": "DescriptionStyleModel",
      "state": {
       "description_width": ""
      }
     },
     "a8bc6b20802e497b99910e1529eb906f": {
      "model_module": "@jupyter-widgets/controls",
      "model_module_version": "1.4.0",
      "model_name": "IntRangeSliderModel",
      "state": {
       "_model_name": "IntRangeSliderModel",
       "_view_name": "IntRangeSliderView",
       "disabled": true,
       "layout": "IPY_MODEL_5ecf955f10254345910c38aad8144a8b",
       "max": 400,
       "min": 30,
       "step": 10,
       "style": "IPY_MODEL_9bc0886a9c474a69aaa84e29947e7251",
       "value": [
        30,
        100
       ]
      }
     },
     "a8c300a9cb39443183d9b50f5a33da97": {
      "model_module": "@jupyter-widgets/controls",
      "model_module_version": "1.4.0",
      "model_name": "VBoxModel",
      "state": {
       "children": [
        "IPY_MODEL_fc74d2ce38aa4bf19b54ffdd8b5acd36",
        "IPY_MODEL_a7a3f048b0be4712978d518e17b73ae4"
       ],
       "layout": "IPY_MODEL_37b75d1670534e088cf2a5825cccc4d1"
      }
     },
     "a8cc209db96a46fda925a905ca409f6c": {
      "model_module": "@jupyter-widgets/controls",
      "model_module_version": "1.4.0",
      "model_name": "DropdownModel",
      "state": {
       "_options_labels": [
        "dt",
        "logit",
        "linear_svc"
       ],
       "index": 1,
       "layout": "IPY_MODEL_0299c244a34249f887cc56958130729e",
       "style": "IPY_MODEL_62fe0a5585954a4cb074a3640123e03c"
      }
     },
     "a8f365e9bce4414f97f7873cab84ae63": {
      "model_module": "@jupyter-widgets/base",
      "model_module_version": "1.1.0",
      "model_name": "LayoutModel",
      "state": {}
     },
     "a9304008c9fc4331b0f971c830e61825": {
      "model_module": "@jupyter-widgets/base",
      "model_module_version": "1.1.0",
      "model_name": "LayoutModel",
      "state": {}
     },
     "a98dbbded5fb4a96a3ae6c75557f5d24": {
      "model_module": "@jupyter-widgets/controls",
      "model_module_version": "1.4.0",
      "model_name": "ButtonModel",
      "state": {
       "button_style": "info",
       "description": "Demo5",
       "layout": "IPY_MODEL_494d863cfdf4422d88986703c2aab2b1",
       "style": "IPY_MODEL_40d8b9485ef1434e92fc42f4a32cae99"
      }
     },
     "aa0060994cb04f11b5d3b33299a90e43": {
      "model_module": "@jupyter-widgets/controls",
      "model_module_version": "1.4.0",
      "model_name": "DescriptionStyleModel",
      "state": {
       "description_width": ""
      }
     },
     "aa0570e95101422db4a0fcc8f1f1540a": {
      "model_module": "@jupyter-widgets/base",
      "model_module_version": "1.1.0",
      "model_name": "LayoutModel",
      "state": {
       "visibility": "hidden"
      }
     },
     "aa0cf0edca0a4813aa531b12dbd0d7bc": {
      "model_module": "@jupyter-widgets/base",
      "model_module_version": "1.1.0",
      "model_name": "LayoutModel",
      "state": {}
     },
     "aa1f609ead96484e9959abf12bf61e40": {
      "model_module": "@jupyter-widgets/controls",
      "model_module_version": "1.4.0",
      "model_name": "LabelModel",
      "state": {
       "layout": "IPY_MODEL_4181ac1a3aba4548894c89e1d2f33b1a",
       "style": "IPY_MODEL_676afb3a5ccb438db0effb8c39916724",
       "value": "PCA?"
      }
     },
     "aa2ca7d07766469d9cae904963cb1dcb": {
      "model_module": "@jupyter-widgets/base",
      "model_module_version": "1.1.0",
      "model_name": "LayoutModel",
      "state": {}
     },
     "aa3a6ba1d9ea493c825e35ad2b88252e": {
      "model_module": "@jupyter-widgets/base",
      "model_module_version": "1.1.0",
      "model_name": "LayoutModel",
      "state": {}
     },
     "aad5573ac1b941beadd0260893817253": {
      "model_module": "@jupyter-widgets/base",
      "model_module_version": "1.1.0",
      "model_name": "LayoutModel",
      "state": {}
     },
     "aaf0e58331e04df9934427f0ebb0dcb8": {
      "model_module": "@jupyter-widgets/controls",
      "model_module_version": "1.4.0",
      "model_name": "DropdownModel",
      "state": {
       "_options_labels": [
        "dt",
        "logit",
        "linear_svc"
       ],
       "index": 0,
       "layout": "IPY_MODEL_b6f62164dd6a46ecb473d331776da0c9",
       "style": "IPY_MODEL_afa812b20f6641e697d237818a88c037"
      }
     },
     "ab295a33aa224f44a69a235082313634": {
      "model_module": "@jupyter-widgets/base",
      "model_module_version": "1.1.0",
      "model_name": "LayoutModel",
      "state": {}
     },
     "ab59854fd1444f86936f4df9f84a93a8": {
      "model_module": "@jupyter-widgets/controls",
      "model_module_version": "1.4.0",
      "model_name": "VBoxModel",
      "state": {
       "children": [
        "IPY_MODEL_08aad4af63b64aaa85f18e59578d6885",
        "IPY_MODEL_e318634e4fac4574ba1fcdad3bfed616"
       ],
       "layout": "IPY_MODEL_05d0eda5a70b4356a6e9ba6430059cfe"
      }
     },
     "ab99c24d64d64e7ab4a72eb44bbee52a": {
      "model_module": "@jupyter-widgets/base",
      "model_module_version": "1.1.0",
      "model_name": "LayoutModel",
      "state": {}
     },
     "ac243383c14243459861d12391e5f248": {
      "model_module": "@jupyter-widgets/base",
      "model_module_version": "1.1.0",
      "model_name": "LayoutModel",
      "state": {}
     },
     "ac2c1a350b2a4d829a4e5f250bbbff0a": {
      "model_module": "@jupyter-widgets/controls",
      "model_module_version": "1.4.0",
      "model_name": "CheckboxModel",
      "state": {
       "disabled": false,
       "layout": "IPY_MODEL_689846f985bf4911899c13eba4a00496",
       "style": "IPY_MODEL_47e83e03ec09408e8e5ff1dfd6b4de46",
       "value": false
      }
     },
     "ac5f17bde0524fc1b516f7f0b4462186": {
      "model_module": "@jupyter-widgets/base",
      "model_module_version": "1.1.0",
      "model_name": "LayoutModel",
      "state": {}
     },
     "ac81e9dd2bb04f2c92d8363547927c33": {
      "model_module": "@jupyter-widgets/controls",
      "model_module_version": "1.4.0",
      "model_name": "VBoxModel",
      "state": {
       "children": [
        "IPY_MODEL_c79da50a372f46b89402d523cc20a495",
        "IPY_MODEL_bd0aeee3fe9a4388a8d9b07a9a7e8807",
        "IPY_MODEL_0aafa3d997d7462eac732d19848d3c9e",
        "IPY_MODEL_188414dad78d4be88f7ffdcb843b12c5",
        "IPY_MODEL_7ae92b3af20b48c68909858e77b6505f",
        "IPY_MODEL_cfaf64817ad34dd088f0aa0d30f64b77",
        "IPY_MODEL_86b46b5b46ce42bcaaad98ba1a6196ae"
       ],
       "layout": "IPY_MODEL_3ad4eceb79bc463caa9a34a377d3cf3d"
      }
     },
     "ac895c1972d74a79b9bda2b57407dee1": {
      "model_module": "@jupyter-widgets/controls",
      "model_module_version": "1.4.0",
      "model_name": "DescriptionStyleModel",
      "state": {
       "description_width": ""
      }
     },
     "ac91ba9b86ad49fcb756d257f10ffd15": {
      "model_module": "@jupyter-widgets/controls",
      "model_module_version": "1.4.0",
      "model_name": "IntSliderModel",
      "state": {
       "disabled": true,
       "layout": "IPY_MODEL_d2fb57f721294b3388f5a5d6c423802e",
       "max": 200,
       "min": 2,
       "style": "IPY_MODEL_5e107f367baf4ad1b8dcea4df2c826f6",
       "value": 30
      }
     },
     "ac93deb919164134a5dda3daead9d66d": {
      "model_module": "@jupyter-widgets/base",
      "model_module_version": "1.1.0",
      "model_name": "LayoutModel",
      "state": {
       "visibility": "hidden",
       "width": "300px"
      }
     },
     "ad20463380944d3f88dad35b0082a916": {
      "model_module": "@jupyter-widgets/controls",
      "model_module_version": "1.4.0",
      "model_name": "DescriptionStyleModel",
      "state": {
       "description_width": ""
      }
     },
     "ad50c35a89e542258653a636ce29e6b7": {
      "model_module": "@jupyter-widgets/base",
      "model_module_version": "1.1.0",
      "model_name": "LayoutModel",
      "state": {}
     },
     "ada72bd9bead4a93affdf409fa6861f4": {
      "model_module": "@jupyter-widgets/controls",
      "model_module_version": "1.4.0",
      "model_name": "RadioButtonsModel",
      "state": {
       "_options_labels": [
        "1000",
        "2000",
        "5000",
        "10000"
       ],
       "description": "Size",
       "index": 0,
       "layout": "IPY_MODEL_86f0fa95b28447039dce0ac02bd03eeb",
       "style": "IPY_MODEL_b1f4e0ff6505442d8aa4515aea4d3a69"
      }
     },
     "ae07ba5e477f40ecafa5274c6228ece5": {
      "model_module": "@jupyter-widgets/controls",
      "model_module_version": "1.4.0",
      "model_name": "LabelModel",
      "state": {
       "layout": "IPY_MODEL_986ebab022784b53883fefbca9ed6fb9",
       "style": "IPY_MODEL_dc38da891a9c495cbc96567003390651",
       "value": "PCA?"
      }
     },
     "ae40532f43e44659a6b52c874357ee47": {
      "model_module": "@jupyter-widgets/base",
      "model_module_version": "1.1.0",
      "model_name": "LayoutModel",
      "state": {
       "visibility": "hidden"
      }
     },
     "ae48edc12230448d99405b9dfc3e690f": {
      "model_module": "@jupyter-widgets/controls",
      "model_module_version": "1.4.0",
      "model_name": "VBoxModel",
      "state": {
       "children": [
        "IPY_MODEL_677e17ce3b054865a888a4e88279406e",
        "IPY_MODEL_0d1955aeae6648868cc69907019e9935",
        "IPY_MODEL_92b58d1f61b54b0895e1b83c5f0875df",
        "IPY_MODEL_7cd7f6dd528f443a89c7d6a6204bf5fc",
        "IPY_MODEL_5c467b88e59940f6a37aef9f96bb97b6",
        "IPY_MODEL_9ee07d8358364886811c1234299c98b9",
        "IPY_MODEL_dc901ad1411e4b6cb93f538b086d8406",
        "IPY_MODEL_c9edb312316e418fbadc6b919c44cad6",
        "IPY_MODEL_2c2bc0c7ffbd44f79e6a9692745ee2fe"
       ],
       "layout": "IPY_MODEL_8a893579deeb4ff6bbcfbe54bc0cd25f"
      }
     },
     "af1d8b12a81b4000a2ba790aed3aa9c8": {
      "model_module": "@jupyter-widgets/controls",
      "model_module_version": "1.4.0",
      "model_name": "DropdownModel",
      "state": {
       "_options_labels": [
        "None",
        "rbf",
        "nystroem"
       ],
       "index": 0,
       "layout": "IPY_MODEL_6560937d18794997bbf973e31e7323d6",
       "style": "IPY_MODEL_b1abe0737a964ca9bcb6d2d4ed210ffc"
      }
     },
     "af372f23e23840ff8185fc84f4ac9b40": {
      "model_module": "@jupyter-widgets/controls",
      "model_module_version": "1.4.0",
      "model_name": "VBoxModel",
      "state": {
       "children": [
        "IPY_MODEL_50f980f7a3a648fb86b6e7b3b488c67b",
        "IPY_MODEL_a1b59492d4374f7faed6137ebd1eb800",
        "IPY_MODEL_35baad3abe184a0c84ff0946dd5ad0de",
        "IPY_MODEL_fdb06cb94d3d461cbc51449f46cc9caf",
        "IPY_MODEL_d22ab844f16047069fee48fb52664567"
       ],
       "layout": "IPY_MODEL_49aa5ded73d04fa3922168cff3bbe234"
      }
     },
     "af5291be4e6e44b38c0abec46ab1ebe2": {
      "model_module": "@jupyter-widgets/controls",
      "model_module_version": "1.4.0",
      "model_name": "DescriptionStyleModel",
      "state": {
       "description_width": ""
      }
     },
     "af77aeb09ddf4e87a119d7a60e811bfe": {
      "model_module": "@jupyter-widgets/base",
      "model_module_version": "1.1.0",
      "model_name": "LayoutModel",
      "state": {
       "visibility": "visible",
       "width": "300px"
      }
     },
     "afa812b20f6641e697d237818a88c037": {
      "model_module": "@jupyter-widgets/controls",
      "model_module_version": "1.4.0",
      "model_name": "DescriptionStyleModel",
      "state": {
       "description_width": ""
      }
     },
     "afb151fdf61849a2a70af4173547af00": {
      "model_module": "@jupyter-widgets/controls",
      "model_module_version": "1.4.0",
      "model_name": "LabelModel",
      "state": {
       "layout": "IPY_MODEL_075bd299b6e64e2f81d0c2101a369cb3",
       "style": "IPY_MODEL_b9fe2bae86b347e38bdc154af789b11b",
       "value": "Sampler"
      }
     },
     "afc680af2bc548bfb5e463f0bcb2f909": {
      "model_module": "@jupyter-widgets/controls",
      "model_module_version": "1.4.0",
      "model_name": "SliderStyleModel",
      "state": {
       "description_width": ""
      }
     },
     "b028aa16c51a47edb4bb7f6185eed36f": {
      "model_module": "@jupyter-widgets/base",
      "model_module_version": "1.1.0",
      "model_name": "LayoutModel",
      "state": {
       "width": "90px"
      }
     },
     "b04449b4f3154f0b9b60c9460682060d": {
      "model_module": "@jupyter-widgets/base",
      "model_module_version": "1.1.0",
      "model_name": "LayoutModel",
      "state": {
       "visibility": "visible"
      }
     },
     "b0b693b905e745d38fc6a08fc71fb206": {
      "model_module": "@jupyter-widgets/base",
      "model_module_version": "1.1.0",
      "model_name": "LayoutModel",
      "state": {}
     },
     "b0bf421da1cc484f844cac0c2dc38fcd": {
      "model_module": "@jupyter-widgets/controls",
      "model_module_version": "1.4.0",
      "model_name": "ButtonModel",
      "state": {
       "button_style": "warning",
       "description": "Remove model",
       "layout": "IPY_MODEL_4d6bca27cf314804bbc4bdf93b0e017a",
       "style": "IPY_MODEL_4e7eb5827d144753b26863cb7d3e4cc9"
      }
     },
     "b0d12f685dcc48af86104cd5b58b0a67": {
      "model_module": "@jupyter-widgets/controls",
      "model_module_version": "1.4.0",
      "model_name": "DropdownModel",
      "state": {
       "_options_labels": [
        "None",
        "black",
        "grey"
       ],
       "index": 0,
       "layout": "IPY_MODEL_be9ec8280cdd4e4f916e90441c92a09f",
       "style": "IPY_MODEL_201849b5e198442ebe3b637cc8ddf123"
      }
     },
     "b0f35ae2e2a64a95ae11ef70a81a3862": {
      "model_module": "@jupyter-widgets/controls",
      "model_module_version": "1.4.0",
      "model_name": "DescriptionStyleModel",
      "state": {
       "description_width": ""
      }
     },
     "b11357c2383f40c595f42090c777239c": {
      "model_module": "@jupyter-widgets/controls",
      "model_module_version": "1.4.0",
      "model_name": "DescriptionStyleModel",
      "state": {
       "description_width": ""
      }
     },
     "b11b8346d32a49f29200714eb0569aa3": {
      "model_module": "@jupyter-widgets/controls",
      "model_module_version": "1.4.0",
      "model_name": "CheckboxModel",
      "state": {
       "disabled": false,
       "layout": "IPY_MODEL_5bca39061f84495d918f832447ebeeb3",
       "style": "IPY_MODEL_aa0060994cb04f11b5d3b33299a90e43",
       "value": true
      }
     },
     "b121dfc665aa454b8329c815c0e96698": {
      "model_module": "@jupyter-widgets/base",
      "model_module_version": "1.1.0",
      "model_name": "LayoutModel",
      "state": {}
     },
     "b16110edd62040ab903795b5e4e3e002": {
      "model_module": "@jupyter-widgets/base",
      "model_module_version": "1.1.0",
      "model_name": "LayoutModel",
      "state": {}
     },
     "b168e78a30da428cb26ae5933a949d82": {
      "model_module": "@jupyter-widgets/base",
      "model_module_version": "1.1.0",
      "model_name": "LayoutModel",
      "state": {}
     },
     "b168ef79a72943b48872b9d436aa73ac": {
      "model_module": "@jupyter-widgets/controls",
      "model_module_version": "1.4.0",
      "model_name": "VBoxModel",
      "state": {
       "children": [
        "IPY_MODEL_95cbd44399f448c8af254b120f85446d",
        "IPY_MODEL_51a68a5cdfba4014a83e8897c31cf2d3"
       ],
       "layout": "IPY_MODEL_5f588290979642fdbbdf3d53bf77d435"
      }
     },
     "b1723866368149f5a2f0a804bbfe7d17": {
      "model_module": "@jupyter-widgets/base",
      "model_module_version": "1.1.0",
      "model_name": "LayoutModel",
      "state": {}
     },
     "b1abe0737a964ca9bcb6d2d4ed210ffc": {
      "model_module": "@jupyter-widgets/controls",
      "model_module_version": "1.4.0",
      "model_name": "DescriptionStyleModel",
      "state": {
       "description_width": ""
      }
     },
     "b1b926deca064ded9708a7d6a2a4ceca": {
      "model_module": "@jupyter-widgets/base",
      "model_module_version": "1.1.0",
      "model_name": "LayoutModel",
      "state": {}
     },
     "b1f2575140d245d5b1b6ec8fddd687f1": {
      "model_module": "@jupyter-widgets/controls",
      "model_module_version": "1.4.0",
      "model_name": "HBoxModel",
      "state": {
       "children": [
        "IPY_MODEL_4f38c3f2ef734442b2affd4655f47b42",
        "IPY_MODEL_ff5e833c9ea74012b3424cecca36c3ec",
        "IPY_MODEL_722d339b20e1492587a777f3ca9912d9",
        "IPY_MODEL_e44b95c3f797455ab3e8a2ec7db6d468",
        "IPY_MODEL_3bd0b16c48944fb2993b727240cb3772"
       ],
       "layout": "IPY_MODEL_7b637debb01245b595e658221d8c348e"
      }
     },
     "b1f4e0ff6505442d8aa4515aea4d3a69": {
      "model_module": "@jupyter-widgets/controls",
      "model_module_version": "1.4.0",
      "model_name": "DescriptionStyleModel",
      "state": {
       "description_width": ""
      }
     },
     "b204bb18ee864e2fb3d3e9e18e45d8f9": {
      "model_module": "@jupyter-widgets/controls",
      "model_module_version": "1.4.0",
      "model_name": "DropdownModel",
      "state": {
       "_options_labels": [
        "None",
        "black",
        "grey"
       ],
       "index": 0,
       "layout": "IPY_MODEL_379d81ff93b04576bdd7479398bd3506",
       "style": "IPY_MODEL_dcdb6bb807c14c018ebc803a7a2bd475"
      }
     },
     "b20514b6658a46ce82dbee26e0e1a3c5": {
      "model_module": "@jupyter-widgets/controls",
      "model_module_version": "1.4.0",
      "model_name": "DescriptionStyleModel",
      "state": {
       "description_width": ""
      }
     },
     "b270c0fb818a47e59d980f0dedbfbcf0": {
      "model_module": "@jupyter-widgets/controls",
      "model_module_version": "1.4.0",
      "model_name": "VBoxModel",
      "state": {
       "children": [
        "IPY_MODEL_5c0c9b68546846d0be3bf36daa0f19f0",
        "IPY_MODEL_8fcdd190fe01401aa87175984e423cac",
        "IPY_MODEL_d3ca3fb28ec0438da48e725ee97f6e47",
        "IPY_MODEL_b9ea618ebf58475da05a0818faad46e1",
        "IPY_MODEL_3c4200b41f00494ab0257eaca703a572",
        "IPY_MODEL_7c9c5515f2ba4753937bffe422232b85",
        "IPY_MODEL_5eb354af86374f67961d45c1a9bfa3b3"
       ],
       "layout": "IPY_MODEL_b48655668477478ba726b32c106f9a00"
      }
     },
     "b2c194306a394ac7a76b4b697f0f20b1": {
      "model_module": "@jupyter-widgets/base",
      "model_module_version": "1.1.0",
      "model_name": "LayoutModel",
      "state": {}
     },
     "b2c74d2e08294c59a2b3a2df73d23bf7": {
      "model_module": "@jupyter-widgets/controls",
      "model_module_version": "1.4.0",
      "model_name": "DescriptionStyleModel",
      "state": {
       "description_width": ""
      }
     },
     "b2d6a8b842ed4b7d95a8ada7c1696b9b": {
      "model_module": "@jupyter-widgets/controls",
      "model_module_version": "1.4.0",
      "model_name": "DescriptionStyleModel",
      "state": {
       "description_width": ""
      }
     },
     "b306cfdffd244e4097272caab652c1c1": {
      "model_module": "@jupyter-widgets/controls",
      "model_module_version": "1.4.0",
      "model_name": "ButtonStyleModel",
      "state": {}
     },
     "b31593c8aa4e494a89bb2439c2590b61": {
      "model_module": "@jupyter-widgets/controls",
      "model_module_version": "1.4.0",
      "model_name": "ButtonStyleModel",
      "state": {}
     },
     "b315d100d4184a299b410bf842415ed7": {
      "model_module": "@jupyter-widgets/controls",
      "model_module_version": "1.4.0",
      "model_name": "LabelModel",
      "state": {
       "layout": "IPY_MODEL_b8f9ade8cc4142449d0b995bd82f37ad",
       "style": "IPY_MODEL_f00b93bbbfb242f28786cba15b98df51",
       "value": "Model"
      }
     },
     "b323d61d26e5446986dc761521b238c3": {
      "model_module": "@jupyter-widgets/output",
      "model_module_version": "1.0.0",
      "model_name": "OutputModel",
      "state": {
       "layout": "IPY_MODEL_31242e6c57e5447a8c910a9c16aa192d"
      }
     },
     "b3276438d55246e99331a02f18506b02": {
      "model_module": "@jupyter-widgets/output",
      "model_module_version": "1.0.0",
      "model_name": "OutputModel",
      "state": {
       "layout": "IPY_MODEL_07f9be42002b4ed6aa2abbba3a1ebba5"
      }
     },
     "b338c1f216e540f9902fb5b85c452832": {
      "model_module": "@jupyter-widgets/base",
      "model_module_version": "1.1.0",
      "model_name": "LayoutModel",
      "state": {}
     },
     "b35a593fac0342e78aaf01479791ec9e": {
      "model_module": "@jupyter-widgets/controls",
      "model_module_version": "1.4.0",
      "model_name": "LabelModel",
      "state": {
       "layout": "IPY_MODEL_ffa0433c71d245d49bb30b0ba15efa7f",
       "style": "IPY_MODEL_933740460fcb4ca1b3d5a02836364b25",
       "value": "PCA?"
      }
     },
     "b48655668477478ba726b32c106f9a00": {
      "model_module": "@jupyter-widgets/base",
      "model_module_version": "1.1.0",
      "model_name": "LayoutModel",
      "state": {}
     },
     "b4e3786202b74fe39f09b03a1a83420d": {
      "model_module": "@jupyter-widgets/base",
      "model_module_version": "1.1.0",
      "model_name": "LayoutModel",
      "state": {
       "visibility": "hidden",
       "width": "300px"
      }
     },
     "b5167d78e509459bb5ce7481602673a4": {
      "model_module": "@jupyter-widgets/controls",
      "model_module_version": "1.4.0",
      "model_name": "SliderStyleModel",
      "state": {
       "description_width": ""
      }
     },
     "b5460e4b140c42889105a06905651553": {
      "model_module": "@jupyter-widgets/controls",
      "model_module_version": "1.4.0",
      "model_name": "DescriptionStyleModel",
      "state": {
       "description_width": ""
      }
     },
     "b55a7c3ac7b3415e93eb5304489f1a4a": {
      "model_module": "@jupyter-widgets/controls",
      "model_module_version": "1.4.0",
      "model_name": "LabelModel",
      "state": {
       "layout": "IPY_MODEL_d79357cc6e024fbda697224aca2aa381",
       "style": "IPY_MODEL_af5291be4e6e44b38c0abec46ab1ebe2",
       "value": "PCA?"
      }
     },
     "b565582af9dd461fae5e697c5b85c241": {
      "model_module": "@jupyter-widgets/controls",
      "model_module_version": "1.4.0",
      "model_name": "DropdownModel",
      "state": {
       "_options_labels": [
        "dt",
        "logit",
        "linear_svc"
       ],
       "index": 1,
       "layout": "IPY_MODEL_604040093cfc4c728b4b50462d627dc9",
       "style": "IPY_MODEL_78713d50e2d3417ab4ce0e88ec892515"
      }
     },
     "b5e7681edb644531829453d8a9a40bfe": {
      "model_module": "@jupyter-widgets/controls",
      "model_module_version": "1.4.0",
      "model_name": "DescriptionStyleModel",
      "state": {
       "description_width": ""
      }
     },
     "b5e9139a53f34c8bbc77f3282a26abe2": {
      "model_module": "@jupyter-widgets/base",
      "model_module_version": "1.1.0",
      "model_name": "LayoutModel",
      "state": {
       "visibility": "visible",
       "width": "300px"
      }
     },
     "b6031662c7794f82b8cb7053eeaf1b29": {
      "model_module": "@jupyter-widgets/base",
      "model_module_version": "1.1.0",
      "model_name": "LayoutModel",
      "state": {}
     },
     "b61ca20211aa468ab19b443688c08137": {
      "model_module": "@jupyter-widgets/base",
      "model_module_version": "1.1.0",
      "model_name": "LayoutModel",
      "state": {}
     },
     "b67692c5d4e74db0a38b93d0b4503bad": {
      "model_module": "@jupyter-widgets/controls",
      "model_module_version": "1.4.0",
      "model_name": "DescriptionStyleModel",
      "state": {
       "description_width": ""
      }
     },
     "b683e800b12a4cd390e142f04483c3e7": {
      "model_module": "@jupyter-widgets/controls",
      "model_module_version": "1.4.0",
      "model_name": "ButtonModel",
      "state": {
       "button_style": "info",
       "description": "Add model",
       "layout": "IPY_MODEL_9d3d8dbc34dc46edbc3d6e26891e67e0",
       "style": "IPY_MODEL_f00f47c044634cb6a00ee400d4366275"
      }
     },
     "b6995b412836475188313ed5c39b2108": {
      "model_module": "@jupyter-widgets/base",
      "model_module_version": "1.1.0",
      "model_name": "LayoutModel",
      "state": {
       "visibility": "hidden"
      }
     },
     "b6b29b8be3b645729b70644bf178ac3b": {
      "model_module": "@jupyter-widgets/output",
      "model_module_version": "1.0.0",
      "model_name": "OutputModel",
      "state": {
       "layout": "IPY_MODEL_882b0b07226c4c79936819f4bcca057a"
      }
     },
     "b6e51290f4da4b08b067f7a5c877ec47": {
      "model_module": "@jupyter-widgets/controls",
      "model_module_version": "1.4.0",
      "model_name": "ButtonModel",
      "state": {
       "button_style": "warning",
       "description": "Remove model",
       "layout": "IPY_MODEL_374355b0a2e145d2ba0d60ad3c91a059",
       "style": "IPY_MODEL_7f350ad4f41940cabf04af2fe6b3c588"
      }
     },
     "b6f62164dd6a46ecb473d331776da0c9": {
      "model_module": "@jupyter-widgets/base",
      "model_module_version": "1.1.0",
      "model_name": "LayoutModel",
      "state": {
       "width": "90px"
      }
     },
     "b6feab094ce54e1c8d2436673fd350fc": {
      "model_module": "@jupyter-widgets/controls",
      "model_module_version": "1.4.0",
      "model_name": "SliderStyleModel",
      "state": {
       "description_width": ""
      }
     },
     "b7117e89f8d14873a813b2019d57b7a4": {
      "model_module": "@jupyter-widgets/output",
      "model_module_version": "1.0.0",
      "model_name": "OutputModel",
      "state": {
       "layout": "IPY_MODEL_088c0487ab3d443198ceb87b310ad40d"
      }
     },
     "b7192a0cde414ac69f6a97d0ffbe971c": {
      "model_module": "@jupyter-widgets/controls",
      "model_module_version": "1.4.0",
      "model_name": "VBoxModel",
      "state": {
       "children": [
        "IPY_MODEL_2cb0a9ca99e64782a6fef7e5a366d2ce",
        "IPY_MODEL_be5ed0c1082a4fa3bf115cdb09a94712",
        "IPY_MODEL_4754092c6bc849f091ea46a4e4850d32",
        "IPY_MODEL_4001f6c0b0ac4fe5bd223970f5650c96",
        "IPY_MODEL_3310e27d0a9747568007ef82373660f6",
        "IPY_MODEL_e351f1ce13044a15a60e2cd289661045",
        "IPY_MODEL_6d2a26b21784479a99a0e6a107f581ee"
       ],
       "layout": "IPY_MODEL_e5fcac8e8a2140e59e32d19365d069ec"
      }
     },
     "b78d64c3827541e6888501b03b6471b5": {
      "model_module": "@jupyter-widgets/controls",
      "model_module_version": "1.4.0",
      "model_name": "VBoxModel",
      "state": {
       "children": [
        "IPY_MODEL_366c019630fe4e1daf50f263a4041394",
        "IPY_MODEL_174d517827ba4c179d5973aedeb0b04a"
       ],
       "layout": "IPY_MODEL_66fd274e8f524a50aa0a29588ecc5c9e"
      }
     },
     "b7b55790878743b7b77e72cdd6ad7d31": {
      "model_module": "@jupyter-widgets/base",
      "model_module_version": "1.1.0",
      "model_name": "LayoutModel",
      "state": {}
     },
     "b7e8f911d4d948369df9e1327acdce7f": {
      "model_module": "@jupyter-widgets/controls",
      "model_module_version": "1.4.0",
      "model_name": "DescriptionStyleModel",
      "state": {
       "description_width": ""
      }
     },
     "b85761897ca747b1878ccd66766a1475": {
      "model_module": "@jupyter-widgets/base",
      "model_module_version": "1.1.0",
      "model_name": "LayoutModel",
      "state": {}
     },
     "b87e8dd39df04707ba7332f5129458a7": {
      "model_module": "@jupyter-widgets/base",
      "model_module_version": "1.1.0",
      "model_name": "LayoutModel",
      "state": {}
     },
     "b8a866e88d394709bfb9ac6cb34f7d7d": {
      "model_module": "@jupyter-widgets/base",
      "model_module_version": "1.1.0",
      "model_name": "LayoutModel",
      "state": {}
     },
     "b8c83ed45780453aa977f77024bea6a4": {
      "model_module": "@jupyter-widgets/base",
      "model_module_version": "1.1.0",
      "model_name": "LayoutModel",
      "state": {}
     },
     "b8d12a60f3c54833bdf4a79958f5ba46": {
      "model_module": "@jupyter-widgets/base",
      "model_module_version": "1.1.0",
      "model_name": "LayoutModel",
      "state": {}
     },
     "b8f9ade8cc4142449d0b995bd82f37ad": {
      "model_module": "@jupyter-widgets/base",
      "model_module_version": "1.1.0",
      "model_name": "LayoutModel",
      "state": {}
     },
     "b96601156c664f00aa771406ce1287cd": {
      "model_module": "@jupyter-widgets/controls",
      "model_module_version": "1.4.0",
      "model_name": "LabelModel",
      "state": {
       "layout": "IPY_MODEL_bddbdfc3a675447b88e3bff1668912e5",
       "style": "IPY_MODEL_67255259544a447e80825d358bdbf091",
       "value": "Number Estimators"
      }
     },
     "b977c225199d4458a0d47b8bdf68f42a": {
      "model_module": "@jupyter-widgets/controls",
      "model_module_version": "1.4.0",
      "model_name": "DescriptionStyleModel",
      "state": {
       "description_width": ""
      }
     },
     "b9ea618ebf58475da05a0818faad46e1": {
      "model_module": "@jupyter-widgets/controls",
      "model_module_version": "1.4.0",
      "model_name": "IntRangeSliderModel",
      "state": {
       "_model_name": "IntRangeSliderModel",
       "_view_name": "IntRangeSliderView",
       "description": "Features",
       "layout": "IPY_MODEL_bc64eaa52f28410199118507be7b2ac1",
       "max": 400,
       "min": 30,
       "step": 10,
       "style": "IPY_MODEL_c7d7411b51d74c4488c8d8383c5b9d89",
       "value": [
        30,
        100
       ]
      }
     },
     "b9f62d90e7ed435d9c2e93c16addf95c": {
      "model_module": "@jupyter-widgets/controls",
      "model_module_version": "1.4.0",
      "model_name": "LabelModel",
      "state": {
       "layout": "IPY_MODEL_501024f2763941b49d1d342966df0b2f",
       "style": "IPY_MODEL_60e7532b76014df5a1211a72df589702",
       "value": "PCA?"
      }
     },
     "b9fe2bae86b347e38bdc154af789b11b": {
      "model_module": "@jupyter-widgets/controls",
      "model_module_version": "1.4.0",
      "model_name": "DescriptionStyleModel",
      "state": {
       "description_width": ""
      }
     },
     "ba17d64d66374fc7993617a914b686c8": {
      "model_module": "@jupyter-widgets/controls",
      "model_module_version": "1.4.0",
      "model_name": "VBoxModel",
      "state": {
       "children": [
        "IPY_MODEL_dbe7673ded8a4f32bd4258145bf49dd1",
        "IPY_MODEL_83cbe9f7dd664959a88a8e2af1c53026"
       ],
       "layout": "IPY_MODEL_4eba1edff9ba4e1899003d31b9427785"
      }
     },
     "ba284a6894ba44f8a3b84d66637a9f85": {
      "model_module": "@jupyter-widgets/base",
      "model_module_version": "1.1.0",
      "model_name": "LayoutModel",
      "state": {}
     },
     "ba75484f7c35454eb15d42077d722608": {
      "model_module": "@jupyter-widgets/controls",
      "model_module_version": "1.4.0",
      "model_name": "VBoxModel",
      "state": {
       "children": [
        "IPY_MODEL_b55a7c3ac7b3415e93eb5304489f1a4a",
        "IPY_MODEL_f451e5486b38482191e6e67d57c5d7ed"
       ],
       "layout": "IPY_MODEL_b338c1f216e540f9902fb5b85c452832"
      }
     },
     "ba7af8943e904a47999624812331a81f": {
      "model_module": "@jupyter-widgets/base",
      "model_module_version": "1.1.0",
      "model_name": "LayoutModel",
      "state": {}
     },
     "baac565067314bd69ca9d9e94347d848": {
      "model_module": "@jupyter-widgets/base",
      "model_module_version": "1.1.0",
      "model_name": "LayoutModel",
      "state": {}
     },
     "bac98550f1c74b9181ea447a8eef5996": {
      "model_module": "@jupyter-widgets/controls",
      "model_module_version": "1.4.0",
      "model_name": "IntRangeSliderModel",
      "state": {
       "_model_name": "IntRangeSliderModel",
       "_view_name": "IntRangeSliderView",
       "description": "Features",
       "layout": "IPY_MODEL_2ac05247bec44ed6942e342368c09208",
       "max": 400,
       "min": 30,
       "step": 10,
       "style": "IPY_MODEL_89d9604255af40dc95134ea310e4f609",
       "value": [
        30,
        100
       ]
      }
     },
     "bb0ebeb99e4e4706a6ff4e4d9afd5b14": {
      "model_module": "@jupyter-widgets/controls",
      "model_module_version": "1.4.0",
      "model_name": "SliderStyleModel",
      "state": {
       "description_width": ""
      }
     },
     "bbbe1e3d6f8744809fab15131a0d807f": {
      "model_module": "@jupyter-widgets/output",
      "model_module_version": "1.0.0",
      "model_name": "OutputModel",
      "state": {
       "layout": "IPY_MODEL_169f9194fca4416ebc217d8bf2299c8d"
      }
     },
     "bbc5f0ad5f7644618cd416a6f360d20c": {
      "model_module": "@jupyter-widgets/controls",
      "model_module_version": "1.4.0",
      "model_name": "VBoxModel",
      "state": {
       "children": [
        "IPY_MODEL_a043af60d3874ec4b24df1c116a86f7f",
        "IPY_MODEL_a104c120de414bfea51f0b6ffb00d53c"
       ],
       "layout": "IPY_MODEL_dcd100731d084f84ba0cb2f9d6f554db"
      }
     },
     "bc09fbf009504a66b5af7063ffcaac3b": {
      "model_module": "@jupyter-widgets/controls",
      "model_module_version": "1.4.0",
      "model_name": "ButtonModel",
      "state": {
       "button_style": "warning",
       "description": "Remove model",
       "layout": "IPY_MODEL_62f3609818cb4a4aa46f19d528f07d39",
       "style": "IPY_MODEL_e22014e1642d49a2a185f7094f2d9177"
      }
     },
     "bc64eaa52f28410199118507be7b2ac1": {
      "model_module": "@jupyter-widgets/base",
      "model_module_version": "1.1.0",
      "model_name": "LayoutModel",
      "state": {}
     },
     "bc85e9fbdf524aa58aa28fef058ff52a": {
      "model_module": "@jupyter-widgets/controls",
      "model_module_version": "1.4.0",
      "model_name": "DescriptionStyleModel",
      "state": {
       "description_width": ""
      }
     },
     "bc95c466ccff435d8c3a5d70cf0dcd37": {
      "model_module": "@jupyter-widgets/controls",
      "model_module_version": "1.4.0",
      "model_name": "VBoxModel",
      "state": {
       "children": [
        "IPY_MODEL_e005555686614e1a8795632930f7721f",
        "IPY_MODEL_3d3dfacf02ae43198636da6f3494989c"
       ],
       "layout": "IPY_MODEL_d4bcc107137246778842899a4b0d2743"
      }
     },
     "bcf10a74a8d44f1590391efc5c8938bf": {
      "model_module": "@jupyter-widgets/base",
      "model_module_version": "1.1.0",
      "model_name": "LayoutModel",
      "state": {}
     },
     "bcfbe85c8d41475385d9f2ce3b6e7020": {
      "model_module": "@jupyter-widgets/base",
      "model_module_version": "1.1.0",
      "model_name": "LayoutModel",
      "state": {}
     },
     "bd0aeee3fe9a4388a8d9b07a9a7e8807": {
      "model_module": "@jupyter-widgets/controls",
      "model_module_version": "1.4.0",
      "model_name": "RadioButtonsModel",
      "state": {
       "_options_labels": [
        "1000",
        "2000",
        "5000",
        "10000"
       ],
       "description": "Size",
       "index": 0,
       "layout": "IPY_MODEL_7bbf1e65ff2d4c1ebd14313e1c332665",
       "style": "IPY_MODEL_24eed6bb63e745039dde772e17645695"
      }
     },
     "bdb08691e7554dc8b76f5cd9f6f79423": {
      "model_module": "@jupyter-widgets/controls",
      "model_module_version": "1.4.0",
      "model_name": "DropdownModel",
      "state": {
       "_options_labels": [
        "rbf",
        "nystroem"
       ],
       "description": "Sampler",
       "index": 0,
       "layout": "IPY_MODEL_76d0ef4c7b9940abbaae21a85720e858",
       "style": "IPY_MODEL_43a06f7db1654cfbbebd86a0c84b7849"
      }
     },
     "bddbdfc3a675447b88e3bff1668912e5": {
      "model_module": "@jupyter-widgets/base",
      "model_module_version": "1.1.0",
      "model_name": "LayoutModel",
      "state": {}
     },
     "be1ed043d2354ecca5f68920674ebb1f": {
      "model_module": "@jupyter-widgets/controls",
      "model_module_version": "1.4.0",
      "model_name": "DescriptionStyleModel",
      "state": {
       "description_width": ""
      }
     },
     "be583a9128724984bf9d979389a8248c": {
      "model_module": "@jupyter-widgets/controls",
      "model_module_version": "1.4.0",
      "model_name": "VBoxModel",
      "state": {
       "children": [
        "IPY_MODEL_82fed45531764a01baa9fa0f8373fd45",
        "IPY_MODEL_a861950382aa49f08c3537956feea6ea"
       ],
       "layout": "IPY_MODEL_45f2f425c3ea4189a585d86ddeffefd2"
      }
     },
     "be5ed0c1082a4fa3bf115cdb09a94712": {
      "model_module": "@jupyter-widgets/controls",
      "model_module_version": "1.4.0",
      "model_name": "RadioButtonsModel",
      "state": {
       "_options_labels": [
        "1000",
        "2000",
        "5000",
        "10000"
       ],
       "description": "Size",
       "index": 0,
       "layout": "IPY_MODEL_8b0152bfbc5c424cbff385fe9a9a5c3b",
       "style": "IPY_MODEL_be1ed043d2354ecca5f68920674ebb1f"
      }
     },
     "be7a4d386d99485ba913ec8f458988ff": {
      "model_module": "@jupyter-widgets/controls",
      "model_module_version": "1.4.0",
      "model_name": "SliderStyleModel",
      "state": {
       "description_width": ""
      }
     },
     "be9ec8280cdd4e4f916e90441c92a09f": {
      "model_module": "@jupyter-widgets/base",
      "model_module_version": "1.1.0",
      "model_name": "LayoutModel",
      "state": {
       "width": "90px"
      }
     },
     "bf0d1ed6a37e47b3830d0364658a08cc": {
      "model_module": "@jupyter-widgets/controls",
      "model_module_version": "1.4.0",
      "model_name": "SliderStyleModel",
      "state": {
       "description_width": ""
      }
     },
     "bfa7121607054b22885b153155c11d1d": {
      "model_module": "@jupyter-widgets/controls",
      "model_module_version": "1.4.0",
      "model_name": "IntRangeSliderModel",
      "state": {
       "_model_name": "IntRangeSliderModel",
       "_view_name": "IntRangeSliderView",
       "disabled": true,
       "layout": "IPY_MODEL_5f873323f8ff4d42922f4e9f2e4a47e8",
       "max": 400,
       "min": 30,
       "step": 10,
       "style": "IPY_MODEL_d4b301c137e44f92807c036798b8088e",
       "value": [
        30,
        100
       ]
      }
     },
     "bfeba3f038cc4fdeb16c21f40e64536c": {
      "model_module": "@jupyter-widgets/controls",
      "model_module_version": "1.4.0",
      "model_name": "SliderStyleModel",
      "state": {
       "description_width": ""
      }
     },
     "c01ac162af2449a7b9ef5da5699d0127": {
      "model_module": "@jupyter-widgets/base",
      "model_module_version": "1.1.0",
      "model_name": "LayoutModel",
      "state": {
       "border": "3px solid black"
      }
     },
     "c03f245063694b6fb21a4b58cadfdd45": {
      "model_module": "@jupyter-widgets/controls",
      "model_module_version": "1.4.0",
      "model_name": "ButtonModel",
      "state": {
       "button_style": "info",
       "description": "Demo0",
       "layout": "IPY_MODEL_f0c9c57fa0ce4c019ddad56693a4765f",
       "style": "IPY_MODEL_50bd151ff43845e69016aba442ea9149"
      }
     },
     "c0a444a8e0a54d448f9df89c7dad66ab": {
      "model_module": "@jupyter-widgets/controls",
      "model_module_version": "1.4.0",
      "model_name": "LabelModel",
      "state": {
       "layout": "IPY_MODEL_02e56f41c56e4eaca3fc9b68f6a7c1d6",
       "style": "IPY_MODEL_ca95107fa5ce48d7b6874fb218f231f1",
       "value": "Box Type"
      }
     },
     "c0dc503760f14885adffd7a58566b3e0": {
      "model_module": "@jupyter-widgets/base",
      "model_module_version": "1.1.0",
      "model_name": "LayoutModel",
      "state": {}
     },
     "c1360911ced44c58b02f01fd1b1c6846": {
      "model_module": "@jupyter-widgets/base",
      "model_module_version": "1.1.0",
      "model_name": "LayoutModel",
      "state": {
       "width": "90px"
      }
     },
     "c151013b52de41939e3f1406aff52cd0": {
      "model_module": "@jupyter-widgets/base",
      "model_module_version": "1.1.0",
      "model_name": "LayoutModel",
      "state": {}
     },
     "c15e55dc2720410ba3b7a74f98cd9182": {
      "model_module": "@jupyter-widgets/controls",
      "model_module_version": "1.4.0",
      "model_name": "DescriptionStyleModel",
      "state": {
       "description_width": ""
      }
     },
     "c176f2d131034ef29b59e43d8d2dad35": {
      "model_module": "@jupyter-widgets/base",
      "model_module_version": "1.1.0",
      "model_name": "LayoutModel",
      "state": {
       "width": "90px"
      }
     },
     "c192c06f81a84e8690f2b6c004a41bbc": {
      "model_module": "@jupyter-widgets/controls",
      "model_module_version": "1.4.0",
      "model_name": "VBoxModel",
      "state": {
       "children": [
        "IPY_MODEL_94277ea1c9ab4272873437b246559d03",
        "IPY_MODEL_136330f219d043e6a687a1a42e5c8d8d",
        "IPY_MODEL_3a1c3ffda1af456d9e685abe4a58e2c3",
        "IPY_MODEL_3d2d18f11e044b59bff166bb31ae3e70",
        "IPY_MODEL_59e4df225db0494187dcf8770346a670",
        "IPY_MODEL_a74e7acc602742b99eebb698f54d6925",
        "IPY_MODEL_23a20a9e0467430c8ff3a0438de5a686"
       ],
       "layout": "IPY_MODEL_4782cf8df8454c9db7194851306160ec"
      }
     },
     "c19ddaf8eb9e4edb9088ca6183459cbc": {
      "model_module": "@jupyter-widgets/controls",
      "model_module_version": "1.4.0",
      "model_name": "LabelModel",
      "state": {
       "layout": "IPY_MODEL_1016a05747c34ffaac170e231fc9a5ca",
       "style": "IPY_MODEL_6bcd1a5a264a4fe6a037b77321331c92",
       "value": "Model"
      }
     },
     "c1e7f8e525d84a2d8474f43ec4088fd1": {
      "model_module": "@jupyter-widgets/controls",
      "model_module_version": "1.4.0",
      "model_name": "HBoxModel",
      "state": {
       "children": [
        "IPY_MODEL_df41f341deb94afa82cef7ed77edd7e0",
        "IPY_MODEL_e34a96c5173842fab8c7b0c1c5a4842c",
        "IPY_MODEL_f8bc376ea5304a4ab81a5225b968a397",
        "IPY_MODEL_34bf7a5d4f5442179001ffe5aba72f19",
        "IPY_MODEL_bbc5f0ad5f7644618cd416a6f360d20c"
       ],
       "layout": "IPY_MODEL_16664713565c46f5930685da5b41b13f"
      }
     },
     "c1eabe602fd8419490acd41c4f46ebed": {
      "model_module": "@jupyter-widgets/base",
      "model_module_version": "1.1.0",
      "model_name": "LayoutModel",
      "state": {}
     },
     "c2109cae54974b4c823bc28986fbb0e8": {
      "model_module": "@jupyter-widgets/controls",
      "model_module_version": "1.4.0",
      "model_name": "DropdownModel",
      "state": {
       "_options_labels": [
        "None",
        "black",
        "grey"
       ],
       "index": 0,
       "layout": "IPY_MODEL_604040093cfc4c728b4b50462d627dc9",
       "style": "IPY_MODEL_f5dedfae5c75488b98dd7cebb74078ed"
      }
     },
     "c24a766901f64989961784da7b496f3d": {
      "model_module": "@jupyter-widgets/base",
      "model_module_version": "1.1.0",
      "model_name": "LayoutModel",
      "state": {}
     },
     "c27624949f8e4dfca5fb6506b01a3522": {
      "model_module": "@jupyter-widgets/base",
      "model_module_version": "1.1.0",
      "model_name": "LayoutModel",
      "state": {}
     },
     "c29ec3b50a46452e82e3b6cd2707b880": {
      "model_module": "@jupyter-widgets/base",
      "model_module_version": "1.1.0",
      "model_name": "LayoutModel",
      "state": {}
     },
     "c2b00b5103994778b76b3669c6741797": {
      "model_module": "@jupyter-widgets/base",
      "model_module_version": "1.1.0",
      "model_name": "LayoutModel",
      "state": {}
     },
     "c2e0f876fb12436f872822c8b3adff46": {
      "model_module": "@jupyter-widgets/controls",
      "model_module_version": "1.4.0",
      "model_name": "LabelModel",
      "state": {
       "layout": "IPY_MODEL_f0102dc3bc754466888e956943151fbb",
       "style": "IPY_MODEL_6ef660d6798d4ab3a1a335035542e42d",
       "value": "Box Type"
      }
     },
     "c2f531853b844bcab9c31d0592fdcb92": {
      "model_module": "@jupyter-widgets/base",
      "model_module_version": "1.1.0",
      "model_name": "LayoutModel",
      "state": {}
     },
     "c304cd740100462481fb96d22b90836a": {
      "model_module": "@jupyter-widgets/base",
      "model_module_version": "1.1.0",
      "model_name": "LayoutModel",
      "state": {}
     },
     "c32ca298e6e74a5d9e054bd066e5076d": {
      "model_module": "@jupyter-widgets/base",
      "model_module_version": "1.1.0",
      "model_name": "LayoutModel",
      "state": {}
     },
     "c349b74353b3426fb796ec6411b29d70": {
      "model_module": "@jupyter-widgets/controls",
      "model_module_version": "1.4.0",
      "model_name": "DescriptionStyleModel",
      "state": {
       "description_width": ""
      }
     },
     "c38d9062db7844c7a6ebe870501c4106": {
      "model_module": "@jupyter-widgets/base",
      "model_module_version": "1.1.0",
      "model_name": "LayoutModel",
      "state": {}
     },
     "c3b4b689ae844eaa9362fc46b6e1eb30": {
      "model_module": "@jupyter-widgets/controls",
      "model_module_version": "1.4.0",
      "model_name": "SliderStyleModel",
      "state": {
       "description_width": ""
      }
     },
     "c3b816841c5343dca729aea2c22d899e": {
      "model_module": "@jupyter-widgets/base",
      "model_module_version": "1.1.0",
      "model_name": "LayoutModel",
      "state": {}
     },
     "c3f12b61c3704bd1a87fb0777d830589": {
      "model_module": "@jupyter-widgets/controls",
      "model_module_version": "1.4.0",
      "model_name": "DescriptionStyleModel",
      "state": {
       "description_width": ""
      }
     },
     "c3ff311d6175464aa0c82c0abe5e4ad7": {
      "model_module": "@jupyter-widgets/output",
      "model_module_version": "1.0.0",
      "model_name": "OutputModel",
      "state": {
       "layout": "IPY_MODEL_ef79567dc9084b6dad0c837bff43b2a6"
      }
     },
     "c478278830f9485e98c9aab3fa5bb5d9": {
      "model_module": "@jupyter-widgets/base",
      "model_module_version": "1.1.0",
      "model_name": "LayoutModel",
      "state": {}
     },
     "c496737bd2d34509ad6cfcba3aeef1a3": {
      "model_module": "@jupyter-widgets/controls",
      "model_module_version": "1.4.0",
      "model_name": "DropdownModel",
      "state": {
       "_options_labels": [
        "None",
        "rbf",
        "nystroem"
       ],
       "index": 0,
       "layout": "IPY_MODEL_4c1a3207ce0a49ffac85b3587d3975e2",
       "style": "IPY_MODEL_f3c85df56c2d459fb34e45fc76c815f5"
      }
     },
     "c49e66f98db0409599031396bd518187": {
      "model_module": "@jupyter-widgets/controls",
      "model_module_version": "1.4.0",
      "model_name": "DescriptionStyleModel",
      "state": {
       "description_width": ""
      }
     },
     "c4c12fa2d3874a0ebb5ca2ac7c096502": {
      "model_module": "@jupyter-widgets/controls",
      "model_module_version": "1.4.0",
      "model_name": "ButtonModel",
      "state": {
       "button_style": "info",
       "description": "Add model",
       "layout": "IPY_MODEL_6a9cc83242ef4da5809766729925ba7f",
       "style": "IPY_MODEL_dec29d9b333442258520a7b8b11b3ba9"
      }
     },
     "c4fcda6293924cd7914ef6dd72e26a92": {
      "model_module": "@jupyter-widgets/base",
      "model_module_version": "1.1.0",
      "model_name": "LayoutModel",
      "state": {}
     },
     "c513a838fd2f47558a7b64b5a9d9a817": {
      "model_module": "@jupyter-widgets/controls",
      "model_module_version": "1.4.0",
      "model_name": "IntSliderModel",
      "state": {
       "disabled": true,
       "layout": "IPY_MODEL_12ec15bcb9a84de48033456f0b110e11",
       "max": 200,
       "min": 2,
       "style": "IPY_MODEL_afc680af2bc548bfb5e463f0bcb2f909",
       "value": 30
      }
     },
     "c5591e23c6c1467f95f47e7802d5038c": {
      "model_module": "@jupyter-widgets/controls",
      "model_module_version": "1.4.0",
      "model_name": "DescriptionStyleModel",
      "state": {
       "description_width": ""
      }
     },
     "c588b2b59fa64713a3669a28679d9a74": {
      "model_module": "@jupyter-widgets/controls",
      "model_module_version": "1.4.0",
      "model_name": "DescriptionStyleModel",
      "state": {
       "description_width": ""
      }
     },
     "c5c1ddeb2ead4db8bd6b85c9df6c2c57": {
      "model_module": "@jupyter-widgets/controls",
      "model_module_version": "1.4.0",
      "model_name": "VBoxModel",
      "state": {
       "children": [
        "IPY_MODEL_9ddf447c61cf41f0ad8b3a25c5402248",
        "IPY_MODEL_23871f747e684a629e43d6b6dece3b91"
       ],
       "layout": "IPY_MODEL_26550320b8cf47aeab6c6ea180dc1a99"
      }
     },
     "c62244161aa64fb0b13f03774ae961ae": {
      "model_module": "@jupyter-widgets/base",
      "model_module_version": "1.1.0",
      "model_name": "LayoutModel",
      "state": {}
     },
     "c6a9cd97a361441a8664f70255bfdf79": {
      "model_module": "@jupyter-widgets/controls",
      "model_module_version": "1.4.0",
      "model_name": "ButtonModel",
      "state": {
       "button_style": "info",
       "description": "Demo0",
       "layout": "IPY_MODEL_2a1f1aae140d4ecd86a66ba2329eaa77",
       "style": "IPY_MODEL_ff4ce164e632449c8c19ed00f9bde22d"
      }
     },
     "c6b7aa0218ba4e158b7f86b46fb08ce6": {
      "model_module": "@jupyter-widgets/controls",
      "model_module_version": "1.4.0",
      "model_name": "ButtonStyleModel",
      "state": {}
     },
     "c6d72f07fb5e438989992734cb1a3fb8": {
      "model_module": "@jupyter-widgets/output",
      "model_module_version": "1.0.0",
      "model_name": "OutputModel",
      "state": {
       "layout": "IPY_MODEL_b168e78a30da428cb26ae5933a949d82"
      }
     },
     "c6f2e2d19c744399a81ad4af4799b00b": {
      "model_module": "@jupyter-widgets/controls",
      "model_module_version": "1.4.0",
      "model_name": "DropdownModel",
      "state": {
       "_options_labels": [
        "segment",
        "covertype",
        "digits",
        "fall_detection",
        "mnist",
        "pen_digits",
        "satellite",
        "vowel"
       ],
       "description": "Dataset:",
       "index": 0,
       "layout": "IPY_MODEL_d4b17485e2184e8a9d639bf23afaa0f8",
       "style": "IPY_MODEL_f92f1f37f1e34feca3d61af2ae1f0e9f"
      }
     },
     "c7147250d221480aac290e11b2fad727": {
      "model_module": "@jupyter-widgets/base",
      "model_module_version": "1.1.0",
      "model_name": "LayoutModel",
      "state": {}
     },
     "c73cbce8717648a487ae807cbf0df655": {
      "model_module": "@jupyter-widgets/controls",
      "model_module_version": "1.4.0",
      "model_name": "ButtonStyleModel",
      "state": {}
     },
     "c79da50a372f46b89402d523cc20a495": {
      "model_module": "@jupyter-widgets/controls",
      "model_module_version": "1.4.0",
      "model_name": "DropdownModel",
      "state": {
       "_options_labels": [
        "segment",
        "covertype",
        "digits",
        "fall_detection",
        "mnist",
        "pen_digits",
        "satellite",
        "vowel"
       ],
       "description": "Dataset:",
       "index": 0,
       "layout": "IPY_MODEL_86130186524847b7b3163ca668ae8d75",
       "style": "IPY_MODEL_4ea1e1f67ff94e648994281f60525814"
      }
     },
     "c7b89acace594428b12386ee90f8bc3e": {
      "model_module": "@jupyter-widgets/controls",
      "model_module_version": "1.4.0",
      "model_name": "ButtonModel",
      "state": {
       "button_style": "warning",
       "description": "Remove model",
       "layout": "IPY_MODEL_0e887d8770b44a08b461d2e844d9554e",
       "style": "IPY_MODEL_6caa39ba7e6143dc80d2be8ca9ecf046"
      }
     },
     "c7d7411b51d74c4488c8d8383c5b9d89": {
      "model_module": "@jupyter-widgets/controls",
      "model_module_version": "1.4.0",
      "model_name": "SliderStyleModel",
      "state": {
       "description_width": ""
      }
     },
     "c7e0f2e2687b4513958cb49f792f7eaa": {
      "model_module": "@jupyter-widgets/base",
      "model_module_version": "1.1.0",
      "model_name": "LayoutModel",
      "state": {}
     },
     "c7efbf468663420e9234079f1acfdd0e": {
      "model_module": "@jupyter-widgets/controls",
      "model_module_version": "1.4.0",
      "model_name": "DescriptionStyleModel",
      "state": {
       "description_width": ""
      }
     },
     "c8160f9205da4e83974b82d6cca9e98b": {
      "model_module": "@jupyter-widgets/output",
      "model_module_version": "1.0.0",
      "model_name": "OutputModel",
      "state": {
       "layout": "IPY_MODEL_913ce892f38e4be288f81001da8cb542"
      }
     },
     "c83796537f5b40d6a33fe5ee5b481f75": {
      "model_module": "@jupyter-widgets/controls",
      "model_module_version": "1.4.0",
      "model_name": "DropdownModel",
      "state": {
       "_options_labels": [
        "None",
        "black",
        "grey"
       ],
       "index": 0,
       "layout": "IPY_MODEL_36bf42b8d4e64a4d890a71320315d472",
       "style": "IPY_MODEL_f584a1c53a0a4a36be462a9ab3a9987e"
      }
     },
     "c8dae4f17aa14b37a91644c1da066d49": {
      "model_module": "@jupyter-widgets/base",
      "model_module_version": "1.1.0",
      "model_name": "LayoutModel",
      "state": {
       "visibility": "hidden",
       "width": "300px"
      }
     },
     "c8de4d08c6f64defa3fb570051a89cf1": {
      "model_module": "@jupyter-widgets/controls",
      "model_module_version": "1.4.0",
      "model_name": "LabelModel",
      "state": {
       "layout": "IPY_MODEL_5a8069344e594dafae5de8a6f783e594",
       "style": "IPY_MODEL_ee9c63d215b447cc9f27024a44fa31fc",
       "value": "Sampler"
      }
     },
     "c96dab83e2c2439fa346e12bfe1b736a": {
      "model_module": "@jupyter-widgets/controls",
      "model_module_version": "1.4.0",
      "model_name": "CheckboxModel",
      "state": {
       "disabled": false,
       "layout": "IPY_MODEL_b7b55790878743b7b77e72cdd6ad7d31",
       "style": "IPY_MODEL_909fdabf1ef44a689b537937f67ee7e0",
       "value": false
      }
     },
     "c9cea4f9ea49453ba80a5b224355d983": {
      "model_module": "@jupyter-widgets/controls",
      "model_module_version": "1.4.0",
      "model_name": "DropdownModel",
      "state": {
       "_options_labels": [
        "None",
        "rbf",
        "nystroem"
       ],
       "index": 2,
       "layout": "IPY_MODEL_f889a5da21724244ac6bedbda306c459",
       "style": "IPY_MODEL_d94ac53f368d4722b8c117ac17cfb79e"
      }
     },
     "c9da525d3952409296a19711e7edffec": {
      "model_module": "@jupyter-widgets/base",
      "model_module_version": "1.1.0",
      "model_name": "LayoutModel",
      "state": {}
     },
     "c9edb312316e418fbadc6b919c44cad6": {
      "model_module": "@jupyter-widgets/controls",
      "model_module_version": "1.4.0",
      "model_name": "DropdownModel",
      "state": {
       "_options_labels": [
        "None",
        "rbf",
        "nystroem"
       ],
       "index": 1,
       "layout": "IPY_MODEL_179fae3d637343769a280ab0df2e2cec",
       "style": "IPY_MODEL_12b68f6a0d694b6c9b6aee889f2a3468"
      }
     },
     "ca021c4f41ba4904b94457af4a4a5973": {
      "model_module": "@jupyter-widgets/base",
      "model_module_version": "1.1.0",
      "model_name": "LayoutModel",
      "state": {}
     },
     "ca050544069b49a18daeb72dcd37e4c0": {
      "model_module": "@jupyter-widgets/controls",
      "model_module_version": "1.4.0",
      "model_name": "VBoxModel",
      "state": {
       "children": [
        "IPY_MODEL_206f8832becc4a48bcc733aa81d86077",
        "IPY_MODEL_04445dd56fcf461a9b50774089c0fa2f"
       ],
       "layout": "IPY_MODEL_eb62fbb92d704a0892c16589f95fe54f"
      }
     },
     "ca563ee3c54b4118b7ed2d3857f3a06f": {
      "model_module": "@jupyter-widgets/controls",
      "model_module_version": "1.4.0",
      "model_name": "RadioButtonsModel",
      "state": {
       "_options_labels": [
        "1000",
        "2000",
        "5000",
        "10000"
       ],
       "description": "Size",
       "index": 0,
       "layout": "IPY_MODEL_64b51d537bfd48e09d4a504422c718dd",
       "style": "IPY_MODEL_0ec4e21826a747d6849337337d32612f"
      }
     },
     "ca95107fa5ce48d7b6874fb218f231f1": {
      "model_module": "@jupyter-widgets/controls",
      "model_module_version": "1.4.0",
      "model_name": "DescriptionStyleModel",
      "state": {
       "description_width": ""
      }
     },
     "caab70b6c6fb4f4e99d35bebf1fa792e": {
      "model_module": "@jupyter-widgets/controls",
      "model_module_version": "1.4.0",
      "model_name": "DescriptionStyleModel",
      "state": {
       "description_width": ""
      }
     },
     "caddf6d0112e48d8b76b8c4ddd146d27": {
      "model_module": "@jupyter-widgets/controls",
      "model_module_version": "1.4.0",
      "model_name": "LabelModel",
      "state": {
       "layout": "IPY_MODEL_a1912e04895441f4a8462b8dc70ba9dd",
       "style": "IPY_MODEL_11529d0113084a7ab2988f35b71ccb0c",
       "value": "Sampler"
      }
     },
     "caf377fa89a2457baed1803106485ef4": {
      "model_module": "@jupyter-widgets/base",
      "model_module_version": "1.1.0",
      "model_name": "LayoutModel",
      "state": {}
     },
     "cb2eed11a9504f89ae6545dcd2c1d2a0": {
      "model_module": "@jupyter-widgets/controls",
      "model_module_version": "1.4.0",
      "model_name": "SliderStyleModel",
      "state": {
       "description_width": ""
      }
     },
     "cbbfaa2bf1cc481ab46a7d8aae063062": {
      "model_module": "@jupyter-widgets/controls",
      "model_module_version": "1.4.0",
      "model_name": "LabelModel",
      "state": {
       "layout": "IPY_MODEL_75762d182d9a4514b51da9d0db9d0403",
       "style": "IPY_MODEL_06ad189aec40404dbd852377b5594848",
       "value": "Number Estimators"
      }
     },
     "cbc98a9959674ebea86984f4367ec1ea": {
      "model_module": "@jupyter-widgets/controls",
      "model_module_version": "1.4.0",
      "model_name": "ButtonModel",
      "state": {
       "button_style": "info",
       "description": "Demo0",
       "layout": "IPY_MODEL_f2f9473a572d4ecfa4c08252df50af62",
       "style": "IPY_MODEL_19054819441d4fa393c792f731bb24de"
      }
     },
     "cbd9a041b4ba4e78928d6a6ff6972d97": {
      "model_module": "@jupyter-widgets/base",
      "model_module_version": "1.1.0",
      "model_name": "LayoutModel",
      "state": {
       "visibility": "hidden"
      }
     },
     "cc95f7f8208d44c9b865622ab5721f39": {
      "model_module": "@jupyter-widgets/output",
      "model_module_version": "1.0.0",
      "model_name": "OutputModel",
      "state": {
       "layout": "IPY_MODEL_819a4c26d9e94e93af63bc5d22f4a7a2"
      }
     },
     "cc9ad29d6fec4169856e96a9b8011389": {
      "model_module": "@jupyter-widgets/controls",
      "model_module_version": "1.4.0",
      "model_name": "DropdownModel",
      "state": {
       "_options_labels": [
        "segment",
        "covertype",
        "digits",
        "fall_detection",
        "mnist",
        "pen_digits",
        "satellite",
        "vowel"
       ],
       "description": "Dataset:",
       "index": 0,
       "layout": "IPY_MODEL_1706e3ef59044926b4d3da007543ccdd",
       "style": "IPY_MODEL_112e2ccb12c34e4c96af9223be7abe01"
      }
     },
     "ccda3806dbfc403798077c5531c71b94": {
      "model_module": "@jupyter-widgets/controls",
      "model_module_version": "1.4.0",
      "model_name": "LabelModel",
      "state": {
       "layout": "IPY_MODEL_c32ca298e6e74a5d9e054bd066e5076d",
       "style": "IPY_MODEL_c349b74353b3426fb796ec6411b29d70",
       "value": "Model"
      }
     },
     "cd394b263b1a4a3da2d923cf5928547c": {
      "model_module": "@jupyter-widgets/controls",
      "model_module_version": "1.4.0",
      "model_name": "SliderStyleModel",
      "state": {
       "description_width": ""
      }
     },
     "cd9a4fe37d2548c28267ceddcddf534e": {
      "model_module": "@jupyter-widgets/controls",
      "model_module_version": "1.4.0",
      "model_name": "DescriptionStyleModel",
      "state": {
       "description_width": ""
      }
     },
     "ce02c859d14846c6981cac1583e9ddd9": {
      "model_module": "@jupyter-widgets/base",
      "model_module_version": "1.1.0",
      "model_name": "LayoutModel",
      "state": {}
     },
     "ce0b948ec90349d5aa2d7c0c1b6d1892": {
      "model_module": "@jupyter-widgets/base",
      "model_module_version": "1.1.0",
      "model_name": "LayoutModel",
      "state": {}
     },
     "ce2a5eb5bdc54a30a9adb89a75cb0f62": {
      "model_module": "@jupyter-widgets/controls",
      "model_module_version": "1.4.0",
      "model_name": "DropdownModel",
      "state": {
       "_options_labels": [
        "None",
        "rbf",
        "nystroem"
       ],
       "index": 0,
       "layout": "IPY_MODEL_73b9c793541642c59ffadb83cf6be760",
       "style": "IPY_MODEL_b67692c5d4e74db0a38b93d0b4503bad"
      }
     },
     "ce743e70eeab4bf9a1a521356e009b75": {
      "model_module": "@jupyter-widgets/controls",
      "model_module_version": "1.4.0",
      "model_name": "RadioButtonsModel",
      "state": {
       "_options_labels": [
        "1000",
        "2000",
        "5000",
        "10000"
       ],
       "description": "Size",
       "index": 0,
       "layout": "IPY_MODEL_527947f007c8488b850776b667af05cb",
       "style": "IPY_MODEL_2716d29fc5b047588d46d75a31adb1e6"
      }
     },
     "ce8749fb6ebd4a4cbb042a130da9ea57": {
      "model_module": "@jupyter-widgets/controls",
      "model_module_version": "1.4.0",
      "model_name": "LabelModel",
      "state": {
       "layout": "IPY_MODEL_426e0deb65874212917f1036f6d39b10",
       "style": "IPY_MODEL_7b791599cda24f74bf9efd3a9934c81d",
       "value": "Sampler"
      }
     },
     "ce9f418b7704411dbd860beff41b6415": {
      "model_module": "@jupyter-widgets/controls",
      "model_module_version": "1.4.0",
      "model_name": "SliderStyleModel",
      "state": {
       "description_width": ""
      }
     },
     "ceb19fa2609a4796aaf47cec65809ae7": {
      "model_module": "@jupyter-widgets/controls",
      "model_module_version": "1.4.0",
      "model_name": "LabelModel",
      "state": {
       "layout": "IPY_MODEL_2b1c0ad6283c471bb53dc27ce05794f6",
       "style": "IPY_MODEL_28db18852c0e48b98c4700e56b025400",
       "value": "Box Type"
      }
     },
     "cebcac4c314b4e5ea30c99825aeff3a6": {
      "model_module": "@jupyter-widgets/base",
      "model_module_version": "1.1.0",
      "model_name": "LayoutModel",
      "state": {}
     },
     "cee6a2ef337840299991f910e6b7a438": {
      "model_module": "@jupyter-widgets/controls",
      "model_module_version": "1.4.0",
      "model_name": "DropdownModel",
      "state": {
       "_options_labels": [
        "dt",
        "logit",
        "linear_svc"
       ],
       "index": 1,
       "layout": "IPY_MODEL_179fae3d637343769a280ab0df2e2cec",
       "style": "IPY_MODEL_f630812b9323423996d58b891b84b9d9"
      }
     },
     "cf2eb93f7a7140b2b99bc53103dca719": {
      "model_module": "@jupyter-widgets/controls",
      "model_module_version": "1.4.0",
      "model_name": "DescriptionStyleModel",
      "state": {
       "description_width": ""
      }
     },
     "cfaf64817ad34dd088f0aa0d30f64b77": {
      "model_module": "@jupyter-widgets/controls",
      "model_module_version": "1.4.0",
      "model_name": "HBoxModel",
      "state": {
       "children": [
        "IPY_MODEL_dd3b3f60d35d40ebb3ebe919ae76e25f",
        "IPY_MODEL_2116c0f38a844342887f75f512871018",
        "IPY_MODEL_be583a9128724984bf9d979389a8248c",
        "IPY_MODEL_85e92dacd3e24559aa88a4c59ca26934",
        "IPY_MODEL_8d4baba6932842a39be65ec7f9065781"
       ],
       "layout": "IPY_MODEL_c01ac162af2449a7b9ef5da5699d0127"
      }
     },
     "d009af4e699b4b1b90dd048ea4e9713d": {
      "model_module": "@jupyter-widgets/controls",
      "model_module_version": "1.4.0",
      "model_name": "VBoxModel",
      "state": {
       "children": [
        "IPY_MODEL_399a0f99967941c7a151dacb8a424908",
        "IPY_MODEL_75d2a3a7fa61472d8fed9e05a8c41d23"
       ],
       "layout": "IPY_MODEL_5efc5ee272964701a169e4393bcb2c20"
      }
     },
     "d00a1598662b4851afc338a9cc8e20b0": {
      "model_module": "@jupyter-widgets/controls",
      "model_module_version": "1.4.0",
      "model_name": "ButtonModel",
      "state": {
       "button_style": "info",
       "description": "Add model",
       "layout": "IPY_MODEL_ba284a6894ba44f8a3b84d66637a9f85",
       "style": "IPY_MODEL_97c0ce89ee564011a43f621d5f4752f7"
      }
     },
     "d032410fc4ed44148337adc93b9caaa7": {
      "model_module": "@jupyter-widgets/controls",
      "model_module_version": "1.4.0",
      "model_name": "DescriptionStyleModel",
      "state": {
       "description_width": ""
      }
     },
     "d03373ead9c14b47bfba3c48dd449bc2": {
      "model_module": "@jupyter-widgets/controls",
      "model_module_version": "1.4.0",
      "model_name": "DropdownModel",
      "state": {
       "_options_labels": [
        "None",
        "rbf",
        "nystroem"
       ],
       "index": 0,
       "layout": "IPY_MODEL_d909d92920f7487a907206166832cac8",
       "style": "IPY_MODEL_0aac0922bb3b4489844e0b96fb04ec9c"
      }
     },
     "d0431759b27845e48e61a36836f58c49": {
      "model_module": "@jupyter-widgets/base",
      "model_module_version": "1.1.0",
      "model_name": "LayoutModel",
      "state": {}
     },
     "d0cfa65f79cd47a7aa33a003ff86e4fe": {
      "model_module": "@jupyter-widgets/base",
      "model_module_version": "1.1.0",
      "model_name": "LayoutModel",
      "state": {}
     },
     "d104b7c973814990912b178f26b8e59c": {
      "model_module": "@jupyter-widgets/base",
      "model_module_version": "1.1.0",
      "model_name": "LayoutModel",
      "state": {}
     },
     "d10611cbe14b49daad0d25f4ed8fca1d": {
      "model_module": "@jupyter-widgets/controls",
      "model_module_version": "1.4.0",
      "model_name": "IntRangeSliderModel",
      "state": {
       "_model_name": "IntRangeSliderModel",
       "_view_name": "IntRangeSliderView",
       "disabled": true,
       "layout": "IPY_MODEL_57c8cce3b25f43fba466c9b541c78e57",
       "max": 400,
       "min": 30,
       "step": 10,
       "style": "IPY_MODEL_94621f4d33cc4f69b999738457b0cc02",
       "value": [
        30,
        100
       ]
      }
     },
     "d10a0934b3ec4a6abdcb97283a96f7b5": {
      "model_module": "@jupyter-widgets/controls",
      "model_module_version": "1.4.0",
      "model_name": "ButtonModel",
      "state": {
       "button_style": "info",
       "description": "Demo0",
       "layout": "IPY_MODEL_ba7af8943e904a47999624812331a81f",
       "style": "IPY_MODEL_f6671478485f4cc3922fd12e7706ea57"
      }
     },
     "d1323f936b42400f90abe0f31d932c94": {
      "model_module": "@jupyter-widgets/controls",
      "model_module_version": "1.4.0",
      "model_name": "ButtonModel",
      "state": {
       "button_style": "info",
       "description": "Demo0",
       "layout": "IPY_MODEL_48a168f8a4094c29b8f7fc6e7e6e27a4",
       "style": "IPY_MODEL_52e96ab7bf2a4bf8bf250898a47ac80f"
      }
     },
     "d13f0dd52845417a817af86a4c182e32": {
      "model_module": "@jupyter-widgets/base",
      "model_module_version": "1.1.0",
      "model_name": "LayoutModel",
      "state": {}
     },
     "d15e6eb0142e421d9ef5f24ad67c6847": {
      "model_module": "@jupyter-widgets/base",
      "model_module_version": "1.1.0",
      "model_name": "LayoutModel",
      "state": {}
     },
     "d16dbdcef39d436b98294898a0eb3d96": {
      "model_module": "@jupyter-widgets/controls",
      "model_module_version": "1.4.0",
      "model_name": "LabelModel",
      "state": {
       "layout": "IPY_MODEL_00d7ad9b85cb442aaa7a9d2b2a4bd988",
       "style": "IPY_MODEL_ea0a61244c904369bee3f4070597462f",
       "value": "PCA?"
      }
     },
     "d1d676377ffc4e61b8408bc03f2379ba": {
      "model_module": "@jupyter-widgets/controls",
      "model_module_version": "1.4.0",
      "model_name": "VBoxModel",
      "state": {
       "children": [
        "IPY_MODEL_ceb19fa2609a4796aaf47cec65809ae7",
        "IPY_MODEL_43a2cce297f448b9bc1f00f8aef292db"
       ],
       "layout": "IPY_MODEL_07268c7c37244fb5a7963d7a6eca1a99"
      }
     },
     "d1fad66f39fb4935b2f98609f31090a7": {
      "model_module": "@jupyter-widgets/base",
      "model_module_version": "1.1.0",
      "model_name": "LayoutModel",
      "state": {}
     },
     "d22ab844f16047069fee48fb52664567": {
      "model_module": "@jupyter-widgets/controls",
      "model_module_version": "1.4.0",
      "model_name": "DropdownModel",
      "state": {
       "_options_labels": [
        "dt",
        "logit",
        "linear_svc"
       ],
       "index": 0,
       "layout": "IPY_MODEL_f889a5da21724244ac6bedbda306c459",
       "style": "IPY_MODEL_c49e66f98db0409599031396bd518187"
      }
     },
     "d2506478df3a47aab609d85159188f85": {
      "model_module": "@jupyter-widgets/controls",
      "model_module_version": "1.4.0",
      "model_name": "VBoxModel",
      "state": {
       "children": [
        "IPY_MODEL_965be077651142fcabfca65673551e2b",
        "IPY_MODEL_e5296eb1f5ad41c0b86bd144af629a09"
       ],
       "layout": "IPY_MODEL_7fbe01fab82b4e208b085f6b0c8fcf27"
      }
     },
     "d2c33f3f7b1044a6a953dcf6a120f383": {
      "model_module": "@jupyter-widgets/controls",
      "model_module_version": "1.4.0",
      "model_name": "ButtonStyleModel",
      "state": {}
     },
     "d2f30ce79fe24f0a87442c1f39815d3d": {
      "model_module": "@jupyter-widgets/controls",
      "model_module_version": "1.4.0",
      "model_name": "DropdownModel",
      "state": {
       "_options_labels": [
        "None",
        "black",
        "grey"
       ],
       "index": 0,
       "layout": "IPY_MODEL_a576d0eeb6484f36aac2c31bf234a821",
       "style": "IPY_MODEL_10d8763607f149859875ba706895d58f"
      }
     },
     "d2f9331e48474252b8d1bb4ea33366ea": {
      "model_module": "@jupyter-widgets/controls",
      "model_module_version": "1.4.0",
      "model_name": "DescriptionStyleModel",
      "state": {
       "description_width": ""
      }
     },
     "d2fb57f721294b3388f5a5d6c423802e": {
      "model_module": "@jupyter-widgets/base",
      "model_module_version": "1.1.0",
      "model_name": "LayoutModel",
      "state": {
       "visibility": "hidden",
       "width": "300px"
      }
     },
     "d30c855b73124ce8a146c06ad3c04c3b": {
      "model_module": "@jupyter-widgets/base",
      "model_module_version": "1.1.0",
      "model_name": "LayoutModel",
      "state": {}
     },
     "d311a991cb2d428ba581381cb28acb12": {
      "model_module": "@jupyter-widgets/base",
      "model_module_version": "1.1.0",
      "model_name": "LayoutModel",
      "state": {}
     },
     "d34da4213be340c190511829241f3539": {
      "model_module": "@jupyter-widgets/base",
      "model_module_version": "1.1.0",
      "model_name": "LayoutModel",
      "state": {}
     },
     "d3796787cec0425f8222d8bd4ea6b0ca": {
      "model_module": "@jupyter-widgets/base",
      "model_module_version": "1.1.0",
      "model_name": "LayoutModel",
      "state": {
       "border": "3px solid black"
      }
     },
     "d38cc708f5a241f893d41e7bb23f82f5": {
      "model_module": "@jupyter-widgets/controls",
      "model_module_version": "1.4.0",
      "model_name": "DescriptionStyleModel",
      "state": {
       "description_width": ""
      }
     },
     "d3947375ec9549aaaec932c659ed2794": {
      "model_module": "@jupyter-widgets/controls",
      "model_module_version": "1.4.0",
      "model_name": "DescriptionStyleModel",
      "state": {
       "description_width": ""
      }
     },
     "d3ca3fb28ec0438da48e725ee97f6e47": {
      "model_module": "@jupyter-widgets/controls",
      "model_module_version": "1.4.0",
      "model_name": "DropdownModel",
      "state": {
       "_options_labels": [
        "rbf",
        "nystroem"
       ],
       "description": "Sampler",
       "index": 0,
       "layout": "IPY_MODEL_41b5215209bd455ea980fb12e3f5a051",
       "style": "IPY_MODEL_f7a6927a71754f4092e2aa6440c47476"
      }
     },
     "d3eb7bc47cd04a2b8a92385b36cf9cbf": {
      "model_module": "@jupyter-widgets/base",
      "model_module_version": "1.1.0",
      "model_name": "LayoutModel",
      "state": {
       "visibility": "hidden",
       "width": "300px"
      }
     },
     "d3fa6935cec44d32bef43fafbc07ebdd": {
      "model_module": "@jupyter-widgets/controls",
      "model_module_version": "1.4.0",
      "model_name": "LabelModel",
      "state": {
       "layout": "IPY_MODEL_7ba7ee68fb4646f283c5c2d43816739e",
       "style": "IPY_MODEL_028bf898810e4ba8a680d6c9b5ec7180",
       "value": "Box Type"
      }
     },
     "d3feb947bccb4600b39f8fd5b6717694": {
      "model_module": "@jupyter-widgets/controls",
      "model_module_version": "1.4.0",
      "model_name": "DescriptionStyleModel",
      "state": {
       "description_width": ""
      }
     },
     "d40a032879e54df0bfd5561b9a219427": {
      "model_module": "@jupyter-widgets/base",
      "model_module_version": "1.1.0",
      "model_name": "LayoutModel",
      "state": {
       "border": "3px solid black"
      }
     },
     "d4165e7fe4a544d792a54515af1a120e": {
      "model_module": "@jupyter-widgets/controls",
      "model_module_version": "1.4.0",
      "model_name": "DescriptionStyleModel",
      "state": {
       "description_width": ""
      }
     },
     "d4170b7367394fe29ab5d9e3d6ed5e31": {
      "model_module": "@jupyter-widgets/base",
      "model_module_version": "1.1.0",
      "model_name": "LayoutModel",
      "state": {}
     },
     "d469805d16804d1ea8476a9dee378346": {
      "model_module": "@jupyter-widgets/controls",
      "model_module_version": "1.4.0",
      "model_name": "DescriptionStyleModel",
      "state": {
       "description_width": ""
      }
     },
     "d4b17485e2184e8a9d639bf23afaa0f8": {
      "model_module": "@jupyter-widgets/base",
      "model_module_version": "1.1.0",
      "model_name": "LayoutModel",
      "state": {}
     },
     "d4b301c137e44f92807c036798b8088e": {
      "model_module": "@jupyter-widgets/controls",
      "model_module_version": "1.4.0",
      "model_name": "SliderStyleModel",
      "state": {
       "description_width": ""
      }
     },
     "d4bcc107137246778842899a4b0d2743": {
      "model_module": "@jupyter-widgets/base",
      "model_module_version": "1.1.0",
      "model_name": "LayoutModel",
      "state": {}
     },
     "d4cdb5938a314d89997b637da41ae03a": {
      "model_module": "@jupyter-widgets/controls",
      "model_module_version": "1.4.0",
      "model_name": "VBoxModel",
      "state": {
       "children": [
        "IPY_MODEL_eefd6c8eb79f4060843474de6deb292c",
        "IPY_MODEL_13634e9c16354410bf92038fd78f4946",
        "IPY_MODEL_9a4aadb415464d7fbfc47805f64a324e",
        "IPY_MODEL_376791fc3d864a74accc4f4b3615d14c",
        "IPY_MODEL_6d8f52fb4c8540c9ba3a1bde25481baa"
       ],
       "layout": "IPY_MODEL_c62244161aa64fb0b13f03774ae961ae"
      }
     },
     "d4dc3068f5654cc19e90553f61d78627": {
      "model_module": "@jupyter-widgets/controls",
      "model_module_version": "1.4.0",
      "model_name": "DropdownModel",
      "state": {
       "_options_labels": [
        "None",
        "black",
        "grey"
       ],
       "index": 0,
       "layout": "IPY_MODEL_144370dcbfd845248a94f9e8663cffc5",
       "style": "IPY_MODEL_e6d869b0440642c88e8b103cd50f2612"
      }
     },
     "d55b7f546fa543c3ae46cfa32c699e4f": {
      "model_module": "@jupyter-widgets/base",
      "model_module_version": "1.1.0",
      "model_name": "LayoutModel",
      "state": {}
     },
     "d59633cd307b4fad94215c67f7b35ad6": {
      "model_module": "@jupyter-widgets/controls",
      "model_module_version": "1.4.0",
      "model_name": "DropdownModel",
      "state": {
       "_options_labels": [
        "None",
        "black",
        "grey"
       ],
       "index": 0,
       "layout": "IPY_MODEL_19a1c889de8043ecba4210adb6a9fd87",
       "style": "IPY_MODEL_bc85e9fbdf524aa58aa28fef058ff52a"
      }
     },
     "d5c737f7dc7b44b689c75a2141dba92d": {
      "model_module": "@jupyter-widgets/controls",
      "model_module_version": "1.4.0",
      "model_name": "LabelModel",
      "state": {
       "layout": "IPY_MODEL_353a08c133354e21ba1d680dd7bd6d5f",
       "style": "IPY_MODEL_3c12db524d524e609eec8f1e2e992745",
       "value": "Sampler"
      }
     },
     "d5cb596aa1704abb8b79ad4a6fc1f7ab": {
      "model_module": "@jupyter-widgets/controls",
      "model_module_version": "1.4.0",
      "model_name": "ButtonModel",
      "state": {
       "button_style": "info",
       "description": "Demo5",
       "layout": "IPY_MODEL_1fcf6a316e3f4142a3a3b56810629767",
       "style": "IPY_MODEL_94587a82eda941448656edcfb0bcde70"
      }
     },
     "d5d4d822a80c48ae872ec1c9d200f8a6": {
      "model_module": "@jupyter-widgets/controls",
      "model_module_version": "1.4.0",
      "model_name": "DropdownModel",
      "state": {
       "_options_labels": [
        "None",
        "rbf",
        "nystroem"
       ],
       "index": 0,
       "layout": "IPY_MODEL_b6f62164dd6a46ecb473d331776da0c9",
       "style": "IPY_MODEL_ad20463380944d3f88dad35b0082a916"
      }
     },
     "d5e821b35b784352ad0465b0f5db4831": {
      "model_module": "@jupyter-widgets/controls",
      "model_module_version": "1.4.0",
      "model_name": "DropdownModel",
      "state": {
       "_options_labels": [
        "None",
        "rbf",
        "nystroem"
       ],
       "index": 0,
       "layout": "IPY_MODEL_19a1c889de8043ecba4210adb6a9fd87",
       "style": "IPY_MODEL_caab70b6c6fb4f4e99d35bebf1fa792e"
      }
     },
     "d64b8497295340a3909e78a930431eee": {
      "model_module": "@jupyter-widgets/controls",
      "model_module_version": "1.4.0",
      "model_name": "HBoxModel",
      "state": {
       "children": [
        "IPY_MODEL_d694e09b5cb3471eafbfbd50e62e1703",
        "IPY_MODEL_3c0858f49aa048cba78328e514ce0ba0",
        "IPY_MODEL_2a77f7b36e3a4ffbaeafc8d201062bfc",
        "IPY_MODEL_c5c1ddeb2ead4db8bd6b85c9df6c2c57",
        "IPY_MODEL_d2506478df3a47aab609d85159188f85"
       ],
       "layout": "IPY_MODEL_e96d3f00af4649d1830702fbf7c449af"
      }
     },
     "d681964a342c4788a9480be5596bdbe6": {
      "model_module": "@jupyter-widgets/controls",
      "model_module_version": "1.4.0",
      "model_name": "DescriptionStyleModel",
      "state": {
       "description_width": ""
      }
     },
     "d694e09b5cb3471eafbfbd50e62e1703": {
      "model_module": "@jupyter-widgets/controls",
      "model_module_version": "1.4.0",
      "model_name": "VBoxModel",
      "state": {
       "children": [
        "IPY_MODEL_90d0595ca01c4364a04827880eb98b39",
        "IPY_MODEL_16275d826bd247b493c4677f322c4ff1"
       ],
       "layout": "IPY_MODEL_a3de12d298f14df8974973c39f013382"
      }
     },
     "d704786c2b1549d09655f91939dc615b": {
      "model_module": "@jupyter-widgets/controls",
      "model_module_version": "1.4.0",
      "model_name": "ButtonStyleModel",
      "state": {}
     },
     "d709c03e928d4ec2a4c8a2c04f25a6b3": {
      "model_module": "@jupyter-widgets/base",
      "model_module_version": "1.1.0",
      "model_name": "LayoutModel",
      "state": {}
     },
     "d7264c58694a4673b9274322a827c390": {
      "model_module": "@jupyter-widgets/base",
      "model_module_version": "1.1.0",
      "model_name": "LayoutModel",
      "state": {}
     },
     "d74d8756de4b45708ccb2d8f6a8796e1": {
      "model_module": "@jupyter-widgets/base",
      "model_module_version": "1.1.0",
      "model_name": "LayoutModel",
      "state": {}
     },
     "d759ba3e8acb432c85a4eee2d4b0de0a": {
      "model_module": "@jupyter-widgets/base",
      "model_module_version": "1.1.0",
      "model_name": "LayoutModel",
      "state": {
       "visibility": "hidden"
      }
     },
     "d79357cc6e024fbda697224aca2aa381": {
      "model_module": "@jupyter-widgets/base",
      "model_module_version": "1.1.0",
      "model_name": "LayoutModel",
      "state": {}
     },
     "d7a6164d6038467e99c2ccd63d8a8144": {
      "model_module": "@jupyter-widgets/controls",
      "model_module_version": "1.4.0",
      "model_name": "IntRangeSliderModel",
      "state": {
       "_model_name": "IntRangeSliderModel",
       "_view_name": "IntRangeSliderView",
       "disabled": true,
       "layout": "IPY_MODEL_9de4a504047b4a8ba0f395638e0dd4d4",
       "max": 400,
       "min": 30,
       "step": 10,
       "style": "IPY_MODEL_1663d8c10b0f4ea086b023f90583d319",
       "value": [
        30,
        100
       ]
      }
     },
     "d7c0e2795b3f402f808c710f98275c8b": {
      "model_module": "@jupyter-widgets/controls",
      "model_module_version": "1.4.0",
      "model_name": "DropdownModel",
      "state": {
       "_options_labels": [
        "None",
        "black",
        "grey"
       ],
       "index": 0,
       "layout": "IPY_MODEL_e40636e087124774a851b4fedd09b605",
       "style": "IPY_MODEL_fabb75494a8a43fbae76978415191bf0"
      }
     },
     "d7f156b6a6a246ed87eedab7ab94dcfb": {
      "model_module": "@jupyter-widgets/controls",
      "model_module_version": "1.4.0",
      "model_name": "IntSliderModel",
      "state": {
       "layout": "IPY_MODEL_5d8053d86540408f90f156760ce9e4b1",
       "max": 200,
       "min": 2,
       "style": "IPY_MODEL_c3b4b689ae844eaa9362fc46b6e1eb30",
       "value": 30
      }
     },
     "d8a0be2438f74a67bf81ac632b75b918": {
      "model_module": "@jupyter-widgets/controls",
      "model_module_version": "1.4.0",
      "model_name": "DescriptionStyleModel",
      "state": {
       "description_width": ""
      }
     },
     "d8a2e6a71e1948e1b9cb6d47f259b5b1": {
      "model_module": "@jupyter-widgets/controls",
      "model_module_version": "1.4.0",
      "model_name": "ButtonModel",
      "state": {
       "button_style": "info",
       "description": "Add model",
       "layout": "IPY_MODEL_a2043dc9c3014fca9df82d608eb06cea",
       "style": "IPY_MODEL_0b4fe1fdac384b67b9359df29db1c502"
      }
     },
     "d8a68058bae040e8a1633c2bbdce4429": {
      "model_module": "@jupyter-widgets/base",
      "model_module_version": "1.1.0",
      "model_name": "LayoutModel",
      "state": {
       "visibility": "visible",
       "width": "300px"
      }
     },
     "d8c500952f9a4ffbaee49fa69fd5ccdd": {
      "model_module": "@jupyter-widgets/base",
      "model_module_version": "1.1.0",
      "model_name": "LayoutModel",
      "state": {
       "border": "3px solid black"
      }
     },
     "d8cd01ade55344549475693a4a1c9360": {
      "model_module": "@jupyter-widgets/base",
      "model_module_version": "1.1.0",
      "model_name": "LayoutModel",
      "state": {}
     },
     "d8f27735fead4317b1dfe9c6a7f3f12e": {
      "model_module": "@jupyter-widgets/controls",
      "model_module_version": "1.4.0",
      "model_name": "HBoxModel",
      "state": {
       "children": [
        "IPY_MODEL_b78d64c3827541e6888501b03b6471b5",
        "IPY_MODEL_7daf63e00bd847818d1483d812ea1f40",
        "IPY_MODEL_69dbd318e4b04cbfa5003cda38acb9e7",
        "IPY_MODEL_568f03520ec14b1abccc3f4b2fda8863",
        "IPY_MODEL_162cbaeda0b24a5b8bed35c1f239aa24"
       ],
       "layout": "IPY_MODEL_f8df34e82bb84948bd1986bdad9b0ef1"
      }
     },
     "d90433cc06014514bff8b4afccc60c0d": {
      "model_module": "@jupyter-widgets/controls",
      "model_module_version": "1.4.0",
      "model_name": "DescriptionStyleModel",
      "state": {
       "description_width": ""
      }
     },
     "d90505ddbb6643db99fd4a7bcd45cb5e": {
      "model_module": "@jupyter-widgets/controls",
      "model_module_version": "1.4.0",
      "model_name": "DescriptionStyleModel",
      "state": {
       "description_width": ""
      }
     },
     "d909d92920f7487a907206166832cac8": {
      "model_module": "@jupyter-widgets/base",
      "model_module_version": "1.1.0",
      "model_name": "LayoutModel",
      "state": {
       "width": "90px"
      }
     },
     "d911cf1ab6dd4810a6e00571e1096eae": {
      "model_module": "@jupyter-widgets/controls",
      "model_module_version": "1.4.0",
      "model_name": "HBoxModel",
      "state": {
       "children": [
        "IPY_MODEL_82683dc1dbc44d8888d4a471c051c75c",
        "IPY_MODEL_4b4aab07dd6244239843200d1e4716c4",
        "IPY_MODEL_d1d676377ffc4e61b8408bc03f2379ba",
        "IPY_MODEL_10bdf97ba4624c039ddbfd79ab15da5e",
        "IPY_MODEL_6287c054395541eda4e0a93c95fd7e81"
       ],
       "layout": "IPY_MODEL_d40a032879e54df0bfd5561b9a219427"
      }
     },
     "d94ac53f368d4722b8c117ac17cfb79e": {
      "model_module": "@jupyter-widgets/controls",
      "model_module_version": "1.4.0",
      "model_name": "DescriptionStyleModel",
      "state": {
       "description_width": ""
      }
     },
     "d95b5f1b46df44448c4b9f4cbc85b243": {
      "model_module": "@jupyter-widgets/base",
      "model_module_version": "1.1.0",
      "model_name": "LayoutModel",
      "state": {
       "visibility": "hidden",
       "width": "300px"
      }
     },
     "d9961b07a3da49eba306cb9bd46bd40a": {
      "model_module": "@jupyter-widgets/controls",
      "model_module_version": "1.4.0",
      "model_name": "LabelModel",
      "state": {
       "layout": "IPY_MODEL_aad5573ac1b941beadd0260893817253",
       "style": "IPY_MODEL_dd1601b603e04576ad93f348aad8ef8c",
       "value": "Box Type"
      }
     },
     "d9a69ede08034bdb85bfc4bb4c2e9150": {
      "model_module": "@jupyter-widgets/controls",
      "model_module_version": "1.4.0",
      "model_name": "DescriptionStyleModel",
      "state": {
       "description_width": ""
      }
     },
     "d9ef06215f7d4888a027c20ef799eadf": {
      "model_module": "@jupyter-widgets/base",
      "model_module_version": "1.1.0",
      "model_name": "LayoutModel",
      "state": {}
     },
     "da1456b1c6c446eba2511fd9e2cfc569": {
      "model_module": "@jupyter-widgets/controls",
      "model_module_version": "1.4.0",
      "model_name": "LabelModel",
      "state": {
       "layout": "IPY_MODEL_33e2af2693b4433982a068393f230b03",
       "style": "IPY_MODEL_92141ea9dbc74250bf9267941f9963f6",
       "value": "Number Estimators"
      }
     },
     "daada1ca45fe4f4fbbdfbe9fe2d5b82f": {
      "model_module": "@jupyter-widgets/controls",
      "model_module_version": "1.4.0",
      "model_name": "ButtonModel",
      "state": {
       "button_style": "warning",
       "description": "Remove model",
       "layout": "IPY_MODEL_2c6ebae945d74e459040130ba3b86717",
       "style": "IPY_MODEL_34f3225c88bb4d3ba26aac40305a5f73"
      }
     },
     "db30e2760c9847768f659b583452939a": {
      "model_module": "@jupyter-widgets/controls",
      "model_module_version": "1.4.0",
      "model_name": "DescriptionStyleModel",
      "state": {
       "description_width": ""
      }
     },
     "db48953d7fe34a95af42395f9ceec4a8": {
      "model_module": "@jupyter-widgets/controls",
      "model_module_version": "1.4.0",
      "model_name": "ButtonModel",
      "state": {
       "button_style": "info",
       "description": "Add model",
       "layout": "IPY_MODEL_882f7011842a4035badd4a1b567fd6f1",
       "style": "IPY_MODEL_4b56bb42c5af440fac04c38406ab15d2"
      }
     },
     "db7e749882484660b24b8a0d03b87ea0": {
      "model_module": "@jupyter-widgets/controls",
      "model_module_version": "1.4.0",
      "model_name": "DropdownModel",
      "state": {
       "_options_labels": [
        "None",
        "black",
        "grey"
       ],
       "index": 0,
       "layout": "IPY_MODEL_64e7917a1a4c4a8e969b3daa8cf39ca2",
       "style": "IPY_MODEL_4db297e4e1cf48fdb1f1de6ed1270763"
      }
     },
     "dbad94ae10874e5f961e2a6e62972b25": {
      "model_module": "@jupyter-widgets/controls",
      "model_module_version": "1.4.0",
      "model_name": "DropdownModel",
      "state": {
       "_options_labels": [
        "dt",
        "logit",
        "linear_svc"
       ],
       "index": 0,
       "layout": "IPY_MODEL_086c2e7ee47942d4a2901451d3e48f1a",
       "style": "IPY_MODEL_7df6ba02baf94fb4b3e11786c6c24dcb"
      }
     },
     "dbb72a3783794d00ba5ee33975e6050b": {
      "model_module": "@jupyter-widgets/controls",
      "model_module_version": "1.4.0",
      "model_name": "DropdownModel",
      "state": {
       "_options_labels": [
        "None",
        "black",
        "grey"
       ],
       "description": "Bagging",
       "index": 0,
       "layout": "IPY_MODEL_ca021c4f41ba4904b94457af4a4a5973",
       "style": "IPY_MODEL_1aba64bca5ae45228dcdf36d8c8a411f"
      }
     },
     "dbce7126bc714125b132652e2f5fc468": {
      "model_module": "@jupyter-widgets/base",
      "model_module_version": "1.1.0",
      "model_name": "LayoutModel",
      "state": {}
     },
     "dbe2f6c12270409f990d9c9c75421d07": {
      "model_module": "@jupyter-widgets/controls",
      "model_module_version": "1.4.0",
      "model_name": "SliderStyleModel",
      "state": {
       "description_width": ""
      }
     },
     "dbe7673ded8a4f32bd4258145bf49dd1": {
      "model_module": "@jupyter-widgets/controls",
      "model_module_version": "1.4.0",
      "model_name": "LabelModel",
      "state": {
       "layout": "IPY_MODEL_d30c855b73124ce8a146c06ad3c04c3b",
       "style": "IPY_MODEL_fbc1f87871704d0cb9be878ed796a330",
       "value": "Sampler"
      }
     },
     "dc38da891a9c495cbc96567003390651": {
      "model_module": "@jupyter-widgets/controls",
      "model_module_version": "1.4.0",
      "model_name": "DescriptionStyleModel",
      "state": {
       "description_width": ""
      }
     },
     "dc7e7f5732a14011afc050297e26d17c": {
      "model_module": "@jupyter-widgets/controls",
      "model_module_version": "1.4.0",
      "model_name": "IntRangeSliderModel",
      "state": {
       "_model_name": "IntRangeSliderModel",
       "_view_name": "IntRangeSliderView",
       "description": "Features",
       "layout": "IPY_MODEL_0d967538ba974f0c9bc0222f93675ba2",
       "max": 400,
       "min": 30,
       "step": 10,
       "style": "IPY_MODEL_e6f6b8e27ab94cba824bd0d3b2aa005d",
       "value": [
        30,
        100
       ]
      }
     },
     "dc901ad1411e4b6cb93f538b086d8406": {
      "model_module": "@jupyter-widgets/controls",
      "model_module_version": "1.4.0",
      "model_name": "DropdownModel",
      "state": {
       "_options_labels": [
        "None",
        "rbf",
        "nystroem"
       ],
       "index": 1,
       "layout": "IPY_MODEL_a339fcb2919a43e5892b1bf7e173738a",
       "style": "IPY_MODEL_1c492a505d794de5a010102c60480cf0"
      }
     },
     "dcb4c15ea4dc4acfa83f1d917531ffe7": {
      "model_module": "@jupyter-widgets/base",
      "model_module_version": "1.1.0",
      "model_name": "LayoutModel",
      "state": {
       "border": "3px solid black"
      }
     },
     "dcd100731d084f84ba0cb2f9d6f554db": {
      "model_module": "@jupyter-widgets/base",
      "model_module_version": "1.1.0",
      "model_name": "LayoutModel",
      "state": {}
     },
     "dcdb6bb807c14c018ebc803a7a2bd475": {
      "model_module": "@jupyter-widgets/controls",
      "model_module_version": "1.4.0",
      "model_name": "DescriptionStyleModel",
      "state": {
       "description_width": ""
      }
     },
     "dcfdb6f1cb6240ad8fae87f0049276da": {
      "model_module": "@jupyter-widgets/base",
      "model_module_version": "1.1.0",
      "model_name": "LayoutModel",
      "state": {}
     },
     "dd1601b603e04576ad93f348aad8ef8c": {
      "model_module": "@jupyter-widgets/controls",
      "model_module_version": "1.4.0",
      "model_name": "DescriptionStyleModel",
      "state": {
       "description_width": ""
      }
     },
     "dd3b3f60d35d40ebb3ebe919ae76e25f": {
      "model_module": "@jupyter-widgets/controls",
      "model_module_version": "1.4.0",
      "model_name": "VBoxModel",
      "state": {
       "children": [
        "IPY_MODEL_fdbe62b8e2ab406cbcfdf95c18189826",
        "IPY_MODEL_aaf0e58331e04df9934427f0ebb0dcb8"
       ],
       "layout": "IPY_MODEL_c4fcda6293924cd7914ef6dd72e26a92"
      }
     },
     "dd70ecdbeda3446a867394934bbc31ef": {
      "model_module": "@jupyter-widgets/controls",
      "model_module_version": "1.4.0",
      "model_name": "LabelModel",
      "state": {
       "layout": "IPY_MODEL_93321f3ad7e346bf8c1d947c431e14b1",
       "style": "IPY_MODEL_db30e2760c9847768f659b583452939a",
       "value": "Box Type"
      }
     },
     "dd83d5bad07747d0b166f8ba85461ff5": {
      "model_module": "@jupyter-widgets/controls",
      "model_module_version": "1.4.0",
      "model_name": "LabelModel",
      "state": {
       "layout": "IPY_MODEL_0385f239354148cfb9cce05c9b797811",
       "style": "IPY_MODEL_30f0ac4b5c20423ca558791a6ed86bbd",
       "value": "Number Estimators"
      }
     },
     "ddb8139014d7400bb8bd780f295b8d56": {
      "model_module": "@jupyter-widgets/controls",
      "model_module_version": "1.4.0",
      "model_name": "DescriptionStyleModel",
      "state": {
       "description_width": ""
      }
     },
     "ddc06ac38f8d420dbdd9b7154059b2ed": {
      "model_module": "@jupyter-widgets/base",
      "model_module_version": "1.1.0",
      "model_name": "LayoutModel",
      "state": {
       "visibility": "hidden"
      }
     },
     "de3990396b6f45b1a9661b92de6da8a7": {
      "model_module": "@jupyter-widgets/controls",
      "model_module_version": "1.4.0",
      "model_name": "DescriptionStyleModel",
      "state": {
       "description_width": ""
      }
     },
     "de4f67bc23f446c2a6016703529bb352": {
      "model_module": "@jupyter-widgets/controls",
      "model_module_version": "1.4.0",
      "model_name": "HBoxModel",
      "state": {
       "children": [
        "IPY_MODEL_62ee50c05f2b4197b7e3ac4048155163",
        "IPY_MODEL_165d9ba0287949b19156144279a28d7b",
        "IPY_MODEL_07e55076a76a41ebbfaf96984f6636b4",
        "IPY_MODEL_2b5e9a2956b44384a9051079569c933f",
        "IPY_MODEL_ba75484f7c35454eb15d42077d722608"
       ],
       "layout": "IPY_MODEL_41856d7406254e3e83b4ed714d8b149a"
      }
     },
     "de5888a5af1642f5adb2070dda70826b": {
      "model_module": "@jupyter-widgets/controls",
      "model_module_version": "1.4.0",
      "model_name": "DescriptionStyleModel",
      "state": {
       "description_width": ""
      }
     },
     "deaa321242d74a1daf35ee654cfadb4f": {
      "model_module": "@jupyter-widgets/controls",
      "model_module_version": "1.4.0",
      "model_name": "DescriptionStyleModel",
      "state": {
       "description_width": ""
      }
     },
     "dec29d9b333442258520a7b8b11b3ba9": {
      "model_module": "@jupyter-widgets/controls",
      "model_module_version": "1.4.0",
      "model_name": "ButtonStyleModel",
      "state": {}
     },
     "ded94e14b1dd46328121f7734c84ca0c": {
      "model_module": "@jupyter-widgets/controls",
      "model_module_version": "1.4.0",
      "model_name": "ButtonModel",
      "state": {
       "button_style": "info",
       "description": "Demo5",
       "layout": "IPY_MODEL_611e58b3582f4d1ca09de59f12eb60fa",
       "style": "IPY_MODEL_430fc892e9fa4b74a0d1d6079f118b85"
      }
     },
     "dedfe2fc3d3745b5a82cbc3fb6e56c8e": {
      "model_module": "@jupyter-widgets/controls",
      "model_module_version": "1.4.0",
      "model_name": "HBoxModel",
      "state": {
       "children": [
        "IPY_MODEL_96032e12beae4098915b93a27f6e5924",
        "IPY_MODEL_eaf786d81146433f9250016af7e1d804",
        "IPY_MODEL_ab59854fd1444f86936f4df9f84a93a8",
        "IPY_MODEL_7f7bcf42c63246e482dbe21641b8fe7f",
        "IPY_MODEL_ee0451c7cb7b4c97af06ce6122642efb"
       ],
       "layout": "IPY_MODEL_2308ff9c3bfb4d63a076b678dedc30a2"
      }
     },
     "df264548d41743589f0eb68307efefdb": {
      "model_module": "@jupyter-widgets/controls",
      "model_module_version": "1.4.0",
      "model_name": "ButtonStyleModel",
      "state": {}
     },
     "df41f341deb94afa82cef7ed77edd7e0": {
      "model_module": "@jupyter-widgets/controls",
      "model_module_version": "1.4.0",
      "model_name": "VBoxModel",
      "state": {
       "children": [
        "IPY_MODEL_b315d100d4184a299b410bf842415ed7",
        "IPY_MODEL_95c2a5245f784bb7b97f0b63123e2163"
       ],
       "layout": "IPY_MODEL_d8cd01ade55344549475693a4a1c9360"
      }
     },
     "df4ad3f758cc4d15961571d5e8f3e95b": {
      "model_module": "@jupyter-widgets/controls",
      "model_module_version": "1.4.0",
      "model_name": "DescriptionStyleModel",
      "state": {
       "description_width": ""
      }
     },
     "e005555686614e1a8795632930f7721f": {
      "model_module": "@jupyter-widgets/controls",
      "model_module_version": "1.4.0",
      "model_name": "LabelModel",
      "state": {
       "layout": "IPY_MODEL_f9a1b77cc9e64b15a5f0c6b961d7dad1",
       "style": "IPY_MODEL_7ebc46fa8af24b9db13c8110603a251e",
       "value": "PCA?"
      }
     },
     "e008cd2d479a494f8b3886a96734b522": {
      "model_module": "@jupyter-widgets/controls",
      "model_module_version": "1.4.0",
      "model_name": "LabelModel",
      "state": {
       "layout": "IPY_MODEL_7b49daa7540f47b1932945ca2039138a",
       "style": "IPY_MODEL_14fe802e299442e0893907717a5988bc",
       "value": "Sampler"
      }
     },
     "e08e3d2ca368428c93273f5d3f5c746f": {
      "model_module": "@jupyter-widgets/base",
      "model_module_version": "1.1.0",
      "model_name": "LayoutModel",
      "state": {}
     },
     "e0970a8cb0cc43ba99660b376c5a002c": {
      "model_module": "@jupyter-widgets/base",
      "model_module_version": "1.1.0",
      "model_name": "LayoutModel",
      "state": {}
     },
     "e0d0e554294540f78d2811993a406c99": {
      "model_module": "@jupyter-widgets/controls",
      "model_module_version": "1.4.0",
      "model_name": "IntSliderModel",
      "state": {
       "disabled": true,
       "layout": "IPY_MODEL_1f127eff30c843eca58e68e004c58219",
       "max": 200,
       "min": 2,
       "style": "IPY_MODEL_896545a7075949048ca501731ba6559f",
       "value": 30
      }
     },
     "e1c2b120277e4306a3f081671009c45d": {
      "model_module": "@jupyter-widgets/base",
      "model_module_version": "1.1.0",
      "model_name": "LayoutModel",
      "state": {
       "visibility": "hidden"
      }
     },
     "e1ca94d7b38a4484ad3254602d18c13e": {
      "model_module": "@jupyter-widgets/controls",
      "model_module_version": "1.4.0",
      "model_name": "DescriptionStyleModel",
      "state": {
       "description_width": ""
      }
     },
     "e22014e1642d49a2a185f7094f2d9177": {
      "model_module": "@jupyter-widgets/controls",
      "model_module_version": "1.4.0",
      "model_name": "ButtonStyleModel",
      "state": {}
     },
     "e24dc7b63462433995692f373c8c6f4f": {
      "model_module": "@jupyter-widgets/controls",
      "model_module_version": "1.4.0",
      "model_name": "DescriptionStyleModel",
      "state": {
       "description_width": ""
      }
     },
     "e2508368694c42d5aa369f8ddaa52e24": {
      "model_module": "@jupyter-widgets/controls",
      "model_module_version": "1.4.0",
      "model_name": "DescriptionStyleModel",
      "state": {
       "description_width": ""
      }
     },
     "e26d2eaa64484fa59981d3e66dd6fa4e": {
      "model_module": "@jupyter-widgets/base",
      "model_module_version": "1.1.0",
      "model_name": "LayoutModel",
      "state": {}
     },
     "e2a039bf8a234a2fb486ca6b08982bd1": {
      "model_module": "@jupyter-widgets/controls",
      "model_module_version": "1.4.0",
      "model_name": "VBoxModel",
      "state": {
       "children": [
        "IPY_MODEL_5a85079e4a824c4d8c67dd1d9a42c774",
        "IPY_MODEL_85a9b417b58d42f2859eac9603a92946",
        "IPY_MODEL_c4c12fa2d3874a0ebb5ca2ac7c096502",
        "IPY_MODEL_3e63490e1e834b49a3ee8b5516b33d02",
        "IPY_MODEL_9732d3b3f443446a89368773f322ab4d",
        "IPY_MODEL_4d7351d654c14902a57dd0bf2c646fdd",
        "IPY_MODEL_cbc98a9959674ebea86984f4367ec1ea"
       ],
       "layout": "IPY_MODEL_b1b926deca064ded9708a7d6a2a4ceca"
      }
     },
     "e2a6d4eb4c3a479baa0fa379073a95e9": {
      "model_module": "@jupyter-widgets/controls",
      "model_module_version": "1.4.0",
      "model_name": "IntSliderModel",
      "state": {
       "description": "N. estim.",
       "layout": "IPY_MODEL_f95a9075cea342a7b2b4981f98d6ea6f",
       "max": 200,
       "min": 2,
       "style": "IPY_MODEL_29193f96f31b476c89315affb9d37b56",
       "value": 30
      }
     },
     "e2bb7bc2acfe4b4bb87937155d1e0393": {
      "model_module": "@jupyter-widgets/base",
      "model_module_version": "1.1.0",
      "model_name": "LayoutModel",
      "state": {
       "border": "3px solid black"
      }
     },
     "e2e13f423bb24192895d18241447dc9f": {
      "model_module": "@jupyter-widgets/base",
      "model_module_version": "1.1.0",
      "model_name": "LayoutModel",
      "state": {}
     },
     "e3043938534d45cc8811548fd12f7786": {
      "model_module": "@jupyter-widgets/base",
      "model_module_version": "1.1.0",
      "model_name": "LayoutModel",
      "state": {}
     },
     "e318634e4fac4574ba1fcdad3bfed616": {
      "model_module": "@jupyter-widgets/controls",
      "model_module_version": "1.4.0",
      "model_name": "DropdownModel",
      "state": {
       "_options_labels": [
        "None",
        "black",
        "grey"
       ],
       "index": 0,
       "layout": "IPY_MODEL_6560937d18794997bbf973e31e7323d6",
       "style": "IPY_MODEL_970c889929994feea420795fa6336a2d"
      }
     },
     "e32db508ef8e4c7fbaecc9d7489d8a2f": {
      "model_module": "@jupyter-widgets/controls",
      "model_module_version": "1.4.0",
      "model_name": "DescriptionStyleModel",
      "state": {
       "description_width": ""
      }
     },
     "e34a96c5173842fab8c7b0c1c5a4842c": {
      "model_module": "@jupyter-widgets/controls",
      "model_module_version": "1.4.0",
      "model_name": "VBoxModel",
      "state": {
       "children": [
        "IPY_MODEL_ce8749fb6ebd4a4cbb042a130da9ea57",
        "IPY_MODEL_5eb2da5bcff44ae5b2f652f96e5b8554"
       ],
       "layout": "IPY_MODEL_c304cd740100462481fb96d22b90836a"
      }
     },
     "e351f1ce13044a15a60e2cd289661045": {
      "model_module": "@jupyter-widgets/controls",
      "model_module_version": "1.4.0",
      "model_name": "HBoxModel",
      "state": {
       "children": [
        "IPY_MODEL_71c26cc6720a485a98e4ad8229bdde42",
        "IPY_MODEL_ba17d64d66374fc7993617a914b686c8",
        "IPY_MODEL_a2f4b89c1ac54c5eaaa732ac6a6aa454",
        "IPY_MODEL_1e28220da20048eabc301ab0ba55c0f0",
        "IPY_MODEL_482552b8ea644404b216929d097d15a8"
       ],
       "layout": "IPY_MODEL_2d4cd23d50174793b87c20e58067b9cd"
      }
     },
     "e3a8ce6343494dcbbea09d6e1be1fcc4": {
      "model_module": "@jupyter-widgets/base",
      "model_module_version": "1.1.0",
      "model_name": "LayoutModel",
      "state": {}
     },
     "e3c236c4c60d4f5a8ce54a5a5cd7b894": {
      "model_module": "@jupyter-widgets/controls",
      "model_module_version": "1.4.0",
      "model_name": "DescriptionStyleModel",
      "state": {
       "description_width": ""
      }
     },
     "e40636e087124774a851b4fedd09b605": {
      "model_module": "@jupyter-widgets/base",
      "model_module_version": "1.1.0",
      "model_name": "LayoutModel",
      "state": {
       "width": "90px"
      }
     },
     "e426a402fde84648bad55d83cee2f616": {
      "model_module": "@jupyter-widgets/controls",
      "model_module_version": "1.4.0",
      "model_name": "DescriptionStyleModel",
      "state": {
       "description_width": ""
      }
     },
     "e44a04e9781841b49d621256536413e5": {
      "model_module": "@jupyter-widgets/controls",
      "model_module_version": "1.4.0",
      "model_name": "DescriptionStyleModel",
      "state": {
       "description_width": ""
      }
     },
     "e44b95c3f797455ab3e8a2ec7db6d468": {
      "model_module": "@jupyter-widgets/controls",
      "model_module_version": "1.4.0",
      "model_name": "VBoxModel",
      "state": {
       "children": [
        "IPY_MODEL_5ce37b2c7f0f4a1a9452530c3d3bcae4",
        "IPY_MODEL_e0d0e554294540f78d2811993a406c99"
       ],
       "layout": "IPY_MODEL_0851979e52f94791be221ce09eebef79"
      }
     },
     "e4587a5d2c1d43ad9c4239d0d97c504c": {
      "model_module": "@jupyter-widgets/controls",
      "model_module_version": "1.4.0",
      "model_name": "DescriptionStyleModel",
      "state": {
       "description_width": ""
      }
     },
     "e4edb75c2f5d42708b3fb6759a4140f5": {
      "model_module": "@jupyter-widgets/controls",
      "model_module_version": "1.4.0",
      "model_name": "DescriptionStyleModel",
      "state": {
       "description_width": ""
      }
     },
     "e5158e6b7d0a4f0bb0d7fe91b7d4e3cc": {
      "model_module": "@jupyter-widgets/controls",
      "model_module_version": "1.4.0",
      "model_name": "IntSliderModel",
      "state": {
       "disabled": true,
       "layout": "IPY_MODEL_d3eb7bc47cd04a2b8a92385b36cf9cbf",
       "max": 200,
       "min": 2,
       "style": "IPY_MODEL_99fb03d6568440f0862995d4edd03ae0",
       "value": 30
      }
     },
     "e5296eb1f5ad41c0b86bd144af629a09": {
      "model_module": "@jupyter-widgets/controls",
      "model_module_version": "1.4.0",
      "model_name": "CheckboxModel",
      "state": {
       "disabled": false,
       "layout": "IPY_MODEL_31db596ab11f4c779e8d463df4d3e228",
       "style": "IPY_MODEL_4e70986d676c4c75b75f8094207e79ed",
       "value": false
      }
     },
     "e54ecb730e0a4309ab9b2e90abb980d5": {
      "model_module": "@jupyter-widgets/controls",
      "model_module_version": "1.4.0",
      "model_name": "DropdownModel",
      "state": {
       "_options_labels": [
        "None",
        "rbf",
        "nystroem"
       ],
       "index": 0,
       "layout": "IPY_MODEL_9e000b4f3e774a26bb3d2fb342b6aef1",
       "style": "IPY_MODEL_5f465aa6199d475f88ca24597d65b465"
      }
     },
     "e56499b8d63b4dd4a49f6359d3c82b23": {
      "model_module": "@jupyter-widgets/controls",
      "model_module_version": "1.4.0",
      "model_name": "DescriptionStyleModel",
      "state": {
       "description_width": ""
      }
     },
     "e5a9be11e76a4baf8deb042ae9c1d5b9": {
      "model_module": "@jupyter-widgets/base",
      "model_module_version": "1.1.0",
      "model_name": "LayoutModel",
      "state": {}
     },
     "e5fcac8e8a2140e59e32d19365d069ec": {
      "model_module": "@jupyter-widgets/base",
      "model_module_version": "1.1.0",
      "model_name": "LayoutModel",
      "state": {}
     },
     "e606c50b621548c5ad39f047afb04630": {
      "model_module": "@jupyter-widgets/controls",
      "model_module_version": "1.4.0",
      "model_name": "DescriptionStyleModel",
      "state": {
       "description_width": ""
      }
     },
     "e66590cdabfb4c6e9adce00585ed7734": {
      "model_module": "@jupyter-widgets/base",
      "model_module_version": "1.1.0",
      "model_name": "LayoutModel",
      "state": {}
     },
     "e6d869b0440642c88e8b103cd50f2612": {
      "model_module": "@jupyter-widgets/controls",
      "model_module_version": "1.4.0",
      "model_name": "DescriptionStyleModel",
      "state": {
       "description_width": ""
      }
     },
     "e6ebc99b9aa0493880d8845f2ce3ded0": {
      "model_module": "@jupyter-widgets/controls",
      "model_module_version": "1.4.0",
      "model_name": "SliderStyleModel",
      "state": {
       "description_width": ""
      }
     },
     "e6f337571e9e4b6ca09ae67b7e0ea9ea": {
      "model_module": "@jupyter-widgets/controls",
      "model_module_version": "1.4.0",
      "model_name": "SliderStyleModel",
      "state": {
       "description_width": ""
      }
     },
     "e6f6b8e27ab94cba824bd0d3b2aa005d": {
      "model_module": "@jupyter-widgets/controls",
      "model_module_version": "1.4.0",
      "model_name": "SliderStyleModel",
      "state": {
       "description_width": ""
      }
     },
     "e717a584d0a44d7fa75f880008cf3be3": {
      "model_module": "@jupyter-widgets/controls",
      "model_module_version": "1.4.0",
      "model_name": "SliderStyleModel",
      "state": {
       "description_width": ""
      }
     },
     "e74d006738064a7aa18b8765043bf22e": {
      "model_module": "@jupyter-widgets/controls",
      "model_module_version": "1.4.0",
      "model_name": "VBoxModel",
      "state": {
       "children": [
        "IPY_MODEL_4cbf92a763a1484585424b2317367120",
        "IPY_MODEL_c2109cae54974b4c823bc28986fbb0e8",
        "IPY_MODEL_748ea4cdd80c4ee3a77260f7b23121d5",
        "IPY_MODEL_580750778aa64bea808b60e181e57954",
        "IPY_MODEL_545f5f5e0c6d487292b0790c35fbe3ac",
        "IPY_MODEL_07093d59711340af9e265f071672757e",
        "IPY_MODEL_0dd1495feeef4703b50054736019ce62",
        "IPY_MODEL_64c2f7dfd7464549865e9ad949367f58",
        "IPY_MODEL_47660e48a71d460a81a30f1ba87ad451"
       ],
       "layout": "IPY_MODEL_aa3a6ba1d9ea493c825e35ad2b88252e"
      }
     },
     "e7b058d149d441589a7b2785707262f3": {
      "model_module": "@jupyter-widgets/controls",
      "model_module_version": "1.4.0",
      "model_name": "SliderStyleModel",
      "state": {
       "description_width": ""
      }
     },
     "e7f7c669e5d74ce4885ff13e0b110abd": {
      "model_module": "@jupyter-widgets/controls",
      "model_module_version": "1.4.0",
      "model_name": "DescriptionStyleModel",
      "state": {
       "description_width": ""
      }
     },
     "e7fbd6123927420284c06575754d0dd3": {
      "model_module": "@jupyter-widgets/base",
      "model_module_version": "1.1.0",
      "model_name": "LayoutModel",
      "state": {}
     },
     "e800610409d145bba77e8d03b8734fc0": {
      "model_module": "@jupyter-widgets/controls",
      "model_module_version": "1.4.0",
      "model_name": "DropdownModel",
      "state": {
       "_options_labels": [
        "segment",
        "covertype",
        "digits",
        "fall_detection",
        "mnist",
        "pen_digits",
        "satellite",
        "vowel"
       ],
       "description": "Dataset:",
       "index": 0,
       "layout": "IPY_MODEL_c9da525d3952409296a19711e7edffec",
       "style": "IPY_MODEL_e7f7c669e5d74ce4885ff13e0b110abd"
      }
     },
     "e8028425f5fc415eb13a5c269462f91b": {
      "model_module": "@jupyter-widgets/controls",
      "model_module_version": "1.4.0",
      "model_name": "DescriptionStyleModel",
      "state": {
       "description_width": ""
      }
     },
     "e8280291006c40a5996775a88f88f0ce": {
      "model_module": "@jupyter-widgets/controls",
      "model_module_version": "1.4.0",
      "model_name": "CheckboxModel",
      "state": {
       "disabled": false,
       "layout": "IPY_MODEL_f6eaa0793c164a21b5eff63f519edd2b",
       "style": "IPY_MODEL_b5460e4b140c42889105a06905651553",
       "value": false
      }
     },
     "e87c4ed978f44b47801d83b4bf2434b9": {
      "model_module": "@jupyter-widgets/base",
      "model_module_version": "1.1.0",
      "model_name": "LayoutModel",
      "state": {}
     },
     "e88d0f7ba1f04e8d9dde6f333b9c2da7": {
      "model_module": "@jupyter-widgets/controls",
      "model_module_version": "1.4.0",
      "model_name": "DescriptionStyleModel",
      "state": {
       "description_width": ""
      }
     },
     "e8c4fe891e4f48c28296941b68740f36": {
      "model_module": "@jupyter-widgets/controls",
      "model_module_version": "1.4.0",
      "model_name": "DescriptionStyleModel",
      "state": {
       "description_width": ""
      }
     },
     "e967d0df5af6444eab20d3f18f105fbf": {
      "model_module": "@jupyter-widgets/controls",
      "model_module_version": "1.4.0",
      "model_name": "ButtonModel",
      "state": {
       "button_style": "info",
       "description": "Demo5",
       "layout": "IPY_MODEL_c29ec3b50a46452e82e3b6cd2707b880",
       "style": "IPY_MODEL_0a6af44065524c80adbe5a088f1f32ad"
      }
     },
     "e969df2d9bb940debc6ac6fb58db5fb2": {
      "model_module": "@jupyter-widgets/controls",
      "model_module_version": "1.4.0",
      "model_name": "DescriptionStyleModel",
      "state": {
       "description_width": ""
      }
     },
     "e96d3f00af4649d1830702fbf7c449af": {
      "model_module": "@jupyter-widgets/base",
      "model_module_version": "1.1.0",
      "model_name": "LayoutModel",
      "state": {
       "border": "3px solid black"
      }
     },
     "ea0a61244c904369bee3f4070597462f": {
      "model_module": "@jupyter-widgets/controls",
      "model_module_version": "1.4.0",
      "model_name": "DescriptionStyleModel",
      "state": {
       "description_width": ""
      }
     },
     "ea4c0071e19d497088305c002e4b79a9": {
      "model_module": "@jupyter-widgets/controls",
      "model_module_version": "1.4.0",
      "model_name": "VBoxModel",
      "state": {
       "children": [
        "IPY_MODEL_09488b40c16540328d55d795669fe8b3",
        "IPY_MODEL_07e818b8889e4c10bf4c4417629fae68"
       ],
       "layout": "IPY_MODEL_ad50c35a89e542258653a636ce29e6b7"
      }
     },
     "eacd26d9bed24e0eb1474a9dc519abc1": {
      "model_module": "@jupyter-widgets/controls",
      "model_module_version": "1.4.0",
      "model_name": "DropdownModel",
      "state": {
       "_options_labels": [
        "dt",
        "logit",
        "linear_svc"
       ],
       "index": 0,
       "layout": "IPY_MODEL_c1360911ced44c58b02f01fd1b1c6846",
       "style": "IPY_MODEL_f28b5cbf05984bdf8bb244243eecc42c"
      }
     },
     "ead7f2a8885a4b969f2d25a1748ce8e3": {
      "model_module": "@jupyter-widgets/controls",
      "model_module_version": "1.4.0",
      "model_name": "DescriptionStyleModel",
      "state": {
       "description_width": ""
      }
     },
     "eaf786d81146433f9250016af7e1d804": {
      "model_module": "@jupyter-widgets/controls",
      "model_module_version": "1.4.0",
      "model_name": "VBoxModel",
      "state": {
       "children": [
        "IPY_MODEL_6cb51a483f394287a63eedf7373e08d6",
        "IPY_MODEL_af1d8b12a81b4000a2ba790aed3aa9c8"
       ],
       "layout": "IPY_MODEL_6a9be19c1a9f4f54aa017f5e25db6b1d"
      }
     },
     "eb62fbb92d704a0892c16589f95fe54f": {
      "model_module": "@jupyter-widgets/base",
      "model_module_version": "1.1.0",
      "model_name": "LayoutModel",
      "state": {}
     },
     "ebc7fb338f4a4b72ad8273877de6d258": {
      "model_module": "@jupyter-widgets/controls",
      "model_module_version": "1.4.0",
      "model_name": "HBoxModel",
      "state": {
       "children": [
        "IPY_MODEL_4ea366ddf3914637b6a505e329c30a3d",
        "IPY_MODEL_196ff3ab935845609ff493e1b12707ca",
        "IPY_MODEL_22bd5e43652a47029865d5986079f7f0",
        "IPY_MODEL_a8c300a9cb39443183d9b50f5a33da97",
        "IPY_MODEL_2e03dcde96984870ae46938e81a704f1"
       ],
       "layout": "IPY_MODEL_dcb4c15ea4dc4acfa83f1d917531ffe7"
      }
     },
     "ec72457165ec4cfb943975673d8bbcc9": {
      "model_module": "@jupyter-widgets/base",
      "model_module_version": "1.1.0",
      "model_name": "LayoutModel",
      "state": {}
     },
     "eca2df6211c140ec9f8ab7185feac7fc": {
      "model_module": "@jupyter-widgets/controls",
      "model_module_version": "1.4.0",
      "model_name": "DescriptionStyleModel",
      "state": {
       "description_width": ""
      }
     },
     "eccdb46edb00421eb82f4d6634575ea2": {
      "model_module": "@jupyter-widgets/controls",
      "model_module_version": "1.4.0",
      "model_name": "ButtonModel",
      "state": {
       "button_style": "warning",
       "description": "Remove model",
       "layout": "IPY_MODEL_1c274f464d6c407e9414d00b1cb573c6",
       "style": "IPY_MODEL_df264548d41743589f0eb68307efefdb"
      }
     },
     "ece2bdd132ea4a38af8fabd964ab0782": {
      "model_module": "@jupyter-widgets/controls",
      "model_module_version": "1.4.0",
      "model_name": "DropdownModel",
      "state": {
       "_options_labels": [
        "dt",
        "logit",
        "linear_svc"
       ],
       "description": "Model",
       "index": 0,
       "layout": "IPY_MODEL_a8f365e9bce4414f97f7873cab84ae63",
       "style": "IPY_MODEL_11d56885bfb4453da661403b6ebefb34"
      }
     },
     "ecee33b702e043a38b2d6ad005a273bd": {
      "model_module": "@jupyter-widgets/base",
      "model_module_version": "1.1.0",
      "model_name": "LayoutModel",
      "state": {}
     },
     "ed04019fda65412b8b580f4b6dec1d65": {
      "model_module": "@jupyter-widgets/base",
      "model_module_version": "1.1.0",
      "model_name": "LayoutModel",
      "state": {}
     },
     "ed4d8014f9f04021b0fa89a5e02a6899": {
      "model_module": "@jupyter-widgets/controls",
      "model_module_version": "1.4.0",
      "model_name": "LabelModel",
      "state": {
       "layout": "IPY_MODEL_e26d2eaa64484fa59981d3e66dd6fa4e",
       "style": "IPY_MODEL_8010b67ba5d546818c14ff2cc51dbc7f",
       "value": "PCA?"
      }
     },
     "edc0fac887dd4aad90623b24e6c9eccc": {
      "model_module": "@jupyter-widgets/base",
      "model_module_version": "1.1.0",
      "model_name": "LayoutModel",
      "state": {}
     },
     "ee0451c7cb7b4c97af06ce6122642efb": {
      "model_module": "@jupyter-widgets/controls",
      "model_module_version": "1.4.0",
      "model_name": "VBoxModel",
      "state": {
       "children": [
        "IPY_MODEL_8cfd87baa4e04903b302f932c9f5c02a",
        "IPY_MODEL_5ffccf2beb1c4c7cae291fb09a578b2a"
       ],
       "layout": "IPY_MODEL_766c13b58d9d42d59eea777947223572"
      }
     },
     "ee330b6e38184c6292a448468a7fdd03": {
      "model_module": "@jupyter-widgets/controls",
      "model_module_version": "1.4.0",
      "model_name": "DropdownModel",
      "state": {
       "_options_labels": [
        "None",
        "black",
        "grey"
       ],
       "index": 0,
       "layout": "IPY_MODEL_73b9c793541642c59ffadb83cf6be760",
       "style": "IPY_MODEL_67b80627b0e44dbd8ab57d28e877205e"
      }
     },
     "ee64d885d49747e9ac9011d1cb7eff0e": {
      "model_module": "@jupyter-widgets/base",
      "model_module_version": "1.1.0",
      "model_name": "LayoutModel",
      "state": {}
     },
     "ee8544aa423147ee9065e1f4339316d8": {
      "model_module": "@jupyter-widgets/base",
      "model_module_version": "1.1.0",
      "model_name": "LayoutModel",
      "state": {}
     },
     "ee94008409614c759d405b0622143380": {
      "model_module": "@jupyter-widgets/controls",
      "model_module_version": "1.4.0",
      "model_name": "LabelModel",
      "state": {
       "layout": "IPY_MODEL_fcc44a4510384216b41b1accdf95d53c",
       "style": "IPY_MODEL_fed7b876dfdc49358906a8d38ae1e3f6",
       "value": "Sampler"
      }
     },
     "ee9c63d215b447cc9f27024a44fa31fc": {
      "model_module": "@jupyter-widgets/controls",
      "model_module_version": "1.4.0",
      "model_name": "DescriptionStyleModel",
      "state": {
       "description_width": ""
      }
     },
     "eeb39ff6f96a4abebe8c1e83c1d97404": {
      "model_module": "@jupyter-widgets/base",
      "model_module_version": "1.1.0",
      "model_name": "LayoutModel",
      "state": {}
     },
     "eefd6c8eb79f4060843474de6deb292c": {
      "model_module": "@jupyter-widgets/controls",
      "model_module_version": "1.4.0",
      "model_name": "LabelModel",
      "state": {
       "layout": "IPY_MODEL_d9ef06215f7d4888a027c20ef799eadf",
       "style": "IPY_MODEL_048ccc6073a94fe68a573b2767c9c3eb",
       "value": "Number Estimators"
      }
     },
     "ef13597a0ff64eeeadebef350b523f81": {
      "model_module": "@jupyter-widgets/base",
      "model_module_version": "1.1.0",
      "model_name": "LayoutModel",
      "state": {
       "visibility": "hidden",
       "width": "300px"
      }
     },
     "ef53775876694f6ca34b2a2c9e082525": {
      "model_module": "@jupyter-widgets/controls",
      "model_module_version": "1.4.0",
      "model_name": "DescriptionStyleModel",
      "state": {
       "description_width": ""
      }
     },
     "ef5f5f4b2c624b81b54eda489e53c86e": {
      "model_module": "@jupyter-widgets/base",
      "model_module_version": "1.1.0",
      "model_name": "LayoutModel",
      "state": {}
     },
     "ef79567dc9084b6dad0c837bff43b2a6": {
      "model_module": "@jupyter-widgets/base",
      "model_module_version": "1.1.0",
      "model_name": "LayoutModel",
      "state": {}
     },
     "ef8f49eb1dc04b4ab80b952872f808fc": {
      "model_module": "@jupyter-widgets/controls",
      "model_module_version": "1.4.0",
      "model_name": "ButtonStyleModel",
      "state": {}
     },
     "efa872d4f33642d689aff7b236bb5208": {
      "model_module": "@jupyter-widgets/controls",
      "model_module_version": "1.4.0",
      "model_name": "IntSliderModel",
      "state": {
       "layout": "IPY_MODEL_d8a68058bae040e8a1633c2bbdce4429",
       "max": 200,
       "min": 2,
       "style": "IPY_MODEL_4e60486420ba48f8bb361492d3820e65",
       "value": 30
      }
     },
     "f00b93bbbfb242f28786cba15b98df51": {
      "model_module": "@jupyter-widgets/controls",
      "model_module_version": "1.4.0",
      "model_name": "DescriptionStyleModel",
      "state": {
       "description_width": ""
      }
     },
     "f00eae40af5c4148ab5cd8c02cd9f720": {
      "model_module": "@jupyter-widgets/controls",
      "model_module_version": "1.4.0",
      "model_name": "ButtonStyleModel",
      "state": {}
     },
     "f00f47c044634cb6a00ee400d4366275": {
      "model_module": "@jupyter-widgets/controls",
      "model_module_version": "1.4.0",
      "model_name": "ButtonStyleModel",
      "state": {}
     },
     "f0102dc3bc754466888e956943151fbb": {
      "model_module": "@jupyter-widgets/base",
      "model_module_version": "1.1.0",
      "model_name": "LayoutModel",
      "state": {}
     },
     "f0805a0c70284b629aec07001ce29843": {
      "model_module": "@jupyter-widgets/controls",
      "model_module_version": "1.4.0",
      "model_name": "DescriptionStyleModel",
      "state": {
       "description_width": ""
      }
     },
     "f0c054c7ad294c298f636b8c575a939b": {
      "model_module": "@jupyter-widgets/base",
      "model_module_version": "1.1.0",
      "model_name": "LayoutModel",
      "state": {}
     },
     "f0c9c57fa0ce4c019ddad56693a4765f": {
      "model_module": "@jupyter-widgets/base",
      "model_module_version": "1.1.0",
      "model_name": "LayoutModel",
      "state": {}
     },
     "f0da26efe08446e09004304ba17d8ca6": {
      "model_module": "@jupyter-widgets/controls",
      "model_module_version": "1.4.0",
      "model_name": "ButtonStyleModel",
      "state": {}
     },
     "f0ddcce54f8d49baa2c1df999ee505df": {
      "model_module": "@jupyter-widgets/base",
      "model_module_version": "1.1.0",
      "model_name": "LayoutModel",
      "state": {
       "width": "90px"
      }
     },
     "f1921bfb000f4946a8aeaa68f6c46ea9": {
      "model_module": "@jupyter-widgets/controls",
      "model_module_version": "1.4.0",
      "model_name": "DescriptionStyleModel",
      "state": {
       "description_width": ""
      }
     },
     "f1e66e9ed2884dd3bf1bdce60cfe953b": {
      "model_module": "@jupyter-widgets/controls",
      "model_module_version": "1.4.0",
      "model_name": "ButtonModel",
      "state": {
       "button_style": "warning",
       "description": "Remove model",
       "layout": "IPY_MODEL_7e81556779c04a7c8522d48f6efd250d",
       "style": "IPY_MODEL_83e2e5eb0bd24be4b4291e0ddb29795b"
      }
     },
     "f22ec5185e3e420296c2fb3dfe914741": {
      "model_module": "@jupyter-widgets/base",
      "model_module_version": "1.1.0",
      "model_name": "LayoutModel",
      "state": {}
     },
     "f248e3cb6cd3446e8ce491abf0b0ab6a": {
      "model_module": "@jupyter-widgets/controls",
      "model_module_version": "1.4.0",
      "model_name": "DescriptionStyleModel",
      "state": {
       "description_width": ""
      }
     },
     "f28b5cbf05984bdf8bb244243eecc42c": {
      "model_module": "@jupyter-widgets/controls",
      "model_module_version": "1.4.0",
      "model_name": "DescriptionStyleModel",
      "state": {
       "description_width": ""
      }
     },
     "f29b0a8666864ca8b86a5974b8c6c667": {
      "model_module": "@jupyter-widgets/controls",
      "model_module_version": "1.4.0",
      "model_name": "VBoxModel",
      "state": {
       "children": [
        "IPY_MODEL_085cc7e75b8e49848304a30ce13c2171",
        "IPY_MODEL_73a8a83f7ba34981a6773ca1dacc5e2c"
       ],
       "layout": "IPY_MODEL_c7e0f2e2687b4513958cb49f792f7eaa"
      }
     },
     "f2cd0ae2fabb4adea5968e91ece8340d": {
      "model_module": "@jupyter-widgets/controls",
      "model_module_version": "1.4.0",
      "model_name": "DescriptionStyleModel",
      "state": {
       "description_width": ""
      }
     },
     "f2f9473a572d4ecfa4c08252df50af62": {
      "model_module": "@jupyter-widgets/base",
      "model_module_version": "1.1.0",
      "model_name": "LayoutModel",
      "state": {}
     },
     "f30e943752814c0e9f2b19959dbfb33c": {
      "model_module": "@jupyter-widgets/controls",
      "model_module_version": "1.4.0",
      "model_name": "LabelModel",
      "state": {
       "layout": "IPY_MODEL_6b13d3c54a264e02b36d145bcb415d08",
       "style": "IPY_MODEL_1a266bc79e9042509b9f9be9fe31db8b",
       "value": "Number Estimators"
      }
     },
     "f31bde5a30834971883b4ddec29fcdb7": {
      "model_module": "@jupyter-widgets/controls",
      "model_module_version": "1.4.0",
      "model_name": "DescriptionStyleModel",
      "state": {
       "description_width": ""
      }
     },
     "f31eae015b364115b49988bfe71449df": {
      "model_module": "@jupyter-widgets/controls",
      "model_module_version": "1.4.0",
      "model_name": "DescriptionStyleModel",
      "state": {
       "description_width": ""
      }
     },
     "f356695eb99a4f0582d0dcae67fce78b": {
      "model_module": "@jupyter-widgets/controls",
      "model_module_version": "1.4.0",
      "model_name": "DropdownModel",
      "state": {
       "_options_labels": [
        "None",
        "rbf",
        "nystroem"
       ],
       "index": 0,
       "layout": "IPY_MODEL_e40636e087124774a851b4fedd09b605",
       "style": "IPY_MODEL_9e5497135a734926beead5993b49c91b"
      }
     },
     "f38e46d8b9ec467682b71e103aa19c93": {
      "model_module": "@jupyter-widgets/controls",
      "model_module_version": "1.4.0",
      "model_name": "ButtonStyleModel",
      "state": {}
     },
     "f3c85df56c2d459fb34e45fc76c815f5": {
      "model_module": "@jupyter-widgets/controls",
      "model_module_version": "1.4.0",
      "model_name": "DescriptionStyleModel",
      "state": {
       "description_width": ""
      }
     },
     "f3c8f2e4ce824fc78d9c518e5f47e7c8": {
      "model_module": "@jupyter-widgets/controls",
      "model_module_version": "1.4.0",
      "model_name": "LabelModel",
      "state": {
       "layout": "IPY_MODEL_bcf10a74a8d44f1590391efc5c8938bf",
       "style": "IPY_MODEL_c5591e23c6c1467f95f47e7802d5038c",
       "value": "Sampler"
      }
     },
     "f451e5486b38482191e6e67d57c5d7ed": {
      "model_module": "@jupyter-widgets/controls",
      "model_module_version": "1.4.0",
      "model_name": "CheckboxModel",
      "state": {
       "disabled": false,
       "layout": "IPY_MODEL_2acb16bdc72a41269d0486e19adba50f",
       "style": "IPY_MODEL_842259026ca147799bf5e5c510903555",
       "value": false
      }
     },
     "f49a684f9aca4c41af3ac8cfd09a86ae": {
      "model_module": "@jupyter-widgets/controls",
      "model_module_version": "1.4.0",
      "model_name": "DescriptionStyleModel",
      "state": {
       "description_width": ""
      }
     },
     "f49d5016d471473e873744cfd478e7b3": {
      "model_module": "@jupyter-widgets/controls",
      "model_module_version": "1.4.0",
      "model_name": "CheckboxModel",
      "state": {
       "disabled": false,
       "layout": "IPY_MODEL_2ac6cdd9cc334fb1bb779e5816582a39",
       "style": "IPY_MODEL_e24dc7b63462433995692f373c8c6f4f",
       "value": false
      }
     },
     "f4f2d9686c014b2fbb95575c130f9eaf": {
      "model_module": "@jupyter-widgets/controls",
      "model_module_version": "1.4.0",
      "model_name": "DescriptionStyleModel",
      "state": {
       "description_width": ""
      }
     },
     "f502f4ca508d401ba086651aaa13bcba": {
      "model_module": "@jupyter-widgets/controls",
      "model_module_version": "1.4.0",
      "model_name": "DropdownModel",
      "state": {
       "_options_labels": [
        "None",
        "rbf",
        "nystroem"
       ],
       "index": 0,
       "layout": "IPY_MODEL_a576d0eeb6484f36aac2c31bf234a821",
       "style": "IPY_MODEL_4ff2a72d943d4450b5946e1288496d18"
      }
     },
     "f56c4d732faa4a6c82e145617d6922ab": {
      "model_module": "@jupyter-widgets/controls",
      "model_module_version": "1.4.0",
      "model_name": "ButtonModel",
      "state": {
       "button_style": "info",
       "description": "Demo0",
       "layout": "IPY_MODEL_aa0cf0edca0a4813aa531b12dbd0d7bc",
       "style": "IPY_MODEL_ef8f49eb1dc04b4ab80b952872f808fc"
      }
     },
     "f584a1c53a0a4a36be462a9ab3a9987e": {
      "model_module": "@jupyter-widgets/controls",
      "model_module_version": "1.4.0",
      "model_name": "DescriptionStyleModel",
      "state": {
       "description_width": ""
      }
     },
     "f5d47d505f0f478880b0b6aa25f3fe52": {
      "model_module": "@jupyter-widgets/controls",
      "model_module_version": "1.4.0",
      "model_name": "RadioButtonsModel",
      "state": {
       "_options_labels": [
        "1000",
        "2000",
        "5000",
        "10000"
       ],
       "description": "Size",
       "index": 0,
       "layout": "IPY_MODEL_31cf642144e84af0971f7f43272cc680",
       "style": "IPY_MODEL_d032410fc4ed44148337adc93b9caaa7"
      }
     },
     "f5dedfae5c75488b98dd7cebb74078ed": {
      "model_module": "@jupyter-widgets/controls",
      "model_module_version": "1.4.0",
      "model_name": "DescriptionStyleModel",
      "state": {
       "description_width": ""
      }
     },
     "f5f3481a9e3c4d53b8633ba95f8aa4c7": {
      "model_module": "@jupyter-widgets/controls",
      "model_module_version": "1.4.0",
      "model_name": "DescriptionStyleModel",
      "state": {
       "description_width": ""
      }
     },
     "f6228205b3894ecda5a6e9a8c084b962": {
      "model_module": "@jupyter-widgets/controls",
      "model_module_version": "1.4.0",
      "model_name": "ButtonModel",
      "state": {
       "button_style": "warning",
       "description": "Remove model",
       "layout": "IPY_MODEL_83e5778bc6974a4fb7c048566f15bb02",
       "style": "IPY_MODEL_77d47ec1ccb04137af0c06d4122d91e2"
      }
     },
     "f622a780847447a49f4f588e8cfd70ba": {
      "model_module": "@jupyter-widgets/base",
      "model_module_version": "1.1.0",
      "model_name": "LayoutModel",
      "state": {}
     },
     "f630812b9323423996d58b891b84b9d9": {
      "model_module": "@jupyter-widgets/controls",
      "model_module_version": "1.4.0",
      "model_name": "DescriptionStyleModel",
      "state": {
       "description_width": ""
      }
     },
     "f6671478485f4cc3922fd12e7706ea57": {
      "model_module": "@jupyter-widgets/controls",
      "model_module_version": "1.4.0",
      "model_name": "ButtonStyleModel",
      "state": {}
     },
     "f67eae1017f543c687231e68b4963682": {
      "model_module": "@jupyter-widgets/controls",
      "model_module_version": "1.4.0",
      "model_name": "IntRangeSliderModel",
      "state": {
       "_model_name": "IntRangeSliderModel",
       "_view_name": "IntRangeSliderView",
       "disabled": true,
       "layout": "IPY_MODEL_51e7540869fa4e6b91d0ec873bc17260",
       "max": 400,
       "min": 30,
       "step": 10,
       "style": "IPY_MODEL_534d454c604a4987ba68f3d6a6c25c9d",
       "value": [
        30,
        100
       ]
      }
     },
     "f6eaa0793c164a21b5eff63f519edd2b": {
      "model_module": "@jupyter-widgets/base",
      "model_module_version": "1.1.0",
      "model_name": "LayoutModel",
      "state": {}
     },
     "f70d15a4d03b4a9d88a112018b3b2357": {
      "model_module": "@jupyter-widgets/controls",
      "model_module_version": "1.4.0",
      "model_name": "RadioButtonsModel",
      "state": {
       "_options_labels": [
        "1000",
        "2000",
        "5000",
        "10000"
       ],
       "description": "Size",
       "index": 0,
       "layout": "IPY_MODEL_15ce198fc86c4e4da4ef36aa25a7eeba",
       "style": "IPY_MODEL_708170e46d2647c7bea6778435ad5339"
      }
     },
     "f7859389784f4f05ab519e825d058159": {
      "model_module": "@jupyter-widgets/base",
      "model_module_version": "1.1.0",
      "model_name": "LayoutModel",
      "state": {}
     },
     "f7a6927a71754f4092e2aa6440c47476": {
      "model_module": "@jupyter-widgets/controls",
      "model_module_version": "1.4.0",
      "model_name": "DescriptionStyleModel",
      "state": {
       "description_width": ""
      }
     },
     "f7b14301103c4e1cb68e383de8649cb7": {
      "model_module": "@jupyter-widgets/controls",
      "model_module_version": "1.4.0",
      "model_name": "CheckboxModel",
      "state": {
       "disabled": false,
       "layout": "IPY_MODEL_19ac6e124cdf4b4299a885dac69e3886",
       "style": "IPY_MODEL_19e4a1e617ad4d6aa739240cca8f44a1",
       "value": false
      }
     },
     "f7b225cc021f4989a1265c8fffd90dae": {
      "model_module": "@jupyter-widgets/base",
      "model_module_version": "1.1.0",
      "model_name": "LayoutModel",
      "state": {}
     },
     "f7e119087d644abf9e8301b76557dc21": {
      "model_module": "@jupyter-widgets/controls",
      "model_module_version": "1.4.0",
      "model_name": "DescriptionStyleModel",
      "state": {
       "description_width": ""
      }
     },
     "f842f8b416e842c5807c6ed1f21860ff": {
      "model_module": "@jupyter-widgets/controls",
      "model_module_version": "1.4.0",
      "model_name": "DescriptionStyleModel",
      "state": {
       "description_width": ""
      }
     },
     "f889a5da21724244ac6bedbda306c459": {
      "model_module": "@jupyter-widgets/base",
      "model_module_version": "1.1.0",
      "model_name": "LayoutModel",
      "state": {
       "width": "90px"
      }
     },
     "f88e343a18ce47c3885951f3f5849195": {
      "model_module": "@jupyter-widgets/controls",
      "model_module_version": "1.4.0",
      "model_name": "ButtonModel",
      "state": {
       "button_style": "info",
       "description": "Demo0",
       "layout": "IPY_MODEL_560e2aa6cac94c189be22ddc703caee8",
       "style": "IPY_MODEL_55dcfbd1bd554792be786598ffa2e213"
      }
     },
     "f8bc376ea5304a4ab81a5225b968a397": {
      "model_module": "@jupyter-widgets/controls",
      "model_module_version": "1.4.0",
      "model_name": "VBoxModel",
      "state": {
       "children": [
        "IPY_MODEL_32949eed3a204142964e80b58908c678",
        "IPY_MODEL_db7e749882484660b24b8a0d03b87ea0"
       ],
       "layout": "IPY_MODEL_062c249ca4ba4a5e8bcdf25c845b35ee"
      }
     },
     "f8df34e82bb84948bd1986bdad9b0ef1": {
      "model_module": "@jupyter-widgets/base",
      "model_module_version": "1.1.0",
      "model_name": "LayoutModel",
      "state": {
       "border": "3px solid black"
      }
     },
     "f9227ff14e0d4546a4e0bc42040a357f": {
      "model_module": "@jupyter-widgets/controls",
      "model_module_version": "1.4.0",
      "model_name": "RadioButtonsModel",
      "state": {
       "_options_labels": [
        "1000",
        "2000",
        "5000",
        "10000"
       ],
       "description": "Size",
       "index": 0,
       "layout": "IPY_MODEL_201a1be1f9a84356bb24a779f57fed00",
       "style": "IPY_MODEL_d90433cc06014514bff8b4afccc60c0d"
      }
     },
     "f92f1f37f1e34feca3d61af2ae1f0e9f": {
      "model_module": "@jupyter-widgets/controls",
      "model_module_version": "1.4.0",
      "model_name": "DescriptionStyleModel",
      "state": {
       "description_width": ""
      }
     },
     "f95a9075cea342a7b2b4981f98d6ea6f": {
      "model_module": "@jupyter-widgets/base",
      "model_module_version": "1.1.0",
      "model_name": "LayoutModel",
      "state": {}
     },
     "f9a1b77cc9e64b15a5f0c6b961d7dad1": {
      "model_module": "@jupyter-widgets/base",
      "model_module_version": "1.1.0",
      "model_name": "LayoutModel",
      "state": {}
     },
     "f9ae9eb83cc24307a871e5e10341645d": {
      "model_module": "@jupyter-widgets/controls",
      "model_module_version": "1.4.0",
      "model_name": "SliderStyleModel",
      "state": {
       "description_width": ""
      }
     },
     "f9b2829b5b8e4b749525eed7e1b75d91": {
      "model_module": "@jupyter-widgets/controls",
      "model_module_version": "1.4.0",
      "model_name": "ButtonStyleModel",
      "state": {}
     },
     "fa400587acb448c2bd85201da91f75a5": {
      "model_module": "@jupyter-widgets/base",
      "model_module_version": "1.1.0",
      "model_name": "LayoutModel",
      "state": {
       "border": "3px solid black"
      }
     },
     "fa97f80fd97046c3970e1ce4fb7bbfc4": {
      "model_module": "@jupyter-widgets/controls",
      "model_module_version": "1.4.0",
      "model_name": "ButtonModel",
      "state": {
       "button_style": "info",
       "description": "Demo0",
       "layout": "IPY_MODEL_1789f680649b4d4b925383e43d93c56b",
       "style": "IPY_MODEL_c73cbce8717648a487ae807cbf0df655"
      }
     },
     "faa5a4cd7efb4fb7814332ce0686b634": {
      "model_module": "@jupyter-widgets/controls",
      "model_module_version": "1.4.0",
      "model_name": "VBoxModel",
      "state": {
       "children": [
        "IPY_MODEL_a21331b9840b41348efb63af176c0b51",
        "IPY_MODEL_0f5823f076d64ef99bcedf2b075f1c02"
       ],
       "layout": "IPY_MODEL_d13f0dd52845417a817af86a4c182e32"
      }
     },
     "faaa5808f3c54f36ac1f7f5ba8dcdb96": {
      "model_module": "@jupyter-widgets/base",
      "model_module_version": "1.1.0",
      "model_name": "LayoutModel",
      "state": {}
     },
     "faac0dbdb6144ba7aadf193063d9d6f2": {
      "model_module": "@jupyter-widgets/controls",
      "model_module_version": "1.4.0",
      "model_name": "DescriptionStyleModel",
      "state": {
       "description_width": ""
      }
     },
     "fabb75494a8a43fbae76978415191bf0": {
      "model_module": "@jupyter-widgets/controls",
      "model_module_version": "1.4.0",
      "model_name": "DescriptionStyleModel",
      "state": {
       "description_width": ""
      }
     },
     "fb26407d36f6473aa68d143c048b9943": {
      "model_module": "@jupyter-widgets/base",
      "model_module_version": "1.1.0",
      "model_name": "LayoutModel",
      "state": {}
     },
     "fb285a5910f14b5eaf444ec188e50c20": {
      "model_module": "@jupyter-widgets/base",
      "model_module_version": "1.1.0",
      "model_name": "LayoutModel",
      "state": {}
     },
     "fb61e86e13304150853e028921a1bfe4": {
      "model_module": "@jupyter-widgets/base",
      "model_module_version": "1.1.0",
      "model_name": "LayoutModel",
      "state": {
       "visibility": "hidden",
       "width": "300px"
      }
     },
     "fbbf18fc902248f492933cf4287b6df1": {
      "model_module": "@jupyter-widgets/controls",
      "model_module_version": "1.4.0",
      "model_name": "SliderStyleModel",
      "state": {
       "description_width": ""
      }
     },
     "fbc1f87871704d0cb9be878ed796a330": {
      "model_module": "@jupyter-widgets/controls",
      "model_module_version": "1.4.0",
      "model_name": "DescriptionStyleModel",
      "state": {
       "description_width": ""
      }
     },
     "fc1b99c29cc245338cc2a1da4e9cb420": {
      "model_module": "@jupyter-widgets/controls",
      "model_module_version": "1.4.0",
      "model_name": "RadioButtonsModel",
      "state": {
       "_options_labels": [
        "1000",
        "2000",
        "5000",
        "10000"
       ],
       "description": "Size",
       "index": 0,
       "layout": "IPY_MODEL_b6031662c7794f82b8cb7053eeaf1b29",
       "style": "IPY_MODEL_521559c19bc6441c8fcb22f1722cf1cc"
      }
     },
     "fc63787df1c442faa977ef2a3d19a0d9": {
      "model_module": "@jupyter-widgets/controls",
      "model_module_version": "1.4.0",
      "model_name": "DropdownModel",
      "state": {
       "_options_labels": [
        "None",
        "rbf",
        "nystroem"
       ],
       "index": 0,
       "layout": "IPY_MODEL_379d81ff93b04576bdd7479398bd3506",
       "style": "IPY_MODEL_f0805a0c70284b629aec07001ce29843"
      }
     },
     "fc74d2ce38aa4bf19b54ffdd8b5acd36": {
      "model_module": "@jupyter-widgets/controls",
      "model_module_version": "1.4.0",
      "model_name": "LabelModel",
      "state": {
       "layout": "IPY_MODEL_b16110edd62040ab903795b5e4e3e002",
       "style": "IPY_MODEL_63a4fb0d835d4f21ab4c341973076ddf",
       "value": "Number Estimators"
      }
     },
     "fcc045e852f94065a45617809536cb1b": {
      "model_module": "@jupyter-widgets/base",
      "model_module_version": "1.1.0",
      "model_name": "LayoutModel",
      "state": {}
     },
     "fcc361cb214049e2a87feee3fcfc7e81": {
      "model_module": "@jupyter-widgets/base",
      "model_module_version": "1.1.0",
      "model_name": "LayoutModel",
      "state": {
       "width": "90px"
      }
     },
     "fcc44a4510384216b41b1accdf95d53c": {
      "model_module": "@jupyter-widgets/base",
      "model_module_version": "1.1.0",
      "model_name": "LayoutModel",
      "state": {}
     },
     "fcd50383af124902a9e727a9aed91923": {
      "model_module": "@jupyter-widgets/controls",
      "model_module_version": "1.4.0",
      "model_name": "VBoxModel",
      "state": {
       "children": [
        "IPY_MODEL_11141ad2e1dc49049162ee809331ba4f",
        "IPY_MODEL_27b9f760cabb4c04b0e776800fbf737f",
        "IPY_MODEL_50975aee2cc94fcbb9a6e4f32277ab63",
        "IPY_MODEL_4024b7213d91486593481f2afd27be91",
        "IPY_MODEL_510b3f04f3784ea1904c3c356b636e51",
        "IPY_MODEL_ff55b3987fef477380d2bd8ef5b6d351",
        "IPY_MODEL_ded94e14b1dd46328121f7734c84ca0c"
       ],
       "layout": "IPY_MODEL_d55b7f546fa543c3ae46cfa32c699e4f"
      }
     },
     "fd58bba18c884337aff424c91f488a93": {
      "model_module": "@jupyter-widgets/base",
      "model_module_version": "1.1.0",
      "model_name": "LayoutModel",
      "state": {
       "visibility": "hidden",
       "width": "300px"
      }
     },
     "fd65a7a3021340de8fc5ec6ad6f3d779": {
      "model_module": "@jupyter-widgets/controls",
      "model_module_version": "1.4.0",
      "model_name": "DescriptionStyleModel",
      "state": {
       "description_width": ""
      }
     },
     "fd91cbe81b6e4b2993d07192db5c9ec0": {
      "model_module": "@jupyter-widgets/controls",
      "model_module_version": "1.4.0",
      "model_name": "CheckboxModel",
      "state": {
       "disabled": false,
       "layout": "IPY_MODEL_a28fd062848a488199cb51300818fe4b",
       "style": "IPY_MODEL_d8a0be2438f74a67bf81ac632b75b918",
       "value": false
      }
     },
     "fdb06cb94d3d461cbc51449f46cc9caf": {
      "model_module": "@jupyter-widgets/controls",
      "model_module_version": "1.4.0",
      "model_name": "DropdownModel",
      "state": {
       "_options_labels": [
        "dt",
        "logit",
        "linear_svc"
       ],
       "index": 0,
       "layout": "IPY_MODEL_be9ec8280cdd4e4f916e90441c92a09f",
       "style": "IPY_MODEL_23968d20878841adaa65f1030dc2ce81"
      }
     },
     "fdbe62b8e2ab406cbcfdf95c18189826": {
      "model_module": "@jupyter-widgets/controls",
      "model_module_version": "1.4.0",
      "model_name": "LabelModel",
      "state": {
       "layout": "IPY_MODEL_1ca8a2632a874a18a1ade782bc01c57c",
       "style": "IPY_MODEL_835a0b3d741e4637806ef64a92cfea31",
       "value": "Model"
      }
     },
     "fed7b876dfdc49358906a8d38ae1e3f6": {
      "model_module": "@jupyter-widgets/controls",
      "model_module_version": "1.4.0",
      "model_name": "DescriptionStyleModel",
      "state": {
       "description_width": ""
      }
     },
     "fee965fd49564cfdab9a7d91c2e63e4b": {
      "model_module": "@jupyter-widgets/controls",
      "model_module_version": "1.4.0",
      "model_name": "VBoxModel",
      "state": {
       "children": [
        "IPY_MODEL_80e87273b92548228bd6f678bbbd4816",
        "IPY_MODEL_28148fe5a97d4cd4af82c053df9f14c9",
        "IPY_MODEL_4e83fc41382d4614868484c79ceded2a",
        "IPY_MODEL_bac98550f1c74b9181ea447a8eef5996",
        "IPY_MODEL_dbb72a3783794d00ba5ee33975e6050b",
        "IPY_MODEL_95041259d7bf42e9bd187d565ae8ef93",
        "IPY_MODEL_e967d0df5af6444eab20d3f18f105fbf"
       ],
       "layout": "IPY_MODEL_39bd7e77d5f34de5b2cff1ded4ec8b8a"
      }
     },
     "feecc4a4e3194d7188ddc866d08c254f": {
      "model_module": "@jupyter-widgets/controls",
      "model_module_version": "1.4.0",
      "model_name": "DescriptionStyleModel",
      "state": {
       "description_width": ""
      }
     },
     "fef3b4747a4e44d2a9cdfd84543d8e23": {
      "model_module": "@jupyter-widgets/base",
      "model_module_version": "1.1.0",
      "model_name": "LayoutModel",
      "state": {}
     },
     "ff2912c5d16b4ebbb8a40a4e856a3485": {
      "model_module": "@jupyter-widgets/base",
      "model_module_version": "1.1.0",
      "model_name": "LayoutModel",
      "state": {}
     },
     "ff4ce164e632449c8c19ed00f9bde22d": {
      "model_module": "@jupyter-widgets/controls",
      "model_module_version": "1.4.0",
      "model_name": "ButtonStyleModel",
      "state": {}
     },
     "ff55b3987fef477380d2bd8ef5b6d351": {
      "model_module": "@jupyter-widgets/controls",
      "model_module_version": "1.4.0",
      "model_name": "IntSliderModel",
      "state": {
       "description": "N. estim.",
       "layout": "IPY_MODEL_36159fa502924dccbb940c9bb1ce2b8b",
       "max": 200,
       "min": 2,
       "style": "IPY_MODEL_8e65ca27975b4902a84f2c8243e76290",
       "value": 30
      }
     },
     "ff5e833c9ea74012b3424cecca36c3ec": {
      "model_module": "@jupyter-widgets/controls",
      "model_module_version": "1.4.0",
      "model_name": "VBoxModel",
      "state": {
       "children": [
        "IPY_MODEL_d5c737f7dc7b44b689c75a2141dba92d",
        "IPY_MODEL_614405c0929c46608f30d0ae66323c15"
       ],
       "layout": "IPY_MODEL_99c0e52728e74970a7ef69550208cd1b"
      }
     },
     "ffa0433c71d245d49bb30b0ba15efa7f": {
      "model_module": "@jupyter-widgets/base",
      "model_module_version": "1.1.0",
      "model_name": "LayoutModel",
      "state": {}
     },
     "ffe48c4569d6489bb6838c8b58742368": {
      "model_module": "@jupyter-widgets/controls",
      "model_module_version": "1.4.0",
      "model_name": "IntSliderModel",
      "state": {
       "disabled": true,
       "layout": "IPY_MODEL_c8dae4f17aa14b37a91644c1da066d49",
       "max": 200,
       "min": 2,
       "style": "IPY_MODEL_85c530e33d374ca097a7d50d0eae9061",
       "value": 30
      }
     }
    },
    "version_major": 2,
    "version_minor": 0
   }
  }
 },
 "nbformat": 4,
 "nbformat_minor": 2
}
