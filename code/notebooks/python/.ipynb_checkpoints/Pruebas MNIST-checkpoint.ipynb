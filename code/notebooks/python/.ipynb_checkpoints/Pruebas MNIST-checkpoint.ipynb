{
 "cells": [
  {
   "cell_type": "markdown",
   "metadata": {},
   "source": [
    "Se comprueba la cantidad de componentes que saca el PCA con el 90 y el 95% de la varianza:\n",
    "\n",
    "- 100 %: **717**\n",
    "\n",
    "- 90 %: **159**\n",
    "\n",
    "- 95 %: **235**\n",
    "\n",
    "También se comprueba cómo hacer PCA también con los datos de test no cambia demasiado los\n",
    "resultados"
   ]
  },
  {
   "cell_type": "code",
   "execution_count": 1,
   "metadata": {},
   "outputs": [],
   "source": [
    "from sklearn.decomposition import PCA\n",
    "from demo_utils.general import get_data\n",
    "from IPython.display import Image\n",
    "from demo_utils.demo0 import Demo0\n",
    "import pandas as pd\n",
    "from sklearn.tree import DecisionTreeClassifier\n",
    "from sklearn.svm import LinearSVC\n",
    "from sklearn.linear_model import LogisticRegression\n",
    "import matplotlib.pyplot as plt"
   ]
  },
  {
   "cell_type": "code",
   "execution_count": 2,
   "metadata": {},
   "outputs": [],
   "source": [
    "testing_dataset = 'mnist'\n",
    "\n",
    "data = get_data(testing_dataset)\n",
    "\n",
    "data_train = data['data_train']\n",
    "data_test = data['data_test']\n",
    "target_train = data['target_train']\n",
    "target_test = data['target_test']\n",
    "data_mix = pd.concat([data_train, data_test])"
   ]
  },
  {
   "cell_type": "code",
   "execution_count": 3,
   "metadata": {},
   "outputs": [],
   "source": [
    "pca90 = PCA(n_components=0.9, svd_solver=\"full\")\n",
    "pca95 = PCA(n_components=0.95, svd_solver=\"full\")\n",
    "\n",
    "pca90.fit(data_train)\n",
    "pca95.fit(data_train)\n",
    "\n",
    "trans90 = pca90.transform(data_train)\n",
    "trans95 = pca95.transform(data_train)"
   ]
  },
  {
   "cell_type": "code",
   "execution_count": 4,
   "metadata": {},
   "outputs": [
    {
     "data": {
      "text/plain": [
       "(3334, 717)"
      ]
     },
     "execution_count": 4,
     "metadata": {},
     "output_type": "execute_result"
    }
   ],
   "source": [
    "data_train.shape"
   ]
  },
  {
   "cell_type": "code",
   "execution_count": 5,
   "metadata": {},
   "outputs": [
    {
     "data": {
      "text/plain": [
       "(3334, 159)"
      ]
     },
     "execution_count": 5,
     "metadata": {},
     "output_type": "execute_result"
    }
   ],
   "source": [
    "trans90.shape"
   ]
  },
  {
   "cell_type": "code",
   "execution_count": 6,
   "metadata": {},
   "outputs": [
    {
     "data": {
      "text/plain": [
       "(3334, 235)"
      ]
     },
     "execution_count": 6,
     "metadata": {},
     "output_type": "execute_result"
    }
   ],
   "source": [
    "trans95.shape"
   ]
  },
  {
   "cell_type": "markdown",
   "metadata": {},
   "source": [
    "**MNIST** original tiene **715** columnas.\n",
    "\n",
    "Con el **90%** de la varianza tiene **159** columnas.\n",
    "\n",
    "Con el **95%** de la varianza tiene **235** columnas."
   ]
  },
  {
   "cell_type": "markdown",
   "metadata": {},
   "source": [
    "## Experimento con la construcción del PCA"
   ]
  },
  {
   "cell_type": "code",
   "execution_count": 7,
   "metadata": {},
   "outputs": [],
   "source": [
    "pca = PCA(n_components=0.9, svd_solver=\"full\")\n",
    "\n",
    "pca.fit(data_train)\n",
    "data_train_trans_normal = pca.transform(data_train)\n",
    "data_test_trans_normal = pca.transform(data_test)\n",
    "\n",
    "pca.fit(data_mix)\n",
    "data_train_trans_cheat = pca.transform(data_train)\n",
    "data_test_trans_cheat = pca.transform(data_test)\n",
    "\n",
    "\n",
    "dt_best_params = {\n",
    "    'max_depth': 1000,\n",
    "    'max_leaf_nodes': 100,\n",
    "    'min_impurity_decrease': 0.0,\n",
    "    'min_samples_leaf': 1,\n",
    "    'min_samples_split': 2,\n",
    "    'min_weight_fraction_leaf': 0.0\n",
    "}\n",
    "logit_best_params = {'C': 0.01}\n",
    "linear_svc_best_params = {'C': 0.001}"
   ]
  },
  {
   "cell_type": "markdown",
   "metadata": {},
   "source": [
    "### DT con PCA bien hecho"
   ]
  },
  {
   "cell_type": "markdown",
   "metadata": {},
   "source": [
    "![DT with PCA](img/dt_pca.png)"
   ]
  },
  {
   "cell_type": "markdown",
   "metadata": {},
   "source": [
    "### DT con PCA haciendo trampas"
   ]
  },
  {
   "cell_type": "code",
   "execution_count": 8,
   "metadata": {},
   "outputs": [
    {
     "data": {
      "text/plain": [
       "[Text(0, 0, 'dt normal pca'), Text(0, 0, 'dt cheat pca')]"
      ]
     },
     "execution_count": 8,
     "metadata": {},
     "output_type": "execute_result"
    },
    {
     "data": {
      "image/png": "[encoded data removed]",
      "text/plain": [
       "<Figure size 921.6x345.6 with 2 Axes>"
      ]
     },
     "metadata": {
      "needs_background": "light"
     },
     "output_type": "display_data"
    }
   ],
   "source": [
    "dt = DecisionTreeClassifier(**dt_best_params)\n",
    "\n",
    "dt.fit(data_train_trans_normal, target_train)\n",
    "normal_dt_train_score = dt.score(data_train_trans_normal, target_train)\n",
    "normal_dt_test_score = dt.score(data_test_trans_normal, target_test)\n",
    "\n",
    "dt.fit(data_train_trans_cheat, target_train)\n",
    "cheat_dt_train_score = dt.score(data_train_trans_cheat, target_train)\n",
    "cheat_dt_test_score = dt.score(data_test_trans_cheat, target_test)\n",
    "\n",
    "fig = plt.figure(figsize=(12.8, 4.8))\n",
    "test_sp = fig.add_subplot(121)\n",
    "train_sp = fig.add_subplot(122, sharey=test_sp)\n",
    "\n",
    "test_sp.set_title(\"Test error\")\n",
    "train_sp.set_title(\"Train error\")\n",
    "\n",
    "train_labels = ['dt normal pca', 'dt cheat pca']\n",
    "test_labels = ['dt normal pca', 'dt cheat pca']\n",
    "\n",
    "train_scores = [1 - normal_dt_train_score, 1 - cheat_dt_train_score]\n",
    "test_scores = [1 - normal_dt_test_score, 1 - cheat_dt_test_score]\n",
    "\n",
    "train_sp.bar(train_labels, train_scores)\n",
    "test_sp.bar(test_labels, test_scores)\n",
    "\n",
    "test_sp.grid(True)\n",
    "train_sp.grid(True)\n",
    "train_sp.set_xticklabels(train_labels, rotation=45)\n",
    "test_sp.set_xticklabels(test_labels, rotation=45)"
   ]
  },
  {
   "cell_type": "markdown",
   "metadata": {},
   "source": [
    "### Logit con PCA bien hecho"
   ]
  },
  {
   "cell_type": "markdown",
   "metadata": {},
   "source": [
    "![DT with PCA](img/logit_pca.png)"
   ]
  },
  {
   "cell_type": "markdown",
   "metadata": {},
   "source": [
    "### Logit con PCA haciendo trampas"
   ]
  },
  {
   "cell_type": "code",
   "execution_count": 9,
   "metadata": {},
   "outputs": [
    {
     "name": "stderr",
     "output_type": "stream",
     "text": [
      "/home/hobber/anaconda3/lib/python3.7/site-packages/sklearn/linear_model/logistic.py:758: ConvergenceWarning: lbfgs failed to converge. Increase the number of iterations.\n",
      "  \"of iterations.\", ConvergenceWarning)\n",
      "/home/hobber/anaconda3/lib/python3.7/site-packages/sklearn/linear_model/logistic.py:758: ConvergenceWarning: lbfgs failed to converge. Increase the number of iterations.\n",
      "  \"of iterations.\", ConvergenceWarning)\n"
     ]
    },
    {
     "data": {
      "text/plain": [
       "[Text(0, 0, 'logit normal pca'), Text(0, 0, 'logit cheat pca')]"
      ]
     },
     "execution_count": 9,
     "metadata": {},
     "output_type": "execute_result"
    },
    {
     "data": {
      "image/png": "[encoded data removed]",
      "text/plain": [
       "<Figure size 921.6x345.6 with 2 Axes>"
      ]
     },
     "metadata": {
      "needs_background": "light"
     },
     "output_type": "display_data"
    }
   ],
   "source": [
    "logit = LogisticRegression(**logit_best_params,\n",
    "                        multi_class='multinomial',\n",
    "                        solver='lbfgs')\n",
    "\n",
    "logit.fit(data_train_trans_normal, target_train)\n",
    "normal_logit_train_score = logit.score(data_train_trans_normal, target_train)\n",
    "normal_logit_test_score = logit.score(data_test_trans_normal, target_test)\n",
    "\n",
    "logit.fit(data_train_trans_cheat, target_train)\n",
    "cheat_logit_train_score = logit.score(data_train_trans_cheat, target_train)\n",
    "cheat_logit_test_score = logit.score(data_test_trans_cheat, target_test)\n",
    "\n",
    "fig = plt.figure(figsize=(12.8, 4.8))\n",
    "test_sp = fig.add_subplot(121)\n",
    "train_sp = fig.add_subplot(122, sharey=test_sp)\n",
    "\n",
    "test_sp.set_title(\"Test error\")\n",
    "train_sp.set_title(\"Train error\")\n",
    "\n",
    "train_labels = ['logit normal pca', 'logit cheat pca']\n",
    "test_labels = ['logit normal pca', 'logit cheat pca']\n",
    "\n",
    "train_scores = [1 - normal_logit_train_score, 1 - cheat_logit_train_score]\n",
    "test_scores = [1 - normal_logit_test_score, 1 - cheat_logit_test_score]\n",
    "\n",
    "train_sp.bar(train_labels, train_scores)\n",
    "test_sp.bar(test_labels, test_scores)\n",
    "\n",
    "test_sp.grid(True)\n",
    "train_sp.grid(True)\n",
    "train_sp.set_xticklabels(train_labels, rotation=45)\n",
    "test_sp.set_xticklabels(test_labels, rotation=45)"
   ]
  },
  {
   "cell_type": "markdown",
   "metadata": {},
   "source": [
    "### LinearSVC con PCA bien hecho"
   ]
  },
  {
   "cell_type": "markdown",
   "metadata": {},
   "source": [
    "![DT with PCA](img/linearsvc_pca.png)"
   ]
  },
  {
   "cell_type": "markdown",
   "metadata": {},
   "source": [
    "### LinearSVC con PCA haciendo trampas"
   ]
  },
  {
   "cell_type": "code",
   "execution_count": 10,
   "metadata": {},
   "outputs": [
    {
     "data": {
      "text/plain": [
       "[Text(0, 0, 'linear_svc normal pca'), Text(0, 0, 'linear_svc cheat pca')]"
      ]
     },
     "execution_count": 10,
     "metadata": {},
     "output_type": "execute_result"
    },
    {
     "data": {
      "image/png": "[encoded data removed]",
      "text/plain": [
       "<Figure size 921.6x345.6 with 2 Axes>"
      ]
     },
     "metadata": {
      "needs_background": "light"
     },
     "output_type": "display_data"
    }
   ],
   "source": [
    "linear_svc = LinearSVC(**linear_svc_best_params)\n",
    "\n",
    "linear_svc.fit(data_train_trans_normal, target_train)\n",
    "normal_svc_train_score = linear_svc.score(data_train_trans_normal, target_train)\n",
    "normal_svc_test_score = linear_svc.score(data_test_trans_normal, target_test)\n",
    "\n",
    "linear_svc.fit(data_train_trans_cheat, target_train)\n",
    "cheat_svc_train_score = linear_svc.score(data_train_trans_cheat, target_train)\n",
    "cheat_svc_test_score = linear_svc.score(data_test_trans_cheat, target_test)\n",
    "\n",
    "fig = plt.figure(figsize=(12.8, 4.8))\n",
    "test_sp = fig.add_subplot(121)\n",
    "train_sp = fig.add_subplot(122, sharey=test_sp)\n",
    "\n",
    "test_sp.set_title(\"Test error\")\n",
    "train_sp.set_title(\"Train error\")\n",
    "\n",
    "train_labels = ['linear_svc normal pca', 'linear_svc cheat pca']\n",
    "test_labels = ['linear_svc normal pca', 'linear_svc cheat pca']\n",
    "\n",
    "train_scores = [1 - normal_svc_train_score, 1 - cheat_svc_train_score]\n",
    "test_scores = [1 - normal_svc_test_score, 1 - cheat_svc_test_score]\n",
    "\n",
    "train_sp.bar(train_labels, train_scores)\n",
    "test_sp.bar(test_labels, test_scores)\n",
    "\n",
    "test_sp.grid(True)\n",
    "train_sp.grid(True)\n",
    "train_sp.set_xticklabels(train_labels, rotation=45)\n",
    "test_sp.set_xticklabels(test_labels, rotation=45)"
   ]
  },
  {
   "cell_type": "markdown",
   "metadata": {},
   "source": [
    "No ha cambiado nada al hacer la trampa con el PCA"
   ]
  }
 ],
 "metadata": {
  "kernelspec": {
   "display_name": "Python 3",
   "language": "python",
   "name": "python3"
  },
  "language_info": {
   "codemirror_mode": {
    "name": "ipython",
    "version": 3
   },
   "file_extension": ".py",
   "mimetype": "text/x-python",
   "name": "python",
   "nbconvert_exporter": "python",
   "pygments_lexer": "ipython3",
   "version": "3.7.1"
  }
 },
 "nbformat": 4,
 "nbformat_minor": 2
}
