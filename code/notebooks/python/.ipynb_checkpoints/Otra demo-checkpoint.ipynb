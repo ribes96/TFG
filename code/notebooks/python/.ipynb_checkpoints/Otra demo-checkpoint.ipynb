{
 "cells": [
  {
   "cell_type": "code",
   "execution_count": 1,
   "metadata": {},
   "outputs": [],
   "source": [
    "from sklearn.kernel_approximation import Nystroem\n",
    "from sklearn.kernel_approximation import RBFSampler\n",
    "from sklearn.tree import DecisionTreeClassifier\n",
    "from sklearn.svm import LinearSVC\n",
    "from sklearn.linear_model import LogisticRegression\n",
    "\n",
    "from sklearn.ensemble import BaggingClassifier\n",
    "\n",
    "from sklearn.pipeline import Pipeline\n",
    "\n",
    "import ipywidgets as widgets\n",
    "from ipywidgets import Layout\n",
    "import matplotlib.pyplot as plt\n",
    "import pandas as pd"
   ]
  },
  {
   "cell_type": "code",
   "execution_count": 2,
   "metadata": {},
   "outputs": [],
   "source": [
    "def get_model(model,\n",
    "              sampler = None,\n",
    "              pca = False,\n",
    "              ensemble = None,\n",
    "              box_type = None):\n",
    "    '''\n",
    "    Parameters\n",
    "    ----------\n",
    "    model: string, 'dt', 'linear_svc' or 'logit'\n",
    "    sampler: string, 'rbf' or 'nystroem', or  None\n",
    "    pca: bool\n",
    "    ensemble: integer or None\n",
    "    box_type: string, 'black', 'grey' or None (ignored if ensemble = None)\n",
    "    \n",
    "    Returns\n",
    "    -------\n",
    "    clf: a model with the parameters specified\n",
    "    '''\n",
    "    if model not in ['dt', 'linear_svc', 'logit']:\n",
    "        raise ValueError('model {0} is not supported'.format(model))\n",
    "    if sampler not in ['rbf', 'nystroem', None]:\n",
    "        raise ValueError('sampler {0} is not supported'.format(sampler))\n",
    "    if type(pca) != bool:\n",
    "        raise ValueError('pca is a boolean')\n",
    "    if type(ensemble) not in [int, type(None)]:\n",
    "        raise ValueError('Wrong value for ensemble')\n",
    "    if isinstance(ensemble,int) and ensemble < 1:\n",
    "        raise ValueError('Number of estimators must be greater than 0')\n",
    "    if box_type not in ['black', 'grey', None]:\n",
    "        raise ValueError(\"box_type must be 'black', 'grey' or None\")\n",
    "    if box_type is not None and ensemble is None:\n",
    "        raise ValueError(\"box_type doesn't match with ensemble\")\n",
    "    \n",
    "    #s = RBFSampler() if sampler == 'rbf' else  \n",
    "    #   Nystroem() if sampler == 'nystroem' else FunctionTransformer(None, validate = False)\n",
    "    #p = PCA() if pca else FunctionTransformer(None, validate = False)\n",
    "    #m = DecisionTreeClassifier() if model == 'dt' \n",
    "    #      else LinearSVC() if model == 'linear_svc' else LogisticRegression()\n",
    "    \n",
    "    \n",
    "    if sampler == 'rbf':\n",
    "        s = RBFSampler(gamma = 0.2)\n",
    "    elif sampler == 'nystroem':\n",
    "        s = Nystroem(gamma = 0.2)\n",
    "    elif sampler is None:\n",
    "        s = FunctionTransformer(None, validate = False)\n",
    "        \n",
    "    \n",
    "    \n",
    "    if pca:\n",
    "        p = PCA(n_components = 0.9, svd_solver = \"full\")\n",
    "    else:\n",
    "        p = FunctionTransformer(None, validate = False)\n",
    "    \n",
    "    if model == 'dt':\n",
    "        m = DecisionTreeClassifier()\n",
    "    elif model == 'linear_svc':\n",
    "        m = LinearSVC(C = 1)\n",
    "    elif model == 'logit':\n",
    "        m = LogisticRegression(C = 1, multi_class = 'multinomial', solver = 'lbfgs')\n",
    "    \n",
    "    \n",
    "    if not ensemble:\n",
    "        clf = Pipeline([\n",
    "            ('sampler', s),\n",
    "            ('pca', p),\n",
    "            ('model', m),\n",
    "        ])\n",
    "    elif box_type == 'black':\n",
    "        bag = BaggingClassifier(base_estimator = m, n_estimators = ensemble)\n",
    "        clf = Pipeline([\n",
    "            ('sampler', s),\n",
    "            ('pca', p),\n",
    "            ('model', bag),\n",
    "        ])\n",
    "    elif box_type == 'grey':\n",
    "        pipe = Pipeline([\n",
    "            ('sampler', s),\n",
    "            ('pca', p),\n",
    "            ('model', m),\n",
    "        ])\n",
    "        clf = BaggingClassifier(base_estimator = pipe, n_estimators = ensemble)\n",
    "    \n",
    "    return clf"
   ]
  },
  {
   "cell_type": "code",
   "execution_count": 3,
   "metadata": {},
   "outputs": [],
   "source": [
    "def get_label(model, sampler, pca, box_type, train_test):\n",
    "    '''Returns a string with the correct label\n",
    "    Parameters\n",
    "    ----------\n",
    "    model: string, model name\n",
    "    sampler: string, 'rbf' or 'nystroem', or  None\n",
    "    pca: bool\n",
    "    box_type: string, 'black', 'grey' or None\n",
    "    train_test: string, 'train' or 'test'\n",
    "    '''\n",
    "    if sampler is not None and sampler not in ['rbf', 'nystroem']:\n",
    "        raise ValueError(\"sampler must be 'rbf', 'nystroem' or None\")\n",
    "    if train_test not in ['train', 'test']:\n",
    "        raise ValueError(\"train_test must be 'train' or 'test'\")\n",
    "    m = model + \"_\"\n",
    "    s = \"\" if sampler is None else sampler + \"_\"\n",
    "    p = \"\" if not pca else \"pca_\"\n",
    "    b = \"\" if box_type is None else box_type + \"_\"\n",
    "    t =  train_test + \" score\"\n",
    "    \n",
    "    r = m + s + p + b + t\n",
    "    return r"
   ]
  },
  {
   "cell_type": "code",
   "execution_count": 4,
   "metadata": {},
   "outputs": [],
   "source": [
    "def get_model_scores(model,\n",
    "              dataset,\n",
    "              features = None,\n",
    "              sampler = None,\n",
    "              pca = False,\n",
    "              ensemble = None,\n",
    "              box_type = None):\n",
    "    '''\n",
    "    Parameters\n",
    "    ----------\n",
    "    model: string, 'dt', 'rf, 'linear_svc' or 'logit'\n",
    "    dataset: dictionary with keys 'data_train', 'data_test', 'target_train', 'target_test'\n",
    "    features: array with features to test or None\n",
    "    sampler: string, 'rbf' or 'nystroem', or  None\n",
    "    pca: bool\n",
    "    ensemble: integer or None\n",
    "    box_type: string, 'black', 'grey' or None (ignored if ensemble = None)\n",
    "    \n",
    "    Returns\n",
    "    -------\n",
    "    A tuple of two dictionarys, (train_dic,test_dic), each one with\n",
    "    keys 'abs', 'ord', 'label'\n",
    "    '''\n",
    "    if not isinstance(features, (list, type(None))):\n",
    "        raise ValueError('features must be an ordered list of integers or None')\n",
    "        \n",
    "    if features is None and sampler is not None:\n",
    "        raise ValueError('features is needed with sampler')\n",
    "    \n",
    "    data_train = dataset['data_train']\n",
    "    data_test = dataset['data_test']\n",
    "    target_train = dataset['target_train']\n",
    "    target_test = dataset['target_test']\n",
    "    \n",
    "    clf = get_model(model, sampler, pca, ensemble, box_type)\n",
    "    if features is None:\n",
    "        clf.fit(data_train, target_train)\n",
    "        train_score = clf.score(data_train, target_train)\n",
    "        test_score = clf.score(data_test, target_test)\n",
    "        train_dic = {\n",
    "            'absi': list(features_selector.value), #los dos valores\n",
    "            'ord': [train_score, train_score],\n",
    "            'label': get_label(model, sampler, pca, box_type, 'train')\n",
    "        }\n",
    "        test_dic = {\n",
    "            'absi': list(features_selector.value),\n",
    "            'ord': [test_score, test_score],\n",
    "            'label': get_label(model, sampler, pca, box_type, 'test')\n",
    "        }\n",
    "    else:\n",
    "        train_scores = []\n",
    "        test_scores = []\n",
    "        for f in features:\n",
    "            clf.set_params(sampler__n_components = f)\n",
    "            clf.fit(data_train, target_train)\n",
    "            train_score = clf.score(data_train, target_train)\n",
    "            test_score = clf.score(data_test, target_test)\n",
    "            \n",
    "            train_scores.append(train_score)\n",
    "            test_scores.append(test_score)\n",
    "            \n",
    "        train_dic = {\n",
    "            'absi': features,\n",
    "            'ord': train_scores,\n",
    "            'label': get_label(model, sampler, pca, box_type, 'train')\n",
    "        }\n",
    "        test_dic = {\n",
    "            'absi': features,\n",
    "            'ord': test_scores,\n",
    "            'label': get_label(model, sampler, pca, box_type, 'test')\n",
    "        }\n",
    "    return train_dic, test_dic"
   ]
  },
  {
   "cell_type": "code",
   "execution_count": 5,
   "metadata": {},
   "outputs": [],
   "source": [
    "# real currentwork\n",
    "def get_data(dataset_name, prop_train = 2/3, n_ins = None):\n",
    "    '''\n",
    "    Returns a dictionary with keys ['data_train', 'data_test', 'target_train', 'target_test'],\n",
    "    with the data according to dataset name\n",
    "    \n",
    "    Parameters\n",
    "    ----------\n",
    "    dataset_name: str, name of the dataset. Possible values:\n",
    "        [\n",
    "        \"covertype\",\n",
    "        \"digits\",\n",
    "        \"fall_detection\",\n",
    "        \"mnist\",\n",
    "        \"pen_digits\",\n",
    "        \"satellite\",\n",
    "        \"segment\",\n",
    "        \"vowel\",\n",
    "        ]\n",
    "    prop_train: float, the proportion of instances in the train dataset, default: 2/3\n",
    "    n_ins: get a subset of n_ins instances, if total number is smaller, is ignored\n",
    "    Return\n",
    "    ------\n",
    "    A dictionary with the keys\n",
    "    '''\n",
    "    options = [\n",
    "        \"covertype\",\n",
    "        \"digits\",\n",
    "        \"fall_detection\",\n",
    "        \"mnist\",\n",
    "        \"pen_digits\",\n",
    "        \"satellite\",\n",
    "        \"segment\",\n",
    "        \"vowel\",\n",
    "        ]\n",
    "    if dataset_name not in options:\n",
    "        raise ValueError(\"{} dataset is not available\".format(dataset_name))\n",
    "    if not 0 < prop_train < 1:\n",
    "        raise ValueError(\"prop_train must be 0 < prop_train < 1\")\n",
    "    if not isinstance(n_ins, (type(None),int)):\n",
    "        raise ValueError(\"Bad type for n_ins\")\n",
    "    if isinstance(n_ins, int) and n_ins <= 0:\n",
    "        raise ValueError(\"n_ins must be positive\")\n",
    "        \n",
    "        \n",
    "    dir_path = '../../datasets/'\n",
    "    file_path = '{0}{1}/{1}.csv'.format(dir_path, dataset_name)\n",
    "    \n",
    "    df = pd.read_csv(file_path)\n",
    "    \n",
    "    N = df.shape[0]\n",
    "    if n_ins is not None:\n",
    "        N = min(N, n_ins)\n",
    "    N_train = np.ceil(N * prop_train).astype(np.int64)\n",
    "    N_test = N - N_train\n",
    "    \n",
    "    data = df.drop(labels = 'target', axis = 1)\n",
    "    target = df.target\n",
    "    \n",
    "    data_train = data.iloc[:N_train]\n",
    "    data_test = data.iloc[N_train:N]\n",
    "\n",
    "    target_train = target[:N_train]\n",
    "    target_test = target[N_train:N]\n",
    "    \n",
    "    ret_dic = {\n",
    "        'data_train': data_train,\n",
    "        'data_test': data_test,\n",
    "        'target_train': target_train,\n",
    "        'target_test': target_test,\n",
    "    }\n",
    "    \n",
    "    return ret_dic\n",
    "    "
   ]
  },
  {
   "cell_type": "code",
   "execution_count": 6,
   "metadata": {},
   "outputs": [],
   "source": [
    "def get_params_from_models_bar(mod_bar):\n",
    "    '''\n",
    "    Returns a dictionary with the needed keys to pass to get_model_scores\n",
    "    \n",
    "    Parameters\n",
    "    ----------\n",
    "    mod_bar: a HBox with the widgets\n",
    "    \n",
    "    Return\n",
    "    ------\n",
    "    A dictionary with keys [model, dataset, features, sampler, pca, ensemble, box_type] \n",
    "    '''\n",
    "    # Todo Ahora mismo es funcional, pero es feo y poco seguro. Habrá que retocarlo\n",
    "    '''\n",
    "        hb = widgets.HBox([\n",
    "        model_selector,\n",
    "        sampler_selector,\n",
    "        box_type_selector,\n",
    "        n_estimators_selector,\n",
    "        pca_checkbox,\n",
    "    ])\n",
    "    '''\n",
    "    dataset_name = dataset_selector.value\n",
    "    di = get_data(dataset_name, n_ins = size_selector.value)\n",
    "    d = {\n",
    "        'model': mod_bar.children[0].value,\n",
    "        'dataset': di,\n",
    "        'features':  None if mod_bar.children[1].value == \"None\" else np.linspace(*(features_selector.value), dtype = np.int64).tolist() if np.ediff1d(features_selector.value)[0] > 50 else np.arange(*(features_selector.value)).tolist(),\n",
    "        #todo Si el rango en features selector es de menos de 50, tendremos problemas\n",
    "        'sampler': mod_bar.children[1].value if mod_bar.children[1].value != \"None\" else None,\n",
    "        'pca': mod_bar.children[4].value,\n",
    "        'ensemble': None if mod_bar.children[1].value == \"None\" else mod_bar.children[3].value,\n",
    "        'box_type': None if mod_bar.children[1].value == \"None\" else mod_bar.children[2].value if mod_bar.children[2].value != \"None\" else mod_bar.children[2].value,\n",
    "    }\n",
    "    return d"
   ]
  },
  {
   "cell_type": "code",
   "execution_count": 7,
   "metadata": {},
   "outputs": [],
   "source": [
    "def get_all_model_scores():\n",
    "    '''\n",
    "    Return two lists, one for all the train_dicts, and the other for all the test_dicts,\n",
    "    based on the models bars in the GUI\n",
    "    \n",
    "    Returns\n",
    "    -------\n",
    "    A tuple with (test_dicts, train_dicts), where each one is a list with dictionarys\n",
    "    '''\n",
    "    train_dics = []\n",
    "    test_dics = []\n",
    "    for c in models_bar.children:\n",
    "        # c es un HBox\n",
    "        train_dic, test_dic =  get_model_scores(**get_params_from_models_bar(c))\n",
    "        train_dics.append(train_dic)\n",
    "        test_dics.append(test_dic)\n",
    "    \n",
    "    fig = plt.figure(figsize = (12.8,4.8))\n",
    "    test_sp = fig.add_subplot(121)\n",
    "    train_sp = fig.add_subplot(122, sharey = test_sp)\n",
    "    \n",
    "    \n",
    "    test_sp.set_title(\"Test scores\")\n",
    "    train_sp.set_title(\"Train scores\")\n",
    "    # Todo add the correct title\n",
    "    fig.suptitle(\"{}, {} instances\".format(dataset_selector.value, size_selector.value))\n",
    "    #fig.suptitle(\"Esto es un subtítulo\")\n",
    "    for te, tr in zip(test_dics, train_dics):\n",
    "        test_sp.plot(te['absi'], te['ord'], label = te['label'])\n",
    "        train_sp.plot(tr['absi'], tr['ord'], label = tr['label'])\n",
    "    test_sp.legend()\n",
    "    train_sp.legend()\n",
    "    plt.close()\n",
    "    return fig"
   ]
  },
  {
   "cell_type": "code",
   "execution_count": 8,
   "metadata": {},
   "outputs": [
    {
     "data": {
      "text/plain": [
       "'\\nfrom sklearn.preprocessing import FunctionTransformer\\nimport numpy as np\\nfrom sklearn.decomposition import PCA\\n'"
      ]
     },
     "execution_count": 8,
     "metadata": {},
     "output_type": "execute_result"
    }
   ],
   "source": [
    "'''\n",
    "from sklearn.preprocessing import FunctionTransformer\n",
    "import numpy as np\n",
    "from sklearn.decomposition import PCA\n",
    "'''"
   ]
  },
  {
   "cell_type": "code",
   "execution_count": 9,
   "metadata": {},
   "outputs": [],
   "source": [
    "# def get_new_model_bar():\n",
    "#     '''\n",
    "#     Returns\n",
    "#     -------\n",
    "#     Returns a new HBox with the widgets to define a new training model\n",
    "#     '''\n",
    "#     model_selector = widgets.Dropdown(\n",
    "#         options=['dt', 'logit', 'linear_svc'],\n",
    "#         value='dt',\n",
    "#         layout = Layout(flex = '0 3 auto'),\n",
    "#         #description=':',\n",
    "#     )\n",
    "# \n",
    "#     sampler_selector = widgets.Dropdown(\n",
    "#         options=['None', 'rbf', 'nystroem'],\n",
    "#         value='rbf',\n",
    "#         layout = Layout(flex = '1 3 auto'),\n",
    "#         #description=':',\n",
    "#     )\n",
    "#     box_type_selector = widgets.Dropdown(\n",
    "#         options=['None', 'black', 'grey'],\n",
    "#         value='black',\n",
    "#         layout = Layout(flex = '1 3 auto'),\n",
    "#         #description=':',\n",
    "#     )\n",
    "#     '''\n",
    "#     features_selector = widgets.IntRangeSlider(\n",
    "#         value=[30, 100],\n",
    "#         min=30,\n",
    "#         max=400,\n",
    "#         step=10,\n",
    "#         layout = Layout(flex = '0 1 auto'),\n",
    "#         #description=':',\n",
    "#     )\n",
    "#     '''\n",
    "#     n_estimators_selector = widgets.IntSlider(\n",
    "#         value=30,\n",
    "#         min=2,\n",
    "#         max=200,\n",
    "#         step=1,\n",
    "#         layout = Layout(flex = '1 1 auto'),\n",
    "#         #description=':',\n",
    "#     )\n",
    "#     pca_checkbox = widgets.Checkbox(\n",
    "#         value=False,\n",
    "#         layout = Layout(flex = '0 3 auto'),\n",
    "#         #description='',\n",
    "#     )\n",
    "#     hb = widgets.HBox([\n",
    "#         model_selector,\n",
    "#         sampler_selector,\n",
    "#         box_type_selector,\n",
    "#         #features_selector,\n",
    "#         n_estimators_selector,\n",
    "#         pca_checkbox,\n",
    "#     ])\n",
    "#     return hb"
   ]
  },
  {
   "cell_type": "code",
   "execution_count": 10,
   "metadata": {},
   "outputs": [],
   "source": [
    "# def add_model_bar(m):\n",
    "#     '''\n",
    "#     Append a new model bar to m, which has the same values as the last\n",
    "#     model bar in m\n",
    "#     Parameters\n",
    "#     ----------\n",
    "#     m: Is a VBox containing 1 or more HBox describing the new model\n",
    "#     '''\n",
    "#     if len(m.children) < 1:\n",
    "#         raise ValueError('At least one model bar is needed')\n",
    "#     copy_bar = m.children[-1]\n",
    "# \n",
    "#     new_model_bar = get_new_model_bar()\n",
    "# \n",
    "#     for i,c in enumerate(copy_bar.children):\n",
    "#         new_model_bar.children[i].value = c.value\n",
    "# \n",
    "#     m.children = tuple(list(m.children) + [new_model_bar])"
   ]
  },
  {
   "cell_type": "code",
   "execution_count": 11,
   "metadata": {},
   "outputs": [],
   "source": [
    "# def remove_model_bar(m):\n",
    "#     '''\n",
    "#     Remove the las model bar of m, if there are at least 2\n",
    "#     Parameters\n",
    "#     ----------\n",
    "#     m: Is a VBox containing 2 or more HBox describing models\n",
    "#     '''\n",
    "#     if len(m.children) < 2:\n",
    "#         raise ValueError('minimum number of model bars reached')\n",
    "#     m.children = tuple(list(m.children)[:-1])"
   ]
  },
  {
   "cell_type": "code",
   "execution_count": 12,
   "metadata": {},
   "outputs": [
    {
     "data": {
      "text/plain": [
       "'headers = widgets.HBox([\\n    widgets.Label(\"Model\"),\\n    widgets.Label(\"Sampling\"),\\n    widgets.Label(\"Box Type\"),\\n    widgets.Label(\"Number estimators\"),\\n    widgets.Label(\"PCA\"),\\n], layout = widgets.Layout(justify_content = \\'space-between\\'))'"
      ]
     },
     "execution_count": 12,
     "metadata": {},
     "output_type": "execute_result"
    }
   ],
   "source": [
    "'''headers = widgets.HBox([\n",
    "    widgets.Label(\"Model\"),\n",
    "    widgets.Label(\"Sampling\"),\n",
    "    widgets.Label(\"Box Type\"),\n",
    "    widgets.Label(\"Number estimators\"),\n",
    "    widgets.Label(\"PCA\"),\n",
    "], layout = widgets.Layout(justify_content = 'space-between'))'''"
   ]
  },
  {
   "cell_type": "code",
   "execution_count": 13,
   "metadata": {},
   "outputs": [
    {
     "data": {
      "text/plain": [
       "\"features_selector = widgets.IntRangeSlider(\\n    value=[30, 100],\\n    min=30,\\n    max=400,\\n    step=10,\\n    layout = Layout(flex = '0 1 auto'),\\n    #description=':',\\n)\""
      ]
     },
     "execution_count": 13,
     "metadata": {},
     "output_type": "execute_result"
    }
   ],
   "source": [
    "'''features_selector = widgets.IntRangeSlider(\n",
    "    value=[30, 100],\n",
    "    min=30,\n",
    "    max=400,\n",
    "    step=10,\n",
    "    layout = Layout(flex = '0 1 auto'),\n",
    "    #description=':',\n",
    ")'''"
   ]
  },
  {
   "cell_type": "code",
   "execution_count": 14,
   "metadata": {},
   "outputs": [
    {
     "data": {
      "text/plain": [
       "'models_bar = widgets.VBox([get_new_model_bar()])'"
      ]
     },
     "execution_count": 14,
     "metadata": {},
     "output_type": "execute_result"
    }
   ],
   "source": [
    "'''models_bar = widgets.VBox([get_new_model_bar()])'''"
   ]
  },
  {
   "cell_type": "code",
   "execution_count": 15,
   "metadata": {},
   "outputs": [
    {
     "data": {
      "text/plain": [
       "'cool_models_bar = widgets.VBox([headers, models_bar])'"
      ]
     },
     "execution_count": 15,
     "metadata": {},
     "output_type": "execute_result"
    }
   ],
   "source": [
    "'''cool_models_bar = widgets.VBox([headers, models_bar])'''"
   ]
  },
  {
   "cell_type": "code",
   "execution_count": 16,
   "metadata": {},
   "outputs": [
    {
     "data": {
      "text/plain": [
       "\"def add_model_bar_wraper(e):\\n    add_model_bar(models_bar)\\n\\nadd_model_bar_bt = widgets.Button(\\n    description='Add model',\\n    button_style='success', # 'success', 'info', 'warning', 'danger' or ''\\n    tooltip='Add a new moder bar to train',\\n    #icon='check'\\n)\\nadd_model_bar_bt.on_click(add_model_bar_wraper)\""
      ]
     },
     "execution_count": 16,
     "metadata": {},
     "output_type": "execute_result"
    }
   ],
   "source": [
    "'''def add_model_bar_wraper(e):\n",
    "    add_model_bar(models_bar)\n",
    "\n",
    "add_model_bar_bt = widgets.Button(\n",
    "    description='Add model',\n",
    "    button_style='success', # 'success', 'info', 'warning', 'danger' or ''\n",
    "    tooltip='Add a new moder bar to train',\n",
    "    #icon='check'\n",
    ")\n",
    "add_model_bar_bt.on_click(add_model_bar_wraper)'''"
   ]
  },
  {
   "cell_type": "code",
   "execution_count": 17,
   "metadata": {},
   "outputs": [
    {
     "data": {
      "text/plain": [
       "\"def remove_model_bar_wraper(e):\\n    if len(models_bar.children) > 1:\\n        remove_model_bar(models_bar)\\n\\nremove_model_bar_bt = widgets.Button(\\n    description='Remove model',\\n    button_style='warning', # 'success', 'info', 'warning', 'danger' or ''\\n    tooltip='Remove the las model bar, if possible',\\n    #icon='check'\\n)\\nremove_model_bar_bt.on_click(remove_model_bar_wraper)\""
      ]
     },
     "execution_count": 17,
     "metadata": {},
     "output_type": "execute_result"
    }
   ],
   "source": [
    "'''def remove_model_bar_wraper(e):\n",
    "    if len(models_bar.children) > 1:\n",
    "        remove_model_bar(models_bar)\n",
    "\n",
    "remove_model_bar_bt = widgets.Button(\n",
    "    description='Remove model',\n",
    "    button_style='warning', # 'success', 'info', 'warning', 'danger' or ''\n",
    "    tooltip='Remove the las model bar, if possible',\n",
    "    #icon='check'\n",
    ")\n",
    "remove_model_bar_bt.on_click(remove_model_bar_wraper)'''"
   ]
  },
  {
   "cell_type": "code",
   "execution_count": 18,
   "metadata": {},
   "outputs": [],
   "source": [
    "def calculate_bt_wrapper(e):\n",
    "    l1 = get_all_model_scores()\n",
    "    if clear_output_button.value:\n",
    "        graphs_output.clear_output(wait = True)\n",
    "    with graphs_output:\n",
    "        display(l1)"
   ]
  },
  {
   "cell_type": "code",
   "execution_count": 19,
   "metadata": {},
   "outputs": [
    {
     "data": {
      "text/plain": [
       "\"calculate_bt = widgets.Button(\\n    description='Calculate',\\n    button_style='success', # 'success', 'info', 'warning', 'danger' or ''\\n    tooltip='Calculate the models',\\n    #icon='check'\\n)\\ncalculate_bt.on_click(calculate_bt_wrapper)\""
      ]
     },
     "execution_count": 19,
     "metadata": {},
     "output_type": "execute_result"
    }
   ],
   "source": [
    "'''calculate_bt = widgets.Button(\n",
    "    description='Calculate',\n",
    "    button_style='success', # 'success', 'info', 'warning', 'danger' or ''\n",
    "    tooltip='Calculate the models',\n",
    "    #icon='check'\n",
    ")\n",
    "calculate_bt.on_click(calculate_bt_wrapper)'''"
   ]
  },
  {
   "cell_type": "code",
   "execution_count": 20,
   "metadata": {},
   "outputs": [],
   "source": [
    "clear_output_button = widgets.ToggleButton(\n",
    "    value=True,\n",
    "    description='Clear Previous',\n",
    "    button_style='', # 'success', 'info', 'warning', 'danger' or ''\n",
    "    tooltip='Clear Previous Output',\n",
    "    icon='check'\n",
    ")"
   ]
  },
  {
   "cell_type": "code",
   "execution_count": 21,
   "metadata": {},
   "outputs": [
    {
     "data": {
      "text/plain": [
       "'\\nsize_selector = widgets.RadioButtons(\\n    options=[1000,2000,5000,10000],\\n    value=2000,\\n    #description=\\'Pizza topping:\\',\\n    disabled=False,\\n    #orientation = \\'vertical\\'\\n)\\n\\ncool_size_selector = widgets.VBox([widgets.Label(\"Size of the dataset\"), size_selector])\\n'"
      ]
     },
     "execution_count": 21,
     "metadata": {},
     "output_type": "execute_result"
    }
   ],
   "source": [
    "'''\n",
    "size_selector = widgets.RadioButtons(\n",
    "    options=[1000,2000,5000,10000],\n",
    "    value=2000,\n",
    "    #description='Pizza topping:',\n",
    "    disabled=False,\n",
    "    #orientation = 'vertical'\n",
    ")\n",
    "\n",
    "cool_size_selector = widgets.VBox([widgets.Label(\"Size of the dataset\"), size_selector])\n",
    "'''"
   ]
  },
  {
   "cell_type": "code",
   "execution_count": 22,
   "metadata": {},
   "outputs": [
    {
     "data": {
      "text/plain": [
       "'\\ndataset_selector = widgets.Dropdown(\\n    options = [\\n        \"covertype\",\\n        \"digits\",\\n        \"fall_detection\",\\n        \"mnist\",\\n        \"pen_digits\",\\n        \"satellite\",\\n        \"segment\",\\n        \"vowel\",\\n        ],\\n    value = \\'digits\\',\\n    descripttion = \\'Dataset:\\'\\n)\\n'"
      ]
     },
     "execution_count": 22,
     "metadata": {},
     "output_type": "execute_result"
    }
   ],
   "source": [
    "'''\n",
    "dataset_selector = widgets.Dropdown(\n",
    "    options = [\n",
    "        \"covertype\",\n",
    "        \"digits\",\n",
    "        \"fall_detection\",\n",
    "        \"mnist\",\n",
    "        \"pen_digits\",\n",
    "        \"satellite\",\n",
    "        \"segment\",\n",
    "        \"vowel\",\n",
    "        ],\n",
    "    value = 'digits',\n",
    "    descripttion = 'Dataset:'\n",
    ")\n",
    "'''"
   ]
  },
  {
   "cell_type": "code",
   "execution_count": 23,
   "metadata": {},
   "outputs": [
    {
     "data": {
      "text/plain": [
       "'gui = widgets.VBox([\\n    dataset_selector,\\n    cool_size_selector,\\n    widgets.HBox([add_model_bar_bt, remove_model_bar_bt]),\\n    features_selector,\\n    cool_models_bar,\\n    calculate_bt,\\n    clear_output_button,\\n])'"
      ]
     },
     "execution_count": 23,
     "metadata": {},
     "output_type": "execute_result"
    }
   ],
   "source": [
    "'''gui = widgets.VBox([\n",
    "    dataset_selector,\n",
    "    cool_size_selector,\n",
    "    widgets.HBox([add_model_bar_bt, remove_model_bar_bt]),\n",
    "    features_selector,\n",
    "    cool_models_bar,\n",
    "    calculate_bt,\n",
    "    clear_output_button,\n",
    "])'''"
   ]
  },
  {
   "cell_type": "code",
   "execution_count": 24,
   "metadata": {},
   "outputs": [],
   "source": [
    "graphs_output = widgets.Output(layout={'border': '1px solid black'})"
   ]
  },
  {
   "cell_type": "code",
   "execution_count": 25,
   "metadata": {},
   "outputs": [],
   "source": [
    "#display(gui)\n",
    "#display(graphs_output)"
   ]
  },
  {
   "cell_type": "code",
   "execution_count": null,
   "metadata": {},
   "outputs": [],
   "source": []
  },
  {
   "cell_type": "code",
   "execution_count": null,
   "metadata": {},
   "outputs": [],
   "source": []
  },
  {
   "cell_type": "code",
   "execution_count": null,
   "metadata": {},
   "outputs": [],
   "source": []
  },
  {
   "cell_type": "code",
   "execution_count": null,
   "metadata": {},
   "outputs": [],
   "source": []
  },
  {
   "cell_type": "code",
   "execution_count": null,
   "metadata": {},
   "outputs": [],
   "source": []
  },
  {
   "cell_type": "code",
   "execution_count": 26,
   "metadata": {},
   "outputs": [],
   "source": [
    "from demo_utils.user_interface import get_gui"
   ]
  },
  {
   "cell_type": "code",
   "execution_count": 27,
   "metadata": {},
   "outputs": [],
   "source": [
    "a = get_gui()"
   ]
  },
  {
   "cell_type": "code",
   "execution_count": 28,
   "metadata": {},
   "outputs": [
    {
     "data": {
      "application/vnd.jupyter.widget-view+json": {
       "model_id": "08183c7520e04b6d96ad193f0d787bfa",
       "version_major": 2,
       "version_minor": 0
      },
      "text/plain": [
       "VBox(children=(Dropdown(index=1, options=('covertype', 'digits', 'fall_detection', 'mnist', 'pen_digits', 'sat…"
      ]
     },
     "metadata": {},
     "output_type": "display_data"
    }
   ],
   "source": [
    "a"
   ]
  },
  {
   "cell_type": "code",
   "execution_count": null,
   "metadata": {},
   "outputs": [],
   "source": []
  }
 ],
 "metadata": {
  "kernelspec": {
   "display_name": "Python 3",
   "language": "python",
   "name": "python3"
  },
  "language_info": {
   "codemirror_mode": {
    "name": "ipython",
    "version": 3
   },
   "file_extension": ".py",
   "mimetype": "text/x-python",
   "name": "python",
   "nbconvert_exporter": "python",
   "pygments_lexer": "ipython3",
   "version": "3.6.6"
  }
 },
 "nbformat": 4,
 "nbformat_minor": 2
}
