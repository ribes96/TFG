{
 "cells": [
  {
   "cell_type": "markdown",
   "metadata": {},
   "source": [
    "# Probar el mismo modelo pero con los distintos datasets"
   ]
  },
  {
   "cell_type": "code",
   "execution_count": 1,
   "metadata": {},
   "outputs": [],
   "source": [
    "%matplotlib inline"
   ]
  },
  {
   "cell_type": "code",
   "execution_count": 2,
   "metadata": {},
   "outputs": [
    {
     "data": {
      "application/javascript": [
       "IPython.OutputArea.prototype._should_scroll = function(lines) {\n",
       "    return false;\n",
       "}\n"
      ],
      "text/plain": [
       "<IPython.core.display.Javascript object>"
      ]
     },
     "metadata": {},
     "output_type": "display_data"
    }
   ],
   "source": [
    "%%javascript\n",
    "IPython.OutputArea.prototype._should_scroll = function(lines) {\n",
    "    return false;\n",
    "}"
   ]
  },
  {
   "cell_type": "code",
   "execution_count": 3,
   "metadata": {},
   "outputs": [],
   "source": [
    "from demo_utils.demo2 import Demo2"
   ]
  },
  {
   "cell_type": "code",
   "execution_count": 4,
   "metadata": {},
   "outputs": [],
   "source": [
    "d = Demo2()"
   ]
  },
  {
   "cell_type": "code",
   "execution_count": 5,
   "metadata": {},
   "outputs": [
    {
     "data": {
      "text/markdown": [
       "# Mismo modelo, distintos datasets\n",
       "    Prueba un modelo determinado con todos los datasets disponibles.\n",
       "    Permite ver si un modelo presenta comportamientos distintos dependiendo\n",
       "    del tipo de problema al que se enfrenta\n",
       "    "
      ],
      "text/plain": [
       "<IPython.core.display.Markdown object>"
      ]
     },
     "metadata": {},
     "output_type": "display_data"
    },
    {
     "data": {
      "application/vnd.jupyter.widget-view+json": {
       "model_id": "9c4a5ed91dec410889f1d4423d7e9e26",
       "version_major": 2,
       "version_minor": 0
      },
      "text/plain": [
       "VBox(children=(VBox(children=(Dropdown(description='Model', options=('dt', 'logit', 'linear_svc'), value='dt')…"
      ]
     },
     "metadata": {},
     "output_type": "display_data"
    },
    {
     "data": {
      "application/vnd.jupyter.widget-view+json": {
       "model_id": "d93d323986eb4726b277804af9d583bd",
       "version_major": 2,
       "version_minor": 0
      },
      "text/plain": [
       "Output()"
      ]
     },
     "metadata": {},
     "output_type": "display_data"
    },
    {
     "data": {
      "text/html": [],
      "text/plain": [
       "<demo_utils.demo2.Demo2 at 0x7fa17aec2b38>"
      ]
     },
     "metadata": {},
     "output_type": "display_data"
    }
   ],
   "source": [
    "display(d)"
   ]
  }
 ],
 "metadata": {
  "kernelspec": {
   "display_name": "Python 3",
   "language": "python",
   "name": "python3"
  },
  "language_info": {
   "codemirror_mode": {
    "name": "ipython",
    "version": 3
   },
   "file_extension": ".py",
   "mimetype": "text/x-python",
   "name": "python",
   "nbconvert_exporter": "python",
   "pygments_lexer": "ipython3",
   "version": "3.6.7"
  },
  "widgets": {
   "application/vnd.jupyter.widget-state+json": {
    "state": {
     "0379988fce804aba90ed8e927f9e6e05": {
      "model_module": "@jupyter-widgets/base",
      "model_module_version": "1.1.0",
      "model_name": "LayoutModel",
      "state": {
       "visibility": "hidden"
      }
     },
     "0c86032c07c6404b91d3a233b56db0eb": {
      "model_module": "@jupyter-widgets/controls",
      "model_module_version": "1.4.0",
      "model_name": "DropdownModel",
      "state": {
       "_options_labels": [
        "None",
        "black",
        "grey"
       ],
       "description": "Bagging",
       "index": 0,
       "layout": "IPY_MODEL_62c0a706b5844e8dbfcc24c5c6e2b6b7",
       "style": "IPY_MODEL_be5e24c16839474ca01f382107568853"
      }
     },
     "0d6f91869f2243d1be0c4af7c45f449a": {
      "model_module": "@jupyter-widgets/base",
      "model_module_version": "1.1.0",
      "model_name": "LayoutModel",
      "state": {}
     },
     "0f468ab69da848c5a2a08d93f996bbd1": {
      "model_module": "@jupyter-widgets/output",
      "model_module_version": "1.0.0",
      "model_name": "OutputModel",
      "state": {
       "layout": "IPY_MODEL_26392a7d210f4f5593e44f4815991c7e",
       "outputs": [
        {
         "data": {
          "text/markdown": "\n- Model: **dt**\n- Sampler: **identity**\n- Bagging: **none**\n- N. estim.: **None**\n- PCA: **False**\n        ",
          "text/plain": "<IPython.core.display.Markdown object>"
         },
         "metadata": {},
         "output_type": "display_data"
        },
        {
         "data": {
          "image/png": "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\n",
          "text/plain": "<Figure size 921.6x345.6 with 2 Axes>"
         },
         "metadata": {},
         "output_type": "display_data"
        }
       ]
      }
     },
     "1854cb732a174900a450368f543de191": {
      "model_module": "@jupyter-widgets/controls",
      "model_module_version": "1.4.0",
      "model_name": "VBoxModel",
      "state": {
       "children": [
        "IPY_MODEL_665bd56f8b364c509d6373622772511b",
        "IPY_MODEL_23804537654d462399f25af088cf1eaa",
        "IPY_MODEL_6ef7f8fae06d48d1ad37763ac4ca29b7",
        "IPY_MODEL_51de359072f446ee9f503746d7c2b0ed",
        "IPY_MODEL_7b6b67639f75462fa86b1d7ca89f7fe9",
        "IPY_MODEL_545700892a16422689ea8626e1e0cf68"
       ],
       "layout": "IPY_MODEL_3c89ad6b4bd54c0c9c4c5815a7725529"
      }
     },
     "1fead780a55e4472bef69a53e2d43d66": {
      "model_module": "@jupyter-widgets/controls",
      "model_module_version": "1.4.0",
      "model_name": "VBoxModel",
      "state": {
       "children": [
        "IPY_MODEL_1854cb732a174900a450368f543de191",
        "IPY_MODEL_c28298bc7c364f70b0f4e1ed07fbbe66"
       ],
       "layout": "IPY_MODEL_8190247510da4bd4b7426fc71d4b3452"
      }
     },
     "23804537654d462399f25af088cf1eaa": {
      "model_module": "@jupyter-widgets/controls",
      "model_module_version": "1.4.0",
      "model_name": "DropdownModel",
      "state": {
       "_options_labels": [
        "None",
        "rbf",
        "nystroem"
       ],
       "description": "Sampler",
       "index": 0,
       "layout": "IPY_MODEL_e06c162c0e4f4eae8b083afee5e8d0a4",
       "style": "IPY_MODEL_777312c3044f43b98d2f4f604246776f"
      }
     },
     "26392a7d210f4f5593e44f4815991c7e": {
      "model_module": "@jupyter-widgets/base",
      "model_module_version": "1.1.0",
      "model_name": "LayoutModel",
      "state": {}
     },
     "334e7bd11be146b3a1bdfa1e8663b630": {
      "model_module": "@jupyter-widgets/controls",
      "model_module_version": "1.4.0",
      "model_name": "ButtonModel",
      "state": {
       "button_style": "info",
       "description": "Demo2",
       "layout": "IPY_MODEL_3d87c7dbdcf24cf1a962dce451768f99",
       "style": "IPY_MODEL_58d8b1263a61471a8dc5986377f26369"
      }
     },
     "39b35a0aa2584d0d96b3d01c07087274": {
      "model_module": "@jupyter-widgets/base",
      "model_module_version": "1.1.0",
      "model_name": "LayoutModel",
      "state": {}
     },
     "3c89ad6b4bd54c0c9c4c5815a7725529": {
      "model_module": "@jupyter-widgets/base",
      "model_module_version": "1.1.0",
      "model_name": "LayoutModel",
      "state": {}
     },
     "3d87c7dbdcf24cf1a962dce451768f99": {
      "model_module": "@jupyter-widgets/base",
      "model_module_version": "1.1.0",
      "model_name": "LayoutModel",
      "state": {}
     },
     "4215df0c1ebb431388cfce18aacc534d": {
      "model_module": "@jupyter-widgets/controls",
      "model_module_version": "1.4.0",
      "model_name": "IntRangeSliderModel",
      "state": {
       "_model_name": "IntRangeSliderModel",
       "_view_name": "IntRangeSliderView",
       "description": "Features",
       "disabled": true,
       "layout": "IPY_MODEL_cb596ae000e74158b63fc0da6353a299",
       "max": 400,
       "min": 30,
       "step": 10,
       "style": "IPY_MODEL_a43a39f142774d84a2b2dbeaa5463651",
       "value": [
        30,
        100
       ]
      }
     },
     "4650d07b4f2e4d3ea50625f8bbeafe15": {
      "model_module": "@jupyter-widgets/controls",
      "model_module_version": "1.4.0",
      "model_name": "DescriptionStyleModel",
      "state": {
       "description_width": ""
      }
     },
     "46a9ca7be17142f5850cebea05fce0ef": {
      "model_module": "@jupyter-widgets/controls",
      "model_module_version": "1.4.0",
      "model_name": "DropdownModel",
      "state": {
       "_options_labels": [
        "dt",
        "logit",
        "linear_svc"
       ],
       "description": "Model",
       "index": 0,
       "layout": "IPY_MODEL_ee965ba8a6324a59b80b146274025ffd",
       "style": "IPY_MODEL_4974104e5d15489abae892b64c072b18"
      }
     },
     "4974104e5d15489abae892b64c072b18": {
      "model_module": "@jupyter-widgets/controls",
      "model_module_version": "1.4.0",
      "model_name": "DescriptionStyleModel",
      "state": {
       "description_width": ""
      }
     },
     "51de359072f446ee9f503746d7c2b0ed": {
      "model_module": "@jupyter-widgets/controls",
      "model_module_version": "1.4.0",
      "model_name": "DropdownModel",
      "state": {
       "_options_labels": [
        "None",
        "black",
        "grey"
       ],
       "description": "Bagging",
       "index": 0,
       "layout": "IPY_MODEL_80cd0420aa144239ac7968236961283c",
       "style": "IPY_MODEL_a13de15a5175496abee29ec005207281"
      }
     },
     "545700892a16422689ea8626e1e0cf68": {
      "model_module": "@jupyter-widgets/controls",
      "model_module_version": "1.4.0",
      "model_name": "CheckboxModel",
      "state": {
       "description": "Perform PCA?",
       "disabled": false,
       "layout": "IPY_MODEL_0d6f91869f2243d1be0c4af7c45f449a",
       "style": "IPY_MODEL_69c1836af1344971945f4b0e776e7c86",
       "value": false
      }
     },
     "58d8b1263a61471a8dc5986377f26369": {
      "model_module": "@jupyter-widgets/controls",
      "model_module_version": "1.4.0",
      "model_name": "ButtonStyleModel",
      "state": {}
     },
     "5f3a93f31d374bf0809da645b20c2d38": {
      "model_module": "@jupyter-widgets/base",
      "model_module_version": "1.1.0",
      "model_name": "LayoutModel",
      "state": {}
     },
     "62c0a706b5844e8dbfcc24c5c6e2b6b7": {
      "model_module": "@jupyter-widgets/base",
      "model_module_version": "1.1.0",
      "model_name": "LayoutModel",
      "state": {}
     },
     "630fc5bf1afc4dc1871eeb59c6caf235": {
      "model_module": "@jupyter-widgets/output",
      "model_module_version": "1.0.0",
      "model_name": "OutputModel",
      "state": {
       "layout": "IPY_MODEL_8decbbce36a54586b75766a9ba924ddd"
      }
     },
     "665bd56f8b364c509d6373622772511b": {
      "model_module": "@jupyter-widgets/controls",
      "model_module_version": "1.4.0",
      "model_name": "DropdownModel",
      "state": {
       "_options_labels": [
        "dt",
        "logit",
        "linear_svc"
       ],
       "description": "Model",
       "index": 0,
       "layout": "IPY_MODEL_5f3a93f31d374bf0809da645b20c2d38",
       "style": "IPY_MODEL_ff60cbad29274fd090f3122d957f4838"
      }
     },
     "69c1836af1344971945f4b0e776e7c86": {
      "model_module": "@jupyter-widgets/controls",
      "model_module_version": "1.4.0",
      "model_name": "DescriptionStyleModel",
      "state": {
       "description_width": ""
      }
     },
     "6ef7f8fae06d48d1ad37763ac4ca29b7": {
      "model_module": "@jupyter-widgets/controls",
      "model_module_version": "1.4.0",
      "model_name": "IntRangeSliderModel",
      "state": {
       "_model_name": "IntRangeSliderModel",
       "_view_name": "IntRangeSliderView",
       "description": "Features",
       "disabled": true,
       "layout": "IPY_MODEL_b02373a94749442498148b40b66234a5",
       "max": 400,
       "min": 30,
       "step": 10,
       "style": "IPY_MODEL_8445e00be60b4bcf9809ded4ed06d635",
       "value": [
        30,
        100
       ]
      }
     },
     "777312c3044f43b98d2f4f604246776f": {
      "model_module": "@jupyter-widgets/controls",
      "model_module_version": "1.4.0",
      "model_name": "DescriptionStyleModel",
      "state": {
       "description_width": ""
      }
     },
     "7b6b67639f75462fa86b1d7ca89f7fe9": {
      "model_module": "@jupyter-widgets/controls",
      "model_module_version": "1.4.0",
      "model_name": "IntSliderModel",
      "state": {
       "description": "N. estim.",
       "disabled": true,
       "layout": "IPY_MODEL_cb5c3e3a89614f85bbb6248d27ee8a2c",
       "max": 200,
       "min": 2,
       "style": "IPY_MODEL_83e1f78a60c44c58ab95916d84f13009",
       "value": 30
      }
     },
     "80cd0420aa144239ac7968236961283c": {
      "model_module": "@jupyter-widgets/base",
      "model_module_version": "1.1.0",
      "model_name": "LayoutModel",
      "state": {}
     },
     "8190247510da4bd4b7426fc71d4b3452": {
      "model_module": "@jupyter-widgets/base",
      "model_module_version": "1.1.0",
      "model_name": "LayoutModel",
      "state": {}
     },
     "83a2c346a9e84ec08ee1332ce397557c": {
      "model_module": "@jupyter-widgets/base",
      "model_module_version": "1.1.0",
      "model_name": "LayoutModel",
      "state": {}
     },
     "83dcc09f8d3d43a09928c9be4efeb930": {
      "model_module": "@jupyter-widgets/controls",
      "model_module_version": "1.4.0",
      "model_name": "CheckboxModel",
      "state": {
       "description": "Perform PCA?",
       "disabled": false,
       "layout": "IPY_MODEL_39b35a0aa2584d0d96b3d01c07087274",
       "style": "IPY_MODEL_aeb3273434464b658e3814ed55948ca5",
       "value": false
      }
     },
     "83e1f78a60c44c58ab95916d84f13009": {
      "model_module": "@jupyter-widgets/controls",
      "model_module_version": "1.4.0",
      "model_name": "SliderStyleModel",
      "state": {
       "description_width": ""
      }
     },
     "8445e00be60b4bcf9809ded4ed06d635": {
      "model_module": "@jupyter-widgets/controls",
      "model_module_version": "1.4.0",
      "model_name": "SliderStyleModel",
      "state": {
       "description_width": ""
      }
     },
     "8decbbce36a54586b75766a9ba924ddd": {
      "model_module": "@jupyter-widgets/base",
      "model_module_version": "1.1.0",
      "model_name": "LayoutModel",
      "state": {}
     },
     "96e3431e5203409fa6b29f7f00b02f94": {
      "model_module": "@jupyter-widgets/base",
      "model_module_version": "1.1.0",
      "model_name": "LayoutModel",
      "state": {}
     },
     "9a8db9e63adb401cb570cf133ef69d02": {
      "model_module": "@jupyter-widgets/controls",
      "model_module_version": "1.4.0",
      "model_name": "VBoxModel",
      "state": {
       "children": [
        "IPY_MODEL_46a9ca7be17142f5850cebea05fce0ef",
        "IPY_MODEL_fa99325413974baebab31410ad3f10da",
        "IPY_MODEL_4215df0c1ebb431388cfce18aacc534d",
        "IPY_MODEL_0c86032c07c6404b91d3a233b56db0eb",
        "IPY_MODEL_ad205ed8191645c1b3e54db3fca92e94",
        "IPY_MODEL_83dcc09f8d3d43a09928c9be4efeb930"
       ],
       "layout": "IPY_MODEL_e8bb412916e24b8bbbbf0def2838c4ef"
      }
     },
     "a13de15a5175496abee29ec005207281": {
      "model_module": "@jupyter-widgets/controls",
      "model_module_version": "1.4.0",
      "model_name": "DescriptionStyleModel",
      "state": {
       "description_width": ""
      }
     },
     "a43a39f142774d84a2b2dbeaa5463651": {
      "model_module": "@jupyter-widgets/controls",
      "model_module_version": "1.4.0",
      "model_name": "SliderStyleModel",
      "state": {
       "description_width": ""
      }
     },
     "ad205ed8191645c1b3e54db3fca92e94": {
      "model_module": "@jupyter-widgets/controls",
      "model_module_version": "1.4.0",
      "model_name": "IntSliderModel",
      "state": {
       "description": "N. estim.",
       "disabled": true,
       "layout": "IPY_MODEL_0379988fce804aba90ed8e927f9e6e05",
       "max": 200,
       "min": 2,
       "style": "IPY_MODEL_df8087d12b454bed84077b03e88af03e",
       "value": 30
      }
     },
     "aeb3273434464b658e3814ed55948ca5": {
      "model_module": "@jupyter-widgets/controls",
      "model_module_version": "1.4.0",
      "model_name": "DescriptionStyleModel",
      "state": {
       "description_width": ""
      }
     },
     "b02373a94749442498148b40b66234a5": {
      "model_module": "@jupyter-widgets/base",
      "model_module_version": "1.1.0",
      "model_name": "LayoutModel",
      "state": {
       "visibility": "hidden"
      }
     },
     "be5e24c16839474ca01f382107568853": {
      "model_module": "@jupyter-widgets/controls",
      "model_module_version": "1.4.0",
      "model_name": "DescriptionStyleModel",
      "state": {
       "description_width": ""
      }
     },
     "c0524a69e7fc4d0ab29747640bf66718": {
      "model_module": "@jupyter-widgets/base",
      "model_module_version": "1.1.0",
      "model_name": "LayoutModel",
      "state": {}
     },
     "c28298bc7c364f70b0f4e1ed07fbbe66": {
      "model_module": "@jupyter-widgets/controls",
      "model_module_version": "1.4.0",
      "model_name": "ButtonModel",
      "state": {
       "button_style": "info",
       "description": "Demo2",
       "layout": "IPY_MODEL_c0524a69e7fc4d0ab29747640bf66718",
       "style": "IPY_MODEL_d2cc349a0fdb47d4b62c4ee1a3947817"
      }
     },
     "cb596ae000e74158b63fc0da6353a299": {
      "model_module": "@jupyter-widgets/base",
      "model_module_version": "1.1.0",
      "model_name": "LayoutModel",
      "state": {
       "visibility": "hidden"
      }
     },
     "cb5c3e3a89614f85bbb6248d27ee8a2c": {
      "model_module": "@jupyter-widgets/base",
      "model_module_version": "1.1.0",
      "model_name": "LayoutModel",
      "state": {
       "visibility": "hidden"
      }
     },
     "d2cc349a0fdb47d4b62c4ee1a3947817": {
      "model_module": "@jupyter-widgets/controls",
      "model_module_version": "1.4.0",
      "model_name": "ButtonStyleModel",
      "state": {}
     },
     "df8087d12b454bed84077b03e88af03e": {
      "model_module": "@jupyter-widgets/controls",
      "model_module_version": "1.4.0",
      "model_name": "SliderStyleModel",
      "state": {
       "description_width": ""
      }
     },
     "e06c162c0e4f4eae8b083afee5e8d0a4": {
      "model_module": "@jupyter-widgets/base",
      "model_module_version": "1.1.0",
      "model_name": "LayoutModel",
      "state": {}
     },
     "e8bb412916e24b8bbbbf0def2838c4ef": {
      "model_module": "@jupyter-widgets/base",
      "model_module_version": "1.1.0",
      "model_name": "LayoutModel",
      "state": {}
     },
     "ee965ba8a6324a59b80b146274025ffd": {
      "model_module": "@jupyter-widgets/base",
      "model_module_version": "1.1.0",
      "model_name": "LayoutModel",
      "state": {}
     },
     "f405050cd0ba49249968bdb7dee6b7ca": {
      "model_module": "@jupyter-widgets/controls",
      "model_module_version": "1.4.0",
      "model_name": "VBoxModel",
      "state": {
       "children": [
        "IPY_MODEL_9a8db9e63adb401cb570cf133ef69d02",
        "IPY_MODEL_334e7bd11be146b3a1bdfa1e8663b630"
       ],
       "layout": "IPY_MODEL_83a2c346a9e84ec08ee1332ce397557c"
      }
     },
     "fa99325413974baebab31410ad3f10da": {
      "model_module": "@jupyter-widgets/controls",
      "model_module_version": "1.4.0",
      "model_name": "DropdownModel",
      "state": {
       "_options_labels": [
        "None",
        "rbf",
        "nystroem"
       ],
       "description": "Sampler",
       "index": 0,
       "layout": "IPY_MODEL_96e3431e5203409fa6b29f7f00b02f94",
       "style": "IPY_MODEL_4650d07b4f2e4d3ea50625f8bbeafe15"
      }
     },
     "ff60cbad29274fd090f3122d957f4838": {
      "model_module": "@jupyter-widgets/controls",
      "model_module_version": "1.4.0",
      "model_name": "DescriptionStyleModel",
      "state": {
       "description_width": ""
      }
     }
    },
    "version_major": 2,
    "version_minor": 0
   }
  }
 },
 "nbformat": 4,
 "nbformat_minor": 2
}
