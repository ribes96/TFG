{
 "cells": [
  {
   "cell_type": "markdown",
   "metadata": {},
   "source": [
    "Observo que UNA vez ha fallado con:\n",
    "- C = 1, gamma = 10"
   ]
  },
  {
   "cell_type": "code",
   "execution_count": 1,
   "metadata": {},
   "outputs": [],
   "source": [
    "from sklearn.model_selection import GridSearchCV\n",
    "from demo_utils.general import get_data\n",
    "from sklearn.tree import DecisionTreeClassifier\n",
    "from demo_utils.learning import get_model\n",
    "import numpy as np\n",
    "from IPython.display import Markdown as md\n",
    "from demo_utils.general import SUPPORTED_DATASETS"
   ]
  },
  {
   "cell_type": "code",
   "execution_count": 2,
   "metadata": {},
   "outputs": [
    {
     "data": {
      "application/javascript": [
       "if (!(\"Notification\" in window)) {\n",
       "    alert(\"This browser does not support desktop notifications, so the %%notify magic will not work.\");\n",
       "} else if (Notification.permission !== 'granted' && Notification.permission !== 'denied') {\n",
       "    Notification.requestPermission(function (permission) {\n",
       "        if(!('permission' in Notification)) {\n",
       "            Notification.permission = permission;\n",
       "        }\n",
       "    })\n",
       "}\n"
      ],
      "text/plain": [
       "<IPython.core.display.Javascript object>"
      ]
     },
     "metadata": {},
     "output_type": "display_data"
    }
   ],
   "source": [
    "%load_ext jupyternotify"
   ]
  },
  {
   "cell_type": "code",
   "execution_count": 3,
   "metadata": {},
   "outputs": [],
   "source": [
    "import warnings\n",
    "warnings.filterwarnings('ignore')"
   ]
  },
  {
   "cell_type": "markdown",
   "metadata": {},
   "source": [
    "%%javascript\n",
    "IPython.OutputArea.prototype._should_scroll = function(lines) {\n",
    "    return false;\n",
    "}"
   ]
  },
  {
   "cell_type": "code",
   "execution_count": 4,
   "metadata": {},
   "outputs": [],
   "source": [
    "sampler_name = 'nystroem'\n",
    "\n",
    "model_params = {\n",
    "    'model_name': 'logit',\n",
    "    'sampler_name': 'identity',\n",
    "    'pca_bool': False,\n",
    "    'pca_first': True,\n",
    "    'box_type': 'none'\n",
    "}\n",
    "hp_names = {'dt': 'min_impurity_decrease', 'logit': 'C', 'linear_svc': 'C'}\n",
    "hp_options = {\n",
    "    'dt': [10**i for i in range(-10, 1)],\n",
    "    #'logit': [10**i for i in range(-5, 4)],\n",
    "    #'logit': [1],\n",
    "    'logit': 1,\n",
    "    'linear_svc': [10**i for i in range(-5, 4)]\n",
    "}\n",
    "testing_dataset = 'digits'\n",
    "#rbf_gamma_options = [10**i for i in range(-5, 2)]\n",
    "#nystroem_gamma_options = [10**i for i in range(-5, 2)]\n",
    "#nystroem_gamma_options = [10]\n",
    "nystroem_gamma_options = 10\n",
    "dts_size = 1000"
   ]
  },
  {
   "cell_type": "code",
   "execution_count": 5,
   "metadata": {},
   "outputs": [],
   "source": [
    "def find_hparams(model_params, options, dts_name):\n",
    "    n_comp = 500\n",
    "    prefix = 'model__'\n",
    "    tunning_params = {prefix + hp_names[model_params['model_name']]: options}\n",
    "    model = get_model(**model_params)\n",
    "\n",
    "    if model_params['sampler_name'] == 'rbf':\n",
    "        tunning_params['sampler__' + 'gamma'] = rbf_gamma_options\n",
    "        model.set_params(sampler__n_components=n_comp)\n",
    "    elif model_params['sampler_name'] == 'nystroem':\n",
    "        tunning_params['sampler__' + 'gamma'] = nystroem_gamma_options\n",
    "        model.set_params(sampler__n_components=n_comp)\n",
    "        \n",
    "\n",
    "    clf = GridSearchCV(model, tunning_params, cv=10, iid=False, verbose=10)\n",
    "    \n",
    "    data = get_data(dts_name, n_ins=dts_size)\n",
    "    data_train = data['data_train']\n",
    "    target_train = data['target_train']\n",
    "\n",
    "    print('a')\n",
    "    clf.fit(data_train, target_train)\n",
    "    print('b')\n",
    "    bp = clf.best_params_\n",
    "    \n",
    "    #print(model_params['model_name'], key)\n",
    "    print(model_params['model_name'])\n",
    "    print(bp)\n",
    "    print()"
   ]
  },
  {
   "cell_type": "code",
   "execution_count": 12,
   "metadata": {},
   "outputs": [],
   "source": [
    "def find_hparams_no_cv(model_params, options, dts_name):\n",
    "    n_comp = 500\n",
    "    prefix = 'model__'\n",
    "    tunning_params = {prefix + hp_names[model_params['model_name']]: options}\n",
    "    model = get_model(**model_params)\n",
    "\n",
    "    if model_params['sampler_name'] == 'rbf':\n",
    "        tunning_params['sampler__' + 'gamma'] = rbf_gamma_options\n",
    "        model.set_params(sampler__n_components=n_comp)\n",
    "    elif model_params['sampler_name'] == 'nystroem':\n",
    "        tunning_params['sampler__' + 'gamma'] = nystroem_gamma_options\n",
    "        model.set_params(sampler__n_components=n_comp)\n",
    "        \n",
    "\n",
    "    #clf = GridSearchCV(model, tunning_params, cv=10, iid=False, verbose=10)\n",
    "    \n",
    "    model.set_params(**tunning_params)\n",
    "    \n",
    "    data = get_data(dts_name, n_ins=dts_size)\n",
    "    data_train = data['data_train']\n",
    "    target_train = data['target_train']\n",
    "\n",
    "    print('a', end=' ')\n",
    "    #clf.fit(data_train, target_train)\n",
    "    model.fit(data_train, target_train)\n",
    "    print('b')\n",
    "    #bp = clf.best_params_\n",
    "    \n",
    "    #print(model_params['model_name'], key)\n",
    "    #print(model_params['model_name'])\n",
    "    #print(bp)\n",
    "    print()"
   ]
  },
  {
   "cell_type": "code",
   "execution_count": 7,
   "metadata": {},
   "outputs": [],
   "source": [
    "def test_sampler_pca_last(sampler_name):\n",
    "    display(md('### PCA Last'))\n",
    "    model_params['pca_bool'] = True\n",
    "    model_params['pca_first'] = False\n",
    "    model_params['sampler_name'] = sampler_name\n",
    "    #for model_name in hp_names:\n",
    "    model_name = 'logit'\n",
    "    \n",
    "    model_params['model_name'] = model_name\n",
    "    find_hparams(model_params, options=hp_options[model_params['model_name']], dts_name=testing_dataset)\n",
    "    \n",
    "def test_simple():\n",
    "    dt_name = 'mnist'\n",
    "    display(md('## Simple'))\n",
    "    model_params['pca_bool'] = False\n",
    "    model_params['sampler_name'] = 'identity'\n",
    "    #for model_name in hp_names:\n",
    "    model_name = 'dt'\n",
    "    \n",
    "    model_params['model_name'] = model_name\n",
    "    print('testing_dataset es {}'.format(testing_dataset))\n",
    "    find_hparams(model_params, options=hp_options[model_params['model_name']], dts_name=dt_name)"
   ]
  },
  {
   "cell_type": "code",
   "execution_count": 8,
   "metadata": {},
   "outputs": [],
   "source": [
    "def adv_test_sampler_pca_last(sampler_name):\n",
    "    '''\n",
    "    Hace lo mismo que el anterior, pero él mismo hace varias ejecuciones\n",
    "    '''\n",
    "    model_params['pca_bool'] = True\n",
    "    model_params['pca_first'] = False\n",
    "    model_params['sampler_name'] = sampler_name\n",
    "    #for model_name in hp_names:\n",
    "    model_name = 'logit'\n",
    "    model_params['model_name'] = model_name\n",
    "    times = 50\n",
    "    for i in range(times):\n",
    "        print(i)\n",
    "        display(md('# {}'.format(i)))\n",
    "        find_hparams(model_params, options=hp_options[model_params['model_name']], dts_name=testing_dataset)\n",
    "        print()"
   ]
  },
  {
   "cell_type": "code",
   "execution_count": 9,
   "metadata": {},
   "outputs": [],
   "source": [
    "def adv_test_sampler_pca_last_no_cv(sampler_name):\n",
    "    '''\n",
    "    Hace lo mismo que el anterior, pero él mismo hace varias ejecuciones\n",
    "    '''\n",
    "    model_params['pca_bool'] = True\n",
    "    model_params['pca_first'] = False\n",
    "    model_params['sampler_name'] = sampler_name\n",
    "    #for model_name in hp_names:\n",
    "    model_name = 'logit'\n",
    "    model_params['model_name'] = model_name\n",
    "    times = 200\n",
    "    for i in range(times):\n",
    "        print(i)\n",
    "        display(md('# {}'.format(i)))\n",
    "        #find_hparams(model_params, options=hp_options[model_params['model_name']], dts_name=testing_dataset)\n",
    "        find_hparams_no_cv(model_params, options=hp_options[model_params['model_name']], dts_name=testing_dataset)\n",
    "        print()"
   ]
  },
  {
   "cell_type": "code",
   "execution_count": 10,
   "metadata": {},
   "outputs": [
    {
     "ename": "NameError",
     "evalue": "name 'sdf' is not defined",
     "output_type": "error",
     "traceback": [
      "\u001b[0;31m---------------------------------------------------------------------------\u001b[0m",
      "\u001b[0;31mNameError\u001b[0m                                 Traceback (most recent call last)",
      "\u001b[0;32m<ipython-input-10-a0571c5b9493>\u001b[0m in \u001b[0;36m<module>\u001b[0;34m\u001b[0m\n\u001b[0;32m----> 1\u001b[0;31m \u001b[0msdf\u001b[0m\u001b[0;34m\u001b[0m\u001b[0;34m\u001b[0m\u001b[0m\n\u001b[0m",
      "\u001b[0;31mNameError\u001b[0m: name 'sdf' is not defined"
     ]
    }
   ],
   "source": [
    "sdf"
   ]
  },
  {
   "cell_type": "code",
   "execution_count": 11,
   "metadata": {},
   "outputs": [
    {
     "name": "stdout",
     "output_type": "stream",
     "text": [
      "0\n"
     ]
    },
    {
     "data": {
      "text/markdown": [
       "# 0"
      ],
      "text/plain": [
       "<IPython.core.display.Markdown object>"
      ]
     },
     "metadata": {},
     "output_type": "display_data"
    },
    {
     "name": "stdout",
     "output_type": "stream",
     "text": [
      "a\n",
      "b\n",
      "\n",
      "\n",
      "1\n"
     ]
    },
    {
     "data": {
      "text/markdown": [
       "# 1"
      ],
      "text/plain": [
       "<IPython.core.display.Markdown object>"
      ]
     },
     "metadata": {},
     "output_type": "display_data"
    },
    {
     "name": "stdout",
     "output_type": "stream",
     "text": [
      "a\n",
      "b\n",
      "\n",
      "\n",
      "2\n"
     ]
    },
    {
     "data": {
      "text/markdown": [
       "# 2"
      ],
      "text/plain": [
       "<IPython.core.display.Markdown object>"
      ]
     },
     "metadata": {},
     "output_type": "display_data"
    },
    {
     "name": "stdout",
     "output_type": "stream",
     "text": [
      "a\n",
      "b\n",
      "\n",
      "\n",
      "3\n"
     ]
    },
    {
     "data": {
      "text/markdown": [
       "# 3"
      ],
      "text/plain": [
       "<IPython.core.display.Markdown object>"
      ]
     },
     "metadata": {},
     "output_type": "display_data"
    },
    {
     "name": "stdout",
     "output_type": "stream",
     "text": [
      "a\n",
      "b\n",
      "\n",
      "\n",
      "4\n"
     ]
    },
    {
     "data": {
      "text/markdown": [
       "# 4"
      ],
      "text/plain": [
       "<IPython.core.display.Markdown object>"
      ]
     },
     "metadata": {},
     "output_type": "display_data"
    },
    {
     "name": "stdout",
     "output_type": "stream",
     "text": [
      "a\n",
      "b\n",
      "\n",
      "\n",
      "5\n"
     ]
    },
    {
     "data": {
      "text/markdown": [
       "# 5"
      ],
      "text/plain": [
       "<IPython.core.display.Markdown object>"
      ]
     },
     "metadata": {},
     "output_type": "display_data"
    },
    {
     "name": "stdout",
     "output_type": "stream",
     "text": [
      "a\n",
      "b\n",
      "\n",
      "\n",
      "6\n"
     ]
    },
    {
     "data": {
      "text/markdown": [
       "# 6"
      ],
      "text/plain": [
       "<IPython.core.display.Markdown object>"
      ]
     },
     "metadata": {},
     "output_type": "display_data"
    },
    {
     "name": "stdout",
     "output_type": "stream",
     "text": [
      "a\n",
      "b\n",
      "\n",
      "\n",
      "7\n"
     ]
    },
    {
     "data": {
      "text/markdown": [
       "# 7"
      ],
      "text/plain": [
       "<IPython.core.display.Markdown object>"
      ]
     },
     "metadata": {},
     "output_type": "display_data"
    },
    {
     "name": "stdout",
     "output_type": "stream",
     "text": [
      "a\n",
      "b\n",
      "\n",
      "\n",
      "8\n"
     ]
    },
    {
     "data": {
      "text/markdown": [
       "# 8"
      ],
      "text/plain": [
       "<IPython.core.display.Markdown object>"
      ]
     },
     "metadata": {},
     "output_type": "display_data"
    },
    {
     "name": "stdout",
     "output_type": "stream",
     "text": [
      "a\n",
      "b\n",
      "\n",
      "\n",
      "9\n"
     ]
    },
    {
     "data": {
      "text/markdown": [
       "# 9"
      ],
      "text/plain": [
       "<IPython.core.display.Markdown object>"
      ]
     },
     "metadata": {},
     "output_type": "display_data"
    },
    {
     "name": "stdout",
     "output_type": "stream",
     "text": [
      "a\n",
      "b\n",
      "\n",
      "\n",
      "10\n"
     ]
    },
    {
     "data": {
      "text/markdown": [
       "# 10"
      ],
      "text/plain": [
       "<IPython.core.display.Markdown object>"
      ]
     },
     "metadata": {},
     "output_type": "display_data"
    },
    {
     "name": "stdout",
     "output_type": "stream",
     "text": [
      "a\n",
      "b\n",
      "\n",
      "\n",
      "11\n"
     ]
    },
    {
     "data": {
      "text/markdown": [
       "# 11"
      ],
      "text/plain": [
       "<IPython.core.display.Markdown object>"
      ]
     },
     "metadata": {},
     "output_type": "display_data"
    },
    {
     "name": "stdout",
     "output_type": "stream",
     "text": [
      "a\n",
      "b\n",
      "\n",
      "\n",
      "12\n"
     ]
    },
    {
     "data": {
      "text/markdown": [
       "# 12"
      ],
      "text/plain": [
       "<IPython.core.display.Markdown object>"
      ]
     },
     "metadata": {},
     "output_type": "display_data"
    },
    {
     "name": "stdout",
     "output_type": "stream",
     "text": [
      "a\n",
      "b\n",
      "\n",
      "\n",
      "13\n"
     ]
    },
    {
     "data": {
      "text/markdown": [
       "# 13"
      ],
      "text/plain": [
       "<IPython.core.display.Markdown object>"
      ]
     },
     "metadata": {},
     "output_type": "display_data"
    },
    {
     "name": "stdout",
     "output_type": "stream",
     "text": [
      "a\n",
      "b\n",
      "\n",
      "\n",
      "14\n"
     ]
    },
    {
     "data": {
      "text/markdown": [
       "# 14"
      ],
      "text/plain": [
       "<IPython.core.display.Markdown object>"
      ]
     },
     "metadata": {},
     "output_type": "display_data"
    },
    {
     "name": "stdout",
     "output_type": "stream",
     "text": [
      "a\n",
      "b\n",
      "\n",
      "\n",
      "15\n"
     ]
    },
    {
     "data": {
      "text/markdown": [
       "# 15"
      ],
      "text/plain": [
       "<IPython.core.display.Markdown object>"
      ]
     },
     "metadata": {},
     "output_type": "display_data"
    },
    {
     "name": "stdout",
     "output_type": "stream",
     "text": [
      "a\n",
      "b\n",
      "\n",
      "\n",
      "16\n"
     ]
    },
    {
     "data": {
      "text/markdown": [
       "# 16"
      ],
      "text/plain": [
       "<IPython.core.display.Markdown object>"
      ]
     },
     "metadata": {},
     "output_type": "display_data"
    },
    {
     "name": "stdout",
     "output_type": "stream",
     "text": [
      "a\n",
      "b\n",
      "\n",
      "\n",
      "17\n"
     ]
    },
    {
     "data": {
      "text/markdown": [
       "# 17"
      ],
      "text/plain": [
       "<IPython.core.display.Markdown object>"
      ]
     },
     "metadata": {},
     "output_type": "display_data"
    },
    {
     "name": "stdout",
     "output_type": "stream",
     "text": [
      "a\n",
      "b\n",
      "\n",
      "\n",
      "18\n"
     ]
    },
    {
     "data": {
      "text/markdown": [
       "# 18"
      ],
      "text/plain": [
       "<IPython.core.display.Markdown object>"
      ]
     },
     "metadata": {},
     "output_type": "display_data"
    },
    {
     "name": "stdout",
     "output_type": "stream",
     "text": [
      "a\n",
      "b\n",
      "\n",
      "\n",
      "19\n"
     ]
    },
    {
     "data": {
      "text/markdown": [
       "# 19"
      ],
      "text/plain": [
       "<IPython.core.display.Markdown object>"
      ]
     },
     "metadata": {},
     "output_type": "display_data"
    },
    {
     "name": "stdout",
     "output_type": "stream",
     "text": [
      "a\n",
      "b\n",
      "\n",
      "\n",
      "20\n"
     ]
    },
    {
     "data": {
      "text/markdown": [
       "# 20"
      ],
      "text/plain": [
       "<IPython.core.display.Markdown object>"
      ]
     },
     "metadata": {},
     "output_type": "display_data"
    },
    {
     "name": "stdout",
     "output_type": "stream",
     "text": [
      "a\n",
      "b\n",
      "\n",
      "\n",
      "21\n"
     ]
    },
    {
     "data": {
      "text/markdown": [
       "# 21"
      ],
      "text/plain": [
       "<IPython.core.display.Markdown object>"
      ]
     },
     "metadata": {},
     "output_type": "display_data"
    },
    {
     "name": "stdout",
     "output_type": "stream",
     "text": [
      "a\n",
      "b\n",
      "\n",
      "\n",
      "22\n"
     ]
    },
    {
     "data": {
      "text/markdown": [
       "# 22"
      ],
      "text/plain": [
       "<IPython.core.display.Markdown object>"
      ]
     },
     "metadata": {},
     "output_type": "display_data"
    },
    {
     "name": "stdout",
     "output_type": "stream",
     "text": [
      "a\n",
      "b\n",
      "\n",
      "\n",
      "23\n"
     ]
    },
    {
     "data": {
      "text/markdown": [
       "# 23"
      ],
      "text/plain": [
       "<IPython.core.display.Markdown object>"
      ]
     },
     "metadata": {},
     "output_type": "display_data"
    },
    {
     "name": "stdout",
     "output_type": "stream",
     "text": [
      "a\n",
      "b\n",
      "\n",
      "\n",
      "24\n"
     ]
    },
    {
     "data": {
      "text/markdown": [
       "# 24"
      ],
      "text/plain": [
       "<IPython.core.display.Markdown object>"
      ]
     },
     "metadata": {},
     "output_type": "display_data"
    },
    {
     "name": "stdout",
     "output_type": "stream",
     "text": [
      "a\n",
      "b\n",
      "\n",
      "\n",
      "25\n"
     ]
    },
    {
     "data": {
      "text/markdown": [
       "# 25"
      ],
      "text/plain": [
       "<IPython.core.display.Markdown object>"
      ]
     },
     "metadata": {},
     "output_type": "display_data"
    },
    {
     "name": "stdout",
     "output_type": "stream",
     "text": [
      "a\n",
      "b\n",
      "\n",
      "\n",
      "26\n"
     ]
    },
    {
     "data": {
      "text/markdown": [
       "# 26"
      ],
      "text/plain": [
       "<IPython.core.display.Markdown object>"
      ]
     },
     "metadata": {},
     "output_type": "display_data"
    },
    {
     "name": "stdout",
     "output_type": "stream",
     "text": [
      "a\n",
      "b\n",
      "\n",
      "\n",
      "27\n"
     ]
    },
    {
     "data": {
      "text/markdown": [
       "# 27"
      ],
      "text/plain": [
       "<IPython.core.display.Markdown object>"
      ]
     },
     "metadata": {},
     "output_type": "display_data"
    },
    {
     "name": "stdout",
     "output_type": "stream",
     "text": [
      "a\n",
      "b\n",
      "\n",
      "\n",
      "28\n"
     ]
    },
    {
     "data": {
      "text/markdown": [
       "# 28"
      ],
      "text/plain": [
       "<IPython.core.display.Markdown object>"
      ]
     },
     "metadata": {},
     "output_type": "display_data"
    },
    {
     "name": "stdout",
     "output_type": "stream",
     "text": [
      "a\n",
      "b\n",
      "\n",
      "\n",
      "29\n"
     ]
    },
    {
     "data": {
      "text/markdown": [
       "# 29"
      ],
      "text/plain": [
       "<IPython.core.display.Markdown object>"
      ]
     },
     "metadata": {},
     "output_type": "display_data"
    },
    {
     "name": "stdout",
     "output_type": "stream",
     "text": [
      "a\n",
      "b\n",
      "\n",
      "\n",
      "30\n"
     ]
    },
    {
     "data": {
      "text/markdown": [
       "# 30"
      ],
      "text/plain": [
       "<IPython.core.display.Markdown object>"
      ]
     },
     "metadata": {},
     "output_type": "display_data"
    },
    {
     "name": "stdout",
     "output_type": "stream",
     "text": [
      "a\n",
      "b\n",
      "\n",
      "\n",
      "31\n"
     ]
    },
    {
     "data": {
      "text/markdown": [
       "# 31"
      ],
      "text/plain": [
       "<IPython.core.display.Markdown object>"
      ]
     },
     "metadata": {},
     "output_type": "display_data"
    },
    {
     "name": "stdout",
     "output_type": "stream",
     "text": [
      "a\n",
      "b\n",
      "\n",
      "\n",
      "32\n"
     ]
    },
    {
     "data": {
      "text/markdown": [
       "# 32"
      ],
      "text/plain": [
       "<IPython.core.display.Markdown object>"
      ]
     },
     "metadata": {},
     "output_type": "display_data"
    },
    {
     "name": "stdout",
     "output_type": "stream",
     "text": [
      "a\n",
      "b\n",
      "\n",
      "\n",
      "33\n"
     ]
    },
    {
     "data": {
      "text/markdown": [
       "# 33"
      ],
      "text/plain": [
       "<IPython.core.display.Markdown object>"
      ]
     },
     "metadata": {},
     "output_type": "display_data"
    },
    {
     "name": "stdout",
     "output_type": "stream",
     "text": [
      "a\n",
      "b\n",
      "\n",
      "\n",
      "34\n"
     ]
    },
    {
     "data": {
      "text/markdown": [
       "# 34"
      ],
      "text/plain": [
       "<IPython.core.display.Markdown object>"
      ]
     },
     "metadata": {},
     "output_type": "display_data"
    },
    {
     "name": "stdout",
     "output_type": "stream",
     "text": [
      "a\n",
      "b\n",
      "\n",
      "\n",
      "35\n"
     ]
    },
    {
     "data": {
      "text/markdown": [
       "# 35"
      ],
      "text/plain": [
       "<IPython.core.display.Markdown object>"
      ]
     },
     "metadata": {},
     "output_type": "display_data"
    },
    {
     "name": "stdout",
     "output_type": "stream",
     "text": [
      "a\n",
      "b\n",
      "\n",
      "\n",
      "36\n"
     ]
    },
    {
     "data": {
      "text/markdown": [
       "# 36"
      ],
      "text/plain": [
       "<IPython.core.display.Markdown object>"
      ]
     },
     "metadata": {},
     "output_type": "display_data"
    },
    {
     "name": "stdout",
     "output_type": "stream",
     "text": [
      "a\n",
      "b\n",
      "\n",
      "\n",
      "37\n"
     ]
    },
    {
     "data": {
      "text/markdown": [
       "# 37"
      ],
      "text/plain": [
       "<IPython.core.display.Markdown object>"
      ]
     },
     "metadata": {},
     "output_type": "display_data"
    },
    {
     "name": "stdout",
     "output_type": "stream",
     "text": [
      "a\n",
      "b\n",
      "\n",
      "\n",
      "38\n"
     ]
    },
    {
     "data": {
      "text/markdown": [
       "# 38"
      ],
      "text/plain": [
       "<IPython.core.display.Markdown object>"
      ]
     },
     "metadata": {},
     "output_type": "display_data"
    },
    {
     "name": "stdout",
     "output_type": "stream",
     "text": [
      "a\n",
      "b\n",
      "\n",
      "\n",
      "39\n"
     ]
    },
    {
     "data": {
      "text/markdown": [
       "# 39"
      ],
      "text/plain": [
       "<IPython.core.display.Markdown object>"
      ]
     },
     "metadata": {},
     "output_type": "display_data"
    },
    {
     "name": "stdout",
     "output_type": "stream",
     "text": [
      "a\n",
      "b\n",
      "\n",
      "\n",
      "40\n"
     ]
    },
    {
     "data": {
      "text/markdown": [
       "# 40"
      ],
      "text/plain": [
       "<IPython.core.display.Markdown object>"
      ]
     },
     "metadata": {},
     "output_type": "display_data"
    },
    {
     "name": "stdout",
     "output_type": "stream",
     "text": [
      "a\n",
      "b\n",
      "\n",
      "\n",
      "41\n"
     ]
    },
    {
     "data": {
      "text/markdown": [
       "# 41"
      ],
      "text/plain": [
       "<IPython.core.display.Markdown object>"
      ]
     },
     "metadata": {},
     "output_type": "display_data"
    },
    {
     "name": "stdout",
     "output_type": "stream",
     "text": [
      "a\n",
      "b\n",
      "\n",
      "\n",
      "42\n"
     ]
    },
    {
     "data": {
      "text/markdown": [
       "# 42"
      ],
      "text/plain": [
       "<IPython.core.display.Markdown object>"
      ]
     },
     "metadata": {},
     "output_type": "display_data"
    },
    {
     "name": "stdout",
     "output_type": "stream",
     "text": [
      "a\n",
      "b\n",
      "\n",
      "\n",
      "43\n"
     ]
    },
    {
     "data": {
      "text/markdown": [
       "# 43"
      ],
      "text/plain": [
       "<IPython.core.display.Markdown object>"
      ]
     },
     "metadata": {},
     "output_type": "display_data"
    },
    {
     "name": "stdout",
     "output_type": "stream",
     "text": [
      "a\n",
      "b\n",
      "\n",
      "\n",
      "44\n"
     ]
    },
    {
     "data": {
      "text/markdown": [
       "# 44"
      ],
      "text/plain": [
       "<IPython.core.display.Markdown object>"
      ]
     },
     "metadata": {},
     "output_type": "display_data"
    },
    {
     "name": "stdout",
     "output_type": "stream",
     "text": [
      "a\n",
      "b\n",
      "\n",
      "\n",
      "45\n"
     ]
    },
    {
     "data": {
      "text/markdown": [
       "# 45"
      ],
      "text/plain": [
       "<IPython.core.display.Markdown object>"
      ]
     },
     "metadata": {},
     "output_type": "display_data"
    },
    {
     "name": "stdout",
     "output_type": "stream",
     "text": [
      "a\n",
      "b\n",
      "\n",
      "\n",
      "46\n"
     ]
    },
    {
     "data": {
      "text/markdown": [
       "# 46"
      ],
      "text/plain": [
       "<IPython.core.display.Markdown object>"
      ]
     },
     "metadata": {},
     "output_type": "display_data"
    },
    {
     "name": "stdout",
     "output_type": "stream",
     "text": [
      "a\n",
      "b\n",
      "\n",
      "\n",
      "47\n"
     ]
    },
    {
     "data": {
      "text/markdown": [
       "# 47"
      ],
      "text/plain": [
       "<IPython.core.display.Markdown object>"
      ]
     },
     "metadata": {},
     "output_type": "display_data"
    },
    {
     "name": "stdout",
     "output_type": "stream",
     "text": [
      "a\n",
      "b\n",
      "\n",
      "\n",
      "48\n"
     ]
    },
    {
     "data": {
      "text/markdown": [
       "# 48"
      ],
      "text/plain": [
       "<IPython.core.display.Markdown object>"
      ]
     },
     "metadata": {},
     "output_type": "display_data"
    },
    {
     "name": "stdout",
     "output_type": "stream",
     "text": [
      "a\n",
      "b\n",
      "\n",
      "\n",
      "49\n"
     ]
    },
    {
     "data": {
      "text/markdown": [
       "# 49"
      ],
      "text/plain": [
       "<IPython.core.display.Markdown object>"
      ]
     },
     "metadata": {},
     "output_type": "display_data"
    },
    {
     "name": "stdout",
     "output_type": "stream",
     "text": [
      "a\n",
      "b\n",
      "\n",
      "\n"
     ]
    },
    {
     "data": {
      "application/javascript": [
       "$(document).ready(\n",
       "    function() {\n",
       "        function appendUniqueDiv(){\n",
       "            // append a div with our uuid so we can check that it's already\n",
       "            // been sent and avoid duplicates on page reload\n",
       "            var notifiedDiv = document.createElement(\"div\")\n",
       "            notifiedDiv.id = \"38ae5658-e534-45e2-aee9-4cd71608cc89\"\n",
       "            element.append(notifiedDiv)\n",
       "        }\n",
       "\n",
       "        // only send notifications if the pageload is complete; this will\n",
       "        // help stop extra notifications when a saved notebook is loaded,\n",
       "        // which during testing gives us state \"interactive\", not \"complete\"\n",
       "        if (document.readyState === 'complete') {\n",
       "            // check for the div that signifies that the notification\n",
       "            // was already sent\n",
       "            if (document.getElementById(\"38ae5658-e534-45e2-aee9-4cd71608cc89\") === null) {\n",
       "                var notificationPayload = {\"requireInteraction\": false, \"icon\": \"/static/base/images/favicon.ico\", \"body\": \"Cell execution has finished!\"};\n",
       "                if (Notification.permission !== 'denied') {\n",
       "                    if (Notification.permission !== 'granted') { \n",
       "                        Notification.requestPermission(function (permission) {\n",
       "                            if(!('permission' in Notification)) {\n",
       "                                Notification.permission = permission\n",
       "                            }\n",
       "                        })\n",
       "                    }\n",
       "                    if (Notification.permission === 'granted') {\n",
       "                    var notification = new Notification(\"Jupyter Notebook\", notificationPayload)\n",
       "                    appendUniqueDiv()\n",
       "                    notification.onclick = function () {\n",
       "                        window.focus();\n",
       "                        this.close();\n",
       "                        };\n",
       "                    } \n",
       "                }     \n",
       "            }\n",
       "        }\n",
       "    }\n",
       ")\n"
      ],
      "text/plain": [
       "<IPython.core.display.Javascript object>"
      ]
     },
     "metadata": {},
     "output_type": "display_data"
    }
   ],
   "source": [
    "%%notify\n",
    "adv_test_sampler_pca_last_no_cv(sampler_name)"
   ]
  },
  {
   "cell_type": "code",
   "execution_count": null,
   "metadata": {},
   "outputs": [],
   "source": [
    "%%notify\n",
    "adv_test_sampler_pca_last(sampler_name)"
   ]
  },
  {
   "cell_type": "code",
   "execution_count": null,
   "metadata": {},
   "outputs": [],
   "source": [
    "%%notify\n",
    "times = 10\n",
    "for i in range(times):\n",
    "    test_sampler_pca_last(sampler_name)"
   ]
  },
  {
   "cell_type": "code",
   "execution_count": null,
   "metadata": {},
   "outputs": [],
   "source": [
    "%%notify\n",
    "times = 0\n",
    "for i in range(times):\n",
    "    test_simple()"
   ]
  },
  {
   "cell_type": "code",
   "execution_count": null,
   "metadata": {},
   "outputs": [],
   "source": [
    "def _passthrough_scorer(estimator, *args, **kwargs):\n",
    "    \"\"\"Function that wraps estimator.score\"\"\"\n",
    "    return estimator.score(*args, **kwargs)"
   ]
  },
  {
   "cell_type": "code",
   "execution_count": null,
   "metadata": {},
   "outputs": [],
   "source": [
    "from sklearn.model_selection import KFold\n",
    "from sklearn.utils import indexable\n",
    "from sklearn.model_selection import ParameterGrid\n",
    "from sklearn.model_selection._validation import _fit_and_score\n",
    "from itertools import product"
   ]
  },
  {
   "cell_type": "code",
   "execution_count": null,
   "metadata": {},
   "outputs": [],
   "source": [
    "def test_func():\n",
    "    scorers = {'score': _passthrough_scorer}\n",
    "\n",
    "    model_params = {\n",
    "        'model_name': 'logit',\n",
    "        'sampler_name': 'nystroem',\n",
    "        'pca_bool': True,\n",
    "        'pca_first': False,\n",
    "        'box_type': 'none'\n",
    "    }\n",
    "\n",
    "    dts_name = 'digits'\n",
    "    dts_size = 1000\n",
    "    data = get_data(dts_name, n_ins=dts_size)\n",
    "    X = data['data_train']\n",
    "    y = data['target_train']\n",
    "    groups = None\n",
    "\n",
    "    param_grid = {'model__' + 'C': [10**i for i in range(-5, 4)]}\n",
    "    param_grid = list(ParameterGrid(param_grid))\n",
    "\n",
    "\n",
    "    cv = KFold(10)\n",
    "    X, y, groups = indexable(X, y, groups)\n",
    "    model = get_model(**model_params)\n",
    "    d = cv.split(X, y, groups)\n",
    "\n",
    "    fit_and_score_kwargs = dict(scorer=scorers,\n",
    "                                fit_params=None,\n",
    "                                return_train_score=True,\n",
    "                                return_n_test_samples=True,\n",
    "                                return_times=True,\n",
    "                                return_parameters=False,\n",
    "                                error_score='raise-deprecating',\n",
    "                                verbose=0)\n",
    "\n",
    "    out = []\n",
    "    for parameters, (train, test) in product(param_grid, d):\n",
    "        res = _fit_and_score(estimator=model,\n",
    "                             X=X,\n",
    "                             y=y,\n",
    "                             train=train,\n",
    "                             test=test,\n",
    "                             parameters=parameters,\n",
    "                             **fit_and_score_kwargs)\n",
    "        out.append(res)\n",
    "    print('Finished')"
   ]
  },
  {
   "cell_type": "code",
   "execution_count": null,
   "metadata": {},
   "outputs": [],
   "source": [
    "for i in range(500):\n",
    "    print(i, end=' ')\n",
    "    test_func()"
   ]
  },
  {
   "cell_type": "code",
   "execution_count": null,
   "metadata": {},
   "outputs": [],
   "source": []
  }
 ],
 "metadata": {
  "kernelspec": {
   "display_name": "Python 3",
   "language": "python",
   "name": "python3"
  },
  "language_info": {
   "codemirror_mode": {
    "name": "ipython",
    "version": 3
   },
   "file_extension": ".py",
   "mimetype": "text/x-python",
   "name": "python",
   "nbconvert_exporter": "python",
   "pygments_lexer": "ipython3",
   "version": "3.7.1"
  }
 },
 "nbformat": 4,
 "nbformat_minor": 2
}
