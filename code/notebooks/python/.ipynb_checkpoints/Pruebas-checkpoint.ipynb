{
 "cells": [
  {
   "cell_type": "markdown",
   "metadata": {},
   "source": [
    "Observo que UNA vez ha fallado con:\n",
    "- C = 1, gamma = 10"
   ]
  },
  {
   "cell_type": "code",
   "execution_count": null,
   "metadata": {},
   "outputs": [],
   "source": [
    "from sklearn.model_selection import GridSearchCV\n",
    "from demo_utils.general import get_data\n",
    "from sklearn.tree import DecisionTreeClassifier\n",
    "from demo_utils.learning import get_model\n",
    "import numpy as np\n",
    "from IPython.display import Markdown as md\n",
    "from demo_utils.general import SUPPORTED_DATASETS\n",
    "import pdb"
   ]
  },
  {
   "cell_type": "markdown",
   "metadata": {},
   "source": [
    "# Solo temporal\n",
    "from sklearn.model_selection import GridSearchCV\n",
    "from demo_utils.demo_utils.general import get_data\n",
    "from sklearn.tree import DecisionTreeClassifier\n",
    "from demo_utils.demo_utils.learning import get_model\n",
    "import numpy as np\n",
    "from IPython.display import Markdown as md\n",
    "from demo_utils.demo_utils.general import SUPPORTED_DATASETS\n",
    "import pdb"
   ]
  },
  {
   "cell_type": "code",
   "execution_count": null,
   "metadata": {},
   "outputs": [],
   "source": [
    "%load_ext jupyternotify"
   ]
  },
  {
   "cell_type": "code",
   "execution_count": null,
   "metadata": {},
   "outputs": [],
   "source": [
    "my_trace = pdb.set_trace"
   ]
  },
  {
   "cell_type": "code",
   "execution_count": null,
   "metadata": {},
   "outputs": [],
   "source": [
    "import warnings\n",
    "warnings.filterwarnings('ignore')"
   ]
  },
  {
   "cell_type": "markdown",
   "metadata": {},
   "source": [
    "%%javascript\n",
    "IPython.OutputArea.prototype._should_scroll = function(lines) {\n",
    "    return false;\n",
    "}"
   ]
  },
  {
   "cell_type": "code",
   "execution_count": null,
   "metadata": {},
   "outputs": [],
   "source": [
    "sampler_name = 'nystroem'\n",
    "\n",
    "model_params = {\n",
    "    'model_name': 'logit',\n",
    "    'sampler_name': 'identity',\n",
    "    'pca_bool': False,\n",
    "    'pca_first': True,\n",
    "    'box_type': 'none'\n",
    "}\n",
    "hp_names = {'dt': 'min_impurity_decrease', 'logit': 'C', 'linear_svc': 'C'}\n",
    "hp_options = {\n",
    "    'dt': [10**i for i in range(-10, 1)],\n",
    "    #'logit': [10**i for i in range(-5, 4)],\n",
    "    'logit': [1],\n",
    "    #'logit': 1,\n",
    "    'linear_svc': [10**i for i in range(-5, 4)]\n",
    "}\n",
    "testing_dataset = 'digits'\n",
    "#rbf_gamma_options = [10**i for i in range(-5, 2)]\n",
    "#nystroem_gamma_options = [10**i for i in range(-5, 2)]\n",
    "nystroem_gamma_options = [10]\n",
    "#nystroem_gamma_options = 10\n",
    "dts_size = 1000"
   ]
  },
  {
   "cell_type": "code",
   "execution_count": null,
   "metadata": {},
   "outputs": [],
   "source": [
    "def find_hparams(model_params, options, dts_name):\n",
    "    n_comp = 500\n",
    "    prefix = 'model__'\n",
    "    tunning_params = {prefix + hp_names[model_params['model_name']]: options}\n",
    "    model = get_model(**model_params)\n",
    "\n",
    "    if model_params['sampler_name'] == 'rbf':\n",
    "        tunning_params['sampler__' + 'gamma'] = rbf_gamma_options\n",
    "        model.set_params(sampler__n_components=n_comp)\n",
    "    elif model_params['sampler_name'] == 'nystroem':\n",
    "        tunning_params['sampler__' + 'gamma'] = nystroem_gamma_options\n",
    "        model.set_params(sampler__n_components=n_comp)\n",
    "        \n",
    "\n",
    "    clf = GridSearchCV(model, tunning_params, cv=10, iid=False, verbose=0)\n",
    "    #clf = GridSearchCV(model, tunning_params, cv=10, iid=False, verbose=0, n_jobs=1)\n",
    "    \n",
    "    data = get_data(dts_name, n_ins=dts_size)\n",
    "    data_train = data['data_train']\n",
    "    target_train = data['target_train']\n",
    "\n",
    "    print('a')\n",
    "    #pdb.set_trace()\n",
    "    #my_trace()\n",
    "    clf.fit(data_train, target_train)\n",
    "    print('b')\n",
    "    bp = clf.best_params_\n",
    "    \n",
    "    #print(model_params['model_name'], key)\n",
    "    print(model_params['model_name'])\n",
    "    print(bp)\n",
    "    print()"
   ]
  },
  {
   "cell_type": "code",
   "execution_count": null,
   "metadata": {},
   "outputs": [],
   "source": [
    "def find_hparams_no_cv(model_params, options, dts_name):\n",
    "    n_comp = 500\n",
    "    prefix = 'model__'\n",
    "    tunning_params = {prefix + hp_names[model_params['model_name']]: options}\n",
    "    model = get_model(**model_params)\n",
    "\n",
    "    if model_params['sampler_name'] == 'rbf':\n",
    "        tunning_params['sampler__' + 'gamma'] = rbf_gamma_options\n",
    "        model.set_params(sampler__n_components=n_comp)\n",
    "    elif model_params['sampler_name'] == 'nystroem':\n",
    "        tunning_params['sampler__' + 'gamma'] = nystroem_gamma_options\n",
    "        model.set_params(sampler__n_components=n_comp)\n",
    "        \n",
    "\n",
    "    #clf = GridSearchCV(model, tunning_params, cv=10, iid=False, verbose=10)\n",
    "    \n",
    "    model.set_params(**tunning_params)\n",
    "    \n",
    "    data = get_data(dts_name, n_ins=dts_size)\n",
    "    data_train = data['data_train']\n",
    "    target_train = data['target_train']\n",
    "\n",
    "    print('a', end=' ')\n",
    "    #clf.fit(data_train, target_train)\n",
    "    model.fit(data_train, target_train)\n",
    "    print('b')\n",
    "    #bp = clf.best_params_\n",
    "    \n",
    "    #print(model_params['model_name'], key)\n",
    "    #print(model_params['model_name'])\n",
    "    #print(bp)\n",
    "    print()"
   ]
  },
  {
   "cell_type": "code",
   "execution_count": null,
   "metadata": {},
   "outputs": [],
   "source": [
    "def test_sampler_pca_last(sampler_name):\n",
    "    display(md('### PCA Last'))\n",
    "    model_params['pca_bool'] = True\n",
    "    model_params['pca_first'] = False\n",
    "    model_params['sampler_name'] = sampler_name\n",
    "    #for model_name in hp_names:\n",
    "    model_name = 'logit'\n",
    "    \n",
    "    model_params['model_name'] = model_name\n",
    "    find_hparams(model_params, options=hp_options[model_params['model_name']], dts_name=testing_dataset)\n",
    "    \n",
    "def test_simple():\n",
    "    dt_name = 'mnist'\n",
    "    display(md('## Simple'))\n",
    "    model_params['pca_bool'] = False\n",
    "    model_params['sampler_name'] = 'identity'\n",
    "    #for model_name in hp_names:\n",
    "    model_name = 'dt'\n",
    "    \n",
    "    model_params['model_name'] = model_name\n",
    "    print('testing_dataset es {}'.format(testing_dataset))\n",
    "    find_hparams(model_params, options=hp_options[model_params['model_name']], dts_name=dt_name)"
   ]
  },
  {
   "cell_type": "code",
   "execution_count": null,
   "metadata": {},
   "outputs": [],
   "source": [
    "def adv_test_sampler_pca_last(sampler_name):\n",
    "    '''\n",
    "    Hace lo mismo que el anterior, pero él mismo hace varias ejecuciones\n",
    "    '''\n",
    "    model_params['pca_bool'] = True\n",
    "    model_params['pca_first'] = False\n",
    "    model_params['sampler_name'] = sampler_name\n",
    "    #for model_name in hp_names:\n",
    "    model_name = 'logit'\n",
    "    model_params['model_name'] = model_name\n",
    "    times = 50\n",
    "    for i in range(times):\n",
    "        print(i)\n",
    "        display(md('# {}'.format(i)))\n",
    "        find_hparams(model_params, options=hp_options[model_params['model_name']], dts_name=testing_dataset)\n",
    "        print()"
   ]
  },
  {
   "cell_type": "code",
   "execution_count": null,
   "metadata": {},
   "outputs": [],
   "source": [
    "def adv_test_sampler_pca_last_no_cv(sampler_name):\n",
    "    '''\n",
    "    Hace lo mismo que el anterior, pero él mismo hace varias ejecuciones\n",
    "    '''\n",
    "    model_params['pca_bool'] = True\n",
    "    model_params['pca_first'] = False\n",
    "    model_params['sampler_name'] = sampler_name\n",
    "    #for model_name in hp_names:\n",
    "    model_name = 'logit'\n",
    "    model_params['model_name'] = model_name\n",
    "    times = 200\n",
    "    for i in range(times):\n",
    "        print(i)\n",
    "        display(md('# {}'.format(i)))\n",
    "        #find_hparams(model_params, options=hp_options[model_params['model_name']], dts_name=testing_dataset)\n",
    "        find_hparams_no_cv(model_params, options=hp_options[model_params['model_name']], dts_name=testing_dataset)\n",
    "        print()"
   ]
  },
  {
   "cell_type": "code",
   "execution_count": null,
   "metadata": {},
   "outputs": [],
   "source": [
    "from sklearn.model_selection import _validation"
   ]
  },
  {
   "cell_type": "code",
   "execution_count": null,
   "metadata": {},
   "outputs": [],
   "source": [
    "import sys"
   ]
  },
  {
   "cell_type": "code",
   "execution_count": null,
   "metadata": {},
   "outputs": [],
   "source": [
    "path = '/home/hobber/.local/lib/python3.6/site-packages/sklearn/model_selection/_validation.py'\n",
    "sys.path.append(path)"
   ]
  },
  {
   "cell_type": "code",
   "execution_count": null,
   "metadata": {},
   "outputs": [],
   "source": [
    "from sklearn.model_selection._validation import _fit_and_score"
   ]
  },
  {
   "cell_type": "code",
   "execution_count": null,
   "metadata": {},
   "outputs": [],
   "source": [
    "sdf"
   ]
  },
  {
   "cell_type": "code",
   "execution_count": null,
   "metadata": {},
   "outputs": [],
   "source": [
    "%%notify\n",
    "adv_test_sampler_pca_last_no_cv(sampler_name)"
   ]
  },
  {
   "cell_type": "code",
   "execution_count": null,
   "metadata": {},
   "outputs": [],
   "source": [
    "%%notify\n",
    "adv_test_sampler_pca_last(sampler_name)"
   ]
  },
  {
   "cell_type": "code",
   "execution_count": null,
   "metadata": {},
   "outputs": [],
   "source": [
    "my_trace = pdb.set_trace"
   ]
  },
  {
   "cell_type": "code",
   "execution_count": null,
   "metadata": {},
   "outputs": [],
   "source": [
    "pdb.run('test_sampler_pca_last(sampler_name)')"
   ]
  },
  {
   "cell_type": "code",
   "execution_count": null,
   "metadata": {},
   "outputs": [],
   "source": [
    "pdb.run('cosa()')"
   ]
  },
  {
   "cell_type": "code",
   "execution_count": null,
   "metadata": {},
   "outputs": [],
   "source": [
    "%%notify\n",
    "cosa()"
   ]
  },
  {
   "cell_type": "code",
   "execution_count": null,
   "metadata": {},
   "outputs": [],
   "source": [
    "cosa()"
   ]
  },
  {
   "cell_type": "code",
   "execution_count": null,
   "metadata": {},
   "outputs": [],
   "source": [
    "def cosa():\n",
    "    times = 200\n",
    "    for i in range(times):\n",
    "        print(i)\n",
    "        test_sampler_pca_last(sampler_name)"
   ]
  },
  {
   "cell_type": "code",
   "execution_count": null,
   "metadata": {},
   "outputs": [],
   "source": [
    "%env OMP_NUM_THREADS=1"
   ]
  },
  {
   "cell_type": "code",
   "execution_count": null,
   "metadata": {},
   "outputs": [],
   "source": [
    "%%notify\n",
    "# currentwork\n",
    "times = 100\n",
    "for i in range(times):\n",
    "    print(i)\n",
    "    test_sampler_pca_last(sampler_name)"
   ]
  },
  {
   "cell_type": "code",
   "execution_count": null,
   "metadata": {},
   "outputs": [],
   "source": [
    "%%notify\n",
    "times = 0\n",
    "for i in range(times):\n",
    "    test_simple()"
   ]
  },
  {
   "cell_type": "code",
   "execution_count": null,
   "metadata": {},
   "outputs": [],
   "source": [
    "def _passthrough_scorer(estimator, *args, **kwargs):\n",
    "    \"\"\"Function that wraps estimator.score\"\"\"\n",
    "    return estimator.score(*args, **kwargs)"
   ]
  },
  {
   "cell_type": "code",
   "execution_count": null,
   "metadata": {},
   "outputs": [],
   "source": [
    "from sklearn.model_selection import KFold\n",
    "from sklearn.utils import indexable\n",
    "from sklearn.model_selection import ParameterGrid\n",
    "from sklearn.model_selection._validation import _fit_and_score\n",
    "from itertools import product"
   ]
  },
  {
   "cell_type": "code",
   "execution_count": null,
   "metadata": {},
   "outputs": [],
   "source": [
    "def test_func():\n",
    "    scorers = {'score': _passthrough_scorer}\n",
    "\n",
    "    model_params = {\n",
    "        'model_name': 'logit',\n",
    "        'sampler_name': 'nystroem',\n",
    "        'pca_bool': True,\n",
    "        'pca_first': False,\n",
    "        'box_type': 'none'\n",
    "    }\n",
    "\n",
    "    dts_name = 'digits'\n",
    "    dts_size = 1000\n",
    "    data = get_data(dts_name, n_ins=dts_size)\n",
    "    X = data['data_train']\n",
    "    y = data['target_train']\n",
    "    groups = None\n",
    "\n",
    "    param_grid = {'model__' + 'C': [10**i for i in range(-5, 4)]}\n",
    "    param_grid = list(ParameterGrid(param_grid))\n",
    "\n",
    "\n",
    "    cv = KFold(10)\n",
    "    X, y, groups = indexable(X, y, groups)\n",
    "    model = get_model(**model_params)\n",
    "    d = cv.split(X, y, groups)\n",
    "\n",
    "    fit_and_score_kwargs = dict(scorer=scorers,\n",
    "                                fit_params=None,\n",
    "                                return_train_score=True,\n",
    "                                return_n_test_samples=True,\n",
    "                                return_times=True,\n",
    "                                return_parameters=False,\n",
    "                                error_score='raise-deprecating',\n",
    "                                verbose=0)\n",
    "\n",
    "    out = []\n",
    "    for parameters, (train, test) in product(param_grid, d):\n",
    "        res = _fit_and_score(estimator=model,\n",
    "                             X=X,\n",
    "                             y=y,\n",
    "                             train=train,\n",
    "                             test=test,\n",
    "                             parameters=parameters,\n",
    "                             **fit_and_score_kwargs)\n",
    "        out.append(res)\n",
    "    print('Finished')"
   ]
  },
  {
   "cell_type": "code",
   "execution_count": null,
   "metadata": {},
   "outputs": [],
   "source": [
    "for i in range(500):\n",
    "    print(i, end=' ')\n",
    "    test_func()"
   ]
  },
  {
   "cell_type": "code",
   "execution_count": null,
   "metadata": {},
   "outputs": [],
   "source": [
    "from sklearn.model_selection import KFold\n"
   ]
  },
  {
   "cell_type": "code",
   "execution_count": null,
   "metadata": {},
   "outputs": [],
   "source": [
    "dts_name = 'mnist'\n",
    "n_splits = 10"
   ]
  },
  {
   "cell_type": "code",
   "execution_count": null,
   "metadata": {},
   "outputs": [],
   "source": [
    "data = get_data(dts_name, n_ins=dts_size)\n",
    "data_train = data['data_train']\n",
    "target_train = data['target_train']"
   ]
  },
  {
   "cell_type": "code",
   "execution_count": null,
   "metadata": {},
   "outputs": [],
   "source": [
    "kf = KFold(n_splits=n_splits)"
   ]
  },
  {
   "cell_type": "code",
   "execution_count": null,
   "metadata": {},
   "outputs": [],
   "source": [
    "def test_splits(data, model, model_params, tunning_params, n_splits):\n",
    "    model = get_model(**model_params)\n",
    "    model.set_params(**tunning_params)\n",
    "    kf = KFold(n_splits=n_splits)\n",
    "    data_train = data['data_train'].values\n",
    "    target_train = data['target_train'].values\n",
    "    for train_index, test_index in kf.split(data_train):\n",
    "        X_train, X_test = data_train[train_index], data_train[test_index]\n",
    "        y_train, y_test = target_train[train_index], target_train[test_index]\n",
    "        print('     split: start', end='--')\n",
    "        model.fit(X_train, y_train)\n",
    "        sc = model.score(X_test, y_test)\n",
    "        print('[{}]'.format(sc), end='')\n",
    "        print('end')"
   ]
  },
  {
   "cell_type": "code",
   "execution_count": null,
   "metadata": {},
   "outputs": [],
   "source": [
    "def find_hparams_no_cv_v6(model_params, options, dts_name):\n",
    "    n_comp = 500\n",
    "    prefix = 'model__'\n",
    "    tunning_params = {prefix + hp_names[model_params['model_name']]: options}\n",
    "    model = get_model(**model_params)\n",
    "\n",
    "    if model_params['sampler_name'] == 'rbf':\n",
    "        tunning_params['sampler__' + 'gamma'] = rbf_gamma_options\n",
    "        model.set_params(sampler__n_components=n_comp)\n",
    "    elif model_params['sampler_name'] == 'nystroem':\n",
    "        tunning_params['sampler__' + 'gamma'] = nystroem_gamma_options\n",
    "        model.set_params(sampler__n_components=n_comp)\n",
    "        \n",
    "\n",
    "    data = get_data(dts_name, n_ins=dts_size)\n",
    "    test_splits(data, model, model_params, tunning_params, 10)"
   ]
  },
  {
   "cell_type": "code",
   "execution_count": null,
   "metadata": {},
   "outputs": [],
   "source": [
    "def adv_test_sampler_pca_last_no_cv_v6(sampler_name):\n",
    "    '''\n",
    "    Hace lo mismo que el anterior, pero él mismo hace varias ejecuciones\n",
    "    '''\n",
    "    model_params['pca_bool'] = True\n",
    "    model_params['pca_first'] = False\n",
    "    model_params['sampler_name'] = sampler_name\n",
    "    #for model_name in hp_names:\n",
    "    model_name = 'logit'\n",
    "    model_params['model_name'] = model_name\n",
    "    times = 500\n",
    "    for i in range(times):\n",
    "        print(i)\n",
    "        display(md('# {}'.format(i)))\n",
    "        #find_hparams(model_params, options=hp_options[model_params['model_name']], dts_name=testing_dataset)\n",
    "        find_hparams_no_cv_v6(model_params, options=hp_options[model_params['model_name']], dts_name=testing_dataset)\n",
    "        print()"
   ]
  },
  {
   "cell_type": "code",
   "execution_count": null,
   "metadata": {},
   "outputs": [],
   "source": [
    "%%notify\n",
    "adv_test_sampler_pca_last_no_cv_v6(sampler_name)"
   ]
  },
  {
   "cell_type": "code",
   "execution_count": null,
   "metadata": {},
   "outputs": [],
   "source": []
  }
 ],
 "metadata": {
  "kernelspec": {
   "display_name": "Python 3",
   "language": "python",
   "name": "python3"
  },
  "language_info": {
   "codemirror_mode": {
    "name": "ipython",
    "version": 3
   },
   "file_extension": ".py",
   "mimetype": "text/x-python",
   "name": "python",
   "nbconvert_exporter": "python",
   "pygments_lexer": "ipython3",
   "version": "3.6.7"
  }
 },
 "nbformat": 4,
 "nbformat_minor": 2
}
