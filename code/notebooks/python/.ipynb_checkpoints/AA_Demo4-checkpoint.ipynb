{
 "cells": [
  {
   "cell_type": "markdown",
   "metadata": {},
   "source": [
    "# Distintos valores de C (para linear_svc)"
   ]
  },
  {
   "cell_type": "code",
   "execution_count": 1,
   "metadata": {},
   "outputs": [],
   "source": [
    "%matplotlib inline"
   ]
  },
  {
   "cell_type": "code",
   "execution_count": 2,
   "metadata": {},
   "outputs": [],
   "source": [
    "import warnings\n",
    "warnings.filterwarnings('ignore')"
   ]
  },
  {
   "cell_type": "code",
   "execution_count": 3,
   "metadata": {},
   "outputs": [
    {
     "data": {
      "application/javascript": [
       "IPython.OutputArea.prototype._should_scroll = function(lines) {\n",
       "    return false;\n",
       "}\n"
      ],
      "text/plain": [
       "<IPython.core.display.Javascript object>"
      ]
     },
     "metadata": {},
     "output_type": "display_data"
    }
   ],
   "source": [
    "%%javascript\n",
    "IPython.OutputArea.prototype._should_scroll = function(lines) {\n",
    "    return false;\n",
    "}"
   ]
  },
  {
   "cell_type": "code",
   "execution_count": 4,
   "metadata": {},
   "outputs": [],
   "source": [
    "from demo_utils.demo4 import Demo4"
   ]
  },
  {
   "cell_type": "code",
   "execution_count": 5,
   "metadata": {},
   "outputs": [],
   "source": [
    "d4_1 = Demo4()\n",
    "d4_2 = Demo4()"
   ]
  },
  {
   "cell_type": "markdown",
   "metadata": {},
   "source": [
    "## LinearSVC + RFF con el dataset \"digits\""
   ]
  },
  {
   "cell_type": "code",
   "execution_count": 6,
   "metadata": {},
   "outputs": [
    {
     "data": {
      "text/markdown": [
       "# Diferencias entre los valores de C para la SVM\n",
       "    Solo ejecuta LinearSVC con los parámetros indicados\n",
       "    "
      ],
      "text/plain": [
       "<IPython.core.display.Markdown object>"
      ]
     },
     "metadata": {},
     "output_type": "display_data"
    },
    {
     "data": {
      "application/vnd.jupyter.widget-view+json": {
       "model_id": "9d92879a1d0a423c8f30e7b35cace364",
       "version_major": 2,
       "version_minor": 0
      },
      "text/plain": [
       "VBox(children=(VBox(children=(Dropdown(description='Dataset:', options=('segment', 'covertype', 'digits', 'fal…"
      ]
     },
     "metadata": {},
     "output_type": "display_data"
    },
    {
     "data": {
      "application/vnd.jupyter.widget-view+json": {
       "model_id": "58ec0b77659b4824972b8862d2ad4022",
       "version_major": 2,
       "version_minor": 0
      },
      "text/plain": [
       "Output()"
      ]
     },
     "metadata": {},
     "output_type": "display_data"
    },
    {
     "data": {
      "text/html": [],
      "text/plain": [
       "<demo_utils.demo4.Demo4 at 0x7f1a6c4cec18>"
      ]
     },
     "metadata": {},
     "output_type": "display_data"
    }
   ],
   "source": [
    "display(d4_1)"
   ]
  },
  {
   "cell_type": "markdown",
   "metadata": {},
   "source": [
    "## LinearSCV + Nystroem con el dataset \"digits\""
   ]
  },
  {
   "cell_type": "code",
   "execution_count": 7,
   "metadata": {},
   "outputs": [
    {
     "data": {
      "text/markdown": [
       "# Diferencias entre los valores de C para la SVM\n",
       "    Solo ejecuta LinearSVC con los parámetros indicados\n",
       "    "
      ],
      "text/plain": [
       "<IPython.core.display.Markdown object>"
      ]
     },
     "metadata": {},
     "output_type": "display_data"
    },
    {
     "data": {
      "application/vnd.jupyter.widget-view+json": {
       "model_id": "b31d538258724a78a8a3c0b82e254dd3",
       "version_major": 2,
       "version_minor": 0
      },
      "text/plain": [
       "VBox(children=(VBox(children=(Dropdown(description='Dataset:', options=('segment', 'covertype', 'digits', 'fal…"
      ]
     },
     "metadata": {},
     "output_type": "display_data"
    },
    {
     "data": {
      "application/vnd.jupyter.widget-view+json": {
       "model_id": "d3fe2931d6d04a47a4e05b66bbfbd7a2",
       "version_major": 2,
       "version_minor": 0
      },
      "text/plain": [
       "Output()"
      ]
     },
     "metadata": {},
     "output_type": "display_data"
    },
    {
     "data": {
      "text/html": [],
      "text/plain": [
       "<demo_utils.demo4.Demo4 at 0x7f1a6c4ceb00>"
      ]
     },
     "metadata": {},
     "output_type": "display_data"
    }
   ],
   "source": [
    "display(d4_2)"
   ]
  }
 ],
 "metadata": {
  "kernelspec": {
   "display_name": "Python 3",
   "language": "python",
   "name": "python3"
  },
  "language_info": {
   "codemirror_mode": {
    "name": "ipython",
    "version": 3
   },
   "file_extension": ".py",
   "mimetype": "text/x-python",
   "name": "python",
   "nbconvert_exporter": "python",
   "pygments_lexer": "ipython3",
   "version": "3.6.7"
  },
  "widgets": {
   "application/vnd.jupyter.widget-state+json": {
    "state": {
     "00cfcb296c594cca84c8c85bbfb736d0": {
      "model_module": "@jupyter-widgets/controls",
      "model_module_version": "1.4.0",
      "model_name": "VBoxModel",
      "state": {
       "children": [
        "IPY_MODEL_13f3b2f50dc347f98e72665d24022f41",
        "IPY_MODEL_d9d9d63f578645e5b18c45316feba6fc",
        "IPY_MODEL_9e4e8623e85842f6acccd55de75f3a8a",
        "IPY_MODEL_a9de6225501049298794a21605ad69d0",
        "IPY_MODEL_c5c7366dc96a461081bf8ec494450265",
        "IPY_MODEL_f105af50840146dc94b0385a8f0e4844"
       ],
       "layout": "IPY_MODEL_d298b2eced734b44a4ad4f5bf64fe1cd"
      }
     },
     "022a45a2f42445c3b99adf24043aeb13": {
      "model_module": "@jupyter-widgets/controls",
      "model_module_version": "1.4.0",
      "model_name": "DescriptionStyleModel",
      "state": {
       "description_width": ""
      }
     },
     "02a1921a57e44d07944e11badde46921": {
      "model_module": "@jupyter-widgets/controls",
      "model_module_version": "1.4.0",
      "model_name": "SliderStyleModel",
      "state": {
       "description_width": ""
      }
     },
     "02f4aa2aad2547d495cf5d01dd81f199": {
      "model_module": "@jupyter-widgets/controls",
      "model_module_version": "1.4.0",
      "model_name": "IntRangeSliderModel",
      "state": {
       "_model_name": "IntRangeSliderModel",
       "_view_name": "IntRangeSliderView",
       "description": "Features",
       "disabled": true,
       "layout": "IPY_MODEL_b17ebaea8d5a4adea4ec0552bace15a6",
       "max": 400,
       "min": 30,
       "step": 10,
       "style": "IPY_MODEL_358c5c0b7d4b4b0fa34bfb0cf6f80054",
       "value": [
        30,
        100
       ]
      }
     },
     "048b8076027248a78fa1e26fd2545cf9": {
      "model_module": "@jupyter-widgets/controls",
      "model_module_version": "1.4.0",
      "model_name": "IntSliderModel",
      "state": {
       "description": "N. estim.",
       "disabled": true,
       "layout": "IPY_MODEL_d756eacb2c7349139e0e5abd38d028e6",
       "max": 200,
       "min": 2,
       "style": "IPY_MODEL_0b952133db36487194fae88a749a5211",
       "value": 30
      }
     },
     "05154abcdced41f5b4b99d5ecee6b079": {
      "model_module": "@jupyter-widgets/controls",
      "model_module_version": "1.4.0",
      "model_name": "IntSliderModel",
      "state": {
       "description": "N. estim.",
       "disabled": true,
       "layout": "IPY_MODEL_710ab1deef4c4905bbb53f9915d408ff",
       "max": 200,
       "min": 2,
       "style": "IPY_MODEL_319016e17bbb40628babefb76f5f6d40",
       "value": 9
      }
     },
     "07626f32dd954bed9d28227b2102b452": {
      "model_module": "@jupyter-widgets/output",
      "model_module_version": "1.0.0",
      "model_name": "OutputModel",
      "state": {
       "layout": "IPY_MODEL_ae7cfd93b651414f865b7d7def88e87e"
      }
     },
     "07db9c1b9f4a4ecfb83a78b8cfcf0201": {
      "model_module": "@jupyter-widgets/controls",
      "model_module_version": "1.4.0",
      "model_name": "ButtonStyleModel",
      "state": {}
     },
     "0b952133db36487194fae88a749a5211": {
      "model_module": "@jupyter-widgets/controls",
      "model_module_version": "1.4.0",
      "model_name": "SliderStyleModel",
      "state": {
       "description_width": ""
      }
     },
     "13c0dd150adc4e279d3da86a88e3b92f": {
      "model_module": "@jupyter-widgets/controls",
      "model_module_version": "1.4.0",
      "model_name": "DescriptionStyleModel",
      "state": {
       "description_width": ""
      }
     },
     "13f3b2f50dc347f98e72665d24022f41": {
      "model_module": "@jupyter-widgets/controls",
      "model_module_version": "1.4.0",
      "model_name": "DropdownModel",
      "state": {
       "_options_labels": [
        "segment",
        "covertype",
        "digits",
        "fall_detection",
        "mnist",
        "pen_digits",
        "satellite",
        "vowel"
       ],
       "description": "Dataset:",
       "index": 0,
       "layout": "IPY_MODEL_a1cef9666dc2408f88151facf58a2910",
       "style": "IPY_MODEL_b9cfd542680448aba89fac8f373b4e63"
      }
     },
     "13f8c22ffcf24577b76cb33fc558f978": {
      "model_module": "@jupyter-widgets/controls",
      "model_module_version": "1.4.0",
      "model_name": "SliderStyleModel",
      "state": {
       "description_width": ""
      }
     },
     "21de9adf29cf4e13b70e94a15e9413c3": {
      "model_module": "@jupyter-widgets/controls",
      "model_module_version": "1.4.0",
      "model_name": "IntRangeSliderModel",
      "state": {
       "_model_name": "IntRangeSliderModel",
       "_view_name": "IntRangeSliderView",
       "description": "Features",
       "disabled": true,
       "layout": "IPY_MODEL_b31352863bf841d980ccf52970eae0e3",
       "max": 400,
       "min": 30,
       "step": 10,
       "style": "IPY_MODEL_535c0ce4827644b2a50906b8b6b532cf",
       "value": [
        30,
        100
       ]
      }
     },
     "2266a505ff434857b877616995348c4f": {
      "model_module": "@jupyter-widgets/base",
      "model_module_version": "1.1.0",
      "model_name": "LayoutModel",
      "state": {}
     },
     "22f302ad5c934bec8b67dec43dccaf46": {
      "model_module": "@jupyter-widgets/base",
      "model_module_version": "1.1.0",
      "model_name": "LayoutModel",
      "state": {}
     },
     "24d9f63fb42c413c9a992fc89a483b28": {
      "model_module": "@jupyter-widgets/controls",
      "model_module_version": "1.4.0",
      "model_name": "DropdownModel",
      "state": {
       "_options_labels": [
        "None",
        "black",
        "grey"
       ],
       "description": "Bagging",
       "index": 0,
       "layout": "IPY_MODEL_c7375b433eed4e418e77bd2e24d7f62e",
       "style": "IPY_MODEL_7b9c644d5401413a82b01b09be6232d6"
      }
     },
     "26921baf64364dee8a8da6ec530e7b2a": {
      "model_module": "@jupyter-widgets/controls",
      "model_module_version": "1.4.0",
      "model_name": "IntSliderModel",
      "state": {
       "description": "N. estim.",
       "disabled": true,
       "layout": "IPY_MODEL_798b4c4fcba548a9976606e5d0b8f697",
       "max": 200,
       "min": 2,
       "style": "IPY_MODEL_f5a449f4eefa4ccfa7137dbcc3e93c6f",
       "value": 30
      }
     },
     "27e8a329d9c54596aa921066b02a055a": {
      "model_module": "@jupyter-widgets/controls",
      "model_module_version": "1.4.0",
      "model_name": "DescriptionStyleModel",
      "state": {
       "description_width": ""
      }
     },
     "2b9eb186a48545fda1582691d800b47e": {
      "model_module": "@jupyter-widgets/base",
      "model_module_version": "1.1.0",
      "model_name": "LayoutModel",
      "state": {
       "visibility": "hidden"
      }
     },
     "2d12e0ce9ccf487ab517d760b8020b5b": {
      "model_module": "@jupyter-widgets/controls",
      "model_module_version": "1.4.0",
      "model_name": "DescriptionStyleModel",
      "state": {
       "description_width": ""
      }
     },
     "319016e17bbb40628babefb76f5f6d40": {
      "model_module": "@jupyter-widgets/controls",
      "model_module_version": "1.4.0",
      "model_name": "SliderStyleModel",
      "state": {
       "description_width": ""
      }
     },
     "3225e4cd8c394b5d802250e09001ff67": {
      "model_module": "@jupyter-widgets/controls",
      "model_module_version": "1.4.0",
      "model_name": "DropdownModel",
      "state": {
       "_options_labels": [
        "None",
        "rbf",
        "nystroem"
       ],
       "description": "Sampler",
       "index": 0,
       "layout": "IPY_MODEL_36bbb8b7231849c98cb50e5975bcee76",
       "style": "IPY_MODEL_911381cb3d9249fe89a5fea8ed87cfec"
      }
     },
     "34eed5a0cd444ff48f76ea4704d08554": {
      "model_module": "@jupyter-widgets/base",
      "model_module_version": "1.1.0",
      "model_name": "LayoutModel",
      "state": {}
     },
     "358c5c0b7d4b4b0fa34bfb0cf6f80054": {
      "model_module": "@jupyter-widgets/controls",
      "model_module_version": "1.4.0",
      "model_name": "SliderStyleModel",
      "state": {
       "description_width": ""
      }
     },
     "36bbb8b7231849c98cb50e5975bcee76": {
      "model_module": "@jupyter-widgets/base",
      "model_module_version": "1.1.0",
      "model_name": "LayoutModel",
      "state": {}
     },
     "36fae784813f4a389dba282200d12131": {
      "model_module": "@jupyter-widgets/controls",
      "model_module_version": "1.4.0",
      "model_name": "VBoxModel",
      "state": {
       "children": [
        "IPY_MODEL_7f47985b25424d59b3ba5c9a5421c2bb",
        "IPY_MODEL_fc08ef298fa34a83b74683d6d5d478ee"
       ],
       "layout": "IPY_MODEL_db27a7e38df248cd8a82a2f6d948c1ba"
      }
     },
     "3a868e571ffc4f39a361ecb18fe4f050": {
      "model_module": "@jupyter-widgets/controls",
      "model_module_version": "1.4.0",
      "model_name": "DropdownModel",
      "state": {
       "_options_labels": [
        "None",
        "black",
        "grey"
       ],
       "description": "Bagging",
       "index": 0,
       "layout": "IPY_MODEL_5f8f6531212b411b8f660395ec352328",
       "style": "IPY_MODEL_923331bd08914ab9a930d9c2b143c604"
      }
     },
     "3d9a91a445d246da8726371ac5260518": {
      "model_module": "@jupyter-widgets/controls",
      "model_module_version": "1.4.0",
      "model_name": "VBoxModel",
      "state": {
       "children": [
        "IPY_MODEL_a149453e1e994af68c522ec650c7dcc1",
        "IPY_MODEL_fb42200ba9484ba1a0d2d2f75eac87df",
        "IPY_MODEL_02f4aa2aad2547d495cf5d01dd81f199",
        "IPY_MODEL_dc88af1685ac41fdab00d41f5b337b88",
        "IPY_MODEL_26921baf64364dee8a8da6ec530e7b2a",
        "IPY_MODEL_808bfeb5a8a745889dfad99c87b88e16"
       ],
       "layout": "IPY_MODEL_81b817a8666e4881a645a1eb3e5a1c36"
      }
     },
     "3e479e9fd8cc44aca21214e6bc11d3c3": {
      "model_module": "@jupyter-widgets/controls",
      "model_module_version": "1.4.0",
      "model_name": "IntRangeSliderModel",
      "state": {
       "_model_name": "IntRangeSliderModel",
       "_view_name": "IntRangeSliderView",
       "description": "Features",
       "disabled": true,
       "layout": "IPY_MODEL_d1251971884940d3be80d963b86651fc",
       "max": 400,
       "min": 30,
       "step": 10,
       "style": "IPY_MODEL_7a4f432cf5374b68b787b94e093df137",
       "value": [
        30,
        100
       ]
      }
     },
     "3e4bfc3dfa7f46fbb01f5389a0d90017": {
      "model_module": "@jupyter-widgets/base",
      "model_module_version": "1.1.0",
      "model_name": "LayoutModel",
      "state": {}
     },
     "3f96f187446340cc802353a5a47907c9": {
      "model_module": "@jupyter-widgets/base",
      "model_module_version": "1.1.0",
      "model_name": "LayoutModel",
      "state": {}
     },
     "3faac822a46c4ab48412fd9262efac85": {
      "model_module": "@jupyter-widgets/base",
      "model_module_version": "1.1.0",
      "model_name": "LayoutModel",
      "state": {}
     },
     "42acd0f5536d48fc86c2695be37dfd3f": {
      "model_module": "@jupyter-widgets/controls",
      "model_module_version": "1.4.0",
      "model_name": "CheckboxModel",
      "state": {
       "description": "Perform PCA?",
       "disabled": false,
       "layout": "IPY_MODEL_db951b696b8d43aeb87981fd1591c00c",
       "style": "IPY_MODEL_b9843e95a51d415d8a01b8829cd33c79",
       "value": false
      }
     },
     "4362b534efa44c96ae52a5e8de5f5b8c": {
      "model_module": "@jupyter-widgets/output",
      "model_module_version": "1.0.0",
      "model_name": "OutputModel",
      "state": {
       "layout": "IPY_MODEL_fbb220543e164f9b8221812a03dad6ab"
      }
     },
     "443b745e3f9c4f4a8aed9bf1ca7d9f2d": {
      "model_module": "@jupyter-widgets/controls",
      "model_module_version": "1.4.0",
      "model_name": "DescriptionStyleModel",
      "state": {
       "description_width": ""
      }
     },
     "449e570c40cc4cceab1f59c288b14a59": {
      "model_module": "@jupyter-widgets/controls",
      "model_module_version": "1.4.0",
      "model_name": "IntSliderModel",
      "state": {
       "description": "N. estim.",
       "disabled": true,
       "layout": "IPY_MODEL_811723e93f544606b883d27bd147c46e",
       "max": 200,
       "min": 2,
       "style": "IPY_MODEL_b76e8bddee23452a9ca1a6e537b7d5ed",
       "value": 30
      }
     },
     "48b34240f3b445538d36b2c48f175d66": {
      "model_module": "@jupyter-widgets/controls",
      "model_module_version": "1.4.0",
      "model_name": "DescriptionStyleModel",
      "state": {
       "description_width": ""
      }
     },
     "495fb6e9a3e843c99d7c321a64049e9f": {
      "model_module": "@jupyter-widgets/base",
      "model_module_version": "1.1.0",
      "model_name": "LayoutModel",
      "state": {}
     },
     "496d0cf19c5f4847b28087999ef93a06": {
      "model_module": "@jupyter-widgets/controls",
      "model_module_version": "1.4.0",
      "model_name": "ButtonStyleModel",
      "state": {}
     },
     "4a27db82f66d4bb5a32b4d5d185f2050": {
      "model_module": "@jupyter-widgets/output",
      "model_module_version": "1.0.0",
      "model_name": "OutputModel",
      "state": {
       "layout": "IPY_MODEL_835bbfe5e16e453c938048d6c511a7df",
       "outputs": [
        {
         "data": {
          "text/markdown": "\n- Dataset: **segment**\n- Sampler: **identity**\n- Bagging: **none**\n- N. estim.: **None**\n- PCA: **False**\n        ",
          "text/plain": "<IPython.core.display.Markdown object>"
         },
         "metadata": {},
         "output_type": "display_data"
        },
        {
         "data": {
          "image/png": "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\n",
          "text/plain": "<Figure size 921.6x345.6 with 2 Axes>"
         },
         "metadata": {},
         "output_type": "display_data"
        }
       ]
      }
     },
     "4cb87cd32d3946a4bfe888991472457f": {
      "model_module": "@jupyter-widgets/controls",
      "model_module_version": "1.4.0",
      "model_name": "DescriptionStyleModel",
      "state": {
       "description_width": ""
      }
     },
     "4d3798062c8c451d948fc4b18a759045": {
      "model_module": "@jupyter-widgets/controls",
      "model_module_version": "1.4.0",
      "model_name": "DropdownModel",
      "state": {
       "_options_labels": [
        "segment",
        "covertype",
        "digits",
        "fall_detection",
        "mnist",
        "pen_digits",
        "satellite",
        "vowel"
       ],
       "description": "Dataset:",
       "index": 0,
       "layout": "IPY_MODEL_988b9210aaa446198a6f362e03379af5",
       "style": "IPY_MODEL_48b34240f3b445538d36b2c48f175d66"
      }
     },
     "4f10c427f01a4e2ebb9987bf17bc0657": {
      "model_module": "@jupyter-widgets/base",
      "model_module_version": "1.1.0",
      "model_name": "LayoutModel",
      "state": {}
     },
     "4fb7330daecc413dbf1aa962ecb888fc": {
      "model_module": "@jupyter-widgets/base",
      "model_module_version": "1.1.0",
      "model_name": "LayoutModel",
      "state": {}
     },
     "520b808c6559427089db710f4d2d0a1d": {
      "model_module": "@jupyter-widgets/controls",
      "model_module_version": "1.4.0",
      "model_name": "IntRangeSliderModel",
      "state": {
       "_model_name": "IntRangeSliderModel",
       "_view_name": "IntRangeSliderView",
       "description": "Features",
       "disabled": true,
       "layout": "IPY_MODEL_d478be3e681841d49ce6a626064da2de",
       "max": 400,
       "min": 30,
       "step": 10,
       "style": "IPY_MODEL_899e62a67c424b4d8b06bc63a2d0b940",
       "value": [
        30,
        100
       ]
      }
     },
     "524692b8abaa4b00b385f3c3e9273835": {
      "model_module": "@jupyter-widgets/base",
      "model_module_version": "1.1.0",
      "model_name": "LayoutModel",
      "state": {}
     },
     "52cd07f4fc1d4291937de7f2230cbeda": {
      "model_module": "@jupyter-widgets/base",
      "model_module_version": "1.1.0",
      "model_name": "LayoutModel",
      "state": {}
     },
     "535c0ce4827644b2a50906b8b6b532cf": {
      "model_module": "@jupyter-widgets/controls",
      "model_module_version": "1.4.0",
      "model_name": "SliderStyleModel",
      "state": {
       "description_width": ""
      }
     },
     "573fbf8fe2524c2bb56ad3810699878a": {
      "model_module": "@jupyter-widgets/controls",
      "model_module_version": "1.4.0",
      "model_name": "DescriptionStyleModel",
      "state": {
       "description_width": ""
      }
     },
     "5780fb75c7db4affb624c8df73f0123a": {
      "model_module": "@jupyter-widgets/base",
      "model_module_version": "1.1.0",
      "model_name": "LayoutModel",
      "state": {}
     },
     "578de8f85072481780bcce317b290726": {
      "model_module": "@jupyter-widgets/controls",
      "model_module_version": "1.4.0",
      "model_name": "DropdownModel",
      "state": {
       "_options_labels": [
        "None",
        "rbf",
        "nystroem"
       ],
       "description": "Sampler",
       "index": 0,
       "layout": "IPY_MODEL_7b77418f10ae45f8847f265202172694",
       "style": "IPY_MODEL_b471a14d96c24fef9c39803487faf50c"
      }
     },
     "58ec0b77659b4824972b8862d2ad4022": {
      "model_module": "@jupyter-widgets/output",
      "model_module_version": "1.0.0",
      "model_name": "OutputModel",
      "state": {
       "layout": "IPY_MODEL_cdbfb784cd9242399a625654f16a62f3"
      }
     },
     "5c3de7f280b744b299da319bda481ad3": {
      "model_module": "@jupyter-widgets/base",
      "model_module_version": "1.1.0",
      "model_name": "LayoutModel",
      "state": {}
     },
     "5e3b605f8183496ab399a3b0a3df61ef": {
      "model_module": "@jupyter-widgets/controls",
      "model_module_version": "1.4.0",
      "model_name": "DescriptionStyleModel",
      "state": {
       "description_width": ""
      }
     },
     "5f8f6531212b411b8f660395ec352328": {
      "model_module": "@jupyter-widgets/base",
      "model_module_version": "1.1.0",
      "model_name": "LayoutModel",
      "state": {}
     },
     "61866e4ce0894eb9b297fc84a1536b16": {
      "model_module": "@jupyter-widgets/controls",
      "model_module_version": "1.4.0",
      "model_name": "DescriptionStyleModel",
      "state": {
       "description_width": ""
      }
     },
     "61bd3eba3c25443e8a2b116979a7235c": {
      "model_module": "@jupyter-widgets/base",
      "model_module_version": "1.1.0",
      "model_name": "LayoutModel",
      "state": {}
     },
     "620910f391a14e17ad115d6f2bfd9cc9": {
      "model_module": "@jupyter-widgets/controls",
      "model_module_version": "1.4.0",
      "model_name": "ButtonModel",
      "state": {
       "button_style": "info",
       "description": "Demo4",
       "layout": "IPY_MODEL_495fb6e9a3e843c99d7c321a64049e9f",
       "style": "IPY_MODEL_ba8761948f0b49ca8915209d557cfcbe"
      }
     },
     "62185e57733f4e739b14cec74a8f2382": {
      "model_module": "@jupyter-widgets/controls",
      "model_module_version": "1.4.0",
      "model_name": "ButtonModel",
      "state": {
       "button_style": "info",
       "description": "Demo4",
       "layout": "IPY_MODEL_3f96f187446340cc802353a5a47907c9",
       "style": "IPY_MODEL_07db9c1b9f4a4ecfb83a78b8cfcf0201"
      }
     },
     "631a882b97a54cf4bc9d2f92292002d0": {
      "model_module": "@jupyter-widgets/controls",
      "model_module_version": "1.4.0",
      "model_name": "DropdownModel",
      "state": {
       "_options_labels": [
        "segment",
        "covertype",
        "digits",
        "fall_detection",
        "mnist",
        "pen_digits",
        "satellite",
        "vowel"
       ],
       "description": "Dataset:",
       "index": 0,
       "layout": "IPY_MODEL_d0bfda95475b4b089cf4ff9f78c6775d",
       "style": "IPY_MODEL_573fbf8fe2524c2bb56ad3810699878a"
      }
     },
     "648cb346ea314cc8a0f9a0fa0eb10d45": {
      "model_module": "@jupyter-widgets/controls",
      "model_module_version": "1.4.0",
      "model_name": "ButtonStyleModel",
      "state": {}
     },
     "6744e5d949034cbb87394e3698d1b0d8": {
      "model_module": "@jupyter-widgets/controls",
      "model_module_version": "1.4.0",
      "model_name": "DescriptionStyleModel",
      "state": {
       "description_width": ""
      }
     },
     "6d02b6b25f4747c3b97128cd60c60958": {
      "model_module": "@jupyter-widgets/base",
      "model_module_version": "1.1.0",
      "model_name": "LayoutModel",
      "state": {}
     },
     "710ab1deef4c4905bbb53f9915d408ff": {
      "model_module": "@jupyter-widgets/base",
      "model_module_version": "1.1.0",
      "model_name": "LayoutModel",
      "state": {
       "visibility": "hidden"
      }
     },
     "72a1c6f58ba840069af3648cc54d40d1": {
      "model_module": "@jupyter-widgets/controls",
      "model_module_version": "1.4.0",
      "model_name": "DescriptionStyleModel",
      "state": {
       "description_width": ""
      }
     },
     "7483452bd12f4b11ab2e49feac5ced33": {
      "model_module": "@jupyter-widgets/base",
      "model_module_version": "1.1.0",
      "model_name": "LayoutModel",
      "state": {}
     },
     "75c783328a07460188042a55c16d9a3f": {
      "model_module": "@jupyter-widgets/controls",
      "model_module_version": "1.4.0",
      "model_name": "SliderStyleModel",
      "state": {
       "description_width": ""
      }
     },
     "798b4c4fcba548a9976606e5d0b8f697": {
      "model_module": "@jupyter-widgets/base",
      "model_module_version": "1.1.0",
      "model_name": "LayoutModel",
      "state": {
       "visibility": "hidden"
      }
     },
     "7a4f432cf5374b68b787b94e093df137": {
      "model_module": "@jupyter-widgets/controls",
      "model_module_version": "1.4.0",
      "model_name": "SliderStyleModel",
      "state": {
       "description_width": ""
      }
     },
     "7ac1bfa15358403e8a9073f017a135d3": {
      "model_module": "@jupyter-widgets/base",
      "model_module_version": "1.1.0",
      "model_name": "LayoutModel",
      "state": {}
     },
     "7b77418f10ae45f8847f265202172694": {
      "model_module": "@jupyter-widgets/base",
      "model_module_version": "1.1.0",
      "model_name": "LayoutModel",
      "state": {}
     },
     "7b9c644d5401413a82b01b09be6232d6": {
      "model_module": "@jupyter-widgets/controls",
      "model_module_version": "1.4.0",
      "model_name": "DescriptionStyleModel",
      "state": {
       "description_width": ""
      }
     },
     "7d129d3f88fe4438b336b5caf45ccfa4": {
      "model_module": "@jupyter-widgets/base",
      "model_module_version": "1.1.0",
      "model_name": "LayoutModel",
      "state": {
       "visibility": "hidden"
      }
     },
     "7f47985b25424d59b3ba5c9a5421c2bb": {
      "model_module": "@jupyter-widgets/controls",
      "model_module_version": "1.4.0",
      "model_name": "VBoxModel",
      "state": {
       "children": [
        "IPY_MODEL_631a882b97a54cf4bc9d2f92292002d0",
        "IPY_MODEL_fe4377132d6d45569fe409903976def0",
        "IPY_MODEL_21de9adf29cf4e13b70e94a15e9413c3",
        "IPY_MODEL_bdee01c902ff4da1b13f4289081ee737",
        "IPY_MODEL_449e570c40cc4cceab1f59c288b14a59",
        "IPY_MODEL_a0d79426464045cca9c27763eb4de98b"
       ],
       "layout": "IPY_MODEL_cca3864928304e2aa0a2ee2e7db4915f"
      }
     },
     "7fd4c0795437424ab4ed66e7fdce1602": {
      "model_module": "@jupyter-widgets/controls",
      "model_module_version": "1.4.0",
      "model_name": "ButtonStyleModel",
      "state": {}
     },
     "808bfeb5a8a745889dfad99c87b88e16": {
      "model_module": "@jupyter-widgets/controls",
      "model_module_version": "1.4.0",
      "model_name": "CheckboxModel",
      "state": {
       "description": "Perform PCA?",
       "disabled": false,
       "layout": "IPY_MODEL_3faac822a46c4ab48412fd9262efac85",
       "style": "IPY_MODEL_6744e5d949034cbb87394e3698d1b0d8",
       "value": false
      }
     },
     "811723e93f544606b883d27bd147c46e": {
      "model_module": "@jupyter-widgets/base",
      "model_module_version": "1.1.0",
      "model_name": "LayoutModel",
      "state": {
       "visibility": "hidden"
      }
     },
     "81b817a8666e4881a645a1eb3e5a1c36": {
      "model_module": "@jupyter-widgets/base",
      "model_module_version": "1.1.0",
      "model_name": "LayoutModel",
      "state": {}
     },
     "835bbfe5e16e453c938048d6c511a7df": {
      "model_module": "@jupyter-widgets/base",
      "model_module_version": "1.1.0",
      "model_name": "LayoutModel",
      "state": {}
     },
     "892b200e33f94919bcbbc95d4114caaf": {
      "model_module": "@jupyter-widgets/controls",
      "model_module_version": "1.4.0",
      "model_name": "VBoxModel",
      "state": {
       "children": [
        "IPY_MODEL_00cfcb296c594cca84c8c85bbfb736d0",
        "IPY_MODEL_620910f391a14e17ad115d6f2bfd9cc9"
       ],
       "layout": "IPY_MODEL_34eed5a0cd444ff48f76ea4704d08554"
      }
     },
     "899e62a67c424b4d8b06bc63a2d0b940": {
      "model_module": "@jupyter-widgets/controls",
      "model_module_version": "1.4.0",
      "model_name": "SliderStyleModel",
      "state": {
       "description_width": ""
      }
     },
     "8b01872df15a45b28712a1e54acf7b96": {
      "model_module": "@jupyter-widgets/base",
      "model_module_version": "1.1.0",
      "model_name": "LayoutModel",
      "state": {}
     },
     "8bc0cf38e0cd41fda0a5a564e466e01d": {
      "model_module": "@jupyter-widgets/controls",
      "model_module_version": "1.4.0",
      "model_name": "ButtonModel",
      "state": {
       "button_style": "info",
       "description": "Demo4",
       "layout": "IPY_MODEL_8ce703c4571d4d2ab932831ddb91fbe2",
       "style": "IPY_MODEL_7fd4c0795437424ab4ed66e7fdce1602"
      }
     },
     "8ce703c4571d4d2ab932831ddb91fbe2": {
      "model_module": "@jupyter-widgets/base",
      "model_module_version": "1.1.0",
      "model_name": "LayoutModel",
      "state": {}
     },
     "8d6f074d030f47849e929bbe9a6938a8": {
      "model_module": "@jupyter-widgets/controls",
      "model_module_version": "1.4.0",
      "model_name": "SliderStyleModel",
      "state": {
       "description_width": ""
      }
     },
     "904b233c0365422ea8cc445e3689c235": {
      "model_module": "@jupyter-widgets/controls",
      "model_module_version": "1.4.0",
      "model_name": "ButtonModel",
      "state": {
       "button_style": "info",
       "description": "Demo4",
       "layout": "IPY_MODEL_c7c3e02d2c59480a9da80d019a46963a",
       "style": "IPY_MODEL_648cb346ea314cc8a0f9a0fa0eb10d45"
      }
     },
     "909085e4f33246208fb774103a5635a7": {
      "model_module": "@jupyter-widgets/base",
      "model_module_version": "1.1.0",
      "model_name": "LayoutModel",
      "state": {}
     },
     "911381cb3d9249fe89a5fea8ed87cfec": {
      "model_module": "@jupyter-widgets/controls",
      "model_module_version": "1.4.0",
      "model_name": "DescriptionStyleModel",
      "state": {
       "description_width": ""
      }
     },
     "923331bd08914ab9a930d9c2b143c604": {
      "model_module": "@jupyter-widgets/controls",
      "model_module_version": "1.4.0",
      "model_name": "DescriptionStyleModel",
      "state": {
       "description_width": ""
      }
     },
     "9233819da7214e5da4275762118ca9c6": {
      "model_module": "@jupyter-widgets/base",
      "model_module_version": "1.1.0",
      "model_name": "LayoutModel",
      "state": {
       "visibility": "hidden"
      }
     },
     "93dab73311a94ae7afd4c74ac435aa2b": {
      "model_module": "@jupyter-widgets/controls",
      "model_module_version": "1.4.0",
      "model_name": "VBoxModel",
      "state": {
       "children": [
        "IPY_MODEL_d715003e563b44beab727dad6a5beeaa",
        "IPY_MODEL_d1cd18c520774859bf80e6dbc9966387"
       ],
       "layout": "IPY_MODEL_5c3de7f280b744b299da319bda481ad3"
      }
     },
     "93f0485be7404b68b870e154d7a554d8": {
      "model_module": "@jupyter-widgets/controls",
      "model_module_version": "1.4.0",
      "model_name": "IntRangeSliderModel",
      "state": {
       "_model_name": "IntRangeSliderModel",
       "_view_name": "IntRangeSliderView",
       "description": "Features",
       "disabled": true,
       "layout": "IPY_MODEL_2b9eb186a48545fda1582691d800b47e",
       "max": 400,
       "min": 30,
       "step": 10,
       "style": "IPY_MODEL_13f8c22ffcf24577b76cb33fc558f978",
       "value": [
        30,
        100
       ]
      }
     },
     "96c0438200494cd88689edf4765c110a": {
      "model_module": "@jupyter-widgets/controls",
      "model_module_version": "1.4.0",
      "model_name": "VBoxModel",
      "state": {
       "children": [
        "IPY_MODEL_f6b3837d2d86444fa737896206e8737b",
        "IPY_MODEL_578de8f85072481780bcce317b290726",
        "IPY_MODEL_93f0485be7404b68b870e154d7a554d8",
        "IPY_MODEL_24d9f63fb42c413c9a992fc89a483b28",
        "IPY_MODEL_05154abcdced41f5b4b99d5ecee6b079",
        "IPY_MODEL_42acd0f5536d48fc86c2695be37dfd3f"
       ],
       "layout": "IPY_MODEL_4fb7330daecc413dbf1aa962ecb888fc"
      }
     },
     "982dba7bcbb247e28b070272db4d82c8": {
      "model_module": "@jupyter-widgets/controls",
      "model_module_version": "1.4.0",
      "model_name": "DescriptionStyleModel",
      "state": {
       "description_width": ""
      }
     },
     "988b9210aaa446198a6f362e03379af5": {
      "model_module": "@jupyter-widgets/base",
      "model_module_version": "1.1.0",
      "model_name": "LayoutModel",
      "state": {}
     },
     "98dbfdbe820a4c589e2ad21738913092": {
      "model_module": "@jupyter-widgets/base",
      "model_module_version": "1.1.0",
      "model_name": "LayoutModel",
      "state": {}
     },
     "9957a0679d6144b58f47fbbe659bca0a": {
      "model_module": "@jupyter-widgets/controls",
      "model_module_version": "1.4.0",
      "model_name": "CheckboxModel",
      "state": {
       "description": "Perform PCA?",
       "disabled": false,
       "layout": "IPY_MODEL_c5a3de83f1bd44128aea044fee18c09b",
       "style": "IPY_MODEL_5e3b605f8183496ab399a3b0a3df61ef",
       "value": false
      }
     },
     "9b318fce81b24a2e8d148f88e32380fd": {
      "model_module": "@jupyter-widgets/controls",
      "model_module_version": "1.4.0",
      "model_name": "DescriptionStyleModel",
      "state": {
       "description_width": ""
      }
     },
     "9d92879a1d0a423c8f30e7b35cace364": {
      "model_module": "@jupyter-widgets/controls",
      "model_module_version": "1.4.0",
      "model_name": "VBoxModel",
      "state": {
       "children": [
        "IPY_MODEL_3d9a91a445d246da8726371ac5260518",
        "IPY_MODEL_8bc0cf38e0cd41fda0a5a564e466e01d"
       ],
       "layout": "IPY_MODEL_b4cadac1256e4085ac22454af42c7a65"
      }
     },
     "9e4e8623e85842f6acccd55de75f3a8a": {
      "model_module": "@jupyter-widgets/controls",
      "model_module_version": "1.4.0",
      "model_name": "IntRangeSliderModel",
      "state": {
       "_model_name": "IntRangeSliderModel",
       "_view_name": "IntRangeSliderView",
       "description": "Features",
       "disabled": true,
       "layout": "IPY_MODEL_f5f4d567329f4802a565a1989406d574",
       "max": 400,
       "min": 30,
       "step": 10,
       "style": "IPY_MODEL_02a1921a57e44d07944e11badde46921",
       "value": [
        30,
        100
       ]
      }
     },
     "a0d79426464045cca9c27763eb4de98b": {
      "model_module": "@jupyter-widgets/controls",
      "model_module_version": "1.4.0",
      "model_name": "CheckboxModel",
      "state": {
       "description": "Perform PCA?",
       "disabled": false,
       "layout": "IPY_MODEL_7483452bd12f4b11ab2e49feac5ced33",
       "style": "IPY_MODEL_ce0e5c31616145ff8c16dfcf295ab7f4",
       "value": false
      }
     },
     "a149453e1e994af68c522ec650c7dcc1": {
      "model_module": "@jupyter-widgets/controls",
      "model_module_version": "1.4.0",
      "model_name": "DropdownModel",
      "state": {
       "_options_labels": [
        "segment",
        "covertype",
        "digits",
        "fall_detection",
        "mnist",
        "pen_digits",
        "satellite",
        "vowel"
       ],
       "description": "Dataset:",
       "index": 0,
       "layout": "IPY_MODEL_524692b8abaa4b00b385f3c3e9273835",
       "style": "IPY_MODEL_13c0dd150adc4e279d3da86a88e3b92f"
      }
     },
     "a1cef9666dc2408f88151facf58a2910": {
      "model_module": "@jupyter-widgets/base",
      "model_module_version": "1.1.0",
      "model_name": "LayoutModel",
      "state": {}
     },
     "a9de6225501049298794a21605ad69d0": {
      "model_module": "@jupyter-widgets/controls",
      "model_module_version": "1.4.0",
      "model_name": "DropdownModel",
      "state": {
       "_options_labels": [
        "None",
        "black",
        "grey"
       ],
       "description": "Bagging",
       "index": 0,
       "layout": "IPY_MODEL_909085e4f33246208fb774103a5635a7",
       "style": "IPY_MODEL_db94b29053b24b28a9cc7211986a81a4"
      }
     },
     "ae7cfd93b651414f865b7d7def88e87e": {
      "model_module": "@jupyter-widgets/base",
      "model_module_version": "1.1.0",
      "model_name": "LayoutModel",
      "state": {}
     },
     "ae851edf33ad4840bd800598024f4c53": {
      "model_module": "@jupyter-widgets/output",
      "model_module_version": "1.0.0",
      "model_name": "OutputModel",
      "state": {
       "layout": "IPY_MODEL_61bd3eba3c25443e8a2b116979a7235c",
       "outputs": [
        {
         "data": {
          "text/markdown": "\n- Dataset: **segment**\n- Sampler: **identity**\n- Bagging: **none**\n- N. estim.: **None**\n- PCA: **False**\n        ",
          "text/plain": "<IPython.core.display.Markdown object>"
         },
         "metadata": {},
         "output_type": "display_data"
        },
        {
         "data": {
          "image/png": "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\n",
          "text/plain": "<Figure size 921.6x345.6 with 2 Axes>"
         },
         "metadata": {},
         "output_type": "display_data"
        }
       ]
      }
     },
     "b17ebaea8d5a4adea4ec0552bace15a6": {
      "model_module": "@jupyter-widgets/base",
      "model_module_version": "1.1.0",
      "model_name": "LayoutModel",
      "state": {
       "visibility": "hidden"
      }
     },
     "b26d77c9e43e48818ad754d801d43da9": {
      "model_module": "@jupyter-widgets/controls",
      "model_module_version": "1.4.0",
      "model_name": "CheckboxModel",
      "state": {
       "description": "Perform PCA?",
       "disabled": false,
       "layout": "IPY_MODEL_2266a505ff434857b877616995348c4f",
       "style": "IPY_MODEL_9b318fce81b24a2e8d148f88e32380fd",
       "value": false
      }
     },
     "b2cfc3e060034affa3a076ce83bebf22": {
      "model_module": "@jupyter-widgets/base",
      "model_module_version": "1.1.0",
      "model_name": "LayoutModel",
      "state": {}
     },
     "b31352863bf841d980ccf52970eae0e3": {
      "model_module": "@jupyter-widgets/base",
      "model_module_version": "1.1.0",
      "model_name": "LayoutModel",
      "state": {
       "visibility": "hidden"
      }
     },
     "b31d538258724a78a8a3c0b82e254dd3": {
      "model_module": "@jupyter-widgets/controls",
      "model_module_version": "1.4.0",
      "model_name": "VBoxModel",
      "state": {
       "children": [
        "IPY_MODEL_96c0438200494cd88689edf4765c110a",
        "IPY_MODEL_904b233c0365422ea8cc445e3689c235"
       ],
       "layout": "IPY_MODEL_ec55c106ddee45a6ad901318d263eb8d"
      }
     },
     "b471a14d96c24fef9c39803487faf50c": {
      "model_module": "@jupyter-widgets/controls",
      "model_module_version": "1.4.0",
      "model_name": "DescriptionStyleModel",
      "state": {
       "description_width": ""
      }
     },
     "b4cadac1256e4085ac22454af42c7a65": {
      "model_module": "@jupyter-widgets/base",
      "model_module_version": "1.1.0",
      "model_name": "LayoutModel",
      "state": {}
     },
     "b76e8bddee23452a9ca1a6e537b7d5ed": {
      "model_module": "@jupyter-widgets/controls",
      "model_module_version": "1.4.0",
      "model_name": "SliderStyleModel",
      "state": {
       "description_width": ""
      }
     },
     "b9843e95a51d415d8a01b8829cd33c79": {
      "model_module": "@jupyter-widgets/controls",
      "model_module_version": "1.4.0",
      "model_name": "DescriptionStyleModel",
      "state": {
       "description_width": ""
      }
     },
     "b9cfd542680448aba89fac8f373b4e63": {
      "model_module": "@jupyter-widgets/controls",
      "model_module_version": "1.4.0",
      "model_name": "DescriptionStyleModel",
      "state": {
       "description_width": ""
      }
     },
     "ba8761948f0b49ca8915209d557cfcbe": {
      "model_module": "@jupyter-widgets/controls",
      "model_module_version": "1.4.0",
      "model_name": "ButtonStyleModel",
      "state": {}
     },
     "bc9abc8a3f144fb491837ee77d9fd2aa": {
      "model_module": "@jupyter-widgets/base",
      "model_module_version": "1.1.0",
      "model_name": "LayoutModel",
      "state": {}
     },
     "bdee01c902ff4da1b13f4289081ee737": {
      "model_module": "@jupyter-widgets/controls",
      "model_module_version": "1.4.0",
      "model_name": "DropdownModel",
      "state": {
       "_options_labels": [
        "None",
        "black",
        "grey"
       ],
       "description": "Bagging",
       "index": 0,
       "layout": "IPY_MODEL_bc9abc8a3f144fb491837ee77d9fd2aa",
       "style": "IPY_MODEL_72a1c6f58ba840069af3648cc54d40d1"
      }
     },
     "c5a3de83f1bd44128aea044fee18c09b": {
      "model_module": "@jupyter-widgets/base",
      "model_module_version": "1.1.0",
      "model_name": "LayoutModel",
      "state": {}
     },
     "c5c7366dc96a461081bf8ec494450265": {
      "model_module": "@jupyter-widgets/controls",
      "model_module_version": "1.4.0",
      "model_name": "IntSliderModel",
      "state": {
       "description": "N. estim.",
       "disabled": true,
       "layout": "IPY_MODEL_9233819da7214e5da4275762118ca9c6",
       "max": 200,
       "min": 2,
       "style": "IPY_MODEL_8d6f074d030f47849e929bbe9a6938a8",
       "value": 30
      }
     },
     "c7375b433eed4e418e77bd2e24d7f62e": {
      "model_module": "@jupyter-widgets/base",
      "model_module_version": "1.1.0",
      "model_name": "LayoutModel",
      "state": {}
     },
     "c7c3e02d2c59480a9da80d019a46963a": {
      "model_module": "@jupyter-widgets/base",
      "model_module_version": "1.1.0",
      "model_name": "LayoutModel",
      "state": {}
     },
     "cc4aa454bb544190ac0d23b07dec1dc9": {
      "model_module": "@jupyter-widgets/base",
      "model_module_version": "1.1.0",
      "model_name": "LayoutModel",
      "state": {}
     },
     "cca3864928304e2aa0a2ee2e7db4915f": {
      "model_module": "@jupyter-widgets/base",
      "model_module_version": "1.1.0",
      "model_name": "LayoutModel",
      "state": {}
     },
     "cdbfb784cd9242399a625654f16a62f3": {
      "model_module": "@jupyter-widgets/base",
      "model_module_version": "1.1.0",
      "model_name": "LayoutModel",
      "state": {}
     },
     "cdd9bba82e974f6d8347198a374e0660": {
      "model_module": "@jupyter-widgets/controls",
      "model_module_version": "1.4.0",
      "model_name": "DescriptionStyleModel",
      "state": {
       "description_width": ""
      }
     },
     "ce0e5c31616145ff8c16dfcf295ab7f4": {
      "model_module": "@jupyter-widgets/controls",
      "model_module_version": "1.4.0",
      "model_name": "DescriptionStyleModel",
      "state": {
       "description_width": ""
      }
     },
     "d01872c0de724e86a3e4e1d4b5901608": {
      "model_module": "@jupyter-widgets/controls",
      "model_module_version": "1.4.0",
      "model_name": "IntSliderModel",
      "state": {
       "description": "N. estim.",
       "disabled": true,
       "layout": "IPY_MODEL_7d129d3f88fe4438b336b5caf45ccfa4",
       "max": 200,
       "min": 2,
       "style": "IPY_MODEL_75c783328a07460188042a55c16d9a3f",
       "value": 30
      }
     },
     "d09caeb5cc4f4771a645b6880199a8d3": {
      "model_module": "@jupyter-widgets/controls",
      "model_module_version": "1.4.0",
      "model_name": "DropdownModel",
      "state": {
       "_options_labels": [
        "None",
        "black",
        "grey"
       ],
       "description": "Bagging",
       "index": 0,
       "layout": "IPY_MODEL_d1572ac93e3d47f8b1cd16e46b81b4e4",
       "style": "IPY_MODEL_cdd9bba82e974f6d8347198a374e0660"
      }
     },
     "d0bfda95475b4b089cf4ff9f78c6775d": {
      "model_module": "@jupyter-widgets/base",
      "model_module_version": "1.1.0",
      "model_name": "LayoutModel",
      "state": {}
     },
     "d1251971884940d3be80d963b86651fc": {
      "model_module": "@jupyter-widgets/base",
      "model_module_version": "1.1.0",
      "model_name": "LayoutModel",
      "state": {
       "visibility": "hidden"
      }
     },
     "d1572ac93e3d47f8b1cd16e46b81b4e4": {
      "model_module": "@jupyter-widgets/base",
      "model_module_version": "1.1.0",
      "model_name": "LayoutModel",
      "state": {}
     },
     "d1bdd7cf0b9c4e2086ad0b28d3050d61": {
      "model_module": "@jupyter-widgets/base",
      "model_module_version": "1.1.0",
      "model_name": "LayoutModel",
      "state": {}
     },
     "d1cd18c520774859bf80e6dbc9966387": {
      "model_module": "@jupyter-widgets/controls",
      "model_module_version": "1.4.0",
      "model_name": "ButtonModel",
      "state": {
       "button_style": "info",
       "description": "Demo4",
       "layout": "IPY_MODEL_3e4bfc3dfa7f46fbb01f5389a0d90017",
       "style": "IPY_MODEL_d80c97bc288d4d4c801cf269f6c624e9"
      }
     },
     "d298b2eced734b44a4ad4f5bf64fe1cd": {
      "model_module": "@jupyter-widgets/base",
      "model_module_version": "1.1.0",
      "model_name": "LayoutModel",
      "state": {}
     },
     "d3fe2931d6d04a47a4e05b66bbfbd7a2": {
      "model_module": "@jupyter-widgets/output",
      "model_module_version": "1.0.0",
      "model_name": "OutputModel",
      "state": {
       "layout": "IPY_MODEL_cc4aa454bb544190ac0d23b07dec1dc9",
       "outputs": [
        {
         "data": {
          "text/markdown": "\n- Dataset: **segment**\n- Sampler: **identity**\n- Bagging: **none**\n- N. estim.: **None**\n- PCA: **False**\n        ",
          "text/plain": "<IPython.core.display.Markdown object>"
         },
         "metadata": {},
         "output_type": "display_data"
        },
        {
         "data": {
          "image/png": "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\n",
          "text/plain": "<Figure size 921.6x345.6 with 2 Axes>"
         },
         "metadata": {},
         "output_type": "display_data"
        }
       ]
      }
     },
     "d478be3e681841d49ce6a626064da2de": {
      "model_module": "@jupyter-widgets/base",
      "model_module_version": "1.1.0",
      "model_name": "LayoutModel",
      "state": {
       "visibility": "hidden"
      }
     },
     "d715003e563b44beab727dad6a5beeaa": {
      "model_module": "@jupyter-widgets/controls",
      "model_module_version": "1.4.0",
      "model_name": "VBoxModel",
      "state": {
       "children": [
        "IPY_MODEL_f8fca35513334256976b7d7f8fe7c6c7",
        "IPY_MODEL_f2f9f4113e554a87ada28dbb1a9026d3",
        "IPY_MODEL_520b808c6559427089db710f4d2d0a1d",
        "IPY_MODEL_d09caeb5cc4f4771a645b6880199a8d3",
        "IPY_MODEL_048b8076027248a78fa1e26fd2545cf9",
        "IPY_MODEL_b26d77c9e43e48818ad754d801d43da9"
       ],
       "layout": "IPY_MODEL_5780fb75c7db4affb624c8df73f0123a"
      }
     },
     "d756eacb2c7349139e0e5abd38d028e6": {
      "model_module": "@jupyter-widgets/base",
      "model_module_version": "1.1.0",
      "model_name": "LayoutModel",
      "state": {
       "visibility": "hidden"
      }
     },
     "d80c97bc288d4d4c801cf269f6c624e9": {
      "model_module": "@jupyter-widgets/controls",
      "model_module_version": "1.4.0",
      "model_name": "ButtonStyleModel",
      "state": {}
     },
     "d9d9d63f578645e5b18c45316feba6fc": {
      "model_module": "@jupyter-widgets/controls",
      "model_module_version": "1.4.0",
      "model_name": "DropdownModel",
      "state": {
       "_options_labels": [
        "None",
        "rbf",
        "nystroem"
       ],
       "description": "Sampler",
       "index": 0,
       "layout": "IPY_MODEL_8b01872df15a45b28712a1e54acf7b96",
       "style": "IPY_MODEL_faad857ffee640bc81c06ed48ff67ec0"
      }
     },
     "db27a7e38df248cd8a82a2f6d948c1ba": {
      "model_module": "@jupyter-widgets/base",
      "model_module_version": "1.1.0",
      "model_name": "LayoutModel",
      "state": {}
     },
     "db94b29053b24b28a9cc7211986a81a4": {
      "model_module": "@jupyter-widgets/controls",
      "model_module_version": "1.4.0",
      "model_name": "DescriptionStyleModel",
      "state": {
       "description_width": ""
      }
     },
     "db951b696b8d43aeb87981fd1591c00c": {
      "model_module": "@jupyter-widgets/base",
      "model_module_version": "1.1.0",
      "model_name": "LayoutModel",
      "state": {}
     },
     "dc88af1685ac41fdab00d41f5b337b88": {
      "model_module": "@jupyter-widgets/controls",
      "model_module_version": "1.4.0",
      "model_name": "DropdownModel",
      "state": {
       "_options_labels": [
        "None",
        "black",
        "grey"
       ],
       "description": "Bagging",
       "index": 0,
       "layout": "IPY_MODEL_f716792a6c9f47ffb14915fbec8a08cf",
       "style": "IPY_MODEL_27e8a329d9c54596aa921066b02a055a"
      }
     },
     "e3dcba44a07848f6b5ada385473c2845": {
      "model_module": "@jupyter-widgets/controls",
      "model_module_version": "1.4.0",
      "model_name": "VBoxModel",
      "state": {
       "children": [
        "IPY_MODEL_e60e924b60e4427997655f73400c55f4",
        "IPY_MODEL_62185e57733f4e739b14cec74a8f2382"
       ],
       "layout": "IPY_MODEL_4f10c427f01a4e2ebb9987bf17bc0657"
      }
     },
     "e60e924b60e4427997655f73400c55f4": {
      "model_module": "@jupyter-widgets/controls",
      "model_module_version": "1.4.0",
      "model_name": "VBoxModel",
      "state": {
       "children": [
        "IPY_MODEL_4d3798062c8c451d948fc4b18a759045",
        "IPY_MODEL_3225e4cd8c394b5d802250e09001ff67",
        "IPY_MODEL_3e479e9fd8cc44aca21214e6bc11d3c3",
        "IPY_MODEL_3a868e571ffc4f39a361ecb18fe4f050",
        "IPY_MODEL_d01872c0de724e86a3e4e1d4b5901608",
        "IPY_MODEL_9957a0679d6144b58f47fbbe659bca0a"
       ],
       "layout": "IPY_MODEL_b2cfc3e060034affa3a076ce83bebf22"
      }
     },
     "ec55c106ddee45a6ad901318d263eb8d": {
      "model_module": "@jupyter-widgets/base",
      "model_module_version": "1.1.0",
      "model_name": "LayoutModel",
      "state": {}
     },
     "f105af50840146dc94b0385a8f0e4844": {
      "model_module": "@jupyter-widgets/controls",
      "model_module_version": "1.4.0",
      "model_name": "CheckboxModel",
      "state": {
       "description": "Perform PCA?",
       "disabled": false,
       "layout": "IPY_MODEL_d1bdd7cf0b9c4e2086ad0b28d3050d61",
       "style": "IPY_MODEL_443b745e3f9c4f4a8aed9bf1ca7d9f2d",
       "value": false
      }
     },
     "f2f9f4113e554a87ada28dbb1a9026d3": {
      "model_module": "@jupyter-widgets/controls",
      "model_module_version": "1.4.0",
      "model_name": "DropdownModel",
      "state": {
       "_options_labels": [
        "None",
        "rbf",
        "nystroem"
       ],
       "description": "Sampler",
       "index": 0,
       "layout": "IPY_MODEL_22f302ad5c934bec8b67dec43dccaf46",
       "style": "IPY_MODEL_022a45a2f42445c3b99adf24043aeb13"
      }
     },
     "f5a449f4eefa4ccfa7137dbcc3e93c6f": {
      "model_module": "@jupyter-widgets/controls",
      "model_module_version": "1.4.0",
      "model_name": "SliderStyleModel",
      "state": {
       "description_width": ""
      }
     },
     "f5f4d567329f4802a565a1989406d574": {
      "model_module": "@jupyter-widgets/base",
      "model_module_version": "1.1.0",
      "model_name": "LayoutModel",
      "state": {
       "visibility": "hidden"
      }
     },
     "f6b3837d2d86444fa737896206e8737b": {
      "model_module": "@jupyter-widgets/controls",
      "model_module_version": "1.4.0",
      "model_name": "DropdownModel",
      "state": {
       "_options_labels": [
        "segment",
        "covertype",
        "digits",
        "fall_detection",
        "mnist",
        "pen_digits",
        "satellite",
        "vowel"
       ],
       "description": "Dataset:",
       "index": 0,
       "layout": "IPY_MODEL_6d02b6b25f4747c3b97128cd60c60958",
       "style": "IPY_MODEL_61866e4ce0894eb9b297fc84a1536b16"
      }
     },
     "f716792a6c9f47ffb14915fbec8a08cf": {
      "model_module": "@jupyter-widgets/base",
      "model_module_version": "1.1.0",
      "model_name": "LayoutModel",
      "state": {}
     },
     "f8449ba7fb3141a29460b42828ab1348": {
      "model_module": "@jupyter-widgets/base",
      "model_module_version": "1.1.0",
      "model_name": "LayoutModel",
      "state": {}
     },
     "f8fca35513334256976b7d7f8fe7c6c7": {
      "model_module": "@jupyter-widgets/controls",
      "model_module_version": "1.4.0",
      "model_name": "DropdownModel",
      "state": {
       "_options_labels": [
        "segment",
        "covertype",
        "digits",
        "fall_detection",
        "mnist",
        "pen_digits",
        "satellite",
        "vowel"
       ],
       "description": "Dataset:",
       "index": 0,
       "layout": "IPY_MODEL_52cd07f4fc1d4291937de7f2230cbeda",
       "style": "IPY_MODEL_2d12e0ce9ccf487ab517d760b8020b5b"
      }
     },
     "faad857ffee640bc81c06ed48ff67ec0": {
      "model_module": "@jupyter-widgets/controls",
      "model_module_version": "1.4.0",
      "model_name": "DescriptionStyleModel",
      "state": {
       "description_width": ""
      }
     },
     "fb42200ba9484ba1a0d2d2f75eac87df": {
      "model_module": "@jupyter-widgets/controls",
      "model_module_version": "1.4.0",
      "model_name": "DropdownModel",
      "state": {
       "_options_labels": [
        "None",
        "rbf",
        "nystroem"
       ],
       "description": "Sampler",
       "index": 0,
       "layout": "IPY_MODEL_98dbfdbe820a4c589e2ad21738913092",
       "style": "IPY_MODEL_4cb87cd32d3946a4bfe888991472457f"
      }
     },
     "fbb220543e164f9b8221812a03dad6ab": {
      "model_module": "@jupyter-widgets/base",
      "model_module_version": "1.1.0",
      "model_name": "LayoutModel",
      "state": {}
     },
     "fc08ef298fa34a83b74683d6d5d478ee": {
      "model_module": "@jupyter-widgets/controls",
      "model_module_version": "1.4.0",
      "model_name": "ButtonModel",
      "state": {
       "button_style": "info",
       "description": "Demo4",
       "layout": "IPY_MODEL_7ac1bfa15358403e8a9073f017a135d3",
       "style": "IPY_MODEL_496d0cf19c5f4847b28087999ef93a06"
      }
     },
     "fe4377132d6d45569fe409903976def0": {
      "model_module": "@jupyter-widgets/controls",
      "model_module_version": "1.4.0",
      "model_name": "DropdownModel",
      "state": {
       "_options_labels": [
        "None",
        "rbf",
        "nystroem"
       ],
       "description": "Sampler",
       "index": 0,
       "layout": "IPY_MODEL_f8449ba7fb3141a29460b42828ab1348",
       "style": "IPY_MODEL_982dba7bcbb247e28b070272db4d82c8"
      }
     }
    },
    "version_major": 2,
    "version_minor": 0
   }
  }
 },
 "nbformat": 4,
 "nbformat_minor": 2
}
