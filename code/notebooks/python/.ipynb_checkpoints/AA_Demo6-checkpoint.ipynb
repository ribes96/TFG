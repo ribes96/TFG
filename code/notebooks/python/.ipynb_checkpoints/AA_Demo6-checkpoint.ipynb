{
 "cells": [
  {
   "cell_type": "code",
   "execution_count": 1,
   "metadata": {},
   "outputs": [],
   "source": [
    "%matplotlib inline"
   ]
  },
  {
   "cell_type": "code",
   "execution_count": 2,
   "metadata": {},
   "outputs": [],
   "source": [
    "#import warnings\n",
    "#warnings.filterwarnings('ignore')\n",
    "#warnings.filterwarnings('once')"
   ]
  },
  {
   "cell_type": "code",
   "execution_count": 3,
   "metadata": {},
   "outputs": [
    {
     "data": {
      "application/javascript": [
       "IPython.OutputArea.prototype._should_scroll = function(lines) {\n",
       "    return false;\n",
       "}\n"
      ],
      "text/plain": [
       "<IPython.core.display.Javascript object>"
      ]
     },
     "metadata": {},
     "output_type": "display_data"
    }
   ],
   "source": [
    "%%javascript\n",
    "IPython.OutputArea.prototype._should_scroll = function(lines) {\n",
    "    return false;\n",
    "}"
   ]
  },
  {
   "cell_type": "code",
   "execution_count": 4,
   "metadata": {},
   "outputs": [],
   "source": [
    "from demo_utils.demo6 import Demo6"
   ]
  },
  {
   "cell_type": "code",
   "execution_count": 5,
   "metadata": {},
   "outputs": [],
   "source": [
    "d = Demo6()"
   ]
  },
  {
   "cell_type": "code",
   "execution_count": 6,
   "metadata": {},
   "outputs": [
    {
     "data": {
      "text/markdown": [
       "# Una demo genérica"
      ],
      "text/plain": [
       "<IPython.core.display.Markdown object>"
      ]
     },
     "metadata": {},
     "output_type": "display_data"
    },
    {
     "data": {
      "application/vnd.jupyter.widget-view+json": {
       "model_id": "c2bbe5da7ef7444185a843a50f00bb31",
       "version_major": 2,
       "version_minor": 0
      },
      "text/plain": [
       "VBox(children=(Dropdown(description='Dataset:', options=('segment', 'covertype', 'digits', 'fall_detection', '…"
      ]
     },
     "metadata": {},
     "output_type": "display_data"
    },
    {
     "data": {
      "application/vnd.jupyter.widget-view+json": {
       "model_id": "f6350ead3ae6475cbff80f9114616a05",
       "version_major": 2,
       "version_minor": 0
      },
      "text/plain": [
       "Output()"
      ]
     },
     "metadata": {},
     "output_type": "display_data"
    },
    {
     "data": {
      "text/html": [],
      "text/plain": [
       "<demo_utils.demo6.Demo6 at 0x7fd494003cf8>"
      ]
     },
     "metadata": {},
     "output_type": "display_data"
    },
    {
     "name": "stderr",
     "output_type": "stream",
     "text": [
      "/home/hobber/.local/lib/python3.6/site-packages/sklearn/linear_model/logistic.py:757: ConvergenceWarning: lbfgs failed to converge. Increase the number of iterations.\n",
      "  \"of iterations.\", ConvergenceWarning)\n",
      "/home/hobber/.local/lib/python3.6/site-packages/sklearn/linear_model/logistic.py:757: ConvergenceWarning: lbfgs failed to converge. Increase the number of iterations.\n",
      "  \"of iterations.\", ConvergenceWarning)\n"
     ]
    }
   ],
   "source": [
    "display(d)"
   ]
  }
 ],
 "metadata": {
  "kernelspec": {
   "display_name": "Python 3",
   "language": "python",
   "name": "python3"
  },
  "language_info": {
   "codemirror_mode": {
    "name": "ipython",
    "version": 3
   },
   "file_extension": ".py",
   "mimetype": "text/x-python",
   "name": "python",
   "nbconvert_exporter": "python",
   "pygments_lexer": "ipython3",
   "version": "3.6.7"
  },
  "widgets": {
   "application/vnd.jupyter.widget-state+json": {
    "state": {
     "00089b487bb8462b95a90247d8422f56": {
      "model_module": "@jupyter-widgets/base",
      "model_module_version": "1.1.0",
      "model_name": "LayoutModel",
      "state": {}
     },
     "000bef0c23474992a96b16131201c61b": {
      "model_module": "@jupyter-widgets/controls",
      "model_module_version": "1.4.0",
      "model_name": "DropdownModel",
      "state": {
       "_options_labels": [
        "dt",
        "logit",
        "linear_svc"
       ],
       "index": 0,
       "layout": "IPY_MODEL_06186afb292f4b079e13c8f048f30967",
       "style": "IPY_MODEL_213bd0cceb764566bc0bf2793fed7710"
      }
     },
     "00236f4b74d94158a78d474d8c798892": {
      "model_module": "@jupyter-widgets/controls",
      "model_module_version": "1.4.0",
      "model_name": "DropdownModel",
      "state": {
       "_options_labels": [
        "None",
        "rbf",
        "nystroem"
       ],
       "index": 0,
       "layout": "IPY_MODEL_2cce2eda73c84264bf857d0deb2ecc1e",
       "style": "IPY_MODEL_87776393f4a84cb6bd8c7a06d38cd268"
      }
     },
     "002ebe1d370142de933202f64c3099fb": {
      "model_module": "@jupyter-widgets/base",
      "model_module_version": "1.1.0",
      "model_name": "LayoutModel",
      "state": {}
     },
     "00372af8d399412388e2a500073cd8c5": {
      "model_module": "@jupyter-widgets/base",
      "model_module_version": "1.1.0",
      "model_name": "LayoutModel",
      "state": {}
     },
     "003e62a1cf1f45438c789e3320ec3eca": {
      "model_module": "@jupyter-widgets/base",
      "model_module_version": "1.1.0",
      "model_name": "LayoutModel",
      "state": {}
     },
     "005003e81d2643f2b951c00969833668": {
      "model_module": "@jupyter-widgets/controls",
      "model_module_version": "1.4.0",
      "model_name": "DescriptionStyleModel",
      "state": {
       "description_width": ""
      }
     },
     "005f3a59be02424fac9edce2859a3c8b": {
      "model_module": "@jupyter-widgets/controls",
      "model_module_version": "1.4.0",
      "model_name": "DescriptionStyleModel",
      "state": {
       "description_width": ""
      }
     },
     "007076192796472cbad90556b97d385a": {
      "model_module": "@jupyter-widgets/controls",
      "model_module_version": "1.4.0",
      "model_name": "IntSliderModel",
      "state": {
       "layout": "IPY_MODEL_9b5692bb9d9c4d4999527b8441c4e832",
       "max": 200,
       "min": 2,
       "style": "IPY_MODEL_574c865442924173847f4c92f84824f0",
       "value": 30
      }
     },
     "00aebe2ff9ee48e68bb3787819fbfb2a": {
      "model_module": "@jupyter-widgets/controls",
      "model_module_version": "1.4.0",
      "model_name": "SliderStyleModel",
      "state": {
       "description_width": ""
      }
     },
     "00c0e8401eab40b088c4226328391e79": {
      "model_module": "@jupyter-widgets/controls",
      "model_module_version": "1.4.0",
      "model_name": "VBoxModel",
      "state": {
       "children": [
        "IPY_MODEL_e41779de0ca249f99eb6cbc3c78e147b",
        "IPY_MODEL_9aeb6b0ebdc5481f8a1e6c25665fb57a"
       ],
       "layout": "IPY_MODEL_c3db1c6b7f6a451fbba38cb76e1fa4cf"
      }
     },
     "00ce0a60a68441b2a75544398a38c77e": {
      "model_module": "@jupyter-widgets/controls",
      "model_module_version": "1.4.0",
      "model_name": "DropdownModel",
      "state": {
       "_options_labels": [
        "None",
        "rbf",
        "nystroem"
       ],
       "index": 1,
       "layout": "IPY_MODEL_7a30f477fc514a29a565390c09d69adc",
       "style": "IPY_MODEL_5755fff9cad64119ad383ad9c456b22b"
      }
     },
     "00dc7a5e168d4593af7244e72dbf5e62": {
      "model_module": "@jupyter-widgets/base",
      "model_module_version": "1.1.0",
      "model_name": "LayoutModel",
      "state": {}
     },
     "00ff0083d4274ddaac831b66388f09fc": {
      "model_module": "@jupyter-widgets/base",
      "model_module_version": "1.1.0",
      "model_name": "LayoutModel",
      "state": {}
     },
     "01086ebdc1ec459e9a817d541a313436": {
      "model_module": "@jupyter-widgets/controls",
      "model_module_version": "1.4.0",
      "model_name": "SliderStyleModel",
      "state": {
       "description_width": ""
      }
     },
     "0110bc01d5514f7d81c63c83961ee47f": {
      "model_module": "@jupyter-widgets/controls",
      "model_module_version": "1.4.0",
      "model_name": "VBoxModel",
      "state": {
       "children": [
        "IPY_MODEL_6992f6816b3f460d81fd0a1437e6871d",
        "IPY_MODEL_7e88a2cb57d84ca2958207f86222a6c0"
       ],
       "layout": "IPY_MODEL_c73f3bceb6bf4dc0b0aa30eaa3745301"
      }
     },
     "01113054bc02494e947caad562e14b13": {
      "model_module": "@jupyter-widgets/base",
      "model_module_version": "1.1.0",
      "model_name": "LayoutModel",
      "state": {}
     },
     "017ff2cc140a48c48968c29b768bbe4f": {
      "model_module": "@jupyter-widgets/base",
      "model_module_version": "1.1.0",
      "model_name": "LayoutModel",
      "state": {}
     },
     "019dad279939498b918e6bb5c3fe9bb0": {
      "model_module": "@jupyter-widgets/base",
      "model_module_version": "1.1.0",
      "model_name": "LayoutModel",
      "state": {}
     },
     "01f004078d424172ad1f8f0a98e560c8": {
      "model_module": "@jupyter-widgets/controls",
      "model_module_version": "1.4.0",
      "model_name": "RadioButtonsModel",
      "state": {
       "_options_labels": [
        "1000",
        "2000",
        "5000",
        "10000"
       ],
       "description": "Size",
       "index": 0,
       "layout": "IPY_MODEL_561a1b25b21045de8bead24cd813c5cc",
       "style": "IPY_MODEL_bcfcefbe54d948d98fb7e7cc60fb4dde"
      }
     },
     "0231c49171b649018d768147ff4b0a3a": {
      "model_module": "@jupyter-widgets/controls",
      "model_module_version": "1.4.0",
      "model_name": "DescriptionStyleModel",
      "state": {
       "description_width": ""
      }
     },
     "02349e60a480416ca8098a1d42cd1817": {
      "model_module": "@jupyter-widgets/base",
      "model_module_version": "1.1.0",
      "model_name": "LayoutModel",
      "state": {
       "visibility": "hidden",
       "width": "300px"
      }
     },
     "023b5779568a49d5890066103509cb7c": {
      "model_module": "@jupyter-widgets/controls",
      "model_module_version": "1.4.0",
      "model_name": "VBoxModel",
      "state": {
       "children": [
        "IPY_MODEL_2c510d739fc345a2a9025aa393eed6f7",
        "IPY_MODEL_913c4916cc85421e8fffa8a0ea7732ee",
        "IPY_MODEL_aa221f9aad3145f4b5a7225f5b9c9b00"
       ],
       "layout": "IPY_MODEL_a3540330ffbd403ead3846ab6ce4f0c1"
      }
     },
     "023f223dca5a4531b5bdbfd499a7ffd4": {
      "model_module": "@jupyter-widgets/base",
      "model_module_version": "1.1.0",
      "model_name": "LayoutModel",
      "state": {
       "border": "3px solid black"
      }
     },
     "024b6afcec0c4ef08318572d0cee43fe": {
      "model_module": "@jupyter-widgets/controls",
      "model_module_version": "1.4.0",
      "model_name": "SliderStyleModel",
      "state": {
       "description_width": ""
      }
     },
     "026288235b604d969f47b34a1c2cb9fb": {
      "model_module": "@jupyter-widgets/controls",
      "model_module_version": "1.4.0",
      "model_name": "DropdownModel",
      "state": {
       "_options_labels": [
        "dt",
        "logit",
        "linear_svc"
       ],
       "index": 0,
       "layout": "IPY_MODEL_de1885682adb4f0fbc5df81cb57ce5f3",
       "style": "IPY_MODEL_96749b25a25646309a49cd1677bcc159"
      }
     },
     "0294f0c5f582491aba3928705d94fbe7": {
      "model_module": "@jupyter-widgets/controls",
      "model_module_version": "1.4.0",
      "model_name": "RadioButtonsModel",
      "state": {
       "_options_labels": [
        "1000",
        "2000",
        "5000",
        "10000"
       ],
       "description": "Size",
       "index": 0,
       "layout": "IPY_MODEL_1756a0cc8475457db3605f6d9d1c5c78",
       "style": "IPY_MODEL_2e666427a9294568b55b78b1e506283e"
      }
     },
     "029f9e896f08417bab95bc5ce5a84060": {
      "model_module": "@jupyter-widgets/controls",
      "model_module_version": "1.4.0",
      "model_name": "DropdownModel",
      "state": {
       "_options_labels": [
        "None",
        "black",
        "grey"
       ],
       "index": 1,
       "layout": "IPY_MODEL_a02bb7d5d4b04607b004c23916d9f4d0",
       "style": "IPY_MODEL_59c34d8335fd4f2caa75f63a5c3247d8"
      }
     },
     "02c737f0a47840bcadd653222a786164": {
      "model_module": "@jupyter-widgets/base",
      "model_module_version": "1.1.0",
      "model_name": "LayoutModel",
      "state": {}
     },
     "02ed64e6ed904546979a888616ba5361": {
      "model_module": "@jupyter-widgets/controls",
      "model_module_version": "1.4.0",
      "model_name": "LabelModel",
      "state": {
       "layout": "IPY_MODEL_963033bc269542b3bd5e9e97a3c01e04",
       "style": "IPY_MODEL_f43378cf57174997b19ff6fa3194c556",
       "value": "Model"
      }
     },
     "030f1cc37e1e4365b666db7121d1056a": {
      "model_module": "@jupyter-widgets/controls",
      "model_module_version": "1.4.0",
      "model_name": "DropdownModel",
      "state": {
       "_options_labels": [
        "dt",
        "logit",
        "linear_svc"
       ],
       "index": 0,
       "layout": "IPY_MODEL_52f24ab66dd549a7982496906e4e7a60",
       "style": "IPY_MODEL_43324a6070e74f13872aa4607b4a5ce5"
      }
     },
     "03256680eeea467dae27c9390491fd42": {
      "model_module": "@jupyter-widgets/base",
      "model_module_version": "1.1.0",
      "model_name": "LayoutModel",
      "state": {}
     },
     "033dac267a1f42af9250e14fdbc1c0ab": {
      "model_module": "@jupyter-widgets/controls",
      "model_module_version": "1.4.0",
      "model_name": "LabelModel",
      "state": {
       "layout": "IPY_MODEL_0bde5c0634d345b8a79c284f301f25bf",
       "style": "IPY_MODEL_1d942dc6eeea4dfbab5b52e80487b82c",
       "value": "PCA?"
      }
     },
     "03442594c19749ac96c8df1d40476708": {
      "model_module": "@jupyter-widgets/controls",
      "model_module_version": "1.4.0",
      "model_name": "DropdownModel",
      "state": {
       "_options_labels": [
        "dt",
        "logit",
        "linear_svc"
       ],
       "index": 0,
       "layout": "IPY_MODEL_7a30f477fc514a29a565390c09d69adc",
       "style": "IPY_MODEL_904d51ff819747009f378709d9627d16"
      }
     },
     "036ee417748842f598af1f9d5fed3715": {
      "model_module": "@jupyter-widgets/controls",
      "model_module_version": "1.4.0",
      "model_name": "ButtonStyleModel",
      "state": {}
     },
     "039dcdce8ecd4ee997f3990b29eaf5ae": {
      "model_module": "@jupyter-widgets/controls",
      "model_module_version": "1.4.0",
      "model_name": "DropdownModel",
      "state": {
       "_options_labels": [
        "None",
        "rbf",
        "nystroem"
       ],
       "index": 2,
       "layout": "IPY_MODEL_a02bb7d5d4b04607b004c23916d9f4d0",
       "style": "IPY_MODEL_d9233a237d264362a98eabec78411f69"
      }
     },
     "03a040474bd649caae2d5e366b2dde75": {
      "model_module": "@jupyter-widgets/base",
      "model_module_version": "1.1.0",
      "model_name": "LayoutModel",
      "state": {}
     },
     "03bcd96ac5d942c09116dfea4ba88109": {
      "model_module": "@jupyter-widgets/controls",
      "model_module_version": "1.4.0",
      "model_name": "DescriptionStyleModel",
      "state": {
       "description_width": ""
      }
     },
     "040db29a4ca845a58693bb65d9f171fa": {
      "model_module": "@jupyter-widgets/base",
      "model_module_version": "1.1.0",
      "model_name": "LayoutModel",
      "state": {}
     },
     "040f7f67faf74ede9d5abb3f1da70a37": {
      "model_module": "@jupyter-widgets/base",
      "model_module_version": "1.1.0",
      "model_name": "LayoutModel",
      "state": {}
     },
     "040fd760c3394a29b88f8c9332f64d83": {
      "model_module": "@jupyter-widgets/base",
      "model_module_version": "1.1.0",
      "model_name": "LayoutModel",
      "state": {
       "visibility": "hidden"
      }
     },
     "044cad848cf3444ab129aaccef0dcb17": {
      "model_module": "@jupyter-widgets/base",
      "model_module_version": "1.1.0",
      "model_name": "LayoutModel",
      "state": {}
     },
     "04c555f5e9114b39bc49fa11e1667982": {
      "model_module": "@jupyter-widgets/controls",
      "model_module_version": "1.4.0",
      "model_name": "DescriptionStyleModel",
      "state": {
       "description_width": ""
      }
     },
     "0531834df3094ff5a548177ffb1bf898": {
      "model_module": "@jupyter-widgets/base",
      "model_module_version": "1.1.0",
      "model_name": "LayoutModel",
      "state": {}
     },
     "0543981fc44a40ba8f81db06b4dda985": {
      "model_module": "@jupyter-widgets/base",
      "model_module_version": "1.1.0",
      "model_name": "LayoutModel",
      "state": {}
     },
     "0567ef9bf8f14a209b9a4108a44820db": {
      "model_module": "@jupyter-widgets/base",
      "model_module_version": "1.1.0",
      "model_name": "LayoutModel",
      "state": {
       "width": "90px"
      }
     },
     "05810d553e0e48d8be7b544400602b98": {
      "model_module": "@jupyter-widgets/controls",
      "model_module_version": "1.4.0",
      "model_name": "DropdownModel",
      "state": {
       "_options_labels": [
        "segment",
        "covertype",
        "digits",
        "fall_detection",
        "mnist",
        "pen_digits",
        "satellite",
        "vowel"
       ],
       "description": "Dataset:",
       "index": 0,
       "layout": "IPY_MODEL_41c265c321eb4cc6bc5ec6b512bdf974",
       "style": "IPY_MODEL_91aba6542ceb4b029b635c20a1609a75"
      }
     },
     "05878f8cc3924eb290bb6072e1e6b094": {
      "model_module": "@jupyter-widgets/controls",
      "model_module_version": "1.4.0",
      "model_name": "LabelModel",
      "state": {
       "layout": "IPY_MODEL_b26eab9a233849c5b0d826a7c0a95f64",
       "style": "IPY_MODEL_1d4f7dae4be44eb197a967050da82fe0",
       "value": "Box Type"
      }
     },
     "05ad2576861a49799014c94c673e7a21": {
      "model_module": "@jupyter-widgets/base",
      "model_module_version": "1.1.0",
      "model_name": "LayoutModel",
      "state": {}
     },
     "05ae4184f91940be9133f23cb5fae4de": {
      "model_module": "@jupyter-widgets/base",
      "model_module_version": "1.1.0",
      "model_name": "LayoutModel",
      "state": {}
     },
     "05bb1f853d994c8e8e7516f609f8e681": {
      "model_module": "@jupyter-widgets/base",
      "model_module_version": "1.1.0",
      "model_name": "LayoutModel",
      "state": {}
     },
     "05d3995e84034d6e81197da9bd3ae595": {
      "model_module": "@jupyter-widgets/controls",
      "model_module_version": "1.4.0",
      "model_name": "DescriptionStyleModel",
      "state": {
       "description_width": ""
      }
     },
     "060a271fa31c4e7285e43bee2c414b1d": {
      "model_module": "@jupyter-widgets/controls",
      "model_module_version": "1.4.0",
      "model_name": "DescriptionStyleModel",
      "state": {
       "description_width": ""
      }
     },
     "060f0e8ca6ef4658af5f2a619e463ee5": {
      "model_module": "@jupyter-widgets/output",
      "model_module_version": "1.0.0",
      "model_name": "OutputModel",
      "state": {
       "layout": "IPY_MODEL_50cd06184e3a481c9ca6e843c53a9bd4"
      }
     },
     "06166485206046de97e86b6f509960b2": {
      "model_module": "@jupyter-widgets/controls",
      "model_module_version": "1.4.0",
      "model_name": "DescriptionStyleModel",
      "state": {
       "description_width": ""
      }
     },
     "06186afb292f4b079e13c8f048f30967": {
      "model_module": "@jupyter-widgets/base",
      "model_module_version": "1.1.0",
      "model_name": "LayoutModel",
      "state": {
       "width": "90px"
      }
     },
     "0620f2a602b14eff83e6beb2aa8c7953": {
      "model_module": "@jupyter-widgets/controls",
      "model_module_version": "1.4.0",
      "model_name": "LabelModel",
      "state": {
       "layout": "IPY_MODEL_62be0cad78434b4099c887737e864643",
       "style": "IPY_MODEL_abc03cc5d7554559a8d95e519346a98d",
       "value": "Box Type"
      }
     },
     "0638d4be43bc42dd9a6c9f75fd06744b": {
      "model_module": "@jupyter-widgets/controls",
      "model_module_version": "1.4.0",
      "model_name": "LabelModel",
      "state": {
       "layout": "IPY_MODEL_57b2817233be4709a89d3ecc92629cff",
       "style": "IPY_MODEL_ae231278ed3a475ab3d2789390e9bbe6",
       "value": "Number Estimators"
      }
     },
     "0641151589824290b829950f1be25d23": {
      "model_module": "@jupyter-widgets/controls",
      "model_module_version": "1.4.0",
      "model_name": "DropdownModel",
      "state": {
       "_options_labels": [
        "dt",
        "logit",
        "linear_svc"
       ],
       "index": 0,
       "layout": "IPY_MODEL_b1b10cb9ceb3434191bc9e5cd668b707",
       "style": "IPY_MODEL_d536055dec904f29b5ad9e2a8b05f3e3"
      }
     },
     "06571ec70ffa4162bcc731b1f4387fd3": {
      "model_module": "@jupyter-widgets/controls",
      "model_module_version": "1.4.0",
      "model_name": "DescriptionStyleModel",
      "state": {
       "description_width": ""
      }
     },
     "0684f32af9914ae3b1e6725c8a0b3103": {
      "model_module": "@jupyter-widgets/controls",
      "model_module_version": "1.4.0",
      "model_name": "HBoxModel",
      "state": {
       "children": [
        "IPY_MODEL_cc06b80a074a45c6a9b0dbf6be9ad3e8",
        "IPY_MODEL_78235e36d0244a2f90f976bb79a1a42b",
        "IPY_MODEL_775bc19a581640b09d462f7ef044d4e6",
        "IPY_MODEL_85589a5514e9472d96def8951fd90999",
        "IPY_MODEL_cf513442eae641818758a92dc52391ec"
       ],
       "layout": "IPY_MODEL_f117e9b0624844dfb32a5ffd4343279b"
      }
     },
     "068520a453a24761b6d2e8d96753144f": {
      "model_module": "@jupyter-widgets/base",
      "model_module_version": "1.1.0",
      "model_name": "LayoutModel",
      "state": {
       "border": "3px solid black"
      }
     },
     "06e000d9e8054fbb9ee2546f5b092368": {
      "model_module": "@jupyter-widgets/controls",
      "model_module_version": "1.4.0",
      "model_name": "VBoxModel",
      "state": {
       "children": [
        "IPY_MODEL_448cc62774e6493b8a28a87d44c72660",
        "IPY_MODEL_5429d17d368643fab29fa925dc9f56a8",
        "IPY_MODEL_6da86d0008894ae6bba70bc6354bbd1c",
        "IPY_MODEL_c247ac36f4134f5cbac623caef3b2a33",
        "IPY_MODEL_97616fb8405b469fa9c229db6ea37941",
        "IPY_MODEL_fac4ab7e666847cda6e53501e9981dca",
        "IPY_MODEL_eb5d9a05ced240219bd63c3b23b0b12b"
       ],
       "layout": "IPY_MODEL_c25530aa081a4ae7a8271dfe96eda410"
      }
     },
     "06ee08b47c0c4fd7b64d3b295628df69": {
      "model_module": "@jupyter-widgets/base",
      "model_module_version": "1.1.0",
      "model_name": "LayoutModel",
      "state": {}
     },
     "071706e808c74a34a7913744d602fdeb": {
      "model_module": "@jupyter-widgets/controls",
      "model_module_version": "1.4.0",
      "model_name": "DropdownModel",
      "state": {
       "_options_labels": [
        "dt",
        "logit",
        "linear_svc"
       ],
       "index": 0,
       "layout": "IPY_MODEL_80685696a13a44d9a8b415ab0d3bed8c",
       "style": "IPY_MODEL_6a8b123cee7342f5b1aff682083ae500"
      }
     },
     "074c3c40550f444d803bc37b9e056d48": {
      "model_module": "@jupyter-widgets/controls",
      "model_module_version": "1.4.0",
      "model_name": "DescriptionStyleModel",
      "state": {
       "description_width": ""
      }
     },
     "075370bea5c341bda83a7bf07a96cb96": {
      "model_module": "@jupyter-widgets/controls",
      "model_module_version": "1.4.0",
      "model_name": "DescriptionStyleModel",
      "state": {
       "description_width": ""
      }
     },
     "076ce1df297d4e0dae8350743c42f766": {
      "model_module": "@jupyter-widgets/controls",
      "model_module_version": "1.4.0",
      "model_name": "VBoxModel",
      "state": {
       "children": [
        "IPY_MODEL_66bae36f2f7648b8bca2a59c6ed52475",
        "IPY_MODEL_01f004078d424172ad1f8f0a98e560c8",
        "IPY_MODEL_9272750883bf45438bb93c47d30f4826",
        "IPY_MODEL_f877bb96ad0d4b8a973edb6d6e1f32f9",
        "IPY_MODEL_7e0571001cdc496ab2bc91d7a19e2a51",
        "IPY_MODEL_403ca66de28d486ea2ec902eb5591761",
        "IPY_MODEL_7492aca7b37447cf9eae497a70b20453"
       ],
       "layout": "IPY_MODEL_f8a23c87c82b48689c13aa6a46c48c7a"
      }
     },
     "076e80d440c948589b826603b76e82ba": {
      "model_module": "@jupyter-widgets/controls",
      "model_module_version": "1.4.0",
      "model_name": "DescriptionStyleModel",
      "state": {
       "description_width": ""
      }
     },
     "07a711f0e12c423594b186922c4d5519": {
      "model_module": "@jupyter-widgets/controls",
      "model_module_version": "1.4.0",
      "model_name": "DropdownModel",
      "state": {
       "_options_labels": [
        "None",
        "black",
        "grey"
       ],
       "index": 2,
       "layout": "IPY_MODEL_ae1eb173b14d4a2ba6c893c5644dc707",
       "style": "IPY_MODEL_08fc5ea0628b4e1d8eae2e114d269691"
      }
     },
     "07f04216344342bf9a68d4f7ad8593cf": {
      "model_module": "@jupyter-widgets/controls",
      "model_module_version": "1.4.0",
      "model_name": "CheckboxModel",
      "state": {
       "disabled": false,
       "layout": "IPY_MODEL_cc081932e28d48f19dae2a15004aa7d6",
       "style": "IPY_MODEL_a342160dfb7442208793db4b5dcb7b82",
       "value": false
      }
     },
     "0831f57e22a74ef8a51c1dce3299d64c": {
      "model_module": "@jupyter-widgets/controls",
      "model_module_version": "1.4.0",
      "model_name": "SliderStyleModel",
      "state": {
       "description_width": ""
      }
     },
     "084f74167bd445309b2e8c40f6b943d3": {
      "model_module": "@jupyter-widgets/controls",
      "model_module_version": "1.4.0",
      "model_name": "SliderStyleModel",
      "state": {
       "description_width": ""
      }
     },
     "0897d391bbd4491483bd71845e8edaef": {
      "model_module": "@jupyter-widgets/controls",
      "model_module_version": "1.4.0",
      "model_name": "DescriptionStyleModel",
      "state": {
       "description_width": ""
      }
     },
     "08a6df6f43aa49b2b318f7fd884a804f": {
      "model_module": "@jupyter-widgets/controls",
      "model_module_version": "1.4.0",
      "model_name": "DropdownModel",
      "state": {
       "_options_labels": [
        "segment",
        "covertype",
        "digits",
        "fall_detection",
        "mnist",
        "pen_digits",
        "satellite",
        "vowel"
       ],
       "description": "Dataset:",
       "index": 0,
       "layout": "IPY_MODEL_44f85cc6d19048abace17f258c322807",
       "style": "IPY_MODEL_781cdbe711fe443eb7586f69dee4cc35"
      }
     },
     "08bbcddc29454385a5199d0136b9729e": {
      "model_module": "@jupyter-widgets/base",
      "model_module_version": "1.1.0",
      "model_name": "LayoutModel",
      "state": {}
     },
     "08cb34307276499db2fd40f4ad4d5a20": {
      "model_module": "@jupyter-widgets/controls",
      "model_module_version": "1.4.0",
      "model_name": "VBoxModel",
      "state": {
       "children": [
        "IPY_MODEL_05810d553e0e48d8be7b544400602b98",
        "IPY_MODEL_565e3a9f50d144c08b19f980431b3859",
        "IPY_MODEL_7e50345ed2354fe9b61195870a13355d",
        "IPY_MODEL_caf0492cb14e475b8e5f699e17b966bc",
        "IPY_MODEL_b45d2b3c146d495c876c56650499f382",
        "IPY_MODEL_1644bf7bac22454c8eade883e887bdb7",
        "IPY_MODEL_857029bb62794614adf30f1739789aad"
       ],
       "layout": "IPY_MODEL_00ff0083d4274ddaac831b66388f09fc"
      }
     },
     "08fc5ea0628b4e1d8eae2e114d269691": {
      "model_module": "@jupyter-widgets/controls",
      "model_module_version": "1.4.0",
      "model_name": "DescriptionStyleModel",
      "state": {
       "description_width": ""
      }
     },
     "09411f75fbc84b51afa7db4ea36c3515": {
      "model_module": "@jupyter-widgets/base",
      "model_module_version": "1.1.0",
      "model_name": "LayoutModel",
      "state": {}
     },
     "0941402368194dc9a5dd50c827a6f239": {
      "model_module": "@jupyter-widgets/controls",
      "model_module_version": "1.4.0",
      "model_name": "LabelModel",
      "state": {
       "layout": "IPY_MODEL_7233649bdc294578be431e6a830657d9",
       "style": "IPY_MODEL_f4a6e51cfef740e3b874e6220f93d43d",
       "value": "Number Estimators"
      }
     },
     "09a7ad0164e547f08efb5cba80f0f996": {
      "model_module": "@jupyter-widgets/controls",
      "model_module_version": "1.4.0",
      "model_name": "LabelModel",
      "state": {
       "layout": "IPY_MODEL_4d8e90bd7ec34ee38035e739eaff788e",
       "style": "IPY_MODEL_3df88db439794c34b35c0b9092e242a6",
       "value": "Sampler"
      }
     },
     "09cd661efb7147aba0a2940aa3986074": {
      "model_module": "@jupyter-widgets/controls",
      "model_module_version": "1.4.0",
      "model_name": "IntSliderModel",
      "state": {
       "disabled": true,
       "layout": "IPY_MODEL_ef22fce8deb04a87887aa9bb4a11b19d",
       "max": 200,
       "min": 2,
       "style": "IPY_MODEL_64b6e5616b214fdca4d8de2ad3cb94f7",
       "value": 30
      }
     },
     "09d6af41955f40f083d8c35f7143d41f": {
      "model_module": "@jupyter-widgets/controls",
      "model_module_version": "1.4.0",
      "model_name": "RadioButtonsModel",
      "state": {
       "_options_labels": [
        "1000",
        "2000",
        "5000",
        "10000"
       ],
       "description": "Size",
       "index": 0,
       "layout": "IPY_MODEL_c585b4f816f3467e965a1562d3ae50c1",
       "style": "IPY_MODEL_dd6482a4b155493f8bdc0f5824bc403b"
      }
     },
     "09f89c6dbf0e4749995294a5be2c22b5": {
      "model_module": "@jupyter-widgets/controls",
      "model_module_version": "1.4.0",
      "model_name": "CheckboxModel",
      "state": {
       "disabled": false,
       "layout": "IPY_MODEL_5865de9dd40d48eda70ac93558e850dd",
       "style": "IPY_MODEL_e244bea2d3ae46df96ccef19ae426a12",
       "value": false
      }
     },
     "09fde76825874cc7b07c1bca5d47b2c0": {
      "model_module": "@jupyter-widgets/base",
      "model_module_version": "1.1.0",
      "model_name": "LayoutModel",
      "state": {}
     },
     "0a48b435c52a4367814a732b92b94c30": {
      "model_module": "@jupyter-widgets/controls",
      "model_module_version": "1.4.0",
      "model_name": "DescriptionStyleModel",
      "state": {
       "description_width": ""
      }
     },
     "0a5202c32c5b4ee6894470b9f36b21cc": {
      "model_module": "@jupyter-widgets/base",
      "model_module_version": "1.1.0",
      "model_name": "LayoutModel",
      "state": {}
     },
     "0a5869bfb48645218b7927912c3de22f": {
      "model_module": "@jupyter-widgets/controls",
      "model_module_version": "1.4.0",
      "model_name": "ButtonModel",
      "state": {
       "button_style": "info",
       "description": "Demo0",
       "layout": "IPY_MODEL_d856c5d2ebca4fdcafdca7a909cc9e56",
       "style": "IPY_MODEL_5377ab40046b4caa91085cf068a305be"
      }
     },
     "0a65613881484a4aae989aff0a5334a8": {
      "model_module": "@jupyter-widgets/base",
      "model_module_version": "1.1.0",
      "model_name": "LayoutModel",
      "state": {}
     },
     "0ac2bb0706e34529b0b845806844bcbc": {
      "model_module": "@jupyter-widgets/controls",
      "model_module_version": "1.4.0",
      "model_name": "ButtonStyleModel",
      "state": {}
     },
     "0ae8ae93770844fcb12059e2c42d6a7a": {
      "model_module": "@jupyter-widgets/controls",
      "model_module_version": "1.4.0",
      "model_name": "DescriptionStyleModel",
      "state": {
       "description_width": ""
      }
     },
     "0af9ef181302475e908e829b050de247": {
      "model_module": "@jupyter-widgets/controls",
      "model_module_version": "1.4.0",
      "model_name": "SliderStyleModel",
      "state": {
       "description_width": ""
      }
     },
     "0afd449cebbb4fd1839d14b4e1952737": {
      "model_module": "@jupyter-widgets/controls",
      "model_module_version": "1.4.0",
      "model_name": "DescriptionStyleModel",
      "state": {
       "description_width": ""
      }
     },
     "0b2ffbe54275423587308c9fa847da0b": {
      "model_module": "@jupyter-widgets/base",
      "model_module_version": "1.1.0",
      "model_name": "LayoutModel",
      "state": {}
     },
     "0b59efdc8b3646fdbb150ed3ee916098": {
      "model_module": "@jupyter-widgets/controls",
      "model_module_version": "1.4.0",
      "model_name": "RadioButtonsModel",
      "state": {
       "_options_labels": [
        "1000",
        "2000",
        "5000",
        "10000"
       ],
       "description": "Size",
       "index": 0,
       "layout": "IPY_MODEL_4d57fec1ab7043f8a201a324e847e265",
       "style": "IPY_MODEL_8e9f22c5896e40a998e7b0761dea9238"
      }
     },
     "0b8a596cdba24fde9ebb392822625237": {
      "model_module": "@jupyter-widgets/controls",
      "model_module_version": "1.4.0",
      "model_name": "LabelModel",
      "state": {
       "layout": "IPY_MODEL_09fde76825874cc7b07c1bca5d47b2c0",
       "style": "IPY_MODEL_7eced888c7864d288820fa53370ba9bf",
       "value": "Box Type"
      }
     },
     "0bde5c0634d345b8a79c284f301f25bf": {
      "model_module": "@jupyter-widgets/base",
      "model_module_version": "1.1.0",
      "model_name": "LayoutModel",
      "state": {}
     },
     "0be5264f8a7245dba620cd2cdcbfa7fd": {
      "model_module": "@jupyter-widgets/base",
      "model_module_version": "1.1.0",
      "model_name": "LayoutModel",
      "state": {}
     },
     "0bf3ff9f943f4424876e1d9fbd0ca334": {
      "model_module": "@jupyter-widgets/controls",
      "model_module_version": "1.4.0",
      "model_name": "LabelModel",
      "state": {
       "layout": "IPY_MODEL_9c0a800537c74e09bc4c14f006f8ee95",
       "style": "IPY_MODEL_2df172ec14e649dd8bc050caa0d4a23c",
       "value": "Model"
      }
     },
     "0c1311143c8648b8b00f8fef871f62a8": {
      "model_module": "@jupyter-widgets/base",
      "model_module_version": "1.1.0",
      "model_name": "LayoutModel",
      "state": {}
     },
     "0c1be07ba5f646558c73822a51a38ce4": {
      "model_module": "@jupyter-widgets/controls",
      "model_module_version": "1.4.0",
      "model_name": "DescriptionStyleModel",
      "state": {
       "description_width": ""
      }
     },
     "0c35313fb8544f63b7c5a060efa31c22": {
      "model_module": "@jupyter-widgets/controls",
      "model_module_version": "1.4.0",
      "model_name": "DropdownModel",
      "state": {
       "_options_labels": [
        "None",
        "rbf",
        "nystroem"
       ],
       "index": 1,
       "layout": "IPY_MODEL_06186afb292f4b079e13c8f048f30967",
       "style": "IPY_MODEL_3c4947453ed44c869687126407bc4c25"
      }
     },
     "0c354f4f42cd44e99c58b12500f35050": {
      "model_module": "@jupyter-widgets/controls",
      "model_module_version": "1.4.0",
      "model_name": "ButtonModel",
      "state": {
       "button_style": "info",
       "description": "Demo0",
       "layout": "IPY_MODEL_5df2353468da403d94001fd70bcf44ee",
       "style": "IPY_MODEL_f2618354624d44cda0cebf72e0b3942d"
      }
     },
     "0c9b805e5d534502bd21f918ce96ac15": {
      "model_module": "@jupyter-widgets/controls",
      "model_module_version": "1.4.0",
      "model_name": "ButtonStyleModel",
      "state": {}
     },
     "0cb83a5b4896436f91d4f98babaa6dcb": {
      "model_module": "@jupyter-widgets/base",
      "model_module_version": "1.1.0",
      "model_name": "LayoutModel",
      "state": {
       "visibility": "hidden"
      }
     },
     "0cdc115ba6c54b008161061fc4ea4f09": {
      "model_module": "@jupyter-widgets/base",
      "model_module_version": "1.1.0",
      "model_name": "LayoutModel",
      "state": {}
     },
     "0d02073bf9f94d7c98f893d557052818": {
      "model_module": "@jupyter-widgets/controls",
      "model_module_version": "1.4.0",
      "model_name": "VBoxModel",
      "state": {
       "children": [
        "IPY_MODEL_05878f8cc3924eb290bb6072e1e6b094",
        "IPY_MODEL_2983e16813fa4b6aaf8dd2a02efb0241"
       ],
       "layout": "IPY_MODEL_76d3d9ff5f964e7da1bea67089066223"
      }
     },
     "0d514d15baa045ddb9a1adceb44bdc8a": {
      "model_module": "@jupyter-widgets/base",
      "model_module_version": "1.1.0",
      "model_name": "LayoutModel",
      "state": {}
     },
     "0d8aa8d289c445eabbb64f82cb355dd6": {
      "model_module": "@jupyter-widgets/base",
      "model_module_version": "1.1.0",
      "model_name": "LayoutModel",
      "state": {}
     },
     "0da6aa991a3840ae98a60db0f3477aec": {
      "model_module": "@jupyter-widgets/controls",
      "model_module_version": "1.4.0",
      "model_name": "DescriptionStyleModel",
      "state": {
       "description_width": ""
      }
     },
     "0e243e8f9af84367b8b370ea708ee9c2": {
      "model_module": "@jupyter-widgets/controls",
      "model_module_version": "1.4.0",
      "model_name": "DescriptionStyleModel",
      "state": {
       "description_width": ""
      }
     },
     "0e38821d73b24ccba0e997ea07876f5f": {
      "model_module": "@jupyter-widgets/controls",
      "model_module_version": "1.4.0",
      "model_name": "DescriptionStyleModel",
      "state": {
       "description_width": ""
      }
     },
     "0e4cc6a85451412d9b2f9a197e3cecea": {
      "model_module": "@jupyter-widgets/base",
      "model_module_version": "1.1.0",
      "model_name": "LayoutModel",
      "state": {
       "border": "3px solid black"
      }
     },
     "0ea2e1554801486b890d84fd366e5e5e": {
      "model_module": "@jupyter-widgets/controls",
      "model_module_version": "1.4.0",
      "model_name": "ButtonStyleModel",
      "state": {}
     },
     "0ed105a1a9d644f88ed7a264c5ff7055": {
      "model_module": "@jupyter-widgets/controls",
      "model_module_version": "1.4.0",
      "model_name": "DescriptionStyleModel",
      "state": {
       "description_width": ""
      }
     },
     "0f107addcc7941bb85b594a6873051bb": {
      "model_module": "@jupyter-widgets/controls",
      "model_module_version": "1.4.0",
      "model_name": "RadioButtonsModel",
      "state": {
       "_options_labels": [
        "1000",
        "2000",
        "5000",
        "10000"
       ],
       "description": "Size",
       "index": 0,
       "layout": "IPY_MODEL_ae7cb061ab2a446084a5f6811217c12a",
       "style": "IPY_MODEL_812493f1a9724faf917707a1d4182771"
      }
     },
     "0f5e282694194b37b23c6a73212490d5": {
      "model_module": "@jupyter-widgets/base",
      "model_module_version": "1.1.0",
      "model_name": "LayoutModel",
      "state": {}
     },
     "0f6b4552882f40ddaeb131fcb297c7b3": {
      "model_module": "@jupyter-widgets/base",
      "model_module_version": "1.1.0",
      "model_name": "LayoutModel",
      "state": {}
     },
     "0f78802d360b42e0a6db9df4003882b3": {
      "model_module": "@jupyter-widgets/controls",
      "model_module_version": "1.4.0",
      "model_name": "DropdownModel",
      "state": {
       "_options_labels": [
        "None",
        "black",
        "grey"
       ],
       "index": 0,
       "layout": "IPY_MODEL_66624664b4c448a98ca37a79baa3d3ac",
       "style": "IPY_MODEL_768af75c53364082846d210389c24f9c"
      }
     },
     "0f99e8511f174df2b8fa39404542e550": {
      "model_module": "@jupyter-widgets/controls",
      "model_module_version": "1.4.0",
      "model_name": "IntSliderModel",
      "state": {
       "disabled": true,
       "layout": "IPY_MODEL_97ee6b0636bd41f4ab74b210e74773b5",
       "max": 200,
       "min": 2,
       "style": "IPY_MODEL_1f81bf9b18cc46f9a0e2793255a8fc40",
       "value": 30
      }
     },
     "0fa9e916fbee4020b9cb50420e2eb18e": {
      "model_module": "@jupyter-widgets/controls",
      "model_module_version": "1.4.0",
      "model_name": "DropdownModel",
      "state": {
       "_options_labels": [
        "segment",
        "covertype",
        "digits",
        "fall_detection",
        "mnist",
        "pen_digits",
        "satellite",
        "vowel"
       ],
       "description": "Dataset:",
       "index": 0,
       "layout": "IPY_MODEL_455d04f51a8d4b5d8a6a1e102b30ecaa",
       "style": "IPY_MODEL_601e6b4a11d642f5a2b807fb64ed85e5"
      }
     },
     "0fc1a4747589466da936908c814f74c4": {
      "model_module": "@jupyter-widgets/controls",
      "model_module_version": "1.4.0",
      "model_name": "DescriptionStyleModel",
      "state": {
       "description_width": ""
      }
     },
     "0fe0a984398e48b69f46fa638aeb9fc6": {
      "model_module": "@jupyter-widgets/controls",
      "model_module_version": "1.4.0",
      "model_name": "ButtonStyleModel",
      "state": {}
     },
     "101f86a19d1849dab0aa552bfad11a64": {
      "model_module": "@jupyter-widgets/controls",
      "model_module_version": "1.4.0",
      "model_name": "ButtonModel",
      "state": {
       "button_style": "info",
       "description": "Add model",
       "layout": "IPY_MODEL_5fa291ca790f437a8d70d514297d489e",
       "style": "IPY_MODEL_749854c745fd470da7d157e380bee720"
      }
     },
     "102939928a734bd4a130ce32d32c1f49": {
      "model_module": "@jupyter-widgets/controls",
      "model_module_version": "1.4.0",
      "model_name": "DescriptionStyleModel",
      "state": {
       "description_width": ""
      }
     },
     "103638e09bd3412eb14b38d9cfe09b18": {
      "model_module": "@jupyter-widgets/controls",
      "model_module_version": "1.4.0",
      "model_name": "DescriptionStyleModel",
      "state": {
       "description_width": ""
      }
     },
     "1055745b9b1f491aae7fb9d07714cf05": {
      "model_module": "@jupyter-widgets/controls",
      "model_module_version": "1.4.0",
      "model_name": "VBoxModel",
      "state": {
       "children": [
        "IPY_MODEL_1cda5a5e9da644e29a47e6123ce9185f",
        "IPY_MODEL_95dec0ef70ae40d2b3ec70423af89caf",
        "IPY_MODEL_000bef0c23474992a96b16131201c61b"
       ],
       "layout": "IPY_MODEL_cd51020898d24c54be4f37807f67234d"
      }
     },
     "107686d8813b417bb6094dee1dadac79": {
      "model_module": "@jupyter-widgets/controls",
      "model_module_version": "1.4.0",
      "model_name": "RadioButtonsModel",
      "state": {
       "_options_labels": [
        "1000",
        "2000",
        "5000",
        "10000"
       ],
       "description": "Size",
       "index": 0,
       "layout": "IPY_MODEL_e9428834a14e49de8d60b22653daf61b",
       "style": "IPY_MODEL_fef4cb388d1a433192a44a63ad581470"
      }
     },
     "10be7b4aff9344c3ba1e2f33715ef17b": {
      "model_module": "@jupyter-widgets/controls",
      "model_module_version": "1.4.0",
      "model_name": "DropdownModel",
      "state": {
       "_options_labels": [
        "None",
        "rbf",
        "nystroem"
       ],
       "index": 0,
       "layout": "IPY_MODEL_b10b7462f6824902ac11acbd93aa6d3a",
       "style": "IPY_MODEL_4da8ea53fd1d4804b7bdcc4c18d070e8"
      }
     },
     "10e238dcb64e4c2e94a1ab89baef2a7f": {
      "model_module": "@jupyter-widgets/controls",
      "model_module_version": "1.4.0",
      "model_name": "SliderStyleModel",
      "state": {
       "description_width": ""
      }
     },
     "1153d7748c7a4fbe9af7b2b37191a961": {
      "model_module": "@jupyter-widgets/controls",
      "model_module_version": "1.4.0",
      "model_name": "IntRangeSliderModel",
      "state": {
       "_model_name": "IntRangeSliderModel",
       "_view_name": "IntRangeSliderView",
       "disabled": true,
       "layout": "IPY_MODEL_bb871a427b544a72b19bb0f8cc56427f",
       "max": 400,
       "min": 30,
       "step": 10,
       "style": "IPY_MODEL_3c6ebc7c07ae463d930c4e2206b38fdc",
       "value": [
        30,
        100
       ]
      }
     },
     "118bef4bfbb045e199fecf24ddaa1eaa": {
      "model_module": "@jupyter-widgets/controls",
      "model_module_version": "1.4.0",
      "model_name": "CheckboxModel",
      "state": {
       "disabled": false,
       "layout": "IPY_MODEL_291875961b3048208b2c8723c506d998",
       "style": "IPY_MODEL_e10d1ef1732141e4adbadf62ceed4cb8",
       "value": false
      }
     },
     "11942f660d024c60949c864929c54e06": {
      "model_module": "@jupyter-widgets/controls",
      "model_module_version": "1.4.0",
      "model_name": "LabelModel",
      "state": {
       "layout": "IPY_MODEL_00dc7a5e168d4593af7244e72dbf5e62",
       "style": "IPY_MODEL_e5aafcfd648e4536b49f8adae1f58500",
       "value": "Sampler"
      }
     },
     "11a47fc64d034d22b5490d10ccc7fd7f": {
      "model_module": "@jupyter-widgets/base",
      "model_module_version": "1.1.0",
      "model_name": "LayoutModel",
      "state": {}
     },
     "11a67cc59f5d408b97d9c5429ac4d553": {
      "model_module": "@jupyter-widgets/base",
      "model_module_version": "1.1.0",
      "model_name": "LayoutModel",
      "state": {}
     },
     "11ac91dd1f174ea7a429f8f780b14b8c": {
      "model_module": "@jupyter-widgets/base",
      "model_module_version": "1.1.0",
      "model_name": "LayoutModel",
      "state": {}
     },
     "11c5ef98dac740ffacdedbceb67a8278": {
      "model_module": "@jupyter-widgets/controls",
      "model_module_version": "1.4.0",
      "model_name": "DescriptionStyleModel",
      "state": {
       "description_width": ""
      }
     },
     "1202d6397e5d42eab4e8c0c817e0590d": {
      "model_module": "@jupyter-widgets/base",
      "model_module_version": "1.1.0",
      "model_name": "LayoutModel",
      "state": {}
     },
     "12120fef756f4dc49ffd7f8e5ff37a0f": {
      "model_module": "@jupyter-widgets/base",
      "model_module_version": "1.1.0",
      "model_name": "LayoutModel",
      "state": {
       "visibility": "hidden"
      }
     },
     "125313a25b584ae980fb4289d5cefaf0": {
      "model_module": "@jupyter-widgets/base",
      "model_module_version": "1.1.0",
      "model_name": "LayoutModel",
      "state": {}
     },
     "1264d001e68642799f007e0158a12162": {
      "model_module": "@jupyter-widgets/controls",
      "model_module_version": "1.4.0",
      "model_name": "VBoxModel",
      "state": {
       "children": [
        "IPY_MODEL_c2bc8afa1c7845bd840a84578fbf3c8f",
        "IPY_MODEL_efb451c79aa74621a9f4af262955b569"
       ],
       "layout": "IPY_MODEL_d93a2e6b7f2a45b8b7ddbc5d39f99b37"
      }
     },
     "126eb62018e84fa5ab53ff8470d07e06": {
      "model_module": "@jupyter-widgets/controls",
      "model_module_version": "1.4.0",
      "model_name": "VBoxModel",
      "state": {
       "children": [
        "IPY_MODEL_d0bf8ae77bb648669e32102f99c2f08e",
        "IPY_MODEL_eafc6db0f3634f009430e10c79cd85ef"
       ],
       "layout": "IPY_MODEL_e95cec37168c4301bcbaa2413690e558"
      }
     },
     "1274e4afa8a640dcb583376dadd6bbbc": {
      "model_module": "@jupyter-widgets/base",
      "model_module_version": "1.1.0",
      "model_name": "LayoutModel",
      "state": {}
     },
     "127c1976c4c44793ac52badbaa475904": {
      "model_module": "@jupyter-widgets/controls",
      "model_module_version": "1.4.0",
      "model_name": "LabelModel",
      "state": {
       "layout": "IPY_MODEL_2bed48dbcb7c4e0293b8297da2b0cbab",
       "style": "IPY_MODEL_fb14f546a1e241649c77e16833a8b84d",
       "value": "Sampler"
      }
     },
     "12adba2c14044ffd87d03ed5e9d9b87f": {
      "model_module": "@jupyter-widgets/controls",
      "model_module_version": "1.4.0",
      "model_name": "DescriptionStyleModel",
      "state": {
       "description_width": ""
      }
     },
     "12b712cfee334cf5addc59bfd1cb1b96": {
      "model_module": "@jupyter-widgets/base",
      "model_module_version": "1.1.0",
      "model_name": "LayoutModel",
      "state": {}
     },
     "12bd50aee49f47dcb81524051eda35ef": {
      "model_module": "@jupyter-widgets/base",
      "model_module_version": "1.1.0",
      "model_name": "LayoutModel",
      "state": {}
     },
     "12e31532f0914c6c9398208563cf4988": {
      "model_module": "@jupyter-widgets/base",
      "model_module_version": "1.1.0",
      "model_name": "LayoutModel",
      "state": {}
     },
     "12ff92fbcf29420ab5d538e1009d5f5f": {
      "model_module": "@jupyter-widgets/controls",
      "model_module_version": "1.4.0",
      "model_name": "ButtonModel",
      "state": {
       "button_style": "info",
       "description": "Add model",
       "layout": "IPY_MODEL_cdeeec6746664590ac4af7bdd09e3cac",
       "style": "IPY_MODEL_8b98e6acf4144a5482ea2d693ce05542"
      }
     },
     "1333c8edc3f349c6b20fc9be5a3607de": {
      "model_module": "@jupyter-widgets/base",
      "model_module_version": "1.1.0",
      "model_name": "LayoutModel",
      "state": {}
     },
     "1340c88f8d6545b7ac9babc3e56a600b": {
      "model_module": "@jupyter-widgets/controls",
      "model_module_version": "1.4.0",
      "model_name": "LabelModel",
      "state": {
       "layout": "IPY_MODEL_0a65613881484a4aae989aff0a5334a8",
       "style": "IPY_MODEL_d05278b88ee8491c92d7bc2ee162cbc8",
       "value": "Sampler"
      }
     },
     "1347fdb761b64b85be8d65ce9b81a8e2": {
      "model_module": "@jupyter-widgets/base",
      "model_module_version": "1.1.0",
      "model_name": "LayoutModel",
      "state": {
       "border": "3px solid black"
      }
     },
     "138f2b1f59e34351b5e2fd2beb0e66b5": {
      "model_module": "@jupyter-widgets/controls",
      "model_module_version": "1.4.0",
      "model_name": "VBoxModel",
      "state": {
       "children": [
        "IPY_MODEL_6bbf779f708047cbabb19a5690519d87",
        "IPY_MODEL_a4bf4ed96a2d42a09383b11b3f0a3a08"
       ],
       "layout": "IPY_MODEL_6f743e94a6374556932849ebf01cf4e8"
      }
     },
     "139349f74d1b417bb4d74196dc0cd9c7": {
      "model_module": "@jupyter-widgets/controls",
      "model_module_version": "1.4.0",
      "model_name": "ButtonModel",
      "state": {
       "button_style": "info",
       "description": "Demo0",
       "layout": "IPY_MODEL_aac8e27da4d9495da69001b52be82948",
       "style": "IPY_MODEL_b7f5a1861ae048da9ab7939605438583"
      }
     },
     "141eaa2a7f40484a8c92f3dccf69ec45": {
      "model_module": "@jupyter-widgets/base",
      "model_module_version": "1.1.0",
      "model_name": "LayoutModel",
      "state": {}
     },
     "141eedd58ebe48f3a1781a04d3e150ad": {
      "model_module": "@jupyter-widgets/controls",
      "model_module_version": "1.4.0",
      "model_name": "SliderStyleModel",
      "state": {
       "description_width": ""
      }
     },
     "143d2e5e707c40a9a458b1c4ecc3f158": {
      "model_module": "@jupyter-widgets/controls",
      "model_module_version": "1.4.0",
      "model_name": "VBoxModel",
      "state": {
       "children": [
        "IPY_MODEL_4b29a11575d44d699550a04e31518969",
        "IPY_MODEL_fae8c9a85b614718acaf2ab2f0cfa6a1"
       ],
       "layout": "IPY_MODEL_b6a94dfc372e4a20bbfd1e243bf9c148"
      }
     },
     "145fb28f43b24976a5b349fcdd618495": {
      "model_module": "@jupyter-widgets/controls",
      "model_module_version": "1.4.0",
      "model_name": "DropdownModel",
      "state": {
       "_options_labels": [
        "dt",
        "logit",
        "linear_svc"
       ],
       "index": 0,
       "layout": "IPY_MODEL_b7dc5a5610f54dd2a332fd9fe04bd3b1",
       "style": "IPY_MODEL_81d0f25eeb5f44b3b36f78277526003d"
      }
     },
     "1481fd9eb7bf4830b897c15569f77892": {
      "model_module": "@jupyter-widgets/controls",
      "model_module_version": "1.4.0",
      "model_name": "SliderStyleModel",
      "state": {
       "description_width": ""
      }
     },
     "153f168a23dd45ad915436bdf5738cf3": {
      "model_module": "@jupyter-widgets/controls",
      "model_module_version": "1.4.0",
      "model_name": "ButtonStyleModel",
      "state": {}
     },
     "1548491a2baa4963a0937b66f4694ab3": {
      "model_module": "@jupyter-widgets/controls",
      "model_module_version": "1.4.0",
      "model_name": "DescriptionStyleModel",
      "state": {
       "description_width": ""
      }
     },
     "15b65ef0335d4a5ab329dc541efd66b9": {
      "model_module": "@jupyter-widgets/base",
      "model_module_version": "1.1.0",
      "model_name": "LayoutModel",
      "state": {}
     },
     "15bb9631796241dea8aa86988f48d2e6": {
      "model_module": "@jupyter-widgets/controls",
      "model_module_version": "1.4.0",
      "model_name": "DescriptionStyleModel",
      "state": {
       "description_width": ""
      }
     },
     "15c4d198407949899f63128068ebd3d3": {
      "model_module": "@jupyter-widgets/controls",
      "model_module_version": "1.4.0",
      "model_name": "DescriptionStyleModel",
      "state": {
       "description_width": ""
      }
     },
     "15c7d15c9c09473fb3ecb5296348940d": {
      "model_module": "@jupyter-widgets/base",
      "model_module_version": "1.1.0",
      "model_name": "LayoutModel",
      "state": {}
     },
     "15ddc24d58fe4ebbafccefc11191b5b7": {
      "model_module": "@jupyter-widgets/base",
      "model_module_version": "1.1.0",
      "model_name": "LayoutModel",
      "state": {}
     },
     "15ea1897f12041a2ac5f85cc8f2986dc": {
      "model_module": "@jupyter-widgets/controls",
      "model_module_version": "1.4.0",
      "model_name": "IntRangeSliderModel",
      "state": {
       "_model_name": "IntRangeSliderModel",
       "_view_name": "IntRangeSliderView",
       "layout": "IPY_MODEL_d7fd4109fae7408b9bb886fc37fa4657",
       "max": 400,
       "min": 30,
       "step": 10,
       "style": "IPY_MODEL_a1f9514a5bc343e18e016784aaaf9135",
       "value": [
        30,
        70
       ]
      }
     },
     "16094337d78e4ed8adabf18f5e7081e2": {
      "model_module": "@jupyter-widgets/controls",
      "model_module_version": "1.4.0",
      "model_name": "IntRangeSliderModel",
      "state": {
       "_model_name": "IntRangeSliderModel",
       "_view_name": "IntRangeSliderView",
       "disabled": true,
       "layout": "IPY_MODEL_e044596f5d98424b96f1221c93a9b85e",
       "max": 400,
       "min": 30,
       "step": 10,
       "style": "IPY_MODEL_257c7d749aba4e609676aef78339c0b1",
       "value": [
        30,
        100
       ]
      }
     },
     "1644bf7bac22454c8eade883e887bdb7": {
      "model_module": "@jupyter-widgets/controls",
      "model_module_version": "1.4.0",
      "model_name": "HBoxModel",
      "state": {
       "children": [
        "IPY_MODEL_6128a54338304aa59a0b1b0476a08a74",
        "IPY_MODEL_8ddfeff171b54b9fb008c2740f247985",
        "IPY_MODEL_a0f626d61dce4301addf9163408a971e",
        "IPY_MODEL_2426dfaba06c468d8a796210bd94957f",
        "IPY_MODEL_59084b7dc9024c3faed09310554210bb"
       ],
       "layout": "IPY_MODEL_bc06845670014e7884b1e34a76858035"
      }
     },
     "169591001c53448999142733812532d1": {
      "model_module": "@jupyter-widgets/base",
      "model_module_version": "1.1.0",
      "model_name": "LayoutModel",
      "state": {}
     },
     "16a0e88b2b0c4d1fb2000e81172974ee": {
      "model_module": "@jupyter-widgets/base",
      "model_module_version": "1.1.0",
      "model_name": "LayoutModel",
      "state": {
       "visibility": "hidden",
       "width": "300px"
      }
     },
     "17161b9090fa4636be99d443817b4afb": {
      "model_module": "@jupyter-widgets/controls",
      "model_module_version": "1.4.0",
      "model_name": "SliderStyleModel",
      "state": {
       "description_width": ""
      }
     },
     "172627fac0db4a1fa549a99aa811adca": {
      "model_module": "@jupyter-widgets/controls",
      "model_module_version": "1.4.0",
      "model_name": "VBoxModel",
      "state": {
       "children": [
        "IPY_MODEL_ea52ab00226c419f9afa10e635c8f3ae",
        "IPY_MODEL_6449f31ea33a4c42bf0df24d27d065a4"
       ],
       "layout": "IPY_MODEL_9c97a5afda844dc1b2858c37c8f652af"
      }
     },
     "1756a0cc8475457db3605f6d9d1c5c78": {
      "model_module": "@jupyter-widgets/base",
      "model_module_version": "1.1.0",
      "model_name": "LayoutModel",
      "state": {}
     },
     "175aa8c0267642ffb1fc74dd03ad4287": {
      "model_module": "@jupyter-widgets/base",
      "model_module_version": "1.1.0",
      "model_name": "LayoutModel",
      "state": {}
     },
     "17b1c6ead89043658a671b98dba12bf4": {
      "model_module": "@jupyter-widgets/controls",
      "model_module_version": "1.4.0",
      "model_name": "DescriptionStyleModel",
      "state": {
       "description_width": ""
      }
     },
     "17e6acae78204a32ade87c002ac13abc": {
      "model_module": "@jupyter-widgets/controls",
      "model_module_version": "1.4.0",
      "model_name": "DropdownModel",
      "state": {
       "_options_labels": [
        "dt",
        "logit",
        "linear_svc"
       ],
       "index": 0,
       "layout": "IPY_MODEL_5419c3d541c743f8988d1e8a11f49224",
       "style": "IPY_MODEL_3a0610db34a246f79d2d02e353cb762b"
      }
     },
     "17f82deeff14416f98bff27b052c55bc": {
      "model_module": "@jupyter-widgets/controls",
      "model_module_version": "1.4.0",
      "model_name": "DescriptionStyleModel",
      "state": {
       "description_width": ""
      }
     },
     "17fcd25a9dac45ee83e06e08a7623fec": {
      "model_module": "@jupyter-widgets/controls",
      "model_module_version": "1.4.0",
      "model_name": "LabelModel",
      "state": {
       "layout": "IPY_MODEL_ffd4909aa6274bf5951f1df88f673f0d",
       "style": "IPY_MODEL_9aa088cab70e45d8a40d2cfeebac1e24",
       "value": "Model"
      }
     },
     "17fd3c297087479fa9d836d90baeb821": {
      "model_module": "@jupyter-widgets/controls",
      "model_module_version": "1.4.0",
      "model_name": "DescriptionStyleModel",
      "state": {
       "description_width": ""
      }
     },
     "1807e71bf08140bda1f53f2a8694c359": {
      "model_module": "@jupyter-widgets/base",
      "model_module_version": "1.1.0",
      "model_name": "LayoutModel",
      "state": {}
     },
     "181913190aca4f758d40db09834bb9b9": {
      "model_module": "@jupyter-widgets/controls",
      "model_module_version": "1.4.0",
      "model_name": "HBoxModel",
      "state": {
       "children": [
        "IPY_MODEL_126eb62018e84fa5ab53ff8470d07e06",
        "IPY_MODEL_31918a36cd954c2f9b7ca7664cf75ba9",
        "IPY_MODEL_658de351c5f149ecacf2985b8b94346a",
        "IPY_MODEL_54b21d9cf88945a5889e8498478d96e4",
        "IPY_MODEL_dbfe8d51a67b486a83f1db439affa46a"
       ],
       "layout": "IPY_MODEL_a3f7a719770943a3840a40512df9c9f3"
      }
     },
     "181b178656b442cc9e21d39d7eb82cfa": {
      "model_module": "@jupyter-widgets/controls",
      "model_module_version": "1.4.0",
      "model_name": "ButtonStyleModel",
      "state": {}
     },
     "182efd33d2a04e408c7fb6cbca882f54": {
      "model_module": "@jupyter-widgets/controls",
      "model_module_version": "1.4.0",
      "model_name": "VBoxModel",
      "state": {
       "children": [
        "IPY_MODEL_447ff1ca53814f2fba6183ec638e7e46",
        "IPY_MODEL_00236f4b74d94158a78d474d8c798892",
        "IPY_MODEL_5e94971646364e398fc693718b94e9b5"
       ],
       "layout": "IPY_MODEL_f20f2ffc527b4bbeb2b48cd794166161"
      }
     },
     "1860d096bfea417689cf225ffda07312": {
      "model_module": "@jupyter-widgets/controls",
      "model_module_version": "1.4.0",
      "model_name": "DropdownModel",
      "state": {
       "_options_labels": [
        "dt",
        "logit",
        "linear_svc"
       ],
       "index": 0,
       "layout": "IPY_MODEL_0567ef9bf8f14a209b9a4108a44820db",
       "style": "IPY_MODEL_59920c0f810c40bca303b9b1033e3ac5"
      }
     },
     "1865398603174689b166e68c6e7be882": {
      "model_module": "@jupyter-widgets/output",
      "model_module_version": "1.0.0",
      "model_name": "OutputModel",
      "state": {
       "layout": "IPY_MODEL_983908c3bd904ab1b512b6f5f1163dc7",
       "outputs": [
        {
         "data": {
          "text/markdown": "\n- Dataset: **segment**\n- Size: **1000**\n        ",
          "text/plain": "<IPython.core.display.Markdown object>"
         },
         "metadata": {},
         "output_type": "display_data"
        },
        {
         "data": {
          "image/png": "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\n",
          "text/plain": "<Figure size 921.6x345.6 with 2 Axes>"
         },
         "metadata": {},
         "output_type": "display_data"
        }
       ]
      }
     },
     "188f90d44e874e549fc43b4ff69d31f9": {
      "model_module": "@jupyter-widgets/controls",
      "model_module_version": "1.4.0",
      "model_name": "RadioButtonsModel",
      "state": {
       "_options_labels": [
        "1000",
        "2000",
        "5000",
        "10000"
       ],
       "description": "Size",
       "index": 0,
       "layout": "IPY_MODEL_b53805f25e8047a099408f206a4481b3",
       "style": "IPY_MODEL_89fbc1ff70b2407ebf3ed2b334a5d956"
      }
     },
     "192356e46da8402cafe311c89e932238": {
      "model_module": "@jupyter-widgets/controls",
      "model_module_version": "1.4.0",
      "model_name": "IntSliderModel",
      "state": {
       "disabled": true,
       "layout": "IPY_MODEL_969ab75f06b54d71a528c84e0c400a61",
       "max": 200,
       "min": 2,
       "style": "IPY_MODEL_5d740c2a32e647fbb2c5c5e2c5497e65",
       "value": 30
      }
     },
     "193075be1fa843d3a7a816d72c9a0375": {
      "model_module": "@jupyter-widgets/controls",
      "model_module_version": "1.4.0",
      "model_name": "DescriptionStyleModel",
      "state": {
       "description_width": ""
      }
     },
     "19609ab6643946f8b62a221a12d81809": {
      "model_module": "@jupyter-widgets/controls",
      "model_module_version": "1.4.0",
      "model_name": "DescriptionStyleModel",
      "state": {
       "description_width": ""
      }
     },
     "198fa92c6e2441f58453236dc023945b": {
      "model_module": "@jupyter-widgets/controls",
      "model_module_version": "1.4.0",
      "model_name": "VBoxModel",
      "state": {
       "children": [
        "IPY_MODEL_e33bde5e919b465d85fd91003369c732",
        "IPY_MODEL_ce060362cff3412b94a42c19263559d4"
       ],
       "layout": "IPY_MODEL_c7b4e223c0084ea4bcbeed4dad59a18d"
      }
     },
     "19c3662a35954f56aca5b09048d5287a": {
      "model_module": "@jupyter-widgets/controls",
      "model_module_version": "1.4.0",
      "model_name": "IntRangeSliderModel",
      "state": {
       "_model_name": "IntRangeSliderModel",
       "_view_name": "IntRangeSliderView",
       "disabled": true,
       "layout": "IPY_MODEL_69e5bc70e97e4848bbc9d2f8461c7abf",
       "max": 400,
       "min": 30,
       "step": 10,
       "style": "IPY_MODEL_a39c5e04ee1543dfaac989b114a7d6ad",
       "value": [
        30,
        100
       ]
      }
     },
     "19e1838ec09c4966ad10d6f4245c3ed7": {
      "model_module": "@jupyter-widgets/controls",
      "model_module_version": "1.4.0",
      "model_name": "DropdownModel",
      "state": {
       "_options_labels": [
        "dt",
        "logit",
        "linear_svc"
       ],
       "index": 0,
       "layout": "IPY_MODEL_db74b3e608f84214b10412b95b934c08",
       "style": "IPY_MODEL_60f2e1acd39744f28ab9c9961c2bf6b4"
      }
     },
     "1a390723a2ca49be9eeba5595ab9c6a4": {
      "model_module": "@jupyter-widgets/base",
      "model_module_version": "1.1.0",
      "model_name": "LayoutModel",
      "state": {}
     },
     "1a69860cc51c43b480f57f5283a41405": {
      "model_module": "@jupyter-widgets/controls",
      "model_module_version": "1.4.0",
      "model_name": "SliderStyleModel",
      "state": {
       "description_width": ""
      }
     },
     "1a720ce61be741c9b59659bbe150fcda": {
      "model_module": "@jupyter-widgets/controls",
      "model_module_version": "1.4.0",
      "model_name": "DescriptionStyleModel",
      "state": {
       "description_width": ""
      }
     },
     "1a76399e97614c929d63049dc9fcbff4": {
      "model_module": "@jupyter-widgets/base",
      "model_module_version": "1.1.0",
      "model_name": "LayoutModel",
      "state": {}
     },
     "1a7d08c8e71142ca8b17002e0473f531": {
      "model_module": "@jupyter-widgets/controls",
      "model_module_version": "1.4.0",
      "model_name": "CheckboxModel",
      "state": {
       "disabled": false,
       "layout": "IPY_MODEL_9b50682b1baa42cfa3319bd87a771200",
       "style": "IPY_MODEL_ccd712ca957c4209aeb498234f38d0fc",
       "value": false
      }
     },
     "1a84120c576644c9b73ba46f51960ff1": {
      "model_module": "@jupyter-widgets/controls",
      "model_module_version": "1.4.0",
      "model_name": "DescriptionStyleModel",
      "state": {
       "description_width": ""
      }
     },
     "1aa8aae24e6e4f128d38124dd723924c": {
      "model_module": "@jupyter-widgets/controls",
      "model_module_version": "1.4.0",
      "model_name": "ButtonModel",
      "state": {
       "button_style": "info",
       "description": "Add model",
       "layout": "IPY_MODEL_427385aa184c4020b1481fc68fbf3cc6",
       "style": "IPY_MODEL_30983de46e1b4af0bb1409f63a2db3a1"
      }
     },
     "1aad9b45bfe94a33b573efdfd88690a3": {
      "model_module": "@jupyter-widgets/base",
      "model_module_version": "1.1.0",
      "model_name": "LayoutModel",
      "state": {}
     },
     "1ab20a7559774e609863154e87b7896d": {
      "model_module": "@jupyter-widgets/base",
      "model_module_version": "1.1.0",
      "model_name": "LayoutModel",
      "state": {
       "width": "90px"
      }
     },
     "1ac9622aae704215a6eb1ff51573cca9": {
      "model_module": "@jupyter-widgets/controls",
      "model_module_version": "1.4.0",
      "model_name": "VBoxModel",
      "state": {
       "children": [
        "IPY_MODEL_70e24b0dd61143ffac5b8807fac1dc95",
        "IPY_MODEL_e37dbdd781934bb3bf79fbd4d75d0d2f",
        "IPY_MODEL_24d9a1c124d0485eb949d2f7d1b29a68"
       ],
       "layout": "IPY_MODEL_436e6a6748f5473a910a2465bc77f928"
      }
     },
     "1acaf4af871243bbb05e0c84c421d5b6": {
      "model_module": "@jupyter-widgets/controls",
      "model_module_version": "1.4.0",
      "model_name": "DescriptionStyleModel",
      "state": {
       "description_width": ""
      }
     },
     "1b09bb97c5f147cc880cbf11ead9bf75": {
      "model_module": "@jupyter-widgets/controls",
      "model_module_version": "1.4.0",
      "model_name": "IntSliderModel",
      "state": {
       "layout": "IPY_MODEL_5d9a9c31081348418729b6324977bdf7",
       "max": 200,
       "min": 2,
       "style": "IPY_MODEL_084f74167bd445309b2e8c40f6b943d3",
       "value": 9
      }
     },
     "1b3c2761865743c88cb13603c93f7348": {
      "model_module": "@jupyter-widgets/controls",
      "model_module_version": "1.4.0",
      "model_name": "DropdownModel",
      "state": {
       "_options_labels": [
        "None",
        "rbf",
        "nystroem"
       ],
       "index": 1,
       "layout": "IPY_MODEL_ae1eb173b14d4a2ba6c893c5644dc707",
       "style": "IPY_MODEL_a97597dc149a4719a4420c2b10032915"
      }
     },
     "1b52487bc76049b4b09a3020e532599b": {
      "model_module": "@jupyter-widgets/controls",
      "model_module_version": "1.4.0",
      "model_name": "VBoxModel",
      "state": {
       "children": [
        "IPY_MODEL_d13e40d283794584a509b12c91c99187",
        "IPY_MODEL_bb32e32e349c4796a00674a5540f5fc6",
        "IPY_MODEL_145fb28f43b24976a5b349fcdd618495"
       ],
       "layout": "IPY_MODEL_c67a40bb4eb249859fb98a4b5927df28"
      }
     },
     "1bbf390941cc4326bc022f73e5203493": {
      "model_module": "@jupyter-widgets/controls",
      "model_module_version": "1.4.0",
      "model_name": "ButtonModel",
      "state": {
       "button_style": "info",
       "description": "Demo0",
       "layout": "IPY_MODEL_264daf90ea9a4d3891f29c3f7e69948a",
       "style": "IPY_MODEL_26d41c90f3eb4c0f92534537db833877"
      }
     },
     "1c34eca7e89d404cad89e4fe31df3606": {
      "model_module": "@jupyter-widgets/base",
      "model_module_version": "1.1.0",
      "model_name": "LayoutModel",
      "state": {}
     },
     "1c6ac0ca06354362b6476cf37461ea7a": {
      "model_module": "@jupyter-widgets/controls",
      "model_module_version": "1.4.0",
      "model_name": "LabelModel",
      "state": {
       "layout": "IPY_MODEL_4a5956e87d144e958fd273c23ab26f00",
       "style": "IPY_MODEL_8a4c4989b1e84d27acbdb4fb9219609f",
       "value": "Sampler"
      }
     },
     "1c71eff304eb4c6287fea6599ef107d9": {
      "model_module": "@jupyter-widgets/base",
      "model_module_version": "1.1.0",
      "model_name": "LayoutModel",
      "state": {
       "visibility": "hidden"
      }
     },
     "1cda5a5e9da644e29a47e6123ce9185f": {
      "model_module": "@jupyter-widgets/controls",
      "model_module_version": "1.4.0",
      "model_name": "LabelModel",
      "state": {
       "layout": "IPY_MODEL_a8ad821ec969447296e4fa579914ecdd",
       "style": "IPY_MODEL_955b432fd2b64a8db390988fdf2a657a",
       "value": "Model"
      }
     },
     "1d194720ce3f4763a2fee498aee50126": {
      "model_module": "@jupyter-widgets/base",
      "model_module_version": "1.1.0",
      "model_name": "LayoutModel",
      "state": {}
     },
     "1d4f7dae4be44eb197a967050da82fe0": {
      "model_module": "@jupyter-widgets/controls",
      "model_module_version": "1.4.0",
      "model_name": "DescriptionStyleModel",
      "state": {
       "description_width": ""
      }
     },
     "1d750e08e1724fd7b88e92ade47e0ad6": {
      "model_module": "@jupyter-widgets/controls",
      "model_module_version": "1.4.0",
      "model_name": "ButtonStyleModel",
      "state": {}
     },
     "1d7d9f3ded524d84b7247d823dfb7696": {
      "model_module": "@jupyter-widgets/controls",
      "model_module_version": "1.4.0",
      "model_name": "ButtonModel",
      "state": {
       "button_style": "info",
       "description": "Demo0",
       "layout": "IPY_MODEL_d679f1470c424910b362296d6cad785b",
       "style": "IPY_MODEL_7b6785d410a14c3da6a83cee7a074929"
      }
     },
     "1d942dc6eeea4dfbab5b52e80487b82c": {
      "model_module": "@jupyter-widgets/controls",
      "model_module_version": "1.4.0",
      "model_name": "DescriptionStyleModel",
      "state": {
       "description_width": ""
      }
     },
     "1dff0fb982674853997eefc5431cbbec": {
      "model_module": "@jupyter-widgets/controls",
      "model_module_version": "1.4.0",
      "model_name": "LabelModel",
      "state": {
       "layout": "IPY_MODEL_e7a0b31496bf4b8d8a4c5cded107b503",
       "style": "IPY_MODEL_9cad3d051b1d417eb37c9ff3cfdfce6c",
       "value": "PCA?"
      }
     },
     "1e52ac7ce10045c982781b07843914df": {
      "model_module": "@jupyter-widgets/base",
      "model_module_version": "1.1.0",
      "model_name": "LayoutModel",
      "state": {
       "visibility": "hidden",
       "width": "300px"
      }
     },
     "1e6efed95e944396a05274211c8681f7": {
      "model_module": "@jupyter-widgets/controls",
      "model_module_version": "1.4.0",
      "model_name": "ButtonModel",
      "state": {
       "button_style": "info",
       "description": "Demo0",
       "layout": "IPY_MODEL_c6f28da7d90d4d7d9e8e05acb6034d0c",
       "style": "IPY_MODEL_44824de817694b048f372f2c5d62e72a"
      }
     },
     "1ebfe9f7205a4789a4c43317e485583c": {
      "model_module": "@jupyter-widgets/controls",
      "model_module_version": "1.4.0",
      "model_name": "DropdownModel",
      "state": {
       "_options_labels": [
        "dt",
        "logit",
        "linear_svc"
       ],
       "index": 0,
       "layout": "IPY_MODEL_1ab20a7559774e609863154e87b7896d",
       "style": "IPY_MODEL_46472fc2ac024d5a8c39d468ec8793e8"
      }
     },
     "1f25b0407087470cb5b6dc55ce9e4f8e": {
      "model_module": "@jupyter-widgets/base",
      "model_module_version": "1.1.0",
      "model_name": "LayoutModel",
      "state": {}
     },
     "1f6010039ad44f97820166e5b7cffe5d": {
      "model_module": "@jupyter-widgets/base",
      "model_module_version": "1.1.0",
      "model_name": "LayoutModel",
      "state": {}
     },
     "1f79e4a90876471aa1b74eed7d421ba7": {
      "model_module": "@jupyter-widgets/controls",
      "model_module_version": "1.4.0",
      "model_name": "DescriptionStyleModel",
      "state": {
       "description_width": ""
      }
     },
     "1f81bf9b18cc46f9a0e2793255a8fc40": {
      "model_module": "@jupyter-widgets/controls",
      "model_module_version": "1.4.0",
      "model_name": "SliderStyleModel",
      "state": {
       "description_width": ""
      }
     },
     "1f878563fa83488ba35e84f93111fd21": {
      "model_module": "@jupyter-widgets/controls",
      "model_module_version": "1.4.0",
      "model_name": "DescriptionStyleModel",
      "state": {
       "description_width": ""
      }
     },
     "1fd281f3739e4231af6537108b059f0f": {
      "model_module": "@jupyter-widgets/base",
      "model_module_version": "1.1.0",
      "model_name": "LayoutModel",
      "state": {}
     },
     "1fdf98d085a645d6827bdd8d0d268f78": {
      "model_module": "@jupyter-widgets/controls",
      "model_module_version": "1.4.0",
      "model_name": "DescriptionStyleModel",
      "state": {
       "description_width": ""
      }
     },
     "202b2b0d34544c068b313cb29506ef9d": {
      "model_module": "@jupyter-widgets/controls",
      "model_module_version": "1.4.0",
      "model_name": "DescriptionStyleModel",
      "state": {
       "description_width": ""
      }
     },
     "202f2dfe08984e2b904d52dada50df5d": {
      "model_module": "@jupyter-widgets/controls",
      "model_module_version": "1.4.0",
      "model_name": "CheckboxModel",
      "state": {
       "disabled": false,
       "layout": "IPY_MODEL_2ebdf59569c249f0a212cf32ab032440",
       "style": "IPY_MODEL_435a35eb30a54c2287c48d1c188a56d8",
       "value": false
      }
     },
     "20504ac79e9b488bb66afc4284482037": {
      "model_module": "@jupyter-widgets/base",
      "model_module_version": "1.1.0",
      "model_name": "LayoutModel",
      "state": {}
     },
     "20a1b5fad1694644911a46377147054b": {
      "model_module": "@jupyter-widgets/controls",
      "model_module_version": "1.4.0",
      "model_name": "VBoxModel",
      "state": {
       "children": [
        "IPY_MODEL_d061c873d35b4b6ab3e0a724ba16aebf",
        "IPY_MODEL_188f90d44e874e549fc43b4ff69d31f9",
        "IPY_MODEL_a458bb5d7a5a42548dffa95d21c4ddc6",
        "IPY_MODEL_5a4a7a1e52084da38ae297fc3ca2032e",
        "IPY_MODEL_19c3662a35954f56aca5b09048d5287a",
        "IPY_MODEL_c733a75865f748c19db4c22d5bfc053d",
        "IPY_MODEL_4cc140be68854ab29dfd54f1a7da4e3e"
       ],
       "layout": "IPY_MODEL_49d649c0145e405580dad05ea5e8668c"
      }
     },
     "20cbc8cf121547e8b56d5c0e46fa5c1d": {
      "model_module": "@jupyter-widgets/controls",
      "model_module_version": "1.4.0",
      "model_name": "DescriptionStyleModel",
      "state": {
       "description_width": ""
      }
     },
     "20ea71c027dd422ca3c9d673ffb8ee6e": {
      "model_module": "@jupyter-widgets/base",
      "model_module_version": "1.1.0",
      "model_name": "LayoutModel",
      "state": {}
     },
     "20f580609091431a9d92de9ad84461fd": {
      "model_module": "@jupyter-widgets/base",
      "model_module_version": "1.1.0",
      "model_name": "LayoutModel",
      "state": {}
     },
     "20fb3cacc4014dc6b7742e66c2b05efd": {
      "model_module": "@jupyter-widgets/base",
      "model_module_version": "1.1.0",
      "model_name": "LayoutModel",
      "state": {}
     },
     "2111fed91db04649b793c378c72f6c0b": {
      "model_module": "@jupyter-widgets/controls",
      "model_module_version": "1.4.0",
      "model_name": "DescriptionStyleModel",
      "state": {
       "description_width": ""
      }
     },
     "211a02e870aa49ec96d1fc7970936f20": {
      "model_module": "@jupyter-widgets/controls",
      "model_module_version": "1.4.0",
      "model_name": "CheckboxModel",
      "state": {
       "disabled": false,
       "layout": "IPY_MODEL_03a040474bd649caae2d5e366b2dde75",
       "style": "IPY_MODEL_8714ea2095c94907a4f21d44ef6f3d88",
       "value": false
      }
     },
     "2135cba4ffc349d1ab7eee060d4325e5": {
      "model_module": "@jupyter-widgets/base",
      "model_module_version": "1.1.0",
      "model_name": "LayoutModel",
      "state": {}
     },
     "213bd0cceb764566bc0bf2793fed7710": {
      "model_module": "@jupyter-widgets/controls",
      "model_module_version": "1.4.0",
      "model_name": "DescriptionStyleModel",
      "state": {
       "description_width": ""
      }
     },
     "21439d87e41e431097f2261155bde057": {
      "model_module": "@jupyter-widgets/base",
      "model_module_version": "1.1.0",
      "model_name": "LayoutModel",
      "state": {}
     },
     "21518ee5b1134913853ba9dce7575e43": {
      "model_module": "@jupyter-widgets/controls",
      "model_module_version": "1.4.0",
      "model_name": "DescriptionStyleModel",
      "state": {
       "description_width": ""
      }
     },
     "218fefe5d9e94e52904ce5df37919de8": {
      "model_module": "@jupyter-widgets/controls",
      "model_module_version": "1.4.0",
      "model_name": "ButtonStyleModel",
      "state": {}
     },
     "21ac4ed74dca48cead141a03655c2099": {
      "model_module": "@jupyter-widgets/controls",
      "model_module_version": "1.4.0",
      "model_name": "ButtonStyleModel",
      "state": {}
     },
     "21af1d2007e8426c8b7e1eb2f4639c12": {
      "model_module": "@jupyter-widgets/base",
      "model_module_version": "1.1.0",
      "model_name": "LayoutModel",
      "state": {
       "visibility": "visible"
      }
     },
     "21b229d406ff4420a508d93d4f89f509": {
      "model_module": "@jupyter-widgets/controls",
      "model_module_version": "1.4.0",
      "model_name": "DescriptionStyleModel",
      "state": {
       "description_width": ""
      }
     },
     "221e147c3dbd466a8c7edc5f345e40bd": {
      "model_module": "@jupyter-widgets/base",
      "model_module_version": "1.1.0",
      "model_name": "LayoutModel",
      "state": {}
     },
     "2264b508a9dc4a7ab01306560eaa3714": {
      "model_module": "@jupyter-widgets/controls",
      "model_module_version": "1.4.0",
      "model_name": "DescriptionStyleModel",
      "state": {
       "description_width": ""
      }
     },
     "228fbcd6e49244b6a6ff3abcf43aeb62": {
      "model_module": "@jupyter-widgets/controls",
      "model_module_version": "1.4.0",
      "model_name": "IntSliderModel",
      "state": {
       "disabled": true,
       "layout": "IPY_MODEL_83ac3822628344bba75380284a0c5a2b",
       "max": 200,
       "min": 2,
       "style": "IPY_MODEL_62c59712e8f5463eb0829c286fd9252b",
       "value": 30
      }
     },
     "2301a713903446d59a686f28bd377aba": {
      "model_module": "@jupyter-widgets/base",
      "model_module_version": "1.1.0",
      "model_name": "LayoutModel",
      "state": {}
     },
     "2319818a10394eb3913ecf32d8563fb1": {
      "model_module": "@jupyter-widgets/controls",
      "model_module_version": "1.4.0",
      "model_name": "DropdownModel",
      "state": {
       "_options_labels": [
        "None",
        "rbf",
        "nystroem"
       ],
       "index": 0,
       "layout": "IPY_MODEL_0567ef9bf8f14a209b9a4108a44820db",
       "style": "IPY_MODEL_12adba2c14044ffd87d03ed5e9d9b87f"
      }
     },
     "234cd9c471ab4f60b06908e0aaa14fad": {
      "model_module": "@jupyter-widgets/base",
      "model_module_version": "1.1.0",
      "model_name": "LayoutModel",
      "state": {}
     },
     "238cb1f59f0649dbbecbd2b2a3e9c495": {
      "model_module": "@jupyter-widgets/controls",
      "model_module_version": "1.4.0",
      "model_name": "CheckboxModel",
      "state": {
       "disabled": false,
       "layout": "IPY_MODEL_395d5e4f5f904723ad74778a7bf566be",
       "style": "IPY_MODEL_0a48b435c52a4367814a732b92b94c30",
       "value": false
      }
     },
     "23dddfbfc7b54e25856d57a4db13f902": {
      "model_module": "@jupyter-widgets/controls",
      "model_module_version": "1.4.0",
      "model_name": "DescriptionStyleModel",
      "state": {
       "description_width": ""
      }
     },
     "23f5d1de97ee4be6a2dcbc0c2c5e705d": {
      "model_module": "@jupyter-widgets/controls",
      "model_module_version": "1.4.0",
      "model_name": "DropdownModel",
      "state": {
       "_options_labels": [
        "None",
        "black",
        "grey"
       ],
       "index": 0,
       "layout": "IPY_MODEL_3eb8423aba994603a97b2dedb51d81e5",
       "style": "IPY_MODEL_7a7d04f0465c4da698181462a682d1fa"
      }
     },
     "23fc077cf6044597a3f2fd4f8f81110b": {
      "model_module": "@jupyter-widgets/base",
      "model_module_version": "1.1.0",
      "model_name": "LayoutModel",
      "state": {}
     },
     "2407923d783b4411ad5b652a114b9057": {
      "model_module": "@jupyter-widgets/controls",
      "model_module_version": "1.4.0",
      "model_name": "LabelModel",
      "state": {
       "layout": "IPY_MODEL_925f9c721b2c45a3a08d536475005328",
       "style": "IPY_MODEL_ed0850778e6c43cf95116f8a12562494",
       "value": "Sampler"
      }
     },
     "2426dfaba06c468d8a796210bd94957f": {
      "model_module": "@jupyter-widgets/controls",
      "model_module_version": "1.4.0",
      "model_name": "VBoxModel",
      "state": {
       "children": [
        "IPY_MODEL_bd6b664e43c34c8caff6414c6cce4862",
        "IPY_MODEL_d0e0d8763db54296a655da18fc437ccc"
       ],
       "layout": "IPY_MODEL_34c55455c5e44522b9c4a5cadf6a8c02"
      }
     },
     "2436897584ad41fdadfc251fd8b11336": {
      "model_module": "@jupyter-widgets/controls",
      "model_module_version": "1.4.0",
      "model_name": "LabelModel",
      "state": {
       "layout": "IPY_MODEL_ddc223d488af445fb50c283d9da0c1a1",
       "style": "IPY_MODEL_005f3a59be02424fac9edce2859a3c8b",
       "value": "Number Estimators"
      }
     },
     "243daf5319f64b6eb026f7e14f8ba7e0": {
      "model_module": "@jupyter-widgets/controls",
      "model_module_version": "1.4.0",
      "model_name": "DropdownModel",
      "state": {
       "_options_labels": [
        "dt",
        "logit",
        "linear_svc"
       ],
       "index": 0,
       "layout": "IPY_MODEL_e7c66816e45049159b6587b3c71f07cc",
       "style": "IPY_MODEL_80c5ee5fbd304f1dbaecce87bad7b3de"
      }
     },
     "243e6bd6bb01404cacf4da75e9607fdc": {
      "model_module": "@jupyter-widgets/controls",
      "model_module_version": "1.4.0",
      "model_name": "DescriptionStyleModel",
      "state": {
       "description_width": ""
      }
     },
     "244c6c3895e54661a5a7ae7ba641ec42": {
      "model_module": "@jupyter-widgets/controls",
      "model_module_version": "1.4.0",
      "model_name": "CheckboxModel",
      "state": {
       "disabled": false,
       "layout": "IPY_MODEL_70a5c0a5652449989d85b6a40fc1b8cc",
       "style": "IPY_MODEL_e2cfc1ce4108437aadf5e90f043bbd99",
       "value": false
      }
     },
     "24bb3313cc7c43f0ae274922409e18e4": {
      "model_module": "@jupyter-widgets/controls",
      "model_module_version": "1.4.0",
      "model_name": "DescriptionStyleModel",
      "state": {
       "description_width": ""
      }
     },
     "24d9a1c124d0485eb949d2f7d1b29a68": {
      "model_module": "@jupyter-widgets/controls",
      "model_module_version": "1.4.0",
      "model_name": "IntSliderModel",
      "state": {
       "disabled": true,
       "layout": "IPY_MODEL_979fd8105555410a8415c9924628e680",
       "max": 200,
       "min": 2,
       "style": "IPY_MODEL_f848493ec4d6441798132d0af464947e",
       "value": 30
      }
     },
     "2536aa29ceb14cc6aae3b12432bac8ce": {
      "model_module": "@jupyter-widgets/base",
      "model_module_version": "1.1.0",
      "model_name": "LayoutModel",
      "state": {
       "visibility": "visible",
       "width": "300px"
      }
     },
     "25465fc2531341f3a15f3059cf4d0f37": {
      "model_module": "@jupyter-widgets/base",
      "model_module_version": "1.1.0",
      "model_name": "LayoutModel",
      "state": {}
     },
     "25490212b56e451f962c1b95c8183e60": {
      "model_module": "@jupyter-widgets/base",
      "model_module_version": "1.1.0",
      "model_name": "LayoutModel",
      "state": {}
     },
     "256aa6c1b1b944e1b1b04d91630551fb": {
      "model_module": "@jupyter-widgets/controls",
      "model_module_version": "1.4.0",
      "model_name": "IntRangeSliderModel",
      "state": {
       "_model_name": "IntRangeSliderModel",
       "_view_name": "IntRangeSliderView",
       "disabled": true,
       "layout": "IPY_MODEL_b5c05dea1c4c42e3850aac14b4b6c15b",
       "max": 400,
       "min": 30,
       "step": 10,
       "style": "IPY_MODEL_ed6a0438e72e4a4e8b0ec615ce8b1536",
       "value": [
        30,
        100
       ]
      }
     },
     "257c7d749aba4e609676aef78339c0b1": {
      "model_module": "@jupyter-widgets/controls",
      "model_module_version": "1.4.0",
      "model_name": "SliderStyleModel",
      "state": {
       "description_width": ""
      }
     },
     "258af80b8e264e5fbf4eaf5bd9983cd7": {
      "model_module": "@jupyter-widgets/controls",
      "model_module_version": "1.4.0",
      "model_name": "DropdownModel",
      "state": {
       "_options_labels": [
        "None",
        "rbf",
        "nystroem"
       ],
       "index": 0,
       "layout": "IPY_MODEL_733b79c27b1d45819b06808b7498e790",
       "style": "IPY_MODEL_6b94d2582d0a40249002fa3cdbeae2b2"
      }
     },
     "259bc3c96a3d40459cfea8acf9b632b5": {
      "model_module": "@jupyter-widgets/controls",
      "model_module_version": "1.4.0",
      "model_name": "VBoxModel",
      "state": {
       "children": [
        "IPY_MODEL_336db59f32284887851c940041f21929",
        "IPY_MODEL_3e8094c64e684e9a89a4c0cea1a7c23a",
        "IPY_MODEL_ffe223de993c4dcea82b83111cf9eff3"
       ],
       "layout": "IPY_MODEL_c9265ac53da247158895aba51066f4be"
      }
     },
     "25b2526a20034da9916d97724893369a": {
      "model_module": "@jupyter-widgets/controls",
      "model_module_version": "1.4.0",
      "model_name": "LabelModel",
      "state": {
       "layout": "IPY_MODEL_1807e71bf08140bda1f53f2a8694c359",
       "style": "IPY_MODEL_efb6686eed6a4c21b0c65c83605aea9c",
       "value": "Number Estimators"
      }
     },
     "25e55527dc364ad2acefcb3c1ab49cda": {
      "model_module": "@jupyter-widgets/controls",
      "model_module_version": "1.4.0",
      "model_name": "DescriptionStyleModel",
      "state": {
       "description_width": ""
      }
     },
     "263cc01d7a1246a780d3d64a125d24d0": {
      "model_module": "@jupyter-widgets/controls",
      "model_module_version": "1.4.0",
      "model_name": "VBoxModel",
      "state": {
       "children": [
        "IPY_MODEL_a59818c8e0e14309a2fcd69c738f8897",
        "IPY_MODEL_4f15b5215fae4ec3ab8d826c4a82e621"
       ],
       "layout": "IPY_MODEL_221e147c3dbd466a8c7edc5f345e40bd"
      }
     },
     "263db5e5e0f04850ab54ce28f3f83c85": {
      "model_module": "@jupyter-widgets/controls",
      "model_module_version": "1.4.0",
      "model_name": "DescriptionStyleModel",
      "state": {
       "description_width": ""
      }
     },
     "264daf90ea9a4d3891f29c3f7e69948a": {
      "model_module": "@jupyter-widgets/base",
      "model_module_version": "1.1.0",
      "model_name": "LayoutModel",
      "state": {}
     },
     "26bbc081cb2e413aa17f408d949d4ff5": {
      "model_module": "@jupyter-widgets/output",
      "model_module_version": "1.0.0",
      "model_name": "OutputModel",
      "state": {
       "layout": "IPY_MODEL_85d070eaf4894b11bb04fe1692abecd8",
       "outputs": [
        {
         "data": {
          "text/markdown": "\n- Dataset: **segment**\n- Size: **1000**\n        ",
          "text/plain": "<IPython.core.display.Markdown object>"
         },
         "metadata": {},
         "output_type": "display_data"
        },
        {
         "data": {
          "image/png": "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\n",
          "text/plain": "<Figure size 921.6x345.6 with 2 Axes>"
         },
         "metadata": {},
         "output_type": "display_data"
        }
       ]
      }
     },
     "26c2714b3ddc48e58da110f4d734dd9c": {
      "model_module": "@jupyter-widgets/base",
      "model_module_version": "1.1.0",
      "model_name": "LayoutModel",
      "state": {}
     },
     "26c791c52b42430c823b420ae307ab75": {
      "model_module": "@jupyter-widgets/controls",
      "model_module_version": "1.4.0",
      "model_name": "VBoxModel",
      "state": {
       "children": [
        "IPY_MODEL_f1d8bf45850e4fc2ad04cfe55d3e7cb5",
        "IPY_MODEL_374dda32e9bf4f18ab8df66044c10a2f"
       ],
       "layout": "IPY_MODEL_e704e6bb5764418b91e1643a65e75d9d"
      }
     },
     "26d41c90f3eb4c0f92534537db833877": {
      "model_module": "@jupyter-widgets/controls",
      "model_module_version": "1.4.0",
      "model_name": "ButtonStyleModel",
      "state": {}
     },
     "26f24683f3474d66bf6a90a05db916bf": {
      "model_module": "@jupyter-widgets/controls",
      "model_module_version": "1.4.0",
      "model_name": "LabelModel",
      "state": {
       "layout": "IPY_MODEL_141eaa2a7f40484a8c92f3dccf69ec45",
       "style": "IPY_MODEL_0da6aa991a3840ae98a60db0f3477aec",
       "value": "Box Type"
      }
     },
     "26fd6c396fa442c1a42c575b73f4a06a": {
      "model_module": "@jupyter-widgets/base",
      "model_module_version": "1.1.0",
      "model_name": "LayoutModel",
      "state": {
       "width": "90px"
      }
     },
     "277de7aea3614b37a3dcf708b4e4f320": {
      "model_module": "@jupyter-widgets/controls",
      "model_module_version": "1.4.0",
      "model_name": "ButtonStyleModel",
      "state": {}
     },
     "27f475e34fc149309a42841b8fcf6b0c": {
      "model_module": "@jupyter-widgets/base",
      "model_module_version": "1.1.0",
      "model_name": "LayoutModel",
      "state": {}
     },
     "289eb1cfcaa9440eb2bd3a5a8ae26026": {
      "model_module": "@jupyter-widgets/base",
      "model_module_version": "1.1.0",
      "model_name": "LayoutModel",
      "state": {
       "width": "90px"
      }
     },
     "28a65673b6064b73be06648f646d4713": {
      "model_module": "@jupyter-widgets/controls",
      "model_module_version": "1.4.0",
      "model_name": "IntSliderModel",
      "state": {
       "disabled": true,
       "layout": "IPY_MODEL_d663762f8a2e46d58f8b67d45c3340da",
       "max": 200,
       "min": 2,
       "style": "IPY_MODEL_37f5373eb8c84975afaa9a68e626f88c",
       "value": 30
      }
     },
     "28b55044d3c340178adc967a77088043": {
      "model_module": "@jupyter-widgets/controls",
      "model_module_version": "1.4.0",
      "model_name": "ButtonModel",
      "state": {
       "button_style": "info",
       "description": "Demo0",
       "layout": "IPY_MODEL_710657e5f2d8413182197e4e56458dfa",
       "style": "IPY_MODEL_a30ba4689c5949b6939bb53764c26e7a"
      }
     },
     "28dd40643483402dbf56c946d455d699": {
      "model_module": "@jupyter-widgets/base",
      "model_module_version": "1.1.0",
      "model_name": "LayoutModel",
      "state": {
       "visibility": "hidden",
       "width": "300px"
      }
     },
     "28e02f25e4d74f23bf81f02400195a2b": {
      "model_module": "@jupyter-widgets/controls",
      "model_module_version": "1.4.0",
      "model_name": "LabelModel",
      "state": {
       "layout": "IPY_MODEL_330466b22b2f4ad9a1ed5cb717c289d1",
       "style": "IPY_MODEL_cd718483473843ab83e814151040b078",
       "value": "PCA?"
      }
     },
     "28e8a3e3b037481ebd5d9046191ddc8d": {
      "model_module": "@jupyter-widgets/controls",
      "model_module_version": "1.4.0",
      "model_name": "IntSliderModel",
      "state": {
       "disabled": true,
       "layout": "IPY_MODEL_6cf0dd405dbd4034b44d0b218ccf1ee3",
       "max": 200,
       "min": 2,
       "style": "IPY_MODEL_0af9ef181302475e908e829b050de247",
       "value": 30
      }
     },
     "28ec487d5d804da2ae3d98de45f699b1": {
      "model_module": "@jupyter-widgets/base",
      "model_module_version": "1.1.0",
      "model_name": "LayoutModel",
      "state": {}
     },
     "28f72f03d4524722bf3cb276185af9c9": {
      "model_module": "@jupyter-widgets/controls",
      "model_module_version": "1.4.0",
      "model_name": "CheckboxModel",
      "state": {
       "disabled": false,
       "layout": "IPY_MODEL_c29c4dd50b574e9ca4dd937733bb8b38",
       "style": "IPY_MODEL_f4552c5182d0485296efc93335208743",
       "value": false
      }
     },
     "290ea05015d643d8b1b1f5752ebd6843": {
      "model_module": "@jupyter-widgets/base",
      "model_module_version": "1.1.0",
      "model_name": "LayoutModel",
      "state": {}
     },
     "291875961b3048208b2c8723c506d998": {
      "model_module": "@jupyter-widgets/base",
      "model_module_version": "1.1.0",
      "model_name": "LayoutModel",
      "state": {}
     },
     "29400eff5efb42d78f9f0f3873c3bc88": {
      "model_module": "@jupyter-widgets/base",
      "model_module_version": "1.1.0",
      "model_name": "LayoutModel",
      "state": {}
     },
     "29444e53a4fa45d0a4743449f4e76ef0": {
      "model_module": "@jupyter-widgets/controls",
      "model_module_version": "1.4.0",
      "model_name": "VBoxModel",
      "state": {
       "children": [
        "IPY_MODEL_ec81c8014054432986d015711f8501e0",
        "IPY_MODEL_28a65673b6064b73be06648f646d4713",
        "IPY_MODEL_3b33df4d74f948c38f9f8bc697a3d141",
        "IPY_MODEL_a30a6e1d84774eb0935d4fe64d568d73"
       ],
       "layout": "IPY_MODEL_4e04d721c7d145588817b59b090cc721"
      }
     },
     "296495d732ff46bca0a41a1a35319be9": {
      "model_module": "@jupyter-widgets/controls",
      "model_module_version": "1.4.0",
      "model_name": "LabelModel",
      "state": {
       "layout": "IPY_MODEL_5b7d49772c234ff4ada944c9f5d97390",
       "style": "IPY_MODEL_f8b85bf59d91497385255ea8d61d0f7e",
       "value": "Model"
      }
     },
     "2983e16813fa4b6aaf8dd2a02efb0241": {
      "model_module": "@jupyter-widgets/controls",
      "model_module_version": "1.4.0",
      "model_name": "DropdownModel",
      "state": {
       "_options_labels": [
        "None",
        "black",
        "grey"
       ],
       "index": 0,
       "layout": "IPY_MODEL_50672bee28824636af757b281e95ac55",
       "style": "IPY_MODEL_9c2e038214ab419b8d706c66e72b14af"
      }
     },
     "29875257641c43dc99cf0f357dfcf9b0": {
      "model_module": "@jupyter-widgets/base",
      "model_module_version": "1.1.0",
      "model_name": "LayoutModel",
      "state": {
       "visibility": "visible"
      }
     },
     "299dcf711c8441ad9793ddede87e3935": {
      "model_module": "@jupyter-widgets/controls",
      "model_module_version": "1.4.0",
      "model_name": "DescriptionStyleModel",
      "state": {
       "description_width": ""
      }
     },
     "29a65d540ef34b24bc192518e6ed7fff": {
      "model_module": "@jupyter-widgets/controls",
      "model_module_version": "1.4.0",
      "model_name": "DescriptionStyleModel",
      "state": {
       "description_width": ""
      }
     },
     "2a0f1779a7db4059a5860f3224e5c4da": {
      "model_module": "@jupyter-widgets/base",
      "model_module_version": "1.1.0",
      "model_name": "LayoutModel",
      "state": {}
     },
     "2aa748a452ac4708a5d848cb4555a82c": {
      "model_module": "@jupyter-widgets/controls",
      "model_module_version": "1.4.0",
      "model_name": "DescriptionStyleModel",
      "state": {
       "description_width": ""
      }
     },
     "2aaea413d9a04969aacadfb3a59d36d9": {
      "model_module": "@jupyter-widgets/base",
      "model_module_version": "1.1.0",
      "model_name": "LayoutModel",
      "state": {
       "visibility": "visible",
       "width": "300px"
      }
     },
     "2abbd993a7d541ca842fe64f61836b42": {
      "model_module": "@jupyter-widgets/controls",
      "model_module_version": "1.4.0",
      "model_name": "DescriptionStyleModel",
      "state": {
       "description_width": ""
      }
     },
     "2ad7740ef0bd497aa91ffc921d2aa2f3": {
      "model_module": "@jupyter-widgets/controls",
      "model_module_version": "1.4.0",
      "model_name": "LabelModel",
      "state": {
       "layout": "IPY_MODEL_958b43564eb646458574521eed8981d1",
       "style": "IPY_MODEL_060a271fa31c4e7285e43bee2c414b1d",
       "value": "Number Estimators"
      }
     },
     "2afa59e6bb744c11a19dc328b38d65bb": {
      "model_module": "@jupyter-widgets/base",
      "model_module_version": "1.1.0",
      "model_name": "LayoutModel",
      "state": {}
     },
     "2bb2304056fe429888071f7e863aa0a2": {
      "model_module": "@jupyter-widgets/controls",
      "model_module_version": "1.4.0",
      "model_name": "SliderStyleModel",
      "state": {
       "description_width": ""
      }
     },
     "2bed48dbcb7c4e0293b8297da2b0cbab": {
      "model_module": "@jupyter-widgets/base",
      "model_module_version": "1.1.0",
      "model_name": "LayoutModel",
      "state": {}
     },
     "2c2defe89678428685456b7b204ee2ea": {
      "model_module": "@jupyter-widgets/controls",
      "model_module_version": "1.4.0",
      "model_name": "ButtonModel",
      "state": {
       "button_style": "info",
       "description": "Add model",
       "layout": "IPY_MODEL_349fb15e8b5d41728fc7b187c2b37196",
       "style": "IPY_MODEL_7d7de8ce59204c469f90a1a5f815bcbf"
      }
     },
     "2c510b0b465440cabd1431d889d9ebaa": {
      "model_module": "@jupyter-widgets/base",
      "model_module_version": "1.1.0",
      "model_name": "LayoutModel",
      "state": {}
     },
     "2c510d739fc345a2a9025aa393eed6f7": {
      "model_module": "@jupyter-widgets/controls",
      "model_module_version": "1.4.0",
      "model_name": "LabelModel",
      "state": {
       "layout": "IPY_MODEL_6fa78c0de44c44afb852ea48a8aa34a3",
       "style": "IPY_MODEL_edffb07868be4dd5b0ef052c217a8ddb",
       "value": "Number Estimators"
      }
     },
     "2c5b157bbefd422d817504d0a9fdf58c": {
      "model_module": "@jupyter-widgets/controls",
      "model_module_version": "1.4.0",
      "model_name": "LabelModel",
      "state": {
       "layout": "IPY_MODEL_90f8f5746635444aa936bf78dafa054d",
       "style": "IPY_MODEL_0ae8ae93770844fcb12059e2c42d6a7a",
       "value": "PCA?"
      }
     },
     "2c9b1eb234354c6992a594e7462ef695": {
      "model_module": "@jupyter-widgets/base",
      "model_module_version": "1.1.0",
      "model_name": "LayoutModel",
      "state": {}
     },
     "2cce2eda73c84264bf857d0deb2ecc1e": {
      "model_module": "@jupyter-widgets/base",
      "model_module_version": "1.1.0",
      "model_name": "LayoutModel",
      "state": {
       "width": "90px"
      }
     },
     "2d42b62a43994081a654060169120419": {
      "model_module": "@jupyter-widgets/controls",
      "model_module_version": "1.4.0",
      "model_name": "DescriptionStyleModel",
      "state": {
       "description_width": ""
      }
     },
     "2d72be9cb1024c8eaf0178a7e8b4ac52": {
      "model_module": "@jupyter-widgets/controls",
      "model_module_version": "1.4.0",
      "model_name": "DropdownModel",
      "state": {
       "_options_labels": [
        "dt",
        "logit",
        "linear_svc"
       ],
       "index": 0,
       "layout": "IPY_MODEL_61bc1f6ddb4343fa96e1a44294b9f113",
       "style": "IPY_MODEL_4d91585a3bb34b1697948617331fc3e4"
      }
     },
     "2d90052291ae417a8a5b77529aef994b": {
      "model_module": "@jupyter-widgets/controls",
      "model_module_version": "1.4.0",
      "model_name": "DescriptionStyleModel",
      "state": {
       "description_width": ""
      }
     },
     "2dcecebcd7f141ab8685a42098698bc4": {
      "model_module": "@jupyter-widgets/controls",
      "model_module_version": "1.4.0",
      "model_name": "CheckboxModel",
      "state": {
       "disabled": false,
       "layout": "IPY_MODEL_08bbcddc29454385a5199d0136b9729e",
       "style": "IPY_MODEL_b896a6f7db134680b20d86c9c65c1d4e",
       "value": false
      }
     },
     "2dda5057dce74e929606eab5fe6142cc": {
      "model_module": "@jupyter-widgets/controls",
      "model_module_version": "1.4.0",
      "model_name": "LabelModel",
      "state": {
       "layout": "IPY_MODEL_6f0955abc9ca4c9f8347e1d97f824271",
       "style": "IPY_MODEL_4adc8df4ba83486d897ef77bfa32d3d8",
       "value": "Box Type"
      }
     },
     "2dddfce60f5440a185896ad200eb7fa5": {
      "model_module": "@jupyter-widgets/controls",
      "model_module_version": "1.4.0",
      "model_name": "ButtonStyleModel",
      "state": {}
     },
     "2df172ec14e649dd8bc050caa0d4a23c": {
      "model_module": "@jupyter-widgets/controls",
      "model_module_version": "1.4.0",
      "model_name": "DescriptionStyleModel",
      "state": {
       "description_width": ""
      }
     },
     "2df9cf96e1ff453f9b60b2154dad606f": {
      "model_module": "@jupyter-widgets/base",
      "model_module_version": "1.1.0",
      "model_name": "LayoutModel",
      "state": {}
     },
     "2dfe03bda409430e8d1becc3c630e32a": {
      "model_module": "@jupyter-widgets/controls",
      "model_module_version": "1.4.0",
      "model_name": "DescriptionStyleModel",
      "state": {
       "description_width": ""
      }
     },
     "2e666427a9294568b55b78b1e506283e": {
      "model_module": "@jupyter-widgets/controls",
      "model_module_version": "1.4.0",
      "model_name": "DescriptionStyleModel",
      "state": {
       "description_width": ""
      }
     },
     "2e89720237fe4437b02ece1d99f12407": {
      "model_module": "@jupyter-widgets/base",
      "model_module_version": "1.1.0",
      "model_name": "LayoutModel",
      "state": {
       "border": "3px solid black"
      }
     },
     "2e9cfb72456844acb8575c6f7df5abab": {
      "model_module": "@jupyter-widgets/base",
      "model_module_version": "1.1.0",
      "model_name": "LayoutModel",
      "state": {}
     },
     "2ebdf59569c249f0a212cf32ab032440": {
      "model_module": "@jupyter-widgets/base",
      "model_module_version": "1.1.0",
      "model_name": "LayoutModel",
      "state": {}
     },
     "2ec579ffc3814b87aaa488c70dda362b": {
      "model_module": "@jupyter-widgets/controls",
      "model_module_version": "1.4.0",
      "model_name": "VBoxModel",
      "state": {
       "children": [
        "IPY_MODEL_02ed64e6ed904546979a888616ba5361",
        "IPY_MODEL_e5e054b848644b1c995c942ce23c4aa6"
       ],
       "layout": "IPY_MODEL_2a0f1779a7db4059a5860f3224e5c4da"
      }
     },
     "2eed66f80369434a985b545d895fbaf4": {
      "model_module": "@jupyter-widgets/controls",
      "model_module_version": "1.4.0",
      "model_name": "VBoxModel",
      "state": {
       "children": [
        "IPY_MODEL_6699baf9714245d98bfc63d87788ffec",
        "IPY_MODEL_a6f50e511cfc4b8a806cde2688dcdf7d"
       ],
       "layout": "IPY_MODEL_69fa1835ee3948e08e0ecab94754ba49"
      }
     },
     "2eee33df3fed4fe1b0a7076278dd3107": {
      "model_module": "@jupyter-widgets/base",
      "model_module_version": "1.1.0",
      "model_name": "LayoutModel",
      "state": {}
     },
     "2f0aad16e3044a158a272cee78cebcd9": {
      "model_module": "@jupyter-widgets/controls",
      "model_module_version": "1.4.0",
      "model_name": "DropdownModel",
      "state": {
       "_options_labels": [
        "dt",
        "logit",
        "linear_svc"
       ],
       "index": 0,
       "layout": "IPY_MODEL_d68595f6e67246f4868ffaf74725f5bc",
       "style": "IPY_MODEL_db6650a4fba844d9a2122ba5b1617cc0"
      }
     },
     "2f3f2769b4214b5a8aff6a5e3649c093": {
      "model_module": "@jupyter-widgets/controls",
      "model_module_version": "1.4.0",
      "model_name": "DropdownModel",
      "state": {
       "_options_labels": [
        "segment",
        "covertype",
        "digits",
        "fall_detection",
        "mnist",
        "pen_digits",
        "satellite",
        "vowel"
       ],
       "description": "Dataset:",
       "index": 0,
       "layout": "IPY_MODEL_d52a318ddaf449f19c56f2e7d8d2d363",
       "style": "IPY_MODEL_263db5e5e0f04850ab54ce28f3f83c85"
      }
     },
     "2f4bebc5661947079a624f9b09c75b57": {
      "model_module": "@jupyter-widgets/controls",
      "model_module_version": "1.4.0",
      "model_name": "ButtonStyleModel",
      "state": {}
     },
     "2fb338c0774e45f1a711532966336446": {
      "model_module": "@jupyter-widgets/controls",
      "model_module_version": "1.4.0",
      "model_name": "DropdownModel",
      "state": {
       "_options_labels": [
        "None",
        "rbf",
        "nystroem"
       ],
       "index": 1,
       "layout": "IPY_MODEL_b1b10cb9ceb3434191bc9e5cd668b707",
       "style": "IPY_MODEL_6c05556082cc47e1a80f862713493b6e"
      }
     },
     "2fb64000c93b4c3e8b9b055a6cdedf4c": {
      "model_module": "@jupyter-widgets/controls",
      "model_module_version": "1.4.0",
      "model_name": "ButtonStyleModel",
      "state": {}
     },
     "2fda5490a2bc495491e4944c12150d8d": {
      "model_module": "@jupyter-widgets/base",
      "model_module_version": "1.1.0",
      "model_name": "LayoutModel",
      "state": {}
     },
     "2feef37b06184e2387626f085b292ddd": {
      "model_module": "@jupyter-widgets/controls",
      "model_module_version": "1.4.0",
      "model_name": "DescriptionStyleModel",
      "state": {
       "description_width": ""
      }
     },
     "2ff0f6d9051f45509b8a3a6bd6d13685": {
      "model_module": "@jupyter-widgets/controls",
      "model_module_version": "1.4.0",
      "model_name": "DescriptionStyleModel",
      "state": {
       "description_width": ""
      }
     },
     "30555eae62184376967846aea0bd4fdc": {
      "model_module": "@jupyter-widgets/controls",
      "model_module_version": "1.4.0",
      "model_name": "VBoxModel",
      "state": {
       "children": [
        "IPY_MODEL_87596ba3e18541b5ae7c4c774fcfa2f9",
        "IPY_MODEL_28f72f03d4524722bf3cb276185af9c9"
       ],
       "layout": "IPY_MODEL_770a0c16f6cc4a28b1c1ae082f4bbdf1"
      }
     },
     "30983de46e1b4af0bb1409f63a2db3a1": {
      "model_module": "@jupyter-widgets/controls",
      "model_module_version": "1.4.0",
      "model_name": "ButtonStyleModel",
      "state": {}
     },
     "30d8777d854d481da79ec0adbbf4019a": {
      "model_module": "@jupyter-widgets/controls",
      "model_module_version": "1.4.0",
      "model_name": "DescriptionStyleModel",
      "state": {
       "description_width": ""
      }
     },
     "31019240015c44e99c4baa26c9305d78": {
      "model_module": "@jupyter-widgets/controls",
      "model_module_version": "1.4.0",
      "model_name": "LabelModel",
      "state": {
       "layout": "IPY_MODEL_98e42394ee1d42d2a79cbcef573b951d",
       "style": "IPY_MODEL_68f977507d3e4968825d24ff762e3035",
       "value": "Model"
      }
     },
     "3162d534b3304e82869642029645a380": {
      "model_module": "@jupyter-widgets/controls",
      "model_module_version": "1.4.0",
      "model_name": "ButtonStyleModel",
      "state": {}
     },
     "3173b4b03de44031bbe292314056ebf6": {
      "model_module": "@jupyter-widgets/base",
      "model_module_version": "1.1.0",
      "model_name": "LayoutModel",
      "state": {
       "border": "3px solid black"
      }
     },
     "317e50f201e443a5b3e4b4caf0e31f0c": {
      "model_module": "@jupyter-widgets/controls",
      "model_module_version": "1.4.0",
      "model_name": "DescriptionStyleModel",
      "state": {
       "description_width": ""
      }
     },
     "31918a36cd954c2f9b7ca7664cf75ba9": {
      "model_module": "@jupyter-widgets/controls",
      "model_module_version": "1.4.0",
      "model_name": "VBoxModel",
      "state": {
       "children": [
        "IPY_MODEL_ecf458c556f94886ba209f7993bc8817",
        "IPY_MODEL_5382d5d5ef904556baf6fee865df0915"
       ],
       "layout": "IPY_MODEL_e3b345f8f11748379c564984ca828791"
      }
     },
     "3230dfa4cf614ed4b03161ec96fa38dd": {
      "model_module": "@jupyter-widgets/controls",
      "model_module_version": "1.4.0",
      "model_name": "CheckboxModel",
      "state": {
       "disabled": false,
       "layout": "IPY_MODEL_79ffac49edf54714851a9e5ffec3d75b",
       "style": "IPY_MODEL_076e80d440c948589b826603b76e82ba",
       "value": false
      }
     },
     "3240bd55cd184052a8543b97f1857f2e": {
      "model_module": "@jupyter-widgets/controls",
      "model_module_version": "1.4.0",
      "model_name": "DescriptionStyleModel",
      "state": {
       "description_width": ""
      }
     },
     "326214b914874c99ad5422b22cc14301": {
      "model_module": "@jupyter-widgets/base",
      "model_module_version": "1.1.0",
      "model_name": "LayoutModel",
      "state": {}
     },
     "329a817f90a842fdad3d8e65508c63b5": {
      "model_module": "@jupyter-widgets/controls",
      "model_module_version": "1.4.0",
      "model_name": "VBoxModel",
      "state": {
       "children": [
        "IPY_MODEL_62a95352b5a14117b91c30c11582d010",
        "IPY_MODEL_eeeaf1f61e45439d955dee401588193f"
       ],
       "layout": "IPY_MODEL_a873a882684545c0b389c52914ea1f3e"
      }
     },
     "32b0c048aff0429482b41a480fc6519a": {
      "model_module": "@jupyter-widgets/controls",
      "model_module_version": "1.4.0",
      "model_name": "VBoxModel",
      "state": {
       "children": [
        "IPY_MODEL_77f38581e68d4821bb51f3c989542b51",
        "IPY_MODEL_09d6af41955f40f083d8c35f7143d41f",
        "IPY_MODEL_e1a0f673f2744288b895b7bed2dcc4d3",
        "IPY_MODEL_573d2a36aa0e4b63a31194244a06fca7",
        "IPY_MODEL_b2829384f30b4cdda3ebee3da6c0db35",
        "IPY_MODEL_963ba979e0aa42369146dfcaaa382115",
        "IPY_MODEL_afd6154b593540d1ad5b9261c58f9eb3"
       ],
       "layout": "IPY_MODEL_1274e4afa8a640dcb583376dadd6bbbc"
      }
     },
     "32be100f7e4e43328c74e584a0f41006": {
      "model_module": "@jupyter-widgets/controls",
      "model_module_version": "1.4.0",
      "model_name": "VBoxModel",
      "state": {
       "children": [
        "IPY_MODEL_ca05e2fcaa994ade8bfc29238450c545",
        "IPY_MODEL_a4eb0fe6df144c4393dc175e98c31cc6",
        "IPY_MODEL_6691f5959494436abc67255550679c1e"
       ],
       "layout": "IPY_MODEL_eeb0a3d5f4694acea66068bcd1270f07"
      }
     },
     "32e39a513aa3440881e7e8d30afd490a": {
      "model_module": "@jupyter-widgets/base",
      "model_module_version": "1.1.0",
      "model_name": "LayoutModel",
      "state": {}
     },
     "32e9070a1dc04402800b8d2b9943e507": {
      "model_module": "@jupyter-widgets/controls",
      "model_module_version": "1.4.0",
      "model_name": "VBoxModel",
      "state": {
       "children": [
        "IPY_MODEL_09a7ad0164e547f08efb5cba80f0f996",
        "IPY_MODEL_2319818a10394eb3913ecf32d8563fb1"
       ],
       "layout": "IPY_MODEL_dc1e112c3a0d4ca89151ef53e69f914a"
      }
     },
     "330466b22b2f4ad9a1ed5cb717c289d1": {
      "model_module": "@jupyter-widgets/base",
      "model_module_version": "1.1.0",
      "model_name": "LayoutModel",
      "state": {}
     },
     "333f563bd9ce4f03ab84d8da3d49eb0a": {
      "model_module": "@jupyter-widgets/controls",
      "model_module_version": "1.4.0",
      "model_name": "DescriptionStyleModel",
      "state": {
       "description_width": ""
      }
     },
     "3343d3033c2c433aa74ce7581f631e22": {
      "model_module": "@jupyter-widgets/base",
      "model_module_version": "1.1.0",
      "model_name": "LayoutModel",
      "state": {
       "visibility": "visible"
      }
     },
     "336db59f32284887851c940041f21929": {
      "model_module": "@jupyter-widgets/controls",
      "model_module_version": "1.4.0",
      "model_name": "LabelModel",
      "state": {
       "layout": "IPY_MODEL_11a47fc64d034d22b5490d10ccc7fd7f",
       "style": "IPY_MODEL_04c555f5e9114b39bc49fa11e1667982",
       "value": "PCA?"
      }
     },
     "339656ae03dd4a04966c8c525eb20894": {
      "model_module": "@jupyter-widgets/controls",
      "model_module_version": "1.4.0",
      "model_name": "DescriptionStyleModel",
      "state": {
       "description_width": ""
      }
     },
     "34127e933f3446559e5ff025eb2214a9": {
      "model_module": "@jupyter-widgets/base",
      "model_module_version": "1.1.0",
      "model_name": "LayoutModel",
      "state": {}
     },
     "3415977d9cbc4900a30042b419f4dada": {
      "model_module": "@jupyter-widgets/controls",
      "model_module_version": "1.4.0",
      "model_name": "LabelModel",
      "state": {
       "layout": "IPY_MODEL_21439d87e41e431097f2261155bde057",
       "style": "IPY_MODEL_8d45ad4b2b744c18bfbf2b3086442f25",
       "value": "Number Estimators"
      }
     },
     "3430b42c874d47258cb4edce6a5dbee4": {
      "model_module": "@jupyter-widgets/controls",
      "model_module_version": "1.4.0",
      "model_name": "DescriptionStyleModel",
      "state": {
       "description_width": ""
      }
     },
     "34557dfbe10c4ed2ae9771cd663a81d1": {
      "model_module": "@jupyter-widgets/controls",
      "model_module_version": "1.4.0",
      "model_name": "VBoxModel",
      "state": {
       "children": [
        "IPY_MODEL_a6c61c4421984b1cba5dd29b1f38fa7c",
        "IPY_MODEL_ff3db86e54024c1ea7cbe34148409ec7",
        "IPY_MODEL_baa08f55ccbf4b7da10facecbc131c2a"
       ],
       "layout": "IPY_MODEL_8f2f71499a67465fb8f919281e99a028"
      }
     },
     "347a32f3448844b8814925b43c318d13": {
      "model_module": "@jupyter-widgets/base",
      "model_module_version": "1.1.0",
      "model_name": "LayoutModel",
      "state": {}
     },
     "349fb15e8b5d41728fc7b187c2b37196": {
      "model_module": "@jupyter-widgets/base",
      "model_module_version": "1.1.0",
      "model_name": "LayoutModel",
      "state": {}
     },
     "34a016728d214071bfeea0961465e252": {
      "model_module": "@jupyter-widgets/controls",
      "model_module_version": "1.4.0",
      "model_name": "DropdownModel",
      "state": {
       "_options_labels": [
        "None",
        "black",
        "grey"
       ],
       "index": 0,
       "layout": "IPY_MODEL_e4c9e3955f8e4a08b01b33760c3ee3d2",
       "style": "IPY_MODEL_51a0b131cfa3404d8a214f348dac3558"
      }
     },
     "34c55455c5e44522b9c4a5cadf6a8c02": {
      "model_module": "@jupyter-widgets/base",
      "model_module_version": "1.1.0",
      "model_name": "LayoutModel",
      "state": {}
     },
     "350be872e3a24349947d25ab352eff24": {
      "model_module": "@jupyter-widgets/controls",
      "model_module_version": "1.4.0",
      "model_name": "ButtonStyleModel",
      "state": {}
     },
     "3526a545e6834d74b2aa6085cf44202f": {
      "model_module": "@jupyter-widgets/base",
      "model_module_version": "1.1.0",
      "model_name": "LayoutModel",
      "state": {}
     },
     "352f8820bfe24047926742a0b7c2f9a6": {
      "model_module": "@jupyter-widgets/base",
      "model_module_version": "1.1.0",
      "model_name": "LayoutModel",
      "state": {}
     },
     "356ad10c6f7d4c108e54c563049d653b": {
      "model_module": "@jupyter-widgets/controls",
      "model_module_version": "1.4.0",
      "model_name": "DescriptionStyleModel",
      "state": {
       "description_width": ""
      }
     },
     "35cf437f5f264eda8a1ab8a6aea1f286": {
      "model_module": "@jupyter-widgets/controls",
      "model_module_version": "1.4.0",
      "model_name": "LabelModel",
      "state": {
       "layout": "IPY_MODEL_1aad9b45bfe94a33b573efdfd88690a3",
       "style": "IPY_MODEL_7f918d0f3ab34470a589e0095e44179e",
       "value": "Sampler"
      }
     },
     "35f6db795cc84f8b9eb30d7c27a82df2": {
      "model_module": "@jupyter-widgets/controls",
      "model_module_version": "1.4.0",
      "model_name": "DropdownModel",
      "state": {
       "_options_labels": [
        "None",
        "black",
        "grey"
       ],
       "index": 1,
       "layout": "IPY_MODEL_5a55d116cd364d078f5297747edf1757",
       "style": "IPY_MODEL_b7d5df3f486f4dcdb7510a1a2b43be3d"
      }
     },
     "3621c480d278462b8f226e4ad9848369": {
      "model_module": "@jupyter-widgets/base",
      "model_module_version": "1.1.0",
      "model_name": "LayoutModel",
      "state": {}
     },
     "364986e4d3aa48c8b47c0c2c71d3adba": {
      "model_module": "@jupyter-widgets/controls",
      "model_module_version": "1.4.0",
      "model_name": "DescriptionStyleModel",
      "state": {
       "description_width": ""
      }
     },
     "364a1d0248da4308b6d984849f692ac2": {
      "model_module": "@jupyter-widgets/controls",
      "model_module_version": "1.4.0",
      "model_name": "ButtonStyleModel",
      "state": {}
     },
     "36bef6bdd26841d4998b0f2ecbf40653": {
      "model_module": "@jupyter-widgets/controls",
      "model_module_version": "1.4.0",
      "model_name": "DescriptionStyleModel",
      "state": {
       "description_width": ""
      }
     },
     "36d525d6dea94205b4ca25ffd448596c": {
      "model_module": "@jupyter-widgets/controls",
      "model_module_version": "1.4.0",
      "model_name": "DescriptionStyleModel",
      "state": {
       "description_width": ""
      }
     },
     "36d8b7d5c56647be9029c7ce5dd7ba81": {
      "model_module": "@jupyter-widgets/controls",
      "model_module_version": "1.4.0",
      "model_name": "VBoxModel",
      "state": {
       "children": [
        "IPY_MODEL_c236616f63044f92b0d48409ffb8063a",
        "IPY_MODEL_071706e808c74a34a7913744d602fdeb",
        "IPY_MODEL_03442594c19749ac96c8df1d40476708"
       ],
       "layout": "IPY_MODEL_9be1aeaa2b034f59b8405591c6c5783b"
      }
     },
     "37294b2ff8db4629a5aaec96d557b1c2": {
      "model_module": "@jupyter-widgets/base",
      "model_module_version": "1.1.0",
      "model_name": "LayoutModel",
      "state": {}
     },
     "374dda32e9bf4f18ab8df66044c10a2f": {
      "model_module": "@jupyter-widgets/controls",
      "model_module_version": "1.4.0",
      "model_name": "IntSliderModel",
      "state": {
       "disabled": true,
       "layout": "IPY_MODEL_1e52ac7ce10045c982781b07843914df",
       "max": 200,
       "min": 2,
       "style": "IPY_MODEL_141eedd58ebe48f3a1781a04d3e150ad",
       "value": 30
      }
     },
     "3750691ae7304415913068b8543bdbac": {
      "model_module": "@jupyter-widgets/controls",
      "model_module_version": "1.4.0",
      "model_name": "SliderStyleModel",
      "state": {
       "description_width": ""
      }
     },
     "37bced099b6e47fd84da2fd39a4246fa": {
      "model_module": "@jupyter-widgets/base",
      "model_module_version": "1.1.0",
      "model_name": "LayoutModel",
      "state": {}
     },
     "37deaa120562486da9df3014096322d7": {
      "model_module": "@jupyter-widgets/controls",
      "model_module_version": "1.4.0",
      "model_name": "VBoxModel",
      "state": {
       "children": [
        "IPY_MODEL_46ae3801cd0046d69dc0063d57d698da",
        "IPY_MODEL_693da1e989f3480aac71438b5fb67b6e"
       ],
       "layout": "IPY_MODEL_1fd281f3739e4231af6537108b059f0f"
      }
     },
     "37e5f18c4df34eb38407616b35f4b971": {
      "model_module": "@jupyter-widgets/base",
      "model_module_version": "1.1.0",
      "model_name": "LayoutModel",
      "state": {}
     },
     "37f5373eb8c84975afaa9a68e626f88c": {
      "model_module": "@jupyter-widgets/controls",
      "model_module_version": "1.4.0",
      "model_name": "SliderStyleModel",
      "state": {
       "description_width": ""
      }
     },
     "38102f6b4a324554bc50331c1d4c473d": {
      "model_module": "@jupyter-widgets/controls",
      "model_module_version": "1.4.0",
      "model_name": "DescriptionStyleModel",
      "state": {
       "description_width": ""
      }
     },
     "384a0033be7244b39e6407e46ead51de": {
      "model_module": "@jupyter-widgets/base",
      "model_module_version": "1.1.0",
      "model_name": "LayoutModel",
      "state": {}
     },
     "384b36cca9c74790a51faea124d55fd6": {
      "model_module": "@jupyter-widgets/controls",
      "model_module_version": "1.4.0",
      "model_name": "DescriptionStyleModel",
      "state": {
       "description_width": ""
      }
     },
     "38a48f7f84874aed96d092b10339c46b": {
      "model_module": "@jupyter-widgets/controls",
      "model_module_version": "1.4.0",
      "model_name": "ButtonStyleModel",
      "state": {}
     },
     "38b3580bf15b4d88962e7d81071b6848": {
      "model_module": "@jupyter-widgets/base",
      "model_module_version": "1.1.0",
      "model_name": "LayoutModel",
      "state": {}
     },
     "38c2011ed70e4159b71d6baa998e82ba": {
      "model_module": "@jupyter-widgets/controls",
      "model_module_version": "1.4.0",
      "model_name": "ButtonModel",
      "state": {
       "button_style": "warning",
       "description": "Remove model",
       "layout": "IPY_MODEL_b358b68da0fe4e568c64f9a681d2eda6",
       "style": "IPY_MODEL_7017b3383c6a41e3972c77ee806b6419"
      }
     },
     "391e4c6a7df84dc0b8e90e6f0b08aa5b": {
      "model_module": "@jupyter-widgets/controls",
      "model_module_version": "1.4.0",
      "model_name": "ButtonModel",
      "state": {
       "button_style": "warning",
       "description": "Remove model",
       "layout": "IPY_MODEL_a97cf5509ad44c3f893100e77a0c5286",
       "style": "IPY_MODEL_88d049eaf3de44819c1393238eca10b2"
      }
     },
     "39284c23e83a446e858f8b3e5f2ceec1": {
      "model_module": "@jupyter-widgets/controls",
      "model_module_version": "1.4.0",
      "model_name": "DropdownModel",
      "state": {
       "_options_labels": [
        "None",
        "rbf",
        "nystroem"
       ],
       "index": 1,
       "layout": "IPY_MODEL_b7dc5a5610f54dd2a332fd9fe04bd3b1",
       "style": "IPY_MODEL_dd46011af463487f9a021653d67e0ea6"
      }
     },
     "3948230fbdad42f2af316ea7fd746923": {
      "model_module": "@jupyter-widgets/controls",
      "model_module_version": "1.4.0",
      "model_name": "DropdownModel",
      "state": {
       "_options_labels": [
        "None",
        "black",
        "grey"
       ],
       "index": 1,
       "layout": "IPY_MODEL_63c2d20d01984a788094dc361606577d",
       "style": "IPY_MODEL_eee28dbef7674747b6ed991138363034"
      }
     },
     "395d5e4f5f904723ad74778a7bf566be": {
      "model_module": "@jupyter-widgets/base",
      "model_module_version": "1.1.0",
      "model_name": "LayoutModel",
      "state": {}
     },
     "399cc271c48a4324b03fd809d5486da9": {
      "model_module": "@jupyter-widgets/controls",
      "model_module_version": "1.4.0",
      "model_name": "LabelModel",
      "state": {
       "layout": "IPY_MODEL_7f8ff29fbdc54625adaf376d5cf8c96f",
       "style": "IPY_MODEL_3e0bd07d62e342e18bf2968a485ce558",
       "value": "Box Type"
      }
     },
     "39a7945117bc43c2800a0e0990125053": {
      "model_module": "@jupyter-widgets/controls",
      "model_module_version": "1.4.0",
      "model_name": "DescriptionStyleModel",
      "state": {
       "description_width": ""
      }
     },
     "39cb318f74d54eb4bc04fb8105837861": {
      "model_module": "@jupyter-widgets/controls",
      "model_module_version": "1.4.0",
      "model_name": "VBoxModel",
      "state": {
       "children": [
        "IPY_MODEL_f6da116b676544f7b4b3b3342a187d23",
        "IPY_MODEL_3948230fbdad42f2af316ea7fd746923",
        "IPY_MODEL_c84ca4d28b874c17a28aee608d75f3e6",
        "IPY_MODEL_f4518781879d446dabe419dedddb759c",
        "IPY_MODEL_029f9e896f08417bab95bc5ce5a84060",
        "IPY_MODEL_af6cee6a39ae4926b7feb43d54b9f2b8"
       ],
       "layout": "IPY_MODEL_91556d1af29744d0907cafd8499cd31d"
      }
     },
     "3a0610db34a246f79d2d02e353cb762b": {
      "model_module": "@jupyter-widgets/controls",
      "model_module_version": "1.4.0",
      "model_name": "DescriptionStyleModel",
      "state": {
       "description_width": ""
      }
     },
     "3a71a664a95247c5b03d32c34bb8cd01": {
      "model_module": "@jupyter-widgets/controls",
      "model_module_version": "1.4.0",
      "model_name": "DescriptionStyleModel",
      "state": {
       "description_width": ""
      }
     },
     "3a8192e0414e4452ad41a2e319fec187": {
      "model_module": "@jupyter-widgets/base",
      "model_module_version": "1.1.0",
      "model_name": "LayoutModel",
      "state": {
       "visibility": "visible",
       "width": "300px"
      }
     },
     "3abc49841fe9493ebcc2d571fb778e90": {
      "model_module": "@jupyter-widgets/base",
      "model_module_version": "1.1.0",
      "model_name": "LayoutModel",
      "state": {
       "visibility": "hidden"
      }
     },
     "3ae8880a55e746ab8b34337b488cca35": {
      "model_module": "@jupyter-widgets/base",
      "model_module_version": "1.1.0",
      "model_name": "LayoutModel",
      "state": {}
     },
     "3b0616380569460c8a169a0fc0f5a56f": {
      "model_module": "@jupyter-widgets/base",
      "model_module_version": "1.1.0",
      "model_name": "LayoutModel",
      "state": {}
     },
     "3b15e874afe1402a8b309a4c14e8495f": {
      "model_module": "@jupyter-widgets/controls",
      "model_module_version": "1.4.0",
      "model_name": "LabelModel",
      "state": {
       "layout": "IPY_MODEL_3b5339c08e324eaaa9316d1fe5f555b9",
       "style": "IPY_MODEL_b01279aefbad491da5b77cc47ae4df38",
       "value": "Sampler"
      }
     },
     "3b2c62873d55458eaa633f74253465c0": {
      "model_module": "@jupyter-widgets/controls",
      "model_module_version": "1.4.0",
      "model_name": "SliderStyleModel",
      "state": {
       "description_width": ""
      }
     },
     "3b2e3d9953774adead9855150ecc683f": {
      "model_module": "@jupyter-widgets/controls",
      "model_module_version": "1.4.0",
      "model_name": "DescriptionStyleModel",
      "state": {
       "description_width": ""
      }
     },
     "3b33df4d74f948c38f9f8bc697a3d141": {
      "model_module": "@jupyter-widgets/controls",
      "model_module_version": "1.4.0",
      "model_name": "IntSliderModel",
      "state": {
       "disabled": true,
       "layout": "IPY_MODEL_991fdeb814e94debbc9405b8a7e36a08",
       "max": 200,
       "min": 2,
       "style": "IPY_MODEL_44c2be491da94b88a6d02ad42b62b98d",
       "value": 30
      }
     },
     "3b5339c08e324eaaa9316d1fe5f555b9": {
      "model_module": "@jupyter-widgets/base",
      "model_module_version": "1.1.0",
      "model_name": "LayoutModel",
      "state": {}
     },
     "3b92b45e8920480f9ca13d65582011df": {
      "model_module": "@jupyter-widgets/base",
      "model_module_version": "1.1.0",
      "model_name": "LayoutModel",
      "state": {}
     },
     "3be8f12a170b4f69bbdc3163a2be694a": {
      "model_module": "@jupyter-widgets/base",
      "model_module_version": "1.1.0",
      "model_name": "LayoutModel",
      "state": {
       "width": "90px"
      }
     },
     "3c3c8b6bb0ad47c6968d824e61294ef3": {
      "model_module": "@jupyter-widgets/output",
      "model_module_version": "1.0.0",
      "model_name": "OutputModel",
      "state": {
       "layout": "IPY_MODEL_9e783a467c74493b950bd143b7dc70c2"
      }
     },
     "3c4947453ed44c869687126407bc4c25": {
      "model_module": "@jupyter-widgets/controls",
      "model_module_version": "1.4.0",
      "model_name": "DescriptionStyleModel",
      "state": {
       "description_width": ""
      }
     },
     "3c6ebc7c07ae463d930c4e2206b38fdc": {
      "model_module": "@jupyter-widgets/controls",
      "model_module_version": "1.4.0",
      "model_name": "SliderStyleModel",
      "state": {
       "description_width": ""
      }
     },
     "3ce51ae287b945c1b6df26b823be1c48": {
      "model_module": "@jupyter-widgets/controls",
      "model_module_version": "1.4.0",
      "model_name": "VBoxModel",
      "state": {
       "children": [
        "IPY_MODEL_86a7e9473c0a497b93ca6821499efea4",
        "IPY_MODEL_86ac100a063a4437983eeb5bb0ac170a"
       ],
       "layout": "IPY_MODEL_8c60d914e4844155a015c7f32fc8375b"
      }
     },
     "3cef53b78f8e4025bc66ada6acff716a": {
      "model_module": "@jupyter-widgets/controls",
      "model_module_version": "1.4.0",
      "model_name": "ButtonModel",
      "state": {
       "button_style": "info",
       "description": "Demo0",
       "layout": "IPY_MODEL_019dad279939498b918e6bb5c3fe9bb0",
       "style": "IPY_MODEL_2fb64000c93b4c3e8b9b055a6cdedf4c"
      }
     },
     "3d2ec4f9498b4c05b8c6367ed6ddd8f1": {
      "model_module": "@jupyter-widgets/controls",
      "model_module_version": "1.4.0",
      "model_name": "VBoxModel",
      "state": {
       "children": [
        "IPY_MODEL_2407923d783b4411ad5b652a114b9057",
        "IPY_MODEL_f61ba8c8f5f145feb81cd8e220c74ca6",
        "IPY_MODEL_00ce0a60a68441b2a75544398a38c77e"
       ],
       "layout": "IPY_MODEL_4c6e23f058a34788ac7e2a18c648033f"
      }
     },
     "3d362edbfc3c409aa60f735678a852f1": {
      "model_module": "@jupyter-widgets/controls",
      "model_module_version": "1.4.0",
      "model_name": "DescriptionStyleModel",
      "state": {
       "description_width": ""
      }
     },
     "3d4a7b7a160f414abae9f6e0e2788556": {
      "model_module": "@jupyter-widgets/base",
      "model_module_version": "1.1.0",
      "model_name": "LayoutModel",
      "state": {}
     },
     "3d8e90d48f574bad84359dbc75e8e978": {
      "model_module": "@jupyter-widgets/controls",
      "model_module_version": "1.4.0",
      "model_name": "LabelModel",
      "state": {
       "layout": "IPY_MODEL_59edf68229704deb920b87c119dc4652",
       "style": "IPY_MODEL_61c5fe4f00ce425ea5827f9dd2e7b678",
       "value": "Sampler"
      }
     },
     "3d8fb446b5f54b068c85b02c5454bfc1": {
      "model_module": "@jupyter-widgets/base",
      "model_module_version": "1.1.0",
      "model_name": "LayoutModel",
      "state": {}
     },
     "3df88db439794c34b35c0b9092e242a6": {
      "model_module": "@jupyter-widgets/controls",
      "model_module_version": "1.4.0",
      "model_name": "DescriptionStyleModel",
      "state": {
       "description_width": ""
      }
     },
     "3e0bd07d62e342e18bf2968a485ce558": {
      "model_module": "@jupyter-widgets/controls",
      "model_module_version": "1.4.0",
      "model_name": "DescriptionStyleModel",
      "state": {
       "description_width": ""
      }
     },
     "3e3aef8d9fc74ed8ad75fa824030a256": {
      "model_module": "@jupyter-widgets/controls",
      "model_module_version": "1.4.0",
      "model_name": "DropdownModel",
      "state": {
       "_options_labels": [
        "None",
        "black",
        "grey"
       ],
       "index": 0,
       "layout": "IPY_MODEL_debb2f962f124907af6dc72dd36ff170",
       "style": "IPY_MODEL_17f82deeff14416f98bff27b052c55bc"
      }
     },
     "3e526536396f474aa446ca01e44fff13": {
      "model_module": "@jupyter-widgets/controls",
      "model_module_version": "1.4.0",
      "model_name": "VBoxModel",
      "state": {
       "children": [
        "IPY_MODEL_0638d4be43bc42dd9a6c9f75fd06744b",
        "IPY_MODEL_9346cb8b34b24a3e97c4f573c7b43870",
        "IPY_MODEL_ee067136de7e4d65877c9fb71f0c548a"
       ],
       "layout": "IPY_MODEL_05bb1f853d994c8e8e7516f609f8e681"
      }
     },
     "3e7654662207474d8f4a5de1a8e0c931": {
      "model_module": "@jupyter-widgets/base",
      "model_module_version": "1.1.0",
      "model_name": "LayoutModel",
      "state": {}
     },
     "3e8094c64e684e9a89a4c0cea1a7c23a": {
      "model_module": "@jupyter-widgets/controls",
      "model_module_version": "1.4.0",
      "model_name": "CheckboxModel",
      "state": {
       "disabled": false,
       "layout": "IPY_MODEL_a7baabd398b941658102a6bceecce835",
       "style": "IPY_MODEL_2aa748a452ac4708a5d848cb4555a82c",
       "value": false
      }
     },
     "3eb8423aba994603a97b2dedb51d81e5": {
      "model_module": "@jupyter-widgets/base",
      "model_module_version": "1.1.0",
      "model_name": "LayoutModel",
      "state": {
       "width": "90px"
      }
     },
     "3ed377f94167417990c5c719a581182d": {
      "model_module": "@jupyter-widgets/controls",
      "model_module_version": "1.4.0",
      "model_name": "VBoxModel",
      "state": {
       "children": [
        "IPY_MODEL_17fcd25a9dac45ee83e06e08a7623fec",
        "IPY_MODEL_f7ed11be3ab9466086efeb0b3a61aea7"
       ],
       "layout": "IPY_MODEL_de88a9367d4a45c48742e49308b3dec3"
      }
     },
     "3f4290f9b1fe4d76b23e895c09eb3ad3": {
      "model_module": "@jupyter-widgets/controls",
      "model_module_version": "1.4.0",
      "model_name": "RadioButtonsModel",
      "state": {
       "_options_labels": [
        "1000",
        "2000",
        "5000",
        "10000"
       ],
       "description": "Size",
       "index": 0,
       "layout": "IPY_MODEL_938fd85a0f7e413daf030b5746c7cb9f",
       "style": "IPY_MODEL_0e243e8f9af84367b8b370ea708ee9c2"
      }
     },
     "3f4cdaeab3e64d01bb7fc63fb9e196d4": {
      "model_module": "@jupyter-widgets/controls",
      "model_module_version": "1.4.0",
      "model_name": "RadioButtonsModel",
      "state": {
       "_options_labels": [
        "1000",
        "2000",
        "5000",
        "10000"
       ],
       "description": "Size",
       "index": 0,
       "layout": "IPY_MODEL_25465fc2531341f3a15f3059cf4d0f37",
       "style": "IPY_MODEL_60d52645c58541cf9cf4a6f9d5857e3d"
      }
     },
     "3f69bdb0432948938796aefee327ea9f": {
      "model_module": "@jupyter-widgets/controls",
      "model_module_version": "1.4.0",
      "model_name": "DescriptionStyleModel",
      "state": {
       "description_width": ""
      }
     },
     "3f8fc1153b1640b48eb804a377d9220e": {
      "model_module": "@jupyter-widgets/controls",
      "model_module_version": "1.4.0",
      "model_name": "CheckboxModel",
      "state": {
       "disabled": false,
       "layout": "IPY_MODEL_dd82d1c795284d4ba8dfeebd80d7fa41",
       "style": "IPY_MODEL_ee8977a8e3a340fba722f58ea1877abc",
       "value": false
      }
     },
     "3f973bf7b8f549e8afde2cd72c10346c": {
      "model_module": "@jupyter-widgets/controls",
      "model_module_version": "1.4.0",
      "model_name": "DescriptionStyleModel",
      "state": {
       "description_width": ""
      }
     },
     "3f9efa366f07449282b94caf0b6bdb3c": {
      "model_module": "@jupyter-widgets/base",
      "model_module_version": "1.1.0",
      "model_name": "LayoutModel",
      "state": {}
     },
     "3fa8f245342b4517ac7b0548ad519e6d": {
      "model_module": "@jupyter-widgets/base",
      "model_module_version": "1.1.0",
      "model_name": "LayoutModel",
      "state": {}
     },
     "3fb3344e628e44d697d25b65efc40b2c": {
      "model_module": "@jupyter-widgets/base",
      "model_module_version": "1.1.0",
      "model_name": "LayoutModel",
      "state": {}
     },
     "3ff7627389fc4c45830aa389dbaceea5": {
      "model_module": "@jupyter-widgets/controls",
      "model_module_version": "1.4.0",
      "model_name": "LabelModel",
      "state": {
       "layout": "IPY_MODEL_77a86d7720bd4cf1bec3ff164d500364",
       "style": "IPY_MODEL_c0b6ac28cd9a4ae3ac1ad58d03516921",
       "value": "Model"
      }
     },
     "4008ebf76cb446c39a2e336027418170": {
      "model_module": "@jupyter-widgets/base",
      "model_module_version": "1.1.0",
      "model_name": "LayoutModel",
      "state": {
       "visibility": "hidden",
       "width": "300px"
      }
     },
     "403ca66de28d486ea2ec902eb5591761": {
      "model_module": "@jupyter-widgets/controls",
      "model_module_version": "1.4.0",
      "model_name": "HBoxModel",
      "state": {
       "children": [
        "IPY_MODEL_36d8b7d5c56647be9029c7ce5dd7ba81",
        "IPY_MODEL_3d2ec4f9498b4c05b8c6367ed6ddd8f1",
        "IPY_MODEL_60049a0abdc54e1db17109b4c65f14ad",
        "IPY_MODEL_023b5779568a49d5890066103509cb7c",
        "IPY_MODEL_ff4f6e43153a453e80e4d108bd0eafe7"
       ],
       "layout": "IPY_MODEL_023f223dca5a4531b5bdbfd499a7ffd4"
      }
     },
     "407b6cb93fb24933b3df5a269ab69fed": {
      "model_module": "@jupyter-widgets/controls",
      "model_module_version": "1.4.0",
      "model_name": "DescriptionStyleModel",
      "state": {
       "description_width": ""
      }
     },
     "40845d48ffa5447db30594ec90c328b2": {
      "model_module": "@jupyter-widgets/base",
      "model_module_version": "1.1.0",
      "model_name": "LayoutModel",
      "state": {}
     },
     "40a4fe8f8514457c85cc794909fa455a": {
      "model_module": "@jupyter-widgets/controls",
      "model_module_version": "1.4.0",
      "model_name": "ButtonStyleModel",
      "state": {}
     },
     "40f5df2ee72049f7a4914fd85b8d9d2d": {
      "model_module": "@jupyter-widgets/controls",
      "model_module_version": "1.4.0",
      "model_name": "DescriptionStyleModel",
      "state": {
       "description_width": ""
      }
     },
     "4107417832b64fb7b9be1f29d601e911": {
      "model_module": "@jupyter-widgets/controls",
      "model_module_version": "1.4.0",
      "model_name": "DropdownModel",
      "state": {
       "_options_labels": [
        "None",
        "black",
        "grey"
       ],
       "index": 0,
       "layout": "IPY_MODEL_b7dc5a5610f54dd2a332fd9fe04bd3b1",
       "style": "IPY_MODEL_4210b7d3c204438c99651e71e2ac10d6"
      }
     },
     "413cae01004d4a0e80ffa6c2ffb75b77": {
      "model_module": "@jupyter-widgets/base",
      "model_module_version": "1.1.0",
      "model_name": "LayoutModel",
      "state": {}
     },
     "41bf5b7297594fb290ae6c33991ffe72": {
      "model_module": "@jupyter-widgets/base",
      "model_module_version": "1.1.0",
      "model_name": "LayoutModel",
      "state": {}
     },
     "41c265c321eb4cc6bc5ec6b512bdf974": {
      "model_module": "@jupyter-widgets/base",
      "model_module_version": "1.1.0",
      "model_name": "LayoutModel",
      "state": {}
     },
     "4210b7d3c204438c99651e71e2ac10d6": {
      "model_module": "@jupyter-widgets/controls",
      "model_module_version": "1.4.0",
      "model_name": "DescriptionStyleModel",
      "state": {
       "description_width": ""
      }
     },
     "4239a34d2f5b4485bee8c1aedd6d028a": {
      "model_module": "@jupyter-widgets/controls",
      "model_module_version": "1.4.0",
      "model_name": "ButtonStyleModel",
      "state": {}
     },
     "427385aa184c4020b1481fc68fbf3cc6": {
      "model_module": "@jupyter-widgets/base",
      "model_module_version": "1.1.0",
      "model_name": "LayoutModel",
      "state": {}
     },
     "42d55e1dbe3f41fa8ddc97430242c1d0": {
      "model_module": "@jupyter-widgets/controls",
      "model_module_version": "1.4.0",
      "model_name": "DropdownModel",
      "state": {
       "_options_labels": [
        "None",
        "black",
        "grey"
       ],
       "index": 0,
       "layout": "IPY_MODEL_733b79c27b1d45819b06808b7498e790",
       "style": "IPY_MODEL_05d3995e84034d6e81197da9bd3ae595"
      }
     },
     "42e39ad3ff5e4573be6e240811e5a515": {
      "model_module": "@jupyter-widgets/controls",
      "model_module_version": "1.4.0",
      "model_name": "ButtonStyleModel",
      "state": {}
     },
     "43324a6070e74f13872aa4607b4a5ce5": {
      "model_module": "@jupyter-widgets/controls",
      "model_module_version": "1.4.0",
      "model_name": "DescriptionStyleModel",
      "state": {
       "description_width": ""
      }
     },
     "435a35eb30a54c2287c48d1c188a56d8": {
      "model_module": "@jupyter-widgets/controls",
      "model_module_version": "1.4.0",
      "model_name": "DescriptionStyleModel",
      "state": {
       "description_width": ""
      }
     },
     "436e6a6748f5473a910a2465bc77f928": {
      "model_module": "@jupyter-widgets/base",
      "model_module_version": "1.1.0",
      "model_name": "LayoutModel",
      "state": {}
     },
     "438a49a6c89c4579b9e17778d2204432": {
      "model_module": "@jupyter-widgets/output",
      "model_module_version": "1.0.0",
      "model_name": "OutputModel",
      "state": {
       "layout": "IPY_MODEL_8cabfde28fe14c49af80f05ff955b09a"
      }
     },
     "438d71d50b324f9da1a2bae39a2aec01": {
      "model_module": "@jupyter-widgets/controls",
      "model_module_version": "1.4.0",
      "model_name": "CheckboxModel",
      "state": {
       "disabled": false,
       "layout": "IPY_MODEL_489b663f936b4cf1a5a30b0e840ce8d4",
       "style": "IPY_MODEL_ce8824261b8c4a8a8932e5ac0e720bde",
       "value": false
      }
     },
     "43a1b0e4129c4052adeb3230f64ec013": {
      "model_module": "@jupyter-widgets/controls",
      "model_module_version": "1.4.0",
      "model_name": "CheckboxModel",
      "state": {
       "disabled": false,
       "layout": "IPY_MODEL_850bc9bf23a840f5b6c2d44fd494e869",
       "style": "IPY_MODEL_cdfbe9530d984e428a92c26125c5eb87",
       "value": false
      }
     },
     "43a4aacfccaf49e7a5ef6b44a6cfeeac": {
      "model_module": "@jupyter-widgets/controls",
      "model_module_version": "1.4.0",
      "model_name": "SliderStyleModel",
      "state": {
       "description_width": ""
      }
     },
     "43ac1381613c47ee853962d8582e658e": {
      "model_module": "@jupyter-widgets/controls",
      "model_module_version": "1.4.0",
      "model_name": "VBoxModel",
      "state": {
       "children": [
        "IPY_MODEL_31019240015c44e99c4baa26c9305d78",
        "IPY_MODEL_17e6acae78204a32ade87c002ac13abc"
       ],
       "layout": "IPY_MODEL_f528ba033ed5492e94e3ac26c2f16276"
      }
     },
     "43d5ab7600f04ccc95088ee9a41f05d6": {
      "model_module": "@jupyter-widgets/base",
      "model_module_version": "1.1.0",
      "model_name": "LayoutModel",
      "state": {}
     },
     "43eef36724394907ab6e45f56c664f24": {
      "model_module": "@jupyter-widgets/controls",
      "model_module_version": "1.4.0",
      "model_name": "DescriptionStyleModel",
      "state": {
       "description_width": ""
      }
     },
     "440b1062893541ebb3a82fa9d2a6ac0a": {
      "model_module": "@jupyter-widgets/controls",
      "model_module_version": "1.4.0",
      "model_name": "VBoxModel",
      "state": {
       "children": [
        "IPY_MODEL_fb490460a5d94304b3facb51885f6e0a",
        "IPY_MODEL_597cc5aace8b49c98953dd63b0241f58",
        "IPY_MODEL_764866b515034f228889b78c77547aa7",
        "IPY_MODEL_391e4c6a7df84dc0b8e90e6f0b08aa5b",
        "IPY_MODEL_7905df3540cd4a3fbaafb007f1b102a9",
        "IPY_MODEL_50627ef976c64dacb531a66ce6108280",
        "IPY_MODEL_ac1091e1713a4b329a3993b8017a6481"
       ],
       "layout": "IPY_MODEL_912e224e64774fab81670412a82cbfc6"
      }
     },
     "4412848197c44beb8c203dd9df3392ea": {
      "model_module": "@jupyter-widgets/controls",
      "model_module_version": "1.4.0",
      "model_name": "VBoxModel",
      "state": {
       "children": [
        "IPY_MODEL_aa2ca96a11cd4a71b2ecbb31013221ce",
        "IPY_MODEL_42d55e1dbe3f41fa8ddc97430242c1d0"
       ],
       "layout": "IPY_MODEL_38b3580bf15b4d88962e7d81071b6848"
      }
     },
     "441e5a3195614df6b143a0e41ce1e3c8": {
      "model_module": "@jupyter-widgets/controls",
      "model_module_version": "1.4.0",
      "model_name": "CheckboxModel",
      "state": {
       "disabled": false,
       "layout": "IPY_MODEL_842cf36beaa84e18bd1fc305dde50f0a",
       "style": "IPY_MODEL_c963b33741044c91969b35f9d78135f1",
       "value": false
      }
     },
     "445e473df3664087a8271d2f3a182e4d": {
      "model_module": "@jupyter-widgets/controls",
      "model_module_version": "1.4.0",
      "model_name": "VBoxModel",
      "state": {
       "children": [
        "IPY_MODEL_8163f52b42ae4c16b53b7f60fdbf8125",
        "IPY_MODEL_fa226c1aa24b4db49dc6fec1c3a9a40d"
       ],
       "layout": "IPY_MODEL_46b669bb8d7c43029df6fb36a247271a"
      }
     },
     "44791437566642eda2bbcda6872b7c71": {
      "model_module": "@jupyter-widgets/output",
      "model_module_version": "1.0.0",
      "model_name": "OutputModel",
      "state": {
       "layout": "IPY_MODEL_f1f1443ba02748299abf379615e8e81f",
       "outputs": [
        {
         "data": {
          "text/markdown": "\n- Dataset: **segment**\n- Size: **1000**\n        ",
          "text/plain": "<IPython.core.display.Markdown object>"
         },
         "metadata": {},
         "output_type": "display_data"
        },
        {
         "data": {
          "image/png": "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\n",
          "text/plain": "<Figure size 921.6x345.6 with 2 Axes>"
         },
         "metadata": {},
         "output_type": "display_data"
        }
       ]
      }
     },
     "447ff1ca53814f2fba6183ec638e7e46": {
      "model_module": "@jupyter-widgets/controls",
      "model_module_version": "1.4.0",
      "model_name": "LabelModel",
      "state": {
       "layout": "IPY_MODEL_41bf5b7297594fb290ae6c33991ffe72",
       "style": "IPY_MODEL_587ac7df3051439cb80ebe45eefdc731",
       "value": "Sampler"
      }
     },
     "44824de817694b048f372f2c5d62e72a": {
      "model_module": "@jupyter-widgets/controls",
      "model_module_version": "1.4.0",
      "model_name": "ButtonStyleModel",
      "state": {}
     },
     "448cc62774e6493b8a28a87d44c72660": {
      "model_module": "@jupyter-widgets/controls",
      "model_module_version": "1.4.0",
      "model_name": "DropdownModel",
      "state": {
       "_options_labels": [
        "segment",
        "covertype",
        "digits",
        "fall_detection",
        "mnist",
        "pen_digits",
        "satellite",
        "vowel"
       ],
       "description": "Dataset:",
       "index": 0,
       "layout": "IPY_MODEL_52439b59bd374cf49cebb712ccf99bc8",
       "style": "IPY_MODEL_54f6585ec3a142feab54f8f0b4496a59"
      }
     },
     "449781f4235b47ab935bef7b7535bee0": {
      "model_module": "@jupyter-widgets/controls",
      "model_module_version": "1.4.0",
      "model_name": "DropdownModel",
      "state": {
       "_options_labels": [
        "None",
        "rbf",
        "nystroem"
       ],
       "index": 1,
       "layout": "IPY_MODEL_5419c3d541c743f8988d1e8a11f49224",
       "style": "IPY_MODEL_50bc228848ad42a791e315d8290fd031"
      }
     },
     "44b1772914ee4ccd86ed10ce7b6bff60": {
      "model_module": "@jupyter-widgets/controls",
      "model_module_version": "1.4.0",
      "model_name": "HBoxModel",
      "state": {
       "children": [
        "IPY_MODEL_4a6b69193d41475fab1600c334a69d75",
        "IPY_MODEL_44b4ed41a6514f89895cb567c39acbdb",
        "IPY_MODEL_0d02073bf9f94d7c98f893d557052818",
        "IPY_MODEL_c03f8e0924284a308180b7d982ab6f55",
        "IPY_MODEL_2eed66f80369434a985b545d895fbaf4"
       ],
       "layout": "IPY_MODEL_5b2a04394c3546cd910e4e8bdf1403da"
      }
     },
     "44b4ed41a6514f89895cb567c39acbdb": {
      "model_module": "@jupyter-widgets/controls",
      "model_module_version": "1.4.0",
      "model_name": "VBoxModel",
      "state": {
       "children": [
        "IPY_MODEL_fc771f2722344f9aaf13228e892a7dad",
        "IPY_MODEL_4f01a78b52604dac9f1df517054491e7"
       ],
       "layout": "IPY_MODEL_28ec487d5d804da2ae3d98de45f699b1"
      }
     },
     "44c2be491da94b88a6d02ad42b62b98d": {
      "model_module": "@jupyter-widgets/controls",
      "model_module_version": "1.4.0",
      "model_name": "SliderStyleModel",
      "state": {
       "description_width": ""
      }
     },
     "44f85cc6d19048abace17f258c322807": {
      "model_module": "@jupyter-widgets/base",
      "model_module_version": "1.1.0",
      "model_name": "LayoutModel",
      "state": {}
     },
     "44fe1448b2f047ba9dd277be46edcf25": {
      "model_module": "@jupyter-widgets/base",
      "model_module_version": "1.1.0",
      "model_name": "LayoutModel",
      "state": {
       "visibility": "visible",
       "width": "300px"
      }
     },
     "4524818f955d4e9da3117443878d10fb": {
      "model_module": "@jupyter-widgets/controls",
      "model_module_version": "1.4.0",
      "model_name": "LabelModel",
      "state": {
       "layout": "IPY_MODEL_7f53bd2034f24d41aa5f835eba8fa738",
       "style": "IPY_MODEL_407b6cb93fb24933b3df5a269ab69fed",
       "value": "Number Estimators"
      }
     },
     "452cd7d6e9fa45c194de295a41550021": {
      "model_module": "@jupyter-widgets/base",
      "model_module_version": "1.1.0",
      "model_name": "LayoutModel",
      "state": {}
     },
     "455d04f51a8d4b5d8a6a1e102b30ecaa": {
      "model_module": "@jupyter-widgets/base",
      "model_module_version": "1.1.0",
      "model_name": "LayoutModel",
      "state": {}
     },
     "4564754e2a214d7c90a7dd4a8f74fe54": {
      "model_module": "@jupyter-widgets/controls",
      "model_module_version": "1.4.0",
      "model_name": "CheckboxModel",
      "state": {
       "disabled": false,
       "layout": "IPY_MODEL_12bd50aee49f47dcb81524051eda35ef",
       "style": "IPY_MODEL_21518ee5b1134913853ba9dce7575e43",
       "value": false
      }
     },
     "45bb3ad4e7314745a8edc57b883c1c4b": {
      "model_module": "@jupyter-widgets/controls",
      "model_module_version": "1.4.0",
      "model_name": "DescriptionStyleModel",
      "state": {
       "description_width": ""
      }
     },
     "45d0f9ea41e74abe8086c25c4c5186f8": {
      "model_module": "@jupyter-widgets/base",
      "model_module_version": "1.1.0",
      "model_name": "LayoutModel",
      "state": {
       "border": "3px solid black"
      }
     },
     "45d93bb9714c469a95fe01438100e681": {
      "model_module": "@jupyter-widgets/controls",
      "model_module_version": "1.4.0",
      "model_name": "DescriptionStyleModel",
      "state": {
       "description_width": ""
      }
     },
     "45dcaac1493c45f48e3dca3ac09e86a1": {
      "model_module": "@jupyter-widgets/controls",
      "model_module_version": "1.4.0",
      "model_name": "DropdownModel",
      "state": {
       "_options_labels": [
        "segment",
        "covertype",
        "digits",
        "fall_detection",
        "mnist",
        "pen_digits",
        "satellite",
        "vowel"
       ],
       "description": "Dataset:",
       "index": 0,
       "layout": "IPY_MODEL_8d2de9179c794221abb550d15247a6a5",
       "style": "IPY_MODEL_73bfd7a586694575bb2c2ffa7ce96f26"
      }
     },
     "45f6ae34f12d4f80ab988a37fbaccfde": {
      "model_module": "@jupyter-widgets/controls",
      "model_module_version": "1.4.0",
      "model_name": "VBoxModel",
      "state": {
       "children": [
        "IPY_MODEL_676d9ca72faf4c40abce0843d3722768",
        "IPY_MODEL_9000ccddf0d44e66953247aec7192179"
       ],
       "layout": "IPY_MODEL_d8cf2f12fe0b4cdc9f8531873946530d"
      }
     },
     "45f7e432b1dd4be9ae18dc95d9a46094": {
      "model_module": "@jupyter-widgets/controls",
      "model_module_version": "1.4.0",
      "model_name": "DescriptionStyleModel",
      "state": {
       "description_width": ""
      }
     },
     "460cab8e42234cf9abd092b238bc3e14": {
      "model_module": "@jupyter-widgets/controls",
      "model_module_version": "1.4.0",
      "model_name": "DropdownModel",
      "state": {
       "_options_labels": [
        "None",
        "black",
        "grey"
       ],
       "index": 0,
       "layout": "IPY_MODEL_a77188c993b74300a2efaa8ada98b63f",
       "style": "IPY_MODEL_9ec7dc6ab2ad41e489d637f8ed3b2825"
      }
     },
     "462bb593537944e3af869859f8eec7d6": {
      "model_module": "@jupyter-widgets/controls",
      "model_module_version": "1.4.0",
      "model_name": "VBoxModel",
      "state": {
       "children": [
        "IPY_MODEL_640726feb00541a484e049cedb63cbb7",
        "IPY_MODEL_7d3b6f3785874015a730252abb2aadd1"
       ],
       "layout": "IPY_MODEL_586eea64d8ab4467a2173b3db8380f5f"
      }
     },
     "46472fc2ac024d5a8c39d468ec8793e8": {
      "model_module": "@jupyter-widgets/controls",
      "model_module_version": "1.4.0",
      "model_name": "DescriptionStyleModel",
      "state": {
       "description_width": ""
      }
     },
     "466cae00f06f4ce782bf855292d2cb94": {
      "model_module": "@jupyter-widgets/controls",
      "model_module_version": "1.4.0",
      "model_name": "DescriptionStyleModel",
      "state": {
       "description_width": ""
      }
     },
     "468fcb01924c47b3a56952c67aa5926d": {
      "model_module": "@jupyter-widgets/controls",
      "model_module_version": "1.4.0",
      "model_name": "SliderStyleModel",
      "state": {
       "description_width": ""
      }
     },
     "4693bdd19bfc4c2a808b326c05d0a112": {
      "model_module": "@jupyter-widgets/controls",
      "model_module_version": "1.4.0",
      "model_name": "DescriptionStyleModel",
      "state": {
       "description_width": ""
      }
     },
     "46ae3801cd0046d69dc0063d57d698da": {
      "model_module": "@jupyter-widgets/controls",
      "model_module_version": "1.4.0",
      "model_name": "LabelModel",
      "state": {
       "layout": "IPY_MODEL_a3383e9eb35947159a67d439e654a93b",
       "style": "IPY_MODEL_36d525d6dea94205b4ca25ffd448596c",
       "value": "PCA?"
      }
     },
     "46b669bb8d7c43029df6fb36a247271a": {
      "model_module": "@jupyter-widgets/base",
      "model_module_version": "1.1.0",
      "model_name": "LayoutModel",
      "state": {}
     },
     "471e876d6b2b4cb8975efbd153946284": {
      "model_module": "@jupyter-widgets/controls",
      "model_module_version": "1.4.0",
      "model_name": "DropdownModel",
      "state": {
       "_options_labels": [
        "None",
        "black",
        "grey"
       ],
       "index": 2,
       "layout": "IPY_MODEL_6040a266732e4a19b6b91ae0a5558bb2",
       "style": "IPY_MODEL_bba2fd0b99644879b0cacdc64d98dbcb"
      }
     },
     "4727cd3152c442a696e8e54f755371bb": {
      "model_module": "@jupyter-widgets/controls",
      "model_module_version": "1.4.0",
      "model_name": "DescriptionStyleModel",
      "state": {
       "description_width": ""
      }
     },
     "47296937a0654c1f97781e6d2f56998c": {
      "model_module": "@jupyter-widgets/controls",
      "model_module_version": "1.4.0",
      "model_name": "DescriptionStyleModel",
      "state": {
       "description_width": ""
      }
     },
     "475b3fb7171146d3aa7fb328c5bde031": {
      "model_module": "@jupyter-widgets/controls",
      "model_module_version": "1.4.0",
      "model_name": "HBoxModel",
      "state": {
       "children": [
        "IPY_MODEL_198fa92c6e2441f58453236dc023945b",
        "IPY_MODEL_80a8c871ef134e0888839b90a488361e",
        "IPY_MODEL_c972e4af7916463e8c337723103a6c3e",
        "IPY_MODEL_0110bc01d5514f7d81c63c83961ee47f",
        "IPY_MODEL_45f6ae34f12d4f80ab988a37fbaccfde"
       ],
       "layout": "IPY_MODEL_f0a56ada53bc4a469893788b56ca74a4"
      }
     },
     "4775832817ab4985ad4bbc21f94e233e": {
      "model_module": "@jupyter-widgets/controls",
      "model_module_version": "1.4.0",
      "model_name": "DescriptionStyleModel",
      "state": {
       "description_width": ""
      }
     },
     "47d0918326694745ae8921b899017b0c": {
      "model_module": "@jupyter-widgets/output",
      "model_module_version": "1.0.0",
      "model_name": "OutputModel",
      "state": {
       "layout": "IPY_MODEL_ac24c1cbe87f4406a6e1f25507f058db"
      }
     },
     "47d60b01763e4dcd9f68982c5980fac7": {
      "model_module": "@jupyter-widgets/base",
      "model_module_version": "1.1.0",
      "model_name": "LayoutModel",
      "state": {}
     },
     "47e8764be5f84a9ba1b574c9de2720ff": {
      "model_module": "@jupyter-widgets/controls",
      "model_module_version": "1.4.0",
      "model_name": "DropdownModel",
      "state": {
       "_options_labels": [
        "None",
        "rbf",
        "nystroem"
       ],
       "index": 0,
       "layout": "IPY_MODEL_7449c8d4c8774a938e2edd9cc8ff9fde",
       "style": "IPY_MODEL_1fdf98d085a645d6827bdd8d0d268f78"
      }
     },
     "489b663f936b4cf1a5a30b0e840ce8d4": {
      "model_module": "@jupyter-widgets/base",
      "model_module_version": "1.1.0",
      "model_name": "LayoutModel",
      "state": {}
     },
     "48decad26d5e43da8197ade6f2c51f28": {
      "model_module": "@jupyter-widgets/base",
      "model_module_version": "1.1.0",
      "model_name": "LayoutModel",
      "state": {}
     },
     "48f95555cc6d4d5c862710e368d2abd6": {
      "model_module": "@jupyter-widgets/controls",
      "model_module_version": "1.4.0",
      "model_name": "RadioButtonsModel",
      "state": {
       "_options_labels": [
        "1000",
        "2000",
        "5000",
        "10000"
       ],
       "description": "Size",
       "index": 0,
       "layout": "IPY_MODEL_0b2ffbe54275423587308c9fa847da0b",
       "style": "IPY_MODEL_4775832817ab4985ad4bbc21f94e233e"
      }
     },
     "48ffb870b43a412e91fc5573400eb9e7": {
      "model_module": "@jupyter-widgets/controls",
      "model_module_version": "1.4.0",
      "model_name": "LabelModel",
      "state": {
       "layout": "IPY_MODEL_b31ff0bc176c4a3cb3abc9e1f6f568a9",
       "style": "IPY_MODEL_8b0576621e204fe089544ff8573cff22",
       "value": "PCA?"
      }
     },
     "49269fb4ceeb48ca965a6ff52c357055": {
      "model_module": "@jupyter-widgets/controls",
      "model_module_version": "1.4.0",
      "model_name": "RadioButtonsModel",
      "state": {
       "_options_labels": [
        "1000",
        "2000",
        "5000",
        "10000"
       ],
       "description": "Size",
       "index": 0,
       "layout": "IPY_MODEL_5a57f5f808d94b9c835d87ce314e1c25",
       "style": "IPY_MODEL_1a84120c576644c9b73ba46f51960ff1"
      }
     },
     "4968381fb6e541d5909cb6e97c34f8a1": {
      "model_module": "@jupyter-widgets/controls",
      "model_module_version": "1.4.0",
      "model_name": "CheckboxModel",
      "state": {
       "disabled": false,
       "layout": "IPY_MODEL_fc516d434df145cbaff95b983014f9b5",
       "style": "IPY_MODEL_4ce47b95c05b4984aa615870d3274f52",
       "value": false
      }
     },
     "49d649c0145e405580dad05ea5e8668c": {
      "model_module": "@jupyter-widgets/base",
      "model_module_version": "1.1.0",
      "model_name": "LayoutModel",
      "state": {}
     },
     "49e7e45257fc4e2eaec1f37bd3316012": {
      "model_module": "@jupyter-widgets/controls",
      "model_module_version": "1.4.0",
      "model_name": "VBoxModel",
      "state": {
       "children": [
        "IPY_MODEL_2ad7740ef0bd497aa91ffc921d2aa2f3",
        "IPY_MODEL_c788ffd250104a73852b2a5aaf5cae7a",
        "IPY_MODEL_0f99e8511f174df2b8fa39404542e550"
       ],
       "layout": "IPY_MODEL_9c9f465e44cd4de4954ac069625a38ef"
      }
     },
     "49ee6db18d57441684f8c156d6a2a8fb": {
      "model_module": "@jupyter-widgets/controls",
      "model_module_version": "1.4.0",
      "model_name": "VBoxModel",
      "state": {
       "children": [
        "IPY_MODEL_9a949ddafad645b48b3c708e435088f0",
        "IPY_MODEL_928cab060f204c209a96ca4b069de977",
        "IPY_MODEL_ce8330281e4e40f4a8d340414166a758",
        "IPY_MODEL_725ef29b904d4c69bc7c7110c1262e56",
        "IPY_MODEL_039dcdce8ecd4ee997f3990b29eaf5ae",
        "IPY_MODEL_93a40f6ee85142f3aa76392f6d585c24"
       ],
       "layout": "IPY_MODEL_80673a5390a04bc68b4edaf263d28f45"
      }
     },
     "4a20f7125b1b4cc193919a19ebd7dcde": {
      "model_module": "@jupyter-widgets/controls",
      "model_module_version": "1.4.0",
      "model_name": "IntRangeSliderModel",
      "state": {
       "_model_name": "IntRangeSliderModel",
       "_view_name": "IntRangeSliderView",
       "layout": "IPY_MODEL_3343d3033c2c433aa74ce7581f631e22",
       "max": 400,
       "min": 30,
       "step": 10,
       "style": "IPY_MODEL_5b257d5ddb6c45d69fc9c887fa4afe4a",
       "value": [
        30,
        40
       ]
      }
     },
     "4a5956e87d144e958fd273c23ab26f00": {
      "model_module": "@jupyter-widgets/base",
      "model_module_version": "1.1.0",
      "model_name": "LayoutModel",
      "state": {}
     },
     "4a6b69193d41475fab1600c334a69d75": {
      "model_module": "@jupyter-widgets/controls",
      "model_module_version": "1.4.0",
      "model_name": "VBoxModel",
      "state": {
       "children": [
        "IPY_MODEL_296495d732ff46bca0a41a1a35319be9",
        "IPY_MODEL_77ae71e28e754970996c4e6fbf27d443"
       ],
       "layout": "IPY_MODEL_fb16e0ede09945e3bd582e9d446204d2"
      }
     },
     "4adc8df4ba83486d897ef77bfa32d3d8": {
      "model_module": "@jupyter-widgets/controls",
      "model_module_version": "1.4.0",
      "model_name": "DescriptionStyleModel",
      "state": {
       "description_width": ""
      }
     },
     "4ae35dae172c4d999520ba8b5e65d00a": {
      "model_module": "@jupyter-widgets/controls",
      "model_module_version": "1.4.0",
      "model_name": "VBoxModel",
      "state": {
       "children": [
        "IPY_MODEL_62297d14d00b4659bfcc545d904e6eca",
        "IPY_MODEL_b0130e0633d142bba18d4b24f282fa6b"
       ],
       "layout": "IPY_MODEL_e5df6795048d41e1bd112db6c11d2c3f"
      }
     },
     "4aebbc31ec684521b10a2fd1aab04c7e": {
      "model_module": "@jupyter-widgets/base",
      "model_module_version": "1.1.0",
      "model_name": "LayoutModel",
      "state": {}
     },
     "4b089987af6c472fbb946469cc8cac70": {
      "model_module": "@jupyter-widgets/base",
      "model_module_version": "1.1.0",
      "model_name": "LayoutModel",
      "state": {}
     },
     "4b1040feb82849f4a1c3b5f5e2039f24": {
      "model_module": "@jupyter-widgets/controls",
      "model_module_version": "1.4.0",
      "model_name": "ButtonModel",
      "state": {
       "button_style": "info",
       "description": "Demo0",
       "layout": "IPY_MODEL_8872ce55c3294294a6736442a6861103",
       "style": "IPY_MODEL_c0d559946e69488d9fee64239d41834a"
      }
     },
     "4b24f79932614dfba7604582c899744b": {
      "model_module": "@jupyter-widgets/base",
      "model_module_version": "1.1.0",
      "model_name": "LayoutModel",
      "state": {
       "visibility": "visible",
       "width": "300px"
      }
     },
     "4b29a11575d44d699550a04e31518969": {
      "model_module": "@jupyter-widgets/controls",
      "model_module_version": "1.4.0",
      "model_name": "LabelModel",
      "state": {
       "layout": "IPY_MODEL_c1cc35ae8bcd4394bcc5c6609fb0e4cc",
       "style": "IPY_MODEL_b335fb72e0ad4c90aa2e6a7daff162f9",
       "value": "Number Estimators"
      }
     },
     "4b3f54fc9a414bad93355fc165df6834": {
      "model_module": "@jupyter-widgets/controls",
      "model_module_version": "1.4.0",
      "model_name": "LabelModel",
      "state": {
       "layout": "IPY_MODEL_c52a74ed26814a5b827e952dd1635132",
       "style": "IPY_MODEL_883ef11765c94bbf8d2ae6088fb2d297",
       "value": "Model"
      }
     },
     "4b6aca9979b747e7ad1580e9026b645c": {
      "model_module": "@jupyter-widgets/controls",
      "model_module_version": "1.4.0",
      "model_name": "IntSliderModel",
      "state": {
       "layout": "IPY_MODEL_4b24f79932614dfba7604582c899744b",
       "max": 200,
       "min": 2,
       "style": "IPY_MODEL_7fc771a1e96d4a289add8382ba47cc9a",
       "value": 10
      }
     },
     "4c110e8e92bf4c7ba7b987877f6ff168": {
      "model_module": "@jupyter-widgets/base",
      "model_module_version": "1.1.0",
      "model_name": "LayoutModel",
      "state": {
       "width": "90px"
      }
     },
     "4c2e17d37a1044bd82ff8242ed84ef5a": {
      "model_module": "@jupyter-widgets/controls",
      "model_module_version": "1.4.0",
      "model_name": "ButtonModel",
      "state": {
       "button_style": "warning",
       "description": "Remove model",
       "layout": "IPY_MODEL_ef4019bfa06940d08d6b05d6b934e4f7",
       "style": "IPY_MODEL_7d0b199810be4aa98bd6e64c0d71b250"
      }
     },
     "4c3147f705954f5895a6082209bbf70d": {
      "model_module": "@jupyter-widgets/base",
      "model_module_version": "1.1.0",
      "model_name": "LayoutModel",
      "state": {}
     },
     "4c3e14398ee1463795e86b7c129cc13d": {
      "model_module": "@jupyter-widgets/controls",
      "model_module_version": "1.4.0",
      "model_name": "DropdownModel",
      "state": {
       "_options_labels": [
        "dt",
        "logit",
        "linear_svc"
       ],
       "index": 0,
       "layout": "IPY_MODEL_3eb8423aba994603a97b2dedb51d81e5",
       "style": "IPY_MODEL_8d6133b5c31c46d395136b7f76ac38ee"
      }
     },
     "4c6e23f058a34788ac7e2a18c648033f": {
      "model_module": "@jupyter-widgets/base",
      "model_module_version": "1.1.0",
      "model_name": "LayoutModel",
      "state": {}
     },
     "4ca682ae973940d98e950e4fb2dc6adb": {
      "model_module": "@jupyter-widgets/controls",
      "model_module_version": "1.4.0",
      "model_name": "DropdownModel",
      "state": {
       "_options_labels": [
        "dt",
        "logit",
        "linear_svc"
       ],
       "index": 0,
       "layout": "IPY_MODEL_9ceded0e0c0b48e693a4df6f3a421450",
       "style": "IPY_MODEL_66418f54cf564f358f4e4e9468eec140"
      }
     },
     "4cc09c7423e24308b9d9f3ad5bedb8ac": {
      "model_module": "@jupyter-widgets/controls",
      "model_module_version": "1.4.0",
      "model_name": "IntSliderModel",
      "state": {
       "disabled": true,
       "layout": "IPY_MODEL_a0f7e4bfa4d4437faeb62802124693d5",
       "max": 200,
       "min": 2,
       "style": "IPY_MODEL_8003392df74240f69a1e2ca4308d39bf",
       "value": 30
      }
     },
     "4cc140be68854ab29dfd54f1a7da4e3e": {
      "model_module": "@jupyter-widgets/controls",
      "model_module_version": "1.4.0",
      "model_name": "ButtonModel",
      "state": {
       "button_style": "info",
       "description": "Demo0",
       "layout": "IPY_MODEL_815a6a2502874a84a14a73cb83d652b0",
       "style": "IPY_MODEL_7ed9546121d34570b4eeab7c31def2d5"
      }
     },
     "4ce47b95c05b4984aa615870d3274f52": {
      "model_module": "@jupyter-widgets/controls",
      "model_module_version": "1.4.0",
      "model_name": "DescriptionStyleModel",
      "state": {
       "description_width": ""
      }
     },
     "4d459a5136c442a38ea959d3543c56fc": {
      "model_module": "@jupyter-widgets/controls",
      "model_module_version": "1.4.0",
      "model_name": "ButtonModel",
      "state": {
       "button_style": "warning",
       "description": "Remove model",
       "layout": "IPY_MODEL_a4fbd85564a543d7b2f5b0599daf021a",
       "style": "IPY_MODEL_b9463a00f9034530a9c442f2477d1fce"
      }
     },
     "4d57fec1ab7043f8a201a324e847e265": {
      "model_module": "@jupyter-widgets/base",
      "model_module_version": "1.1.0",
      "model_name": "LayoutModel",
      "state": {}
     },
     "4d63bb1a787f4c22b84c41c9df9070fc": {
      "model_module": "@jupyter-widgets/controls",
      "model_module_version": "1.4.0",
      "model_name": "DescriptionStyleModel",
      "state": {
       "description_width": ""
      }
     },
     "4d8e90bd7ec34ee38035e739eaff788e": {
      "model_module": "@jupyter-widgets/base",
      "model_module_version": "1.1.0",
      "model_name": "LayoutModel",
      "state": {}
     },
     "4d91585a3bb34b1697948617331fc3e4": {
      "model_module": "@jupyter-widgets/controls",
      "model_module_version": "1.4.0",
      "model_name": "DescriptionStyleModel",
      "state": {
       "description_width": ""
      }
     },
     "4da8ea53fd1d4804b7bdcc4c18d070e8": {
      "model_module": "@jupyter-widgets/controls",
      "model_module_version": "1.4.0",
      "model_name": "DescriptionStyleModel",
      "state": {
       "description_width": ""
      }
     },
     "4db1bb2b45534412997dd3aad2192fad": {
      "model_module": "@jupyter-widgets/base",
      "model_module_version": "1.1.0",
      "model_name": "LayoutModel",
      "state": {}
     },
     "4dd15306fbec45049c90c720c41842c3": {
      "model_module": "@jupyter-widgets/base",
      "model_module_version": "1.1.0",
      "model_name": "LayoutModel",
      "state": {}
     },
     "4dddcf2a24204e5395c3a5b50e9d4b30": {
      "model_module": "@jupyter-widgets/controls",
      "model_module_version": "1.4.0",
      "model_name": "LabelModel",
      "state": {
       "layout": "IPY_MODEL_f1ddb4e1795647bb81162f56d97052d2",
       "style": "IPY_MODEL_8f044d49f68144108dc98dbdd5879503",
       "value": "Sampler"
      }
     },
     "4de2e90a1f674e1780fd41c8dc812b9e": {
      "model_module": "@jupyter-widgets/controls",
      "model_module_version": "1.4.0",
      "model_name": "HBoxModel",
      "state": {
       "children": [
        "IPY_MODEL_e8f2bfef290b4f0bbce749457b2924e1",
        "IPY_MODEL_ea8c9372934745f9a5c04bf5ac501803",
        "IPY_MODEL_c973e8b822154f86aec0b5ee7a1e7813",
        "IPY_MODEL_ed97362284e04bc895a9460c447f72d4",
        "IPY_MODEL_e49994c52fb8408cb7ed98f4f5ab745d"
       ],
       "layout": "IPY_MODEL_a0ff43f6b3d644848ca5be96521e0884"
      }
     },
     "4dfdea57466742ac9ce159429a3ead2b": {
      "model_module": "@jupyter-widgets/base",
      "model_module_version": "1.1.0",
      "model_name": "LayoutModel",
      "state": {}
     },
     "4e04d721c7d145588817b59b090cc721": {
      "model_module": "@jupyter-widgets/base",
      "model_module_version": "1.1.0",
      "model_name": "LayoutModel",
      "state": {}
     },
     "4e534435aed142d4af2f61661971b83a": {
      "model_module": "@jupyter-widgets/controls",
      "model_module_version": "1.4.0",
      "model_name": "DescriptionStyleModel",
      "state": {
       "description_width": ""
      }
     },
     "4e89e63e45804bd4b4f4005ea0905636": {
      "model_module": "@jupyter-widgets/output",
      "model_module_version": "1.0.0",
      "model_name": "OutputModel",
      "state": {
       "layout": "IPY_MODEL_61f245a71aca4f9f883bd08269b1cc11",
       "outputs": [
        {
         "data": {
          "text/markdown": "\n- Dataset: **segment**\n- Size: **1000**\n        ",
          "text/plain": "<IPython.core.display.Markdown object>"
         },
         "metadata": {},
         "output_type": "display_data"
        },
        {
         "data": {
          "image/png": "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\n",
          "text/plain": "<Figure size 921.6x345.6 with 2 Axes>"
         },
         "metadata": {},
         "output_type": "display_data"
        }
       ]
      }
     },
     "4e94914d3ba745cbbace1532d388cd67": {
      "model_module": "@jupyter-widgets/base",
      "model_module_version": "1.1.0",
      "model_name": "LayoutModel",
      "state": {}
     },
     "4eb4f94d060c443a882f25e5ab3c110d": {
      "model_module": "@jupyter-widgets/controls",
      "model_module_version": "1.4.0",
      "model_name": "DropdownModel",
      "state": {
       "_options_labels": [
        "None",
        "black",
        "grey"
       ],
       "index": 1,
       "layout": "IPY_MODEL_06186afb292f4b079e13c8f048f30967",
       "style": "IPY_MODEL_5cbc56c38b244b0f9c30c81f60f4bc8d"
      }
     },
     "4ec7fe7a93cc40f8a527a8361a428c60": {
      "model_module": "@jupyter-widgets/controls",
      "model_module_version": "1.4.0",
      "model_name": "VBoxModel",
      "state": {
       "children": [
        "IPY_MODEL_127c1976c4c44793ac52badbaa475904",
        "IPY_MODEL_1b3c2761865743c88cb13603c93f7348",
        "IPY_MODEL_10be7b4aff9344c3ba1e2f33715ef17b"
       ],
       "layout": "IPY_MODEL_64caf01725214bb3b820b175fa149a1e"
      }
     },
     "4ecd37f0130644a8b8a14d21cefd998b": {
      "model_module": "@jupyter-widgets/controls",
      "model_module_version": "1.4.0",
      "model_name": "DropdownModel",
      "state": {
       "_options_labels": [
        "None",
        "black",
        "grey"
       ],
       "index": 0,
       "layout": "IPY_MODEL_c9163b26d8e34f43856944862637a9bd",
       "style": "IPY_MODEL_29a65d540ef34b24bc192518e6ed7fff"
      }
     },
     "4f01a78b52604dac9f1df517054491e7": {
      "model_module": "@jupyter-widgets/controls",
      "model_module_version": "1.4.0",
      "model_name": "DropdownModel",
      "state": {
       "_options_labels": [
        "None",
        "rbf",
        "nystroem"
       ],
       "index": 0,
       "layout": "IPY_MODEL_50672bee28824636af757b281e95ac55",
       "style": "IPY_MODEL_0ed105a1a9d644f88ed7a264c5ff7055"
      }
     },
     "4f15b5215fae4ec3ab8d826c4a82e621": {
      "model_module": "@jupyter-widgets/controls",
      "model_module_version": "1.4.0",
      "model_name": "IntSliderModel",
      "state": {
       "layout": "IPY_MODEL_d14850329cb24e679a88e2664434d7a2",
       "max": 200,
       "min": 2,
       "style": "IPY_MODEL_5aee9ecd92444f77bdb8e2d1aceeeecc",
       "value": 10
      }
     },
     "4f3a19fbffcf4a13a54212fdf66bd6f4": {
      "model_module": "@jupyter-widgets/controls",
      "model_module_version": "1.4.0",
      "model_name": "VBoxModel",
      "state": {
       "children": [
        "IPY_MODEL_de0780c1aadb4e26ad7b1ce34c4065ea",
        "IPY_MODEL_23f5d1de97ee4be6a2dcbc0c2c5e705d",
        "IPY_MODEL_75b0a827934747b8a3d1d82914ab0b01",
        "IPY_MODEL_d6c7317e0b964c30b7d11ac5369c3f8c"
       ],
       "layout": "IPY_MODEL_8a2b584916bb43cca9c47dfcee14c727"
      }
     },
     "4f423ca962454d299da04b59c5412ace": {
      "model_module": "@jupyter-widgets/controls",
      "model_module_version": "1.4.0",
      "model_name": "DropdownModel",
      "state": {
       "_options_labels": [
        "None",
        "rbf",
        "nystroem"
       ],
       "index": 0,
       "layout": "IPY_MODEL_db74b3e608f84214b10412b95b934c08",
       "style": "IPY_MODEL_47296937a0654c1f97781e6d2f56998c"
      }
     },
     "4f6fcca87af245549cdb81a829166740": {
      "model_module": "@jupyter-widgets/controls",
      "model_module_version": "1.4.0",
      "model_name": "SliderStyleModel",
      "state": {
       "description_width": ""
      }
     },
     "4f83b435d27b458fb58481fdd3b2c99e": {
      "model_module": "@jupyter-widgets/controls",
      "model_module_version": "1.4.0",
      "model_name": "ButtonModel",
      "state": {
       "button_style": "warning",
       "description": "Remove model",
       "layout": "IPY_MODEL_57ada27416464c04abe07b8b2d9535a3",
       "style": "IPY_MODEL_0ac2bb0706e34529b0b845806844bcbc"
      }
     },
     "50627ef976c64dacb531a66ce6108280": {
      "model_module": "@jupyter-widgets/controls",
      "model_module_version": "1.4.0",
      "model_name": "HBoxModel",
      "state": {
       "children": [
        "IPY_MODEL_d4367ef911954f978fface12fb38e88b",
        "IPY_MODEL_e32c1d24f36c4a53ba4f7779450592c2",
        "IPY_MODEL_34557dfbe10c4ed2ae9771cd663a81d1",
        "IPY_MODEL_3e526536396f474aa446ca01e44fff13",
        "IPY_MODEL_6075b4cb3c3249828879620edb8f38a9"
       ],
       "layout": "IPY_MODEL_6f4cc88f35aa4c61b002046dfae3b534"
      }
     },
     "50672bee28824636af757b281e95ac55": {
      "model_module": "@jupyter-widgets/base",
      "model_module_version": "1.1.0",
      "model_name": "LayoutModel",
      "state": {
       "width": "90px"
      }
     },
     "5087c1dbd1b74a5088f2e3c8557ef9fd": {
      "model_module": "@jupyter-widgets/controls",
      "model_module_version": "1.4.0",
      "model_name": "VBoxModel",
      "state": {
       "children": [
        "IPY_MODEL_11942f660d024c60949c864929c54e06",
        "IPY_MODEL_258af80b8e264e5fbf4eaf5bd9983cd7"
       ],
       "layout": "IPY_MODEL_5164254ecb6a4c58b47b6e539af4e6dd"
      }
     },
     "509123a795b64ca4bcb5a0da040f6c25": {
      "model_module": "@jupyter-widgets/controls",
      "model_module_version": "1.4.0",
      "model_name": "DescriptionStyleModel",
      "state": {
       "description_width": ""
      }
     },
     "50bc228848ad42a791e315d8290fd031": {
      "model_module": "@jupyter-widgets/controls",
      "model_module_version": "1.4.0",
      "model_name": "DescriptionStyleModel",
      "state": {
       "description_width": ""
      }
     },
     "50cd06184e3a481c9ca6e843c53a9bd4": {
      "model_module": "@jupyter-widgets/base",
      "model_module_version": "1.1.0",
      "model_name": "LayoutModel",
      "state": {}
     },
     "5160a4cd92d5427c80111b18031f026e": {
      "model_module": "@jupyter-widgets/controls",
      "model_module_version": "1.4.0",
      "model_name": "HBoxModel",
      "state": {
       "children": [
        "IPY_MODEL_7e6dc48431214dbe9d2a67bee3d6ebeb",
        "IPY_MODEL_6c407c57eb4f4d228ca182b9614c843e",
        "IPY_MODEL_eeeade8ea7794cf29edf7ebc78d1d9c2",
        "IPY_MODEL_8e06caece0254eedb846495e83b607d3",
        "IPY_MODEL_f3fdd82dba894c3db3bcc3f30f4f1ec8"
       ],
       "layout": "IPY_MODEL_f64d758a659440439e68b5079ea3a9af"
      }
     },
     "5164254ecb6a4c58b47b6e539af4e6dd": {
      "model_module": "@jupyter-widgets/base",
      "model_module_version": "1.1.0",
      "model_name": "LayoutModel",
      "state": {}
     },
     "51a0b131cfa3404d8a214f348dac3558": {
      "model_module": "@jupyter-widgets/controls",
      "model_module_version": "1.4.0",
      "model_name": "DescriptionStyleModel",
      "state": {
       "description_width": ""
      }
     },
     "51bc6b1574f247a1950d02fd79e6ada7": {
      "model_module": "@jupyter-widgets/controls",
      "model_module_version": "1.4.0",
      "model_name": "DropdownModel",
      "state": {
       "_options_labels": [
        "None",
        "black",
        "grey"
       ],
       "index": 0,
       "layout": "IPY_MODEL_b1b10cb9ceb3434191bc9e5cd668b707",
       "style": "IPY_MODEL_707dd4373ad143c7bbc8b7f3f71603dd"
      }
     },
     "51ebbfacdd97400fbd179027cc1741c0": {
      "model_module": "@jupyter-widgets/controls",
      "model_module_version": "1.4.0",
      "model_name": "DescriptionStyleModel",
      "state": {
       "description_width": ""
      }
     },
     "51f4df340e5d48e38e6b3dc1b75539a9": {
      "model_module": "@jupyter-widgets/base",
      "model_module_version": "1.1.0",
      "model_name": "LayoutModel",
      "state": {}
     },
     "52439b59bd374cf49cebb712ccf99bc8": {
      "model_module": "@jupyter-widgets/base",
      "model_module_version": "1.1.0",
      "model_name": "LayoutModel",
      "state": {}
     },
     "524b4583478148de885408ee66c747f4": {
      "model_module": "@jupyter-widgets/controls",
      "model_module_version": "1.4.0",
      "model_name": "DropdownModel",
      "state": {
       "_options_labels": [
        "segment",
        "covertype",
        "digits",
        "fall_detection",
        "mnist",
        "pen_digits",
        "satellite",
        "vowel"
       ],
       "description": "Dataset:",
       "index": 0,
       "layout": "IPY_MODEL_ebd9da6fd08341fcb0e8ecee055b1ddc",
       "style": "IPY_MODEL_d2bdd7fa973d40de802e4502a64bdd61"
      }
     },
     "5255ed9e6158493082f3bec13cc62332": {
      "model_module": "@jupyter-widgets/controls",
      "model_module_version": "1.4.0",
      "model_name": "DescriptionStyleModel",
      "state": {
       "description_width": ""
      }
     },
     "525f8cc4a2c64fe4bad03c6b5b1956ce": {
      "model_module": "@jupyter-widgets/controls",
      "model_module_version": "1.4.0",
      "model_name": "LabelModel",
      "state": {
       "layout": "IPY_MODEL_dd4cec9636144d2db69ec0e5d4246a21",
       "style": "IPY_MODEL_20cbc8cf121547e8b56d5c0e46fa5c1d",
       "value": "Box Type"
      }
     },
     "527d1146263d4d9296428277e18de712": {
      "model_module": "@jupyter-widgets/controls",
      "model_module_version": "1.4.0",
      "model_name": "ButtonModel",
      "state": {
       "button_style": "info",
       "description": "Add model",
       "layout": "IPY_MODEL_55331e67563f4bac9e62c2b4bd5a70e0",
       "style": "IPY_MODEL_42e39ad3ff5e4573be6e240811e5a515"
      }
     },
     "52cb7d769a634d9abcae3a10fa543882": {
      "model_module": "@jupyter-widgets/controls",
      "model_module_version": "1.4.0",
      "model_name": "ButtonStyleModel",
      "state": {}
     },
     "52d8de0e99be4528855d6e96cfe45340": {
      "model_module": "@jupyter-widgets/controls",
      "model_module_version": "1.4.0",
      "model_name": "LabelModel",
      "state": {
       "layout": "IPY_MODEL_ab639b50882140d09efbe4b6e36c5ced",
       "style": "IPY_MODEL_364986e4d3aa48c8b47c0c2c71d3adba",
       "value": "PCA?"
      }
     },
     "52ebc56d6d31440e8360b58dcba97524": {
      "model_module": "@jupyter-widgets/controls",
      "model_module_version": "1.4.0",
      "model_name": "DescriptionStyleModel",
      "state": {
       "description_width": ""
      }
     },
     "52f24ab66dd549a7982496906e4e7a60": {
      "model_module": "@jupyter-widgets/base",
      "model_module_version": "1.1.0",
      "model_name": "LayoutModel",
      "state": {
       "width": "90px"
      }
     },
     "530c86ccfe8e49a1a24a08bc84326031": {
      "model_module": "@jupyter-widgets/controls",
      "model_module_version": "1.4.0",
      "model_name": "DescriptionStyleModel",
      "state": {
       "description_width": ""
      }
     },
     "53325b07e2264b0a846723602d9ae703": {
      "model_module": "@jupyter-widgets/base",
      "model_module_version": "1.1.0",
      "model_name": "LayoutModel",
      "state": {}
     },
     "5377ab40046b4caa91085cf068a305be": {
      "model_module": "@jupyter-widgets/controls",
      "model_module_version": "1.4.0",
      "model_name": "ButtonStyleModel",
      "state": {}
     },
     "5382d5d5ef904556baf6fee865df0915": {
      "model_module": "@jupyter-widgets/controls",
      "model_module_version": "1.4.0",
      "model_name": "DropdownModel",
      "state": {
       "_options_labels": [
        "None",
        "rbf",
        "nystroem"
       ],
       "index": 0,
       "layout": "IPY_MODEL_c9163b26d8e34f43856944862637a9bd",
       "style": "IPY_MODEL_6b35a8b3a2ec43dba8937dbaed0a7f61"
      }
     },
     "540f75568470421098397de23a3cedf4": {
      "model_module": "@jupyter-widgets/base",
      "model_module_version": "1.1.0",
      "model_name": "LayoutModel",
      "state": {}
     },
     "5419c3d541c743f8988d1e8a11f49224": {
      "model_module": "@jupyter-widgets/base",
      "model_module_version": "1.1.0",
      "model_name": "LayoutModel",
      "state": {
       "width": "90px"
      }
     },
     "541a73fab08b46098b70ab952b234b89": {
      "model_module": "@jupyter-widgets/controls",
      "model_module_version": "1.4.0",
      "model_name": "DescriptionStyleModel",
      "state": {
       "description_width": ""
      }
     },
     "5429d17d368643fab29fa925dc9f56a8": {
      "model_module": "@jupyter-widgets/controls",
      "model_module_version": "1.4.0",
      "model_name": "RadioButtonsModel",
      "state": {
       "_options_labels": [
        "1000",
        "2000",
        "5000",
        "10000"
       ],
       "description": "Size",
       "index": 0,
       "layout": "IPY_MODEL_ee4a196c8486488da6876d6569a03785",
       "style": "IPY_MODEL_824702b3fbf64dc695981e19eeec8141"
      }
     },
     "54849b0bbd0345e1b458feccbc59d295": {
      "model_module": "@jupyter-widgets/controls",
      "model_module_version": "1.4.0",
      "model_name": "DescriptionStyleModel",
      "state": {
       "description_width": ""
      }
     },
     "548e1e3919e14ec78987048599dd59bd": {
      "model_module": "@jupyter-widgets/base",
      "model_module_version": "1.1.0",
      "model_name": "LayoutModel",
      "state": {}
     },
     "54ac3ed6027a4a2b88ebf2a47b326167": {
      "model_module": "@jupyter-widgets/base",
      "model_module_version": "1.1.0",
      "model_name": "LayoutModel",
      "state": {}
     },
     "54b21d9cf88945a5889e8498478d96e4": {
      "model_module": "@jupyter-widgets/controls",
      "model_module_version": "1.4.0",
      "model_name": "VBoxModel",
      "state": {
       "children": [
        "IPY_MODEL_4524818f955d4e9da3117443878d10fb",
        "IPY_MODEL_09cd661efb7147aba0a2940aa3986074"
       ],
       "layout": "IPY_MODEL_92e201e43c21459fa7888d32cc33adbd"
      }
     },
     "54cac7a71d4e46148fd98350611fd149": {
      "model_module": "@jupyter-widgets/controls",
      "model_module_version": "1.4.0",
      "model_name": "ButtonModel",
      "state": {
       "button_style": "warning",
       "description": "Remove model",
       "layout": "IPY_MODEL_9f25a652d11244cb9b1ef6fd352ed631",
       "style": "IPY_MODEL_5f024ab14faa4e8a9b84e3fda97a6087"
      }
     },
     "54f6585ec3a142feab54f8f0b4496a59": {
      "model_module": "@jupyter-widgets/controls",
      "model_module_version": "1.4.0",
      "model_name": "DescriptionStyleModel",
      "state": {
       "description_width": ""
      }
     },
     "55173351225c4db69e56abc1eec35a11": {
      "model_module": "@jupyter-widgets/base",
      "model_module_version": "1.1.0",
      "model_name": "LayoutModel",
      "state": {}
     },
     "55331e67563f4bac9e62c2b4bd5a70e0": {
      "model_module": "@jupyter-widgets/base",
      "model_module_version": "1.1.0",
      "model_name": "LayoutModel",
      "state": {}
     },
     "5556a07839404902bfe8945ad9ddce63": {
      "model_module": "@jupyter-widgets/base",
      "model_module_version": "1.1.0",
      "model_name": "LayoutModel",
      "state": {}
     },
     "560a05928ab74940a4e9546153380b54": {
      "model_module": "@jupyter-widgets/base",
      "model_module_version": "1.1.0",
      "model_name": "LayoutModel",
      "state": {}
     },
     "561a1b25b21045de8bead24cd813c5cc": {
      "model_module": "@jupyter-widgets/base",
      "model_module_version": "1.1.0",
      "model_name": "LayoutModel",
      "state": {}
     },
     "562f31c2a49d4553ab0cb1e875b5b8d1": {
      "model_module": "@jupyter-widgets/controls",
      "model_module_version": "1.4.0",
      "model_name": "DescriptionStyleModel",
      "state": {
       "description_width": ""
      }
     },
     "565769271fe14b52ab53ef1cddd20d8e": {
      "model_module": "@jupyter-widgets/controls",
      "model_module_version": "1.4.0",
      "model_name": "ButtonModel",
      "state": {
       "button_style": "warning",
       "description": "Remove model",
       "layout": "IPY_MODEL_78b0ea77e6094c91a5b05f96db775afc",
       "style": "IPY_MODEL_799af0aa6d944c4bbd48f91384315ce8"
      }
     },
     "565e3a9f50d144c08b19f980431b3859": {
      "model_module": "@jupyter-widgets/controls",
      "model_module_version": "1.4.0",
      "model_name": "RadioButtonsModel",
      "state": {
       "_options_labels": [
        "1000",
        "2000",
        "5000",
        "10000"
       ],
       "description": "Size",
       "index": 0,
       "layout": "IPY_MODEL_d071bc2c03964921a0038d33ea4db122",
       "style": "IPY_MODEL_541a73fab08b46098b70ab952b234b89"
      }
     },
     "5686c35f3c9c42da9ba69a65f6b15734": {
      "model_module": "@jupyter-widgets/controls",
      "model_module_version": "1.4.0",
      "model_name": "CheckboxModel",
      "state": {
       "disabled": false,
       "layout": "IPY_MODEL_83a0170a04e644d3826e4c2798616ad8",
       "style": "IPY_MODEL_db047a3eb07547bdad6c4fd314b7249b",
       "value": false
      }
     },
     "57061aa5031d4041a85780f186e25930": {
      "model_module": "@jupyter-widgets/controls",
      "model_module_version": "1.4.0",
      "model_name": "ButtonStyleModel",
      "state": {}
     },
     "57064e5c05494b119241ae3ea5236b37": {
      "model_module": "@jupyter-widgets/controls",
      "model_module_version": "1.4.0",
      "model_name": "IntRangeSliderModel",
      "state": {
       "_model_name": "IntRangeSliderModel",
       "_view_name": "IntRangeSliderView",
       "disabled": true,
       "layout": "IPY_MODEL_1c71eff304eb4c6287fea6599ef107d9",
       "max": 400,
       "min": 30,
       "step": 10,
       "style": "IPY_MODEL_a40fc94299064f429181f63fcdf7162d",
       "value": [
        30,
        100
       ]
      }
     },
     "57209a3270f54978a301aa178be60c39": {
      "model_module": "@jupyter-widgets/base",
      "model_module_version": "1.1.0",
      "model_name": "LayoutModel",
      "state": {}
     },
     "573d2a36aa0e4b63a31194244a06fca7": {
      "model_module": "@jupyter-widgets/controls",
      "model_module_version": "1.4.0",
      "model_name": "ButtonModel",
      "state": {
       "button_style": "warning",
       "description": "Remove model",
       "layout": "IPY_MODEL_b2d9f0322c46481e99ea43577238e20a",
       "style": "IPY_MODEL_3162d534b3304e82869642029645a380"
      }
     },
     "574c865442924173847f4c92f84824f0": {
      "model_module": "@jupyter-widgets/controls",
      "model_module_version": "1.4.0",
      "model_name": "SliderStyleModel",
      "state": {
       "description_width": ""
      }
     },
     "57555d5866c24359916b8477170457b6": {
      "model_module": "@jupyter-widgets/controls",
      "model_module_version": "1.4.0",
      "model_name": "DropdownModel",
      "state": {
       "_options_labels": [
        "None",
        "rbf",
        "nystroem"
       ],
       "index": 0,
       "layout": "IPY_MODEL_c626dcc06c354740aedb2259bfa66902",
       "style": "IPY_MODEL_732b1b7d59514795b4f873e5cd1650ab"
      }
     },
     "5755fff9cad64119ad383ad9c456b22b": {
      "model_module": "@jupyter-widgets/controls",
      "model_module_version": "1.4.0",
      "model_name": "DescriptionStyleModel",
      "state": {
       "description_width": ""
      }
     },
     "578605d9fed74771988963651fe33ebf": {
      "model_module": "@jupyter-widgets/controls",
      "model_module_version": "1.4.0",
      "model_name": "ButtonModel",
      "state": {
       "button_style": "info",
       "description": "Add model",
       "layout": "IPY_MODEL_8348deed7b7f43099e00fac4168a5e41",
       "style": "IPY_MODEL_60531502f17847fabf3367fdf428d12e"
      }
     },
     "578cd31dfa0848218c624dbde1a16887": {
      "model_module": "@jupyter-widgets/controls",
      "model_module_version": "1.4.0",
      "model_name": "DescriptionStyleModel",
      "state": {
       "description_width": ""
      }
     },
     "57a818833bb3452b8f2c01aeaac44fd8": {
      "model_module": "@jupyter-widgets/base",
      "model_module_version": "1.1.0",
      "model_name": "LayoutModel",
      "state": {}
     },
     "57ada27416464c04abe07b8b2d9535a3": {
      "model_module": "@jupyter-widgets/base",
      "model_module_version": "1.1.0",
      "model_name": "LayoutModel",
      "state": {}
     },
     "57b22eb835dc4b849117e05021e894c3": {
      "model_module": "@jupyter-widgets/controls",
      "model_module_version": "1.4.0",
      "model_name": "IntRangeSliderModel",
      "state": {
       "_model_name": "IntRangeSliderModel",
       "_view_name": "IntRangeSliderView",
       "layout": "IPY_MODEL_29875257641c43dc99cf0f357dfcf9b0",
       "max": 400,
       "min": 30,
       "step": 10,
       "style": "IPY_MODEL_eb6c726e33c14d0da701ccd3c0c8bbf2",
       "value": [
        30,
        50
       ]
      }
     },
     "57b2817233be4709a89d3ecc92629cff": {
      "model_module": "@jupyter-widgets/base",
      "model_module_version": "1.1.0",
      "model_name": "LayoutModel",
      "state": {}
     },
     "57bd95ef7a2e406ca36aa0a85eb7555d": {
      "model_module": "@jupyter-widgets/controls",
      "model_module_version": "1.4.0",
      "model_name": "LabelModel",
      "state": {
       "layout": "IPY_MODEL_b359dd3137074dce91903abc52347b22",
       "style": "IPY_MODEL_4693bdd19bfc4c2a808b326c05d0a112",
       "value": "PCA?"
      }
     },
     "57c249dcf5854eb3aafe7817bff9bad6": {
      "model_module": "@jupyter-widgets/base",
      "model_module_version": "1.1.0",
      "model_name": "LayoutModel",
      "state": {}
     },
     "57dbc9581bcb4c908b3931df455cf843": {
      "model_module": "@jupyter-widgets/controls",
      "model_module_version": "1.4.0",
      "model_name": "DescriptionStyleModel",
      "state": {
       "description_width": ""
      }
     },
     "57e91d3db0544add8289d3b2bbbd1980": {
      "model_module": "@jupyter-widgets/controls",
      "model_module_version": "1.4.0",
      "model_name": "DropdownModel",
      "state": {
       "_options_labels": [
        "dt",
        "logit",
        "linear_svc"
       ],
       "index": 1,
       "layout": "IPY_MODEL_c626dcc06c354740aedb2259bfa66902",
       "style": "IPY_MODEL_883cddf5dfda408fb2d0f3fce55ee9a2"
      }
     },
     "5805bd3574564443b6a4b99a01bfe2ac": {
      "model_module": "@jupyter-widgets/base",
      "model_module_version": "1.1.0",
      "model_name": "LayoutModel",
      "state": {}
     },
     "5806d153c0f04a61a3732612b1dd664f": {
      "model_module": "@jupyter-widgets/base",
      "model_module_version": "1.1.0",
      "model_name": "LayoutModel",
      "state": {}
     },
     "5821d8de52154f6d9bab2cf2cd8a0948": {
      "model_module": "@jupyter-widgets/base",
      "model_module_version": "1.1.0",
      "model_name": "LayoutModel",
      "state": {}
     },
     "5836a79c74c04f3f90dd8c3186386127": {
      "model_module": "@jupyter-widgets/controls",
      "model_module_version": "1.4.0",
      "model_name": "ButtonStyleModel",
      "state": {}
     },
     "5863729ba38b4810b11e0e87b167e2f7": {
      "model_module": "@jupyter-widgets/controls",
      "model_module_version": "1.4.0",
      "model_name": "DescriptionStyleModel",
      "state": {
       "description_width": ""
      }
     },
     "5865de9dd40d48eda70ac93558e850dd": {
      "model_module": "@jupyter-widgets/base",
      "model_module_version": "1.1.0",
      "model_name": "LayoutModel",
      "state": {}
     },
     "586eea64d8ab4467a2173b3db8380f5f": {
      "model_module": "@jupyter-widgets/base",
      "model_module_version": "1.1.0",
      "model_name": "LayoutModel",
      "state": {}
     },
     "587ac7df3051439cb80ebe45eefdc731": {
      "model_module": "@jupyter-widgets/controls",
      "model_module_version": "1.4.0",
      "model_name": "DescriptionStyleModel",
      "state": {
       "description_width": ""
      }
     },
     "587e40e4958d444fab8d26da96921f8b": {
      "model_module": "@jupyter-widgets/controls",
      "model_module_version": "1.4.0",
      "model_name": "VBoxModel",
      "state": {
       "children": [
        "IPY_MODEL_57bd95ef7a2e406ca36aa0a85eb7555d",
        "IPY_MODEL_c21090e70b9746bebd463ff1a3c5f234",
        "IPY_MODEL_9b535c86d69a453fa564dcdf62b07365"
       ],
       "layout": "IPY_MODEL_cc382343620645789c6c79817d49f31b"
      }
     },
     "58e3c017d9f4456f8ce65756cf563647": {
      "model_module": "@jupyter-widgets/base",
      "model_module_version": "1.1.0",
      "model_name": "LayoutModel",
      "state": {}
     },
     "58e40c70cc324e47a71befc213802a15": {
      "model_module": "@jupyter-widgets/base",
      "model_module_version": "1.1.0",
      "model_name": "LayoutModel",
      "state": {}
     },
     "59084b7dc9024c3faed09310554210bb": {
      "model_module": "@jupyter-widgets/controls",
      "model_module_version": "1.4.0",
      "model_name": "VBoxModel",
      "state": {
       "children": [
        "IPY_MODEL_2c5b157bbefd422d817504d0a9fdf58c",
        "IPY_MODEL_b4087648f8c7438281a005ca947d56b4"
       ],
       "layout": "IPY_MODEL_915e4538a9b5453eab0ef9564298ee60"
      }
     },
     "5936c1783d544c8db7bd231bea122138": {
      "model_module": "@jupyter-widgets/controls",
      "model_module_version": "1.4.0",
      "model_name": "DescriptionStyleModel",
      "state": {
       "description_width": ""
      }
     },
     "596acefb5858477b84e3925bba749549": {
      "model_module": "@jupyter-widgets/controls",
      "model_module_version": "1.4.0",
      "model_name": "DescriptionStyleModel",
      "state": {
       "description_width": ""
      }
     },
     "596ed3ee5b194642855a883fbfe2d896": {
      "model_module": "@jupyter-widgets/controls",
      "model_module_version": "1.4.0",
      "model_name": "DropdownModel",
      "state": {
       "_options_labels": [
        "None",
        "black",
        "grey"
       ],
       "index": 0,
       "layout": "IPY_MODEL_7a30f477fc514a29a565390c09d69adc",
       "style": "IPY_MODEL_3d362edbfc3c409aa60f735678a852f1"
      }
     },
     "597cc5aace8b49c98953dd63b0241f58": {
      "model_module": "@jupyter-widgets/controls",
      "model_module_version": "1.4.0",
      "model_name": "RadioButtonsModel",
      "state": {
       "_options_labels": [
        "1000",
        "2000",
        "5000",
        "10000"
       ],
       "description": "Size",
       "index": 0,
       "layout": "IPY_MODEL_040db29a4ca845a58693bb65d9f171fa",
       "style": "IPY_MODEL_a8b75e9225484fa4ad437f02244f0608"
      }
     },
     "5989fa8a98354774a90bce0d6e2909e2": {
      "model_module": "@jupyter-widgets/controls",
      "model_module_version": "1.4.0",
      "model_name": "DescriptionStyleModel",
      "state": {
       "description_width": ""
      }
     },
     "59920c0f810c40bca303b9b1033e3ac5": {
      "model_module": "@jupyter-widgets/controls",
      "model_module_version": "1.4.0",
      "model_name": "DescriptionStyleModel",
      "state": {
       "description_width": ""
      }
     },
     "59c34d8335fd4f2caa75f63a5c3247d8": {
      "model_module": "@jupyter-widgets/controls",
      "model_module_version": "1.4.0",
      "model_name": "DescriptionStyleModel",
      "state": {
       "description_width": ""
      }
     },
     "59c42117fe2c41e083b3a8f665ce2258": {
      "model_module": "@jupyter-widgets/output",
      "model_module_version": "1.0.0",
      "model_name": "OutputModel",
      "state": {
       "layout": "IPY_MODEL_d4d17b01069e488dbb139626582b9935"
      }
     },
     "59edf68229704deb920b87c119dc4652": {
      "model_module": "@jupyter-widgets/base",
      "model_module_version": "1.1.0",
      "model_name": "LayoutModel",
      "state": {}
     },
     "5a1c47c189094015bd2c325b58bcf279": {
      "model_module": "@jupyter-widgets/base",
      "model_module_version": "1.1.0",
      "model_name": "LayoutModel",
      "state": {}
     },
     "5a4a7a1e52084da38ae297fc3ca2032e": {
      "model_module": "@jupyter-widgets/controls",
      "model_module_version": "1.4.0",
      "model_name": "ButtonModel",
      "state": {
       "button_style": "warning",
       "description": "Remove model",
       "layout": "IPY_MODEL_db5788f2ea9044999085122b1a028f3c",
       "style": "IPY_MODEL_9e75d0667f514708a3ef2eaf64be5e3e"
      }
     },
     "5a55d116cd364d078f5297747edf1757": {
      "model_module": "@jupyter-widgets/base",
      "model_module_version": "1.1.0",
      "model_name": "LayoutModel",
      "state": {
       "width": "90px"
      }
     },
     "5a57f5f808d94b9c835d87ce314e1c25": {
      "model_module": "@jupyter-widgets/base",
      "model_module_version": "1.1.0",
      "model_name": "LayoutModel",
      "state": {}
     },
     "5a5dc4fb72f3410aa7e62460389f0ffc": {
      "model_module": "@jupyter-widgets/controls",
      "model_module_version": "1.4.0",
      "model_name": "HBoxModel",
      "state": {
       "children": [
        "IPY_MODEL_8728c9a1314c4c69b689a9f5fb302f74",
        "IPY_MODEL_32e9070a1dc04402800b8d2b9943e507",
        "IPY_MODEL_fd7bd42b161b4e15b5956724703e8549",
        "IPY_MODEL_7c0fd07f1c694c28a661581db18dbebc",
        "IPY_MODEL_bab040bd67ad47cf94fd42d0bb66e965"
       ],
       "layout": "IPY_MODEL_d9e6ae3dda754215b4f29fb9c60de22c"
      }
     },
     "5ab9df7d523947a488d4a17d530a4739": {
      "model_module": "@jupyter-widgets/base",
      "model_module_version": "1.1.0",
      "model_name": "LayoutModel",
      "state": {}
     },
     "5ada4618dd1d4cf5ac44cd72bfd01aaf": {
      "model_module": "@jupyter-widgets/controls",
      "model_module_version": "1.4.0",
      "model_name": "LabelModel",
      "state": {
       "layout": "IPY_MODEL_8461bbadf8bf4ab382d472c114757374",
       "style": "IPY_MODEL_005003e81d2643f2b951c00969833668",
       "value": "PCA?"
      }
     },
     "5adefe08e42047da85cab3e046cec662": {
      "model_module": "@jupyter-widgets/controls",
      "model_module_version": "1.4.0",
      "model_name": "SliderStyleModel",
      "state": {
       "description_width": ""
      }
     },
     "5aee9ecd92444f77bdb8e2d1aceeeecc": {
      "model_module": "@jupyter-widgets/controls",
      "model_module_version": "1.4.0",
      "model_name": "SliderStyleModel",
      "state": {
       "description_width": ""
      }
     },
     "5b257d5ddb6c45d69fc9c887fa4afe4a": {
      "model_module": "@jupyter-widgets/controls",
      "model_module_version": "1.4.0",
      "model_name": "SliderStyleModel",
      "state": {
       "description_width": ""
      }
     },
     "5b2a04394c3546cd910e4e8bdf1403da": {
      "model_module": "@jupyter-widgets/base",
      "model_module_version": "1.1.0",
      "model_name": "LayoutModel",
      "state": {
       "border": "3px solid black"
      }
     },
     "5b369505aff34c8cbd6244dc4c1c48a3": {
      "model_module": "@jupyter-widgets/controls",
      "model_module_version": "1.4.0",
      "model_name": "DescriptionStyleModel",
      "state": {
       "description_width": ""
      }
     },
     "5b40226f507848ff801aa2972b09b0d1": {
      "model_module": "@jupyter-widgets/controls",
      "model_module_version": "1.4.0",
      "model_name": "ButtonModel",
      "state": {
       "button_style": "info",
       "description": "Demo0",
       "layout": "IPY_MODEL_a2c908e1f76948ebaa983479e6d71eb5",
       "style": "IPY_MODEL_52cb7d769a634d9abcae3a10fa543882"
      }
     },
     "5b60500110674fc88dfc40a868e2b190": {
      "model_module": "@jupyter-widgets/base",
      "model_module_version": "1.1.0",
      "model_name": "LayoutModel",
      "state": {}
     },
     "5b7d49772c234ff4ada944c9f5d97390": {
      "model_module": "@jupyter-widgets/base",
      "model_module_version": "1.1.0",
      "model_name": "LayoutModel",
      "state": {}
     },
     "5bc717831500431f851a928ecbb2d4fa": {
      "model_module": "@jupyter-widgets/base",
      "model_module_version": "1.1.0",
      "model_name": "LayoutModel",
      "state": {
       "visibility": "hidden",
       "width": "300px"
      }
     },
     "5c07cb7f04c24a2baec810241ac85915": {
      "model_module": "@jupyter-widgets/base",
      "model_module_version": "1.1.0",
      "model_name": "LayoutModel",
      "state": {
       "visibility": "hidden",
       "width": "300px"
      }
     },
     "5c0ce5be5bb641fba6d8eda13fcbc82c": {
      "model_module": "@jupyter-widgets/controls",
      "model_module_version": "1.4.0",
      "model_name": "LabelModel",
      "state": {
       "layout": "IPY_MODEL_3b0616380569460c8a169a0fc0f5a56f",
       "style": "IPY_MODEL_feb5f3ae3397491aae0862e7a0b9c2e5",
       "value": "Model"
      }
     },
     "5c339a1ae742499eba98ace963101d8f": {
      "model_module": "@jupyter-widgets/controls",
      "model_module_version": "1.4.0",
      "model_name": "VBoxModel",
      "state": {
       "children": [
        "IPY_MODEL_8a43d8f55d39421b9fe8d82a598d87e0",
        "IPY_MODEL_449781f4235b47ab935bef7b7535bee0"
       ],
       "layout": "IPY_MODEL_d03bc1db0c974a8f95051b07418f1970"
      }
     },
     "5c6b15c949e74d5d89c65c5ab58e9cf8": {
      "model_module": "@jupyter-widgets/base",
      "model_module_version": "1.1.0",
      "model_name": "LayoutModel",
      "state": {}
     },
     "5c6fbcde6ec748dd8d88fe6941b0912e": {
      "model_module": "@jupyter-widgets/controls",
      "model_module_version": "1.4.0",
      "model_name": "VBoxModel",
      "state": {
       "children": [
        "IPY_MODEL_7ec1a70eac924ad886f1815b5165c98c",
        "IPY_MODEL_7a3022ab65a44534a70a6eec8b96e897"
       ],
       "layout": "IPY_MODEL_234cd9c471ab4f60b06908e0aaa14fad"
      }
     },
     "5c77070416d341ab8db49715ad171576": {
      "model_module": "@jupyter-widgets/controls",
      "model_module_version": "1.4.0",
      "model_name": "DropdownModel",
      "state": {
       "_options_labels": [
        "dt",
        "logit",
        "linear_svc"
       ],
       "index": 2,
       "layout": "IPY_MODEL_d31361d253c240eda4f6e27cbf7d568e",
       "style": "IPY_MODEL_b9eb349a2d324e7ba462b8fd89974a73"
      }
     },
     "5cbc56c38b244b0f9c30c81f60f4bc8d": {
      "model_module": "@jupyter-widgets/controls",
      "model_module_version": "1.4.0",
      "model_name": "DescriptionStyleModel",
      "state": {
       "description_width": ""
      }
     },
     "5d023def197e4fada04cec464469c815": {
      "model_module": "@jupyter-widgets/controls",
      "model_module_version": "1.4.0",
      "model_name": "SliderStyleModel",
      "state": {
       "description_width": ""
      }
     },
     "5d06b495313a49f79b1f9a18d84a7bc8": {
      "model_module": "@jupyter-widgets/controls",
      "model_module_version": "1.4.0",
      "model_name": "VBoxModel",
      "state": {
       "children": [
        "IPY_MODEL_4b3f54fc9a414bad93355fc165df6834",
        "IPY_MODEL_e5d80d2f27e342e2ac684327428e3655",
        "IPY_MODEL_ec29b68f2a6e4ffd857fada931a2e289"
       ],
       "layout": "IPY_MODEL_06ee08b47c0c4fd7b64d3b295628df69"
      }
     },
     "5d48b97e991549caa4aeda0d207b909b": {
      "model_module": "@jupyter-widgets/base",
      "model_module_version": "1.1.0",
      "model_name": "LayoutModel",
      "state": {}
     },
     "5d4cb3e9c6934c1c9b4a7558d04b545e": {
      "model_module": "@jupyter-widgets/base",
      "model_module_version": "1.1.0",
      "model_name": "LayoutModel",
      "state": {}
     },
     "5d583d40fd564be7afe595ab0a835fb2": {
      "model_module": "@jupyter-widgets/controls",
      "model_module_version": "1.4.0",
      "model_name": "VBoxModel",
      "state": {
       "children": [
        "IPY_MODEL_6ddae5a4303544c99d36cb69b4a58e1c",
        "IPY_MODEL_eb1a5859d2ce4e42b32cd95c1fd158e7",
        "IPY_MODEL_0641151589824290b829950f1be25d23"
       ],
       "layout": "IPY_MODEL_0f6b4552882f40ddaeb131fcb297c7b3"
      }
     },
     "5d740c2a32e647fbb2c5c5e2c5497e65": {
      "model_module": "@jupyter-widgets/controls",
      "model_module_version": "1.4.0",
      "model_name": "SliderStyleModel",
      "state": {
       "description_width": ""
      }
     },
     "5d9a9c31081348418729b6324977bdf7": {
      "model_module": "@jupyter-widgets/base",
      "model_module_version": "1.1.0",
      "model_name": "LayoutModel",
      "state": {
       "visibility": "visible",
       "width": "300px"
      }
     },
     "5df2353468da403d94001fd70bcf44ee": {
      "model_module": "@jupyter-widgets/base",
      "model_module_version": "1.1.0",
      "model_name": "LayoutModel",
      "state": {}
     },
     "5e06199abd3a4c8f95d402ca81454e3d": {
      "model_module": "@jupyter-widgets/controls",
      "model_module_version": "1.4.0",
      "model_name": "HBoxModel",
      "state": {
       "children": [
        "IPY_MODEL_5d06b495313a49f79b1f9a18d84a7bc8",
        "IPY_MODEL_4ec7fe7a93cc40f8a527a8361a428c60",
        "IPY_MODEL_dcd634e8b0c8401e8f45118b05c41060",
        "IPY_MODEL_49e7e45257fc4e2eaec1f37bd3316012",
        "IPY_MODEL_259bc3c96a3d40459cfea8acf9b632b5"
       ],
       "layout": "IPY_MODEL_068520a453a24761b6d2e8d96753144f"
      }
     },
     "5e38539027cd4d55bace224174d93414": {
      "model_module": "@jupyter-widgets/controls",
      "model_module_version": "1.4.0",
      "model_name": "DescriptionStyleModel",
      "state": {
       "description_width": ""
      }
     },
     "5e451cf026c74bf799f1e9828176c984": {
      "model_module": "@jupyter-widgets/output",
      "model_module_version": "1.0.0",
      "model_name": "OutputModel",
      "state": {
       "layout": "IPY_MODEL_452cd7d6e9fa45c194de295a41550021",
       "outputs": [
        {
         "data": {
          "text/markdown": "\n- Dataset: **covertype**\n- Size: **5000**\n        ",
          "text/plain": "<IPython.core.display.Markdown object>"
         },
         "metadata": {},
         "output_type": "display_data"
        },
        {
         "data": {
          "image/png": "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\n",
          "text/plain": "<Figure size 921.6x345.6 with 2 Axes>"
         },
         "metadata": {},
         "output_type": "display_data"
        }
       ]
      }
     },
     "5e6367fe842743af9b609891066485ba": {
      "model_module": "@jupyter-widgets/base",
      "model_module_version": "1.1.0",
      "model_name": "LayoutModel",
      "state": {}
     },
     "5e7706ae057f4f43ac7b7dffbcdda0fb": {
      "model_module": "@jupyter-widgets/controls",
      "model_module_version": "1.4.0",
      "model_name": "DescriptionStyleModel",
      "state": {
       "description_width": ""
      }
     },
     "5e846fa4c3d3429888b5abbe14a059ae": {
      "model_module": "@jupyter-widgets/controls",
      "model_module_version": "1.4.0",
      "model_name": "DropdownModel",
      "state": {
       "_options_labels": [
        "None",
        "black",
        "grey"
       ],
       "index": 0,
       "layout": "IPY_MODEL_d2011f0b255b48308d0aa9e514fc65f4",
       "style": "IPY_MODEL_9d0b3e6d1aa04ee9bff6189b7135434c"
      }
     },
     "5e94971646364e398fc693718b94e9b5": {
      "model_module": "@jupyter-widgets/controls",
      "model_module_version": "1.4.0",
      "model_name": "DropdownModel",
      "state": {
       "_options_labels": [
        "None",
        "rbf",
        "nystroem"
       ],
       "index": 1,
       "layout": "IPY_MODEL_a77188c993b74300a2efaa8ada98b63f",
       "style": "IPY_MODEL_ceea3d36eaf343f3a16df7410ab9399c"
      }
     },
     "5e9eefb65587469cac89b112caedf544": {
      "model_module": "@jupyter-widgets/base",
      "model_module_version": "1.1.0",
      "model_name": "LayoutModel",
      "state": {
       "width": "90px"
      }
     },
     "5ee4873391d64643affdb57436e23c12": {
      "model_module": "@jupyter-widgets/base",
      "model_module_version": "1.1.0",
      "model_name": "LayoutModel",
      "state": {}
     },
     "5f024ab14faa4e8a9b84e3fda97a6087": {
      "model_module": "@jupyter-widgets/controls",
      "model_module_version": "1.4.0",
      "model_name": "ButtonStyleModel",
      "state": {}
     },
     "5f2d74247dc7488e9b7a6a013cc9ce9c": {
      "model_module": "@jupyter-widgets/controls",
      "model_module_version": "1.4.0",
      "model_name": "ButtonStyleModel",
      "state": {}
     },
     "5f58755e50c748b9aa5b52638daf29d5": {
      "model_module": "@jupyter-widgets/controls",
      "model_module_version": "1.4.0",
      "model_name": "DescriptionStyleModel",
      "state": {
       "description_width": ""
      }
     },
     "5f65a2b2de064444b0295a92e73542e3": {
      "model_module": "@jupyter-widgets/base",
      "model_module_version": "1.1.0",
      "model_name": "LayoutModel",
      "state": {}
     },
     "5f98ad6f2fd5406f9174349fef860915": {
      "model_module": "@jupyter-widgets/controls",
      "model_module_version": "1.4.0",
      "model_name": "CheckboxModel",
      "state": {
       "disabled": false,
       "layout": "IPY_MODEL_9658539edc0c41e892312ee0e2990c64",
       "style": "IPY_MODEL_998a4d82176246cda0e3d28edbd838e2",
       "value": false
      }
     },
     "5fa291ca790f437a8d70d514297d489e": {
      "model_module": "@jupyter-widgets/base",
      "model_module_version": "1.1.0",
      "model_name": "LayoutModel",
      "state": {}
     },
     "5fbc6af442ce4611b876b4011b57ce6d": {
      "model_module": "@jupyter-widgets/controls",
      "model_module_version": "1.4.0",
      "model_name": "RadioButtonsModel",
      "state": {
       "_options_labels": [
        "1000",
        "2000",
        "5000",
        "10000"
       ],
       "description": "Size",
       "index": 0,
       "layout": "IPY_MODEL_b6c2baa06669488bb891633370817849",
       "style": "IPY_MODEL_c3853b639b9440a48689123d8b9bcf18"
      }
     },
     "5fdf3ded65e54fb28801ab979462ca16": {
      "model_module": "@jupyter-widgets/controls",
      "model_module_version": "1.4.0",
      "model_name": "DescriptionStyleModel",
      "state": {
       "description_width": ""
      }
     },
     "5fe4474068e54db29d50030eaceecd4a": {
      "model_module": "@jupyter-widgets/base",
      "model_module_version": "1.1.0",
      "model_name": "LayoutModel",
      "state": {}
     },
     "600078cfe0314c9d858eabf415cc2924": {
      "model_module": "@jupyter-widgets/controls",
      "model_module_version": "1.4.0",
      "model_name": "RadioButtonsModel",
      "state": {
       "_options_labels": [
        "1000",
        "2000",
        "5000",
        "10000"
       ],
       "description": "Size",
       "index": 2,
       "layout": "IPY_MODEL_7a3307b76e84428cb3e7c96a89089618",
       "style": "IPY_MODEL_a9da83c8d33f41638d9046acac7cc682"
      }
     },
     "60049a0abdc54e1db17109b4c65f14ad": {
      "model_module": "@jupyter-widgets/controls",
      "model_module_version": "1.4.0",
      "model_name": "VBoxModel",
      "state": {
       "children": [
        "IPY_MODEL_525f8cc4a2c64fe4bad03c6b5b1956ce",
        "IPY_MODEL_969d2b1aee4b4b00999be0f02d1884bb",
        "IPY_MODEL_596ed3ee5b194642855a883fbfe2d896"
       ],
       "layout": "IPY_MODEL_b02443af976c4437ba172e9ad7f1795e"
      }
     },
     "601b9a4a4c724067aea7e1a588caa0b4": {
      "model_module": "@jupyter-widgets/controls",
      "model_module_version": "1.4.0",
      "model_name": "VBoxModel",
      "state": {
       "children": [
        "IPY_MODEL_2436897584ad41fdadfc251fd8b11336",
        "IPY_MODEL_28e8a3e3b037481ebd5d9046191ddc8d"
       ],
       "layout": "IPY_MODEL_e197c41fe19f487787021634eeefbd9e"
      }
     },
     "601e6b4a11d642f5a2b807fb64ed85e5": {
      "model_module": "@jupyter-widgets/controls",
      "model_module_version": "1.4.0",
      "model_name": "DescriptionStyleModel",
      "state": {
       "description_width": ""
      }
     },
     "60312e96f4a243fc8a2ed9b821b221f8": {
      "model_module": "@jupyter-widgets/base",
      "model_module_version": "1.1.0",
      "model_name": "LayoutModel",
      "state": {
       "visibility": "hidden"
      }
     },
     "6037109e35b3430f83d3f9361b7bcbb9": {
      "model_module": "@jupyter-widgets/base",
      "model_module_version": "1.1.0",
      "model_name": "LayoutModel",
      "state": {}
     },
     "6040a266732e4a19b6b91ae0a5558bb2": {
      "model_module": "@jupyter-widgets/base",
      "model_module_version": "1.1.0",
      "model_name": "LayoutModel",
      "state": {
       "width": "90px"
      }
     },
     "60531502f17847fabf3367fdf428d12e": {
      "model_module": "@jupyter-widgets/controls",
      "model_module_version": "1.4.0",
      "model_name": "ButtonStyleModel",
      "state": {}
     },
     "60606c5f93824363a599cdac68613f3f": {
      "model_module": "@jupyter-widgets/base",
      "model_module_version": "1.1.0",
      "model_name": "LayoutModel",
      "state": {}
     },
     "6075b4cb3c3249828879620edb8f38a9": {
      "model_module": "@jupyter-widgets/controls",
      "model_module_version": "1.4.0",
      "model_name": "VBoxModel",
      "state": {
       "children": [
        "IPY_MODEL_88155a82d264468c981b59520a6289ee",
        "IPY_MODEL_3f8fc1153b1640b48eb804a377d9220e",
        "IPY_MODEL_5686c35f3c9c42da9ba69a65f6b15734"
       ],
       "layout": "IPY_MODEL_c5e32a4811e74b25a8519b393a9d009a"
      }
     },
     "609bcdf71b2e4c0da99af2184959ed27": {
      "model_module": "@jupyter-widgets/controls",
      "model_module_version": "1.4.0",
      "model_name": "HBoxModel",
      "state": {
       "children": [
        "IPY_MODEL_3ed377f94167417990c5c719a581182d",
        "IPY_MODEL_00c0e8401eab40b088c4226328391e79",
        "IPY_MODEL_a1866acfd2d14387922143e31c5378d2",
        "IPY_MODEL_e6b35ee3146b47c093b25e135cde463f",
        "IPY_MODEL_37deaa120562486da9df3014096322d7"
       ],
       "layout": "IPY_MODEL_3173b4b03de44031bbe292314056ebf6"
      }
     },
     "609c1a288fe44feaaa7c5b547131b2ba": {
      "model_module": "@jupyter-widgets/base",
      "model_module_version": "1.1.0",
      "model_name": "LayoutModel",
      "state": {}
     },
     "60d52645c58541cf9cf4a6f9d5857e3d": {
      "model_module": "@jupyter-widgets/controls",
      "model_module_version": "1.4.0",
      "model_name": "DescriptionStyleModel",
      "state": {
       "description_width": ""
      }
     },
     "60f2e1acd39744f28ab9c9961c2bf6b4": {
      "model_module": "@jupyter-widgets/controls",
      "model_module_version": "1.4.0",
      "model_name": "DescriptionStyleModel",
      "state": {
       "description_width": ""
      }
     },
     "612776c6b74d4dfba169f90c824da65b": {
      "model_module": "@jupyter-widgets/controls",
      "model_module_version": "1.4.0",
      "model_name": "DescriptionStyleModel",
      "state": {
       "description_width": ""
      }
     },
     "6128a54338304aa59a0b1b0476a08a74": {
      "model_module": "@jupyter-widgets/controls",
      "model_module_version": "1.4.0",
      "model_name": "VBoxModel",
      "state": {
       "children": [
        "IPY_MODEL_706fb84ee85248f4b06f75063e02cefd",
        "IPY_MODEL_026288235b604d969f47b34a1c2cb9fb"
       ],
       "layout": "IPY_MODEL_8cff8f4ffba64f839a19393b3b878c59"
      }
     },
     "614367102edf4356b7c15c7a221b5c18": {
      "model_module": "@jupyter-widgets/base",
      "model_module_version": "1.1.0",
      "model_name": "LayoutModel",
      "state": {}
     },
     "61bc1f6ddb4343fa96e1a44294b9f113": {
      "model_module": "@jupyter-widgets/base",
      "model_module_version": "1.1.0",
      "model_name": "LayoutModel",
      "state": {
       "width": "90px"
      }
     },
     "61c5fe4f00ce425ea5827f9dd2e7b678": {
      "model_module": "@jupyter-widgets/controls",
      "model_module_version": "1.4.0",
      "model_name": "DescriptionStyleModel",
      "state": {
       "description_width": ""
      }
     },
     "61c87b98e45a4bd6b4cec3c85d84b025": {
      "model_module": "@jupyter-widgets/base",
      "model_module_version": "1.1.0",
      "model_name": "LayoutModel",
      "state": {
       "width": "90px"
      }
     },
     "61f245a71aca4f9f883bd08269b1cc11": {
      "model_module": "@jupyter-widgets/base",
      "model_module_version": "1.1.0",
      "model_name": "LayoutModel",
      "state": {}
     },
     "620d32ac361e4e1995f9c6c4984bcddd": {
      "model_module": "@jupyter-widgets/controls",
      "model_module_version": "1.4.0",
      "model_name": "LabelModel",
      "state": {
       "layout": "IPY_MODEL_f770dbb1c3ae45f6b1f16461b4ac833b",
       "style": "IPY_MODEL_ec70b19286874b43bbb9724925d5e759",
       "value": "PCA?"
      }
     },
     "62297d14d00b4659bfcc545d904e6eca": {
      "model_module": "@jupyter-widgets/controls",
      "model_module_version": "1.4.0",
      "model_name": "LabelModel",
      "state": {
       "layout": "IPY_MODEL_f0c7a6e3659e4893a7ec49e303f492b6",
       "style": "IPY_MODEL_9823a9106ea54f50b47374f91529c990",
       "value": "Sampler"
      }
     },
     "624b78b18e2e4b70b18a4544f9cddc94": {
      "model_module": "@jupyter-widgets/base",
      "model_module_version": "1.1.0",
      "model_name": "LayoutModel",
      "state": {}
     },
     "6297383214814c3ebe6b26e1813bbe80": {
      "model_module": "@jupyter-widgets/base",
      "model_module_version": "1.1.0",
      "model_name": "LayoutModel",
      "state": {
       "border": "3px solid black"
      }
     },
     "629ab15e93fc4e0f82e37d88730956ac": {
      "model_module": "@jupyter-widgets/controls",
      "model_module_version": "1.4.0",
      "model_name": "LabelModel",
      "state": {
       "layout": "IPY_MODEL_d57223ff1a4b455c9272c9ac4399da92",
       "style": "IPY_MODEL_fe3626d43b814c818bf6d577e2caffde",
       "value": "Box Type"
      }
     },
     "62a95352b5a14117b91c30c11582d010": {
      "model_module": "@jupyter-widgets/controls",
      "model_module_version": "1.4.0",
      "model_name": "LabelModel",
      "state": {
       "layout": "IPY_MODEL_b0c73db832cb4b88b7fb10f51913f120",
       "style": "IPY_MODEL_4d63bb1a787f4c22b84c41c9df9070fc",
       "value": "Sampler"
      }
     },
     "62ac86217a42476c9ce3915440c92f14": {
      "model_module": "@jupyter-widgets/controls",
      "model_module_version": "1.4.0",
      "model_name": "VBoxModel",
      "state": {
       "children": [
        "IPY_MODEL_c8dbd3c6323346a7ba1189cf7f4e0b5b",
        "IPY_MODEL_69b730b185a0403ebe1d29309ff838c8"
       ],
       "layout": "IPY_MODEL_d51d22b5fa584d98b8e52a4fbfd45237"
      }
     },
     "62be0cad78434b4099c887737e864643": {
      "model_module": "@jupyter-widgets/base",
      "model_module_version": "1.1.0",
      "model_name": "LayoutModel",
      "state": {}
     },
     "62c59712e8f5463eb0829c286fd9252b": {
      "model_module": "@jupyter-widgets/controls",
      "model_module_version": "1.4.0",
      "model_name": "SliderStyleModel",
      "state": {
       "description_width": ""
      }
     },
     "62f14d4e618d4c74a4d3357b70c65d29": {
      "model_module": "@jupyter-widgets/base",
      "model_module_version": "1.1.0",
      "model_name": "LayoutModel",
      "state": {}
     },
     "634292a5bded4833a5236bbcf58ad295": {
      "model_module": "@jupyter-widgets/controls",
      "model_module_version": "1.4.0",
      "model_name": "LabelModel",
      "state": {
       "layout": "IPY_MODEL_3d8fb446b5f54b068c85b02c5454bfc1",
       "style": "IPY_MODEL_cd0b8b73982d425587ae9eb57decff91",
       "value": "PCA?"
      }
     },
     "63c2d20d01984a788094dc361606577d": {
      "model_module": "@jupyter-widgets/base",
      "model_module_version": "1.1.0",
      "model_name": "LayoutModel",
      "state": {
       "width": "90px"
      }
     },
     "63c2d3dc9f304213bfb8fed63547f339": {
      "model_module": "@jupyter-widgets/controls",
      "model_module_version": "1.4.0",
      "model_name": "IntSliderModel",
      "state": {
       "disabled": true,
       "layout": "IPY_MODEL_9bf00d52c1de4061bf904930aa44803f",
       "max": 200,
       "min": 2,
       "style": "IPY_MODEL_651e190f81b4477f8305493e3dcf9c4c",
       "value": 30
      }
     },
     "640726feb00541a484e049cedb63cbb7": {
      "model_module": "@jupyter-widgets/controls",
      "model_module_version": "1.4.0",
      "model_name": "LabelModel",
      "state": {
       "layout": "IPY_MODEL_20ea71c027dd422ca3c9d673ffb8ee6e",
       "style": "IPY_MODEL_6e43dae9fb4442a89c663a9f6e9da31f",
       "value": "Box Type"
      }
     },
     "64201e5236a040d08dfe2202112529b2": {
      "model_module": "@jupyter-widgets/base",
      "model_module_version": "1.1.0",
      "model_name": "LayoutModel",
      "state": {}
     },
     "6449f31ea33a4c42bf0df24d27d065a4": {
      "model_module": "@jupyter-widgets/controls",
      "model_module_version": "1.4.0",
      "model_name": "DropdownModel",
      "state": {
       "_options_labels": [
        "None",
        "rbf",
        "nystroem"
       ],
       "index": 1,
       "layout": "IPY_MODEL_5a55d116cd364d078f5297747edf1757",
       "style": "IPY_MODEL_3240bd55cd184052a8543b97f1857f2e"
      }
     },
     "646e6adb67c540848895c0a7f58f66de": {
      "model_module": "@jupyter-widgets/base",
      "model_module_version": "1.1.0",
      "model_name": "LayoutModel",
      "state": {}
     },
     "64b6e5616b214fdca4d8de2ad3cb94f7": {
      "model_module": "@jupyter-widgets/controls",
      "model_module_version": "1.4.0",
      "model_name": "SliderStyleModel",
      "state": {
       "description_width": ""
      }
     },
     "64caf01725214bb3b820b175fa149a1e": {
      "model_module": "@jupyter-widgets/base",
      "model_module_version": "1.1.0",
      "model_name": "LayoutModel",
      "state": {}
     },
     "64ff3df6ac4a4d7da2d927ad6f4ca59d": {
      "model_module": "@jupyter-widgets/base",
      "model_module_version": "1.1.0",
      "model_name": "LayoutModel",
      "state": {}
     },
     "651e190f81b4477f8305493e3dcf9c4c": {
      "model_module": "@jupyter-widgets/controls",
      "model_module_version": "1.4.0",
      "model_name": "SliderStyleModel",
      "state": {
       "description_width": ""
      }
     },
     "657343637085439fbf34a5940d5ad4a3": {
      "model_module": "@jupyter-widgets/controls",
      "model_module_version": "1.4.0",
      "model_name": "DescriptionStyleModel",
      "state": {
       "description_width": ""
      }
     },
     "658de351c5f149ecacf2985b8b94346a": {
      "model_module": "@jupyter-widgets/controls",
      "model_module_version": "1.4.0",
      "model_name": "VBoxModel",
      "state": {
       "children": [
        "IPY_MODEL_7e98efbfc63f4ad880fa9dcb96f99b52",
        "IPY_MODEL_4ecd37f0130644a8b8a14d21cefd998b"
       ],
       "layout": "IPY_MODEL_ee0221a35cbe4a1c8222166b0f743587"
      }
     },
     "659652f166ee4083a773ebd5a959ffb7": {
      "model_module": "@jupyter-widgets/controls",
      "model_module_version": "1.4.0",
      "model_name": "SliderStyleModel",
      "state": {
       "description_width": ""
      }
     },
     "65ede1992b334db2a5a48f7b4c7f8c35": {
      "model_module": "@jupyter-widgets/controls",
      "model_module_version": "1.4.0",
      "model_name": "DropdownModel",
      "state": {
       "_options_labels": [
        "dt",
        "logit",
        "linear_svc"
       ],
       "index": 0,
       "layout": "IPY_MODEL_c75799ff81e84f8b95d14ce32b76a73f",
       "style": "IPY_MODEL_7e32d6da8f444698b1c18768c7e3b76c"
      }
     },
     "661691a3676d49eeb7c1ed16d5947e74": {
      "model_module": "@jupyter-widgets/controls",
      "model_module_version": "1.4.0",
      "model_name": "IntSliderModel",
      "state": {
       "disabled": true,
       "layout": "IPY_MODEL_28dd40643483402dbf56c946d455d699",
       "max": 200,
       "min": 2,
       "style": "IPY_MODEL_889c030d02ff49ea853e2d785cae488d",
       "value": 30
      }
     },
     "662d9aa738c9461da971acf9e6782e16": {
      "model_module": "@jupyter-widgets/controls",
      "model_module_version": "1.4.0",
      "model_name": "DescriptionStyleModel",
      "state": {
       "description_width": ""
      }
     },
     "66418f54cf564f358f4e4e9468eec140": {
      "model_module": "@jupyter-widgets/controls",
      "model_module_version": "1.4.0",
      "model_name": "DescriptionStyleModel",
      "state": {
       "description_width": ""
      }
     },
     "66624664b4c448a98ca37a79baa3d3ac": {
      "model_module": "@jupyter-widgets/base",
      "model_module_version": "1.1.0",
      "model_name": "LayoutModel",
      "state": {
       "width": "90px"
      }
     },
     "6678c84e017043e58a02dd837cc5badd": {
      "model_module": "@jupyter-widgets/controls",
      "model_module_version": "1.4.0",
      "model_name": "IntRangeSliderModel",
      "state": {
       "_model_name": "IntRangeSliderModel",
       "_view_name": "IntRangeSliderView",
       "layout": "IPY_MODEL_df23e91029a8471c91aae1222e06a89f",
       "max": 400,
       "min": 30,
       "step": 10,
       "style": "IPY_MODEL_701ea130707b4b5f94c4f83ac76240c2",
       "value": [
        30,
        150
       ]
      }
     },
     "66879e67a34d48b69932a477daa3d96b": {
      "model_module": "@jupyter-widgets/base",
      "model_module_version": "1.1.0",
      "model_name": "LayoutModel",
      "state": {}
     },
     "6691f5959494436abc67255550679c1e": {
      "model_module": "@jupyter-widgets/controls",
      "model_module_version": "1.4.0",
      "model_name": "DropdownModel",
      "state": {
       "_options_labels": [
        "None",
        "rbf",
        "nystroem"
       ],
       "index": 1,
       "layout": "IPY_MODEL_c75799ff81e84f8b95d14ce32b76a73f",
       "style": "IPY_MODEL_a32e2c1dbafe4a9bbcb74233fbeae951"
      }
     },
     "6699baf9714245d98bfc63d87788ffec": {
      "model_module": "@jupyter-widgets/controls",
      "model_module_version": "1.4.0",
      "model_name": "LabelModel",
      "state": {
       "layout": "IPY_MODEL_125313a25b584ae980fb4289d5cefaf0",
       "style": "IPY_MODEL_5fdf3ded65e54fb28801ab979462ca16",
       "value": "PCA?"
      }
     },
     "66bae36f2f7648b8bca2a59c6ed52475": {
      "model_module": "@jupyter-widgets/controls",
      "model_module_version": "1.4.0",
      "model_name": "DropdownModel",
      "state": {
       "_options_labels": [
        "segment",
        "covertype",
        "digits",
        "fall_detection",
        "mnist",
        "pen_digits",
        "satellite",
        "vowel"
       ],
       "description": "Dataset:",
       "index": 0,
       "layout": "IPY_MODEL_cd7692a2f5d0425c853f0f4c7da4bad0",
       "style": "IPY_MODEL_de5c9180db0a4dffb6db0a87092c6177"
      }
     },
     "671e55f5c7344c9b8d1dc8244ae56ac6": {
      "model_module": "@jupyter-widgets/base",
      "model_module_version": "1.1.0",
      "model_name": "LayoutModel",
      "state": {}
     },
     "676d9ca72faf4c40abce0843d3722768": {
      "model_module": "@jupyter-widgets/controls",
      "model_module_version": "1.4.0",
      "model_name": "LabelModel",
      "state": {
       "layout": "IPY_MODEL_1202d6397e5d42eab4e8c0c817e0590d",
       "style": "IPY_MODEL_45f7e432b1dd4be9ae18dc95d9a46094",
       "value": "PCA?"
      }
     },
     "6771afe1acd246d8870ee5b83808df6f": {
      "model_module": "@jupyter-widgets/controls",
      "model_module_version": "1.4.0",
      "model_name": "VBoxModel",
      "state": {
       "children": [
        "IPY_MODEL_c24ac828eaae43bf90c290b547a02999",
        "IPY_MODEL_8819d367732e4363b93b779e3acf48c8",
        "IPY_MODEL_101f86a19d1849dab0aa552bfad11a64",
        "IPY_MODEL_4d459a5136c442a38ea959d3543c56fc",
        "IPY_MODEL_15ea1897f12041a2ac5f85cc8f2986dc",
        "IPY_MODEL_bac6dee8bf0b44b99636f85a09019283",
        "IPY_MODEL_28b55044d3c340178adc967a77088043"
       ],
       "layout": "IPY_MODEL_7544ad3a75524773a6be01472fa48ddf"
      }
     },
     "67ce7af508534083b580dd964472821a": {
      "model_module": "@jupyter-widgets/controls",
      "model_module_version": "1.4.0",
      "model_name": "ButtonModel",
      "state": {
       "button_style": "info",
       "description": "Add model",
       "layout": "IPY_MODEL_3526a545e6834d74b2aa6085cf44202f",
       "style": "IPY_MODEL_153f168a23dd45ad915436bdf5738cf3"
      }
     },
     "67ee6df862ed43f2bdc309f35022b93f": {
      "model_module": "@jupyter-widgets/controls",
      "model_module_version": "1.4.0",
      "model_name": "LabelModel",
      "state": {
       "layout": "IPY_MODEL_48decad26d5e43da8197ade6f2c51f28",
       "style": "IPY_MODEL_103638e09bd3412eb14b38d9cfe09b18",
       "value": "Number Estimators"
      }
     },
     "67f7761d24494bac9fc58bbba1368d6c": {
      "model_module": "@jupyter-widgets/controls",
      "model_module_version": "1.4.0",
      "model_name": "DropdownModel",
      "state": {
       "_options_labels": [
        "dt",
        "logit",
        "linear_svc"
       ],
       "index": 0,
       "layout": "IPY_MODEL_5e9eefb65587469cac89b112caedf544",
       "style": "IPY_MODEL_9643ac5e43cd4622803d23a548ec5ff8"
      }
     },
     "67fe0544a7f84058972b3ced6ee8a2f7": {
      "model_module": "@jupyter-widgets/controls",
      "model_module_version": "1.4.0",
      "model_name": "ButtonModel",
      "state": {
       "button_style": "info",
       "description": "Add model",
       "layout": "IPY_MODEL_64201e5236a040d08dfe2202112529b2",
       "style": "IPY_MODEL_d416b9fc046542bc8dc4a8135ae903ea"
      }
     },
     "68480194d1754a0a82053abc71266fe4": {
      "model_module": "@jupyter-widgets/base",
      "model_module_version": "1.1.0",
      "model_name": "LayoutModel",
      "state": {}
     },
     "68531c9cf77f4543b6befe2bb2766883": {
      "model_module": "@jupyter-widgets/controls",
      "model_module_version": "1.4.0",
      "model_name": "ButtonStyleModel",
      "state": {}
     },
     "687cd074a4174aaa96fb9e5a824f128b": {
      "model_module": "@jupyter-widgets/controls",
      "model_module_version": "1.4.0",
      "model_name": "SliderStyleModel",
      "state": {
       "description_width": ""
      }
     },
     "6894630146374814abce3688ab369970": {
      "model_module": "@jupyter-widgets/controls",
      "model_module_version": "1.4.0",
      "model_name": "DescriptionStyleModel",
      "state": {
       "description_width": ""
      }
     },
     "68992bb2285641549cca8c900cfcd4c1": {
      "model_module": "@jupyter-widgets/controls",
      "model_module_version": "1.4.0",
      "model_name": "DropdownModel",
      "state": {
       "_options_labels": [
        "segment",
        "covertype",
        "digits",
        "fall_detection",
        "mnist",
        "pen_digits",
        "satellite",
        "vowel"
       ],
       "description": "Dataset:",
       "index": 0,
       "layout": "IPY_MODEL_37294b2ff8db4629a5aaec96d557b1c2",
       "style": "IPY_MODEL_0afd449cebbb4fd1839d14b4e1952737"
      }
     },
     "68a9a8802de84efa95cbb93e45426ea6": {
      "model_module": "@jupyter-widgets/base",
      "model_module_version": "1.1.0",
      "model_name": "LayoutModel",
      "state": {}
     },
     "68ba54fe20894a9daa924e7e1285a0a0": {
      "model_module": "@jupyter-widgets/controls",
      "model_module_version": "1.4.0",
      "model_name": "DropdownModel",
      "state": {
       "_options_labels": [
        "segment",
        "covertype",
        "digits",
        "fall_detection",
        "mnist",
        "pen_digits",
        "satellite",
        "vowel"
       ],
       "description": "Dataset:",
       "index": 0,
       "layout": "IPY_MODEL_b929e64a129842089ff01822ac9650ca",
       "style": "IPY_MODEL_ecaf819fd59c4881ad1b4168f4195e0c"
      }
     },
     "68f977507d3e4968825d24ff762e3035": {
      "model_module": "@jupyter-widgets/controls",
      "model_module_version": "1.4.0",
      "model_name": "DescriptionStyleModel",
      "state": {
       "description_width": ""
      }
     },
     "691b541caed3464c962e7ea3f04f8c3e": {
      "model_module": "@jupyter-widgets/base",
      "model_module_version": "1.1.0",
      "model_name": "LayoutModel",
      "state": {}
     },
     "693da1e989f3480aac71438b5fb67b6e": {
      "model_module": "@jupyter-widgets/controls",
      "model_module_version": "1.4.0",
      "model_name": "CheckboxModel",
      "state": {
       "disabled": false,
       "layout": "IPY_MODEL_a821b718438844c98451036940569748",
       "style": "IPY_MODEL_fa2e7818273b4db9bf1bd8d63e29014d",
       "value": false
      }
     },
     "695ec7bd059a4933aea34a0ca7e0c71c": {
      "model_module": "@jupyter-widgets/controls",
      "model_module_version": "1.4.0",
      "model_name": "DropdownModel",
      "state": {
       "_options_labels": [
        "segment",
        "covertype",
        "digits",
        "fall_detection",
        "mnist",
        "pen_digits",
        "satellite",
        "vowel"
       ],
       "description": "Dataset:",
       "index": 0,
       "layout": "IPY_MODEL_b4c734682c1c4375986131625d27f8cb",
       "style": "IPY_MODEL_f0c77c432f6b4b7681e1b9c695bbe732"
      }
     },
     "6981255c22064f3abb84d632d5924fc3": {
      "model_module": "@jupyter-widgets/controls",
      "model_module_version": "1.4.0",
      "model_name": "CheckboxModel",
      "state": {
       "disabled": false,
       "layout": "IPY_MODEL_0be5264f8a7245dba620cd2cdcbfa7fd",
       "style": "IPY_MODEL_52ebc56d6d31440e8360b58dcba97524",
       "value": false
      }
     },
     "6992f6816b3f460d81fd0a1437e6871d": {
      "model_module": "@jupyter-widgets/controls",
      "model_module_version": "1.4.0",
      "model_name": "LabelModel",
      "state": {
       "layout": "IPY_MODEL_9fc81c623a744fe8a0531ffb59361442",
       "style": "IPY_MODEL_88c100e53f004448a35dd39ab8926ac3",
       "value": "Number Estimators"
      }
     },
     "69b730b185a0403ebe1d29309ff838c8": {
      "model_module": "@jupyter-widgets/controls",
      "model_module_version": "1.4.0",
      "model_name": "IntSliderModel",
      "state": {
       "layout": "IPY_MODEL_2536aa29ceb14cc6aae3b12432bac8ce",
       "max": 200,
       "min": 2,
       "style": "IPY_MODEL_6ffea34cae264666a9e2b4c61c66de7c",
       "value": 30
      }
     },
     "69e5bc70e97e4848bbc9d2f8461c7abf": {
      "model_module": "@jupyter-widgets/base",
      "model_module_version": "1.1.0",
      "model_name": "LayoutModel",
      "state": {
       "visibility": "hidden"
      }
     },
     "69fa1835ee3948e08e0ecab94754ba49": {
      "model_module": "@jupyter-widgets/base",
      "model_module_version": "1.1.0",
      "model_name": "LayoutModel",
      "state": {}
     },
     "6a1a61286c81456aafb0469480fa57a1": {
      "model_module": "@jupyter-widgets/controls",
      "model_module_version": "1.4.0",
      "model_name": "HBoxModel",
      "state": {
       "children": [
        "IPY_MODEL_3ce51ae287b945c1b6df26b823be1c48",
        "IPY_MODEL_172627fac0db4a1fa549a99aa811adca",
        "IPY_MODEL_a9d5b64027f54c64beaa9faf2b0af8f2",
        "IPY_MODEL_263cc01d7a1246a780d3d64a125d24d0",
        "IPY_MODEL_5c6fbcde6ec748dd8d88fe6941b0912e"
       ],
       "layout": "IPY_MODEL_6297383214814c3ebe6b26e1813bbe80"
      }
     },
     "6a8b123cee7342f5b1aff682083ae500": {
      "model_module": "@jupyter-widgets/controls",
      "model_module_version": "1.4.0",
      "model_name": "DescriptionStyleModel",
      "state": {
       "description_width": ""
      }
     },
     "6ac4836600394e418c89dfb21cb818c7": {
      "model_module": "@jupyter-widgets/controls",
      "model_module_version": "1.4.0",
      "model_name": "DescriptionStyleModel",
      "state": {
       "description_width": ""
      }
     },
     "6b35a8b3a2ec43dba8937dbaed0a7f61": {
      "model_module": "@jupyter-widgets/controls",
      "model_module_version": "1.4.0",
      "model_name": "DescriptionStyleModel",
      "state": {
       "description_width": ""
      }
     },
     "6b879af0074a4342ac02adc44441e6c7": {
      "model_module": "@jupyter-widgets/controls",
      "model_module_version": "1.4.0",
      "model_name": "ButtonModel",
      "state": {
       "button_style": "info",
       "description": "Add model",
       "layout": "IPY_MODEL_53325b07e2264b0a846723602d9ae703",
       "style": "IPY_MODEL_b7a54faa8aa146b78936e6d6d5389b13"
      }
     },
     "6b94d2582d0a40249002fa3cdbeae2b2": {
      "model_module": "@jupyter-widgets/controls",
      "model_module_version": "1.4.0",
      "model_name": "DescriptionStyleModel",
      "state": {
       "description_width": ""
      }
     },
     "6bba8413872a4f059b242c2f1a0900dd": {
      "model_module": "@jupyter-widgets/controls",
      "model_module_version": "1.4.0",
      "model_name": "DropdownModel",
      "state": {
       "_options_labels": [
        "segment",
        "covertype",
        "digits",
        "fall_detection",
        "mnist",
        "pen_digits",
        "satellite",
        "vowel"
       ],
       "description": "Dataset:",
       "index": 1,
       "layout": "IPY_MODEL_a990d1b145a842aaa73aa137260a7374",
       "style": "IPY_MODEL_2264b508a9dc4a7ab01306560eaa3714"
      }
     },
     "6bbf779f708047cbabb19a5690519d87": {
      "model_module": "@jupyter-widgets/controls",
      "model_module_version": "1.4.0",
      "model_name": "LabelModel",
      "state": {
       "layout": "IPY_MODEL_bf6e061da5204f9fa57b3ab1500881b5",
       "style": "IPY_MODEL_2abbd993a7d541ca842fe64f61836b42",
       "value": "PCA?"
      }
     },
     "6c05556082cc47e1a80f862713493b6e": {
      "model_module": "@jupyter-widgets/controls",
      "model_module_version": "1.4.0",
      "model_name": "DescriptionStyleModel",
      "state": {
       "description_width": ""
      }
     },
     "6c407c57eb4f4d228ca182b9614c843e": {
      "model_module": "@jupyter-widgets/controls",
      "model_module_version": "1.4.0",
      "model_name": "VBoxModel",
      "state": {
       "children": [
        "IPY_MODEL_3d8e90d48f574bad84359dbc75e8e978",
        "IPY_MODEL_a56ff9f2ea8048c99df6fe6f667dc7c8"
       ],
       "layout": "IPY_MODEL_51f4df340e5d48e38e6b3dc1b75539a9"
      }
     },
     "6c47cc8ee3584490b97afad741477f46": {
      "model_module": "@jupyter-widgets/controls",
      "model_module_version": "1.4.0",
      "model_name": "SliderStyleModel",
      "state": {
       "description_width": ""
      }
     },
     "6c71d15b1d8948d29d2914a88f9d6221": {
      "model_module": "@jupyter-widgets/controls",
      "model_module_version": "1.4.0",
      "model_name": "LabelModel",
      "state": {
       "layout": "IPY_MODEL_e5ce93927a634ea7892a616c40ab29f5",
       "style": "IPY_MODEL_612776c6b74d4dfba169f90c824da65b",
       "value": "Number Estimators"
      }
     },
     "6c821f03c0a84be7bb892f084eb68f90": {
      "model_module": "@jupyter-widgets/controls",
      "model_module_version": "1.4.0",
      "model_name": "SliderStyleModel",
      "state": {
       "description_width": ""
      }
     },
     "6ca21c7682a441468b9d6eef71f28b56": {
      "model_module": "@jupyter-widgets/controls",
      "model_module_version": "1.4.0",
      "model_name": "DropdownModel",
      "state": {
       "_options_labels": [
        "segment",
        "covertype",
        "digits",
        "fall_detection",
        "mnist",
        "pen_digits",
        "satellite",
        "vowel"
       ],
       "description": "Dataset:",
       "index": 0,
       "layout": "IPY_MODEL_0f5e282694194b37b23c6a73212490d5",
       "style": "IPY_MODEL_90dd7afffdf44278a73907ef0edc1d34"
      }
     },
     "6cc8e250c4e5412584e88b5e373dc421": {
      "model_module": "@jupyter-widgets/controls",
      "model_module_version": "1.4.0",
      "model_name": "ButtonStyleModel",
      "state": {}
     },
     "6cf0dd405dbd4034b44d0b218ccf1ee3": {
      "model_module": "@jupyter-widgets/base",
      "model_module_version": "1.1.0",
      "model_name": "LayoutModel",
      "state": {
       "visibility": "hidden",
       "width": "300px"
      }
     },
     "6d5b6cfce3d1475cb97d63a71d55ab61": {
      "model_module": "@jupyter-widgets/controls",
      "model_module_version": "1.4.0",
      "model_name": "DropdownModel",
      "state": {
       "_options_labels": [
        "None",
        "black",
        "grey"
       ],
       "index": 0,
       "layout": "IPY_MODEL_7449c8d4c8774a938e2edd9cc8ff9fde",
       "style": "IPY_MODEL_d8eb8e01ef444cc8af15031dee4ff933"
      }
     },
     "6d64873d88254180b369db1194e69746": {
      "model_module": "@jupyter-widgets/controls",
      "model_module_version": "1.4.0",
      "model_name": "DescriptionStyleModel",
      "state": {
       "description_width": ""
      }
     },
     "6d74f29913014ee29309bd3dbf435919": {
      "model_module": "@jupyter-widgets/base",
      "model_module_version": "1.1.0",
      "model_name": "LayoutModel",
      "state": {}
     },
     "6d9ff098d9c844a0bc4163459d4ee04f": {
      "model_module": "@jupyter-widgets/base",
      "model_module_version": "1.1.0",
      "model_name": "LayoutModel",
      "state": {
       "visibility": "hidden",
       "width": "300px"
      }
     },
     "6da86d0008894ae6bba70bc6354bbd1c": {
      "model_module": "@jupyter-widgets/controls",
      "model_module_version": "1.4.0",
      "model_name": "ButtonModel",
      "state": {
       "button_style": "info",
       "description": "Add model",
       "layout": "IPY_MODEL_12b712cfee334cf5addc59bfd1cb1b96",
       "style": "IPY_MODEL_0ea2e1554801486b890d84fd366e5e5e"
      }
     },
     "6dab1011d902448a9de31de743d24ebf": {
      "model_module": "@jupyter-widgets/base",
      "model_module_version": "1.1.0",
      "model_name": "LayoutModel",
      "state": {}
     },
     "6dc727a361af4ec6b593b1cb4fddf119": {
      "model_module": "@jupyter-widgets/controls",
      "model_module_version": "1.4.0",
      "model_name": "DescriptionStyleModel",
      "state": {
       "description_width": ""
      }
     },
     "6dda36b45cb24567b501b131c4cc7cac": {
      "model_module": "@jupyter-widgets/controls",
      "model_module_version": "1.4.0",
      "model_name": "ButtonStyleModel",
      "state": {}
     },
     "6ddae5a4303544c99d36cb69b4a58e1c": {
      "model_module": "@jupyter-widgets/controls",
      "model_module_version": "1.4.0",
      "model_name": "LabelModel",
      "state": {
       "layout": "IPY_MODEL_dd644bf5683d4ea79674063c15692a5b",
       "style": "IPY_MODEL_8b2cd8b4a47f41ad96ecf840fbd5f35b",
       "value": "Model"
      }
     },
     "6e43dae9fb4442a89c663a9f6e9da31f": {
      "model_module": "@jupyter-widgets/controls",
      "model_module_version": "1.4.0",
      "model_name": "DescriptionStyleModel",
      "state": {
       "description_width": ""
      }
     },
     "6e4cd00eeeaf45ec851ec533faa753d3": {
      "model_module": "@jupyter-widgets/controls",
      "model_module_version": "1.4.0",
      "model_name": "LabelModel",
      "state": {
       "layout": "IPY_MODEL_ce3fb54ceb3b41c6a3bcd4389aa534c3",
       "style": "IPY_MODEL_3f973bf7b8f549e8afde2cd72c10346c",
       "value": "Number Estimators"
      }
     },
     "6e663ca1a82d49d4b6d146ae27a7d19c": {
      "model_module": "@jupyter-widgets/controls",
      "model_module_version": "1.4.0",
      "model_name": "LabelModel",
      "state": {
       "layout": "IPY_MODEL_ff6c305650974d588f4cd1eb0a004baf",
       "style": "IPY_MODEL_30d8777d854d481da79ec0adbbf4019a",
       "value": "Box Type"
      }
     },
     "6eed292c63ad40abba7f7909293e752b": {
      "model_module": "@jupyter-widgets/base",
      "model_module_version": "1.1.0",
      "model_name": "LayoutModel",
      "state": {}
     },
     "6f0955abc9ca4c9f8347e1d97f824271": {
      "model_module": "@jupyter-widgets/base",
      "model_module_version": "1.1.0",
      "model_name": "LayoutModel",
      "state": {}
     },
     "6f4cc88f35aa4c61b002046dfae3b534": {
      "model_module": "@jupyter-widgets/base",
      "model_module_version": "1.1.0",
      "model_name": "LayoutModel",
      "state": {
       "border": "3px solid black"
      }
     },
     "6f4f8d9bd5994e24b43348b779bb0755": {
      "model_module": "@jupyter-widgets/base",
      "model_module_version": "1.1.0",
      "model_name": "LayoutModel",
      "state": {}
     },
     "6f743e94a6374556932849ebf01cf4e8": {
      "model_module": "@jupyter-widgets/base",
      "model_module_version": "1.1.0",
      "model_name": "LayoutModel",
      "state": {}
     },
     "6fa78c0de44c44afb852ea48a8aa34a3": {
      "model_module": "@jupyter-widgets/base",
      "model_module_version": "1.1.0",
      "model_name": "LayoutModel",
      "state": {}
     },
     "6fd4d6da6f5b476d966702dbed33ab60": {
      "model_module": "@jupyter-widgets/base",
      "model_module_version": "1.1.0",
      "model_name": "LayoutModel",
      "state": {}
     },
     "6ffea34cae264666a9e2b4c61c66de7c": {
      "model_module": "@jupyter-widgets/controls",
      "model_module_version": "1.4.0",
      "model_name": "SliderStyleModel",
      "state": {
       "description_width": ""
      }
     },
     "700d3a9d3ad3412a8dcc753abb0ac43d": {
      "model_module": "@jupyter-widgets/controls",
      "model_module_version": "1.4.0",
      "model_name": "DescriptionStyleModel",
      "state": {
       "description_width": ""
      }
     },
     "7017b3383c6a41e3972c77ee806b6419": {
      "model_module": "@jupyter-widgets/controls",
      "model_module_version": "1.4.0",
      "model_name": "ButtonStyleModel",
      "state": {}
     },
     "701b9ed3ebaa4683b864232967d14e1a": {
      "model_module": "@jupyter-widgets/controls",
      "model_module_version": "1.4.0",
      "model_name": "DescriptionStyleModel",
      "state": {
       "description_width": ""
      }
     },
     "701ea130707b4b5f94c4f83ac76240c2": {
      "model_module": "@jupyter-widgets/controls",
      "model_module_version": "1.4.0",
      "model_name": "SliderStyleModel",
      "state": {
       "description_width": ""
      }
     },
     "7026a42fd7c449f595801e2b1b329af0": {
      "model_module": "@jupyter-widgets/controls",
      "model_module_version": "1.4.0",
      "model_name": "ButtonModel",
      "state": {
       "button_style": "info",
       "description": "Add model",
       "layout": "IPY_MODEL_40845d48ffa5447db30594ec90c328b2",
       "style": "IPY_MODEL_860e28bc0c1244ebb8b82512e52830b1"
      }
     },
     "70654dfd31464a48a4ae19e269453846": {
      "model_module": "@jupyter-widgets/base",
      "model_module_version": "1.1.0",
      "model_name": "LayoutModel",
      "state": {
       "visibility": "hidden",
       "width": "300px"
      }
     },
     "706fb84ee85248f4b06f75063e02cefd": {
      "model_module": "@jupyter-widgets/controls",
      "model_module_version": "1.4.0",
      "model_name": "LabelModel",
      "state": {
       "layout": "IPY_MODEL_a76290995c6e49fa8e9453b09acf7dd2",
       "style": "IPY_MODEL_f9b56e0a0d76480dad9c8fd7f5ef2b47",
       "value": "Model"
      }
     },
     "707dd4373ad143c7bbc8b7f3f71603dd": {
      "model_module": "@jupyter-widgets/controls",
      "model_module_version": "1.4.0",
      "model_name": "DescriptionStyleModel",
      "state": {
       "description_width": ""
      }
     },
     "70945a323b8845c7b36a692f689e063b": {
      "model_module": "@jupyter-widgets/controls",
      "model_module_version": "1.4.0",
      "model_name": "SliderStyleModel",
      "state": {
       "description_width": ""
      }
     },
     "70a5c0a5652449989d85b6a40fc1b8cc": {
      "model_module": "@jupyter-widgets/base",
      "model_module_version": "1.1.0",
      "model_name": "LayoutModel",
      "state": {}
     },
     "70abace8efcb44b1bc4ff8cf816e86e1": {
      "model_module": "@jupyter-widgets/controls",
      "model_module_version": "1.4.0",
      "model_name": "DropdownModel",
      "state": {
       "_options_labels": [
        "dt",
        "logit",
        "linear_svc"
       ],
       "index": 0,
       "layout": "IPY_MODEL_a77188c993b74300a2efaa8ada98b63f",
       "style": "IPY_MODEL_de46cfd112b545e29f5a5279b74fa291"
      }
     },
     "70e24b0dd61143ffac5b8807fac1dc95": {
      "model_module": "@jupyter-widgets/controls",
      "model_module_version": "1.4.0",
      "model_name": "LabelModel",
      "state": {
       "layout": "IPY_MODEL_b7bd595c4d19432f965090ac3c1b66e7",
       "style": "IPY_MODEL_3b2e3d9953774adead9855150ecc683f",
       "value": "Number Estimators"
      }
     },
     "7100eeb6da4a46d3bca0975bc8697479": {
      "model_module": "@jupyter-widgets/base",
      "model_module_version": "1.1.0",
      "model_name": "LayoutModel",
      "state": {
       "visibility": "visible",
       "width": "300px"
      }
     },
     "710657e5f2d8413182197e4e56458dfa": {
      "model_module": "@jupyter-widgets/base",
      "model_module_version": "1.1.0",
      "model_name": "LayoutModel",
      "state": {}
     },
     "7168bb8a84094a44b07d36595ed8b62b": {
      "model_module": "@jupyter-widgets/base",
      "model_module_version": "1.1.0",
      "model_name": "LayoutModel",
      "state": {}
     },
     "71f91c4cb2244b61a62cb72222bd719d": {
      "model_module": "@jupyter-widgets/controls",
      "model_module_version": "1.4.0",
      "model_name": "VBoxModel",
      "state": {
       "children": [
        "IPY_MODEL_28e02f25e4d74f23bf81f02400195a2b",
        "IPY_MODEL_07f04216344342bf9a68d4f7ad8593cf"
       ],
       "layout": "IPY_MODEL_9d31fe9eaa014a74bc3cad55e482af30"
      }
     },
     "7233649bdc294578be431e6a830657d9": {
      "model_module": "@jupyter-widgets/base",
      "model_module_version": "1.1.0",
      "model_name": "LayoutModel",
      "state": {}
     },
     "725ef29b904d4c69bc7c7110c1262e56": {
      "model_module": "@jupyter-widgets/controls",
      "model_module_version": "1.4.0",
      "model_name": "DropdownModel",
      "state": {
       "_options_labels": [
        "None",
        "rbf",
        "nystroem"
       ],
       "index": 0,
       "layout": "IPY_MODEL_bb203ca00c9744028fd64d5b91340f6e",
       "style": "IPY_MODEL_339656ae03dd4a04966c8c525eb20894"
      }
     },
     "7292be760c7d4e2cb724e271ff8f8e98": {
      "model_module": "@jupyter-widgets/controls",
      "model_module_version": "1.4.0",
      "model_name": "DescriptionStyleModel",
      "state": {
       "description_width": ""
      }
     },
     "72bfc7c6d2144567aaebfb875a595179": {
      "model_module": "@jupyter-widgets/controls",
      "model_module_version": "1.4.0",
      "model_name": "RadioButtonsModel",
      "state": {
       "_options_labels": [
        "1000",
        "2000",
        "5000",
        "10000"
       ],
       "description": "Size",
       "index": 0,
       "layout": "IPY_MODEL_790b153c0377449783e76f5ce7adfbab",
       "style": "IPY_MODEL_11c5ef98dac740ffacdedbceb67a8278"
      }
     },
     "72d4751db5914772bc94d84855f49638": {
      "model_module": "@jupyter-widgets/controls",
      "model_module_version": "1.4.0",
      "model_name": "CheckboxModel",
      "state": {
       "disabled": false,
       "layout": "IPY_MODEL_d6fdd3ad38c543af90c6af64e2e282f6",
       "style": "IPY_MODEL_ec68553748fd44af98cbbc5da047793e",
       "value": true
      }
     },
     "72e50c0acb364bbcb31b45175c36596c": {
      "model_module": "@jupyter-widgets/base",
      "model_module_version": "1.1.0",
      "model_name": "LayoutModel",
      "state": {
       "border": "3px solid black"
      }
     },
     "732b1b7d59514795b4f873e5cd1650ab": {
      "model_module": "@jupyter-widgets/controls",
      "model_module_version": "1.4.0",
      "model_name": "DescriptionStyleModel",
      "state": {
       "description_width": ""
      }
     },
     "733b79c27b1d45819b06808b7498e790": {
      "model_module": "@jupyter-widgets/base",
      "model_module_version": "1.1.0",
      "model_name": "LayoutModel",
      "state": {
       "width": "90px"
      }
     },
     "73bfd7a586694575bb2c2ffa7ce96f26": {
      "model_module": "@jupyter-widgets/controls",
      "model_module_version": "1.4.0",
      "model_name": "DescriptionStyleModel",
      "state": {
       "description_width": ""
      }
     },
     "743f37e9553347e397905e5eb2a97bfb": {
      "model_module": "@jupyter-widgets/base",
      "model_module_version": "1.1.0",
      "model_name": "LayoutModel",
      "state": {
       "width": "90px"
      }
     },
     "7449c8d4c8774a938e2edd9cc8ff9fde": {
      "model_module": "@jupyter-widgets/base",
      "model_module_version": "1.1.0",
      "model_name": "LayoutModel",
      "state": {
       "width": "90px"
      }
     },
     "7468911169ce4d268e46ecf3381906a3": {
      "model_module": "@jupyter-widgets/controls",
      "model_module_version": "1.4.0",
      "model_name": "ButtonStyleModel",
      "state": {}
     },
     "747c2a2b853e424fac32ff0310741503": {
      "model_module": "@jupyter-widgets/controls",
      "model_module_version": "1.4.0",
      "model_name": "DropdownModel",
      "state": {
       "_options_labels": [
        "None",
        "rbf",
        "nystroem"
       ],
       "index": 0,
       "layout": "IPY_MODEL_d31361d253c240eda4f6e27cbf7d568e",
       "style": "IPY_MODEL_f4206dcc57694acfb65b2b922a89309a"
      }
     },
     "7485fb6a44974c1aa615b32e79f76980": {
      "model_module": "@jupyter-widgets/controls",
      "model_module_version": "1.4.0",
      "model_name": "ButtonStyleModel",
      "state": {}
     },
     "748c6d9ef7fa49b8bb59fb32f4d9c464": {
      "model_module": "@jupyter-widgets/controls",
      "model_module_version": "1.4.0",
      "model_name": "DescriptionStyleModel",
      "state": {
       "description_width": ""
      }
     },
     "7492aca7b37447cf9eae497a70b20453": {
      "model_module": "@jupyter-widgets/controls",
      "model_module_version": "1.4.0",
      "model_name": "ButtonModel",
      "state": {
       "button_style": "info",
       "description": "Demo0",
       "layout": "IPY_MODEL_4c3147f705954f5895a6082209bbf70d",
       "style": "IPY_MODEL_ed4bab0629a9439fb8fa3edfc0109e80"
      }
     },
     "749854c745fd470da7d157e380bee720": {
      "model_module": "@jupyter-widgets/controls",
      "model_module_version": "1.4.0",
      "model_name": "ButtonStyleModel",
      "state": {}
     },
     "749ee5c3d8c345fdbd26353e0d67fa7d": {
      "model_module": "@jupyter-widgets/controls",
      "model_module_version": "1.4.0",
      "model_name": "DropdownModel",
      "state": {
       "_options_labels": [
        "None",
        "black",
        "grey"
       ],
       "index": 0,
       "layout": "IPY_MODEL_de1885682adb4f0fbc5df81cb57ce5f3",
       "style": "IPY_MODEL_b802b9bc154b4e249dda96daa3b94ae2"
      }
     },
     "74b1e8e33da4461fa38a90d0c34fdcce": {
      "model_module": "@jupyter-widgets/controls",
      "model_module_version": "1.4.0",
      "model_name": "IntSliderModel",
      "state": {
       "disabled": true,
       "layout": "IPY_MODEL_ca0fd6539d7f4b10ab857f516d5ebd54",
       "max": 200,
       "min": 2,
       "style": "IPY_MODEL_fab5ef1edbb246d084f41b668e6971a4",
       "value": 30
      }
     },
     "74f4267d6323430a99844ddf89d10340": {
      "model_module": "@jupyter-widgets/controls",
      "model_module_version": "1.4.0",
      "model_name": "DescriptionStyleModel",
      "state": {
       "description_width": ""
      }
     },
     "7504b3db640f495bb509264244b800db": {
      "model_module": "@jupyter-widgets/controls",
      "model_module_version": "1.4.0",
      "model_name": "SliderStyleModel",
      "state": {
       "description_width": ""
      }
     },
     "7544ad3a75524773a6be01472fa48ddf": {
      "model_module": "@jupyter-widgets/base",
      "model_module_version": "1.1.0",
      "model_name": "LayoutModel",
      "state": {}
     },
     "754b5dfe410c4dfd8663eb984ca30581": {
      "model_module": "@jupyter-widgets/base",
      "model_module_version": "1.1.0",
      "model_name": "LayoutModel",
      "state": {
       "visibility": "hidden",
       "width": "300px"
      }
     },
     "7594c0e064054447ad66e25557259e86": {
      "model_module": "@jupyter-widgets/controls",
      "model_module_version": "1.4.0",
      "model_name": "LabelModel",
      "state": {
       "layout": "IPY_MODEL_b2395561b53e4d11912a78d618e62ccc",
       "style": "IPY_MODEL_92a959fd5e7e44daab23c47c385802af",
       "value": "PCA?"
      }
     },
     "75b0a827934747b8a3d1d82914ab0b01": {
      "model_module": "@jupyter-widgets/controls",
      "model_module_version": "1.4.0",
      "model_name": "DropdownModel",
      "state": {
       "_options_labels": [
        "None",
        "black",
        "grey"
       ],
       "index": 0,
       "layout": "IPY_MODEL_c626dcc06c354740aedb2259bfa66902",
       "style": "IPY_MODEL_f70998f8dfb542dfa2182e4b1a499500"
      }
     },
     "75c9057799174406baac96f51d1b9294": {
      "model_module": "@jupyter-widgets/base",
      "model_module_version": "1.1.0",
      "model_name": "LayoutModel",
      "state": {}
     },
     "75cc22b31fe24659b333c2539b612ca9": {
      "model_module": "@jupyter-widgets/base",
      "model_module_version": "1.1.0",
      "model_name": "LayoutModel",
      "state": {}
     },
     "75dbaa86f5e04772a724aa37fc822ddb": {
      "model_module": "@jupyter-widgets/controls",
      "model_module_version": "1.4.0",
      "model_name": "DropdownModel",
      "state": {
       "_options_labels": [
        "None",
        "rbf",
        "nystroem"
       ],
       "index": 0,
       "layout": "IPY_MODEL_debb2f962f124907af6dc72dd36ff170",
       "style": "IPY_MODEL_9262606949734059bf8a57da32be9681"
      }
     },
     "760569d2597b4d70b2c382809610bd99": {
      "model_module": "@jupyter-widgets/controls",
      "model_module_version": "1.4.0",
      "model_name": "ButtonModel",
      "state": {
       "button_style": "warning",
       "description": "Remove model",
       "layout": "IPY_MODEL_2df9cf96e1ff453f9b60b2154dad606f",
       "style": "IPY_MODEL_dee317eea16d4722b913e163b36666c4"
      }
     },
     "76086e0c46a0443582de0b698976014d": {
      "model_module": "@jupyter-widgets/base",
      "model_module_version": "1.1.0",
      "model_name": "LayoutModel",
      "state": {}
     },
     "764866b515034f228889b78c77547aa7": {
      "model_module": "@jupyter-widgets/controls",
      "model_module_version": "1.4.0",
      "model_name": "ButtonModel",
      "state": {
       "button_style": "info",
       "description": "Add model",
       "layout": "IPY_MODEL_384a0033be7244b39e6407e46ead51de",
       "style": "IPY_MODEL_57061aa5031d4041a85780f186e25930"
      }
     },
     "765061c077a04ddc9aaf27c7eda9cbf3": {
      "model_module": "@jupyter-widgets/base",
      "model_module_version": "1.1.0",
      "model_name": "LayoutModel",
      "state": {}
     },
     "7673cdf749c44bb6b8199dadd233ba54": {
      "model_module": "@jupyter-widgets/controls",
      "model_module_version": "1.4.0",
      "model_name": "VBoxModel",
      "state": {
       "children": [
        "IPY_MODEL_6ca21c7682a441468b9d6eef71f28b56",
        "IPY_MODEL_92530a4a40614c088bf301b9b512a01f",
        "IPY_MODEL_527d1146263d4d9296428277e18de712",
        "IPY_MODEL_a4000913bbe047388f867d73d0a3f77a",
        "IPY_MODEL_16094337d78e4ed8adabf18f5e7081e2",
        "IPY_MODEL_5a5dc4fb72f3410aa7e62460389f0ffc",
        "IPY_MODEL_8acce4fe801b42c29c0306aa5fdabffb"
       ],
       "layout": "IPY_MODEL_cb9eddf23a044c718442de4bb8bd9060"
      }
     },
     "7687a8cd3cda403ba0382dcfbfda689b": {
      "model_module": "@jupyter-widgets/base",
      "model_module_version": "1.1.0",
      "model_name": "LayoutModel",
      "state": {
       "border": "3px solid black"
      }
     },
     "768af75c53364082846d210389c24f9c": {
      "model_module": "@jupyter-widgets/controls",
      "model_module_version": "1.4.0",
      "model_name": "DescriptionStyleModel",
      "state": {
       "description_width": ""
      }
     },
     "769aa4d7f6c945b6adce412a171ee91f": {
      "model_module": "@jupyter-widgets/controls",
      "model_module_version": "1.4.0",
      "model_name": "ButtonModel",
      "state": {
       "button_style": "info",
       "description": "Add model",
       "layout": "IPY_MODEL_e6ee54a5793c468189651aab3ed9ae0f",
       "style": "IPY_MODEL_181b178656b442cc9e21d39d7eb82cfa"
      }
     },
     "76c16dd91f0a443ab9b364269995cfef": {
      "model_module": "@jupyter-widgets/controls",
      "model_module_version": "1.4.0",
      "model_name": "LabelModel",
      "state": {
       "layout": "IPY_MODEL_f765d3e301674695afae845c1396a51a",
       "style": "IPY_MODEL_b146c0300d22426ca7628686bd90e501",
       "value": "Box Type"
      }
     },
     "76d3d9ff5f964e7da1bea67089066223": {
      "model_module": "@jupyter-widgets/base",
      "model_module_version": "1.1.0",
      "model_name": "LayoutModel",
      "state": {}
     },
     "76f1a65020d3492398dd93af5f7a39d6": {
      "model_module": "@jupyter-widgets/controls",
      "model_module_version": "1.4.0",
      "model_name": "SliderStyleModel",
      "state": {
       "description_width": ""
      }
     },
     "770a0c16f6cc4a28b1c1ae082f4bbdf1": {
      "model_module": "@jupyter-widgets/base",
      "model_module_version": "1.1.0",
      "model_name": "LayoutModel",
      "state": {}
     },
     "770ba49db8574f4ca5eee09ea09f203f": {
      "model_module": "@jupyter-widgets/controls",
      "model_module_version": "1.4.0",
      "model_name": "IntRangeSliderModel",
      "state": {
       "_model_name": "IntRangeSliderModel",
       "_view_name": "IntRangeSliderView",
       "disabled": true,
       "layout": "IPY_MODEL_9bc9611ababd408d85e80839cca752b1",
       "max": 400,
       "min": 30,
       "step": 10,
       "style": "IPY_MODEL_0831f57e22a74ef8a51c1dce3299d64c",
       "value": [
        30,
        100
       ]
      }
     },
     "775bc19a581640b09d462f7ef044d4e6": {
      "model_module": "@jupyter-widgets/controls",
      "model_module_version": "1.4.0",
      "model_name": "VBoxModel",
      "state": {
       "children": [
        "IPY_MODEL_f8d5fc592b9942328cffdc7a420da21a",
        "IPY_MODEL_e71382bc1a4f4eeb8feb4c93aa69cf0b"
       ],
       "layout": "IPY_MODEL_68a9a8802de84efa95cbb93e45426ea6"
      }
     },
     "7799a019983640aeb7fbd929e184af3b": {
      "model_module": "@jupyter-widgets/controls",
      "model_module_version": "1.4.0",
      "model_name": "SliderStyleModel",
      "state": {
       "description_width": ""
      }
     },
     "779b3b243da7464192017a40961254f7": {
      "model_module": "@jupyter-widgets/controls",
      "model_module_version": "1.4.0",
      "model_name": "DescriptionStyleModel",
      "state": {
       "description_width": ""
      }
     },
     "77a86d7720bd4cf1bec3ff164d500364": {
      "model_module": "@jupyter-widgets/base",
      "model_module_version": "1.1.0",
      "model_name": "LayoutModel",
      "state": {}
     },
     "77ae71e28e754970996c4e6fbf27d443": {
      "model_module": "@jupyter-widgets/controls",
      "model_module_version": "1.4.0",
      "model_name": "DropdownModel",
      "state": {
       "_options_labels": [
        "dt",
        "logit",
        "linear_svc"
       ],
       "index": 0,
       "layout": "IPY_MODEL_50672bee28824636af757b281e95ac55",
       "style": "IPY_MODEL_8dac92f2ff254701ad61d26eb33e1201"
      }
     },
     "77ce5f20090c49bfaef05edfeb1f33cc": {
      "model_module": "@jupyter-widgets/base",
      "model_module_version": "1.1.0",
      "model_name": "LayoutModel",
      "state": {}
     },
     "77f38581e68d4821bb51f3c989542b51": {
      "model_module": "@jupyter-widgets/controls",
      "model_module_version": "1.4.0",
      "model_name": "DropdownModel",
      "state": {
       "_options_labels": [
        "segment",
        "covertype",
        "digits",
        "fall_detection",
        "mnist",
        "pen_digits",
        "satellite",
        "vowel"
       ],
       "description": "Dataset:",
       "index": 0,
       "layout": "IPY_MODEL_54ac3ed6027a4a2b88ebf2a47b326167",
       "style": "IPY_MODEL_9ef19e4631a94ee78eb8d59c721836f8"
      }
     },
     "7807ed70c4da48b4a0bd0d77457b1469": {
      "model_module": "@jupyter-widgets/base",
      "model_module_version": "1.1.0",
      "model_name": "LayoutModel",
      "state": {}
     },
     "781cdbe711fe443eb7586f69dee4cc35": {
      "model_module": "@jupyter-widgets/controls",
      "model_module_version": "1.4.0",
      "model_name": "DescriptionStyleModel",
      "state": {
       "description_width": ""
      }
     },
     "78235e36d0244a2f90f976bb79a1a42b": {
      "model_module": "@jupyter-widgets/controls",
      "model_module_version": "1.4.0",
      "model_name": "VBoxModel",
      "state": {
       "children": [
        "IPY_MODEL_7d3e37f70aeb4b6787d95a8f954d56d2",
        "IPY_MODEL_83c42158c0214034a4ce3cf4ef59cc38"
       ],
       "layout": "IPY_MODEL_6d74f29913014ee29309bd3dbf435919"
      }
     },
     "788d9da3f46f488e9c0edba433a48f3d": {
      "model_module": "@jupyter-widgets/controls",
      "model_module_version": "1.4.0",
      "model_name": "ButtonStyleModel",
      "state": {}
     },
     "78931bb4cb7c4dd18ed0c77b3263be40": {
      "model_module": "@jupyter-widgets/base",
      "model_module_version": "1.1.0",
      "model_name": "LayoutModel",
      "state": {
       "visibility": "visible"
      }
     },
     "78b0ea77e6094c91a5b05f96db775afc": {
      "model_module": "@jupyter-widgets/base",
      "model_module_version": "1.1.0",
      "model_name": "LayoutModel",
      "state": {}
     },
     "7905df3540cd4a3fbaafb007f1b102a9": {
      "model_module": "@jupyter-widgets/controls",
      "model_module_version": "1.4.0",
      "model_name": "IntRangeSliderModel",
      "state": {
       "_model_name": "IntRangeSliderModel",
       "_view_name": "IntRangeSliderView",
       "disabled": true,
       "layout": "IPY_MODEL_7f18bfa379b04773a4f6e9e97bba557a",
       "max": 400,
       "min": 30,
       "step": 10,
       "style": "IPY_MODEL_f92cbef327234fe69ab12ef54bf1e608",
       "value": [
        30,
        60
       ]
      }
     },
     "790b153c0377449783e76f5ce7adfbab": {
      "model_module": "@jupyter-widgets/base",
      "model_module_version": "1.1.0",
      "model_name": "LayoutModel",
      "state": {}
     },
     "791da8fc540e4ba3a23f09fb1ed57dae": {
      "model_module": "@jupyter-widgets/base",
      "model_module_version": "1.1.0",
      "model_name": "LayoutModel",
      "state": {}
     },
     "7964a224796944f3b7ed0e874eeb72d3": {
      "model_module": "@jupyter-widgets/base",
      "model_module_version": "1.1.0",
      "model_name": "LayoutModel",
      "state": {}
     },
     "799af0aa6d944c4bbd48f91384315ce8": {
      "model_module": "@jupyter-widgets/controls",
      "model_module_version": "1.4.0",
      "model_name": "ButtonStyleModel",
      "state": {}
     },
     "79ffac49edf54714851a9e5ffec3d75b": {
      "model_module": "@jupyter-widgets/base",
      "model_module_version": "1.1.0",
      "model_name": "LayoutModel",
      "state": {}
     },
     "7a3022ab65a44534a70a6eec8b96e897": {
      "model_module": "@jupyter-widgets/controls",
      "model_module_version": "1.4.0",
      "model_name": "CheckboxModel",
      "state": {
       "disabled": false,
       "layout": "IPY_MODEL_b099e9acbbc64a82ab4bd4dc3c20aa16",
       "style": "IPY_MODEL_b4a23a41d1da46fb8a098c7388a254c6",
       "value": false
      }
     },
     "7a30f477fc514a29a565390c09d69adc": {
      "model_module": "@jupyter-widgets/base",
      "model_module_version": "1.1.0",
      "model_name": "LayoutModel",
      "state": {
       "width": "90px"
      }
     },
     "7a3307b76e84428cb3e7c96a89089618": {
      "model_module": "@jupyter-widgets/base",
      "model_module_version": "1.1.0",
      "model_name": "LayoutModel",
      "state": {}
     },
     "7a3f1ee3cafd4e26a972969f6ee9452a": {
      "model_module": "@jupyter-widgets/base",
      "model_module_version": "1.1.0",
      "model_name": "LayoutModel",
      "state": {}
     },
     "7a7d04f0465c4da698181462a682d1fa": {
      "model_module": "@jupyter-widgets/controls",
      "model_module_version": "1.4.0",
      "model_name": "DescriptionStyleModel",
      "state": {
       "description_width": ""
      }
     },
     "7ab31e2923024b96b1243978fda96e89": {
      "model_module": "@jupyter-widgets/base",
      "model_module_version": "1.1.0",
      "model_name": "LayoutModel",
      "state": {}
     },
     "7b570cd7e96d4453be457e03c2aaae30": {
      "model_module": "@jupyter-widgets/controls",
      "model_module_version": "1.4.0",
      "model_name": "LabelModel",
      "state": {
       "layout": "IPY_MODEL_e5f18fd9428b4530a5491cd64c0062c1",
       "style": "IPY_MODEL_8bc2fe849bd84a83b64749aaf4603640",
       "value": "Number Estimators"
      }
     },
     "7b6785d410a14c3da6a83cee7a074929": {
      "model_module": "@jupyter-widgets/controls",
      "model_module_version": "1.4.0",
      "model_name": "ButtonStyleModel",
      "state": {}
     },
     "7b7896e0c49248e5a90f6ea0b996422b": {
      "model_module": "@jupyter-widgets/base",
      "model_module_version": "1.1.0",
      "model_name": "LayoutModel",
      "state": {}
     },
     "7bab28dd630b4fae9f282cc5f6c96488": {
      "model_module": "@jupyter-widgets/controls",
      "model_module_version": "1.4.0",
      "model_name": "DescriptionStyleModel",
      "state": {
       "description_width": ""
      }
     },
     "7c0fd07f1c694c28a661581db18dbebc": {
      "model_module": "@jupyter-widgets/controls",
      "model_module_version": "1.4.0",
      "model_name": "VBoxModel",
      "state": {
       "children": [
        "IPY_MODEL_7b570cd7e96d4453be457e03c2aaae30",
        "IPY_MODEL_d752d0c4d8aa475eb49f440cef8aaee5"
       ],
       "layout": "IPY_MODEL_2fda5490a2bc495491e4944c12150d8d"
      }
     },
     "7c25495504174f3ba86ff3b447057d14": {
      "model_module": "@jupyter-widgets/controls",
      "model_module_version": "1.4.0",
      "model_name": "VBoxModel",
      "state": {
       "children": [
        "IPY_MODEL_68ba54fe20894a9daa924e7e1285a0a0",
        "IPY_MODEL_3f4290f9b1fe4d76b23e895c09eb3ad3",
        "IPY_MODEL_12ff92fbcf29420ab5d538e1009d5f5f",
        "IPY_MODEL_d33402e765c347b59f65727591cd9945",
        "IPY_MODEL_f4973d2eba6f48b68bc2283d89d7f6d2",
        "IPY_MODEL_6a1a61286c81456aafb0469480fa57a1",
        "IPY_MODEL_1e6efed95e944396a05274211c8681f7"
       ],
       "layout": "IPY_MODEL_540f75568470421098397de23a3cedf4"
      }
     },
     "7c5453ce6e3440caa288fde35c348c52": {
      "model_module": "@jupyter-widgets/controls",
      "model_module_version": "1.4.0",
      "model_name": "DescriptionStyleModel",
      "state": {
       "description_width": ""
      }
     },
     "7c77a925a67d49479e6b5c18f2143079": {
      "model_module": "@jupyter-widgets/base",
      "model_module_version": "1.1.0",
      "model_name": "LayoutModel",
      "state": {}
     },
     "7d0b199810be4aa98bd6e64c0d71b250": {
      "model_module": "@jupyter-widgets/controls",
      "model_module_version": "1.4.0",
      "model_name": "ButtonStyleModel",
      "state": {}
     },
     "7d156fa4cae4418aaef1683feb67a106": {
      "model_module": "@jupyter-widgets/controls",
      "model_module_version": "1.4.0",
      "model_name": "DropdownModel",
      "state": {
       "_options_labels": [
        "None",
        "black",
        "grey"
       ],
       "index": 0,
       "layout": "IPY_MODEL_2cce2eda73c84264bf857d0deb2ecc1e",
       "style": "IPY_MODEL_06571ec70ffa4162bcc731b1f4387fd3"
      }
     },
     "7d206e2237c044a69b0953082f21cdb7": {
      "model_module": "@jupyter-widgets/controls",
      "model_module_version": "1.4.0",
      "model_name": "DescriptionStyleModel",
      "state": {
       "description_width": ""
      }
     },
     "7d3a87ef508a47dfb82205fbe73da690": {
      "model_module": "@jupyter-widgets/controls",
      "model_module_version": "1.4.0",
      "model_name": "VBoxModel",
      "state": {
       "children": [
        "IPY_MODEL_f76890cd83b546f7a9bca7ff8caf1501",
        "IPY_MODEL_4c3e14398ee1463795e86b7c129cc13d",
        "IPY_MODEL_57e91d3db0544add8289d3b2bbbd1980",
        "IPY_MODEL_5c77070416d341ab8db49715ad171576"
       ],
       "layout": "IPY_MODEL_3f9efa366f07449282b94caf0b6bdb3c"
      }
     },
     "7d3b6f3785874015a730252abb2aadd1": {
      "model_module": "@jupyter-widgets/controls",
      "model_module_version": "1.4.0",
      "model_name": "DropdownModel",
      "state": {
       "_options_labels": [
        "None",
        "black",
        "grey"
       ],
       "index": 2,
       "layout": "IPY_MODEL_5419c3d541c743f8988d1e8a11f49224",
       "style": "IPY_MODEL_074c3c40550f444d803bc37b9e056d48"
      }
     },
     "7d3e37f70aeb4b6787d95a8f954d56d2": {
      "model_module": "@jupyter-widgets/controls",
      "model_module_version": "1.4.0",
      "model_name": "LabelModel",
      "state": {
       "layout": "IPY_MODEL_c1cf50119e504a878e3cc6d52420b363",
       "style": "IPY_MODEL_2111fed91db04649b793c378c72f6c0b",
       "value": "Sampler"
      }
     },
     "7d7de8ce59204c469f90a1a5f815bcbf": {
      "model_module": "@jupyter-widgets/controls",
      "model_module_version": "1.4.0",
      "model_name": "ButtonStyleModel",
      "state": {}
     },
     "7db15319a70f45f8ba35608926a6ec28": {
      "model_module": "@jupyter-widgets/controls",
      "model_module_version": "1.4.0",
      "model_name": "DescriptionStyleModel",
      "state": {
       "description_width": ""
      }
     },
     "7dc9fc8f20f74856af49dc2f306aae72": {
      "model_module": "@jupyter-widgets/base",
      "model_module_version": "1.1.0",
      "model_name": "LayoutModel",
      "state": {
       "visibility": "visible"
      }
     },
     "7df109915856437b99f64fd7321c19e6": {
      "model_module": "@jupyter-widgets/controls",
      "model_module_version": "1.4.0",
      "model_name": "LabelModel",
      "state": {
       "layout": "IPY_MODEL_beea60e6b6324d23920fff6971f05d7f",
       "style": "IPY_MODEL_19609ab6643946f8b62a221a12d81809",
       "value": "Number Estimators"
      }
     },
     "7e0571001cdc496ab2bc91d7a19e2a51": {
      "model_module": "@jupyter-widgets/controls",
      "model_module_version": "1.4.0",
      "model_name": "IntRangeSliderModel",
      "state": {
       "_model_name": "IntRangeSliderModel",
       "_view_name": "IntRangeSliderView",
       "layout": "IPY_MODEL_7dc9fc8f20f74856af49dc2f306aae72",
       "max": 400,
       "min": 30,
       "step": 10,
       "style": "IPY_MODEL_d665adffceb84df6973bc74bf8ca9340",
       "value": [
        30,
        40
       ]
      }
     },
     "7e32d6da8f444698b1c18768c7e3b76c": {
      "model_module": "@jupyter-widgets/controls",
      "model_module_version": "1.4.0",
      "model_name": "DescriptionStyleModel",
      "state": {
       "description_width": ""
      }
     },
     "7e50345ed2354fe9b61195870a13355d": {
      "model_module": "@jupyter-widgets/controls",
      "model_module_version": "1.4.0",
      "model_name": "ButtonModel",
      "state": {
       "button_style": "info",
       "description": "Add model",
       "layout": "IPY_MODEL_57c249dcf5854eb3aafe7817bff9bad6",
       "style": "IPY_MODEL_b90afbf9aa014e06bb7e1b2a02a4f2dd"
      }
     },
     "7e6dc48431214dbe9d2a67bee3d6ebeb": {
      "model_module": "@jupyter-widgets/controls",
      "model_module_version": "1.4.0",
      "model_name": "VBoxModel",
      "state": {
       "children": [
        "IPY_MODEL_3ff7627389fc4c45830aa389dbaceea5",
        "IPY_MODEL_ac30ef96784c451386afe06c5e71eeea"
       ],
       "layout": "IPY_MODEL_8bce43278e6d4ad38f0bcecb129a29a3"
      }
     },
     "7e88a2cb57d84ca2958207f86222a6c0": {
      "model_module": "@jupyter-widgets/controls",
      "model_module_version": "1.4.0",
      "model_name": "IntSliderModel",
      "state": {
       "disabled": true,
       "layout": "IPY_MODEL_4008ebf76cb446c39a2e336027418170",
       "max": 200,
       "min": 2,
       "style": "IPY_MODEL_17161b9090fa4636be99d443817b4afb",
       "value": 30
      }
     },
     "7e9333c166f244f69666121f1abf6b3f": {
      "model_module": "@jupyter-widgets/controls",
      "model_module_version": "1.4.0",
      "model_name": "ButtonStyleModel",
      "state": {}
     },
     "7e98efbfc63f4ad880fa9dcb96f99b52": {
      "model_module": "@jupyter-widgets/controls",
      "model_module_version": "1.4.0",
      "model_name": "LabelModel",
      "state": {
       "layout": "IPY_MODEL_20fb3cacc4014dc6b7742e66c2b05efd",
       "style": "IPY_MODEL_2feef37b06184e2387626f085b292ddd",
       "value": "Box Type"
      }
     },
     "7ea94f1cf75743e3886186c98c26bba1": {
      "model_module": "@jupyter-widgets/base",
      "model_module_version": "1.1.0",
      "model_name": "LayoutModel",
      "state": {}
     },
     "7ec1a70eac924ad886f1815b5165c98c": {
      "model_module": "@jupyter-widgets/controls",
      "model_module_version": "1.4.0",
      "model_name": "LabelModel",
      "state": {
       "layout": "IPY_MODEL_6f4f8d9bd5994e24b43348b779bb0755",
       "style": "IPY_MODEL_748c6d9ef7fa49b8bb59fb32f4d9c464",
       "value": "PCA?"
      }
     },
     "7eced888c7864d288820fa53370ba9bf": {
      "model_module": "@jupyter-widgets/controls",
      "model_module_version": "1.4.0",
      "model_name": "DescriptionStyleModel",
      "state": {
       "description_width": ""
      }
     },
     "7ed9546121d34570b4eeab7c31def2d5": {
      "model_module": "@jupyter-widgets/controls",
      "model_module_version": "1.4.0",
      "model_name": "ButtonStyleModel",
      "state": {}
     },
     "7ee5c57822f14fa8bf77cbec3c22c40e": {
      "model_module": "@jupyter-widgets/base",
      "model_module_version": "1.1.0",
      "model_name": "LayoutModel",
      "state": {
       "width": "90px"
      }
     },
     "7f18bfa379b04773a4f6e9e97bba557a": {
      "model_module": "@jupyter-widgets/base",
      "model_module_version": "1.1.0",
      "model_name": "LayoutModel",
      "state": {
       "visibility": "hidden"
      }
     },
     "7f45fae881e94ee391375cb049669fbc": {
      "model_module": "@jupyter-widgets/controls",
      "model_module_version": "1.4.0",
      "model_name": "RadioButtonsModel",
      "state": {
       "_options_labels": [
        "1000",
        "2000",
        "5000",
        "10000"
       ],
       "description": "Size",
       "index": 0,
       "layout": "IPY_MODEL_0cdc115ba6c54b008161061fc4ea4f09",
       "style": "IPY_MODEL_f195f5efde0449d0a35cca4b8410301f"
      }
     },
     "7f53bd2034f24d41aa5f835eba8fa738": {
      "model_module": "@jupyter-widgets/base",
      "model_module_version": "1.1.0",
      "model_name": "LayoutModel",
      "state": {}
     },
     "7f8ff29fbdc54625adaf376d5cf8c96f": {
      "model_module": "@jupyter-widgets/base",
      "model_module_version": "1.1.0",
      "model_name": "LayoutModel",
      "state": {}
     },
     "7f918d0f3ab34470a589e0095e44179e": {
      "model_module": "@jupyter-widgets/controls",
      "model_module_version": "1.4.0",
      "model_name": "DescriptionStyleModel",
      "state": {
       "description_width": ""
      }
     },
     "7fb2f84bbf7b4be3989f7d450a71fe51": {
      "model_module": "@jupyter-widgets/base",
      "model_module_version": "1.1.0",
      "model_name": "LayoutModel",
      "state": {}
     },
     "7fc4e653f78b4c2e947f20563d65b3c8": {
      "model_module": "@jupyter-widgets/base",
      "model_module_version": "1.1.0",
      "model_name": "LayoutModel",
      "state": {}
     },
     "7fc771a1e96d4a289add8382ba47cc9a": {
      "model_module": "@jupyter-widgets/controls",
      "model_module_version": "1.4.0",
      "model_name": "SliderStyleModel",
      "state": {
       "description_width": ""
      }
     },
     "8003392df74240f69a1e2ca4308d39bf": {
      "model_module": "@jupyter-widgets/controls",
      "model_module_version": "1.4.0",
      "model_name": "SliderStyleModel",
      "state": {
       "description_width": ""
      }
     },
     "80673a5390a04bc68b4edaf263d28f45": {
      "model_module": "@jupyter-widgets/base",
      "model_module_version": "1.1.0",
      "model_name": "LayoutModel",
      "state": {}
     },
     "80685696a13a44d9a8b415ab0d3bed8c": {
      "model_module": "@jupyter-widgets/base",
      "model_module_version": "1.1.0",
      "model_name": "LayoutModel",
      "state": {
       "width": "90px"
      }
     },
     "807703e41fe3428cbb514fb402e39753": {
      "model_module": "@jupyter-widgets/controls",
      "model_module_version": "1.4.0",
      "model_name": "SliderStyleModel",
      "state": {
       "description_width": ""
      }
     },
     "80a49faea9b643c798b7e117f0622c71": {
      "model_module": "@jupyter-widgets/output",
      "model_module_version": "1.0.0",
      "model_name": "OutputModel",
      "state": {
       "layout": "IPY_MODEL_b8d02ad3808a4673a4b8cf1ae9c36448"
      }
     },
     "80a8c871ef134e0888839b90a488361e": {
      "model_module": "@jupyter-widgets/controls",
      "model_module_version": "1.4.0",
      "model_name": "VBoxModel",
      "state": {
       "children": [
        "IPY_MODEL_3b15e874afe1402a8b309a4c14e8495f",
        "IPY_MODEL_c778019c258d4d3caa7654815c9b7dbc"
       ],
       "layout": "IPY_MODEL_03256680eeea467dae27c9390491fd42"
      }
     },
     "80b2cd38289b47b899bd5d745347c229": {
      "model_module": "@jupyter-widgets/controls",
      "model_module_version": "1.4.0",
      "model_name": "IntRangeSliderModel",
      "state": {
       "_model_name": "IntRangeSliderModel",
       "_view_name": "IntRangeSliderView",
       "layout": "IPY_MODEL_78931bb4cb7c4dd18ed0c77b3263be40",
       "max": 400,
       "min": 30,
       "step": 10,
       "style": "IPY_MODEL_6c47cc8ee3584490b97afad741477f46",
       "value": [
        30,
        50
       ]
      }
     },
     "80c5ee5fbd304f1dbaecce87bad7b3de": {
      "model_module": "@jupyter-widgets/controls",
      "model_module_version": "1.4.0",
      "model_name": "DescriptionStyleModel",
      "state": {
       "description_width": ""
      }
     },
     "812493f1a9724faf917707a1d4182771": {
      "model_module": "@jupyter-widgets/controls",
      "model_module_version": "1.4.0",
      "model_name": "DescriptionStyleModel",
      "state": {
       "description_width": ""
      }
     },
     "8153d04bd83641f9b30834e36eff15f0": {
      "model_module": "@jupyter-widgets/controls",
      "model_module_version": "1.4.0",
      "model_name": "ButtonModel",
      "state": {
       "button_style": "info",
       "description": "Add model",
       "layout": "IPY_MODEL_ec3d502fec364158944fb290665f9d04",
       "style": "IPY_MODEL_da1443cadc3e491da42dc0376bda993a"
      }
     },
     "815a6a2502874a84a14a73cb83d652b0": {
      "model_module": "@jupyter-widgets/base",
      "model_module_version": "1.1.0",
      "model_name": "LayoutModel",
      "state": {}
     },
     "8163f52b42ae4c16b53b7f60fdbf8125": {
      "model_module": "@jupyter-widgets/controls",
      "model_module_version": "1.4.0",
      "model_name": "LabelModel",
      "state": {
       "layout": "IPY_MODEL_5821d8de52154f6d9bab2cf2cd8a0948",
       "style": "IPY_MODEL_a0dd303b6ba74323979ece04cef5ee39",
       "value": "PCA?"
      }
     },
     "81914765edca48cc9bd88cc0be82cd21": {
      "model_module": "@jupyter-widgets/controls",
      "model_module_version": "1.4.0",
      "model_name": "DescriptionStyleModel",
      "state": {
       "description_width": ""
      }
     },
     "81c413c247c3474891c1267fc778dd91": {
      "model_module": "@jupyter-widgets/base",
      "model_module_version": "1.1.0",
      "model_name": "LayoutModel",
      "state": {}
     },
     "81d0f25eeb5f44b3b36f78277526003d": {
      "model_module": "@jupyter-widgets/controls",
      "model_module_version": "1.4.0",
      "model_name": "DescriptionStyleModel",
      "state": {
       "description_width": ""
      }
     },
     "821c04849a4f4bfcbe85d24a7457687e": {
      "model_module": "@jupyter-widgets/controls",
      "model_module_version": "1.4.0",
      "model_name": "LabelModel",
      "state": {
       "layout": "IPY_MODEL_b3c6bf4c4d874eaeb1563183d7c433f7",
       "style": "IPY_MODEL_24bb3313cc7c43f0ae274922409e18e4",
       "value": "Number Estimators"
      }
     },
     "824702b3fbf64dc695981e19eeec8141": {
      "model_module": "@jupyter-widgets/controls",
      "model_module_version": "1.4.0",
      "model_name": "DescriptionStyleModel",
      "state": {
       "description_width": ""
      }
     },
     "82eab0f1ffb64c729a379ddcd53cb1cd": {
      "model_module": "@jupyter-widgets/base",
      "model_module_version": "1.1.0",
      "model_name": "LayoutModel",
      "state": {
       "visibility": "visible",
       "width": "300px"
      }
     },
     "8348deed7b7f43099e00fac4168a5e41": {
      "model_module": "@jupyter-widgets/base",
      "model_module_version": "1.1.0",
      "model_name": "LayoutModel",
      "state": {}
     },
     "83567007d30543fb9bfbebe813a11339": {
      "model_module": "@jupyter-widgets/base",
      "model_module_version": "1.1.0",
      "model_name": "LayoutModel",
      "state": {
       "visibility": "hidden"
      }
     },
     "83691b8ae3f3490bae73d81209a3c729": {
      "model_module": "@jupyter-widgets/base",
      "model_module_version": "1.1.0",
      "model_name": "LayoutModel",
      "state": {}
     },
     "83a0170a04e644d3826e4c2798616ad8": {
      "model_module": "@jupyter-widgets/base",
      "model_module_version": "1.1.0",
      "model_name": "LayoutModel",
      "state": {}
     },
     "83ac3822628344bba75380284a0c5a2b": {
      "model_module": "@jupyter-widgets/base",
      "model_module_version": "1.1.0",
      "model_name": "LayoutModel",
      "state": {
       "visibility": "hidden",
       "width": "300px"
      }
     },
     "83c42158c0214034a4ce3cf4ef59cc38": {
      "model_module": "@jupyter-widgets/controls",
      "model_module_version": "1.4.0",
      "model_name": "DropdownModel",
      "state": {
       "_options_labels": [
        "None",
        "rbf",
        "nystroem"
       ],
       "index": 0,
       "layout": "IPY_MODEL_52f24ab66dd549a7982496906e4e7a60",
       "style": "IPY_MODEL_f7e519f4d89447f184b7274215abe093"
      }
     },
     "842c13b06a0b4feca1a096e43839c42b": {
      "model_module": "@jupyter-widgets/controls",
      "model_module_version": "1.4.0",
      "model_name": "CheckboxModel",
      "state": {
       "disabled": false,
       "layout": "IPY_MODEL_ed67edc056de4a34b94ee49e5d46adf9",
       "style": "IPY_MODEL_317e50f201e443a5b3e4b4caf0e31f0c",
       "value": false
      }
     },
     "842cf36beaa84e18bd1fc305dde50f0a": {
      "model_module": "@jupyter-widgets/base",
      "model_module_version": "1.1.0",
      "model_name": "LayoutModel",
      "state": {}
     },
     "845ae84a6ddb4340a7ad4d587ff2a8e0": {
      "model_module": "@jupyter-widgets/controls",
      "model_module_version": "1.4.0",
      "model_name": "CheckboxModel",
      "state": {
       "disabled": false,
       "layout": "IPY_MODEL_86181ce694774e8f8888980bc66fe135",
       "style": "IPY_MODEL_ae2768a6f3fc42dc86c1a256921b3d76",
       "value": false
      }
     },
     "8461bbadf8bf4ab382d472c114757374": {
      "model_module": "@jupyter-widgets/base",
      "model_module_version": "1.1.0",
      "model_name": "LayoutModel",
      "state": {}
     },
     "84e949285fcd466c9ec74d307543c5c7": {
      "model_module": "@jupyter-widgets/base",
      "model_module_version": "1.1.0",
      "model_name": "LayoutModel",
      "state": {}
     },
     "850bc9bf23a840f5b6c2d44fd494e869": {
      "model_module": "@jupyter-widgets/base",
      "model_module_version": "1.1.0",
      "model_name": "LayoutModel",
      "state": {}
     },
     "85589a5514e9472d96def8951fd90999": {
      "model_module": "@jupyter-widgets/controls",
      "model_module_version": "1.4.0",
      "model_name": "VBoxModel",
      "state": {
       "children": [
        "IPY_MODEL_25b2526a20034da9916d97724893369a",
        "IPY_MODEL_4cc09c7423e24308b9d9f3ad5bedb8ac"
       ],
       "layout": "IPY_MODEL_864bdb31860d4112ba403b68fa069396"
      }
     },
     "857029bb62794614adf30f1739789aad": {
      "model_module": "@jupyter-widgets/controls",
      "model_module_version": "1.4.0",
      "model_name": "ButtonModel",
      "state": {
       "button_style": "info",
       "description": "Demo0",
       "layout": "IPY_MODEL_34127e933f3446559e5ff025eb2214a9",
       "style": "IPY_MODEL_e0422c3c09184395b9aa96833e33a494"
      }
     },
     "857647ef9fe44edb96e0a6d86b7e224b": {
      "model_module": "@jupyter-widgets/controls",
      "model_module_version": "1.4.0",
      "model_name": "LabelModel",
      "state": {
       "layout": "IPY_MODEL_6eed292c63ad40abba7f7909293e752b",
       "style": "IPY_MODEL_971bce1cd6be4a83b3fcad3791f754f2",
       "value": "Sampler"
      }
     },
     "859df9a961654832a8bf53cc52125f4a": {
      "model_module": "@jupyter-widgets/base",
      "model_module_version": "1.1.0",
      "model_name": "LayoutModel",
      "state": {}
     },
     "85d070eaf4894b11bb04fe1692abecd8": {
      "model_module": "@jupyter-widgets/base",
      "model_module_version": "1.1.0",
      "model_name": "LayoutModel",
      "state": {}
     },
     "860e28bc0c1244ebb8b82512e52830b1": {
      "model_module": "@jupyter-widgets/controls",
      "model_module_version": "1.4.0",
      "model_name": "ButtonStyleModel",
      "state": {}
     },
     "86181ce694774e8f8888980bc66fe135": {
      "model_module": "@jupyter-widgets/base",
      "model_module_version": "1.1.0",
      "model_name": "LayoutModel",
      "state": {}
     },
     "861d50256ab1424f8eb55c7f559d724a": {
      "model_module": "@jupyter-widgets/base",
      "model_module_version": "1.1.0",
      "model_name": "LayoutModel",
      "state": {}
     },
     "864bdb31860d4112ba403b68fa069396": {
      "model_module": "@jupyter-widgets/base",
      "model_module_version": "1.1.0",
      "model_name": "LayoutModel",
      "state": {}
     },
     "86a7e9473c0a497b93ca6821499efea4": {
      "model_module": "@jupyter-widgets/controls",
      "model_module_version": "1.4.0",
      "model_name": "LabelModel",
      "state": {
       "layout": "IPY_MODEL_64ff3df6ac4a4d7da2d927ad6f4ca59d",
       "style": "IPY_MODEL_5e38539027cd4d55bace224174d93414",
       "value": "Model"
      }
     },
     "86ac100a063a4437983eeb5bb0ac170a": {
      "model_module": "@jupyter-widgets/controls",
      "model_module_version": "1.4.0",
      "model_name": "DropdownModel",
      "state": {
       "_options_labels": [
        "dt",
        "logit",
        "linear_svc"
       ],
       "index": 0,
       "layout": "IPY_MODEL_5a55d116cd364d078f5297747edf1757",
       "style": "IPY_MODEL_f5ed5421240541f299d7c1e1786808c7"
      }
     },
     "86b19e8c60ae45c4855c6b678831e200": {
      "model_module": "@jupyter-widgets/controls",
      "model_module_version": "1.4.0",
      "model_name": "ButtonModel",
      "state": {
       "button_style": "info",
       "description": "Demo0",
       "layout": "IPY_MODEL_20f580609091431a9d92de9ad84461fd",
       "style": "IPY_MODEL_a310945c3b0d4021a80cc52cd59a9239"
      }
     },
     "86e6f8afd2b44ed7aedf74c790c954ae": {
      "model_module": "@jupyter-widgets/controls",
      "model_module_version": "1.4.0",
      "model_name": "DescriptionStyleModel",
      "state": {
       "description_width": ""
      }
     },
     "8714ea2095c94907a4f21d44ef6f3d88": {
      "model_module": "@jupyter-widgets/controls",
      "model_module_version": "1.4.0",
      "model_name": "DescriptionStyleModel",
      "state": {
       "description_width": ""
      }
     },
     "8728c9a1314c4c69b689a9f5fb302f74": {
      "model_module": "@jupyter-widgets/controls",
      "model_module_version": "1.4.0",
      "model_name": "VBoxModel",
      "state": {
       "children": [
        "IPY_MODEL_0bf3ff9f943f4424876e1d9fbd0ca334",
        "IPY_MODEL_1860d096bfea417689cf225ffda07312"
       ],
       "layout": "IPY_MODEL_66879e67a34d48b69932a477daa3d96b"
      }
     },
     "87596ba3e18541b5ae7c4c774fcfa2f9": {
      "model_module": "@jupyter-widgets/controls",
      "model_module_version": "1.4.0",
      "model_name": "LabelModel",
      "state": {
       "layout": "IPY_MODEL_671e55f5c7344c9b8d1dc8244ae56ac6",
       "style": "IPY_MODEL_40f5df2ee72049f7a4914fd85b8d9d2d",
       "value": "PCA?"
      }
     },
     "875c8c6261e74bd089d0f60695821dcb": {
      "model_module": "@jupyter-widgets/base",
      "model_module_version": "1.1.0",
      "model_name": "LayoutModel",
      "state": {}
     },
     "876222b084374f0b8208665614662c41": {
      "model_module": "@jupyter-widgets/controls",
      "model_module_version": "1.4.0",
      "model_name": "DescriptionStyleModel",
      "state": {
       "description_width": ""
      }
     },
     "876d41e5d0df43ed877644e6dda68e5b": {
      "model_module": "@jupyter-widgets/base",
      "model_module_version": "1.1.0",
      "model_name": "LayoutModel",
      "state": {}
     },
     "87776393f4a84cb6bd8c7a06d38cd268": {
      "model_module": "@jupyter-widgets/controls",
      "model_module_version": "1.4.0",
      "model_name": "DescriptionStyleModel",
      "state": {
       "description_width": ""
      }
     },
     "87a1e68321924597b972f0b84f977771": {
      "model_module": "@jupyter-widgets/controls",
      "model_module_version": "1.4.0",
      "model_name": "DescriptionStyleModel",
      "state": {
       "description_width": ""
      }
     },
     "87c4cd371672413cb0edd816ec9589c6": {
      "model_module": "@jupyter-widgets/controls",
      "model_module_version": "1.4.0",
      "model_name": "ButtonStyleModel",
      "state": {}
     },
     "87e04fdf55484e308a8438b98c64d22c": {
      "model_module": "@jupyter-widgets/base",
      "model_module_version": "1.1.0",
      "model_name": "LayoutModel",
      "state": {
       "visibility": "visible"
      }
     },
     "87e527d729f14d3da597e3efb601b943": {
      "model_module": "@jupyter-widgets/base",
      "model_module_version": "1.1.0",
      "model_name": "LayoutModel",
      "state": {}
     },
     "87edbfaa9d864731aab0d9a7044f76db": {
      "model_module": "@jupyter-widgets/controls",
      "model_module_version": "1.4.0",
      "model_name": "IntRangeSliderModel",
      "state": {
       "_model_name": "IntRangeSliderModel",
       "_view_name": "IntRangeSliderView",
       "disabled": true,
       "layout": "IPY_MODEL_60312e96f4a243fc8a2ed9b821b221f8",
       "max": 400,
       "min": 30,
       "step": 10,
       "style": "IPY_MODEL_70945a323b8845c7b36a692f689e063b",
       "value": [
        30,
        100
       ]
      }
     },
     "88155a82d264468c981b59520a6289ee": {
      "model_module": "@jupyter-widgets/controls",
      "model_module_version": "1.4.0",
      "model_name": "LabelModel",
      "state": {
       "layout": "IPY_MODEL_00089b487bb8462b95a90247d8422f56",
       "style": "IPY_MODEL_1548491a2baa4963a0937b66f4694ab3",
       "value": "PCA?"
      }
     },
     "8819d367732e4363b93b779e3acf48c8": {
      "model_module": "@jupyter-widgets/controls",
      "model_module_version": "1.4.0",
      "model_name": "RadioButtonsModel",
      "state": {
       "_options_labels": [
        "1000",
        "2000",
        "5000",
        "10000"
       ],
       "description": "Size",
       "index": 0,
       "layout": "IPY_MODEL_1f6010039ad44f97820166e5b7cffe5d",
       "style": "IPY_MODEL_700d3a9d3ad3412a8dcc753abb0ac43d"
      }
     },
     "88253d4f8fd944fbb3580c18ce05af34": {
      "model_module": "@jupyter-widgets/controls",
      "model_module_version": "1.4.0",
      "model_name": "ButtonStyleModel",
      "state": {}
     },
     "8838ffeb3eb24f86b4551c75f1c12f00": {
      "model_module": "@jupyter-widgets/controls",
      "model_module_version": "1.4.0",
      "model_name": "DropdownModel",
      "state": {
       "_options_labels": [
        "None",
        "rbf",
        "nystroem"
       ],
       "index": 0,
       "layout": "IPY_MODEL_de1885682adb4f0fbc5df81cb57ce5f3",
       "style": "IPY_MODEL_f366f869ef1e4a6d88807aef872fefb4"
      }
     },
     "883cddf5dfda408fb2d0f3fce55ee9a2": {
      "model_module": "@jupyter-widgets/controls",
      "model_module_version": "1.4.0",
      "model_name": "DescriptionStyleModel",
      "state": {
       "description_width": ""
      }
     },
     "883de83fc78c4459b89c2471bcba2c18": {
      "model_module": "@jupyter-widgets/controls",
      "model_module_version": "1.4.0",
      "model_name": "ButtonStyleModel",
      "state": {}
     },
     "883ef11765c94bbf8d2ae6088fb2d297": {
      "model_module": "@jupyter-widgets/controls",
      "model_module_version": "1.4.0",
      "model_name": "DescriptionStyleModel",
      "state": {
       "description_width": ""
      }
     },
     "885b0438c74549818796a9229f89ef73": {
      "model_module": "@jupyter-widgets/controls",
      "model_module_version": "1.4.0",
      "model_name": "CheckboxModel",
      "state": {
       "disabled": false,
       "layout": "IPY_MODEL_5ee4873391d64643affdb57436e23c12",
       "style": "IPY_MODEL_cfbffecab014498598a746fd7281ed86",
       "value": false
      }
     },
     "88627d6a508044a0a3869a6c733c8c29": {
      "model_module": "@jupyter-widgets/controls",
      "model_module_version": "1.4.0",
      "model_name": "DescriptionStyleModel",
      "state": {
       "description_width": ""
      }
     },
     "8872ce55c3294294a6736442a6861103": {
      "model_module": "@jupyter-widgets/base",
      "model_module_version": "1.1.0",
      "model_name": "LayoutModel",
      "state": {}
     },
     "889c030d02ff49ea853e2d785cae488d": {
      "model_module": "@jupyter-widgets/controls",
      "model_module_version": "1.4.0",
      "model_name": "SliderStyleModel",
      "state": {
       "description_width": ""
      }
     },
     "88a033c03bcd4638b3a26335b44aaa87": {
      "model_module": "@jupyter-widgets/controls",
      "model_module_version": "1.4.0",
      "model_name": "HBoxModel",
      "state": {
       "children": [
        "IPY_MODEL_1b52487bc76049b4b09a3020e532599b",
        "IPY_MODEL_d5920ec5d8b841dfacdb23f0c088e6c1",
        "IPY_MODEL_e7435ba2f23445f5a708455735e611b4",
        "IPY_MODEL_af4c5d1a80c0424095982c18a1479bf5",
        "IPY_MODEL_587e40e4958d444fab8d26da96921f8b"
       ],
       "layout": "IPY_MODEL_fc4abcce1c2e433ea2793a710d453ee8"
      }
     },
     "88c100e53f004448a35dd39ab8926ac3": {
      "model_module": "@jupyter-widgets/controls",
      "model_module_version": "1.4.0",
      "model_name": "DescriptionStyleModel",
      "state": {
       "description_width": ""
      }
     },
     "88d049eaf3de44819c1393238eca10b2": {
      "model_module": "@jupyter-widgets/controls",
      "model_module_version": "1.4.0",
      "model_name": "ButtonStyleModel",
      "state": {}
     },
     "894e73f06e4249b78514368ac99f71d7": {
      "model_module": "@jupyter-widgets/base",
      "model_module_version": "1.1.0",
      "model_name": "LayoutModel",
      "state": {
       "visibility": "hidden",
       "width": "300px"
      }
     },
     "89fbc1ff70b2407ebf3ed2b334a5d956": {
      "model_module": "@jupyter-widgets/controls",
      "model_module_version": "1.4.0",
      "model_name": "DescriptionStyleModel",
      "state": {
       "description_width": ""
      }
     },
     "8a05d46da2594866a3c432d6bedcc7be": {
      "model_module": "@jupyter-widgets/base",
      "model_module_version": "1.1.0",
      "model_name": "LayoutModel",
      "state": {}
     },
     "8a2b584916bb43cca9c47dfcee14c727": {
      "model_module": "@jupyter-widgets/base",
      "model_module_version": "1.1.0",
      "model_name": "LayoutModel",
      "state": {}
     },
     "8a35f2d4d0c541ec90c1f155199e13a3": {
      "model_module": "@jupyter-widgets/controls",
      "model_module_version": "1.4.0",
      "model_name": "VBoxModel",
      "state": {
       "children": [
        "IPY_MODEL_76c16dd91f0a443ab9b364269995cfef",
        "IPY_MODEL_471e876d6b2b4cb8975efbd153946284",
        "IPY_MODEL_4eb4f94d060c443a882f25e5ab3c110d"
       ],
       "layout": "IPY_MODEL_a3bf3621294c42639756dca25bfff3ca"
      }
     },
     "8a381fbc35934eeeabc559ba6755028e": {
      "model_module": "@jupyter-widgets/controls",
      "model_module_version": "1.4.0",
      "model_name": "DescriptionStyleModel",
      "state": {
       "description_width": ""
      }
     },
     "8a402a205c92451b89f317190b758b69": {
      "model_module": "@jupyter-widgets/controls",
      "model_module_version": "1.4.0",
      "model_name": "DescriptionStyleModel",
      "state": {
       "description_width": ""
      }
     },
     "8a43d8f55d39421b9fe8d82a598d87e0": {
      "model_module": "@jupyter-widgets/controls",
      "model_module_version": "1.4.0",
      "model_name": "LabelModel",
      "state": {
       "layout": "IPY_MODEL_2c510b0b465440cabd1431d889d9ebaa",
       "style": "IPY_MODEL_b5cc5978baac46e6b05548876f8cdff6",
       "value": "Sampler"
      }
     },
     "8a4c4989b1e84d27acbdb4fb9219609f": {
      "model_module": "@jupyter-widgets/controls",
      "model_module_version": "1.4.0",
      "model_name": "DescriptionStyleModel",
      "state": {
       "description_width": ""
      }
     },
     "8a7e0c06d1404d16b7b6c0037edeb997": {
      "model_module": "@jupyter-widgets/controls",
      "model_module_version": "1.4.0",
      "model_name": "VBoxModel",
      "state": {
       "children": [
        "IPY_MODEL_8f6e32b063d04aafa9476bf533d774db",
        "IPY_MODEL_a08fedaddff5498998d83db78a81f459"
       ],
       "layout": "IPY_MODEL_09411f75fbc84b51afa7db4ea36c3515"
      }
     },
     "8a970deecf354d5db8c3c1f4940a1a7d": {
      "model_module": "@jupyter-widgets/base",
      "model_module_version": "1.1.0",
      "model_name": "LayoutModel",
      "state": {}
     },
     "8abd18ed51d14527986db31a327f6381": {
      "model_module": "@jupyter-widgets/controls",
      "model_module_version": "1.4.0",
      "model_name": "IntSliderModel",
      "state": {
       "disabled": true,
       "layout": "IPY_MODEL_5c07cb7f04c24a2baec810241ac85915",
       "max": 200,
       "min": 2,
       "style": "IPY_MODEL_7504b3db640f495bb509264244b800db",
       "value": 30
      }
     },
     "8acce4fe801b42c29c0306aa5fdabffb": {
      "model_module": "@jupyter-widgets/controls",
      "model_module_version": "1.4.0",
      "model_name": "ButtonModel",
      "state": {
       "button_style": "info",
       "description": "Demo0",
       "layout": "IPY_MODEL_6037109e35b3430f83d3f9361b7bcbb9",
       "style": "IPY_MODEL_c8f228d1157f4d7c85f809351fc201a0"
      }
     },
     "8b0576621e204fe089544ff8573cff22": {
      "model_module": "@jupyter-widgets/controls",
      "model_module_version": "1.4.0",
      "model_name": "DescriptionStyleModel",
      "state": {
       "description_width": ""
      }
     },
     "8b2cd8b4a47f41ad96ecf840fbd5f35b": {
      "model_module": "@jupyter-widgets/controls",
      "model_module_version": "1.4.0",
      "model_name": "DescriptionStyleModel",
      "state": {
       "description_width": ""
      }
     },
     "8b98e6acf4144a5482ea2d693ce05542": {
      "model_module": "@jupyter-widgets/controls",
      "model_module_version": "1.4.0",
      "model_name": "ButtonStyleModel",
      "state": {}
     },
     "8bc2fe849bd84a83b64749aaf4603640": {
      "model_module": "@jupyter-widgets/controls",
      "model_module_version": "1.4.0",
      "model_name": "DescriptionStyleModel",
      "state": {
       "description_width": ""
      }
     },
     "8bce43278e6d4ad38f0bcecb129a29a3": {
      "model_module": "@jupyter-widgets/base",
      "model_module_version": "1.1.0",
      "model_name": "LayoutModel",
      "state": {}
     },
     "8c5a06eb5a934755ac07b8451e45e51e": {
      "model_module": "@jupyter-widgets/base",
      "model_module_version": "1.1.0",
      "model_name": "LayoutModel",
      "state": {}
     },
     "8c60d914e4844155a015c7f32fc8375b": {
      "model_module": "@jupyter-widgets/base",
      "model_module_version": "1.1.0",
      "model_name": "LayoutModel",
      "state": {}
     },
     "8cabfde28fe14c49af80f05ff955b09a": {
      "model_module": "@jupyter-widgets/base",
      "model_module_version": "1.1.0",
      "model_name": "LayoutModel",
      "state": {}
     },
     "8cca40294e3b438399825c0796dd4846": {
      "model_module": "@jupyter-widgets/controls",
      "model_module_version": "1.4.0",
      "model_name": "ButtonModel",
      "state": {
       "button_style": "info",
       "description": "Demo0",
       "layout": "IPY_MODEL_f8b4839526da4db98fcf2d1c42f4dbc2",
       "style": "IPY_MODEL_40a4fe8f8514457c85cc794909fa455a"
      }
     },
     "8cff8f4ffba64f839a19393b3b878c59": {
      "model_module": "@jupyter-widgets/base",
      "model_module_version": "1.1.0",
      "model_name": "LayoutModel",
      "state": {}
     },
     "8d2de9179c794221abb550d15247a6a5": {
      "model_module": "@jupyter-widgets/base",
      "model_module_version": "1.1.0",
      "model_name": "LayoutModel",
      "state": {}
     },
     "8d45ad4b2b744c18bfbf2b3086442f25": {
      "model_module": "@jupyter-widgets/controls",
      "model_module_version": "1.4.0",
      "model_name": "DescriptionStyleModel",
      "state": {
       "description_width": ""
      }
     },
     "8d4ad7fd77614d07b8bb11a9be946556": {
      "model_module": "@jupyter-widgets/controls",
      "model_module_version": "1.4.0",
      "model_name": "DropdownModel",
      "state": {
       "_options_labels": [
        "segment",
        "covertype",
        "digits",
        "fall_detection",
        "mnist",
        "pen_digits",
        "satellite",
        "vowel"
       ],
       "description": "Dataset:",
       "index": 0,
       "layout": "IPY_MODEL_1a390723a2ca49be9eeba5595ab9c6a4",
       "style": "IPY_MODEL_fb819d121a6142b2a4dc65104a924432"
      }
     },
     "8d6133b5c31c46d395136b7f76ac38ee": {
      "model_module": "@jupyter-widgets/controls",
      "model_module_version": "1.4.0",
      "model_name": "DescriptionStyleModel",
      "state": {
       "description_width": ""
      }
     },
     "8d7f0591fdec402394bc48dc0c6919b6": {
      "model_module": "@jupyter-widgets/controls",
      "model_module_version": "1.4.0",
      "model_name": "ButtonStyleModel",
      "state": {}
     },
     "8d9788f7abcc4a178f39feb3b66e16fe": {
      "model_module": "@jupyter-widgets/base",
      "model_module_version": "1.1.0",
      "model_name": "LayoutModel",
      "state": {}
     },
     "8dac92f2ff254701ad61d26eb33e1201": {
      "model_module": "@jupyter-widgets/controls",
      "model_module_version": "1.4.0",
      "model_name": "DescriptionStyleModel",
      "state": {
       "description_width": ""
      }
     },
     "8ddfeff171b54b9fb008c2740f247985": {
      "model_module": "@jupyter-widgets/controls",
      "model_module_version": "1.4.0",
      "model_name": "VBoxModel",
      "state": {
       "children": [
        "IPY_MODEL_35cf437f5f264eda8a1ab8a6aea1f286",
        "IPY_MODEL_8838ffeb3eb24f86b4551c75f1c12f00"
       ],
       "layout": "IPY_MODEL_d26c855ffb7049bca35f7bac2aa9cffb"
      }
     },
     "8e06caece0254eedb846495e83b607d3": {
      "model_module": "@jupyter-widgets/controls",
      "model_module_version": "1.4.0",
      "model_name": "VBoxModel",
      "state": {
       "children": [
        "IPY_MODEL_7df109915856437b99f64fd7321c19e6",
        "IPY_MODEL_f5af52275c9142ada9c59ef5bd17de92"
       ],
       "layout": "IPY_MODEL_7ea94f1cf75743e3886186c98c26bba1"
      }
     },
     "8e3b46539ec34e58be3cc8fb6f176ddd": {
      "model_module": "@jupyter-widgets/base",
      "model_module_version": "1.1.0",
      "model_name": "LayoutModel",
      "state": {
       "visibility": "hidden",
       "width": "300px"
      }
     },
     "8e78873594a84ce38e67ba64a8130bad": {
      "model_module": "@jupyter-widgets/controls",
      "model_module_version": "1.4.0",
      "model_name": "ButtonStyleModel",
      "state": {}
     },
     "8e90908bae6f433a9e17545fdc518e93": {
      "model_module": "@jupyter-widgets/base",
      "model_module_version": "1.1.0",
      "model_name": "LayoutModel",
      "state": {}
     },
     "8e9f22c5896e40a998e7b0761dea9238": {
      "model_module": "@jupyter-widgets/controls",
      "model_module_version": "1.4.0",
      "model_name": "DescriptionStyleModel",
      "state": {
       "description_width": ""
      }
     },
     "8eb114b1b10344f48537d1e9aeae9c09": {
      "model_module": "@jupyter-widgets/controls",
      "model_module_version": "1.4.0",
      "model_name": "DropdownModel",
      "state": {
       "_options_labels": [
        "dt",
        "logit",
        "linear_svc"
       ],
       "index": 0,
       "layout": "IPY_MODEL_d2011f0b255b48308d0aa9e514fc65f4",
       "style": "IPY_MODEL_e8a0966e2d844e46ae1b0b04ea8c3b17"
      }
     },
     "8f044d49f68144108dc98dbdd5879503": {
      "model_module": "@jupyter-widgets/controls",
      "model_module_version": "1.4.0",
      "model_name": "DescriptionStyleModel",
      "state": {
       "description_width": ""
      }
     },
     "8f2f71499a67465fb8f919281e99a028": {
      "model_module": "@jupyter-widgets/base",
      "model_module_version": "1.1.0",
      "model_name": "LayoutModel",
      "state": {}
     },
     "8f3cfd292fa14f4e9eb5b10d789c5751": {
      "model_module": "@jupyter-widgets/controls",
      "model_module_version": "1.4.0",
      "model_name": "DescriptionStyleModel",
      "state": {
       "description_width": ""
      }
     },
     "8f6e32b063d04aafa9476bf533d774db": {
      "model_module": "@jupyter-widgets/controls",
      "model_module_version": "1.4.0",
      "model_name": "LabelModel",
      "state": {
       "layout": "IPY_MODEL_7b7896e0c49248e5a90f6ea0b996422b",
       "style": "IPY_MODEL_cb6ae390be334a0ca9cf1fcd49554b22",
       "value": "Model"
      }
     },
     "8f79bfdc1a1b47ae871eb1622edeac26": {
      "model_module": "@jupyter-widgets/base",
      "model_module_version": "1.1.0",
      "model_name": "LayoutModel",
      "state": {}
     },
     "8f9c032c92c542a09ac7eb1677ece901": {
      "model_module": "@jupyter-widgets/base",
      "model_module_version": "1.1.0",
      "model_name": "LayoutModel",
      "state": {}
     },
     "8fcacb50e11042879297f926e00e857b": {
      "model_module": "@jupyter-widgets/controls",
      "model_module_version": "1.4.0",
      "model_name": "ButtonModel",
      "state": {
       "button_style": "info",
       "description": "Demo0",
       "layout": "IPY_MODEL_3fb3344e628e44d697d25b65efc40b2c",
       "style": "IPY_MODEL_bd70d6b68adf4240abc67edfb75dabaa"
      }
     },
     "9000ccddf0d44e66953247aec7192179": {
      "model_module": "@jupyter-widgets/controls",
      "model_module_version": "1.4.0",
      "model_name": "CheckboxModel",
      "state": {
       "disabled": false,
       "layout": "IPY_MODEL_d09042b1ade344d1a8fc651e8ee06aac",
       "style": "IPY_MODEL_3430b42c874d47258cb4edce6a5dbee4",
       "value": false
      }
     },
     "904d51ff819747009f378709d9627d16": {
      "model_module": "@jupyter-widgets/controls",
      "model_module_version": "1.4.0",
      "model_name": "DescriptionStyleModel",
      "state": {
       "description_width": ""
      }
     },
     "9074ba8743f14e4facf82541317b27f2": {
      "model_module": "@jupyter-widgets/controls",
      "model_module_version": "1.4.0",
      "model_name": "DescriptionStyleModel",
      "state": {
       "description_width": ""
      }
     },
     "90d1bfc05a7447338b8d87d086d1bbf0": {
      "model_module": "@jupyter-widgets/controls",
      "model_module_version": "1.4.0",
      "model_name": "DropdownModel",
      "state": {
       "_options_labels": [
        "None",
        "black",
        "grey"
       ],
       "index": 2,
       "layout": "IPY_MODEL_9ceded0e0c0b48e693a4df6f3a421450",
       "style": "IPY_MODEL_1acaf4af871243bbb05e0c84c421d5b6"
      }
     },
     "90dd7afffdf44278a73907ef0edc1d34": {
      "model_module": "@jupyter-widgets/controls",
      "model_module_version": "1.4.0",
      "model_name": "DescriptionStyleModel",
      "state": {
       "description_width": ""
      }
     },
     "90f8f5746635444aa936bf78dafa054d": {
      "model_module": "@jupyter-widgets/base",
      "model_module_version": "1.1.0",
      "model_name": "LayoutModel",
      "state": {}
     },
     "910aaac655ad4802a02c3c01f646464f": {
      "model_module": "@jupyter-widgets/output",
      "model_module_version": "1.0.0",
      "model_name": "OutputModel",
      "state": {
       "layout": "IPY_MODEL_a9ca853009824291afc14e5dbd001d32",
       "outputs": [
        {
         "data": {
          "text/markdown": "\n- Dataset: **segment**\n- Size: **1000**\n        ",
          "text/plain": "<IPython.core.display.Markdown object>"
         },
         "metadata": {},
         "output_type": "display_data"
        },
        {
         "data": {
          "image/png": "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\n",
          "text/plain": "<Figure size 921.6x345.6 with 2 Axes>"
         },
         "metadata": {},
         "output_type": "display_data"
        }
       ]
      }
     },
     "912e224e64774fab81670412a82cbfc6": {
      "model_module": "@jupyter-widgets/base",
      "model_module_version": "1.1.0",
      "model_name": "LayoutModel",
      "state": {}
     },
     "913c4916cc85421e8fffa8a0ea7732ee": {
      "model_module": "@jupyter-widgets/controls",
      "model_module_version": "1.4.0",
      "model_name": "IntSliderModel",
      "state": {
       "disabled": true,
       "layout": "IPY_MODEL_16a0e88b2b0c4d1fb2000e81172974ee",
       "max": 200,
       "min": 2,
       "style": "IPY_MODEL_c6557472e9594a8e94f5f690dfc546e9",
       "value": 30
      }
     },
     "91556d1af29744d0907cafd8499cd31d": {
      "model_module": "@jupyter-widgets/base",
      "model_module_version": "1.1.0",
      "model_name": "LayoutModel",
      "state": {}
     },
     "915e4538a9b5453eab0ef9564298ee60": {
      "model_module": "@jupyter-widgets/base",
      "model_module_version": "1.1.0",
      "model_name": "LayoutModel",
      "state": {}
     },
     "91aba6542ceb4b029b635c20a1609a75": {
      "model_module": "@jupyter-widgets/controls",
      "model_module_version": "1.4.0",
      "model_name": "DescriptionStyleModel",
      "state": {
       "description_width": ""
      }
     },
     "920f4bea509a4dda83fc93eb633d0bb1": {
      "model_module": "@jupyter-widgets/controls",
      "model_module_version": "1.4.0",
      "model_name": "LabelModel",
      "state": {
       "layout": "IPY_MODEL_d4b52c61dd4946ec8365189e76ba20a5",
       "style": "IPY_MODEL_af07b3491154466d8fe09010ebe5fd51",
       "value": "Number Estimators"
      }
     },
     "920f9e0315fc4b4185b7e2bcb3c683f9": {
      "model_module": "@jupyter-widgets/output",
      "model_module_version": "1.0.0",
      "model_name": "OutputModel",
      "state": {
       "layout": "IPY_MODEL_0d514d15baa045ddb9a1adceb44bdc8a",
       "outputs": [
        {
         "data": {
          "text/markdown": "\n- Dataset: **segment**\n- Size: **1000**\n        ",
          "text/plain": "<IPython.core.display.Markdown object>"
         },
         "metadata": {},
         "output_type": "display_data"
        },
        {
         "data": {
          "image/png": "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\n",
          "text/plain": "<Figure size 921.6x345.6 with 2 Axes>"
         },
         "metadata": {},
         "output_type": "display_data"
        }
       ]
      }
     },
     "92344223e36146b49086ecd1c953a3dc": {
      "model_module": "@jupyter-widgets/controls",
      "model_module_version": "1.4.0",
      "model_name": "VBoxModel",
      "state": {
       "children": [
        "IPY_MODEL_821c04849a4f4bfcbe85d24a7457687e",
        "IPY_MODEL_fe13dd9632c34ca09ed6e01f8f986795"
       ],
       "layout": "IPY_MODEL_d9716ea4abfb4d2996b52d88b5d80d8f"
      }
     },
     "92530a4a40614c088bf301b9b512a01f": {
      "model_module": "@jupyter-widgets/controls",
      "model_module_version": "1.4.0",
      "model_name": "RadioButtonsModel",
      "state": {
       "_options_labels": [
        "1000",
        "2000",
        "5000",
        "10000"
       ],
       "description": "Size",
       "index": 0,
       "layout": "IPY_MODEL_5556a07839404902bfe8945ad9ddce63",
       "style": "IPY_MODEL_8a381fbc35934eeeabc559ba6755028e"
      }
     },
     "925f9c721b2c45a3a08d536475005328": {
      "model_module": "@jupyter-widgets/base",
      "model_module_version": "1.1.0",
      "model_name": "LayoutModel",
      "state": {}
     },
     "9262606949734059bf8a57da32be9681": {
      "model_module": "@jupyter-widgets/controls",
      "model_module_version": "1.4.0",
      "model_name": "DescriptionStyleModel",
      "state": {
       "description_width": ""
      }
     },
     "926658be408042848d66e88ae6f10b7a": {
      "model_module": "@jupyter-widgets/controls",
      "model_module_version": "1.4.0",
      "model_name": "DescriptionStyleModel",
      "state": {
       "description_width": ""
      }
     },
     "9272750883bf45438bb93c47d30f4826": {
      "model_module": "@jupyter-widgets/controls",
      "model_module_version": "1.4.0",
      "model_name": "ButtonModel",
      "state": {
       "button_style": "info",
       "description": "Add model",
       "layout": "IPY_MODEL_76086e0c46a0443582de0b698976014d",
       "style": "IPY_MODEL_036ee417748842f598af1f9d5fed3715"
      }
     },
     "928cab060f204c209a96ca4b069de977": {
      "model_module": "@jupyter-widgets/controls",
      "model_module_version": "1.4.0",
      "model_name": "DropdownModel",
      "state": {
       "_options_labels": [
        "None",
        "rbf",
        "nystroem"
       ],
       "index": 1,
       "layout": "IPY_MODEL_63c2d20d01984a788094dc361606577d",
       "style": "IPY_MODEL_562f31c2a49d4553ab0cb1e875b5b8d1"
      }
     },
     "929fa50631754e02a3727bcb0e50ca10": {
      "model_module": "@jupyter-widgets/controls",
      "model_module_version": "1.4.0",
      "model_name": "DescriptionStyleModel",
      "state": {
       "description_width": ""
      }
     },
     "92a959fd5e7e44daab23c47c385802af": {
      "model_module": "@jupyter-widgets/controls",
      "model_module_version": "1.4.0",
      "model_name": "DescriptionStyleModel",
      "state": {
       "description_width": ""
      }
     },
     "92df9c7c32dd4f44a1858b568cc1e291": {
      "model_module": "@jupyter-widgets/controls",
      "model_module_version": "1.4.0",
      "model_name": "ButtonModel",
      "state": {
       "button_style": "info",
       "description": "Demo0",
       "layout": "IPY_MODEL_8e90908bae6f433a9e17545fdc518e93",
       "style": "IPY_MODEL_8e78873594a84ce38e67ba64a8130bad"
      }
     },
     "92e201e43c21459fa7888d32cc33adbd": {
      "model_module": "@jupyter-widgets/base",
      "model_module_version": "1.1.0",
      "model_name": "LayoutModel",
      "state": {}
     },
     "9308ea931eba4e4787f27d472c91bbe1": {
      "model_module": "@jupyter-widgets/controls",
      "model_module_version": "1.4.0",
      "model_name": "ButtonModel",
      "state": {
       "button_style": "info",
       "description": "Demo0",
       "layout": "IPY_MODEL_9907a517d54a4b6581cc6c29b16cf41a",
       "style": "IPY_MODEL_364a1d0248da4308b6d984849f692ac2"
      }
     },
     "9344e81e8e5449308860aac677b23ec9": {
      "model_module": "@jupyter-widgets/controls",
      "model_module_version": "1.4.0",
      "model_name": "DropdownModel",
      "state": {
       "_options_labels": [
        "None",
        "black",
        "grey"
       ],
       "index": 2,
       "layout": "IPY_MODEL_61bc1f6ddb4343fa96e1a44294b9f113",
       "style": "IPY_MODEL_03bcd96ac5d942c09116dfea4ba88109"
      }
     },
     "9346cb8b34b24a3e97c4f573c7b43870": {
      "model_module": "@jupyter-widgets/controls",
      "model_module_version": "1.4.0",
      "model_name": "IntSliderModel",
      "state": {
       "disabled": true,
       "layout": "IPY_MODEL_8e3b46539ec34e58be3cc8fb6f176ddd",
       "max": 200,
       "min": 2,
       "style": "IPY_MODEL_a805ad216d52493bbd63d4dcaa20cc6c",
       "value": 30
      }
     },
     "938fd85a0f7e413daf030b5746c7cb9f": {
      "model_module": "@jupyter-widgets/base",
      "model_module_version": "1.1.0",
      "model_name": "LayoutModel",
      "state": {}
     },
     "93a40f6ee85142f3aa76392f6d585c24": {
      "model_module": "@jupyter-widgets/controls",
      "model_module_version": "1.4.0",
      "model_name": "DropdownModel",
      "state": {
       "_options_labels": [
        "None",
        "rbf",
        "nystroem"
       ],
       "index": 2,
       "layout": "IPY_MODEL_b7964e5cf7814964aa704044688596c1",
       "style": "IPY_MODEL_23dddfbfc7b54e25856d57a4db13f902"
      }
     },
     "93dcc84344cc4295a31bb3414e710393": {
      "model_module": "@jupyter-widgets/base",
      "model_module_version": "1.1.0",
      "model_name": "LayoutModel",
      "state": {}
     },
     "94267d3b4e0341e0b31249f90c1af7a6": {
      "model_module": "@jupyter-widgets/controls",
      "model_module_version": "1.4.0",
      "model_name": "DescriptionStyleModel",
      "state": {
       "description_width": ""
      }
     },
     "948091d6a0df44aab2513843c9a0b833": {
      "model_module": "@jupyter-widgets/controls",
      "model_module_version": "1.4.0",
      "model_name": "ButtonModel",
      "state": {
       "button_style": "info",
       "description": "Add model",
       "layout": "IPY_MODEL_8d9788f7abcc4a178f39feb3b66e16fe",
       "style": "IPY_MODEL_788d9da3f46f488e9c0edba433a48f3d"
      }
     },
     "94b39c9a4e0f489a92092f992f4f1744": {
      "model_module": "@jupyter-widgets/controls",
      "model_module_version": "1.4.0",
      "model_name": "DropdownModel",
      "state": {
       "_options_labels": [
        "segment",
        "covertype",
        "digits",
        "fall_detection",
        "mnist",
        "pen_digits",
        "satellite",
        "vowel"
       ],
       "description": "Dataset:",
       "index": 0,
       "layout": "IPY_MODEL_9fd53dfed9c24b18958fedec18b78542",
       "style": "IPY_MODEL_299dcf711c8441ad9793ddede87e3935"
      }
     },
     "94dc414ac5894fd9a08c7d909b4600e1": {
      "model_module": "@jupyter-widgets/controls",
      "model_module_version": "1.4.0",
      "model_name": "LabelModel",
      "state": {
       "layout": "IPY_MODEL_27f475e34fc149309a42841b8fcf6b0c",
       "style": "IPY_MODEL_4e534435aed142d4af2f61661971b83a",
       "value": "Model"
      }
     },
     "955b432fd2b64a8db390988fdf2a657a": {
      "model_module": "@jupyter-widgets/controls",
      "model_module_version": "1.4.0",
      "model_name": "DescriptionStyleModel",
      "state": {
       "description_width": ""
      }
     },
     "958b43564eb646458574521eed8981d1": {
      "model_module": "@jupyter-widgets/base",
      "model_module_version": "1.1.0",
      "model_name": "LayoutModel",
      "state": {}
     },
     "95dec0ef70ae40d2b3ec70423af89caf": {
      "model_module": "@jupyter-widgets/controls",
      "model_module_version": "1.4.0",
      "model_name": "DropdownModel",
      "state": {
       "_options_labels": [
        "dt",
        "logit",
        "linear_svc"
       ],
       "index": 0,
       "layout": "IPY_MODEL_6040a266732e4a19b6b91ae0a5558bb2",
       "style": "IPY_MODEL_dd0476ae3664492ebd36ba887e11ba17"
      }
     },
     "95fa587e37c74086b77825232846027c": {
      "model_module": "@jupyter-widgets/controls",
      "model_module_version": "1.4.0",
      "model_name": "LabelModel",
      "state": {
       "layout": "IPY_MODEL_326214b914874c99ad5422b22cc14301",
       "style": "IPY_MODEL_dbe9de9aaa2047a08499228d1eb5fabd",
       "value": "Model"
      }
     },
     "960e06706cc94e37a7bb6deed91b12e4": {
      "model_module": "@jupyter-widgets/controls",
      "model_module_version": "1.4.0",
      "model_name": "DropdownModel",
      "state": {
       "_options_labels": [
        "None",
        "black",
        "grey"
       ],
       "index": 0,
       "layout": "IPY_MODEL_c75799ff81e84f8b95d14ce32b76a73f",
       "style": "IPY_MODEL_17fd3c297087479fa9d836d90baeb821"
      }
     },
     "963033bc269542b3bd5e9e97a3c01e04": {
      "model_module": "@jupyter-widgets/base",
      "model_module_version": "1.1.0",
      "model_name": "LayoutModel",
      "state": {}
     },
     "963ba979e0aa42369146dfcaaa382115": {
      "model_module": "@jupyter-widgets/controls",
      "model_module_version": "1.4.0",
      "model_name": "HBoxModel",
      "state": {
       "children": [
        "IPY_MODEL_7d3a87ef508a47dfb82205fbe73da690",
        "IPY_MODEL_ef9187d4adc54ccb86a8a46e3321a0f4",
        "IPY_MODEL_4f3a19fbffcf4a13a54212fdf66bd6f4",
        "IPY_MODEL_29444e53a4fa45d0a4743449f4e76ef0",
        "IPY_MODEL_b335ba4632e047cab71e88481872caf4"
       ],
       "layout": "IPY_MODEL_0e4cc6a85451412d9b2f9a197e3cecea"
      }
     },
     "964042a97cf844a0aed76c8897d6e53c": {
      "model_module": "@jupyter-widgets/controls",
      "model_module_version": "1.4.0",
      "model_name": "DropdownModel",
      "state": {
       "_options_labels": [
        "None",
        "rbf",
        "nystroem"
       ],
       "index": 1,
       "layout": "IPY_MODEL_9ceded0e0c0b48e693a4df6f3a421450",
       "style": "IPY_MODEL_ddee0f8b28ce4da0bc5dab352305084f"
      }
     },
     "9643ac5e43cd4622803d23a548ec5ff8": {
      "model_module": "@jupyter-widgets/controls",
      "model_module_version": "1.4.0",
      "model_name": "DescriptionStyleModel",
      "state": {
       "description_width": ""
      }
     },
     "9658539edc0c41e892312ee0e2990c64": {
      "model_module": "@jupyter-widgets/base",
      "model_module_version": "1.1.0",
      "model_name": "LayoutModel",
      "state": {}
     },
     "965fde0c9a4448f59710ab3f379c0aa1": {
      "model_module": "@jupyter-widgets/controls",
      "model_module_version": "1.4.0",
      "model_name": "SliderStyleModel",
      "state": {
       "description_width": ""
      }
     },
     "96749b25a25646309a49cd1677bcc159": {
      "model_module": "@jupyter-widgets/controls",
      "model_module_version": "1.4.0",
      "model_name": "DescriptionStyleModel",
      "state": {
       "description_width": ""
      }
     },
     "967a039fa2494816adc740920a77c98d": {
      "model_module": "@jupyter-widgets/base",
      "model_module_version": "1.1.0",
      "model_name": "LayoutModel",
      "state": {}
     },
     "9696869d43384d97b0b653397c78da42": {
      "model_module": "@jupyter-widgets/base",
      "model_module_version": "1.1.0",
      "model_name": "LayoutModel",
      "state": {}
     },
     "969ab75f06b54d71a528c84e0c400a61": {
      "model_module": "@jupyter-widgets/base",
      "model_module_version": "1.1.0",
      "model_name": "LayoutModel",
      "state": {
       "visibility": "hidden",
       "width": "300px"
      }
     },
     "969d2b1aee4b4b00999be0f02d1884bb": {
      "model_module": "@jupyter-widgets/controls",
      "model_module_version": "1.4.0",
      "model_name": "DropdownModel",
      "state": {
       "_options_labels": [
        "None",
        "black",
        "grey"
       ],
       "index": 0,
       "layout": "IPY_MODEL_80685696a13a44d9a8b415ab0d3bed8c",
       "style": "IPY_MODEL_5255ed9e6158493082f3bec13cc62332"
      }
     },
     "96e377f94557415ca22489a0cf7bfc12": {
      "model_module": "@jupyter-widgets/controls",
      "model_module_version": "1.4.0",
      "model_name": "DropdownModel",
      "state": {
       "_options_labels": [
        "None",
        "rbf",
        "nystroem"
       ],
       "index": 0,
       "layout": "IPY_MODEL_61c87b98e45a4bd6b4cec3c85d84b025",
       "style": "IPY_MODEL_d63591d7ebac4673a6221b7bf14b062f"
      }
     },
     "971392fc9bac485b90f9aa696073e399": {
      "model_module": "@jupyter-widgets/controls",
      "model_module_version": "1.4.0",
      "model_name": "LabelModel",
      "state": {
       "layout": "IPY_MODEL_8f79bfdc1a1b47ae871eb1622edeac26",
       "style": "IPY_MODEL_2ff0f6d9051f45509b8a3a6bd6d13685",
       "value": "Number Estimators"
      }
     },
     "971bce1cd6be4a83b3fcad3791f754f2": {
      "model_module": "@jupyter-widgets/controls",
      "model_module_version": "1.4.0",
      "model_name": "DescriptionStyleModel",
      "state": {
       "description_width": ""
      }
     },
     "974710b93e56426983004910c5c271d3": {
      "model_module": "@jupyter-widgets/controls",
      "model_module_version": "1.4.0",
      "model_name": "LabelModel",
      "state": {
       "layout": "IPY_MODEL_93dcc84344cc4295a31bb3414e710393",
       "style": "IPY_MODEL_0897d391bbd4491483bd71845e8edaef",
       "value": "Number Estimators"
      }
     },
     "97616fb8405b469fa9c229db6ea37941": {
      "model_module": "@jupyter-widgets/controls",
      "model_module_version": "1.4.0",
      "model_name": "IntRangeSliderModel",
      "state": {
       "_model_name": "IntRangeSliderModel",
       "_view_name": "IntRangeSliderView",
       "disabled": true,
       "layout": "IPY_MODEL_9d3b3d630f054c0aad8dbc5ee701bffe",
       "max": 400,
       "min": 30,
       "step": 10,
       "style": "IPY_MODEL_01086ebdc1ec459e9a817d541a313436",
       "value": [
        30,
        100
       ]
      }
     },
     "977ccc81b2c246ae96bd288ab65f8831": {
      "model_module": "@jupyter-widgets/controls",
      "model_module_version": "1.4.0",
      "model_name": "LabelModel",
      "state": {
       "layout": "IPY_MODEL_4b089987af6c472fbb946469cc8cac70",
       "style": "IPY_MODEL_ad374207301e4493b70354694bf1c097",
       "value": "PCA?"
      }
     },
     "97943762650f44d09d178d646fdf9de1": {
      "model_module": "@jupyter-widgets/controls",
      "model_module_version": "1.4.0",
      "model_name": "SliderStyleModel",
      "state": {
       "description_width": ""
      }
     },
     "979fd8105555410a8415c9924628e680": {
      "model_module": "@jupyter-widgets/base",
      "model_module_version": "1.1.0",
      "model_name": "LayoutModel",
      "state": {
       "visibility": "hidden",
       "width": "300px"
      }
     },
     "97ee6b0636bd41f4ab74b210e74773b5": {
      "model_module": "@jupyter-widgets/base",
      "model_module_version": "1.1.0",
      "model_name": "LayoutModel",
      "state": {
       "visibility": "hidden",
       "width": "300px"
      }
     },
     "9823a9106ea54f50b47374f91529c990": {
      "model_module": "@jupyter-widgets/controls",
      "model_module_version": "1.4.0",
      "model_name": "DescriptionStyleModel",
      "state": {
       "description_width": ""
      }
     },
     "9824ea650a974071b7eae4fe75ec1315": {
      "model_module": "@jupyter-widgets/controls",
      "model_module_version": "1.4.0",
      "model_name": "ButtonStyleModel",
      "state": {}
     },
     "982d807e962942698864a8644fc8bd33": {
      "model_module": "@jupyter-widgets/controls",
      "model_module_version": "1.4.0",
      "model_name": "ButtonModel",
      "state": {
       "button_style": "info",
       "description": "Demo0",
       "layout": "IPY_MODEL_e8066512fecc490aa0b86875ae134560",
       "style": "IPY_MODEL_f87420c69f034ab98742ca78a495759a"
      }
     },
     "983908c3bd904ab1b512b6f5f1163dc7": {
      "model_module": "@jupyter-widgets/base",
      "model_module_version": "1.1.0",
      "model_name": "LayoutModel",
      "state": {}
     },
     "98d29b3e09e94cbeb7ff3294b335657b": {
      "model_module": "@jupyter-widgets/controls",
      "model_module_version": "1.4.0",
      "model_name": "HBoxModel",
      "state": {
       "children": [
        "IPY_MODEL_43ac1381613c47ee853962d8582e658e",
        "IPY_MODEL_5c339a1ae742499eba98ace963101d8f",
        "IPY_MODEL_462bb593537944e3af869859f8eec7d6",
        "IPY_MODEL_f278428a69cc4a0ea2106e31547c5cce",
        "IPY_MODEL_138f2b1f59e34351b5e2fd2beb0e66b5"
       ],
       "layout": "IPY_MODEL_b45077b00d84436a9533736de15c2189"
      }
     },
     "98e42394ee1d42d2a79cbcef573b951d": {
      "model_module": "@jupyter-widgets/base",
      "model_module_version": "1.1.0",
      "model_name": "LayoutModel",
      "state": {}
     },
     "98eb87a818474219ac8170ed1c0a55ac": {
      "model_module": "@jupyter-widgets/controls",
      "model_module_version": "1.4.0",
      "model_name": "VBoxModel",
      "state": {
       "children": [
        "IPY_MODEL_67ee6df862ed43f2bdc309f35022b93f",
        "IPY_MODEL_ee2fc485e7394cd3a7762fdc1820ce5f",
        "IPY_MODEL_b8a3bce2356f4a83a383bf99bc606240",
        "IPY_MODEL_ac741da3eb324e9a9d093f86fe42da42",
        "IPY_MODEL_9c13e9d40160452082e50a263b5269cb",
        "IPY_MODEL_007076192796472cbad90556b97d385a"
       ],
       "layout": "IPY_MODEL_2e9cfb72456844acb8575c6f7df5abab"
      }
     },
     "9907a517d54a4b6581cc6c29b16cf41a": {
      "model_module": "@jupyter-widgets/base",
      "model_module_version": "1.1.0",
      "model_name": "LayoutModel",
      "state": {}
     },
     "991fdeb814e94debbc9405b8a7e36a08": {
      "model_module": "@jupyter-widgets/base",
      "model_module_version": "1.1.0",
      "model_name": "LayoutModel",
      "state": {
       "visibility": "hidden",
       "width": "300px"
      }
     },
     "9929572092be464685eb6e91166cac3e": {
      "model_module": "@jupyter-widgets/base",
      "model_module_version": "1.1.0",
      "model_name": "LayoutModel",
      "state": {}
     },
     "998a4d82176246cda0e3d28edbd838e2": {
      "model_module": "@jupyter-widgets/controls",
      "model_module_version": "1.4.0",
      "model_name": "DescriptionStyleModel",
      "state": {
       "description_width": ""
      }
     },
     "99a245bb2ee1417b8463511e2d592d89": {
      "model_module": "@jupyter-widgets/controls",
      "model_module_version": "1.4.0",
      "model_name": "LabelModel",
      "state": {
       "layout": "IPY_MODEL_876d41e5d0df43ed877644e6dda68e5b",
       "style": "IPY_MODEL_530c86ccfe8e49a1a24a08bc84326031",
       "value": "Model"
      }
     },
     "99b32c5a225646a2985f3833e5b82f0c": {
      "model_module": "@jupyter-widgets/controls",
      "model_module_version": "1.4.0",
      "model_name": "IntSliderModel",
      "state": {
       "layout": "IPY_MODEL_e3677b81cf5d477dbeefca4f9cfdd9bc",
       "max": 200,
       "min": 2,
       "style": "IPY_MODEL_687cd074a4174aaa96fb9e5a824f128b",
       "value": 10
      }
     },
     "9a949ddafad645b48b3c708e435088f0": {
      "model_module": "@jupyter-widgets/controls",
      "model_module_version": "1.4.0",
      "model_name": "LabelModel",
      "state": {
       "layout": "IPY_MODEL_68480194d1754a0a82053abc71266fe4",
       "style": "IPY_MODEL_701b9ed3ebaa4683b864232967d14e1a",
       "value": "Sampler"
      }
     },
     "9aa088cab70e45d8a40d2cfeebac1e24": {
      "model_module": "@jupyter-widgets/controls",
      "model_module_version": "1.4.0",
      "model_name": "DescriptionStyleModel",
      "state": {
       "description_width": ""
      }
     },
     "9ac2a8a6e73e4781b1125571c6272dd0": {
      "model_module": "@jupyter-widgets/base",
      "model_module_version": "1.1.0",
      "model_name": "LayoutModel",
      "state": {
       "visibility": "visible",
       "width": "300px"
      }
     },
     "9aeb6b0ebdc5481f8a1e6c25665fb57a": {
      "model_module": "@jupyter-widgets/controls",
      "model_module_version": "1.4.0",
      "model_name": "DropdownModel",
      "state": {
       "_options_labels": [
        "None",
        "rbf",
        "nystroem"
       ],
       "index": 0,
       "layout": "IPY_MODEL_7ee5c57822f14fa8bf77cbec3c22c40e",
       "style": "IPY_MODEL_bff428487cd84afb8fdcd14e0a084dd8"
      }
     },
     "9b50682b1baa42cfa3319bd87a771200": {
      "model_module": "@jupyter-widgets/base",
      "model_module_version": "1.1.0",
      "model_name": "LayoutModel",
      "state": {}
     },
     "9b535c86d69a453fa564dcdf62b07365": {
      "model_module": "@jupyter-widgets/controls",
      "model_module_version": "1.4.0",
      "model_name": "CheckboxModel",
      "state": {
       "disabled": false,
       "layout": "IPY_MODEL_7fc4e653f78b4c2e947f20563d65b3c8",
       "style": "IPY_MODEL_88627d6a508044a0a3869a6c733c8c29",
       "value": false
      }
     },
     "9b5692bb9d9c4d4999527b8441c4e832": {
      "model_module": "@jupyter-widgets/base",
      "model_module_version": "1.1.0",
      "model_name": "LayoutModel",
      "state": {
       "visibility": "visible",
       "width": "300px"
      }
     },
     "9b65a1b890c8481285b435ad6e17962d": {
      "model_module": "@jupyter-widgets/controls",
      "model_module_version": "1.4.0",
      "model_name": "RadioButtonsModel",
      "state": {
       "_options_labels": [
        "1000",
        "2000",
        "5000",
        "10000"
       ],
       "description": "Size",
       "index": 0,
       "layout": "IPY_MODEL_003e62a1cf1f45438c789e3320ec3eca",
       "style": "IPY_MODEL_57dbc9581bcb4c908b3931df455cf843"
      }
     },
     "9bc9611ababd408d85e80839cca752b1": {
      "model_module": "@jupyter-widgets/base",
      "model_module_version": "1.1.0",
      "model_name": "LayoutModel",
      "state": {
       "visibility": "hidden"
      }
     },
     "9be1aeaa2b034f59b8405591c6c5783b": {
      "model_module": "@jupyter-widgets/base",
      "model_module_version": "1.1.0",
      "model_name": "LayoutModel",
      "state": {}
     },
     "9bf00d52c1de4061bf904930aa44803f": {
      "model_module": "@jupyter-widgets/base",
      "model_module_version": "1.1.0",
      "model_name": "LayoutModel",
      "state": {
       "visibility": "hidden",
       "width": "300px"
      }
     },
     "9c0a800537c74e09bc4c14f006f8ee95": {
      "model_module": "@jupyter-widgets/base",
      "model_module_version": "1.1.0",
      "model_name": "LayoutModel",
      "state": {}
     },
     "9c13e9d40160452082e50a263b5269cb": {
      "model_module": "@jupyter-widgets/controls",
      "model_module_version": "1.4.0",
      "model_name": "IntSliderModel",
      "state": {
       "layout": "IPY_MODEL_44fe1448b2f047ba9dd277be46edcf25",
       "max": 200,
       "min": 2,
       "style": "IPY_MODEL_807703e41fe3428cbb514fb402e39753",
       "value": 30
      }
     },
     "9c2e038214ab419b8d706c66e72b14af": {
      "model_module": "@jupyter-widgets/controls",
      "model_module_version": "1.4.0",
      "model_name": "DescriptionStyleModel",
      "state": {
       "description_width": ""
      }
     },
     "9c41ed3e6e714be4a0be729a84c97551": {
      "model_module": "@jupyter-widgets/controls",
      "model_module_version": "1.4.0",
      "model_name": "DescriptionStyleModel",
      "state": {
       "description_width": ""
      }
     },
     "9c69b1dbed8443d0a2900505463437a7": {
      "model_module": "@jupyter-widgets/base",
      "model_module_version": "1.1.0",
      "model_name": "LayoutModel",
      "state": {
       "visibility": "visible"
      }
     },
     "9c97a5afda844dc1b2858c37c8f652af": {
      "model_module": "@jupyter-widgets/base",
      "model_module_version": "1.1.0",
      "model_name": "LayoutModel",
      "state": {}
     },
     "9c9f465e44cd4de4954ac069625a38ef": {
      "model_module": "@jupyter-widgets/base",
      "model_module_version": "1.1.0",
      "model_name": "LayoutModel",
      "state": {}
     },
     "9cad3d051b1d417eb37c9ff3cfdfce6c": {
      "model_module": "@jupyter-widgets/controls",
      "model_module_version": "1.4.0",
      "model_name": "DescriptionStyleModel",
      "state": {
       "description_width": ""
      }
     },
     "9cd2df84f7c24c0088c7477f31819c3e": {
      "model_module": "@jupyter-widgets/base",
      "model_module_version": "1.1.0",
      "model_name": "LayoutModel",
      "state": {}
     },
     "9ceded0e0c0b48e693a4df6f3a421450": {
      "model_module": "@jupyter-widgets/base",
      "model_module_version": "1.1.0",
      "model_name": "LayoutModel",
      "state": {
       "width": "90px"
      }
     },
     "9d0b3e6d1aa04ee9bff6189b7135434c": {
      "model_module": "@jupyter-widgets/controls",
      "model_module_version": "1.4.0",
      "model_name": "DescriptionStyleModel",
      "state": {
       "description_width": ""
      }
     },
     "9d31fe9eaa014a74bc3cad55e482af30": {
      "model_module": "@jupyter-widgets/base",
      "model_module_version": "1.1.0",
      "model_name": "LayoutModel",
      "state": {}
     },
     "9d3b3d630f054c0aad8dbc5ee701bffe": {
      "model_module": "@jupyter-widgets/base",
      "model_module_version": "1.1.0",
      "model_name": "LayoutModel",
      "state": {
       "visibility": "hidden"
      }
     },
     "9d9c1807a3c346ebb3144c9f457d92e0": {
      "model_module": "@jupyter-widgets/output",
      "model_module_version": "1.0.0",
      "model_name": "OutputModel",
      "state": {
       "layout": "IPY_MODEL_3b92b45e8920480f9ca13d65582011df"
      }
     },
     "9dceb5638b044eedbd09e037e4459b8b": {
      "model_module": "@jupyter-widgets/base",
      "model_module_version": "1.1.0",
      "model_name": "LayoutModel",
      "state": {}
     },
     "9e05a41957f848b885e2993d62821e67": {
      "model_module": "@jupyter-widgets/controls",
      "model_module_version": "1.4.0",
      "model_name": "DescriptionStyleModel",
      "state": {
       "description_width": ""
      }
     },
     "9e75d0667f514708a3ef2eaf64be5e3e": {
      "model_module": "@jupyter-widgets/controls",
      "model_module_version": "1.4.0",
      "model_name": "ButtonStyleModel",
      "state": {}
     },
     "9e783a467c74493b950bd143b7dc70c2": {
      "model_module": "@jupyter-widgets/base",
      "model_module_version": "1.1.0",
      "model_name": "LayoutModel",
      "state": {}
     },
     "9e84de58109c4f2e9858aa50af01df8d": {
      "model_module": "@jupyter-widgets/controls",
      "model_module_version": "1.4.0",
      "model_name": "SliderStyleModel",
      "state": {
       "description_width": ""
      }
     },
     "9ec3388065ab4fe896c33146064b4658": {
      "model_module": "@jupyter-widgets/controls",
      "model_module_version": "1.4.0",
      "model_name": "DropdownModel",
      "state": {
       "_options_labels": [
        "segment",
        "covertype",
        "digits",
        "fall_detection",
        "mnist",
        "pen_digits",
        "satellite",
        "vowel"
       ],
       "description": "Dataset:",
       "index": 0,
       "layout": "IPY_MODEL_fede1082d38f466f988a2d855602bae2",
       "style": "IPY_MODEL_9e05a41957f848b885e2993d62821e67"
      }
     },
     "9ec7dc6ab2ad41e489d637f8ed3b2825": {
      "model_module": "@jupyter-widgets/controls",
      "model_module_version": "1.4.0",
      "model_name": "DescriptionStyleModel",
      "state": {
       "description_width": ""
      }
     },
     "9ef19e4631a94ee78eb8d59c721836f8": {
      "model_module": "@jupyter-widgets/controls",
      "model_module_version": "1.4.0",
      "model_name": "DescriptionStyleModel",
      "state": {
       "description_width": ""
      }
     },
     "9ef79ea88560408db0926ff6c7639364": {
      "model_module": "@jupyter-widgets/base",
      "model_module_version": "1.1.0",
      "model_name": "LayoutModel",
      "state": {}
     },
     "9f1ab852d19a472ca5ea85e8926a2dff": {
      "model_module": "@jupyter-widgets/controls",
      "model_module_version": "1.4.0",
      "model_name": "DescriptionStyleModel",
      "state": {
       "description_width": ""
      }
     },
     "9f25a652d11244cb9b1ef6fd352ed631": {
      "model_module": "@jupyter-widgets/base",
      "model_module_version": "1.1.0",
      "model_name": "LayoutModel",
      "state": {}
     },
     "9fc81c623a744fe8a0531ffb59361442": {
      "model_module": "@jupyter-widgets/base",
      "model_module_version": "1.1.0",
      "model_name": "LayoutModel",
      "state": {}
     },
     "9fd53dfed9c24b18958fedec18b78542": {
      "model_module": "@jupyter-widgets/base",
      "model_module_version": "1.1.0",
      "model_name": "LayoutModel",
      "state": {}
     },
     "9fe1180a1e9e4eccbbe6d91e10d97b6b": {
      "model_module": "@jupyter-widgets/controls",
      "model_module_version": "1.4.0",
      "model_name": "DescriptionStyleModel",
      "state": {
       "description_width": ""
      }
     },
     "9feae5ea9eda496a84dfcb5890b4380a": {
      "model_module": "@jupyter-widgets/base",
      "model_module_version": "1.1.0",
      "model_name": "LayoutModel",
      "state": {}
     },
     "a00f7e10a7054541b35fa197f6b231d1": {
      "model_module": "@jupyter-widgets/base",
      "model_module_version": "1.1.0",
      "model_name": "LayoutModel",
      "state": {}
     },
     "a02bb7d5d4b04607b004c23916d9f4d0": {
      "model_module": "@jupyter-widgets/base",
      "model_module_version": "1.1.0",
      "model_name": "LayoutModel",
      "state": {
       "width": "90px"
      }
     },
     "a02c026ef63f4f2498d551624f8fb4dc": {
      "model_module": "@jupyter-widgets/controls",
      "model_module_version": "1.4.0",
      "model_name": "IntSliderModel",
      "state": {
       "layout": "IPY_MODEL_b1ec48c439d24e1a9c535e9d95617d1e",
       "max": 200,
       "min": 2,
       "style": "IPY_MODEL_5d023def197e4fada04cec464469c815",
       "value": 11
      }
     },
     "a08fedaddff5498998d83db78a81f459": {
      "model_module": "@jupyter-widgets/controls",
      "model_module_version": "1.4.0",
      "model_name": "DropdownModel",
      "state": {
       "_options_labels": [
        "dt",
        "logit",
        "linear_svc"
       ],
       "index": 0,
       "layout": "IPY_MODEL_baf65a7a6f7049a6ab34863161007456",
       "style": "IPY_MODEL_4727cd3152c442a696e8e54f755371bb"
      }
     },
     "a094cada0d114890ad7a86b405e7058f": {
      "model_module": "@jupyter-widgets/controls",
      "model_module_version": "1.4.0",
      "model_name": "VBoxModel",
      "state": {
       "children": [
        "IPY_MODEL_ba392321cad24988baac0bea03e51ace",
        "IPY_MODEL_2f0aad16e3044a158a272cee78cebcd9"
       ],
       "layout": "IPY_MODEL_87e527d729f14d3da597e3efb601b943"
      }
     },
     "a0b0437bd67341e6b3e5ed604fba5984": {
      "model_module": "@jupyter-widgets/controls",
      "model_module_version": "1.4.0",
      "model_name": "VBoxModel",
      "state": {
       "children": [
        "IPY_MODEL_95fa587e37c74086b77825232846027c",
        "IPY_MODEL_e7cbc99c34824e9a82264e8e059a762c",
        "IPY_MODEL_70abace8efcb44b1bc4ff8cf816e86e1"
       ],
       "layout": "IPY_MODEL_5ab9df7d523947a488d4a17d530a4739"
      }
     },
     "a0dd303b6ba74323979ece04cef5ee39": {
      "model_module": "@jupyter-widgets/controls",
      "model_module_version": "1.4.0",
      "model_name": "DescriptionStyleModel",
      "state": {
       "description_width": ""
      }
     },
     "a0f626d61dce4301addf9163408a971e": {
      "model_module": "@jupyter-widgets/controls",
      "model_module_version": "1.4.0",
      "model_name": "VBoxModel",
      "state": {
       "children": [
        "IPY_MODEL_b6172ecfaa1748ca937a2462adf04e89",
        "IPY_MODEL_749ee5c3d8c345fdbd26353e0d67fa7d"
       ],
       "layout": "IPY_MODEL_5c6b15c949e74d5d89c65c5ab58e9cf8"
      }
     },
     "a0f7e4bfa4d4437faeb62802124693d5": {
      "model_module": "@jupyter-widgets/base",
      "model_module_version": "1.1.0",
      "model_name": "LayoutModel",
      "state": {
       "visibility": "hidden",
       "width": "300px"
      }
     },
     "a0ff43f6b3d644848ca5be96521e0884": {
      "model_module": "@jupyter-widgets/base",
      "model_module_version": "1.1.0",
      "model_name": "LayoutModel",
      "state": {
       "border": "3px solid black"
      }
     },
     "a101b1be305342b298977e2372e77190": {
      "model_module": "@jupyter-widgets/controls",
      "model_module_version": "1.4.0",
      "model_name": "VBoxModel",
      "state": {
       "children": [
        "IPY_MODEL_9ec3388065ab4fe896c33146064b4658",
        "IPY_MODEL_3f4cdaeab3e64d01bb7fc63fb9e196d4",
        "IPY_MODEL_c83c0258c2104f348e76cf4fe94eaa82",
        "IPY_MODEL_abc62585b8d74d6ba4f6ebcda02cfd22",
        "IPY_MODEL_ac5d675ecdaf4c629321810445efeffd",
        "IPY_MODEL_5160a4cd92d5427c80111b18031f026e",
        "IPY_MODEL_139349f74d1b417bb4d74196dc0cd9c7"
       ],
       "layout": "IPY_MODEL_0c1311143c8648b8b00f8fef871f62a8"
      }
     },
     "a15390d983e84a6cb41610867be8630f": {
      "model_module": "@jupyter-widgets/controls",
      "model_module_version": "1.4.0",
      "model_name": "DescriptionStyleModel",
      "state": {
       "description_width": ""
      }
     },
     "a1866acfd2d14387922143e31c5378d2": {
      "model_module": "@jupyter-widgets/controls",
      "model_module_version": "1.4.0",
      "model_name": "VBoxModel",
      "state": {
       "children": [
        "IPY_MODEL_6e663ca1a82d49d4b6d146ae27a7d19c",
        "IPY_MODEL_a978d6d493aa42099d5dcf072ca2e628"
       ],
       "layout": "IPY_MODEL_9929572092be464685eb6e91166cac3e"
      }
     },
     "a1b2a3bc18eb47d2a45b9fef077f6d89": {
      "model_module": "@jupyter-widgets/controls",
      "model_module_version": "1.4.0",
      "model_name": "VBoxModel",
      "state": {
       "children": [
        "IPY_MODEL_c5894d2e4c1e47bd8314b5d847662498",
        "IPY_MODEL_b95eed7e9d2d4536b9b9509cfe8afc1b",
        "IPY_MODEL_fdaaa7429a0142bdb1e95da3de296922"
       ],
       "layout": "IPY_MODEL_017ff2cc140a48c48968c29b768bbe4f"
      }
     },
     "a1cef5ffcd504554a05c0c5c69891480": {
      "model_module": "@jupyter-widgets/controls",
      "model_module_version": "1.4.0",
      "model_name": "DescriptionStyleModel",
      "state": {
       "description_width": ""
      }
     },
     "a1de4341f73a4b53941073ec86df5578": {
      "model_module": "@jupyter-widgets/controls",
      "model_module_version": "1.4.0",
      "model_name": "ButtonModel",
      "state": {
       "button_style": "info",
       "description": "Demo0",
       "layout": "IPY_MODEL_002ebe1d370142de933202f64c3099fb",
       "style": "IPY_MODEL_87c4cd371672413cb0edd816ec9589c6"
      }
     },
     "a1e42549f30246d5a8f3d5af906f7e08": {
      "model_module": "@jupyter-widgets/controls",
      "model_module_version": "1.4.0",
      "model_name": "DescriptionStyleModel",
      "state": {
       "description_width": ""
      }
     },
     "a1f9514a5bc343e18e016784aaaf9135": {
      "model_module": "@jupyter-widgets/controls",
      "model_module_version": "1.4.0",
      "model_name": "SliderStyleModel",
      "state": {
       "description_width": ""
      }
     },
     "a24d27685fe24683acd38b1b53437779": {
      "model_module": "@jupyter-widgets/controls",
      "model_module_version": "1.4.0",
      "model_name": "LabelModel",
      "state": {
       "layout": "IPY_MODEL_5806d153c0f04a61a3732612b1dd664f",
       "style": "IPY_MODEL_aa3fbb6c7cc44c1d8c24486beb0ef920",
       "value": "Model"
      }
     },
     "a25b57e0904b4691873ce56f9c1dfbee": {
      "model_module": "@jupyter-widgets/controls",
      "model_module_version": "1.4.0",
      "model_name": "ButtonModel",
      "state": {
       "button_style": "warning",
       "description": "Remove model",
       "layout": "IPY_MODEL_b15d153143304a96bc8c6bd70efe0885",
       "style": "IPY_MODEL_1d750e08e1724fd7b88e92ade47e0ad6"
      }
     },
     "a28afbb316f84256998f7eea5dac61d4": {
      "model_module": "@jupyter-widgets/base",
      "model_module_version": "1.1.0",
      "model_name": "LayoutModel",
      "state": {}
     },
     "a2c908e1f76948ebaa983479e6d71eb5": {
      "model_module": "@jupyter-widgets/base",
      "model_module_version": "1.1.0",
      "model_name": "LayoutModel",
      "state": {}
     },
     "a30a6e1d84774eb0935d4fe64d568d73": {
      "model_module": "@jupyter-widgets/controls",
      "model_module_version": "1.4.0",
      "model_name": "IntSliderModel",
      "state": {
       "disabled": true,
       "layout": "IPY_MODEL_ef7bde0239a345b39c043e117b12153e",
       "max": 200,
       "min": 2,
       "style": "IPY_MODEL_d1f168d63835475eb3ab0597cec7cf9e",
       "value": 30
      }
     },
     "a30ba4689c5949b6939bb53764c26e7a": {
      "model_module": "@jupyter-widgets/controls",
      "model_module_version": "1.4.0",
      "model_name": "ButtonStyleModel",
      "state": {}
     },
     "a30ef29e38ce41d08fec32ce2e468b36": {
      "model_module": "@jupyter-widgets/base",
      "model_module_version": "1.1.0",
      "model_name": "LayoutModel",
      "state": {}
     },
     "a310945c3b0d4021a80cc52cd59a9239": {
      "model_module": "@jupyter-widgets/controls",
      "model_module_version": "1.4.0",
      "model_name": "ButtonStyleModel",
      "state": {}
     },
     "a32e2c1dbafe4a9bbcb74233fbeae951": {
      "model_module": "@jupyter-widgets/controls",
      "model_module_version": "1.4.0",
      "model_name": "DescriptionStyleModel",
      "state": {
       "description_width": ""
      }
     },
     "a332a06ccfa94ed18f201799b4134b29": {
      "model_module": "@jupyter-widgets/controls",
      "model_module_version": "1.4.0",
      "model_name": "IntRangeSliderModel",
      "state": {
       "_model_name": "IntRangeSliderModel",
       "_view_name": "IntRangeSliderView",
       "disabled": true,
       "layout": "IPY_MODEL_83567007d30543fb9bfbebe813a11339",
       "max": 400,
       "min": 30,
       "step": 10,
       "style": "IPY_MODEL_9e84de58109c4f2e9858aa50af01df8d",
       "value": [
        30,
        100
       ]
      }
     },
     "a3383e9eb35947159a67d439e654a93b": {
      "model_module": "@jupyter-widgets/base",
      "model_module_version": "1.1.0",
      "model_name": "LayoutModel",
      "state": {}
     },
     "a342160dfb7442208793db4b5dcb7b82": {
      "model_module": "@jupyter-widgets/controls",
      "model_module_version": "1.4.0",
      "model_name": "DescriptionStyleModel",
      "state": {
       "description_width": ""
      }
     },
     "a3540330ffbd403ead3846ab6ce4f0c1": {
      "model_module": "@jupyter-widgets/base",
      "model_module_version": "1.1.0",
      "model_name": "LayoutModel",
      "state": {}
     },
     "a37bfea90b2d4cd1bd848b577cb5bfdf": {
      "model_module": "@jupyter-widgets/controls",
      "model_module_version": "1.4.0",
      "model_name": "VBoxModel",
      "state": {
       "children": [
        "IPY_MODEL_fed1879b0d214d58ad417771ca1294a0",
        "IPY_MODEL_107686d8813b417bb6094dee1dadac79",
        "IPY_MODEL_1aa8aae24e6e4f128d38124dd723924c",
        "IPY_MODEL_b6b33311eb2141a29fe56adf6cfe1969",
        "IPY_MODEL_df002bee10984fa8b5412ad4275c50a6",
        "IPY_MODEL_0684f32af9914ae3b1e6725c8a0b3103",
        "IPY_MODEL_92df9c7c32dd4f44a1858b568cc1e291"
       ],
       "layout": "IPY_MODEL_5d4cb3e9c6934c1c9b4a7558d04b545e"
      }
     },
     "a39c5e04ee1543dfaac989b114a7d6ad": {
      "model_module": "@jupyter-widgets/controls",
      "model_module_version": "1.4.0",
      "model_name": "SliderStyleModel",
      "state": {
       "description_width": ""
      }
     },
     "a3af8445f7aa4b7fa73df5138f8fd227": {
      "model_module": "@jupyter-widgets/base",
      "model_module_version": "1.1.0",
      "model_name": "LayoutModel",
      "state": {}
     },
     "a3bf3621294c42639756dca25bfff3ca": {
      "model_module": "@jupyter-widgets/base",
      "model_module_version": "1.1.0",
      "model_name": "LayoutModel",
      "state": {}
     },
     "a3f7a719770943a3840a40512df9c9f3": {
      "model_module": "@jupyter-widgets/base",
      "model_module_version": "1.1.0",
      "model_name": "LayoutModel",
      "state": {
       "border": "3px solid black"
      }
     },
     "a4000913bbe047388f867d73d0a3f77a": {
      "model_module": "@jupyter-widgets/controls",
      "model_module_version": "1.4.0",
      "model_name": "ButtonModel",
      "state": {
       "button_style": "warning",
       "description": "Remove model",
       "layout": "IPY_MODEL_b5713cb9c48440bba2198795f9d0a805",
       "style": "IPY_MODEL_350be872e3a24349947d25ab352eff24"
      }
     },
     "a40fc94299064f429181f63fcdf7162d": {
      "model_module": "@jupyter-widgets/controls",
      "model_module_version": "1.4.0",
      "model_name": "SliderStyleModel",
      "state": {
       "description_width": ""
      }
     },
     "a43b12786fde45a2a560c6379c8a1625": {
      "model_module": "@jupyter-widgets/controls",
      "model_module_version": "1.4.0",
      "model_name": "SliderStyleModel",
      "state": {
       "description_width": ""
      }
     },
     "a451f00bd3544bacbc09e23fcf3131a1": {
      "model_module": "@jupyter-widgets/controls",
      "model_module_version": "1.4.0",
      "model_name": "ButtonModel",
      "state": {
       "button_style": "warning",
       "description": "Remove model",
       "layout": "IPY_MODEL_ea731734ca9e45cc920b00d916f735df",
       "style": "IPY_MODEL_68531c9cf77f4543b6befe2bb2766883"
      }
     },
     "a458bb5d7a5a42548dffa95d21c4ddc6": {
      "model_module": "@jupyter-widgets/controls",
      "model_module_version": "1.4.0",
      "model_name": "ButtonModel",
      "state": {
       "button_style": "info",
       "description": "Add model",
       "layout": "IPY_MODEL_0531834df3094ff5a548177ffb1bf898",
       "style": "IPY_MODEL_218fefe5d9e94e52904ce5df37919de8"
      }
     },
     "a46240f05bc24dacaa19e42bdae955b2": {
      "model_module": "@jupyter-widgets/controls",
      "model_module_version": "1.4.0",
      "model_name": "LabelModel",
      "state": {
       "layout": "IPY_MODEL_2c9b1eb234354c6992a594e7462ef695",
       "style": "IPY_MODEL_e65988aed0b44c7f8bed778d736acb66",
       "value": "Box Type"
      }
     },
     "a479870a02d3436aa18f6f612fa7236f": {
      "model_module": "@jupyter-widgets/controls",
      "model_module_version": "1.4.0",
      "model_name": "DescriptionStyleModel",
      "state": {
       "description_width": ""
      }
     },
     "a4bf4ed96a2d42a09383b11b3f0a3a08": {
      "model_module": "@jupyter-widgets/controls",
      "model_module_version": "1.4.0",
      "model_name": "CheckboxModel",
      "state": {
       "disabled": false,
       "layout": "IPY_MODEL_b91bb342e2cb41e788b0de91ff26204a",
       "style": "IPY_MODEL_e743ad7359d44f3fa9ff2d0c94dd336b",
       "value": false
      }
     },
     "a4eb0fe6df144c4393dc175e98c31cc6": {
      "model_module": "@jupyter-widgets/controls",
      "model_module_version": "1.4.0",
      "model_name": "DropdownModel",
      "state": {
       "_options_labels": [
        "None",
        "rbf",
        "nystroem"
       ],
       "index": 0,
       "layout": "IPY_MODEL_1ab20a7559774e609863154e87b7896d",
       "style": "IPY_MODEL_2d90052291ae417a8a5b77529aef994b"
      }
     },
     "a4fbd85564a543d7b2f5b0599daf021a": {
      "model_module": "@jupyter-widgets/base",
      "model_module_version": "1.1.0",
      "model_name": "LayoutModel",
      "state": {}
     },
     "a545b882313e460cb158ed6e7d316798": {
      "model_module": "@jupyter-widgets/base",
      "model_module_version": "1.1.0",
      "model_name": "LayoutModel",
      "state": {}
     },
     "a56ff9f2ea8048c99df6fe6f667dc7c8": {
      "model_module": "@jupyter-widgets/controls",
      "model_module_version": "1.4.0",
      "model_name": "DropdownModel",
      "state": {
       "_options_labels": [
        "None",
        "rbf",
        "nystroem"
       ],
       "index": 0,
       "layout": "IPY_MODEL_66624664b4c448a98ca37a79baa3d3ac",
       "style": "IPY_MODEL_7bab28dd630b4fae9f282cc5f6c96488"
      }
     },
     "a59818c8e0e14309a2fcd69c738f8897": {
      "model_module": "@jupyter-widgets/controls",
      "model_module_version": "1.4.0",
      "model_name": "LabelModel",
      "state": {
       "layout": "IPY_MODEL_8a970deecf354d5db8c3c1f4940a1a7d",
       "style": "IPY_MODEL_102939928a734bd4a130ce32d32c1f49",
       "value": "Number Estimators"
      }
     },
     "a64570594a0a4759a9540f7fed6afd52": {
      "model_module": "@jupyter-widgets/controls",
      "model_module_version": "1.4.0",
      "model_name": "CheckboxModel",
      "state": {
       "disabled": false,
       "layout": "IPY_MODEL_2301a713903446d59a686f28bd377aba",
       "style": "IPY_MODEL_ae9db3cad6b84476858b8e7c2f0bd1eb",
       "value": false
      }
     },
     "a68781402af240dd96c9a9747fa00e8a": {
      "model_module": "@jupyter-widgets/controls",
      "model_module_version": "1.4.0",
      "model_name": "VBoxModel",
      "state": {
       "children": [
        "IPY_MODEL_c1ecdeccd71d475abe61277b978221de",
        "IPY_MODEL_b00f828fdef04f7994b8a6181f1a4f89"
       ],
       "layout": "IPY_MODEL_f112f6689d9f4fba8cd2e9daf38e9759"
      }
     },
     "a692e57a12f746cabb5898edbcf8775f": {
      "model_module": "@jupyter-widgets/controls",
      "model_module_version": "1.4.0",
      "model_name": "DescriptionStyleModel",
      "state": {
       "description_width": ""
      }
     },
     "a6c61c4421984b1cba5dd29b1f38fa7c": {
      "model_module": "@jupyter-widgets/controls",
      "model_module_version": "1.4.0",
      "model_name": "LabelModel",
      "state": {
       "layout": "IPY_MODEL_0a5202c32c5b4ee6894470b9f36b21cc",
       "style": "IPY_MODEL_5863729ba38b4810b11e0e87b167e2f7",
       "value": "Box Type"
      }
     },
     "a6f28a9194c649aebd0677ccf822b0ea": {
      "model_module": "@jupyter-widgets/base",
      "model_module_version": "1.1.0",
      "model_name": "LayoutModel",
      "state": {}
     },
     "a6f50e511cfc4b8a806cde2688dcdf7d": {
      "model_module": "@jupyter-widgets/controls",
      "model_module_version": "1.4.0",
      "model_name": "CheckboxModel",
      "state": {
       "disabled": false,
       "layout": "IPY_MODEL_609c1a288fe44feaaa7c5b547131b2ba",
       "style": "IPY_MODEL_b55e6c66901e45aab9e318a4f7813eb2",
       "value": false
      }
     },
     "a76290995c6e49fa8e9453b09acf7dd2": {
      "model_module": "@jupyter-widgets/base",
      "model_module_version": "1.1.0",
      "model_name": "LayoutModel",
      "state": {}
     },
     "a77188c993b74300a2efaa8ada98b63f": {
      "model_module": "@jupyter-widgets/base",
      "model_module_version": "1.1.0",
      "model_name": "LayoutModel",
      "state": {
       "width": "90px"
      }
     },
     "a7baabd398b941658102a6bceecce835": {
      "model_module": "@jupyter-widgets/base",
      "model_module_version": "1.1.0",
      "model_name": "LayoutModel",
      "state": {}
     },
     "a805ad216d52493bbd63d4dcaa20cc6c": {
      "model_module": "@jupyter-widgets/controls",
      "model_module_version": "1.4.0",
      "model_name": "SliderStyleModel",
      "state": {
       "description_width": ""
      }
     },
     "a821b718438844c98451036940569748": {
      "model_module": "@jupyter-widgets/base",
      "model_module_version": "1.1.0",
      "model_name": "LayoutModel",
      "state": {}
     },
     "a82a3019f0404a5581bca91a0bc2224c": {
      "model_module": "@jupyter-widgets/base",
      "model_module_version": "1.1.0",
      "model_name": "LayoutModel",
      "state": {}
     },
     "a873a882684545c0b389c52914ea1f3e": {
      "model_module": "@jupyter-widgets/base",
      "model_module_version": "1.1.0",
      "model_name": "LayoutModel",
      "state": {}
     },
     "a8a8f1657adf43a88115516555ce2161": {
      "model_module": "@jupyter-widgets/controls",
      "model_module_version": "1.4.0",
      "model_name": "VBoxModel",
      "state": {
       "children": [
        "IPY_MODEL_fc0c44a72e7e400bb356a104c4edd7eb",
        "IPY_MODEL_5fbc6af442ce4611b876b4011b57ce6d",
        "IPY_MODEL_67ce7af508534083b580dd964472821a",
        "IPY_MODEL_f4b0922fc0a34416a3a28436c87c1460",
        "IPY_MODEL_a332a06ccfa94ed18f201799b4134b29",
        "IPY_MODEL_ec451af4243b440cb6834113b5f6a6ff",
        "IPY_MODEL_982d807e962942698864a8644fc8bd33"
       ],
       "layout": "IPY_MODEL_e82ec4a9a41c4366830ffd8d75f2cc66"
      }
     },
     "a8ad821ec969447296e4fa579914ecdd": {
      "model_module": "@jupyter-widgets/base",
      "model_module_version": "1.1.0",
      "model_name": "LayoutModel",
      "state": {}
     },
     "a8b75e9225484fa4ad437f02244f0608": {
      "model_module": "@jupyter-widgets/controls",
      "model_module_version": "1.4.0",
      "model_name": "DescriptionStyleModel",
      "state": {
       "description_width": ""
      }
     },
     "a8c882ad62b641e8adcf48d5c1ff0ee4": {
      "model_module": "@jupyter-widgets/base",
      "model_module_version": "1.1.0",
      "model_name": "LayoutModel",
      "state": {}
     },
     "a8e010b147574ad69a71a475a49f6a1f": {
      "model_module": "@jupyter-widgets/base",
      "model_module_version": "1.1.0",
      "model_name": "LayoutModel",
      "state": {}
     },
     "a91109b43d384c8bba4ff14e68867c6f": {
      "model_module": "@jupyter-widgets/base",
      "model_module_version": "1.1.0",
      "model_name": "LayoutModel",
      "state": {
       "border": "3px solid black"
      }
     },
     "a9184dc287754e8ab0477d6e52b53d57": {
      "model_module": "@jupyter-widgets/base",
      "model_module_version": "1.1.0",
      "model_name": "LayoutModel",
      "state": {}
     },
     "a97597dc149a4719a4420c2b10032915": {
      "model_module": "@jupyter-widgets/controls",
      "model_module_version": "1.4.0",
      "model_name": "DescriptionStyleModel",
      "state": {
       "description_width": ""
      }
     },
     "a978d6d493aa42099d5dcf072ca2e628": {
      "model_module": "@jupyter-widgets/controls",
      "model_module_version": "1.4.0",
      "model_name": "DropdownModel",
      "state": {
       "_options_labels": [
        "None",
        "black",
        "grey"
       ],
       "index": 0,
       "layout": "IPY_MODEL_7ee5c57822f14fa8bf77cbec3c22c40e",
       "style": "IPY_MODEL_fe7d56c18d2a40ddb859ca2f957766cf"
      }
     },
     "a97cf5509ad44c3f893100e77a0c5286": {
      "model_module": "@jupyter-widgets/base",
      "model_module_version": "1.1.0",
      "model_name": "LayoutModel",
      "state": {}
     },
     "a97ee6f6880e492db6f15a74c6433850": {
      "model_module": "@jupyter-widgets/base",
      "model_module_version": "1.1.0",
      "model_name": "LayoutModel",
      "state": {
       "visibility": "hidden",
       "width": "300px"
      }
     },
     "a98aaa34f0c94c94adeb9231a5a1515e": {
      "model_module": "@jupyter-widgets/controls",
      "model_module_version": "1.4.0",
      "model_name": "ButtonStyleModel",
      "state": {}
     },
     "a990d1b145a842aaa73aa137260a7374": {
      "model_module": "@jupyter-widgets/base",
      "model_module_version": "1.1.0",
      "model_name": "LayoutModel",
      "state": {}
     },
     "a9ca853009824291afc14e5dbd001d32": {
      "model_module": "@jupyter-widgets/base",
      "model_module_version": "1.1.0",
      "model_name": "LayoutModel",
      "state": {}
     },
     "a9d5b64027f54c64beaa9faf2b0af8f2": {
      "model_module": "@jupyter-widgets/controls",
      "model_module_version": "1.4.0",
      "model_name": "VBoxModel",
      "state": {
       "children": [
        "IPY_MODEL_2dda5057dce74e929606eab5fe6142cc",
        "IPY_MODEL_35f6db795cc84f8b9eb30d7c27a82df2"
       ],
       "layout": "IPY_MODEL_2eee33df3fed4fe1b0a7076278dd3107"
      }
     },
     "a9da83c8d33f41638d9046acac7cc682": {
      "model_module": "@jupyter-widgets/controls",
      "model_module_version": "1.4.0",
      "model_name": "DescriptionStyleModel",
      "state": {
       "description_width": ""
      }
     },
     "aa221f9aad3145f4b5a7225f5b9c9b00": {
      "model_module": "@jupyter-widgets/controls",
      "model_module_version": "1.4.0",
      "model_name": "IntSliderModel",
      "state": {
       "disabled": true,
       "layout": "IPY_MODEL_a97ee6f6880e492db6f15a74c6433850",
       "max": 200,
       "min": 2,
       "style": "IPY_MODEL_a43b12786fde45a2a560c6379c8a1625",
       "value": 30
      }
     },
     "aa2ca96a11cd4a71b2ecbb31013221ce": {
      "model_module": "@jupyter-widgets/controls",
      "model_module_version": "1.4.0",
      "model_name": "LabelModel",
      "state": {
       "layout": "IPY_MODEL_875c8c6261e74bd089d0f60695821dcb",
       "style": "IPY_MODEL_c69d155a091842688e1ec21fcdae278d",
       "value": "Box Type"
      }
     },
     "aa3fbb6c7cc44c1d8c24486beb0ef920": {
      "model_module": "@jupyter-widgets/controls",
      "model_module_version": "1.4.0",
      "model_name": "DescriptionStyleModel",
      "state": {
       "description_width": ""
      }
     },
     "aa4aaa26f9a346c68ab1d9cc50378465": {
      "model_module": "@jupyter-widgets/controls",
      "model_module_version": "1.4.0",
      "model_name": "VBoxModel",
      "state": {
       "children": [
        "IPY_MODEL_fb8213364e5c4ae4be86b7ca9f54bf23",
        "IPY_MODEL_be3701ed7ae845138fbfb4f54691615f",
        "IPY_MODEL_0c35313fb8544f63b7c5a060efa31c22"
       ],
       "layout": "IPY_MODEL_0543981fc44a40ba8f81db06b4dda985"
      }
     },
     "aa638e979b014ffdacc3a02866ee68ff": {
      "model_module": "@jupyter-widgets/controls",
      "model_module_version": "1.4.0",
      "model_name": "DescriptionStyleModel",
      "state": {
       "description_width": ""
      }
     },
     "aac8e27da4d9495da69001b52be82948": {
      "model_module": "@jupyter-widgets/base",
      "model_module_version": "1.1.0",
      "model_name": "LayoutModel",
      "state": {}
     },
     "aadb255cc0f04099aaa524b94a095861": {
      "model_module": "@jupyter-widgets/controls",
      "model_module_version": "1.4.0",
      "model_name": "RadioButtonsModel",
      "state": {
       "_options_labels": [
        "1000",
        "2000",
        "5000",
        "10000"
       ],
       "description": "Size",
       "index": 0,
       "layout": "IPY_MODEL_55173351225c4db69e56abc1eec35a11",
       "style": "IPY_MODEL_f72c2746f13f4e198bfa9e049cad10e9"
      }
     },
     "aaeda7e291474293981621aa2fe32d12": {
      "model_module": "@jupyter-widgets/base",
      "model_module_version": "1.1.0",
      "model_name": "LayoutModel",
      "state": {}
     },
     "ab2bb6991eb64acfa36b85259cd27df6": {
      "model_module": "@jupyter-widgets/controls",
      "model_module_version": "1.4.0",
      "model_name": "DropdownModel",
      "state": {
       "_options_labels": [
        "dt",
        "logit",
        "linear_svc"
       ],
       "index": 0,
       "layout": "IPY_MODEL_b7964e5cf7814964aa704044688596c1",
       "style": "IPY_MODEL_e8a3056da5cb490dbe83b442df2cb484"
      }
     },
     "ab43fd4e3d654c5aa3f2f2e1d1456945": {
      "model_module": "@jupyter-widgets/controls",
      "model_module_version": "1.4.0",
      "model_name": "ButtonModel",
      "state": {
       "button_style": "warning",
       "description": "Remove model",
       "layout": "IPY_MODEL_a82a3019f0404a5581bca91a0bc2224c",
       "style": "IPY_MODEL_b7729124ad3849cbac82963fb32dc1f9"
      }
     },
     "ab639b50882140d09efbe4b6e36c5ced": {
      "model_module": "@jupyter-widgets/base",
      "model_module_version": "1.1.0",
      "model_name": "LayoutModel",
      "state": {}
     },
     "abc03cc5d7554559a8d95e519346a98d": {
      "model_module": "@jupyter-widgets/controls",
      "model_module_version": "1.4.0",
      "model_name": "DescriptionStyleModel",
      "state": {
       "description_width": ""
      }
     },
     "abc62585b8d74d6ba4f6ebcda02cfd22": {
      "model_module": "@jupyter-widgets/controls",
      "model_module_version": "1.4.0",
      "model_name": "ButtonModel",
      "state": {
       "button_style": "warning",
       "description": "Remove model",
       "layout": "IPY_MODEL_5805bd3574564443b6a4b99a01bfe2ac",
       "style": "IPY_MODEL_caa00763b92644e7a5e0797f60a00c55"
      }
     },
     "ac02110959c44bcfaa15f989c19143e2": {
      "model_module": "@jupyter-widgets/controls",
      "model_module_version": "1.4.0",
      "model_name": "DescriptionStyleModel",
      "state": {
       "description_width": ""
      }
     },
     "ac1091e1713a4b329a3993b8017a6481": {
      "model_module": "@jupyter-widgets/controls",
      "model_module_version": "1.4.0",
      "model_name": "ButtonModel",
      "state": {
       "button_style": "info",
       "description": "Demo0",
       "layout": "IPY_MODEL_5d48b97e991549caa4aeda0d207b909b",
       "style": "IPY_MODEL_21ac4ed74dca48cead141a03655c2099"
      }
     },
     "ac163b4df15444b784e6a1fc11b8b9b2": {
      "model_module": "@jupyter-widgets/base",
      "model_module_version": "1.1.0",
      "model_name": "LayoutModel",
      "state": {}
     },
     "ac24c1cbe87f4406a6e1f25507f058db": {
      "model_module": "@jupyter-widgets/base",
      "model_module_version": "1.1.0",
      "model_name": "LayoutModel",
      "state": {}
     },
     "ac30ef96784c451386afe06c5e71eeea": {
      "model_module": "@jupyter-widgets/controls",
      "model_module_version": "1.4.0",
      "model_name": "DropdownModel",
      "state": {
       "_options_labels": [
        "dt",
        "logit",
        "linear_svc"
       ],
       "index": 0,
       "layout": "IPY_MODEL_66624664b4c448a98ca37a79baa3d3ac",
       "style": "IPY_MODEL_b2e85220020541cb81179c1ece37da29"
      }
     },
     "ac5d675ecdaf4c629321810445efeffd": {
      "model_module": "@jupyter-widgets/controls",
      "model_module_version": "1.4.0",
      "model_name": "IntRangeSliderModel",
      "state": {
       "_model_name": "IntRangeSliderModel",
       "_view_name": "IntRangeSliderView",
       "disabled": true,
       "layout": "IPY_MODEL_040fd760c3394a29b88f8c9332f64d83",
       "max": 400,
       "min": 30,
       "step": 10,
       "style": "IPY_MODEL_5adefe08e42047da85cab3e046cec662",
       "value": [
        30,
        100
       ]
      }
     },
     "ac741da3eb324e9a9d093f86fe42da42": {
      "model_module": "@jupyter-widgets/controls",
      "model_module_version": "1.4.0",
      "model_name": "IntSliderModel",
      "state": {
       "disabled": true,
       "layout": "IPY_MODEL_70654dfd31464a48a4ae19e269453846",
       "max": 200,
       "min": 2,
       "style": "IPY_MODEL_bfeb4b8b75b649a5aa14fec3add16836",
       "value": 30
      }
     },
     "ac74b83ec7a54126a3f097439c6c62ce": {
      "model_module": "@jupyter-widgets/controls",
      "model_module_version": "1.4.0",
      "model_name": "VBoxModel",
      "state": {
       "children": [
        "IPY_MODEL_5ada4618dd1d4cf5ac44cd72bfd01aaf",
        "IPY_MODEL_b9e43aa3fcbd439bb9cc08a9596bb402",
        "IPY_MODEL_a64570594a0a4759a9540f7fed6afd52"
       ],
       "layout": "IPY_MODEL_15ddc24d58fe4ebbafccefc11191b5b7"
      }
     },
     "aca1e4e4d7084e46989e91f2fa4c6374": {
      "model_module": "@jupyter-widgets/base",
      "model_module_version": "1.1.0",
      "model_name": "LayoutModel",
      "state": {
       "visibility": "hidden",
       "width": "300px"
      }
     },
     "ad242dee42f24b4a8d568cd8b9902aa4": {
      "model_module": "@jupyter-widgets/output",
      "model_module_version": "1.0.0",
      "model_name": "OutputModel",
      "state": {
       "layout": "IPY_MODEL_e9bbac3633694b5384388349084347f4",
       "outputs": [
        {
         "data": {
          "text/markdown": "\n- Dataset: **segment**\n- Size: **1000**\n        ",
          "text/plain": "<IPython.core.display.Markdown object>"
         },
         "metadata": {},
         "output_type": "display_data"
        },
        {
         "data": {
          "image/png": "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\n",
          "text/plain": "<Figure size 921.6x345.6 with 2 Axes>"
         },
         "metadata": {},
         "output_type": "display_data"
        }
       ]
      }
     },
     "ad374207301e4493b70354694bf1c097": {
      "model_module": "@jupyter-widgets/controls",
      "model_module_version": "1.4.0",
      "model_name": "DescriptionStyleModel",
      "state": {
       "description_width": ""
      }
     },
     "adde03e066884e8a9b78cbd84c23e3da": {
      "model_module": "@jupyter-widgets/controls",
      "model_module_version": "1.4.0",
      "model_name": "LabelModel",
      "state": {
       "layout": "IPY_MODEL_a30ef29e38ce41d08fec32ce2e468b36",
       "style": "IPY_MODEL_c1929817b6dc4665bb1e9fec36f6b0da",
       "value": "Box Type"
      }
     },
     "ade7f441037c493e89c71d1bd3898b62": {
      "model_module": "@jupyter-widgets/controls",
      "model_module_version": "1.4.0",
      "model_name": "DescriptionStyleModel",
      "state": {
       "description_width": ""
      }
     },
     "adf6e37a24914d7cb60fae1aab46eb09": {
      "model_module": "@jupyter-widgets/controls",
      "model_module_version": "1.4.0",
      "model_name": "HBoxModel",
      "state": {
       "children": [
        "IPY_MODEL_1055745b9b1f491aae7fb9d07714cf05",
        "IPY_MODEL_aa4aaa26f9a346c68ab1d9cc50378465",
        "IPY_MODEL_8a35f2d4d0c541ec90c1f155199e13a3",
        "IPY_MODEL_e6a8d030f91c4c608e998f22db09cd29",
        "IPY_MODEL_ac74b83ec7a54126a3f097439c6c62ce"
       ],
       "layout": "IPY_MODEL_72e50c0acb364bbcb31b45175c36596c"
      }
     },
     "ae1eb173b14d4a2ba6c893c5644dc707": {
      "model_module": "@jupyter-widgets/base",
      "model_module_version": "1.1.0",
      "model_name": "LayoutModel",
      "state": {
       "width": "90px"
      }
     },
     "ae231278ed3a475ab3d2789390e9bbe6": {
      "model_module": "@jupyter-widgets/controls",
      "model_module_version": "1.4.0",
      "model_name": "DescriptionStyleModel",
      "state": {
       "description_width": ""
      }
     },
     "ae2768a6f3fc42dc86c1a256921b3d76": {
      "model_module": "@jupyter-widgets/controls",
      "model_module_version": "1.4.0",
      "model_name": "DescriptionStyleModel",
      "state": {
       "description_width": ""
      }
     },
     "ae7a4a7764854f1987dc4c34e321f85d": {
      "model_module": "@jupyter-widgets/base",
      "model_module_version": "1.1.0",
      "model_name": "LayoutModel",
      "state": {}
     },
     "ae7cb061ab2a446084a5f6811217c12a": {
      "model_module": "@jupyter-widgets/base",
      "model_module_version": "1.1.0",
      "model_name": "LayoutModel",
      "state": {}
     },
     "ae7fdbcd81914bd4afa15423497ce491": {
      "model_module": "@jupyter-widgets/controls",
      "model_module_version": "1.4.0",
      "model_name": "DropdownModel",
      "state": {
       "_options_labels": [
        "None",
        "black",
        "grey"
       ],
       "index": 0,
       "layout": "IPY_MODEL_3be8f12a170b4f69bbdc3163a2be694a",
       "style": "IPY_MODEL_a1e42549f30246d5a8f3d5af906f7e08"
      }
     },
     "ae9db3cad6b84476858b8e7c2f0bd1eb": {
      "model_module": "@jupyter-widgets/controls",
      "model_module_version": "1.4.0",
      "model_name": "DescriptionStyleModel",
      "state": {
       "description_width": ""
      }
     },
     "af07b3491154466d8fe09010ebe5fd51": {
      "model_module": "@jupyter-widgets/controls",
      "model_module_version": "1.4.0",
      "model_name": "DescriptionStyleModel",
      "state": {
       "description_width": ""
      }
     },
     "af4c5d1a80c0424095982c18a1479bf5": {
      "model_module": "@jupyter-widgets/controls",
      "model_module_version": "1.4.0",
      "model_name": "VBoxModel",
      "state": {
       "children": [
        "IPY_MODEL_6c71d15b1d8948d29d2914a88f9d6221",
        "IPY_MODEL_c39e6e06f62842c49343edf43ac58388",
        "IPY_MODEL_228fbcd6e49244b6a6ff3abcf43aeb62"
       ],
       "layout": "IPY_MODEL_c5f495f6c7e9424387ab6c1d6adac3f1"
      }
     },
     "af6cee6a39ae4926b7feb43d54b9f2b8": {
      "model_module": "@jupyter-widgets/controls",
      "model_module_version": "1.4.0",
      "model_name": "DropdownModel",
      "state": {
       "_options_labels": [
        "None",
        "black",
        "grey"
       ],
       "index": 2,
       "layout": "IPY_MODEL_b7964e5cf7814964aa704044688596c1",
       "style": "IPY_MODEL_b913684851fc4813bd1616bedd44458a"
      }
     },
     "af90f8422e5847068e0dc2f79d74c1fc": {
      "model_module": "@jupyter-widgets/base",
      "model_module_version": "1.1.0",
      "model_name": "LayoutModel",
      "state": {}
     },
     "afd6154b593540d1ad5b9261c58f9eb3": {
      "model_module": "@jupyter-widgets/controls",
      "model_module_version": "1.4.0",
      "model_name": "ButtonModel",
      "state": {
       "button_style": "info",
       "description": "Demo0",
       "layout": "IPY_MODEL_1a76399e97614c929d63049dc9fcbff4",
       "style": "IPY_MODEL_6dda36b45cb24567b501b131c4cc7cac"
      }
     },
     "b00f828fdef04f7994b8a6181f1a4f89": {
      "model_module": "@jupyter-widgets/controls",
      "model_module_version": "1.4.0",
      "model_name": "DropdownModel",
      "state": {
       "_options_labels": [
        "None",
        "black",
        "grey"
       ],
       "index": 0,
       "layout": "IPY_MODEL_d68595f6e67246f4868ffaf74725f5bc",
       "style": "IPY_MODEL_7c5453ce6e3440caa288fde35c348c52"
      }
     },
     "b01279aefbad491da5b77cc47ae4df38": {
      "model_module": "@jupyter-widgets/controls",
      "model_module_version": "1.4.0",
      "model_name": "DescriptionStyleModel",
      "state": {
       "description_width": ""
      }
     },
     "b0130e0633d142bba18d4b24f282fa6b": {
      "model_module": "@jupyter-widgets/controls",
      "model_module_version": "1.4.0",
      "model_name": "DropdownModel",
      "state": {
       "_options_labels": [
        "None",
        "rbf",
        "nystroem"
       ],
       "index": 0,
       "layout": "IPY_MODEL_d68595f6e67246f4868ffaf74725f5bc",
       "style": "IPY_MODEL_45bb3ad4e7314745a8edc57b883c1c4b"
      }
     },
     "b02443af976c4437ba172e9ad7f1795e": {
      "model_module": "@jupyter-widgets/base",
      "model_module_version": "1.1.0",
      "model_name": "LayoutModel",
      "state": {}
     },
     "b099e9acbbc64a82ab4bd4dc3c20aa16": {
      "model_module": "@jupyter-widgets/base",
      "model_module_version": "1.1.0",
      "model_name": "LayoutModel",
      "state": {}
     },
     "b0c73db832cb4b88b7fb10f51913f120": {
      "model_module": "@jupyter-widgets/base",
      "model_module_version": "1.1.0",
      "model_name": "LayoutModel",
      "state": {}
     },
     "b10b7462f6824902ac11acbd93aa6d3a": {
      "model_module": "@jupyter-widgets/base",
      "model_module_version": "1.1.0",
      "model_name": "LayoutModel",
      "state": {
       "width": "90px"
      }
     },
     "b146c0300d22426ca7628686bd90e501": {
      "model_module": "@jupyter-widgets/controls",
      "model_module_version": "1.4.0",
      "model_name": "DescriptionStyleModel",
      "state": {
       "description_width": ""
      }
     },
     "b15d153143304a96bc8c6bd70efe0885": {
      "model_module": "@jupyter-widgets/base",
      "model_module_version": "1.1.0",
      "model_name": "LayoutModel",
      "state": {}
     },
     "b1b10cb9ceb3434191bc9e5cd668b707": {
      "model_module": "@jupyter-widgets/base",
      "model_module_version": "1.1.0",
      "model_name": "LayoutModel",
      "state": {
       "width": "90px"
      }
     },
     "b1ec48c439d24e1a9c535e9d95617d1e": {
      "model_module": "@jupyter-widgets/base",
      "model_module_version": "1.1.0",
      "model_name": "LayoutModel",
      "state": {
       "visibility": "visible",
       "width": "300px"
      }
     },
     "b215ba08e3d14a97b74f75b3dbcf4fca": {
      "model_module": "@jupyter-widgets/controls",
      "model_module_version": "1.4.0",
      "model_name": "DropdownModel",
      "state": {
       "_options_labels": [
        "None",
        "rbf",
        "nystroem"
       ],
       "index": 0,
       "layout": "IPY_MODEL_26fd6c396fa442c1a42c575b73f4a06a",
       "style": "IPY_MODEL_21b229d406ff4420a508d93d4f89f509"
      }
     },
     "b21a6cdff42a4995b4037cfdeb17ae6e": {
      "model_module": "@jupyter-widgets/controls",
      "model_module_version": "1.4.0",
      "model_name": "VBoxModel",
      "state": {
       "children": [
        "IPY_MODEL_68992bb2285641549cca8c900cfcd4c1",
        "IPY_MODEL_49269fb4ceeb48ca965a6ff52c357055",
        "IPY_MODEL_b4f11b5f94034e56b22f45943dfc6955",
        "IPY_MODEL_ab43fd4e3d654c5aa3f2f2e1d1456945",
        "IPY_MODEL_c123af9039e2437980090f3353561450",
        "IPY_MODEL_181913190aca4f758d40db09834bb9b9",
        "IPY_MODEL_86b19e8c60ae45c4855c6b678831e200"
       ],
       "layout": "IPY_MODEL_ccd5f900c33d494897ff4c37c00ae247"
      }
     },
     "b2395561b53e4d11912a78d618e62ccc": {
      "model_module": "@jupyter-widgets/base",
      "model_module_version": "1.1.0",
      "model_name": "LayoutModel",
      "state": {}
     },
     "b23e7566a2884e1dbf1271a414571b54": {
      "model_module": "@jupyter-widgets/controls",
      "model_module_version": "1.4.0",
      "model_name": "SliderStyleModel",
      "state": {
       "description_width": ""
      }
     },
     "b26eab9a233849c5b0d826a7c0a95f64": {
      "model_module": "@jupyter-widgets/base",
      "model_module_version": "1.1.0",
      "model_name": "LayoutModel",
      "state": {}
     },
     "b2829384f30b4cdda3ebee3da6c0db35": {
      "model_module": "@jupyter-widgets/controls",
      "model_module_version": "1.4.0",
      "model_name": "IntRangeSliderModel",
      "state": {
       "_model_name": "IntRangeSliderModel",
       "_view_name": "IntRangeSliderView",
       "disabled": true,
       "layout": "IPY_MODEL_0cb83a5b4896436f91d4f98babaa6dcb",
       "max": 400,
       "min": 30,
       "step": 10,
       "style": "IPY_MODEL_dc5ace5677bc492d8cc22e37a2b76940",
       "value": [
        30,
        100
       ]
      }
     },
     "b28d4d0d768342bbb4b00ac59faf65ab": {
      "model_module": "@jupyter-widgets/controls",
      "model_module_version": "1.4.0",
      "model_name": "ButtonStyleModel",
      "state": {}
     },
     "b2c673b51f3f4b4a887d89896a8b68b1": {
      "model_module": "@jupyter-widgets/controls",
      "model_module_version": "1.4.0",
      "model_name": "DescriptionStyleModel",
      "state": {
       "description_width": ""
      }
     },
     "b2d9f0322c46481e99ea43577238e20a": {
      "model_module": "@jupyter-widgets/base",
      "model_module_version": "1.1.0",
      "model_name": "LayoutModel",
      "state": {}
     },
     "b2e5679f985640fd828ad20ef4ad541a": {
      "model_module": "@jupyter-widgets/base",
      "model_module_version": "1.1.0",
      "model_name": "LayoutModel",
      "state": {}
     },
     "b2e85220020541cb81179c1ece37da29": {
      "model_module": "@jupyter-widgets/controls",
      "model_module_version": "1.4.0",
      "model_name": "DescriptionStyleModel",
      "state": {
       "description_width": ""
      }
     },
     "b30455d4efb940098de73e36abf3a18a": {
      "model_module": "@jupyter-widgets/controls",
      "model_module_version": "1.4.0",
      "model_name": "SliderStyleModel",
      "state": {
       "description_width": ""
      }
     },
     "b31ff0bc176c4a3cb3abc9e1f6f568a9": {
      "model_module": "@jupyter-widgets/base",
      "model_module_version": "1.1.0",
      "model_name": "LayoutModel",
      "state": {}
     },
     "b335ba4632e047cab71e88481872caf4": {
      "model_module": "@jupyter-widgets/controls",
      "model_module_version": "1.4.0",
      "model_name": "VBoxModel",
      "state": {
       "children": [
        "IPY_MODEL_48ffb870b43a412e91fc5573400eb9e7",
        "IPY_MODEL_202f2dfe08984e2b904d52dada50df5d",
        "IPY_MODEL_2dcecebcd7f141ab8685a42098698bc4",
        "IPY_MODEL_c17f4c2c345342e69155cee71f01e184"
       ],
       "layout": "IPY_MODEL_43d5ab7600f04ccc95088ee9a41f05d6"
      }
     },
     "b335fb72e0ad4c90aa2e6a7daff162f9": {
      "model_module": "@jupyter-widgets/controls",
      "model_module_version": "1.4.0",
      "model_name": "DescriptionStyleModel",
      "state": {
       "description_width": ""
      }
     },
     "b358b68da0fe4e568c64f9a681d2eda6": {
      "model_module": "@jupyter-widgets/base",
      "model_module_version": "1.1.0",
      "model_name": "LayoutModel",
      "state": {}
     },
     "b359dd3137074dce91903abc52347b22": {
      "model_module": "@jupyter-widgets/base",
      "model_module_version": "1.1.0",
      "model_name": "LayoutModel",
      "state": {}
     },
     "b3a1c043de1e443a9c78e1a517740db3": {
      "model_module": "@jupyter-widgets/base",
      "model_module_version": "1.1.0",
      "model_name": "LayoutModel",
      "state": {
       "visibility": "hidden",
       "width": "300px"
      }
     },
     "b3a3ef9776c44ba0902d7b6c761e5642": {
      "model_module": "@jupyter-widgets/controls",
      "model_module_version": "1.4.0",
      "model_name": "HBoxModel",
      "state": {
       "children": [
        "IPY_MODEL_a094cada0d114890ad7a86b405e7058f",
        "IPY_MODEL_4ae35dae172c4d999520ba8b5e65d00a",
        "IPY_MODEL_a68781402af240dd96c9a9747fa00e8a",
        "IPY_MODEL_601b9a4a4c724067aea7e1a588caa0b4",
        "IPY_MODEL_71f91c4cb2244b61a62cb72222bd719d"
       ],
       "layout": "IPY_MODEL_ff8632789df24b3f8ae2fe91508bcd82"
      }
     },
     "b3c6bf4c4d874eaeb1563183d7c433f7": {
      "model_module": "@jupyter-widgets/base",
      "model_module_version": "1.1.0",
      "model_name": "LayoutModel",
      "state": {}
     },
     "b3c871a4daac410f8532c942d3c2f036": {
      "model_module": "@jupyter-widgets/controls",
      "model_module_version": "1.4.0",
      "model_name": "VBoxModel",
      "state": {
       "children": [
        "IPY_MODEL_94dc414ac5894fd9a08c7d909b4600e1",
        "IPY_MODEL_1ebfe9f7205a4789a4c43317e485583c",
        "IPY_MODEL_65ede1992b334db2a5a48f7b4c7f8c35"
       ],
       "layout": "IPY_MODEL_a3af8445f7aa4b7fa73df5138f8fd227"
      }
     },
     "b3e4e5ceb6494f72a7159d4a50acecb4": {
      "model_module": "@jupyter-widgets/controls",
      "model_module_version": "1.4.0",
      "model_name": "DropdownModel",
      "state": {
       "_options_labels": [
        "dt",
        "logit",
        "linear_svc"
       ],
       "index": 0,
       "layout": "IPY_MODEL_733b79c27b1d45819b06808b7498e790",
       "style": "IPY_MODEL_596acefb5858477b84e3925bba749549"
      }
     },
     "b4087648f8c7438281a005ca947d56b4": {
      "model_module": "@jupyter-widgets/controls",
      "model_module_version": "1.4.0",
      "model_name": "CheckboxModel",
      "state": {
       "disabled": false,
       "layout": "IPY_MODEL_32e39a513aa3440881e7e8d30afd490a",
       "style": "IPY_MODEL_356ad10c6f7d4c108e54c563049d653b",
       "value": false
      }
     },
     "b45077b00d84436a9533736de15c2189": {
      "model_module": "@jupyter-widgets/base",
      "model_module_version": "1.1.0",
      "model_name": "LayoutModel",
      "state": {
       "border": "3px solid black"
      }
     },
     "b45d2b3c146d495c876c56650499f382": {
      "model_module": "@jupyter-widgets/controls",
      "model_module_version": "1.4.0",
      "model_name": "IntRangeSliderModel",
      "state": {
       "_model_name": "IntRangeSliderModel",
       "_view_name": "IntRangeSliderView",
       "disabled": true,
       "layout": "IPY_MODEL_c0222fdc927647fbaedcd2d2147c9303",
       "max": 400,
       "min": 30,
       "step": 10,
       "style": "IPY_MODEL_1a69860cc51c43b480f57f5283a41405",
       "value": [
        30,
        100
       ]
      }
     },
     "b4872426e0a74839a2e6fcfbe51c7ddf": {
      "model_module": "@jupyter-widgets/controls",
      "model_module_version": "1.4.0",
      "model_name": "CheckboxModel",
      "state": {
       "disabled": false,
       "layout": "IPY_MODEL_11a67cc59f5d408b97d9c5429ac4d553",
       "style": "IPY_MODEL_f4611cdb26d24ef09940320405989ce2",
       "value": false
      }
     },
     "b4a23a41d1da46fb8a098c7388a254c6": {
      "model_module": "@jupyter-widgets/controls",
      "model_module_version": "1.4.0",
      "model_name": "DescriptionStyleModel",
      "state": {
       "description_width": ""
      }
     },
     "b4c734682c1c4375986131625d27f8cb": {
      "model_module": "@jupyter-widgets/base",
      "model_module_version": "1.1.0",
      "model_name": "LayoutModel",
      "state": {}
     },
     "b4ca90a9d8a34de09b56eddb16866764": {
      "model_module": "@jupyter-widgets/base",
      "model_module_version": "1.1.0",
      "model_name": "LayoutModel",
      "state": {}
     },
     "b4cc1592cba94a849a3699de8c26d25b": {
      "model_module": "@jupyter-widgets/output",
      "model_module_version": "1.0.0",
      "model_name": "OutputModel",
      "state": {
       "layout": "IPY_MODEL_db1874fa135742959739adc253d01554"
      }
     },
     "b4d63140723a4c34b6476f8a3510f109": {
      "model_module": "@jupyter-widgets/base",
      "model_module_version": "1.1.0",
      "model_name": "LayoutModel",
      "state": {}
     },
     "b4f11b5f94034e56b22f45943dfc6955": {
      "model_module": "@jupyter-widgets/controls",
      "model_module_version": "1.4.0",
      "model_name": "ButtonModel",
      "state": {
       "button_style": "info",
       "description": "Add model",
       "layout": "IPY_MODEL_e335c24c17dd4355bfdb4a93b61d1fdf",
       "style": "IPY_MODEL_8d7f0591fdec402394bc48dc0c6919b6"
      }
     },
     "b53805f25e8047a099408f206a4481b3": {
      "model_module": "@jupyter-widgets/base",
      "model_module_version": "1.1.0",
      "model_name": "LayoutModel",
      "state": {}
     },
     "b5427de3530d47cfb9b7e7123c8268a7": {
      "model_module": "@jupyter-widgets/controls",
      "model_module_version": "1.4.0",
      "model_name": "DescriptionStyleModel",
      "state": {
       "description_width": ""
      }
     },
     "b55e6c66901e45aab9e318a4f7813eb2": {
      "model_module": "@jupyter-widgets/controls",
      "model_module_version": "1.4.0",
      "model_name": "DescriptionStyleModel",
      "state": {
       "description_width": ""
      }
     },
     "b5713cb9c48440bba2198795f9d0a805": {
      "model_module": "@jupyter-widgets/base",
      "model_module_version": "1.1.0",
      "model_name": "LayoutModel",
      "state": {}
     },
     "b594538879de455093321029111b2429": {
      "model_module": "@jupyter-widgets/base",
      "model_module_version": "1.1.0",
      "model_name": "LayoutModel",
      "state": {}
     },
     "b59d70b85b524be1b3c366cce6402d2c": {
      "model_module": "@jupyter-widgets/controls",
      "model_module_version": "1.4.0",
      "model_name": "ButtonModel",
      "state": {
       "button_style": "warning",
       "description": "Remove model",
       "layout": "IPY_MODEL_75cc22b31fe24659b333c2539b612ca9",
       "style": "IPY_MODEL_4239a34d2f5b4485bee8c1aedd6d028a"
      }
     },
     "b5a7c973a36641ee85a730679bcf7ffc": {
      "model_module": "@jupyter-widgets/controls",
      "model_module_version": "1.4.0",
      "model_name": "VBoxModel",
      "state": {
       "children": [
        "IPY_MODEL_634292a5bded4833a5236bbcf58ad295",
        "IPY_MODEL_438d71d50b324f9da1a2bae39a2aec01",
        "IPY_MODEL_4564754e2a214d7c90a7dd4a8f74fe54"
       ],
       "layout": "IPY_MODEL_9dceb5638b044eedbd09e037e4459b8b"
      }
     },
     "b5c05dea1c4c42e3850aac14b4b6c15b": {
      "model_module": "@jupyter-widgets/base",
      "model_module_version": "1.1.0",
      "model_name": "LayoutModel",
      "state": {
       "visibility": "hidden"
      }
     },
     "b5c7b7dbe6a642fb9195e18ff51e7d8d": {
      "model_module": "@jupyter-widgets/base",
      "model_module_version": "1.1.0",
      "model_name": "LayoutModel",
      "state": {}
     },
     "b5cc5978baac46e6b05548876f8cdff6": {
      "model_module": "@jupyter-widgets/controls",
      "model_module_version": "1.4.0",
      "model_name": "DescriptionStyleModel",
      "state": {
       "description_width": ""
      }
     },
     "b6172ecfaa1748ca937a2462adf04e89": {
      "model_module": "@jupyter-widgets/controls",
      "model_module_version": "1.4.0",
      "model_name": "LabelModel",
      "state": {
       "layout": "IPY_MODEL_967a039fa2494816adc740920a77c98d",
       "style": "IPY_MODEL_c13cf9d5ca134a12ad275067faa8ba2a",
       "value": "Box Type"
      }
     },
     "b69c937227b549cca4f901a722333838": {
      "model_module": "@jupyter-widgets/output",
      "model_module_version": "1.0.0",
      "model_name": "OutputModel",
      "state": {
       "layout": "IPY_MODEL_548e1e3919e14ec78987048599dd59bd",
       "outputs": [
        {
         "data": {
          "text/markdown": "\n- Dataset: **segment**\n- Size: **1000**\n        ",
          "text/plain": "<IPython.core.display.Markdown object>"
         },
         "metadata": {},
         "output_type": "display_data"
        },
        {
         "data": {
          "image/png": "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\n",
          "text/plain": "<Figure size 921.6x345.6 with 2 Axes>"
         },
         "metadata": {},
         "output_type": "display_data"
        }
       ]
      }
     },
     "b6a94dfc372e4a20bbfd1e243bf9c148": {
      "model_module": "@jupyter-widgets/base",
      "model_module_version": "1.1.0",
      "model_name": "LayoutModel",
      "state": {}
     },
     "b6b33311eb2141a29fe56adf6cfe1969": {
      "model_module": "@jupyter-widgets/controls",
      "model_module_version": "1.4.0",
      "model_name": "ButtonModel",
      "state": {
       "button_style": "warning",
       "description": "Remove model",
       "layout": "IPY_MODEL_040f7f67faf74ede9d5abb3f1da70a37",
       "style": "IPY_MODEL_2f4bebc5661947079a624f9b09c75b57"
      }
     },
     "b6c2baa06669488bb891633370817849": {
      "model_module": "@jupyter-widgets/base",
      "model_module_version": "1.1.0",
      "model_name": "LayoutModel",
      "state": {}
     },
     "b6e9589b32c7427da7e59c024accda5f": {
      "model_module": "@jupyter-widgets/controls",
      "model_module_version": "1.4.0",
      "model_name": "DropdownModel",
      "state": {
       "_options_labels": [
        "None",
        "black",
        "grey"
       ],
       "index": 1,
       "layout": "IPY_MODEL_4c110e8e92bf4c7ba7b987877f6ff168",
       "style": "IPY_MODEL_d5520045334b4a4ebc2ba6c4c7e24efa"
      }
     },
     "b70f19f0dd654956880841ae6994a5da": {
      "model_module": "@jupyter-widgets/base",
      "model_module_version": "1.1.0",
      "model_name": "LayoutModel",
      "state": {}
     },
     "b7729124ad3849cbac82963fb32dc1f9": {
      "model_module": "@jupyter-widgets/controls",
      "model_module_version": "1.4.0",
      "model_name": "ButtonStyleModel",
      "state": {}
     },
     "b784225bbad143c8a455756b3bcad64a": {
      "model_module": "@jupyter-widgets/base",
      "model_module_version": "1.1.0",
      "model_name": "LayoutModel",
      "state": {}
     },
     "b78e29ed9da64e4aa1f3ea043ad9efa7": {
      "model_module": "@jupyter-widgets/base",
      "model_module_version": "1.1.0",
      "model_name": "LayoutModel",
      "state": {}
     },
     "b7964e5cf7814964aa704044688596c1": {
      "model_module": "@jupyter-widgets/base",
      "model_module_version": "1.1.0",
      "model_name": "LayoutModel",
      "state": {
       "width": "90px"
      }
     },
     "b7a54faa8aa146b78936e6d6d5389b13": {
      "model_module": "@jupyter-widgets/controls",
      "model_module_version": "1.4.0",
      "model_name": "ButtonStyleModel",
      "state": {}
     },
     "b7bd595c4d19432f965090ac3c1b66e7": {
      "model_module": "@jupyter-widgets/base",
      "model_module_version": "1.1.0",
      "model_name": "LayoutModel",
      "state": {}
     },
     "b7c8cc5f943e42a290f8c4e2ab54b9cc": {
      "model_module": "@jupyter-widgets/controls",
      "model_module_version": "1.4.0",
      "model_name": "DropdownModel",
      "state": {
       "_options_labels": [
        "dt",
        "logit",
        "linear_svc"
       ],
       "index": 0,
       "layout": "IPY_MODEL_63c2d20d01984a788094dc361606577d",
       "style": "IPY_MODEL_bb0734c3d98d47eb87e719f67cd3a216"
      }
     },
     "b7d5df3f486f4dcdb7510a1a2b43be3d": {
      "model_module": "@jupyter-widgets/controls",
      "model_module_version": "1.4.0",
      "model_name": "DescriptionStyleModel",
      "state": {
       "description_width": ""
      }
     },
     "b7dc5a5610f54dd2a332fd9fe04bd3b1": {
      "model_module": "@jupyter-widgets/base",
      "model_module_version": "1.1.0",
      "model_name": "LayoutModel",
      "state": {
       "width": "90px"
      }
     },
     "b7f04962c0934c928765c4729483defa": {
      "model_module": "@jupyter-widgets/output",
      "model_module_version": "1.0.0",
      "model_name": "OutputModel",
      "state": {
       "layout": "IPY_MODEL_d97cdb3e4e934a08bbf43d8859cfae9d",
       "outputs": [
        {
         "data": {
          "text/markdown": "\n- Dataset: **segment**\n- Size: **1000**\n        ",
          "text/plain": "<IPython.core.display.Markdown object>"
         },
         "metadata": {},
         "output_type": "display_data"
        },
        {
         "data": {
          "image/png": "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\n",
          "text/plain": "<Figure size 921.6x345.6 with 2 Axes>"
         },
         "metadata": {},
         "output_type": "display_data"
        }
       ]
      }
     },
     "b7f5a1861ae048da9ab7939605438583": {
      "model_module": "@jupyter-widgets/controls",
      "model_module_version": "1.4.0",
      "model_name": "ButtonStyleModel",
      "state": {}
     },
     "b802b9bc154b4e249dda96daa3b94ae2": {
      "model_module": "@jupyter-widgets/controls",
      "model_module_version": "1.4.0",
      "model_name": "DescriptionStyleModel",
      "state": {
       "description_width": ""
      }
     },
     "b82298af6a9944e589ab7a76a96b1f70": {
      "model_module": "@jupyter-widgets/base",
      "model_module_version": "1.1.0",
      "model_name": "LayoutModel",
      "state": {}
     },
     "b892609544c34b9296cf95f54b59cd5f": {
      "model_module": "@jupyter-widgets/controls",
      "model_module_version": "1.4.0",
      "model_name": "VBoxModel",
      "state": {
       "children": [
        "IPY_MODEL_cae3e472f07143e5bf7f3670f37d7621",
        "IPY_MODEL_0b59efdc8b3646fdbb150ed3ee916098",
        "IPY_MODEL_2c2defe89678428685456b7b204ee2ea",
        "IPY_MODEL_b59d70b85b524be1b3c366cce6402d2c",
        "IPY_MODEL_1153d7748c7a4fbe9af7b2b37191a961",
        "IPY_MODEL_4de2e90a1f674e1780fd41c8dc812b9e",
        "IPY_MODEL_8fcacb50e11042879297f926e00e857b"
       ],
       "layout": "IPY_MODEL_4aebbc31ec684521b10a2fd1aab04c7e"
      }
     },
     "b896a6f7db134680b20d86c9c65c1d4e": {
      "model_module": "@jupyter-widgets/controls",
      "model_module_version": "1.4.0",
      "model_name": "DescriptionStyleModel",
      "state": {
       "description_width": ""
      }
     },
     "b8a3bce2356f4a83a383bf99bc606240": {
      "model_module": "@jupyter-widgets/controls",
      "model_module_version": "1.4.0",
      "model_name": "IntSliderModel",
      "state": {
       "layout": "IPY_MODEL_2aaea413d9a04969aacadfb3a59d36d9",
       "max": 200,
       "min": 2,
       "style": "IPY_MODEL_3b2c62873d55458eaa633f74253465c0",
       "value": 30
      }
     },
     "b8d02ad3808a4673a4b8cf1ae9c36448": {
      "model_module": "@jupyter-widgets/base",
      "model_module_version": "1.1.0",
      "model_name": "LayoutModel",
      "state": {}
     },
     "b903509021e340c5954e570e866fe836": {
      "model_module": "@jupyter-widgets/controls",
      "model_module_version": "1.4.0",
      "model_name": "DropdownModel",
      "state": {
       "_options_labels": [
        "None",
        "rbf",
        "nystroem"
       ],
       "index": 1,
       "layout": "IPY_MODEL_5e9eefb65587469cac89b112caedf544",
       "style": "IPY_MODEL_e1d8329cda2a4452a3d717d01b5a6de1"
      }
     },
     "b90afbf9aa014e06bb7e1b2a02a4f2dd": {
      "model_module": "@jupyter-widgets/controls",
      "model_module_version": "1.4.0",
      "model_name": "ButtonStyleModel",
      "state": {}
     },
     "b913684851fc4813bd1616bedd44458a": {
      "model_module": "@jupyter-widgets/controls",
      "model_module_version": "1.4.0",
      "model_name": "DescriptionStyleModel",
      "state": {
       "description_width": ""
      }
     },
     "b91bb342e2cb41e788b0de91ff26204a": {
      "model_module": "@jupyter-widgets/base",
      "model_module_version": "1.1.0",
      "model_name": "LayoutModel",
      "state": {}
     },
     "b929e64a129842089ff01822ac9650ca": {
      "model_module": "@jupyter-widgets/base",
      "model_module_version": "1.1.0",
      "model_name": "LayoutModel",
      "state": {}
     },
     "b9463a00f9034530a9c442f2477d1fce": {
      "model_module": "@jupyter-widgets/controls",
      "model_module_version": "1.4.0",
      "model_name": "ButtonStyleModel",
      "state": {}
     },
     "b95eed7e9d2d4536b9b9509cfe8afc1b": {
      "model_module": "@jupyter-widgets/controls",
      "model_module_version": "1.4.0",
      "model_name": "CheckboxModel",
      "state": {
       "disabled": false,
       "layout": "IPY_MODEL_12e31532f0914c6c9398208563cf4988",
       "style": "IPY_MODEL_b5427de3530d47cfb9b7e7123c8268a7",
       "value": false
      }
     },
     "b9996a79ec0941e1af5ebfb1e305f228": {
      "model_module": "@jupyter-widgets/base",
      "model_module_version": "1.1.0",
      "model_name": "LayoutModel",
      "state": {}
     },
     "b9e43aa3fcbd439bb9cc08a9596bb402": {
      "model_module": "@jupyter-widgets/controls",
      "model_module_version": "1.4.0",
      "model_name": "CheckboxModel",
      "state": {
       "disabled": false,
       "layout": "IPY_MODEL_ac163b4df15444b784e6a1fc11b8b9b2",
       "style": "IPY_MODEL_bf6b9ec4a8104142b9d64f6200caef23",
       "value": false
      }
     },
     "b9eb349a2d324e7ba462b8fd89974a73": {
      "model_module": "@jupyter-widgets/controls",
      "model_module_version": "1.4.0",
      "model_name": "DescriptionStyleModel",
      "state": {
       "description_width": ""
      }
     },
     "ba0475cb72874e52a36df6d74844e7f1": {
      "model_module": "@jupyter-widgets/controls",
      "model_module_version": "1.4.0",
      "model_name": "VBoxModel",
      "state": {
       "children": [
        "IPY_MODEL_524b4583478148de885408ee66c747f4",
        "IPY_MODEL_0294f0c5f582491aba3928705d94fbe7",
        "IPY_MODEL_7026a42fd7c449f595801e2b1b329af0",
        "IPY_MODEL_a25b57e0904b4691873ce56f9c1dfbee",
        "IPY_MODEL_4a20f7125b1b4cc193919a19ebd7dcde",
        "IPY_MODEL_eefce42880fe4c7fb028a975babb18bb",
        "IPY_MODEL_0a5869bfb48645218b7927912c3de22f"
       ],
       "layout": "IPY_MODEL_c5855d7a293444a8a9dae59ffc6c5ec1"
      }
     },
     "ba0d702f177942bb86a1c7c42a693f1b": {
      "model_module": "@jupyter-widgets/controls",
      "model_module_version": "1.4.0",
      "model_name": "VBoxModel",
      "state": {
       "children": [
        "IPY_MODEL_0fa9e916fbee4020b9cb50420e2eb18e",
        "IPY_MODEL_bd059c8d8c7d402a911fc3cd83ac8762",
        "IPY_MODEL_e0ab60b5968e460788fc8c447aa3503d",
        "IPY_MODEL_ec88aa22e8ba482f87e0fc4c14211706",
        "IPY_MODEL_e15a2f05fcba40f6bd8b5f62165091e2",
        "IPY_MODEL_dfd97b439494429090c80051db6bdab3",
        "IPY_MODEL_4b1040feb82849f4a1c3b5f5e2039f24"
       ],
       "layout": "IPY_MODEL_a9184dc287754e8ab0477d6e52b53d57"
      }
     },
     "ba392321cad24988baac0bea03e51ace": {
      "model_module": "@jupyter-widgets/controls",
      "model_module_version": "1.4.0",
      "model_name": "LabelModel",
      "state": {
       "layout": "IPY_MODEL_02c737f0a47840bcadd653222a786164",
       "style": "IPY_MODEL_9f1ab852d19a472ca5ea85e8926a2dff",
       "value": "Model"
      }
     },
     "ba914878eeec458a91ab3321808632f8": {
      "model_module": "@jupyter-widgets/controls",
      "model_module_version": "1.4.0",
      "model_name": "DropdownModel",
      "state": {
       "_options_labels": [
        "None",
        "rbf",
        "nystroem"
       ],
       "index": 0,
       "layout": "IPY_MODEL_e7c66816e45049159b6587b3c71f07cc",
       "style": "IPY_MODEL_a15390d983e84a6cb41610867be8630f"
      }
     },
     "baa08f55ccbf4b7da10facecbc131c2a": {
      "model_module": "@jupyter-widgets/controls",
      "model_module_version": "1.4.0",
      "model_name": "DropdownModel",
      "state": {
       "_options_labels": [
        "None",
        "black",
        "grey"
       ],
       "index": 1,
       "layout": "IPY_MODEL_e7c66816e45049159b6587b3c71f07cc",
       "style": "IPY_MODEL_f3aa8c2376004be8881c01c5747597c9"
      }
     },
     "bab040bd67ad47cf94fd42d0bb66e965": {
      "model_module": "@jupyter-widgets/controls",
      "model_module_version": "1.4.0",
      "model_name": "VBoxModel",
      "state": {
       "children": [
        "IPY_MODEL_033dac267a1f42af9250e14fdbc1c0ab",
        "IPY_MODEL_211a02e870aa49ec96d1fc7970936f20"
       ],
       "layout": "IPY_MODEL_dd4039ad675147849def0199050da5eb"
      }
     },
     "bac6dee8bf0b44b99636f85a09019283": {
      "model_module": "@jupyter-widgets/controls",
      "model_module_version": "1.4.0",
      "model_name": "HBoxModel",
      "state": {
       "children": [
        "IPY_MODEL_b3c871a4daac410f8532c942d3c2f036",
        "IPY_MODEL_32be100f7e4e43328c74e584a0f41006",
        "IPY_MODEL_f9b75cf39edf4b4b8928b26f9adc2bec",
        "IPY_MODEL_c8f76bf3b6cf4822a3c8f1aa4e11d18d",
        "IPY_MODEL_bd22ae9a9f1f45c0ace70923e6f807af"
       ],
       "layout": "IPY_MODEL_ef4546533a034c8389ccdcfad5172ec9"
      }
     },
     "baf65a7a6f7049a6ab34863161007456": {
      "model_module": "@jupyter-widgets/base",
      "model_module_version": "1.1.0",
      "model_name": "LayoutModel",
      "state": {
       "width": "90px"
      }
     },
     "bb0734c3d98d47eb87e719f67cd3a216": {
      "model_module": "@jupyter-widgets/controls",
      "model_module_version": "1.4.0",
      "model_name": "DescriptionStyleModel",
      "state": {
       "description_width": ""
      }
     },
     "bb1df3468efa462991df6a9b77523749": {
      "model_module": "@jupyter-widgets/controls",
      "model_module_version": "1.4.0",
      "model_name": "DropdownModel",
      "state": {
       "_options_labels": [
        "segment",
        "covertype",
        "digits",
        "fall_detection",
        "mnist",
        "pen_digits",
        "satellite",
        "vowel"
       ],
       "description": "Dataset:",
       "index": 0,
       "layout": "IPY_MODEL_efe9f4c90c8d43fba15d591bb6d96745",
       "style": "IPY_MODEL_ac02110959c44bcfaa15f989c19143e2"
      }
     },
     "bb203ca00c9744028fd64d5b91340f6e": {
      "model_module": "@jupyter-widgets/base",
      "model_module_version": "1.1.0",
      "model_name": "LayoutModel",
      "state": {
       "width": "90px"
      }
     },
     "bb32e32e349c4796a00674a5540f5fc6": {
      "model_module": "@jupyter-widgets/controls",
      "model_module_version": "1.4.0",
      "model_name": "DropdownModel",
      "state": {
       "_options_labels": [
        "dt",
        "logit",
        "linear_svc"
       ],
       "index": 0,
       "layout": "IPY_MODEL_debb2f962f124907af6dc72dd36ff170",
       "style": "IPY_MODEL_dbe560de02a9463b98f09829e5e27d92"
      }
     },
     "bb4113c0049c47329778b0846bac8800": {
      "model_module": "@jupyter-widgets/base",
      "model_module_version": "1.1.0",
      "model_name": "LayoutModel",
      "state": {}
     },
     "bb4da2bb5f864d62a8c639455c395ebf": {
      "model_module": "@jupyter-widgets/base",
      "model_module_version": "1.1.0",
      "model_name": "LayoutModel",
      "state": {}
     },
     "bb871a427b544a72b19bb0f8cc56427f": {
      "model_module": "@jupyter-widgets/base",
      "model_module_version": "1.1.0",
      "model_name": "LayoutModel",
      "state": {
       "visibility": "hidden"
      }
     },
     "bba2fd0b99644879b0cacdc64d98dbcb": {
      "model_module": "@jupyter-widgets/controls",
      "model_module_version": "1.4.0",
      "model_name": "DescriptionStyleModel",
      "state": {
       "description_width": ""
      }
     },
     "bbb51f022853407daf8d14063daf26c6": {
      "model_module": "@jupyter-widgets/controls",
      "model_module_version": "1.4.0",
      "model_name": "DropdownModel",
      "state": {
       "_options_labels": [
        "None",
        "rbf",
        "nystroem"
       ],
       "index": 0,
       "layout": "IPY_MODEL_3eb8423aba994603a97b2dedb51d81e5",
       "style": "IPY_MODEL_1f79e4a90876471aa1b74eed7d421ba7"
      }
     },
     "bc06845670014e7884b1e34a76858035": {
      "model_module": "@jupyter-widgets/base",
      "model_module_version": "1.1.0",
      "model_name": "LayoutModel",
      "state": {
       "border": "3px solid black"
      }
     },
     "bc1ce7e1f0df496eaa5c2c7bdfe9003b": {
      "model_module": "@jupyter-widgets/base",
      "model_module_version": "1.1.0",
      "model_name": "LayoutModel",
      "state": {}
     },
     "bc1e91e3dd1a4deba99702ae1792267c": {
      "model_module": "@jupyter-widgets/base",
      "model_module_version": "1.1.0",
      "model_name": "LayoutModel",
      "state": {}
     },
     "bc31110cbaec4589b0d99b326b901e46": {
      "model_module": "@jupyter-widgets/controls",
      "model_module_version": "1.4.0",
      "model_name": "DescriptionStyleModel",
      "state": {
       "description_width": ""
      }
     },
     "bc4b090ca24b4f1b9b2c9204ac47113e": {
      "model_module": "@jupyter-widgets/controls",
      "model_module_version": "1.4.0",
      "model_name": "DescriptionStyleModel",
      "state": {
       "description_width": ""
      }
     },
     "bc537ff53dfd4eb3897e19798f85df51": {
      "model_module": "@jupyter-widgets/controls",
      "model_module_version": "1.4.0",
      "model_name": "DescriptionStyleModel",
      "state": {
       "description_width": ""
      }
     },
     "bcb368b30fb740d480f7badf69d34a40": {
      "model_module": "@jupyter-widgets/controls",
      "model_module_version": "1.4.0",
      "model_name": "DescriptionStyleModel",
      "state": {
       "description_width": ""
      }
     },
     "bcfcefbe54d948d98fb7e7cc60fb4dde": {
      "model_module": "@jupyter-widgets/controls",
      "model_module_version": "1.4.0",
      "model_name": "DescriptionStyleModel",
      "state": {
       "description_width": ""
      }
     },
     "bd059c8d8c7d402a911fc3cd83ac8762": {
      "model_module": "@jupyter-widgets/controls",
      "model_module_version": "1.4.0",
      "model_name": "RadioButtonsModel",
      "state": {
       "_options_labels": [
        "1000",
        "2000",
        "5000",
        "10000"
       ],
       "description": "Size",
       "index": 0,
       "layout": "IPY_MODEL_e8a6ac04d055436b91bb087883a935b1",
       "style": "IPY_MODEL_d903b9beaa1240e08b31dafde0ca006c"
      }
     },
     "bd1fb7ab796c440ea1677cb3e8c87335": {
      "model_module": "@jupyter-widgets/controls",
      "model_module_version": "1.4.0",
      "model_name": "DropdownModel",
      "state": {
       "_options_labels": [
        "dt",
        "logit",
        "linear_svc"
       ],
       "index": 0,
       "layout": "IPY_MODEL_bb203ca00c9744028fd64d5b91340f6e",
       "style": "IPY_MODEL_94267d3b4e0341e0b31249f90c1af7a6"
      }
     },
     "bd22ae9a9f1f45c0ace70923e6f807af": {
      "model_module": "@jupyter-widgets/controls",
      "model_module_version": "1.4.0",
      "model_name": "VBoxModel",
      "state": {
       "children": [
        "IPY_MODEL_be88051234fc4a9882167b883f6febfe",
        "IPY_MODEL_885b0438c74549818796a9229f89ef73",
        "IPY_MODEL_b4872426e0a74839a2e6fcfbe51c7ddf"
       ],
       "layout": "IPY_MODEL_ced3fd0a10944027b602ac1e9546ff54"
      }
     },
     "bd6b664e43c34c8caff6414c6cce4862": {
      "model_module": "@jupyter-widgets/controls",
      "model_module_version": "1.4.0",
      "model_name": "LabelModel",
      "state": {
       "layout": "IPY_MODEL_d91352fd1cbd4198b25f6c666876b60a",
       "style": "IPY_MODEL_2d42b62a43994081a654060169120419",
       "value": "Number Estimators"
      }
     },
     "bd70d6b68adf4240abc67edfb75dabaa": {
      "model_module": "@jupyter-widgets/controls",
      "model_module_version": "1.4.0",
      "model_name": "ButtonStyleModel",
      "state": {}
     },
     "bd7705eca57b4984aace7a2295b1e180": {
      "model_module": "@jupyter-widgets/controls",
      "model_module_version": "1.4.0",
      "model_name": "VBoxModel",
      "state": {
       "children": [
        "IPY_MODEL_399cc271c48a4324b03fd809d5486da9",
        "IPY_MODEL_ff35e2dda0bc4b6b8639775dd0475b82",
        "IPY_MODEL_51bc6b1574f247a1950d02fd79e6ada7"
       ],
       "layout": "IPY_MODEL_05ad2576861a49799014c94c673e7a21"
      }
     },
     "bd94c084b38347ceb996250719eac24c": {
      "model_module": "@jupyter-widgets/controls",
      "model_module_version": "1.4.0",
      "model_name": "DropdownModel",
      "state": {
       "_options_labels": [
        "None",
        "black",
        "grey"
       ],
       "index": 0,
       "layout": "IPY_MODEL_baf65a7a6f7049a6ab34863161007456",
       "style": "IPY_MODEL_36bef6bdd26841d4998b0f2ecbf40653"
      }
     },
     "bda459ee45cc4ffe86423c85d5649996": {
      "model_module": "@jupyter-widgets/controls",
      "model_module_version": "1.4.0",
      "model_name": "ButtonModel",
      "state": {
       "button_style": "info",
       "description": "Add model",
       "layout": "IPY_MODEL_23fc077cf6044597a3f2fd4f8f81110b",
       "style": "IPY_MODEL_0c9b805e5d534502bd21f918ce96ac15"
      }
     },
     "be3701ed7ae845138fbfb4f54691615f": {
      "model_module": "@jupyter-widgets/controls",
      "model_module_version": "1.4.0",
      "model_name": "DropdownModel",
      "state": {
       "_options_labels": [
        "None",
        "rbf",
        "nystroem"
       ],
       "index": 1,
       "layout": "IPY_MODEL_6040a266732e4a19b6b91ae0a5558bb2",
       "style": "IPY_MODEL_657343637085439fbf34a5940d5ad4a3"
      }
     },
     "be88051234fc4a9882167b883f6febfe": {
      "model_module": "@jupyter-widgets/controls",
      "model_module_version": "1.4.0",
      "model_name": "LabelModel",
      "state": {
       "layout": "IPY_MODEL_b9996a79ec0941e1af5ebfb1e305f228",
       "style": "IPY_MODEL_06166485206046de97e86b6f509960b2",
       "value": "PCA?"
      }
     },
     "bedb6cafe38c4788b341e3464d178b96": {
      "model_module": "@jupyter-widgets/base",
      "model_module_version": "1.1.0",
      "model_name": "LayoutModel",
      "state": {
       "visibility": "hidden",
       "width": "300px"
      }
     },
     "beea60e6b6324d23920fff6971f05d7f": {
      "model_module": "@jupyter-widgets/base",
      "model_module_version": "1.1.0",
      "model_name": "LayoutModel",
      "state": {}
     },
     "bf4f2bd499b54f56b24fa6dda1d1526b": {
      "model_module": "@jupyter-widgets/base",
      "model_module_version": "1.1.0",
      "model_name": "LayoutModel",
      "state": {}
     },
     "bf6b9ec4a8104142b9d64f6200caef23": {
      "model_module": "@jupyter-widgets/controls",
      "model_module_version": "1.4.0",
      "model_name": "DescriptionStyleModel",
      "state": {
       "description_width": ""
      }
     },
     "bf6e061da5204f9fa57b3ab1500881b5": {
      "model_module": "@jupyter-widgets/base",
      "model_module_version": "1.1.0",
      "model_name": "LayoutModel",
      "state": {}
     },
     "bf75b296aaa74c458d3e87572a41019b": {
      "model_module": "@jupyter-widgets/controls",
      "model_module_version": "1.4.0",
      "model_name": "DescriptionStyleModel",
      "state": {
       "description_width": ""
      }
     },
     "bfeb4b8b75b649a5aa14fec3add16836": {
      "model_module": "@jupyter-widgets/controls",
      "model_module_version": "1.4.0",
      "model_name": "SliderStyleModel",
      "state": {
       "description_width": ""
      }
     },
     "bff428487cd84afb8fdcd14e0a084dd8": {
      "model_module": "@jupyter-widgets/controls",
      "model_module_version": "1.4.0",
      "model_name": "DescriptionStyleModel",
      "state": {
       "description_width": ""
      }
     },
     "c0222fdc927647fbaedcd2d2147c9303": {
      "model_module": "@jupyter-widgets/base",
      "model_module_version": "1.1.0",
      "model_name": "LayoutModel",
      "state": {
       "visibility": "hidden"
      }
     },
     "c02cc83d6fa24c8b9f1c0cbdb9562f94": {
      "model_module": "@jupyter-widgets/output",
      "model_module_version": "1.0.0",
      "model_name": "OutputModel",
      "state": {
       "layout": "IPY_MODEL_4dfdea57466742ac9ce159429a3ead2b"
      }
     },
     "c03f8e0924284a308180b7d982ab6f55": {
      "model_module": "@jupyter-widgets/controls",
      "model_module_version": "1.4.0",
      "model_name": "VBoxModel",
      "state": {
       "children": [
        "IPY_MODEL_e4c100c0d8124e23990f0f23de3f0a71",
        "IPY_MODEL_192356e46da8402cafe311c89e932238"
       ],
       "layout": "IPY_MODEL_cd639843b0fd4888b51013b73a2cd392"
      }
     },
     "c05f421f04374dbf99f2c8053bd6d3ca": {
      "model_module": "@jupyter-widgets/controls",
      "model_module_version": "1.4.0",
      "model_name": "SliderStyleModel",
      "state": {
       "description_width": ""
      }
     },
     "c0afb8c4cda64aec9da318705d79023a": {
      "model_module": "@jupyter-widgets/controls",
      "model_module_version": "1.4.0",
      "model_name": "LabelModel",
      "state": {
       "layout": "IPY_MODEL_1d194720ce3f4763a2fee498aee50126",
       "style": "IPY_MODEL_6d64873d88254180b369db1194e69746",
       "value": "Sampler"
      }
     },
     "c0b6ac28cd9a4ae3ac1ad58d03516921": {
      "model_module": "@jupyter-widgets/controls",
      "model_module_version": "1.4.0",
      "model_name": "DescriptionStyleModel",
      "state": {
       "description_width": ""
      }
     },
     "c0d559946e69488d9fee64239d41834a": {
      "model_module": "@jupyter-widgets/controls",
      "model_module_version": "1.4.0",
      "model_name": "ButtonStyleModel",
      "state": {}
     },
     "c123af9039e2437980090f3353561450": {
      "model_module": "@jupyter-widgets/controls",
      "model_module_version": "1.4.0",
      "model_name": "IntRangeSliderModel",
      "state": {
       "_model_name": "IntRangeSliderModel",
       "_view_name": "IntRangeSliderView",
       "disabled": true,
       "layout": "IPY_MODEL_12120fef756f4dc49ffd7f8e5ff37a0f",
       "max": 400,
       "min": 30,
       "step": 10,
       "style": "IPY_MODEL_76f1a65020d3492398dd93af5f7a39d6",
       "value": [
        30,
        100
       ]
      }
     },
     "c13cf9d5ca134a12ad275067faa8ba2a": {
      "model_module": "@jupyter-widgets/controls",
      "model_module_version": "1.4.0",
      "model_name": "DescriptionStyleModel",
      "state": {
       "description_width": ""
      }
     },
     "c14a14697d8547578b7e5fe2f88de200": {
      "model_module": "@jupyter-widgets/controls",
      "model_module_version": "1.4.0",
      "model_name": "SliderStyleModel",
      "state": {
       "description_width": ""
      }
     },
     "c17f4c2c345342e69155cee71f01e184": {
      "model_module": "@jupyter-widgets/controls",
      "model_module_version": "1.4.0",
      "model_name": "CheckboxModel",
      "state": {
       "disabled": false,
       "layout": "IPY_MODEL_3621c480d278462b8f226e4ad9848369",
       "style": "IPY_MODEL_bc4b090ca24b4f1b9b2c9204ac47113e",
       "value": false
      }
     },
     "c1929817b6dc4665bb1e9fec36f6b0da": {
      "model_module": "@jupyter-widgets/controls",
      "model_module_version": "1.4.0",
      "model_name": "DescriptionStyleModel",
      "state": {
       "description_width": ""
      }
     },
     "c1b03d8ae4de4ca29d673fd54d235c8d": {
      "model_module": "@jupyter-widgets/controls",
      "model_module_version": "1.4.0",
      "model_name": "DropdownModel",
      "state": {
       "_options_labels": [
        "None",
        "black",
        "grey"
       ],
       "index": 2,
       "layout": "IPY_MODEL_5e9eefb65587469cac89b112caedf544",
       "style": "IPY_MODEL_cc8f5a047b3d4a91b00f1af28a97d636"
      }
     },
     "c1cc35ae8bcd4394bcc5c6609fb0e4cc": {
      "model_module": "@jupyter-widgets/base",
      "model_module_version": "1.1.0",
      "model_name": "LayoutModel",
      "state": {}
     },
     "c1cf50119e504a878e3cc6d52420b363": {
      "model_module": "@jupyter-widgets/base",
      "model_module_version": "1.1.0",
      "model_name": "LayoutModel",
      "state": {}
     },
     "c1ecdeccd71d475abe61277b978221de": {
      "model_module": "@jupyter-widgets/controls",
      "model_module_version": "1.4.0",
      "model_name": "LabelModel",
      "state": {
       "layout": "IPY_MODEL_77ce5f20090c49bfaef05edfeb1f33cc",
       "style": "IPY_MODEL_9c41ed3e6e714be4a0be729a84c97551",
       "value": "Box Type"
      }
     },
     "c1edf989a32a4d42a29b7cb24bf0d9d0": {
      "model_module": "@jupyter-widgets/base",
      "model_module_version": "1.1.0",
      "model_name": "LayoutModel",
      "state": {}
     },
     "c210225f80bc42588204a2fe9ca34ccd": {
      "model_module": "@jupyter-widgets/controls",
      "model_module_version": "1.4.0",
      "model_name": "IntRangeSliderModel",
      "state": {
       "_model_name": "IntRangeSliderModel",
       "_view_name": "IntRangeSliderView",
       "layout": "IPY_MODEL_cf7b1f6a55cf433ca585ed93512ae0e5",
       "max": 400,
       "min": 30,
       "step": 10,
       "style": "IPY_MODEL_965fde0c9a4448f59710ab3f379c0aa1",
       "value": [
        30,
        50
       ]
      }
     },
     "c21090e70b9746bebd463ff1a3c5f234": {
      "model_module": "@jupyter-widgets/controls",
      "model_module_version": "1.4.0",
      "model_name": "CheckboxModel",
      "state": {
       "disabled": false,
       "layout": "IPY_MODEL_691b541caed3464c962e7ea3f04f8c3e",
       "style": "IPY_MODEL_2dfe03bda409430e8d1becc3c630e32a",
       "value": false
      }
     },
     "c236616f63044f92b0d48409ffb8063a": {
      "model_module": "@jupyter-widgets/controls",
      "model_module_version": "1.4.0",
      "model_name": "LabelModel",
      "state": {
       "layout": "IPY_MODEL_57a818833bb3452b8f2c01aeaac44fd8",
       "style": "IPY_MODEL_5989fa8a98354774a90bce0d6e2909e2",
       "value": "Model"
      }
     },
     "c247ac36f4134f5cbac623caef3b2a33": {
      "model_module": "@jupyter-widgets/controls",
      "model_module_version": "1.4.0",
      "model_name": "ButtonModel",
      "state": {
       "button_style": "warning",
       "description": "Remove model",
       "layout": "IPY_MODEL_75c9057799174406baac96f51d1b9294",
       "style": "IPY_MODEL_7468911169ce4d268e46ecf3381906a3"
      }
     },
     "c24ac828eaae43bf90c290b547a02999": {
      "model_module": "@jupyter-widgets/controls",
      "model_module_version": "1.4.0",
      "model_name": "DropdownModel",
      "state": {
       "_options_labels": [
        "segment",
        "covertype",
        "digits",
        "fall_detection",
        "mnist",
        "pen_digits",
        "satellite",
        "vowel"
       ],
       "description": "Dataset:",
       "index": 0,
       "layout": "IPY_MODEL_1333c8edc3f349c6b20fc9be5a3607de",
       "style": "IPY_MODEL_bc537ff53dfd4eb3897e19798f85df51"
      }
     },
     "c25530aa081a4ae7a8271dfe96eda410": {
      "model_module": "@jupyter-widgets/base",
      "model_module_version": "1.1.0",
      "model_name": "LayoutModel",
      "state": {}
     },
     "c29c4dd50b574e9ca4dd937733bb8b38": {
      "model_module": "@jupyter-widgets/base",
      "model_module_version": "1.1.0",
      "model_name": "LayoutModel",
      "state": {}
     },
     "c2bc8afa1c7845bd840a84578fbf3c8f": {
      "model_module": "@jupyter-widgets/controls",
      "model_module_version": "1.4.0",
      "model_name": "LabelModel",
      "state": {
       "layout": "IPY_MODEL_d7dc98a8c2a0480cb9a7a3a7789ab24b",
       "style": "IPY_MODEL_779b3b243da7464192017a40961254f7",
       "value": "Box Type"
      }
     },
     "c2e777eb1685471abd187b8f4f4de890": {
      "model_module": "@jupyter-widgets/controls",
      "model_module_version": "1.4.0",
      "model_name": "CheckboxModel",
      "state": {
       "disabled": false,
       "layout": "IPY_MODEL_0d8aa8d289c445eabbb64f82cb355dd6",
       "style": "IPY_MODEL_202b2b0d34544c068b313cb29506ef9d",
       "value": true
      }
     },
     "c3853b639b9440a48689123d8b9bcf18": {
      "model_module": "@jupyter-widgets/controls",
      "model_module_version": "1.4.0",
      "model_name": "DescriptionStyleModel",
      "state": {
       "description_width": ""
      }
     },
     "c39e6e06f62842c49343edf43ac58388": {
      "model_module": "@jupyter-widgets/controls",
      "model_module_version": "1.4.0",
      "model_name": "IntSliderModel",
      "state": {
       "disabled": true,
       "layout": "IPY_MODEL_894e73f06e4249b78514368ac99f71d7",
       "max": 200,
       "min": 2,
       "style": "IPY_MODEL_ca635cd9a47d4e2fb994b44d9329ba7c",
       "value": 30
      }
     },
     "c3d3788b27e94b6b8a3220cbfa0c2732": {
      "model_module": "@jupyter-widgets/base",
      "model_module_version": "1.1.0",
      "model_name": "LayoutModel",
      "state": {
       "visibility": "hidden",
       "width": "300px"
      }
     },
     "c3db1c6b7f6a451fbba38cb76e1fa4cf": {
      "model_module": "@jupyter-widgets/base",
      "model_module_version": "1.1.0",
      "model_name": "LayoutModel",
      "state": {}
     },
     "c43202e35fe248a49c6720603b40ad0f": {
      "model_module": "@jupyter-widgets/base",
      "model_module_version": "1.1.0",
      "model_name": "LayoutModel",
      "state": {}
     },
     "c488cd6f8d9c4dda9a8afc840f3883c4": {
      "model_module": "@jupyter-widgets/controls",
      "model_module_version": "1.4.0",
      "model_name": "LabelModel",
      "state": {
       "layout": "IPY_MODEL_37bced099b6e47fd84da2fd39a4246fa",
       "style": "IPY_MODEL_3f69bdb0432948938796aefee327ea9f",
       "value": "Sampler"
      }
     },
     "c4ec0925221e482a952aa5661c5f2205": {
      "model_module": "@jupyter-widgets/base",
      "model_module_version": "1.1.0",
      "model_name": "LayoutModel",
      "state": {}
     },
     "c503fc2e7e7d41209034d1f280b5d5d6": {
      "model_module": "@jupyter-widgets/controls",
      "model_module_version": "1.4.0",
      "model_name": "DescriptionStyleModel",
      "state": {
       "description_width": ""
      }
     },
     "c50765849d3341dda8fb23b77187945d": {
      "model_module": "@jupyter-widgets/output",
      "model_module_version": "1.0.0",
      "model_name": "OutputModel",
      "state": {
       "layout": "IPY_MODEL_1c34eca7e89d404cad89e4fe31df3606"
      }
     },
     "c52a74ed26814a5b827e952dd1635132": {
      "model_module": "@jupyter-widgets/base",
      "model_module_version": "1.1.0",
      "model_name": "LayoutModel",
      "state": {}
     },
     "c5742d4275604671b0af3951dba9bcec": {
      "model_module": "@jupyter-widgets/controls",
      "model_module_version": "1.4.0",
      "model_name": "LabelModel",
      "state": {
       "layout": "IPY_MODEL_5fe4474068e54db29d50030eaceecd4a",
       "style": "IPY_MODEL_876222b084374f0b8208665614662c41",
       "value": "Model"
      }
     },
     "c5855d7a293444a8a9dae59ffc6c5ec1": {
      "model_module": "@jupyter-widgets/base",
      "model_module_version": "1.1.0",
      "model_name": "LayoutModel",
      "state": {}
     },
     "c585b4f816f3467e965a1562d3ae50c1": {
      "model_module": "@jupyter-widgets/base",
      "model_module_version": "1.1.0",
      "model_name": "LayoutModel",
      "state": {}
     },
     "c5894d2e4c1e47bd8314b5d847662498": {
      "model_module": "@jupyter-widgets/controls",
      "model_module_version": "1.4.0",
      "model_name": "LabelModel",
      "state": {
       "layout": "IPY_MODEL_b4d63140723a4c34b6476f8a3510f109",
       "style": "IPY_MODEL_0c1be07ba5f646558c73822a51a38ce4",
       "value": "PCA?"
      }
     },
     "c58a81c2202d400cbc99631f437b60ef": {
      "model_module": "@jupyter-widgets/controls",
      "model_module_version": "1.4.0",
      "model_name": "RadioButtonsModel",
      "state": {
       "_options_labels": [
        "1000",
        "2000",
        "5000",
        "10000"
       ],
       "description": "Size",
       "index": 0,
       "layout": "IPY_MODEL_4db1bb2b45534412997dd3aad2192fad",
       "style": "IPY_MODEL_45d93bb9714c469a95fe01438100e681"
      }
     },
     "c5e32a4811e74b25a8519b393a9d009a": {
      "model_module": "@jupyter-widgets/base",
      "model_module_version": "1.1.0",
      "model_name": "LayoutModel",
      "state": {}
     },
     "c5f495f6c7e9424387ab6c1d6adac3f1": {
      "model_module": "@jupyter-widgets/base",
      "model_module_version": "1.1.0",
      "model_name": "LayoutModel",
      "state": {}
     },
     "c600816b07b04289a14ac7af98c3ae45": {
      "model_module": "@jupyter-widgets/base",
      "model_module_version": "1.1.0",
      "model_name": "LayoutModel",
      "state": {}
     },
     "c622a6fa8cf84ae2955245f6c7a6d4b6": {
      "model_module": "@jupyter-widgets/controls",
      "model_module_version": "1.4.0",
      "model_name": "LabelModel",
      "state": {
       "layout": "IPY_MODEL_aaeda7e291474293981621aa2fe32d12",
       "style": "IPY_MODEL_38102f6b4a324554bc50331c1d4c473d",
       "value": "Box Type"
      }
     },
     "c626dcc06c354740aedb2259bfa66902": {
      "model_module": "@jupyter-widgets/base",
      "model_module_version": "1.1.0",
      "model_name": "LayoutModel",
      "state": {
       "width": "90px"
      }
     },
     "c642f3f7672f4ba086404626214078dc": {
      "model_module": "@jupyter-widgets/controls",
      "model_module_version": "1.4.0",
      "model_name": "DescriptionStyleModel",
      "state": {
       "description_width": ""
      }
     },
     "c6557472e9594a8e94f5f690dfc546e9": {
      "model_module": "@jupyter-widgets/controls",
      "model_module_version": "1.4.0",
      "model_name": "SliderStyleModel",
      "state": {
       "description_width": ""
      }
     },
     "c67a40bb4eb249859fb98a4b5927df28": {
      "model_module": "@jupyter-widgets/base",
      "model_module_version": "1.1.0",
      "model_name": "LayoutModel",
      "state": {}
     },
     "c69d155a091842688e1ec21fcdae278d": {
      "model_module": "@jupyter-widgets/controls",
      "model_module_version": "1.4.0",
      "model_name": "DescriptionStyleModel",
      "state": {
       "description_width": ""
      }
     },
     "c6f28da7d90d4d7d9e8e05acb6034d0c": {
      "model_module": "@jupyter-widgets/base",
      "model_module_version": "1.1.0",
      "model_name": "LayoutModel",
      "state": {}
     },
     "c6fda84fbfd44e72a0a81a597e0a05cb": {
      "model_module": "@jupyter-widgets/controls",
      "model_module_version": "1.4.0",
      "model_name": "VBoxModel",
      "state": {
       "children": [
        "IPY_MODEL_c80b76f4abcd4c0eb4d8f2d54430ddac",
        "IPY_MODEL_1a7d08c8e71142ca8b17002e0473f531"
       ],
       "layout": "IPY_MODEL_3fa8f245342b4517ac7b0548ad519e6d"
      }
     },
     "c72f3d6d9eb14931a083c8d3b2a235b5": {
      "model_module": "@jupyter-widgets/controls",
      "model_module_version": "1.4.0",
      "model_name": "DescriptionStyleModel",
      "state": {
       "description_width": ""
      }
     },
     "c733a75865f748c19db4c22d5bfc053d": {
      "model_module": "@jupyter-widgets/controls",
      "model_module_version": "1.4.0",
      "model_name": "HBoxModel",
      "state": {
       "children": [
        "IPY_MODEL_8a7e0c06d1404d16b7b6c0037edeb997",
        "IPY_MODEL_cccdbb6b416245fda0eff0bd5ce38b7a",
        "IPY_MODEL_ca25c25713ee40f782ce624c773249de",
        "IPY_MODEL_143d2e5e707c40a9a458b1c4ecc3f158",
        "IPY_MODEL_30555eae62184376967846aea0bd4fdc"
       ],
       "layout": "IPY_MODEL_1347fdb761b64b85be8d65ce9b81a8e2"
      }
     },
     "c73f3bceb6bf4dc0b0aa30eaa3745301": {
      "model_module": "@jupyter-widgets/base",
      "model_module_version": "1.1.0",
      "model_name": "LayoutModel",
      "state": {}
     },
     "c75440380c454f45927bdfad1e3697c6": {
      "model_module": "@jupyter-widgets/controls",
      "model_module_version": "1.4.0",
      "model_name": "SliderStyleModel",
      "state": {
       "description_width": ""
      }
     },
     "c75799ff81e84f8b95d14ce32b76a73f": {
      "model_module": "@jupyter-widgets/base",
      "model_module_version": "1.1.0",
      "model_name": "LayoutModel",
      "state": {
       "width": "90px"
      }
     },
     "c778019c258d4d3caa7654815c9b7dbc": {
      "model_module": "@jupyter-widgets/controls",
      "model_module_version": "1.4.0",
      "model_name": "DropdownModel",
      "state": {
       "_options_labels": [
        "None",
        "rbf",
        "nystroem"
       ],
       "index": 0,
       "layout": "IPY_MODEL_e4c9e3955f8e4a08b01b33760c3ee3d2",
       "style": "IPY_MODEL_74f4267d6323430a99844ddf89d10340"
      }
     },
     "c788ffd250104a73852b2a5aaf5cae7a": {
      "model_module": "@jupyter-widgets/controls",
      "model_module_version": "1.4.0",
      "model_name": "IntSliderModel",
      "state": {
       "layout": "IPY_MODEL_82eab0f1ffb64c729a379ddcd53cb1cd",
       "max": 200,
       "min": 2,
       "style": "IPY_MODEL_97943762650f44d09d178d646fdf9de1",
       "value": 20
      }
     },
     "c7a553c8f0814acebe7c2efa3f3c1975": {
      "model_module": "@jupyter-widgets/controls",
      "model_module_version": "1.4.0",
      "model_name": "VBoxModel",
      "state": {
       "children": [
        "IPY_MODEL_8d4ad7fd77614d07b8bb11a9be946556",
        "IPY_MODEL_e8a5a332294a41b5a970c5d602bc1608",
        "IPY_MODEL_948091d6a0df44aab2513843c9a0b833",
        "IPY_MODEL_fa21d3e2cd4b4140b68ef04e1aab33e4",
        "IPY_MODEL_c210225f80bc42588204a2fe9ca34ccd",
        "IPY_MODEL_f63043b012cd4c4ea37baf560c92a78d",
        "IPY_MODEL_8cca40294e3b438399825c0796dd4846"
       ],
       "layout": "IPY_MODEL_413cae01004d4a0e80ffa6c2ffb75b77"
      }
     },
     "c7b4e223c0084ea4bcbeed4dad59a18d": {
      "model_module": "@jupyter-widgets/base",
      "model_module_version": "1.1.0",
      "model_name": "LayoutModel",
      "state": {}
     },
     "c80b76f4abcd4c0eb4d8f2d54430ddac": {
      "model_module": "@jupyter-widgets/controls",
      "model_module_version": "1.4.0",
      "model_name": "LabelModel",
      "state": {
       "layout": "IPY_MODEL_8a05d46da2594866a3c432d6bedcc7be",
       "style": "IPY_MODEL_e4a3249d14764fc38e382085020aa98f",
       "value": "PCA?"
      }
     },
     "c82bb9f6188d4894b716ecfabd2c751b": {
      "model_module": "@jupyter-widgets/controls",
      "model_module_version": "1.4.0",
      "model_name": "VBoxModel",
      "state": {
       "children": [
        "IPY_MODEL_1c6ac0ca06354362b6476cf37461ea7a",
        "IPY_MODEL_f7cd22f4b9a140ad8f942b45c91d52ae"
       ],
       "layout": "IPY_MODEL_a545b882313e460cb158ed6e7d316798"
      }
     },
     "c83c0258c2104f348e76cf4fe94eaa82": {
      "model_module": "@jupyter-widgets/controls",
      "model_module_version": "1.4.0",
      "model_name": "ButtonModel",
      "state": {
       "button_style": "info",
       "description": "Add model",
       "layout": "IPY_MODEL_d5c74e176741453fa9aae9dd8ec96a73",
       "style": "IPY_MODEL_0fe0a984398e48b69f46fa638aeb9fc6"
      }
     },
     "c84ca4d28b874c17a28aee608d75f3e6": {
      "model_module": "@jupyter-widgets/controls",
      "model_module_version": "1.4.0",
      "model_name": "DropdownModel",
      "state": {
       "_options_labels": [
        "None",
        "black",
        "grey"
       ],
       "index": 2,
       "layout": "IPY_MODEL_289eb1cfcaa9440eb2bd3a5a8ae26026",
       "style": "IPY_MODEL_a479870a02d3436aa18f6f612fa7236f"
      }
     },
     "c8dbd3c6323346a7ba1189cf7f4e0b5b": {
      "model_module": "@jupyter-widgets/controls",
      "model_module_version": "1.4.0",
      "model_name": "LabelModel",
      "state": {
       "layout": "IPY_MODEL_5a1c47c189094015bd2c325b58bcf279",
       "style": "IPY_MODEL_a692e57a12f746cabb5898edbcf8775f",
       "value": "Number Estimators"
      }
     },
     "c8f228d1157f4d7c85f809351fc201a0": {
      "model_module": "@jupyter-widgets/controls",
      "model_module_version": "1.4.0",
      "model_name": "ButtonStyleModel",
      "state": {}
     },
     "c8f76bf3b6cf4822a3c8f1aa4e11d18d": {
      "model_module": "@jupyter-widgets/controls",
      "model_module_version": "1.4.0",
      "model_name": "VBoxModel",
      "state": {
       "children": [
        "IPY_MODEL_3415977d9cbc4900a30042b419f4dada",
        "IPY_MODEL_f7e3b986c3db41728dda9ca6fc7df042",
        "IPY_MODEL_d485a5ce63c54a188bdd4e144d318cc9"
       ],
       "layout": "IPY_MODEL_e06f037277b0489a9fadb3ecdb8aefca"
      }
     },
     "c9163b26d8e34f43856944862637a9bd": {
      "model_module": "@jupyter-widgets/base",
      "model_module_version": "1.1.0",
      "model_name": "LayoutModel",
      "state": {
       "width": "90px"
      }
     },
     "c9265ac53da247158895aba51066f4be": {
      "model_module": "@jupyter-widgets/base",
      "model_module_version": "1.1.0",
      "model_name": "LayoutModel",
      "state": {}
     },
     "c963b33741044c91969b35f9d78135f1": {
      "model_module": "@jupyter-widgets/controls",
      "model_module_version": "1.4.0",
      "model_name": "DescriptionStyleModel",
      "state": {
       "description_width": ""
      }
     },
     "c972e4af7916463e8c337723103a6c3e": {
      "model_module": "@jupyter-widgets/controls",
      "model_module_version": "1.4.0",
      "model_name": "VBoxModel",
      "state": {
       "children": [
        "IPY_MODEL_0620f2a602b14eff83e6beb2aa8c7953",
        "IPY_MODEL_34a016728d214071bfeea0961465e252"
       ],
       "layout": "IPY_MODEL_3ae8880a55e746ab8b34337b488cca35"
      }
     },
     "c973e8b822154f86aec0b5ee7a1e7813": {
      "model_module": "@jupyter-widgets/controls",
      "model_module_version": "1.4.0",
      "model_name": "VBoxModel",
      "state": {
       "children": [
        "IPY_MODEL_adde03e066884e8a9b78cbd84c23e3da",
        "IPY_MODEL_6d5b6cfce3d1475cb97d63a71d55ab61"
       ],
       "layout": "IPY_MODEL_7c77a925a67d49479e6b5c18f2143079"
      }
     },
     "c9a6c48b664f4c65b1d4dc2849f594f9": {
      "model_module": "@jupyter-widgets/base",
      "model_module_version": "1.1.0",
      "model_name": "LayoutModel",
      "state": {
       "visibility": "visible"
      }
     },
     "ca05e2fcaa994ade8bfc29238450c545": {
      "model_module": "@jupyter-widgets/controls",
      "model_module_version": "1.4.0",
      "model_name": "LabelModel",
      "state": {
       "layout": "IPY_MODEL_a00f7e10a7054541b35fa197f6b231d1",
       "style": "IPY_MODEL_c72f3d6d9eb14931a083c8d3b2a235b5",
       "value": "Sampler"
      }
     },
     "ca0fd6539d7f4b10ab857f516d5ebd54": {
      "model_module": "@jupyter-widgets/base",
      "model_module_version": "1.1.0",
      "model_name": "LayoutModel",
      "state": {
       "visibility": "hidden",
       "width": "300px"
      }
     },
     "ca25c25713ee40f782ce624c773249de": {
      "model_module": "@jupyter-widgets/controls",
      "model_module_version": "1.4.0",
      "model_name": "VBoxModel",
      "state": {
       "children": [
        "IPY_MODEL_ca5ecf9fa67d4732b0c3a127517b5f7c",
        "IPY_MODEL_bd94c084b38347ceb996250719eac24c"
       ],
       "layout": "IPY_MODEL_df37a08670274f4e9338103431bfe43f"
      }
     },
     "ca5795c35f5b46ef9e85d979cc5838f7": {
      "model_module": "@jupyter-widgets/base",
      "model_module_version": "1.1.0",
      "model_name": "LayoutModel",
      "state": {}
     },
     "ca5ecf9fa67d4732b0c3a127517b5f7c": {
      "model_module": "@jupyter-widgets/controls",
      "model_module_version": "1.4.0",
      "model_name": "LabelModel",
      "state": {
       "layout": "IPY_MODEL_2afa59e6bb744c11a19dc328b38d65bb",
       "style": "IPY_MODEL_87a1e68321924597b972f0b84f977771",
       "value": "Box Type"
      }
     },
     "ca635cd9a47d4e2fb994b44d9329ba7c": {
      "model_module": "@jupyter-widgets/controls",
      "model_module_version": "1.4.0",
      "model_name": "SliderStyleModel",
      "state": {
       "description_width": ""
      }
     },
     "caa00763b92644e7a5e0797f60a00c55": {
      "model_module": "@jupyter-widgets/controls",
      "model_module_version": "1.4.0",
      "model_name": "ButtonStyleModel",
      "state": {}
     },
     "caaddcfecbeb46eea9b002ae6b945963": {
      "model_module": "@jupyter-widgets/controls",
      "model_module_version": "1.4.0",
      "model_name": "SliderStyleModel",
      "state": {
       "description_width": ""
      }
     },
     "cae3e472f07143e5bf7f3670f37d7621": {
      "model_module": "@jupyter-widgets/controls",
      "model_module_version": "1.4.0",
      "model_name": "DropdownModel",
      "state": {
       "_options_labels": [
        "segment",
        "covertype",
        "digits",
        "fall_detection",
        "mnist",
        "pen_digits",
        "satellite",
        "vowel"
       ],
       "description": "Dataset:",
       "index": 0,
       "layout": "IPY_MODEL_560a05928ab74940a4e9546153380b54",
       "style": "IPY_MODEL_dd96a7c6c0b94e37aa49d9786679c9ad"
      }
     },
     "caf0492cb14e475b8e5f699e17b966bc": {
      "model_module": "@jupyter-widgets/controls",
      "model_module_version": "1.4.0",
      "model_name": "ButtonModel",
      "state": {
       "button_style": "warning",
       "description": "Remove model",
       "layout": "IPY_MODEL_5e6367fe842743af9b609891066485ba",
       "style": "IPY_MODEL_5836a79c74c04f3f90dd8c3186386127"
      }
     },
     "cb6ae390be334a0ca9cf1fcd49554b22": {
      "model_module": "@jupyter-widgets/controls",
      "model_module_version": "1.4.0",
      "model_name": "DescriptionStyleModel",
      "state": {
       "description_width": ""
      }
     },
     "cb9eddf23a044c718442de4bb8bd9060": {
      "model_module": "@jupyter-widgets/base",
      "model_module_version": "1.1.0",
      "model_name": "LayoutModel",
      "state": {}
     },
     "cbe34176ebd44a34afec828a0e1cd7dc": {
      "model_module": "@jupyter-widgets/controls",
      "model_module_version": "1.4.0",
      "model_name": "LabelModel",
      "state": {
       "layout": "IPY_MODEL_ebd92c59713f436ca48857b48c80ea67",
       "style": "IPY_MODEL_c503fc2e7e7d41209034d1f280b5d5d6",
       "value": "Sampler"
      }
     },
     "cc06b80a074a45c6a9b0dbf6be9ad3e8": {
      "model_module": "@jupyter-widgets/controls",
      "model_module_version": "1.4.0",
      "model_name": "VBoxModel",
      "state": {
       "children": [
        "IPY_MODEL_f0b16b9cdb4440fd9bc5907dfab1f96e",
        "IPY_MODEL_030f1cc37e1e4365b666db7121d1056a"
       ],
       "layout": "IPY_MODEL_f67597f959d745ddbe78bf490642a7c8"
      }
     },
     "cc081932e28d48f19dae2a15004aa7d6": {
      "model_module": "@jupyter-widgets/base",
      "model_module_version": "1.1.0",
      "model_name": "LayoutModel",
      "state": {}
     },
     "cc382343620645789c6c79817d49f31b": {
      "model_module": "@jupyter-widgets/base",
      "model_module_version": "1.1.0",
      "model_name": "LayoutModel",
      "state": {}
     },
     "cc448de3ab1142fb8be340a66f98a354": {
      "model_module": "@jupyter-widgets/controls",
      "model_module_version": "1.4.0",
      "model_name": "DescriptionStyleModel",
      "state": {
       "description_width": ""
      }
     },
     "cc68ae3d62474281b064186a937ab351": {
      "model_module": "@jupyter-widgets/controls",
      "model_module_version": "1.4.0",
      "model_name": "DescriptionStyleModel",
      "state": {
       "description_width": ""
      }
     },
     "cc6ef03a1b8946618967e5aa749a0d8f": {
      "model_module": "@jupyter-widgets/controls",
      "model_module_version": "1.4.0",
      "model_name": "DescriptionStyleModel",
      "state": {
       "description_width": ""
      }
     },
     "cc8f5a047b3d4a91b00f1af28a97d636": {
      "model_module": "@jupyter-widgets/controls",
      "model_module_version": "1.4.0",
      "model_name": "DescriptionStyleModel",
      "state": {
       "description_width": ""
      }
     },
     "ccc09a1540764372a31e4512ceba7975": {
      "model_module": "@jupyter-widgets/controls",
      "model_module_version": "1.4.0",
      "model_name": "DropdownModel",
      "state": {
       "_options_labels": [
        "None",
        "black",
        "grey"
       ],
       "index": 0,
       "layout": "IPY_MODEL_26fd6c396fa442c1a42c575b73f4a06a",
       "style": "IPY_MODEL_6dc727a361af4ec6b593b1cb4fddf119"
      }
     },
     "cccdbb6b416245fda0eff0bd5ce38b7a": {
      "model_module": "@jupyter-widgets/controls",
      "model_module_version": "1.4.0",
      "model_name": "VBoxModel",
      "state": {
       "children": [
        "IPY_MODEL_c488cd6f8d9c4dda9a8afc840f3883c4",
        "IPY_MODEL_e2a85a74721c45fc84cef67e837f6e42"
       ],
       "layout": "IPY_MODEL_7168bb8a84094a44b07d36595ed8b62b"
      }
     },
     "ccd5f900c33d494897ff4c37c00ae247": {
      "model_module": "@jupyter-widgets/base",
      "model_module_version": "1.1.0",
      "model_name": "LayoutModel",
      "state": {}
     },
     "ccd712ca957c4209aeb498234f38d0fc": {
      "model_module": "@jupyter-widgets/controls",
      "model_module_version": "1.4.0",
      "model_name": "DescriptionStyleModel",
      "state": {
       "description_width": ""
      }
     },
     "cd0b8b73982d425587ae9eb57decff91": {
      "model_module": "@jupyter-widgets/controls",
      "model_module_version": "1.4.0",
      "model_name": "DescriptionStyleModel",
      "state": {
       "description_width": ""
      }
     },
     "cd51020898d24c54be4f37807f67234d": {
      "model_module": "@jupyter-widgets/base",
      "model_module_version": "1.1.0",
      "model_name": "LayoutModel",
      "state": {}
     },
     "cd639843b0fd4888b51013b73a2cd392": {
      "model_module": "@jupyter-widgets/base",
      "model_module_version": "1.1.0",
      "model_name": "LayoutModel",
      "state": {}
     },
     "cd718483473843ab83e814151040b078": {
      "model_module": "@jupyter-widgets/controls",
      "model_module_version": "1.4.0",
      "model_name": "DescriptionStyleModel",
      "state": {
       "description_width": ""
      }
     },
     "cd7692a2f5d0425c853f0f4c7da4bad0": {
      "model_module": "@jupyter-widgets/base",
      "model_module_version": "1.1.0",
      "model_name": "LayoutModel",
      "state": {}
     },
     "cd9b302977994b838115014e2b4eb98c": {
      "model_module": "@jupyter-widgets/controls",
      "model_module_version": "1.4.0",
      "model_name": "DropdownModel",
      "state": {
       "_options_labels": [
        "dt",
        "logit",
        "linear_svc"
       ],
       "index": 0,
       "layout": "IPY_MODEL_289eb1cfcaa9440eb2bd3a5a8ae26026",
       "style": "IPY_MODEL_0fc1a4747589466da936908c814f74c4"
      }
     },
     "cdeeec6746664590ac4af7bdd09e3cac": {
      "model_module": "@jupyter-widgets/base",
      "model_module_version": "1.1.0",
      "model_name": "LayoutModel",
      "state": {}
     },
     "cdfbe9530d984e428a92c26125c5eb87": {
      "model_module": "@jupyter-widgets/controls",
      "model_module_version": "1.4.0",
      "model_name": "DescriptionStyleModel",
      "state": {
       "description_width": ""
      }
     },
     "ce060362cff3412b94a42c19263559d4": {
      "model_module": "@jupyter-widgets/controls",
      "model_module_version": "1.4.0",
      "model_name": "DropdownModel",
      "state": {
       "_options_labels": [
        "dt",
        "logit",
        "linear_svc"
       ],
       "index": 0,
       "layout": "IPY_MODEL_e4c9e3955f8e4a08b01b33760c3ee3d2",
       "style": "IPY_MODEL_243e6bd6bb01404cacf4da75e9607fdc"
      }
     },
     "ce3fb54ceb3b41c6a3bcd4389aa534c3": {
      "model_module": "@jupyter-widgets/base",
      "model_module_version": "1.1.0",
      "model_name": "LayoutModel",
      "state": {}
     },
     "ce8330281e4e40f4a8d340414166a758": {
      "model_module": "@jupyter-widgets/controls",
      "model_module_version": "1.4.0",
      "model_name": "DropdownModel",
      "state": {
       "_options_labels": [
        "None",
        "rbf",
        "nystroem"
       ],
       "index": 1,
       "layout": "IPY_MODEL_289eb1cfcaa9440eb2bd3a5a8ae26026",
       "style": "IPY_MODEL_578cd31dfa0848218c624dbde1a16887"
      }
     },
     "ce8824261b8c4a8a8932e5ac0e720bde": {
      "model_module": "@jupyter-widgets/controls",
      "model_module_version": "1.4.0",
      "model_name": "DescriptionStyleModel",
      "state": {
       "description_width": ""
      }
     },
     "ced3fd0a10944027b602ac1e9546ff54": {
      "model_module": "@jupyter-widgets/base",
      "model_module_version": "1.1.0",
      "model_name": "LayoutModel",
      "state": {}
     },
     "ceea3d36eaf343f3a16df7410ab9399c": {
      "model_module": "@jupyter-widgets/controls",
      "model_module_version": "1.4.0",
      "model_name": "DescriptionStyleModel",
      "state": {
       "description_width": ""
      }
     },
     "cf1db0b71cd34e9288d830713d7a1555": {
      "model_module": "@jupyter-widgets/controls",
      "model_module_version": "1.4.0",
      "model_name": "DescriptionStyleModel",
      "state": {
       "description_width": ""
      }
     },
     "cf513442eae641818758a92dc52391ec": {
      "model_module": "@jupyter-widgets/controls",
      "model_module_version": "1.4.0",
      "model_name": "VBoxModel",
      "state": {
       "children": [
        "IPY_MODEL_1dff0fb982674853997eefc5431cbbec",
        "IPY_MODEL_238cb1f59f0649dbbecbd2b2a3e9c495"
       ],
       "layout": "IPY_MODEL_3d4a7b7a160f414abae9f6e0e2788556"
      }
     },
     "cf7b1f6a55cf433ca585ed93512ae0e5": {
      "model_module": "@jupyter-widgets/base",
      "model_module_version": "1.1.0",
      "model_name": "LayoutModel",
      "state": {
       "visibility": "visible"
      }
     },
     "cf83c04895924fe7bfe942230df7aad5": {
      "model_module": "@jupyter-widgets/controls",
      "model_module_version": "1.4.0",
      "model_name": "LabelModel",
      "state": {
       "layout": "IPY_MODEL_859df9a961654832a8bf53cc52125f4a",
       "style": "IPY_MODEL_5b369505aff34c8cbd6244dc4c1c48a3",
       "value": "Box Type"
      }
     },
     "cfbffecab014498598a746fd7281ed86": {
      "model_module": "@jupyter-widgets/controls",
      "model_module_version": "1.4.0",
      "model_name": "DescriptionStyleModel",
      "state": {
       "description_width": ""
      }
     },
     "d014bb0f9347459f8b1d4010e30056e3": {
      "model_module": "@jupyter-widgets/base",
      "model_module_version": "1.1.0",
      "model_name": "LayoutModel",
      "state": {
       "visibility": "hidden",
       "width": "300px"
      }
     },
     "d03bc1db0c974a8f95051b07418f1970": {
      "model_module": "@jupyter-widgets/base",
      "model_module_version": "1.1.0",
      "model_name": "LayoutModel",
      "state": {}
     },
     "d0520114c9e1450283321efbea323e76": {
      "model_module": "@jupyter-widgets/controls",
      "model_module_version": "1.4.0",
      "model_name": "VBoxModel",
      "state": {
       "children": [
        "IPY_MODEL_45dcaac1493c45f48e3dca3ac09e86a1",
        "IPY_MODEL_0f107addcc7941bb85b594a6873051bb",
        "IPY_MODEL_fc4906f182604349a81ceb543db36a0b",
        "IPY_MODEL_df57001d15b5499abdf725e0b9778f31",
        "IPY_MODEL_256aa6c1b1b944e1b1b04d91630551fb",
        "IPY_MODEL_b3a3ef9776c44ba0902d7b6c761e5642",
        "IPY_MODEL_a1de4341f73a4b53941073ec86df5578"
       ],
       "layout": "IPY_MODEL_8f9c032c92c542a09ac7eb1677ece901"
      }
     },
     "d05278b88ee8491c92d7bc2ee162cbc8": {
      "model_module": "@jupyter-widgets/controls",
      "model_module_version": "1.4.0",
      "model_name": "DescriptionStyleModel",
      "state": {
       "description_width": ""
      }
     },
     "d05bf08d61e847e48b889e80a46ac433": {
      "model_module": "@jupyter-widgets/controls",
      "model_module_version": "1.4.0",
      "model_name": "IntSliderModel",
      "state": {
       "disabled": true,
       "layout": "IPY_MODEL_5bc717831500431f851a928ecbb2d4fa",
       "max": 200,
       "min": 2,
       "style": "IPY_MODEL_00aebe2ff9ee48e68bb3787819fbfb2a",
       "value": 30
      }
     },
     "d061c873d35b4b6ab3e0a724ba16aebf": {
      "model_module": "@jupyter-widgets/controls",
      "model_module_version": "1.4.0",
      "model_name": "DropdownModel",
      "state": {
       "_options_labels": [
        "segment",
        "covertype",
        "digits",
        "fall_detection",
        "mnist",
        "pen_digits",
        "satellite",
        "vowel"
       ],
       "description": "Dataset:",
       "index": 0,
       "layout": "IPY_MODEL_7807ed70c4da48b4a0bd0d77457b1469",
       "style": "IPY_MODEL_7db15319a70f45f8ba35608926a6ec28"
      }
     },
     "d071bc2c03964921a0038d33ea4db122": {
      "model_module": "@jupyter-widgets/base",
      "model_module_version": "1.1.0",
      "model_name": "LayoutModel",
      "state": {}
     },
     "d09042b1ade344d1a8fc651e8ee06aac": {
      "model_module": "@jupyter-widgets/base",
      "model_module_version": "1.1.0",
      "model_name": "LayoutModel",
      "state": {}
     },
     "d0b95c5f6c2e4dc3a4426a35245a22c1": {
      "model_module": "@jupyter-widgets/base",
      "model_module_version": "1.1.0",
      "model_name": "LayoutModel",
      "state": {}
     },
     "d0bf8ae77bb648669e32102f99c2f08e": {
      "model_module": "@jupyter-widgets/controls",
      "model_module_version": "1.4.0",
      "model_name": "LabelModel",
      "state": {
       "layout": "IPY_MODEL_c43202e35fe248a49c6720603b40ad0f",
       "style": "IPY_MODEL_0231c49171b649018d768147ff4b0a3a",
       "value": "Model"
      }
     },
     "d0e0d8763db54296a655da18fc437ccc": {
      "model_module": "@jupyter-widgets/controls",
      "model_module_version": "1.4.0",
      "model_name": "IntSliderModel",
      "state": {
       "disabled": true,
       "layout": "IPY_MODEL_f47d01c68111419da05d10cf6d1dd17b",
       "max": 200,
       "min": 2,
       "style": "IPY_MODEL_7799a019983640aeb7fbd929e184af3b",
       "value": 30
      }
     },
     "d13e40d283794584a509b12c91c99187": {
      "model_module": "@jupyter-widgets/controls",
      "model_module_version": "1.4.0",
      "model_name": "LabelModel",
      "state": {
       "layout": "IPY_MODEL_37e5f18c4df34eb38407616b35f4b971",
       "style": "IPY_MODEL_dae1334fe877439dbb6bc7c1cbbad356",
       "value": "Model"
      }
     },
     "d14850329cb24e679a88e2664434d7a2": {
      "model_module": "@jupyter-widgets/base",
      "model_module_version": "1.1.0",
      "model_name": "LayoutModel",
      "state": {
       "visibility": "visible",
       "width": "300px"
      }
     },
     "d1d9b770d807422f9434273276264bcc": {
      "model_module": "@jupyter-widgets/controls",
      "model_module_version": "1.4.0",
      "model_name": "LabelModel",
      "state": {
       "layout": "IPY_MODEL_b4ca90a9d8a34de09b56eddb16866764",
       "style": "IPY_MODEL_bc31110cbaec4589b0d99b326b901e46",
       "value": "PCA?"
      }
     },
     "d1f168d63835475eb3ab0597cec7cf9e": {
      "model_module": "@jupyter-widgets/controls",
      "model_module_version": "1.4.0",
      "model_name": "SliderStyleModel",
      "state": {
       "description_width": ""
      }
     },
     "d1fb23316e7d43799d9d70605734836e": {
      "model_module": "@jupyter-widgets/base",
      "model_module_version": "1.1.0",
      "model_name": "LayoutModel",
      "state": {}
     },
     "d2011f0b255b48308d0aa9e514fc65f4": {
      "model_module": "@jupyter-widgets/base",
      "model_module_version": "1.1.0",
      "model_name": "LayoutModel",
      "state": {
       "width": "90px"
      }
     },
     "d26c855ffb7049bca35f7bac2aa9cffb": {
      "model_module": "@jupyter-widgets/base",
      "model_module_version": "1.1.0",
      "model_name": "LayoutModel",
      "state": {}
     },
     "d2bdd7fa973d40de802e4502a64bdd61": {
      "model_module": "@jupyter-widgets/controls",
      "model_module_version": "1.4.0",
      "model_name": "DescriptionStyleModel",
      "state": {
       "description_width": ""
      }
     },
     "d2ec99865e1f44c696ba766f65922067": {
      "model_module": "@jupyter-widgets/controls",
      "model_module_version": "1.4.0",
      "model_name": "RadioButtonsModel",
      "state": {
       "_options_labels": [
        "1000",
        "2000",
        "5000",
        "10000"
       ],
       "description": "Size",
       "index": 0,
       "layout": "IPY_MODEL_5f65a2b2de064444b0295a92e73542e3",
       "style": "IPY_MODEL_f8eb8606a31843a7aff83a73357a34be"
      }
     },
     "d31361d253c240eda4f6e27cbf7d568e": {
      "model_module": "@jupyter-widgets/base",
      "model_module_version": "1.1.0",
      "model_name": "LayoutModel",
      "state": {
       "width": "90px"
      }
     },
     "d33402e765c347b59f65727591cd9945": {
      "model_module": "@jupyter-widgets/controls",
      "model_module_version": "1.4.0",
      "model_name": "ButtonModel",
      "state": {
       "button_style": "warning",
       "description": "Remove model",
       "layout": "IPY_MODEL_c600816b07b04289a14ac7af98c3ae45",
       "style": "IPY_MODEL_5f2d74247dc7488e9b7a6a013cc9ce9c"
      }
     },
     "d416b9fc046542bc8dc4a8135ae903ea": {
      "model_module": "@jupyter-widgets/controls",
      "model_module_version": "1.4.0",
      "model_name": "ButtonStyleModel",
      "state": {}
     },
     "d42a20bc6f3b416dbbc29b1b72fc9149": {
      "model_module": "@jupyter-widgets/base",
      "model_module_version": "1.1.0",
      "model_name": "LayoutModel",
      "state": {
       "border": "3px solid black"
      }
     },
     "d4367ef911954f978fface12fb38e88b": {
      "model_module": "@jupyter-widgets/controls",
      "model_module_version": "1.4.0",
      "model_name": "VBoxModel",
      "state": {
       "children": [
        "IPY_MODEL_a24d27685fe24683acd38b1b53437779",
        "IPY_MODEL_19e1838ec09c4966ad10d6f4245c3ed7",
        "IPY_MODEL_243daf5319f64b6eb026f7e14f8ba7e0"
       ],
       "layout": "IPY_MODEL_9696869d43384d97b0b653397c78da42"
      }
     },
     "d47e6740534f4d548574357150edc4eb": {
      "model_module": "@jupyter-widgets/controls",
      "model_module_version": "1.4.0",
      "model_name": "DescriptionStyleModel",
      "state": {
       "description_width": ""
      }
     },
     "d485a5ce63c54a188bdd4e144d318cc9": {
      "model_module": "@jupyter-widgets/controls",
      "model_module_version": "1.4.0",
      "model_name": "IntSliderModel",
      "state": {
       "disabled": true,
       "layout": "IPY_MODEL_aca1e4e4d7084e46989e91f2fa4c6374",
       "max": 200,
       "min": 2,
       "style": "IPY_MODEL_fd47efb178b1407982a72f32789de0fa",
       "value": 30
      }
     },
     "d4b52c61dd4946ec8365189e76ba20a5": {
      "model_module": "@jupyter-widgets/base",
      "model_module_version": "1.1.0",
      "model_name": "LayoutModel",
      "state": {}
     },
     "d4d17b01069e488dbb139626582b9935": {
      "model_module": "@jupyter-widgets/base",
      "model_module_version": "1.1.0",
      "model_name": "LayoutModel",
      "state": {}
     },
     "d51ac766f8614b048551003c2acaacb5": {
      "model_module": "@jupyter-widgets/controls",
      "model_module_version": "1.4.0",
      "model_name": "DescriptionStyleModel",
      "state": {
       "description_width": ""
      }
     },
     "d51d22b5fa584d98b8e52a4fbfd45237": {
      "model_module": "@jupyter-widgets/base",
      "model_module_version": "1.1.0",
      "model_name": "LayoutModel",
      "state": {}
     },
     "d52a318ddaf449f19c56f2e7d8d2d363": {
      "model_module": "@jupyter-widgets/base",
      "model_module_version": "1.1.0",
      "model_name": "LayoutModel",
      "state": {}
     },
     "d536055dec904f29b5ad9e2a8b05f3e3": {
      "model_module": "@jupyter-widgets/controls",
      "model_module_version": "1.4.0",
      "model_name": "DescriptionStyleModel",
      "state": {
       "description_width": ""
      }
     },
     "d53686d443af43c3abf3d472e91d31d4": {
      "model_module": "@jupyter-widgets/base",
      "model_module_version": "1.1.0",
      "model_name": "LayoutModel",
      "state": {}
     },
     "d5520045334b4a4ebc2ba6c4c7e24efa": {
      "model_module": "@jupyter-widgets/controls",
      "model_module_version": "1.4.0",
      "model_name": "DescriptionStyleModel",
      "state": {
       "description_width": ""
      }
     },
     "d57223ff1a4b455c9272c9ac4399da92": {
      "model_module": "@jupyter-widgets/base",
      "model_module_version": "1.1.0",
      "model_name": "LayoutModel",
      "state": {}
     },
     "d5920ec5d8b841dfacdb23f0c088e6c1": {
      "model_module": "@jupyter-widgets/controls",
      "model_module_version": "1.4.0",
      "model_name": "VBoxModel",
      "state": {
       "children": [
        "IPY_MODEL_cbe34176ebd44a34afec828a0e1cd7dc",
        "IPY_MODEL_75dbaa86f5e04772a724aa37fc822ddb",
        "IPY_MODEL_39284c23e83a446e858f8b3e5f2ceec1"
       ],
       "layout": "IPY_MODEL_25490212b56e451f962c1b95c8183e60"
      }
     },
     "d5b38f928037492fb29e5641efd830a2": {
      "model_module": "@jupyter-widgets/controls",
      "model_module_version": "1.4.0",
      "model_name": "DropdownModel",
      "state": {
       "_options_labels": [
        "None",
        "black",
        "grey"
       ],
       "index": 0,
       "layout": "IPY_MODEL_1ab20a7559774e609863154e87b7896d",
       "style": "IPY_MODEL_deeffb3843974b6f9202b1773828cd20"
      }
     },
     "d5c1712509d14da887e1a7aa8c3c0235": {
      "model_module": "@jupyter-widgets/base",
      "model_module_version": "1.1.0",
      "model_name": "LayoutModel",
      "state": {}
     },
     "d5c74e176741453fa9aae9dd8ec96a73": {
      "model_module": "@jupyter-widgets/base",
      "model_module_version": "1.1.0",
      "model_name": "LayoutModel",
      "state": {}
     },
     "d63591d7ebac4673a6221b7bf14b062f": {
      "model_module": "@jupyter-widgets/controls",
      "model_module_version": "1.4.0",
      "model_name": "DescriptionStyleModel",
      "state": {
       "description_width": ""
      }
     },
     "d663762f8a2e46d58f8b67d45c3340da": {
      "model_module": "@jupyter-widgets/base",
      "model_module_version": "1.1.0",
      "model_name": "LayoutModel",
      "state": {
       "visibility": "hidden",
       "width": "300px"
      }
     },
     "d665adffceb84df6973bc74bf8ca9340": {
      "model_module": "@jupyter-widgets/controls",
      "model_module_version": "1.4.0",
      "model_name": "SliderStyleModel",
      "state": {
       "description_width": ""
      }
     },
     "d679f1470c424910b362296d6cad785b": {
      "model_module": "@jupyter-widgets/base",
      "model_module_version": "1.1.0",
      "model_name": "LayoutModel",
      "state": {}
     },
     "d68595f6e67246f4868ffaf74725f5bc": {
      "model_module": "@jupyter-widgets/base",
      "model_module_version": "1.1.0",
      "model_name": "LayoutModel",
      "state": {
       "width": "90px"
      }
     },
     "d6c7317e0b964c30b7d11ac5369c3f8c": {
      "model_module": "@jupyter-widgets/controls",
      "model_module_version": "1.4.0",
      "model_name": "DropdownModel",
      "state": {
       "_options_labels": [
        "None",
        "black",
        "grey"
       ],
       "index": 0,
       "layout": "IPY_MODEL_d31361d253c240eda4f6e27cbf7d568e",
       "style": "IPY_MODEL_81914765edca48cc9bd88cc0be82cd21"
      }
     },
     "d6f41540ce104a848b250b66ee7c70e1": {
      "model_module": "@jupyter-widgets/output",
      "model_module_version": "1.0.0",
      "model_name": "OutputModel",
      "state": {
       "layout": "IPY_MODEL_6fd4d6da6f5b476d966702dbed33ab60",
       "outputs": [
        {
         "data": {
          "text/markdown": "\n- Dataset: **segment**\n- Size: **1000**\n        ",
          "text/plain": "<IPython.core.display.Markdown object>"
         },
         "metadata": {},
         "output_type": "display_data"
        },
        {
         "data": {
          "image/png": "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\n",
          "text/plain": "<Figure size 921.6x345.6 with 2 Axes>"
         },
         "metadata": {},
         "output_type": "display_data"
        }
       ]
      }
     },
     "d6fb418cf73e46b795e29f44a5c66b7e": {
      "model_module": "@jupyter-widgets/controls",
      "model_module_version": "1.4.0",
      "model_name": "VBoxModel",
      "state": {
       "children": [
        "IPY_MODEL_2f3f2769b4214b5a8aff6a5e3649c093",
        "IPY_MODEL_7f45fae881e94ee391375cb049669fbc",
        "IPY_MODEL_769aa4d7f6c945b6adce412a171ee91f",
        "IPY_MODEL_38c2011ed70e4159b71d6baa998e82ba",
        "IPY_MODEL_770ba49db8574f4ca5eee09ea09f203f",
        "IPY_MODEL_609bcdf71b2e4c0da99af2184959ed27",
        "IPY_MODEL_e45ddd79329e4079a89f14b49458983c"
       ],
       "layout": "IPY_MODEL_b78e29ed9da64e4aa1f3ea043ad9efa7"
      }
     },
     "d6fdd3ad38c543af90c6af64e2e282f6": {
      "model_module": "@jupyter-widgets/base",
      "model_module_version": "1.1.0",
      "model_name": "LayoutModel",
      "state": {}
     },
     "d70b682a74e84e95a0299b3f3678e678": {
      "model_module": "@jupyter-widgets/base",
      "model_module_version": "1.1.0",
      "model_name": "LayoutModel",
      "state": {}
     },
     "d752d0c4d8aa475eb49f440cef8aaee5": {
      "model_module": "@jupyter-widgets/controls",
      "model_module_version": "1.4.0",
      "model_name": "IntSliderModel",
      "state": {
       "disabled": true,
       "layout": "IPY_MODEL_b3a1c043de1e443a9c78e1a517740db3",
       "max": 200,
       "min": 2,
       "style": "IPY_MODEL_b23e7566a2884e1dbf1271a414571b54",
       "value": 30
      }
     },
     "d78e9f7d0c864101ae7c4f9ad973f012": {
      "model_module": "@jupyter-widgets/output",
      "model_module_version": "1.0.0",
      "model_name": "OutputModel",
      "state": {
       "layout": "IPY_MODEL_614367102edf4356b7c15c7a221b5c18"
      }
     },
     "d7dc98a8c2a0480cb9a7a3a7789ab24b": {
      "model_module": "@jupyter-widgets/base",
      "model_module_version": "1.1.0",
      "model_name": "LayoutModel",
      "state": {}
     },
     "d7f35c94b8794559befe7d1fc2c6e740": {
      "model_module": "@jupyter-widgets/controls",
      "model_module_version": "1.4.0",
      "model_name": "VBoxModel",
      "state": {
       "children": [
        "IPY_MODEL_0b8a596cdba24fde9ebb392822625237",
        "IPY_MODEL_9344e81e8e5449308860aac677b23ec9"
       ],
       "layout": "IPY_MODEL_b82298af6a9944e589ab7a76a96b1f70"
      }
     },
     "d7fd4109fae7408b9bb886fc37fa4657": {
      "model_module": "@jupyter-widgets/base",
      "model_module_version": "1.1.0",
      "model_name": "LayoutModel",
      "state": {
       "visibility": "visible"
      }
     },
     "d828f2558eff46169329aaba1be614e1": {
      "model_module": "@jupyter-widgets/controls",
      "model_module_version": "1.4.0",
      "model_name": "VBoxModel",
      "state": {
       "children": [
        "IPY_MODEL_ea42e946561a48e0b4cb1cdfe2bb8e7e",
        "IPY_MODEL_b7c8cc5f943e42a290f8c4e2ab54b9cc",
        "IPY_MODEL_cd9b302977994b838115014e2b4eb98c",
        "IPY_MODEL_bd1fb7ab796c440ea1677cb3e8c87335",
        "IPY_MODEL_fdecaeed5aa54413858efd08c5383a88",
        "IPY_MODEL_ab2bb6991eb64acfa36b85259cd27df6"
       ],
       "layout": "IPY_MODEL_7fb2f84bbf7b4be3989f7d450a71fe51"
      }
     },
     "d856c5d2ebca4fdcafdca7a909cc9e56": {
      "model_module": "@jupyter-widgets/base",
      "model_module_version": "1.1.0",
      "model_name": "LayoutModel",
      "state": {}
     },
     "d8cf2f12fe0b4cdc9f8531873946530d": {
      "model_module": "@jupyter-widgets/base",
      "model_module_version": "1.1.0",
      "model_name": "LayoutModel",
      "state": {}
     },
     "d8eb8e01ef444cc8af15031dee4ff933": {
      "model_module": "@jupyter-widgets/controls",
      "model_module_version": "1.4.0",
      "model_name": "DescriptionStyleModel",
      "state": {
       "description_width": ""
      }
     },
     "d903b9beaa1240e08b31dafde0ca006c": {
      "model_module": "@jupyter-widgets/controls",
      "model_module_version": "1.4.0",
      "model_name": "DescriptionStyleModel",
      "state": {
       "description_width": ""
      }
     },
     "d90eae4286234d36859acfcf45c5e34a": {
      "model_module": "@jupyter-widgets/base",
      "model_module_version": "1.1.0",
      "model_name": "LayoutModel",
      "state": {
       "border": "3px solid black"
      }
     },
     "d91352fd1cbd4198b25f6c666876b60a": {
      "model_module": "@jupyter-widgets/base",
      "model_module_version": "1.1.0",
      "model_name": "LayoutModel",
      "state": {}
     },
     "d9233a237d264362a98eabec78411f69": {
      "model_module": "@jupyter-widgets/controls",
      "model_module_version": "1.4.0",
      "model_name": "DescriptionStyleModel",
      "state": {
       "description_width": ""
      }
     },
     "d93a2e6b7f2a45b8b7ddbc5d39f99b37": {
      "model_module": "@jupyter-widgets/base",
      "model_module_version": "1.1.0",
      "model_name": "LayoutModel",
      "state": {}
     },
     "d947179d2dff4cbbbf14eacf2becce67": {
      "model_module": "@jupyter-widgets/base",
      "model_module_version": "1.1.0",
      "model_name": "LayoutModel",
      "state": {}
     },
     "d95df21e91ce45a2862432a7ab260671": {
      "model_module": "@jupyter-widgets/controls",
      "model_module_version": "1.4.0",
      "model_name": "HBoxModel",
      "state": {
       "children": [
        "IPY_MODEL_d828f2558eff46169329aaba1be614e1",
        "IPY_MODEL_49ee6db18d57441684f8c156d6a2a8fb",
        "IPY_MODEL_39cb318f74d54eb4bc04fb8105837861",
        "IPY_MODEL_98eb87a818474219ac8170ed1c0a55ac",
        "IPY_MODEL_e8a3679c1417453ebb5dce32ea286fbe"
       ],
       "layout": "IPY_MODEL_2e89720237fe4437b02ece1d99f12407"
      }
     },
     "d9716ea4abfb4d2996b52d88b5d80d8f": {
      "model_module": "@jupyter-widgets/base",
      "model_module_version": "1.1.0",
      "model_name": "LayoutModel",
      "state": {}
     },
     "d97cdb3e4e934a08bbf43d8859cfae9d": {
      "model_module": "@jupyter-widgets/base",
      "model_module_version": "1.1.0",
      "model_name": "LayoutModel",
      "state": {}
     },
     "d9d6277972c44dadadbcb1c0545a804e": {
      "model_module": "@jupyter-widgets/controls",
      "model_module_version": "1.4.0",
      "model_name": "SliderStyleModel",
      "state": {
       "description_width": ""
      }
     },
     "d9e6ae3dda754215b4f29fb9c60de22c": {
      "model_module": "@jupyter-widgets/base",
      "model_module_version": "1.1.0",
      "model_name": "LayoutModel",
      "state": {
       "border": "3px solid black"
      }
     },
     "d9fd1da92ea2400db95be476f648a3ed": {
      "model_module": "@jupyter-widgets/controls",
      "model_module_version": "1.4.0",
      "model_name": "VBoxModel",
      "state": {
       "children": [
        "IPY_MODEL_94b39c9a4e0f489a92092f992f4f1744",
        "IPY_MODEL_c58a81c2202d400cbc99631f437b60ef",
        "IPY_MODEL_8153d04bd83641f9b30834e36eff15f0",
        "IPY_MODEL_760569d2597b4d70b2c382809610bd99",
        "IPY_MODEL_80b2cd38289b47b899bd5d745347c229",
        "IPY_MODEL_adf6e37a24914d7cb60fae1aab46eb09",
        "IPY_MODEL_1bbf390941cc4326bc022f73e5203493"
       ],
       "layout": "IPY_MODEL_b784225bbad143c8a455756b3bcad64a"
      }
     },
     "da020fcfb5ba41ddb42f352c54d17325": {
      "model_module": "@jupyter-widgets/base",
      "model_module_version": "1.1.0",
      "model_name": "LayoutModel",
      "state": {}
     },
     "da1443cadc3e491da42dc0376bda993a": {
      "model_module": "@jupyter-widgets/controls",
      "model_module_version": "1.4.0",
      "model_name": "ButtonStyleModel",
      "state": {}
     },
     "da473148d59f47e78115816b73740fcd": {
      "model_module": "@jupyter-widgets/controls",
      "model_module_version": "1.4.0",
      "model_name": "DropdownModel",
      "state": {
       "_options_labels": [
        "dt",
        "logit",
        "linear_svc"
       ],
       "index": 0,
       "layout": "IPY_MODEL_7449c8d4c8774a938e2edd9cc8ff9fde",
       "style": "IPY_MODEL_6ac4836600394e418c89dfb21cb818c7"
      }
     },
     "dae1334fe877439dbb6bc7c1cbbad356": {
      "model_module": "@jupyter-widgets/controls",
      "model_module_version": "1.4.0",
      "model_name": "DescriptionStyleModel",
      "state": {
       "description_width": ""
      }
     },
     "db047a3eb07547bdad6c4fd314b7249b": {
      "model_module": "@jupyter-widgets/controls",
      "model_module_version": "1.4.0",
      "model_name": "DescriptionStyleModel",
      "state": {
       "description_width": ""
      }
     },
     "db1874fa135742959739adc253d01554": {
      "model_module": "@jupyter-widgets/base",
      "model_module_version": "1.1.0",
      "model_name": "LayoutModel",
      "state": {}
     },
     "db5788f2ea9044999085122b1a028f3c": {
      "model_module": "@jupyter-widgets/base",
      "model_module_version": "1.1.0",
      "model_name": "LayoutModel",
      "state": {}
     },
     "db5ad6e35dad4c35b3f8e353cc63c6e3": {
      "model_module": "@jupyter-widgets/controls",
      "model_module_version": "1.4.0",
      "model_name": "DescriptionStyleModel",
      "state": {
       "description_width": ""
      }
     },
     "db60e63d443f41e695904d84c0c3c29c": {
      "model_module": "@jupyter-widgets/controls",
      "model_module_version": "1.4.0",
      "model_name": "IntRangeSliderModel",
      "state": {
       "_model_name": "IntRangeSliderModel",
       "_view_name": "IntRangeSliderView",
       "layout": "IPY_MODEL_c9a6c48b664f4c65b1d4dc2849f594f9",
       "max": 400,
       "min": 30,
       "step": 10,
       "style": "IPY_MODEL_659652f166ee4083a773ebd5a959ffb7",
       "value": [
        30,
        40
       ]
      }
     },
     "db6650a4fba844d9a2122ba5b1617cc0": {
      "model_module": "@jupyter-widgets/controls",
      "model_module_version": "1.4.0",
      "model_name": "DescriptionStyleModel",
      "state": {
       "description_width": ""
      }
     },
     "db74b3e608f84214b10412b95b934c08": {
      "model_module": "@jupyter-widgets/base",
      "model_module_version": "1.1.0",
      "model_name": "LayoutModel",
      "state": {
       "width": "90px"
      }
     },
     "dbdc83b6a0cd40af93aabfdf04d66200": {
      "model_module": "@jupyter-widgets/controls",
      "model_module_version": "1.4.0",
      "model_name": "DescriptionStyleModel",
      "state": {
       "description_width": ""
      }
     },
     "dbe560de02a9463b98f09829e5e27d92": {
      "model_module": "@jupyter-widgets/controls",
      "model_module_version": "1.4.0",
      "model_name": "DescriptionStyleModel",
      "state": {
       "description_width": ""
      }
     },
     "dbe9de9aaa2047a08499228d1eb5fabd": {
      "model_module": "@jupyter-widgets/controls",
      "model_module_version": "1.4.0",
      "model_name": "DescriptionStyleModel",
      "state": {
       "description_width": ""
      }
     },
     "dbfe8d51a67b486a83f1db439affa46a": {
      "model_module": "@jupyter-widgets/controls",
      "model_module_version": "1.4.0",
      "model_name": "VBoxModel",
      "state": {
       "children": [
        "IPY_MODEL_ed1def4008a341a7b1d2085c70658182",
        "IPY_MODEL_f82e4e0016c64b079493c539182d739f"
       ],
       "layout": "IPY_MODEL_b70f19f0dd654956880841ae6994a5da"
      }
     },
     "dc1e112c3a0d4ca89151ef53e69f914a": {
      "model_module": "@jupyter-widgets/base",
      "model_module_version": "1.1.0",
      "model_name": "LayoutModel",
      "state": {}
     },
     "dc5ace5677bc492d8cc22e37a2b76940": {
      "model_module": "@jupyter-widgets/controls",
      "model_module_version": "1.4.0",
      "model_name": "SliderStyleModel",
      "state": {
       "description_width": ""
      }
     },
     "dca1274c76ee41b98ec5d52ea30e2f90": {
      "model_module": "@jupyter-widgets/controls",
      "model_module_version": "1.4.0",
      "model_name": "LabelModel",
      "state": {
       "layout": "IPY_MODEL_29400eff5efb42d78f9f0f3873c3bc88",
       "style": "IPY_MODEL_ade7f441037c493e89c71d1bd3898b62",
       "value": "Box Type"
      }
     },
     "dcd634e8b0c8401e8f45118b05c41060": {
      "model_module": "@jupyter-widgets/controls",
      "model_module_version": "1.4.0",
      "model_name": "VBoxModel",
      "state": {
       "children": [
        "IPY_MODEL_a46240f05bc24dacaa19e42bdae955b2",
        "IPY_MODEL_07a711f0e12c423594b186922c4d5519",
        "IPY_MODEL_e99e04b313d042eca513baba02d902a9"
       ],
       "layout": "IPY_MODEL_20504ac79e9b488bb66afc4284482037"
      }
     },
     "dd0476ae3664492ebd36ba887e11ba17": {
      "model_module": "@jupyter-widgets/controls",
      "model_module_version": "1.4.0",
      "model_name": "DescriptionStyleModel",
      "state": {
       "description_width": ""
      }
     },
     "dd06368ecfd34fe98e1bd5ca5314d162": {
      "model_module": "@jupyter-widgets/controls",
      "model_module_version": "1.4.0",
      "model_name": "DropdownModel",
      "state": {
       "_options_labels": [
        "dt",
        "logit",
        "linear_svc"
       ],
       "index": 0,
       "layout": "IPY_MODEL_26fd6c396fa442c1a42c575b73f4a06a",
       "style": "IPY_MODEL_fae8a779418b4d9dac06e6fed5072356"
      }
     },
     "dd4039ad675147849def0199050da5eb": {
      "model_module": "@jupyter-widgets/base",
      "model_module_version": "1.1.0",
      "model_name": "LayoutModel",
      "state": {}
     },
     "dd46011af463487f9a021653d67e0ea6": {
      "model_module": "@jupyter-widgets/controls",
      "model_module_version": "1.4.0",
      "model_name": "DescriptionStyleModel",
      "state": {
       "description_width": ""
      }
     },
     "dd4cec9636144d2db69ec0e5d4246a21": {
      "model_module": "@jupyter-widgets/base",
      "model_module_version": "1.1.0",
      "model_name": "LayoutModel",
      "state": {}
     },
     "dd644bf5683d4ea79674063c15692a5b": {
      "model_module": "@jupyter-widgets/base",
      "model_module_version": "1.1.0",
      "model_name": "LayoutModel",
      "state": {}
     },
     "dd6482a4b155493f8bdc0f5824bc403b": {
      "model_module": "@jupyter-widgets/controls",
      "model_module_version": "1.4.0",
      "model_name": "DescriptionStyleModel",
      "state": {
       "description_width": ""
      }
     },
     "dd82d1c795284d4ba8dfeebd80d7fa41": {
      "model_module": "@jupyter-widgets/base",
      "model_module_version": "1.1.0",
      "model_name": "LayoutModel",
      "state": {}
     },
     "dd96a7c6c0b94e37aa49d9786679c9ad": {
      "model_module": "@jupyter-widgets/controls",
      "model_module_version": "1.4.0",
      "model_name": "DescriptionStyleModel",
      "state": {
       "description_width": ""
      }
     },
     "ddc223d488af445fb50c283d9da0c1a1": {
      "model_module": "@jupyter-widgets/base",
      "model_module_version": "1.1.0",
      "model_name": "LayoutModel",
      "state": {}
     },
     "ddee0f8b28ce4da0bc5dab352305084f": {
      "model_module": "@jupyter-widgets/controls",
      "model_module_version": "1.4.0",
      "model_name": "DescriptionStyleModel",
      "state": {
       "description_width": ""
      }
     },
     "de0780c1aadb4e26ad7b1ce34c4065ea": {
      "model_module": "@jupyter-widgets/controls",
      "model_module_version": "1.4.0",
      "model_name": "LabelModel",
      "state": {
       "layout": "IPY_MODEL_3e7654662207474d8f4a5de1a8e0c931",
       "style": "IPY_MODEL_193075be1fa843d3a7a816d72c9a0375",
       "value": "Box Type"
      }
     },
     "de1885682adb4f0fbc5df81cb57ce5f3": {
      "model_module": "@jupyter-widgets/base",
      "model_module_version": "1.1.0",
      "model_name": "LayoutModel",
      "state": {
       "width": "90px"
      }
     },
     "de46cfd112b545e29f5a5279b74fa291": {
      "model_module": "@jupyter-widgets/controls",
      "model_module_version": "1.4.0",
      "model_name": "DescriptionStyleModel",
      "state": {
       "description_width": ""
      }
     },
     "de5c9180db0a4dffb6db0a87092c6177": {
      "model_module": "@jupyter-widgets/controls",
      "model_module_version": "1.4.0",
      "model_name": "DescriptionStyleModel",
      "state": {
       "description_width": ""
      }
     },
     "de88a9367d4a45c48742e49308b3dec3": {
      "model_module": "@jupyter-widgets/base",
      "model_module_version": "1.1.0",
      "model_name": "LayoutModel",
      "state": {}
     },
     "de8a6eedcf6a4773a664166a774c3598": {
      "model_module": "@jupyter-widgets/controls",
      "model_module_version": "1.4.0",
      "model_name": "CheckboxModel",
      "state": {
       "disabled": false,
       "layout": "IPY_MODEL_00372af8d399412388e2a500073cd8c5",
       "style": "IPY_MODEL_cf1db0b71cd34e9288d830713d7a1555",
       "value": false
      }
     },
     "deb5df86f5ee4408ad544b7ee2d0ad5d": {
      "model_module": "@jupyter-widgets/controls",
      "model_module_version": "1.4.0",
      "model_name": "DropdownModel",
      "state": {
       "_options_labels": [
        "dt",
        "logit",
        "linear_svc"
       ],
       "index": 0,
       "layout": "IPY_MODEL_3be8f12a170b4f69bbdc3163a2be694a",
       "style": "IPY_MODEL_15bb9631796241dea8aa86988f48d2e6"
      }
     },
     "debb2f962f124907af6dc72dd36ff170": {
      "model_module": "@jupyter-widgets/base",
      "model_module_version": "1.1.0",
      "model_name": "LayoutModel",
      "state": {
       "width": "90px"
      }
     },
     "debe8470bf9a4aacbf9a669a96c3efa1": {
      "model_module": "@jupyter-widgets/controls",
      "model_module_version": "1.4.0",
      "model_name": "ButtonModel",
      "state": {
       "button_style": "warning",
       "description": "Remove model",
       "layout": "IPY_MODEL_11ac91dd1f174ea7a429f8f780b14b8c",
       "style": "IPY_MODEL_e1efc18d02234d8e80b21261b5ed27c5"
      }
     },
     "dee317eea16d4722b913e163b36666c4": {
      "model_module": "@jupyter-widgets/controls",
      "model_module_version": "1.4.0",
      "model_name": "ButtonStyleModel",
      "state": {}
     },
     "deeffb3843974b6f9202b1773828cd20": {
      "model_module": "@jupyter-widgets/controls",
      "model_module_version": "1.4.0",
      "model_name": "DescriptionStyleModel",
      "state": {
       "description_width": ""
      }
     },
     "def80c7bd912424aadc142f364332764": {
      "model_module": "@jupyter-widgets/base",
      "model_module_version": "1.1.0",
      "model_name": "LayoutModel",
      "state": {}
     },
     "df002bee10984fa8b5412ad4275c50a6": {
      "model_module": "@jupyter-widgets/controls",
      "model_module_version": "1.4.0",
      "model_name": "IntRangeSliderModel",
      "state": {
       "_model_name": "IntRangeSliderModel",
       "_view_name": "IntRangeSliderView",
       "disabled": true,
       "layout": "IPY_MODEL_3abc49841fe9493ebcc2d571fb778e90",
       "max": 400,
       "min": 30,
       "step": 10,
       "style": "IPY_MODEL_024b6afcec0c4ef08318572d0cee43fe",
       "value": [
        30,
        100
       ]
      }
     },
     "df23e91029a8471c91aae1222e06a89f": {
      "model_module": "@jupyter-widgets/base",
      "model_module_version": "1.1.0",
      "model_name": "LayoutModel",
      "state": {
       "visibility": "visible"
      }
     },
     "df37a08670274f4e9338103431bfe43f": {
      "model_module": "@jupyter-widgets/base",
      "model_module_version": "1.1.0",
      "model_name": "LayoutModel",
      "state": {}
     },
     "df39b6e5cdf74e9dad97866bd9526c3c": {
      "model_module": "@jupyter-widgets/base",
      "model_module_version": "1.1.0",
      "model_name": "LayoutModel",
      "state": {}
     },
     "df57001d15b5499abdf725e0b9778f31": {
      "model_module": "@jupyter-widgets/controls",
      "model_module_version": "1.4.0",
      "model_name": "ButtonModel",
      "state": {
       "button_style": "warning",
       "description": "Remove model",
       "layout": "IPY_MODEL_15b65ef0335d4a5ab329dc541efd66b9",
       "style": "IPY_MODEL_b28d4d0d768342bbb4b00ac59faf65ab"
      }
     },
     "df82967ce0fd466a88771d47780e073a": {
      "model_module": "@jupyter-widgets/controls",
      "model_module_version": "1.4.0",
      "model_name": "DropdownModel",
      "state": {
       "_options_labels": [
        "None",
        "rbf",
        "nystroem"
       ],
       "index": 0,
       "layout": "IPY_MODEL_d2011f0b255b48308d0aa9e514fc65f4",
       "style": "IPY_MODEL_b2c673b51f3f4b4a887d89896a8b68b1"
      }
     },
     "dfd97b439494429090c80051db6bdab3": {
      "model_module": "@jupyter-widgets/controls",
      "model_module_version": "1.4.0",
      "model_name": "HBoxModel",
      "state": {
       "children": [
        "IPY_MODEL_e358444544a5477087a6286b966ef615",
        "IPY_MODEL_c82bb9f6188d4894b716ecfabd2c751b",
        "IPY_MODEL_d7f35c94b8794559befe7d1fc2c6e740",
        "IPY_MODEL_62ac86217a42476c9ce3915440c92f14",
        "IPY_MODEL_445e473df3664087a8271d2f3a182e4d"
       ],
       "layout": "IPY_MODEL_d42a20bc6f3b416dbbc29b1b72fc9149"
      }
     },
     "e0422c3c09184395b9aa96833e33a494": {
      "model_module": "@jupyter-widgets/controls",
      "model_module_version": "1.4.0",
      "model_name": "ButtonStyleModel",
      "state": {}
     },
     "e044596f5d98424b96f1221c93a9b85e": {
      "model_module": "@jupyter-widgets/base",
      "model_module_version": "1.1.0",
      "model_name": "LayoutModel",
      "state": {
       "visibility": "hidden"
      }
     },
     "e06f037277b0489a9fadb3ecdb8aefca": {
      "model_module": "@jupyter-widgets/base",
      "model_module_version": "1.1.0",
      "model_name": "LayoutModel",
      "state": {}
     },
     "e0ab60b5968e460788fc8c447aa3503d": {
      "model_module": "@jupyter-widgets/controls",
      "model_module_version": "1.4.0",
      "model_name": "ButtonModel",
      "state": {
       "button_style": "info",
       "description": "Add model",
       "layout": "IPY_MODEL_9feae5ea9eda496a84dfcb5890b4380a",
       "style": "IPY_MODEL_38a48f7f84874aed96d092b10339c46b"
      }
     },
     "e0ef5520ee0d437bb2933236429e9c03": {
      "model_module": "@jupyter-widgets/base",
      "model_module_version": "1.1.0",
      "model_name": "LayoutModel",
      "state": {}
     },
     "e0f51fc1d3bc482a9437788f3218999f": {
      "model_module": "@jupyter-widgets/output",
      "model_module_version": "1.0.0",
      "model_name": "OutputModel",
      "state": {
       "layout": "IPY_MODEL_a8c882ad62b641e8adcf48d5c1ff0ee4"
      }
     },
     "e10d1ef1732141e4adbadf62ceed4cb8": {
      "model_module": "@jupyter-widgets/controls",
      "model_module_version": "1.4.0",
      "model_name": "DescriptionStyleModel",
      "state": {
       "description_width": ""
      }
     },
     "e15a2f05fcba40f6bd8b5f62165091e2": {
      "model_module": "@jupyter-widgets/controls",
      "model_module_version": "1.4.0",
      "model_name": "IntRangeSliderModel",
      "state": {
       "_model_name": "IntRangeSliderModel",
       "_view_name": "IntRangeSliderView",
       "layout": "IPY_MODEL_87e04fdf55484e308a8438b98c64d22c",
       "max": 400,
       "min": 30,
       "step": 10,
       "style": "IPY_MODEL_d9d6277972c44dadadbcb1c0545a804e",
       "value": [
        30,
        50
       ]
      }
     },
     "e197c41fe19f487787021634eeefbd9e": {
      "model_module": "@jupyter-widgets/base",
      "model_module_version": "1.1.0",
      "model_name": "LayoutModel",
      "state": {}
     },
     "e1a0f673f2744288b895b7bed2dcc4d3": {
      "model_module": "@jupyter-widgets/controls",
      "model_module_version": "1.4.0",
      "model_name": "ButtonModel",
      "state": {
       "button_style": "info",
       "description": "Add model",
       "layout": "IPY_MODEL_f53fdb0975844e90a5b050d945b6ef6e",
       "style": "IPY_MODEL_a98aaa34f0c94c94adeb9231a5a1515e"
      }
     },
     "e1d8329cda2a4452a3d717d01b5a6de1": {
      "model_module": "@jupyter-widgets/controls",
      "model_module_version": "1.4.0",
      "model_name": "DescriptionStyleModel",
      "state": {
       "description_width": ""
      }
     },
     "e1efc18d02234d8e80b21261b5ed27c5": {
      "model_module": "@jupyter-widgets/controls",
      "model_module_version": "1.4.0",
      "model_name": "ButtonStyleModel",
      "state": {}
     },
     "e2121227db4641069d598136adda9db8": {
      "model_module": "@jupyter-widgets/base",
      "model_module_version": "1.1.0",
      "model_name": "LayoutModel",
      "state": {}
     },
     "e244bea2d3ae46df96ccef19ae426a12": {
      "model_module": "@jupyter-widgets/controls",
      "model_module_version": "1.4.0",
      "model_name": "DescriptionStyleModel",
      "state": {
       "description_width": ""
      }
     },
     "e2a85a74721c45fc84cef67e837f6e42": {
      "model_module": "@jupyter-widgets/controls",
      "model_module_version": "1.4.0",
      "model_name": "DropdownModel",
      "state": {
       "_options_labels": [
        "None",
        "rbf",
        "nystroem"
       ],
       "index": 0,
       "layout": "IPY_MODEL_baf65a7a6f7049a6ab34863161007456",
       "style": "IPY_MODEL_db5ad6e35dad4c35b3f8e353cc63c6e3"
      }
     },
     "e2cfc1ce4108437aadf5e90f043bbd99": {
      "model_module": "@jupyter-widgets/controls",
      "model_module_version": "1.4.0",
      "model_name": "DescriptionStyleModel",
      "state": {
       "description_width": ""
      }
     },
     "e32c1d24f36c4a53ba4f7779450592c2": {
      "model_module": "@jupyter-widgets/controls",
      "model_module_version": "1.4.0",
      "model_name": "VBoxModel",
      "state": {
       "children": [
        "IPY_MODEL_857647ef9fe44edb96e0a6d86b7e224b",
        "IPY_MODEL_4f423ca962454d299da04b59c5412ace",
        "IPY_MODEL_ba914878eeec458a91ab3321808632f8"
       ],
       "layout": "IPY_MODEL_044cad848cf3444ab129aaccef0dcb17"
      }
     },
     "e335c24c17dd4355bfdb4a93b61d1fdf": {
      "model_module": "@jupyter-widgets/base",
      "model_module_version": "1.1.0",
      "model_name": "LayoutModel",
      "state": {}
     },
     "e33bde5e919b465d85fd91003369c732": {
      "model_module": "@jupyter-widgets/controls",
      "model_module_version": "1.4.0",
      "model_name": "LabelModel",
      "state": {
       "layout": "IPY_MODEL_b594538879de455093321029111b2429",
       "style": "IPY_MODEL_86e6f8afd2b44ed7aedf74c790c954ae",
       "value": "Model"
      }
     },
     "e358444544a5477087a6286b966ef615": {
      "model_module": "@jupyter-widgets/controls",
      "model_module_version": "1.4.0",
      "model_name": "VBoxModel",
      "state": {
       "children": [
        "IPY_MODEL_99a245bb2ee1417b8463511e2d592d89",
        "IPY_MODEL_2d72be9cb1024c8eaf0178a7e8b4ac52"
       ],
       "layout": "IPY_MODEL_7964a224796944f3b7ed0e874eeb72d3"
      }
     },
     "e3677b81cf5d477dbeefca4f9cfdd9bc": {
      "model_module": "@jupyter-widgets/base",
      "model_module_version": "1.1.0",
      "model_name": "LayoutModel",
      "state": {
       "visibility": "visible",
       "width": "300px"
      }
     },
     "e37dbdd781934bb3bf79fbd4d75d0d2f": {
      "model_module": "@jupyter-widgets/controls",
      "model_module_version": "1.4.0",
      "model_name": "IntSliderModel",
      "state": {
       "disabled": true,
       "layout": "IPY_MODEL_754b5dfe410c4dfd8663eb984ca30581",
       "max": 200,
       "min": 2,
       "style": "IPY_MODEL_4f6fcca87af245549cdb81a829166740",
       "value": 30
      }
     },
     "e39f65ae9a9843e1bee5c1e7465ec09f": {
      "model_module": "@jupyter-widgets/controls",
      "model_module_version": "1.4.0",
      "model_name": "DescriptionStyleModel",
      "state": {
       "description_width": ""
      }
     },
     "e3b345f8f11748379c564984ca828791": {
      "model_module": "@jupyter-widgets/base",
      "model_module_version": "1.1.0",
      "model_name": "LayoutModel",
      "state": {}
     },
     "e41779de0ca249f99eb6cbc3c78e147b": {
      "model_module": "@jupyter-widgets/controls",
      "model_module_version": "1.4.0",
      "model_name": "LabelModel",
      "state": {
       "layout": "IPY_MODEL_c4ec0925221e482a952aa5661c5f2205",
       "style": "IPY_MODEL_c642f3f7672f4ba086404626214078dc",
       "value": "Sampler"
      }
     },
     "e45ddd79329e4079a89f14b49458983c": {
      "model_module": "@jupyter-widgets/controls",
      "model_module_version": "1.4.0",
      "model_name": "ButtonModel",
      "state": {
       "button_style": "info",
       "description": "Demo0",
       "layout": "IPY_MODEL_4e94914d3ba745cbbace1532d388cd67",
       "style": "IPY_MODEL_9824ea650a974071b7eae4fe75ec1315"
      }
     },
     "e492424df6cf40238417d878fd83e0bf": {
      "model_module": "@jupyter-widgets/controls",
      "model_module_version": "1.4.0",
      "model_name": "DescriptionStyleModel",
      "state": {
       "description_width": ""
      }
     },
     "e49994c52fb8408cb7ed98f4f5ab745d": {
      "model_module": "@jupyter-widgets/controls",
      "model_module_version": "1.4.0",
      "model_name": "VBoxModel",
      "state": {
       "children": [
        "IPY_MODEL_620d32ac361e4e1995f9c6c4984bcddd",
        "IPY_MODEL_09f89c6dbf0e4749995294a5be2c22b5"
       ],
       "layout": "IPY_MODEL_15c7d15c9c09473fb3ecb5296348940d"
      }
     },
     "e4a3249d14764fc38e382085020aa98f": {
      "model_module": "@jupyter-widgets/controls",
      "model_module_version": "1.4.0",
      "model_name": "DescriptionStyleModel",
      "state": {
       "description_width": ""
      }
     },
     "e4c100c0d8124e23990f0f23de3f0a71": {
      "model_module": "@jupyter-widgets/controls",
      "model_module_version": "1.4.0",
      "model_name": "LabelModel",
      "state": {
       "layout": "IPY_MODEL_81c413c247c3474891c1267fc778dd91",
       "style": "IPY_MODEL_929fa50631754e02a3727bcb0e50ca10",
       "value": "Number Estimators"
      }
     },
     "e4c9e3955f8e4a08b01b33760c3ee3d2": {
      "model_module": "@jupyter-widgets/base",
      "model_module_version": "1.1.0",
      "model_name": "LayoutModel",
      "state": {
       "width": "90px"
      }
     },
     "e4cd80399c23494ca04d700687e20f38": {
      "model_module": "@jupyter-widgets/controls",
      "model_module_version": "1.4.0",
      "model_name": "VBoxModel",
      "state": {
       "children": [
        "IPY_MODEL_4dddcf2a24204e5395c3a5b50e9d4b30",
        "IPY_MODEL_96e377f94557415ca22489a0cf7bfc12",
        "IPY_MODEL_2fb338c0774e45f1a711532966336446"
       ],
       "layout": "IPY_MODEL_e2121227db4641069d598136adda9db8"
      }
     },
     "e5009d6489f44174afa8e643199ec51f": {
      "model_module": "@jupyter-widgets/output",
      "model_module_version": "1.0.0",
      "model_name": "OutputModel",
      "state": {
       "layout": "IPY_MODEL_624b78b18e2e4b70b18a4544f9cddc94",
       "outputs": [
        {
         "data": {
          "text/markdown": "\n- Dataset: **segment**\n- Size: **1000**\n        ",
          "text/plain": "<IPython.core.display.Markdown object>"
         },
         "metadata": {},
         "output_type": "display_data"
        },
        {
         "data": {
          "image/png": "iVBORw0KGgoAAAANSUhEUgAAAvkAAAFXCAYAAAA4QlF7AAAABHNCSVQICAgIfAhkiAAAAAlwSFlzAAALEgAACxIB0t1+/AAAADl0RVh0U29mdHdhcmUAbWF0cGxvdGxpYiB2ZXJzaW9uIDMuMC4wLCBodHRwOi8vbWF0cGxvdGxpYi5vcmcvqOYd8AAAH7RJREFUeJzt3X+8ZXVd7/HXmxlAfigY2HT5oUNCtwanetiEdU2dJBQrnbxCgpBws7CuPDRFb5MKV8l7Q704PSysuKKRpuAlzVEmuSn3WJRyQcoIjZqLKGCW/BAZkB8Dn/vHWkc3pzkze2bOOXvv7349H495zN5rrb33Z5/vnO/nPWutvXaqCkmSJEnt2GPUBUiSJElaWIZ8SZIkqTGGfEmSJKkxhnxJkiSpMYZ8SZIkqTGGfEmSJKkxhnxJkjR1kixLsiXJE0ddi7QYDPkae/0kPPvnkSTfGrh/ym4872eTnLqQtUqSFsdC94Kqeriq9q+qryxGvdKoLR91AdKOVNX+s7eT3Az8UlV9cnQV/VtJ9gCoqke2t2yI51leVVsXvkJJmmw72wvGZT61P2hU3JOvidcfcj07yU1Jbk/yx0kO7Nftl+SSJHcm+UaSq5M8Psn5wI8C7+73Ap0/z3M/o3/MN5Jcl+TpA+s+m+TcJFcD9wGHzLPsiUk29TX8Y5LTBp7jvCQfSHJpknuAkxbxRyVJzUryln4u/WA/n56a5Mf7efkbSf45yTuT7NlvvzxJJVnZ339/v/7PktyT5DNJjtjO6z194Ln/NskzB9ZdleQ3k3wGuBd44jzLDkvy8b4//FOSX9ze+1mMn5vaZchXC14LPAf4CeAw4CFgQ7/ul+iOWB0KHAycCTxYVWcB19DtCdq/v/8o/cT/p8AbgO8C3gj8aZLHD2x2KvBS4LHA1+ZZ9r+AG4F/B7wE2DD4nwXgRcDFwAHAn+ziz0CSBC8EPkA3n14KbAVeRTf/Px04Hnj5dh7/EuBsujn/K8BvbmujJIcDG4H/2m+7HvhwkoMGNvsF4BeBxwG3zrPsUuBLwCHAi4G3JXnWdt6PNDRDvlrwK8D6qvpqVd0PvBl4cZLQBf4nAE+uqq1VdU1V3Tvk854GfLiqPllVj1TVJuALdP+hmPXuqrqxqh4aOIz67WXAEcAPAa+vqgeq6lq6QP8LA8/x6ara1L/Gt3b1hyBJ4qqq+tjsfNrP+Vf38/9NwIXAs7bz+Muq6tp+/v5j4Ifn2e6lwMaquqJ/rU8An6f7T8Ss91TVF+f0h28vAw4HjqHrX/dX1XXAe3l0f3jU+9npn4ammufka6L1Qf5wYFOSGli1B3AQcBHwPcBlSfYH/gg4u6oeHuLpnwScnOTEgWV70u1xmXXLNh43uOwQ4OtzJucvA8fu4DkkSTvvUfNpku8Hzgd+BNiXLvdcvZ3Hf23g9n3A/vNsN9sfXjiwbE/gE/PVso1lhwC3z9nx9GXgKTt4Dmko7snXRKuqAm4Dnl1VBw78eUxV3d7vPT+nqr4feCZwIt85773me97eLXR75Qefd7+q2jCwzbaeY3DZV4EnJNlnYNkT+5q39xySpJ03dz79A+DvgSOr6nHAOUAW4HVuAd67jf7w9u3UMnfZV4GDk+w3sMz+oAVjyFcLfh84rz9HkiTfneT5/e2fSrKqv5LBN+nOz5y9msG/AN+7nee9GDgxybH9h3v36W9/z07Uthm4HnhLkr2TPJXuNKD379Q7lCTtiscCdwP3JvkBtn8+/s54H/DCJMf1/eExSX4yySE7fGSvqr4EXAv8974//DDwn7A/aIEY8tWCtwGfBK7sr0Dw18BT+3WHAh8F7qHbm7OJ73x4aQPw0iR3JXnb3Cftz998Ed05/rfTHUZ9FTvxe9MfaTgRWEV3GPhS4HVVddVOvkdJ0s47i27Hyj10e/UX5MOrVXUz3Ydizwa+Tvch3bPY+Vz1YuAouv5wGd3nt2YWokYpXQaRJEmS1Ar35EuSJEmNMeRLkiRJjTHkS5IkSY0x5EuSJEmNMeRLkiRJjRm7b7w9+OCDa+XKlaMuY1Hde++97LfffjveUCPlOI2/aRijz33uc7dX1RNGXcco2Rc0DhyjyTAN4zRsXxi7kL9y5UquvfbaUZexqGZmZli7du2oy9AOOE7jbxrGKMmXR13DqNkXNA4co8kwDeM0bF/wdB1JkiSpMYZ8SZIkqTGGfEmSJKkxhnxJkiSpMYZ8SZIkqTGGfEmSJKkxhnxJkiSpMYZ8SZIkqTGGfEmSJKkxhnxJkiSpMctHXYCk8bNy/eWjLmEoZ63eyukTUOvN5/3MqEuQJE0Z9+RLkiRJjTHkS5IkSY0x5EuSJEmNMeRLkiRJjTHkS5IkSY0x5EuSJEmNMeRLkiRJjTHkS5IkSY0x5EuSJEmNMeRLkiRJjTHkS5IkSY0x5EuSJEmNMeRLkiRJjTHkS5IkSY0x5EuSJEmNMeRLkiRJjRkq5Cc5PsmNSTYnWb+N9XsnubRff3WSlf3yPZNcnOT6JF9M8hsLW74kaRTsC5I03nYY8pMsAy4AngesAk5OsmrOZi8D7qqqI4ENwFv75ScCe1fVauBHgJfPTvSSpMlkX5Ck8TfMnvxjgM1VdVNVPQhcAqybs8064OL+9mXAsUkCFLBfkuXAPsCDwDcXpHJJ0qjYFyRpzC0fYptDgVsG7t8KPG2+bapqa5K7gYPoJvZ1wD8D+wKvrqo7575AkjOAMwBWrFjBzMzMzr2LCbNly5bm32MLpnmczlq9ddQlDGXFPpNRa4P/juwLC2ya55tJ4RhNBsfpO4YJ+bvjGOBh4BDg8cBfJvlkVd00uFFVXQhcCLBmzZpau3btIpc1WjMzM7T+HlswzeN0+vrLR13CUM5avZXzr1/saWz33XzK2lGXME7sC9swzfPNpHCMJoPj9B3DnK5zG3D4wP3D+mXb3KY/BHsAcAfwEuATVfVQVf0r8FfAmt0tWpI0UvYFSRpzw4T8a4CjkhyRZC/gJGDjnG02Aqf1t08ArqyqAr4CPBsgyX7AjwH/sBCFS5JGxr4gSWNuhyG/qrYCZwJXAF8EPlRVNyQ5N8kL+s0uAg5Kshl4DTB7ObULgP2T3EDXFN5bVX+30G9CkrR07AuSNP6GOpm1qjYBm+YsO2fg9v10l0Wb+7gt21ouSZps9gVJGm/j/4k1SZIkjczKCbkYA3QXZJiEi0fcfN7PLPprDPWNt5IkSZImhyFfkiRJaowhX5IkSWqMIV+SJElqjCFfkiRJaowhX5IkSWqMIV+SJElqjCFfkiRJaowhX5IkSWqMIV+SJElqjCFfkiRJaowhX5IkSWqMIV+SJElqjCFfkiRJaowhX5IkSWqMIV+SJElqjCFfkiRJaowhX5IkSWqMIV+SJElqjCFfkiRJaowhX5IkSWqMIV+SJElqjCFfkiRJaowhX5IkSWqMIV+SJElqjCFfkiRJaowhX5IkSWqMIV+SJElqjCFfkiRJaszyURcgSZKm18r1l4+6hKGctXorp09ArTef9zOjLkFjwj35kiRJUmMM+ZIkSVJjDPmSJElSY5o6J9/z+hbWYpzXNyljBNM9TpIkabK5J1+SJElqjCFfkiRJaowhX5IkSWqMIV+SJElqjCFfkiRJaowhX5IkSWqMIV+SJElqjCFfkiRJaowhX5IkSWqMIV+SJElqjCFfkiRJaowhX5IkSWqMIV+SJElqzFAhP8nxSW5MsjnJ+m2s3zvJpf36q5OsHFj3g0k+k+SGJNcneczClS9JWmr2BEkafzsM+UmWARcAzwNWAScnWTVns5cBd1XVkcAG4K39Y5cD7wd+paqOBtYCDy1Y9ZKkJWVPkKTJMMye/GOAzVV1U1U9CFwCrJuzzTrg4v72ZcCxSQI8B/i7qvo8QFXdUVUPL0zpkqQRsCdI0gRYPsQ2hwK3DNy/FXjafNtU1dYkdwMHAd8HVJIrgCcAl1TV2+a+QJIzgDMAVqxYwczMzE6+jc5Zq7fu0uOW2op9JqPWXR2H7ZmE9z3LcRp/0zxGI7ToPQEWri9Mii1btjT/HuczCb/DMN3zzSS871nTPE5zDRPyd/f5fwL4UeA+4FNJPldVnxrcqKouBC4EWLNmTa1du3aXXuz09ZfvVrFL5azVWzn/+sX+0e++m09Zu+DPOSljBI7TJJjmMZpQQ/UEWLi+MClmZmZo/T3Ox/lmYU1zT4DpHqe5hjld5zbg8IH7h/XLtrlNf87lAcAddHt4/qKqbq+q+4BNwFN3t2hJ0sjYEyRpAgwT8q8BjkpyRJK9gJOAjXO22Qic1t8+Abiyqgq4AlidZN9+on8W8IWFKV2SNAL2BEmaADs8ntGfT3km3eS8DHhPVd2Q5Fzg2qraCFwEvC/JZuBOukmfqroryTvomkIBm6pqco75SJIexZ4gSZNhqJOWqmoT3WHVwWXnDNy+Hzhxnse+n+6SaZKkBtgTJGn8+Y23kiRJUmMM+ZIkSVJjDPmSJElSYwz5kiRJUmMM+ZIkSVJjDPmSJElSYwz5kiRJUmMM+ZIkSVJjDPmSJElSYwz5kiRJUmMM+ZIkSVJjDPmSJElSYwz5kiRJUmMM+ZIkSVJjDPmSJElSYwz5kiRJUmMM+ZIkSVJjDPmSJElSYwz5kiRJUmMM+ZIkSVJjDPmSJElSYwz5kiRJUmMM+ZIkSVJjDPmSJElSYwz5kiRJUmMM+ZIkSVJjDPmSJElSYwz5kiRJUmMM+ZIkSVJjDPmSJElSYwz5kiRJUmMM+ZIkSVJjDPmSJElSYwz5kiRJUmMM+ZIkSVJjDPmSJElSYwz5kiRJUmMM+ZIkSVJjDPmSJElSYwz5kiRJUmMM+ZIkSVJjDPmSJElSYwz5kiRJUmMM+ZIkSVJjDPmSJElSYwz5kiRJUmMM+ZIkSVJjDPmSJElSY4YK+UmOT3Jjks1J1m9j/d5JLu3XX51k5Zz1T0yyJclrF6ZsSdIo2RckabztMOQnWQZcADwPWAWcnGTVnM1eBtxVVUcCG4C3zln/DuDPdr9cSdKo2RckafwNsyf/GGBzVd1UVQ8ClwDr5myzDri4v30ZcGySACT5OeBLwA0LU7IkacTsC5I05pYPsc2hwC0D928FnjbfNlW1NcndwEFJ7gd+HTgOmPeQbJIzgDMAVqxYwczMzLD1P8pZq7fu0uOW2op9JqPWXR2H7ZmE9z3LcRp/0zxGIzYxfWFSbNmypfn3OJ9J+B2G6Z5vJuF9z5rmcZprmJC/O94EbKiqLf0OnG2qqguBCwHWrFlTa9eu3aUXO3395bv0uKV21uqtnH/9Yv/od9/Np6xd8OeclDECx2kSTPMYTbA3sYR9YVLMzMzQ+nucj/PNwprmngDTPU5zDfNTuA04fOD+Yf2ybW1za5LlwAHAHXR7dk5I8jbgQOCRJPdX1e/uduWSpFGxL0jSmBsm5F8DHJXkCLpJ+yTgJXO22QicBnwGOAG4sqoKeMbsBkneBGxxIpekiWdfkKQxt8OQ359LeSZwBbAMeE9V3ZDkXODaqtoIXAS8L8lm4E66CV+S1CD7giSNv6FOWqqqTcCmOcvOGbh9P3DiDp7jTbtQnyRpDNkXJGm8+Y23kiRJUmMM+ZIkSVJjDPmSJElSYwz5kiRJUmMM+ZIkSVJjDPmSJElSYwz5kiRJUmMM+ZIkSVJjDPmSJElSYwz5kiRJUmMM+ZIkSVJjDPmSJElSYwz5kiRJUmMM+ZIkSVJjDPmSJElSYwz5kiRJUmMM+ZIkSVJjDPmSJElSYwz5kiRJUmMM+ZIkSVJjDPmSJElSYwz5kiRJUmMM+ZIkSVJjDPmSJElSYwz5kiRJUmMM+ZIkSVJjDPmSJElSYwz5kiRJUmMM+ZIkSVJjDPmSJElSYwz5kiRJUmMM+ZIkSVJjDPmSJElSYwz5kiRJUmMM+ZIkSVJjDPmSJElSYwz5kiRJUmMM+ZIkSVJjDPmSJElSYwz5kiRJUmMM+ZIkSVJjDPmSJElSYwz5kiRJUmMM+ZIkSVJjDPmSJElSYwz5kiRJUmMM+ZIkSVJjDPmSJElSY4YK+UmOT3Jjks1J1m9j/d5JLu3XX51kZb/8uCSfS3J9//ezF7Z8SdJSsydI0vjbYchPsgy4AHgesAo4OcmqOZu9DLirqo4ENgBv7ZffDjy/qlYDpwHvW6jCJUlLz54gSZNhmD35xwCbq+qmqnoQuARYN2ebdcDF/e3LgGOTpKr+pqq+2i+/Adgnyd4LUbgkaSTsCZI0AZYPsc2hwC0D928FnjbfNlW1NcndwEF0e21mvQi4rqoemPsCSc4AzgBYsWIFMzMzw9b/KGet3rpLj1tqK/aZjFp3dRy2ZxLe9yzHafxN8xiN0KL3BFi4vjAptmzZ0vx7nM8k/A7DdM83k/C+Z03zOM01TMjfbUmOpjtc+5xtra+qC4ELAdasWVNr167dpdc5ff3lu1jh0jpr9VbOv35JfvS75eZT1i74c07KGIHjNAmmeYwm2Y56AixcX5gUMzMztP4e5+N8s7CmuSfAdI/TXMOcrnMbcPjA/cP6ZdvcJsly4ADgjv7+YcBHgJdW1f/b3YIlSSNlT5CkCTBMyL8GOCrJEUn2Ak4CNs7ZZiPdh6gATgCurKpKciBwObC+qv5qoYqWJI2MPUGSJsAOQ35VbQXOBK4Avgh8qKpuSHJukhf0m10EHJRkM/AaYPaSamcCRwLnJPnb/s93L/i7kCQtCXuCJE2GoU5aqqpNwKY5y84ZuH0/cOI2HvcW4C27WaMkaYzYEyRp/PmNt5IkSVJjDPmSJElSYwz5kiRJUmMM+ZIkSVJjDPmSJElSYwz5kiRJUmMM+ZIkSVJjDPmSJElSYwz5kiRJUmMM+ZIkSVJjDPmSJElSYwz5kiRJUmMM+ZIkSVJjDPmSJElSYwz5kiRJUmMM+ZIkSVJjDPmSJElSYwz5kiRJUmMM+ZIkSVJjDPmSJElSYwz5kiRJUmMM+ZIkSVJjDPmSJElSYwz5kiRJUmMM+ZIkSVJjDPmSJElSYwz5kiRJUmMM+ZIkSVJjDPmSJElSYwz5kiRJUmMM+ZIkSVJjDPmSJElSYwz5kiRJUmMM+ZIkSVJjDPmSJElSYwz5kiRJUmMM+ZIkSVJjDPmSJElSYwz5kiRJUmMM+ZIkSVJjDPmSJElSYwz5kiRJUmMM+ZIkSVJjDPmSJElSYwz5kiRJUmMM+ZIkSVJjDPmSJElSYwz5kiRJUmOGCvlJjk9yY5LNSdZvY/3eSS7t11+dZOXAut/ol9+Y5LkLV7okaVTsC5I03nYY8pMsAy4AngesAk5OsmrOZi8D7qqqI4ENwFv7x64CTgKOBo4H3tU/nyRpQtkXJGn8DbMn/xhgc1XdVFUPApcA6+Zssw64uL99GXBskvTLL6mqB6rqS8Dm/vkkSZPLviBJY275ENscCtwycP9W4GnzbVNVW5PcDRzUL//snMceOvcFkpwBnNHf3ZLkxqGqn1CvhIOB20ddx47kraOuYLQcp/E3JWP0pAUqYyHZFxbeRPxbnmZTMt9MvCkZp6H6wjAhf9FV1YXAhaOuY6kkubaq1oy6Dm2f4zT+HKN22Rc0bhyjyeA4fccwp+vcBhw+cP+wftk2t0myHDgAuGPIx0qSJot9QZLG3DAh/xrgqCRHJNmL7gNTG+dssxE4rb99AnBlVVW//KT+KgtHAEcB/3dhSpckjYh9QZLG3A5P1+nPpTwTuAJYBrynqm5Ici5wbVVtBC4C3pdkM3An3YRPv92HgC8AW4FXVNXDi/ReJsnUHIKecI7T+HOMRsC+sCj8tzz+HKPJ4Dj10u1YkSRJktQKv/FWkiRJaowhX5IkSWqMIV+SJElqjCFfkiRJaowhX5IkSWqMIX+JJNl71DVIksaDPUHSYjPkL4Ek+wInJjksyWuTnD3qmrR9SfZJclJ/e02SU0ddk3ZPkvR/H5Jk/1HXo+llT5hM9oX2tN4XDPmLLMkhwP10XxhzFfALwAdGWpS2K8myqvoWcEySr9B9scbfjLgs7aaqqiQvAP4AOGR2cpeWkj1hMtkX2tR6XzDkL6IkhwJvoJvErwKuA+7o1z1mhKVpHn0D/vX+7juAB4B9q+qGfv2eo6pNuyfJjwBvBs6tqn8svwlQS8yeMJnsC+1qvS8Y8hfXV4FrgKOBnwR+HvgI8E5gNXSH/EZWnbblduCj/aR+IPB04HNJrkmSqnooyWGjLVG7aAVwbVVdk2R5kj3Ac6O1pOwJk8m+0K6m+4Ihf5H0v/hF9zN+CvArwM9V1e8AVwJnJ3kb8PF+4tCI9YdjH+z3zvwP4HXA/VV1CvAl4DNJngV8MMmTRlmrhpfkh5IcDXwT+K4ke1bV1qp6JMmPAz+dZNmIy1Tj7AmTyb7QpmnpC2nsyMRYSXIK8Frg9P7PXsBVVfXBJM8HjgQ+UVVfHFmRepQkK4GHgX8Ffg94BPgvVXVnkguAQ4GLqupjIytSOyXJO4AnV9W6JB+h25v6Ybqw9fvAL1bVp0dZo6aDPWEy2RfaMy19wZC/iJKcC9xTVW9PshfwcuDFdB/YuaSqHhxpgQK+s4ctyX8A3kQ3kb8KuAf4n3QfkntjVX09yWOr6p6BvXIaM9samyR/Qncu7bXA24E9gcOBd1XVpqWvUtPInjA57Attmda+4Ok6i+s64OlJju4P9/0OsJzu3Mt9RluaZvUT+XOBDcCf0x1Kfy1wMPDLwHcBv5Vk76q6Z/Yxo6pX29eP508keWF/OBa6Dzk+u6oeAF5dVb8KnNLKRK6JYU+YEPaFtkxrX3BP/iJKciDd+XvQnXO5D/BrwGlVddvICtO39ZfL2hu4CLi8qj6Q5EjgjXSHZ18HbAF+oKo+P7pKtSMDe972AX6c7gomjwX+EpgBLgN+uapmBrcfUbmaQvaEyWBfaMe09wX35C+iqvoGcAHwz3SXTXsl8Bon8/FRnfuBfwKekuSAqtpMdwjvOOCMfo/b51u7fm5LBibynwb+N/AXdIfW3wA8H/hZuvOff272cnctTeSaDPaEyWBfaIN9wT35SybJfnQ/7y2jrmXaDfziHwUcBHwBeCbwLODTwOXA99J9+OYw4HVV9fFR1avhJDkW+F3gV6tqJsm+VXVfum8X/UHgZcBGPxyncWBPGC/2hTZNe18w5GuqJNmjv0TWz9LtlfkisD/dJPCDwCF0E/mhdP/LfyHwtar64xGVrCEleQXwL8BngWcDrwA+VFXnz9muqcOxknaPfaFd094Xlo+6AGkp9Idb7wYqyQq6X/STquq6JL8ErAX+kO66x6uA24Cj6D5g9YKRFK2ddTfdVTC+RrfX7QLg9CQfr6obZzdqcSKXtPPsC1NhqvuC5+Sreem+ue66JL/W/yLfCWyl2ytDVb27v/+6qvpGVf11/9DfBE6oqn8cRd3aOVX1fuBU4OSq2kD3wcb9R1uVpHFkX5gO094XDPlqXn95rFOB1yd5RVU9BPwVsGrgUlofAe5Msrx/zJeB51bV34+kaO2U2Q+/VdXfVnfd6hPp9tr81uDeGkkC+8I0sC94Tr6mSJI1dNc7fiXwMeC/0V3r+OvAc4Bfr6qPDnwAq8lz9FrQj+WDVfV386x/br/+/ziOkuZjX2iHfeHfMuRrqiT5UboJ/eVVdWmSZ9F9ycl1VfWZafnFn2RJfpjuG0Jf0l/WTpJ2mX1h8tkXts0P3mqqVNU1SY4DNiU5uKouoLs82ux6J/Ix1u+peTXw4fkm8iTLq2prf4nCp1TV1UtapKSJYl+YbPaF+XlOvqZOVV1D90UY5yV5UpJlo65JQ3sIeBJwdJLHz12ZZFk/kR8IfBS4b6kLlDR57AsTzb4wD0/X0dRK8riq+uao69D8Bs6DfTLwzf7DU08G/oDuA1Tvrqp7+m1nr3V9IPAh4C1V9Rejq17SpLEvjD/7wvAM+ZpafpBqMiR5AfAbwD8ANwPvAg6g+6KaTwMXzDblJI+lm+TfOE0TuaSFYV+YDPaF4Xi6jqbW7ATuRD6+khwDvIHui2e+Bvw88HpgC/AquqtfHDTwkOOB10zbRC5pYdgXxp99YXjuyZc0dgb2ph0H3AU8ge5LaM4G/nO/7BzgX6rqW3MfN4qaJUmLx76w89yTL2lszH55CfDd/d9XVtW1wHHAq6rqz4AvAAU8ZnAiB/e+SVJr7Au7zpAvaWz0e2meB3wwyZuB30qyJ7AX8NtJfgp4LvCuqvqHUdYqSVp89oVd5+k6ksZGkqcCFwMnAmcCRwI/21/+7J3AYcDFVfXREZYpSVoi9oVd55dhSRonjwPOBw4GjgFe3E/k319Vr0yyX1XdO83nWErSlLEv7CJDvqSR2cbl6u4C/gh4AFhTVXcneQ7w4iSvqaq7YbrPsZSkltkXFo4hX9LI9BP5M4FnJPkUcDWwAfgxYE2SAt4OnD07kUuS2mVfWDieky9pyfVfM/5wkmcAvwdcCTwbeDNwI7CK7pJoXwEuraqPeShWktplX1h4hnxJSybJE6rq6/3t7wPeAfx2VX0yyX8ETgc+WFUfTLIHsEd/7qUTuSQ1yL6weLyEpqRFl86ewHlJntwvPhJYAfx8P1l/GLgIOCPJaXQ7IbaC51pKUmvsC4vPPfmSFl2SA/oPS+0LHAqcUlVvSnIs3VeS31hV7+i3fSFwS/9lJ5KkBtkXFp978iUtqiR7A9cleXVV3Uc377woyRur6lPAnwJHJnk9QFV9xIlcktplX1gaXl1H0qKqqgeSnAp8NMn9VfV7SV4EvDfJHlV1bpLlwLokR1TVl0ZcsiRpEdkXloan60haEknWAH8OvL6f0P89cCFwVVW9YfDDV5Kk9tkXFpchX9KS2caE/gPAH9Kdi7l5pMVJkpacfWHxGPIlLal+Qt8EvKWq3plk3/6cTEnSFLIvLA5DvqQll+RpwKfovtzk1qp6ZMQlSZJGyL6w8Az5kkYiyeOq6pujrkOSNB7sCwvLS2hKGpV7oPtClFEXIkkaC/aFBeSefEmSJKkx7smXJEmSGmPIlyRJkhpjyJckSZIaY8iXJEmSGmPIlyRJkhpjyJckSZIa8/8BpcEvqitqKjQAAAAASUVORK5CYII=\n",
          "text/plain": "<Figure size 921.6x345.6 with 2 Axes>"
         },
         "metadata": {},
         "output_type": "display_data"
        }
       ]
      }
     },
     "e5216dc4b84b460e8053fdd97c7e0e8f": {
      "model_module": "@jupyter-widgets/controls",
      "model_module_version": "1.4.0",
      "model_name": "DescriptionStyleModel",
      "state": {
       "description_width": ""
      }
     },
     "e5aafcfd648e4536b49f8adae1f58500": {
      "model_module": "@jupyter-widgets/controls",
      "model_module_version": "1.4.0",
      "model_name": "DescriptionStyleModel",
      "state": {
       "description_width": ""
      }
     },
     "e5ce93927a634ea7892a616c40ab29f5": {
      "model_module": "@jupyter-widgets/base",
      "model_module_version": "1.1.0",
      "model_name": "LayoutModel",
      "state": {}
     },
     "e5d80d2f27e342e2ac684327428e3655": {
      "model_module": "@jupyter-widgets/controls",
      "model_module_version": "1.4.0",
      "model_name": "DropdownModel",
      "state": {
       "_options_labels": [
        "dt",
        "logit",
        "linear_svc"
       ],
       "index": 1,
       "layout": "IPY_MODEL_ae1eb173b14d4a2ba6c893c5644dc707",
       "style": "IPY_MODEL_6894630146374814abce3688ab369970"
      }
     },
     "e5df6795048d41e1bd112db6c11d2c3f": {
      "model_module": "@jupyter-widgets/base",
      "model_module_version": "1.1.0",
      "model_name": "LayoutModel",
      "state": {}
     },
     "e5e054b848644b1c995c942ce23c4aa6": {
      "model_module": "@jupyter-widgets/controls",
      "model_module_version": "1.4.0",
      "model_name": "DropdownModel",
      "state": {
       "_options_labels": [
        "dt",
        "logit",
        "linear_svc"
       ],
       "index": 0,
       "layout": "IPY_MODEL_743f37e9553347e397905e5eb2a97bfb",
       "style": "IPY_MODEL_333f563bd9ce4f03ab84d8da3d49eb0a"
      }
     },
     "e5f18fd9428b4530a5491cd64c0062c1": {
      "model_module": "@jupyter-widgets/base",
      "model_module_version": "1.1.0",
      "model_name": "LayoutModel",
      "state": {}
     },
     "e65988aed0b44c7f8bed778d736acb66": {
      "model_module": "@jupyter-widgets/controls",
      "model_module_version": "1.4.0",
      "model_name": "DescriptionStyleModel",
      "state": {
       "description_width": ""
      }
     },
     "e6a8d030f91c4c608e998f22db09cd29": {
      "model_module": "@jupyter-widgets/controls",
      "model_module_version": "1.4.0",
      "model_name": "VBoxModel",
      "state": {
       "children": [
        "IPY_MODEL_971392fc9bac485b90f9aa696073e399",
        "IPY_MODEL_ed3e09b286414cdd806f8444627f6124",
        "IPY_MODEL_1b09bb97c5f147cc880cbf11ead9bf75"
       ],
       "layout": "IPY_MODEL_a6f28a9194c649aebd0677ccf822b0ea"
      }
     },
     "e6b35ee3146b47c093b25e135cde463f": {
      "model_module": "@jupyter-widgets/controls",
      "model_module_version": "1.4.0",
      "model_name": "VBoxModel",
      "state": {
       "children": [
        "IPY_MODEL_0941402368194dc9a5dd50c827a6f239",
        "IPY_MODEL_63c2d3dc9f304213bfb8fed63547f339"
       ],
       "layout": "IPY_MODEL_d70b682a74e84e95a0299b3f3678e678"
      }
     },
     "e6ee54a5793c468189651aab3ed9ae0f": {
      "model_module": "@jupyter-widgets/base",
      "model_module_version": "1.1.0",
      "model_name": "LayoutModel",
      "state": {}
     },
     "e704e6bb5764418b91e1643a65e75d9d": {
      "model_module": "@jupyter-widgets/base",
      "model_module_version": "1.1.0",
      "model_name": "LayoutModel",
      "state": {}
     },
     "e71382bc1a4f4eeb8feb4c93aa69cf0b": {
      "model_module": "@jupyter-widgets/controls",
      "model_module_version": "1.4.0",
      "model_name": "DropdownModel",
      "state": {
       "_options_labels": [
        "None",
        "black",
        "grey"
       ],
       "index": 0,
       "layout": "IPY_MODEL_52f24ab66dd549a7982496906e4e7a60",
       "style": "IPY_MODEL_7292be760c7d4e2cb724e271ff8f8e98"
      }
     },
     "e7435ba2f23445f5a708455735e611b4": {
      "model_module": "@jupyter-widgets/controls",
      "model_module_version": "1.4.0",
      "model_name": "VBoxModel",
      "state": {
       "children": [
        "IPY_MODEL_26f24683f3474d66bf6a90a05db916bf",
        "IPY_MODEL_3e3aef8d9fc74ed8ad75fa824030a256",
        "IPY_MODEL_4107417832b64fb7b9be1f29d601e911"
       ],
       "layout": "IPY_MODEL_d53686d443af43c3abf3d472e91d31d4"
      }
     },
     "e743ad7359d44f3fa9ff2d0c94dd336b": {
      "model_module": "@jupyter-widgets/controls",
      "model_module_version": "1.4.0",
      "model_name": "DescriptionStyleModel",
      "state": {
       "description_width": ""
      }
     },
     "e765eb6c36e048dfbd21efd583cd8f3f": {
      "model_module": "@jupyter-widgets/base",
      "model_module_version": "1.1.0",
      "model_name": "LayoutModel",
      "state": {}
     },
     "e7a0b31496bf4b8d8a4c5cded107b503": {
      "model_module": "@jupyter-widgets/base",
      "model_module_version": "1.1.0",
      "model_name": "LayoutModel",
      "state": {}
     },
     "e7c66816e45049159b6587b3c71f07cc": {
      "model_module": "@jupyter-widgets/base",
      "model_module_version": "1.1.0",
      "model_name": "LayoutModel",
      "state": {
       "width": "90px"
      }
     },
     "e7cbc99c34824e9a82264e8e059a762c": {
      "model_module": "@jupyter-widgets/controls",
      "model_module_version": "1.4.0",
      "model_name": "DropdownModel",
      "state": {
       "_options_labels": [
        "dt",
        "logit",
        "linear_svc"
       ],
       "index": 0,
       "layout": "IPY_MODEL_2cce2eda73c84264bf857d0deb2ecc1e",
       "style": "IPY_MODEL_43eef36724394907ab6e45f56c664f24"
      }
     },
     "e7d397b2893548d0aa216c3bd0526889": {
      "model_module": "@jupyter-widgets/controls",
      "model_module_version": "1.4.0",
      "model_name": "DropdownModel",
      "state": {
       "_options_labels": [
        "None",
        "black",
        "grey"
       ],
       "index": 0,
       "layout": "IPY_MODEL_0567ef9bf8f14a209b9a4108a44820db",
       "style": "IPY_MODEL_e5216dc4b84b460e8053fdd97c7e0e8f"
      }
     },
     "e8066512fecc490aa0b86875ae134560": {
      "model_module": "@jupyter-widgets/base",
      "model_module_version": "1.1.0",
      "model_name": "LayoutModel",
      "state": {}
     },
     "e81c03f76ee24c698234589058a73f61": {
      "model_module": "@jupyter-widgets/controls",
      "model_module_version": "1.4.0",
      "model_name": "VBoxModel",
      "state": {
       "children": [
        "IPY_MODEL_6bba8413872a4f059b242c2f1a0900dd",
        "IPY_MODEL_600078cfe0314c9d858eabf415cc2924",
        "IPY_MODEL_6b879af0074a4342ac02adc44441e6c7",
        "IPY_MODEL_4f83b435d27b458fb58481fdd3b2c99e",
        "IPY_MODEL_f0f3b67861f04ca19d123b62085fe6e6",
        "IPY_MODEL_5e06199abd3a4c8f95d402ca81454e3d",
        "IPY_MODEL_9308ea931eba4e4787f27d472c91bbe1"
       ],
       "layout": "IPY_MODEL_290ea05015d643d8b1b1f5752ebd6843"
      }
     },
     "e82ec4a9a41c4366830ffd8d75f2cc66": {
      "model_module": "@jupyter-widgets/base",
      "model_module_version": "1.1.0",
      "model_name": "LayoutModel",
      "state": {}
     },
     "e862db5a2f094392b7a1b68a1263ae72": {
      "model_module": "@jupyter-widgets/controls",
      "model_module_version": "1.4.0",
      "model_name": "DropdownModel",
      "state": {
       "_options_labels": [
        "segment",
        "covertype",
        "digits",
        "fall_detection",
        "mnist",
        "pen_digits",
        "satellite",
        "vowel"
       ],
       "description": "Dataset:",
       "index": 0,
       "layout": "IPY_MODEL_c1edf989a32a4d42a29b7cb24bf0d9d0",
       "style": "IPY_MODEL_8f3cfd292fa14f4e9eb5b10d789c5751"
      }
     },
     "e8a0966e2d844e46ae1b0b04ea8c3b17": {
      "model_module": "@jupyter-widgets/controls",
      "model_module_version": "1.4.0",
      "model_name": "DescriptionStyleModel",
      "state": {
       "description_width": ""
      }
     },
     "e8a3056da5cb490dbe83b442df2cb484": {
      "model_module": "@jupyter-widgets/controls",
      "model_module_version": "1.4.0",
      "model_name": "DescriptionStyleModel",
      "state": {
       "description_width": ""
      }
     },
     "e8a3679c1417453ebb5dce32ea286fbe": {
      "model_module": "@jupyter-widgets/controls",
      "model_module_version": "1.4.0",
      "model_name": "VBoxModel",
      "state": {
       "children": [
        "IPY_MODEL_7594c0e064054447ad66e25557259e86",
        "IPY_MODEL_43a1b0e4129c4052adeb3230f64ec013",
        "IPY_MODEL_244c6c3895e54661a5a7ae7ba641ec42",
        "IPY_MODEL_4968381fb6e541d5909cb6e97c34f8a1",
        "IPY_MODEL_441e5a3195614df6b143a0e41ce1e3c8",
        "IPY_MODEL_842c13b06a0b4feca1a096e43839c42b"
       ],
       "layout": "IPY_MODEL_b2e5679f985640fd828ad20ef4ad541a"
      }
     },
     "e8a5a332294a41b5a970c5d602bc1608": {
      "model_module": "@jupyter-widgets/controls",
      "model_module_version": "1.4.0",
      "model_name": "RadioButtonsModel",
      "state": {
       "_options_labels": [
        "1000",
        "2000",
        "5000",
        "10000"
       ],
       "description": "Size",
       "index": 0,
       "layout": "IPY_MODEL_765061c077a04ddc9aaf27c7eda9cbf3",
       "style": "IPY_MODEL_25e55527dc364ad2acefcb3c1ab49cda"
      }
     },
     "e8a6ac04d055436b91bb087883a935b1": {
      "model_module": "@jupyter-widgets/base",
      "model_module_version": "1.1.0",
      "model_name": "LayoutModel",
      "state": {}
     },
     "e8f2bfef290b4f0bbce749457b2924e1": {
      "model_module": "@jupyter-widgets/controls",
      "model_module_version": "1.4.0",
      "model_name": "VBoxModel",
      "state": {
       "children": [
        "IPY_MODEL_5c0ce5be5bb641fba6d8eda13fcbc82c",
        "IPY_MODEL_da473148d59f47e78115816b73740fcd"
       ],
       "layout": "IPY_MODEL_26c2714b3ddc48e58da110f4d734dd9c"
      }
     },
     "e9428834a14e49de8d60b22653daf61b": {
      "model_module": "@jupyter-widgets/base",
      "model_module_version": "1.1.0",
      "model_name": "LayoutModel",
      "state": {}
     },
     "e95cec37168c4301bcbaa2413690e558": {
      "model_module": "@jupyter-widgets/base",
      "model_module_version": "1.1.0",
      "model_name": "LayoutModel",
      "state": {}
     },
     "e975883c37a246a5b2a1d24e7690422f": {
      "model_module": "@jupyter-widgets/controls",
      "model_module_version": "1.4.0",
      "model_name": "IntSliderModel",
      "state": {
       "layout": "IPY_MODEL_7100eeb6da4a46d3bca0975bc8697479",
       "max": 200,
       "min": 2,
       "style": "IPY_MODEL_1481fd9eb7bf4830b897c15569f77892",
       "value": 10
      }
     },
     "e99e04b313d042eca513baba02d902a9": {
      "model_module": "@jupyter-widgets/controls",
      "model_module_version": "1.4.0",
      "model_name": "DropdownModel",
      "state": {
       "_options_labels": [
        "None",
        "black",
        "grey"
       ],
       "index": 0,
       "layout": "IPY_MODEL_b10b7462f6824902ac11acbd93aa6d3a",
       "style": "IPY_MODEL_54849b0bbd0345e1b458feccbc59d295"
      }
     },
     "e9bbac3633694b5384388349084347f4": {
      "model_module": "@jupyter-widgets/base",
      "model_module_version": "1.1.0",
      "model_name": "LayoutModel",
      "state": {}
     },
     "ea42e946561a48e0b4cb1cdfe2bb8e7e": {
      "model_module": "@jupyter-widgets/controls",
      "model_module_version": "1.4.0",
      "model_name": "LabelModel",
      "state": {
       "layout": "IPY_MODEL_2135cba4ffc349d1ab7eee060d4325e5",
       "style": "IPY_MODEL_075370bea5c341bda83a7bf07a96cb96",
       "value": "Model"
      }
     },
     "ea52ab00226c419f9afa10e635c8f3ae": {
      "model_module": "@jupyter-widgets/controls",
      "model_module_version": "1.4.0",
      "model_name": "LabelModel",
      "state": {
       "layout": "IPY_MODEL_da020fcfb5ba41ddb42f352c54d17325",
       "style": "IPY_MODEL_cc6ef03a1b8946618967e5aa749a0d8f",
       "value": "Sampler"
      }
     },
     "ea731734ca9e45cc920b00d916f735df": {
      "model_module": "@jupyter-widgets/base",
      "model_module_version": "1.1.0",
      "model_name": "LayoutModel",
      "state": {}
     },
     "ea8c9372934745f9a5c04bf5ac501803": {
      "model_module": "@jupyter-widgets/controls",
      "model_module_version": "1.4.0",
      "model_name": "VBoxModel",
      "state": {
       "children": [
        "IPY_MODEL_c0afb8c4cda64aec9da318705d79023a",
        "IPY_MODEL_47e8764be5f84a9ba1b574c9de2720ff"
       ],
       "layout": "IPY_MODEL_1f25b0407087470cb5b6dc55ce9e4f8e"
      }
     },
     "eadd62f98b354a47bb25a5c18d95ff78": {
      "model_module": "@jupyter-widgets/controls",
      "model_module_version": "1.4.0",
      "model_name": "ButtonModel",
      "state": {
       "button_style": "info",
       "description": "Demo0",
       "layout": "IPY_MODEL_01113054bc02494e947caad562e14b13",
       "style": "IPY_MODEL_2dddfce60f5440a185896ad200eb7fa5"
      }
     },
     "eafc6db0f3634f009430e10c79cd85ef": {
      "model_module": "@jupyter-widgets/controls",
      "model_module_version": "1.4.0",
      "model_name": "DropdownModel",
      "state": {
       "_options_labels": [
        "dt",
        "logit",
        "linear_svc"
       ],
       "index": 0,
       "layout": "IPY_MODEL_c9163b26d8e34f43856944862637a9bd",
       "style": "IPY_MODEL_3a71a664a95247c5b03d32c34bb8cd01"
      }
     },
     "eb0c7a5e46bb47039ac35dcc0675a50c": {
      "model_module": "@jupyter-widgets/base",
      "model_module_version": "1.1.0",
      "model_name": "LayoutModel",
      "state": {
       "visibility": "hidden",
       "width": "300px"
      }
     },
     "eb1a5859d2ce4e42b32cd95c1fd158e7": {
      "model_module": "@jupyter-widgets/controls",
      "model_module_version": "1.4.0",
      "model_name": "DropdownModel",
      "state": {
       "_options_labels": [
        "dt",
        "logit",
        "linear_svc"
       ],
       "index": 0,
       "layout": "IPY_MODEL_61c87b98e45a4bd6b4cec3c85d84b025",
       "style": "IPY_MODEL_17b1c6ead89043658a671b98dba12bf4"
      }
     },
     "eb5d9a05ced240219bd63c3b23b0b12b": {
      "model_module": "@jupyter-widgets/controls",
      "model_module_version": "1.4.0",
      "model_name": "ButtonModel",
      "state": {
       "button_style": "info",
       "description": "Demo0",
       "layout": "IPY_MODEL_169591001c53448999142733812532d1",
       "style": "IPY_MODEL_88253d4f8fd944fbb3580c18ce05af34"
      }
     },
     "eb6c726e33c14d0da701ccd3c0c8bbf2": {
      "model_module": "@jupyter-widgets/controls",
      "model_module_version": "1.4.0",
      "model_name": "SliderStyleModel",
      "state": {
       "description_width": ""
      }
     },
     "ebd92c59713f436ca48857b48c80ea67": {
      "model_module": "@jupyter-widgets/base",
      "model_module_version": "1.1.0",
      "model_name": "LayoutModel",
      "state": {}
     },
     "ebd9da6fd08341fcb0e8ecee055b1ddc": {
      "model_module": "@jupyter-widgets/base",
      "model_module_version": "1.1.0",
      "model_name": "LayoutModel",
      "state": {}
     },
     "ec29b68f2a6e4ffd857fada931a2e289": {
      "model_module": "@jupyter-widgets/controls",
      "model_module_version": "1.4.0",
      "model_name": "DropdownModel",
      "state": {
       "_options_labels": [
        "dt",
        "logit",
        "linear_svc"
       ],
       "index": 1,
       "layout": "IPY_MODEL_b10b7462f6824902ac11acbd93aa6d3a",
       "style": "IPY_MODEL_aa638e979b014ffdacc3a02866ee68ff"
      }
     },
     "ec3d502fec364158944fb290665f9d04": {
      "model_module": "@jupyter-widgets/base",
      "model_module_version": "1.1.0",
      "model_name": "LayoutModel",
      "state": {}
     },
     "ec451af4243b440cb6834113b5f6a6ff": {
      "model_module": "@jupyter-widgets/controls",
      "model_module_version": "1.4.0",
      "model_name": "HBoxModel",
      "state": {
       "children": [
        "IPY_MODEL_f762cd48f75643a59d63e955a75b451b",
        "IPY_MODEL_5087c1dbd1b74a5088f2e3c8557ef9fd",
        "IPY_MODEL_4412848197c44beb8c203dd9df3392ea",
        "IPY_MODEL_26c791c52b42430c823b420ae307ab75",
        "IPY_MODEL_fdb8281ff6d2457299a9f34159aca891"
       ],
       "layout": "IPY_MODEL_7687a8cd3cda403ba0382dcfbfda689b"
      }
     },
     "ec68553748fd44af98cbbc5da047793e": {
      "model_module": "@jupyter-widgets/controls",
      "model_module_version": "1.4.0",
      "model_name": "DescriptionStyleModel",
      "state": {
       "description_width": ""
      }
     },
     "ec70b19286874b43bbb9724925d5e759": {
      "model_module": "@jupyter-widgets/controls",
      "model_module_version": "1.4.0",
      "model_name": "DescriptionStyleModel",
      "state": {
       "description_width": ""
      }
     },
     "ec81c8014054432986d015711f8501e0": {
      "model_module": "@jupyter-widgets/controls",
      "model_module_version": "1.4.0",
      "model_name": "LabelModel",
      "state": {
       "layout": "IPY_MODEL_7a3f1ee3cafd4e26a972969f6ee9452a",
       "style": "IPY_MODEL_9074ba8743f14e4facf82541317b27f2",
       "value": "Number Estimators"
      }
     },
     "ec88aa22e8ba482f87e0fc4c14211706": {
      "model_module": "@jupyter-widgets/controls",
      "model_module_version": "1.4.0",
      "model_name": "ButtonModel",
      "state": {
       "button_style": "warning",
       "description": "Remove model",
       "layout": "IPY_MODEL_861d50256ab1424f8eb55c7f559d724a",
       "style": "IPY_MODEL_277de7aea3614b37a3dcf708b4e4f320"
      }
     },
     "ecaf819fd59c4881ad1b4168f4195e0c": {
      "model_module": "@jupyter-widgets/controls",
      "model_module_version": "1.4.0",
      "model_name": "DescriptionStyleModel",
      "state": {
       "description_width": ""
      }
     },
     "ecf458c556f94886ba209f7993bc8817": {
      "model_module": "@jupyter-widgets/controls",
      "model_module_version": "1.4.0",
      "model_name": "LabelModel",
      "state": {
       "layout": "IPY_MODEL_def80c7bd912424aadc142f364332764",
       "style": "IPY_MODEL_15c4d198407949899f63128068ebd3d3",
       "value": "Sampler"
      }
     },
     "ed0850778e6c43cf95116f8a12562494": {
      "model_module": "@jupyter-widgets/controls",
      "model_module_version": "1.4.0",
      "model_name": "DescriptionStyleModel",
      "state": {
       "description_width": ""
      }
     },
     "ed1def4008a341a7b1d2085c70658182": {
      "model_module": "@jupyter-widgets/controls",
      "model_module_version": "1.4.0",
      "model_name": "LabelModel",
      "state": {
       "layout": "IPY_MODEL_f377f843cc3045f79e4a1bf1edc9ea4f",
       "style": "IPY_MODEL_1f878563fa83488ba35e84f93111fd21",
       "value": "PCA?"
      }
     },
     "ed3e09b286414cdd806f8444627f6124": {
      "model_module": "@jupyter-widgets/controls",
      "model_module_version": "1.4.0",
      "model_name": "IntSliderModel",
      "state": {
       "layout": "IPY_MODEL_9ac2a8a6e73e4781b1125571c6272dd0",
       "max": 200,
       "min": 2,
       "style": "IPY_MODEL_b30455d4efb940098de73e36abf3a18a",
       "value": 9
      }
     },
     "ed4bab0629a9439fb8fa3edfc0109e80": {
      "model_module": "@jupyter-widgets/controls",
      "model_module_version": "1.4.0",
      "model_name": "ButtonStyleModel",
      "state": {}
     },
     "ed50f31627e64a19ae6ab68b076635cf": {
      "model_module": "@jupyter-widgets/output",
      "model_module_version": "1.0.0",
      "model_name": "OutputModel",
      "state": {
       "layout": "IPY_MODEL_a28afbb316f84256998f7eea5dac61d4",
       "outputs": [
        {
         "data": {
          "text/markdown": "\n- Dataset: **segment**\n- Size: **1000**\n        ",
          "text/plain": "<IPython.core.display.Markdown object>"
         },
         "metadata": {},
         "output_type": "display_data"
        },
        {
         "data": {
          "image/png": "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\n",
          "text/plain": "<Figure size 921.6x345.6 with 2 Axes>"
         },
         "metadata": {},
         "output_type": "display_data"
        }
       ]
      }
     },
     "ed67edc056de4a34b94ee49e5d46adf9": {
      "model_module": "@jupyter-widgets/base",
      "model_module_version": "1.1.0",
      "model_name": "LayoutModel",
      "state": {}
     },
     "ed6a0438e72e4a4e8b0ec615ce8b1536": {
      "model_module": "@jupyter-widgets/controls",
      "model_module_version": "1.4.0",
      "model_name": "SliderStyleModel",
      "state": {
       "description_width": ""
      }
     },
     "ed81cf03809b4b02b3f163a3264d3764": {
      "model_module": "@jupyter-widgets/base",
      "model_module_version": "1.1.0",
      "model_name": "LayoutModel",
      "state": {}
     },
     "ed97362284e04bc895a9460c447f72d4": {
      "model_module": "@jupyter-widgets/controls",
      "model_module_version": "1.4.0",
      "model_name": "VBoxModel",
      "state": {
       "children": [
        "IPY_MODEL_974710b93e56426983004910c5c271d3",
        "IPY_MODEL_fc0a885ad9d3489485ee653c6325b653"
       ],
       "layout": "IPY_MODEL_05ae4184f91940be9133f23cb5fae4de"
      }
     },
     "edffb07868be4dd5b0ef052c217a8ddb": {
      "model_module": "@jupyter-widgets/controls",
      "model_module_version": "1.4.0",
      "model_name": "DescriptionStyleModel",
      "state": {
       "description_width": ""
      }
     },
     "ee0221a35cbe4a1c8222166b0f743587": {
      "model_module": "@jupyter-widgets/base",
      "model_module_version": "1.1.0",
      "model_name": "LayoutModel",
      "state": {}
     },
     "ee067136de7e4d65877c9fb71f0c548a": {
      "model_module": "@jupyter-widgets/controls",
      "model_module_version": "1.4.0",
      "model_name": "IntSliderModel",
      "state": {
       "layout": "IPY_MODEL_f4819e2f2b514a0fb91e7ed9444dfa09",
       "max": 200,
       "min": 2,
       "style": "IPY_MODEL_caaddcfecbeb46eea9b002ae6b945963",
       "value": 10
      }
     },
     "ee2fc485e7394cd3a7762fdc1820ce5f": {
      "model_module": "@jupyter-widgets/controls",
      "model_module_version": "1.4.0",
      "model_name": "IntSliderModel",
      "state": {
       "layout": "IPY_MODEL_3a8192e0414e4452ad41a2e319fec187",
       "max": 200,
       "min": 2,
       "style": "IPY_MODEL_468fcb01924c47b3a56952c67aa5926d",
       "value": 30
      }
     },
     "ee4a196c8486488da6876d6569a03785": {
      "model_module": "@jupyter-widgets/base",
      "model_module_version": "1.1.0",
      "model_name": "LayoutModel",
      "state": {}
     },
     "ee8977a8e3a340fba722f58ea1877abc": {
      "model_module": "@jupyter-widgets/controls",
      "model_module_version": "1.4.0",
      "model_name": "DescriptionStyleModel",
      "state": {
       "description_width": ""
      }
     },
     "ee9012e00ac5497e8a604dbcdb5e1757": {
      "model_module": "@jupyter-widgets/controls",
      "model_module_version": "1.4.0",
      "model_name": "VBoxModel",
      "state": {
       "children": [
        "IPY_MODEL_08a6df6f43aa49b2b318f7fd884a804f",
        "IPY_MODEL_aadb255cc0f04099aaa524b94a095861",
        "IPY_MODEL_67fe0544a7f84058972b3ced6ee8a2f7",
        "IPY_MODEL_a451f00bd3544bacbc09e23fcf3131a1",
        "IPY_MODEL_57b22eb835dc4b849117e05021e894c3",
        "IPY_MODEL_88a033c03bcd4638b3a26335b44aaa87",
        "IPY_MODEL_0c354f4f42cd44e99c58b12500f35050"
       ],
       "layout": "IPY_MODEL_83691b8ae3f3490bae73d81209a3c729"
      }
     },
     "eeb0a3d5f4694acea66068bcd1270f07": {
      "model_module": "@jupyter-widgets/base",
      "model_module_version": "1.1.0",
      "model_name": "LayoutModel",
      "state": {}
     },
     "eee28dbef7674747b6ed991138363034": {
      "model_module": "@jupyter-widgets/controls",
      "model_module_version": "1.4.0",
      "model_name": "DescriptionStyleModel",
      "state": {
       "description_width": ""
      }
     },
     "eeeade8ea7794cf29edf7ebc78d1d9c2": {
      "model_module": "@jupyter-widgets/controls",
      "model_module_version": "1.4.0",
      "model_name": "VBoxModel",
      "state": {
       "children": [
        "IPY_MODEL_cf83c04895924fe7bfe942230df7aad5",
        "IPY_MODEL_0f78802d360b42e0a6db9df4003882b3"
       ],
       "layout": "IPY_MODEL_9cd2df84f7c24c0088c7477f31819c3e"
      }
     },
     "eeeaf1f61e45439d955dee401588193f": {
      "model_module": "@jupyter-widgets/controls",
      "model_module_version": "1.4.0",
      "model_name": "DropdownModel",
      "state": {
       "_options_labels": [
        "None",
        "rbf",
        "nystroem"
       ],
       "index": 0,
       "layout": "IPY_MODEL_743f37e9553347e397905e5eb2a97bfb",
       "style": "IPY_MODEL_1a720ce61be741c9b59659bbe150fcda"
      }
     },
     "eefce42880fe4c7fb028a975babb18bb": {
      "model_module": "@jupyter-widgets/controls",
      "model_module_version": "1.4.0",
      "model_name": "HBoxModel",
      "state": {
       "children": [
        "IPY_MODEL_a0b0437bd67341e6b3e5ed604fba5984",
        "IPY_MODEL_182efd33d2a04e408c7fb6cbca882f54",
        "IPY_MODEL_f8666367f4c84279bf796741738e23ad",
        "IPY_MODEL_1ac9622aae704215a6eb1ff51573cca9",
        "IPY_MODEL_b5a7c973a36641ee85a730679bcf7ffc"
       ],
       "layout": "IPY_MODEL_d90eae4286234d36859acfcf45c5e34a"
      }
     },
     "ef22fce8deb04a87887aa9bb4a11b19d": {
      "model_module": "@jupyter-widgets/base",
      "model_module_version": "1.1.0",
      "model_name": "LayoutModel",
      "state": {
       "visibility": "hidden",
       "width": "300px"
      }
     },
     "ef2528bc56564714952094986e24e32e": {
      "model_module": "@jupyter-widgets/controls",
      "model_module_version": "1.4.0",
      "model_name": "CheckboxModel",
      "state": {
       "disabled": false,
       "layout": "IPY_MODEL_ae7a4a7764854f1987dc4c34e321f85d",
       "style": "IPY_MODEL_926658be408042848d66e88ae6f10b7a",
       "value": false
      }
     },
     "ef3cfa72c78b4117888c66c31ceacf91": {
      "model_module": "@jupyter-widgets/controls",
      "model_module_version": "1.4.0",
      "model_name": "VBoxModel",
      "state": {
       "children": [
        "IPY_MODEL_920f4bea509a4dda83fc93eb633d0bb1",
        "IPY_MODEL_74b1e8e33da4461fa38a90d0c34fdcce",
        "IPY_MODEL_f96f548edbd8406ab56c5a49738444b3"
       ],
       "layout": "IPY_MODEL_5b60500110674fc88dfc40a868e2b190"
      }
     },
     "ef3d0cfa06eb465c91680930c546677f": {
      "model_module": "@jupyter-widgets/controls",
      "model_module_version": "1.4.0",
      "model_name": "DropdownModel",
      "state": {
       "_options_labels": [
        "None",
        "rbf",
        "nystroem"
       ],
       "index": 0,
       "layout": "IPY_MODEL_4c110e8e92bf4c7ba7b987877f6ff168",
       "style": "IPY_MODEL_509123a795b64ca4bcb5a0da040f6c25"
      }
     },
     "ef4019bfa06940d08d6b05d6b934e4f7": {
      "model_module": "@jupyter-widgets/base",
      "model_module_version": "1.1.0",
      "model_name": "LayoutModel",
      "state": {}
     },
     "ef4546533a034c8389ccdcfad5172ec9": {
      "model_module": "@jupyter-widgets/base",
      "model_module_version": "1.1.0",
      "model_name": "LayoutModel",
      "state": {
       "border": "3px solid black"
      }
     },
     "ef6255a8768b4fa885842a631f4756e7": {
      "model_module": "@jupyter-widgets/controls",
      "model_module_version": "1.4.0",
      "model_name": "CheckboxModel",
      "state": {
       "disabled": false,
       "layout": "IPY_MODEL_62f14d4e618d4c74a4d3357b70c65d29",
       "style": "IPY_MODEL_51ebbfacdd97400fbd179027cc1741c0",
       "value": false
      }
     },
     "ef7bde0239a345b39c043e117b12153e": {
      "model_module": "@jupyter-widgets/base",
      "model_module_version": "1.1.0",
      "model_name": "LayoutModel",
      "state": {
       "visibility": "hidden",
       "width": "300px"
      }
     },
     "ef9187d4adc54ccb86a8a46e3321a0f4": {
      "model_module": "@jupyter-widgets/controls",
      "model_module_version": "1.4.0",
      "model_name": "VBoxModel",
      "state": {
       "children": [
        "IPY_MODEL_1340c88f8d6545b7ac9babc3e56a600b",
        "IPY_MODEL_bbb51f022853407daf8d14063daf26c6",
        "IPY_MODEL_57555d5866c24359916b8477170457b6",
        "IPY_MODEL_747c2a2b853e424fac32ff0310741503"
       ],
       "layout": "IPY_MODEL_47d60b01763e4dcd9f68982c5980fac7"
      }
     },
     "efb451c79aa74621a9f4af262955b569": {
      "model_module": "@jupyter-widgets/controls",
      "model_module_version": "1.4.0",
      "model_name": "DropdownModel",
      "state": {
       "_options_labels": [
        "None",
        "black",
        "grey"
       ],
       "index": 0,
       "layout": "IPY_MODEL_743f37e9553347e397905e5eb2a97bfb",
       "style": "IPY_MODEL_cc448de3ab1142fb8be340a66f98a354"
      }
     },
     "efb6686eed6a4c21b0c65c83605aea9c": {
      "model_module": "@jupyter-widgets/controls",
      "model_module_version": "1.4.0",
      "model_name": "DescriptionStyleModel",
      "state": {
       "description_width": ""
      }
     },
     "efe9f4c90c8d43fba15d591bb6d96745": {
      "model_module": "@jupyter-widgets/base",
      "model_module_version": "1.1.0",
      "model_name": "LayoutModel",
      "state": {}
     },
     "f019530a91554e98926cacc94df27181": {
      "model_module": "@jupyter-widgets/controls",
      "model_module_version": "1.4.0",
      "model_name": "ButtonModel",
      "state": {
       "button_style": "info",
       "description": "Add model",
       "layout": "IPY_MODEL_bc1ce7e1f0df496eaa5c2c7bdfe9003b",
       "style": "IPY_MODEL_7485fb6a44974c1aa615b32e79f76980"
      }
     },
     "f0a56ada53bc4a469893788b56ca74a4": {
      "model_module": "@jupyter-widgets/base",
      "model_module_version": "1.1.0",
      "model_name": "LayoutModel",
      "state": {
       "border": "3px solid black"
      }
     },
     "f0b16b9cdb4440fd9bc5907dfab1f96e": {
      "model_module": "@jupyter-widgets/controls",
      "model_module_version": "1.4.0",
      "model_name": "LabelModel",
      "state": {
       "layout": "IPY_MODEL_e765eb6c36e048dfbd21efd583cd8f3f",
       "style": "IPY_MODEL_fc31c6fc92cd4ea1aa435ea8d6b773f9",
       "value": "Model"
      }
     },
     "f0c77c432f6b4b7681e1b9c695bbe732": {
      "model_module": "@jupyter-widgets/controls",
      "model_module_version": "1.4.0",
      "model_name": "DescriptionStyleModel",
      "state": {
       "description_width": ""
      }
     },
     "f0c7a6e3659e4893a7ec49e303f492b6": {
      "model_module": "@jupyter-widgets/base",
      "model_module_version": "1.1.0",
      "model_name": "LayoutModel",
      "state": {}
     },
     "f0f3b67861f04ca19d123b62085fe6e6": {
      "model_module": "@jupyter-widgets/controls",
      "model_module_version": "1.4.0",
      "model_name": "IntRangeSliderModel",
      "state": {
       "_model_name": "IntRangeSliderModel",
       "_view_name": "IntRangeSliderView",
       "layout": "IPY_MODEL_21af1d2007e8426c8b7e1eb2f4639c12",
       "max": 400,
       "min": 30,
       "step": 10,
       "style": "IPY_MODEL_10e238dcb64e4c2e94a1ab89baef2a7f",
       "value": [
        30,
        400
       ]
      }
     },
     "f0ffdac6c5d34ebb84a27dc0eec9d2ed": {
      "model_module": "@jupyter-widgets/controls",
      "model_module_version": "1.4.0",
      "model_name": "DescriptionStyleModel",
      "state": {
       "description_width": ""
      }
     },
     "f112f6689d9f4fba8cd2e9daf38e9759": {
      "model_module": "@jupyter-widgets/base",
      "model_module_version": "1.1.0",
      "model_name": "LayoutModel",
      "state": {}
     },
     "f117e9b0624844dfb32a5ffd4343279b": {
      "model_module": "@jupyter-widgets/base",
      "model_module_version": "1.1.0",
      "model_name": "LayoutModel",
      "state": {
       "border": "3px solid black"
      }
     },
     "f195f5efde0449d0a35cca4b8410301f": {
      "model_module": "@jupyter-widgets/controls",
      "model_module_version": "1.4.0",
      "model_name": "DescriptionStyleModel",
      "state": {
       "description_width": ""
      }
     },
     "f1c30b15b0194274ba5a78a1a996dd4a": {
      "model_module": "@jupyter-widgets/output",
      "model_module_version": "1.0.0",
      "model_name": "OutputModel",
      "state": {
       "layout": "IPY_MODEL_d947179d2dff4cbbbf14eacf2becce67"
      }
     },
     "f1d8bf45850e4fc2ad04cfe55d3e7cb5": {
      "model_module": "@jupyter-widgets/controls",
      "model_module_version": "1.4.0",
      "model_name": "LabelModel",
      "state": {
       "layout": "IPY_MODEL_352f8820bfe24047926742a0b7c2f9a6",
       "style": "IPY_MODEL_384b36cca9c74790a51faea124d55fd6",
       "value": "Number Estimators"
      }
     },
     "f1ddb4e1795647bb81162f56d97052d2": {
      "model_module": "@jupyter-widgets/base",
      "model_module_version": "1.1.0",
      "model_name": "LayoutModel",
      "state": {}
     },
     "f1f1443ba02748299abf379615e8e81f": {
      "model_module": "@jupyter-widgets/base",
      "model_module_version": "1.1.0",
      "model_name": "LayoutModel",
      "state": {}
     },
     "f20f2ffc527b4bbeb2b48cd794166161": {
      "model_module": "@jupyter-widgets/base",
      "model_module_version": "1.1.0",
      "model_name": "LayoutModel",
      "state": {}
     },
     "f2618354624d44cda0cebf72e0b3942d": {
      "model_module": "@jupyter-widgets/controls",
      "model_module_version": "1.4.0",
      "model_name": "ButtonStyleModel",
      "state": {}
     },
     "f278428a69cc4a0ea2106e31547c5cce": {
      "model_module": "@jupyter-widgets/controls",
      "model_module_version": "1.4.0",
      "model_name": "VBoxModel",
      "state": {
       "children": [
        "IPY_MODEL_6e4cd00eeeaf45ec851ec533faa753d3",
        "IPY_MODEL_a02c026ef63f4f2498d551624f8fb4dc"
       ],
       "layout": "IPY_MODEL_d5c1712509d14da887e1a7aa8c3c0235"
      }
     },
     "f366f869ef1e4a6d88807aef872fefb4": {
      "model_module": "@jupyter-widgets/controls",
      "model_module_version": "1.4.0",
      "model_name": "DescriptionStyleModel",
      "state": {
       "description_width": ""
      }
     },
     "f377f843cc3045f79e4a1bf1edc9ea4f": {
      "model_module": "@jupyter-widgets/base",
      "model_module_version": "1.1.0",
      "model_name": "LayoutModel",
      "state": {}
     },
     "f3aa8c2376004be8881c01c5747597c9": {
      "model_module": "@jupyter-widgets/controls",
      "model_module_version": "1.4.0",
      "model_name": "DescriptionStyleModel",
      "state": {
       "description_width": ""
      }
     },
     "f3fdd82dba894c3db3bcc3f30f4f1ec8": {
      "model_module": "@jupyter-widgets/controls",
      "model_module_version": "1.4.0",
      "model_name": "VBoxModel",
      "state": {
       "children": [
        "IPY_MODEL_d1d9b770d807422f9434273276264bcc",
        "IPY_MODEL_ef2528bc56564714952094986e24e32e"
       ],
       "layout": "IPY_MODEL_bb4113c0049c47329778b0846bac8800"
      }
     },
     "f4206dcc57694acfb65b2b922a89309a": {
      "model_module": "@jupyter-widgets/controls",
      "model_module_version": "1.4.0",
      "model_name": "DescriptionStyleModel",
      "state": {
       "description_width": ""
      }
     },
     "f43378cf57174997b19ff6fa3194c556": {
      "model_module": "@jupyter-widgets/controls",
      "model_module_version": "1.4.0",
      "model_name": "DescriptionStyleModel",
      "state": {
       "description_width": ""
      }
     },
     "f4518781879d446dabe419dedddb759c": {
      "model_module": "@jupyter-widgets/controls",
      "model_module_version": "1.4.0",
      "model_name": "DropdownModel",
      "state": {
       "_options_labels": [
        "None",
        "black",
        "grey"
       ],
       "index": 0,
       "layout": "IPY_MODEL_bb203ca00c9744028fd64d5b91340f6e",
       "style": "IPY_MODEL_466cae00f06f4ce782bf855292d2cb94"
      }
     },
     "f4552c5182d0485296efc93335208743": {
      "model_module": "@jupyter-widgets/controls",
      "model_module_version": "1.4.0",
      "model_name": "DescriptionStyleModel",
      "state": {
       "description_width": ""
      }
     },
     "f4611cdb26d24ef09940320405989ce2": {
      "model_module": "@jupyter-widgets/controls",
      "model_module_version": "1.4.0",
      "model_name": "DescriptionStyleModel",
      "state": {
       "description_width": ""
      }
     },
     "f47d01c68111419da05d10cf6d1dd17b": {
      "model_module": "@jupyter-widgets/base",
      "model_module_version": "1.1.0",
      "model_name": "LayoutModel",
      "state": {
       "visibility": "hidden",
       "width": "300px"
      }
     },
     "f4819e2f2b514a0fb91e7ed9444dfa09": {
      "model_module": "@jupyter-widgets/base",
      "model_module_version": "1.1.0",
      "model_name": "LayoutModel",
      "state": {
       "visibility": "visible",
       "width": "300px"
      }
     },
     "f4973d2eba6f48b68bc2283d89d7f6d2": {
      "model_module": "@jupyter-widgets/controls",
      "model_module_version": "1.4.0",
      "model_name": "IntRangeSliderModel",
      "state": {
       "_model_name": "IntRangeSliderModel",
       "_view_name": "IntRangeSliderView",
       "layout": "IPY_MODEL_9c69b1dbed8443d0a2900505463437a7",
       "max": 400,
       "min": 30,
       "step": 10,
       "style": "IPY_MODEL_c75440380c454f45927bdfad1e3697c6",
       "value": [
        30,
        60
       ]
      }
     },
     "f4a6e51cfef740e3b874e6220f93d43d": {
      "model_module": "@jupyter-widgets/controls",
      "model_module_version": "1.4.0",
      "model_name": "DescriptionStyleModel",
      "state": {
       "description_width": ""
      }
     },
     "f4b0922fc0a34416a3a28436c87c1460": {
      "model_module": "@jupyter-widgets/controls",
      "model_module_version": "1.4.0",
      "model_name": "ButtonModel",
      "state": {
       "button_style": "warning",
       "description": "Remove model",
       "layout": "IPY_MODEL_ed81cf03809b4b02b3f163a3264d3764",
       "style": "IPY_MODEL_fad2a91232b44605a53586630808b743"
      }
     },
     "f528ba033ed5492e94e3ac26c2f16276": {
      "model_module": "@jupyter-widgets/base",
      "model_module_version": "1.1.0",
      "model_name": "LayoutModel",
      "state": {}
     },
     "f53fdb0975844e90a5b050d945b6ef6e": {
      "model_module": "@jupyter-widgets/base",
      "model_module_version": "1.1.0",
      "model_name": "LayoutModel",
      "state": {}
     },
     "f5af52275c9142ada9c59ef5bd17de92": {
      "model_module": "@jupyter-widgets/controls",
      "model_module_version": "1.4.0",
      "model_name": "IntSliderModel",
      "state": {
       "disabled": true,
       "layout": "IPY_MODEL_bedb6cafe38c4788b341e3464d178b96",
       "max": 200,
       "min": 2,
       "style": "IPY_MODEL_43a4aacfccaf49e7a5ef6b44a6cfeeac",
       "value": 30
      }
     },
     "f5c8ffe668754078964ed9e5ecd53d73": {
      "model_module": "@jupyter-widgets/controls",
      "model_module_version": "1.4.0",
      "model_name": "DropdownModel",
      "state": {
       "_options_labels": [
        "None",
        "rbf",
        "nystroem"
       ],
       "index": 0,
       "layout": "IPY_MODEL_3be8f12a170b4f69bbdc3163a2be694a",
       "style": "IPY_MODEL_dbdc83b6a0cd40af93aabfdf04d66200"
      }
     },
     "f5ed5421240541f299d7c1e1786808c7": {
      "model_module": "@jupyter-widgets/controls",
      "model_module_version": "1.4.0",
      "model_name": "DescriptionStyleModel",
      "state": {
       "description_width": ""
      }
     },
     "f61ba8c8f5f145feb81cd8e220c74ca6": {
      "model_module": "@jupyter-widgets/controls",
      "model_module_version": "1.4.0",
      "model_name": "DropdownModel",
      "state": {
       "_options_labels": [
        "None",
        "rbf",
        "nystroem"
       ],
       "index": 2,
       "layout": "IPY_MODEL_80685696a13a44d9a8b415ab0d3bed8c",
       "style": "IPY_MODEL_9fe1180a1e9e4eccbbe6d91e10d97b6b"
      }
     },
     "f63043b012cd4c4ea37baf560c92a78d": {
      "model_module": "@jupyter-widgets/controls",
      "model_module_version": "1.4.0",
      "model_name": "HBoxModel",
      "state": {
       "children": [
        "IPY_MODEL_5d583d40fd564be7afe595ab0a835fb2",
        "IPY_MODEL_e4cd80399c23494ca04d700687e20f38",
        "IPY_MODEL_bd7705eca57b4984aace7a2295b1e180",
        "IPY_MODEL_ef3cfa72c78b4117888c66c31ceacf91",
        "IPY_MODEL_a1b2a3bc18eb47d2a45b9fef077f6d89"
       ],
       "layout": "IPY_MODEL_45d0f9ea41e74abe8086c25c4c5186f8"
      }
     },
     "f64d758a659440439e68b5079ea3a9af": {
      "model_module": "@jupyter-widgets/base",
      "model_module_version": "1.1.0",
      "model_name": "LayoutModel",
      "state": {
       "border": "3px solid black"
      }
     },
     "f67597f959d745ddbe78bf490642a7c8": {
      "model_module": "@jupyter-widgets/base",
      "model_module_version": "1.1.0",
      "model_name": "LayoutModel",
      "state": {}
     },
     "f6da116b676544f7b4b3b3342a187d23": {
      "model_module": "@jupyter-widgets/controls",
      "model_module_version": "1.4.0",
      "model_name": "LabelModel",
      "state": {
       "layout": "IPY_MODEL_b5c7b7dbe6a642fb9195e18ff51e7d8d",
       "style": "IPY_MODEL_5936c1783d544c8db7bd231bea122138",
       "value": "Box Type"
      }
     },
     "f70998f8dfb542dfa2182e4b1a499500": {
      "model_module": "@jupyter-widgets/controls",
      "model_module_version": "1.4.0",
      "model_name": "DescriptionStyleModel",
      "state": {
       "description_width": ""
      }
     },
     "f72c2746f13f4e198bfa9e049cad10e9": {
      "model_module": "@jupyter-widgets/controls",
      "model_module_version": "1.4.0",
      "model_name": "DescriptionStyleModel",
      "state": {
       "description_width": ""
      }
     },
     "f762cd48f75643a59d63e955a75b451b": {
      "model_module": "@jupyter-widgets/controls",
      "model_module_version": "1.4.0",
      "model_name": "VBoxModel",
      "state": {
       "children": [
        "IPY_MODEL_c5742d4275604671b0af3951dba9bcec",
        "IPY_MODEL_b3e4e5ceb6494f72a7159d4a50acecb4"
       ],
       "layout": "IPY_MODEL_58e40c70cc324e47a71befc213802a15"
      }
     },
     "f765d3e301674695afae845c1396a51a": {
      "model_module": "@jupyter-widgets/base",
      "model_module_version": "1.1.0",
      "model_name": "LayoutModel",
      "state": {}
     },
     "f76890cd83b546f7a9bca7ff8caf1501": {
      "model_module": "@jupyter-widgets/controls",
      "model_module_version": "1.4.0",
      "model_name": "LabelModel",
      "state": {
       "layout": "IPY_MODEL_6dab1011d902448a9de31de743d24ebf",
       "style": "IPY_MODEL_f9eab05cb98644e1a9d9c13121aa247a",
       "value": "Model"
      }
     },
     "f770dbb1c3ae45f6b1f16461b4ac833b": {
      "model_module": "@jupyter-widgets/base",
      "model_module_version": "1.1.0",
      "model_name": "LayoutModel",
      "state": {}
     },
     "f7cd22f4b9a140ad8f942b45c91d52ae": {
      "model_module": "@jupyter-widgets/controls",
      "model_module_version": "1.4.0",
      "model_name": "DropdownModel",
      "state": {
       "_options_labels": [
        "None",
        "rbf",
        "nystroem"
       ],
       "index": 1,
       "layout": "IPY_MODEL_61bc1f6ddb4343fa96e1a44294b9f113",
       "style": "IPY_MODEL_7d206e2237c044a69b0953082f21cdb7"
      }
     },
     "f7e3b986c3db41728dda9ca6fc7df042": {
      "model_module": "@jupyter-widgets/controls",
      "model_module_version": "1.4.0",
      "model_name": "IntSliderModel",
      "state": {
       "disabled": true,
       "layout": "IPY_MODEL_6d9ff098d9c844a0bc4163459d4ee04f",
       "max": 200,
       "min": 2,
       "style": "IPY_MODEL_3750691ae7304415913068b8543bdbac",
       "value": 30
      }
     },
     "f7e519f4d89447f184b7274215abe093": {
      "model_module": "@jupyter-widgets/controls",
      "model_module_version": "1.4.0",
      "model_name": "DescriptionStyleModel",
      "state": {
       "description_width": ""
      }
     },
     "f7ed11be3ab9466086efeb0b3a61aea7": {
      "model_module": "@jupyter-widgets/controls",
      "model_module_version": "1.4.0",
      "model_name": "DropdownModel",
      "state": {
       "_options_labels": [
        "dt",
        "logit",
        "linear_svc"
       ],
       "index": 0,
       "layout": "IPY_MODEL_7ee5c57822f14fa8bf77cbec3c22c40e",
       "style": "IPY_MODEL_e39f65ae9a9843e1bee5c1e7465ec09f"
      }
     },
     "f82e4e0016c64b079493c539182d739f": {
      "model_module": "@jupyter-widgets/controls",
      "model_module_version": "1.4.0",
      "model_name": "CheckboxModel",
      "state": {
       "disabled": false,
       "layout": "IPY_MODEL_e0ef5520ee0d437bb2933236429e9c03",
       "style": "IPY_MODEL_d51ac766f8614b048551003c2acaacb5",
       "value": false
      }
     },
     "f848493ec4d6441798132d0af464947e": {
      "model_module": "@jupyter-widgets/controls",
      "model_module_version": "1.4.0",
      "model_name": "SliderStyleModel",
      "state": {
       "description_width": ""
      }
     },
     "f8666367f4c84279bf796741738e23ad": {
      "model_module": "@jupyter-widgets/controls",
      "model_module_version": "1.4.0",
      "model_name": "VBoxModel",
      "state": {
       "children": [
        "IPY_MODEL_c622a6fa8cf84ae2955245f6c7a6d4b6",
        "IPY_MODEL_7d156fa4cae4418aaef1683feb67a106",
        "IPY_MODEL_460cab8e42234cf9abd092b238bc3e14"
       ],
       "layout": "IPY_MODEL_bf4f2bd499b54f56b24fa6dda1d1526b"
      }
     },
     "f872b59f309741fba015a6b01a591d82": {
      "model_module": "@jupyter-widgets/controls",
      "model_module_version": "1.4.0",
      "model_name": "VBoxModel",
      "state": {
       "children": [
        "IPY_MODEL_bb1df3468efa462991df6a9b77523749",
        "IPY_MODEL_9b65a1b890c8481285b435ad6e17962d",
        "IPY_MODEL_f019530a91554e98926cacc94df27181",
        "IPY_MODEL_565769271fe14b52ab53ef1cddd20d8e",
        "IPY_MODEL_57064e5c05494b119241ae3ea5236b37",
        "IPY_MODEL_44b1772914ee4ccd86ed10ce7b6bff60",
        "IPY_MODEL_5b40226f507848ff801aa2972b09b0d1"
       ],
       "layout": "IPY_MODEL_ca5795c35f5b46ef9e85d979cc5838f7"
      }
     },
     "f87420c69f034ab98742ca78a495759a": {
      "model_module": "@jupyter-widgets/controls",
      "model_module_version": "1.4.0",
      "model_name": "ButtonStyleModel",
      "state": {}
     },
     "f877bb96ad0d4b8a973edb6d6e1f32f9": {
      "model_module": "@jupyter-widgets/controls",
      "model_module_version": "1.4.0",
      "model_name": "ButtonModel",
      "state": {
       "button_style": "warning",
       "description": "Remove model",
       "layout": "IPY_MODEL_f912e01851ec4c01836c66c906b8214a",
       "style": "IPY_MODEL_6cc8e250c4e5412584e88b5e373dc421"
      }
     },
     "f8a23c87c82b48689c13aa6a46c48c7a": {
      "model_module": "@jupyter-widgets/base",
      "model_module_version": "1.1.0",
      "model_name": "LayoutModel",
      "state": {}
     },
     "f8b4839526da4db98fcf2d1c42f4dbc2": {
      "model_module": "@jupyter-widgets/base",
      "model_module_version": "1.1.0",
      "model_name": "LayoutModel",
      "state": {}
     },
     "f8b85bf59d91497385255ea8d61d0f7e": {
      "model_module": "@jupyter-widgets/controls",
      "model_module_version": "1.4.0",
      "model_name": "DescriptionStyleModel",
      "state": {
       "description_width": ""
      }
     },
     "f8d5fc592b9942328cffdc7a420da21a": {
      "model_module": "@jupyter-widgets/controls",
      "model_module_version": "1.4.0",
      "model_name": "LabelModel",
      "state": {
       "layout": "IPY_MODEL_df39b6e5cdf74e9dad97866bd9526c3c",
       "style": "IPY_MODEL_fbd7842595d0497f8261ce51786118e9",
       "value": "Box Type"
      }
     },
     "f8eb8606a31843a7aff83a73357a34be": {
      "model_module": "@jupyter-widgets/controls",
      "model_module_version": "1.4.0",
      "model_name": "DescriptionStyleModel",
      "state": {
       "description_width": ""
      }
     },
     "f912e01851ec4c01836c66c906b8214a": {
      "model_module": "@jupyter-widgets/base",
      "model_module_version": "1.1.0",
      "model_name": "LayoutModel",
      "state": {}
     },
     "f92cbef327234fe69ab12ef54bf1e608": {
      "model_module": "@jupyter-widgets/controls",
      "model_module_version": "1.4.0",
      "model_name": "SliderStyleModel",
      "state": {
       "description_width": ""
      }
     },
     "f96f548edbd8406ab56c5a49738444b3": {
      "model_module": "@jupyter-widgets/controls",
      "model_module_version": "1.4.0",
      "model_name": "IntSliderModel",
      "state": {
       "disabled": true,
       "layout": "IPY_MODEL_d014bb0f9347459f8b1d4010e30056e3",
       "max": 200,
       "min": 2,
       "style": "IPY_MODEL_6c821f03c0a84be7bb892f084eb68f90",
       "value": 30
      }
     },
     "f9b56e0a0d76480dad9c8fd7f5ef2b47": {
      "model_module": "@jupyter-widgets/controls",
      "model_module_version": "1.4.0",
      "model_name": "DescriptionStyleModel",
      "state": {
       "description_width": ""
      }
     },
     "f9b75cf39edf4b4b8928b26f9adc2bec": {
      "model_module": "@jupyter-widgets/controls",
      "model_module_version": "1.4.0",
      "model_name": "VBoxModel",
      "state": {
       "children": [
        "IPY_MODEL_dca1274c76ee41b98ec5d52ea30e2f90",
        "IPY_MODEL_d5b38f928037492fb29e5641efd830a2",
        "IPY_MODEL_960e06706cc94e37a7bb6deed91b12e4"
       ],
       "layout": "IPY_MODEL_175aa8c0267642ffb1fc74dd03ad4287"
      }
     },
     "f9eab05cb98644e1a9d9c13121aa247a": {
      "model_module": "@jupyter-widgets/controls",
      "model_module_version": "1.4.0",
      "model_name": "DescriptionStyleModel",
      "state": {
       "description_width": ""
      }
     },
     "fa21d3e2cd4b4140b68ef04e1aab33e4": {
      "model_module": "@jupyter-widgets/controls",
      "model_module_version": "1.4.0",
      "model_name": "ButtonModel",
      "state": {
       "button_style": "warning",
       "description": "Remove model",
       "layout": "IPY_MODEL_d0b95c5f6c2e4dc3a4426a35245a22c1",
       "style": "IPY_MODEL_ffd44c0e987b4b56858d2d773c48a18f"
      }
     },
     "fa226c1aa24b4db49dc6fec1c3a9a40d": {
      "model_module": "@jupyter-widgets/controls",
      "model_module_version": "1.4.0",
      "model_name": "CheckboxModel",
      "state": {
       "disabled": false,
       "layout": "IPY_MODEL_58e3c017d9f4456f8ce65756cf563647",
       "style": "IPY_MODEL_0e38821d73b24ccba0e997ea07876f5f",
       "value": false
      }
     },
     "fa2e7818273b4db9bf1bd8d63e29014d": {
      "model_module": "@jupyter-widgets/controls",
      "model_module_version": "1.4.0",
      "model_name": "DescriptionStyleModel",
      "state": {
       "description_width": ""
      }
     },
     "fa72707e025049d8b360819b3bee6fa0": {
      "model_module": "@jupyter-widgets/controls",
      "model_module_version": "1.4.0",
      "model_name": "DropdownModel",
      "state": {
       "_options_labels": [
        "dt",
        "logit",
        "linear_svc"
       ],
       "index": 0,
       "layout": "IPY_MODEL_4c110e8e92bf4c7ba7b987877f6ff168",
       "style": "IPY_MODEL_f0ffdac6c5d34ebb84a27dc0eec9d2ed"
      }
     },
     "fab5ef1edbb246d084f41b668e6971a4": {
      "model_module": "@jupyter-widgets/controls",
      "model_module_version": "1.4.0",
      "model_name": "SliderStyleModel",
      "state": {
       "description_width": ""
      }
     },
     "fac4ab7e666847cda6e53501e9981dca": {
      "model_module": "@jupyter-widgets/controls",
      "model_module_version": "1.4.0",
      "model_name": "HBoxModel",
      "state": {
       "children": [
        "IPY_MODEL_2ec579ffc3814b87aaa488c70dda362b",
        "IPY_MODEL_329a817f90a842fdad3d8e65508c63b5",
        "IPY_MODEL_1264d001e68642799f007e0158a12162",
        "IPY_MODEL_92344223e36146b49086ecd1c953a3dc",
        "IPY_MODEL_c6fda84fbfd44e72a0a81a597e0a05cb"
       ],
       "layout": "IPY_MODEL_a91109b43d384c8bba4ff14e68867c6f"
      }
     },
     "fad2a91232b44605a53586630808b743": {
      "model_module": "@jupyter-widgets/controls",
      "model_module_version": "1.4.0",
      "model_name": "ButtonStyleModel",
      "state": {}
     },
     "fae8a779418b4d9dac06e6fed5072356": {
      "model_module": "@jupyter-widgets/controls",
      "model_module_version": "1.4.0",
      "model_name": "DescriptionStyleModel",
      "state": {
       "description_width": ""
      }
     },
     "fae8c9a85b614718acaf2ab2f0cfa6a1": {
      "model_module": "@jupyter-widgets/controls",
      "model_module_version": "1.4.0",
      "model_name": "IntSliderModel",
      "state": {
       "disabled": true,
       "layout": "IPY_MODEL_02349e60a480416ca8098a1d42cd1817",
       "max": 200,
       "min": 2,
       "style": "IPY_MODEL_c05f421f04374dbf99f2c8053bd6d3ca",
       "value": 30
      }
     },
     "fb14f546a1e241649c77e16833a8b84d": {
      "model_module": "@jupyter-widgets/controls",
      "model_module_version": "1.4.0",
      "model_name": "DescriptionStyleModel",
      "state": {
       "description_width": ""
      }
     },
     "fb16e0ede09945e3bd582e9d446204d2": {
      "model_module": "@jupyter-widgets/base",
      "model_module_version": "1.1.0",
      "model_name": "LayoutModel",
      "state": {}
     },
     "fb490460a5d94304b3facb51885f6e0a": {
      "model_module": "@jupyter-widgets/controls",
      "model_module_version": "1.4.0",
      "model_name": "DropdownModel",
      "state": {
       "_options_labels": [
        "segment",
        "covertype",
        "digits",
        "fall_detection",
        "mnist",
        "pen_digits",
        "satellite",
        "vowel"
       ],
       "description": "Dataset:",
       "index": 0,
       "layout": "IPY_MODEL_8c5a06eb5a934755ac07b8451e45e51e",
       "style": "IPY_MODEL_e492424df6cf40238417d878fd83e0bf"
      }
     },
     "fb819d121a6142b2a4dc65104a924432": {
      "model_module": "@jupyter-widgets/controls",
      "model_module_version": "1.4.0",
      "model_name": "DescriptionStyleModel",
      "state": {
       "description_width": ""
      }
     },
     "fb8213364e5c4ae4be86b7ca9f54bf23": {
      "model_module": "@jupyter-widgets/controls",
      "model_module_version": "1.4.0",
      "model_name": "LabelModel",
      "state": {
       "layout": "IPY_MODEL_bc1e91e3dd1a4deba99702ae1792267c",
       "style": "IPY_MODEL_39a7945117bc43c2800a0e0990125053",
       "value": "Sampler"
      }
     },
     "fbd7842595d0497f8261ce51786118e9": {
      "model_module": "@jupyter-widgets/controls",
      "model_module_version": "1.4.0",
      "model_name": "DescriptionStyleModel",
      "state": {
       "description_width": ""
      }
     },
     "fbf88e23ba71437fb53846c554c3e416": {
      "model_module": "@jupyter-widgets/controls",
      "model_module_version": "1.4.0",
      "model_name": "VBoxModel",
      "state": {
       "children": [
        "IPY_MODEL_695ec7bd059a4933aea34a0ca7e0c71c",
        "IPY_MODEL_72bfc7c6d2144567aaebfb875a595179",
        "IPY_MODEL_bda459ee45cc4ffe86423c85d5649996",
        "IPY_MODEL_54cac7a71d4e46148fd98350611fd149",
        "IPY_MODEL_db60e63d443f41e695904d84c0c3c29c",
        "IPY_MODEL_98d29b3e09e94cbeb7ff3294b335657b",
        "IPY_MODEL_eadd62f98b354a47bb25a5c18d95ff78"
       ],
       "layout": "IPY_MODEL_fef98f6c6b554ab6969bc80d1afa9828"
      }
     },
     "fc0a885ad9d3489485ee653c6325b653": {
      "model_module": "@jupyter-widgets/controls",
      "model_module_version": "1.4.0",
      "model_name": "IntSliderModel",
      "state": {
       "disabled": true,
       "layout": "IPY_MODEL_eb0c7a5e46bb47039ac35dcc0675a50c",
       "max": 200,
       "min": 2,
       "style": "IPY_MODEL_2bb2304056fe429888071f7e863aa0a2",
       "value": 30
      }
     },
     "fc0c44a72e7e400bb356a104c4edd7eb": {
      "model_module": "@jupyter-widgets/controls",
      "model_module_version": "1.4.0",
      "model_name": "DropdownModel",
      "state": {
       "_options_labels": [
        "segment",
        "covertype",
        "digits",
        "fall_detection",
        "mnist",
        "pen_digits",
        "satellite",
        "vowel"
       ],
       "description": "Dataset:",
       "index": 0,
       "layout": "IPY_MODEL_4dd15306fbec45049c90c720c41842c3",
       "style": "IPY_MODEL_662d9aa738c9461da971acf9e6782e16"
      }
     },
     "fc31c6fc92cd4ea1aa435ea8d6b773f9": {
      "model_module": "@jupyter-widgets/controls",
      "model_module_version": "1.4.0",
      "model_name": "DescriptionStyleModel",
      "state": {
       "description_width": ""
      }
     },
     "fc4906f182604349a81ceb543db36a0b": {
      "model_module": "@jupyter-widgets/controls",
      "model_module_version": "1.4.0",
      "model_name": "ButtonModel",
      "state": {
       "button_style": "info",
       "description": "Add model",
       "layout": "IPY_MODEL_60606c5f93824363a599cdac68613f3f",
       "style": "IPY_MODEL_883de83fc78c4459b89c2471bcba2c18"
      }
     },
     "fc4abcce1c2e433ea2793a710d453ee8": {
      "model_module": "@jupyter-widgets/base",
      "model_module_version": "1.1.0",
      "model_name": "LayoutModel",
      "state": {
       "border": "3px solid black"
      }
     },
     "fc516d434df145cbaff95b983014f9b5": {
      "model_module": "@jupyter-widgets/base",
      "model_module_version": "1.1.0",
      "model_name": "LayoutModel",
      "state": {}
     },
     "fc771f2722344f9aaf13228e892a7dad": {
      "model_module": "@jupyter-widgets/controls",
      "model_module_version": "1.4.0",
      "model_name": "LabelModel",
      "state": {
       "layout": "IPY_MODEL_791da8fc540e4ba3a23f09fb1ed57dae",
       "style": "IPY_MODEL_d47e6740534f4d548574357150edc4eb",
       "value": "Sampler"
      }
     },
     "fcbe6310706a4d58949981081052960c": {
      "model_module": "@jupyter-widgets/controls",
      "model_module_version": "1.4.0",
      "model_name": "VBoxModel",
      "state": {
       "children": [
        "IPY_MODEL_e862db5a2f094392b7a1b68a1263ae72",
        "IPY_MODEL_48f95555cc6d4d5c862710e368d2abd6",
        "IPY_MODEL_578605d9fed74771988963651fe33ebf",
        "IPY_MODEL_debe8470bf9a4aacbf9a669a96c3efa1",
        "IPY_MODEL_87edbfaa9d864731aab0d9a7044f76db",
        "IPY_MODEL_475b3fb7171146d3aa7fb328c5bde031",
        "IPY_MODEL_1d7d9f3ded524d84b7247d823dfb7696"
       ],
       "layout": "IPY_MODEL_a8e010b147574ad69a71a475a49f6a1f"
      }
     },
     "fd47efb178b1407982a72f32789de0fa": {
      "model_module": "@jupyter-widgets/controls",
      "model_module_version": "1.4.0",
      "model_name": "SliderStyleModel",
      "state": {
       "description_width": ""
      }
     },
     "fd7bd42b161b4e15b5956724703e8549": {
      "model_module": "@jupyter-widgets/controls",
      "model_module_version": "1.4.0",
      "model_name": "VBoxModel",
      "state": {
       "children": [
        "IPY_MODEL_629ab15e93fc4e0f82e37d88730956ac",
        "IPY_MODEL_e7d397b2893548d0aa216c3bd0526889"
       ],
       "layout": "IPY_MODEL_bb4da2bb5f864d62a8c639455c395ebf"
      }
     },
     "fdaaa7429a0142bdb1e95da3de296922": {
      "model_module": "@jupyter-widgets/controls",
      "model_module_version": "1.4.0",
      "model_name": "CheckboxModel",
      "state": {
       "disabled": false,
       "layout": "IPY_MODEL_af90f8422e5847068e0dc2f79d74c1fc",
       "style": "IPY_MODEL_cc68ae3d62474281b064186a937ab351",
       "value": false
      }
     },
     "fdb8281ff6d2457299a9f34159aca891": {
      "model_module": "@jupyter-widgets/controls",
      "model_module_version": "1.4.0",
      "model_name": "VBoxModel",
      "state": {
       "children": [
        "IPY_MODEL_52d8de0e99be4528855d6e96cfe45340",
        "IPY_MODEL_de8a6eedcf6a4773a664166a774c3598"
       ],
       "layout": "IPY_MODEL_347a32f3448844b8814925b43c318d13"
      }
     },
     "fdbbd4d5bce44979b9a0023ee81e8e1f": {
      "model_module": "@jupyter-widgets/controls",
      "model_module_version": "1.4.0",
      "model_name": "VBoxModel",
      "state": {
       "children": [
        "IPY_MODEL_ff86f83b81ac418b98321b269c3827ec",
        "IPY_MODEL_d2ec99865e1f44c696ba766f65922067",
        "IPY_MODEL_ff6038938de2450bb460f12d8d8b1822",
        "IPY_MODEL_4c2e17d37a1044bd82ff8242ed84ef5a",
        "IPY_MODEL_6678c84e017043e58a02dd837cc5badd",
        "IPY_MODEL_d95df21e91ce45a2862432a7ab260671",
        "IPY_MODEL_3cef53b78f8e4025bc66ada6acff716a"
       ],
       "layout": "IPY_MODEL_57209a3270f54978a301aa178be60c39"
      }
     },
     "fdecaeed5aa54413858efd08c5383a88": {
      "model_module": "@jupyter-widgets/controls",
      "model_module_version": "1.4.0",
      "model_name": "DropdownModel",
      "state": {
       "_options_labels": [
        "dt",
        "logit",
        "linear_svc"
       ],
       "index": 0,
       "layout": "IPY_MODEL_a02bb7d5d4b04607b004c23916d9f4d0",
       "style": "IPY_MODEL_bcb368b30fb740d480f7badf69d34a40"
      }
     },
     "fe13dd9632c34ca09ed6e01f8f986795": {
      "model_module": "@jupyter-widgets/controls",
      "model_module_version": "1.4.0",
      "model_name": "IntSliderModel",
      "state": {
       "disabled": true,
       "layout": "IPY_MODEL_c3d3788b27e94b6b8a3220cbfa0c2732",
       "max": 200,
       "min": 2,
       "style": "IPY_MODEL_c14a14697d8547578b7e5fe2f88de200",
       "value": 30
      }
     },
     "fe3626d43b814c818bf6d577e2caffde": {
      "model_module": "@jupyter-widgets/controls",
      "model_module_version": "1.4.0",
      "model_name": "DescriptionStyleModel",
      "state": {
       "description_width": ""
      }
     },
     "fe7d56c18d2a40ddb859ca2f957766cf": {
      "model_module": "@jupyter-widgets/controls",
      "model_module_version": "1.4.0",
      "model_name": "DescriptionStyleModel",
      "state": {
       "description_width": ""
      }
     },
     "feb5f3ae3397491aae0862e7a0b9c2e5": {
      "model_module": "@jupyter-widgets/controls",
      "model_module_version": "1.4.0",
      "model_name": "DescriptionStyleModel",
      "state": {
       "description_width": ""
      }
     },
     "fed1879b0d214d58ad417771ca1294a0": {
      "model_module": "@jupyter-widgets/controls",
      "model_module_version": "1.4.0",
      "model_name": "DropdownModel",
      "state": {
       "_options_labels": [
        "segment",
        "covertype",
        "digits",
        "fall_detection",
        "mnist",
        "pen_digits",
        "satellite",
        "vowel"
       ],
       "description": "Dataset:",
       "index": 0,
       "layout": "IPY_MODEL_646e6adb67c540848895c0a7f58f66de",
       "style": "IPY_MODEL_5e7706ae057f4f43ac7b7dffbcdda0fb"
      }
     },
     "fede1082d38f466f988a2d855602bae2": {
      "model_module": "@jupyter-widgets/base",
      "model_module_version": "1.1.0",
      "model_name": "LayoutModel",
      "state": {}
     },
     "fef4cb388d1a433192a44a63ad581470": {
      "model_module": "@jupyter-widgets/controls",
      "model_module_version": "1.4.0",
      "model_name": "DescriptionStyleModel",
      "state": {
       "description_width": ""
      }
     },
     "fef98f6c6b554ab6969bc80d1afa9828": {
      "model_module": "@jupyter-widgets/base",
      "model_module_version": "1.1.0",
      "model_name": "LayoutModel",
      "state": {}
     },
     "ff35e2dda0bc4b6b8639775dd0475b82": {
      "model_module": "@jupyter-widgets/controls",
      "model_module_version": "1.4.0",
      "model_name": "DropdownModel",
      "state": {
       "_options_labels": [
        "None",
        "black",
        "grey"
       ],
       "index": 0,
       "layout": "IPY_MODEL_61c87b98e45a4bd6b4cec3c85d84b025",
       "style": "IPY_MODEL_5f58755e50c748b9aa5b52638daf29d5"
      }
     },
     "ff3db86e54024c1ea7cbe34148409ec7": {
      "model_module": "@jupyter-widgets/controls",
      "model_module_version": "1.4.0",
      "model_name": "DropdownModel",
      "state": {
       "_options_labels": [
        "None",
        "black",
        "grey"
       ],
       "index": 0,
       "layout": "IPY_MODEL_db74b3e608f84214b10412b95b934c08",
       "style": "IPY_MODEL_8a402a205c92451b89f317190b758b69"
      }
     },
     "ff4f6e43153a453e80e4d108bd0eafe7": {
      "model_module": "@jupyter-widgets/controls",
      "model_module_version": "1.4.0",
      "model_name": "VBoxModel",
      "state": {
       "children": [
        "IPY_MODEL_977ccc81b2c246ae96bd288ab65f8831",
        "IPY_MODEL_6981255c22064f3abb84d632d5924fc3",
        "IPY_MODEL_ef6255a8768b4fa885842a631f4756e7"
       ],
       "layout": "IPY_MODEL_84e949285fcd466c9ec74d307543c5c7"
      }
     },
     "ff6038938de2450bb460f12d8d8b1822": {
      "model_module": "@jupyter-widgets/controls",
      "model_module_version": "1.4.0",
      "model_name": "ButtonModel",
      "state": {
       "button_style": "info",
       "description": "Add model",
       "layout": "IPY_MODEL_7ab31e2923024b96b1243978fda96e89",
       "style": "IPY_MODEL_7e9333c166f244f69666121f1abf6b3f"
      }
     },
     "ff6c305650974d588f4cd1eb0a004baf": {
      "model_module": "@jupyter-widgets/base",
      "model_module_version": "1.1.0",
      "model_name": "LayoutModel",
      "state": {}
     },
     "ff8632789df24b3f8ae2fe91508bcd82": {
      "model_module": "@jupyter-widgets/base",
      "model_module_version": "1.1.0",
      "model_name": "LayoutModel",
      "state": {
       "border": "3px solid black"
      }
     },
     "ff86f83b81ac418b98321b269c3827ec": {
      "model_module": "@jupyter-widgets/controls",
      "model_module_version": "1.4.0",
      "model_name": "DropdownModel",
      "state": {
       "_options_labels": [
        "segment",
        "covertype",
        "digits",
        "fall_detection",
        "mnist",
        "pen_digits",
        "satellite",
        "vowel"
       ],
       "description": "Dataset:",
       "index": 0,
       "layout": "IPY_MODEL_d1fb23316e7d43799d9d70605734836e",
       "style": "IPY_MODEL_a1cef5ffcd504554a05c0c5c69891480"
      }
     },
     "ffd44c0e987b4b56858d2d773c48a18f": {
      "model_module": "@jupyter-widgets/controls",
      "model_module_version": "1.4.0",
      "model_name": "ButtonStyleModel",
      "state": {}
     },
     "ffd4909aa6274bf5951f1df88f673f0d": {
      "model_module": "@jupyter-widgets/base",
      "model_module_version": "1.1.0",
      "model_name": "LayoutModel",
      "state": {}
     },
     "ffe223de993c4dcea82b83111cf9eff3": {
      "model_module": "@jupyter-widgets/controls",
      "model_module_version": "1.4.0",
      "model_name": "CheckboxModel",
      "state": {
       "disabled": false,
       "layout": "IPY_MODEL_9ef79ea88560408db0926ff6c7639364",
       "style": "IPY_MODEL_bf75b296aaa74c458d3e87572a41019b",
       "value": false
      }
     }
    },
    "version_major": 2,
    "version_minor": 0
   }
  }
 },
 "nbformat": 4,
 "nbformat_minor": 2
}
