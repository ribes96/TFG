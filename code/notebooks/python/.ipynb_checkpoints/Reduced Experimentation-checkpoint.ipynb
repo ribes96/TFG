{
 "cells": [
  {
   "cell_type": "code",
   "execution_count": 1,
   "metadata": {},
   "outputs": [],
   "source": [
    "from sklearn.model_selection import GridSearchCV\n",
    "from demo_utils.general import get_data\n",
    "from sklearn.tree import DecisionTreeClassifier\n",
    "from demo_utils.learning import get_model\n",
    "import numpy as np\n",
    "from IPython.display import Markdown as md\n",
    "from demo_utils.general import SUPPORTED_DATASETS"
   ]
  },
  {
   "cell_type": "code",
   "execution_count": 2,
   "metadata": {},
   "outputs": [],
   "source": [
    "from scipy.linalg import LinAlgError"
   ]
  },
  {
   "cell_type": "code",
   "execution_count": 3,
   "metadata": {},
   "outputs": [],
   "source": [
    "import warnings\n",
    "warnings.filterwarnings('ignore')"
   ]
  },
  {
   "cell_type": "code",
   "execution_count": 4,
   "metadata": {},
   "outputs": [
    {
     "data": {
      "application/javascript": [
       "IPython.OutputArea.prototype._should_scroll = function(lines) {\n",
       "    return false;\n",
       "}\n"
      ],
      "text/plain": [
       "<IPython.core.display.Javascript object>"
      ]
     },
     "metadata": {},
     "output_type": "display_data"
    }
   ],
   "source": [
    "%%javascript\n",
    "IPython.OutputArea.prototype._should_scroll = function(lines) {\n",
    "    return false;\n",
    "}"
   ]
  },
  {
   "cell_type": "code",
   "execution_count": null,
   "metadata": {},
   "outputs": [],
   "source": [
    "#testing_dataset = 'segment'\n",
    "testing_dataset = None\n",
    "dts_size = 1000"
   ]
  },
  {
   "cell_type": "code",
   "execution_count": null,
   "metadata": {},
   "outputs": [],
   "source": [
    "model_params = {\n",
    "    'model_name': 'dt',\n",
    "    'sampler_name': 'identity',\n",
    "    'pca_bool': False,\n",
    "    'pca_first': True,\n",
    "    'box_type': 'none'\n",
    "}"
   ]
  },
  {
   "cell_type": "code",
   "execution_count": null,
   "metadata": {},
   "outputs": [],
   "source": [
    "hp_names = {'dt': 'min_impurity_decrease', 'logit': 'C', 'linear_svc': 'C'}\n",
    "hp_options = {\n",
    "    'dt': [10**i for i in range(-10, 1)],\n",
    "    'logit': [10**i for i in range(-5, 4)],\n",
    "    'linear_svc': [10**i for i in range(-5, 4)]\n",
    "}\n",
    "rbf_gamma_options = [10**i for i in range(-5, 2)]\n",
    "nystroem_gamma_options = [10**i for i in range(-5, 2)]"
   ]
  },
  {
   "cell_type": "code",
   "execution_count": null,
   "metadata": {},
   "outputs": [],
   "source": [
    "def find_hparams(model_params, options, dts_name):\n",
    "    n_comp = 500\n",
    "    prefix = 'model__'\n",
    "    tunning_params = {prefix + hp_names[model_params['model_name']]: options}\n",
    "    model = get_model(**model_params)\n",
    "\n",
    "    if model_params['sampler_name'] == 'rbf':\n",
    "        tunning_params['sampler__' + 'gamma'] = rbf_gamma_options\n",
    "        model.set_params(sampler__n_components=n_comp)\n",
    "    elif model_params['sampler_name'] == 'nystroem':\n",
    "        tunning_params['sampler__' + 'gamma'] = nystroem_gamma_options\n",
    "        model.set_params(sampler__n_components=n_comp)\n",
    "\n",
    "    clf = GridSearchCV(model, tunning_params, cv=10, iid=False)\n",
    "    \n",
    "    data = get_data(dts_name, n_ins=dts_size)\n",
    "    data_train = data['data_train']\n",
    "    target_train = data['target_train']\n",
    "    \n",
    "    #times = 5\n",
    "    #g = []\n",
    "    #for i in range(times):\n",
    "    #    clf.fit(data_train, target_train)\n",
    "    #    bp = clf.best_params_\n",
    "    #    nbp = list(bp.values())[0]\n",
    "    #    g.append(nbp)\n",
    "    #m = np.mean(g)\n",
    "    #key = list(bp.keys())[0]\n",
    "    \n",
    "    #clf.fit(data_train, target_train)\n",
    "    #bp = clf.best_params_\n",
    "    is_failing = True\n",
    "    while is_failing:\n",
    "        try:\n",
    "            clf.fit(data_train, target_train)\n",
    "            is_failing = False\n",
    "        except LinAlgError:\n",
    "            pass\n",
    "    bp = clf.best_params_\n",
    "            \n",
    "    #print(model_params['model_name'], key)\n",
    "    print(model_params['model_name'])\n",
    "    print(bp)\n",
    "    print()"
   ]
  },
  {
   "cell_type": "code",
   "execution_count": null,
   "metadata": {},
   "outputs": [],
   "source": [
    "def test_dataset(dts_name):\n",
    "    display(md('# ' + dts_name))\n",
    "    global testing_dataset\n",
    "    testing_dataset = dts_name\n",
    "    test_simple()\n",
    "    test_simple_pca()\n",
    "    display(md('## RFF'))\n",
    "    test_sampler('rbf')\n",
    "    display(md('## Nystroem'))\n",
    "    test_sampler('nystroem')"
   ]
  },
  {
   "cell_type": "code",
   "execution_count": null,
   "metadata": {},
   "outputs": [],
   "source": [
    "############\n",
    "def test_simple():\n",
    "    display(md('## Simple'))\n",
    "    model_params['pca_bool'] = False\n",
    "    model_params['sampler_name'] = 'identity'\n",
    "    for model_name in hp_names:\n",
    "        model_params['model_name'] = model_name\n",
    "        print('testing_dataset es {}'.format(testing_dataset))\n",
    "        find_hparams(model_params, options=hp_options[model_params['model_name']], dts_name=testing_dataset)\n",
    "############\n",
    "\n",
    "def test_simple_pca():\n",
    "    display(md('## Simple PCA'))\n",
    "    model_params['pca_bool'] = True\n",
    "    model_params['sampler_name'] = 'identity'\n",
    "    for model_name in hp_names:\n",
    "        model_params['model_name'] = model_name\n",
    "        find_hparams(model_params, options=hp_options[model_params['model_name']], dts_name=testing_dataset)"
   ]
  },
  {
   "cell_type": "code",
   "execution_count": null,
   "metadata": {},
   "outputs": [],
   "source": [
    "##############\n",
    "def test_sampler(sampler_name):\n",
    "    test_sampler_no_pca(sampler_name)\n",
    "    test_sampler_pca_first(sampler_name)\n",
    "    test_sampler_pca_last(sampler_name)\n",
    "##############"
   ]
  },
  {
   "cell_type": "code",
   "execution_count": null,
   "metadata": {},
   "outputs": [],
   "source": [
    "############\n",
    "def test_sampler_no_pca(sampler_name):\n",
    "    display(md('### No PCA'))\n",
    "    model_params['pca_bool'] = False\n",
    "    model_params['sampler_name'] = sampler_name\n",
    "    for model_name in hp_names:\n",
    "        model_params['model_name'] = model_name\n",
    "        find_hparams(model_params, options=hp_options[model_params['model_name']], dts_name=testing_dataset)\n",
    "############\n",
    "\n",
    "def test_sampler_pca_first(sampler_name):\n",
    "    display(md('### PCA First'))\n",
    "    model_params['pca_bool'] = True\n",
    "    model_params['pca_first'] = True\n",
    "    model_params['sampler_name'] = sampler_name\n",
    "    for model_name in hp_names:\n",
    "        model_params['model_name'] = model_name\n",
    "        find_hparams(model_params, options=hp_options[model_params['model_name']], dts_name=testing_dataset)\n",
    "        \n",
    "def test_sampler_pca_last(sampler_name):\n",
    "    display(md('### PCA Last'))\n",
    "    model_params['pca_bool'] = True\n",
    "    model_params['pca_first'] = False\n",
    "    model_params['sampler_name'] = sampler_name\n",
    "    for model_name in hp_names:\n",
    "        model_params['model_name'] = model_name\n",
    "        find_hparams(model_params, options=hp_options[model_params['model_name']], dts_name=testing_dataset)"
   ]
  },
  {
   "cell_type": "code",
   "execution_count": null,
   "metadata": {},
   "outputs": [],
   "source": []
  },
  {
   "cell_type": "code",
   "execution_count": null,
   "metadata": {},
   "outputs": [
    {
     "data": {
      "text/markdown": [
       "# segment"
      ],
      "text/plain": [
       "<IPython.core.display.Markdown object>"
      ]
     },
     "metadata": {},
     "output_type": "display_data"
    },
    {
     "data": {
      "text/markdown": [
       "## Simple"
      ],
      "text/plain": [
       "<IPython.core.display.Markdown object>"
      ]
     },
     "metadata": {},
     "output_type": "display_data"
    },
    {
     "name": "stdout",
     "output_type": "stream",
     "text": [
      "testing_dataset es segment\n",
      "dt\n",
      "{'model__min_impurity_decrease': 1e-07}\n",
      "\n",
      "testing_dataset es segment\n",
      "logit\n",
      "{'model__C': 100}\n",
      "\n",
      "testing_dataset es segment\n",
      "linear_svc\n",
      "{'model__C': 1}\n",
      "\n"
     ]
    },
    {
     "data": {
      "text/markdown": [
       "## Simple PCA"
      ],
      "text/plain": [
       "<IPython.core.display.Markdown object>"
      ]
     },
     "metadata": {},
     "output_type": "display_data"
    },
    {
     "name": "stdout",
     "output_type": "stream",
     "text": [
      "dt\n",
      "{'model__min_impurity_decrease': 0.001}\n",
      "\n",
      "logit\n",
      "{'model__C': 1000}\n",
      "\n",
      "linear_svc\n",
      "{'model__C': 10}\n",
      "\n"
     ]
    },
    {
     "data": {
      "text/markdown": [
       "## RFF"
      ],
      "text/plain": [
       "<IPython.core.display.Markdown object>"
      ]
     },
     "metadata": {},
     "output_type": "display_data"
    },
    {
     "data": {
      "text/markdown": [
       "### No PCA"
      ],
      "text/plain": [
       "<IPython.core.display.Markdown object>"
      ]
     },
     "metadata": {},
     "output_type": "display_data"
    },
    {
     "name": "stdout",
     "output_type": "stream",
     "text": [
      "dt\n",
      "{'model__min_impurity_decrease': 1e-10, 'sampler__gamma': 0.0001}\n",
      "\n",
      "logit\n",
      "{'model__C': 1000, 'sampler__gamma': 0.01}\n",
      "\n",
      "linear_svc\n",
      "{'model__C': 100, 'sampler__gamma': 0.01}\n",
      "\n"
     ]
    },
    {
     "data": {
      "text/markdown": [
       "### PCA First"
      ],
      "text/plain": [
       "<IPython.core.display.Markdown object>"
      ]
     },
     "metadata": {},
     "output_type": "display_data"
    },
    {
     "name": "stdout",
     "output_type": "stream",
     "text": [
      "dt\n",
      "{'model__min_impurity_decrease': 0.0001, 'sampler__gamma': 0.0001}\n",
      "\n",
      "logit\n",
      "{'model__C': 1000, 'sampler__gamma': 0.1}\n",
      "\n",
      "linear_svc\n",
      "{'model__C': 1000, 'sampler__gamma': 0.1}\n",
      "\n"
     ]
    },
    {
     "data": {
      "text/markdown": [
       "### PCA Last"
      ],
      "text/plain": [
       "<IPython.core.display.Markdown object>"
      ]
     },
     "metadata": {},
     "output_type": "display_data"
    },
    {
     "name": "stdout",
     "output_type": "stream",
     "text": [
      "dt\n",
      "{'model__min_impurity_decrease': 1e-05, 'sampler__gamma': 0.01}\n",
      "\n",
      "logit\n",
      "{'model__C': 1000, 'sampler__gamma': 0.01}\n",
      "\n",
      "linear_svc\n",
      "{'model__C': 10, 'sampler__gamma': 0.1}\n",
      "\n"
     ]
    },
    {
     "data": {
      "text/markdown": [
       "## Nystroem"
      ],
      "text/plain": [
       "<IPython.core.display.Markdown object>"
      ]
     },
     "metadata": {},
     "output_type": "display_data"
    },
    {
     "data": {
      "text/markdown": [
       "### No PCA"
      ],
      "text/plain": [
       "<IPython.core.display.Markdown object>"
      ]
     },
     "metadata": {},
     "output_type": "display_data"
    },
    {
     "name": "stdout",
     "output_type": "stream",
     "text": [
      "dt\n",
      "{'model__min_impurity_decrease': 1e-06, 'sampler__gamma': 0.0001}\n",
      "\n",
      "logit\n",
      "{'model__C': 1000, 'sampler__gamma': 0.01}\n",
      "\n",
      "linear_svc\n",
      "{'model__C': 100, 'sampler__gamma': 0.1}\n",
      "\n"
     ]
    },
    {
     "data": {
      "text/markdown": [
       "### PCA First"
      ],
      "text/plain": [
       "<IPython.core.display.Markdown object>"
      ]
     },
     "metadata": {},
     "output_type": "display_data"
    },
    {
     "name": "stdout",
     "output_type": "stream",
     "text": [
      "dt\n",
      "{'model__min_impurity_decrease': 1e-07, 'sampler__gamma': 1e-05}\n",
      "\n",
      "logit\n",
      "{'model__C': 1000, 'sampler__gamma': 0.1}\n",
      "\n",
      "linear_svc\n",
      "{'model__C': 100, 'sampler__gamma': 0.1}\n",
      "\n"
     ]
    },
    {
     "data": {
      "text/markdown": [
       "### PCA Last"
      ],
      "text/plain": [
       "<IPython.core.display.Markdown object>"
      ]
     },
     "metadata": {},
     "output_type": "display_data"
    },
    {
     "name": "stdout",
     "output_type": "stream",
     "text": [
      "dt\n",
      "{'model__min_impurity_decrease': 1e-10, 'sampler__gamma': 0.01}\n",
      "\n",
      "logit\n",
      "{'model__C': 1000, 'sampler__gamma': 0.1}\n",
      "\n",
      "linear_svc\n",
      "{'model__C': 10, 'sampler__gamma': 0.1}\n",
      "\n"
     ]
    },
    {
     "data": {
      "text/markdown": [
       "# covertype"
      ],
      "text/plain": [
       "<IPython.core.display.Markdown object>"
      ]
     },
     "metadata": {},
     "output_type": "display_data"
    },
    {
     "data": {
      "text/markdown": [
       "## Simple"
      ],
      "text/plain": [
       "<IPython.core.display.Markdown object>"
      ]
     },
     "metadata": {},
     "output_type": "display_data"
    },
    {
     "name": "stdout",
     "output_type": "stream",
     "text": [
      "testing_dataset es covertype\n",
      "dt\n",
      "{'model__min_impurity_decrease': 0.01}\n",
      "\n",
      "testing_dataset es covertype\n",
      "logit\n",
      "{'model__C': 10}\n",
      "\n",
      "testing_dataset es covertype\n",
      "linear_svc\n",
      "{'model__C': 10}\n",
      "\n"
     ]
    },
    {
     "data": {
      "text/markdown": [
       "## Simple PCA"
      ],
      "text/plain": [
       "<IPython.core.display.Markdown object>"
      ]
     },
     "metadata": {},
     "output_type": "display_data"
    },
    {
     "name": "stdout",
     "output_type": "stream",
     "text": [
      "dt\n",
      "{'model__min_impurity_decrease': 1e-06}\n",
      "\n",
      "logit\n",
      "{'model__C': 100}\n",
      "\n",
      "linear_svc\n",
      "{'model__C': 10}\n",
      "\n"
     ]
    },
    {
     "data": {
      "text/markdown": [
       "## RFF"
      ],
      "text/plain": [
       "<IPython.core.display.Markdown object>"
      ]
     },
     "metadata": {},
     "output_type": "display_data"
    },
    {
     "data": {
      "text/markdown": [
       "### No PCA"
      ],
      "text/plain": [
       "<IPython.core.display.Markdown object>"
      ]
     },
     "metadata": {},
     "output_type": "display_data"
    },
    {
     "name": "stdout",
     "output_type": "stream",
     "text": [
      "dt\n",
      "{'model__min_impurity_decrease': 0.01, 'sampler__gamma': 1e-05}\n",
      "\n",
      "logit\n",
      "{'model__C': 100, 'sampler__gamma': 0.1}\n",
      "\n",
      "linear_svc\n",
      "{'model__C': 100, 'sampler__gamma': 0.01}\n",
      "\n"
     ]
    },
    {
     "data": {
      "text/markdown": [
       "### PCA First"
      ],
      "text/plain": [
       "<IPython.core.display.Markdown object>"
      ]
     },
     "metadata": {},
     "output_type": "display_data"
    },
    {
     "name": "stdout",
     "output_type": "stream",
     "text": [
      "dt\n",
      "{'model__min_impurity_decrease': 0.01, 'sampler__gamma': 1e-05}\n",
      "\n",
      "logit\n",
      "{'model__C': 10, 'sampler__gamma': 0.1}\n",
      "\n",
      "linear_svc\n",
      "{'model__C': 100, 'sampler__gamma': 0.01}\n",
      "\n"
     ]
    },
    {
     "data": {
      "text/markdown": [
       "### PCA Last"
      ],
      "text/plain": [
       "<IPython.core.display.Markdown object>"
      ]
     },
     "metadata": {},
     "output_type": "display_data"
    },
    {
     "name": "stdout",
     "output_type": "stream",
     "text": [
      "dt\n",
      "{'model__min_impurity_decrease': 1e-10, 'sampler__gamma': 0.01}\n",
      "\n",
      "logit\n",
      "{'model__C': 100, 'sampler__gamma': 0.01}\n",
      "\n",
      "linear_svc\n",
      "{'model__C': 1, 'sampler__gamma': 0.1}\n",
      "\n"
     ]
    },
    {
     "data": {
      "text/markdown": [
       "## Nystroem"
      ],
      "text/plain": [
       "<IPython.core.display.Markdown object>"
      ]
     },
     "metadata": {},
     "output_type": "display_data"
    },
    {
     "data": {
      "text/markdown": [
       "### No PCA"
      ],
      "text/plain": [
       "<IPython.core.display.Markdown object>"
      ]
     },
     "metadata": {},
     "output_type": "display_data"
    },
    {
     "name": "stdout",
     "output_type": "stream",
     "text": [
      "dt\n",
      "{'model__min_impurity_decrease': 1e-05, 'sampler__gamma': 1e-05}\n",
      "\n",
      "logit\n",
      "{'model__C': 100, 'sampler__gamma': 0.1}\n",
      "\n",
      "linear_svc\n",
      "{'model__C': 10, 'sampler__gamma': 0.1}\n",
      "\n"
     ]
    },
    {
     "data": {
      "text/markdown": [
       "### PCA First"
      ],
      "text/plain": [
       "<IPython.core.display.Markdown object>"
      ]
     },
     "metadata": {},
     "output_type": "display_data"
    },
    {
     "name": "stdout",
     "output_type": "stream",
     "text": [
      "dt\n",
      "{'model__min_impurity_decrease': 1e-10, 'sampler__gamma': 0.01}\n",
      "\n",
      "logit\n",
      "{'model__C': 100, 'sampler__gamma': 0.1}\n",
      "\n",
      "linear_svc\n",
      "{'model__C': 100, 'sampler__gamma': 0.1}\n",
      "\n"
     ]
    },
    {
     "data": {
      "text/markdown": [
       "### PCA Last"
      ],
      "text/plain": [
       "<IPython.core.display.Markdown object>"
      ]
     },
     "metadata": {},
     "output_type": "display_data"
    },
    {
     "name": "stdout",
     "output_type": "stream",
     "text": [
      "dt\n",
      "{'model__min_impurity_decrease': 0.001, 'sampler__gamma': 0.1}\n",
      "\n",
      "logit\n",
      "{'model__C': 1000, 'sampler__gamma': 0.01}\n",
      "\n"
     ]
    }
   ],
   "source": [
    "for sd in SUPPORTED_DATASETS:\n",
    "    test_dataset(sd)"
   ]
  },
  {
   "cell_type": "code",
   "execution_count": null,
   "metadata": {},
   "outputs": [],
   "source": [
    "for sd in SUPPORTED_DATASETS[3:]:\n",
    "    test_dataset(sd)"
   ]
  },
  {
   "cell_type": "code",
   "execution_count": null,
   "metadata": {},
   "outputs": [],
   "source": []
  },
  {
   "cell_type": "code",
   "execution_count": null,
   "metadata": {},
   "outputs": [],
   "source": [
    "for sd in SUPPORTED_DATASETS[5:]:\n",
    "    test_dataset(sd)"
   ]
  }
 ],
 "metadata": {
  "kernelspec": {
   "display_name": "Python 3",
   "language": "python",
   "name": "python3"
  },
  "language_info": {
   "codemirror_mode": {
    "name": "ipython",
    "version": 3
   },
   "file_extension": ".py",
   "mimetype": "text/x-python",
   "name": "python",
   "nbconvert_exporter": "python",
   "pygments_lexer": "ipython3",
   "version": "3.6.7"
  },
  "widgets": {
   "application/vnd.jupyter.widget-state+json": {
    "state": {},
    "version_major": 2,
    "version_minor": 0
   }
  }
 },
 "nbformat": 4,
 "nbformat_minor": 2
}
