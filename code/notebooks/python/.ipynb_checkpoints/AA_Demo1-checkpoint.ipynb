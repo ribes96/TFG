{
 "cells": [
  {
   "cell_type": "markdown",
   "metadata": {},
   "source": [
    "# Modelos simples con distintos datasets"
   ]
  },
  {
   "cell_type": "code",
   "execution_count": 1,
   "metadata": {},
   "outputs": [],
   "source": [
    "%matplotlib inline"
   ]
  },
  {
   "cell_type": "code",
   "execution_count": 2,
   "metadata": {},
   "outputs": [],
   "source": [
    "#import warnings\n",
    "#warnings.filterwarnings('ignore')"
   ]
  },
  {
   "cell_type": "code",
   "execution_count": 3,
   "metadata": {},
   "outputs": [
    {
     "data": {
      "application/javascript": [
       "IPython.OutputArea.prototype._should_scroll = function(lines) {\n",
       "    return false;\n",
       "}\n"
      ],
      "text/plain": [
       "<IPython.core.display.Javascript object>"
      ]
     },
     "metadata": {},
     "output_type": "display_data"
    }
   ],
   "source": [
    "%%javascript\n",
    "IPython.OutputArea.prototype._should_scroll = function(lines) {\n",
    "    return false;\n",
    "}"
   ]
  },
  {
   "cell_type": "code",
   "execution_count": 4,
   "metadata": {},
   "outputs": [],
   "source": [
    "from demo_utils.demo1 import Demo1"
   ]
  },
  {
   "cell_type": "code",
   "execution_count": 5,
   "metadata": {},
   "outputs": [],
   "source": [
    "d = Demo1()"
   ]
  },
  {
   "cell_type": "markdown",
   "metadata": {},
   "source": [
    "## Covertype"
   ]
  },
  {
   "cell_type": "code",
   "execution_count": 6,
   "metadata": {},
   "outputs": [
    {
     "data": {
      "text/markdown": [
       "# Modelos básicos\n",
       "    Permite ver cómo se comportan los modelos simples (Decision Tree, Logit,\n",
       "    LinearSVM) con un dataset determinado. Permite saber si algunos problemas\n",
       "    son más difíciles que otros para on modelo básico.\n",
       "    "
      ],
      "text/plain": [
       "<IPython.core.display.Markdown object>"
      ]
     },
     "metadata": {},
     "output_type": "display_data"
    },
    {
     "data": {
      "application/vnd.jupyter.widget-view+json": {
       "model_id": "c7572f8171764e2ab960ac192c8f9c60",
       "version_major": 2,
       "version_minor": 0
      },
      "text/plain": [
       "VBox(children=(RadioButtons(description='Size', options=(1000, 2000, 5000, 10000), value=1000), Dropdown(descr…"
      ]
     },
     "metadata": {},
     "output_type": "display_data"
    },
    {
     "data": {
      "application/vnd.jupyter.widget-view+json": {
       "model_id": "a470fbf2be184048ac59e3b97616c3eb",
       "version_major": 2,
       "version_minor": 0
      },
      "text/plain": [
       "Output()"
      ]
     },
     "metadata": {},
     "output_type": "display_data"
    },
    {
     "data": {
      "text/html": [],
      "text/plain": [
       "<demo_utils.demo1.Demo1 at 0x7f80c1128080>"
      ]
     },
     "metadata": {},
     "output_type": "display_data"
    }
   ],
   "source": [
    "display(d)"
   ]
  },
  {
   "cell_type": "code",
   "execution_count": null,
   "metadata": {},
   "outputs": [],
   "source": []
  }
 ],
 "metadata": {
  "kernelspec": {
   "display_name": "Python 3",
   "language": "python",
   "name": "python3"
  },
  "language_info": {
   "codemirror_mode": {
    "name": "ipython",
    "version": 3
   },
   "file_extension": ".py",
   "mimetype": "text/x-python",
   "name": "python",
   "nbconvert_exporter": "python",
   "pygments_lexer": "ipython3",
   "version": "3.6.7"
  },
  "widgets": {
   "application/vnd.jupyter.widget-state+json": {
    "state": {
     "00d1c6da34e04a3a9dd907844f1f949c": {
      "model_module": "@jupyter-widgets/base",
      "model_module_version": "1.1.0",
      "model_name": "LayoutModel",
      "state": {}
     },
     "010b3543f367476994577967279313a7": {
      "model_module": "@jupyter-widgets/controls",
      "model_module_version": "1.4.0",
      "model_name": "ButtonModel",
      "state": {
       "button_style": "info",
       "description": "Demo1",
       "layout": "IPY_MODEL_45609ce8e2924d15841515d02b11b6f2",
       "style": "IPY_MODEL_22e5121916654979818360d1cf6930ba",
       "tooltip": "# Modelos básicos\n    Permite ver cómo se comportan los modelos simples (Decision Tree, Logit,\n    LinearSVM) con un dataset determinado. Permite saber si algunos problemas\n    son más difíciles que otros para on modelo básico.\n    "
      }
     },
     "0134680de0a94b9f8c4ef1f5cd9a4686": {
      "model_module": "@jupyter-widgets/base",
      "model_module_version": "1.1.0",
      "model_name": "LayoutModel",
      "state": {}
     },
     "01c1b4a93913486da8503095a562dbca": {
      "model_module": "@jupyter-widgets/output",
      "model_module_version": "1.0.0",
      "model_name": "OutputModel",
      "state": {
       "layout": "IPY_MODEL_205949b605cd4a4cb2e0e49e46910515"
      }
     },
     "02ba74867c0c43778c01de29e0634151": {
      "model_module": "@jupyter-widgets/controls",
      "model_module_version": "1.4.0",
      "model_name": "DescriptionStyleModel",
      "state": {
       "description_width": ""
      }
     },
     "0357aaa1d6c648c1816919bee8e74b7e": {
      "model_module": "@jupyter-widgets/controls",
      "model_module_version": "1.4.0",
      "model_name": "RadioButtonsModel",
      "state": {
       "_options_labels": [
        "1000",
        "2000",
        "5000",
        "10000"
       ],
       "description": "Size",
       "index": 0,
       "layout": "IPY_MODEL_3960be0381a94c11ac12162e742a57fd",
       "style": "IPY_MODEL_9ad87a9d557e427a85fb059876ddb426"
      }
     },
     "040d31d766104d0ca43daa5f3f933971": {
      "model_module": "@jupyter-widgets/controls",
      "model_module_version": "1.4.0",
      "model_name": "DescriptionStyleModel",
      "state": {
       "description_width": ""
      }
     },
     "056d8a874370427cb01be24a155b00f2": {
      "model_module": "@jupyter-widgets/controls",
      "model_module_version": "1.4.0",
      "model_name": "DescriptionStyleModel",
      "state": {
       "description_width": ""
      }
     },
     "05974a160561445592a2401167635266": {
      "model_module": "@jupyter-widgets/controls",
      "model_module_version": "1.4.0",
      "model_name": "DescriptionStyleModel",
      "state": {
       "description_width": ""
      }
     },
     "0610958f9b884e758f3d5fb05fd033e7": {
      "model_module": "@jupyter-widgets/base",
      "model_module_version": "1.1.0",
      "model_name": "LayoutModel",
      "state": {}
     },
     "0657bc0f2b2a403e865a324222c87f76": {
      "model_module": "@jupyter-widgets/controls",
      "model_module_version": "1.4.0",
      "model_name": "DescriptionStyleModel",
      "state": {
       "description_width": ""
      }
     },
     "06703a2f15d64e81a26243b4af10d92b": {
      "model_module": "@jupyter-widgets/base",
      "model_module_version": "1.1.0",
      "model_name": "LayoutModel",
      "state": {}
     },
     "07c2634dcbc44ad8a90cfe4d0527550e": {
      "model_module": "@jupyter-widgets/base",
      "model_module_version": "1.1.0",
      "model_name": "LayoutModel",
      "state": {}
     },
     "087490cfd01b424b9726712f1254236d": {
      "model_module": "@jupyter-widgets/controls",
      "model_module_version": "1.4.0",
      "model_name": "DescriptionStyleModel",
      "state": {
       "description_width": ""
      }
     },
     "08a48e44af63403897dcba4360532daa": {
      "model_module": "@jupyter-widgets/controls",
      "model_module_version": "1.4.0",
      "model_name": "RadioButtonsModel",
      "state": {
       "_options_labels": [
        "1000",
        "2000",
        "5000",
        "10000"
       ],
       "description": "Size",
       "index": 0,
       "layout": "IPY_MODEL_de88f2a689824cff91546fef6ae6030e",
       "style": "IPY_MODEL_2f56decbb4d54e43a5207b9af26b0caa"
      }
     },
     "08b25b4fdc774ceb8acf90505cd2be9c": {
      "model_module": "@jupyter-widgets/output",
      "model_module_version": "1.0.0",
      "model_name": "OutputModel",
      "state": {
       "layout": "IPY_MODEL_e459529dc3604354ac77e39181f5cf3b"
      }
     },
     "08e3e84e23bb465a8da10da6eea049cf": {
      "model_module": "@jupyter-widgets/base",
      "model_module_version": "1.1.0",
      "model_name": "LayoutModel",
      "state": {}
     },
     "0b6c3993f3794fedbbe92043d589de71": {
      "model_module": "@jupyter-widgets/controls",
      "model_module_version": "1.4.0",
      "model_name": "RadioButtonsModel",
      "state": {
       "_options_labels": [
        "1000",
        "2000",
        "5000",
        "10000"
       ],
       "description": "Size",
       "index": 0,
       "layout": "IPY_MODEL_f847b0c74d014f1ab26180a65a261603",
       "style": "IPY_MODEL_e0aba9687e9d495a9ffef8671fa9dcce"
      }
     },
     "0bd16bfdede74340b0b096f5ded98d3c": {
      "model_module": "@jupyter-widgets/base",
      "model_module_version": "1.1.0",
      "model_name": "LayoutModel",
      "state": {}
     },
     "0c264e8213854ac1b9e9d96a42b93ebe": {
      "model_module": "@jupyter-widgets/base",
      "model_module_version": "1.1.0",
      "model_name": "LayoutModel",
      "state": {}
     },
     "0c54dff43dae48b6872efd71fe556232": {
      "model_module": "@jupyter-widgets/base",
      "model_module_version": "1.1.0",
      "model_name": "LayoutModel",
      "state": {}
     },
     "0ce27f492bcc4f76b79870ae2cfa7ad2": {
      "model_module": "@jupyter-widgets/controls",
      "model_module_version": "1.4.0",
      "model_name": "DescriptionStyleModel",
      "state": {
       "description_width": ""
      }
     },
     "0d294b092d084a6d8480b86d5d03d05b": {
      "model_module": "@jupyter-widgets/output",
      "model_module_version": "1.0.0",
      "model_name": "OutputModel",
      "state": {
       "layout": "IPY_MODEL_a8223a40e24449e78330791e1d9236cf"
      }
     },
     "0d2b63cfd02a4df285e55e334cb59fa7": {
      "model_module": "@jupyter-widgets/base",
      "model_module_version": "1.1.0",
      "model_name": "LayoutModel",
      "state": {}
     },
     "0d78a68254e143a4b8f74f0355df495a": {
      "model_module": "@jupyter-widgets/controls",
      "model_module_version": "1.4.0",
      "model_name": "RadioButtonsModel",
      "state": {
       "_options_labels": [
        "1000",
        "2000",
        "5000",
        "10000"
       ],
       "description": "Size",
       "index": 0,
       "layout": "IPY_MODEL_ecc97a11a0454b9f803fcfa3590e7c95",
       "style": "IPY_MODEL_040d31d766104d0ca43daa5f3f933971"
      }
     },
     "0d97d4d822404761af32c5a5a3eca809": {
      "model_module": "@jupyter-widgets/base",
      "model_module_version": "1.1.0",
      "model_name": "LayoutModel",
      "state": {}
     },
     "0e0ceec5709345d6a27b41394482b87d": {
      "model_module": "@jupyter-widgets/controls",
      "model_module_version": "1.4.0",
      "model_name": "RadioButtonsModel",
      "state": {
       "_options_labels": [
        "1000",
        "2000",
        "5000",
        "10000"
       ],
       "description": "Size",
       "index": 0,
       "layout": "IPY_MODEL_ecb61b660de04255860e8805c34e3fbe",
       "style": "IPY_MODEL_2f798c74e6fa40e283556e9eca903b32"
      }
     },
     "0e49563b1c0b4eb89fd84d03a13b3ba7": {
      "model_module": "@jupyter-widgets/controls",
      "model_module_version": "1.4.0",
      "model_name": "RadioButtonsModel",
      "state": {
       "_options_labels": [
        "1000",
        "2000",
        "5000",
        "10000"
       ],
       "description": "Size",
       "index": 0,
       "layout": "IPY_MODEL_6903a6604906412bbd7f2c27799ba74d",
       "style": "IPY_MODEL_26c0ab44f215465389cdfd829ab80e35"
      }
     },
     "0e5986d4e5904dc9aed83d84ad3488f2": {
      "model_module": "@jupyter-widgets/controls",
      "model_module_version": "1.4.0",
      "model_name": "RadioButtonsModel",
      "state": {
       "_options_labels": [
        "1000",
        "2000",
        "5000",
        "10000"
       ],
       "description": "Size",
       "index": 0,
       "layout": "IPY_MODEL_a366b58a13854b14807e1e92a1566798",
       "style": "IPY_MODEL_c6f498533e41409da0e58285b06f5607"
      }
     },
     "0ea2414787394543a4a80e866304ac71": {
      "model_module": "@jupyter-widgets/controls",
      "model_module_version": "1.4.0",
      "model_name": "DescriptionStyleModel",
      "state": {
       "description_width": ""
      }
     },
     "0fb94e63b13d4d1d8c960588e5b51922": {
      "model_module": "@jupyter-widgets/controls",
      "model_module_version": "1.4.0",
      "model_name": "VBoxModel",
      "state": {
       "children": [
        "IPY_MODEL_0b6c3993f3794fedbbe92043d589de71",
        "IPY_MODEL_baaf49c82a3f441e8793329734f8a656",
        "IPY_MODEL_cc50cc714dbb4d40b46908b30dddd174"
       ],
       "layout": "IPY_MODEL_a986186b46804c4eb0679129760f846f"
      }
     },
     "1015971d6c174baaabde80a89d63b49e": {
      "model_module": "@jupyter-widgets/base",
      "model_module_version": "1.1.0",
      "model_name": "LayoutModel",
      "state": {}
     },
     "104394a5c9424084b34ccaaf3ea661b2": {
      "model_module": "@jupyter-widgets/controls",
      "model_module_version": "1.4.0",
      "model_name": "VBoxModel",
      "state": {
       "children": [
        "IPY_MODEL_827d5a156df243bd9555fedb9a1d435e",
        "IPY_MODEL_42704568d29946ceb75f030c0806fa1f",
        "IPY_MODEL_dd2fac10ccd84066a8cd7ce3a9c57cf0"
       ],
       "layout": "IPY_MODEL_f71859882e90406288b1a0649d4e6e1f"
      }
     },
     "104d94e9be074f03ab006bf65af69abe": {
      "model_module": "@jupyter-widgets/controls",
      "model_module_version": "1.4.0",
      "model_name": "DescriptionStyleModel",
      "state": {
       "description_width": ""
      }
     },
     "10d40b7bef07413a8b640acb6187214e": {
      "model_module": "@jupyter-widgets/base",
      "model_module_version": "1.1.0",
      "model_name": "LayoutModel",
      "state": {}
     },
     "1104d2daf8264addbb3ccc840106bee0": {
      "model_module": "@jupyter-widgets/controls",
      "model_module_version": "1.4.0",
      "model_name": "VBoxModel",
      "state": {
       "children": [
        "IPY_MODEL_0e49563b1c0b4eb89fd84d03a13b3ba7",
        "IPY_MODEL_2436e7040df54ee18df63241ff60a3bb",
        "IPY_MODEL_73bbedc84107450ab15ba0e3e81b2e36"
       ],
       "layout": "IPY_MODEL_534012b4b452410388ce8ddbc2ca7cb8"
      }
     },
     "116d685121fb42f7aaf7fd619baa18ae": {
      "model_module": "@jupyter-widgets/controls",
      "model_module_version": "1.4.0",
      "model_name": "DropdownModel",
      "state": {
       "_options_labels": [
        "segment",
        "covertype",
        "digits",
        "fall_detection",
        "mnist",
        "pen_digits",
        "satellite",
        "vowel"
       ],
       "description": "Dataset:",
       "index": 0,
       "layout": "IPY_MODEL_4840ea4a4c0a4fe18f8bdd7bc0cc1cfa",
       "style": "IPY_MODEL_b01bdb2fb9e24cdb8fb9da93a4325a7a"
      }
     },
     "125b1d8b7818476f8d99dd30842e5176": {
      "model_module": "@jupyter-widgets/base",
      "model_module_version": "1.1.0",
      "model_name": "LayoutModel",
      "state": {}
     },
     "13d31e1773fc4e3e9e85bbe76ced3c8b": {
      "model_module": "@jupyter-widgets/controls",
      "model_module_version": "1.4.0",
      "model_name": "VBoxModel",
      "state": {
       "children": [
        "IPY_MODEL_1a374d60668d4976ae9b818815e4f670",
        "IPY_MODEL_2e0f998984c64c33bd01157a651f7817",
        "IPY_MODEL_6ab5dfe7594145aab8a596c81b69df2f"
       ],
       "layout": "IPY_MODEL_c65f661095f248b59e51a0369312a65f"
      }
     },
     "1455076490234d1b91b6dcff54ae86f6": {
      "model_module": "@jupyter-widgets/controls",
      "model_module_version": "1.4.0",
      "model_name": "ButtonStyleModel",
      "state": {}
     },
     "1524972f49584b7f84350e54aec33d04": {
      "model_module": "@jupyter-widgets/controls",
      "model_module_version": "1.4.0",
      "model_name": "ButtonStyleModel",
      "state": {}
     },
     "1562ea72264540e0969fd880cbf10319": {
      "model_module": "@jupyter-widgets/base",
      "model_module_version": "1.1.0",
      "model_name": "LayoutModel",
      "state": {}
     },
     "16541643f14644eab467ec4b5781ad58": {
      "model_module": "@jupyter-widgets/output",
      "model_module_version": "1.0.0",
      "model_name": "OutputModel",
      "state": {
       "layout": "IPY_MODEL_57d90be4b9ce4f4fb2e078d0a97d2682"
      }
     },
     "16b48aaa91b14d4ba6537f9a9a790951": {
      "model_module": "@jupyter-widgets/controls",
      "model_module_version": "1.4.0",
      "model_name": "ButtonModel",
      "state": {
       "button_style": "info",
       "description": "Demo1",
       "layout": "IPY_MODEL_244035913eab40baae4928d2cc9f930f",
       "style": "IPY_MODEL_5e9abaa1f5e142578ba0784a2507982b",
       "tooltip": "# Modelos básicos\n    Permite ver cómo se comportan los modelos simples (Decision Tree, Logit,\n    LinearSVM) con un dataset determinado. Permite saber si algunos problemas\n    son más difíciles que otros para on modelo básico.\n    "
      }
     },
     "175b0f2e893d4cc68f421b08cd048fd9": {
      "model_module": "@jupyter-widgets/base",
      "model_module_version": "1.1.0",
      "model_name": "LayoutModel",
      "state": {}
     },
     "18606314fe644dc7bd3539ec93c1a6ae": {
      "model_module": "@jupyter-widgets/controls",
      "model_module_version": "1.4.0",
      "model_name": "DescriptionStyleModel",
      "state": {
       "description_width": ""
      }
     },
     "18cd6136c2f7455b9a1a617e321537c8": {
      "model_module": "@jupyter-widgets/base",
      "model_module_version": "1.1.0",
      "model_name": "LayoutModel",
      "state": {}
     },
     "192090284a204c22bb64d58ac9055f09": {
      "model_module": "@jupyter-widgets/controls",
      "model_module_version": "1.4.0",
      "model_name": "DropdownModel",
      "state": {
       "_options_labels": [
        "segment",
        "covertype",
        "digits",
        "fall_detection",
        "mnist",
        "pen_digits",
        "satellite",
        "vowel"
       ],
       "description": "Dataset:",
       "index": 0,
       "layout": "IPY_MODEL_7c3e8b2e4eca4c3f9a1a7ae6ea178632",
       "style": "IPY_MODEL_d1e7262200bb4d81ade5df4e1a93c9e6"
      }
     },
     "192164d56aae47e68c6e52ac6cb0c190": {
      "model_module": "@jupyter-widgets/base",
      "model_module_version": "1.1.0",
      "model_name": "LayoutModel",
      "state": {}
     },
     "1953fad18d5444e496bfd87283b7e65c": {
      "model_module": "@jupyter-widgets/base",
      "model_module_version": "1.1.0",
      "model_name": "LayoutModel",
      "state": {}
     },
     "1979f10f3b6b4220995caf760f125b45": {
      "model_module": "@jupyter-widgets/controls",
      "model_module_version": "1.4.0",
      "model_name": "DescriptionStyleModel",
      "state": {
       "description_width": ""
      }
     },
     "197bfcd6dc65438fbf2f0f5b3cc09807": {
      "model_module": "@jupyter-widgets/output",
      "model_module_version": "1.0.0",
      "model_name": "OutputModel",
      "state": {
       "layout": "IPY_MODEL_21557dc31d7d4b91b6c254ec211a3039",
       "outputs": [
        {
         "data": {
          "text/markdown": "\n- Arg 1: **value1**\n- Arg 2: **value2**\n        ",
          "text/plain": "<IPython.core.display.Markdown object>"
         },
         "metadata": {},
         "output_type": "display_data"
        },
        {
         "data": {
          "image/png": "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\n",
          "text/plain": "<Figure size 921.6x345.6 with 2 Axes>"
         },
         "metadata": {},
         "output_type": "display_data"
        }
       ]
      }
     },
     "19c5209785564e71b7f852a95f4b28b3": {
      "model_module": "@jupyter-widgets/output",
      "model_module_version": "1.0.0",
      "model_name": "OutputModel",
      "state": {
       "layout": "IPY_MODEL_3c4d82b43ee440fda19ec966824e7cb8"
      }
     },
     "1a374d60668d4976ae9b818815e4f670": {
      "model_module": "@jupyter-widgets/controls",
      "model_module_version": "1.4.0",
      "model_name": "RadioButtonsModel",
      "state": {
       "_options_labels": [
        "1000",
        "2000",
        "5000",
        "10000"
       ],
       "description": "Size",
       "index": 0,
       "layout": "IPY_MODEL_9892b2197b85484580ec66ed881c8030",
       "style": "IPY_MODEL_37a157beabc94bc9840dd907849ff7a2"
      }
     },
     "1afaca0af9bc4f2089d81619e36330e0": {
      "model_module": "@jupyter-widgets/controls",
      "model_module_version": "1.4.0",
      "model_name": "RadioButtonsModel",
      "state": {
       "_options_labels": [
        "1000",
        "2000",
        "5000",
        "10000"
       ],
       "description": "Size",
       "index": 0,
       "layout": "IPY_MODEL_745486fed45f4870b270cbebf371f01e",
       "style": "IPY_MODEL_0ea2414787394543a4a80e866304ac71"
      }
     },
     "1b865bd051e54b929456369b2eb35bba": {
      "model_module": "@jupyter-widgets/controls",
      "model_module_version": "1.4.0",
      "model_name": "ButtonModel",
      "state": {
       "button_style": "info",
       "description": "Demo1",
       "layout": "IPY_MODEL_df2f644bbd06439a80081e0b9b9b8c1e",
       "style": "IPY_MODEL_fa6671e221fd4769aa74e53092d62681",
       "tooltip": "# Modelos básicos\n    Permite ver cómo se comportan los modelos simples (Decision Tree, Logit,\n    LinearSVM) con un dataset determinado. Permite saber si algunos problemas\n    son más difíciles que otros para on modelo básico.\n    "
      }
     },
     "1c5d54e8447140f59f89e6021cd7bbd7": {
      "model_module": "@jupyter-widgets/controls",
      "model_module_version": "1.4.0",
      "model_name": "VBoxModel",
      "state": {
       "children": [
        "IPY_MODEL_b016d58ae4da4db786f09c210afaacc3",
        "IPY_MODEL_ee9f316042c443cda994571f414dbe65",
        "IPY_MODEL_2c3473e38a1e4e09b8ed9dea414a02b7"
       ],
       "layout": "IPY_MODEL_43eb434d6e784928ac01352b2804e530"
      }
     },
     "1d93b894fc2d44228cc09fc54ce971e8": {
      "model_module": "@jupyter-widgets/controls",
      "model_module_version": "1.4.0",
      "model_name": "VBoxModel",
      "state": {
       "children": [
        "IPY_MODEL_c311e595d8794239b9d7c9770293e98c",
        "IPY_MODEL_968192b4d30a48a99e8e1f6c6d1aae13",
        "IPY_MODEL_77d11f2a95c34d37821779ac1502d901"
       ],
       "layout": "IPY_MODEL_fdd2e396c271460eaef5ef933756955c"
      }
     },
     "1e7f4f4ebb51466c9f6aba83d8748086": {
      "model_module": "@jupyter-widgets/controls",
      "model_module_version": "1.4.0",
      "model_name": "DescriptionStyleModel",
      "state": {
       "description_width": ""
      }
     },
     "1eed42a97afb47ca910e0e537253677c": {
      "model_module": "@jupyter-widgets/controls",
      "model_module_version": "1.4.0",
      "model_name": "ButtonModel",
      "state": {
       "button_style": "info",
       "description": "Demo1",
       "layout": "IPY_MODEL_54e97370ebe0427d982bf3bb1b8471d4",
       "style": "IPY_MODEL_595b225ace9d42f294bab3acc6134420",
       "tooltip": "# Modelos básicos\n    Permite ver cómo se comportan los modelos simples (Decision Tree, Logit,\n    LinearSVM) con un dataset determinado. Permite saber si algunos problemas\n    son más difíciles que otros para on modelo básico.\n    "
      }
     },
     "1f249ef56e1c42ca871766a49f0b3263": {
      "model_module": "@jupyter-widgets/base",
      "model_module_version": "1.1.0",
      "model_name": "LayoutModel",
      "state": {}
     },
     "1f37952a07b14d708f4dfe4a629af2ab": {
      "model_module": "@jupyter-widgets/base",
      "model_module_version": "1.1.0",
      "model_name": "LayoutModel",
      "state": {}
     },
     "205949b605cd4a4cb2e0e49e46910515": {
      "model_module": "@jupyter-widgets/base",
      "model_module_version": "1.1.0",
      "model_name": "LayoutModel",
      "state": {}
     },
     "20c58319af844a3688fa21413905fe4f": {
      "model_module": "@jupyter-widgets/controls",
      "model_module_version": "1.4.0",
      "model_name": "ButtonModel",
      "state": {
       "button_style": "info",
       "description": "Template",
       "layout": "IPY_MODEL_eed417f20de74f9fbddf69754d11bae6",
       "style": "IPY_MODEL_bcf535c4930747d5bcfb970c61eecd6b"
      }
     },
     "2111ac85c305409aa0b8c3a5246bc3b0": {
      "model_module": "@jupyter-widgets/base",
      "model_module_version": "1.1.0",
      "model_name": "LayoutModel",
      "state": {}
     },
     "211fd53c2b6e4c208d9b4a89131f6644": {
      "model_module": "@jupyter-widgets/controls",
      "model_module_version": "1.4.0",
      "model_name": "ButtonStyleModel",
      "state": {}
     },
     "21557dc31d7d4b91b6c254ec211a3039": {
      "model_module": "@jupyter-widgets/base",
      "model_module_version": "1.1.0",
      "model_name": "LayoutModel",
      "state": {}
     },
     "2180717dd64949e3853447315aedfac0": {
      "model_module": "@jupyter-widgets/controls",
      "model_module_version": "1.4.0",
      "model_name": "DescriptionStyleModel",
      "state": {
       "description_width": ""
      }
     },
     "2184481918d7430eb5301b32568d0b11": {
      "model_module": "@jupyter-widgets/base",
      "model_module_version": "1.1.0",
      "model_name": "LayoutModel",
      "state": {}
     },
     "2211b11b16044106853bf9b25dbc6fd7": {
      "model_module": "@jupyter-widgets/base",
      "model_module_version": "1.1.0",
      "model_name": "LayoutModel",
      "state": {}
     },
     "22799d87f7c64c9682d6ee8868664e03": {
      "model_module": "@jupyter-widgets/base",
      "model_module_version": "1.1.0",
      "model_name": "LayoutModel",
      "state": {}
     },
     "22e5121916654979818360d1cf6930ba": {
      "model_module": "@jupyter-widgets/controls",
      "model_module_version": "1.4.0",
      "model_name": "ButtonStyleModel",
      "state": {}
     },
     "22fe4b8bf6fb4d7497133590421e3727": {
      "model_module": "@jupyter-widgets/base",
      "model_module_version": "1.1.0",
      "model_name": "LayoutModel",
      "state": {}
     },
     "2436e7040df54ee18df63241ff60a3bb": {
      "model_module": "@jupyter-widgets/controls",
      "model_module_version": "1.4.0",
      "model_name": "DropdownModel",
      "state": {
       "_options_labels": [
        "segment",
        "covertype",
        "digits",
        "fall_detection",
        "mnist",
        "pen_digits",
        "satellite",
        "vowel"
       ],
       "description": "Dataset:",
       "index": 0,
       "layout": "IPY_MODEL_807bb9490590475781bc194b9b201fb4",
       "style": "IPY_MODEL_baa06ab1e43040b0a9ec2a21d66b0be9"
      }
     },
     "244035913eab40baae4928d2cc9f930f": {
      "model_module": "@jupyter-widgets/base",
      "model_module_version": "1.1.0",
      "model_name": "LayoutModel",
      "state": {}
     },
     "24bb271feced44eb977b1752d49e10e0": {
      "model_module": "@jupyter-widgets/base",
      "model_module_version": "1.1.0",
      "model_name": "LayoutModel",
      "state": {}
     },
     "25a893cafbd249ea8d982b738724e1ef": {
      "model_module": "@jupyter-widgets/base",
      "model_module_version": "1.1.0",
      "model_name": "LayoutModel",
      "state": {}
     },
     "26c0ab44f215465389cdfd829ab80e35": {
      "model_module": "@jupyter-widgets/controls",
      "model_module_version": "1.4.0",
      "model_name": "DescriptionStyleModel",
      "state": {
       "description_width": ""
      }
     },
     "2818e667aee14b7396b5f13571bc356b": {
      "model_module": "@jupyter-widgets/controls",
      "model_module_version": "1.4.0",
      "model_name": "DescriptionStyleModel",
      "state": {
       "description_width": ""
      }
     },
     "28b90bf90b934555b1199660d21424c7": {
      "model_module": "@jupyter-widgets/base",
      "model_module_version": "1.1.0",
      "model_name": "LayoutModel",
      "state": {}
     },
     "29f6c751eb1c4981a154d78ab7f3d210": {
      "model_module": "@jupyter-widgets/controls",
      "model_module_version": "1.4.0",
      "model_name": "VBoxModel",
      "state": {
       "children": [
        "IPY_MODEL_9e441648e55543a8a9b3814a2a3abb07",
        "IPY_MODEL_cec7dae7fd6d43ff80f196061164c6ec",
        "IPY_MODEL_63067f11f34340f493836840c7976aa7"
       ],
       "layout": "IPY_MODEL_cf5a3c05d7d04e2abc3303c45c846096"
      }
     },
     "2c3473e38a1e4e09b8ed9dea414a02b7": {
      "model_module": "@jupyter-widgets/controls",
      "model_module_version": "1.4.0",
      "model_name": "ButtonModel",
      "state": {
       "button_style": "info",
       "description": "Demo1",
       "layout": "IPY_MODEL_3ac6db79e4dd4e3fbbef544d226c14cc",
       "style": "IPY_MODEL_d97967b8d7a44443a521d370d2b95d6d",
       "tooltip": "# Modelos básicos\n    Permite ver cómo se comportan los modelos simples (Decision Tree, Logit,\n    LinearSVM) con un dataset determinado. Permite saber si algunos problemas\n    son más difíciles que otros para on modelo básico.\n    "
      }
     },
     "2caa743d82904b559c0421d1038edda8": {
      "model_module": "@jupyter-widgets/controls",
      "model_module_version": "1.4.0",
      "model_name": "RadioButtonsModel",
      "state": {
       "_options_labels": [
        "1000",
        "2000",
        "5000",
        "10000"
       ],
       "description": "Size",
       "index": 0,
       "layout": "IPY_MODEL_0c54dff43dae48b6872efd71fe556232",
       "style": "IPY_MODEL_d46db0c6963c4979a00cbcadb8957f76"
      }
     },
     "2da7181de18c4702b5d6fa5b48056875": {
      "model_module": "@jupyter-widgets/controls",
      "model_module_version": "1.4.0",
      "model_name": "DropdownModel",
      "state": {
       "_options_labels": [
        "segment",
        "covertype",
        "digits",
        "fall_detection",
        "mnist",
        "pen_digits",
        "satellite",
        "vowel"
       ],
       "description": "Dataset:",
       "index": 0,
       "layout": "IPY_MODEL_c6c66e8597c540b3ae2c6371abd0984f",
       "style": "IPY_MODEL_f2c9bb943337466ea2d54ebb175dde2d"
      }
     },
     "2de9afe3755a4791b033378d4c38ef71": {
      "model_module": "@jupyter-widgets/controls",
      "model_module_version": "1.4.0",
      "model_name": "ButtonStyleModel",
      "state": {}
     },
     "2e0f998984c64c33bd01157a651f7817": {
      "model_module": "@jupyter-widgets/controls",
      "model_module_version": "1.4.0",
      "model_name": "DropdownModel",
      "state": {
       "_options_labels": [
        "segment",
        "covertype",
        "digits",
        "fall_detection",
        "mnist",
        "pen_digits",
        "satellite",
        "vowel"
       ],
       "description": "Dataset:",
       "index": 0,
       "layout": "IPY_MODEL_527fbb8208d34dd4b07cdd42a3855caf",
       "style": "IPY_MODEL_3d92fdad4ef24de39d4cce7e8a1c73ba"
      }
     },
     "2e4ac17c01f74ece8910c0ed619b7c62": {
      "model_module": "@jupyter-widgets/controls",
      "model_module_version": "1.4.0",
      "model_name": "DescriptionStyleModel",
      "state": {
       "description_width": ""
      }
     },
     "2ee7c1b915cf4e30ae50b9c83b5d7c25": {
      "model_module": "@jupyter-widgets/controls",
      "model_module_version": "1.4.0",
      "model_name": "ButtonModel",
      "state": {
       "button_style": "info",
       "description": "Demo1",
       "layout": "IPY_MODEL_80e1749f0dd2411e84008ba76f783e16",
       "style": "IPY_MODEL_fd72aa74176a4e939d6741812705a23f",
       "tooltip": "# Modelos básicos\n    Permite ver cómo se comportan los modelos simples (Decision Tree, Logit,\n    LinearSVM) con un dataset determinado. Permite saber si algunos problemas\n    son más difíciles que otros para on modelo básico.\n    "
      }
     },
     "2f1be64aa58c41759e64bd50ff4c2d64": {
      "model_module": "@jupyter-widgets/base",
      "model_module_version": "1.1.0",
      "model_name": "LayoutModel",
      "state": {}
     },
     "2f56decbb4d54e43a5207b9af26b0caa": {
      "model_module": "@jupyter-widgets/controls",
      "model_module_version": "1.4.0",
      "model_name": "DescriptionStyleModel",
      "state": {
       "description_width": ""
      }
     },
     "2f650fa71e874b97a16280c5deb89e9c": {
      "model_module": "@jupyter-widgets/base",
      "model_module_version": "1.1.0",
      "model_name": "LayoutModel",
      "state": {}
     },
     "2f798c74e6fa40e283556e9eca903b32": {
      "model_module": "@jupyter-widgets/controls",
      "model_module_version": "1.4.0",
      "model_name": "DescriptionStyleModel",
      "state": {
       "description_width": ""
      }
     },
     "2f8582e6eec840f0bc5ccd825eddfb3a": {
      "model_module": "@jupyter-widgets/controls",
      "model_module_version": "1.4.0",
      "model_name": "VBoxModel",
      "state": {
       "children": [
        "IPY_MODEL_c2f96e4181344b7aad7a5e99278564f4",
        "IPY_MODEL_898cf59b33964960b343f695727a0145",
        "IPY_MODEL_2ee7c1b915cf4e30ae50b9c83b5d7c25"
       ],
       "layout": "IPY_MODEL_4bc8b733b6c74fc19c419a248dd2cf8f"
      }
     },
     "2fe09dc312024d1aa36df163226510cb": {
      "model_module": "@jupyter-widgets/controls",
      "model_module_version": "1.4.0",
      "model_name": "RadioButtonsModel",
      "state": {
       "_options_labels": [
        "1000",
        "2000",
        "5000",
        "10000"
       ],
       "description": "Size",
       "index": 0,
       "layout": "IPY_MODEL_c05ba502ffbd4715b0dc8603b18ca438",
       "style": "IPY_MODEL_7d5b640c40b5452facd36906f00f5e3d"
      }
     },
     "30c18a8d92584a7f81a4411c1dacf342": {
      "model_module": "@jupyter-widgets/base",
      "model_module_version": "1.1.0",
      "model_name": "LayoutModel",
      "state": {}
     },
     "3165677c15d64af4b3b86f5905bcde3a": {
      "model_module": "@jupyter-widgets/base",
      "model_module_version": "1.1.0",
      "model_name": "LayoutModel",
      "state": {}
     },
     "31f869e4b1c24c8e8986a4cc06018d3f": {
      "model_module": "@jupyter-widgets/controls",
      "model_module_version": "1.4.0",
      "model_name": "VBoxModel",
      "state": {
       "children": [
        "IPY_MODEL_8013c0d1591a4395acf0a054ad85e437",
        "IPY_MODEL_6c5e7444430a4f23a796f7e4783f2949",
        "IPY_MODEL_35318efdaaf84dc8a7715c794cf6f8f0"
       ],
       "layout": "IPY_MODEL_0bd16bfdede74340b0b096f5ded98d3c"
      }
     },
     "324ff4892d1944948ce2cc534cceedb2": {
      "model_module": "@jupyter-widgets/controls",
      "model_module_version": "1.4.0",
      "model_name": "DescriptionStyleModel",
      "state": {
       "description_width": ""
      }
     },
     "32fab96515d945acbdb5e1de6e9b3b91": {
      "model_module": "@jupyter-widgets/controls",
      "model_module_version": "1.4.0",
      "model_name": "ButtonStyleModel",
      "state": {}
     },
     "332b2f0b15424e85a2942b01729911a3": {
      "model_module": "@jupyter-widgets/base",
      "model_module_version": "1.1.0",
      "model_name": "LayoutModel",
      "state": {}
     },
     "332ed50fbf2a4c18ac5346a2774111e7": {
      "model_module": "@jupyter-widgets/output",
      "model_module_version": "1.0.0",
      "model_name": "OutputModel",
      "state": {
       "layout": "IPY_MODEL_8bc8593cfe804a20b3d5dea94144b5d2"
      }
     },
     "3484af66ab604ff3a2cf0e896233e326": {
      "model_module": "@jupyter-widgets/controls",
      "model_module_version": "1.4.0",
      "model_name": "DropdownModel",
      "state": {
       "_options_labels": [
        "segment",
        "covertype",
        "digits",
        "fall_detection",
        "mnist",
        "pen_digits",
        "satellite",
        "vowel"
       ],
       "description": "Dataset:",
       "index": 0,
       "layout": "IPY_MODEL_bd66fbfea8d946adbfb7f2acbdb4968e",
       "style": "IPY_MODEL_f6c16347cb8447a4b2a8d68ad690283d"
      }
     },
     "34f46bd229af40109f8e4a7b4f9f2909": {
      "model_module": "@jupyter-widgets/controls",
      "model_module_version": "1.4.0",
      "model_name": "DropdownModel",
      "state": {
       "_options_labels": [
        "segment",
        "covertype",
        "digits",
        "fall_detection",
        "mnist",
        "pen_digits",
        "satellite",
        "vowel"
       ],
       "description": "Dataset:",
       "index": 0,
       "layout": "IPY_MODEL_8ff5e21d04ca4ade83c1f99d544c2ce0",
       "style": "IPY_MODEL_40d1f4a2e5e54c13ab852a26d6d45870"
      }
     },
     "34fc76bcde27466c841f16dbec8c3162": {
      "model_module": "@jupyter-widgets/base",
      "model_module_version": "1.1.0",
      "model_name": "LayoutModel",
      "state": {}
     },
     "35318efdaaf84dc8a7715c794cf6f8f0": {
      "model_module": "@jupyter-widgets/controls",
      "model_module_version": "1.4.0",
      "model_name": "ButtonModel",
      "state": {
       "button_style": "info",
       "description": "Demo1",
       "layout": "IPY_MODEL_9efc585261024ca897c9025a9aabfaf4",
       "style": "IPY_MODEL_8dedf3324b014d71855ffb9439ccd9d8",
       "tooltip": "# Modelos básicos\n    Permite ver cómo se comportan los modelos simples (Decision Tree, Logit,\n    LinearSVM) con un dataset determinado. Permite saber si algunos problemas\n    son más difíciles que otros para on modelo básico.\n    "
      }
     },
     "357bdc053d7e4fd6aa51bb80e8ca81d5": {
      "model_module": "@jupyter-widgets/base",
      "model_module_version": "1.1.0",
      "model_name": "LayoutModel",
      "state": {}
     },
     "35d9e7d068ac456fbe740a13b434e459": {
      "model_module": "@jupyter-widgets/controls",
      "model_module_version": "1.4.0",
      "model_name": "RadioButtonsModel",
      "state": {
       "_options_labels": [
        "1000",
        "2000",
        "5000",
        "10000"
       ],
       "description": "Size",
       "index": 0,
       "layout": "IPY_MODEL_3a2e7c35f5964088948f3ca3edb812f6",
       "style": "IPY_MODEL_05974a160561445592a2401167635266"
      }
     },
     "37a157beabc94bc9840dd907849ff7a2": {
      "model_module": "@jupyter-widgets/controls",
      "model_module_version": "1.4.0",
      "model_name": "DescriptionStyleModel",
      "state": {
       "description_width": ""
      }
     },
     "37c154c9742b4846bc08e78f1dc4941d": {
      "model_module": "@jupyter-widgets/controls",
      "model_module_version": "1.4.0",
      "model_name": "ButtonStyleModel",
      "state": {}
     },
     "39244d313c4e43b485d3683f1f636229": {
      "model_module": "@jupyter-widgets/base",
      "model_module_version": "1.1.0",
      "model_name": "LayoutModel",
      "state": {}
     },
     "3960be0381a94c11ac12162e742a57fd": {
      "model_module": "@jupyter-widgets/base",
      "model_module_version": "1.1.0",
      "model_name": "LayoutModel",
      "state": {}
     },
     "3976f0710ef9491ca056014fe727b270": {
      "model_module": "@jupyter-widgets/controls",
      "model_module_version": "1.4.0",
      "model_name": "VBoxModel",
      "state": {
       "children": [
        "IPY_MODEL_94f31124d439417284aecd74ac494bc7",
        "IPY_MODEL_7143b1fcacd74d3487d49df8ea067b1d",
        "IPY_MODEL_ed8facb77e1741fea7aec51d1272d00d"
       ],
       "layout": "IPY_MODEL_43cf8624249849b883694c7c3791713d"
      }
     },
     "39b287106ab54dc3bed0de4d61cc8b91": {
      "model_module": "@jupyter-widgets/output",
      "model_module_version": "1.0.0",
      "model_name": "OutputModel",
      "state": {
       "layout": "IPY_MODEL_c2b563cd22ec4576ae00325d5af172ba"
      }
     },
     "39c093f3a0f14db9be430201a9ef2123": {
      "model_module": "@jupyter-widgets/controls",
      "model_module_version": "1.4.0",
      "model_name": "DescriptionStyleModel",
      "state": {
       "description_width": ""
      }
     },
     "3a2e7c35f5964088948f3ca3edb812f6": {
      "model_module": "@jupyter-widgets/base",
      "model_module_version": "1.1.0",
      "model_name": "LayoutModel",
      "state": {}
     },
     "3a2eb501b6dc4a6dbb2c3aac8ca69332": {
      "model_module": "@jupyter-widgets/controls",
      "model_module_version": "1.4.0",
      "model_name": "RadioButtonsModel",
      "state": {
       "_options_labels": [
        "1000",
        "2000",
        "5000",
        "10000"
       ],
       "description": "Size",
       "index": 0,
       "layout": "IPY_MODEL_95914ed0fb874127b1b1d1e7561a11a9",
       "style": "IPY_MODEL_7169b7ad83e84aca8ae7b67a014dc92e"
      }
     },
     "3ac6db79e4dd4e3fbbef544d226c14cc": {
      "model_module": "@jupyter-widgets/base",
      "model_module_version": "1.1.0",
      "model_name": "LayoutModel",
      "state": {}
     },
     "3ae39c914bd14493aa034ce7f1306bcf": {
      "model_module": "@jupyter-widgets/controls",
      "model_module_version": "1.4.0",
      "model_name": "VBoxModel",
      "state": {
       "children": [
        "IPY_MODEL_0e5986d4e5904dc9aed83d84ad3488f2",
        "IPY_MODEL_3484af66ab604ff3a2cf0e896233e326",
        "IPY_MODEL_8fa86ceabb2345508f26ba9a1ec2ea9d"
       ],
       "layout": "IPY_MODEL_1562ea72264540e0969fd880cbf10319"
      }
     },
     "3c4d82b43ee440fda19ec966824e7cb8": {
      "model_module": "@jupyter-widgets/base",
      "model_module_version": "1.1.0",
      "model_name": "LayoutModel",
      "state": {}
     },
     "3c67c32149e1453d9d0c7347e9fbe475": {
      "model_module": "@jupyter-widgets/controls",
      "model_module_version": "1.4.0",
      "model_name": "DescriptionStyleModel",
      "state": {
       "description_width": ""
      }
     },
     "3d92fdad4ef24de39d4cce7e8a1c73ba": {
      "model_module": "@jupyter-widgets/controls",
      "model_module_version": "1.4.0",
      "model_name": "DescriptionStyleModel",
      "state": {
       "description_width": ""
      }
     },
     "3de4712b7a4543f8b036a539ac1b2495": {
      "model_module": "@jupyter-widgets/base",
      "model_module_version": "1.1.0",
      "model_name": "LayoutModel",
      "state": {}
     },
     "3e70f468dab74d46a94bed3f8bbbb3ea": {
      "model_module": "@jupyter-widgets/controls",
      "model_module_version": "1.4.0",
      "model_name": "ButtonModel",
      "state": {
       "button_style": "info",
       "description": "Demo1",
       "layout": "IPY_MODEL_5445947ff2b54a00a47a01339e8ba951",
       "style": "IPY_MODEL_f10dda7512db4764bf8095ddbc6cd075",
       "tooltip": "# Modelos básicos\n    Permite ver cómo se comportan los modelos simples (Decision Tree, Logit,\n    LinearSVM) con un dataset determinado. Permite saber si algunos problemas\n    son más difíciles que otros para on modelo básico.\n    "
      }
     },
     "3f0852baf5a142b2a39714754b3ed21b": {
      "model_module": "@jupyter-widgets/controls",
      "model_module_version": "1.4.0",
      "model_name": "DropdownModel",
      "state": {
       "_options_labels": [
        "segment",
        "covertype",
        "digits",
        "fall_detection",
        "mnist",
        "pen_digits",
        "satellite",
        "vowel"
       ],
       "description": "Dataset:",
       "index": 0,
       "layout": "IPY_MODEL_446d0d47f9074ed28e2060f867a86280",
       "style": "IPY_MODEL_087490cfd01b424b9726712f1254236d"
      }
     },
     "3f6bfa54e8f349d3bc16d17277c25224": {
      "model_module": "@jupyter-widgets/output",
      "model_module_version": "1.0.0",
      "model_name": "OutputModel",
      "state": {
       "layout": "IPY_MODEL_b73ce7555b014c72a6f3d2228dd36711"
      }
     },
     "3fa43077179745d5bfa163a2e07a84c2": {
      "model_module": "@jupyter-widgets/controls",
      "model_module_version": "1.4.0",
      "model_name": "DescriptionStyleModel",
      "state": {
       "description_width": ""
      }
     },
     "3fc96534c0bc402693e7cbba14a987ca": {
      "model_module": "@jupyter-widgets/base",
      "model_module_version": "1.1.0",
      "model_name": "LayoutModel",
      "state": {}
     },
     "403d1750134f4128883d6308980ce99a": {
      "model_module": "@jupyter-widgets/output",
      "model_module_version": "1.0.0",
      "model_name": "OutputModel",
      "state": {
       "layout": "IPY_MODEL_b7f4df1cfb52465bb21d9342f15e102e"
      }
     },
     "40c8077ae80746b9a53dd948660fbf9a": {
      "model_module": "@jupyter-widgets/base",
      "model_module_version": "1.1.0",
      "model_name": "LayoutModel",
      "state": {}
     },
     "40c92783da564bfab50f19853c1a2150": {
      "model_module": "@jupyter-widgets/controls",
      "model_module_version": "1.4.0",
      "model_name": "VBoxModel",
      "state": {
       "children": [
        "IPY_MODEL_9d76d1a9eab5432cae05bda50d2522af",
        "IPY_MODEL_41261fcdd4004602b39acc98c0fb963d",
        "IPY_MODEL_fc1f2c68fc9a4094a7732285a90670f8"
       ],
       "layout": "IPY_MODEL_d2dad32df5374ad0a6cdf8264bf3f9c1"
      }
     },
     "40cca0d45330479da5f9130dce8fdcd5": {
      "model_module": "@jupyter-widgets/controls",
      "model_module_version": "1.4.0",
      "model_name": "ButtonModel",
      "state": {
       "button_style": "info",
       "description": "Demo1",
       "layout": "IPY_MODEL_a98a9dc105574d43ae446dbf89a2a0e0",
       "style": "IPY_MODEL_ab022938af3b45cea004e854b49ab1f7",
       "tooltip": "# Modelos básicos\n    Permite ver cómo se comportan los modelos simples (Decision Tree, Logit,\n    LinearSVM) con un dataset determinado. Permite saber si algunos problemas\n    son más difíciles que otros para on modelo básico.\n    "
      }
     },
     "40d1f4a2e5e54c13ab852a26d6d45870": {
      "model_module": "@jupyter-widgets/controls",
      "model_module_version": "1.4.0",
      "model_name": "DescriptionStyleModel",
      "state": {
       "description_width": ""
      }
     },
     "41261fcdd4004602b39acc98c0fb963d": {
      "model_module": "@jupyter-widgets/controls",
      "model_module_version": "1.4.0",
      "model_name": "DropdownModel",
      "state": {
       "_options_labels": [
        "segment",
        "covertype",
        "digits",
        "fall_detection",
        "mnist",
        "pen_digits",
        "satellite",
        "vowel"
       ],
       "description": "Dataset:",
       "index": 0,
       "layout": "IPY_MODEL_a42ef975ad944db989bee8a3e1aff9e7",
       "style": "IPY_MODEL_0ce27f492bcc4f76b79870ae2cfa7ad2"
      }
     },
     "41367eb74ed349e7a8f2ee3b2035f850": {
      "model_module": "@jupyter-widgets/base",
      "model_module_version": "1.1.0",
      "model_name": "LayoutModel",
      "state": {}
     },
     "42704568d29946ceb75f030c0806fa1f": {
      "model_module": "@jupyter-widgets/controls",
      "model_module_version": "1.4.0",
      "model_name": "DropdownModel",
      "state": {
       "_options_labels": [
        "segment",
        "covertype",
        "digits",
        "fall_detection",
        "mnist",
        "pen_digits",
        "satellite",
        "vowel"
       ],
       "description": "Dataset:",
       "index": 0,
       "layout": "IPY_MODEL_7e048bcd0b1d45698f714cfe8fffa26a",
       "style": "IPY_MODEL_2180717dd64949e3853447315aedfac0"
      }
     },
     "43054511b1234663a84f3e8ed502b3f8": {
      "model_module": "@jupyter-widgets/base",
      "model_module_version": "1.1.0",
      "model_name": "LayoutModel",
      "state": {}
     },
     "43b6808fc3e748f8a469cd00d3fa507f": {
      "model_module": "@jupyter-widgets/output",
      "model_module_version": "1.0.0",
      "model_name": "OutputModel",
      "state": {
       "layout": "IPY_MODEL_25a893cafbd249ea8d982b738724e1ef"
      }
     },
     "43cf8624249849b883694c7c3791713d": {
      "model_module": "@jupyter-widgets/base",
      "model_module_version": "1.1.0",
      "model_name": "LayoutModel",
      "state": {}
     },
     "43eb434d6e784928ac01352b2804e530": {
      "model_module": "@jupyter-widgets/base",
      "model_module_version": "1.1.0",
      "model_name": "LayoutModel",
      "state": {}
     },
     "446d0d47f9074ed28e2060f867a86280": {
      "model_module": "@jupyter-widgets/base",
      "model_module_version": "1.1.0",
      "model_name": "LayoutModel",
      "state": {}
     },
     "45232eb70abe4fdebcdc3c08c00e5d6e": {
      "model_module": "@jupyter-widgets/controls",
      "model_module_version": "1.4.0",
      "model_name": "VBoxModel",
      "state": {
       "children": [
        "IPY_MODEL_1afaca0af9bc4f2089d81619e36330e0",
        "IPY_MODEL_2da7181de18c4702b5d6fa5b48056875",
        "IPY_MODEL_ad93b93320344411bcbb9f16922c89a4"
       ],
       "layout": "IPY_MODEL_3fc96534c0bc402693e7cbba14a987ca"
      }
     },
     "45609ce8e2924d15841515d02b11b6f2": {
      "model_module": "@jupyter-widgets/base",
      "model_module_version": "1.1.0",
      "model_name": "LayoutModel",
      "state": {}
     },
     "45ca023b34964433af25fdafd7dc7310": {
      "model_module": "@jupyter-widgets/controls",
      "model_module_version": "1.4.0",
      "model_name": "DropdownModel",
      "state": {
       "_options_labels": [
        "segment",
        "covertype",
        "digits",
        "fall_detection",
        "mnist",
        "pen_digits",
        "satellite",
        "vowel"
       ],
       "description": "Dataset:",
       "index": 0,
       "layout": "IPY_MODEL_2f1be64aa58c41759e64bd50ff4c2d64",
       "style": "IPY_MODEL_6120fb9d1f7c43499400723498af8289"
      }
     },
     "463ccfe6274a4b3c8ce197662f17f2b5": {
      "model_module": "@jupyter-widgets/base",
      "model_module_version": "1.1.0",
      "model_name": "LayoutModel",
      "state": {}
     },
     "46a43134b9134853bc3cff2cab4d4aef": {
      "model_module": "@jupyter-widgets/controls",
      "model_module_version": "1.4.0",
      "model_name": "RadioButtonsModel",
      "state": {
       "_options_labels": [
        "1000",
        "2000",
        "5000",
        "10000"
       ],
       "description": "Size",
       "index": 0,
       "layout": "IPY_MODEL_2184481918d7430eb5301b32568d0b11",
       "style": "IPY_MODEL_eaea28a2dde34242aa04b0084d2a357a"
      }
     },
     "473a59fe5310428785550ea2a6cc9d96": {
      "model_module": "@jupyter-widgets/controls",
      "model_module_version": "1.4.0",
      "model_name": "DescriptionStyleModel",
      "state": {
       "description_width": ""
      }
     },
     "47898bd3d2e24e6e94243586f1657930": {
      "model_module": "@jupyter-widgets/controls",
      "model_module_version": "1.4.0",
      "model_name": "DescriptionStyleModel",
      "state": {
       "description_width": ""
      }
     },
     "4820d502219740dca96410b5cbd6dbc7": {
      "model_module": "@jupyter-widgets/controls",
      "model_module_version": "1.4.0",
      "model_name": "DescriptionStyleModel",
      "state": {
       "description_width": ""
      }
     },
     "4840ea4a4c0a4fe18f8bdd7bc0cc1cfa": {
      "model_module": "@jupyter-widgets/base",
      "model_module_version": "1.1.0",
      "model_name": "LayoutModel",
      "state": {}
     },
     "484e1ea2764f47e3903f70713fa5c485": {
      "model_module": "@jupyter-widgets/base",
      "model_module_version": "1.1.0",
      "model_name": "LayoutModel",
      "state": {}
     },
     "48a34c4359e347b8a7dfa1161f48cb6b": {
      "model_module": "@jupyter-widgets/controls",
      "model_module_version": "1.4.0",
      "model_name": "DescriptionStyleModel",
      "state": {
       "description_width": ""
      }
     },
     "48d5ae6e39714d4bb1517350574884e7": {
      "model_module": "@jupyter-widgets/base",
      "model_module_version": "1.1.0",
      "model_name": "LayoutModel",
      "state": {}
     },
     "492407178a7e417386408f111755d450": {
      "model_module": "@jupyter-widgets/controls",
      "model_module_version": "1.4.0",
      "model_name": "DropdownModel",
      "state": {
       "_options_labels": [
        "segment",
        "covertype",
        "digits",
        "fall_detection",
        "mnist",
        "pen_digits",
        "satellite",
        "vowel"
       ],
       "description": "Dataset:",
       "index": 0,
       "layout": "IPY_MODEL_463ccfe6274a4b3c8ce197662f17f2b5",
       "style": "IPY_MODEL_ffd3355fc0614cdea69be7827974818e"
      }
     },
     "493230424b8e45db909589c65de21d2a": {
      "model_module": "@jupyter-widgets/base",
      "model_module_version": "1.1.0",
      "model_name": "LayoutModel",
      "state": {}
     },
     "49415d8f76c646ac9d7a2ee54760e6b7": {
      "model_module": "@jupyter-widgets/base",
      "model_module_version": "1.1.0",
      "model_name": "LayoutModel",
      "state": {}
     },
     "4af0075567d846fab507c0a950036d78": {
      "model_module": "@jupyter-widgets/controls",
      "model_module_version": "1.4.0",
      "model_name": "DescriptionStyleModel",
      "state": {
       "description_width": ""
      }
     },
     "4b1d3a7eee2e4da1ad6379858a727519": {
      "model_module": "@jupyter-widgets/controls",
      "model_module_version": "1.4.0",
      "model_name": "DescriptionStyleModel",
      "state": {
       "description_width": ""
      }
     },
     "4b862eb290ed4670aed099dedd31e8c0": {
      "model_module": "@jupyter-widgets/controls",
      "model_module_version": "1.4.0",
      "model_name": "ButtonModel",
      "state": {
       "button_style": "info",
       "description": "Demo1",
       "layout": "IPY_MODEL_c02d123b46de473f805081a39d5ce459",
       "style": "IPY_MODEL_211fd53c2b6e4c208d9b4a89131f6644",
       "tooltip": "# Modelos básicos\n    Permite ver cómo se comportan los modelos simples (Decision Tree, Logit,\n    LinearSVM) con un dataset determinado. Permite saber si algunos problemas\n    son más difíciles que otros para on modelo básico.\n    "
      }
     },
     "4bc8b733b6c74fc19c419a248dd2cf8f": {
      "model_module": "@jupyter-widgets/base",
      "model_module_version": "1.1.0",
      "model_name": "LayoutModel",
      "state": {}
     },
     "4c376d7f49a84a95a50dc6640c12d67a": {
      "model_module": "@jupyter-widgets/controls",
      "model_module_version": "1.4.0",
      "model_name": "VBoxModel",
      "state": {
       "children": [
        "IPY_MODEL_c393c526644b4950b379f4caf686379c",
        "IPY_MODEL_492407178a7e417386408f111755d450",
        "IPY_MODEL_98bdd898450e489eaadd56624d516982"
       ],
       "layout": "IPY_MODEL_cac804e03c6b4214a31c0800af201472"
      }
     },
     "4c45d8b3b4a946a7bb7eea374941ac3c": {
      "model_module": "@jupyter-widgets/base",
      "model_module_version": "1.1.0",
      "model_name": "LayoutModel",
      "state": {}
     },
     "4ca6e3d14690494c961ce54705da4d96": {
      "model_module": "@jupyter-widgets/controls",
      "model_module_version": "1.4.0",
      "model_name": "VBoxModel",
      "state": {
       "children": [
        "IPY_MODEL_8a5f4ca95aad468d95e75509ab8b933b",
        "IPY_MODEL_8af2c40129d64084b1382e73f7291c74",
        "IPY_MODEL_f34efeb92d974004a4e3e3cb9c2a6ef3"
       ],
       "layout": "IPY_MODEL_76afd7441e874a418e12bab166caf32c"
      }
     },
     "4d16f7568666463f97812a67599d7054": {
      "model_module": "@jupyter-widgets/output",
      "model_module_version": "1.0.0",
      "model_name": "OutputModel",
      "state": {
       "layout": "IPY_MODEL_10d40b7bef07413a8b640acb6187214e"
      }
     },
     "4d4e9484cc2a4fb5b534028abd709380": {
      "model_module": "@jupyter-widgets/controls",
      "model_module_version": "1.4.0",
      "model_name": "VBoxModel",
      "state": {
       "children": [
        "IPY_MODEL_b39c48ba84a14e8e8ed1cf755addc55f",
        "IPY_MODEL_eb35af50059f46a58a58ccc27616fae7",
        "IPY_MODEL_e130b68d1e1b46b79141bbbad04acc8b"
       ],
       "layout": "IPY_MODEL_07c2634dcbc44ad8a90cfe4d0527550e"
      }
     },
     "4ef2db11d11843d1876d59db21e9b21e": {
      "model_module": "@jupyter-widgets/controls",
      "model_module_version": "1.4.0",
      "model_name": "ButtonStyleModel",
      "state": {}
     },
     "4f898897d0ba4e729daa676fda650163": {
      "model_module": "@jupyter-widgets/controls",
      "model_module_version": "1.4.0",
      "model_name": "ButtonStyleModel",
      "state": {}
     },
     "5006983201bb45ac82f5b3149de56475": {
      "model_module": "@jupyter-widgets/base",
      "model_module_version": "1.1.0",
      "model_name": "LayoutModel",
      "state": {}
     },
     "501aab6e66564bf8af69e29db61230ba": {
      "model_module": "@jupyter-widgets/base",
      "model_module_version": "1.1.0",
      "model_name": "LayoutModel",
      "state": {}
     },
     "506231642c6b49c98907a24227b28a2e": {
      "model_module": "@jupyter-widgets/output",
      "model_module_version": "1.0.0",
      "model_name": "OutputModel",
      "state": {
       "layout": "IPY_MODEL_fde3972ffff24cd6a663fd39d55167ef"
      }
     },
     "51438549e4e34c32bfb20a39d8cd86f8": {
      "model_module": "@jupyter-widgets/controls",
      "model_module_version": "1.4.0",
      "model_name": "VBoxModel",
      "state": {
       "children": [
        "IPY_MODEL_b9ceda7121a447a3b640d158cd7a957c",
        "IPY_MODEL_8f448447daf047d29df8cc6ad0d6a4b0",
        "IPY_MODEL_bd20fb95cec7435d8a97f059abdf88be"
       ],
       "layout": "IPY_MODEL_9489ec1653984d4fb99fbbbdb1549759"
      }
     },
     "523f295cb105462db17dc540bf1a63df": {
      "model_module": "@jupyter-widgets/controls",
      "model_module_version": "1.4.0",
      "model_name": "DescriptionStyleModel",
      "state": {
       "description_width": ""
      }
     },
     "527fbb8208d34dd4b07cdd42a3855caf": {
      "model_module": "@jupyter-widgets/base",
      "model_module_version": "1.1.0",
      "model_name": "LayoutModel",
      "state": {}
     },
     "52ab613063d84587b52f7267dad851bf": {
      "model_module": "@jupyter-widgets/base",
      "model_module_version": "1.1.0",
      "model_name": "LayoutModel",
      "state": {}
     },
     "530c27805e8e43b58b7bb80edd7bef9d": {
      "model_module": "@jupyter-widgets/controls",
      "model_module_version": "1.4.0",
      "model_name": "ButtonStyleModel",
      "state": {}
     },
     "534012b4b452410388ce8ddbc2ca7cb8": {
      "model_module": "@jupyter-widgets/base",
      "model_module_version": "1.1.0",
      "model_name": "LayoutModel",
      "state": {}
     },
     "53cf0489d08942fe90426c8afdb2b0db": {
      "model_module": "@jupyter-widgets/base",
      "model_module_version": "1.1.0",
      "model_name": "LayoutModel",
      "state": {}
     },
     "53f28138ac174f97ad8a22f420afd268": {
      "model_module": "@jupyter-widgets/base",
      "model_module_version": "1.1.0",
      "model_name": "LayoutModel",
      "state": {}
     },
     "5445947ff2b54a00a47a01339e8ba951": {
      "model_module": "@jupyter-widgets/base",
      "model_module_version": "1.1.0",
      "model_name": "LayoutModel",
      "state": {}
     },
     "546775f7e8554b3c9a273f73de71c996": {
      "model_module": "@jupyter-widgets/base",
      "model_module_version": "1.1.0",
      "model_name": "LayoutModel",
      "state": {}
     },
     "54e97370ebe0427d982bf3bb1b8471d4": {
      "model_module": "@jupyter-widgets/base",
      "model_module_version": "1.1.0",
      "model_name": "LayoutModel",
      "state": {}
     },
     "55d23b3f8e9a45bdbbb2cb5e5310743f": {
      "model_module": "@jupyter-widgets/controls",
      "model_module_version": "1.4.0",
      "model_name": "ButtonModel",
      "state": {
       "button_style": "info",
       "description": "Demo1",
       "layout": "IPY_MODEL_0d97d4d822404761af32c5a5a3eca809",
       "style": "IPY_MODEL_6e7b59ff01944cb7ac5b0040ee9f0a0f",
       "tooltip": "# Modelos básicos\n    Permite ver cómo se comportan los modelos simples (Decision Tree, Logit,\n    LinearSVM) con un dataset determinado. Permite saber si algunos problemas\n    son más difíciles que otros para on modelo básico.\n    "
      }
     },
     "55ebfb34b6474e33b5b6ccf9292b185f": {
      "model_module": "@jupyter-widgets/controls",
      "model_module_version": "1.4.0",
      "model_name": "ButtonStyleModel",
      "state": {}
     },
     "5632312a1fab4c2eb2add62755615bc4": {
      "model_module": "@jupyter-widgets/controls",
      "model_module_version": "1.4.0",
      "model_name": "VBoxModel",
      "state": {
       "children": [
        "IPY_MODEL_fb928d2470ce4c16949b8074ec766b6c",
        "IPY_MODEL_d6931d0201ad46fb826356ebc896c285",
        "IPY_MODEL_cafe9314b1f3404fb910d4390868ba34"
       ],
       "layout": "IPY_MODEL_06703a2f15d64e81a26243b4af10d92b"
      }
     },
     "5653f9b67b094c6b9ff4457f011b4f52": {
      "model_module": "@jupyter-widgets/controls",
      "model_module_version": "1.4.0",
      "model_name": "VBoxModel",
      "state": {
       "children": [
        "IPY_MODEL_2caa743d82904b559c0421d1038edda8",
        "IPY_MODEL_aeb1dd03952c40ea803804111514f806",
        "IPY_MODEL_40cca0d45330479da5f9130dce8fdcd5"
       ],
       "layout": "IPY_MODEL_b03269cf8f53484e8fdb0cefdcbd10fb"
      }
     },
     "567d93e65d9d43b5890131900fcb6e0b": {
      "model_module": "@jupyter-widgets/output",
      "model_module_version": "1.0.0",
      "model_name": "OutputModel",
      "state": {
       "layout": "IPY_MODEL_5a15e7e4c8064dc3a38f139f8c16b0fd"
      }
     },
     "56d5692af342422b87bee2b2bfb72415": {
      "model_module": "@jupyter-widgets/base",
      "model_module_version": "1.1.0",
      "model_name": "LayoutModel",
      "state": {}
     },
     "57d90be4b9ce4f4fb2e078d0a97d2682": {
      "model_module": "@jupyter-widgets/base",
      "model_module_version": "1.1.0",
      "model_name": "LayoutModel",
      "state": {}
     },
     "58bd1c702ac14b4792e43d015adb2379": {
      "model_module": "@jupyter-widgets/base",
      "model_module_version": "1.1.0",
      "model_name": "LayoutModel",
      "state": {}
     },
     "595b225ace9d42f294bab3acc6134420": {
      "model_module": "@jupyter-widgets/controls",
      "model_module_version": "1.4.0",
      "model_name": "ButtonStyleModel",
      "state": {}
     },
     "59d682a98d484106a704bd45029fda31": {
      "model_module": "@jupyter-widgets/controls",
      "model_module_version": "1.4.0",
      "model_name": "VBoxModel",
      "state": {
       "children": [
        "IPY_MODEL_d1e99be374ed4011b40bfecba25ccd37",
        "IPY_MODEL_45ca023b34964433af25fdafd7dc7310",
        "IPY_MODEL_16b48aaa91b14d4ba6537f9a9a790951"
       ],
       "layout": "IPY_MODEL_2f650fa71e874b97a16280c5deb89e9c"
      }
     },
     "59d858f82cf0436ca01e6fe735f60723": {
      "model_module": "@jupyter-widgets/output",
      "model_module_version": "1.0.0",
      "model_name": "OutputModel",
      "state": {
       "layout": "IPY_MODEL_95daf3c67ead40e5ae48d4678352f104"
      }
     },
     "5a15e7e4c8064dc3a38f139f8c16b0fd": {
      "model_module": "@jupyter-widgets/base",
      "model_module_version": "1.1.0",
      "model_name": "LayoutModel",
      "state": {}
     },
     "5c0d729bd97446f9807c2ef14f691413": {
      "model_module": "@jupyter-widgets/controls",
      "model_module_version": "1.4.0",
      "model_name": "VBoxModel",
      "state": {
       "children": [
        "IPY_MODEL_eba09395ab624a66adedeb5a31e4f3ff",
        "IPY_MODEL_f56a7eaa0e6e432c910839c3aa48f1c7",
        "IPY_MODEL_6ff8375d132b4d249e8bcf4d3929a826"
       ],
       "layout": "IPY_MODEL_fd93a3dfb4e2418c8dd55a6e979be20a"
      }
     },
     "5caa4bee0d8143258febec8ce8b6e7cb": {
      "model_module": "@jupyter-widgets/controls",
      "model_module_version": "1.4.0",
      "model_name": "VBoxModel",
      "state": {
       "children": [
        "IPY_MODEL_be4a1affe6f4406fb03e24e34e02cd3a",
        "IPY_MODEL_9ef320f63933436fb479cdfed411035e",
        "IPY_MODEL_677ef6dfbd78420e93ad97a62710d3af"
       ],
       "layout": "IPY_MODEL_9638535670da4a4ca0d88ff812edbb3a"
      }
     },
     "5cba462e1b73482aa92232394909901a": {
      "model_module": "@jupyter-widgets/base",
      "model_module_version": "1.1.0",
      "model_name": "LayoutModel",
      "state": {}
     },
     "5cbd3f1c3b8f4377851c5e73927e2790": {
      "model_module": "@jupyter-widgets/controls",
      "model_module_version": "1.4.0",
      "model_name": "VBoxModel",
      "state": {
       "children": [
        "IPY_MODEL_35d9e7d068ac456fbe740a13b434e459",
        "IPY_MODEL_a7c23c5fc3ec48dc871b8925d8daa348",
        "IPY_MODEL_66010c4b558c4840a2ed25491cf6f0a7"
       ],
       "layout": "IPY_MODEL_a2656aa0efc1421eaf9f627ef4cabf13"
      }
     },
     "5dbbdbe9019741b7b31e83d01d3b4e33": {
      "model_module": "@jupyter-widgets/controls",
      "model_module_version": "1.4.0",
      "model_name": "DescriptionStyleModel",
      "state": {
       "description_width": ""
      }
     },
     "5e0221be98c24b8aa670d3e610a14c27": {
      "model_module": "@jupyter-widgets/output",
      "model_module_version": "1.0.0",
      "model_name": "OutputModel",
      "state": {
       "layout": "IPY_MODEL_71ea55e0e77f4e05b5fdc20aa339794a"
      }
     },
     "5e5d49b21c8741c29d3c94c18dc99fd0": {
      "model_module": "@jupyter-widgets/controls",
      "model_module_version": "1.4.0",
      "model_name": "DropdownModel",
      "state": {
       "_options_labels": [
        "segment",
        "covertype",
        "digits",
        "fall_detection",
        "mnist",
        "pen_digits",
        "satellite",
        "vowel"
       ],
       "description": "Dataset:",
       "index": 0,
       "layout": "IPY_MODEL_cd3fb7589b7d47249c34cd5643002c2a",
       "style": "IPY_MODEL_b4fb8cc0e4174407aa9ad790341fee3a"
      }
     },
     "5e9abaa1f5e142578ba0784a2507982b": {
      "model_module": "@jupyter-widgets/controls",
      "model_module_version": "1.4.0",
      "model_name": "ButtonStyleModel",
      "state": {}
     },
     "5ecb172a5b3d4f83a3140b64597a07b1": {
      "model_module": "@jupyter-widgets/controls",
      "model_module_version": "1.4.0",
      "model_name": "DescriptionStyleModel",
      "state": {
       "description_width": ""
      }
     },
     "5fc674eee0f54387afb01b50cf40de4d": {
      "model_module": "@jupyter-widgets/base",
      "model_module_version": "1.1.0",
      "model_name": "LayoutModel",
      "state": {}
     },
     "6017ee3de3604eee8b495e9eea67ce11": {
      "model_module": "@jupyter-widgets/base",
      "model_module_version": "1.1.0",
      "model_name": "LayoutModel",
      "state": {}
     },
     "605f1c029646423b828577c44f4d60e1": {
      "model_module": "@jupyter-widgets/controls",
      "model_module_version": "1.4.0",
      "model_name": "VBoxModel",
      "state": {
       "children": [
        "IPY_MODEL_a73df5f3311545089459270f9ea09b41",
        "IPY_MODEL_b70e40f03274452da98e91cdfa1b296b",
        "IPY_MODEL_b2539504d98d441da4a0cb0f69b88399"
       ],
       "layout": "IPY_MODEL_8f4805e390a144f9adebff80aa73abc2"
      }
     },
     "60e4d104e6e44032a75167a440b6f6b4": {
      "model_module": "@jupyter-widgets/controls",
      "model_module_version": "1.4.0",
      "model_name": "DescriptionStyleModel",
      "state": {
       "description_width": ""
      }
     },
     "6120fb9d1f7c43499400723498af8289": {
      "model_module": "@jupyter-widgets/controls",
      "model_module_version": "1.4.0",
      "model_name": "DescriptionStyleModel",
      "state": {
       "description_width": ""
      }
     },
     "614710fa7825431a95732cd043d645b3": {
      "model_module": "@jupyter-widgets/controls",
      "model_module_version": "1.4.0",
      "model_name": "RadioButtonsModel",
      "state": {
       "_options_labels": [
        "1000",
        "2000",
        "5000",
        "10000"
       ],
       "description": "Size",
       "index": 0,
       "layout": "IPY_MODEL_f73bcd849f2547d3ad5afb163b111cf5",
       "style": "IPY_MODEL_a5f65e3695194d8281e197b693b831f5"
      }
     },
     "62a3b06179004ada863f36a5565188cb": {
      "model_module": "@jupyter-widgets/controls",
      "model_module_version": "1.4.0",
      "model_name": "ButtonStyleModel",
      "state": {}
     },
     "62f8f51688d742eab37736d95293c71b": {
      "model_module": "@jupyter-widgets/controls",
      "model_module_version": "1.4.0",
      "model_name": "DescriptionStyleModel",
      "state": {
       "description_width": ""
      }
     },
     "63067f11f34340f493836840c7976aa7": {
      "model_module": "@jupyter-widgets/controls",
      "model_module_version": "1.4.0",
      "model_name": "ButtonModel",
      "state": {
       "button_style": "info",
       "description": "Demo1",
       "layout": "IPY_MODEL_58bd1c702ac14b4792e43d015adb2379",
       "style": "IPY_MODEL_9374d2cf57cc48c1925a9b9c5ca8afa0",
       "tooltip": "# Modelos básicos\n    Permite ver cómo se comportan los modelos simples (Decision Tree, Logit,\n    LinearSVM) con un dataset determinado. Permite saber si algunos problemas\n    son más difíciles que otros para on modelo básico.\n    "
      }
     },
     "64ce8f15e2a04a6cbdf3e67941903f7f": {
      "model_module": "@jupyter-widgets/controls",
      "model_module_version": "1.4.0",
      "model_name": "ButtonStyleModel",
      "state": {}
     },
     "64df030624ec4038b903643fec3ce80f": {
      "model_module": "@jupyter-widgets/base",
      "model_module_version": "1.1.0",
      "model_name": "LayoutModel",
      "state": {}
     },
     "652adc89543946abb924752b503e7cfc": {
      "model_module": "@jupyter-widgets/controls",
      "model_module_version": "1.4.0",
      "model_name": "ButtonStyleModel",
      "state": {}
     },
     "6549ecf37a4746c0aa6972f7d19b1c5f": {
      "model_module": "@jupyter-widgets/base",
      "model_module_version": "1.1.0",
      "model_name": "LayoutModel",
      "state": {}
     },
     "66010c4b558c4840a2ed25491cf6f0a7": {
      "model_module": "@jupyter-widgets/controls",
      "model_module_version": "1.4.0",
      "model_name": "ButtonModel",
      "state": {
       "button_style": "info",
       "description": "Demo1",
       "layout": "IPY_MODEL_9451de820cd2466b9164b5f28ee2c6f5",
       "style": "IPY_MODEL_32fab96515d945acbdb5e1de6e9b3b91",
       "tooltip": "# Modelos básicos\n    Permite ver cómo se comportan los modelos simples (Decision Tree, Logit,\n    LinearSVM) con un dataset determinado. Permite saber si algunos problemas\n    son más difíciles que otros para on modelo básico.\n    "
      }
     },
     "660d037f9ba6497194701c01978de97f": {
      "model_module": "@jupyter-widgets/output",
      "model_module_version": "1.0.0",
      "model_name": "OutputModel",
      "state": {
       "layout": "IPY_MODEL_751a93f7d8814023802299d9c8522e88"
      }
     },
     "6627f13c24b14270ab8e01fe6889d92e": {
      "model_module": "@jupyter-widgets/base",
      "model_module_version": "1.1.0",
      "model_name": "LayoutModel",
      "state": {}
     },
     "667c43f78b8d4158a0004c53eaf1fed3": {
      "model_module": "@jupyter-widgets/base",
      "model_module_version": "1.1.0",
      "model_name": "LayoutModel",
      "state": {}
     },
     "66a749ef4fac47378e4e588dc5c9bee5": {
      "model_module": "@jupyter-widgets/base",
      "model_module_version": "1.1.0",
      "model_name": "LayoutModel",
      "state": {}
     },
     "677ef6dfbd78420e93ad97a62710d3af": {
      "model_module": "@jupyter-widgets/controls",
      "model_module_version": "1.4.0",
      "model_name": "ButtonModel",
      "state": {
       "button_style": "info",
       "description": "Demo1",
       "layout": "IPY_MODEL_7127a0891e8e4f21994774810a8581e4",
       "style": "IPY_MODEL_8a446408d62843fa8850b9c36366127d",
       "tooltip": "# Modelos básicos\n    Permite ver cómo se comportan los modelos simples (Decision Tree, Logit,\n    LinearSVM) con un dataset determinado. Permite saber si algunos problemas\n    son más difíciles que otros para on modelo básico.\n    "
      }
     },
     "683e2026510b4705b1702e387171aebf": {
      "model_module": "@jupyter-widgets/output",
      "model_module_version": "1.0.0",
      "model_name": "OutputModel",
      "state": {
       "layout": "IPY_MODEL_92ee02f1bd0e4b35b0e8e8716b536e20"
      }
     },
     "68ad1e0219e84914a15c3122f1b5f12e": {
      "model_module": "@jupyter-widgets/controls",
      "model_module_version": "1.4.0",
      "model_name": "VBoxModel",
      "state": {
       "children": [
        "IPY_MODEL_0357aaa1d6c648c1816919bee8e74b7e",
        "IPY_MODEL_c333ad51edcd49018098135715bfe9d3",
        "IPY_MODEL_1b865bd051e54b929456369b2eb35bba"
       ],
       "layout": "IPY_MODEL_40c8077ae80746b9a53dd948660fbf9a"
      }
     },
     "6903a6604906412bbd7f2c27799ba74d": {
      "model_module": "@jupyter-widgets/base",
      "model_module_version": "1.1.0",
      "model_name": "LayoutModel",
      "state": {}
     },
     "6a3036b6df7c446d85e50650e29584de": {
      "model_module": "@jupyter-widgets/controls",
      "model_module_version": "1.4.0",
      "model_name": "DescriptionStyleModel",
      "state": {
       "description_width": ""
      }
     },
     "6a54b8f10a1745ccb5ab879e93bd759d": {
      "model_module": "@jupyter-widgets/base",
      "model_module_version": "1.1.0",
      "model_name": "LayoutModel",
      "state": {}
     },
     "6ab5dfe7594145aab8a596c81b69df2f": {
      "model_module": "@jupyter-widgets/controls",
      "model_module_version": "1.4.0",
      "model_name": "ButtonModel",
      "state": {
       "button_style": "info",
       "description": "Demo1",
       "layout": "IPY_MODEL_a61d1cd1734442028e26b01ed50afd2f",
       "style": "IPY_MODEL_9b9ff756c7fa401a8bf742a7eae4e347",
       "tooltip": "# Modelos básicos\n    Permite ver cómo se comportan los modelos simples (Decision Tree, Logit,\n    LinearSVM) con un dataset determinado. Permite saber si algunos problemas\n    son más difíciles que otros para on modelo básico.\n    "
      }
     },
     "6aef2a9c9c704171b2e558e03318ccae": {
      "model_module": "@jupyter-widgets/controls",
      "model_module_version": "1.4.0",
      "model_name": "ButtonStyleModel",
      "state": {}
     },
     "6b1af5ff00a347b59ffaf3fcbdd177f5": {
      "model_module": "@jupyter-widgets/output",
      "model_module_version": "1.0.0",
      "model_name": "OutputModel",
      "state": {
       "layout": "IPY_MODEL_0d2b63cfd02a4df285e55e334cb59fa7"
      }
     },
     "6b88e729996544f79b284a03ad83f746": {
      "model_module": "@jupyter-widgets/base",
      "model_module_version": "1.1.0",
      "model_name": "LayoutModel",
      "state": {}
     },
     "6c5e7444430a4f23a796f7e4783f2949": {
      "model_module": "@jupyter-widgets/controls",
      "model_module_version": "1.4.0",
      "model_name": "DropdownModel",
      "state": {
       "_options_labels": [
        "segment",
        "covertype",
        "digits",
        "fall_detection",
        "mnist",
        "pen_digits",
        "satellite",
        "vowel"
       ],
       "description": "Dataset:",
       "index": 0,
       "layout": "IPY_MODEL_0134680de0a94b9f8c4ef1f5cd9a4686",
       "style": "IPY_MODEL_62f8f51688d742eab37736d95293c71b"
      }
     },
     "6ca3db3982f44ec89f3fe0a070d8a633": {
      "model_module": "@jupyter-widgets/controls",
      "model_module_version": "1.4.0",
      "model_name": "VBoxModel",
      "state": {
       "children": [
        "IPY_MODEL_721f64e59f48439bb6932d85b3c2369f",
        "IPY_MODEL_5e5d49b21c8741c29d3c94c18dc99fd0",
        "IPY_MODEL_f47a51f746e445a2ae287104bae1cbc6"
       ],
       "layout": "IPY_MODEL_6627f13c24b14270ab8e01fe6889d92e"
      }
     },
     "6ce75c794e774341afc3794fd7a9443d": {
      "model_module": "@jupyter-widgets/controls",
      "model_module_version": "1.4.0",
      "model_name": "DescriptionStyleModel",
      "state": {
       "description_width": ""
      }
     },
     "6d70570b21b74e8b8ddb3edb89cfb6bc": {
      "model_module": "@jupyter-widgets/output",
      "model_module_version": "1.0.0",
      "model_name": "OutputModel",
      "state": {
       "layout": "IPY_MODEL_de0a7efe63d2478aa1b6095f46011d2b"
      }
     },
     "6d7b60af1062483ba4cbd2f31fa4c0ff": {
      "model_module": "@jupyter-widgets/controls",
      "model_module_version": "1.4.0",
      "model_name": "DescriptionStyleModel",
      "state": {
       "description_width": ""
      }
     },
     "6e7b59ff01944cb7ac5b0040ee9f0a0f": {
      "model_module": "@jupyter-widgets/controls",
      "model_module_version": "1.4.0",
      "model_name": "ButtonStyleModel",
      "state": {}
     },
     "6e8fb6a94b6a4ee68b52ca8c6e02a8cd": {
      "model_module": "@jupyter-widgets/controls",
      "model_module_version": "1.4.0",
      "model_name": "ButtonStyleModel",
      "state": {}
     },
     "6f0413fad97845a59eb0ab547e4f7712": {
      "model_module": "@jupyter-widgets/controls",
      "model_module_version": "1.4.0",
      "model_name": "VBoxModel",
      "state": {
       "children": [
        "IPY_MODEL_2fe09dc312024d1aa36df163226510cb",
        "IPY_MODEL_3f0852baf5a142b2a39714754b3ed21b",
        "IPY_MODEL_1eed42a97afb47ca910e0e537253677c"
       ],
       "layout": "IPY_MODEL_34fc76bcde27466c841f16dbec8c3162"
      }
     },
     "6f48b3ab327b43e0be0a1b9da98907b5": {
      "model_module": "@jupyter-widgets/base",
      "model_module_version": "1.1.0",
      "model_name": "LayoutModel",
      "state": {}
     },
     "6ff8375d132b4d249e8bcf4d3929a826": {
      "model_module": "@jupyter-widgets/controls",
      "model_module_version": "1.4.0",
      "model_name": "ButtonModel",
      "state": {
       "button_style": "info",
       "description": "Demo1",
       "layout": "IPY_MODEL_53f28138ac174f97ad8a22f420afd268",
       "style": "IPY_MODEL_1524972f49584b7f84350e54aec33d04",
       "tooltip": "# Modelos básicos\n    Permite ver cómo se comportan los modelos simples (Decision Tree, Logit,\n    LinearSVM) con un dataset determinado. Permite saber si algunos problemas\n    son más difíciles que otros para on modelo básico.\n    "
      }
     },
     "7069d2fac63a4374b5555b0f0ca50883": {
      "model_module": "@jupyter-widgets/controls",
      "model_module_version": "1.4.0",
      "model_name": "DescriptionStyleModel",
      "state": {
       "description_width": ""
      }
     },
     "707b971124e24ced949d54908dc705dd": {
      "model_module": "@jupyter-widgets/base",
      "model_module_version": "1.1.0",
      "model_name": "LayoutModel",
      "state": {}
     },
     "7127a0891e8e4f21994774810a8581e4": {
      "model_module": "@jupyter-widgets/base",
      "model_module_version": "1.1.0",
      "model_name": "LayoutModel",
      "state": {}
     },
     "7143b1fcacd74d3487d49df8ea067b1d": {
      "model_module": "@jupyter-widgets/controls",
      "model_module_version": "1.4.0",
      "model_name": "DropdownModel",
      "state": {
       "_options_labels": [
        "segment",
        "covertype",
        "digits",
        "fall_detection",
        "mnist",
        "pen_digits",
        "satellite",
        "vowel"
       ],
       "description": "Dataset:",
       "index": 0,
       "layout": "IPY_MODEL_aed1aa08b59a42298f66480ae4dd9290",
       "style": "IPY_MODEL_d3b6f5d8d7bc47a082f3fc6c22e32642"
      }
     },
     "7169b7ad83e84aca8ae7b67a014dc92e": {
      "model_module": "@jupyter-widgets/controls",
      "model_module_version": "1.4.0",
      "model_name": "DescriptionStyleModel",
      "state": {
       "description_width": ""
      }
     },
     "71ea55e0e77f4e05b5fdc20aa339794a": {
      "model_module": "@jupyter-widgets/base",
      "model_module_version": "1.1.0",
      "model_name": "LayoutModel",
      "state": {}
     },
     "721f64e59f48439bb6932d85b3c2369f": {
      "model_module": "@jupyter-widgets/controls",
      "model_module_version": "1.4.0",
      "model_name": "RadioButtonsModel",
      "state": {
       "_options_labels": [
        "1000",
        "2000",
        "5000",
        "10000"
       ],
       "description": "Size",
       "index": 0,
       "layout": "IPY_MODEL_4c45d8b3b4a946a7bb7eea374941ac3c",
       "style": "IPY_MODEL_9949abe1aa52479aa23d436a0937017c"
      }
     },
     "732e1e1186634295aecb756f2248ed15": {
      "model_module": "@jupyter-widgets/controls",
      "model_module_version": "1.4.0",
      "model_name": "DescriptionStyleModel",
      "state": {
       "description_width": ""
      }
     },
     "73bbedc84107450ab15ba0e3e81b2e36": {
      "model_module": "@jupyter-widgets/controls",
      "model_module_version": "1.4.0",
      "model_name": "ButtonModel",
      "state": {
       "button_style": "info",
       "description": "Demo1",
       "layout": "IPY_MODEL_80e2aa35345745e091f844cea795733f",
       "style": "IPY_MODEL_1455076490234d1b91b6dcff54ae86f6",
       "tooltip": "# Modelos básicos\n    Permite ver cómo se comportan los modelos simples (Decision Tree, Logit,\n    LinearSVM) con un dataset determinado. Permite saber si algunos problemas\n    son más difíciles que otros para on modelo básico.\n    "
      }
     },
     "745486fed45f4870b270cbebf371f01e": {
      "model_module": "@jupyter-widgets/base",
      "model_module_version": "1.1.0",
      "model_name": "LayoutModel",
      "state": {}
     },
     "7457c16bbd7f4dd3b6061d007f20df65": {
      "model_module": "@jupyter-widgets/controls",
      "model_module_version": "1.4.0",
      "model_name": "DescriptionStyleModel",
      "state": {
       "description_width": ""
      }
     },
     "751a93f7d8814023802299d9c8522e88": {
      "model_module": "@jupyter-widgets/base",
      "model_module_version": "1.1.0",
      "model_name": "LayoutModel",
      "state": {}
     },
     "760877b97135456190fe837fe6ba0d14": {
      "model_module": "@jupyter-widgets/controls",
      "model_module_version": "1.4.0",
      "model_name": "ButtonModel",
      "state": {
       "button_style": "info",
       "description": "Demo1",
       "layout": "IPY_MODEL_1953fad18d5444e496bfd87283b7e65c",
       "style": "IPY_MODEL_b22fb9c5d9cd46a7965ff4b9aca4077c",
       "tooltip": "# Modelos básicos\n    Permite ver cómo se comportan los modelos simples (Decision Tree, Logit,\n    LinearSVM) con un dataset determinado. Permite saber si algunos problemas\n    son más difíciles que otros para on modelo básico.\n    "
      }
     },
     "7656b2e9cf7e42ada49c708b677a7d7a": {
      "model_module": "@jupyter-widgets/output",
      "model_module_version": "1.0.0",
      "model_name": "OutputModel",
      "state": {
       "layout": "IPY_MODEL_24bb271feced44eb977b1752d49e10e0"
      }
     },
     "76afd7441e874a418e12bab166caf32c": {
      "model_module": "@jupyter-widgets/base",
      "model_module_version": "1.1.0",
      "model_name": "LayoutModel",
      "state": {}
     },
     "76fc2c8912d74ac1bf2f8aa21c781931": {
      "model_module": "@jupyter-widgets/controls",
      "model_module_version": "1.4.0",
      "model_name": "ButtonModel",
      "state": {
       "button_style": "info",
       "description": "Demo1",
       "layout": "IPY_MODEL_d49f84feaad54026928dac112c3992eb",
       "style": "IPY_MODEL_652adc89543946abb924752b503e7cfc",
       "tooltip": "# Modelos básicos\n    Permite ver cómo se comportan los modelos simples (Decision Tree, Logit,\n    LinearSVM) con un dataset determinado. Permite saber si algunos problemas\n    son más difíciles que otros para on modelo básico.\n    "
      }
     },
     "77c98a8879fb4c99b7751aaee8a70e72": {
      "model_module": "@jupyter-widgets/controls",
      "model_module_version": "1.4.0",
      "model_name": "DescriptionStyleModel",
      "state": {
       "description_width": ""
      }
     },
     "77d11f2a95c34d37821779ac1502d901": {
      "model_module": "@jupyter-widgets/controls",
      "model_module_version": "1.4.0",
      "model_name": "ButtonModel",
      "state": {
       "button_style": "info",
       "description": "Demo1",
       "layout": "IPY_MODEL_6a54b8f10a1745ccb5ab879e93bd759d",
       "style": "IPY_MODEL_64ce8f15e2a04a6cbdf3e67941903f7f",
       "tooltip": "# Modelos básicos\n    Permite ver cómo se comportan los modelos simples (Decision Tree, Logit,\n    LinearSVM) con un dataset determinado. Permite saber si algunos problemas\n    son más difíciles que otros para on modelo básico.\n    "
      }
     },
     "78a940dd5d66450f9eafc9bc95bed79a": {
      "model_module": "@jupyter-widgets/controls",
      "model_module_version": "1.4.0",
      "model_name": "ButtonStyleModel",
      "state": {}
     },
     "799889000568426f86019bdedb8c2f3c": {
      "model_module": "@jupyter-widgets/base",
      "model_module_version": "1.1.0",
      "model_name": "LayoutModel",
      "state": {}
     },
     "7c3e8b2e4eca4c3f9a1a7ae6ea178632": {
      "model_module": "@jupyter-widgets/base",
      "model_module_version": "1.1.0",
      "model_name": "LayoutModel",
      "state": {}
     },
     "7cdb229f81e5448fa0771433be5818f4": {
      "model_module": "@jupyter-widgets/controls",
      "model_module_version": "1.4.0",
      "model_name": "DescriptionStyleModel",
      "state": {
       "description_width": ""
      }
     },
     "7d5b640c40b5452facd36906f00f5e3d": {
      "model_module": "@jupyter-widgets/controls",
      "model_module_version": "1.4.0",
      "model_name": "DescriptionStyleModel",
      "state": {
       "description_width": ""
      }
     },
     "7e048bcd0b1d45698f714cfe8fffa26a": {
      "model_module": "@jupyter-widgets/base",
      "model_module_version": "1.1.0",
      "model_name": "LayoutModel",
      "state": {}
     },
     "7ea31fac758745a1986e307e82f3c6df": {
      "model_module": "@jupyter-widgets/base",
      "model_module_version": "1.1.0",
      "model_name": "LayoutModel",
      "state": {}
     },
     "7ff00d54b4344ecdb308c15aa7d6f069": {
      "model_module": "@jupyter-widgets/output",
      "model_module_version": "1.0.0",
      "model_name": "OutputModel",
      "state": {
       "layout": "IPY_MODEL_cd78d73505754fc1857e94f15f1cea9d"
      }
     },
     "8013c0d1591a4395acf0a054ad85e437": {
      "model_module": "@jupyter-widgets/controls",
      "model_module_version": "1.4.0",
      "model_name": "RadioButtonsModel",
      "state": {
       "_options_labels": [
        "1000",
        "2000",
        "5000",
        "10000"
       ],
       "description": "Size",
       "index": 0,
       "layout": "IPY_MODEL_3165677c15d64af4b3b86f5905bcde3a",
       "style": "IPY_MODEL_7069d2fac63a4374b5555b0f0ca50883"
      }
     },
     "80372cee68ca4a418986c75ae6e3e70f": {
      "model_module": "@jupyter-widgets/controls",
      "model_module_version": "1.4.0",
      "model_name": "DropdownModel",
      "state": {
       "_options_labels": [
        "segment",
        "covertype",
        "digits",
        "fall_detection",
        "mnist",
        "pen_digits",
        "satellite",
        "vowel"
       ],
       "description": "Dataset:",
       "index": 0,
       "layout": "IPY_MODEL_fcb2a3e1cc2f487d8bd7c70646556da6",
       "style": "IPY_MODEL_523f295cb105462db17dc540bf1a63df"
      }
     },
     "807bb9490590475781bc194b9b201fb4": {
      "model_module": "@jupyter-widgets/base",
      "model_module_version": "1.1.0",
      "model_name": "LayoutModel",
      "state": {}
     },
     "80e1749f0dd2411e84008ba76f783e16": {
      "model_module": "@jupyter-widgets/base",
      "model_module_version": "1.1.0",
      "model_name": "LayoutModel",
      "state": {}
     },
     "80e2aa35345745e091f844cea795733f": {
      "model_module": "@jupyter-widgets/base",
      "model_module_version": "1.1.0",
      "model_name": "LayoutModel",
      "state": {}
     },
     "81b19545d768464f9ef8d827cc6e5690": {
      "model_module": "@jupyter-widgets/controls",
      "model_module_version": "1.4.0",
      "model_name": "VBoxModel",
      "state": {
       "children": [
        "IPY_MODEL_c34b69799cc14b31825de4af2391a568",
        "IPY_MODEL_34f46bd229af40109f8e4a7b4f9f2909",
        "IPY_MODEL_3e70f468dab74d46a94bed3f8bbbb3ea"
       ],
       "layout": "IPY_MODEL_0c264e8213854ac1b9e9d96a42b93ebe"
      }
     },
     "823a7395a7fe45bfb0ed7d89bef6ac47": {
      "model_module": "@jupyter-widgets/base",
      "model_module_version": "1.1.0",
      "model_name": "LayoutModel",
      "state": {}
     },
     "827d5a156df243bd9555fedb9a1d435e": {
      "model_module": "@jupyter-widgets/controls",
      "model_module_version": "1.4.0",
      "model_name": "RadioButtonsModel",
      "state": {
       "_options_labels": [
        "1000",
        "2000",
        "5000",
        "10000"
       ],
       "description": "Size",
       "index": 0,
       "layout": "IPY_MODEL_d5d470245db94e39987750d7c81611b8",
       "style": "IPY_MODEL_c506a3e763d946ca9eacd8c040dc8023"
      }
     },
     "8372805ea7224315a9605c41b9416daf": {
      "model_module": "@jupyter-widgets/controls",
      "model_module_version": "1.4.0",
      "model_name": "ButtonStyleModel",
      "state": {}
     },
     "83cfe670a665460e8e6afdc1d7844fd2": {
      "model_module": "@jupyter-widgets/base",
      "model_module_version": "1.1.0",
      "model_name": "LayoutModel",
      "state": {}
     },
     "86edf81e3b8c4c2e914651b6d51492ad": {
      "model_module": "@jupyter-widgets/base",
      "model_module_version": "1.1.0",
      "model_name": "LayoutModel",
      "state": {}
     },
     "8753dea6ee84463bacaa792db154bb9d": {
      "model_module": "@jupyter-widgets/base",
      "model_module_version": "1.1.0",
      "model_name": "LayoutModel",
      "state": {}
     },
     "88be38b6c9854964a6e439b802b83d3f": {
      "model_module": "@jupyter-widgets/base",
      "model_module_version": "1.1.0",
      "model_name": "LayoutModel",
      "state": {}
     },
     "896f9c5ad5834c73b5fea9f67f4edb1b": {
      "model_module": "@jupyter-widgets/base",
      "model_module_version": "1.1.0",
      "model_name": "LayoutModel",
      "state": {}
     },
     "897e10df559243768c77df0aae252dd8": {
      "model_module": "@jupyter-widgets/controls",
      "model_module_version": "1.4.0",
      "model_name": "VBoxModel",
      "state": {
       "children": [
        "IPY_MODEL_0e0ceec5709345d6a27b41394482b87d",
        "IPY_MODEL_116d685121fb42f7aaf7fd619baa18ae",
        "IPY_MODEL_55d23b3f8e9a45bdbbb2cb5e5310743f"
       ],
       "layout": "IPY_MODEL_501aab6e66564bf8af69e29db61230ba"
      }
     },
     "898cf59b33964960b343f695727a0145": {
      "model_module": "@jupyter-widgets/controls",
      "model_module_version": "1.4.0",
      "model_name": "DropdownModel",
      "state": {
       "_options_labels": [
        "segment",
        "covertype",
        "digits",
        "fall_detection",
        "mnist",
        "pen_digits",
        "satellite",
        "vowel"
       ],
       "description": "Dataset:",
       "index": 0,
       "layout": "IPY_MODEL_1f37952a07b14d708f4dfe4a629af2ab",
       "style": "IPY_MODEL_6d7b60af1062483ba4cbd2f31fa4c0ff"
      }
     },
     "8a446408d62843fa8850b9c36366127d": {
      "model_module": "@jupyter-widgets/controls",
      "model_module_version": "1.4.0",
      "model_name": "ButtonStyleModel",
      "state": {}
     },
     "8a5f4ca95aad468d95e75509ab8b933b": {
      "model_module": "@jupyter-widgets/controls",
      "model_module_version": "1.4.0",
      "model_name": "RadioButtonsModel",
      "state": {
       "_options_labels": [
        "1000",
        "2000",
        "5000",
        "10000"
       ],
       "description": "Size",
       "index": 0,
       "layout": "IPY_MODEL_1f249ef56e1c42ca871766a49f0b3263",
       "style": "IPY_MODEL_5dbbdbe9019741b7b31e83d01d3b4e33"
      }
     },
     "8a9bb10a15ac41bdbc7d4e79f339f969": {
      "model_module": "@jupyter-widgets/output",
      "model_module_version": "1.0.0",
      "model_name": "OutputModel",
      "state": {
       "layout": "IPY_MODEL_484e1ea2764f47e3903f70713fa5c485",
       "outputs": [
        {
         "data": {
          "text/markdown": "\n- Arg 1: **value1**\n- Arg 2: **value2**\n        ",
          "text/plain": "<IPython.core.display.Markdown object>"
         },
         "metadata": {},
         "output_type": "display_data"
        },
        {
         "data": {
          "image/png": "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\n",
          "text/plain": "<Figure size 921.6x345.6 with 2 Axes>"
         },
         "metadata": {},
         "output_type": "display_data"
        }
       ]
      }
     },
     "8ac0d952d13149f79786558d23e3eaac": {
      "model_module": "@jupyter-widgets/controls",
      "model_module_version": "1.4.0",
      "model_name": "DescriptionStyleModel",
      "state": {
       "description_width": ""
      }
     },
     "8af2c40129d64084b1382e73f7291c74": {
      "model_module": "@jupyter-widgets/controls",
      "model_module_version": "1.4.0",
      "model_name": "DropdownModel",
      "state": {
       "_options_labels": [
        "segment",
        "covertype",
        "digits",
        "fall_detection",
        "mnist",
        "pen_digits",
        "satellite",
        "vowel"
       ],
       "description": "Dataset:",
       "index": 0,
       "layout": "IPY_MODEL_ae6f1558a6204187ad274404d6abde8c",
       "style": "IPY_MODEL_47898bd3d2e24e6e94243586f1657930"
      }
     },
     "8afcba9e98174a339521cb05bf73b885": {
      "model_module": "@jupyter-widgets/base",
      "model_module_version": "1.1.0",
      "model_name": "LayoutModel",
      "state": {}
     },
     "8b011ab6d8d3420e84629ecf6222aa97": {
      "model_module": "@jupyter-widgets/base",
      "model_module_version": "1.1.0",
      "model_name": "LayoutModel",
      "state": {}
     },
     "8bc8593cfe804a20b3d5dea94144b5d2": {
      "model_module": "@jupyter-widgets/base",
      "model_module_version": "1.1.0",
      "model_name": "LayoutModel",
      "state": {}
     },
     "8c5289d5c64c43888af56788e2751f64": {
      "model_module": "@jupyter-widgets/controls",
      "model_module_version": "1.4.0",
      "model_name": "DescriptionStyleModel",
      "state": {
       "description_width": ""
      }
     },
     "8dedf3324b014d71855ffb9439ccd9d8": {
      "model_module": "@jupyter-widgets/controls",
      "model_module_version": "1.4.0",
      "model_name": "ButtonStyleModel",
      "state": {}
     },
     "8f3366399087445694d8d431316de067": {
      "model_module": "@jupyter-widgets/output",
      "model_module_version": "1.0.0",
      "model_name": "OutputModel",
      "state": {
       "layout": "IPY_MODEL_ce256dbf77874cd390f31dd09a2fba8e"
      }
     },
     "8f448447daf047d29df8cc6ad0d6a4b0": {
      "model_module": "@jupyter-widgets/controls",
      "model_module_version": "1.4.0",
      "model_name": "DropdownModel",
      "state": {
       "_options_labels": [
        "segment",
        "covertype",
        "digits",
        "fall_detection",
        "mnist",
        "pen_digits",
        "satellite",
        "vowel"
       ],
       "description": "Dataset:",
       "index": 0,
       "layout": "IPY_MODEL_83cfe670a665460e8e6afdc1d7844fd2",
       "style": "IPY_MODEL_02ba74867c0c43778c01de29e0634151"
      }
     },
     "8f4805e390a144f9adebff80aa73abc2": {
      "model_module": "@jupyter-widgets/base",
      "model_module_version": "1.1.0",
      "model_name": "LayoutModel",
      "state": {}
     },
     "8f71abbea4284456843e58881f4232d3": {
      "model_module": "@jupyter-widgets/base",
      "model_module_version": "1.1.0",
      "model_name": "LayoutModel",
      "state": {}
     },
     "8fa86ceabb2345508f26ba9a1ec2ea9d": {
      "model_module": "@jupyter-widgets/controls",
      "model_module_version": "1.4.0",
      "model_name": "ButtonModel",
      "state": {
       "button_style": "info",
       "description": "Demo1",
       "layout": "IPY_MODEL_c4b85fa9ec82401585abd9e910b7db9c",
       "style": "IPY_MODEL_62a3b06179004ada863f36a5565188cb",
       "tooltip": "# Modelos básicos\n    Permite ver cómo se comportan los modelos simples (Decision Tree, Logit,\n    LinearSVM) con un dataset determinado. Permite saber si algunos problemas\n    son más difíciles que otros para on modelo básico.\n    "
      }
     },
     "8ff5e21d04ca4ade83c1f99d544c2ce0": {
      "model_module": "@jupyter-widgets/base",
      "model_module_version": "1.1.0",
      "model_name": "LayoutModel",
      "state": {}
     },
     "909610e06bb0432b82a0dfb86ef143e1": {
      "model_module": "@jupyter-widgets/output",
      "model_module_version": "1.0.0",
      "model_name": "OutputModel",
      "state": {
       "layout": "IPY_MODEL_86edf81e3b8c4c2e914651b6d51492ad"
      }
     },
     "90deca84aa6d4adbbf285853de4b0dbd": {
      "model_module": "@jupyter-widgets/controls",
      "model_module_version": "1.4.0",
      "model_name": "ButtonModel",
      "state": {
       "button_style": "info",
       "description": "Demo1",
       "layout": "IPY_MODEL_c9f89913f29848d8ae2c268f7cba2c8b",
       "style": "IPY_MODEL_fb8b63f3dd134b07851e58386321f79b",
       "tooltip": "# Modelos básicos\n    Permite ver cómo se comportan los modelos simples (Decision Tree, Logit,\n    LinearSVM) con un dataset determinado. Permite saber si algunos problemas\n    son más difíciles que otros para on modelo básico.\n    "
      }
     },
     "91a7fa4ceb064dc9b506515036fb8258": {
      "model_module": "@jupyter-widgets/output",
      "model_module_version": "1.0.0",
      "model_name": "OutputModel",
      "state": {
       "layout": "IPY_MODEL_d05f8da0e58d45208b73a3d79d58fb1c"
      }
     },
     "9213ec23eaf547f0891cc606fad988b8": {
      "model_module": "@jupyter-widgets/controls",
      "model_module_version": "1.4.0",
      "model_name": "DropdownModel",
      "state": {
       "_options_labels": [
        "segment",
        "covertype",
        "digits",
        "fall_detection",
        "mnist",
        "pen_digits",
        "satellite",
        "vowel"
       ],
       "description": "Dataset:",
       "index": 0,
       "layout": "IPY_MODEL_aab368e346d84f2fb06a57c90d9d5fda",
       "style": "IPY_MODEL_4820d502219740dca96410b5cbd6dbc7"
      }
     },
     "927931d0c5694221adc1eff8e68ef1a0": {
      "model_module": "@jupyter-widgets/controls",
      "model_module_version": "1.4.0",
      "model_name": "RadioButtonsModel",
      "state": {
       "_options_labels": [
        "1000",
        "2000",
        "5000",
        "10000"
       ],
       "description": "Size",
       "index": 0,
       "layout": "IPY_MODEL_7ea31fac758745a1986e307e82f3c6df",
       "style": "IPY_MODEL_9f603b213d7646bda69d8db6979c6f7a"
      }
     },
     "92ee02f1bd0e4b35b0e8e8716b536e20": {
      "model_module": "@jupyter-widgets/base",
      "model_module_version": "1.1.0",
      "model_name": "LayoutModel",
      "state": {}
     },
     "932c8e5f05ce4f4b821b0f9858888f43": {
      "model_module": "@jupyter-widgets/controls",
      "model_module_version": "1.4.0",
      "model_name": "VBoxModel",
      "state": {
       "children": [
        "IPY_MODEL_ce99b1fdcd024fa8ab2e086fa243a16a",
        "IPY_MODEL_bad0e864dc8e45c49148f5d3781a0726",
        "IPY_MODEL_e839d173f91742349b1aa283d4adea7b"
       ],
       "layout": "IPY_MODEL_66a749ef4fac47378e4e588dc5c9bee5"
      }
     },
     "93518ed534b942d7aa232d6d56cc2090": {
      "model_module": "@jupyter-widgets/output",
      "model_module_version": "1.0.0",
      "model_name": "OutputModel",
      "state": {
       "layout": "IPY_MODEL_d228d15811134cd4bbfe5eb76140feb6"
      }
     },
     "9374d2cf57cc48c1925a9b9c5ca8afa0": {
      "model_module": "@jupyter-widgets/controls",
      "model_module_version": "1.4.0",
      "model_name": "ButtonStyleModel",
      "state": {}
     },
     "93b6886eb08b4153be869c65dc32db1d": {
      "model_module": "@jupyter-widgets/base",
      "model_module_version": "1.1.0",
      "model_name": "LayoutModel",
      "state": {}
     },
     "9451de820cd2466b9164b5f28ee2c6f5": {
      "model_module": "@jupyter-widgets/base",
      "model_module_version": "1.1.0",
      "model_name": "LayoutModel",
      "state": {}
     },
     "9489ec1653984d4fb99fbbbdb1549759": {
      "model_module": "@jupyter-widgets/base",
      "model_module_version": "1.1.0",
      "model_name": "LayoutModel",
      "state": {}
     },
     "94f31124d439417284aecd74ac494bc7": {
      "model_module": "@jupyter-widgets/controls",
      "model_module_version": "1.4.0",
      "model_name": "RadioButtonsModel",
      "state": {
       "_options_labels": [
        "1000",
        "2000",
        "5000",
        "10000"
       ],
       "description": "Size",
       "index": 0,
       "layout": "IPY_MODEL_ff62a84ed1974ccfb526640c216b0a4f",
       "style": "IPY_MODEL_e9a8da81bce9415694b4d32e2dde6e51"
      }
     },
     "950be06f4f0f4e658ffeaa17c408bebc": {
      "model_module": "@jupyter-widgets/base",
      "model_module_version": "1.1.0",
      "model_name": "LayoutModel",
      "state": {}
     },
     "95914ed0fb874127b1b1d1e7561a11a9": {
      "model_module": "@jupyter-widgets/base",
      "model_module_version": "1.1.0",
      "model_name": "LayoutModel",
      "state": {}
     },
     "95daf3c67ead40e5ae48d4678352f104": {
      "model_module": "@jupyter-widgets/base",
      "model_module_version": "1.1.0",
      "model_name": "LayoutModel",
      "state": {}
     },
     "9638535670da4a4ca0d88ff812edbb3a": {
      "model_module": "@jupyter-widgets/base",
      "model_module_version": "1.1.0",
      "model_name": "LayoutModel",
      "state": {}
     },
     "968192b4d30a48a99e8e1f6c6d1aae13": {
      "model_module": "@jupyter-widgets/controls",
      "model_module_version": "1.4.0",
      "model_name": "DropdownModel",
      "state": {
       "_options_labels": [
        "segment",
        "covertype",
        "digits",
        "fall_detection",
        "mnist",
        "pen_digits",
        "satellite",
        "vowel"
       ],
       "description": "Dataset:",
       "index": 0,
       "layout": "IPY_MODEL_bcc22b47091d4f1595f904d0bfacbcf3",
       "style": "IPY_MODEL_056d8a874370427cb01be24a155b00f2"
      }
     },
     "97494836dc9f47c084340ae7b667bbac": {
      "model_module": "@jupyter-widgets/controls",
      "model_module_version": "1.4.0",
      "model_name": "ButtonStyleModel",
      "state": {}
     },
     "9793ab1cc8a0429fb5e45167d22f89e6": {
      "model_module": "@jupyter-widgets/base",
      "model_module_version": "1.1.0",
      "model_name": "LayoutModel",
      "state": {}
     },
     "980da3f0dcc84ec392b1cebf2f370029": {
      "model_module": "@jupyter-widgets/base",
      "model_module_version": "1.1.0",
      "model_name": "LayoutModel",
      "state": {}
     },
     "984212b4924440e489c258def559b306": {
      "model_module": "@jupyter-widgets/output",
      "model_module_version": "1.0.0",
      "model_name": "OutputModel",
      "state": {
       "layout": "IPY_MODEL_ed11be3f637445839000b64eb5edd99d"
      }
     },
     "9892b2197b85484580ec66ed881c8030": {
      "model_module": "@jupyter-widgets/base",
      "model_module_version": "1.1.0",
      "model_name": "LayoutModel",
      "state": {}
     },
     "98bdd898450e489eaadd56624d516982": {
      "model_module": "@jupyter-widgets/controls",
      "model_module_version": "1.4.0",
      "model_name": "ButtonModel",
      "state": {
       "button_style": "info",
       "description": "Demo1",
       "layout": "IPY_MODEL_a1821e2491974926ab620194facf2b94",
       "style": "IPY_MODEL_fce9c1ccab084ede871b7663b2936098",
       "tooltip": "# Modelos básicos\n    Permite ver cómo se comportan los modelos simples (Decision Tree, Logit,\n    LinearSVM) con un dataset determinado. Permite saber si algunos problemas\n    son más difíciles que otros para on modelo básico.\n    "
      }
     },
     "9949abe1aa52479aa23d436a0937017c": {
      "model_module": "@jupyter-widgets/controls",
      "model_module_version": "1.4.0",
      "model_name": "DescriptionStyleModel",
      "state": {
       "description_width": ""
      }
     },
     "9ad87a9d557e427a85fb059876ddb426": {
      "model_module": "@jupyter-widgets/controls",
      "model_module_version": "1.4.0",
      "model_name": "DescriptionStyleModel",
      "state": {
       "description_width": ""
      }
     },
     "9b9ff756c7fa401a8bf742a7eae4e347": {
      "model_module": "@jupyter-widgets/controls",
      "model_module_version": "1.4.0",
      "model_name": "ButtonStyleModel",
      "state": {}
     },
     "9c46b14a1131415395cd044c65414462": {
      "model_module": "@jupyter-widgets/controls",
      "model_module_version": "1.4.0",
      "model_name": "DescriptionStyleModel",
      "state": {
       "description_width": ""
      }
     },
     "9d76d1a9eab5432cae05bda50d2522af": {
      "model_module": "@jupyter-widgets/controls",
      "model_module_version": "1.4.0",
      "model_name": "RadioButtonsModel",
      "state": {
       "_options_labels": [
        "1000",
        "2000",
        "5000",
        "10000"
       ],
       "description": "Size",
       "index": 0,
       "layout": "IPY_MODEL_2211b11b16044106853bf9b25dbc6fd7",
       "style": "IPY_MODEL_f5cd9e7260da4b1cb91f9ac9e1e1d143"
      }
     },
     "9d8c89cb72f94410807327868cfd7e6e": {
      "model_module": "@jupyter-widgets/base",
      "model_module_version": "1.1.0",
      "model_name": "LayoutModel",
      "state": {}
     },
     "9db21431254342c29dbed3d1e3ff63d1": {
      "model_module": "@jupyter-widgets/base",
      "model_module_version": "1.1.0",
      "model_name": "LayoutModel",
      "state": {}
     },
     "9dd8c09be7b04540acfa1925aa90940e": {
      "model_module": "@jupyter-widgets/controls",
      "model_module_version": "1.4.0",
      "model_name": "VBoxModel",
      "state": {
       "children": [
        "IPY_MODEL_08a48e44af63403897dcba4360532daa",
        "IPY_MODEL_edc8015bccd847f7bdcb461d96ec8128",
        "IPY_MODEL_baeacc40823443ec98d0839ffe3ca9fe"
       ],
       "layout": "IPY_MODEL_39244d313c4e43b485d3683f1f636229"
      }
     },
     "9e441648e55543a8a9b3814a2a3abb07": {
      "model_module": "@jupyter-widgets/controls",
      "model_module_version": "1.4.0",
      "model_name": "RadioButtonsModel",
      "state": {
       "_options_labels": [
        "1000",
        "2000",
        "5000",
        "10000"
       ],
       "description": "Size",
       "index": 0,
       "layout": "IPY_MODEL_c493e5ecf7ea41b48217ec6bafa4fc63",
       "style": "IPY_MODEL_adb897ac9d1046f9a397525bd68df506"
      }
     },
     "9eba565cd57d4413a2c32ab04de71115": {
      "model_module": "@jupyter-widgets/base",
      "model_module_version": "1.1.0",
      "model_name": "LayoutModel",
      "state": {}
     },
     "9ef320f63933436fb479cdfed411035e": {
      "model_module": "@jupyter-widgets/controls",
      "model_module_version": "1.4.0",
      "model_name": "DropdownModel",
      "state": {
       "_options_labels": [
        "segment",
        "covertype",
        "digits",
        "fall_detection",
        "mnist",
        "pen_digits",
        "satellite",
        "vowel"
       ],
       "description": "Dataset:",
       "index": 0,
       "layout": "IPY_MODEL_ab312f3e107f417fb8e35af8ca6bd77c",
       "style": "IPY_MODEL_77c98a8879fb4c99b7751aaee8a70e72"
      }
     },
     "9efc585261024ca897c9025a9aabfaf4": {
      "model_module": "@jupyter-widgets/base",
      "model_module_version": "1.1.0",
      "model_name": "LayoutModel",
      "state": {}
     },
     "9f21230c5ef04010b31a35b903450104": {
      "model_module": "@jupyter-widgets/base",
      "model_module_version": "1.1.0",
      "model_name": "LayoutModel",
      "state": {}
     },
     "9f603b213d7646bda69d8db6979c6f7a": {
      "model_module": "@jupyter-widgets/controls",
      "model_module_version": "1.4.0",
      "model_name": "DescriptionStyleModel",
      "state": {
       "description_width": ""
      }
     },
     "a1821e2491974926ab620194facf2b94": {
      "model_module": "@jupyter-widgets/base",
      "model_module_version": "1.1.0",
      "model_name": "LayoutModel",
      "state": {}
     },
     "a2656aa0efc1421eaf9f627ef4cabf13": {
      "model_module": "@jupyter-widgets/base",
      "model_module_version": "1.1.0",
      "model_name": "LayoutModel",
      "state": {}
     },
     "a36216c3b1fb4fedbdd7f4a88e0783ba": {
      "model_module": "@jupyter-widgets/controls",
      "model_module_version": "1.4.0",
      "model_name": "DescriptionStyleModel",
      "state": {
       "description_width": ""
      }
     },
     "a366b58a13854b14807e1e92a1566798": {
      "model_module": "@jupyter-widgets/base",
      "model_module_version": "1.1.0",
      "model_name": "LayoutModel",
      "state": {}
     },
     "a42ef975ad944db989bee8a3e1aff9e7": {
      "model_module": "@jupyter-widgets/base",
      "model_module_version": "1.1.0",
      "model_name": "LayoutModel",
      "state": {}
     },
     "a4384e7049dc40929836665e5d36b491": {
      "model_module": "@jupyter-widgets/controls",
      "model_module_version": "1.4.0",
      "model_name": "DescriptionStyleModel",
      "state": {
       "description_width": ""
      }
     },
     "a50e5afcfd7641dd95fe881f8e404178": {
      "model_module": "@jupyter-widgets/base",
      "model_module_version": "1.1.0",
      "model_name": "LayoutModel",
      "state": {}
     },
     "a56b76627bbf46d284e7b6a2436d6738": {
      "model_module": "@jupyter-widgets/controls",
      "model_module_version": "1.4.0",
      "model_name": "DropdownModel",
      "state": {
       "_options_labels": [
        "segment",
        "covertype",
        "digits",
        "fall_detection",
        "mnist",
        "pen_digits",
        "satellite",
        "vowel"
       ],
       "description": "Dataset:",
       "index": 0,
       "layout": "IPY_MODEL_d213befb048943d484ef33e8cfb711e3",
       "style": "IPY_MODEL_1979f10f3b6b4220995caf760f125b45"
      }
     },
     "a5c93a3eb64445b2971523de1495313c": {
      "model_module": "@jupyter-widgets/controls",
      "model_module_version": "1.4.0",
      "model_name": "VBoxModel",
      "state": {
       "children": [
        "IPY_MODEL_46a43134b9134853bc3cff2cab4d4aef",
        "IPY_MODEL_9213ec23eaf547f0891cc606fad988b8",
        "IPY_MODEL_90deca84aa6d4adbbf285853de4b0dbd"
       ],
       "layout": "IPY_MODEL_d0f92e2c645648aeb2534dcdb4885010"
      }
     },
     "a5f65e3695194d8281e197b693b831f5": {
      "model_module": "@jupyter-widgets/controls",
      "model_module_version": "1.4.0",
      "model_name": "DescriptionStyleModel",
      "state": {
       "description_width": ""
      }
     },
     "a61d1cd1734442028e26b01ed50afd2f": {
      "model_module": "@jupyter-widgets/base",
      "model_module_version": "1.1.0",
      "model_name": "LayoutModel",
      "state": {}
     },
     "a69fbc9926cc44ee9831e0853138c400": {
      "model_module": "@jupyter-widgets/base",
      "model_module_version": "1.1.0",
      "model_name": "LayoutModel",
      "state": {}
     },
     "a6a46abc2d074250a021ce0b77b74bb0": {
      "model_module": "@jupyter-widgets/controls",
      "model_module_version": "1.4.0",
      "model_name": "DropdownModel",
      "state": {
       "_options_labels": [
        "segment",
        "covertype",
        "digits",
        "fall_detection",
        "mnist",
        "pen_digits",
        "satellite",
        "vowel"
       ],
       "description": "Dataset:",
       "index": 0,
       "layout": "IPY_MODEL_eb372aaf6adc4aa79d7444f8ea759467",
       "style": "IPY_MODEL_2818e667aee14b7396b5f13571bc356b"
      }
     },
     "a73df5f3311545089459270f9ea09b41": {
      "model_module": "@jupyter-widgets/controls",
      "model_module_version": "1.4.0",
      "model_name": "RadioButtonsModel",
      "state": {
       "_options_labels": [
        "1000",
        "2000",
        "5000",
        "10000"
       ],
       "description": "Size",
       "index": 0,
       "layout": "IPY_MODEL_192164d56aae47e68c6e52ac6cb0c190",
       "style": "IPY_MODEL_18606314fe644dc7bd3539ec93c1a6ae"
      }
     },
     "a78f04aabdd04917aea94f4dbec63860": {
      "model_module": "@jupyter-widgets/base",
      "model_module_version": "1.1.0",
      "model_name": "LayoutModel",
      "state": {}
     },
     "a79d9937c65a41af89c9fa6fc1c6d9cd": {
      "model_module": "@jupyter-widgets/controls",
      "model_module_version": "1.4.0",
      "model_name": "ButtonModel",
      "state": {
       "button_style": "info",
       "description": "Demo1",
       "layout": "IPY_MODEL_ef18c6cad2754475b60f967d4568dd30",
       "style": "IPY_MODEL_78a940dd5d66450f9eafc9bc95bed79a",
       "tooltip": "# Modelos básicos\n    Permite ver cómo se comportan los modelos simples (Decision Tree, Logit,\n    LinearSVM) con un dataset determinado. Permite saber si algunos problemas\n    son más difíciles que otros para on modelo básico.\n    "
      }
     },
     "a7c23c5fc3ec48dc871b8925d8daa348": {
      "model_module": "@jupyter-widgets/controls",
      "model_module_version": "1.4.0",
      "model_name": "DropdownModel",
      "state": {
       "_options_labels": [
        "segment",
        "covertype",
        "digits",
        "fall_detection",
        "mnist",
        "pen_digits",
        "satellite",
        "vowel"
       ],
       "description": "Dataset:",
       "index": 0,
       "layout": "IPY_MODEL_18cd6136c2f7455b9a1a617e321537c8",
       "style": "IPY_MODEL_8ac0d952d13149f79786558d23e3eaac"
      }
     },
     "a8223a40e24449e78330791e1d9236cf": {
      "model_module": "@jupyter-widgets/base",
      "model_module_version": "1.1.0",
      "model_name": "LayoutModel",
      "state": {}
     },
     "a865efa1de314615ba59764b4a2935a1": {
      "model_module": "@jupyter-widgets/controls",
      "model_module_version": "1.4.0",
      "model_name": "RadioButtonsModel",
      "state": {
       "_options_labels": [
        "1000",
        "2000",
        "5000",
        "10000"
       ],
       "description": "Size",
       "index": 0,
       "layout": "IPY_MODEL_e1159e0b1ac046f18f5c0e07f2131646",
       "style": "IPY_MODEL_5ecb172a5b3d4f83a3140b64597a07b1"
      }
     },
     "a978f1bf74b74d518567a0fd7d3979f2": {
      "model_module": "@jupyter-widgets/controls",
      "model_module_version": "1.4.0",
      "model_name": "ButtonStyleModel",
      "state": {}
     },
     "a986186b46804c4eb0679129760f846f": {
      "model_module": "@jupyter-widgets/base",
      "model_module_version": "1.1.0",
      "model_name": "LayoutModel",
      "state": {}
     },
     "a98a9dc105574d43ae446dbf89a2a0e0": {
      "model_module": "@jupyter-widgets/base",
      "model_module_version": "1.1.0",
      "model_name": "LayoutModel",
      "state": {}
     },
     "a9a5c94bffa24154bf20000431af42bc": {
      "model_module": "@jupyter-widgets/output",
      "model_module_version": "1.0.0",
      "model_name": "OutputModel",
      "state": {
       "layout": "IPY_MODEL_0610958f9b884e758f3d5fb05fd033e7"
      }
     },
     "aa2f6dbe4350464abcfdd98d17f87c28": {
      "model_module": "@jupyter-widgets/base",
      "model_module_version": "1.1.0",
      "model_name": "LayoutModel",
      "state": {}
     },
     "aab368e346d84f2fb06a57c90d9d5fda": {
      "model_module": "@jupyter-widgets/base",
      "model_module_version": "1.1.0",
      "model_name": "LayoutModel",
      "state": {}
     },
     "ab022938af3b45cea004e854b49ab1f7": {
      "model_module": "@jupyter-widgets/controls",
      "model_module_version": "1.4.0",
      "model_name": "ButtonStyleModel",
      "state": {}
     },
     "ab312f3e107f417fb8e35af8ca6bd77c": {
      "model_module": "@jupyter-widgets/base",
      "model_module_version": "1.1.0",
      "model_name": "LayoutModel",
      "state": {}
     },
     "ab3a929deddd4905804358ba7dc431c1": {
      "model_module": "@jupyter-widgets/base",
      "model_module_version": "1.1.0",
      "model_name": "LayoutModel",
      "state": {}
     },
     "ad76524c06c245e3bddb04380b6c2286": {
      "model_module": "@jupyter-widgets/base",
      "model_module_version": "1.1.0",
      "model_name": "LayoutModel",
      "state": {}
     },
     "ad93b93320344411bcbb9f16922c89a4": {
      "model_module": "@jupyter-widgets/controls",
      "model_module_version": "1.4.0",
      "model_name": "ButtonModel",
      "state": {
       "button_style": "info",
       "description": "Demo1",
       "layout": "IPY_MODEL_d7f96f0c68bb48fcb5916abb665df887",
       "style": "IPY_MODEL_efea1789bbd4411f916d759743d51a5e",
       "tooltip": "# Modelos básicos\n    Permite ver cómo se comportan los modelos simples (Decision Tree, Logit,\n    LinearSVM) con un dataset determinado. Permite saber si algunos problemas\n    son más difíciles que otros para on modelo básico.\n    "
      }
     },
     "adb897ac9d1046f9a397525bd68df506": {
      "model_module": "@jupyter-widgets/controls",
      "model_module_version": "1.4.0",
      "model_name": "DescriptionStyleModel",
      "state": {
       "description_width": ""
      }
     },
     "ae6f1558a6204187ad274404d6abde8c": {
      "model_module": "@jupyter-widgets/base",
      "model_module_version": "1.1.0",
      "model_name": "LayoutModel",
      "state": {}
     },
     "aeb1dd03952c40ea803804111514f806": {
      "model_module": "@jupyter-widgets/controls",
      "model_module_version": "1.4.0",
      "model_name": "DropdownModel",
      "state": {
       "_options_labels": [
        "segment",
        "covertype",
        "digits",
        "fall_detection",
        "mnist",
        "pen_digits",
        "satellite",
        "vowel"
       ],
       "description": "Dataset:",
       "index": 0,
       "layout": "IPY_MODEL_48d5ae6e39714d4bb1517350574884e7",
       "style": "IPY_MODEL_cc3cf9e6559c4a2abe5afdabca60033c"
      }
     },
     "aed1aa08b59a42298f66480ae4dd9290": {
      "model_module": "@jupyter-widgets/base",
      "model_module_version": "1.1.0",
      "model_name": "LayoutModel",
      "state": {}
     },
     "aef7f7ac0e624ea4b2f0df1d50f2e218": {
      "model_module": "@jupyter-widgets/controls",
      "model_module_version": "1.4.0",
      "model_name": "DescriptionStyleModel",
      "state": {
       "description_width": ""
      }
     },
     "b013a9fdd45241fab819ba726699c613": {
      "model_module": "@jupyter-widgets/controls",
      "model_module_version": "1.4.0",
      "model_name": "DescriptionStyleModel",
      "state": {
       "description_width": ""
      }
     },
     "b016d58ae4da4db786f09c210afaacc3": {
      "model_module": "@jupyter-widgets/controls",
      "model_module_version": "1.4.0",
      "model_name": "RadioButtonsModel",
      "state": {
       "_options_labels": [
        "1000",
        "2000",
        "5000",
        "10000"
       ],
       "description": "Size",
       "index": 0,
       "layout": "IPY_MODEL_bf603f45a6074deca9f4a787613e98b9",
       "style": "IPY_MODEL_2e4ac17c01f74ece8910c0ed619b7c62"
      }
     },
     "b01bdb2fb9e24cdb8fb9da93a4325a7a": {
      "model_module": "@jupyter-widgets/controls",
      "model_module_version": "1.4.0",
      "model_name": "DescriptionStyleModel",
      "state": {
       "description_width": ""
      }
     },
     "b03269cf8f53484e8fdb0cefdcbd10fb": {
      "model_module": "@jupyter-widgets/base",
      "model_module_version": "1.1.0",
      "model_name": "LayoutModel",
      "state": {}
     },
     "b052e4d442fe4a53b8071d8abcfbf832": {
      "model_module": "@jupyter-widgets/output",
      "model_module_version": "1.0.0",
      "model_name": "OutputModel",
      "state": {
       "layout": "IPY_MODEL_eb8dfc6e55614682bb9bfe9266f9cd95"
      }
     },
     "b07b1abd96934707ae49c0c39f89b0ff": {
      "model_module": "@jupyter-widgets/controls",
      "model_module_version": "1.4.0",
      "model_name": "DescriptionStyleModel",
      "state": {
       "description_width": ""
      }
     },
     "b22fb9c5d9cd46a7965ff4b9aca4077c": {
      "model_module": "@jupyter-widgets/controls",
      "model_module_version": "1.4.0",
      "model_name": "ButtonStyleModel",
      "state": {}
     },
     "b2539504d98d441da4a0cb0f69b88399": {
      "model_module": "@jupyter-widgets/controls",
      "model_module_version": "1.4.0",
      "model_name": "ButtonModel",
      "state": {
       "button_style": "info",
       "description": "Demo1",
       "layout": "IPY_MODEL_aa2f6dbe4350464abcfdd98d17f87c28",
       "style": "IPY_MODEL_4ef2db11d11843d1876d59db21e9b21e",
       "tooltip": "# Modelos básicos\n    Permite ver cómo se comportan los modelos simples (Decision Tree, Logit,\n    LinearSVM) con un dataset determinado. Permite saber si algunos problemas\n    son más difíciles que otros para on modelo básico.\n    "
      }
     },
     "b35c67f2f7c54dc0a5d960fefc0977b5": {
      "model_module": "@jupyter-widgets/controls",
      "model_module_version": "1.4.0",
      "model_name": "ButtonModel",
      "state": {
       "button_style": "info",
       "description": "Demo1",
       "layout": "IPY_MODEL_d34d636956a245f6be57c56322438504",
       "style": "IPY_MODEL_6aef2a9c9c704171b2e558e03318ccae",
       "tooltip": "# Modelos básicos\n    Permite ver cómo se comportan los modelos simples (Decision Tree, Logit,\n    LinearSVM) con un dataset determinado. Permite saber si algunos problemas\n    son más difíciles que otros para on modelo básico.\n    "
      }
     },
     "b39c48ba84a14e8e8ed1cf755addc55f": {
      "model_module": "@jupyter-widgets/controls",
      "model_module_version": "1.4.0",
      "model_name": "RadioButtonsModel",
      "state": {
       "_options_labels": [
        "1000",
        "2000",
        "5000",
        "10000"
       ],
       "description": "Size",
       "index": 0,
       "layout": "IPY_MODEL_3de4712b7a4543f8b036a539ac1b2495",
       "style": "IPY_MODEL_de81e30caf0541c98ef2e661470a5661"
      }
     },
     "b3a1064343ea4b4aac8dec4657bd15f8": {
      "model_module": "@jupyter-widgets/controls",
      "model_module_version": "1.4.0",
      "model_name": "RadioButtonsModel",
      "state": {
       "_options_labels": [
        "1000",
        "2000",
        "5000",
        "10000"
       ],
       "description": "Size",
       "index": 0,
       "layout": "IPY_MODEL_28b90bf90b934555b1199660d21424c7",
       "style": "IPY_MODEL_0657bc0f2b2a403e865a324222c87f76"
      }
     },
     "b4fb8cc0e4174407aa9ad790341fee3a": {
      "model_module": "@jupyter-widgets/controls",
      "model_module_version": "1.4.0",
      "model_name": "DescriptionStyleModel",
      "state": {
       "description_width": ""
      }
     },
     "b6ab72fb765d40fda4622b1ae5a164a8": {
      "model_module": "@jupyter-widgets/controls",
      "model_module_version": "1.4.0",
      "model_name": "DropdownModel",
      "state": {
       "_options_labels": [
        "segment",
        "covertype",
        "digits",
        "fall_detection",
        "mnist",
        "pen_digits",
        "satellite",
        "vowel"
       ],
       "description": "Dataset:",
       "index": 0,
       "layout": "IPY_MODEL_88be38b6c9854964a6e439b802b83d3f",
       "style": "IPY_MODEL_aef7f7ac0e624ea4b2f0df1d50f2e218"
      }
     },
     "b70e40f03274452da98e91cdfa1b296b": {
      "model_module": "@jupyter-widgets/controls",
      "model_module_version": "1.4.0",
      "model_name": "DropdownModel",
      "state": {
       "_options_labels": [
        "segment",
        "covertype",
        "digits",
        "fall_detection",
        "mnist",
        "pen_digits",
        "satellite",
        "vowel"
       ],
       "description": "Dataset:",
       "index": 0,
       "layout": "IPY_MODEL_125b1d8b7818476f8d99dd30842e5176",
       "style": "IPY_MODEL_4b1d3a7eee2e4da1ad6379858a727519"
      }
     },
     "b73ce7555b014c72a6f3d2228dd36711": {
      "model_module": "@jupyter-widgets/base",
      "model_module_version": "1.1.0",
      "model_name": "LayoutModel",
      "state": {}
     },
     "b7f4df1cfb52465bb21d9342f15e102e": {
      "model_module": "@jupyter-widgets/base",
      "model_module_version": "1.1.0",
      "model_name": "LayoutModel",
      "state": {}
     },
     "b89c0e6df4d04646a26b84620601b9e3": {
      "model_module": "@jupyter-widgets/controls",
      "model_module_version": "1.4.0",
      "model_name": "ButtonStyleModel",
      "state": {}
     },
     "b9ceda7121a447a3b640d158cd7a957c": {
      "model_module": "@jupyter-widgets/controls",
      "model_module_version": "1.4.0",
      "model_name": "RadioButtonsModel",
      "state": {
       "_options_labels": [
        "1000",
        "2000",
        "5000",
        "10000"
       ],
       "description": "Size",
       "index": 0,
       "layout": "IPY_MODEL_799889000568426f86019bdedb8c2f3c",
       "style": "IPY_MODEL_3fa43077179745d5bfa163a2e07a84c2"
      }
     },
     "baa06ab1e43040b0a9ec2a21d66b0be9": {
      "model_module": "@jupyter-widgets/controls",
      "model_module_version": "1.4.0",
      "model_name": "DescriptionStyleModel",
      "state": {
       "description_width": ""
      }
     },
     "baaf49c82a3f441e8793329734f8a656": {
      "model_module": "@jupyter-widgets/controls",
      "model_module_version": "1.4.0",
      "model_name": "DropdownModel",
      "state": {
       "_options_labels": [
        "segment",
        "covertype",
        "digits",
        "fall_detection",
        "mnist",
        "pen_digits",
        "satellite",
        "vowel"
       ],
       "description": "Dataset:",
       "index": 0,
       "layout": "IPY_MODEL_6017ee3de3604eee8b495e9eea67ce11",
       "style": "IPY_MODEL_1e7f4f4ebb51466c9f6aba83d8748086"
      }
     },
     "bad0e864dc8e45c49148f5d3781a0726": {
      "model_module": "@jupyter-widgets/controls",
      "model_module_version": "1.4.0",
      "model_name": "DropdownModel",
      "state": {
       "_options_labels": [
        "segment",
        "covertype",
        "digits",
        "fall_detection",
        "mnist",
        "pen_digits",
        "satellite",
        "vowel"
       ],
       "description": "Dataset:",
       "index": 0,
       "layout": "IPY_MODEL_43054511b1234663a84f3e8ed502b3f8",
       "style": "IPY_MODEL_7457c16bbd7f4dd3b6061d007f20df65"
      }
     },
     "baeacc40823443ec98d0839ffe3ca9fe": {
      "model_module": "@jupyter-widgets/controls",
      "model_module_version": "1.4.0",
      "model_name": "ButtonModel",
      "state": {
       "button_style": "info",
       "description": "Demo1",
       "layout": "IPY_MODEL_8f71abbea4284456843e58881f4232d3",
       "style": "IPY_MODEL_c2a0356dae54453eb1a6440b1670b33f",
       "tooltip": "# Modelos básicos\n    Permite ver cómo se comportan los modelos simples (Decision Tree, Logit,\n    LinearSVM) con un dataset determinado. Permite saber si algunos problemas\n    son más difíciles que otros para on modelo básico.\n    "
      }
     },
     "bc1f10ab1e0d4a95b675e0e682b9269a": {
      "model_module": "@jupyter-widgets/controls",
      "model_module_version": "1.4.0",
      "model_name": "DescriptionStyleModel",
      "state": {
       "description_width": ""
      }
     },
     "bcb004969c2640518b1713f746375a4f": {
      "model_module": "@jupyter-widgets/output",
      "model_module_version": "1.0.0",
      "model_name": "OutputModel",
      "state": {
       "layout": "IPY_MODEL_f8f9afae1cc14175b9a586d3bc21d084"
      }
     },
     "bcc22b47091d4f1595f904d0bfacbcf3": {
      "model_module": "@jupyter-widgets/base",
      "model_module_version": "1.1.0",
      "model_name": "LayoutModel",
      "state": {}
     },
     "bcf535c4930747d5bcfb970c61eecd6b": {
      "model_module": "@jupyter-widgets/controls",
      "model_module_version": "1.4.0",
      "model_name": "ButtonStyleModel",
      "state": {}
     },
     "bd20fb95cec7435d8a97f059abdf88be": {
      "model_module": "@jupyter-widgets/controls",
      "model_module_version": "1.4.0",
      "model_name": "ButtonModel",
      "state": {
       "button_style": "info",
       "description": "Demo1",
       "layout": "IPY_MODEL_53cf0489d08942fe90426c8afdb2b0db",
       "style": "IPY_MODEL_8372805ea7224315a9605c41b9416daf",
       "tooltip": "# Modelos básicos\n    Permite ver cómo se comportan los modelos simples (Decision Tree, Logit,\n    LinearSVM) con un dataset determinado. Permite saber si algunos problemas\n    son más difíciles que otros para on modelo básico.\n    "
      }
     },
     "bd66fbfea8d946adbfb7f2acbdb4968e": {
      "model_module": "@jupyter-widgets/base",
      "model_module_version": "1.1.0",
      "model_name": "LayoutModel",
      "state": {}
     },
     "bddd32d65cb34ed180364ba5c098d1e2": {
      "model_module": "@jupyter-widgets/controls",
      "model_module_version": "1.4.0",
      "model_name": "VBoxModel",
      "state": {
       "children": [
        "IPY_MODEL_614710fa7825431a95732cd043d645b3",
        "IPY_MODEL_80372cee68ca4a418986c75ae6e3e70f",
        "IPY_MODEL_e2aa69e819f1467dadb3248ca3757520"
       ],
       "layout": "IPY_MODEL_2111ac85c305409aa0b8c3a5246bc3b0"
      }
     },
     "be4a1affe6f4406fb03e24e34e02cd3a": {
      "model_module": "@jupyter-widgets/controls",
      "model_module_version": "1.4.0",
      "model_name": "RadioButtonsModel",
      "state": {
       "_options_labels": [
        "1000",
        "2000",
        "5000",
        "10000"
       ],
       "description": "Size",
       "index": 0,
       "layout": "IPY_MODEL_64df030624ec4038b903643fec3ce80f",
       "style": "IPY_MODEL_39c093f3a0f14db9be430201a9ef2123"
      }
     },
     "be4a39aa3c6a468189a86b1e4b4b72cd": {
      "model_module": "@jupyter-widgets/controls",
      "model_module_version": "1.4.0",
      "model_name": "ButtonStyleModel",
      "state": {}
     },
     "bf603f45a6074deca9f4a787613e98b9": {
      "model_module": "@jupyter-widgets/base",
      "model_module_version": "1.1.0",
      "model_name": "LayoutModel",
      "state": {}
     },
     "c02aaa46e6b14e4ca6e04d5eca5584cb": {
      "model_module": "@jupyter-widgets/output",
      "model_module_version": "1.0.0",
      "model_name": "OutputModel",
      "state": {
       "layout": "IPY_MODEL_332b2f0b15424e85a2942b01729911a3"
      }
     },
     "c02d123b46de473f805081a39d5ce459": {
      "model_module": "@jupyter-widgets/base",
      "model_module_version": "1.1.0",
      "model_name": "LayoutModel",
      "state": {}
     },
     "c05ba502ffbd4715b0dc8603b18ca438": {
      "model_module": "@jupyter-widgets/base",
      "model_module_version": "1.1.0",
      "model_name": "LayoutModel",
      "state": {}
     },
     "c1185eaee2d5425c9248db0997142664": {
      "model_module": "@jupyter-widgets/output",
      "model_module_version": "1.0.0",
      "model_name": "OutputModel",
      "state": {
       "layout": "IPY_MODEL_ded3e892c2f34a3186ec41cec2a6e70b"
      }
     },
     "c125e986835f439eb0c2ea64a892bbb3": {
      "model_module": "@jupyter-widgets/controls",
      "model_module_version": "1.4.0",
      "model_name": "ButtonStyleModel",
      "state": {}
     },
     "c14f576d8ae143419d6535b51579bfa0": {
      "model_module": "@jupyter-widgets/controls",
      "model_module_version": "1.4.0",
      "model_name": "ButtonModel",
      "state": {
       "button_style": "info",
       "description": "Template",
       "layout": "IPY_MODEL_896f9c5ad5834c73b5fea9f67f4edb1b",
       "style": "IPY_MODEL_d079b8eede724ce786029603ad334eb5"
      }
     },
     "c187d4316b9d4a4886295b2f5f31875e": {
      "model_module": "@jupyter-widgets/controls",
      "model_module_version": "1.4.0",
      "model_name": "VBoxModel",
      "state": {
       "children": [
        "IPY_MODEL_e921a96f2eeb41b59fc04c1e0c45c858",
        "IPY_MODEL_cc34ade0fdc04bab9bbb4a2e0333fff4",
        "IPY_MODEL_760877b97135456190fe837fe6ba0d14"
       ],
       "layout": "IPY_MODEL_00d1c6da34e04a3a9dd907844f1f949c"
      }
     },
     "c1d20a1dc4b7445c91ba34e45f3c523e": {
      "model_module": "@jupyter-widgets/controls",
      "model_module_version": "1.4.0",
      "model_name": "VBoxModel",
      "state": {
       "children": [
        "IPY_MODEL_a865efa1de314615ba59764b4a2935a1",
        "IPY_MODEL_a56b76627bbf46d284e7b6a2436d6738",
        "IPY_MODEL_a79d9937c65a41af89c9fa6fc1c6d9cd"
       ],
       "layout": "IPY_MODEL_5fc674eee0f54387afb01b50cf40de4d"
      }
     },
     "c281f95567764d83b62664ac3e36ef3c": {
      "model_module": "@jupyter-widgets/controls",
      "model_module_version": "1.4.0",
      "model_name": "DropdownModel",
      "state": {
       "_options_labels": [
        "segment",
        "covertype",
        "digits",
        "fall_detection",
        "mnist",
        "pen_digits",
        "satellite",
        "vowel"
       ],
       "description": "Dataset:",
       "index": 0,
       "layout": "IPY_MODEL_f9eb503c00e34e7f9cf51508c7a31337",
       "style": "IPY_MODEL_7cdb229f81e5448fa0771433be5818f4"
      }
     },
     "c2a0356dae54453eb1a6440b1670b33f": {
      "model_module": "@jupyter-widgets/controls",
      "model_module_version": "1.4.0",
      "model_name": "ButtonStyleModel",
      "state": {}
     },
     "c2b563cd22ec4576ae00325d5af172ba": {
      "model_module": "@jupyter-widgets/base",
      "model_module_version": "1.1.0",
      "model_name": "LayoutModel",
      "state": {}
     },
     "c2f96e4181344b7aad7a5e99278564f4": {
      "model_module": "@jupyter-widgets/controls",
      "model_module_version": "1.4.0",
      "model_name": "RadioButtonsModel",
      "state": {
       "_options_labels": [
        "1000",
        "2000",
        "5000",
        "10000"
       ],
       "description": "Size",
       "index": 0,
       "layout": "IPY_MODEL_d467d5a257de4183b6744ecb07d10808",
       "style": "IPY_MODEL_60e4d104e6e44032a75167a440b6f6b4"
      }
     },
     "c311e595d8794239b9d7c9770293e98c": {
      "model_module": "@jupyter-widgets/controls",
      "model_module_version": "1.4.0",
      "model_name": "RadioButtonsModel",
      "state": {
       "_options_labels": [
        "1000",
        "2000",
        "5000",
        "10000"
       ],
       "description": "Size",
       "index": 0,
       "layout": "IPY_MODEL_175b0f2e893d4cc68f421b08cd048fd9",
       "style": "IPY_MODEL_b013a9fdd45241fab819ba726699c613"
      }
     },
     "c333ad51edcd49018098135715bfe9d3": {
      "model_module": "@jupyter-widgets/controls",
      "model_module_version": "1.4.0",
      "model_name": "DropdownModel",
      "state": {
       "_options_labels": [
        "segment",
        "covertype",
        "digits",
        "fall_detection",
        "mnist",
        "pen_digits",
        "satellite",
        "vowel"
       ],
       "description": "Dataset:",
       "index": 0,
       "layout": "IPY_MODEL_f00d7ab7cad041cda44fcc8bb5208cad",
       "style": "IPY_MODEL_6ce75c794e774341afc3794fd7a9443d"
      }
     },
     "c34b69799cc14b31825de4af2391a568": {
      "model_module": "@jupyter-widgets/controls",
      "model_module_version": "1.4.0",
      "model_name": "RadioButtonsModel",
      "state": {
       "_options_labels": [
        "1000",
        "2000",
        "5000",
        "10000"
       ],
       "description": "Size",
       "index": 0,
       "layout": "IPY_MODEL_41367eb74ed349e7a8f2ee3b2035f850",
       "style": "IPY_MODEL_8c5289d5c64c43888af56788e2751f64"
      }
     },
     "c393c526644b4950b379f4caf686379c": {
      "model_module": "@jupyter-widgets/controls",
      "model_module_version": "1.4.0",
      "model_name": "RadioButtonsModel",
      "state": {
       "_options_labels": [
        "1000",
        "2000",
        "5000",
        "10000"
       ],
       "description": "Size",
       "index": 0,
       "layout": "IPY_MODEL_edb5e4dafb414922a64d34a290e4a7cd",
       "style": "IPY_MODEL_a4384e7049dc40929836665e5d36b491"
      }
     },
     "c493e5ecf7ea41b48217ec6bafa4fc63": {
      "model_module": "@jupyter-widgets/base",
      "model_module_version": "1.1.0",
      "model_name": "LayoutModel",
      "state": {}
     },
     "c4b85fa9ec82401585abd9e910b7db9c": {
      "model_module": "@jupyter-widgets/base",
      "model_module_version": "1.1.0",
      "model_name": "LayoutModel",
      "state": {}
     },
     "c506a3e763d946ca9eacd8c040dc8023": {
      "model_module": "@jupyter-widgets/controls",
      "model_module_version": "1.4.0",
      "model_name": "DescriptionStyleModel",
      "state": {
       "description_width": ""
      }
     },
     "c65f661095f248b59e51a0369312a65f": {
      "model_module": "@jupyter-widgets/base",
      "model_module_version": "1.1.0",
      "model_name": "LayoutModel",
      "state": {}
     },
     "c6c66e8597c540b3ae2c6371abd0984f": {
      "model_module": "@jupyter-widgets/base",
      "model_module_version": "1.1.0",
      "model_name": "LayoutModel",
      "state": {}
     },
     "c6f498533e41409da0e58285b06f5607": {
      "model_module": "@jupyter-widgets/controls",
      "model_module_version": "1.4.0",
      "model_name": "DescriptionStyleModel",
      "state": {
       "description_width": ""
      }
     },
     "c770477421a3491e96591e53a7e52393": {
      "model_module": "@jupyter-widgets/controls",
      "model_module_version": "1.4.0",
      "model_name": "ButtonModel",
      "state": {
       "button_style": "info",
       "description": "Demo1",
       "layout": "IPY_MODEL_667c43f78b8d4158a0004c53eaf1fed3",
       "style": "IPY_MODEL_be4a39aa3c6a468189a86b1e4b4b72cd",
       "tooltip": "# Modelos básicos\n    Permite ver cómo se comportan los modelos simples (Decision Tree, Logit,\n    LinearSVM) con un dataset determinado. Permite saber si algunos problemas\n    son más difíciles que otros para on modelo básico.\n    "
      }
     },
     "c7961f0c797348b9b405538613cefc1d": {
      "model_module": "@jupyter-widgets/output",
      "model_module_version": "1.0.0",
      "model_name": "OutputModel",
      "state": {
       "layout": "IPY_MODEL_f1d7b42f73c44087bdc67dc0585bfd43",
       "outputs": [
        {
         "data": {
          "text/markdown": "\n- Dataset: **segment**\n- Size: **1000**\n        ",
          "text/plain": "<IPython.core.display.Markdown object>"
         },
         "metadata": {},
         "output_type": "display_data"
        },
        {
         "data": {
          "image/png": "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\n",
          "text/plain": "<Figure size 921.6x345.6 with 2 Axes>"
         },
         "metadata": {},
         "output_type": "display_data"
        }
       ]
      }
     },
     "c849e6cb8be44fc49c35c3798497e9ed": {
      "model_module": "@jupyter-widgets/base",
      "model_module_version": "1.1.0",
      "model_name": "LayoutModel",
      "state": {}
     },
     "c915ea193a4248a6aca199f34c3f2849": {
      "model_module": "@jupyter-widgets/base",
      "model_module_version": "1.1.0",
      "model_name": "LayoutModel",
      "state": {}
     },
     "c990876578274abeb5d6313a784c3151": {
      "model_module": "@jupyter-widgets/controls",
      "model_module_version": "1.4.0",
      "model_name": "VBoxModel",
      "state": {
       "children": [
        "IPY_MODEL_0d78a68254e143a4b8f74f0355df495a",
        "IPY_MODEL_f654663e748742248cd52fc3e95acea4",
        "IPY_MODEL_010b3543f367476994577967279313a7"
       ],
       "layout": "IPY_MODEL_c915ea193a4248a6aca199f34c3f2849"
      }
     },
     "c9a4849e4c9749ec9d27a1ac30d29c45": {
      "model_module": "@jupyter-widgets/output",
      "model_module_version": "1.0.0",
      "model_name": "OutputModel",
      "state": {
       "layout": "IPY_MODEL_ced091d2163e4fb4bbedff7dda6867ca",
       "outputs": [
        {
         "data": {
          "text/markdown": "\n- Arg 1: **value1**\n- Arg 2: **value2**\n        ",
          "text/plain": "<IPython.core.display.Markdown object>"
         },
         "metadata": {},
         "output_type": "display_data"
        },
        {
         "data": {
          "image/png": "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\n",
          "text/plain": "<Figure size 921.6x345.6 with 2 Axes>"
         },
         "metadata": {},
         "output_type": "display_data"
        }
       ]
      }
     },
     "c9f89913f29848d8ae2c268f7cba2c8b": {
      "model_module": "@jupyter-widgets/base",
      "model_module_version": "1.1.0",
      "model_name": "LayoutModel",
      "state": {}
     },
     "cac804e03c6b4214a31c0800af201472": {
      "model_module": "@jupyter-widgets/base",
      "model_module_version": "1.1.0",
      "model_name": "LayoutModel",
      "state": {}
     },
     "cafe9314b1f3404fb910d4390868ba34": {
      "model_module": "@jupyter-widgets/controls",
      "model_module_version": "1.4.0",
      "model_name": "ButtonModel",
      "state": {
       "button_style": "info",
       "description": "Demo1",
       "layout": "IPY_MODEL_ad76524c06c245e3bddb04380b6c2286",
       "style": "IPY_MODEL_2de9afe3755a4791b033378d4c38ef71",
       "tooltip": "# Modelos básicos\n    Permite ver cómo se comportan los modelos simples (Decision Tree, Logit,\n    LinearSVM) con un dataset determinado. Permite saber si algunos problemas\n    son más difíciles que otros para on modelo básico.\n    "
      }
     },
     "cb47e2facb1b45a09c7f32fe877f5ee5": {
      "model_module": "@jupyter-widgets/output",
      "model_module_version": "1.0.0",
      "model_name": "OutputModel",
      "state": {
       "layout": "IPY_MODEL_9d8c89cb72f94410807327868cfd7e6e"
      }
     },
     "cbed177013a140149b14e84fb9d9f0dc": {
      "model_module": "@jupyter-widgets/controls",
      "model_module_version": "1.4.0",
      "model_name": "VBoxModel",
      "state": {
       "children": [
        "IPY_MODEL_da18b95a400b4628b89d17ac8e7df10d",
        "IPY_MODEL_a6a46abc2d074250a021ce0b77b74bb0",
        "IPY_MODEL_c770477421a3491e96591e53a7e52393"
       ],
       "layout": "IPY_MODEL_30c18a8d92584a7f81a4411c1dacf342"
      }
     },
     "cc34ade0fdc04bab9bbb4a2e0333fff4": {
      "model_module": "@jupyter-widgets/controls",
      "model_module_version": "1.4.0",
      "model_name": "DropdownModel",
      "state": {
       "_options_labels": [
        "segment",
        "covertype",
        "digits",
        "fall_detection",
        "mnist",
        "pen_digits",
        "satellite",
        "vowel"
       ],
       "description": "Dataset:",
       "index": 0,
       "layout": "IPY_MODEL_a78f04aabdd04917aea94f4dbec63860",
       "style": "IPY_MODEL_b07b1abd96934707ae49c0c39f89b0ff"
      }
     },
     "cc3cf9e6559c4a2abe5afdabca60033c": {
      "model_module": "@jupyter-widgets/controls",
      "model_module_version": "1.4.0",
      "model_name": "DescriptionStyleModel",
      "state": {
       "description_width": ""
      }
     },
     "cc50cc714dbb4d40b46908b30dddd174": {
      "model_module": "@jupyter-widgets/controls",
      "model_module_version": "1.4.0",
      "model_name": "ButtonModel",
      "state": {
       "button_style": "info",
       "description": "Demo1",
       "layout": "IPY_MODEL_357bdc053d7e4fd6aa51bb80e8ca81d5",
       "style": "IPY_MODEL_4f898897d0ba4e729daa676fda650163",
       "tooltip": "# Modelos básicos\n    Permite ver cómo se comportan los modelos simples (Decision Tree, Logit,\n    LinearSVM) con un dataset determinado. Permite saber si algunos problemas\n    son más difíciles que otros para on modelo básico.\n    "
      }
     },
     "cd3fb7589b7d47249c34cd5643002c2a": {
      "model_module": "@jupyter-widgets/base",
      "model_module_version": "1.1.0",
      "model_name": "LayoutModel",
      "state": {}
     },
     "cd78d73505754fc1857e94f15f1cea9d": {
      "model_module": "@jupyter-widgets/base",
      "model_module_version": "1.1.0",
      "model_name": "LayoutModel",
      "state": {}
     },
     "ce256dbf77874cd390f31dd09a2fba8e": {
      "model_module": "@jupyter-widgets/base",
      "model_module_version": "1.1.0",
      "model_name": "LayoutModel",
      "state": {}
     },
     "ce99b1fdcd024fa8ab2e086fa243a16a": {
      "model_module": "@jupyter-widgets/controls",
      "model_module_version": "1.4.0",
      "model_name": "RadioButtonsModel",
      "state": {
       "_options_labels": [
        "1000",
        "2000",
        "5000",
        "10000"
       ],
       "description": "Size",
       "index": 0,
       "layout": "IPY_MODEL_6b88e729996544f79b284a03ad83f746",
       "style": "IPY_MODEL_a36216c3b1fb4fedbdd7f4a88e0783ba"
      }
     },
     "cec7dae7fd6d43ff80f196061164c6ec": {
      "model_module": "@jupyter-widgets/controls",
      "model_module_version": "1.4.0",
      "model_name": "DropdownModel",
      "state": {
       "_options_labels": [
        "segment",
        "covertype",
        "digits",
        "fall_detection",
        "mnist",
        "pen_digits",
        "satellite",
        "vowel"
       ],
       "description": "Dataset:",
       "index": 0,
       "layout": "IPY_MODEL_9db21431254342c29dbed3d1e3ff63d1",
       "style": "IPY_MODEL_732e1e1186634295aecb756f2248ed15"
      }
     },
     "ced091d2163e4fb4bbedff7dda6867ca": {
      "model_module": "@jupyter-widgets/base",
      "model_module_version": "1.1.0",
      "model_name": "LayoutModel",
      "state": {}
     },
     "cf035734b27a43b0a084a6a29fe2e437": {
      "model_module": "@jupyter-widgets/output",
      "model_module_version": "1.0.0",
      "model_name": "OutputModel",
      "state": {
       "layout": "IPY_MODEL_6f48b3ab327b43e0be0a1b9da98907b5"
      }
     },
     "cf5a3c05d7d04e2abc3303c45c846096": {
      "model_module": "@jupyter-widgets/base",
      "model_module_version": "1.1.0",
      "model_name": "LayoutModel",
      "state": {}
     },
     "d058299343754375a50dbcfdfef9ec3a": {
      "model_module": "@jupyter-widgets/controls",
      "model_module_version": "1.4.0",
      "model_name": "ButtonModel",
      "state": {
       "button_style": "info",
       "description": "Template",
       "layout": "IPY_MODEL_a69fbc9926cc44ee9831e0853138c400",
       "style": "IPY_MODEL_6e8fb6a94b6a4ee68b52ca8c6e02a8cd"
      }
     },
     "d05f8da0e58d45208b73a3d79d58fb1c": {
      "model_module": "@jupyter-widgets/base",
      "model_module_version": "1.1.0",
      "model_name": "LayoutModel",
      "state": {}
     },
     "d079b8eede724ce786029603ad334eb5": {
      "model_module": "@jupyter-widgets/controls",
      "model_module_version": "1.4.0",
      "model_name": "ButtonStyleModel",
      "state": {}
     },
     "d0ce41f8244743ff9a2615bed8e5efa1": {
      "model_module": "@jupyter-widgets/base",
      "model_module_version": "1.1.0",
      "model_name": "LayoutModel",
      "state": {}
     },
     "d0f92e2c645648aeb2534dcdb4885010": {
      "model_module": "@jupyter-widgets/base",
      "model_module_version": "1.1.0",
      "model_name": "LayoutModel",
      "state": {}
     },
     "d1adcdd8e59744269bdc3ed81eeec67b": {
      "model_module": "@jupyter-widgets/output",
      "model_module_version": "1.0.0",
      "model_name": "OutputModel",
      "state": {
       "layout": "IPY_MODEL_1015971d6c174baaabde80a89d63b49e"
      }
     },
     "d1e7262200bb4d81ade5df4e1a93c9e6": {
      "model_module": "@jupyter-widgets/controls",
      "model_module_version": "1.4.0",
      "model_name": "DescriptionStyleModel",
      "state": {
       "description_width": ""
      }
     },
     "d1e99be374ed4011b40bfecba25ccd37": {
      "model_module": "@jupyter-widgets/controls",
      "model_module_version": "1.4.0",
      "model_name": "RadioButtonsModel",
      "state": {
       "_options_labels": [
        "1000",
        "2000",
        "5000",
        "10000"
       ],
       "description": "Size",
       "index": 0,
       "layout": "IPY_MODEL_9eba565cd57d4413a2c32ab04de71115",
       "style": "IPY_MODEL_4af0075567d846fab507c0a950036d78"
      }
     },
     "d213befb048943d484ef33e8cfb711e3": {
      "model_module": "@jupyter-widgets/base",
      "model_module_version": "1.1.0",
      "model_name": "LayoutModel",
      "state": {}
     },
     "d228d15811134cd4bbfe5eb76140feb6": {
      "model_module": "@jupyter-widgets/base",
      "model_module_version": "1.1.0",
      "model_name": "LayoutModel",
      "state": {}
     },
     "d2dad32df5374ad0a6cdf8264bf3f9c1": {
      "model_module": "@jupyter-widgets/base",
      "model_module_version": "1.1.0",
      "model_name": "LayoutModel",
      "state": {}
     },
     "d34d636956a245f6be57c56322438504": {
      "model_module": "@jupyter-widgets/base",
      "model_module_version": "1.1.0",
      "model_name": "LayoutModel",
      "state": {}
     },
     "d3b6f5d8d7bc47a082f3fc6c22e32642": {
      "model_module": "@jupyter-widgets/controls",
      "model_module_version": "1.4.0",
      "model_name": "DescriptionStyleModel",
      "state": {
       "description_width": ""
      }
     },
     "d467d5a257de4183b6744ecb07d10808": {
      "model_module": "@jupyter-widgets/base",
      "model_module_version": "1.1.0",
      "model_name": "LayoutModel",
      "state": {}
     },
     "d46db0c6963c4979a00cbcadb8957f76": {
      "model_module": "@jupyter-widgets/controls",
      "model_module_version": "1.4.0",
      "model_name": "DescriptionStyleModel",
      "state": {
       "description_width": ""
      }
     },
     "d49f84feaad54026928dac112c3992eb": {
      "model_module": "@jupyter-widgets/base",
      "model_module_version": "1.1.0",
      "model_name": "LayoutModel",
      "state": {}
     },
     "d518eedbfac540f290d529d3c9d46d53": {
      "model_module": "@jupyter-widgets/output",
      "model_module_version": "1.0.0",
      "model_name": "OutputModel",
      "state": {
       "layout": "IPY_MODEL_56d5692af342422b87bee2b2bfb72415"
      }
     },
     "d5d470245db94e39987750d7c81611b8": {
      "model_module": "@jupyter-widgets/base",
      "model_module_version": "1.1.0",
      "model_name": "LayoutModel",
      "state": {}
     },
     "d5f9caba979545c7b684f140cd8a8aa8": {
      "model_module": "@jupyter-widgets/output",
      "model_module_version": "1.0.0",
      "model_name": "OutputModel",
      "state": {
       "layout": "IPY_MODEL_52ab613063d84587b52f7267dad851bf"
      }
     },
     "d6829b0a6f864b47b1bdcaf57791f6b4": {
      "model_module": "@jupyter-widgets/base",
      "model_module_version": "1.1.0",
      "model_name": "LayoutModel",
      "state": {}
     },
     "d6931d0201ad46fb826356ebc896c285": {
      "model_module": "@jupyter-widgets/controls",
      "model_module_version": "1.4.0",
      "model_name": "DropdownModel",
      "state": {
       "_options_labels": [
        "segment",
        "covertype",
        "digits",
        "fall_detection",
        "mnist",
        "pen_digits",
        "satellite",
        "vowel"
       ],
       "description": "Dataset:",
       "index": 0,
       "layout": "IPY_MODEL_a50e5afcfd7641dd95fe881f8e404178",
       "style": "IPY_MODEL_48a34c4359e347b8a7dfa1161f48cb6b"
      }
     },
     "d7f96f0c68bb48fcb5916abb665df887": {
      "model_module": "@jupyter-widgets/base",
      "model_module_version": "1.1.0",
      "model_name": "LayoutModel",
      "state": {}
     },
     "d8ddd0284221443daada5b05bdd0298a": {
      "model_module": "@jupyter-widgets/output",
      "model_module_version": "1.0.0",
      "model_name": "OutputModel",
      "state": {
       "layout": "IPY_MODEL_6549ecf37a4746c0aa6972f7d19b1c5f",
       "outputs": [
        {
         "data": {
          "text/markdown": "\n- Arg 1: **value1**\n- Arg 2: **value2**\n        ",
          "text/plain": "<IPython.core.display.Markdown object>"
         },
         "metadata": {},
         "output_type": "display_data"
        },
        {
         "data": {
          "image/png": "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\n",
          "text/plain": "<Figure size 921.6x345.6 with 2 Axes>"
         },
         "metadata": {},
         "output_type": "display_data"
        }
       ]
      }
     },
     "d97967b8d7a44443a521d370d2b95d6d": {
      "model_module": "@jupyter-widgets/controls",
      "model_module_version": "1.4.0",
      "model_name": "ButtonStyleModel",
      "state": {}
     },
     "d9ee931769454873bce26f2be414e382": {
      "model_module": "@jupyter-widgets/controls",
      "model_module_version": "1.4.0",
      "model_name": "VBoxModel",
      "state": {
       "children": [
        "IPY_MODEL_b3a1064343ea4b4aac8dec4657bd15f8",
        "IPY_MODEL_192090284a204c22bb64d58ac9055f09",
        "IPY_MODEL_b35c67f2f7c54dc0a5d960fefc0977b5"
       ],
       "layout": "IPY_MODEL_ff431ae1118a4a1db6770c47d3cc1195"
      }
     },
     "da18b95a400b4628b89d17ac8e7df10d": {
      "model_module": "@jupyter-widgets/controls",
      "model_module_version": "1.4.0",
      "model_name": "RadioButtonsModel",
      "state": {
       "_options_labels": [
        "1000",
        "2000",
        "5000",
        "10000"
       ],
       "description": "Size",
       "index": 0,
       "layout": "IPY_MODEL_eea77901d2004729bf10d911150f9070",
       "style": "IPY_MODEL_104d94e9be074f03ab006bf65af69abe"
      }
     },
     "da669087a80644f19401721aaa9ba097": {
      "model_module": "@jupyter-widgets/output",
      "model_module_version": "1.0.0",
      "model_name": "OutputModel",
      "state": {
       "layout": "IPY_MODEL_d6829b0a6f864b47b1bdcaf57791f6b4"
      }
     },
     "dd2fac10ccd84066a8cd7ce3a9c57cf0": {
      "model_module": "@jupyter-widgets/controls",
      "model_module_version": "1.4.0",
      "model_name": "ButtonModel",
      "state": {
       "button_style": "info",
       "description": "Demo1",
       "layout": "IPY_MODEL_980da3f0dcc84ec392b1cebf2f370029",
       "style": "IPY_MODEL_97494836dc9f47c084340ae7b667bbac",
       "tooltip": "# Modelos básicos\n    Permite ver cómo se comportan los modelos simples (Decision Tree, Logit,\n    LinearSVM) con un dataset determinado. Permite saber si algunos problemas\n    son más difíciles que otros para on modelo básico.\n    "
      }
     },
     "de0a7efe63d2478aa1b6095f46011d2b": {
      "model_module": "@jupyter-widgets/base",
      "model_module_version": "1.1.0",
      "model_name": "LayoutModel",
      "state": {}
     },
     "de81e30caf0541c98ef2e661470a5661": {
      "model_module": "@jupyter-widgets/controls",
      "model_module_version": "1.4.0",
      "model_name": "DescriptionStyleModel",
      "state": {
       "description_width": ""
      }
     },
     "de88f2a689824cff91546fef6ae6030e": {
      "model_module": "@jupyter-widgets/base",
      "model_module_version": "1.1.0",
      "model_name": "LayoutModel",
      "state": {}
     },
     "ded3e892c2f34a3186ec41cec2a6e70b": {
      "model_module": "@jupyter-widgets/base",
      "model_module_version": "1.1.0",
      "model_name": "LayoutModel",
      "state": {}
     },
     "df2f644bbd06439a80081e0b9b9b8c1e": {
      "model_module": "@jupyter-widgets/base",
      "model_module_version": "1.1.0",
      "model_name": "LayoutModel",
      "state": {}
     },
     "e0aba9687e9d495a9ffef8671fa9dcce": {
      "model_module": "@jupyter-widgets/controls",
      "model_module_version": "1.4.0",
      "model_name": "DescriptionStyleModel",
      "state": {
       "description_width": ""
      }
     },
     "e1159e0b1ac046f18f5c0e07f2131646": {
      "model_module": "@jupyter-widgets/base",
      "model_module_version": "1.1.0",
      "model_name": "LayoutModel",
      "state": {}
     },
     "e130b68d1e1b46b79141bbbad04acc8b": {
      "model_module": "@jupyter-widgets/controls",
      "model_module_version": "1.4.0",
      "model_name": "ButtonModel",
      "state": {
       "button_style": "info",
       "description": "Demo1",
       "layout": "IPY_MODEL_9793ab1cc8a0429fb5e45167d22f89e6",
       "style": "IPY_MODEL_530c27805e8e43b58b7bb80edd7bef9d",
       "tooltip": "# Modelos básicos\n    Permite ver cómo se comportan los modelos simples (Decision Tree, Logit,\n    LinearSVM) con un dataset determinado. Permite saber si algunos problemas\n    son más difíciles que otros para on modelo básico.\n    "
      }
     },
     "e2aa69e819f1467dadb3248ca3757520": {
      "model_module": "@jupyter-widgets/controls",
      "model_module_version": "1.4.0",
      "model_name": "ButtonModel",
      "state": {
       "button_style": "info",
       "description": "Demo1",
       "layout": "IPY_MODEL_d0ce41f8244743ff9a2615bed8e5efa1",
       "style": "IPY_MODEL_b89c0e6df4d04646a26b84620601b9e3",
       "tooltip": "# Modelos básicos\n    Permite ver cómo se comportan los modelos simples (Decision Tree, Logit,\n    LinearSVM) con un dataset determinado. Permite saber si algunos problemas\n    son más difíciles que otros para on modelo básico.\n    "
      }
     },
     "e2fcde2f41334b9a887ad60bf57402e0": {
      "model_module": "@jupyter-widgets/controls",
      "model_module_version": "1.4.0",
      "model_name": "ButtonStyleModel",
      "state": {}
     },
     "e459529dc3604354ac77e39181f5cf3b": {
      "model_module": "@jupyter-widgets/base",
      "model_module_version": "1.1.0",
      "model_name": "LayoutModel",
      "state": {}
     },
     "e4f525e14d4b49f783aa7debe127829e": {
      "model_module": "@jupyter-widgets/base",
      "model_module_version": "1.1.0",
      "model_name": "LayoutModel",
      "state": {}
     },
     "e839d173f91742349b1aa283d4adea7b": {
      "model_module": "@jupyter-widgets/controls",
      "model_module_version": "1.4.0",
      "model_name": "ButtonModel",
      "state": {
       "button_style": "info",
       "description": "Demo1",
       "layout": "IPY_MODEL_e4f525e14d4b49f783aa7debe127829e",
       "style": "IPY_MODEL_a978f1bf74b74d518567a0fd7d3979f2",
       "tooltip": "# Modelos básicos\n    Permite ver cómo se comportan los modelos simples (Decision Tree, Logit,\n    LinearSVM) con un dataset determinado. Permite saber si algunos problemas\n    son más difíciles que otros para on modelo básico.\n    "
      }
     },
     "e8430101bc76495a913124ac88bb6f81": {
      "model_module": "@jupyter-widgets/controls",
      "model_module_version": "1.4.0",
      "model_name": "VBoxModel",
      "state": {
       "children": [
        "IPY_MODEL_927931d0c5694221adc1eff8e68ef1a0",
        "IPY_MODEL_b6ab72fb765d40fda4622b1ae5a164a8",
        "IPY_MODEL_76fc2c8912d74ac1bf2f8aa21c781931"
       ],
       "layout": "IPY_MODEL_22fe4b8bf6fb4d7497133590421e3727"
      }
     },
     "e84e53ff06424c2084572b24362ef702": {
      "model_module": "@jupyter-widgets/controls",
      "model_module_version": "1.4.0",
      "model_name": "DescriptionStyleModel",
      "state": {
       "description_width": ""
      }
     },
     "e921a96f2eeb41b59fc04c1e0c45c858": {
      "model_module": "@jupyter-widgets/controls",
      "model_module_version": "1.4.0",
      "model_name": "RadioButtonsModel",
      "state": {
       "_options_labels": [
        "1000",
        "2000",
        "5000",
        "10000"
       ],
       "description": "Size",
       "index": 0,
       "layout": "IPY_MODEL_5cba462e1b73482aa92232394909901a",
       "style": "IPY_MODEL_9c46b14a1131415395cd044c65414462"
      }
     },
     "e949161d612b496bb7064f52361cf997": {
      "model_module": "@jupyter-widgets/output",
      "model_module_version": "1.0.0",
      "model_name": "OutputModel",
      "state": {
       "layout": "IPY_MODEL_f7481e9a2de14b6f819603d15c9a699b"
      }
     },
     "e9a8da81bce9415694b4d32e2dde6e51": {
      "model_module": "@jupyter-widgets/controls",
      "model_module_version": "1.4.0",
      "model_name": "DescriptionStyleModel",
      "state": {
       "description_width": ""
      }
     },
     "eacd44a33d5743b994c1cf88bda4d527": {
      "model_module": "@jupyter-widgets/output",
      "model_module_version": "1.0.0",
      "model_name": "OutputModel",
      "state": {
       "layout": "IPY_MODEL_08e3e84e23bb465a8da10da6eea049cf"
      }
     },
     "eaea28a2dde34242aa04b0084d2a357a": {
      "model_module": "@jupyter-widgets/controls",
      "model_module_version": "1.4.0",
      "model_name": "DescriptionStyleModel",
      "state": {
       "description_width": ""
      }
     },
     "eb35af50059f46a58a58ccc27616fae7": {
      "model_module": "@jupyter-widgets/controls",
      "model_module_version": "1.4.0",
      "model_name": "DropdownModel",
      "state": {
       "_options_labels": [
        "segment",
        "covertype",
        "digits",
        "fall_detection",
        "mnist",
        "pen_digits",
        "satellite",
        "vowel"
       ],
       "description": "Dataset:",
       "index": 0,
       "layout": "IPY_MODEL_22799d87f7c64c9682d6ee8868664e03",
       "style": "IPY_MODEL_ec705965efc648b1aa41c1423b81d480"
      }
     },
     "eb372aaf6adc4aa79d7444f8ea759467": {
      "model_module": "@jupyter-widgets/base",
      "model_module_version": "1.1.0",
      "model_name": "LayoutModel",
      "state": {}
     },
     "eb8dfc6e55614682bb9bfe9266f9cd95": {
      "model_module": "@jupyter-widgets/base",
      "model_module_version": "1.1.0",
      "model_name": "LayoutModel",
      "state": {}
     },
     "eba09395ab624a66adedeb5a31e4f3ff": {
      "model_module": "@jupyter-widgets/controls",
      "model_module_version": "1.4.0",
      "model_name": "RadioButtonsModel",
      "state": {
       "_options_labels": [
        "1000",
        "2000",
        "5000",
        "10000"
       ],
       "description": "Size",
       "index": 0,
       "layout": "IPY_MODEL_c849e6cb8be44fc49c35c3798497e9ed",
       "style": "IPY_MODEL_473a59fe5310428785550ea2a6cc9d96"
      }
     },
     "ec705965efc648b1aa41c1423b81d480": {
      "model_module": "@jupyter-widgets/controls",
      "model_module_version": "1.4.0",
      "model_name": "DescriptionStyleModel",
      "state": {
       "description_width": ""
      }
     },
     "ecb61b660de04255860e8805c34e3fbe": {
      "model_module": "@jupyter-widgets/base",
      "model_module_version": "1.1.0",
      "model_name": "LayoutModel",
      "state": {}
     },
     "ecc97a11a0454b9f803fcfa3590e7c95": {
      "model_module": "@jupyter-widgets/base",
      "model_module_version": "1.1.0",
      "model_name": "LayoutModel",
      "state": {}
     },
     "ed11be3f637445839000b64eb5edd99d": {
      "model_module": "@jupyter-widgets/base",
      "model_module_version": "1.1.0",
      "model_name": "LayoutModel",
      "state": {}
     },
     "ed8facb77e1741fea7aec51d1272d00d": {
      "model_module": "@jupyter-widgets/controls",
      "model_module_version": "1.4.0",
      "model_name": "ButtonModel",
      "state": {
       "button_style": "info",
       "description": "Demo1",
       "layout": "IPY_MODEL_ab3a929deddd4905804358ba7dc431c1",
       "style": "IPY_MODEL_e2fcde2f41334b9a887ad60bf57402e0",
       "tooltip": "# Modelos básicos\n    Permite ver cómo se comportan los modelos simples (Decision Tree, Logit,\n    LinearSVM) con un dataset determinado. Permite saber si algunos problemas\n    son más difíciles que otros para on modelo básico.\n    "
      }
     },
     "edb5e4dafb414922a64d34a290e4a7cd": {
      "model_module": "@jupyter-widgets/base",
      "model_module_version": "1.1.0",
      "model_name": "LayoutModel",
      "state": {}
     },
     "edc8015bccd847f7bdcb461d96ec8128": {
      "model_module": "@jupyter-widgets/controls",
      "model_module_version": "1.4.0",
      "model_name": "DropdownModel",
      "state": {
       "_options_labels": [
        "segment",
        "covertype",
        "digits",
        "fall_detection",
        "mnist",
        "pen_digits",
        "satellite",
        "vowel"
       ],
       "description": "Dataset:",
       "index": 0,
       "layout": "IPY_MODEL_8b011ab6d8d3420e84629ecf6222aa97",
       "style": "IPY_MODEL_e84e53ff06424c2084572b24362ef702"
      }
     },
     "edc960398fb8436aa944dce037345b84": {
      "model_module": "@jupyter-widgets/controls",
      "model_module_version": "1.4.0",
      "model_name": "ButtonStyleModel",
      "state": {}
     },
     "ee9f316042c443cda994571f414dbe65": {
      "model_module": "@jupyter-widgets/controls",
      "model_module_version": "1.4.0",
      "model_name": "DropdownModel",
      "state": {
       "_options_labels": [
        "segment",
        "covertype",
        "digits",
        "fall_detection",
        "mnist",
        "pen_digits",
        "satellite",
        "vowel"
       ],
       "description": "Dataset:",
       "index": 0,
       "layout": "IPY_MODEL_707b971124e24ced949d54908dc705dd",
       "style": "IPY_MODEL_3c67c32149e1453d9d0c7347e9fbe475"
      }
     },
     "eea77901d2004729bf10d911150f9070": {
      "model_module": "@jupyter-widgets/base",
      "model_module_version": "1.1.0",
      "model_name": "LayoutModel",
      "state": {}
     },
     "eed417f20de74f9fbddf69754d11bae6": {
      "model_module": "@jupyter-widgets/base",
      "model_module_version": "1.1.0",
      "model_name": "LayoutModel",
      "state": {}
     },
     "ef18c6cad2754475b60f967d4568dd30": {
      "model_module": "@jupyter-widgets/base",
      "model_module_version": "1.1.0",
      "model_name": "LayoutModel",
      "state": {}
     },
     "efea1789bbd4411f916d759743d51a5e": {
      "model_module": "@jupyter-widgets/controls",
      "model_module_version": "1.4.0",
      "model_name": "ButtonStyleModel",
      "state": {}
     },
     "f00d7ab7cad041cda44fcc8bb5208cad": {
      "model_module": "@jupyter-widgets/base",
      "model_module_version": "1.1.0",
      "model_name": "LayoutModel",
      "state": {}
     },
     "f10dda7512db4764bf8095ddbc6cd075": {
      "model_module": "@jupyter-widgets/controls",
      "model_module_version": "1.4.0",
      "model_name": "ButtonStyleModel",
      "state": {}
     },
     "f1d7b42f73c44087bdc67dc0585bfd43": {
      "model_module": "@jupyter-widgets/base",
      "model_module_version": "1.1.0",
      "model_name": "LayoutModel",
      "state": {}
     },
     "f2c9bb943337466ea2d54ebb175dde2d": {
      "model_module": "@jupyter-widgets/controls",
      "model_module_version": "1.4.0",
      "model_name": "DescriptionStyleModel",
      "state": {
       "description_width": ""
      }
     },
     "f34efeb92d974004a4e3e3cb9c2a6ef3": {
      "model_module": "@jupyter-widgets/controls",
      "model_module_version": "1.4.0",
      "model_name": "ButtonModel",
      "state": {
       "button_style": "info",
       "description": "Demo1",
       "layout": "IPY_MODEL_950be06f4f0f4e658ffeaa17c408bebc",
       "style": "IPY_MODEL_c125e986835f439eb0c2ea64a892bbb3",
       "tooltip": "# Modelos básicos\n    Permite ver cómo se comportan los modelos simples (Decision Tree, Logit,\n    LinearSVM) con un dataset determinado. Permite saber si algunos problemas\n    son más difíciles que otros para on modelo básico.\n    "
      }
     },
     "f35279e8de0848509573296c17730e84": {
      "model_module": "@jupyter-widgets/output",
      "model_module_version": "1.0.0",
      "model_name": "OutputModel",
      "state": {
       "layout": "IPY_MODEL_93b6886eb08b4153be869c65dc32db1d"
      }
     },
     "f47a51f746e445a2ae287104bae1cbc6": {
      "model_module": "@jupyter-widgets/controls",
      "model_module_version": "1.4.0",
      "model_name": "ButtonModel",
      "state": {
       "button_style": "info",
       "description": "Demo1",
       "layout": "IPY_MODEL_49415d8f76c646ac9d7a2ee54760e6b7",
       "style": "IPY_MODEL_37c154c9742b4846bc08e78f1dc4941d",
       "tooltip": "# Modelos básicos\n    Permite ver cómo se comportan los modelos simples (Decision Tree, Logit,\n    LinearSVM) con un dataset determinado. Permite saber si algunos problemas\n    son más difíciles que otros para on modelo básico.\n    "
      }
     },
     "f56a7eaa0e6e432c910839c3aa48f1c7": {
      "model_module": "@jupyter-widgets/controls",
      "model_module_version": "1.4.0",
      "model_name": "DropdownModel",
      "state": {
       "_options_labels": [
        "segment",
        "covertype",
        "digits",
        "fall_detection",
        "mnist",
        "pen_digits",
        "satellite",
        "vowel"
       ],
       "description": "Dataset:",
       "index": 0,
       "layout": "IPY_MODEL_8753dea6ee84463bacaa792db154bb9d",
       "style": "IPY_MODEL_324ff4892d1944948ce2cc534cceedb2"
      }
     },
     "f5cd9e7260da4b1cb91f9ac9e1e1d143": {
      "model_module": "@jupyter-widgets/controls",
      "model_module_version": "1.4.0",
      "model_name": "DescriptionStyleModel",
      "state": {
       "description_width": ""
      }
     },
     "f654663e748742248cd52fc3e95acea4": {
      "model_module": "@jupyter-widgets/controls",
      "model_module_version": "1.4.0",
      "model_name": "DropdownModel",
      "state": {
       "_options_labels": [
        "segment",
        "covertype",
        "digits",
        "fall_detection",
        "mnist",
        "pen_digits",
        "satellite",
        "vowel"
       ],
       "description": "Dataset:",
       "index": 0,
       "layout": "IPY_MODEL_493230424b8e45db909589c65de21d2a",
       "style": "IPY_MODEL_6a3036b6df7c446d85e50650e29584de"
      }
     },
     "f6c16347cb8447a4b2a8d68ad690283d": {
      "model_module": "@jupyter-widgets/controls",
      "model_module_version": "1.4.0",
      "model_name": "DescriptionStyleModel",
      "state": {
       "description_width": ""
      }
     },
     "f71859882e90406288b1a0649d4e6e1f": {
      "model_module": "@jupyter-widgets/base",
      "model_module_version": "1.1.0",
      "model_name": "LayoutModel",
      "state": {}
     },
     "f73bcd849f2547d3ad5afb163b111cf5": {
      "model_module": "@jupyter-widgets/base",
      "model_module_version": "1.1.0",
      "model_name": "LayoutModel",
      "state": {}
     },
     "f7481e9a2de14b6f819603d15c9a699b": {
      "model_module": "@jupyter-widgets/base",
      "model_module_version": "1.1.0",
      "model_name": "LayoutModel",
      "state": {}
     },
     "f847b0c74d014f1ab26180a65a261603": {
      "model_module": "@jupyter-widgets/base",
      "model_module_version": "1.1.0",
      "model_name": "LayoutModel",
      "state": {}
     },
     "f8ec97e8103346798024f8f7b3f9ecfa": {
      "model_module": "@jupyter-widgets/controls",
      "model_module_version": "1.4.0",
      "model_name": "ButtonStyleModel",
      "state": {}
     },
     "f8f9afae1cc14175b9a586d3bc21d084": {
      "model_module": "@jupyter-widgets/base",
      "model_module_version": "1.1.0",
      "model_name": "LayoutModel",
      "state": {}
     },
     "f9eb503c00e34e7f9cf51508c7a31337": {
      "model_module": "@jupyter-widgets/base",
      "model_module_version": "1.1.0",
      "model_name": "LayoutModel",
      "state": {}
     },
     "fa6671e221fd4769aa74e53092d62681": {
      "model_module": "@jupyter-widgets/controls",
      "model_module_version": "1.4.0",
      "model_name": "ButtonStyleModel",
      "state": {}
     },
     "fad2c2b07e6748d888143afbfce5b31a": {
      "model_module": "@jupyter-widgets/controls",
      "model_module_version": "1.4.0",
      "model_name": "ButtonModel",
      "state": {
       "button_style": "info",
       "description": "Template",
       "layout": "IPY_MODEL_823a7395a7fe45bfb0ed7d89bef6ac47",
       "style": "IPY_MODEL_f8ec97e8103346798024f8f7b3f9ecfa"
      }
     },
     "fb8b63f3dd134b07851e58386321f79b": {
      "model_module": "@jupyter-widgets/controls",
      "model_module_version": "1.4.0",
      "model_name": "ButtonStyleModel",
      "state": {}
     },
     "fb928d2470ce4c16949b8074ec766b6c": {
      "model_module": "@jupyter-widgets/controls",
      "model_module_version": "1.4.0",
      "model_name": "RadioButtonsModel",
      "state": {
       "_options_labels": [
        "1000",
        "2000",
        "5000",
        "10000"
       ],
       "description": "Size",
       "index": 0,
       "layout": "IPY_MODEL_546775f7e8554b3c9a273f73de71c996",
       "style": "IPY_MODEL_bc1f10ab1e0d4a95b675e0e682b9269a"
      }
     },
     "fc1f2c68fc9a4094a7732285a90670f8": {
      "model_module": "@jupyter-widgets/controls",
      "model_module_version": "1.4.0",
      "model_name": "ButtonModel",
      "state": {
       "button_style": "info",
       "description": "Demo1",
       "layout": "IPY_MODEL_5006983201bb45ac82f5b3149de56475",
       "style": "IPY_MODEL_edc960398fb8436aa944dce037345b84",
       "tooltip": "# Modelos básicos\n    Permite ver cómo se comportan los modelos simples (Decision Tree, Logit,\n    LinearSVM) con un dataset determinado. Permite saber si algunos problemas\n    son más difíciles que otros para on modelo básico.\n    "
      }
     },
     "fcb2a3e1cc2f487d8bd7c70646556da6": {
      "model_module": "@jupyter-widgets/base",
      "model_module_version": "1.1.0",
      "model_name": "LayoutModel",
      "state": {}
     },
     "fce9c1ccab084ede871b7663b2936098": {
      "model_module": "@jupyter-widgets/controls",
      "model_module_version": "1.4.0",
      "model_name": "ButtonStyleModel",
      "state": {}
     },
     "fd72aa74176a4e939d6741812705a23f": {
      "model_module": "@jupyter-widgets/controls",
      "model_module_version": "1.4.0",
      "model_name": "ButtonStyleModel",
      "state": {}
     },
     "fd7f6a7be0ab4ee3955f7cff83b513f1": {
      "model_module": "@jupyter-widgets/controls",
      "model_module_version": "1.4.0",
      "model_name": "ButtonModel",
      "state": {
       "button_style": "info",
       "description": "Template",
       "layout": "IPY_MODEL_9f21230c5ef04010b31a35b903450104",
       "style": "IPY_MODEL_55ebfb34b6474e33b5b6ccf9292b185f"
      }
     },
     "fd93a3dfb4e2418c8dd55a6e979be20a": {
      "model_module": "@jupyter-widgets/base",
      "model_module_version": "1.1.0",
      "model_name": "LayoutModel",
      "state": {}
     },
     "fdd2e396c271460eaef5ef933756955c": {
      "model_module": "@jupyter-widgets/base",
      "model_module_version": "1.1.0",
      "model_name": "LayoutModel",
      "state": {}
     },
     "fde3972ffff24cd6a663fd39d55167ef": {
      "model_module": "@jupyter-widgets/base",
      "model_module_version": "1.1.0",
      "model_name": "LayoutModel",
      "state": {}
     },
     "ff431ae1118a4a1db6770c47d3cc1195": {
      "model_module": "@jupyter-widgets/base",
      "model_module_version": "1.1.0",
      "model_name": "LayoutModel",
      "state": {}
     },
     "ff62a84ed1974ccfb526640c216b0a4f": {
      "model_module": "@jupyter-widgets/base",
      "model_module_version": "1.1.0",
      "model_name": "LayoutModel",
      "state": {}
     },
     "ffc4fdc8be1e496b8004880d421b802c": {
      "model_module": "@jupyter-widgets/controls",
      "model_module_version": "1.4.0",
      "model_name": "VBoxModel",
      "state": {
       "children": [
        "IPY_MODEL_3a2eb501b6dc4a6dbb2c3aac8ca69332",
        "IPY_MODEL_c281f95567764d83b62664ac3e36ef3c",
        "IPY_MODEL_4b862eb290ed4670aed099dedd31e8c0"
       ],
       "layout": "IPY_MODEL_8afcba9e98174a339521cb05bf73b885"
      }
     },
     "ffd3355fc0614cdea69be7827974818e": {
      "model_module": "@jupyter-widgets/controls",
      "model_module_version": "1.4.0",
      "model_name": "DescriptionStyleModel",
      "state": {
       "description_width": ""
      }
     }
    },
    "version_major": 2,
    "version_minor": 0
   }
  }
 },
 "nbformat": 4,
 "nbformat_minor": 2
}
