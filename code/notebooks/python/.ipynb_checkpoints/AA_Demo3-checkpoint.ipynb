{
 "cells": [
  {
   "cell_type": "markdown",
   "metadata": {},
   "source": [
    "# Distintos valores de gamma"
   ]
  },
  {
   "cell_type": "code",
   "execution_count": 1,
   "metadata": {},
   "outputs": [],
   "source": [
    "%matplotlib inline"
   ]
  },
  {
   "cell_type": "code",
   "execution_count": 2,
   "metadata": {},
   "outputs": [
    {
     "data": {
      "application/javascript": [
       "IPython.OutputArea.prototype._should_scroll = function(lines) {\n",
       "    return false;\n",
       "}\n"
      ],
      "text/plain": [
       "<IPython.core.display.Javascript object>"
      ]
     },
     "metadata": {},
     "output_type": "display_data"
    }
   ],
   "source": [
    "%%javascript\n",
    "IPython.OutputArea.prototype._should_scroll = function(lines) {\n",
    "    return false;\n",
    "}"
   ]
  },
  {
   "cell_type": "code",
   "execution_count": 3,
   "metadata": {},
   "outputs": [],
   "source": [
    "from demo_utils.demo3 import Demo3"
   ]
  },
  {
   "cell_type": "code",
   "execution_count": 4,
   "metadata": {},
   "outputs": [],
   "source": [
    "d = Demo3()"
   ]
  },
  {
   "cell_type": "markdown",
   "metadata": {},
   "source": [
    "## DT + RFF clásico con el dataset \"segment\""
   ]
  },
  {
   "cell_type": "code",
   "execution_count": 5,
   "metadata": {},
   "outputs": [
    {
     "data": {
      "text/markdown": [
       "# Diferencias entre los valores de gamma"
      ],
      "text/plain": [
       "<IPython.core.display.Markdown object>"
      ]
     },
     "metadata": {},
     "output_type": "display_data"
    },
    {
     "data": {
      "application/vnd.jupyter.widget-view+json": {
       "model_id": "d09c1005d80141ed934a9ecee3c11808",
       "version_major": 2,
       "version_minor": 0
      },
      "text/plain": [
       "Tab(children=(VBox(children=(VBox(children=(Dropdown(description='Dataset:', options=('segment', 'covertype', …"
      ]
     },
     "metadata": {},
     "output_type": "display_data"
    },
    {
     "data": {
      "application/vnd.jupyter.widget-view+json": {
       "model_id": "a35c46612ee04b21868e4993bf5d5c1d",
       "version_major": 2,
       "version_minor": 0
      },
      "text/plain": [
       "Output()"
      ]
     },
     "metadata": {},
     "output_type": "display_data"
    },
    {
     "data": {
      "text/html": [],
      "text/plain": [
       "<demo_utils.demo3.Demo3 at 0x7fe9dab0f908>"
      ]
     },
     "metadata": {},
     "output_type": "display_data"
    }
   ],
   "source": [
    "display(d)"
   ]
  }
 ],
 "metadata": {
  "kernelspec": {
   "display_name": "Python 3",
   "language": "python",
   "name": "python3"
  },
  "language_info": {
   "codemirror_mode": {
    "name": "ipython",
    "version": 3
   },
   "file_extension": ".py",
   "mimetype": "text/x-python",
   "name": "python",
   "nbconvert_exporter": "python",
   "pygments_lexer": "ipython3",
   "version": "3.7.1"
  },
  "widgets": {
   "application/vnd.jupyter.widget-state+json": {
    "state": {
     "04c00353e4154200b9317f6f5ea2a0d0": {
      "model_module": "@jupyter-widgets/controls",
      "model_module_version": "1.4.0",
      "model_name": "DescriptionStyleModel",
      "state": {
       "description_width": ""
      }
     },
     "07f2f8284c61474ba879ed2a96e41f11": {
      "model_module": "@jupyter-widgets/controls",
      "model_module_version": "1.4.0",
      "model_name": "SliderStyleModel",
      "state": {
       "description_width": ""
      }
     },
     "088e45a3d9fb43c88c1ffeb92ffa14ad": {
      "model_module": "@jupyter-widgets/controls",
      "model_module_version": "1.4.0",
      "model_name": "DescriptionStyleModel",
      "state": {
       "description_width": ""
      }
     },
     "08ffabe7c4da4ba39cb0952164406ff4": {
      "model_module": "@jupyter-widgets/controls",
      "model_module_version": "1.4.0",
      "model_name": "DescriptionStyleModel",
      "state": {
       "description_width": ""
      }
     },
     "0c27361fffae4d7ea596a8714e8f53d3": {
      "model_module": "@jupyter-widgets/controls",
      "model_module_version": "1.4.0",
      "model_name": "DropdownModel",
      "state": {
       "_options_labels": [
        "segment",
        "covertype",
        "digits",
        "fall_detection",
        "mnist",
        "pen_digits",
        "satellite",
        "vowel"
       ],
       "description": "Dataset:",
       "index": 0,
       "layout": "IPY_MODEL_ad726ec2cbff488a94056ed880a5ff04",
       "style": "IPY_MODEL_37f339bf205c4236b47ac54d1b6918d5"
      }
     },
     "0eb4f466e34a4c15ba66c4d2a52e744d": {
      "model_module": "@jupyter-widgets/controls",
      "model_module_version": "1.4.0",
      "model_name": "SliderStyleModel",
      "state": {
       "description_width": ""
      }
     },
     "10dd31a04f9e451fa40485412acc3ea1": {
      "model_module": "@jupyter-widgets/base",
      "model_module_version": "1.1.0",
      "model_name": "LayoutModel",
      "state": {}
     },
     "118fbb5b813f4b619f9fd8f5231f98f4": {
      "model_module": "@jupyter-widgets/controls",
      "model_module_version": "1.4.0",
      "model_name": "DescriptionStyleModel",
      "state": {
       "description_width": ""
      }
     },
     "12314437e2ae4650a3756de35c9e2662": {
      "model_module": "@jupyter-widgets/base",
      "model_module_version": "1.1.0",
      "model_name": "LayoutModel",
      "state": {}
     },
     "178e6817d36e4984a03cf29ea9b03bd1": {
      "model_module": "@jupyter-widgets/controls",
      "model_module_version": "1.4.0",
      "model_name": "ButtonModel",
      "state": {
       "button_style": "info",
       "description": "Demo3",
       "layout": "IPY_MODEL_73272c1d5c5c488298eeb578a0fe666a",
       "style": "IPY_MODEL_b756edcb596d44f0bd0022b1f7aa1569"
      }
     },
     "17b022acfdee4f16b13f860f5e5ca75a": {
      "model_module": "@jupyter-widgets/base",
      "model_module_version": "1.1.0",
      "model_name": "LayoutModel",
      "state": {}
     },
     "1e0ffe72827e4e1dacbe795c26e9e74a": {
      "model_module": "@jupyter-widgets/base",
      "model_module_version": "1.1.0",
      "model_name": "LayoutModel",
      "state": {
       "visibility": "hidden"
      }
     },
     "1e6ce80ab6a2455db9abc17d9f619df9": {
      "model_module": "@jupyter-widgets/base",
      "model_module_version": "1.1.0",
      "model_name": "LayoutModel",
      "state": {}
     },
     "21247d60f0784b9d9ac7f8d15eb76a8c": {
      "model_module": "@jupyter-widgets/base",
      "model_module_version": "1.1.0",
      "model_name": "LayoutModel",
      "state": {}
     },
     "239900b4f4ca4b49af144b5bb1622152": {
      "model_module": "@jupyter-widgets/controls",
      "model_module_version": "1.4.0",
      "model_name": "ButtonModel",
      "state": {
       "button_style": "info",
       "description": "Demo3",
       "layout": "IPY_MODEL_4f30e30bfce7431da505117e33acdd43",
       "style": "IPY_MODEL_c7f7175332504726999aa5297411504c"
      }
     },
     "2616787d3de74094955d3ecfaec30b07": {
      "model_module": "@jupyter-widgets/base",
      "model_module_version": "1.1.0",
      "model_name": "LayoutModel",
      "state": {}
     },
     "28e25ab54ef64637ad2c6064ff8ae106": {
      "model_module": "@jupyter-widgets/controls",
      "model_module_version": "1.4.0",
      "model_name": "DescriptionStyleModel",
      "state": {
       "description_width": ""
      }
     },
     "2b6f800cea884d4aa6b6b5819dfdd92f": {
      "model_module": "@jupyter-widgets/controls",
      "model_module_version": "1.4.0",
      "model_name": "DropdownModel",
      "state": {
       "_options_labels": [
        "dt",
        "logit",
        "linear_svc"
       ],
       "description": "Model",
       "index": 0,
       "layout": "IPY_MODEL_10dd31a04f9e451fa40485412acc3ea1",
       "style": "IPY_MODEL_bf81ab0c97064e8dbc43e6dbf3c68499"
      }
     },
     "2cd4ef9b1bac409ba3cd2f51372edb25": {
      "model_module": "@jupyter-widgets/controls",
      "model_module_version": "1.4.0",
      "model_name": "SliderStyleModel",
      "state": {
       "description_width": ""
      }
     },
     "2efbde1e840c448eb11fc537b0e9bf7a": {
      "model_module": "@jupyter-widgets/controls",
      "model_module_version": "1.4.0",
      "model_name": "VBoxModel",
      "state": {
       "children": [
        "IPY_MODEL_d438be3d01c64848a347f33872910d32",
        "IPY_MODEL_e3654cd0a82347f6b779b946f3548ad5"
       ],
       "layout": "IPY_MODEL_21247d60f0784b9d9ac7f8d15eb76a8c"
      }
     },
     "3304d92cfcd54b93a39c2b07ea836c7e": {
      "model_module": "@jupyter-widgets/controls",
      "model_module_version": "1.4.0",
      "model_name": "VBoxModel",
      "state": {
       "children": [
        "IPY_MODEL_59eb49eec9b84a8b8dc730e285dcd639",
        "IPY_MODEL_2b6f800cea884d4aa6b6b5819dfdd92f",
        "IPY_MODEL_6bc0394eebe34ba5a39652a6110bba41",
        "IPY_MODEL_9751abfe559b4cbd89d021dbe631065e",
        "IPY_MODEL_72298d3e83d24d87985e5c7b0b2295ef",
        "IPY_MODEL_8aafb6d9f0684f07bada8f58f3a97114",
        "IPY_MODEL_6f21e962b85d4b0e966f0277cbce6c20"
       ],
       "layout": "IPY_MODEL_879cc49163d8457585650fa6e00843b9"
      }
     },
     "34b3182a67a9427e910b4a1e1fee33ae": {
      "model_module": "@jupyter-widgets/base",
      "model_module_version": "1.1.0",
      "model_name": "LayoutModel",
      "state": {}
     },
     "37be79e6fa16401896024b17ec594f76": {
      "model_module": "@jupyter-widgets/controls",
      "model_module_version": "1.4.0",
      "model_name": "DescriptionStyleModel",
      "state": {
       "description_width": ""
      }
     },
     "37f339bf205c4236b47ac54d1b6918d5": {
      "model_module": "@jupyter-widgets/controls",
      "model_module_version": "1.4.0",
      "model_name": "DescriptionStyleModel",
      "state": {
       "description_width": ""
      }
     },
     "3813c50237be496db70a738b0b954cb5": {
      "model_module": "@jupyter-widgets/controls",
      "model_module_version": "1.4.0",
      "model_name": "SliderStyleModel",
      "state": {
       "description_width": ""
      }
     },
     "39637ffd94564c7385a8f1045e0d651b": {
      "model_module": "@jupyter-widgets/controls",
      "model_module_version": "1.4.0",
      "model_name": "CheckboxModel",
      "state": {
       "description": "Perform PCA?",
       "disabled": false,
       "layout": "IPY_MODEL_5ecd310166b347f7a7b57bd94c219451",
       "style": "IPY_MODEL_118fbb5b813f4b619f9fd8f5231f98f4",
       "value": false
      }
     },
     "3ec9954841fd461ab4b8f0f3e1cb647a": {
      "model_module": "@jupyter-widgets/controls",
      "model_module_version": "1.4.0",
      "model_name": "ButtonStyleModel",
      "state": {}
     },
     "4003c05670a9489790f73d34f7001f71": {
      "model_module": "@jupyter-widgets/base",
      "model_module_version": "1.1.0",
      "model_name": "LayoutModel",
      "state": {}
     },
     "47784d5f12a242cd8cae27d4c69746f9": {
      "model_module": "@jupyter-widgets/controls",
      "model_module_version": "1.4.0",
      "model_name": "IntRangeSliderModel",
      "state": {
       "_model_name": "IntRangeSliderModel",
       "_view_name": "IntRangeSliderView",
       "description": "Features",
       "layout": "IPY_MODEL_fe4ec930402140719f8836eb0b2bc7a1",
       "max": 400,
       "min": 30,
       "step": 10,
       "style": "IPY_MODEL_50ae4b2bf9984aeb9e1ad1e876f11209",
       "value": [
        30,
        100
       ]
      }
     },
     "4b71d356c1294ceba796c4194dc9eaba": {
      "model_module": "@jupyter-widgets/base",
      "model_module_version": "1.1.0",
      "model_name": "LayoutModel",
      "state": {}
     },
     "4be370f24c1b4a56b484e701c152789b": {
      "model_module": "@jupyter-widgets/controls",
      "model_module_version": "1.4.0",
      "model_name": "CheckboxModel",
      "state": {
       "description": "Perform PCA?",
       "disabled": false,
       "layout": "IPY_MODEL_cab9cb80c4f94eafac8701aec59dfa5f",
       "style": "IPY_MODEL_77844d0a83434f67934c5b430e01a518",
       "value": false
      }
     },
     "4f30e30bfce7431da505117e33acdd43": {
      "model_module": "@jupyter-widgets/base",
      "model_module_version": "1.1.0",
      "model_name": "LayoutModel",
      "state": {}
     },
     "506e371a47dc4006bef8b983676d7010": {
      "model_module": "@jupyter-widgets/base",
      "model_module_version": "1.1.0",
      "model_name": "LayoutModel",
      "state": {
       "visibility": "hidden"
      }
     },
     "50ae4b2bf9984aeb9e1ad1e876f11209": {
      "model_module": "@jupyter-widgets/controls",
      "model_module_version": "1.4.0",
      "model_name": "SliderStyleModel",
      "state": {
       "description_width": ""
      }
     },
     "50dbbbd5562744a9902dbcfd8de69744": {
      "model_module": "@jupyter-widgets/output",
      "model_module_version": "1.0.0",
      "model_name": "OutputModel",
      "state": {
       "layout": "IPY_MODEL_17b022acfdee4f16b13f860f5e5ca75a",
       "outputs": [
        {
         "data": {
          "text/markdown": "\n- Model: **dt**\n- Sampler: **rbf**\n- Bagging: **none**\n- N. estim.: **None**\n- PCA: **False**\n        ",
          "text/plain": "<IPython.core.display.Markdown object>"
         },
         "metadata": {},
         "output_type": "display_data"
        },
        {
         "data": {
          "image/png": "iVBORw0KGgoAAAANSUhEUgAAAvMAAAE0CAYAAAChALxGAAAABHNCSVQICAgIfAhkiAAAAAlwSFlzAAALEgAACxIB0t1+/AAAADl0RVh0U29mdHdhcmUAbWF0cGxvdGxpYiB2ZXJzaW9uIDMuMC4wLCBodHRwOi8vbWF0cGxvdGxpYi5vcmcvqOYd8AAAIABJREFUeJzs3XlcVWX+wPHPuXDhsgvIDgoIoiKgKKKi5JpLgrlk2qZZ1mA6W7ZMUeNkU5ZNza9splJLc0lTG3dNMpfCFVQQEQQFUVRwQWSR/fz+AG8aqIAsot/36+XLyznPec73XPGe733OsyiqqiKEEEIIIYRoeTTNHYAQQgghhBCifiSZF0IIIYQQooWSZF4IIYQQQogWSpJ5IYQQQgghWihJ5oUQQgghhGihJJkXQgghhBCihZJkXgghhBD3LUVRDBRFyVcUpU1zxyJEY5BkXtwzqj5sr/+pUBTl2g0/P3kX9e5VFOWphoxVCCFE42joe4GqquWqqpqrqprRGPEK0dwMmzsAIa5TVdX8+mtFUdKB51VV/an5IqpOURQNgKqqFbfbVot6DFVVLWv4CIUQomWr673gXvk8lfuDaC7SMi9ajKpHpW8pinJSUZSLiqIsVRSlVdU+M0VRliuKcllRlCuKouxTFMVaUZR/AUHA/KpWnX/dou6+VcdcURTloKIoITfs26soyjuKouwDCgHnW2xroyjKpqoYjiuKMvGGOmYrirJMUZQViqLkAeMb8a0SQoj7lqIo71Z9ln5X9Xn6lKIovao+l68oinJOUZRPFUXRVpU3VBRFVRTFvernJVX7NyuKkqcoyh5FUTxuc76QG+o+rChK6A37flUUZZaiKHuAAqDNLba5Koqyoer+kKIoyuTbXU9jvG/i/iXJvGhJZgAPA30AV6AU+KRq3/NUPmlyAVoD04ASVVVfBg5Q2bJjXvXzTao+4NcAbwI2QCSwRlEU6xuKPQU8A1gA52+xbSWQDDgBTwCf3PilABgDLAKsgNX1fA+EEELAKGAZlZ+nK4Ay4E9Ufv6HAEOBF29z/BPAW1R+5mcAs2oqpCiKG7AO+HtV2deBHxRFsb2h2NPAZMASOHOLbSuANMAZeBz4UFGUh25zPULUmiTzoiX5A/C6qqpnVVUtAv4BPK4oikJlYm8HtFNVtUxV1QOqqhbUst6JwA+qqv6kqmqFqqqbgEQqvzhcN19V1WRVVUtvePyp3wZ4AAHAG6qqFquqGkNl4v70DXXsVFV1U9U5rtX3TRBCCMGvqqquv/55WvWZv6/q8/8k8BXw0G2OX6WqakzV5/dSoMstyj0DrFNV9ceqc20B4qj8snDd16qqHvvd/UG/DXADelB5/ypSVfUg8A033x9uup46vxvigSZ95kWLUJWwuwGbFEVRb9ilAWyBBYAjsEpRFHPgW+AtVVXLa1F9W2CCoiiP3bBNS2ULynWnazjuxm3OwIXffQifAgbeoQ4hhBB1d9PnqaIoHYB/Ad0AUyrzm323Of78Da8LAfNblLt+fxh1wzYtsOVWsdSwzRm4+LsGplNA5zvUIUStSMu8aBFUVVWBTGCAqqqtbvijU1X1YlVr+NuqqnYAQoHH+K1funqrequcprKV/cZ6zVRV/eSGMjXVceO2s4CdoigmN2xrUxXz7eoQQghRd7//PP0SSAC8VFW1BN4GlAY4z2ngmxruD3NuE8vvt50FWiuKYnbDNrk/iAYjybxoSb4AZlf1YURRFHtFUcKqXg9SFKVT1cwBV6nsP3l99oAswPM29S4CHlMUZWDVIFuTqteOdYgtFTgCvKsoirGiKIFUdt9ZUqcrFEIIUR8WQC5QoChKR27fX74uFgOjFEUZXHV/0CmK0l9RFOc7HllFVdU0IAZ4r+r+0AV4Frk/iAYiybxoST4EfgJ+rhrxvxsIrNrnAqwF8qhsndnEb4OIPgGeURQlR1GUD39faVX/yjFU9sG/SOXjzz9Rh/8fVU8OHgM6Ufn4dgXwiqqqv9bxGoUQQtTdy1Q2oORR2UrfIINIVVVNp3Jw6lvABSoHy75M3fOnxwFvKu8Pq6gcX7WjIWIUQqnMQYQQQgghhBAtjbTMCyGEEEII0UJJMi+EEEIIIUQLJcm8EEIIIYQQLZQk80IIIYQQQrRQkswLIYQQQgjRQjXbCrCtW7dW3d3d63VsQUEBZmZmdy7YzCTOhiVxNryWEuuDEGdsbOxFVVXtGjikFqW+94WW8vsBLSdWibNhSZwNq6XECfWPtU73BFVVm+VPt27d1Pravn17vY9tShJnw5I4G15LifVBiBOIUZvp8/he+VPf+0JL+f1Q1ZYTq8TZsCTOhtVS4lTV+sdal3uCdLMRQgghhBCihZJkXgghhBBCiBZKknkhhBBCCCFaqGYbACuEEEIIIRpXaWkpZ86coaio6I5lraysOHbsWBNEdXdaSpxw51h1Oh2urq5otdp6n0OSeSGEEEKI+9SZM2ewsLDA3d0dRVFuWzYvLw8LC4smiqz+WkqccPtYVVXl0qVLnDlzBg8Pj3qfQ7rZCCGEEELcp4qKirC1tb1jIi+anqIo2Nra1uqpye1IMi+EEEIIcR+TRP7e1RD/NpLMCyGEEEKIB9qWLVvw8fHBy8uL2bNn11imuLiYxx9/HC8vL4KDg0lPT9fve//99/Hy8sLHx4cff/xRv33q1KnY29vTuXPnRotdknkhxD2tcu0MIYQQonGUl5fz0ksvsXnzZhITE/nuu+9ITEysVm7BggVYW1uTmprKX/7yF1577TUAEhMTWb58OUePHmXLli1MnTqV8vJyAJ588km2bNnSqPFLMi+EuCeVl5VxeOsmvoqYyOlff27ucIQQQtTTrFmz8PHxoU+fPkyYMIGPPvoIgHnz5hEUFERAQABjxoyhsLAQgEmTJhEREUHPnj3x9PRkx44dTJ48mY4dOzJp0iR9vebm5rzyyiv4+voyaNAg9u/fT79+/fD09GTdunUApKen07dvXwIDAwkMDGT37t3V4tu/fz9eXl54enpiZGTE+PHjWbt2bbVya9euZeLEiQCMHTuWbdu2oaoqa9euZfz48RgbG+Ph4YGXlxf79+8HICQkBBsbmwZ9P39PZrMRQtxTVFUlNWYvvyxbRM7ZM1ja2ZN95CDxP23Bf9DQ5g5PCCFarH+sP0ri2au33F9eXo6BgUGd6uzkbMnfw3xvuf/AgQOsXr2auLg4SktLCQwMpFu3bgCMHj2aKVOmABAZGcmCBQuYPn06ADk5OezZs4d169YRHh5OdHQ08+fPJygoiPj4eEJCQigoKGDAgAHMmTOHUaNGERkZSVRUFImJiUycOJHw8HDs7e2JiopCp9ORkpLChAkTiImJuSnGzMxM3Nzc9D+7urqyb9++atdyYzlDQ0OsrKy4dOkSmZmZ9OzZ86bjMzMz6/Q+3g1J5oUQ94yzx4+xc8k3nE1OxMbZlZGvvIVnYHcWvPontn39BTaubrh2uPVNQwghxL0lOjqakSNHotPp0Ol0hIWF6fclJCQQGRnJlStXyM/PZ8iQIfp9YWFhKIqCn58fDg4O+Pn5AeDr60tGRgYhISEYGRkxdGhlI4+fnx/GxsZotVr8/Pz0/dlLS0uZNm0ahw8fxsDAgOPHjzfdxTcRSeaFEM0u51wmv3y3iJR9uzFrZc3gKdPo3H8wmqoWIo/BI8jY/APrP36fJ9/7BMvWds0csRBCtDy3a0GHpp+/fdKkSaxZs4aAgAAWLlzIjh079PuMjY0B0Gg0+tfXfy4rKwNAq9XqZ4O5sdyNZT755BMcHByIi4ujoqICnU5XLQ4XFxdOnz6t//nMmTO4uLjcspyrqytlZWXk5uZia2tb6+MbS636zCuKMlRRlGRFUVIVRXm9hv1tFEXZrijKIUVR4hVFGd7woQoh7jeFuVfY9vV/WfjyVNIPH6T3Y08y+f++wn/QUH0iD2BorGPkjLcoKylm7UfvUlp8d3Pyirsn9wUhRG2EhISwfv16ioqKyM/PZ8OGDfp9eXl5ODk5UVpaytKlSxvl/Lm5uTg5OaHRaFi8eLF+YOqNgoKCSElJIS0tjZKSEpYvX054eHi1cuHh4SxatAiAVatWMWDAABRFITw8nOXLl1NcXExaWhopKSn06NGjUa6nJndM5hVFMQA+B4YBnYAJiqJ0+l2xSOB7VVW7AuOB/zR0oEKI+0dpcRF7f1jBgj9NIS5qM34DhvDcp/PoNXYCRjqTGo+xdXVj+PQZZKefZOuXn8ksN81I7gtCiNoKCgoiPDwcf39/hg0bhp+fH1ZWVkDlwNjg4GBCQkLo0KFDo5x/6tSpLFq0iICAAJKSkjAzM6tWxtDQkLlz5zJkyBA6duzIuHHj8PWtfIrx9ttv6wfTPvfcc1y6dAkvLy8+/vhj/RSWvr6+jBs3jk6dOjF06FA+//xz/diDZ599ll69epGcnIyrqysLFixo8GusTTebHkCqqqonARRFWQ6MBG6cs0cFLKteWwFnGzLIutj7wwoOrFtFRUXFLcsoKLRycsbR0wvHdu1x8PSidRt3DAyl15EQjamiopyjO7exe8US8nMu4xXUkz4TJmLr4nbng4F23YLp8/jT/Lr8W+zdPQkKH9PIEYtbaFH3BSFE85oxYwYzZ86ksLCQ0NBQ/QDYiIgIIiIiqpVfuHCh/rW7uzsJCQk37cvLywMgPz9fv33mzJk31XF9n7e3N/Hx8frtH3zwQY0xDh8+nOHDqz9AfOedd/SvdTodK1eurPH4N998kzfffLPa9m+++abRuy4pd2rdUhRlLDBUVdXnq35+GghWVXXaDWWcgK2ANWAGDFJVNbaGul4AXgBwcHDotnz58noFnZ+fj7m5ebXt52L3cnb/r1i28cDE2vaWx6uqSlHOJQqyz1Ne9bheMTDAxNYOM3tHzOwcMbV3RNfKBkVT/9k7bxXnvUbirL3y0hLUsjIMTUxvWeZeiLO2miLWitJSrp45xZX0VHLTT1BWdA0zBydcez2EuZNrneNUVZW0qPXknEzBa/horNp4NGb4dXI372f//v1jVVXt3sAhNYp77b4g/+cansTZsJozTisrK7y8vGpVtj6z2dTG5MmTSU5OpqioiCeeeIKXX375ruprrDgbQ21iTU1NJTc396ZtdbknNFRT9ARgoaqq/1IUpRewWFGUzqqq3tQ8rqrqV8BXAN27d1f79etXr5Pt2LGD3x8bs/4Hzu7/lY59+jH0pb+g0dz5H1lVVXKzszh/4jhZJ1Mr/05N5kLCYQC0xjrsPdrh2M4blw6d8Ores07JfU1x3ovuNs4rWeepKC/Hxrn6YI+K8gounyuk4EoxbXxtbrlscVbaCcpLS3Fs531TX+mGjPNunTx4gC3/nUdxQT4d+/anx8jHarzm5o6zLhor1sLcK5yI3U9qzF4y4g9TVlqCsakZXt164NM7lHbdetRpCevfx9mnVy++e/sVTm/fQt9/flzjv0NTy0w+xqGDmfQbMaK5Q7lXNNl9Qf7PNTyJs2E1Z5zHjh2rdctwYw2AvVVrdn019UDdu1GbWHU6HV27dq33OWqTzGcCNz4Dd63adqPngKEAqqruURRFB7QGsusdWR0c3LyenUu+pn3PPgydWrtEHkBRFFo5ONLKwZEOvUMBUCsquHw2k6yTKZw/kcL5E8eJ27qJ2I1rcGrfgUHPTcXe3bMxL0cvZf9uWjk4Ydf23ml5/L2LGeksn/kaakUFj//9A7QmDmSfyiM7/SrZp/K4eDqPstLKe/fDz/vi3d2hWh2nE4+w+p9vUV5WhrGZGW06B+DuH0hb/65Y2VcvXxsFV3JIOxyLgVZLu8AgjG7Tkn4nZSUl7Fr6DYe2rMeurQfte/bh6PYoEnf+TPueIfR49LEm+524l1VUlBO3dRNJ0bs4m5IEqopFazv8Bg6hXfdgXDt2brCubFqdjpEzIlnyxl9YO2cWT/zzY4xN6/9vfLcStkcRNe9zTOzsUcc/UacvKi3UPX9fEEKIB0Vt7qwHAG9FUTyo/LAeDzzxuzIZwEBgoaIoHQEdcKEhA72VuKjNbF/4JV5BPRk+fcYtW3VrS9FosHV1w9bVjU6hA4DKlSiToneyc8nXLPnbnwkcFk7vcU/ecqDe3VJVlegVS9j3vxUYmZjyWOS7OHq1b5Rz3Y2rF7JZ/d7bgCHlZSpL3ngDI4vxKBpLDI002LWxwDfUBfu2FsRsSidmUzpegfYomt8SnYunT7H2o3excnCi55jxnE6IIz3uECn7Kldos3Zypq1/V9r6B1JeUnzbeC5lnuZEzD5SY/ZyLiUZqrqQGWqN8Ajsjk+vUDwDu6M1rj4t1a1cPH2KjZ/O4WJGOoHDR9J3wkQMjYzoPXYCsRvXcHjrRpL3/IJnYBDBox7HuX3jDOC51xUXFrLpszmcPHgAO3dPeo2ZgFdQT+zaejRaYmtl70D4X15n5buRrP3oXXqPfQKXDp3uqmtcXVWUl7Nr6dfEblxLG78uWHcPeRASebjH7wtCCPEguWMyr6pqmaIo04AfAQPga1VVjyqK8g4Qo6rqOuBlYJ6iKH+hctDTJLWRppooLS7Xz2KRsD2Kn+Z/jmdgEI/86bVGG8BqYGiI70MD8ezWg1+XLSJ24xqS9/7KgEkv4BXUq0Fv3hUV5fz89RfERW2mU9/+ZCYnsuq9t3jsrfdw8GjXYOe5W4VXc1n1z7coKriGxngsNm1MuHzqW7QGGwn76ywcPe3RGPyWVKkq/PRNImlxF/HsWjlHeN7li/zw/kwMjYwZ87d/YGlnT8eQh1BVlZxzmaTHHeJU/EGO7tjG4R83gkbDheifcffvStuArti7e3Iu9TgnYvZxImYfOecqGwbtPdrRe+wTtOseTGlxMcm7d5G85xdS9u1Ga6yjXfdgfHqH4h4QiKFWW+P1qapK3NZN7Fy8ACNTU0a/PhOPrr91XTO1akXfJyYRFD6WQz+u5+CmdXz31gzcfP3RefqgquqDktSRc/4saz6cRc65TAY+N5UuDzfdDIRuvv4MnjKNn7/5khX/eB1zaxva9+qLT6++OHn7NOq/QVF+Phv+7wNOxR+i67Aw+j39PLt++aXRzncvudfuC0II8SCrVfarquomYNPvtr19w+tEIKRhQ6uu5FoZ//v4IFioJBpu58cvP6Wtf1fC/vK3WyZlDcnE3ILBL0zDt99Afpr3Oev+9R6egUH0m/gCO5edIyer8OZ4iytI2/zrLevTGhnQ+SEXOoe6YGhkQHlZKZvnfkzynl8IGjmWvhMmcvVCNiv+8Tqr/vkW495+D7s27o18lXdWcq2QH97/O7nZ2RiajMKnpy8Dn+1E5jF3fnj/bX5Z+m/GvPEOGgMj/THe3e05sCGNA5vS8OjSmpJrhfzv/ZkUFeQz/h8fYGlnry+rKAo2zq7YOLsSOCyM8rJSziYfY9f6tZTlXiJ65VKiv1+CotGgVlSgMTDEzdePrsPCaNctuNqCQi4+Hek38XnOJB4lefcuju+LJil6Z2Uf7h696NCrL26dA/RfBguv5rL1y085EbMPjy7dGBLxZ8xaWdf4XujMzek1ZgLdHnmU+J+2ELPhfxQcjWfZsTiCRz1Ou8CgJm0pbmqnjhxmwyezQVEY++a7tOns3+Qx+A14GJ/efTkZu5+k3b8Qt3UjBzetxdLOAZ9effDpHYq9u2eDJvaXz55hzYezyM3OYvAL0/EfOOTOB91n7pX7ghBCPOha1FyMWp0B9m0tOfJzLGd2b8Ktkx8jZ7yJoZHRnQ9uQM7tO/LU7P/j4OZ17P5+KYtefglF2wPvHg9jYvlbv91zZ8/i5Nz6lvVcySokelUqh6MyCBjkROq+hWQcOUTok8/qp9yzsndg3FvvsWLma6yc9SaP/302tq61m8avMZSXlbL2X++RlXYSrWkYvg8F0e+pDmg0Cm06+zNk6l/Y9OkcNv/nE0b88RV9Iqsx0BA4tC3bFyeRFpdF7PrPuJR5mlGvz7xjf3MDQy1uvv64XLhMv379KLyaS8aRw5w/kYKjV3s8unTD2LT6vLE30mgMaNPZnzad/Rkw+Q9kJMSRvHsXKft2c3THT5hYWOId3BvHdu2J/n4JRXlX6T/pBboODatVEmikM6H7iFF0efgR/jfvv+QmxbN2zixat3Gnx6OP4dOrT63HcjSV/MuXqKhaIa+uVFXl0JYN7Ph2HjbOrjz66tu0cnBs4Ahrz0hnQoeQh+gQ8hDFhQWkHthL8u5dxG5cw4F1q7F2csGnd1869A7F1rXNXZ0r7VAMGz+dg8bQkMfeehfXjp0b6CqEEEI0ly1btvCnP/2J8vJynn/+eV5/vdpaeBQXF/PMM88QGxuLra0tK1aswN3dnUuXLjF27FgOHDjApEmTmDt3bpPG3qKSeUVRcPG6xMH1m9AYOtNlaESd+j83JI2BAd1HjKJ9zz4sffNDCq/8yvHd+3Ht6FvVDSQQTij073/7PtSZx3PY/UMC27+ZjVp+ns4DnyHwkVE3lWnl6MRjb7/Hipmvs/LdN3n87+9j7dT0s3eoFRVsnvsxGUcOY2g6hC4PP0Tfcd439YHvGPIQ+ZcusmvpN+y0saXfM8/r9/n0dOTAhjS2fvF/FOQcYejUv+DuX/fR26aWVvrErT4MDA3x6NINjy7dGPT8S6THHSRp9y4Sf9lO/E9bsHFxY3QtvmTUxNDICDvfAMb8YRpJ0TvZt2Ylmz6dw4mYfQyf/nKzJ/RlpaWk7N9N3NZNZCYdBY2GzKj1OLbzxqFd5boLtq5tbttlrbyslG1ff8GRbT/Srnsww6e9fFcDjBuasakZvg8NxPehgRRezSV1/x6S9+xi3w/fs3f1clq7tcWndyi+Dw3EwvbWX7Z/T1VVYjf8j11LF9K6TVsefeWtm54oCSGEaJnKy8t56aWXiIqKwtXVVb/QVadON6+Ft2DBAqytrUlNTWX58uW89tprrFixAp1Ox6xZs0hISLhpTvym0qKS+eLCQqLmzcXU3hEbx6fZvvgElq0tcfS0araYCq8aUaEMo1v4UNSyk5yKP8TOJV/Dkq/RmppRlHioMrn374qpVatqx1u1rqDg4nIULmDrMY7Ug63JPr2PHo+4493DEU1Vomzj7Mpjb/2T7//xN76vaqGvS0uoWlHB5XOZJEXHVc7IEuxbp+tUVZWfv/mS5D2/YGjSl6CwYfQa1a7GVuvuYaPJu3SR2I1rsLC1o9sjIwEwMNBg0eoQF08eofOAsfg+NLBOMTQGQyMjvIJ64hXUk9KiIrJOpuLQzuuuvyRqDAzoFDqAjn36sX/tKn5d/i0GBgYMmfrnZknoc7OziP9pM0e2R3Htai6tHJzoM/4ZUpOTMS4v4fjeX4nftgWoHDBs5+6hX1DNsV17rJ2d0WgMKMy9wrqP3yMzKZHgUY8TMu7JOnUjunrpGhcz8mnT2QZDbeO/D6aWVvgPGor/oKEUXMnh+N5fSdr9C9ErFrN39Xf4DxpGj0cfw9za5rb1lJWU8NP8zzm6cxvewb0ZNvWvaHXN05AghBAtzaxZs1iyZAl2dna4ubnRrVs3ZsyYwbx58/jqq68oKSnBy8uLxYsXY2pqyqRJkzAxMeHQoUNkZ2fz9ddf8+2337Jnzx6Cg4P57LPPADA3NyciIoJNmzbh5OTEe++9x6uvvkpGRgb//ve/CQ8PJz09naeffpqCggIA5s6dS+/evW+Kb//+/Xh5eeHpWdmIN378eNauXVstmV+7dq1+caqxY8cybdo0VFXFzMyMPn36kJqa2sjvZM1aVDJvbGrKmDfeISH1BL179WD1nFg2/ieeMa90o5VD87QMxm07jZGJIb3H9MZIV5mc5l26yKn4Q+z/6UdOHoohcdfPANi7t6NtQFfc/bvi7NOJvEsXWPXuW1zLu8qYN/6Bm68/6UcusW/dSX5aeIzYLafo+3h73DpWJhqt3doyNvJdVr7zBitnvcHjf59dY8vg9fnzr0+vmXUihfMnUyktulZVwgC/QU/x8JTHan2de1Z9x+GtGzEw7kbvx8bRfbj7LbufKIpCv4nPk3/5EjsWz8fcxhafXn04/ONG0g5uwdi8CwV5fnV4l5uGVqfDtVPDdplQNBqCR41Dragg+vslaAy1PPzCtCbpR19RUU764YPERW3i5KEYFBTade9BwODhtPXrgqLRcK1q7mNVVcnNOs/5E8crf2dOppKwPYpDW9YDoNWZ4ODZjtysLK5dzeWRP75SrycjP397jMzkK+jMtHTs7YRvqDNWdk3zf9eslTVdh4bRdWgYudnn2bdmJYe3buTIz1vpMuQRgsLHYGpZvWEgP+cy6/71T86lJNNr7BP0GjP+vh4HIYS4j21+Hc4fueVuk/IyMKhjaujoB8Nm33L3gQMHWL16NXFxcZSWlhIYGKhfAXb06NFMmTIFgMjISBYsWMD06dMByMnJYc+ePaxbt47w8HCio6OZP38+QUFBxMfHExISQkFBAQMGDGDOnDmMGjWKyMhIoqKiSExMZOLEiYSHh2Nvb09UVBQ6nY6UlBQmTJhATEzMTTFmZmbi5vZbF2ZXV1f27dtX7VpuLGdoaIiVlRWXLl2idevaP+VtDC0qmQdwbOdN0ulMTC2NCJsewOoPY1n/2WHGvNodU8um7Tufd7mIE4cu0GWgG0a6395KC9vWdO4/mIuKlodCQ8lOP0l63EFOxR8idsMaDqxdhaGRMQaGhigGBox765/6qSc9/Fvj3tmWE4cusG/dSdZ/epjeY7wIGOiGoijYu3tWJvSz3uT7WW/w+MzK/0CVSXuqfgGsovzKpY4NDA0xs3YFjQ/GFo50CvUj6dcfOPLTIi6cSufxt/98x+s8uGUDe1YtQ2PUidCnniXwYfc7HqPRGDBs+ssUvPsWmz//FxdPp7Pvh+/x7NYD967PsHv1Sc6mXMHZu/rTivtRzzHjKS8rZe8PKzAwNGTgcxH6L0PpRy5y/mQuQcM9MNDWP0msqCgn52xm1foIKZw8uJ+rF7Ixa2VNz9GP4zdgSLXBwdcpikIrRydaOTrpk/Tf15d1IgWdhQXhL7+BYzvvOsd34XQemclX6BjiRHFhGYe3neZQVAZtfG3oHOpCW7/W+idRjc3K3pGHX5hOUPgY9q76jtgNa4iL2kzgsHC6jxiFrmqlxvMnUlimP8y+AAAgAElEQVT70bsUFeQT9te/0T5YxnMKIURdREdHM3LkSHQ6HTqdjrCwMP2+hIQEIiMjuXLlCvn5+QwZ8ttkAmFhlWPW/Pz8cHBwwM+vshHQ19eXjIwMQkJCMDIyYujQoQD4+flhbGyMVqvFz8+P9PR0AEpLS5k2bRqHDx/GwMCA48ePN93FN5EWl8zfqJW9KY+85M/ajw+x8fM4Hv1rIFrjpuvCEL/9DAB+/W+9JL2i0eDg6YWDpxfBo8ZRUnSNM4kJpMcf5OqFbPpOmFRtQKuiUfDqZk8bXxu2LTpG9KpULmXm0++JDhhoK+sb/bd/sOqfbzF/2vNUlJfpz9XarS1eQb1wbOeNobET8dsLuXyuiHbdben7eHssW5sQOr43y2d+zPmUncybnonniFvPxJH46y62f/MlGq0HAya9RMDAtrV+f7RGxjz6SiTfvf0qe1cvx8nLhxF/ehUULYe2niZmUxrhf6r/imctTe9xT1FWWkrM+h8wMDSk38QplJdVsH1JEoW5JWQm5zD0RT/MrIzvWNdNLeknU8k6kUJW2gn90xetzgTn9h0IfXIyXkE96zVtq0ZjgK1rG2xd2zRIl6i4bacxNDYgZIwXxqZa8nOKSYw+S+IvmWz67xHMrY3x7etMxxDnWr0HDcHa0Zlh016mx6Pj2L1qGfv+t4LDP26g24hHsbC1Y9v8/2BiZcWEd+bIwmBCiJbvNi3oANeaeGXVSZMmsWbNGgICAli4cCE7duzQ7zM2rrwPaDQa/evrP5dVTd6g1Wr1DWM3lruxzCeffIKDgwNxcXFUVFSgq6GLpIuLC6dPn9b/fObMGVxcqo9NvF7O1dWVsrIycnNzsbW1vct34e616GQewNHDiiFTOrPpv/H8OC+B4RF+N81v3lhKispI/CUTr0A7LGxq33fWSGeCZ2AQnoFBtShryNApnTmwMY0DG9O5klWoT/ac23fgsbfe5eiObdi4uOLg6Y29uwdaYx1FBaXs+d8JEn89i7m1McP+4IdHQGv9L7yhkZan3nuNH790J+HnpSQuX4ZPGy/cA25ubT0Re5DNc/+FxtCJwVNepvNDtU/krzOxsGTsG+9wcPM6ejz6mL4vepfBbdjzwwnOp+Xi6NEwYx6u5Zdw4VQe2acqV5/NPpWHs3crBk/u1GDTElZUVE6TXZ8WZEVRCH3yWSrKyji4eR0GWi2tnAdRmFtCl8FtSNh5hlWzYxj2Bz/s21redGze5YucT6186nK9lbyoIB8AA60We3dPfB8aiGM7bxzbeWPl6IxaoaA1ujdm0CnILSblQBa+oS4Ym1ZOI2tubUyPER50H9aW9PhLJOw6w751aRzYkI5HFzs6P+SCS/tWTTJfv62rG2F/fo0Lo8axe+VSdn+/FACXDp0I/+sbNY53EUIIcWchISG8+OKL/O1vf6OsrIwNGzbwwgsvAJCXl4eTkxOlpaUsXbq0xgT6buXm5uLq6opGo2HRokWUl5dXKxMUFERKSgppaWm4uLiwfPlyli1bVq1ceHg4ixYtolevXqxatYoBAwbcE2vKtPhkHsDdvzWhE3zYuSyZncuS6fdUh0Z/c4/tPkdJUTkBA+9umrs7UTQKPcI8sXE2Z9uixJuSPScvH5y8fPRlVVUlac85olenUlxYRpdBbgSN8LipC9CNhrz4OI7t3PlpwUesfv91+oyfRvCj/QE4nZjE2o/eRdFY83DE6/j2ca/3NVja2d80qw1A51AXDv54ithN6TzyUkCd66yoUDl/4grn066SnZ7HhYyrXL1YpN/fysEUa0dTUg5k4ehpiX//hpnO88evEriSXciolwPRmdV9bYPK8QRTKC8r48C61Zi0Oo9ju8H0Ht2O9j0c2PTfeP730UH6P9MBS5s8TsTs5UTMPi5kpAOVA2tbu7nj3TOkKnH/bfYZVVXJSrtKYnQWqQf3UlGmMmpGIDZOt5+2sykc2XGGigqVgAHVn2JpDDR4drXDs6sdV7IKSfglk6Td5zhxMBtrR1N8Q130X6Iam11bD0bOiOT8iRTOHk8iYPBQDAwbfw0LIYS4X12fGcbf31/fXcbKqrIRb9asWQQHB2NnZ0dwcDB5eXkNfv6pU6cyZswYvv32W4YOHYqZWfV7oqGhIXPnzmXIkCGUl5czefJkfH0rJwp5++236d69O+Hh4Tz33HM8/fTTeHl5YWNjw/Lly/V1uLu7c/XqVUpKSlizZg1bt26tNoC2sdwXyTxUJof5OUXEbj6FmbWOHiM8Gu1cFRUq8T+fxtHTCgcPyzsf0AC8utljZW+iT/YGTOyId3cH/f7L5wrYuSyZsylXcPS05KEnOtDa1fyO9QYMCub0pac4uWkdv373MedPpBEUPoBV774N6Bg69Q069Wn47gVGOkO6DHRj37o0LmTkYdemdo/1Cq+WcGz3WY7+cpa8S5XJu4WtDvu2Fvj2dcHe3RK7NhYYm1Qmt5v+E0/06lScvFph53Z3jw7Ppl7h5OHK1eg3f3GE8D92qVcfd0VRGDj5D1zKvMqZxF8xs3BAUbpj46QjeIQhu5b9xPp/fQFqPoqiwaVDJ0KfmoxrB19at3VHa/Tb40ZVVbl4Op+UA1mkxGaRf7kYA0MNbXxtOJ92lfWfHWbsq90xa9U03VZqUlZSztFdZ/Hwb33Hwa6tHEzpM9abnuGepMZmk7Ark1+/T8HUDsr7V2DQBE/dAP0TDiGEEHdvxowZzJw5k8LCQkJDQ/UDYCMiIoiIiKhWfuHChfrX7u7uN033uHDhQn3Sn5+fr99+fZaZ667v8/b2Jj4+Xr/9gw8+qDHG4cOHM3x49RXM33nnHf1rnU7HypUrazz+eh/95nDfJPMAweGeFOQUc2BDGtfySugzzrtRbv7pcRe5erGI3qO9Grzu27Fzs+Cx14PY8uURts4/yqXMfAKHtCV2yykOR2WgNTag35M+dApxvmnu9zsxd7Di+c8+Zekbs0jd/wOpB9YDhgyd+iad+rRvtOvx6+/GoajTxGxOZ9iLt57dRlVVzp3I5czuCo6tjKaiXMWlfSt6PdoO1w7WmFjUPPBZURQGTOzIiln72Tr/KOPeCKr3mApVVdm39iQmlkb0HOnJ9sVJbF+SxMBJHev1FEhVobikD6bWVzm64weuXkgl62QKJdeuYWhsjJWDN4VXXXDv0p2hLwZVe7py6Ww+qTHZpBzIIvfCNTQaBbdONvQM98QjwA4jE0OyT13lfx8fYsPncYz6ayBGJs3z3z1533mKCkrpMqj2T0cMjQzo0MuJDr2cSNp7jm0LjxH9fQqhE3zufLAQQoh7ygsvvEBiYiJFRUVMnDiRwMDA5g7pvnJfJfOKotD/mY6YWBpxaGsGOecLGDrFD515wz4mP7wtAwtbHR5dap4ZpDGZWhox8s9d2bk8mdjNp4j7+QxlxeV06OlIr9Fe9Z7Rx9TSjOf+/U9++PBLTh/9lUHPv4xvaN3moq8rYxND/Pu7ErMpnUtn87F1vvlJQsm1MpL3nSdhVyaXzxag0VY+gfENdal11xETcyMGTfZl7b8PsWvFcQY+07FesZ5JzuFsyhX6jPOmU4gzhbnF7FuXhpW9CUGP1P0pUMqBLPIulTDkhT+SsnspGQlx+PQOxat7T9w6+2OoNeLIjjP8ujKV1R/G8shUfyrKVVJjs0iJyeby2QIUBVx8rAkc0hbPLnbVfs/t21oy9IXObPw8ni1fHeGRlwIwMGzaKRXVCpW4baexa2OBk1f9+p136OnE4b3HOLIzk9ZuFnTq49zAUVZ3Pi2XtMMX6DbM/Zbd1IQQQtROTf3PRcO57+5SGo1C79Fe2LqYs31xEitnH2B4hD+2LnfuclIb2aeuci41l5CxXk02jd7vGWg19H+qA61dLUiNzSI4zBMXH+u7rldjaMDYN6YCU+8+yFoKGOBG3LbTxG4+xcPPVX55uHgmj4SdmSTvz6KsuBy7Nhb0f7oD568l03dQ3Z8UuPpY032YOzGb0nHraE37oNovtgWVrfL7153Uz7YC0G2YO7nZ19i/Pg3L1ib4BNe+zooKldgtp7B1MaNdFwe8Al+usZx/fzesHc34cV4Cy2buo7ysAgAnLytCx7enXaD9Hb+8tfW1pf9TPvz8bdWThIn1e5JQXxmJl8k5X8igZ+9uELKDv4Kpxpqd3yVj7WSGU7vGWyguac85ti9NoqJM5fSxHB55yb/JZtcRQggh6uq+S+av8wl2xMrehM1fHGH1h7EMntwJj4C7b0k//NNptDoDOoU0fuvg7SiKgn9/V/xvMy1mS6Az19L5IRcOR2Vg39aCEwezOX/yKgZaDd7d7ekc6oq9uwWKopC9o/5zwwY94k5mcg47libj4G5Zp4WKMo5e5vzJqzz0hI9+1VJFUej3VAfyLhfx8+JjWNgY4+xduy9UJw5mk3O+kIef971jdyi3jjaMfb17ZfLvbEa7QPs6zZ4E0LG3M/k5xexfn4a5tTE9R7ar0/F3I25bBmZWRnh1q764WV0oGoWHn/Nl1ewYNn95hHF/6465dcOuwFpRobLnh1QO/3QaFx9rOvVxYvviJFZ/GEv4H7s028J0QgghxO3c18sYOnpY8djrQVg7mrLpiyPEbklHVes/K0Z+TjEnYrPpFOLcbP2P70ddBrXBwFBD9KpUigrKCBnrxaTZIQyc2AkHD8sGaUnWGGgYNLkTGo3C1vlH9a3cd6KqKvvXn8TCVkfH3k437TMw1DD0RT8sbU3Y9MURrmQV3rm+CpXYzem0cjClXWDtEtxW9qYMfKYjXQa1qXMif1334e506uNM7OZTJOzKrFcddXUpM5/Tx3Lw6+/aIN17dGZahkf4U1ZSzuYvjlBWUn16sfoqLixl4+dxHP7pNH79XQn7YwDtgxx59K+BlJWUs/rDWM6fzG2w8wkhhBAN5b5O5qFyLutRLwfi3d2BvWtOErXgKKX1TAKO7DiDqqotvjX8XmNqaUTYHwMY+ecuPDEzmC6D2tRr2sc7sbQ1of9THcg+lce+tSdrdUxa3EWyT+UR9Ih7jQmpzkzLiGkBaDQKG+bGcS2/5Pb1xV/kUmYB3Ye1bdJuWoqi8NCE9rT1s2XXd8mkxV9s9HPGbTuNoZEG374NN2+wjbMZg5/tRPapPLYvTbqrL+fXXckqZNUHsZw5lkO/J30Ifby9fuC8g7slY17thrGpIWs/OURa3IW7Pp8QQgjRkO77ZB4qZ8YYPLkTvUa1IyU2m/99dJC0+IsU5BbXuo7S4nKO/pKJZ1c7LFubNGK0DyZnb2tcO9g0en/udoH2+PZ15lBUBhlHL922rFpR2SpvZX/7PvFWdiYMj/AnP6eYzf89QkV5zQmmqqrEbErHsrUO7yCHGss0Jo2BhiHPd8aujQVb5yVwPq3xWpoLr5aQvP88HXo6NfgXM48AO4LDPTi+L4u4bafvfMBtZBy9xMrZMRQVlDLyL11q/OJhZWfK6Fe6YeNsxuYvjjTZkw0hhBBNZ8uWLfj4+ODl5cXs2TWvlLtr1y4CAwMxNDRk1apVTRzhrT0QyTxUtkwGDmnLIxH+5F64xqb/xLPwtWgWvh7Npv/GE7MpnYzESxTll9Z4fNKecxQXljX6IlGi8fV5zBsbZzN+Wph42y90qQezuZRZQNAjHndcVdjR04qBkzpy7kQuZ/epNbYYZxy9zIWMPLoNdW+SVYprojU24JGXAjC1MmLj5/EU5zXOYkwJO89QUaYSMLBhFuv6vW7D3GkXaMfu1alkJN7+S1lNVFXl8E8ZbJgbh4WNjsde737bMQ+mlkY8+tdA2vjasnNZMvvWnWyQpwJCCCGaX3l5OS+99BKbN28mMTGR7777jsTExGrl2rRpw8KFC3niiSeaIcpbe+A6frv7t2bSByFczMgj+1Qe2aeukn0qj7S437odWLbWYd/WsuqPBa3bWBD382ns3S1x9GyaRaJE4zE0MuDh531Z+X4M2xYmEja9S7WBqBUVKgc2pGHtZFbrVnTv7g5cvXiNvWtOsn99GsHhvy22Vdkqn4a5jTE+Pes2m05DM7U0Imx6F1bPieXUDpWCvsUNuqhUWWk5CbsycfezbbRBo4qiMOCZjlzJusbW+UcZ+3p3WtmbUlFeQfG1MooLyigqLKW4oIziwlKKqv6+/vPVS0WcTbmCZxc7Bk7qWKvpJ7XGBgyP8GPnsmRiNqWTf6WYfk/6NNlCVkII0VLNmjWLJUuWYGdnh5ubG926dWPGjBnMmzePr776ipKSEry8vFi8eDGmpqZMmjQJExMTDh06RHZ2Nl9//TXffvste/bsITg4mM8++wwAc3NzIiIi2LRpE05OTrz33nu8+uqrZGRk8O9//5vw8HDS09N5+umnKSgoAGDu3Ln07t37pvj279+Pl5cXnp6V9+3x48ezdu3aaiu4uru7A6DR3Fuf+w9cMg+gNTLAyavVTfNeF18r40JVYp996ipZaVdJjc2+6biHn/Ns0mn9ROOxdTanz2Pe7FyWzKGoDAKHtL1pf8qBLHLOFzJkSuc69W0PHNKWpPiTxGxKx8rOhA69KgfNZibncP7kVULHt2/yud5r0srBlLDpAayeE8P6zw4z6uVAjE0bpjvM8f1ZXMsrbbRW+euMdIYMj/Bj5fsxfP/PAygKlBTdfjyM1tgAYzNDjE21BI/0pNuQtnVaYE1joKHfUx0ws9ZxYEMahbnFDJnSWeaiF0K0CB/s/4Cky0m33F9eXo6BQd0WV+xg04HXerx2y/0HDhxg9erVxMXFUVpaSmBgoH4F2NGjRzNlyhQAIiMjWbBgAdOnTwcgJyeHPXv2sG7dOsLDw4mOjmb+/PkEBQURHx9PSEgIBQUFDBgwgDlz5jBq1CgiIyOJiooiMTGRiRMnEh4ejr29PVFRUeh0OlJSUpgwYQIxMTE3xZiZmYmb22/3LFdXV/bt21en96E5yR2oirGJIa4dbHDtYKPfdi2vRJ/clxSV4xnY9ItEicbj29eZM8cus2/tSZzbt8LRo3Lu8oryCg5sSMPW1Zx2Xev2b64oCs7dFcyNWrF9SRLmNjpcfayJ2ZSOqZURHUOc7lxJE7Fva4lbH4XTvxSy8T/xhP+xC4ZG9Vsh9zpVrVwkytbVvEHWPrgTy9YmjJgWwNFfMqsSdS26qmTd2NQQnVnl38amWozNDBukFV1RFHqM8MC8lTE7liWz5uNDjJgWUO8F24QQ4n4WHR3NyJEj0el06HQ6wsLC9PsSEhKIjIzkypUr5OfnM2TIEP2+sLAwFEXBz88PBwcH/PwqV4r39fUlIyODkJAQjIyMGDp0KAB+fn4YGxuj1Wrx8/MjPT0dgNLSUqZNm8bhw4cxMDDg+PH6T3N9r5Jk/jZMLIxo29mWtp1tmzsU0QiuzxWfdWo/UQuOMu7NHhibGJK09zy5F64xfKp/nVpt9fVqFIa+0JnVcw6y5csj9B7tRebxK4SM9dLPU3+vMHdUGPRsR7YuOMqP848y7MXOd9Wf/8yxHC6fLWjSxakcPCxx8Gj67m+d+jhjamXEj/MSWP1hDGHTuzR5DEIIURe3a0EHyMvLw8LCoomigUmTJrFmzRoCAgJYuHAhO3bs0O8zNq7s/qnRaPSvr/9cVlYGgFar1d9rbix3Y5lPPvkEBwcH4uLiqKioQKerPsWzi4sLp0//NqHCmTNncHFpuJnYGlvzP+8XohnpzLQ8/Fxn8i4Xs2NpEuVlFcRsTMfe3RJ3v/p/iTM21TLiJX80BgrblyRhYqFt0CkaG5J3dwdCH29PevxFti9NvquBnYe3ZWBiaYR396afrac5uPu15tG/BFJSVM7qObEUXpJBsUIIcaOQkBDWr19PUVER+fn5bNiwQb8vLy8PJycnSktLWbp0aaOcPzc3FycnJzQaDYsXL6a8vHp3zKCgIFJSUkhLS6OkpITly5cTHh7eKPE0BknmxQPPqZ0VPUZ4kBqTzcbP48i7XERwmMddtyxbtjbhkakBGOkM6D7cHa3xvdUqfyO/fq4EPeJO0u5z7F1zol51HNx6ioyjlwkY4IqB9sH5aHHwsGTMK90w0hmQdajmmYyEEOJBFRQURHh4OP7+/gwbNgw/Pz+srCq7tc6aNYvg4GBCQkLo0KFDo5x/6tSpLFq0iICAAJKSkjAzM6tWxtDQkLlz5zJkyBA6duzIuHHj8PX1BeDtt99m3bp1QGX/f1dXV1auXMmLL76oL9PcpJuNEEDg0LacSb7M6WM5OHlZ4dbJ5s4H1YKDhyWTP+p7Twx6vZOgER5cyyvl4I8ZmFgY0WVQ7adhjdt2mj0/nMC7uz1dH2575wPuM60cTBnzaneio6NlkLwQQvzOjBkzmDlzJoWFhYSGhuoHwEZERBAREVGt/MKFC/Wv3d3dSUhIuGlfXl4eAPn5+frtM2fOvKmO6/u8vb2Jj4/Xb//ggw9qjHH48OEMHz682vZ33nlH/zooKIgzZ87c6jKbjSTzQgAajcLgZ33ZvjSJHiPuvlX+Ri0hkYfKMQR9x7fnWn4p0atSMTHX4tPzzgN2E3ae4deVKXh2tWPgs52adGXbe4mppRFakwfz2oUQ4nZeeOEFEhMTKSoqYuLEiQQGBjZ3SPcVSeaFqGLWypgRLwU0dxjNqvJLTSeKC0vZ9m0SxmZa3P1a37J8YvRZdn53HHf/1jz8nK/MuS6EEKKaZcuWNXcI9zW58wohbmKg1TDsD360djXnx68SOHcit8ZySXvPsX1JEm18bRg6pXOLeQIhhBBC3E/k7iuEqMZIZ8iIaQGYWRuz8fM4Lp3Nv2l/SkwWPy86hquPNcNe9HugBrwKIYQQ9xK5AwshamRqaUT4H7tgoNWw/tM4rl66BsCJQ9lEfZ2Ik1crhkf43/VCU0IIIYSoP0nmhRC3ZNnahPA/dqGspJz1n8ZxbPc5ts47ioO7BY+85H9PT7cphBBCPAgkmRdC3JatiznDp/qTd7mIn789Rms3c0ZM74KRTsbPCyGEuD9MnjwZe3t7Onfu3Nyh1Jkk80KIO3L2asXwP/jRPtiBsD92wdhEEnkhhBD3j0mTJrFly5bmDqNeJJkXQtRKG19bBj/ri85M29yhCCGEaEFmzZqFj48Pffr0YcKECXz00UcAzJs3j6CgIAICAhgzZgyFhYVAZWIdERFBz5498fT0ZMeOHUyePJmOHTsyadIkfb3m5ua88sor+Pr6MmjQIPbv30+/fv3w9PTUr9qanp5O3759CQwMJDAwkN27d9cYY2hoKDY2DbNgZFOT5jUhhBBCiAfA+ffeo/hY0i33l5WXc9mgbmOhjDt2wPGNN265/8CBA6xevZq4uDhKS0sJDAzUrwA7evRopkyZAkBkZCQLFixg+vTpAOTk5LBnzx7WrVtHeHg40dHRzJ8/n6CgIOLj4wkJCaGgoIABAwYwZ84cRo0aRWRkJFFRUSQmJjJx4kTCw8Oxt7cnKioKnU5HSkoKEyZMICYmpk7XeK+TZF4IIYQQQjSK6OhoRo4ciU6nQ6fTERYWpt+XkJBAZGQkV65cIT8/nyFDhuj3hYWFoSgKfn5+ODg44OfnB4Cvry8ZGRmEhIRgZGTE0KFDAfDz88PY2BitVoufnx/p6ekAlJaWMm3aNA4fPoyBgQHHjx9vuotvIpLMCyGEEEI8AG7Xgg6Ql5eHhYVFE0VT2Z1mzZo1BAQEsHDhQnbs2KHfZ2xsDIBGo9G/vv5zWVkZAFqtFkVRqpW7scwnn3yCg4MDcXFxVFRUoNPpmuLSmpT0mRdCCCGEEI0iJCSE9evXU1RURH5+Phs2bNDvy8vLw8nJidLSUpYuXdoo58/NzcXJyQmNRsPixYspLy9vlPM0J0nmhRBCCCFEowgKCiI8PBx/f3+GDRuGn58fVlZWQOXA2ODgYEJCQujQoUOjnH/q1KksWrSIgIAAkpKSMDMzq7HchAkT6NWrF8nJybi6urJgwYJGiacxSDcbIYQQQgjRaGbMmMHMmTMpLCwkNDRUPwA2IiKCiIiIauUXLlyof+3u7k5CQsJN+/Ly8gDIz8/Xb585c+ZNdVzf5+3tTXx8vH77Bx98UGOM3333Xd0u6h4iybwQQgghhGg0L7zwAomJiRQVFTFx4kQCAwObO6T7iiTzQgghhBCi0Sxbtqy5Q7ivSZ95IYQQQgghWihJ5oUQQgghhGihJJkXQgghhBCihZJkXgghhBBCiBZKknkhhBBCCPFAmzx5Mvb29nTu3Pmm7ZcvX2bw4MF4e3szePBgcnJyminCW5NkXgghhBBCPNAmTZrEli1bqm2fPXs2AwcOJCUlhYEDBzJ79uxmiO72JJkXQgghhBCNZtasWfj4+NCnTx8mTJjARx99BMC8efMICgoiICCAMWPGUFhYCFQm1hEREfTs2RNPT0927NjB5MmT6dixI5MmTdLXa25uziuvvIKvry+DBg1i//799OvXD09PT9atWwdAeno6ffv2JTAwkMDAQHbv3l1jjKGhodjY2FTbvnbtWiZOnAjAxIkTWbNmTUO+NQ2iVvPMK4oyFPg/wACYr6pqta8liqKMA2YCKhCnquoTDRinEEKIe4TcE4RomX75/jgXT+ffcn95eTkGBgZ1qrO1mzl9x7W/5f4DBw6wevVq4uLiKC0tJTAwUL8C7OjRo5kyZQoAkZGRLFiwgOnTpwOQk5PDnj17WLduHeHh4URHRzN//nyCgoKIj48nJCSEgoICBgwYwJw5cxg1ahSRkZFERUWRmJjIxIkTCQ8Px97enqioKHQ6HSkpKUyYMIGYmJhaX19WVhZOTk4AODo6kpWVVaf3pyncMZn/f/buPS7qKn/8+Oszw8BwEwUFSTRFDBUHEkRt8ZbaetnEvGS6uwlqWphtW5tlG7/WtN3Vb+7a7ma1KRvmeuni5i3LyI2txcpLoRleKCXFvKLADDAwM5zfH+gsBuoAg4C+n48HD+fzOefzOe8ZRj7vOXM+52iapgeWAXcB+cAuTdM2KaVyqtXpBjwNJCilLslzIXsAACAASURBVGiaFtxYAQshhGg6ck0QQtRFVlYWY8eOxWg0YjQaGTNmjLNs//79pKamUlhYiMViYcSIEc6yMWPGoGkaJpOJkJAQTCYTAFFRURw7doyEhAQ8PT0ZOXIkACaTCS8vLwwGAyaTiby8PABsNhtz5swhOzsbvV7P4cOH6/1cNE1D07R6H99YXOmZ7wt8q5Q6AqBp2jpgLJBTrc5MYJlS6gKAUuqMuwMVQgjRLMg1QYgW6mo96ABmsxl/f//rFE3VcJoNGzYQExNDeno6mZmZzjIvLy8AdDqd8/GlbbvdDoDBYHAm19XrVa+zdOlSQkJC2Lt3L5WVlRiNxjrFGBISwsmTJwkNDeXkyZMEBze/vglXxsx3AI5X286/uK+624DbNE3L0jTt84tfwQohhLjxyDVBCOGyhIQENm/ejNVqxWKxsGXLFmeZ2WwmNDQUm83G6tWrG6X9oqIiQkND0el0rFq1CofDUafjExMTWblyJQArV65k7NixjRFmg7g0Zt7F83QDhgBhwCeappmUUoXVK2maNguYBVWfdKp/AqsLi8VS72OvJ4nTvSRO92spsUqcLY5L1wRwz3WhJb3uLSVWidO9mjLOgIAAzGazS3UdDofLdV3VvXt3RowYQa9evQgODqZHjx54eXlhNpt55pln6Nu3L0FBQfTp0weLxYLZbMZms1FWVobZbMZisVBZWemMy2azXbZ96d/y8nIMBsNl8ZvNZqZOncr9999Peno6w4cPx9fXt9bnOG3aNP773/9SUFBAhw4d+O1vf8vUqVN5+OGHSU5OZvny5XTq1In09PQ6vUauvKZWq7Vh7w+l1FV/gDuAbdW2nwae/lGdV4Fp1ba3A/FXO29cXJyqr48//rjex15PEqd7SZzu11JivRniBHara/w9bg4/jXVNUA24LrSU94dSLSdWidO9mjLOnJwcl+sWFxc3Sgxms1kppVRJSYmKi4tTe/bsadD5GivOxuBKrLX9jupyTXBlmM0uoJumaV00TfMEJgObflRnA1U9MGia1paqr1iP1PmThRBCiOZOrglCiDqZNWsWt99+O7GxsUyYMIHY2NimDumGcs1hNkopu6Zpc4BtVE1D9g+l1Deapi2g6lPDpotlP9U0LQdwAHOVUgWNGbgQQojrT64JQoi6WrNmTVOHcENzacy8UmorsPVH+56t9lgBj1/8EUIIcQOTa4IQQjQfsgKsEEIIIYQQLZQk80IIIYQQQrRQkswLIYQQQgjRQrlrnnkhRDNgs9nIz8/HarW6VD8gIIADBw40clQNdyPFaTQaCQsLw2AwXKeohBBCXMv06dPZsmULwcHB7N+/37n//Pnz3HfffeTl5dG5c2feeust2rRpg1KKRx99lK1bt+Lj40N6enqTzdIjybwQN5D8/Hz8/f3p3Lmzc4nrq7neS3fX140Sp1KKgoIC8vPz6dKly3WMTAghxNUkJyczZ84cpk6detn+RYsWMWzYMObNm8eiRYtYtGgRixcv5v333yc3N5fc3Fy++OILUlJS+OKLL5okdhlmI8QNxGq1EhQU5FIiL64/TdMICgpy+ZsTIYS4ESxcuJDIyEgGDBjAlClTWLJkCQDLly8nPj6emJgYJkyYQGlpKVCVWKekpNC/f3/Cw8PJzMxk+vTp9OjRg+TkZOd5/fz8mDt3LlFRUQwfPpydO3cyZMgQwsPD2bSpavmLvLw8Bg4cSGxsLLGxsezYsaPWGAcNGkRgYGCN/Rs3biQpKQmApKQkNmzY4Nw/depUNE2jf//+FBYWcvLkSbe9ZnUhPfNC3GAkkW/e5PcjhGgqH6e/xpnvr7x+m8PuQO+hr9M5g28N587kWVcs37VrF+vXr2fv3r3YbDZiY2OJi4sDYPz48cycOROA1NRU0tLSeOSRRwC4cOECn332GZs2bSIxMZGsrCxWrFhBfHw8+/btIyEhgZKSEoYOHcoLL7zAuHHjSE1NJSMjg5ycHJKSkkhMTCQ4OJiMjAyMRiO5ublMmTKF3bt3u/z8Tp8+TWhoKADt27fn9OnTAJw4cYKOHTs664WFhXHixAln3etJeuaFEDedDz74gMjISCIiIli0aFGtdcrLy7nvvvuIiIigX79+5OXlOcv++Mc/EhERQWRkJNu2bXPunz17NsHBwfTq1auxn4IQQrQIWVlZjB07FqPRiL+/P2PGjHGW7d+/n4EDB2IymVi9ejXffPONs2zMmDFomobJZCIkJASTyYROpyMqKopjx44B4OnpyciRIwEwmUwMHjwYg8GAyWRy/s222WzMnDkTk8nEvffeS05OTr2fi6ZpzbJDRnrmhRA3FYfDwcMPP0xGRgZhYWHEx8eTmJhIz549L6uXlpZGmzZt+Pbbb1m3bh1PPfUUb775Jjk5Oaxbt45vvvmGH374geHDh3P48GH0ej2/+MUveOyxx2qMuRRCiObgaj3ocP3vT0pOTmbDhg3ExMSQnp5OZmams8zLywsAnU7nfHxp2263A2AwGJzJdfV61essXbqUkJAQ9u7dS2VlJUajsU4xhoSEcPLkSUJDQzl58iTBwcEAdOjQgePHjzvr5efn06FDhzq+Au4hPfNCCLdq7mMjd+7cSUREBOHh4Xh6ejJ58mQ2btxYo171cZITJ05k+/btKKXYuHEjkydPxsvLiy5duhAREcHOnTsBSEhIqHXMpRBC3KwSEhLYvHkzVqsVi8XCli1bnGVms5nQ0FBsNhurV69ulPaLiooIDQ1Fp9OxatUqHA5HnY5PTExk5cqVAKxcuZKxY8c697/xxhsopfj8888JCAhokiE2ID3zQtywntv8DTk/FF+1jsPhQK93fXxkz1ta8bsxUVcsb4yxkdnZ2XTt2tVtYyNrG+dY2wwE1et5eHgQEBBAQUEBJ06coH///pcdf+LECZdfQyGEuJlc+vYzOjraOVwmICAAqOr86devH+3ataNfv36YzWa3tz979mwmTJjAG2+8wciRI/H19a213pQpU8jMzOTcuXOEhYXx3HPPMWPGDObNm8ekSZNIS0vj1ltv5a233gJg9OjRbN26lYiICHx8fHj99dfdHrurJJkXQrhN9bGRRqOxxtjI1NRUCgsLsVgsjBgxwllW29hIgKioKPLy8ujatWuNsZFeXl61jo2cM2cO2dnZ6PV6Dh8+fP2evBBCiFo98cQTzJ8/n9LSUgYNGuTs5ElJSSElJaVG/fT0dOfjzp07Xzbve3p6ujPpt1gszv3z58+/7ByXyrp168a+ffuc+xcvXlxrjGvXrq11f1BQENu3b6+xX9M0li1bVusx15sk80LcoK7Wg37J9Rwf2VzGRro6zvFSvbCwMOx2O0VFRQQFBTWrcZJCCNESzJo1i5ycHKxWK0lJSU22uNKNSsbMCyHcpiWMjYyPjyc3N5ejR49SUVHBunXrSExMrFGv+jjJd955h6FDh6JpGomJiaxbt47y8nKOHj1Kbm4uffv2bZTnI4QQN4I1a9aQnZ3NwYMHefrpp5s6nBuOJPNCCLepPjZy1KhRtY6NTEhIoHv37o3S/uzZs1m5ciUxMTEcPHiw1rGRHh4evPTSS4wYMYIePXowadIkoqKqvsV49tlnnTfTzpgxg4KCAiIiIvjzn//snMIyKiqKSZMm0bNnT0aOHMmyZcuc9x1MmzaNO+64g0OHDhEWFkZaWlqjPE8hhBDiEhlmI4RwK3ePjYSqXn13jo0cPXo0o0ePrrF/wYIFzsdGo5G333671uOfeeYZnnnmmRr7X3/99es6rZsQQrhCKdUs50cXVb+bhpJkXgjhVjI2Ugghmg+j0UhBQQFBQUGS0DczSikKCgrqPPf9j0kyL4RwqzVr1jR1CEIIIS4KCwsjPz+fs2fPXrOu1WptcGJ5PbSUOOHasRqNRsLCwhrUhiTzQgghhBA3KIPBQJcuXVyqm5mZSe/evRs5ooZrKXHC9YlVboAVQgghhBCihZJkXgghhBBCiBZKknkhhBBCCCFaKEnmhRA3nQ8++IDIyEgiIiKc88f/WHl5Offddx8RERH069ePvLw8AAoKCrjzzjvx8/Njzpw51zFqIYQQoiZJ5oUQNxWHw8HDDz/M+++/T05ODmvXriUnJ6dGvbS0NNq0acO3337LY489xlNPPQVUzTywcOFClixZcr1DF0IIIWqQZF4I4VYLFy4kMjKSAQMGMGXKFGfSu3z5cuLj44mJiWHChAmUlpYCkJycTEpKCv379yc8PJzMzEymT59Ojx49SE5Odp7Xz8+PuXPnEhUVxfDhw9m5cydDhgwhPDzcuWprXl4eAwcOJDY2ltjYWHbs2FEjvp07dxIREUF4eDienp5MnjyZjRs31qi3ceNGkpKSAJg4cSLbt29HKYWvry8DBgxoMdOiCSGEuLHJ1JRC3Kjenwenvr5qFW+HHfR1+DPQ3gSjah+WArBr1y7Wr1/P3r17sdlsxMbGOleAHT9+PDNnzgQgNTWVtLQ0HnnkEQAuXLjAZ599xqZNm0hMTCQrK4sVK1YQHx9PdnY2Xbt2paSkhKFDh/LCCy8wbtw4UlNTycjIICcnh6SkJBITEwkODiYjIwOj0Uhubi5Tpkxh9+7dl8V44sQJOnbs6NwOCwvjiy++qPFcqtfz8PAgICCAgoIC2rZt6/rrJYQQQjQySeZFg1SWl3Pqd/PRBwUSMnduU4cjmlhWVhZjx47FaDRiNBoZM2aMs2z//v2kpqZSWFiIxWJhxIgRzrIxY8agaRomk4mQkBBMJhMAUVFR5OXl0bVrVzw9PRk5ciQAJpMJLy8vDAYDJpPJOZ7dZrMxZ84csrOz0ev1HD58+Po9eSGEEKIJSDIv6q2ytJT8OY9QsmMHOl9fgh9/HE2vb+qwxCVX6UG/pMxsxt/f/zoEUzWcZsOGDcTExJCenk5mZqazzMvLCwCdTud8fGnbbrcDVQufXFqKvHq96nWWLl1KSEgIe/fupbKystahMB06dOD48ePO7fz8fDp06HDFemFhYdjtdoqKiggKCmrgqyCEEEK4l4yZF/XisFg4NnMWJZ9/jv9dd1FZUkL5oUNNHZZoYgkJCWzevBmr1YrFYmHLli3OMrPZTGhoKDabjdWrVzdK+0VFRYSGhqLT6Vi1ahUOh6NGnfj4eHJzczl69CgVFRWsW7eOxMTEGvUSExNZuXIlAO+88w5Dhw51fpgQQgghmgvpmRd15igs5NjMWVgPHKDDn5bgffvtmDMyKN29B2PPnk0dnmhC8fHxJCYmEh0d7RwuExAQAFTdGNuvXz/atWtHv379MJvNbm9/9uzZTJgwgTfeeIORI0fi6+tbo46HhwcvvfQSI0aMwOFwMH36dKKiogB49tln6dOnD4mJicyYMYP777+fiIgIAgMDWbdunfMcnTt3pri4mIqKCjZs2MCHH35IT3nvCyGEaAKSzIs6sRcUcGz6DCqOHCHsr3/Ff+idAHjcEkrpnj0ETr2/iSMUTe2JJ55g/vz5lJaWMmjQIOcNsCkpKaSkpNSon56e7nzcuXNn9u/fX6PMbDZjsVic++fPn3/ZOS6VdevWjX379jn3L168uNYYR48ezejRo2vsX7BggfOx0Wjk7bffrvX4S2P0hRBCiKYmybxwme30aY5Nm47thx8Ie/UV/BISnGU+cX0o+ewzlFIyFOEmN2vWLHJycrBarSQlJREbG9vUIQkhhBA3LEnmhUsq8k9wbNo0HAUFdFr+Gj7x8ZeV+8TFUbx5M7Zjx/C89dYmirJhHMXF5P/qUUKeehJjjx5NHU6LtWbNmqYOQQghhLhpyA2wzZjDUoL9wgWUUk0aR/nRo3z/y1/iKCqiU/rrNRJ5AJ8+VUMpSnfvud7huU3xe+9R+vnnFH/44XVt9+yyZeT94peoysrr2q4QQgghWj7pmW+mHBYLR8YkYj95Es3TE4/gYOePIeR/jz27hGOM6tloQ1ushw9zbPoMcDi4dWX6FXusPbt2Rd+6NaV79tB6wvhGiaWxFb67AQDr3n3XqOk+ym7nwpq1OAoKMH/4Ia0uzqMuhBBCCOEKSeabqXN/ewn7qVO0nTOHyrJS7KfPYD9zhvKDB7F88gmqtNRZ17t3b4IenIXf4MFuTerLvvmG4zMeQDMY6PTPVXh17XrFupqm4R0XR+me3Ves05yVf/st1n370Pn6UrZ/P6qyEk3X+F9clXzxBY6CAjQvL8698ir+I0bIPQdCCCGEcJkk882Q9eBBzv/zn7S+bxLt5jxco1wpRWVJCfYzZyjZ8RkF/0gj/6EUvHr0oO2Ds/C/664GL95U+tVXHJ/1IHp/fzqlv45np07XPMYnNhbL9u3Yz57Fo127BrV/vRVt2AAeHgQ9+CBn//xnKr7/Hq8uXRq93eL3tqLz8yP4ybmcevZ3WD7+GP+hQxu9XSGEEELcGGTMfDOjKis59dwC9AEBBD/2WK11NE1D7+eHV3g4gb/8BRHbthH6hz+gyso48evHOHL3GAr/9S7KZqtXDCWff8GxGQ+gD2zDrf9c5VIiD9XGze/5sl7tNhVlt1O0cRN+gwfjN2QwANavv270divLyzF/+CH+w4fTevx4DB07cu7lV5r8HombwQcffEBkZCQREREsWlT7SrmffPIJsbGxeHh48M4771znCIUQQgjXSDLfzBS9+y5lX31F8Ny56C8utnMtmsFA6/HjCH9vCx1eXIrm5cXJ3/6W70aM5PyaNVRardc8h7LZKNmxg1MLn+f4gw9iuCWUW1etwnDLLS7HbuzZE83bm9I9Lesm2JIdO7CfPUvrcffg1bUrmo8PZfsaP5m3fPIJlRYLrX72MzQPD4JmzcS6fz8l/81q9LZvZg6Hg4cffpj333+fnJwc1q5dS05OTo16nTp1Ij09nZ///OdNEKUQQgjhGknmG0BVVGD5bxanFizgu1GjOfm7+TgsJfU+n/3CBc68sATvuDgC7hlb5+M1vZ5WI0fS5d1/EfbqK3gEB3N6wUK+HX4XBWlpNWJzWCwUb91Kq7Q0Dv8kgWPTZ1C4fj1+Q4ZUJfLBwXVr32DAOyamXuPmm3Iml8J330XfujV+gwah6fV4R0VRtq/xb4Itfm8r+sBAfO/oD0DrsWPxCA3l3Cstu3d+4cKFREZGMmDAAKZMmcKSJUsAWL58OfHx8cTExDBhwgRKL973kZycTEpKCv379yc8PJzMzEymT59Ojx49SE5Odp7Xz8+PuXPnEhUVxfDhw9m5cydDhgwhPDycTZs2AVWLOQ0cOJDY2FhiY2PZsWNHjfh27txJREQE4eHheHp6MnnyZDZu3FijXufOnYmOjkZ3He6dEEIIIepLxszXkaO4GMt/PsH87+2UfPIplSUlaN7eeJtMFL71FiVZWdzyxz/UOn3jtZxd+iIOs5n2zz7boJsgNU3Df8gQ/AYPpnTnLgr+/ipnXljCudeWE/jLX6IPCsSy/d+U7NwJNhtefn74//Sn+A8biu9PfoLO27vebfvExXHulVdwWCzo/fxcOkYpRd6k+1AOB6G/exbv22+vd/t15SgqwvLRdlpPnozm6QmAMdrEhTdWUVlRge7iPre3aynB8vHHtJ4wHs2j6r+h5ulJ0AMzOL3weUq/2Ilv/34NamPxzsUcPH/w6nE4HOjrcH9F98DuPNX3qSuW79q1i/Xr17N3715sNhuxsbHOFWDHjx/PzJkzAUhNTSUtLY1HHnkEgAsXLvDZZ5+xadMmEhMTycrKYsWKFcTHx5OdnU3Xrl0pKSlh6NChvPDCC4wbN47U1FQyMjLIyckhKSmJxMREgoODycjIwGg0kpuby5QpU9i9+/IPlydOnKBjx47O7bCwML744guXXwMhhBCiOZFk3gW206cxf5iB+d/bKd21G+x29EFB+I8aif/QYfj+5A50RiOlX37JD/Oe5vupSQQmJUGc6ytflmVnU/j22wQmJ2OMvM0tcWuahm+/vvj260vZvn2c+/trnFu2DADPW28l8P778R82lJ1FRUS56aZLn7hYqKyk7Kuv8Bs40KVjynbvxrp/P5q3N3lTfk7rSZMIfvwxl4cZNUTx1q0om43W4+5x7vM2RXPeZqP80CG8TaZGadfy7+2o8nJa/exnl+1vPXEi5159lXOvvtrgZL4pZGVlMXbsWIxGI0ajkTFjxjjL9u/fT2pqKoWFhVgsFkaMGOEsGzNmDJqmYTKZCAkJwXTxdY+KiiIvL4+uXbvi6enJyItTd5pMJry8vDAYDJhMJvLy8gCw2WzMmTOH7Oxs9Ho9hw8fvn5PXgghhGgCN1wyX5F/gpLPdtDqpz9tUDJoLyigeNs2zFvfrxoDrhSe4eEETUvGb+hQvGNiakxd6BMbS/i7/+L0kiWcT08n6IMPKGsfirep11XbUnY7JxcswCM4mLYP15y9xh28o6PpuOwlKvLyUJUKr/BqM7VkZrqvnZgY0Osp3bPH5WS+8J316Hx96brtAwpWpHF+1SrMGRmEPPUkrRITG3WqxsJ3N+AVGYlXtfnzvWOiASjbt6/Rkvmi997DIzQU7969L9uv8/IiaPoMzixeTOmXX+ET2/sKZ7i2q/WgX2I2m/H39693G3WRnJzMhg0biImJIT09ncxq7zsvLy8AdDqd8/GlbbvdDoDBYHC+F6rXq15n6dKlhISEsHfvXiorKzEajTXi6NChA8ePH3du5+fn06FDB/c+WSGEEOI6uaEGg1oPHiRv8mRO/b9nyR00mB+e/i1l+/a5PP7YUVhI4TvvcGz6dHIHDuL0goXYL1yg7ZyHCd/6Hl23vkfwb36DT+/eV5yDXOfrS+jvfkfHFSvQrFbyJk/m7N9euurMMhfWrqM85wAhTz+N3s+3Xs/dVZ6dO1+eyLuZztcXY8+elLm4EqyjuJjibdtodffdeLRtS8i8p+jyztsYOobxw1PzOJaUTPmRI40S66W55QPG3XPZBwaP9u3Rt2uLtZHGzdsvXKAkawetRo+q9X3U5r5J6Nu04dwrrzRK+/XlsJRgP3v2qv+fEhIS2Lx5M1arFYvFwpYtW5xlZrOZ0NBQbDYbq1evbpQYi4qKCA0NRafTsWrVKhwOR4068fHx5ObmcvToUSoqKli3bh2JiYmNEo8QQgjR2G6YZL50zx6+v38qmocHYS8vI+Ceeyjeto28SfeRN2EiF95+m8pqCy1d4rBYKNq0ieMPPsThgYM4mfr/qMg/QdDMmXTZuJHwLZtp9/DDeIWH1ykevwEJFPy/VFr9bDTnli0jb/IUyr/9tkY925kznP3LX/AdMAD/ET+t9/NvTnzi4ijbt4/Kiopr1i1+7z2U1UrriROd+4w9etB57Vraz5+P9eBBjoy9hzMvvggunK8uLs0tH1BtKAhcXADLFN1oM9qYt30IdjsBPxpic4nOx4fAadMo+fRTyr7e3ygx1IWy2ajIz6ci7yi206epLC6+Yt34+HgSExOJjo5m1KhRmEwmAi5+Q7Zw4UL69etHQkIC3bt3b5RYZ8+ezcqVK4mJieHgwYP4+tb8cOzh4cFLL73EiBEj6NGjB5MmTSIqKgqAZ5991nkz7a5duwgLC+Ptt9/mwQcfdNYRQgghmhWlVJP8xMXFqfr6+OOPL9s2Z2aqAzG3q29HjFQVJ04499vNZlXwz3+q7+6+W+VEdlcH+8Srk8//XpUdOKCK3n9fHZ/ziDoQHaNyIrurw0PuVKcWLVal+75WlZWV9Y6ttjiLPtimDvXrrw6YotW5f7yuKh0OZ5383zyhDpiiVXlenlvarI8fv54NVZyRoXIiu6uSPXuuWffIuPHqu8SxV3zNbefOqRNPPqlyIrurfQkDlPmTT9wSY6XNpg4PGKiOpcyutfzsK6+onMjuyl5UVOdzX+v1zPvl/erbUaOv+j6zm83qYN9+6tjsh+vUdk5OTp3qFxcXX7GssrJS2QoKVFlOjirdv19VnDqlyg4fVtbDh68au9lsVkopVVJSouLi4tQeF94HDYmzOXE1ztp+T8Bu1UR/j5vLT32vC+7+G9aYWkqsEqd7SZzu1VLiVKr+sdblmtDie+aLNm/m+MNz8AoP59Y1qy+bF13v50fgL35Bl02buPWfq/AbNIgL69Zx9J5xnPj1Y5R+9RWtJ07k1jWridj+ESFPPYm3qZfbx2i3GvFTwrdsxnfAAM4sXsyxqUlU5OdT8vkXFG/ZQtDMmXjeeqtb22xK3rFVN/6WXmOojTUnB2tODq0nTrzia+4RFMQtixfTKT0d9HqOz5xF/qO/xnb6dINivDS3fEC1G1+rM14cK2/d796ecdvp05Tu3k2rn42+6vtM7+dH4P33Y9m+HeuhQ26NwRWVZWVUHDmC7Ycf0IxGvCIiMISEYAgOprK8HEdR0RWPnTVrFrfffjuxsbFMmDCB2FjXbwQXQgghRN206Btgz/9zNaeffx6fvn0Je3nZFadC1DQNnz598OnTh5CCAswZGXh27oxPfDxaHablawiPtm0JW/YSRe9u4PTvf8/RxLHoAgIwdOpE0MwHrksM14tHYCCe4eEX55ufecV6he+sR/P0JGDM3dc8p2//fhSkPkOv777j3CuvUvLpp7T79aO0uf/+en34KtqwAX3r1vgPHlxr+aUbX8v2fY3vT35S5/NfSfHW90GpKw6xqS7w/l9y/vXXOffqq4QtXeq2GK5GORzYz5zBXlCApvfAEBaGPiDgfzeetmqFzsuI/cyZy/ZXt2bNmusSqxBCCCFa6ph5pTj70jJOP/88fsOH0XH5ay7Pae4RFESbyZPx7d//uiXyl2iaVrVS66aNGE0m7CdP0j71GXS1zLjR0vnExVH25VdXXAyq0mqlaPNm/H/6U/StW7t2UoOBtg89RPiWzXjHxXH6D3+k6N0NdY7NUVSE+aPttBozxjm3/I/pW7XCs0sXty8eVfzeexijovDs3PmadfUBAbT5xS8wf7CN8u++c2scP6aUwlFURHnut9gLCtAHBuLVLQKP1q0vS9g1TcMjJBhVUYGjwh85RwAAIABJREFUsLBRYxJCCCHEtbmUzGuaNlLTtEOapn2radq8q9SboGma0jStj/tCvJyqrMT/zbc499JLBIwfT9iLL6KrNpVdS2Do0IFOr/+DiH9vx2/QoKYOp1H49Imj0mymPDe31nLzhx9SaTbTeuKEOp/bs2NHOr72d7y6d6cgLa3Oq8cWv/8+qqLimqvsekeb6jQb0rVU5OVh3b+/xtzyVxOYnIRmNFLw2mtuiaE2lRUVVHz/PRXHj6N56PEKD8fzlluci1n9mM7fH53RiP3M2SZduVc0reZ0XRBCiJvZNZN5TdP0wDJgFNATmKJpWs9a6vkDjwKNtpSistn44cmn8MnMJHDaNEJ///wVE47mTtPpLhvff6Pxjqu6bpf+aPXNSwrfWY+hY0d8+vat1/k1TSNoxgwqvvsOSx3nyS989128brsNY88ab+PLGE3ROM6dw37qVL1i/LGirVtB02g1epTLx3gEBtJm8mSKtrxH2d69bonjElVZia6oiPLcXFRpKYb27fHs2hWdj89Vj6vqnQ9B2aR3/mbVnK4LQghxs3OlZ74v8K1S6ohSqgJYB9TWpbkQWAxY3RjfZZTDge3UScz33EPwk3MbdTEh0TCGDrfgERJC2Z6aN8FW5OVRunMnrSdMuOJ8/a5oNWokhg4dKFi+wuVjyr/7DuvefQSMG3fN94939P/GzTeUUoriLe/hExeHoX37Oh0bNGM6HsHBfP/L+zm/Zo1bvimorKig/Lvv0BUWovf3x7NbNzzatnX5/5TOzw+dt3fVvPN16J23FxRQkZ8vPfotX7O5LgghxM3OlUyqA3C82nb+xX1OmqbFAh2VUu+5MbYadEYjt77+OqUjR0gi38xpmoZPXBylu/fUSD4L1/8LdDoCxo1rWBseHgROm0bZV19R+uWXLh1TtGED6PUu3XTr1b07msFA2b6G94iXHzxIxZEjtLrb9SE2l3i0bUuXf63H547+nF6wkBOPP47DYql3LJU2GxV5eWCz4WjXDs9OndAZDHU6x/965204Llxw6Rj7uXPYTp7EUVhIxbFjTZrQT58+neDgYHr1uvrqzOKKms11QQghbnYNHqOiaZoO+DOQ7ELdWcAsgJCQkMuWc68Li8VS72Ovp5s9Tu9WrWh15gyfrl9PZdu2VTsdDtq++Sb2qCiyDuTAgZyGxdmuLe18fTm8aBGFs2df/QSVlbR9623sUT35r4tTTgZ26MCpTz7lQHx8g+L0+9e7+Oh07PPzQ9X3tZ48GZ/AINSmTVzYvYeiWTOxd+x4WZWAgADMZvOVz+FwoD99Gs1uxxESgt3D4+r1r0Yp9F5e2M6coczDA67yLYtmNqM/fx7l40OltzcUFFB25CiO4Hbgwgdzh8NR/zhrMWnSJKZNm8aDDz7o1vO6GqfVam0Rfxvq63pfF1rK31poObFKnO4lcbpXS4kTrlOs15qIHrgD2FZt+2ng6WrbAcA5IO/ijxX4AehztfO6c9Go5upmj7Ps4CGVE9ldXXj3Xee+4u3bVU5kd1X80Ud1Pt+V4jzzt5dUTmR3ZT18+KrHmz/5ROVEdldF27a53ObJBQvVgd6xqtJur3eclQ6HOnznner7mTNdPsfVlOzapQ4PHKQOmKLV+bXrLlvA6WqLRlXabMp6+LAq/eYbZbdYlFINX4zJbrGo0q+/VrazZ537FixYoG677TaVkJCgJk+erBY/95wq/fpr9fIfF6k+ffqo6OhoNe7uu9W5nTtVeV6eSpo6VT300EOqX79+qkuXLurjjz9W06ZNU927d1dJSUnOOH19fdUTTzyhevbsqYYNG6a++OILNXjwYNWlSxe1ceNGpZRSR48eVQMGDFC9e/dWvXv3VllZWVeM/ejRoyoqKqpBz//HbpZFo5rbdaGl/K1VquXEKnG6l8TpXi0lTqWuz6JRrvTM7wK6aZrWBTgBTAZ+Xu3DQBHQ9tK2pmmZwBNKqdrvfBQ3Da9uEehataJszx5a31O1OFPh2++gb9fWrbP4tPnFzylIS6Mg7R/csuiPV6xX9O67VXPLDxni8rm9o01cWL2a8u++w3jbbfWKryw7G/sPJwl+9NF6Hf9jPn360GXDu/zw5FOcmj+f0l27aP/cc+j9fC+rd+oPf6D8wEHg4od2qxWlKtF5GZ3TstodDs7XYYpWrx7daf/b3zq39b6+6Pz8sJ89i75NG3Z/+SXr169n79692Gw2Ym+/negOHdD5+3PvjOmkzHsKgNTUVFZt386Dd99NZWkpF8rL+eyzz9i0aROJiYlkZWWxYsUK4uPjyc7OpmvXrpSUlDB06FBeeOEFxo0bR2pqKhkZGeTk5JCUlERiYiLBwcFkZGRgNBrJzc1lypQp7L7CTdiiQeS6IIQQzcQ1x8wrpezAHGAbcAB4Syn1jaZpCzRNS2zsAEXLpel0+PTu7VwJ1nb6DJb//IfW94xDq+MY7avxaNOG1hMnUrRlC7YrzDzjnFv+7ruvOLd8bYymaACsDZhvvnjLe2heXvgNG17vc/yYR2AgHV/7O+1+/SjF779P3sSJV1wpVlF7Iu8uhuDgqsWmzp8nKyuLsWPHYjQa8XY4GJWQgObpiWfHjnyTk8PAgQMxmUysXr2ag3l5GNq3R1VUMOriwlwmk4mQkBBMJhM6nY6oqCjy8vIA8PT0ZOTIkc56gwcPxmAwYDKZnHVsNhszZ87EZDJx7733kpPj+jAu4Tq5LgghRPPh0ph5pdRWYOuP9j17hbpDGh6WuFF494nD8p//YC8oqLr5tLKS1hPGu72dwKQkLqxZw/n0lYRc7P2tzjm3/Lh76nRez863Vn27sO9rWk+cWOe4HBYLxR98gN+QITV6zhtK0+lo+9BDeMfG8sNvniBv0n1Upq1AKYWmabT/7W9RDgcVeXlUWq14duqE3t//snOYzWb8f7SvrnQ+Puj9/XGcO+e8qdVRVIQt/wSawYC+TRs0nY7k5GQ2bNhATEwM6enpZGZmVs2g4+2NwW7HduIEmqbhVW3dCJ1Oh91uB8BgMPxvJVqdzlmvsrgYu82G7fRp/vTiiwS3a0d2djZKKYw34IJszYVcF4QQonlomSvAihbDxznf/B4K16/HJz7epdVP68ozrAOtRo+m8K23cBQV1Sh3dW75H9N0Orx79aLs67pPT6nsdk489jiOoiICp95f5+Nd5du3L13e/Rc+cbHOJFo5HFWJ/PffVyXyHTvWSOTdyeNi73z/qCg2b9hA8XffUaoqef/TT50JuNlsJjQ0FJvNxurVq53H6oxGdAEBOAoLsZ0+7XKbSilsJ09iy88HwH72HBfy82mn12PLzeX1pUtxOBw4zGbUxQ8EQgghxI1GknnRqLx7RaF5eVHw2mvYjh2j9b117912VdADM6rGX69dd9l+59zy99xTrylNjdEmyg8fprKszOVjlFKcev55Sj79lPa/exafuLg6t1sXHm3b0nH5cnT+/jiKCin/7khVIl9aimdYGPpWrRq1fZ23N/pWrbi9Y0dGJSTQd8IE7klJwWQyERAQAMDChQvp168fCQkJdO/e/bLj9a1a4dGuHZVFRSi7/Zpz6avKShwXLmAvKMAjMAg0DWPPHjw8dy6rt26l7/jxHMzNxdfbm4rvv8d68CDWQ4eoOHYM29mzTL73Xu644w4OHTpEWFgYaWlpjfbaCCGEEI2pZS6fKloMzdMT7+hoSnftQufvj/9Pf9pobRkjI/EdNJDzq1YRmJyE7uIQi7rMLV8b7+hocDiwHjiAT2ysS8ecT19J4bo3CZr5AG0mTapXu3Wl6fVVC0B17IgtP5/K0nIMYWHoLybTjc0jOBhHcTGPP/ggz//tb5SVlzNo0CDiLn6QSUlJISUlpcZx6enpQNUHoK4xMex+5x3sp07h0b69s8xsNmO5OLd+ZXk5T//ylyibDUNoKB6Bgc6y7tHRfP3NN85zL3nlFSrLrKiyMiqtZVSWlaGKi3n9d79z1tE8PNA8DFR8/z0YDFXbBkPVvQV1/fBXXg6N+A2IEEII8WOSzItG590njtJduwgYc7czwW4sQTMe4FhSEkUbNtBm8mSUw0HRxk34DRyIR7t29Tqnt+niSrB797mUzHt9lc2Z117Df8QI2j32WL3abAi9nx+6iAiUzYbO2/u6taszGvGKiGDGtGnkHDiA1WolKSmJWBc/AF1aiAqlsBcUwMXt6t+mOMxmbMfzQQPPzp3R+179PgRNr6+6V6Ha/QrKbq9K8G0VKJut6psAm63qp7QU5XDU7wUA9EYjtG177YpCCCGEm0gyLxqd/5AhnE9fSev7Jjd6Wz594zFGR1Pwj9dpfe+9lOz4DPuZMwQ880y9z+nRrh0et4Ri/fraM9qUff01Af/4B8ZoE7csXoR2lYWUGlNVb/P1/++tMxpZs3ZtvY/XNA2P9u1RSmE/dw40HYaQ4KoE/9w5bKdOoTMaMXTqhK4OsxJd1oaHB3p/vyuWq8rKqjH2dgdw9eE+P1ZitdYrJiGEEKK+JJkXjc47JobIPbuvS2KraRpBD8zgxK8exZyRgfnDDPQBAfjdOaRB5/U2RVO27+o3wdpOnOB4ymwqW7Wi48svN/q3EDcqTdMwhIZWJfBnz4AGupJSbCUW9K1aYejQwe3Ta17Wvk5XNX1pfT4rNKBXXwghhKgPuQFWXBfXs4faf9gwPG+9lXPLXsb80Ue0uvvuevfiXuIdbcKWn4/9/Playx1mM8cfeghVXs6FOQ/jERTUoPZudpqmYbjlFvStW2M/cwZdiQWPdsEYOnZs1EReCCGEaGkkmRc3HE2vJ3DGdMpzcy/OLT+uwec0Xho3X8viUcpm48Sjv6b8aB5hf/srjtDQBrcnLib0HTrg0a4djnbtMIQE12s2IiGEEOJGJsm8uCEFjB2Lvl1bvLp1wxhVt7nla+MdFQU6HdYfDbVRSnFqwQJKduwg9Lnn8O3fv8Ftif/RNA1DSAjKx6epQxFCCCGaJUnmxQ1J5+VFp7Q0Ovz1L27pzdX5+uIVEVFj8ajzaWkUvv0OQQ892Cgr24rGMX36dIKDg+nVq9dl+8+fP89dd91Ft27duOuuu7hw4UITRSiEEEK4RpJ5ccMy3nYbXl26uO980Sas+/Y5FzQq/mAbZ5b8iVajR9PuV79yWzui8SUnJ/PBBx/U2L9o0SKGDRtGbm4uw4YNY9GiRU0QnRBCCOE6SeaFcJG3KRpHURG248cpy87mh6eewrt3b0L/+Icmm4KyOVq4cCGRkZEMGDCAKVOmsGTJEgCWL19OfHw8MTExTJgwgdLSUqAqsU5JSaF///6Eh4eTmZnJ9OnT6dGjB8nJyc7z+vn5MXfuXKKiohg+fDg7d+5kyJAhhIeHs2nTJgDy8vIYOHAgsbGxxMbGsmPHjlpjHDRoEIGBgTX2b9y4kaSkJACSkpLYsGGDO18aIYQQwu1kakohXOQdXXUTbPHWrZx/YxUeISGELXsJnZdXE0dWu0/fOsy545ar1nE4HOjrMDtM245+DJx02xXLd+3axfr169m7dy82m43Y2FjnCrDjx49n5syZAKSmppKWlsYjjzwCwIULF/jss8/YtGkTiYmJZGVlsWLFCuLj48nOzqZr166UlJQwdOhQXnjhBcaNG0dqaioZGRnk5OSQlJREYmIiwcHBZGRkYDQayc3NZcqUKezevdvl53f69GlCL97A3L59e06fPu3ysUIIIURTkGReCBd5deuGZjRy9sW/oAsIoOOrr+JRS+/uzSwrK4uxY8diNBoxGo2MGTPGWbZ//35SU1MpLCzEYrEwYsQIZ9mYMWPQNA2TyURISAimi7MHRUVFkZeXR9euXfH09GTkyJEAmEwmvLy8MBgMmEwm8vLyALDZbMyZM4fs7Gz0ej2HDx+u93PRNE1mzxFCCNHsSTIvhIs0Dw+MvaIo27uPsL/9Fa9w943HbwxX60G/xGw24+/vfx2iqRpOs2HDBmJiYkhPTyczM9NZ5nXx2w2dTud8fGnbbrcDYDAYnMl19XrV6yxdupSQkBD27t1LZWUlxjou3BUSEsLJkycJDQ3l5MmTBAcH1/v5CiGEENeDDPQVog7a/79nufX1f+Dbt29Th9IsJSQksHnzZqxWKxaLhS1btjjLzGYzoaGh2Gw2Vq9e3SjtFxUVERoaik6nY9WqVTjquCJrYmIiK1euBGDlypWMHTu2McIUQggh3EaSeSHqwBh5Gz59+jR1GM1WfHw8iYmJREdHM2rUKEwmEwEBAUDVjbH9+vUjISGB7t27N0r7s2fPZuXKlcTExHDw4EF8fX1rrTdlyhTuuOMODh06RFhYGGlpaQDMmzePjIwMunXrxkcffcS8efMaJU4hhBDCXWSYjRDCrZ544gnmz59PaWkpgwYNct4Am5KSQkpKSo366enpzsedO3dm//79NcrMZjMWy/9u5p0/f/5l57hU1q1bN/ZVW6V38eLFtca4du3aWvcHBQWxffv2Kz85IYQQopmRZF4I4VazZs0iJycHq9VKUlISsbGxTR2SEEIIccOSZF4I4VZr1qxp6hCEEEKIm4aMmRdCCCGEEKKFkmReCCGEEEKIFkqSeSGEEEIIIVooSeaFEEIIIYRooSSZF0LcdKZPn05wcDC9evW6bP/58+e566676NatG3fddRcXLlwAQCnFr371KyIiIoiOjubLL79sirCFEEKIGiSZF0LcdJKTk/nggw9q7F+0aBHDhg0jNzeXYcOGsWjRIgDef/99cnNzyc3N5bXXXqt1vnwhhBCiKUgyL4Rwq4ULFxIZGcmAAQOYMmUKS5YsAWD58uXEx8cTExPDhAkTKC0tBaoS65SUFPr37094eDiZmZlMnz6dHj16kJyc7Dyvn58fc+fOJSoqiuHDh7Nz506GDBlCeHg4mzZtAiAvL4+BAwcSGxtLbGwsO3bsqDXGQYMGERgYWGP/xo0bSUpKAiApKYkNGzY490+dOhVN0+jfvz+FhYWcPHnSba+ZEEIIUV8yz7wQN6iP01/jzPdHrlrHYXeg99C7fM7gW8O5M3nWFct37drF+vXr2bt3LzabjdjYWOcKsOPHj2fmzJkApKamkpaWxiOPPALAhQsX+Oyzz9i0aROJiYlkZWWxYsUK4uPjyc7OpmvXrpSUlDB06FBeeOEFxo0bR2pqKhkZGeTk5JCUlERiYiLBwcFkZGRgNBrJzc1lypQp7N692+Xnd/r0aUJDQwFo3749p0+fBuDEiRN07NjRWS8sLIwTJ0446wohhBBNRZJ5IYTbZGVlMXbsWIxGI0ajkTFjxjjL9u/fT2pqKoWFhVgsFkaMGOEsGzNmDJqmYTKZCAkJwWQyARAVFUVeXh5du3bF09OTkSNHAmAymfDy8sJgMGAymcjLywPAZrMxZ84csrOz0ev1HD58uN7PRdM0NE2r9/FCCCHE9SDJvBA3qKv1oF9iNpvx9/e/DtFUDafZsGEDMTExpKenk5mZ6Szz8vICQKfTOR9f2rbb7QAYDAZncl29XvU6S5cuJSQkhL1791JZWYnRaKxTjCEhIZw8eZLQ0FBOnjxJcHAwAB06dOD48ePOevn5+XTo0KGOr4AQQgjhfjJmXgjhNgkJCWzevBmr1YrFYmHLli3OMrPZTGhoKDabjdWrVzdK+0VFRYSGhqLT6Vi1ahUOh6NOxycmJrJy5UoAVq5cydixY53733jjDZRSfP755wQEBMgQGyGEEM2CJPNCCLeJj48nMTGR6OhoRo0ahclkIiAgAKi6MbZfv34kJCTQvXv3Rml/9uzZrFy5kpiYGA4ePIivr2+t9aZMmcIdd9zBoUOHCAsLIy0tDYB58+aRkZFBt27d+Oijj5g3bx4Ao0ePJjw8nIiICGbOnMnLL7/cKPELIYQQdSXDbIQQbvXEE08wf/58SktLGTRokPMG2JSUlFqndExPT3c+7ty5M/v3769RZjabsVgszv3z58+/7ByXyrp168a+ffuc+xcvXlxrjGvXrq11f1BQENu3b6+xX9M0li1bVusxQgghRFOSZF4I4VazZs0iJycHq9VKUlISsbGxTR2SEEIIccOSZF4I4VZr1qxp6hCEEEKIm4aMmRdCCCGEEKKFkmReiBuMUqqpQxBXIb8fIYQQ7iTJvBA3EKPRSEFBgSSMzZRSioKCgjrPfy+EEEJciYyZF+IGEhYWRn5+PmfPnnWpvtVqbRGJ5Y0Up9FoJCws7DpFJIQQ4kYnybwQNxCDwUCXLl1crp+ZmUnv3r0bMSL3kDiFEEKI2skwGyGEEEIIIVooSeaFEEIIIYRooSSZF0IIIYQQooWSZF4IIYQQQogWSpJ5IYQQQgghWihJ5oUQQgghhGihJJkXQgghhBCihZJkXgghhBBCiBZKknkhhBBCCCFaKJeSeU3TRmqadkjTtG81TZtXS/njmqblaJq2T9O07Zqm3er+UIW4OZXZy1j5zUpOlZxq6lCEAOSaIIQQzck1k3lN0/TAMmAU0BOYomlazx9V+wroo5SKBt4B/s/dgVZXqSob8/RCNBv2SjtPfvIkS3Yv4d7N9/Jp/qdNHZK4yTXHa4IQQtzMXOmZ7wt8q5Q6opSqANYBY6tXUEp9rJQqvbj5ORDm3jCrWO1WHtj2AP8u/ndjnF6IZkUpxaKdi8g8nslM00yCfYKZvX02L+55EXulvanDEzevZnNNEEIIAZpS6uoVNG0iMFIp9cDF7fuBfkqpOVeo/xJwSin1fC1ls4BZACEhIXHr1q2rc8B/PfVXztjO8FzYc+g1fZ2Pv54sFgt+fn5NHcY1VY/zy5Iv2Vy4mUH+gxjgPwCDZmji6P6nJb6eDfFh0YdsLtzM8FbDGdtmLBWVFay/sJ4dlh109epKcttkWnu0bhaxXmJTNjzwQNM0t50Tbo7f/Z133rlHKdXHzSG5nTuvCRfLG3xdaCnvD2g5sUqc7iVxuldLiRPqH2udrglKqav+ABOBFdW27wdeukLdX1LVC+N1rfPGxcWp+sg8lql6pfdSW49srdfx19PHH3/c1CG45FKc+8/tV3Gr4lTC2gTVK72XGvHOCLX1yFblqHQ0bYAXtbTXsyE2fbtJ9Urvpeb+Z26N13/zd5tV/D/j1cC1A9V/8//boHYaEmtJRYnac2qPeuObN9ST/3lS3f2vu1Wv9F7q5a9eblBMtbkZfvfAbnWNv5vN4aexrgmqAdeFlvL+UKrlxCpxupfE6V4tJU6l6h9rXa4JHi7k+yeAjtW2wy7uu4ymacOBZ4DBSqlylz5J1MPAsIEEewTzxjdvMLLzSLf3AN6szpWd49F/P0qgMZC1P1vLofOH+NOeP/HkJ0/yxjdv8Hifx4lvH9/UYd4Udvywg2eznqVv+748n/A8Ou3y0XB3h99Nz6Ce/CbzN6R8lMIDpgeYfftsPHSu/Heuv6LyIj44+gH7C/az/9x+jhQdcd6/EuwTTK+gXrT1bstr+15jaKehRAZGNmo8osk0q2uCEELc7Fy5+u8Cumma1oWqP9iTgZ9Xr6BpWm/g71R99XrG7VFWo9N0DG41mLcL3ib7bDa9g3s3ZnM3Bbuy83jm4xSVF/HGqDcI8g7iJx1+Qr/Qfmw5soW/ffU3pm+bzuCwwfw69tdEtIlo6pBvWAfPH+TxzMfp0roLL975Ip56z1rrhQeEs+Zna/jjF39k+dfL+erMV/zfoP+jnU+7Ronrk/xPmL9jPmfLztLGqw1RbaMY1mkYvdr2IiooytluUXkRiRsSeXbHs6wevbrRP2CIJtGsrglCCHGzu+aVVill1zRtDrAN0AP/UEp9o2naAqq+AtgEvAD4AW9f7Ck/ppRKbKyg+/n2Y5tlG6tyVrklmbdV2iguL6aoooji8mKKK4opKi+iuKLYuV9D42fhP6NX215ueAbNyzvn3+Ery1e8MOgFegT1cO7X6/SMjRjLiM4jWH1gNSu+XsGEzRMYFzGO2bfPJtgnuAmjvvGctJxk9kez8TP48fKwl/H39L9qfW8PbxYkLKBP+z48//nzTNw8kUUDF3HHLXe4LaYSWwkv7HqB9bnriWgdwV/u/Au92va64jdiAV4BPNPvGX7zn9/wRs4bTO813W2xiOahOV4ThBDiZuZSt5lSaiuw9Uf7nq32eLib47oqL50X9952L69/8zr55nzC/F2fKMFqt7LgswUcvnDYmbSX2kuveoy/wZ+Kygr+eeCf9AzqyX2R9zGqyyi8Pbwb+lSa3FuH3iLLksWMXjMY2WVkrXWMHkZmmGYwvtt4Xtv3GusOreO9I+8xNWoq06Km4efZMm5Cac6Kyot46KOHsNqtrBy1kva+7V0+NrFrIlFBUfwm8zc8mPEgD8Y8yEPRD6HXNewG8d2ndpOalcoPlh+Y1msac26fc8VvCqq769a7GNZpGC9nv8zQjkPpHNC5QXGI5qe5XROEEOJm1mK/A5/SfQorv1nJ6gOrearvUy4f9+reV9l8ZDODwgYRGRhJgFcArTxbEeAVQIBnAK28Wl32r5+nHx46DywVFrYc2cKbh97kdzt+x5JdS0iMSGRS5CTCA8Ib8ZlenVKq3vcN7D61mz9+8Ud6evfkkd6PXLN+G2Mbnur7FD/v8XP+9uXfeG3fa7xz+B0einmIeyLuwUO78ttJp+kanFzeqMod5fzq37/iuPk4f7/r73Rr063O5+jauitrfraG33/xe17d+ypfnf6KRYMW0da7bb3i+euXf2VVzio6+HUgfWQ6sSGxLh+vaRrP9HuGsRvHMv+z+fxjxD9qjPt3VfaZbJbuWYpPqQ+9y3sT4BVQr/NcD45KByWOkqYOQwghxE2mxSbzIb4hjOgygne/fZfZt8++5pAEgJyCHNK/SWdcxDgWJCyoU3t+nn5M7j6Z+yLv48szX/LmoTd589CbrD6wmvj28dwXeR+DwgY1am99cUUxOQU57D+33/nveet54kLi+MktP+Ent/yEiNYRLiX3Jy0n+c1/fkOYfxjJAcl1SrQ7+nfk/wb/H1MyX3pgAAAgAElEQVSjpvKn3X/iD1/8gT988YerHmPUG5n3/9u77/ia7v+B46/PzZQhEtmDRCRWhEgaEaKIUaq21larQxXddPl2+ZWvLqXaWlWjZilFVNHaIyJGzCTEiB2EkH1+f5xQVSPihnv7fT8fj/vIHeee877nnpvP+3zOZ0QOo2Nwx2Jv59/q3LVzN76/Pef2kHQ+iYzsDEY3HP1AnYztrOz4pMEnRHhEMHLLSNr90o5+If3oUrVLsY/LpPNJvLPuHVIupfB08NO8FvEadlZ29x2Lm50bb0S8wfsb32f+wfk8XeXp+3r/pZxLfJnwJfMPzsfF1oWL2Rdps6gNr0e8TutKrUt0AltQWEDCmQTiDsex6ugqPO09GVh7IDE+MSU+IdY0jZ1nd7LiyApWHFmBF148yZMlWpcQQghREmabzAP0rN6TpalL+fnQz/Su0fuuy+YV5jFi4wicbZ15LeK1Em9TKUW4RzjhHuGcv3aehckLmXdgHq//+ToGZSCwXCAh5fVOgTk5OeQW5BaracKtruZdZX/GfpLOJ91I+NIy02687uvgSy23WjjZOLHt1DbGxI8BwK2MG/W86xHtHU2UVxTly5T/x7qv5V9jyJoh5BbkMrbJWNJ2pP1jmeIIcQ1hSospbEjfwL7z++667JaTW/jPpv9w6OIhXo94/X+qY2TimUTiT8ff+B5PZZ0C9KsVlZwqEeMTQ2yFWBpXaGyU7bUPak9N15qM2T6Gz7d/zrSkaQwIHUCn4E7YWNjc9j15hXlM2jWJ73d9j4utCxOaTqCBT4MHiqNd5XYsO7yMz7d/TkPfhsVqOqRpGktSl/BZ/GdcyrlE7+q9GVh7ID+v+Znlect5e/3bLExeyLtR7xbritj1ZDvuSBy/HfmNs9fOUsayDDE+MSSdT+KlVS8R6hbKoNqDiPKKKlZSr2ka+zL2EXc4jhVHVpCelY61wZoY3xj8r/kXZ9cIIYQQRmPWGVWN8jWo416HWftm0b1a97smiNOSprE/Yz9fNv7SaJfqy5cpT/+a/elTow9bTm4h4UwCSeeT+OPYHyxMXgjAl7O+JNg5+MaoHzVca1DJqdLfYs0tyOXghYM3kr1bh/3zsPOgRvkatA1se2Mdt36GU1mn2JS+iY3pG/nz+J8sTlkMQDWXajeS+zD3MKwMVozYMIL9GfsZFzuOAKcA0ihZMg/6yU0Dnwb3TPz6hPTh8+2fM33vdFIupjDm8TEm3WTCGDJzM/l0y6csSV0CQAXHCoS5h1GjfA1CXEOo5lKtRLXexVHZuTLfNv2WHWd28PWOr/l066dM3TOV50Kfo33l9lhZ/DUZWMrFFN5Z/w5J55N4stKTDI8cbpTvRinFiHoj6LC4Ax9u+pDxsePvmiynXkzlo80fEX86nlputfi+2fc3hrf0tfZlerPpzD84ny8TvqTj4o70qdGH50Kfw9bS9m/ruTnZjjsSx8mskzeS7ScCnqChT0PsrOzIK8zjl+Rf+G7Xdzy38jkiPCIYFDaIcI/w28aXfCGZ5UeWs+LICtIy07BUltTzrsegsEE09muMg7UDf/zxxwPvNyGEEOJ+mFcyr2mw5hPKXXICGgHQq0Yvhq4Zyuqjq2nu3/y2b0u9lMqExAk0r9ic2AqxRg/LwmBBtE800T7RRWFqnMw6yZw/56B5auw9t5elqUuZc2AOoI9CUtWlKn6OfiRfTObghYPkF+YD3Bj2r2nFpnriftOwf3fjae9J+6D2tA9qT0FhAfsz9rMxfSMb0zfyY9KPTNkzhTKWZQh0CmTP+T0MqTOEhr4Njb4v7sTSYMmbj71JULkgPtr8Ed2WduPrJl9Tqdyj629Qmq6PFX/u2jmeD32entV7PpKTlzD3MKa0mMKWk1sYt2McH23+iCl7pvB86PO0rtSa1ZmrWbpkKXZWdnz2+Gd3/A2VlK+jL4PDBjNq2yiWHl5K60qt/7HMtfxrTNw1kalJU7GztNNPAII6/KOdvUEZeLrK08RWiOWz+M+YuHsiyw4v4+26b9PQtyGHLhwi7kgccYfjOHr5KJbKkmifaF4Oe/lGsn0zK4MVnYI70SawDfMPzmfi7ok8G/cs9bz0BD3ULZS0zLQbJwXJF5MxKAOPeT5Gnxp9iK0QSznbB5uBVwghhHhQ5pXM516BfUsIyTgG0bHgUZ1Gvo3wdfDlx70/3jYRKdQKGbFhBLaWtgyvO/yhhKmUwtvBmzD7MBqFN7oRx9HMo+w5v4ekc0kknU9iY/pGAssF0qt6rxs19172Xiil0DSNb/9MxSIb3O6zP6SFwYIarnoN/oDQAWTlZRF/Kp4N6RvYfHIzHYI60C+kn/E/eDG0D2pPgFMAQ9cMpfuy7oxqOIoozwaMW32Iql5laVXT65HEZSxX864yN2Mu61auI8ApgBmNZ5jEcKZ1veoS6RnJ+hPrGZc4jvc3vs+obaPIysuikW8jRkSPKFFn2eLoWrUrcUfiGLV1FPW86v2t6dfa42sZuWUkJ66coE1gG14Nf/W2TcNuVr5MeUbGjKRd5XZ8tPkjXlr1Ep72npzKOoVBGYj0jKRvSF+aVmxarBMoawtrulXrRvug9sw9MJfJuyfTfVl3fB18OX7lOAB13Ovwdt23aVaxWantJyGEEKIkzCuZt3GE7vMp+CYGy5mdoN9KLJx86FG9B59u/ZRdZ3cR6hb6t7fM3j+bxLOJfNLgk0daCBuUAX8nf/yd/G9bO3mrhTtOMCpuP64ONvz5RiPsbUr+Vdlb2fO43+M87vf4XZc7ev4qM7emsevYJT5qF0Jl99IZcrK2e21mt57N4NWDGbRqEG55HUhJjsDSYMDVwYbIAJdS2W5pSzyTyDvr3+Ho5aP0qNaDIXWG/KMJyKOklCLGN4YGPg1Yc2wNi5IX4X3Vm7eavFWqMylbGCz4IPoDOi/pzKitoxj9+GhOZZ1i9LbRrExbSYBTAFNaTLnvzr+RXpEsaLOAaUnT2HFmB31D+j5Qsl3Gsgy9a/SmU3AnZu2bRfzpeLpU7UIL/xb3NVSoEEII8TCVbLy4R6mcH7tCR0B2JszsDNmXaFe5HY5WjkzfO/1vi6ZfSefLhC+p71Ofpyo99YgCvn/HL1xlxC9JBLrZc+5KDpPWHS61bRUUauw4k0/vKVtpNWYZHhs/YNSJXrwzYSbb0zJKbbue9p68HTYOi2u1OWO1gHp1f8PPxYoXZ2znxMVrpbbd0pBbkMtXCV/RO643+YX5DPYYzFuRb5lUIn8zpRRNKjRhbJOxRDkUr9PngwosF8jzoc+z/Mhy/rPxP7Rd1Ja1x9cyOGwwC55aUOJRfKwtrBkQOoBvmn5D16pdjXLCbm9lz4DQAXzX7Dt61+gtibwQQgiTZn7JPJDlEADPTIdzB2B2d+yVFR2DO7IybSUnr5wE9HbrH276EIXi/aj3H0rCYgyFhRqvzd1JoabxQ59IWoZ48v3aFM5dyTHqds5czmbc6kPEjFrNVwnZeKevYJPjcPpYxOFrm80ERvLWxF9YkXTKqNu9Lm7PSbp9n4B1Ri86VerPnsw15Pp8RG65efSeNYsr2bmlsl1jO5BxgK5LuzJp9yTaVW7HgjYLCLK9/3Hi/xf0DelLsHMwCw4toI5HHRa2XciA0AF/64wrhBBCiPtjlsk8AIGNoe14OLIOfhlItypdAJi1fxYAi1MWsyF9A0PDh+Lt4F368aRthCtnHng1k9cfZsvhDEa0qYGfix2vt6hCdn4hX686ZIQgYdfxi7w0K4Ho/1vNmN8OEumcyeryY/i//DE4Onug+q3E0H8l5WwUM6w/5b0Zq5i+ueSj3dxK0zS++v0QL8xIINjDkSWDGjAiZgiTm08m2rsu1uV2cNr+Sx6fE8unWz9l59mdaJpmtO0bS35hPpN2T6LL0i6cv3aecU3G8UH0ByWbDTfzJJxIMH6QJsbKworxseOZ1HwS38R+g5+j36MOSQghhDB75tVm/la1ukDmCVj1IV5lvWlWsRkLDi6gc3BnRm8bTZh7GM9UeaZ0Y8i5DMvfgsSZYOcKHSdCYJMSrWrfyUz+u+IALWp40DncF4BANwe6PObHzC1H6VM/AH9X+xKH+kviCV6ftxM7a0v6RnnzgtVSXLaPJV8DWvwfRD4HFvohYegxH49pTzHf8TOeXGTNqUvXeL15lQe6wnE1N5835u1i6e6TdKjjw8j2NbG10ierivSKJNIrkqt5V3lnxVyWH1nO7H1zmblvJt723rQIaIFbjtsDzXhrLGmZabyz/h12nt1J84rNeTfqXZxtnUu2spzLMK01nE+GqJeg6QiwvP1Y8P8GnvaeRm22omkam1LOc+LiNTqF+z7yY0MIIYR42Mw7mQdo8CpcOgEbvqJno9eIy7tMz+U9yc7P5oPoD0o8jTzoiULK2SzWHTrLkXNZ1At0pWGwK3bWRbvtxHZY0B8uHIF6gyB5FUzvAA3fgEbD7mtbOfkFvDInkbJlrBjZvubfkpIhsUH8nHCCMb8dYFy3OiX6HBPXpTJy2X4iA1yY8ng2Dr8PgHMHoXpbtpVtQ716nf7+Jt8I1DPT8Zv1DL+UH0fLNUM5eSmbUR1DsbK4/3164uI1BkyLZ/+pTN5pVY3+MQG3TbzsrOz4/Mne5P0UytKkw7zQ8hpp2RuZnjSdfC2fOYvm0MK/BS39W1LZufJ9xZBXmMfl3MtcyrlEZm7mP/5m5mSSmZt51ysBBVoBa46twcpgxaiYUbQMaFnyBFLTYMlQyEiFGu1h83g4vBY6TQa3KiVbZzFl5xUwdtUhyl4tKBrk1bxcuprH/ITjzNySRurZLAA2pZ7n0w6hWFua7wVHIYQQ4n6ZfzKvFLT6L1w+Regfn1MrpD47s44ypM4QApwC7nt1F7Jy2ZByjnUHz7Hu0FnSL2UDYGNpYNqmNKwtDcQEuvCy7TJqHRqHcvCE3r+Cf31o/DYsewPWjoajm7D26lvs7X7+20H2n7rMlGcjKO9go9fY/v4BFOTgXqUVL0Z78/mfxxkQc5FafsUf27qwUOOzRRtIiv+Tcd5naFnmKBazV0O5itBtHgQ3J+dOE91Ubopq9y2Vfu7PMp8faJ7Qj7OXc5jQIxyHYo6uo2kamzas4cqq/1JQ2I3Jz7agcRX3u75HKcXoTqGknM1ixu9X+eWl0bg0yGf8yvEctjnMpN36TKX+Zf0pZ3PnfaGhkVOQcyNZz8rLuut27a3scbR2xEJZ3HW5+t71GRY5DA97j7sud08J02DPfGj8Ljz+BoR2gV8GwnePwxP/B+HP6se3kWmaxvCfd7NwxwkADuXv5O1WVfXj7kHkXYOlr+lXpmp2uvfyJbDz2EVmbE5jya50svMKqVOhHJ8/XYtjGdf44veD9318CiGEEObu31HiGSyg4yT4sQ3DUhL5NbwzvWv0LtZbc/ML2XH0AusO6cn7rhOX0DRwtLWkQWVXBjVxIybIFU8nW7YdzmBT4h4e3/satQt3s6wgklnWrxF9xIPmdpcJdHNAtfsGKtaHpa8RcWI3BJWHSncfEnJz6nm+X5dKt7oVaFLVAzIOw09d9Zpza3tI+JGXrewIsQ1h44LthPZ/EeVwh4mkrl2Ek4mQvoOC49u5mLyVN/JPgzVoGQplCIKGb0KDV8C6GLOPhnaGq+cJjHuLlUHlaZbSkWe+28TUPo/h7nj30VqOX7jKpPlLGHL8VZzVFRo5n8ba78l7bxOws7bk+57htB2/gQE/xrPwpfrUd6zPO43e4dy1c6xMW8n6E+vJLbh7R1lnG2eCnYMpa12WsjZlcbJ2uu1fR2tHrAwPsSPmqT1686xKjdEavMKFrFxOOUZzofliKq1/A69fh5K07me+dxpCSpYNV7Lz6VM/gJ5RFTEYbpPgFxbC+UOQvkNvf5++Q2+u0/47cPL526KT1x9m4Y4TDGpcmSNpafySeILf951meMuqPB3hd/v1F0fcML25WeJMOLULYkfov82SKsiHPQso3PItfhfymbCtPj+er84la3fah/nSI6oCNbz/Gkfeq5wtw3/eXezj827mxR9j6oYj1PRxIibYlfqBrjjbW5f8swghhBClxOyS+cPnstifUcClxBOcyczhVGY2pzOzOZOZQ3bmy4y9+iYD181mzAZL1ju1xs3JDs+ytriXtcWjrA2eZW0pZ2dNUvol1h48x6aUc2TlFmBhUIT5lWNobDAxwa6E+jhheUtzkui8zUSnDEKzyCE95r8kFzTi0r4zjI47wOi4A/g6lyEmyI3Hg5tQv9dKDLO7YP1jW73JTcM3bpvYZGbn8drcnVR0seOdVtX0ZhZze+lNMHr+DBWi4cg61IFl1N21hCYXt6J99gX41YUqrcArFE7vhfQEPYnLSLmx7rMWXsTnBuBapRtR9WNRXrXAtuz97/SoFyDrLJXWjWFVbXda7m5Eh282Mq1vJIFu/+zwmVdQyKR1h1m6ag3TDB9gZWtHfov/Yr10KPzUBXr9AlZl7rlZPxc7vulehx6TtvDK7ES6V9Sbv7iWcaVr1a50rdACyjiXSu11qcq5DPN6g205TjUdyyuT49mUev7Gy4qB9LUIYNilObyXmcRk92FscwhhxOIkVu49zeiONfHWTusJe3oCpCfqt9zL+gqs7PXj4uROmNICei4CV71J0tqDZxm5bB8tQzx5tVkwa9eeZHDbery7aA/Dft7N3PhjfNK+JtW87u84Kdw5F8P2H5jGU9TxtqHmhq/gzH79JPt+j7m8bNg5C9Z/CRfTOKL8oCCfFw0TeNEWCjxCsXBpDaolaDVvfP9PR/jh5mjDSzMT7np83sv87ccZtiCRUBeNZXuuMif+GEpBqI8TMUH6yX1YBWdpziOEEMIkmF0y33bcejKz82FrIgC2VgY8y9riUdYWf78KLLH5hrZpIxl+aSKp19bxlTaQVek+nLuSw61Nof1cytAuzIeYIDeiK5enrO0damYz0+HP0bB9KnjVRnWcjLdrZQYDg5sGc/LSNX7fd4a1B8+yZGc6P209ikFB9bIfM9ptLtX/+D8K0zZh6DgRHP7exOQ/i5M4eeka81+Mxn7nVL22tnxl6PoTlA/UF6ocC5VjsWo+mv6fTaWRto3uOXtQK9/7a0WO3uBTB2p35bxTCANW5rP7ggVjOtciqvbfa2ZLpMm7kHUW/4QJ/B7tTpv4mnSasJFJvR8jvOJfnT+3Hs7g3UW7yTtziEV2n+BgY4tF3+V6MmljB/Oe1fsZPP1jsWptoyqVZ8RT1XnvlyTscq1o0hg4nQQrR0DySv2kpsm7ENDwwT/jveTnwOk9YGUH7tVKtg5Ng19fhYxUtsZMZcDE/eQXFPJ682AC3RxwL2uLp5Mtbg5PYnX2eVzn9+Ot02+i1X2BJId8LiZvwe6rVOCKvj4La/CsCbWeAe864B2mt7c3WOjJ/PQOekLfYwFHrIMYNEsfRWhM51o3auCDPRyZ81wUCxJOMHLZPlp/vZ5+DQIYEhtUrMnKDiYl4LdoMHsKg5lg3ZPTh/P5PSaUwPgPYVLTvx/Ld5ObBfFTYePXcOUUl8vXYrj2DAnWkfQMMfBCQ1/UgeVYHFgGf/wf/DESnCpAlZb6rUI9GldxZ/ZzUfT9YRsdJ2xk8i3H5738suMYa36eyJ/2i/DNSkOrWJ8jAV34NTeCP1MuMuHPFMatScbe2uJGH5qYIDf8y9tJ51shhBCPhNkl8//tXIvkfUm0aBiJe1lbHG0s/1mIak1g9zwqrXibrzKHQt0XyG84jHN5NpzOzObs5RyCPByoWP4OI8PkXtWHmkxZrd/O7tOfjx4MTd4Dy79fbvdyKkPPqIr0jKpIXkEhiccusu7gWX7dnkrr493pZPDhw9QfyPmiLlvr/Jeq9Vrh52LHst0n+TnhBEMbVaTOrg8hfgoEtbhjbaa1lQVtWrZi8E9e2LV4jw4BBXrTCo8QcNRHCNl/KpNnp2wjK8fAtD7hRFc20qy3SkHrL+BaBj5bPmBF83F02uBLt4mb+bprGBH+Lvzfsn3M236cyLIX+bHcaGyVAZ5dcqNWmBrtIHMkrBiuN8loObpYteo9oiqSlJ7JH9sSOTq1DxXSFur7p+4LsHcxTHsK/GP0pL5ClHE+b0E+nN2HdiKBnKPxaCd2YJOxH0NhHgB53hFY1R0A1duB1X0059gxHXbPZaVHPwb8ZkUtXzu+6hJ2+1GKvGrB839C3HDUlgmEKAty3aqyLqsBqzJ9sPOP4IWnn8LVyfH22/KqBX1XwPR2aD88ydeWwzEYgpnYK+IfSbpSik7hvsRWdWdU3H6+X5vKrzvTGdGmBs2re9w2Ub2cncdXcbvpmNCbHIMlGS2/ZXV4LdqO28AzCTVY2XEOzr8OgIlNoPMP+nCyt3PtAmydCJsnwLUM8I9hQ82PeXatHYFujizo8xgHdmxBuVXRT1QaDNWHgT0YBweW630Ptn4HlmXAvz6hgU1Y/HQ9ui26SLeJmxnbNYwWNe4xgo6mEf/bLII2jKKtVRqFTsFQ7VXUngUE/PEyL9u783Kdnlzu0ION5+xYd+gsaw+e4/d9pwFuXJXzyM83yw7FQgghzJfZJfMtanhic3Y/ld3vkMCAniCGPg1BzWDVR7B5ApZJC/F84lM8q7f9ZwJZWKjXuF5P3o9ugoJcsLCBitFQuxsENQf3qveMz8rCwGP+Ljzm70Id65PUjoxmY0o43+6qT/vkd2iytT9fbOzEUqeunL+aT31vGHzyTUjbAPWHQuz7d62xbl3Ti4lrU/nst4O0eu1xbJ0r3nhtY8o5nv9xO3Y2Fsx9od59N5W4J4MFdJgEMzvh+vtQfmk/g15/OvLCjO042FhyNbeAN6PseCH1TQx5udDr13/us3oD9eFEN40DJ1+oP+Sem1U5mXxcdiH5tuMwHCnkXK0BuD4xHOxcoOkH+hWTdZ/rNdCVm+odkX3Ci/eZ8nPgQhrZZ5JJS04i88R+XDL34pudjA25KCBXs2NXYQC7tJbsKqyEjzpHt+OrCEx/nqtL3uRi8NO4NnoRa/d71D6fTqJw6eskWNTihaONGdgokFeaBd99dCBre2gzVm+mZVcea2s7GhVqpKxPZcyKgywcu5lP2tfkiZA7JKuulSnsE8ep8a0YmfUfUht9jZ/LnftKONtb82nHUDqF+/Luoj08P307sVXd+U/RvAegd6BduvskHy7Zy9Ds8VSzOEpWp9m0CNH3+fjudWgzbj0DNzgzo/9qLOZ0gxkdocVIqPv8X7+/K2dg03jYNllvIhTUAi3mNb477Mqny/cTVcmF73tFUNbWigO3BurgDnV66bfcq/p8E9d/vyvexhtY7eDJGvsQfplVlcwWnencsPY/P7CmQcoqLi39DxEXdnPSypvsVhOwDXtGP96bvAcpq/QY13+B4/ovaBHUnBYR/aBNLGkXsll76Jx+8r4zncCyGkPv/G0KIYQQRmd2yfx9KeMMrT/Xk/Ffh+rtlCs300e/sSoDKWv0wj91DWSd1d/jXkMfbz2wiZ7IF6Nt992Us7OmVU0vWtVsj5Ydy5UFg3n90Dye0FKZWqYdn+Z9j+H4GegwUT8BuQeDQTGsZVW6T9rCjM1p9I+pBMDinem8PncnFcrbMa1vJD7lHizuO7KyhS4z4YcncVrclzndFvLaRi8uXsvlw0bOBP7aWU/Mei0Gz5Dbr6PZR3rTpZXv682DQjvffrn8XD1R/3MUllfPc9K1IYMvdePMQQ8WN7en/PV4ol7Uk7ptk/R21hOb6P0JGr+tN0G5dhEuHNY7Fhf91TIOk3cuFauskyg0bIEqQJZmS6plJVbZP0mGUw2y3Gph7RaIp5Mddcva0qasDeev5LLswBAuJP1O5PmFNE2ajOXeieyxDed0lR6csfT7x3j4hdmXyZzWjdz8MrxvPYTp/esRHXgfV03K/TXBkoVB8VzDQBpVcefVuYm8MGM7HcJ8GNGmBk5l/tlU7MttV/nx8tusdP+aamtfAmdN/03cRYS/C0tebsDUDYf5YuUhmn3xJ0Nig2lW3YMPf93L2oNnGei6g255q6H+UOxDWt54b7CHIx+1DeGN+bsYm+DCK/1+g5+fg7i34EySftK65Tu9Rj0/R79i0+BVCjxq8tGve/lh435ah3rx2dO1sLEsRgdaazsIbqHfAC4eg9Q1GFJW0yRlDbFWv1O4ajyntlTBI6wVKrCJ3jzr2BZY8wkc3cRlzZUfHYfy7MBh2Nrd9NsxGPRKgaBmcPEobP8BEn7UrwqUq0DF8D70DOtJz6gI8goKWfb7n/eOVwghhDCif3cyf51vBAz4A7ZNhNUfw7gIKMzXX7Nz1S//B8ZCpUZQ1qvUwlC2ZXHsNhW2P07I8rf4rGA7OHhC3+XFr0kG6ld2pWGwG+PWJNM5wo958cf4eOk+Iv1d+L5XOOXsSnnUDVsn6PEzTG6O7dwujO+7Amy9YWoruJqhd3D1vk0t6HUGA7T/Vq+ZXfSiXst684g/mgZ7F+lDc144rDehaf4RKQcv8UHl2nT+dhMDZyYwo3/dv2q1re31Wv6IvrDlW73d9bcNwLYcZF/82+YzLZw5XOBGSkEljmpR5Jf1x92/KlWr1SK0SmVqWltS8y4f39fZTh8etGkwl7MHsHHPXvLjp1Hz9CJCdr5CuubCxMTmnKn8DGE1qlHFw55T056lXlYaX3r/l5k9njLKyCjBHo4sHFifr1cnM35NMptSzzO6UygxQX+NdLR890nGrjpE5/BquLaJgzk99H1+NQOiB911/VYWBp5rGMiTod58sDiJUXH7GRW3HwcbSz5vYk/7+AngF6U3b7pF5wg/NqdmMHb1ISIDXKj/zEw9cV43Rk+GDZYQ+ow+qpJrENl5BbwyK4Hle04xICaA4S2rlXxUnXJ+N2rtVWEB+ccTWL10Nk4n1+O2/iss1n+uX3UryCGnjAcjC/qy0+0ppg2IwfE2J0N/rbeCfuXs8WGwfwlsmwKrPtDb71dvi1VEP5xkwBshhBAP2f9GMoA2EokAAA5LSURBVA/6zKZRL0L1trBxHDi46bXvHjX15PJhUQoi+ugnGDtm6LWUJTiBeOuJKrT+ej0dJ2wk+cwVWoZ48sUztW/MqFrqHNyh50K9acv09mDtAJdP6c/5FuPExNIGusyAKS31BLPPcr0mP20j/PYenIgH9+rQfb7edEYpOPgHob7l+LRjTV6Zs5MPliTxUuNbJ46yhFqDUFV6Ypc4hctn09h7rTwbMxzZfNGJo5o7do7liKniSsMgN7pXdsXNseTjqzvaWtEwohZEfA4FozmXsIhrq7/iuWuzyTswj9/2hhOneTHIchW7ggbyavf+Ru0oaWVh4NVmwcRW1Wvpe07eSq96FRnWsipHM67y2rydhFUox8ftQ1CWFtBtLvw8AH57R2+fbmhwz234lCvD970i+H3vaTamnOf5aC885j6ld77tNBksbp8Af9SuBjuPX2TI7ESWDWmAe+x7+ig7x+MhcoCeHKNPADXgx3i2Hsng3Ser3bjaZBQGCywrPEazFyIYuyqZfr8n0s/3BC/5p5OuPGi7uTJe5Z35qV/Uba9q3JalNYR01G9n9ut9XXb+BLvnUdMlHBrfoW+AEEIIUQr+d5L568p6wxMjH3UUevOPlqNK/PYa3k60q+3Dwh0neDban/daV8eipDWZJeUSAD0W/FUj32M+VKhb/PeXcdbfM6kpzOys1+YfWAaOXtBmnN4U5Db9B9qH+bI3PZOJ6w4zY/PRu2ygFlALG0sDkQEudKjnRkywK1U8HEtn5BELS1wf68SeLFcCa/phsW0KLXbMwDJnK1d9GxDa7eNSG0azll85lg6OYXTcAaZsOMzag2fJL9RwtLXkux7hfzVXsbSBTlP1ZmfrPqOBxXg4EgE+YfpION51wNn/tnE2re5B0+oe+qy1p3frk445+d4xJjtrS74paj8/5KdEZvSvi0X1tvoJdZETF6/x7JStpJ2/ytddw3iqlrexdw2gd/Ad0jQITycb3l64hxX5dTiacRUf5zLM6F+35FdK3KtCq9HQdATsns/Zg8l68y8hhBDiIfnfS+b/RT5uF0LncF/qBZZ/dMPiedaEAauhIA88qt//+5189dr3qS3h8Dq9w2HUwHtOaDWsZTXqVHDm0rW8uy7n41yGx/xdHt4Vi+vKB2J44hMMse9CyhrsKkY/2ARKxWBrZcH7T1WnWXUPXp+3k7OXc5jzfBTuZW8ZbcdgAU+NhUqNOb1xLj75Z/Q27Ncn4Crj/Fdi7x2mD3latijJ3j1f78dQfygEN79nTMEejnzYNoQ35+/i69WHGNo0+MZr+05m8uzUrVzNLWBa30jqBZZ+GvzMYxWKxqLfgZeTLTP718X1QWe+Bb2ZV3hvTl3+g3t3kxdCCCGMR5J5M2ZvY2m8oScfhGvQg73fMwQGbtY7G9u5FOstFgZFy5ql17/BaKzKQNVWD3WT9QLLs/LVhmRk5eLrfIeTIqUgpAOHzrng06iR3tn4zE2Tj6UnwvovQCvQl3fw1BP7I+vu2E7+TjqH+7I59TxfrTpEpL8L0ZVdb4y8ZG9jyfwXoqnieZfRqYysSVUPVr/+OA42ljjeaW4JIYQQwkxIMi9Mg5MRJrYSN9hZW2JnfR8/b0trvZmTd229EzHoQz6e3lOU3BfNNlvG5a7t5G9HKcXH7ULYdfwSg2cn8nKTyny8dC8Brvb80CcS79IaeekuvJwe/jaFEEKI0iDJvBDi9qztwC9Svz0gO2tLxnerQ9vx6xmxOIm6AfoY8sXudCqEEEKI25JkXgjxUFTxdGRslzC2HcngteZVHn4/BiGEEOJfSJJ5IcRD07yGJ81r3GG2WiGEEELct4c4wLoQQgghhBDCmCSZF0IIIYQQwkxJMi+EEEIIIYSZkmReCCGEEEIIMyXJvBBCCCGEEGZKknkhhBBCCCHMlCTzQgghhBBCmClJ5oUQQgghhDBTkswLIYQQQghhpiSZF0IIIYQQwkxJMi+EEEIIIYSZkmReCCGEEEIIMyXJvBBCCCGEEGZKknkhhBBCCCHMlCTzQgghhBBCmClJ5oUQQgghhDBTkswLIYQQQghhpiSZF0IIIYQQwkxJMi+EEEIIIYSZkmReCCGEEEIIM1WsZF4p9YRS6oBSKlkpNew2r9sopeYUvb5FKeVv7ECFEEKYDikXhBDCNNwzmVdKWQDjgZZAdaCrUqr6LYv1Ay5omlYZ+AIYZexAhRBCmAYpF4QQwnQUp2Y+EkjWNC1V07RcYDbQ9pZl2gLTiu7PB2KVUsp4YQohhDAhUi4IIYSJsCzGMj7AsZseHwfq3mkZTdPylVKXgPLAOWMEKYQQwqSYTLkwrns/8gvySfx2qjFXW6rMJVaJ07gkTuMylzgtLCxp1KhRqW6jOMm80SilngOeA/Dw8OCPP/4o0XquXLlS4vc+TBKncUmcxmcusUqc/14PWi5opRCTEEIYjaaVfrmgadpdb0A9YMVNj4cDw29ZZgVQr+i+JXrNi7rbesPDw7WSWrNmTYnf+zBJnMYlcRqfucT6vxAnEK/d4/+xqdxMrVwwl+ND08wnVonTuCRO4zKXODWt5LHeT5lQnDbz24AgpVSAUsoa6AIsvmWZxUDvovudgNVFgQghhPj3kXJBCCFMxD2b2Wh6W8dB6LUsFsAUTdOSlFIfop81LAYmA9OVUslABvo/diGEEP9CUi4IIYTpKFabeU3TlgHLbnnu/ZvuZwOdjRuaEEIIUyXlghBCmAaZAVYIIYQQQggzJcm8EEIIIYQQZkqSeSGEEEIIIcyUJPNCCCGEEEKYKUnmhRBCCCGEMFOSzAshhBBCCGGmJJkXQgghhBDCTKlHNSGfUuoskFbCt7uiTw1u6iRO45I4jc9cYv1fiLOipmluxgzG3DxAuWAuxweYT6wSp3FJnMZlLnFCyWMtdpnwyJL5B6GUitc0LeJRx3EvEqdxSZzGZy6xSpzibsxpv5tLrBKncUmcxmUuccLDiVWa2QghhBBCCGGmJJkXQgghhBDCTJlrMv/9ow6gmCRO45I4jc9cYpU4xd2Y0343l1glTuOSOI3LXOKEhxCrWbaZF0IIIYQQQphvzbwQQgghhBD/80w6mVdK2SqltiqldiqlkpRSHxQ9H6CU2qKUSlZKzVFKWT/qWAGUUhZKqR1KqV+LHptqnEeUUruVUolKqfii51yUUiuVUoeK/jqbQJzllFLzlVL7lVL7lFL1TC1OpVSVov14/ZaplBpqanEWxfpK0e9oj1Lqp6Lfl8kdo0qpIUUxJimlhhY9ZxL7Uyk1RSl1Rim156bnbhub0o0t2re7lFJ1HkXM/zZSLpRKjFImGDdOKReMH6dJlgumUiaYdDIP5ABNNE2rBdQGnlBKRQGjgC80TasMXAD6PcIYbzYE2HfTY1ONE6Cxpmm1bxouaRiwStO0IGBV0eNH7SsgTtO0qkAt9H1rUnFqmnagaD/WBsKBq8BCTCxOpZQPMBiI0DQtBLAAumBix6hSKgQYAESif+etlVKVMZ39+QPwxC3P3Sm2lkBQ0e05YMJDivHfTsqF0iFlgpFIuWBcJl4u/IAplAmappnFDbADEoC66IPvWxY9Xw9YYQLx+RZ9aU2AXwFlinEWxXIEcL3luQOAV9F9L+DAI47RCThMUb8OU43zltiaAxtMMU7ABzgGuACWRcdoC1M7RoHOwOSbHr8HvGlK+xPwB/bc9Pi2sQHfAV1vt5zcjPZdSLlgnDilTCi9uKVcePA4TbpcMIUywdRr5q9fokwEzgArgRTgoqZp+UWLHEc/IB+1L9EPrsKix+UxzTgBNOA3pdR2pdRzRc95aJp2suj+KcDj0YR2QwBwFphadIl6klLKHtOL82ZdgJ+K7ptUnJqmnQDGAEeBk8AlYDumd4zuAWKUUuWVUnZAK8APE9uft7hTbNcLyutMYf/+K0i5YHRSJpQeKRcenLmVCw+9TDD5ZF7TtAJNv1Tli36JpeojDukflFKtgTOapm1/1LEUUwNN0+qgX/J5SSnV8OYXNf2U8VEPc2QJ1AEmaJoWBmRxyyU0E4kTgKI2hW2Aebe+ZgpxFrXZa4teIHoD9vzz0uAjp2naPvRLvL8BcUAiUHDLMo98f96JKcf2byLlgtFJmVAKpFwwDnMuFx5WXCafzF+nadpFYA36JZ9ySinLopd8gROPLDBdfaCNUuoIMBv9kupXmF6cwI2zcTRNO4Peji8SOK2U8gIo+nvm0UUI6GesxzVN21L0eD76P3JTi/O6lkCCpmmnix6bWpxNgcOapp3VNC0P+Bn9uDW5Y1TTtMmapoVrmtYQvb3mQUxvf97sTrGdQK89us4k9u+/iZQLxiFlQqmRcsFIzKxceOhlgkkn80opN6VUuaL7ZYBm6B1e1gCdihbrDfzyaCLUaZo2XNM0X03T/NEvqa3WNK07JhYngFLKXinleP0+enu+PcBi9BjBBGLVNO0UcEwpVaXoqVhgLyYW50268telVDC9OI8CUUopO6WU4q/9aYrHqHvR3wpAB2AWprc/b3an2BYDvYpGMIgCLt106VWUkJQLxiVlQqmScsFIzKxcePhlQml0BjDWDQgFdgC70P+5vF/0fCVgK5CMfvnK5lHHelPMjYBfTTXOoph2Ft2SgHeKni+P3lHrEPA74GICsdYG4ou+/0WAs4nGaQ+cB5xues4U4/wA2F/0W5oO2JjoMboOvUDZCcSa0v5EL5hPAnnoNYX97hQbemfH8ejtuXejjxjxSPftv+Em5YLRY5MyoXRilXLBuHGaZLlgKmWCzAArhBBCCCGEmTLpZjZCCCGEEEKIO5NkXgghhBBCCDMlybwQQgghhBBmSpJ5IYQQQgghzJQk80IIIYQQQpgpSeaFEEIIIYQwU5LMCyGEEEIIYaYkmRdCCCGEEMJM/T/7973bgu50mQAAAABJRU5ErkJggg==\n",
          "text/plain": "<Figure size 921.6x345.6 with 2 Axes>"
         },
         "metadata": {},
         "output_type": "display_data"
        }
       ]
      }
     },
     "51770988366c4500af8671193150325e": {
      "model_module": "@jupyter-widgets/controls",
      "model_module_version": "1.4.0",
      "model_name": "DropdownModel",
      "state": {
       "_options_labels": [
        "dt",
        "logit",
        "linear_svc"
       ],
       "description": "Model",
       "index": 0,
       "layout": "IPY_MODEL_74cc3ff4608e41d6ae740bc58d45e223",
       "style": "IPY_MODEL_b1f89c56701b48ad89531c0c40506f13"
      }
     },
     "51df9916fbc44784abb1917f82d36bc6": {
      "model_module": "@jupyter-widgets/base",
      "model_module_version": "1.1.0",
      "model_name": "LayoutModel",
      "state": {}
     },
     "59eb49eec9b84a8b8dc730e285dcd639": {
      "model_module": "@jupyter-widgets/controls",
      "model_module_version": "1.4.0",
      "model_name": "DropdownModel",
      "state": {
       "_options_labels": [
        "segment",
        "covertype",
        "digits",
        "fall_detection",
        "mnist",
        "pen_digits",
        "satellite",
        "vowel"
       ],
       "description": "Dataset:",
       "index": 0,
       "layout": "IPY_MODEL_cc9148e00e1e4ce7b9b51c31457aa953",
       "style": "IPY_MODEL_28e25ab54ef64637ad2c6064ff8ae106"
      }
     },
     "5ecd310166b347f7a7b57bd94c219451": {
      "model_module": "@jupyter-widgets/base",
      "model_module_version": "1.1.0",
      "model_name": "LayoutModel",
      "state": {}
     },
     "6ac7004fdab94daabbdf0df3ede28cda": {
      "model_module": "@jupyter-widgets/controls",
      "model_module_version": "1.4.0",
      "model_name": "DescriptionStyleModel",
      "state": {
       "description_width": ""
      }
     },
     "6acc9dc2e89743848f7e5a682b7f21a9": {
      "model_module": "@jupyter-widgets/controls",
      "model_module_version": "1.4.0",
      "model_name": "IntSliderModel",
      "state": {
       "description": "N. estim.",
       "disabled": true,
       "layout": "IPY_MODEL_1e0ffe72827e4e1dacbe795c26e9e74a",
       "max": 200,
       "min": 2,
       "style": "IPY_MODEL_3813c50237be496db70a738b0b954cb5",
       "value": 30
      }
     },
     "6aec8137c28c40f4817a595e14c0d6e6": {
      "model_module": "@jupyter-widgets/base",
      "model_module_version": "1.1.0",
      "model_name": "LayoutModel",
      "state": {}
     },
     "6bc0394eebe34ba5a39652a6110bba41": {
      "model_module": "@jupyter-widgets/controls",
      "model_module_version": "1.4.0",
      "model_name": "DropdownModel",
      "state": {
       "_options_labels": [
        "rbf",
        "nystroem"
       ],
       "description": "Sampler",
       "index": 1,
       "layout": "IPY_MODEL_d33c5c3b7b9c4bc381720aea0161b9c9",
       "style": "IPY_MODEL_088e45a3d9fb43c88c1ffeb92ffa14ad"
      }
     },
     "6e9c8d1062b04f7598fce2b141aa120e": {
      "model_module": "@jupyter-widgets/base",
      "model_module_version": "1.1.0",
      "model_name": "LayoutModel",
      "state": {}
     },
     "6ec02278f0314f0393a5d5e00caf78e6": {
      "model_module": "@jupyter-widgets/controls",
      "model_module_version": "1.4.0",
      "model_name": "DescriptionStyleModel",
      "state": {
       "description_width": ""
      }
     },
     "6f21e962b85d4b0e966f0277cbce6c20": {
      "model_module": "@jupyter-widgets/controls",
      "model_module_version": "1.4.0",
      "model_name": "CheckboxModel",
      "state": {
       "description": "Perform PCA?",
       "disabled": false,
       "layout": "IPY_MODEL_8c1dc89d353f40369a258915688bdaa4",
       "style": "IPY_MODEL_6ec02278f0314f0393a5d5e00caf78e6",
       "value": false
      }
     },
     "7226d28ef2f447c59c86223ffbfa8d22": {
      "model_module": "@jupyter-widgets/controls",
      "model_module_version": "1.4.0",
      "model_name": "VBoxModel",
      "state": {
       "children": [
        "IPY_MODEL_0c27361fffae4d7ea596a8714e8f53d3",
        "IPY_MODEL_e2153074c78243fb8ff83ff8c7027b78",
        "IPY_MODEL_92ec2ad52a5a43fda1c996ec33e038be",
        "IPY_MODEL_47784d5f12a242cd8cae27d4c69746f9",
        "IPY_MODEL_9b2bef26be554218bd3d928fb60a47b3",
        "IPY_MODEL_6acc9dc2e89743848f7e5a682b7f21a9",
        "IPY_MODEL_39637ffd94564c7385a8f1045e0d651b"
       ],
       "layout": "IPY_MODEL_8f0d348e043a4d6899f004a4cfa39e34"
      }
     },
     "72298d3e83d24d87985e5c7b0b2295ef": {
      "model_module": "@jupyter-widgets/controls",
      "model_module_version": "1.4.0",
      "model_name": "DropdownModel",
      "state": {
       "_options_labels": [
        "None",
        "black",
        "grey"
       ],
       "description": "Bagging",
       "index": 1,
       "layout": "IPY_MODEL_4003c05670a9489790f73d34f7001f71",
       "style": "IPY_MODEL_ae12e140aeb14b59ae01235ad194ff37"
      }
     },
     "72cef463f851457cbea04a3e3c1dc472": {
      "model_module": "@jupyter-widgets/base",
      "model_module_version": "1.1.0",
      "model_name": "LayoutModel",
      "state": {}
     },
     "73272c1d5c5c488298eeb578a0fe666a": {
      "model_module": "@jupyter-widgets/base",
      "model_module_version": "1.1.0",
      "model_name": "LayoutModel",
      "state": {}
     },
     "74cc3ff4608e41d6ae740bc58d45e223": {
      "model_module": "@jupyter-widgets/base",
      "model_module_version": "1.1.0",
      "model_name": "LayoutModel",
      "state": {}
     },
     "77844d0a83434f67934c5b430e01a518": {
      "model_module": "@jupyter-widgets/controls",
      "model_module_version": "1.4.0",
      "model_name": "DescriptionStyleModel",
      "state": {
       "description_width": ""
      }
     },
     "7789dee7ae1042abaabc8d578fa1b92e": {
      "model_module": "@jupyter-widgets/base",
      "model_module_version": "1.1.0",
      "model_name": "LayoutModel",
      "state": {}
     },
     "77b75bb33bd947e091bb14d387e6bd9e": {
      "model_module": "@jupyter-widgets/controls",
      "model_module_version": "1.4.0",
      "model_name": "DescriptionStyleModel",
      "state": {
       "description_width": ""
      }
     },
     "77e5c600a5f542e3a4a286939c2cf48c": {
      "model_module": "@jupyter-widgets/base",
      "model_module_version": "1.1.0",
      "model_name": "LayoutModel",
      "state": {}
     },
     "79964830bc2a417cbf4a2549d302d9cf": {
      "model_module": "@jupyter-widgets/base",
      "model_module_version": "1.1.0",
      "model_name": "LayoutModel",
      "state": {}
     },
     "7a4fe50ecc554d119da188c7ede8ee61": {
      "model_module": "@jupyter-widgets/controls",
      "model_module_version": "1.4.0",
      "model_name": "DescriptionStyleModel",
      "state": {
       "description_width": ""
      }
     },
     "7d61c1b2aa684e49bd319f9c9fa03471": {
      "model_module": "@jupyter-widgets/controls",
      "model_module_version": "1.4.0",
      "model_name": "DescriptionStyleModel",
      "state": {
       "description_width": ""
      }
     },
     "7e97f01d940942b2920dffc1969ddf72": {
      "model_module": "@jupyter-widgets/controls",
      "model_module_version": "1.4.0",
      "model_name": "DropdownModel",
      "state": {
       "_options_labels": [
        "segment",
        "covertype",
        "digits",
        "fall_detection",
        "mnist",
        "pen_digits",
        "satellite",
        "vowel"
       ],
       "description": "Dataset:",
       "index": 0,
       "layout": "IPY_MODEL_a0cdf6a01ea84ec5bdc18126d9f03700",
       "style": "IPY_MODEL_7a4fe50ecc554d119da188c7ede8ee61"
      }
     },
     "86a46e70678049c8a0bf5ef691a79d23": {
      "model_module": "@jupyter-widgets/controls",
      "model_module_version": "1.4.0",
      "model_name": "VBoxModel",
      "state": {
       "children": [
        "IPY_MODEL_7226d28ef2f447c59c86223ffbfa8d22",
        "IPY_MODEL_239900b4f4ca4b49af144b5bb1622152"
       ],
       "layout": "IPY_MODEL_77e5c600a5f542e3a4a286939c2cf48c"
      }
     },
     "879cc49163d8457585650fa6e00843b9": {
      "model_module": "@jupyter-widgets/base",
      "model_module_version": "1.1.0",
      "model_name": "LayoutModel",
      "state": {}
     },
     "87e95c22f5994f84bc840703d7e7d0df": {
      "model_module": "@jupyter-widgets/base",
      "model_module_version": "1.1.0",
      "model_name": "LayoutModel",
      "state": {}
     },
     "8aafb6d9f0684f07bada8f58f3a97114": {
      "model_module": "@jupyter-widgets/controls",
      "model_module_version": "1.4.0",
      "model_name": "IntSliderModel",
      "state": {
       "description": "N. estim.",
       "layout": "IPY_MODEL_969677bdfc9c4e2a9d221da04b8b8e45",
       "max": 200,
       "min": 2,
       "style": "IPY_MODEL_2cd4ef9b1bac409ba3cd2f51372edb25",
       "value": 96
      }
     },
     "8b827facb9954175b2da99e42727b119": {
      "model_module": "@jupyter-widgets/output",
      "model_module_version": "1.0.0",
      "model_name": "OutputModel",
      "state": {
       "layout": "IPY_MODEL_e0bae64ccc0f4f8badebf46886447e94",
       "outputs": [
        {
         "data": {
          "text/markdown": "\n- Model: **dt**\n- Sampler: **rbf**\n- Bagging: **none**\n- N. estim.: **None**\n- PCA: **False**\n        ",
          "text/plain": "<IPython.core.display.Markdown object>"
         },
         "metadata": {},
         "output_type": "display_data"
        },
        {
         "data": {
          "image/png": "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\n",
          "text/plain": "<Figure size 921.6x345.6 with 2 Axes>"
         },
         "metadata": {},
         "output_type": "display_data"
        }
       ]
      }
     },
     "8c1dc89d353f40369a258915688bdaa4": {
      "model_module": "@jupyter-widgets/base",
      "model_module_version": "1.1.0",
      "model_name": "LayoutModel",
      "state": {}
     },
     "8f0d348e043a4d6899f004a4cfa39e34": {
      "model_module": "@jupyter-widgets/base",
      "model_module_version": "1.1.0",
      "model_name": "LayoutModel",
      "state": {}
     },
     "92ec2ad52a5a43fda1c996ec33e038be": {
      "model_module": "@jupyter-widgets/controls",
      "model_module_version": "1.4.0",
      "model_name": "DropdownModel",
      "state": {
       "_options_labels": [
        "rbf",
        "nystroem"
       ],
       "description": "Sampler",
       "index": 0,
       "layout": "IPY_MODEL_51df9916fbc44784abb1917f82d36bc6",
       "style": "IPY_MODEL_04c00353e4154200b9317f6f5ea2a0d0"
      }
     },
     "9482c3fa9b61429aa073436c14be34a3": {
      "model_module": "@jupyter-widgets/controls",
      "model_module_version": "1.4.0",
      "model_name": "VBoxModel",
      "state": {
       "children": [
        "IPY_MODEL_b3588760db8645b1a6d0399295b07a69",
        "IPY_MODEL_178e6817d36e4984a03cf29ea9b03bd1"
       ],
       "layout": "IPY_MODEL_fcae453d755d43748a8f276397133c99"
      }
     },
     "969677bdfc9c4e2a9d221da04b8b8e45": {
      "model_module": "@jupyter-widgets/base",
      "model_module_version": "1.1.0",
      "model_name": "LayoutModel",
      "state": {
       "visibility": "visible"
      }
     },
     "9751abfe559b4cbd89d021dbe631065e": {
      "model_module": "@jupyter-widgets/controls",
      "model_module_version": "1.4.0",
      "model_name": "IntRangeSliderModel",
      "state": {
       "_model_name": "IntRangeSliderModel",
       "_view_name": "IntRangeSliderView",
       "description": "Features",
       "layout": "IPY_MODEL_ffe51b4465954f31868a9c848548f59b",
       "max": 400,
       "min": 30,
       "step": 10,
       "style": "IPY_MODEL_b4154f99be434cc2923c7545483c9d1c",
       "value": [
        30,
        120
       ]
      }
     },
     "979a76ed1bdd44859e614327f0a21c5a": {
      "model_module": "@jupyter-widgets/base",
      "model_module_version": "1.1.0",
      "model_name": "LayoutModel",
      "state": {}
     },
     "99336a930522494d958c4b6d464bbdfa": {
      "model_module": "@jupyter-widgets/controls",
      "model_module_version": "1.4.0",
      "model_name": "SliderStyleModel",
      "state": {
       "description_width": ""
      }
     },
     "9b2bef26be554218bd3d928fb60a47b3": {
      "model_module": "@jupyter-widgets/controls",
      "model_module_version": "1.4.0",
      "model_name": "DropdownModel",
      "state": {
       "_options_labels": [
        "None",
        "black",
        "grey"
       ],
       "description": "Bagging",
       "index": 0,
       "layout": "IPY_MODEL_6e9c8d1062b04f7598fce2b141aa120e",
       "style": "IPY_MODEL_eb30a5a42aba4ad1b48ce1af27db8b17"
      }
     },
     "9f4781bca927439e85e4ceb6bd3bf4bd": {
      "model_module": "@jupyter-widgets/controls",
      "model_module_version": "1.4.0",
      "model_name": "IntSliderModel",
      "state": {
       "description": "N. estim.",
       "disabled": true,
       "layout": "IPY_MODEL_506e371a47dc4006bef8b983676d7010",
       "max": 200,
       "min": 2,
       "style": "IPY_MODEL_07f2f8284c61474ba879ed2a96e41f11",
       "value": 30
      }
     },
     "a0cdf6a01ea84ec5bdc18126d9f03700": {
      "model_module": "@jupyter-widgets/base",
      "model_module_version": "1.1.0",
      "model_name": "LayoutModel",
      "state": {}
     },
     "ad726ec2cbff488a94056ed880a5ff04": {
      "model_module": "@jupyter-widgets/base",
      "model_module_version": "1.1.0",
      "model_name": "LayoutModel",
      "state": {}
     },
     "ae12e140aeb14b59ae01235ad194ff37": {
      "model_module": "@jupyter-widgets/controls",
      "model_module_version": "1.4.0",
      "model_name": "DescriptionStyleModel",
      "state": {
       "description_width": ""
      }
     },
     "b1f89c56701b48ad89531c0c40506f13": {
      "model_module": "@jupyter-widgets/controls",
      "model_module_version": "1.4.0",
      "model_name": "DescriptionStyleModel",
      "state": {
       "description_width": ""
      }
     },
     "b22f9673614b49f4a2febc308b6f8379": {
      "model_module": "@jupyter-widgets/base",
      "model_module_version": "1.1.0",
      "model_name": "LayoutModel",
      "state": {}
     },
     "b3588760db8645b1a6d0399295b07a69": {
      "model_module": "@jupyter-widgets/controls",
      "model_module_version": "1.4.0",
      "model_name": "VBoxModel",
      "state": {
       "children": [
        "IPY_MODEL_e97243c5fb53490da91a25ba97c105fa",
        "IPY_MODEL_dcaec791ffab4d3392f09418d8234eda",
        "IPY_MODEL_f64877930f0e438e8994b39fe0229b4f",
        "IPY_MODEL_decc6f2a3e3346fdb03ab03ada23318e",
        "IPY_MODEL_ef4b7069b4e54827b40d4ec48fc5e267",
        "IPY_MODEL_9f4781bca927439e85e4ceb6bd3bf4bd",
        "IPY_MODEL_4be370f24c1b4a56b484e701c152789b"
       ],
       "layout": "IPY_MODEL_72cef463f851457cbea04a3e3c1dc472"
      }
     },
     "b4154f99be434cc2923c7545483c9d1c": {
      "model_module": "@jupyter-widgets/controls",
      "model_module_version": "1.4.0",
      "model_name": "SliderStyleModel",
      "state": {
       "description_width": ""
      }
     },
     "b68569d0020041e6a7c851a1cbeb238f": {
      "model_module": "@jupyter-widgets/controls",
      "model_module_version": "1.4.0",
      "model_name": "DescriptionStyleModel",
      "state": {
       "description_width": ""
      }
     },
     "b7256e439f7c4a7d8facba3a40313c6f": {
      "model_module": "@jupyter-widgets/controls",
      "model_module_version": "1.4.0",
      "model_name": "IntRangeSliderModel",
      "state": {
       "_model_name": "IntRangeSliderModel",
       "_view_name": "IntRangeSliderView",
       "description": "Features",
       "layout": "IPY_MODEL_979a76ed1bdd44859e614327f0a21c5a",
       "max": 400,
       "min": 30,
       "step": 10,
       "style": "IPY_MODEL_0eb4f466e34a4c15ba66c4d2a52e744d",
       "value": [
        30,
        100
       ]
      }
     },
     "b756edcb596d44f0bd0022b1f7aa1569": {
      "model_module": "@jupyter-widgets/controls",
      "model_module_version": "1.4.0",
      "model_name": "ButtonStyleModel",
      "state": {}
     },
     "b94d23a34cbe4fe3a58bee5e1afac78a": {
      "model_module": "@jupyter-widgets/base",
      "model_module_version": "1.1.0",
      "model_name": "LayoutModel",
      "state": {}
     },
     "b9d65a330bb94b2897404a580dc7ca19": {
      "model_module": "@jupyter-widgets/controls",
      "model_module_version": "1.4.0",
      "model_name": "CheckboxModel",
      "state": {
       "description": "Perform PCA?",
       "disabled": false,
       "layout": "IPY_MODEL_f61c97cbe17f4416ba2c5d2f6613a790",
       "style": "IPY_MODEL_08ffabe7c4da4ba39cb0952164406ff4",
       "value": false
      }
     },
     "bdf1d29299fc47d29e569cfbb5782921": {
      "model_module": "@jupyter-widgets/base",
      "model_module_version": "1.1.0",
      "model_name": "LayoutModel",
      "state": {}
     },
     "bf81ab0c97064e8dbc43e6dbf3c68499": {
      "model_module": "@jupyter-widgets/controls",
      "model_module_version": "1.4.0",
      "model_name": "DescriptionStyleModel",
      "state": {
       "description_width": ""
      }
     },
     "c7f7175332504726999aa5297411504c": {
      "model_module": "@jupyter-widgets/controls",
      "model_module_version": "1.4.0",
      "model_name": "ButtonStyleModel",
      "state": {}
     },
     "cab9cb80c4f94eafac8701aec59dfa5f": {
      "model_module": "@jupyter-widgets/base",
      "model_module_version": "1.1.0",
      "model_name": "LayoutModel",
      "state": {}
     },
     "cad03037c432485ea82e27a48235e08e": {
      "model_module": "@jupyter-widgets/controls",
      "model_module_version": "1.4.0",
      "model_name": "DescriptionStyleModel",
      "state": {
       "description_width": ""
      }
     },
     "cc9148e00e1e4ce7b9b51c31457aa953": {
      "model_module": "@jupyter-widgets/base",
      "model_module_version": "1.1.0",
      "model_name": "LayoutModel",
      "state": {}
     },
     "d065da9b8868427ba77115dd985d9b44": {
      "model_module": "@jupyter-widgets/controls",
      "model_module_version": "1.4.0",
      "model_name": "ButtonModel",
      "state": {
       "button_style": "info",
       "description": "Demo3",
       "layout": "IPY_MODEL_79964830bc2a417cbf4a2549d302d9cf",
       "style": "IPY_MODEL_3ec9954841fd461ab4b8f0f3e1cb647a"
      }
     },
     "d092093014a7438e83968372df30790c": {
      "model_module": "@jupyter-widgets/controls",
      "model_module_version": "1.4.0",
      "model_name": "IntSliderModel",
      "state": {
       "description": "N. estim.",
       "disabled": true,
       "layout": "IPY_MODEL_da34d98c0cdb4768a6f492b2f0911e80",
       "max": 200,
       "min": 2,
       "style": "IPY_MODEL_99336a930522494d958c4b6d464bbdfa",
       "value": 30
      }
     },
     "d0a4b74837ae42ccbf5fa33d4cbef1f9": {
      "model_module": "@jupyter-widgets/controls",
      "model_module_version": "1.4.0",
      "model_name": "VBoxModel",
      "state": {
       "children": [
        "IPY_MODEL_3304d92cfcd54b93a39c2b07ea836c7e",
        "IPY_MODEL_d065da9b8868427ba77115dd985d9b44"
       ],
       "layout": "IPY_MODEL_2616787d3de74094955d3ecfaec30b07"
      }
     },
     "d33c5c3b7b9c4bc381720aea0161b9c9": {
      "model_module": "@jupyter-widgets/base",
      "model_module_version": "1.1.0",
      "model_name": "LayoutModel",
      "state": {}
     },
     "d438be3d01c64848a347f33872910d32": {
      "model_module": "@jupyter-widgets/controls",
      "model_module_version": "1.4.0",
      "model_name": "VBoxModel",
      "state": {
       "children": [
        "IPY_MODEL_7e97f01d940942b2920dffc1969ddf72",
        "IPY_MODEL_51770988366c4500af8671193150325e",
        "IPY_MODEL_f9c7b0f64d0f4eea8185fa0d34d8ffa6",
        "IPY_MODEL_b7256e439f7c4a7d8facba3a40313c6f",
        "IPY_MODEL_d98be3bb9bd34bcfb92516bbf6bd3e11",
        "IPY_MODEL_d092093014a7438e83968372df30790c",
        "IPY_MODEL_b9d65a330bb94b2897404a580dc7ca19"
       ],
       "layout": "IPY_MODEL_6aec8137c28c40f4817a595e14c0d6e6"
      }
     },
     "d6f540c5472944f29dd68424aa425c7a": {
      "model_module": "@jupyter-widgets/base",
      "model_module_version": "1.1.0",
      "model_name": "LayoutModel",
      "state": {}
     },
     "d98be3bb9bd34bcfb92516bbf6bd3e11": {
      "model_module": "@jupyter-widgets/controls",
      "model_module_version": "1.4.0",
      "model_name": "DropdownModel",
      "state": {
       "_options_labels": [
        "None",
        "black",
        "grey"
       ],
       "description": "Bagging",
       "index": 0,
       "layout": "IPY_MODEL_f140fcd220274fc8959574150a66dfdb",
       "style": "IPY_MODEL_cad03037c432485ea82e27a48235e08e"
      }
     },
     "da34d98c0cdb4768a6f492b2f0911e80": {
      "model_module": "@jupyter-widgets/base",
      "model_module_version": "1.1.0",
      "model_name": "LayoutModel",
      "state": {
       "visibility": "hidden"
      }
     },
     "db3fa788bd234cc5b56767c262e0bfe9": {
      "model_module": "@jupyter-widgets/output",
      "model_module_version": "1.0.0",
      "model_name": "OutputModel",
      "state": {
       "layout": "IPY_MODEL_7789dee7ae1042abaabc8d578fa1b92e"
      }
     },
     "dcaec791ffab4d3392f09418d8234eda": {
      "model_module": "@jupyter-widgets/controls",
      "model_module_version": "1.4.0",
      "model_name": "DropdownModel",
      "state": {
       "_options_labels": [
        "dt",
        "logit",
        "linear_svc"
       ],
       "description": "Model",
       "index": 0,
       "layout": "IPY_MODEL_12314437e2ae4650a3756de35c9e2662",
       "style": "IPY_MODEL_6ac7004fdab94daabbdf0df3ede28cda"
      }
     },
     "decc6f2a3e3346fdb03ab03ada23318e": {
      "model_module": "@jupyter-widgets/controls",
      "model_module_version": "1.4.0",
      "model_name": "IntRangeSliderModel",
      "state": {
       "_model_name": "IntRangeSliderModel",
       "_view_name": "IntRangeSliderView",
       "description": "Features",
       "layout": "IPY_MODEL_87e95c22f5994f84bc840703d7e7d0df",
       "max": 400,
       "min": 30,
       "step": 10,
       "style": "IPY_MODEL_e8b1be6c499d487ea691b74f65e24ac8",
       "value": [
        30,
        100
       ]
      }
     },
     "e0bae64ccc0f4f8badebf46886447e94": {
      "model_module": "@jupyter-widgets/base",
      "model_module_version": "1.1.0",
      "model_name": "LayoutModel",
      "state": {}
     },
     "e14b9b3d61d244f8a968a31a5fa28ac2": {
      "model_module": "@jupyter-widgets/controls",
      "model_module_version": "1.4.0",
      "model_name": "DescriptionStyleModel",
      "state": {
       "description_width": ""
      }
     },
     "e2153074c78243fb8ff83ff8c7027b78": {
      "model_module": "@jupyter-widgets/controls",
      "model_module_version": "1.4.0",
      "model_name": "DropdownModel",
      "state": {
       "_options_labels": [
        "dt",
        "logit",
        "linear_svc"
       ],
       "description": "Model",
       "index": 0,
       "layout": "IPY_MODEL_b22f9673614b49f4a2febc308b6f8379",
       "style": "IPY_MODEL_b68569d0020041e6a7c851a1cbeb238f"
      }
     },
     "e3654cd0a82347f6b779b946f3548ad5": {
      "model_module": "@jupyter-widgets/controls",
      "model_module_version": "1.4.0",
      "model_name": "ButtonModel",
      "state": {
       "button_style": "info",
       "description": "Demo3",
       "layout": "IPY_MODEL_d6f540c5472944f29dd68424aa425c7a",
       "style": "IPY_MODEL_ef1eac5c84b94d429669ad4fc373d221"
      }
     },
     "e8b1be6c499d487ea691b74f65e24ac8": {
      "model_module": "@jupyter-widgets/controls",
      "model_module_version": "1.4.0",
      "model_name": "SliderStyleModel",
      "state": {
       "description_width": ""
      }
     },
     "e97243c5fb53490da91a25ba97c105fa": {
      "model_module": "@jupyter-widgets/controls",
      "model_module_version": "1.4.0",
      "model_name": "DropdownModel",
      "state": {
       "_options_labels": [
        "segment",
        "covertype",
        "digits",
        "fall_detection",
        "mnist",
        "pen_digits",
        "satellite",
        "vowel"
       ],
       "description": "Dataset:",
       "index": 0,
       "layout": "IPY_MODEL_34b3182a67a9427e910b4a1e1fee33ae",
       "style": "IPY_MODEL_7d61c1b2aa684e49bd319f9c9fa03471"
      }
     },
     "eb30a5a42aba4ad1b48ce1af27db8b17": {
      "model_module": "@jupyter-widgets/controls",
      "model_module_version": "1.4.0",
      "model_name": "DescriptionStyleModel",
      "state": {
       "description_width": ""
      }
     },
     "ed27493c8fe441748071f46c1ffc23b9": {
      "model_module": "@jupyter-widgets/output",
      "model_module_version": "1.0.0",
      "model_name": "OutputModel",
      "state": {
       "layout": "IPY_MODEL_4b71d356c1294ceba796c4194dc9eaba"
      }
     },
     "ef1eac5c84b94d429669ad4fc373d221": {
      "model_module": "@jupyter-widgets/controls",
      "model_module_version": "1.4.0",
      "model_name": "ButtonStyleModel",
      "state": {}
     },
     "ef4b7069b4e54827b40d4ec48fc5e267": {
      "model_module": "@jupyter-widgets/controls",
      "model_module_version": "1.4.0",
      "model_name": "DropdownModel",
      "state": {
       "_options_labels": [
        "None",
        "black",
        "grey"
       ],
       "description": "Bagging",
       "index": 0,
       "layout": "IPY_MODEL_b94d23a34cbe4fe3a58bee5e1afac78a",
       "style": "IPY_MODEL_77b75bb33bd947e091bb14d387e6bd9e"
      }
     },
     "f140fcd220274fc8959574150a66dfdb": {
      "model_module": "@jupyter-widgets/base",
      "model_module_version": "1.1.0",
      "model_name": "LayoutModel",
      "state": {}
     },
     "f61c97cbe17f4416ba2c5d2f6613a790": {
      "model_module": "@jupyter-widgets/base",
      "model_module_version": "1.1.0",
      "model_name": "LayoutModel",
      "state": {}
     },
     "f64877930f0e438e8994b39fe0229b4f": {
      "model_module": "@jupyter-widgets/controls",
      "model_module_version": "1.4.0",
      "model_name": "DropdownModel",
      "state": {
       "_options_labels": [
        "rbf",
        "nystroem"
       ],
       "description": "Sampler",
       "index": 0,
       "layout": "IPY_MODEL_1e6ce80ab6a2455db9abc17d9f619df9",
       "style": "IPY_MODEL_e14b9b3d61d244f8a968a31a5fa28ac2"
      }
     },
     "f9c7b0f64d0f4eea8185fa0d34d8ffa6": {
      "model_module": "@jupyter-widgets/controls",
      "model_module_version": "1.4.0",
      "model_name": "DropdownModel",
      "state": {
       "_options_labels": [
        "rbf",
        "nystroem"
       ],
       "description": "Sampler",
       "index": 0,
       "layout": "IPY_MODEL_bdf1d29299fc47d29e569cfbb5782921",
       "style": "IPY_MODEL_37be79e6fa16401896024b17ec594f76"
      }
     },
     "fcae453d755d43748a8f276397133c99": {
      "model_module": "@jupyter-widgets/base",
      "model_module_version": "1.1.0",
      "model_name": "LayoutModel",
      "state": {}
     },
     "fe4ec930402140719f8836eb0b2bc7a1": {
      "model_module": "@jupyter-widgets/base",
      "model_module_version": "1.1.0",
      "model_name": "LayoutModel",
      "state": {}
     },
     "ffe51b4465954f31868a9c848548f59b": {
      "model_module": "@jupyter-widgets/base",
      "model_module_version": "1.1.0",
      "model_name": "LayoutModel",
      "state": {}
     }
    },
    "version_major": 2,
    "version_minor": 0
   }
  }
 },
 "nbformat": 4,
 "nbformat_minor": 2
}
