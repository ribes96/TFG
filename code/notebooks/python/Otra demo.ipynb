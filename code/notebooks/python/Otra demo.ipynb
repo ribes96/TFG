{
 "cells": [
  {
   "cell_type": "code",
   "execution_count": 1,
   "metadata": {},
   "outputs": [],
   "source": [
    "%matplotlib inline"
   ]
  },
  {
   "cell_type": "code",
   "execution_count": 2,
   "metadata": {},
   "outputs": [
    {
     "data": {
      "application/javascript": [
       "IPython.OutputArea.prototype._should_scroll = function(lines) {\n",
       "    return false;\n",
       "}\n"
      ],
      "text/plain": [
       "<IPython.core.display.Javascript object>"
      ]
     },
     "metadata": {},
     "output_type": "display_data"
    }
   ],
   "source": [
    "%%javascript\n",
    "IPython.OutputArea.prototype._should_scroll = function(lines) {\n",
    "    return false;\n",
    "}"
   ]
  },
  {
   "cell_type": "code",
   "execution_count": 3,
   "metadata": {},
   "outputs": [],
   "source": [
    "from demo_utils.demo0 import Demo0\n",
    "from demo_utils.demo1 import Demo1\n",
    "from demo_utils.demo2 import Demo2\n",
    "from demo_utils.demo3 import Demo3\n",
    "from demo_utils.demo4 import Demo4"
   ]
  },
  {
   "cell_type": "code",
   "execution_count": 4,
   "metadata": {},
   "outputs": [],
   "source": [
    "d0 = Demo0()\n",
    "d1 = Demo1()\n",
    "d2 = Demo2()\n",
    "d3 = Demo3()\n",
    "d4 = Demo4()"
   ]
  },
  {
   "cell_type": "code",
   "execution_count": 5,
   "metadata": {},
   "outputs": [],
   "source": [
    "#display(d0)"
   ]
  },
  {
   "cell_type": "code",
   "execution_count": 6,
   "metadata": {
    "scrolled": true
   },
   "outputs": [],
   "source": [
    "#display(d1)"
   ]
  },
  {
   "cell_type": "code",
   "execution_count": 7,
   "metadata": {},
   "outputs": [],
   "source": [
    "#display(d2)"
   ]
  },
  {
   "cell_type": "code",
   "execution_count": 8,
   "metadata": {},
   "outputs": [],
   "source": [
    "#display(d3)"
   ]
  },
  {
   "cell_type": "code",
   "execution_count": 9,
   "metadata": {},
   "outputs": [],
   "source": [
    "#display(d4)"
   ]
  },
  {
   "cell_type": "code",
   "execution_count": null,
   "metadata": {},
   "outputs": [],
   "source": []
  },
  {
   "cell_type": "code",
   "execution_count": 10,
   "metadata": {},
   "outputs": [],
   "source": [
    "dic_demo1_0 = {'dts_name': 'covertype', 'dts_size': 1000}\n",
    "dic_demo1_1 = {'dts_name': 'digits', 'dts_size': 1000}\n",
    "dic_demo1_2 = {'dts_name': 'fall_detection', 'dts_size': 1000}\n",
    "dic_demo1_3 = {'dts_name': 'mnist', 'dts_size': 1000}\n",
    "dic_demo1_4 = {'dts_name': 'pen_digits', 'dts_size': 1000}\n",
    "dic_demo1_5 = {'dts_name': 'satellite', 'dts_size': 1000}\n",
    "dic_demo1_6 = {'dts_name': 'segment', 'dts_size': 1000}\n",
    "dic_demo1_7 = {'dts_name': 'vowel', 'dts_size': 1000}"
   ]
  },
  {
   "cell_type": "markdown",
   "metadata": {},
   "source": []
  },
  {
   "cell_type": "code",
   "execution_count": 11,
   "metadata": {},
   "outputs": [],
   "source": [
    "#d1.non_interactive(**dic_demo1_0)\n",
    "#d1.non_interactive(**dic_demo1_1)\n",
    "#d1.non_interactive(**dic_demo1_2)\n",
    "#d1.non_interactive(**dic_demo1_3)\n",
    "#d1.non_interactive(**dic_demo1_4)\n",
    "#d1.non_interactive(**dic_demo1_5)\n",
    "#d1.non_interactive(**dic_demo1_6)\n",
    "#d1.non_interactive(**dic_demo1_7)"
   ]
  },
  {
   "cell_type": "code",
   "execution_count": 12,
   "metadata": {},
   "outputs": [],
   "source": [
    "d2_1 = Demo1()\n",
    "d2_2 = Demo1()\n",
    "d2_3 = Demo1()\n",
    "d2_4 = Demo1()"
   ]
  },
  {
   "cell_type": "code",
   "execution_count": 13,
   "metadata": {},
   "outputs": [
    {
     "data": {
      "text/markdown": [
       "\n",
       "    # Comparación Datasets\n",
       "    Permite ver cómo se comportan los modelos simples (Decision Tree, Logit,\n",
       "    LinearSVM) con un dataset determinado. De esta manera sabremos si un\n",
       "    problema es más fácil para un modelo o para otro.\n",
       "    "
      ],
      "text/plain": [
       "<IPython.core.display.Markdown object>"
      ]
     },
     "metadata": {},
     "output_type": "display_data"
    },
    {
     "data": {
      "application/vnd.jupyter.widget-view+json": {
       "model_id": "18ade4e2a16f4151ad52e9e451df4650",
       "version_major": 2,
       "version_minor": 0
      },
      "text/plain": [
       "VBox(children=(RadioButtons(description='Size', options=(1000, 2000, 5000, 10000), value=1000), Dropdown(descr…"
      ]
     },
     "metadata": {},
     "output_type": "display_data"
    },
    {
     "data": {
      "application/vnd.jupyter.widget-view+json": {
       "model_id": "02a1cf38fa3d4805bc00f1ac1ba81acf",
       "version_major": 2,
       "version_minor": 0
      },
      "text/plain": [
       "Output()"
      ]
     },
     "metadata": {},
     "output_type": "display_data"
    },
    {
     "data": {
      "text/html": [],
      "text/plain": [
       "<demo_utils.demo1.Demo1 at 0x7f4b8e7dc6a0>"
      ]
     },
     "execution_count": 13,
     "metadata": {},
     "output_type": "execute_result"
    }
   ],
   "source": [
    "d2_1"
   ]
  },
  {
   "cell_type": "code",
   "execution_count": 14,
   "metadata": {},
   "outputs": [
    {
     "data": {
      "text/markdown": [
       "\n",
       "    # Comparación Datasets\n",
       "    Permite ver cómo se comportan los modelos simples (Decision Tree, Logit,\n",
       "    LinearSVM) con un dataset determinado. De esta manera sabremos si un\n",
       "    problema es más fácil para un modelo o para otro.\n",
       "    "
      ],
      "text/plain": [
       "<IPython.core.display.Markdown object>"
      ]
     },
     "metadata": {},
     "output_type": "display_data"
    },
    {
     "data": {
      "application/vnd.jupyter.widget-view+json": {
       "model_id": "adf39a36489a471391e60fca32f25478",
       "version_major": 2,
       "version_minor": 0
      },
      "text/plain": [
       "VBox(children=(RadioButtons(description='Size', options=(1000, 2000, 5000, 10000), value=1000), Dropdown(descr…"
      ]
     },
     "metadata": {},
     "output_type": "display_data"
    },
    {
     "data": {
      "application/vnd.jupyter.widget-view+json": {
       "model_id": "ce9e079624694be096c68d487cd4fdd5",
       "version_major": 2,
       "version_minor": 0
      },
      "text/plain": [
       "Output()"
      ]
     },
     "metadata": {},
     "output_type": "display_data"
    },
    {
     "data": {
      "text/html": [],
      "text/plain": [
       "<demo_utils.demo1.Demo1 at 0x7f4b8e7dc6d8>"
      ]
     },
     "execution_count": 14,
     "metadata": {},
     "output_type": "execute_result"
    }
   ],
   "source": [
    "d2_2"
   ]
  }
 ],
 "metadata": {
  "kernelspec": {
   "display_name": "Python 3",
   "language": "python",
   "name": "python3"
  },
  "language_info": {
   "codemirror_mode": {
    "name": "ipython",
    "version": 3
   },
   "file_extension": ".py",
   "mimetype": "text/x-python",
   "name": "python",
   "nbconvert_exporter": "python",
   "pygments_lexer": "ipython3",
   "version": "3.6.7"
  }
 },
 "nbformat": 4,
 "nbformat_minor": 2
}
