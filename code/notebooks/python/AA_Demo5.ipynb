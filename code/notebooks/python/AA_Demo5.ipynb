{
 "cells": [
  {
   "cell_type": "markdown",
   "metadata": {},
   "source": [
    "# Orden entre Sampling y PCA"
   ]
  },
  {
   "cell_type": "code",
   "execution_count": 1,
   "metadata": {},
   "outputs": [],
   "source": [
    "%matplotlib inline"
   ]
  },
  {
   "cell_type": "code",
   "execution_count": 2,
   "metadata": {},
   "outputs": [
    {
     "data": {
      "application/javascript": [
       "IPython.OutputArea.prototype._should_scroll = function(lines) {\n",
       "    return false;\n",
       "}\n"
      ],
      "text/plain": [
       "<IPython.core.display.Javascript object>"
      ]
     },
     "metadata": {},
     "output_type": "display_data"
    }
   ],
   "source": [
    "%%javascript\n",
    "IPython.OutputArea.prototype._should_scroll = function(lines) {\n",
    "    return false;\n",
    "}"
   ]
  },
  {
   "cell_type": "code",
   "execution_count": 3,
   "metadata": {},
   "outputs": [],
   "source": [
    "from demo_utils.demo5 import Demo5"
   ]
  },
  {
   "cell_type": "code",
   "execution_count": 4,
   "metadata": {},
   "outputs": [],
   "source": [
    "d5 = Demo5()"
   ]
  },
  {
   "cell_type": "code",
   "execution_count": 5,
   "metadata": {},
   "outputs": [
    {
     "data": {
      "text/markdown": [
       "# Orden adecuado entre Sampling y PCA\n",
       "Para ver qué es mejor, primero hacer sampling y luego hacer PCA, o al revés\n",
       "    "
      ],
      "text/plain": [
       "<IPython.core.display.Markdown object>"
      ]
     },
     "metadata": {},
     "output_type": "display_data"
    },
    {
     "data": {
      "application/vnd.jupyter.widget-view+json": {
       "model_id": "034bf948dff148b3b7f4690767a4a4e7",
       "version_major": 2,
       "version_minor": 0
      },
      "text/plain": [
       "VBox(children=(Dropdown(description='Dataset:', options=('segment', 'covertype', 'digits', 'fall_detection', '…"
      ]
     },
     "metadata": {},
     "output_type": "display_data"
    },
    {
     "data": {
      "application/vnd.jupyter.widget-view+json": {
       "model_id": "59e022923f8b4c9a906ab70e0d4dbbac",
       "version_major": 2,
       "version_minor": 0
      },
      "text/plain": [
       "Output()"
      ]
     },
     "metadata": {},
     "output_type": "display_data"
    },
    {
     "data": {
      "text/html": [],
      "text/plain": [
       "<demo_utils.demo5.Demo5 at 0x7f25d30e1978>"
      ]
     },
     "metadata": {},
     "output_type": "display_data"
    },
    {
     "name": "stdout",
     "output_type": "stream",
     "text": [
      "{'C': 1, 'gamma': 0.2, 'box_type': 'none', 'n_estim': None, 'pca_bool': True, 'sampler_name': 'rbf', 'model_name': 'dt'}\n",
      "{'C': 1, 'gamma': 0.2, 'box_type': 'none', 'n_estim': None, 'pca_bool': True, 'sampler_name': 'rbf', 'model_name': 'dt'}\n",
      "{'C': 1, 'gamma': 0.2, 'box_type': 'none', 'n_estim': None, 'pca_bool': True, 'sampler_name': 'rbf', 'model_name': 'dt'}\n",
      "{'C': 1, 'gamma': 0.2, 'box_type': 'none', 'n_estim': None, 'pca_bool': True, 'sampler_name': 'rbf', 'model_name': 'dt'}\n",
      "{'C': 1, 'gamma': 0.2, 'box_type': 'none', 'n_estim': None, 'pca_bool': True, 'sampler_name': 'rbf', 'model_name': 'dt'}\n",
      "{'C': 1, 'gamma': 0.2, 'box_type': 'none', 'n_estim': None, 'pca_bool': True, 'sampler_name': 'rbf', 'model_name': 'dt'}\n",
      "{'C': 1, 'gamma': 0.2, 'box_type': 'none', 'n_estim': None, 'pca_bool': True, 'sampler_name': 'rbf', 'model_name': 'dt'}\n",
      "{'C': 1, 'gamma': 0.2, 'box_type': 'none', 'n_estim': None, 'pca_bool': True, 'sampler_name': 'rbf', 'model_name': 'dt'}\n"
     ]
    }
   ],
   "source": [
    "display(d5)"
   ]
  }
 ],
 "metadata": {
  "kernelspec": {
   "display_name": "Python 3",
   "language": "python",
   "name": "python3"
  },
  "language_info": {
   "codemirror_mode": {
    "name": "ipython",
    "version": 3
   },
   "file_extension": ".py",
   "mimetype": "text/x-python",
   "name": "python",
   "nbconvert_exporter": "python",
   "pygments_lexer": "ipython3",
   "version": "3.6.7"
  },
  "widgets": {
   "application/vnd.jupyter.widget-state+json": {
    "state": {
     "0017ce084e7c4ac89f54c4a3fa730699": {
      "model_module": "@jupyter-widgets/base",
      "model_module_version": "1.1.0",
      "model_name": "LayoutModel",
      "state": {
       "width": "90px"
      }
     },
     "0071945a602d4bd28d8b24e6bc92d240": {
      "model_module": "@jupyter-widgets/base",
      "model_module_version": "1.1.0",
      "model_name": "LayoutModel",
      "state": {}
     },
     "01bc0bd2e1244f43b2395eee5373d969": {
      "model_module": "@jupyter-widgets/controls",
      "model_module_version": "1.4.0",
      "model_name": "ButtonStyleModel",
      "state": {}
     },
     "02647628aa824336b64e3fd3a374a85c": {
      "model_module": "@jupyter-widgets/controls",
      "model_module_version": "1.4.0",
      "model_name": "DescriptionStyleModel",
      "state": {
       "description_width": ""
      }
     },
     "02a24aecf24b479680768b45e42039d2": {
      "model_module": "@jupyter-widgets/controls",
      "model_module_version": "1.4.0",
      "model_name": "DropdownModel",
      "state": {
       "_options_labels": [
        "dt",
        "logit",
        "linear_svc"
       ],
       "description": "Model",
       "index": 0,
       "layout": "IPY_MODEL_bedf2198b9ba4a1f89555f68926aab2b",
       "style": "IPY_MODEL_2185acd862e94f1c8bc1f46beec02dae"
      }
     },
     "04413c5da3e147daace890163d0eee4f": {
      "model_module": "@jupyter-widgets/base",
      "model_module_version": "1.1.0",
      "model_name": "LayoutModel",
      "state": {}
     },
     "04c0deb3c17f4a86889629b8db770e53": {
      "model_module": "@jupyter-widgets/controls",
      "model_module_version": "1.4.0",
      "model_name": "LabelModel",
      "state": {
       "layout": "IPY_MODEL_ea427e28f0a142668bd52ac4626de2fa",
       "style": "IPY_MODEL_d971a0bbfe44463aaee090ab5952ea29",
       "value": "Model"
      }
     },
     "06a274da8e55423994f3f84c8ddfa940": {
      "model_module": "@jupyter-widgets/base",
      "model_module_version": "1.1.0",
      "model_name": "LayoutModel",
      "state": {}
     },
     "06e5aab3f0d947028d9c408f67cdde4c": {
      "model_module": "@jupyter-widgets/base",
      "model_module_version": "1.1.0",
      "model_name": "LayoutModel",
      "state": {}
     },
     "06f8bb96877743f5a9580a5b1629b5d8": {
      "model_module": "@jupyter-widgets/base",
      "model_module_version": "1.1.0",
      "model_name": "LayoutModel",
      "state": {}
     },
     "070316d5654e428da28805a08b663580": {
      "model_module": "@jupyter-widgets/base",
      "model_module_version": "1.1.0",
      "model_name": "LayoutModel",
      "state": {}
     },
     "080fa0a1043a44b3966d54fa15e23fb9": {
      "model_module": "@jupyter-widgets/controls",
      "model_module_version": "1.4.0",
      "model_name": "DescriptionStyleModel",
      "state": {
       "description_width": ""
      }
     },
     "097743bdac7247d1a220862fe64aaf88": {
      "model_module": "@jupyter-widgets/base",
      "model_module_version": "1.1.0",
      "model_name": "LayoutModel",
      "state": {}
     },
     "09aa40e9a963442aba0b0418310d044d": {
      "model_module": "@jupyter-widgets/controls",
      "model_module_version": "1.4.0",
      "model_name": "DropdownModel",
      "state": {
       "_options_labels": [
        "segment",
        "covertype",
        "digits",
        "fall_detection",
        "mnist",
        "pen_digits",
        "satellite",
        "vowel"
       ],
       "description": "Dataset:",
       "index": 0,
       "layout": "IPY_MODEL_bfc224f9f32a467a8c1276515401c6e3",
       "style": "IPY_MODEL_307710163a0940fda6022a1176b16b9d"
      }
     },
     "0a65b1f0159343f1a5f6dc00d89e8e7a": {
      "model_module": "@jupyter-widgets/controls",
      "model_module_version": "1.4.0",
      "model_name": "LabelModel",
      "state": {
       "layout": "IPY_MODEL_bc4a89b52dc740b5b62bb80892d2c6e8",
       "style": "IPY_MODEL_43160dda56284f549afdb26599d94914",
       "value": "Sampler"
      }
     },
     "0a91c003624d48ef9fb6ad4c66b33332": {
      "model_module": "@jupyter-widgets/base",
      "model_module_version": "1.1.0",
      "model_name": "LayoutModel",
      "state": {}
     },
     "0ab01fd42ee540e497409c34316b4fc5": {
      "model_module": "@jupyter-widgets/base",
      "model_module_version": "1.1.0",
      "model_name": "LayoutModel",
      "state": {}
     },
     "0ab8c5ab729c4a378277bb40c1f004f4": {
      "model_module": "@jupyter-widgets/controls",
      "model_module_version": "1.4.0",
      "model_name": "SliderStyleModel",
      "state": {
       "description_width": ""
      }
     },
     "0abef154fa0c4922bdbac0acdd0c2eaf": {
      "model_module": "@jupyter-widgets/controls",
      "model_module_version": "1.4.0",
      "model_name": "CheckboxModel",
      "state": {
       "disabled": false,
       "layout": "IPY_MODEL_4566f495bd1e4b5da4d3cf7fbd1d8e35",
       "style": "IPY_MODEL_c758453c931a473987d19055aca31a4c",
       "value": false
      }
     },
     "0b0ae7d5795b40c3a8e9aecab618253a": {
      "model_module": "@jupyter-widgets/base",
      "model_module_version": "1.1.0",
      "model_name": "LayoutModel",
      "state": {}
     },
     "0b77452cce294a88b4d47258ab3d70f6": {
      "model_module": "@jupyter-widgets/base",
      "model_module_version": "1.1.0",
      "model_name": "LayoutModel",
      "state": {}
     },
     "0d2f3e00439b4a07910ca3e40fdfb3d5": {
      "model_module": "@jupyter-widgets/controls",
      "model_module_version": "1.4.0",
      "model_name": "IntRangeSliderModel",
      "state": {
       "_model_name": "IntRangeSliderModel",
       "_view_name": "IntRangeSliderView",
       "disabled": true,
       "layout": "IPY_MODEL_0d353526b04e43ea97743b53a6e478ad",
       "max": 400,
       "min": 30,
       "step": 10,
       "style": "IPY_MODEL_5f9c67a0bce049c39713144bb85ebc39",
       "value": [
        30,
        100
       ]
      }
     },
     "0d353526b04e43ea97743b53a6e478ad": {
      "model_module": "@jupyter-widgets/base",
      "model_module_version": "1.1.0",
      "model_name": "LayoutModel",
      "state": {}
     },
     "0dade8729dd44c9a967832b044d3f437": {
      "model_module": "@jupyter-widgets/controls",
      "model_module_version": "1.4.0",
      "model_name": "DescriptionStyleModel",
      "state": {
       "description_width": ""
      }
     },
     "0dae7c9927f042f693dc29f33ac26974": {
      "model_module": "@jupyter-widgets/controls",
      "model_module_version": "1.4.0",
      "model_name": "CheckboxModel",
      "state": {
       "disabled": false,
       "layout": "IPY_MODEL_2e5a7e8a3d464cb3a2507984ce61ed99",
       "style": "IPY_MODEL_68b8188a1545451584f0456181d0edd8",
       "value": false
      }
     },
     "0f580ac2c41a4a9394790df4f3c5cdc3": {
      "model_module": "@jupyter-widgets/base",
      "model_module_version": "1.1.0",
      "model_name": "LayoutModel",
      "state": {}
     },
     "0fb996f7b2414139861ab4c2f2e4fd3f": {
      "model_module": "@jupyter-widgets/controls",
      "model_module_version": "1.4.0",
      "model_name": "VBoxModel",
      "state": {
       "children": [
        "IPY_MODEL_20f8b9641054405d816f3553938c4c78",
        "IPY_MODEL_8cdd5bba220745ff96bf1a0e66d24e8e"
       ],
       "layout": "IPY_MODEL_697aca06468d4d1b9154478bcce75fda"
      }
     },
     "10e7691a0a2a47b68247da872cce673c": {
      "model_module": "@jupyter-widgets/controls",
      "model_module_version": "1.4.0",
      "model_name": "SliderStyleModel",
      "state": {
       "description_width": ""
      }
     },
     "1169f60a63ff46648e0293881cf967f6": {
      "model_module": "@jupyter-widgets/controls",
      "model_module_version": "1.4.0",
      "model_name": "DescriptionStyleModel",
      "state": {
       "description_width": ""
      }
     },
     "11ec5c80e97149e1a4fb87617beb9969": {
      "model_module": "@jupyter-widgets/base",
      "model_module_version": "1.1.0",
      "model_name": "LayoutModel",
      "state": {}
     },
     "1347d94e3d5c47f381f1349ab3342c87": {
      "model_module": "@jupyter-widgets/controls",
      "model_module_version": "1.4.0",
      "model_name": "ButtonModel",
      "state": {
       "button_style": "info",
       "description": "Demo0",
       "layout": "IPY_MODEL_85d69b8dbb9e4d2a901d75b113c8d63a",
       "style": "IPY_MODEL_1b6556830cf940fcb0adf94e4e4d75c9"
      }
     },
     "1429a2f22b904288a1660b5718f470b5": {
      "model_module": "@jupyter-widgets/controls",
      "model_module_version": "1.4.0",
      "model_name": "SliderStyleModel",
      "state": {
       "description_width": ""
      }
     },
     "1451d0d8c0f5423fb3a9609c424ea808": {
      "model_module": "@jupyter-widgets/controls",
      "model_module_version": "1.4.0",
      "model_name": "RadioButtonsModel",
      "state": {
       "_options_labels": [
        "1000",
        "2000",
        "5000",
        "10000"
       ],
       "description": "Size",
       "index": 0,
       "layout": "IPY_MODEL_352f1c6956464e2e9e54a165439b4c42",
       "style": "IPY_MODEL_ec6ce9167cb741e5895d9f113acc4821"
      }
     },
     "159ab2e7dfdc4f09bd624fde8c438f3a": {
      "model_module": "@jupyter-widgets/controls",
      "model_module_version": "1.4.0",
      "model_name": "DescriptionStyleModel",
      "state": {
       "description_width": ""
      }
     },
     "16bf27fe9d814734896fbdcc7ff35320": {
      "model_module": "@jupyter-widgets/controls",
      "model_module_version": "1.4.0",
      "model_name": "VBoxModel",
      "state": {
       "children": [
        "IPY_MODEL_57bc37712dfc44cfbbf6a057c3d15bc6",
        "IPY_MODEL_34cc1f5db6ab4ed1bd2cc609be647f66"
       ],
       "layout": "IPY_MODEL_8a1adc239eb54116b74ccc039831cd49"
      }
     },
     "17d433c5ea714261999459283dff277b": {
      "model_module": "@jupyter-widgets/base",
      "model_module_version": "1.1.0",
      "model_name": "LayoutModel",
      "state": {}
     },
     "198292f64f734500afa1ec2e7d2e1c6c": {
      "model_module": "@jupyter-widgets/base",
      "model_module_version": "1.1.0",
      "model_name": "LayoutModel",
      "state": {}
     },
     "19c0f384b08e463384800e1addd0bb4e": {
      "model_module": "@jupyter-widgets/controls",
      "model_module_version": "1.4.0",
      "model_name": "HBoxModel",
      "state": {
       "children": [
        "IPY_MODEL_c815ed0810974fc0a131bdb9ffea3f2f",
        "IPY_MODEL_e4416905fe6649a4925ab40e9083a5ce",
        "IPY_MODEL_ca81fad2f4f34521a4dadcb4ad62d0f5",
        "IPY_MODEL_0fb996f7b2414139861ab4c2f2e4fd3f",
        "IPY_MODEL_91e72d695fe64e6d8bc3b312d97d4372"
       ],
       "layout": "IPY_MODEL_f1799607ff1142d5ac216198b38e1e5d"
      }
     },
     "1a82ac4ee9c447c0b9c7d602f4df279d": {
      "model_module": "@jupyter-widgets/base",
      "model_module_version": "1.1.0",
      "model_name": "LayoutModel",
      "state": {}
     },
     "1a90a6e678b84653b00548db7aea3314": {
      "model_module": "@jupyter-widgets/base",
      "model_module_version": "1.1.0",
      "model_name": "LayoutModel",
      "state": {
       "width": "300px"
      }
     },
     "1b6556830cf940fcb0adf94e4e4d75c9": {
      "model_module": "@jupyter-widgets/controls",
      "model_module_version": "1.4.0",
      "model_name": "ButtonStyleModel",
      "state": {}
     },
     "1c3a8245ee754e9690b5c86ee2d55203": {
      "model_module": "@jupyter-widgets/controls",
      "model_module_version": "1.4.0",
      "model_name": "DropdownModel",
      "state": {
       "_options_labels": [
        "segment",
        "covertype",
        "digits",
        "fall_detection",
        "mnist",
        "pen_digits",
        "satellite",
        "vowel"
       ],
       "description": "Dataset:",
       "index": 0,
       "layout": "IPY_MODEL_070316d5654e428da28805a08b663580",
       "style": "IPY_MODEL_332917e41d704d3dbd8552eb2dcbeade"
      }
     },
     "1d46e8b5c3b14a7491366f53778e3332": {
      "model_module": "@jupyter-widgets/controls",
      "model_module_version": "1.4.0",
      "model_name": "DescriptionStyleModel",
      "state": {
       "description_width": ""
      }
     },
     "1f880586996f4b3ea970a7c153a85b29": {
      "model_module": "@jupyter-widgets/controls",
      "model_module_version": "1.4.0",
      "model_name": "DropdownModel",
      "state": {
       "_options_labels": [
        "None",
        "rbf",
        "nystroem"
       ],
       "index": 0,
       "layout": "IPY_MODEL_acba43526f0a458a96db68ab17b4da33",
       "style": "IPY_MODEL_eed0d133a22147baaea14782f10b9847"
      }
     },
     "20ce1bf1ccc14c9aa9c02f57c7783720": {
      "model_module": "@jupyter-widgets/controls",
      "model_module_version": "1.4.0",
      "model_name": "DropdownModel",
      "state": {
       "_options_labels": [
        "None",
        "rbf",
        "nystroem"
       ],
       "index": 0,
       "layout": "IPY_MODEL_2e7679ee02ce4c179cc2e21c6fae378d",
       "style": "IPY_MODEL_8a7257a3f2384340b0f6784faa3abfd3"
      }
     },
     "20f8b9641054405d816f3553938c4c78": {
      "model_module": "@jupyter-widgets/controls",
      "model_module_version": "1.4.0",
      "model_name": "LabelModel",
      "state": {
       "layout": "IPY_MODEL_939aac5daa0049a2aac6947b1bca515a",
       "style": "IPY_MODEL_e7cc37dd381f416b94b8d9bb2103cfd1",
       "value": "Number Estimators"
      }
     },
     "217ac86222e54a4ca301f31732bb6c5f": {
      "model_module": "@jupyter-widgets/base",
      "model_module_version": "1.1.0",
      "model_name": "LayoutModel",
      "state": {}
     },
     "2185acd862e94f1c8bc1f46beec02dae": {
      "model_module": "@jupyter-widgets/controls",
      "model_module_version": "1.4.0",
      "model_name": "DescriptionStyleModel",
      "state": {
       "description_width": ""
      }
     },
     "21fa5c86597c4188b4fb7d894d40092a": {
      "model_module": "@jupyter-widgets/controls",
      "model_module_version": "1.4.0",
      "model_name": "DropdownModel",
      "state": {
       "_options_labels": [
        "dt",
        "logit",
        "linear_svc"
       ],
       "index": 0,
       "layout": "IPY_MODEL_0017ce084e7c4ac89f54c4a3fa730699",
       "style": "IPY_MODEL_446224c1799d4f8b97f7b502f422a9e2"
      }
     },
     "22a5a017eb604d3fb9f00ed96d52df39": {
      "model_module": "@jupyter-widgets/base",
      "model_module_version": "1.1.0",
      "model_name": "LayoutModel",
      "state": {}
     },
     "22fbaad3428a4d328aea4ed3939517d1": {
      "model_module": "@jupyter-widgets/controls",
      "model_module_version": "1.4.0",
      "model_name": "DescriptionStyleModel",
      "state": {
       "description_width": ""
      }
     },
     "2319fc7b095344bba244a766a2c37d2f": {
      "model_module": "@jupyter-widgets/base",
      "model_module_version": "1.1.0",
      "model_name": "LayoutModel",
      "state": {}
     },
     "2358b2a155f944588a742c97bf49f6ea": {
      "model_module": "@jupyter-widgets/controls",
      "model_module_version": "1.4.0",
      "model_name": "ButtonStyleModel",
      "state": {}
     },
     "23a39d7c854a44e5adec8fbe0f818423": {
      "model_module": "@jupyter-widgets/base",
      "model_module_version": "1.1.0",
      "model_name": "LayoutModel",
      "state": {
       "width": "300px"
      }
     },
     "2486879a9590450a905ca3912f577056": {
      "model_module": "@jupyter-widgets/controls",
      "model_module_version": "1.4.0",
      "model_name": "DropdownModel",
      "state": {
       "_options_labels": [
        "dt",
        "logit",
        "linear_svc"
       ],
       "index": 0,
       "layout": "IPY_MODEL_2e7679ee02ce4c179cc2e21c6fae378d",
       "style": "IPY_MODEL_b01f012e73044d9ca582fcf9ddcd5527"
      }
     },
     "254eb467bb864796933b96d04ec89f11": {
      "model_module": "@jupyter-widgets/base",
      "model_module_version": "1.1.0",
      "model_name": "LayoutModel",
      "state": {
       "border": "3px solid black"
      }
     },
     "27ee87b7350546949815768f265dfe66": {
      "model_module": "@jupyter-widgets/controls",
      "model_module_version": "1.4.0",
      "model_name": "DropdownModel",
      "state": {
       "_options_labels": [
        "dt",
        "logit",
        "linear_svc"
       ],
       "index": 0,
       "layout": "IPY_MODEL_b20e07da94074b65b006b44af2b7c5da",
       "style": "IPY_MODEL_1d46e8b5c3b14a7491366f53778e3332"
      }
     },
     "28f9752bf6724a3c837467528b5f4b0d": {
      "model_module": "@jupyter-widgets/controls",
      "model_module_version": "1.4.0",
      "model_name": "DropdownModel",
      "state": {
       "_options_labels": [
        "segment",
        "covertype",
        "digits",
        "fall_detection",
        "mnist",
        "pen_digits",
        "satellite",
        "vowel"
       ],
       "description": "Dataset:",
       "index": 0,
       "layout": "IPY_MODEL_17d433c5ea714261999459283dff277b",
       "style": "IPY_MODEL_eb2730d638c54d67921153cf8003ae32"
      }
     },
     "29671bfe667d4d5f87f7f090b33b6d4a": {
      "model_module": "@jupyter-widgets/base",
      "model_module_version": "1.1.0",
      "model_name": "LayoutModel",
      "state": {}
     },
     "296f21a39cc84f568e12248916a7c25e": {
      "model_module": "@jupyter-widgets/base",
      "model_module_version": "1.1.0",
      "model_name": "LayoutModel",
      "state": {}
     },
     "2ab0aae178a74940a72c4835d3722fdf": {
      "model_module": "@jupyter-widgets/controls",
      "model_module_version": "1.4.0",
      "model_name": "DescriptionStyleModel",
      "state": {
       "description_width": ""
      }
     },
     "2b3fa18ee5394d8689711f6e3a624b56": {
      "model_module": "@jupyter-widgets/base",
      "model_module_version": "1.1.0",
      "model_name": "LayoutModel",
      "state": {}
     },
     "2d561a99b1014adf96bbbf4e21df2705": {
      "model_module": "@jupyter-widgets/base",
      "model_module_version": "1.1.0",
      "model_name": "LayoutModel",
      "state": {}
     },
     "2d59301fbeab40a1a0a697fe88173f77": {
      "model_module": "@jupyter-widgets/controls",
      "model_module_version": "1.4.0",
      "model_name": "ButtonStyleModel",
      "state": {}
     },
     "2e2af3d2423b4a67b20a5ac747ae7bf7": {
      "model_module": "@jupyter-widgets/base",
      "model_module_version": "1.1.0",
      "model_name": "LayoutModel",
      "state": {}
     },
     "2e5a7e8a3d464cb3a2507984ce61ed99": {
      "model_module": "@jupyter-widgets/base",
      "model_module_version": "1.1.0",
      "model_name": "LayoutModel",
      "state": {}
     },
     "2e7679ee02ce4c179cc2e21c6fae378d": {
      "model_module": "@jupyter-widgets/base",
      "model_module_version": "1.1.0",
      "model_name": "LayoutModel",
      "state": {
       "width": "90px"
      }
     },
     "307710163a0940fda6022a1176b16b9d": {
      "model_module": "@jupyter-widgets/controls",
      "model_module_version": "1.4.0",
      "model_name": "DescriptionStyleModel",
      "state": {
       "description_width": ""
      }
     },
     "315c28a61916439eba3a609bd5c47f94": {
      "model_module": "@jupyter-widgets/base",
      "model_module_version": "1.1.0",
      "model_name": "LayoutModel",
      "state": {}
     },
     "316c8352d72c49d1930b4a749f109ba1": {
      "model_module": "@jupyter-widgets/base",
      "model_module_version": "1.1.0",
      "model_name": "LayoutModel",
      "state": {}
     },
     "31e6e7d1f5ae4f4597682f5e9e0704a0": {
      "model_module": "@jupyter-widgets/controls",
      "model_module_version": "1.4.0",
      "model_name": "ButtonStyleModel",
      "state": {}
     },
     "332917e41d704d3dbd8552eb2dcbeade": {
      "model_module": "@jupyter-widgets/controls",
      "model_module_version": "1.4.0",
      "model_name": "DescriptionStyleModel",
      "state": {
       "description_width": ""
      }
     },
     "340bba53a19a473b8d9144f404fe563d": {
      "model_module": "@jupyter-widgets/controls",
      "model_module_version": "1.4.0",
      "model_name": "VBoxModel",
      "state": {
       "children": [
        "IPY_MODEL_f1d03a32bd4841c5a4cdf92b656b8575",
        "IPY_MODEL_41b233587248458ea6475793a4480ecd",
        "IPY_MODEL_87e7ae8b78fd42f69bfc73f07f155e24",
        "IPY_MODEL_425b7f6b95404fd68ac875dabf7a825b",
        "IPY_MODEL_64123df0cc6b4a68a3ecca551bc8db33",
        "IPY_MODEL_19c0f384b08e463384800e1addd0bb4e",
        "IPY_MODEL_f70d78e107084dfaa62351ffd3156881"
       ],
       "layout": "IPY_MODEL_2319fc7b095344bba244a766a2c37d2f"
      }
     },
     "34cc1f5db6ab4ed1bd2cc609be647f66": {
      "model_module": "@jupyter-widgets/controls",
      "model_module_version": "1.4.0",
      "model_name": "IntSliderModel",
      "state": {
       "disabled": true,
       "layout": "IPY_MODEL_e330389788c440a5ae66d01b1df1127c",
       "max": 200,
       "min": 2,
       "style": "IPY_MODEL_a50eb94cb6124484878c72c954a25935",
       "value": 30
      }
     },
     "352f1c6956464e2e9e54a165439b4c42": {
      "model_module": "@jupyter-widgets/base",
      "model_module_version": "1.1.0",
      "model_name": "LayoutModel",
      "state": {}
     },
     "36088d9c9e68466c9420f098540da9cb": {
      "model_module": "@jupyter-widgets/controls",
      "model_module_version": "1.4.0",
      "model_name": "ButtonStyleModel",
      "state": {}
     },
     "394dcc0a87074617ac67bf7272ac862f": {
      "model_module": "@jupyter-widgets/controls",
      "model_module_version": "1.4.0",
      "model_name": "LabelModel",
      "state": {
       "layout": "IPY_MODEL_11ec5c80e97149e1a4fb87617beb9969",
       "style": "IPY_MODEL_afac85cff2ae46b8b2db75637f49bd18",
       "value": "Sampler"
      }
     },
     "39c528de15f444ca816e8b99f6e9d923": {
      "model_module": "@jupyter-widgets/base",
      "model_module_version": "1.1.0",
      "model_name": "LayoutModel",
      "state": {}
     },
     "3b76ffc2748f4d348e66f9272e9cd22a": {
      "model_module": "@jupyter-widgets/controls",
      "model_module_version": "1.4.0",
      "model_name": "DropdownModel",
      "state": {
       "_options_labels": [
        "dt",
        "logit",
        "linear_svc"
       ],
       "description": "Model",
       "index": 0,
       "layout": "IPY_MODEL_96a17f4b8b4e4991bc295a99036a1ab4",
       "style": "IPY_MODEL_1169f60a63ff46648e0293881cf967f6"
      }
     },
     "3b94e2e1056e419f9356d2b751b70fdd": {
      "model_module": "@jupyter-widgets/controls",
      "model_module_version": "1.4.0",
      "model_name": "DescriptionStyleModel",
      "state": {
       "description_width": ""
      }
     },
     "3d36e64f1eba41278409866b5e9d786c": {
      "model_module": "@jupyter-widgets/base",
      "model_module_version": "1.1.0",
      "model_name": "LayoutModel",
      "state": {
       "border": "3px solid black"
      }
     },
     "3d9c9085d1924d70b274e7f769b71710": {
      "model_module": "@jupyter-widgets/controls",
      "model_module_version": "1.4.0",
      "model_name": "IntSliderModel",
      "state": {
       "description": "N. estim.",
       "layout": "IPY_MODEL_de79c7fb56c54754a306ffda20d3707b",
       "max": 200,
       "min": 2,
       "style": "IPY_MODEL_e2ca3ff178c94d028688d5be0a55c240",
       "value": 30
      }
     },
     "3efbb32c838342b88bae6e81acaefc7c": {
      "model_module": "@jupyter-widgets/base",
      "model_module_version": "1.1.0",
      "model_name": "LayoutModel",
      "state": {}
     },
     "3f4a2702d57a4025b7ed809a19aa3a74": {
      "model_module": "@jupyter-widgets/controls",
      "model_module_version": "1.4.0",
      "model_name": "LabelModel",
      "state": {
       "layout": "IPY_MODEL_7f7663fb14d5439c84ecfa8a97973d9a",
       "style": "IPY_MODEL_74e42dd821884b9eb8f4a7e2fb8cfebe",
       "value": "Number Estimators"
      }
     },
     "40061ce0b23c47f1b88b1c5c018896e8": {
      "model_module": "@jupyter-widgets/base",
      "model_module_version": "1.1.0",
      "model_name": "LayoutModel",
      "state": {
       "visibility": "hidden"
      }
     },
     "403256513c894b0bb99273c412b8a6db": {
      "model_module": "@jupyter-widgets/controls",
      "model_module_version": "1.4.0",
      "model_name": "LabelModel",
      "state": {
       "layout": "IPY_MODEL_a4ad6dea30d74e4ebbb469028249723c",
       "style": "IPY_MODEL_a14c46c818fd453c9d1266ea0c92011b",
       "value": "Box Type"
      }
     },
     "4054c70208854b8ebd66a47a68dd4b74": {
      "model_module": "@jupyter-widgets/base",
      "model_module_version": "1.1.0",
      "model_name": "LayoutModel",
      "state": {}
     },
     "41b233587248458ea6475793a4480ecd": {
      "model_module": "@jupyter-widgets/controls",
      "model_module_version": "1.4.0",
      "model_name": "RadioButtonsModel",
      "state": {
       "_options_labels": [
        "1000",
        "2000",
        "5000",
        "10000"
       ],
       "description": "Size",
       "index": 0,
       "layout": "IPY_MODEL_58a23ddb05214073b319d3f9d73307a1",
       "style": "IPY_MODEL_f3884a7d1a3748899799d75f76c5b422"
      }
     },
     "41e30e9389b4419aa9b16d3fb2c725d7": {
      "model_module": "@jupyter-widgets/controls",
      "model_module_version": "1.4.0",
      "model_name": "DescriptionStyleModel",
      "state": {
       "description_width": ""
      }
     },
     "425b7f6b95404fd68ac875dabf7a825b": {
      "model_module": "@jupyter-widgets/controls",
      "model_module_version": "1.4.0",
      "model_name": "ButtonModel",
      "state": {
       "button_style": "warning",
       "description": "Remove model",
       "layout": "IPY_MODEL_f6376d36502d4a6b8c82ecd56d7f86db",
       "style": "IPY_MODEL_ef1231af5e434c0dbabee41cc63c2e90"
      }
     },
     "42c87af407b04fe1bf9850654bfe9a53": {
      "model_module": "@jupyter-widgets/controls",
      "model_module_version": "1.4.0",
      "model_name": "VBoxModel",
      "state": {
       "children": [
        "IPY_MODEL_6f433877730243ad9461bb5b5f66bff1",
        "IPY_MODEL_85c73a24ab7240b097229437b467b45e"
       ],
       "layout": "IPY_MODEL_9112feac58eb41d1b8a49ee1cec84f7f"
      }
     },
     "43160dda56284f549afdb26599d94914": {
      "model_module": "@jupyter-widgets/controls",
      "model_module_version": "1.4.0",
      "model_name": "DescriptionStyleModel",
      "state": {
       "description_width": ""
      }
     },
     "440ea7c9afd04387922d5f4d30d6e5f1": {
      "model_module": "@jupyter-widgets/base",
      "model_module_version": "1.1.0",
      "model_name": "LayoutModel",
      "state": {}
     },
     "446224c1799d4f8b97f7b502f422a9e2": {
      "model_module": "@jupyter-widgets/controls",
      "model_module_version": "1.4.0",
      "model_name": "DescriptionStyleModel",
      "state": {
       "description_width": ""
      }
     },
     "452ba9a258da472d8eabb94419292d54": {
      "model_module": "@jupyter-widgets/controls",
      "model_module_version": "1.4.0",
      "model_name": "ButtonModel",
      "state": {
       "button_style": "info",
       "description": "Add model",
       "layout": "IPY_MODEL_c45d12af92304c1c89e9a2aed7d2a072",
       "style": "IPY_MODEL_5c2e4a37190f46aba1e1eecb08c1c5a7"
      }
     },
     "4566f495bd1e4b5da4d3cf7fbd1d8e35": {
      "model_module": "@jupyter-widgets/base",
      "model_module_version": "1.1.0",
      "model_name": "LayoutModel",
      "state": {}
     },
     "45e2f335ec14409d9112f1d2f42b2d56": {
      "model_module": "@jupyter-widgets/base",
      "model_module_version": "1.1.0",
      "model_name": "LayoutModel",
      "state": {}
     },
     "45e9acb6badd49f29c3f14197cce4c18": {
      "model_module": "@jupyter-widgets/controls",
      "model_module_version": "1.4.0",
      "model_name": "DescriptionStyleModel",
      "state": {
       "description_width": ""
      }
     },
     "4791a0ee826d4d9299031eb489b99936": {
      "model_module": "@jupyter-widgets/controls",
      "model_module_version": "1.4.0",
      "model_name": "ButtonModel",
      "state": {
       "button_style": "warning",
       "description": "Remove model",
       "layout": "IPY_MODEL_aea4a68d3cba4e7f8ea09b0462fcf520",
       "style": "IPY_MODEL_f0c9ca710c03472293e6732bd8e2c94a"
      }
     },
     "493d3cc60ed941e2a89f320b51fa61c6": {
      "model_module": "@jupyter-widgets/controls",
      "model_module_version": "1.4.0",
      "model_name": "ButtonModel",
      "state": {
       "button_style": "info",
       "description": "Demo5",
       "layout": "IPY_MODEL_0a91c003624d48ef9fb6ad4c66b33332",
       "style": "IPY_MODEL_7b78936c80fe40218ce46a7d928b1193"
      }
     },
     "4a0dbf13ebe14adc921178fef0e47d03": {
      "model_module": "@jupyter-widgets/controls",
      "model_module_version": "1.4.0",
      "model_name": "DropdownModel",
      "state": {
       "_options_labels": [
        "None",
        "black",
        "grey"
       ],
       "description": "Bagging",
       "index": 0,
       "layout": "IPY_MODEL_55505c7b764c45bfbf7259add96afed0",
       "style": "IPY_MODEL_45e9acb6badd49f29c3f14197cce4c18"
      }
     },
     "4ab007d326b54be48526a8ca76ac2305": {
      "model_module": "@jupyter-widgets/controls",
      "model_module_version": "1.4.0",
      "model_name": "VBoxModel",
      "state": {
       "children": [
        "IPY_MODEL_3f4a2702d57a4025b7ed809a19aa3a74",
        "IPY_MODEL_74a586eda88e449b99e2f30f47d65693"
       ],
       "layout": "IPY_MODEL_cbae735bd0f64cec92c55740a568d076"
      }
     },
     "4b2b66ee5c4f4894b9a013bed5705fa1": {
      "model_module": "@jupyter-widgets/base",
      "model_module_version": "1.1.0",
      "model_name": "LayoutModel",
      "state": {}
     },
     "4beeb3159d7e4a72aafa8daa924debbb": {
      "model_module": "@jupyter-widgets/controls",
      "model_module_version": "1.4.0",
      "model_name": "HBoxModel",
      "state": {
       "children": [
        "IPY_MODEL_8f821fe2b00d4df6a96ab3440b266b4b",
        "IPY_MODEL_eac1c2d341ce4ac39b4d852d71130cea",
        "IPY_MODEL_89ed2fc487b1471bb2ac12d405164821",
        "IPY_MODEL_4ab007d326b54be48526a8ca76ac2305",
        "IPY_MODEL_daa4ce33a7714b1091f699cc027d79b8"
       ],
       "layout": "IPY_MODEL_a763b2e354f84a91b9554f92b60059fd"
      }
     },
     "4c10b9b17e4b4af2b4e0305d911c817e": {
      "model_module": "@jupyter-widgets/base",
      "model_module_version": "1.1.0",
      "model_name": "LayoutModel",
      "state": {}
     },
     "4f8d6773ac694dbc8a1fa2d8cb59f820": {
      "model_module": "@jupyter-widgets/controls",
      "model_module_version": "1.4.0",
      "model_name": "DescriptionStyleModel",
      "state": {
       "description_width": ""
      }
     },
     "52817a4774a94490963368b208f82545": {
      "model_module": "@jupyter-widgets/base",
      "model_module_version": "1.1.0",
      "model_name": "LayoutModel",
      "state": {}
     },
     "530d1462593e44539fd6be50a868909a": {
      "model_module": "@jupyter-widgets/base",
      "model_module_version": "1.1.0",
      "model_name": "LayoutModel",
      "state": {}
     },
     "55505c7b764c45bfbf7259add96afed0": {
      "model_module": "@jupyter-widgets/base",
      "model_module_version": "1.1.0",
      "model_name": "LayoutModel",
      "state": {}
     },
     "55a25fd9e0264ff78b33081adcc18441": {
      "model_module": "@jupyter-widgets/controls",
      "model_module_version": "1.4.0",
      "model_name": "IntRangeSliderModel",
      "state": {
       "_model_name": "IntRangeSliderModel",
       "_view_name": "IntRangeSliderView",
       "disabled": true,
       "layout": "IPY_MODEL_6a9af4d5a41a41559ffcf5f4a89295b1",
       "max": 400,
       "min": 30,
       "step": 10,
       "style": "IPY_MODEL_9fb55d5796f54b1bbbd56710a79f4972",
       "value": [
        30,
        100
       ]
      }
     },
     "57bc37712dfc44cfbbf6a057c3d15bc6": {
      "model_module": "@jupyter-widgets/controls",
      "model_module_version": "1.4.0",
      "model_name": "LabelModel",
      "state": {
       "layout": "IPY_MODEL_de139128ab53497db618859331466101",
       "style": "IPY_MODEL_7da1f86e115e417eb589526019df992b",
       "value": "Number Estimators"
      }
     },
     "58a23ddb05214073b319d3f9d73307a1": {
      "model_module": "@jupyter-widgets/base",
      "model_module_version": "1.1.0",
      "model_name": "LayoutModel",
      "state": {}
     },
     "58a8c056c6284903bebd0301e26be2a8": {
      "model_module": "@jupyter-widgets/controls",
      "model_module_version": "1.4.0",
      "model_name": "DescriptionStyleModel",
      "state": {
       "description_width": ""
      }
     },
     "595390b14e404d48997209d18fd7c267": {
      "model_module": "@jupyter-widgets/controls",
      "model_module_version": "1.4.0",
      "model_name": "ButtonModel",
      "state": {
       "button_style": "info",
       "description": "Demo0",
       "layout": "IPY_MODEL_06e5aab3f0d947028d9c408f67cdde4c",
       "style": "IPY_MODEL_01bc0bd2e1244f43b2395eee5373d969"
      }
     },
     "5c2e4a37190f46aba1e1eecb08c1c5a7": {
      "model_module": "@jupyter-widgets/controls",
      "model_module_version": "1.4.0",
      "model_name": "ButtonStyleModel",
      "state": {}
     },
     "5d6824b7a55a43509a62d0359615bae7": {
      "model_module": "@jupyter-widgets/controls",
      "model_module_version": "1.4.0",
      "model_name": "SliderStyleModel",
      "state": {
       "description_width": ""
      }
     },
     "5d73a1f3f21f4c78a7d9af4daa48b88b": {
      "model_module": "@jupyter-widgets/controls",
      "model_module_version": "1.4.0",
      "model_name": "LabelModel",
      "state": {
       "layout": "IPY_MODEL_7bf9fa5d4fd545bda76c9ddeff34493c",
       "style": "IPY_MODEL_8025ee2f0dd7420ab14b42c6a44ba535",
       "value": "PCA?"
      }
     },
     "5e75196c3b454da68cf7ebfbbbb0c60c": {
      "model_module": "@jupyter-widgets/controls",
      "model_module_version": "1.4.0",
      "model_name": "DescriptionStyleModel",
      "state": {
       "description_width": ""
      }
     },
     "5ed6afd3d5f84f278ccd1ec83d64321d": {
      "model_module": "@jupyter-widgets/controls",
      "model_module_version": "1.4.0",
      "model_name": "DescriptionStyleModel",
      "state": {
       "description_width": ""
      }
     },
     "5f9c67a0bce049c39713144bb85ebc39": {
      "model_module": "@jupyter-widgets/controls",
      "model_module_version": "1.4.0",
      "model_name": "SliderStyleModel",
      "state": {
       "description_width": ""
      }
     },
     "618de01ab5ba4460a4b7faeb16bfa6c5": {
      "model_module": "@jupyter-widgets/controls",
      "model_module_version": "1.4.0",
      "model_name": "ButtonModel",
      "state": {
       "button_style": "info",
       "description": "Demo5",
       "layout": "IPY_MODEL_c69c6a969d2a42a19a8163307680928d",
       "style": "IPY_MODEL_a34c84af125d4e9186375ccff9114f30"
      }
     },
     "619691a9b3ab4c58b26c57677c26a0c3": {
      "model_module": "@jupyter-widgets/controls",
      "model_module_version": "1.4.0",
      "model_name": "DescriptionStyleModel",
      "state": {
       "description_width": ""
      }
     },
     "63437bd6ef9c4679aa190d8953260f09": {
      "model_module": "@jupyter-widgets/controls",
      "model_module_version": "1.4.0",
      "model_name": "DescriptionStyleModel",
      "state": {
       "description_width": ""
      }
     },
     "64123df0cc6b4a68a3ecca551bc8db33": {
      "model_module": "@jupyter-widgets/controls",
      "model_module_version": "1.4.0",
      "model_name": "IntRangeSliderModel",
      "state": {
       "_model_name": "IntRangeSliderModel",
       "_view_name": "IntRangeSliderView",
       "disabled": true,
       "layout": "IPY_MODEL_d6ddabf5b17e4ef0a2f417d4cebed56e",
       "max": 400,
       "min": 30,
       "step": 10,
       "style": "IPY_MODEL_971c524c374a47699e7fb46a115d5481",
       "value": [
        30,
        100
       ]
      }
     },
     "64e8d8b043914ee68e6218136b767fe0": {
      "model_module": "@jupyter-widgets/base",
      "model_module_version": "1.1.0",
      "model_name": "LayoutModel",
      "state": {}
     },
     "678deb358f074a85a30d5726903d28b9": {
      "model_module": "@jupyter-widgets/output",
      "model_module_version": "1.0.0",
      "model_name": "OutputModel",
      "state": {
       "layout": "IPY_MODEL_e031d3133b0646489ae9bee179ba252d"
      }
     },
     "68b8188a1545451584f0456181d0edd8": {
      "model_module": "@jupyter-widgets/controls",
      "model_module_version": "1.4.0",
      "model_name": "DescriptionStyleModel",
      "state": {
       "description_width": ""
      }
     },
     "68d149c51fa3421580892860c2734389": {
      "model_module": "@jupyter-widgets/controls",
      "model_module_version": "1.4.0",
      "model_name": "VBoxModel",
      "state": {
       "children": [
        "IPY_MODEL_e565339535324065a316ee386d6ac4b6",
        "IPY_MODEL_a5715f3d3da64b0ba5fe49be1b2a8dae",
        "IPY_MODEL_87c14dfa401640e5b004194e440b197c",
        "IPY_MODEL_c542ca4822844a008b624d6e8dc60841",
        "IPY_MODEL_0d2f3e00439b4a07910ca3e40fdfb3d5",
        "IPY_MODEL_c63255c919e3462b8a8813afb8fa5913",
        "IPY_MODEL_595390b14e404d48997209d18fd7c267"
       ],
       "layout": "IPY_MODEL_4c10b9b17e4b4af2b4e0305d911c817e"
      }
     },
     "697aca06468d4d1b9154478bcce75fda": {
      "model_module": "@jupyter-widgets/base",
      "model_module_version": "1.1.0",
      "model_name": "LayoutModel",
      "state": {}
     },
     "697dff2561454d8bae102a595f51555d": {
      "model_module": "@jupyter-widgets/controls",
      "model_module_version": "1.4.0",
      "model_name": "DescriptionStyleModel",
      "state": {
       "description_width": ""
      }
     },
     "6a9af4d5a41a41559ffcf5f4a89295b1": {
      "model_module": "@jupyter-widgets/base",
      "model_module_version": "1.1.0",
      "model_name": "LayoutModel",
      "state": {
       "visibility": "hidden"
      }
     },
     "6bf44a5b91b74e68acecbee2a4301d8a": {
      "model_module": "@jupyter-widgets/controls",
      "model_module_version": "1.4.0",
      "model_name": "IntRangeSliderModel",
      "state": {
       "_model_name": "IntRangeSliderModel",
       "_view_name": "IntRangeSliderView",
       "description": "Features",
       "layout": "IPY_MODEL_a80471b30e9b4966ac12b582468f5c85",
       "max": 400,
       "min": 30,
       "step": 10,
       "style": "IPY_MODEL_bdc42fafc6cc42e8a9b0ab34a3540ef7",
       "value": [
        30,
        100
       ]
      }
     },
     "6c9f9fb58ad944ae92ed630efd113e55": {
      "model_module": "@jupyter-widgets/controls",
      "model_module_version": "1.4.0",
      "model_name": "LabelModel",
      "state": {
       "layout": "IPY_MODEL_530d1462593e44539fd6be50a868909a",
       "style": "IPY_MODEL_f6a60fa56ad3451e9e0de4a7b061485a",
       "value": "PCA?"
      }
     },
     "6cbecc59eb02482c9a138006481cf0af": {
      "model_module": "@jupyter-widgets/controls",
      "model_module_version": "1.4.0",
      "model_name": "SliderStyleModel",
      "state": {
       "description_width": ""
      }
     },
     "6cd98ec96e0e427a8315641c5dc32636": {
      "model_module": "@jupyter-widgets/controls",
      "model_module_version": "1.4.0",
      "model_name": "IntSliderModel",
      "state": {
       "description": "N. estim.",
       "layout": "IPY_MODEL_c93bd2412b3a4b14876ead9be3704775",
       "max": 200,
       "min": 2,
       "style": "IPY_MODEL_1429a2f22b904288a1660b5718f470b5",
       "value": 30
      }
     },
     "6f433877730243ad9461bb5b5f66bff1": {
      "model_module": "@jupyter-widgets/controls",
      "model_module_version": "1.4.0",
      "model_name": "LabelModel",
      "state": {
       "layout": "IPY_MODEL_84b7376ecf0c4b08a328a1c1e18909dd",
       "style": "IPY_MODEL_76af0d36e5c745cebf8d881dedf48365",
       "value": "PCA?"
      }
     },
     "73cee36ed7f048f68a536167b1c3958c": {
      "model_module": "@jupyter-widgets/controls",
      "model_module_version": "1.4.0",
      "model_name": "DescriptionStyleModel",
      "state": {
       "description_width": ""
      }
     },
     "740d47043ff349ed96f94a6b7ac1aa91": {
      "model_module": "@jupyter-widgets/controls",
      "model_module_version": "1.4.0",
      "model_name": "LabelModel",
      "state": {
       "layout": "IPY_MODEL_316c8352d72c49d1930b4a749f109ba1",
       "style": "IPY_MODEL_a432a003384d41ddb82a2a7a4b9231d3",
       "value": "Box Type"
      }
     },
     "7459ef49060947f3970e36ea260b9c7c": {
      "model_module": "@jupyter-widgets/base",
      "model_module_version": "1.1.0",
      "model_name": "LayoutModel",
      "state": {}
     },
     "749b6499b369497b97e0c4b7b3997f28": {
      "model_module": "@jupyter-widgets/controls",
      "model_module_version": "1.4.0",
      "model_name": "VBoxModel",
      "state": {
       "children": [
        "IPY_MODEL_76d008dc700d42c78e9608202dca84a8",
        "IPY_MODEL_916cb1615d724c27b576fd5b1507ae1b"
       ],
       "layout": "IPY_MODEL_98cee51dbded483ea4082803b588af98"
      }
     },
     "74a586eda88e449b99e2f30f47d65693": {
      "model_module": "@jupyter-widgets/controls",
      "model_module_version": "1.4.0",
      "model_name": "IntSliderModel",
      "state": {
       "disabled": true,
       "layout": "IPY_MODEL_d0d0c6dd61734a1fb7cfc266ba55f113",
       "max": 200,
       "min": 2,
       "style": "IPY_MODEL_8522af76c6f34d6296c11ed99054cd0f",
       "value": 30
      }
     },
     "74e42dd821884b9eb8f4a7e2fb8cfebe": {
      "model_module": "@jupyter-widgets/controls",
      "model_module_version": "1.4.0",
      "model_name": "DescriptionStyleModel",
      "state": {
       "description_width": ""
      }
     },
     "75aa0dc243154e14a15f47b5f610215c": {
      "model_module": "@jupyter-widgets/output",
      "model_module_version": "1.0.0",
      "model_name": "OutputModel",
      "state": {
       "layout": "IPY_MODEL_64e8d8b043914ee68e6218136b767fe0"
      }
     },
     "76af0d36e5c745cebf8d881dedf48365": {
      "model_module": "@jupyter-widgets/controls",
      "model_module_version": "1.4.0",
      "model_name": "DescriptionStyleModel",
      "state": {
       "description_width": ""
      }
     },
     "76d008dc700d42c78e9608202dca84a8": {
      "model_module": "@jupyter-widgets/controls",
      "model_module_version": "1.4.0",
      "model_name": "LabelModel",
      "state": {
       "layout": "IPY_MODEL_ffdfd1f67cfd43f9addd2e0787e4dc5b",
       "style": "IPY_MODEL_5e75196c3b454da68cf7ebfbbbb0c60c",
       "value": "Sampler"
      }
     },
     "781a8bf802ed4435b42054dbd5434cca": {
      "model_module": "@jupyter-widgets/controls",
      "model_module_version": "1.4.0",
      "model_name": "SliderStyleModel",
      "state": {
       "description_width": ""
      }
     },
     "7a34a9210ef941c4a885ecc4cbd7b6f2": {
      "model_module": "@jupyter-widgets/output",
      "model_module_version": "1.0.0",
      "model_name": "OutputModel",
      "state": {
       "layout": "IPY_MODEL_2b3fa18ee5394d8689711f6e3a624b56"
      }
     },
     "7a775e6a3545437ab2c9c9c9d82d27f2": {
      "model_module": "@jupyter-widgets/controls",
      "model_module_version": "1.4.0",
      "model_name": "LabelModel",
      "state": {
       "layout": "IPY_MODEL_9c0dc79b6b72464b9c3330693c5c4d15",
       "style": "IPY_MODEL_41e30e9389b4419aa9b16d3fb2c725d7",
       "value": "Box Type"
      }
     },
     "7aa019bcde39450abb00f2a7402e47bf": {
      "model_module": "@jupyter-widgets/controls",
      "model_module_version": "1.4.0",
      "model_name": "DescriptionStyleModel",
      "state": {
       "description_width": ""
      }
     },
     "7b33f1a0d5e849f28282890039d0c0bf": {
      "model_module": "@jupyter-widgets/controls",
      "model_module_version": "1.4.0",
      "model_name": "LabelModel",
      "state": {
       "layout": "IPY_MODEL_857c25bd2f6040b48e2251b86fb02853",
       "style": "IPY_MODEL_159ab2e7dfdc4f09bd624fde8c438f3a",
       "value": "Box Type"
      }
     },
     "7b78936c80fe40218ce46a7d928b1193": {
      "model_module": "@jupyter-widgets/controls",
      "model_module_version": "1.4.0",
      "model_name": "ButtonStyleModel",
      "state": {}
     },
     "7bf9fa5d4fd545bda76c9ddeff34493c": {
      "model_module": "@jupyter-widgets/base",
      "model_module_version": "1.1.0",
      "model_name": "LayoutModel",
      "state": {}
     },
     "7da1f86e115e417eb589526019df992b": {
      "model_module": "@jupyter-widgets/controls",
      "model_module_version": "1.4.0",
      "model_name": "DescriptionStyleModel",
      "state": {
       "description_width": ""
      }
     },
     "7e1553ca8dd54ac4a1d500e5ba641cf3": {
      "model_module": "@jupyter-widgets/controls",
      "model_module_version": "1.4.0",
      "model_name": "VBoxModel",
      "state": {
       "children": [
        "IPY_MODEL_c86a2e11b5344ac49932ac48d44d5a96",
        "IPY_MODEL_d1870ea516b24a0d8909d0cbf69b3b7a"
       ],
       "layout": "IPY_MODEL_2d561a99b1014adf96bbbf4e21df2705"
      }
     },
     "7f2727c645c5490faa9140d14409ee3b": {
      "model_module": "@jupyter-widgets/controls",
      "model_module_version": "1.4.0",
      "model_name": "VBoxModel",
      "state": {
       "children": [
        "IPY_MODEL_6c9f9fb58ad944ae92ed630efd113e55",
        "IPY_MODEL_e252dec3ea624f4682fb74255d4ca864"
       ],
       "layout": "IPY_MODEL_8e019b0c82fb4b31b6daa06968691373"
      }
     },
     "7f6dc746f68145e29f8b1c21230e2d10": {
      "model_module": "@jupyter-widgets/controls",
      "model_module_version": "1.4.0",
      "model_name": "DropdownModel",
      "state": {
       "_options_labels": [
        "None",
        "rbf",
        "nystroem"
       ],
       "index": 0,
       "layout": "IPY_MODEL_0017ce084e7c4ac89f54c4a3fa730699",
       "style": "IPY_MODEL_5ed6afd3d5f84f278ccd1ec83d64321d"
      }
     },
     "7f7663fb14d5439c84ecfa8a97973d9a": {
      "model_module": "@jupyter-widgets/base",
      "model_module_version": "1.1.0",
      "model_name": "LayoutModel",
      "state": {}
     },
     "80222d6182234cbe93a8aab5edddc7df": {
      "model_module": "@jupyter-widgets/controls",
      "model_module_version": "1.4.0",
      "model_name": "VBoxModel",
      "state": {
       "children": [
        "IPY_MODEL_09aa40e9a963442aba0b0418310d044d",
        "IPY_MODEL_1451d0d8c0f5423fb3a9609c424ea808",
        "IPY_MODEL_452ba9a258da472d8eabb94419292d54",
        "IPY_MODEL_4791a0ee826d4d9299031eb489b99936",
        "IPY_MODEL_a9e9913cecde410e93ed21b8d3c856b1",
        "IPY_MODEL_8f9edca3e963429f814afd73ee31a65f",
        "IPY_MODEL_d5c848c43895405ab716ba6ec29691a4"
       ],
       "layout": "IPY_MODEL_c3dac0e088264ee28bdfb8b24dca3a2b"
      }
     },
     "8025ee2f0dd7420ab14b42c6a44ba535": {
      "model_module": "@jupyter-widgets/controls",
      "model_module_version": "1.4.0",
      "model_name": "DescriptionStyleModel",
      "state": {
       "description_width": ""
      }
     },
     "819fe92afad14831af05233d84ea5f5b": {
      "model_module": "@jupyter-widgets/controls",
      "model_module_version": "1.4.0",
      "model_name": "LabelModel",
      "state": {
       "layout": "IPY_MODEL_fac7969077e149f38c041d0a231a5906",
       "style": "IPY_MODEL_22fbaad3428a4d328aea4ed3939517d1",
       "value": "Model"
      }
     },
     "82bc4e73e79f41a7964320ffa12b776e": {
      "model_module": "@jupyter-widgets/base",
      "model_module_version": "1.1.0",
      "model_name": "LayoutModel",
      "state": {}
     },
     "83bdc8c8774f41e8bd2ad528d0125801": {
      "model_module": "@jupyter-widgets/controls",
      "model_module_version": "1.4.0",
      "model_name": "DescriptionStyleModel",
      "state": {
       "description_width": ""
      }
     },
     "8471235c4ac748ff87612559f293048f": {
      "model_module": "@jupyter-widgets/controls",
      "model_module_version": "1.4.0",
      "model_name": "RadioButtonsModel",
      "state": {
       "_options_labels": [
        "1000",
        "2000",
        "5000",
        "10000"
       ],
       "description": "Size",
       "index": 0,
       "layout": "IPY_MODEL_b6367edefd0f4f0ea8a41b596ccdb40f",
       "style": "IPY_MODEL_a58e79d35b4c41de8a08e575aeeb2b09"
      }
     },
     "84b7376ecf0c4b08a328a1c1e18909dd": {
      "model_module": "@jupyter-widgets/base",
      "model_module_version": "1.1.0",
      "model_name": "LayoutModel",
      "state": {}
     },
     "8522af76c6f34d6296c11ed99054cd0f": {
      "model_module": "@jupyter-widgets/controls",
      "model_module_version": "1.4.0",
      "model_name": "SliderStyleModel",
      "state": {
       "description_width": ""
      }
     },
     "857c25bd2f6040b48e2251b86fb02853": {
      "model_module": "@jupyter-widgets/base",
      "model_module_version": "1.1.0",
      "model_name": "LayoutModel",
      "state": {}
     },
     "85c73a24ab7240b097229437b467b45e": {
      "model_module": "@jupyter-widgets/controls",
      "model_module_version": "1.4.0",
      "model_name": "CheckboxModel",
      "state": {
       "disabled": false,
       "layout": "IPY_MODEL_82bc4e73e79f41a7964320ffa12b776e",
       "style": "IPY_MODEL_9b3ca911be894c97a8df2711133ec67f",
       "value": false
      }
     },
     "85d69b8dbb9e4d2a901d75b113c8d63a": {
      "model_module": "@jupyter-widgets/base",
      "model_module_version": "1.1.0",
      "model_name": "LayoutModel",
      "state": {}
     },
     "872de6ef38e94c93bbf9987d9ca33be8": {
      "model_module": "@jupyter-widgets/controls",
      "model_module_version": "1.4.0",
      "model_name": "DropdownModel",
      "state": {
       "_options_labels": [
        "None",
        "black",
        "grey"
       ],
       "description": "Bagging",
       "index": 0,
       "layout": "IPY_MODEL_b132aa4b1cd54cc2a00425ad30f36520",
       "style": "IPY_MODEL_080fa0a1043a44b3966d54fa15e23fb9"
      }
     },
     "87c14dfa401640e5b004194e440b197c": {
      "model_module": "@jupyter-widgets/controls",
      "model_module_version": "1.4.0",
      "model_name": "ButtonModel",
      "state": {
       "button_style": "info",
       "description": "Add model",
       "layout": "IPY_MODEL_988a0dbca8904ddea13ef13661ab2137",
       "style": "IPY_MODEL_a128ffdbce2c49b7b04ef502dcd309b5"
      }
     },
     "87e7ae8b78fd42f69bfc73f07f155e24": {
      "model_module": "@jupyter-widgets/controls",
      "model_module_version": "1.4.0",
      "model_name": "ButtonModel",
      "state": {
       "button_style": "info",
       "description": "Add model",
       "layout": "IPY_MODEL_22a5a017eb604d3fb9f00ed96d52df39",
       "style": "IPY_MODEL_31e6e7d1f5ae4f4597682f5e9e0704a0"
      }
     },
     "89ed2fc487b1471bb2ac12d405164821": {
      "model_module": "@jupyter-widgets/controls",
      "model_module_version": "1.4.0",
      "model_name": "VBoxModel",
      "state": {
       "children": [
        "IPY_MODEL_7a775e6a3545437ab2c9c9c9d82d27f2",
        "IPY_MODEL_b03694047d9846969be95d0a18c26a67"
       ],
       "layout": "IPY_MODEL_0b0ae7d5795b40c3a8e9aecab618253a"
      }
     },
     "8a1adc239eb54116b74ccc039831cd49": {
      "model_module": "@jupyter-widgets/base",
      "model_module_version": "1.1.0",
      "model_name": "LayoutModel",
      "state": {}
     },
     "8a7257a3f2384340b0f6784faa3abfd3": {
      "model_module": "@jupyter-widgets/controls",
      "model_module_version": "1.4.0",
      "model_name": "DescriptionStyleModel",
      "state": {
       "description_width": ""
      }
     },
     "8ae26fb6b1554932a90d057c1f338bb9": {
      "model_module": "@jupyter-widgets/base",
      "model_module_version": "1.1.0",
      "model_name": "LayoutModel",
      "state": {}
     },
     "8b5db71e000940cc9a17fac1f2995e82": {
      "model_module": "@jupyter-widgets/controls",
      "model_module_version": "1.4.0",
      "model_name": "DropdownModel",
      "state": {
       "_options_labels": [
        "dt",
        "logit",
        "linear_svc"
       ],
       "index": 0,
       "layout": "IPY_MODEL_acba43526f0a458a96db68ab17b4da33",
       "style": "IPY_MODEL_83bdc8c8774f41e8bd2ad528d0125801"
      }
     },
     "8bb49cb4d25d4178b5f47d24e0db7aae": {
      "model_module": "@jupyter-widgets/controls",
      "model_module_version": "1.4.0",
      "model_name": "VBoxModel",
      "state": {
       "children": [
        "IPY_MODEL_a15b2ac23f15486d999d5c1bf6d52938",
        "IPY_MODEL_8b5db71e000940cc9a17fac1f2995e82"
       ],
       "layout": "IPY_MODEL_91a14149ae6c4c67b13fcab6bfabcaa4"
      }
     },
     "8cdd5bba220745ff96bf1a0e66d24e8e": {
      "model_module": "@jupyter-widgets/controls",
      "model_module_version": "1.4.0",
      "model_name": "IntSliderModel",
      "state": {
       "disabled": true,
       "layout": "IPY_MODEL_23a39d7c854a44e5adec8fbe0f818423",
       "max": 200,
       "min": 2,
       "style": "IPY_MODEL_0ab8c5ab729c4a378277bb40c1f004f4",
       "value": 30
      }
     },
     "8dd36db73efa47e5a69d39686d262c82": {
      "model_module": "@jupyter-widgets/controls",
      "model_module_version": "1.4.0",
      "model_name": "DropdownModel",
      "state": {
       "_options_labels": [
        "segment",
        "covertype",
        "digits",
        "fall_detection",
        "mnist",
        "pen_digits",
        "satellite",
        "vowel"
       ],
       "description": "Dataset:",
       "index": 6,
       "layout": "IPY_MODEL_1a82ac4ee9c447c0b9c7d602f4df279d",
       "style": "IPY_MODEL_3b94e2e1056e419f9356d2b751b70fdd"
      }
     },
     "8e019b0c82fb4b31b6daa06968691373": {
      "model_module": "@jupyter-widgets/base",
      "model_module_version": "1.1.0",
      "model_name": "LayoutModel",
      "state": {}
     },
     "8f821fe2b00d4df6a96ab3440b266b4b": {
      "model_module": "@jupyter-widgets/controls",
      "model_module_version": "1.4.0",
      "model_name": "VBoxModel",
      "state": {
       "children": [
        "IPY_MODEL_819fe92afad14831af05233d84ea5f5b",
        "IPY_MODEL_21fa5c86597c4188b4fb7d894d40092a"
       ],
       "layout": "IPY_MODEL_39c528de15f444ca816e8b99f6e9d923"
      }
     },
     "8f9edca3e963429f814afd73ee31a65f": {
      "model_module": "@jupyter-widgets/controls",
      "model_module_version": "1.4.0",
      "model_name": "HBoxModel",
      "state": {
       "children": [
        "IPY_MODEL_8bb49cb4d25d4178b5f47d24e0db7aae",
        "IPY_MODEL_afcda5a4a8664b1d9cc103afdc691720",
        "IPY_MODEL_a00db8d3b348407387f29faa7022b64b",
        "IPY_MODEL_16bf27fe9d814734896fbdcc7ff35320",
        "IPY_MODEL_42c87af407b04fe1bf9850654bfe9a53"
       ],
       "layout": "IPY_MODEL_3d36e64f1eba41278409866b5e9d786c"
      }
     },
     "9112feac58eb41d1b8a49ee1cec84f7f": {
      "model_module": "@jupyter-widgets/base",
      "model_module_version": "1.1.0",
      "model_name": "LayoutModel",
      "state": {}
     },
     "916cb1615d724c27b576fd5b1507ae1b": {
      "model_module": "@jupyter-widgets/controls",
      "model_module_version": "1.4.0",
      "model_name": "DropdownModel",
      "state": {
       "_options_labels": [
        "None",
        "rbf",
        "nystroem"
       ],
       "index": 0,
       "layout": "IPY_MODEL_b20e07da94074b65b006b44af2b7c5da",
       "style": "IPY_MODEL_2ab0aae178a74940a72c4835d3722fdf"
      }
     },
     "91a14149ae6c4c67b13fcab6bfabcaa4": {
      "model_module": "@jupyter-widgets/base",
      "model_module_version": "1.1.0",
      "model_name": "LayoutModel",
      "state": {}
     },
     "91e72d695fe64e6d8bc3b312d97d4372": {
      "model_module": "@jupyter-widgets/controls",
      "model_module_version": "1.4.0",
      "model_name": "VBoxModel",
      "state": {
       "children": [
        "IPY_MODEL_a0b35646db924f68961d658ab1e0aeef",
        "IPY_MODEL_0dae7c9927f042f693dc29f33ac26974"
       ],
       "layout": "IPY_MODEL_c3f4acc3d4e544b58165a0b1b78bfb6e"
      }
     },
     "939aac5daa0049a2aac6947b1bca515a": {
      "model_module": "@jupyter-widgets/base",
      "model_module_version": "1.1.0",
      "model_name": "LayoutModel",
      "state": {}
     },
     "96a17f4b8b4e4991bc295a99036a1ab4": {
      "model_module": "@jupyter-widgets/base",
      "model_module_version": "1.1.0",
      "model_name": "LayoutModel",
      "state": {}
     },
     "971c524c374a47699e7fb46a115d5481": {
      "model_module": "@jupyter-widgets/controls",
      "model_module_version": "1.4.0",
      "model_name": "SliderStyleModel",
      "state": {
       "description_width": ""
      }
     },
     "98644ac9898a40618e6bed41d186f95d": {
      "model_module": "@jupyter-widgets/output",
      "model_module_version": "1.0.0",
      "model_name": "OutputModel",
      "state": {
       "layout": "IPY_MODEL_eaad7db2693746c3844532e7ca1d754c"
      }
     },
     "988a0dbca8904ddea13ef13661ab2137": {
      "model_module": "@jupyter-widgets/base",
      "model_module_version": "1.1.0",
      "model_name": "LayoutModel",
      "state": {}
     },
     "98cee51dbded483ea4082803b588af98": {
      "model_module": "@jupyter-widgets/base",
      "model_module_version": "1.1.0",
      "model_name": "LayoutModel",
      "state": {}
     },
     "9b3ca911be894c97a8df2711133ec67f": {
      "model_module": "@jupyter-widgets/controls",
      "model_module_version": "1.4.0",
      "model_name": "DescriptionStyleModel",
      "state": {
       "description_width": ""
      }
     },
     "9c0dc79b6b72464b9c3330693c5c4d15": {
      "model_module": "@jupyter-widgets/base",
      "model_module_version": "1.1.0",
      "model_name": "LayoutModel",
      "state": {}
     },
     "9da7f73601f0456285c148f236b516ad": {
      "model_module": "@jupyter-widgets/base",
      "model_module_version": "1.1.0",
      "model_name": "LayoutModel",
      "state": {}
     },
     "9e720bb074f34d008163f20c184474ab": {
      "model_module": "@jupyter-widgets/controls",
      "model_module_version": "1.4.0",
      "model_name": "DescriptionStyleModel",
      "state": {
       "description_width": ""
      }
     },
     "9fb55d5796f54b1bbbd56710a79f4972": {
      "model_module": "@jupyter-widgets/controls",
      "model_module_version": "1.4.0",
      "model_name": "SliderStyleModel",
      "state": {
       "description_width": ""
      }
     },
     "a00db8d3b348407387f29faa7022b64b": {
      "model_module": "@jupyter-widgets/controls",
      "model_module_version": "1.4.0",
      "model_name": "VBoxModel",
      "state": {
       "children": [
        "IPY_MODEL_403256513c894b0bb99273c412b8a6db",
        "IPY_MODEL_d1521e7066f545f8b18b98f670e81b4a"
       ],
       "layout": "IPY_MODEL_d2dfe577532f4bb58f569841a176b97f"
      }
     },
     "a01455667f9d40fb8e0023d4e0fab394": {
      "model_module": "@jupyter-widgets/controls",
      "model_module_version": "1.4.0",
      "model_name": "LabelModel",
      "state": {
       "layout": "IPY_MODEL_0ab01fd42ee540e497409c34316b4fc5",
       "style": "IPY_MODEL_02647628aa824336b64e3fd3a374a85c",
       "value": "Model"
      }
     },
     "a0b35646db924f68961d658ab1e0aeef": {
      "model_module": "@jupyter-widgets/controls",
      "model_module_version": "1.4.0",
      "model_name": "LabelModel",
      "state": {
       "layout": "IPY_MODEL_f256baa60e5c44dd9f6e2ea9347bdeeb",
       "style": "IPY_MODEL_eee1c514affb4038be2a8acfb8568350",
       "value": "PCA?"
      }
     },
     "a0b3d2ca1556440694390fc8e2cc442b": {
      "model_module": "@jupyter-widgets/base",
      "model_module_version": "1.1.0",
      "model_name": "LayoutModel",
      "state": {}
     },
     "a0f86c08d86a4f5ba7abea8880e06df7": {
      "model_module": "@jupyter-widgets/controls",
      "model_module_version": "1.4.0",
      "model_name": "DropdownModel",
      "state": {
       "_options_labels": [
        "dt",
        "logit",
        "linear_svc"
       ],
       "description": "Model",
       "index": 0,
       "layout": "IPY_MODEL_06f8bb96877743f5a9580a5b1629b5d8",
       "style": "IPY_MODEL_73cee36ed7f048f68a536167b1c3958c"
      }
     },
     "a128ffdbce2c49b7b04ef502dcd309b5": {
      "model_module": "@jupyter-widgets/controls",
      "model_module_version": "1.4.0",
      "model_name": "ButtonStyleModel",
      "state": {}
     },
     "a1333b4b8b294323adcbe599fdb9a221": {
      "model_module": "@jupyter-widgets/controls",
      "model_module_version": "1.4.0",
      "model_name": "SliderStyleModel",
      "state": {
       "description_width": ""
      }
     },
     "a14c46c818fd453c9d1266ea0c92011b": {
      "model_module": "@jupyter-widgets/controls",
      "model_module_version": "1.4.0",
      "model_name": "DescriptionStyleModel",
      "state": {
       "description_width": ""
      }
     },
     "a15b2ac23f15486d999d5c1bf6d52938": {
      "model_module": "@jupyter-widgets/controls",
      "model_module_version": "1.4.0",
      "model_name": "LabelModel",
      "state": {
       "layout": "IPY_MODEL_fbc0b8239074423380da261572f88581",
       "style": "IPY_MODEL_63437bd6ef9c4679aa190d8953260f09",
       "value": "Model"
      }
     },
     "a239865b7df54f8182cd4c2dfd62f7fb": {
      "model_module": "@jupyter-widgets/controls",
      "model_module_version": "1.4.0",
      "model_name": "VBoxModel",
      "state": {
       "children": [
        "IPY_MODEL_d3151ac03c634d86b81c3f2738e51453",
        "IPY_MODEL_a0f86c08d86a4f5ba7abea8880e06df7",
        "IPY_MODEL_d78e1f3eccf54de3a8895419c6b33672",
        "IPY_MODEL_6bf44a5b91b74e68acecbee2a4301d8a",
        "IPY_MODEL_4a0dbf13ebe14adc921178fef0e47d03",
        "IPY_MODEL_6cd98ec96e0e427a8315641c5dc32636",
        "IPY_MODEL_d99de505c8e84db385f13fc55b5f90f4"
       ],
       "layout": "IPY_MODEL_04413c5da3e147daace890163d0eee4f"
      }
     },
     "a34c84af125d4e9186375ccff9114f30": {
      "model_module": "@jupyter-widgets/controls",
      "model_module_version": "1.4.0",
      "model_name": "ButtonStyleModel",
      "state": {}
     },
     "a432a003384d41ddb82a2a7a4b9231d3": {
      "model_module": "@jupyter-widgets/controls",
      "model_module_version": "1.4.0",
      "model_name": "DescriptionStyleModel",
      "state": {
       "description_width": ""
      }
     },
     "a4ad6dea30d74e4ebbb469028249723c": {
      "model_module": "@jupyter-widgets/base",
      "model_module_version": "1.1.0",
      "model_name": "LayoutModel",
      "state": {}
     },
     "a50eb94cb6124484878c72c954a25935": {
      "model_module": "@jupyter-widgets/controls",
      "model_module_version": "1.4.0",
      "model_name": "SliderStyleModel",
      "state": {
       "description_width": ""
      }
     },
     "a52fe5d852fe46b699b2e16e3300b125": {
      "model_module": "@jupyter-widgets/controls",
      "model_module_version": "1.4.0",
      "model_name": "DropdownModel",
      "state": {
       "_options_labels": [
        "rbf",
        "nystroem"
       ],
       "description": "Sampler",
       "index": 0,
       "layout": "IPY_MODEL_e18ff415fe8245ee976b6f670dae8ac7",
       "style": "IPY_MODEL_f8f0935b3f954887a214d94d74db566f"
      }
     },
     "a5715f3d3da64b0ba5fe49be1b2a8dae": {
      "model_module": "@jupyter-widgets/controls",
      "model_module_version": "1.4.0",
      "model_name": "RadioButtonsModel",
      "state": {
       "_options_labels": [
        "1000",
        "2000",
        "5000",
        "10000"
       ],
       "description": "Size",
       "index": 0,
       "layout": "IPY_MODEL_296f21a39cc84f568e12248916a7c25e",
       "style": "IPY_MODEL_4f8d6773ac694dbc8a1fa2d8cb59f820"
      }
     },
     "a58e79d35b4c41de8a08e575aeeb2b09": {
      "model_module": "@jupyter-widgets/controls",
      "model_module_version": "1.4.0",
      "model_name": "DescriptionStyleModel",
      "state": {
       "description_width": ""
      }
     },
     "a763b2e354f84a91b9554f92b60059fd": {
      "model_module": "@jupyter-widgets/base",
      "model_module_version": "1.1.0",
      "model_name": "LayoutModel",
      "state": {
       "border": "3px solid black"
      }
     },
     "a7920280220b4341a6bfd92c80160402": {
      "model_module": "@jupyter-widgets/base",
      "model_module_version": "1.1.0",
      "model_name": "LayoutModel",
      "state": {}
     },
     "a80471b30e9b4966ac12b582468f5c85": {
      "model_module": "@jupyter-widgets/base",
      "model_module_version": "1.1.0",
      "model_name": "LayoutModel",
      "state": {}
     },
     "a8bd9053a915459a9dd0eb7938618df5": {
      "model_module": "@jupyter-widgets/controls",
      "model_module_version": "1.4.0",
      "model_name": "DropdownModel",
      "state": {
       "_options_labels": [
        "None",
        "black",
        "grey"
       ],
       "description": "Bagging",
       "index": 0,
       "layout": "IPY_MODEL_ee590044c1924345a66436e28d9ddc32",
       "style": "IPY_MODEL_619691a9b3ab4c58b26c57677c26a0c3"
      }
     },
     "a930d98a2b1a4e21b38b1afcb4a69ad4": {
      "model_module": "@jupyter-widgets/controls",
      "model_module_version": "1.4.0",
      "model_name": "IntRangeSliderModel",
      "state": {
       "_model_name": "IntRangeSliderModel",
       "_view_name": "IntRangeSliderView",
       "description": "Features",
       "layout": "IPY_MODEL_315c28a61916439eba3a609bd5c47f94",
       "max": 400,
       "min": 30,
       "step": 10,
       "style": "IPY_MODEL_10e7691a0a2a47b68247da872cce673c",
       "value": [
        30,
        100
       ]
      }
     },
     "a9e9913cecde410e93ed21b8d3c856b1": {
      "model_module": "@jupyter-widgets/controls",
      "model_module_version": "1.4.0",
      "model_name": "IntRangeSliderModel",
      "state": {
       "_model_name": "IntRangeSliderModel",
       "_view_name": "IntRangeSliderView",
       "disabled": true,
       "layout": "IPY_MODEL_40061ce0b23c47f1b88b1c5c018896e8",
       "max": 400,
       "min": 30,
       "step": 10,
       "style": "IPY_MODEL_a1333b4b8b294323adcbe599fdb9a221",
       "value": [
        30,
        100
       ]
      }
     },
     "a9fd52de757b48bc85382f7a106545cc": {
      "model_module": "@jupyter-widgets/controls",
      "model_module_version": "1.4.0",
      "model_name": "ButtonStyleModel",
      "state": {}
     },
     "acba43526f0a458a96db68ab17b4da33": {
      "model_module": "@jupyter-widgets/base",
      "model_module_version": "1.1.0",
      "model_name": "LayoutModel",
      "state": {
       "width": "90px"
      }
     },
     "ae507b51582b46ecafcd6fb7755e8d36": {
      "model_module": "@jupyter-widgets/controls",
      "model_module_version": "1.4.0",
      "model_name": "DescriptionStyleModel",
      "state": {
       "description_width": ""
      }
     },
     "aea4a68d3cba4e7f8ea09b0462fcf520": {
      "model_module": "@jupyter-widgets/base",
      "model_module_version": "1.1.0",
      "model_name": "LayoutModel",
      "state": {}
     },
     "afac85cff2ae46b8b2db75637f49bd18": {
      "model_module": "@jupyter-widgets/controls",
      "model_module_version": "1.4.0",
      "model_name": "DescriptionStyleModel",
      "state": {
       "description_width": ""
      }
     },
     "afcda5a4a8664b1d9cc103afdc691720": {
      "model_module": "@jupyter-widgets/controls",
      "model_module_version": "1.4.0",
      "model_name": "VBoxModel",
      "state": {
       "children": [
        "IPY_MODEL_0a65b1f0159343f1a5f6dc00d89e8e7a",
        "IPY_MODEL_1f880586996f4b3ea970a7c153a85b29"
       ],
       "layout": "IPY_MODEL_cefe911a1fa74009bfc4b0ec6b4e0e89"
      }
     },
     "b01f012e73044d9ca582fcf9ddcd5527": {
      "model_module": "@jupyter-widgets/controls",
      "model_module_version": "1.4.0",
      "model_name": "DescriptionStyleModel",
      "state": {
       "description_width": ""
      }
     },
     "b03694047d9846969be95d0a18c26a67": {
      "model_module": "@jupyter-widgets/controls",
      "model_module_version": "1.4.0",
      "model_name": "DropdownModel",
      "state": {
       "_options_labels": [
        "None",
        "black",
        "grey"
       ],
       "index": 0,
       "layout": "IPY_MODEL_0017ce084e7c4ac89f54c4a3fa730699",
       "style": "IPY_MODEL_d6fb90b5583c4d60bd02a11caf3dd921"
      }
     },
     "b132aa4b1cd54cc2a00425ad30f36520": {
      "model_module": "@jupyter-widgets/base",
      "model_module_version": "1.1.0",
      "model_name": "LayoutModel",
      "state": {}
     },
     "b20e07da94074b65b006b44af2b7c5da": {
      "model_module": "@jupyter-widgets/base",
      "model_module_version": "1.1.0",
      "model_name": "LayoutModel",
      "state": {
       "width": "90px"
      }
     },
     "b2dcd400658b4977874d0d51b2de5a59": {
      "model_module": "@jupyter-widgets/controls",
      "model_module_version": "1.4.0",
      "model_name": "ButtonModel",
      "state": {
       "button_style": "warning",
       "description": "Remove model",
       "layout": "IPY_MODEL_8ae26fb6b1554932a90d057c1f338bb9",
       "style": "IPY_MODEL_e619d103dce946e3aa9383d49bc29abd"
      }
     },
     "b4c03b9e7ce34de496e4ef91d00563e5": {
      "model_module": "@jupyter-widgets/output",
      "model_module_version": "1.0.0",
      "model_name": "OutputModel",
      "state": {
       "layout": "IPY_MODEL_e77c531c7d4c4f2b8c47b34a5b46f9fe"
      }
     },
     "b5192905cc524e57bc8755a006108f72": {
      "model_module": "@jupyter-widgets/controls",
      "model_module_version": "1.4.0",
      "model_name": "IntRangeSliderModel",
      "state": {
       "_model_name": "IntRangeSliderModel",
       "_view_name": "IntRangeSliderView",
       "description": "Features",
       "layout": "IPY_MODEL_cec2c1a740a9478abb6d2cba46a019f9",
       "max": 400,
       "min": 30,
       "step": 10,
       "style": "IPY_MODEL_5d6824b7a55a43509a62d0359615bae7",
       "value": [
        30,
        100
       ]
      }
     },
     "b5933728c6d84bbfb477adcf239a6dc6": {
      "model_module": "@jupyter-widgets/base",
      "model_module_version": "1.1.0",
      "model_name": "LayoutModel",
      "state": {}
     },
     "b6367edefd0f4f0ea8a41b596ccdb40f": {
      "model_module": "@jupyter-widgets/base",
      "model_module_version": "1.1.0",
      "model_name": "LayoutModel",
      "state": {}
     },
     "b9621956c233480d8932a2e3f00641bf": {
      "model_module": "@jupyter-widgets/controls",
      "model_module_version": "1.4.0",
      "model_name": "ButtonStyleModel",
      "state": {}
     },
     "bbe8186495694537ab70e625fdc05a63": {
      "model_module": "@jupyter-widgets/controls",
      "model_module_version": "1.4.0",
      "model_name": "VBoxModel",
      "state": {
       "children": [
        "IPY_MODEL_7b33f1a0d5e849f28282890039d0c0bf",
        "IPY_MODEL_d8eb923e98104a1899256e77f44c6caf"
       ],
       "layout": "IPY_MODEL_a7920280220b4341a6bfd92c80160402"
      }
     },
     "bc4a89b52dc740b5b62bb80892d2c6e8": {
      "model_module": "@jupyter-widgets/base",
      "model_module_version": "1.1.0",
      "model_name": "LayoutModel",
      "state": {}
     },
     "bdc42fafc6cc42e8a9b0ab34a3540ef7": {
      "model_module": "@jupyter-widgets/controls",
      "model_module_version": "1.4.0",
      "model_name": "SliderStyleModel",
      "state": {
       "description_width": ""
      }
     },
     "be037d2444ed4ff6b66d1701009c3c0c": {
      "model_module": "@jupyter-widgets/controls",
      "model_module_version": "1.4.0",
      "model_name": "DescriptionStyleModel",
      "state": {
       "description_width": ""
      }
     },
     "be9589192b104799bba5f2cfbd7135d3": {
      "model_module": "@jupyter-widgets/controls",
      "model_module_version": "1.4.0",
      "model_name": "VBoxModel",
      "state": {
       "children": [
        "IPY_MODEL_a01455667f9d40fb8e0023d4e0fab394",
        "IPY_MODEL_27ee87b7350546949815768f265dfe66"
       ],
       "layout": "IPY_MODEL_ee9232ebe99d44769ed2b07076bd2b58"
      }
     },
     "bedf2198b9ba4a1f89555f68926aab2b": {
      "model_module": "@jupyter-widgets/base",
      "model_module_version": "1.1.0",
      "model_name": "LayoutModel",
      "state": {}
     },
     "bfc224f9f32a467a8c1276515401c6e3": {
      "model_module": "@jupyter-widgets/base",
      "model_module_version": "1.1.0",
      "model_name": "LayoutModel",
      "state": {}
     },
     "c3dac0e088264ee28bdfb8b24dca3a2b": {
      "model_module": "@jupyter-widgets/base",
      "model_module_version": "1.1.0",
      "model_name": "LayoutModel",
      "state": {}
     },
     "c3f4acc3d4e544b58165a0b1b78bfb6e": {
      "model_module": "@jupyter-widgets/base",
      "model_module_version": "1.1.0",
      "model_name": "LayoutModel",
      "state": {}
     },
     "c45d12af92304c1c89e9a2aed7d2a072": {
      "model_module": "@jupyter-widgets/base",
      "model_module_version": "1.1.0",
      "model_name": "LayoutModel",
      "state": {}
     },
     "c542ca4822844a008b624d6e8dc60841": {
      "model_module": "@jupyter-widgets/controls",
      "model_module_version": "1.4.0",
      "model_name": "ButtonModel",
      "state": {
       "button_style": "warning",
       "description": "Remove model",
       "layout": "IPY_MODEL_d6c800d606184209979945ef62c549bb",
       "style": "IPY_MODEL_2d59301fbeab40a1a0a697fe88173f77"
      }
     },
     "c63255c919e3462b8a8813afb8fa5913": {
      "model_module": "@jupyter-widgets/controls",
      "model_module_version": "1.4.0",
      "model_name": "HBoxModel",
      "state": {
       "children": [
        "IPY_MODEL_be9589192b104799bba5f2cfbd7135d3",
        "IPY_MODEL_749b6499b369497b97e0c4b7b3997f28",
        "IPY_MODEL_bbe8186495694537ab70e625fdc05a63",
        "IPY_MODEL_7e1553ca8dd54ac4a1d500e5ba641cf3",
        "IPY_MODEL_7f2727c645c5490faa9140d14409ee3b"
       ],
       "layout": "IPY_MODEL_254eb467bb864796933b96d04ec89f11"
      }
     },
     "c69c6a969d2a42a19a8163307680928d": {
      "model_module": "@jupyter-widgets/base",
      "model_module_version": "1.1.0",
      "model_name": "LayoutModel",
      "state": {}
     },
     "c758453c931a473987d19055aca31a4c": {
      "model_module": "@jupyter-widgets/controls",
      "model_module_version": "1.4.0",
      "model_name": "DescriptionStyleModel",
      "state": {
       "description_width": ""
      }
     },
     "c815ed0810974fc0a131bdb9ffea3f2f": {
      "model_module": "@jupyter-widgets/controls",
      "model_module_version": "1.4.0",
      "model_name": "VBoxModel",
      "state": {
       "children": [
        "IPY_MODEL_04c0deb3c17f4a86889629b8db770e53",
        "IPY_MODEL_2486879a9590450a905ca3912f577056"
       ],
       "layout": "IPY_MODEL_d1883bb0e6634784af7b78a9abe63f46"
      }
     },
     "c86a2e11b5344ac49932ac48d44d5a96": {
      "model_module": "@jupyter-widgets/controls",
      "model_module_version": "1.4.0",
      "model_name": "LabelModel",
      "state": {
       "layout": "IPY_MODEL_45e2f335ec14409d9112f1d2f42b2d56",
       "style": "IPY_MODEL_d8ac2854085e443b9fa540041f673f49",
       "value": "Number Estimators"
      }
     },
     "c93bd2412b3a4b14876ead9be3704775": {
      "model_module": "@jupyter-widgets/base",
      "model_module_version": "1.1.0",
      "model_name": "LayoutModel",
      "state": {}
     },
     "ca81fad2f4f34521a4dadcb4ad62d0f5": {
      "model_module": "@jupyter-widgets/controls",
      "model_module_version": "1.4.0",
      "model_name": "VBoxModel",
      "state": {
       "children": [
        "IPY_MODEL_740d47043ff349ed96f94a6b7ac1aa91",
        "IPY_MODEL_db0cee68db0a4505be8d8d84559ae21d"
       ],
       "layout": "IPY_MODEL_0b77452cce294a88b4d47258ab3d70f6"
      }
     },
     "cbae735bd0f64cec92c55740a568d076": {
      "model_module": "@jupyter-widgets/base",
      "model_module_version": "1.1.0",
      "model_name": "LayoutModel",
      "state": {}
     },
     "cec2c1a740a9478abb6d2cba46a019f9": {
      "model_module": "@jupyter-widgets/base",
      "model_module_version": "1.1.0",
      "model_name": "LayoutModel",
      "state": {}
     },
     "cefe911a1fa74009bfc4b0ec6b4e0e89": {
      "model_module": "@jupyter-widgets/base",
      "model_module_version": "1.1.0",
      "model_name": "LayoutModel",
      "state": {}
     },
     "d0d0c6dd61734a1fb7cfc266ba55f113": {
      "model_module": "@jupyter-widgets/base",
      "model_module_version": "1.1.0",
      "model_name": "LayoutModel",
      "state": {
       "visibility": "hidden",
       "width": "300px"
      }
     },
     "d1521e7066f545f8b18b98f670e81b4a": {
      "model_module": "@jupyter-widgets/controls",
      "model_module_version": "1.4.0",
      "model_name": "DropdownModel",
      "state": {
       "_options_labels": [
        "None",
        "black",
        "grey"
       ],
       "index": 0,
       "layout": "IPY_MODEL_acba43526f0a458a96db68ab17b4da33",
       "style": "IPY_MODEL_9e720bb074f34d008163f20c184474ab"
      }
     },
     "d1601d1ab3554e259c25078762e9662e": {
      "model_module": "@jupyter-widgets/controls",
      "model_module_version": "1.4.0",
      "model_name": "VBoxModel",
      "state": {
       "children": [
        "IPY_MODEL_28f9752bf6724a3c837467528b5f4b0d",
        "IPY_MODEL_8471235c4ac748ff87612559f293048f",
        "IPY_MODEL_e3b8deda79234cc091c1fc94606be37c",
        "IPY_MODEL_b2dcd400658b4977874d0d51b2de5a59",
        "IPY_MODEL_55a25fd9e0264ff78b33081adcc18441",
        "IPY_MODEL_4beeb3159d7e4a72aafa8daa924debbb",
        "IPY_MODEL_1347d94e3d5c47f381f1349ab3342c87"
       ],
       "layout": "IPY_MODEL_9da7f73601f0456285c148f236b516ad"
      }
     },
     "d1870ea516b24a0d8909d0cbf69b3b7a": {
      "model_module": "@jupyter-widgets/controls",
      "model_module_version": "1.4.0",
      "model_name": "IntSliderModel",
      "state": {
       "disabled": true,
       "layout": "IPY_MODEL_1a90a6e678b84653b00548db7aea3314",
       "max": 200,
       "min": 2,
       "style": "IPY_MODEL_781a8bf802ed4435b42054dbd5434cca",
       "value": 30
      }
     },
     "d1883bb0e6634784af7b78a9abe63f46": {
      "model_module": "@jupyter-widgets/base",
      "model_module_version": "1.1.0",
      "model_name": "LayoutModel",
      "state": {}
     },
     "d24e6325521a4e7c93adf5009db9ae06": {
      "model_module": "@jupyter-widgets/controls",
      "model_module_version": "1.4.0",
      "model_name": "DescriptionStyleModel",
      "state": {
       "description_width": ""
      }
     },
     "d2dfe577532f4bb58f569841a176b97f": {
      "model_module": "@jupyter-widgets/base",
      "model_module_version": "1.1.0",
      "model_name": "LayoutModel",
      "state": {}
     },
     "d3151ac03c634d86b81c3f2738e51453": {
      "model_module": "@jupyter-widgets/controls",
      "model_module_version": "1.4.0",
      "model_name": "DropdownModel",
      "state": {
       "_options_labels": [
        "segment",
        "covertype",
        "digits",
        "fall_detection",
        "mnist",
        "pen_digits",
        "satellite",
        "vowel"
       ],
       "description": "Dataset:",
       "index": 0,
       "layout": "IPY_MODEL_06a274da8e55423994f3f84c8ddfa940",
       "style": "IPY_MODEL_d24e6325521a4e7c93adf5009db9ae06"
      }
     },
     "d5c848c43895405ab716ba6ec29691a4": {
      "model_module": "@jupyter-widgets/controls",
      "model_module_version": "1.4.0",
      "model_name": "ButtonModel",
      "state": {
       "button_style": "info",
       "description": "Demo0",
       "layout": "IPY_MODEL_29671bfe667d4d5f87f7f090b33b6d4a",
       "style": "IPY_MODEL_2358b2a155f944588a742c97bf49f6ea"
      }
     },
     "d5d368fb88cc462abde314915e947e1b": {
      "model_module": "@jupyter-widgets/base",
      "model_module_version": "1.1.0",
      "model_name": "LayoutModel",
      "state": {}
     },
     "d621928375484b2d85b0017a77ceeb89": {
      "model_module": "@jupyter-widgets/controls",
      "model_module_version": "1.4.0",
      "model_name": "VBoxModel",
      "state": {
       "children": [
        "IPY_MODEL_1c3a8245ee754e9690b5c86ee2d55203",
        "IPY_MODEL_3b76ffc2748f4d348e66f9272e9cd22a",
        "IPY_MODEL_ff88c634052540c78e1ef9c0b021258a",
        "IPY_MODEL_a930d98a2b1a4e21b38b1afcb4a69ad4",
        "IPY_MODEL_a8bd9053a915459a9dd0eb7938618df5",
        "IPY_MODEL_3d9c9085d1924d70b274e7f769b71710",
        "IPY_MODEL_618de01ab5ba4460a4b7faeb16bfa6c5"
       ],
       "layout": "IPY_MODEL_d8d3bb2232034c608f71b6bbc7b63ee6"
      }
     },
     "d6c800d606184209979945ef62c549bb": {
      "model_module": "@jupyter-widgets/base",
      "model_module_version": "1.1.0",
      "model_name": "LayoutModel",
      "state": {}
     },
     "d6ddabf5b17e4ef0a2f417d4cebed56e": {
      "model_module": "@jupyter-widgets/base",
      "model_module_version": "1.1.0",
      "model_name": "LayoutModel",
      "state": {}
     },
     "d6fb90b5583c4d60bd02a11caf3dd921": {
      "model_module": "@jupyter-widgets/controls",
      "model_module_version": "1.4.0",
      "model_name": "DescriptionStyleModel",
      "state": {
       "description_width": ""
      }
     },
     "d78e1f3eccf54de3a8895419c6b33672": {
      "model_module": "@jupyter-widgets/controls",
      "model_module_version": "1.4.0",
      "model_name": "DropdownModel",
      "state": {
       "_options_labels": [
        "rbf",
        "nystroem"
       ],
       "description": "Sampler",
       "index": 0,
       "layout": "IPY_MODEL_0f580ac2c41a4a9394790df4f3c5cdc3",
       "style": "IPY_MODEL_697dff2561454d8bae102a595f51555d"
      }
     },
     "d8ac2854085e443b9fa540041f673f49": {
      "model_module": "@jupyter-widgets/controls",
      "model_module_version": "1.4.0",
      "model_name": "DescriptionStyleModel",
      "state": {
       "description_width": ""
      }
     },
     "d8d3bb2232034c608f71b6bbc7b63ee6": {
      "model_module": "@jupyter-widgets/base",
      "model_module_version": "1.1.0",
      "model_name": "LayoutModel",
      "state": {}
     },
     "d8eb923e98104a1899256e77f44c6caf": {
      "model_module": "@jupyter-widgets/controls",
      "model_module_version": "1.4.0",
      "model_name": "DropdownModel",
      "state": {
       "_options_labels": [
        "None",
        "black",
        "grey"
       ],
       "index": 0,
       "layout": "IPY_MODEL_b20e07da94074b65b006b44af2b7c5da",
       "style": "IPY_MODEL_7aa019bcde39450abb00f2a7402e47bf"
      }
     },
     "d971a0bbfe44463aaee090ab5952ea29": {
      "model_module": "@jupyter-widgets/controls",
      "model_module_version": "1.4.0",
      "model_name": "DescriptionStyleModel",
      "state": {
       "description_width": ""
      }
     },
     "d99de505c8e84db385f13fc55b5f90f4": {
      "model_module": "@jupyter-widgets/controls",
      "model_module_version": "1.4.0",
      "model_name": "ButtonModel",
      "state": {
       "button_style": "info",
       "description": "Demo5",
       "layout": "IPY_MODEL_2e2af3d2423b4a67b20a5ac747ae7bf7",
       "style": "IPY_MODEL_b9621956c233480d8932a2e3f00641bf"
      }
     },
     "daa4ce33a7714b1091f699cc027d79b8": {
      "model_module": "@jupyter-widgets/controls",
      "model_module_version": "1.4.0",
      "model_name": "VBoxModel",
      "state": {
       "children": [
        "IPY_MODEL_5d73a1f3f21f4c78a7d9af4daa48b88b",
        "IPY_MODEL_0abef154fa0c4922bdbac0acdd0c2eaf"
       ],
       "layout": "IPY_MODEL_097743bdac7247d1a220862fe64aaf88"
      }
     },
     "db0cee68db0a4505be8d8d84559ae21d": {
      "model_module": "@jupyter-widgets/controls",
      "model_module_version": "1.4.0",
      "model_name": "DropdownModel",
      "state": {
       "_options_labels": [
        "None",
        "black",
        "grey"
       ],
       "index": 0,
       "layout": "IPY_MODEL_2e7679ee02ce4c179cc2e21c6fae378d",
       "style": "IPY_MODEL_58a8c056c6284903bebd0301e26be2a8"
      }
     },
     "dbca8feb4f5445f78b4ba0aafc09c1b7": {
      "model_module": "@jupyter-widgets/controls",
      "model_module_version": "1.4.0",
      "model_name": "DescriptionStyleModel",
      "state": {
       "description_width": ""
      }
     },
     "de139128ab53497db618859331466101": {
      "model_module": "@jupyter-widgets/base",
      "model_module_version": "1.1.0",
      "model_name": "LayoutModel",
      "state": {}
     },
     "de79c7fb56c54754a306ffda20d3707b": {
      "model_module": "@jupyter-widgets/base",
      "model_module_version": "1.1.0",
      "model_name": "LayoutModel",
      "state": {}
     },
     "e031d3133b0646489ae9bee179ba252d": {
      "model_module": "@jupyter-widgets/base",
      "model_module_version": "1.1.0",
      "model_name": "LayoutModel",
      "state": {}
     },
     "e18ff415fe8245ee976b6f670dae8ac7": {
      "model_module": "@jupyter-widgets/base",
      "model_module_version": "1.1.0",
      "model_name": "LayoutModel",
      "state": {}
     },
     "e252dec3ea624f4682fb74255d4ca864": {
      "model_module": "@jupyter-widgets/controls",
      "model_module_version": "1.4.0",
      "model_name": "CheckboxModel",
      "state": {
       "disabled": false,
       "layout": "IPY_MODEL_b5933728c6d84bbfb477adcf239a6dc6",
       "style": "IPY_MODEL_dbca8feb4f5445f78b4ba0aafc09c1b7",
       "value": false
      }
     },
     "e2ca3ff178c94d028688d5be0a55c240": {
      "model_module": "@jupyter-widgets/controls",
      "model_module_version": "1.4.0",
      "model_name": "SliderStyleModel",
      "state": {
       "description_width": ""
      }
     },
     "e330389788c440a5ae66d01b1df1127c": {
      "model_module": "@jupyter-widgets/base",
      "model_module_version": "1.1.0",
      "model_name": "LayoutModel",
      "state": {
       "visibility": "hidden",
       "width": "300px"
      }
     },
     "e3b8deda79234cc091c1fc94606be37c": {
      "model_module": "@jupyter-widgets/controls",
      "model_module_version": "1.4.0",
      "model_name": "ButtonModel",
      "state": {
       "button_style": "info",
       "description": "Add model",
       "layout": "IPY_MODEL_7459ef49060947f3970e36ea260b9c7c",
       "style": "IPY_MODEL_a9fd52de757b48bc85382f7a106545cc"
      }
     },
     "e4416905fe6649a4925ab40e9083a5ce": {
      "model_module": "@jupyter-widgets/controls",
      "model_module_version": "1.4.0",
      "model_name": "VBoxModel",
      "state": {
       "children": [
        "IPY_MODEL_e70b435079db437d84cc446d1c75b42d",
        "IPY_MODEL_20ce1bf1ccc14c9aa9c02f57c7783720"
       ],
       "layout": "IPY_MODEL_52817a4774a94490963368b208f82545"
      }
     },
     "e565339535324065a316ee386d6ac4b6": {
      "model_module": "@jupyter-widgets/controls",
      "model_module_version": "1.4.0",
      "model_name": "DropdownModel",
      "state": {
       "_options_labels": [
        "segment",
        "covertype",
        "digits",
        "fall_detection",
        "mnist",
        "pen_digits",
        "satellite",
        "vowel"
       ],
       "description": "Dataset:",
       "index": 0,
       "layout": "IPY_MODEL_198292f64f734500afa1ec2e7d2e1c6c",
       "style": "IPY_MODEL_e738ba88beba4720b400d7aa2b8b7e51"
      }
     },
     "e619d103dce946e3aa9383d49bc29abd": {
      "model_module": "@jupyter-widgets/controls",
      "model_module_version": "1.4.0",
      "model_name": "ButtonStyleModel",
      "state": {}
     },
     "e70b435079db437d84cc446d1c75b42d": {
      "model_module": "@jupyter-widgets/controls",
      "model_module_version": "1.4.0",
      "model_name": "LabelModel",
      "state": {
       "layout": "IPY_MODEL_3efbb32c838342b88bae6e81acaefc7c",
       "style": "IPY_MODEL_0dade8729dd44c9a967832b044d3f437",
       "value": "Sampler"
      }
     },
     "e738ba88beba4720b400d7aa2b8b7e51": {
      "model_module": "@jupyter-widgets/controls",
      "model_module_version": "1.4.0",
      "model_name": "DescriptionStyleModel",
      "state": {
       "description_width": ""
      }
     },
     "e77c531c7d4c4f2b8c47b34a5b46f9fe": {
      "model_module": "@jupyter-widgets/base",
      "model_module_version": "1.1.0",
      "model_name": "LayoutModel",
      "state": {}
     },
     "e7cc37dd381f416b94b8d9bb2103cfd1": {
      "model_module": "@jupyter-widgets/controls",
      "model_module_version": "1.4.0",
      "model_name": "DescriptionStyleModel",
      "state": {
       "description_width": ""
      }
     },
     "ea427e28f0a142668bd52ac4626de2fa": {
      "model_module": "@jupyter-widgets/base",
      "model_module_version": "1.1.0",
      "model_name": "LayoutModel",
      "state": {}
     },
     "eaad7db2693746c3844532e7ca1d754c": {
      "model_module": "@jupyter-widgets/base",
      "model_module_version": "1.1.0",
      "model_name": "LayoutModel",
      "state": {}
     },
     "eac1c2d341ce4ac39b4d852d71130cea": {
      "model_module": "@jupyter-widgets/controls",
      "model_module_version": "1.4.0",
      "model_name": "VBoxModel",
      "state": {
       "children": [
        "IPY_MODEL_394dcc0a87074617ac67bf7272ac862f",
        "IPY_MODEL_7f6dc746f68145e29f8b1c21230e2d10"
       ],
       "layout": "IPY_MODEL_d5d368fb88cc462abde314915e947e1b"
      }
     },
     "eb2730d638c54d67921153cf8003ae32": {
      "model_module": "@jupyter-widgets/controls",
      "model_module_version": "1.4.0",
      "model_name": "DescriptionStyleModel",
      "state": {
       "description_width": ""
      }
     },
     "ec6ce9167cb741e5895d9f113acc4821": {
      "model_module": "@jupyter-widgets/controls",
      "model_module_version": "1.4.0",
      "model_name": "DescriptionStyleModel",
      "state": {
       "description_width": ""
      }
     },
     "ee590044c1924345a66436e28d9ddc32": {
      "model_module": "@jupyter-widgets/base",
      "model_module_version": "1.1.0",
      "model_name": "LayoutModel",
      "state": {}
     },
     "ee9232ebe99d44769ed2b07076bd2b58": {
      "model_module": "@jupyter-widgets/base",
      "model_module_version": "1.1.0",
      "model_name": "LayoutModel",
      "state": {}
     },
     "eed0d133a22147baaea14782f10b9847": {
      "model_module": "@jupyter-widgets/controls",
      "model_module_version": "1.4.0",
      "model_name": "DescriptionStyleModel",
      "state": {
       "description_width": ""
      }
     },
     "eee1c514affb4038be2a8acfb8568350": {
      "model_module": "@jupyter-widgets/controls",
      "model_module_version": "1.4.0",
      "model_name": "DescriptionStyleModel",
      "state": {
       "description_width": ""
      }
     },
     "ef1231af5e434c0dbabee41cc63c2e90": {
      "model_module": "@jupyter-widgets/controls",
      "model_module_version": "1.4.0",
      "model_name": "ButtonStyleModel",
      "state": {}
     },
     "f0c9ca710c03472293e6732bd8e2c94a": {
      "model_module": "@jupyter-widgets/controls",
      "model_module_version": "1.4.0",
      "model_name": "ButtonStyleModel",
      "state": {}
     },
     "f16044a2884245ad80eb3e422d453f94": {
      "model_module": "@jupyter-widgets/output",
      "model_module_version": "1.0.0",
      "model_name": "OutputModel",
      "state": {
       "layout": "IPY_MODEL_f423c713c06644798e568ce49b212056"
      }
     },
     "f1799607ff1142d5ac216198b38e1e5d": {
      "model_module": "@jupyter-widgets/base",
      "model_module_version": "1.1.0",
      "model_name": "LayoutModel",
      "state": {
       "border": "3px solid black"
      }
     },
     "f1d03a32bd4841c5a4cdf92b656b8575": {
      "model_module": "@jupyter-widgets/controls",
      "model_module_version": "1.4.0",
      "model_name": "DropdownModel",
      "state": {
       "_options_labels": [
        "segment",
        "covertype",
        "digits",
        "fall_detection",
        "mnist",
        "pen_digits",
        "satellite",
        "vowel"
       ],
       "description": "Dataset:",
       "index": 0,
       "layout": "IPY_MODEL_440ea7c9afd04387922d5f4d30d6e5f1",
       "style": "IPY_MODEL_be037d2444ed4ff6b66d1701009c3c0c"
      }
     },
     "f1e0b8ab34fb45918004bbf7cb2b5b5b": {
      "model_module": "@jupyter-widgets/controls",
      "model_module_version": "1.4.0",
      "model_name": "IntSliderModel",
      "state": {
       "description": "N. estim.",
       "layout": "IPY_MODEL_217ac86222e54a4ca301f31732bb6c5f",
       "max": 200,
       "min": 2,
       "style": "IPY_MODEL_6cbecc59eb02482c9a138006481cf0af",
       "value": 30
      }
     },
     "f256baa60e5c44dd9f6e2ea9347bdeeb": {
      "model_module": "@jupyter-widgets/base",
      "model_module_version": "1.1.0",
      "model_name": "LayoutModel",
      "state": {}
     },
     "f3884a7d1a3748899799d75f76c5b422": {
      "model_module": "@jupyter-widgets/controls",
      "model_module_version": "1.4.0",
      "model_name": "DescriptionStyleModel",
      "state": {
       "description_width": ""
      }
     },
     "f423c713c06644798e568ce49b212056": {
      "model_module": "@jupyter-widgets/base",
      "model_module_version": "1.1.0",
      "model_name": "LayoutModel",
      "state": {}
     },
     "f49a4785871b42b1b10abd207416110d": {
      "model_module": "@jupyter-widgets/output",
      "model_module_version": "1.0.0",
      "model_name": "OutputModel",
      "state": {
       "layout": "IPY_MODEL_a0b3d2ca1556440694390fc8e2cc442b",
       "outputs": [
        {
         "data": {
          "text/markdown": "\n- Arg 1: **value1**\n- Arg 2: **value2**\n        ",
          "text/plain": "<IPython.core.display.Markdown object>"
         },
         "metadata": {},
         "output_type": "display_data"
        },
        {
         "data": {
          "image/png": "iVBORw0KGgoAAAANSUhEUgAAAvMAAAFkCAYAAACtjrSxAAAABHNCSVQICAgIfAhkiAAAAAlwSFlzAAALEgAACxIB0t1+/AAAADl0RVh0U29mdHdhcmUAbWF0cGxvdGxpYiB2ZXJzaW9uIDMuMC4wLCBodHRwOi8vbWF0cGxvdGxpYi5vcmcvqOYd8AAAHo5JREFUeJzt3X20XXdd5/H3h6SF2iIoxYskhcYxiNEoQiw6VbgCxdZqC4OFPgHlwcAaOzI04IoIHSzowmpBmakjEXCQB1uoD0QbKDAanKowCYLWthZjKTRhEFpLgQJtr/3OH2ennF7ycHJz7j37d+77tdZdOXuf39nne7Pu/X0/d+999k5VIUmSJKk995t0AZIkSZIWxjAvSZIkNcowL0mSJDXKMC9JkiQ1yjAvSZIkNcowL0mSJDXKMC9JkqZWkhVJvpLkEZOuRVoMhnn1RjfZ7v26J8nXhpbPOYztfiTJueOsVZK0OMbdC6rq36vqmKr6zGLUK03aykkXIO1VVcfsfZzkJuCFVfWhyVX0zZLcD6Cq7jnQuhG2s7Kq5sZfoSS17VB7QV/mU/uDJsU982pGd6j0VUluTHJLkncmeXD33NFJLkvyb0m+mOSjSb4tySXADwNv7vbqXLKfbf9495ovJvm7JCcOPfeRJBcl+SjwVeDh+1n3iCTbuho+meS5Q9t4XZJ3Jbk8yZeBMxfxv0qSplaS13Zz6R928+m5SX60m5e/mOT/JXljkiO68SuTVJLju+V3dM+/L8mXk/xtkjUHeL8Th7b9iSRPGHru6iSvSfK3wB3AI/azbnWSP+/6wz8nef6Bvp/F+H/T9DLMqyUvA54K/BiwGrgbeEP33AsZHGlaBRwLnA/cVVWbgB0M9uwc0y3fRzfB/ynwy8C3A68E/jTJtw0NOxd4DvBA4HP7Wfce4AbgO4GzgTcM/1EAPAN4G/Ag4I8W+H8gSYKnA+9iMJ9eDswBL2Ew/58InAy86ACvPxt4FYM5/zPAa/Y1KMlxwFbgv3VjNwN/nOQhQ8OeDTwf+FZg937WXQ58Cng48Czg4iRPPMD3I43MMK+WvBjYXFWfraqvA78CPCtJGAT7hwL/oarmqmpHVd0x4nafC/xxVX2oqu6pqm3AdQz+cNjrzVV1Q1XdPXT48951wBrgB4FXVNWdVbWTQXB/9tA2PlxV27r3+NpC/xMkSVxdVX+2dz7t5vyPdvP/jcAW4IkHeP0VVbWzm7/fCTxmP+OeA2ytqqu693o/8PcM/ljY661Vdf28/nDvOuA44AQG/evrVfV3wO9z3/5wn+/nkP83tKx5zrya0AX244BtSWroqfsBDwHeAjwMuCLJMcAfAK+qqn8fYfOPBM5KcsbQuiMY7EHZ6+Z9vG543cOBL8ybhD8NPPkg25AkHbr7zKdJHg1cAjwO+BYG+eajB3j954YefxU4Zj/j9vaHpw+tOwJ4//5q2ce6hwO3zNvB9Gng+w+yDWkk7plXE6qqgD3Ak6rqwUNfD6iqW7q94RdW1aOBJwBn8I3z0mt/2+3czGAv+/B2j66qNwyN2dc2htd9FnhokqOG1j2iq/lA25AkHbr58+mbgH8EvruqvhW4EMgY3udm4Pf30R9+4wC1zF/3WeDYJEcPrbM/aGwM82rJ7wKv685hJMl3JPmZ7vFTkqzrrhzwJQbnT+69esC/At91gO2+DTgjyZO7D9ke1T1+2CHUtgu4BnhtkvsneSyD03fecUjfoSRpIR4I3A7ckeR7OfD58ofi7cDTk5zU9YcHJPmJJA8/6Cs7VfUpYCfwa11/eAzwPOwPGhPDvFpyMfAh4C+6T/z/DfDY7rlVwHuBLzPYO7ONb3yI6A3Ac5LcluTi+Rvtzq98BoNz8G9hcPjzJRzC70d35OAMYB2Dw7eXAy+vqqsP8XuUJB26TQx2oHyZwV76sXyItKpuYvDh1FcBX2DwYdlNHHp+ehawlkF/uILB56u2j6NGKYMMIkmSJKk17pmXJEmSGmWYlyRJkhplmJckSZIaZZiXJEmSGmWYlyRJkho1sTvAHnvssXX88cdP6u0lAO644w6OPvrogw+UFtnHPvaxW6rqoZOuY5LsC+oD+4L64FB6wsTC/PHHH8/OnTsn9fYSANu3b2d2dnbSZUgk+fSka5g0+4L6wL6gPjiUnuBpNpIkSVKjDPOSJElSowzzkiRJUqMM85IkSVKjDPOSJElSowzzkiRJUqMM85IkSVKjRgrzSU5OckOSXUk272fMM5Ncl+TaJO8ab5mSpL6wJ0hSfxz0plFJVgCXAicBu4EdSbZW1XVDY9YCvwScWFW3JfmOxSpYkjQ59gRJ6pdR9syfAOyqqhur6i7gMuD0eWN+Dri0qm4DqKrPj7dMSVJP2BMkqUcOumceWAXcPLS8G3j8vDGPAkjy18AK4NVV9f75G0qyEdgIMDMzw/bt2xdQMlyz5/YFvU6ab+Yo+O/vfO+ky9CUWL/qQZMuYSmMrSd0Yw67L9gTNE72BY3TUvSFUcL8qNtZC8wCq4G/SrK+qr44PKiqtgBbADZs2FCzs7MLerPzNl95OLVK99q0fo5LrhnXr4GWu5vOmZ10CX0xUk+A8fQFe4LGyb6gcVqKvjDKaTZ7gOOGlld364btBrZW1d1V9SngkwwmcknSdLEnSFKPjBLmdwBrk6xJciRwJrB13pg/ZbAHhiTHMjjEeuMY65Qk9YM9QZJ65KBhvqrmgPOBq4DrgXdX1bVJLkpyWjfsKuDWJNcBfwm8vKpuXayiJUmTYU+QpH4Z6aSwqtoGbJu37sKhxwVc0H1JkqaYPUGS+sM7wEqSJEmNMsxLkiRJjTLMS5IkSY0yzEuSJEmNMsxLkiRJjTLMS5IkSY0yzEuSJEmNMsxLkiRJjTLMS5IkSY0yzEuSJEmNMsxLkiRJjTLMS5IkSY0yzEuSJEmNMsxLkiRJjTLMS5IkSY0yzEuSJEmNMsxLkiRJjTLMS5IkSY0yzEuSJEmNMsxLkiRJjTLMS5IkSY0yzEuSJEmNMsxLkiRJjTLMS5IkSY0yzEuSJEmNMsxLkiRJjTLMS5IkSY0yzEuSJEmNMsxLkiRJjTLMS5IkSY0yzEuSJEmNMsxLkiRJjRopzCc5OckNSXYl2byP589L8oUkn+i+Xjj+UiVJfWBPkKT+WHmwAUlWAJcCJwG7gR1JtlbVdfOGXl5V5y9CjZKknrAnSFK/jLJn/gRgV1XdWFV3AZcBpy9uWZKknrInSFKPjBLmVwE3Dy3v7tbN94wk/5DkiiTHjaU6SVLf2BMkqUcOeprNiP4M+MOqujPJi4C3AU+aPyjJRmAjwMzMDNu3b1/Qm21aP7fwSqUhM0f586TxWeicNoVG6gkwnr7g77DGyb6gcVqKvjBKmN8DDO9VWd2tu1dV3Tq0+Gbg4n1tqKq2AFsANmzYULOzs4dS673O23zlgl4nzbdp/RyXXDOuv2m13N10zuykS1gKY+sJ3djD7gv2BI2TfUHjtBR9YZTTbHYAa5OsSXIkcCawdXhAku8cWjwNuH58JUqSesSeIEk9ctA/PatqLsn5wFXACuCtVXVtkouAnVW1FfiFJKcBc8C/AectYs2SpAmxJ0hSv4x0HKmqtgHb5q27cOjxLwG/NN7SJEl9ZE+QpP7wDrCSJElSowzzkiRJUqMM85IkSVKjDPOSJElSowzzkiRJUqMM85IkSVKjDPOSJElSowzzkiRJUqMM85IkSVKjDPOSJElSowzzkiRJUqMM85IkSVKjDPOSJElSowzzkiRJUqMM85IkSVKjDPOSJElSowzzkiRJUqMM85IkSVKjDPOSJElSowzzkiRJUqMM85IkSVKjDPOSJElSowzzkiRJUqMM85IkSVKjDPOSJElSowzzkiRJUqMM85IkSVKjDPOSJElSowzzkiRJUqMM85IkSVKjDPOSJElSowzzkiRJUqNGCvNJTk5yQ5JdSTYfYNwzklSSDeMrUZLUN/YFSeqHg4b5JCuAS4FTgHXAWUnW7WPcA4GXAB8dd5GSpP6wL0hSf4yyZ/4EYFdV3VhVdwGXAafvY9xrgF8Hvj7G+iRJ/WNfkKSeGCXMrwJuHlre3a27V5LHAsdV1ZVjrE2S1E/2BUnqiZWHu4Ek9wNeD5w3wtiNwEaAmZkZtm/fvqD33LR+bkGvk+abOcqfJ43PQue0abPUfcHfYY2TfUHjtBR9YZQwvwc4bmh5dbdurwcC3w9sTwLwMGBrktOqaufwhqpqC7AFYMOGDTU7O7ugos/b7I4ejcem9XNccs1h/00rAXDTObOTLmGp9Kov2BM0TvYFjdNS9IVRTrPZAaxNsibJkcCZwNa9T1bV7VV1bFUdX1XHAx8BvmnCliRNDfuCJPXEQcN8Vc0B5wNXAdcD766qa5NclOS0xS5QktQv9gVJ6o+RjiNV1TZg27x1F+5n7OzhlyVJ6jP7giT1g3eAlSRJkhplmJckSZIaZZiXJEmSGmWYlyRJkhplmJckSZIaZZiXJEmSGmWYlyRJkhplmJckSZIaZZiXJEmSGmWYlyRJkhplmJckSZIaZZiXJEmSGmWYlyRJkhplmJckSZIaZZiXJEmSGmWYlyRJkhplmJckSZIaZZiXJEmSGmWYlyRJkhplmJckSZIaZZiXJEmSGmWYlyRJkhplmJckSZIaZZiXJEmSGmWYlyRJkhplmJckSZIaZZiXJEmSGmWYlyRJkhplmJckSZIaZZiXJEmSGmWYlyRJkhplmJckSZIaZZiXJEmSGjVSmE9ycpIbkuxKsnkfz784yTVJPpHk6iTrxl+qJKkv7AuS1A8HDfNJVgCXAqcA64Cz9jEpv6uq1lfVY4CLgdePvVJJUi/YFySpP0bZM38CsKuqbqyqu4DLgNOHB1TVl4YWjwZqfCVKknrGviBJPbFyhDGrgJuHlncDj58/KMnPAxcARwJP2teGkmwENgLMzMywffv2Qyx3YNP6uQW9Tppv5ih/njQ+C53TGtSrvuDvsMbJvqBxWoq+MEqYH0lVXQpcmuRs4JXAc/cxZguwBWDDhg01Ozu7oPc6b/OVCy9UGrJp/RyXXDO2XwMtczedMzvpEnplqfqCPUHjZF/QOC1FXxjlNJs9wHFDy6u7dftzGfC0wylKktRr9gVJ6olRwvwOYG2SNUmOBM4Etg4PSLJ2aPFU4J/HV6IkqWfsC5LUEwc9jlRVc0nOB64CVgBvraprk1wE7KyqrcD5SZ4C3A3cxj4OpUqSpoN9QZL6Y6STwqpqG7Bt3roLhx6/ZMx1SZJ6zL4gSf3gHWAlSZKkRhnmJUmSpEYZ5iVJkqRGGeYlSZKkRhnmJUmSpEYZ5iVJkqRGGeYlSZKkRhnmJUmSpEYZ5iVJkqRGGeYlSZKkRhnmJUmSpEYZ5iVJkqRGGeYlSZKkRhnmJUmSpEYZ5iVJkqRGGeYlSZKkRhnmJUmSpEYZ5iVJkqRGGeYlSZKkRhnmJUmSpEYZ5iVJkqRGGeYlSZKkRhnmJUmSpEYZ5iVJkqRGGeYlSZKkRhnmJUmSpEYZ5iVJkqRGGeYlSZKkRhnmJUmSpEYZ5iVJkqRGGeYlSZKkRhnmJUmSpEaNFOaTnJzkhiS7kmzex/MXJLkuyT8k+d9JHjn+UiVJfWBPkKT+OGiYT7ICuBQ4BVgHnJVk3bxhHwc2VNUPAFcAF4+7UEnS5NkTJKlfRtkzfwKwq6purKq7gMuA04cHVNVfVtVXu8WPAKvHW6YkqSfsCZLUI6OE+VXAzUPLu7t1+/MC4H2HU5QkqbfsCZLUIyvHubEk5wIbgCfu5/mNwEaAmZkZtm/fvqD32bR+boEVSvc1c5Q/Txqfhc5p0+pgPaEbc9h9wd9hjZN9QeO0FH1hlDC/BzhuaHl1t+4+kjwF+GXgiVV15742VFVbgC0AGzZsqNnZ2UOtF4DzNl+5oNdJ821aP8cl14z1b1otYzedMzvpEpbC2HoCjKcv2BM0TvYFjdNS9IVRTrPZAaxNsibJkcCZwNbhAUl+CHgTcFpVfX78ZUqSesKeIEk9ctAwX1VzwPnAVcD1wLur6tokFyU5rRv2G8AxwHuSfCLJ1v1sTpLUMHuCJPXLSMeRqmobsG3euguHHj9lzHVJknrKniBJ/eEdYCVJkqRGGeYlSZKkRhnmJUmSpEYZ5iVJkqRGGeYlSZKkRhnmJUmSpEYZ5iVJkqRGGeYlSZKkRhnmJUmSpEYZ5iVJkqRGGeYlSZKkRhnmJUmSpEYZ5iVJkqRGGeYlSZKkRhnmJUmSpEYZ5iVJkqRGGeYlSZKkRhnmJUmSpEYZ5iVJkqRGGeYlSZKkRhnmJUmSpEYZ5iVJkqRGGeYlSZKkRhnmJUmSpEYZ5iVJkqRGGeYlSZKkRhnmJUmSpEYZ5iVJkqRGGeYlSZKkRhnmJUmSpEYZ5iVJkqRGGeYlSZKkRhnmJUmSpEaNFOaTnJzkhiS7kmzex/NPSPJ3SeaS/Oz4y5Qk9YU9QZL646BhPskK4FLgFGAdcFaSdfOGfQY4D3jXuAuUJPWHPUGS+mXlCGNOAHZV1Y0ASS4DTgeu2zugqm7qnrtnEWqUJPWHPUGSemSUML8KuHloeTfw+IW8WZKNwEaAmZkZtm/fvpDNsGn93IJeJ803c5Q/Txqfhc5pjRlbT4Dx9AV/hzVO9gWN01L0hVHC/NhU1RZgC8CGDRtqdnZ2Qds5b/OVY6xKy9mm9XNccs2S/hpoit10zuykS2jOOPqCPUHjZF/QOC1FXxjlA7B7gOOGlld36yRJy489QZJ6ZJQwvwNYm2RNkiOBM4Gti1uWJKmn7AmS1CMHDfNVNQecD1wFXA+8u6quTXJRktMAkvxwkt3AGcCbkly7mEVLkibDniBJ/TLSSWFVtQ3YNm/dhUOPdzA41CpJmnL2BEnqD+8AK0mSJDXKMC9JkiQ1yjAvSZIkNcowL0mSJDXKMC9JkiQ1yjAvSZIkNcowL0mSJDXKMC9JkiQ1yjAvSZIkNcowL0mSJDXKMC9JkiQ1yjAvSZIkNcowL0mSJDXKMC9JkiQ1yjAvSZIkNcowL0mSJDXKMC9JkiQ1yjAvSZIkNcowL0mSJDXKMC9JkiQ1yjAvSZIkNcowL0mSJDXKMC9JkiQ1yjAvSZIkNcowL0mSJDXKMC9JkiQ1yjAvSZIkNcowL0mSJDXKMC9JkiQ1yjAvSZIkNcowL0mSJDXKMC9JkiQ1aqQwn+TkJDck2ZVk8z6ev3+Sy7vnP5rk+HEXKknqD/uCJPXDQcN8khXApcApwDrgrCTr5g17AXBbVX038Abg18ddqCSpH+wLktQfo+yZPwHYVVU3VtVdwGXA6fPGnA68rXt8BfDkJBlfmZKkHrEvSFJPjBLmVwE3Dy3v7tbtc0xVzQG3Aw8ZR4GSpN6xL0hST6xcyjdLshHY2C1+JckNS/n+0ny/AMcCt0y6Dk2HHN6JJI8cUxlNsS+ob+wLGqfD6Asj94RRwvwe4Lih5dXdun2N2Z1kJfAg4Nb5G6qqLcCWUYuTFluSnVW1YdJ1SI2xL2hq2RfUmlFOs9kBrE2yJsmRwJnA1nljtgLP7R7/LPAXVVXjK1OS1CP2BUnqiYPuma+quSTnA1cBK4C3VtW1SS4CdlbVVuAtwNuT7AL+jcHELkmaQvYFSeqPuKNEy1mSjd1hfkmS7AtqjmFekiRJatRId4CVJEmS1D+GeWmMkjwwybdPug5JUj/YF7TYDPPSmCQ5hsEt6/9TEm+OI0nLnH1BS8EwL41JVX0F+FvgROCnnLglaXmzL2gpLOkdYKVpleR+VXVPVb09yZ3A6d36bVX1TTfKkSRNN/uClophXjpMSVJV9yRZC3wO+GPgC8DPdc87cUvSMmJf0FIyzEuHqaoqySnAa4ArgccDTwceApwKHJFka1XdMsEyJUlLxL6gpeQ589JhSvI9wGuBZwJfAh4MrKyqKxhM4k8FjpxchZKkpWRf0FJyz7y0QN1h1ALuAf4QeBSDifvsqvpykh+rqiuS/FVVfX6ixUqSFp19QZPgHWClQ5TkiKq6e+jfBzG4WsFDgDVV9dUkTwA2Ay+sqs9OtGBJ0qKyL2iSDPPSiJIcB3ylqm5LcirwXOAaYCdwO984N/Jm4BXAq6vqvZOqV5K0uOwL6gPPmZdGtxH4UJJZ4ALgg8CdwHkMriF8PrABeBzwiqp6b5JMplRJ0hKwL2ji3DMvjSjJEcCrgWcBv1tVv5nkgcAPAP8Z+C/AF6vqnslVKUlaKvYF9YF75qURVdXdDCbtDwMXJHlQVX0Z+BhwDPBIJ2xJWj7sC+oDw7x0AHsPhyZZk+R7quruqnoB8CfAVUnWAWuAdZOsU5K0NOwL6htPs5H2Y++tuJP8NPA64B8YXCv4Wd0lxt4MPB94N/CWqvrgBMuVJC0y+4L6yDAvzZPk6Kq6o3v8H4H/yeCOfScCb2fwAadzu6sXvBb4QFX91cQKliQtKvuC+swwLw1JcjRwLfCy7sYejwCO7b4uYjB5vwc4Gvhp4Jbutt17bxQiSZoi9gX1nefMS0O6PS8vA96U5GlV9Rng48BJwGVVdSvwB8C3AjN7J2onbEmaTvYF9d3KSRcg9Ul3PuQVSe4C3pHk2d11gT8JPCHJBcDPAM+uqn+cbLWSpMVmX1DfeZqNNM/eQ6NJTgPeAZwBXA08D3gK8Naq2jrJGiVJS8e+oD4zzEtDhu7Ml+6KBacDb2Wwx2VbkpVVNee5kJK0PNgX1HeGeS1rQ3tbHlBVXx9eD4NzHpM8g8GemOOBW6tqbjLVSpIWm31BrTHMa9nrrhf8U8CdDD7E9I/dXf2Gryn8HVX1+UnWKUlaGvYFtcQPwGpZS/LjwK8CTweuAB4EvHjv80O34b6lG+9hVEmaYvYFtcZLU2q5ewyD6wSvBu4CXl1Vd3XXFb7X3snbCVuSpp59QU3xNBstG0keAPxIVW1P8n3AA4BVwIuAhwJnVNWnk5wNfB/wSidpSZpe9gVNA/fMazk5BviRJO8D3gl8DrgROJLBOZF3J3kcsBn4GydsSZp69gU1z3PmtWxU1S1JdgMnAh+oqj3AniRvBE4BfhL4FgZ7Xq70PEhJmm72BU0DT7PR1BuefJM8hMGkfRKDI1Mv7c6F/C5gN/Dgqvq8E7YkTS/7gqaJYV5Tbeh6wScBa4A7q+ptSR4N/CLwJeCPgLOBzVV1+wTLlSQtMvuCpo3nzGtqJVnRTdinApcAnwZ+LclvVtU/Aa9lcL7kW4A/d8KWpOlmX9A0cs+8pk6SRwJHVdU/JZkB/hfwUuBRDD7EtAr4UFW9oBu/uqp2ewhVkqaTfUHTzD3zmkanAu9L8n1V9a/AzzG4MsGvAD8G/ATwvCS/143fA14rWJKmmH1BU8ur2WjqVNXvJLk/8PYk51bVdUlWAR/rbsH9MOD1wPu78U7WkjTF7AuaZp5mo6kx/3BokpcDZwHPAb4A/I/u36cDz6yq/+MhVEmaXvYFLQeGeU2FoasTrAdmgI9X1a1Jfh54PnB6N/QHgDuq6sOTqlWStPjsC1ouPM1GU6GbsH8S+F3g74GZJL/N4I5+RwAfZHBb7m0TLFOStETsC1ouDPOaCkm+B3gxg4l5Z5JnA08Gbqqq3+rOlXzwRIuUJC0Z+4KWC69mo6Zl4CgGN/f4fuCxAFX1duCzwCu6Q62/XlVXT7BUSdISsC9ouTHMq0lJ0j08uqq+Bvwm8AfAuiRP7Z57P/BV4AETKFGStITsC1qu/ACsmpXkacDLgeuB9wIfYHDzj6d0634IeE1VbZ1YkZKkJWNf0HLkOfNqytDVCY5hcCmxi7unLmLwgabXAgHWAJc6YUvSdLMvaLkzzKsp3YR9IoM79v1rVb0XIMlXgdcB9wd+lcGemMcl2eU5kZI0vewLWu48Z15N2HsuZJLHA78H/CBwUpKfTnJ0VX0QeCXwKuAo4HJgN/DJCZUsSVpE9gVpwHPm1YwkjwPeCLy0qv5vkk3Ao4E/AT5cVXckObaqbunGr6yquQmWLElaRPYFyT3zas/3AucCVNUlwHXd8pOS3G9owo4TtiQtC/YFLWuGefXW0CHUNUkeUVUfY3DDjx9N8osAVfUG4OPAp6vqnr2vLQ85SdLUsS9I38zTbNRr3WXGNgGfAW4FfpvBHfveCFxVVRdNsDxJ0hKzL0j35Z559VaSRwEXAD/J4LDp44Bbuj0x/xV4WpLvSuLPsSQtA/YF6Zt5aUr1RpIjquru7vFK4E7gr4FnAqcCz66q25P8UFXtSDJbVV+aYMmSpEVkX5AOzr9c1QvdJP3MJD+S5DHAqxn8fK4BXgY8r6r+JcnJwO8kWeWELUnTy74gjcY98+qFqppLci3wPuDfgdmq+lSSq4HbgLOT3AD8MrC5qvZMsFxJ0iKzL0ijcc+8+uSfgX8BvgZ8d7duC7AVmGNwQ5CXVtWf7b2igSRpqtkXpIPwajbqlSRHAY8Ffgf4jap6R5K1wBeq6ouTrU6StNTsC9KBGebVS0lOZXC5sfcAPwG8qKr+frJVSZImxb4g7ZthXr2V5EeBFwDvrqoPTLoeSdJk2Rekb2aYV68lWdl9CCrevU+SZF+Q7sswL0mSJDXKq9lIkiRJjTLMS5IkSY0yzEuSJEmNMsxLkiRJjTLMS5IkSY0yzEuSJEmNMsxLkiRJjfr/XvJm9dRAeUYAAAAASUVORK5CYII=\n",
          "text/plain": "<Figure size 921.6x345.6 with 2 Axes>"
         },
         "metadata": {},
         "output_type": "display_data"
        }
       ]
      }
     },
     "f6376d36502d4a6b8c82ecd56d7f86db": {
      "model_module": "@jupyter-widgets/base",
      "model_module_version": "1.1.0",
      "model_name": "LayoutModel",
      "state": {}
     },
     "f6a60fa56ad3451e9e0de4a7b061485a": {
      "model_module": "@jupyter-widgets/controls",
      "model_module_version": "1.4.0",
      "model_name": "DescriptionStyleModel",
      "state": {
       "description_width": ""
      }
     },
     "f70d78e107084dfaa62351ffd3156881": {
      "model_module": "@jupyter-widgets/controls",
      "model_module_version": "1.4.0",
      "model_name": "ButtonModel",
      "state": {
       "button_style": "info",
       "description": "Demo0",
       "layout": "IPY_MODEL_4054c70208854b8ebd66a47a68dd4b74",
       "style": "IPY_MODEL_36088d9c9e68466c9420f098540da9cb"
      }
     },
     "f8f0935b3f954887a214d94d74db566f": {
      "model_module": "@jupyter-widgets/controls",
      "model_module_version": "1.4.0",
      "model_name": "DescriptionStyleModel",
      "state": {
       "description_width": ""
      }
     },
     "fa448612712e4825bbe59e6528b12615": {
      "model_module": "@jupyter-widgets/controls",
      "model_module_version": "1.4.0",
      "model_name": "VBoxModel",
      "state": {
       "children": [
        "IPY_MODEL_8dd36db73efa47e5a69d39686d262c82",
        "IPY_MODEL_02a24aecf24b479680768b45e42039d2",
        "IPY_MODEL_a52fe5d852fe46b699b2e16e3300b125",
        "IPY_MODEL_b5192905cc524e57bc8755a006108f72",
        "IPY_MODEL_872de6ef38e94c93bbf9987d9ca33be8",
        "IPY_MODEL_f1e0b8ab34fb45918004bbf7cb2b5b5b",
        "IPY_MODEL_493d3cc60ed941e2a89f320b51fa61c6"
       ],
       "layout": "IPY_MODEL_4b2b66ee5c4f4894b9a013bed5705fa1"
      }
     },
     "fac7969077e149f38c041d0a231a5906": {
      "model_module": "@jupyter-widgets/base",
      "model_module_version": "1.1.0",
      "model_name": "LayoutModel",
      "state": {}
     },
     "fbc0b8239074423380da261572f88581": {
      "model_module": "@jupyter-widgets/base",
      "model_module_version": "1.1.0",
      "model_name": "LayoutModel",
      "state": {}
     },
     "ff88c634052540c78e1ef9c0b021258a": {
      "model_module": "@jupyter-widgets/controls",
      "model_module_version": "1.4.0",
      "model_name": "DropdownModel",
      "state": {
       "_options_labels": [
        "rbf",
        "nystroem"
       ],
       "description": "Sampler",
       "index": 0,
       "layout": "IPY_MODEL_0071945a602d4bd28d8b24e6bc92d240",
       "style": "IPY_MODEL_ae507b51582b46ecafcd6fb7755e8d36"
      }
     },
     "ffdfd1f67cfd43f9addd2e0787e4dc5b": {
      "model_module": "@jupyter-widgets/base",
      "model_module_version": "1.1.0",
      "model_name": "LayoutModel",
      "state": {}
     }
    },
    "version_major": 2,
    "version_minor": 0
   }
  }
 },
 "nbformat": 4,
 "nbformat_minor": 2
}
