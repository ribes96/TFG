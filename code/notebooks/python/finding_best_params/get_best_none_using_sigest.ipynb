{
 "cells": [
  {
   "cell_type": "code",
   "execution_count": null,
   "metadata": {},
   "outputs": [],
   "source": [
    "from demo_utils.learning import get_model\n",
    "from demo_utils.general import get_data\n",
    "from demo_utils.general import gamest\n",
    "from demo_utils.general import SUPPORTED_DATASETS\n",
    "from sklearn.model_selection import GridSearchCV\n",
    "from IPython.display import Markdown as md"
   ]
  },
  {
   "cell_type": "code",
   "execution_count": null,
   "metadata": {},
   "outputs": [],
   "source": [
    "import warnings\n",
    "warnings.filterwarnings('ignore')"
   ]
  },
  {
   "cell_type": "code",
   "execution_count": null,
   "metadata": {},
   "outputs": [],
   "source": [
    "%%javascript\n",
    "IPython.OutputArea.prototype._should_scroll = function(lines) {\n",
    "    return false\n",
    "}"
   ]
  },
  {
   "cell_type": "code",
   "execution_count": null,
   "metadata": {
    "code_folding": []
   },
   "outputs": [],
   "source": [
    "def get_prefixes(box_name):\n",
    "    # Retorna el prefijo adecuado para acceder a parámetros del sampler y\n",
    "    # de modelo, en función de la caja\n",
    "\n",
    "    if box_name == 'none':\n",
    "        sampler_prefix = 'sampler__'\n",
    "        model_prefix = 'model__'\n",
    "    elif box_name in ['grey_bag', 'grey_ens']:\n",
    "        sampler_prefix = 'base_estimator__sampler__'\n",
    "        model_prefix = 'base_estimator__model__'\n",
    "    elif box_name in ['black_bag', 'black_ens']:\n",
    "        sampler_prefix = 'sampler__'\n",
    "        model_prefix = 'model__base_estimator__'\n",
    "\n",
    "    return sampler_prefix, model_prefix"
   ]
  },
  {
   "cell_type": "code",
   "execution_count": null,
   "metadata": {},
   "outputs": [],
   "source": [
    "box_name = 'none'\n",
    "dts_size = 1000\n",
    "n_components = 500\n",
    "#n_estim = 50\n",
    "model_h_params = {\n",
    "    'dt': {'min_impurity_decrease': [10**i for i in range(-4, 0)]},\n",
    "#     'dt': {'min_impurity_decrease': [0]}, # sobreajustamos adrede\n",
    "    'logit': {'C': [10**i for i in [3]]}, # (3) fijo (una C grande para no regularizar)\n",
    "    'linear_svc': {'C': [10**i for i in range(-1, 3)]} # (-1, 3)\n",
    "#     'linear_svc': {'C': [10**i for i in [3]]}\n",
    "}\n",
    "gamma_options = {\n",
    "#     'rbf': {'gamma': [10**i for i in range(-5, 0)]}, # (-5, 0)\n",
    "#     'nystroem': {'gamma': [10**i for i in range(-5, 0)]},\n",
    "    'rbf': {'gamma': [i for i in [5]]},\n",
    "    'nystroem': {'gamma': [i for i in [5]]},\n",
    "}"
   ]
  },
  {
   "cell_type": "code",
   "execution_count": null,
   "metadata": {},
   "outputs": [],
   "source": [
    "def test_no_sampler(dts_name, box_name, model_name):\n",
    "    display(md('#'*4 + ' ' + 'no sampler'))\n",
    "    model_params = {\n",
    "        'model_name': model_name,\n",
    "        'model_params': {},\n",
    "        'rbfsampler_gamma': None,\n",
    "        'nystroem_gamma': None,\n",
    "        'sampler_name': 'identity',\n",
    "        'pca_bool': False,\n",
    "        'pca_first': None,\n",
    "        'n_estim': n_estim,\n",
    "        'box_type': box_name\n",
    "    }\n",
    "    model = get_model(**model_params)\n",
    "    # model.set_params(sampler__n_components=n_components)\n",
    "    tunning_params = dict(model_h_params[model_name])\n",
    "    sampler_prefix, model_prefix = get_prefixes(box_name=box_name)\n",
    "    param_k = next(iter(tunning_params))\n",
    "    #new_param_k = 'model__' + param_k\n",
    "    new_param_k = model_prefix + param_k\n",
    "    tunning_params[new_param_k] = tunning_params.pop(param_k)\n",
    "    clf = GridSearchCV(model, tunning_params, cv=10, iid=False)\n",
    "\n",
    "    data = get_data(dts_name, n_ins=dts_size)\n",
    "    data_train = data['data_train']\n",
    "    target_train = data['target_train']\n",
    "\n",
    "    clf.fit(data_train, target_train)\n",
    "\n",
    "    bp = clf.best_params_\n",
    "\n",
    "    bp[param_k] = bp.pop(new_param_k)\n",
    "\n",
    "    return bp\n",
    "\n",
    "\n",
    "def test_with_sampler(dts_name, box_name, model_name, sampler_name):\n",
    "    display(md('#'*4 + ' ' + 'with sampler'))\n",
    "    model_params = {\n",
    "        'model_name': model_name,\n",
    "        'model_params': {},\n",
    "        'rbfsampler_gamma': None,\n",
    "        'nystroem_gamma': None,\n",
    "        'sampler_name': sampler_name,\n",
    "        'pca_bool': False,\n",
    "        'pca_first': None,\n",
    "        'n_estim': n_estim,\n",
    "        'box_type': box_name\n",
    "    }\n",
    "    model = get_model(**model_params)\n",
    "    tunning_params = dict(model_h_params[model_name])\n",
    "\n",
    "    sampler_prefix, model_prefix = get_prefixes(box_name=box_name)\n",
    "\n",
    "    param_k = next(iter(tunning_params))\n",
    "    #new_param_k = 'model__' + param_k\n",
    "    new_param_k = model_prefix + param_k\n",
    "    tunning_params[new_param_k] = tunning_params.pop(param_k)\n",
    "\n",
    "    sampler_params = dict(gamma_options[sampler_name])\n",
    "    sampler_k = next(iter(sampler_params))\n",
    "    #new_sampler_k = 'sampler__' + sampler_k\n",
    "    new_sampler_k = sampler_prefix + sampler_k\n",
    "\n",
    "    sampler_params[new_sampler_k] = sampler_params.pop(sampler_k)\n",
    "\n",
    "    tunning_params.update(sampler_params)\n",
    "\n",
    "    clf = GridSearchCV(model, tunning_params, cv=10, iid=False)\n",
    "\n",
    "    data = get_data(dts_name, n_ins=dts_size)\n",
    "    data_train = data['data_train']\n",
    "    target_train = data['target_train']\n",
    "    \n",
    "    ###############\n",
    "    gamma_estimation = gamest(data_train)\n",
    "    sampler_params[new_sampler_k] = gamma_estimation\n",
    "    ###############\n",
    "\n",
    "    clf.fit(data_train, target_train)\n",
    "\n",
    "    bp = clf.best_params_\n",
    "\n",
    "    bp[param_k] = bp.pop(new_param_k)\n",
    "    bp[sampler_k] = bp.pop(new_sampler_k)\n",
    "    return bp"
   ]
  },
  {
   "cell_type": "code",
   "execution_count": null,
   "metadata": {},
   "outputs": [],
   "source": [
    "def test_model(dts_name, box_name, model_name):\n",
    "    display(md('#'*3 + ' ' + model_name))\n",
    "    d_no_sampler = test_no_sampler(\n",
    "        dts_name=dts_name, box_name=box_name, model_name=model_name)\n",
    "    d_rff = test_with_sampler(\n",
    "        dts_name=dts_name, box_name=box_name, model_name=model_name, sampler_name='rbf')\n",
    "    d_nystroem = test_with_sampler(\n",
    "        dts_name=dts_name, box_name=box_name, model_name=model_name, sampler_name='nystroem')\n",
    "\n",
    "    ret_dic = {\n",
    "        'identity': d_no_sampler,\n",
    "        'rff': d_rff,\n",
    "        'nystrem': d_nystroem,\n",
    "    }\n",
    "\n",
    "    return ret_dic"
   ]
  },
  {
   "cell_type": "code",
   "execution_count": null,
   "metadata": {},
   "outputs": [],
   "source": [
    "def test_box(dts_name, box_name):\n",
    "    display(md('#'*2 + ' ' + box_name))\n",
    "    d_dt = test_model(dts_name=dts_name, box_name=box_name, model_name='dt')\n",
    "    d_logit = test_model(\n",
    "        dts_name=dts_name, box_name=box_name, model_name='logit')\n",
    "    d_linear_svc = test_model(\n",
    "        dts_name=dts_name, box_name=box_name, model_name='linear_svc')\n",
    "\n",
    "    ret_dic = {\n",
    "        'dt': d_dt,\n",
    "        'logit': d_logit,\n",
    "        'linear_svc': d_linear_svc,\n",
    "    }\n",
    "    return ret_dic"
   ]
  },
  {
   "cell_type": "code",
   "execution_count": null,
   "metadata": {},
   "outputs": [],
   "source": [
    "def test_dataset(dts_name):\n",
    "    display(md('#'*1 + ' ' + dts_name))\n",
    "\n",
    "    d_none = test_box(dts_name=dts_name, box_name='none')\n",
    "    d_black_bag = test_box(dts_name=dts_name, box_name='black_bag')\n",
    "    d_grey_bag = test_box(dts_name=dts_name, box_name='grey_bag')\n",
    "    d_grey_ens = test_box(dts_name=dts_name, box_name='grey_ens')\n",
    "\n",
    "    ret_dic = {\n",
    "        'none': d_none,\n",
    "        'black_bag': d_black_bag,\n",
    "        'grey_bag': d_grey_bag,\n",
    "        'grey_ens': d_grey_ens,\n",
    "    }\n",
    "\n",
    "    return ret_dic"
   ]
  },
  {
   "cell_type": "code",
   "execution_count": null,
   "metadata": {
    "deletable": false,
    "editable": false,
    "run_control": {
     "frozen": true
    }
   },
   "outputs": [],
   "source": [
    "def test_everything():\n",
    "    ret_dic = {}\n",
    "    for dts_name in SUPPORTED_DATASETS:\n",
    "        d = test_dataset(dts_name=dts_name)\n",
    "        ret_dic[dts_name] = d\n",
    "        print(d)\n",
    "    return ret_dic"
   ]
  },
  {
   "cell_type": "code",
   "execution_count": null,
   "metadata": {},
   "outputs": [],
   "source": [
    "dts_name = 'segment'\n",
    "segment_none = test_box(dts_name=dts_name, box_name=box_name)\n",
    "print(dts_name)\n",
    "segment_none"
   ]
  },
  {
   "cell_type": "code",
   "execution_count": null,
   "metadata": {},
   "outputs": [],
   "source": [
    "dts_name = 'mnist'\n",
    "mnist_none = test_box(dts_name=dts_name, box_name=box_name)\n",
    "print(dts_name)\n",
    "mnist_none"
   ]
  },
  {
   "cell_type": "code",
   "execution_count": null,
   "metadata": {},
   "outputs": [],
   "source": [
    "dts_name = 'digits'\n",
    "digits_none = test_box(dts_name=dts_name, box_name=box_name)\n",
    "print(dts_name)\n",
    "digits_none"
   ]
  },
  {
   "cell_type": "code",
   "execution_count": null,
   "metadata": {},
   "outputs": [],
   "source": [
    "dts_name = 'covertype'\n",
    "covertype_none = test_box(dts_name=dts_name, box_name=box_name)\n",
    "print(dts_name)\n",
    "covertype_none"
   ]
  },
  {
   "cell_type": "code",
   "execution_count": null,
   "metadata": {},
   "outputs": [],
   "source": [
    "dts_name = 'fall_detection'\n",
    "fall_detection_none = test_box(dts_name=dts_name, box_name=box_name)\n",
    "print(dts_name)\n",
    "fall_detection_none"
   ]
  },
  {
   "cell_type": "code",
   "execution_count": null,
   "metadata": {},
   "outputs": [],
   "source": [
    "dts_name = 'pen_digits'\n",
    "pen_digits_none = test_box(dts_name=dts_name, box_name=box_name)\n",
    "print(dts_name)\n",
    "pen_digits_none"
   ]
  },
  {
   "cell_type": "code",
   "execution_count": null,
   "metadata": {},
   "outputs": [],
   "source": [
    "dts_name = 'satellite'\n",
    "satellite_none = test_box(dts_name=dts_name, box_name=box_name)\n",
    "print(dts_name)\n",
    "satellite_none"
   ]
  },
  {
   "cell_type": "code",
   "execution_count": null,
   "metadata": {},
   "outputs": [],
   "source": [
    "dts_name = 'vowel'\n",
    "vowel_none = test_box(dts_name=dts_name, box_name=box_name)\n",
    "print(dts_name)\n",
    "vowel_none"
   ]
  }
 ],
 "metadata": {
  "hide_input": false,
  "kernelspec": {
   "display_name": "Python 3",
   "language": "python",
   "name": "python3"
  },
  "language_info": {
   "codemirror_mode": {
    "name": "ipython",
    "version": 3
   },
   "file_extension": ".py",
   "mimetype": "text/x-python",
   "name": "python",
   "nbconvert_exporter": "python",
   "pygments_lexer": "ipython3",
   "version": "3.6.7"
  },
  "notify_time": "5",
  "varInspector": {
   "cols": {
    "lenName": 16,
    "lenType": 16,
    "lenVar": 40
   },
   "kernels_config": {
    "python": {
     "delete_cmd_postfix": "",
     "delete_cmd_prefix": "del ",
     "library": "var_list.py",
     "varRefreshCmd": "print(var_dic_list())"
    },
    "r": {
     "delete_cmd_postfix": ") ",
     "delete_cmd_prefix": "rm(",
     "library": "var_list.r",
     "varRefreshCmd": "cat(var_dic_list()) "
    }
   },
   "oldHeight": 373.958666,
   "position": {
    "height": "40px",
    "left": "606.323px",
    "right": "20px",
    "top": "5px",
    "width": "444.292px"
   },
   "types_to_exclude": [
    "module",
    "function",
    "builtin_function_or_method",
    "instance",
    "_Feature"
   ],
   "varInspector_section_display": "none",
   "window_display": true
  }
 },
 "nbformat": 4,
 "nbformat_minor": 2
}
