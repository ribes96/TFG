{
 "cells": [
  {
   "cell_type": "code",
   "execution_count": 1,
   "metadata": {},
   "outputs": [],
   "source": [
    "from demo_utils.learning import get_model\n",
    "from demo_utils.general import get_data\n",
    "from demo_utils.general import SUPPORTED_DATASETS\n",
    "from sklearn.model_selection import GridSearchCV\n",
    "from IPython.display import Markdown as md"
   ]
  },
  {
   "cell_type": "code",
   "execution_count": 2,
   "metadata": {},
   "outputs": [],
   "source": [
    "import warnings\n",
    "warnings.filterwarnings('ignore')"
   ]
  },
  {
   "cell_type": "code",
   "execution_count": 3,
   "metadata": {},
   "outputs": [
    {
     "data": {
      "application/javascript": [
       "IPython.OutputArea.prototype._should_scroll = function(lines) {\n",
       "    return false\n",
       "}\n"
      ],
      "text/plain": [
       "<IPython.core.display.Javascript object>"
      ]
     },
     "metadata": {},
     "output_type": "display_data"
    }
   ],
   "source": [
    "%%javascript\n",
    "IPython.OutputArea.prototype._should_scroll = function(lines) {\n",
    "    return false\n",
    "}"
   ]
  },
  {
   "cell_type": "code",
   "execution_count": 4,
   "metadata": {},
   "outputs": [],
   "source": [
    "def get_prefixes(box_name):\n",
    "    # Retorna el prefijo adecuado para acceder a parámetros del sampler y\n",
    "    # de modelo, en función de la caja\n",
    "\n",
    "    if box_name == 'none':\n",
    "        sampler_prefix = 'sampler__'\n",
    "        model_prefix = 'model__'\n",
    "    elif box_name in ['grey_bag', 'grey_ens']:\n",
    "        sampler_prefix = 'base_estimator__sampler__'\n",
    "        model_prefix = 'base_estimator__model__'\n",
    "    elif box_name in ['black_bag', 'black_ens']:\n",
    "        sampler_prefix = 'sampler__'\n",
    "        model_prefix = 'model__base_estimator__'\n",
    "\n",
    "    return sampler_prefix, model_prefix"
   ]
  },
  {
   "cell_type": "code",
   "execution_count": 5,
   "metadata": {},
   "outputs": [],
   "source": [
    "dts_size = 1000\n",
    "n_components = 500\n",
    "n_estim = 20\n",
    "model_h_params = {\n",
    "    'dt': {'min_impurity_decrease': [10**i for i in range(-10, 1)]},\n",
    "    'logit': {'C': [10**i for i in range(-5, 4)]}, # (3) fijo (una C grande para no regularizar)\n",
    "    'linear_svc': {'C': [10**i for i in range(-5, 4)]} # (-1, 3)\n",
    "}\n",
    "gamma_options = {\n",
    "    'rbf': {'gamma': [10**i for i in range(-5, 2)]}, # (-5, 0)\n",
    "    'nystroem': {'gamma': [10**i for i in range(-5, 2)]},\n",
    "}"
   ]
  },
  {
   "cell_type": "code",
   "execution_count": 6,
   "metadata": {},
   "outputs": [],
   "source": [
    "def test_no_sampler_generic_pca(dts_name, box_name, model_name, with_pca):\n",
    "    display(md('#'*5 + ' ' + 'with pca=' + str(with_pca)))\n",
    "    model_params = {\n",
    "        'model_name': model_name,\n",
    "        'model_params': {},\n",
    "        'rbfsampler_gamma': None,\n",
    "        'nystroem_gamma': None,\n",
    "        'sampler_name': 'identity',\n",
    "        'pca_bool': with_pca,\n",
    "        'pca_first': None,\n",
    "        'n_estim': n_estim,\n",
    "        'box_type': box_name\n",
    "    }\n",
    "    model = get_model(**model_params)\n",
    "    # model.set_params(sampler__n_components=n_components)\n",
    "    tunning_params = dict(model_h_params[model_name])\n",
    "    sampler_prefix, model_prefix = get_prefixes(box_name=box_name)\n",
    "    param_k = next(iter(tunning_params))\n",
    "    #new_param_k = 'model__' + param_k\n",
    "    new_param_k = model_prefix + param_k\n",
    "    tunning_params[new_param_k] = tunning_params.pop(param_k)\n",
    "    clf = GridSearchCV(model, tunning_params, cv=10, iid=False)\n",
    "\n",
    "    data = get_data(dts_name, n_ins=dts_size)\n",
    "    data_train = data['data_train']\n",
    "    target_train = data['target_train']\n",
    "\n",
    "    clf.fit(data_train, target_train)\n",
    "\n",
    "    bp = clf.best_params_\n",
    "\n",
    "    bp[param_k] = bp.pop(new_param_k)\n",
    "\n",
    "    return bp\n",
    "\n",
    "\n",
    "def test_with_sampler_no_pca(dts_name, box_name, model_name, sampler_name):\n",
    "    display(md('#'*5 + ' ' + 'without pca'))\n",
    "    model_params = {\n",
    "        'model_name': model_name,\n",
    "        'model_params': {},\n",
    "        'rbfsampler_gamma': None,\n",
    "        'nystroem_gamma': None,\n",
    "        'sampler_name': sampler_name,\n",
    "        'pca_bool': False,\n",
    "        'pca_first': None,\n",
    "        'n_estim': n_estim,\n",
    "        'box_type': box_name\n",
    "    }\n",
    "    model = get_model(**model_params)\n",
    "    tunning_params = dict(model_h_params[model_name])\n",
    "\n",
    "    sampler_prefix, model_prefix = get_prefixes(box_name=box_name)\n",
    "\n",
    "    param_k = next(iter(tunning_params))\n",
    "    #new_param_k = 'model__' + param_k\n",
    "    new_param_k = model_prefix + param_k\n",
    "    tunning_params[new_param_k] = tunning_params.pop(param_k)\n",
    "\n",
    "    sampler_params = dict(gamma_options[sampler_name])\n",
    "    sampler_k = next(iter(sampler_params))\n",
    "    #new_sampler_k = 'sampler__' + sampler_k\n",
    "    new_sampler_k = sampler_prefix + sampler_k\n",
    "\n",
    "    sampler_params[new_sampler_k] = sampler_params.pop(sampler_k)\n",
    "\n",
    "    tunning_params.update(sampler_params)\n",
    "\n",
    "    clf = GridSearchCV(model, tunning_params, cv=10, iid=False)\n",
    "\n",
    "    data = get_data(dts_name, n_ins=dts_size)\n",
    "    data_train = data['data_train']\n",
    "    target_train = data['target_train']\n",
    "\n",
    "    clf.fit(data_train, target_train)\n",
    "\n",
    "    bp = clf.best_params_\n",
    "\n",
    "    bp[param_k] = bp.pop(new_param_k)\n",
    "    bp[sampler_k] = bp.pop(new_sampler_k)\n",
    "    return bp\n",
    "\n",
    "\n",
    "def test_with_sampler_with_pca(dts_name, box_name, model_name, sampler_name, pca_first):\n",
    "    display(md('#'*5 + ' ' + 'with pca'))\n",
    "    model_params = {\n",
    "        'model_name': model_name,\n",
    "        'model_params': {},\n",
    "        'rbfsampler_gamma': None,\n",
    "        'nystroem_gamma': None,\n",
    "        'sampler_name': sampler_name,\n",
    "        'pca_bool': True,\n",
    "        'pca_first': pca_first,\n",
    "        'n_estim': n_estim,\n",
    "        'box_type': box_name,\n",
    "    }\n",
    "    model = get_model(**model_params)\n",
    "    tunning_params = dict(model_h_params[model_name])\n",
    "\n",
    "    sampler_prefix, model_prefix = get_prefixes(box_name=box_name)\n",
    "\n",
    "    param_k = next(iter(tunning_params))\n",
    "    #new_param_k = 'model__' + param_k\n",
    "    new_param_k = model_prefix + param_k\n",
    "    tunning_params[new_param_k] = tunning_params.pop(param_k)\n",
    "\n",
    "    sampler_params = dict(gamma_options[sampler_name])\n",
    "    sampler_k = next(iter(sampler_params))\n",
    "    #new_sampler_k = 'sampler__' + sampler_k\n",
    "    new_sampler_k = sampler_prefix + sampler_k\n",
    "\n",
    "    sampler_params[new_sampler_k] = sampler_params.pop(sampler_k)\n",
    "\n",
    "    tunning_params.update(sampler_params)\n",
    "\n",
    "    clf = GridSearchCV(model, tunning_params, cv=10, iid=False)\n",
    "\n",
    "    data = get_data(dts_name, n_ins=dts_size)\n",
    "    data_train = data['data_train']\n",
    "    target_train = data['target_train']\n",
    "\n",
    "    clf.fit(data_train, target_train)\n",
    "\n",
    "    bp = clf.best_params_\n",
    "\n",
    "    bp[param_k] = bp.pop(new_param_k)\n",
    "    bp[sampler_k] = bp.pop(new_sampler_k)\n",
    "    return bp\n",
    "    pass"
   ]
  },
  {
   "cell_type": "code",
   "execution_count": 7,
   "metadata": {},
   "outputs": [],
   "source": [
    "def test_no_sampler(dts_name, box_name, model_name):\n",
    "    display(md('#'*4 + ' ' + 'without sampler'))\n",
    "    d_no_pca = test_no_sampler_generic_pca(\n",
    "        dts_name=dts_name, box_name=box_name, model_name=model_name, with_pca=False)\n",
    "    d_with_pca = test_no_sampler_generic_pca(\n",
    "        dts_name=dts_name, box_name=box_name, model_name=model_name, with_pca=True)\n",
    "    ret_dic = {\n",
    "        'no_pca': d_no_pca,\n",
    "        'pca': d_with_pca,\n",
    "    }\n",
    "    return ret_dic\n",
    "\n",
    "\n",
    "def test_with_sampler(dts_name, box_name, model_name, sampler_name):\n",
    "    display(md('#'*4 + ' ' + 'with sampler'))\n",
    "    d_no_pca = test_with_sampler_no_pca(\n",
    "        dts_name=dts_name, box_name=box_name, model_name=model_name, sampler_name=sampler_name)\n",
    "    d_with_pca_first = test_with_sampler_with_pca(dts_name=dts_name, box_name=box_name, model_name=model_name,\n",
    "                                                  sampler_name=sampler_name, pca_first=True)\n",
    "    d_with_pca_last = test_with_sampler_with_pca(dts_name=dts_name, box_name=box_name, model_name=model_name,\n",
    "                                                 sampler_name=sampler_name, pca_first=False)\n",
    "    ret_dic = {\n",
    "        'no_pca': d_no_pca,\n",
    "        'pca_first': d_with_pca_first,\n",
    "        'pca_last': d_with_pca_last,\n",
    "    }\n",
    "    return ret_dic"
   ]
  },
  {
   "cell_type": "code",
   "execution_count": 8,
   "metadata": {},
   "outputs": [],
   "source": [
    "def test_model(dts_name, box_name, model_name):\n",
    "    display(md('#'*3 + ' ' + model_name))\n",
    "    d_no_sampler = test_no_sampler(\n",
    "        dts_name=dts_name, box_name=box_name, model_name=model_name)\n",
    "    d_rff = test_with_sampler(\n",
    "        dts_name=dts_name, box_name=box_name, model_name=model_name, sampler_name='rbf')\n",
    "    d_nystroem = test_with_sampler(\n",
    "        dts_name=dts_name, box_name=box_name, model_name=model_name, sampler_name='nystroem')\n",
    "\n",
    "    ret_dic = {\n",
    "        'no_sampler': d_no_sampler,\n",
    "        'rff': d_rff,\n",
    "        'nystrem': d_nystroem,\n",
    "    }\n",
    "\n",
    "    return ret_dic"
   ]
  },
  {
   "cell_type": "code",
   "execution_count": 9,
   "metadata": {},
   "outputs": [],
   "source": [
    "def test_box(dts_name, box_name):\n",
    "    display(md('#'*2 + ' ' + box_name))\n",
    "    d_dt = test_model(dts_name=dts_name, box_name=box_name, model_name='dt')\n",
    "    d_logit = test_model(\n",
    "        dts_name=dts_name, box_name=box_name, model_name='logit')\n",
    "    d_linear_svc = test_model(\n",
    "        dts_name=dts_name, box_name=box_name, model_name='linear_svc')\n",
    "\n",
    "    ret_dic = {\n",
    "        'dt': d_dt,\n",
    "        'logit': d_logit,\n",
    "        'linear_svc': d_linear_svc,\n",
    "    }\n",
    "    return ret_dic"
   ]
  },
  {
   "cell_type": "code",
   "execution_count": 10,
   "metadata": {},
   "outputs": [],
   "source": [
    "def test_dataset(dts_name):\n",
    "    display(md('#'*1 + ' ' + dts_name))\n",
    "\n",
    "    d_none = test_box(dts_name=dts_name, box_name='none')\n",
    "    d_black_bag = test_box(dts_name=dts_name, box_name='black_bag')\n",
    "    d_grey_bag = test_box(dts_name=dts_name, box_name='grey_bag')\n",
    "    d_grey_ens = test_box(dts_name=dts_name, box_name='grey_ens')\n",
    "\n",
    "    ret_dic = {\n",
    "        'box_none': d_none,\n",
    "        'box_black_bag': d_black_bag,\n",
    "        'box_grey_bag': d_grey_bag,\n",
    "        'box_grey_ens': d_grey_ens,\n",
    "    }\n",
    "\n",
    "    return ret_dic"
   ]
  },
  {
   "cell_type": "code",
   "execution_count": 11,
   "metadata": {},
   "outputs": [],
   "source": [
    "def test_everything():\n",
    "    ret_dic = {}\n",
    "    for dts_name in SUPPORTED_DATASETS:\n",
    "        d = test_dataset(dts_name=dts_name)\n",
    "        ret_dic[dts_name] = d\n",
    "        print(d)\n",
    "    return ret_dic"
   ]
  },
  {
   "cell_type": "code",
   "execution_count": null,
   "metadata": {
    "deletable": false,
    "editable": false,
    "run_control": {
     "frozen": true
    }
   },
   "outputs": [],
   "source": [
    "d = test_everything()"
   ]
  },
  {
   "cell_type": "code",
   "execution_count": 12,
   "metadata": {},
   "outputs": [
    {
     "ename": "NameError",
     "evalue": "name 'fail' is not defined",
     "output_type": "error",
     "traceback": [
      "\u001b[0;31m---------------------------------------------------------------------------\u001b[0m",
      "\u001b[0;31mNameError\u001b[0m                                 Traceback (most recent call last)",
      "\u001b[0;32m<ipython-input-12-a44b30b36141>\u001b[0m in \u001b[0;36m<module>\u001b[0;34m\u001b[0m\n\u001b[0;32m----> 1\u001b[0;31m \u001b[0mfail\u001b[0m\u001b[0;34m\u001b[0m\u001b[0;34m\u001b[0m\u001b[0m\n\u001b[0m",
      "\u001b[0;31mNameError\u001b[0m: name 'fail' is not defined"
     ]
    }
   ],
   "source": [
    "fail"
   ]
  },
  {
   "cell_type": "code",
   "execution_count": 31,
   "metadata": {},
   "outputs": [],
   "source": [
    "dts_name = 'mnist'\n",
    "box_name = 'none'\n",
    "model_name = 'dt'"
   ]
  },
  {
   "cell_type": "code",
   "execution_count": 32,
   "metadata": {},
   "outputs": [
    {
     "data": {
      "text/markdown": [
       "#### without sampler"
      ],
      "text/plain": [
       "<IPython.core.display.Markdown object>"
      ]
     },
     "metadata": {},
     "output_type": "display_data"
    },
    {
     "data": {
      "text/markdown": [
       "##### with pca=False"
      ],
      "text/plain": [
       "<IPython.core.display.Markdown object>"
      ]
     },
     "metadata": {},
     "output_type": "display_data"
    },
    {
     "data": {
      "text/markdown": [
       "##### with pca=True"
      ],
      "text/plain": [
       "<IPython.core.display.Markdown object>"
      ]
     },
     "metadata": {},
     "output_type": "display_data"
    }
   ],
   "source": [
    "d1 = test_no_sampler(dts_name=dts_name, box_name=box_name, model_name=model_name)"
   ]
  },
  {
   "cell_type": "code",
   "execution_count": 33,
   "metadata": {},
   "outputs": [
    {
     "data": {
      "text/markdown": [
       "#### with sampler"
      ],
      "text/plain": [
       "<IPython.core.display.Markdown object>"
      ]
     },
     "metadata": {},
     "output_type": "display_data"
    },
    {
     "data": {
      "text/markdown": [
       "##### without pca"
      ],
      "text/plain": [
       "<IPython.core.display.Markdown object>"
      ]
     },
     "metadata": {},
     "output_type": "display_data"
    },
    {
     "data": {
      "text/markdown": [
       "##### with pca"
      ],
      "text/plain": [
       "<IPython.core.display.Markdown object>"
      ]
     },
     "metadata": {},
     "output_type": "display_data"
    },
    {
     "data": {
      "text/markdown": [
       "##### with pca"
      ],
      "text/plain": [
       "<IPython.core.display.Markdown object>"
      ]
     },
     "metadata": {},
     "output_type": "display_data"
    }
   ],
   "source": [
    "d2 = test_with_sampler(dts_name=dts_name, box_name=box_name, model_name=model_name, sampler_name='rbf')"
   ]
  },
  {
   "cell_type": "code",
   "execution_count": 34,
   "metadata": {},
   "outputs": [
    {
     "data": {
      "text/markdown": [
       "#### with sampler"
      ],
      "text/plain": [
       "<IPython.core.display.Markdown object>"
      ]
     },
     "metadata": {},
     "output_type": "display_data"
    },
    {
     "data": {
      "text/markdown": [
       "##### without pca"
      ],
      "text/plain": [
       "<IPython.core.display.Markdown object>"
      ]
     },
     "metadata": {},
     "output_type": "display_data"
    },
    {
     "data": {
      "text/markdown": [
       "##### with pca"
      ],
      "text/plain": [
       "<IPython.core.display.Markdown object>"
      ]
     },
     "metadata": {},
     "output_type": "display_data"
    },
    {
     "data": {
      "text/markdown": [
       "##### with pca"
      ],
      "text/plain": [
       "<IPython.core.display.Markdown object>"
      ]
     },
     "metadata": {},
     "output_type": "display_data"
    }
   ],
   "source": [
    "d3 = test_with_sampler(dts_name=dts_name, box_name=box_name, model_name=model_name, sampler_name='nystroem')"
   ]
  },
  {
   "cell_type": "code",
   "execution_count": 36,
   "metadata": {},
   "outputs": [],
   "source": [
    "dt_dic = {\n",
    "    'no_sampler': d1,\n",
    "    'rff': d2,\n",
    "    'nystroem': d3,\n",
    "}"
   ]
  },
  {
   "cell_type": "code",
   "execution_count": 37,
   "metadata": {},
   "outputs": [
    {
     "data": {
      "text/plain": [
       "{'no_sampler': {'no_pca': {'min_impurity_decrease': 1e-05},\n",
       "  'pca': {'min_impurity_decrease': 0.01}},\n",
       " 'rff': {'no_pca': {'min_impurity_decrease': 1e-06, 'gamma': 1e-05},\n",
       "  'pca_first': {'min_impurity_decrease': 0.0001, 'gamma': 1e-05},\n",
       "  'pca_last': {'min_impurity_decrease': 0.01, 'gamma': 0.0001}},\n",
       " 'nystroem': {'no_pca': {'min_impurity_decrease': 1e-08, 'gamma': 0.001},\n",
       "  'pca_first': {'min_impurity_decrease': 0.0001, 'gamma': 0.0001},\n",
       "  'pca_last': {'min_impurity_decrease': 1e-06, 'gamma': 0.001}}}"
      ]
     },
     "execution_count": 37,
     "metadata": {},
     "output_type": "execute_result"
    }
   ],
   "source": [
    "dt_dic"
   ]
  },
  {
   "cell_type": "code",
   "execution_count": 38,
   "metadata": {},
   "outputs": [],
   "source": [
    "dts_name = 'mnist'\n",
    "box_name = 'none'\n",
    "model_name = 'logit'"
   ]
  },
  {
   "cell_type": "code",
   "execution_count": 39,
   "metadata": {},
   "outputs": [
    {
     "data": {
      "text/markdown": [
       "#### without sampler"
      ],
      "text/plain": [
       "<IPython.core.display.Markdown object>"
      ]
     },
     "metadata": {},
     "output_type": "display_data"
    },
    {
     "data": {
      "text/markdown": [
       "##### with pca=False"
      ],
      "text/plain": [
       "<IPython.core.display.Markdown object>"
      ]
     },
     "metadata": {},
     "output_type": "display_data"
    },
    {
     "data": {
      "text/markdown": [
       "##### with pca=True"
      ],
      "text/plain": [
       "<IPython.core.display.Markdown object>"
      ]
     },
     "metadata": {},
     "output_type": "display_data"
    }
   ],
   "source": [
    "d1 = test_no_sampler(dts_name=dts_name, box_name=box_name, model_name=model_name)"
   ]
  },
  {
   "cell_type": "code",
   "execution_count": 40,
   "metadata": {},
   "outputs": [
    {
     "data": {
      "text/markdown": [
       "#### with sampler"
      ],
      "text/plain": [
       "<IPython.core.display.Markdown object>"
      ]
     },
     "metadata": {},
     "output_type": "display_data"
    },
    {
     "data": {
      "text/markdown": [
       "##### without pca"
      ],
      "text/plain": [
       "<IPython.core.display.Markdown object>"
      ]
     },
     "metadata": {},
     "output_type": "display_data"
    },
    {
     "data": {
      "text/markdown": [
       "##### with pca"
      ],
      "text/plain": [
       "<IPython.core.display.Markdown object>"
      ]
     },
     "metadata": {},
     "output_type": "display_data"
    },
    {
     "data": {
      "text/markdown": [
       "##### with pca"
      ],
      "text/plain": [
       "<IPython.core.display.Markdown object>"
      ]
     },
     "metadata": {},
     "output_type": "display_data"
    }
   ],
   "source": [
    "d2 = test_with_sampler(dts_name=dts_name, box_name=box_name, model_name=model_name, sampler_name='rbf')"
   ]
  },
  {
   "cell_type": "code",
   "execution_count": 41,
   "metadata": {},
   "outputs": [
    {
     "data": {
      "text/markdown": [
       "#### with sampler"
      ],
      "text/plain": [
       "<IPython.core.display.Markdown object>"
      ]
     },
     "metadata": {},
     "output_type": "display_data"
    },
    {
     "data": {
      "text/markdown": [
       "##### without pca"
      ],
      "text/plain": [
       "<IPython.core.display.Markdown object>"
      ]
     },
     "metadata": {},
     "output_type": "display_data"
    },
    {
     "data": {
      "text/markdown": [
       "##### with pca"
      ],
      "text/plain": [
       "<IPython.core.display.Markdown object>"
      ]
     },
     "metadata": {},
     "output_type": "display_data"
    },
    {
     "data": {
      "text/markdown": [
       "##### with pca"
      ],
      "text/plain": [
       "<IPython.core.display.Markdown object>"
      ]
     },
     "metadata": {},
     "output_type": "display_data"
    }
   ],
   "source": [
    "d3 = test_with_sampler(dts_name=dts_name, box_name=box_name, model_name=model_name, sampler_name='nystroem')"
   ]
  },
  {
   "cell_type": "code",
   "execution_count": 42,
   "metadata": {},
   "outputs": [],
   "source": [
    "logit_dic = {\n",
    "    'no_sampler': d1,\n",
    "    'rff': d2,\n",
    "    'nystroem': d3,\n",
    "}"
   ]
  },
  {
   "cell_type": "code",
   "execution_count": 43,
   "metadata": {},
   "outputs": [
    {
     "data": {
      "text/plain": [
       "{'no_sampler': {'no_pca': {'C': 0.01}, 'pca': {'C': 0.01}},\n",
       " 'rff': {'no_pca': {'C': 1000, 'gamma': 1e-05},\n",
       "  'pca_first': {'C': 100, 'gamma': 0.0001},\n",
       "  'pca_last': {'C': 100, 'gamma': 0.0001}},\n",
       " 'nystroem': {'no_pca': {'C': 100, 'gamma': 0.0001},\n",
       "  'pca_first': {'C': 1000, 'gamma': 1e-05},\n",
       "  'pca_last': {'C': 100, 'gamma': 0.0001}}}"
      ]
     },
     "execution_count": 43,
     "metadata": {},
     "output_type": "execute_result"
    }
   ],
   "source": [
    "logit_dic"
   ]
  },
  {
   "cell_type": "code",
   "execution_count": 44,
   "metadata": {},
   "outputs": [],
   "source": [
    "dts_name = 'mnist'\n",
    "box_name = 'none'\n",
    "model_name = 'linear_svc'"
   ]
  },
  {
   "cell_type": "code",
   "execution_count": 45,
   "metadata": {},
   "outputs": [
    {
     "data": {
      "text/markdown": [
       "#### without sampler"
      ],
      "text/plain": [
       "<IPython.core.display.Markdown object>"
      ]
     },
     "metadata": {},
     "output_type": "display_data"
    },
    {
     "data": {
      "text/markdown": [
       "##### with pca=False"
      ],
      "text/plain": [
       "<IPython.core.display.Markdown object>"
      ]
     },
     "metadata": {},
     "output_type": "display_data"
    },
    {
     "data": {
      "text/markdown": [
       "##### with pca=True"
      ],
      "text/plain": [
       "<IPython.core.display.Markdown object>"
      ]
     },
     "metadata": {},
     "output_type": "display_data"
    }
   ],
   "source": [
    "d1 = test_no_sampler(dts_name=dts_name, box_name=box_name, model_name=model_name)"
   ]
  },
  {
   "cell_type": "code",
   "execution_count": 46,
   "metadata": {},
   "outputs": [
    {
     "data": {
      "text/markdown": [
       "#### with sampler"
      ],
      "text/plain": [
       "<IPython.core.display.Markdown object>"
      ]
     },
     "metadata": {},
     "output_type": "display_data"
    },
    {
     "data": {
      "text/markdown": [
       "##### without pca"
      ],
      "text/plain": [
       "<IPython.core.display.Markdown object>"
      ]
     },
     "metadata": {},
     "output_type": "display_data"
    },
    {
     "data": {
      "text/markdown": [
       "##### with pca"
      ],
      "text/plain": [
       "<IPython.core.display.Markdown object>"
      ]
     },
     "metadata": {},
     "output_type": "display_data"
    },
    {
     "data": {
      "text/markdown": [
       "##### with pca"
      ],
      "text/plain": [
       "<IPython.core.display.Markdown object>"
      ]
     },
     "metadata": {},
     "output_type": "display_data"
    }
   ],
   "source": [
    "d2 = test_with_sampler(dts_name=dts_name, box_name=box_name, model_name=model_name, sampler_name='rbf')"
   ]
  },
  {
   "cell_type": "code",
   "execution_count": 47,
   "metadata": {},
   "outputs": [
    {
     "data": {
      "text/markdown": [
       "#### with sampler"
      ],
      "text/plain": [
       "<IPython.core.display.Markdown object>"
      ]
     },
     "metadata": {},
     "output_type": "display_data"
    },
    {
     "data": {
      "text/markdown": [
       "##### without pca"
      ],
      "text/plain": [
       "<IPython.core.display.Markdown object>"
      ]
     },
     "metadata": {},
     "output_type": "display_data"
    },
    {
     "data": {
      "text/markdown": [
       "##### with pca"
      ],
      "text/plain": [
       "<IPython.core.display.Markdown object>"
      ]
     },
     "metadata": {},
     "output_type": "display_data"
    },
    {
     "data": {
      "text/markdown": [
       "##### with pca"
      ],
      "text/plain": [
       "<IPython.core.display.Markdown object>"
      ]
     },
     "metadata": {},
     "output_type": "display_data"
    }
   ],
   "source": [
    "d3 = test_with_sampler(dts_name=dts_name, box_name=box_name, model_name=model_name, sampler_name='nystroem')"
   ]
  },
  {
   "cell_type": "code",
   "execution_count": 48,
   "metadata": {},
   "outputs": [],
   "source": [
    "linear_svc_dic = {\n",
    "    'no_sampler': d1,\n",
    "    'rff': d2,\n",
    "    'nystroem': d3,\n",
    "}"
   ]
  },
  {
   "cell_type": "code",
   "execution_count": 49,
   "metadata": {},
   "outputs": [
    {
     "data": {
      "text/plain": [
       "{'no_sampler': {'no_pca': {'C': 0.0001}, 'pca': {'C': 0.0001}},\n",
       " 'rff': {'no_pca': {'C': 100, 'gamma': 1e-05},\n",
       "  'pca_first': {'C': 100, 'gamma': 1e-05},\n",
       "  'pca_last': {'C': 10, 'gamma': 0.0001}},\n",
       " 'nystroem': {'no_pca': {'C': 10, 'gamma': 0.0001},\n",
       "  'pca_first': {'C': 1, 'gamma': 0.001},\n",
       "  'pca_last': {'C': 10, 'gamma': 0.001}}}"
      ]
     },
     "execution_count": 49,
     "metadata": {},
     "output_type": "execute_result"
    }
   ],
   "source": [
    "linear_svc_dic"
   ]
  },
  {
   "cell_type": "code",
   "execution_count": 50,
   "metadata": {},
   "outputs": [],
   "source": [
    "none_dic = {\n",
    "    'dt': dt_dic,\n",
    "    'logit': logit_dic,\n",
    "    'linear_svc': linear_svc_dic,\n",
    "}"
   ]
  },
  {
   "cell_type": "code",
   "execution_count": 51,
   "metadata": {},
   "outputs": [
    {
     "data": {
      "text/plain": [
       "{'dt': {'no_sampler': {'no_pca': {'min_impurity_decrease': 1e-05},\n",
       "   'pca': {'min_impurity_decrease': 0.01}},\n",
       "  'rff': {'no_pca': {'min_impurity_decrease': 1e-06, 'gamma': 1e-05},\n",
       "   'pca_first': {'min_impurity_decrease': 0.0001, 'gamma': 1e-05},\n",
       "   'pca_last': {'min_impurity_decrease': 0.01, 'gamma': 0.0001}},\n",
       "  'nystroem': {'no_pca': {'min_impurity_decrease': 1e-08, 'gamma': 0.001},\n",
       "   'pca_first': {'min_impurity_decrease': 0.0001, 'gamma': 0.0001},\n",
       "   'pca_last': {'min_impurity_decrease': 1e-06, 'gamma': 0.001}}},\n",
       " 'logit': {'no_sampler': {'no_pca': {'C': 0.01}, 'pca': {'C': 0.01}},\n",
       "  'rff': {'no_pca': {'C': 1000, 'gamma': 1e-05},\n",
       "   'pca_first': {'C': 100, 'gamma': 0.0001},\n",
       "   'pca_last': {'C': 100, 'gamma': 0.0001}},\n",
       "  'nystroem': {'no_pca': {'C': 100, 'gamma': 0.0001},\n",
       "   'pca_first': {'C': 1000, 'gamma': 1e-05},\n",
       "   'pca_last': {'C': 100, 'gamma': 0.0001}}},\n",
       " 'linear_svc': {'no_sampler': {'no_pca': {'C': 0.0001}, 'pca': {'C': 0.0001}},\n",
       "  'rff': {'no_pca': {'C': 100, 'gamma': 1e-05},\n",
       "   'pca_first': {'C': 100, 'gamma': 1e-05},\n",
       "   'pca_last': {'C': 10, 'gamma': 0.0001}},\n",
       "  'nystroem': {'no_pca': {'C': 10, 'gamma': 0.0001},\n",
       "   'pca_first': {'C': 1, 'gamma': 0.001},\n",
       "   'pca_last': {'C': 10, 'gamma': 0.001}}}}"
      ]
     },
     "execution_count": 51,
     "metadata": {},
     "output_type": "execute_result"
    }
   ],
   "source": [
    "none_dic"
   ]
  },
  {
   "cell_type": "code",
   "execution_count": 18,
   "metadata": {},
   "outputs": [
    {
     "data": {
      "text/plain": [
       "{'no_sampler': {'no_pca': {'min_impurity_decrease': 0.0001},\n",
       "  'pca': {'min_impurity_decrease': 1e-05}},\n",
       " 'rff': {'no_pca': {'min_impurity_decrease': 1e-09, 'gamma': 1e-05},\n",
       "  'pca_first': {'min_impurity_decrease': 1e-06, 'gamma': 1e-05},\n",
       "  'pca_last': {'min_impurity_decrease': 0.001, 'gamma': 0.01}},\n",
       " 'nystroem': {'no_pca': {'min_impurity_decrease': 0.001, 'gamma': 0.0001},\n",
       "  'pca_first': {'min_impurity_decrease': 1e-05, 'gamma': 1e-05},\n",
       "  'pca_last': {'min_impurity_decrease': 1e-08, 'gamma': 0.1}}}"
      ]
     },
     "execution_count": 18,
     "metadata": {},
     "output_type": "execute_result"
    }
   ],
   "source": [
    "dt_dic"
   ]
  }
 ],
 "metadata": {
  "hide_input": false,
  "kernelspec": {
   "display_name": "Python 3",
   "language": "python",
   "name": "python3"
  },
  "language_info": {
   "codemirror_mode": {
    "name": "ipython",
    "version": 3
   },
   "file_extension": ".py",
   "mimetype": "text/x-python",
   "name": "python",
   "nbconvert_exporter": "python",
   "pygments_lexer": "ipython3",
   "version": "3.6.7"
  },
  "notify_time": "5",
  "varInspector": {
   "cols": {
    "lenName": 16,
    "lenType": 16,
    "lenVar": 40
   },
   "kernels_config": {
    "python": {
     "delete_cmd_postfix": "",
     "delete_cmd_prefix": "del ",
     "library": "var_list.py",
     "varRefreshCmd": "print(var_dic_list())"
    },
    "r": {
     "delete_cmd_postfix": ") ",
     "delete_cmd_prefix": "rm(",
     "library": "var_list.r",
     "varRefreshCmd": "cat(var_dic_list()) "
    }
   },
   "oldHeight": 373.958666,
   "position": {
    "height": "40px",
    "left": "606.323px",
    "right": "20px",
    "top": "5px",
    "width": "444.292px"
   },
   "types_to_exclude": [
    "module",
    "function",
    "builtin_function_or_method",
    "instance",
    "_Feature"
   ],
   "varInspector_section_display": "none",
   "window_display": false
  }
 },
 "nbformat": 4,
 "nbformat_minor": 2
}
