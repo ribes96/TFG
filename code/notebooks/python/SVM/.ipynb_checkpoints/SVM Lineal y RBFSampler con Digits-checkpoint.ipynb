{
 "cells": [
  {
   "cell_type": "markdown",
   "metadata": {},
   "source": [
    "# Clasificación con SVM Lineal usando RBFSampler con el dataset Digits de scikit-learn"
   ]
  },
  {
   "cell_type": "markdown",
   "metadata": {},
   "source": [
    "http://scikit-learn.org/stable/modules/generated/sklearn.datasets.load_digits.html"
   ]
  },
  {
   "cell_type": "markdown",
   "metadata": {},
   "source": [
    "## Información del dataset"
   ]
  },
  {
   "cell_type": "markdown",
   "metadata": {},
   "source": [
    "Casi 1800 imágenes de 8x8 con los dígitos 0..9. Cada píxel se representa con un número entre 0..15, que representa un color en la escala de grises."
   ]
  },
  {
   "cell_type": "markdown",
   "metadata": {},
   "source": [
    "En este notebook se hará el training con los datos sacados de RBFSampler. En algunos ejemplos de scikit-learn, normalizan este dataset (dividen cada fila por 16 y luego le restan la media). En este notebook el training se hará directamente con los datos de RBFSampler, sin hacer ningún tipo de preprocesado. Para ver el mismo código pero normalizando, estará en otro notebook."
   ]
  },
  {
   "cell_type": "code",
   "execution_count": 121,
   "metadata": {},
   "outputs": [],
   "source": [
    "from sklearn.datasets import load_digits\n",
    "#from sklearn.tree import DecisionTreeClassifier\n",
    "from sklearn.kernel_approximation import RBFSampler\n",
    "from sklearn.svm import LinearSVC"
   ]
  },
  {
   "cell_type": "code",
   "execution_count": 122,
   "metadata": {},
   "outputs": [],
   "source": [
    "import math\n",
    "import numpy as np"
   ]
  },
  {
   "cell_type": "code",
   "execution_count": 123,
   "metadata": {},
   "outputs": [],
   "source": [
    "import matplotlib.pyplot as plt"
   ]
  },
  {
   "cell_type": "code",
   "execution_count": 124,
   "metadata": {},
   "outputs": [],
   "source": [
    "digits = load_digits()"
   ]
  },
  {
   "cell_type": "code",
   "execution_count": 125,
   "metadata": {},
   "outputs": [],
   "source": [
    "sampler = RBFSampler(n_components = 1000)"
   ]
  },
  {
   "cell_type": "code",
   "execution_count": 126,
   "metadata": {},
   "outputs": [],
   "source": [
    "data = digits.data\n",
    "target = digits.target\n",
    "N = data.shape[0] #N: cantidad de instancias, 1797\n",
    "prop_train = 2 / 3\n",
    "N_train = math.ceil(N * prop_train)\n",
    "N_test = N - N_train"
   ]
  },
  {
   "cell_type": "code",
   "execution_count": 127,
   "metadata": {},
   "outputs": [],
   "source": [
    "sampler.fit(data)\n",
    "data = sampler.transform(data)"
   ]
  },
  {
   "cell_type": "code",
   "execution_count": 128,
   "metadata": {},
   "outputs": [],
   "source": [
    "data_train = data[:N_train]\n",
    "data_test = data[N_train:]\n",
    "\n",
    "target_train = target[:N_train]\n",
    "target_test = target[N_train:]"
   ]
  },
  {
   "cell_type": "markdown",
   "metadata": {},
   "source": [
    "## Hacer varias ejecuciones y hacer la media"
   ]
  },
  {
   "cell_type": "code",
   "execution_count": 129,
   "metadata": {},
   "outputs": [],
   "source": [
    "n_runs = 10\n",
    "train_scores = []\n",
    "test_scores = []"
   ]
  },
  {
   "cell_type": "code",
   "execution_count": 130,
   "metadata": {},
   "outputs": [],
   "source": [
    "for i in range(n_runs):\n",
    "    clf = LinearSVC()\n",
    "    sampler = RBFSampler(n_components=3000)\n",
    "    \n",
    "    indices = np.arange(N)\n",
    "    indices = np.random.choice(indices, len(indices), replace = False)\n",
    "    \n",
    "    train_indices = indices[:N_train]\n",
    "    test_indices = indices[N_train:]\n",
    "    \n",
    "    dat = np.take(data, indices, axis = 0)\n",
    "    targ = np.take(target, indices, axis = 0)\n",
    "    \n",
    "    sampler.fit(dat)\n",
    "    dat = sampler.transform(dat)\n",
    "    \n",
    "    dat_train = np.take(dat, train_indices, axis = 0)\n",
    "    targ_train = np.take(targ, train_indices, axis = 0)\n",
    "\n",
    "    dat_test = np.take(dat, test_indices, axis = 0)\n",
    "    targ_test = np.take(targ, test_indices, axis = 0)\n",
    "    \n",
    "    clf.fit(dat_train, targ_train)\n",
    "    train_score = clf.score(dat_train, targ_train)\n",
    "    test_score = clf.score(dat_test, targ_test)\n",
    "    \n",
    "    train_scores.append(train_score)\n",
    "    test_scores.append(test_score)\n",
    "    "
   ]
  },
  {
   "cell_type": "code",
   "execution_count": 131,
   "metadata": {},
   "outputs": [],
   "source": [
    "#for i in range(n_runs):\n",
    "#    #clf = DecisionTreeClassifier()\n",
    "#    clf = LinearSVC()\n",
    "#    \n",
    "#    # Samplear los datos\n",
    "#    indices = np.arange(len(data))\n",
    "#    indices = np.random.choice(indices, len(indices), replace = False) # Mezclar los indices\n",
    "#    train_indices = indices[:N_train] # Los N_train primeros son de train\n",
    "#    test_indices = indices[N_train:] # El resto son de test\n",
    "#    dat_train = np.take(data, train_indices, axis = 0)\n",
    "#    targ_train = np.take(target, train_indices, axis = 0)\n",
    "#\n",
    "#    dat_test = np.take(data, test_indices, axis = 0)\n",
    "#    targ_test = np.take(target, test_indices, axis = 0)\n",
    "#    \n",
    "#    clf.fit(dat_train, targ_train)\n",
    "#    train_score = clf.score(dat_train, targ_train)\n",
    "#    test_score = clf.score(dat_test, targ_test)\n",
    "#    train_scores.append(train_score)\n",
    "#    test_scores.append(test_score)"
   ]
  },
  {
   "cell_type": "code",
   "execution_count": 132,
   "metadata": {},
   "outputs": [
    {
     "name": "stdout",
     "output_type": "stream",
     "text": [
      "Mean of test scores: 0.09599332220367278\n",
      "Mean of train scores: 1.0\n"
     ]
    }
   ],
   "source": [
    "print(\"Mean of test scores:\",np.mean(test_scores))\n",
    "print(\"Mean of train scores:\", np.mean(train_scores))"
   ]
  },
  {
   "cell_type": "code",
   "execution_count": 133,
   "metadata": {},
   "outputs": [
    {
     "name": "stdout",
     "output_type": "stream",
     "text": [
      "Standard deviation of test scores: 0.01375143763620106\n",
      "Standard deviation of train scores: 0.0\n"
     ]
    }
   ],
   "source": [
    "print(\"Standard deviation of test scores:\",np.std(test_scores))\n",
    "print(\"Standard deviation of train scores:\",np.std(train_scores))"
   ]
  },
  {
   "cell_type": "markdown",
   "metadata": {},
   "source": [
    "## ¿Como cambia accuracy si incrementamos la cantidad de features extraídas?"
   ]
  },
  {
   "cell_type": "code",
   "execution_count": 134,
   "metadata": {},
   "outputs": [],
   "source": [
    "digits = load_digits()"
   ]
  },
  {
   "cell_type": "code",
   "execution_count": 135,
   "metadata": {},
   "outputs": [],
   "source": [
    "data = digits.data\n",
    "target = digits.target\n",
    "N = data.shape[0]\n",
    "prop_train = 2 / 3\n",
    "N_train = math.ceil(N * prop_train)\n",
    "N_test = N - N_train"
   ]
  },
  {
   "cell_type": "markdown",
   "metadata": {},
   "source": [
    "Nota: la celda de abajo no debería estar aquí. Se supone que en este notebook no se normalizan los datos"
   ]
  },
  {
   "cell_type": "code",
   "execution_count": 136,
   "metadata": {},
   "outputs": [],
   "source": [
    "data /= 16\n",
    "data -= data.mean(axis = 0)"
   ]
  },
  {
   "cell_type": "code",
   "execution_count": 137,
   "metadata": {},
   "outputs": [],
   "source": [
    "target_train = target[:N_train]\n",
    "target_test = target[N_train:]"
   ]
  },
  {
   "cell_type": "code",
   "execution_count": 138,
   "metadata": {},
   "outputs": [],
   "source": [
    "#components = 50 * np.arange(30) + 50\n",
    "components = 1000 * np.arange(1, 10)\n",
    "scores = []\n",
    "n_runs = 3"
   ]
  },
  {
   "cell_type": "markdown",
   "metadata": {},
   "source": [
    "Nota: aquí estoy haciendo fit del sampler con **TODOS** los datos, luego transformo **TODOS** los datos, y luego, de todos esos datos transformados, separo los datos de train y los datos de test.\n",
    "Quizá habría que hacer fit solo con los datos de train, y luego transformar tanto los de train como los de test."
   ]
  },
  {
   "cell_type": "code",
   "execution_count": 139,
   "metadata": {},
   "outputs": [],
   "source": [
    "for comp in components:\n",
    "    sampler = RBFSampler(n_components=comp)\n",
    "    \n",
    "    # Samplear los datos\n",
    "    indices = np.arange(len(data))\n",
    "    indices = np.random.choice(indices, len(indices), replace = False) # Mezclar los indices\n",
    "    train_indices = indices[:N_train] # Los N_train primeros son de train\n",
    "    test_indices = indices[N_train:] # El resto son de test\n",
    "    dat = np.take(data, indices, axis = 0)\n",
    "    targ = np.take(target, indices, axis = 0)\n",
    "    \n",
    "    sampler.fit(dat)\n",
    "    dat = sampler.transform(dat)\n",
    "    \n",
    "    dat_train = np.take(dat, train_indices, axis = 0)\n",
    "    targ_train = np.take(targ, train_indices, axis = 0)\n",
    "\n",
    "    dat_test = np.take(dat, test_indices, axis = 0)\n",
    "    targ_test = np.take(targ, test_indices, axis = 0)\n",
    "    \n",
    "    \n",
    "    #dat = sampler.transform(data)\n",
    "    #dat_train = dat[:N_train]\n",
    "    #dat_test = dat[N_train:]\n",
    "    #clf = DecisionTreeClassifier()\n",
    "    clf = LinearSVC()\n",
    "    clf.fit(dat_train, targ_train)\n",
    "    sc = 0\n",
    "    for i in range(n_runs):\n",
    "        sc += clf.score(dat_test, targ_test)\n",
    "    sc /= n_runs\n",
    "    scores.append(sc)"
   ]
  },
  {
   "cell_type": "code",
   "execution_count": 140,
   "metadata": {},
   "outputs": [
    {
     "data": {
      "text/plain": [
       "Text(0,0.5,'Accuracy achieved')"
      ]
     },
     "execution_count": 140,
     "metadata": {},
     "output_type": "execute_result"
    },
    {
     "data": {
      "image/png": "[encoded data removed]",
      "text/plain": [
       "<Figure size 432x288 with 1 Axes>"
      ]
     },
     "metadata": {},
     "output_type": "display_data"
    }
   ],
   "source": [
    "plt.plot(components, scores)\n",
    "plt.xlabel(\"Number of components used\")\n",
    "plt.ylabel(\"Accuracy achieved\")"
   ]
  },
  {
   "cell_type": "code",
   "execution_count": 141,
   "metadata": {},
   "outputs": [
    {
     "name": "stdout",
     "output_type": "stream",
     "text": [
      "Maximum achieved score: 0.9716193656093489\n",
      "Minimum achieved score: 0.8731218697829716\n"
     ]
    }
   ],
   "source": [
    "print(\"Maximum achieved score:\",np.max(scores))\n",
    "print(\"Minimum achieved score:\",np.min(scores))"
   ]
  },
  {
   "cell_type": "markdown",
   "metadata": {},
   "source": [
    "### Conclusiones"
   ]
  },
  {
   "cell_type": "markdown",
   "metadata": {},
   "source": [
    "Parece que el modelo aprende y generaliza bastante bien. Se observa claramente como incrementear la cantidad de features extraídos incrementa el accuracy obtenido. Con más de 4000 features la cosa empieza a oscilar bastante"
   ]
  },
  {
   "cell_type": "code",
   "execution_count": null,
   "metadata": {},
   "outputs": [],
   "source": []
  }
 ],
 "metadata": {
  "kernelspec": {
   "display_name": "Python 3",
   "language": "python",
   "name": "python3"
  },
  "language_info": {
   "codemirror_mode": {
    "name": "ipython",
    "version": 3
   },
   "file_extension": ".py",
   "mimetype": "text/x-python",
   "name": "python",
   "nbconvert_exporter": "python",
   "pygments_lexer": "ipython3",
   "version": "3.6.5"
  }
 },
 "nbformat": 4,
 "nbformat_minor": 2
}
