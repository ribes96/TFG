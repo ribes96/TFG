{
 "cells": [
  {
   "cell_type": "markdown",
   "metadata": {},
   "source": [
    "Muestra para cada dataset todo lo que se puede hacer con el none_box"
   ]
  },
  {
   "cell_type": "code",
   "execution_count": 1,
   "metadata": {},
   "outputs": [],
   "source": [
    "from demo_utils.demo10 import Demo10\n",
    "from demo_utils.general import SUPPORTED_DATASETS\n",
    "from IPython.display import Markdown as md\n",
    "from demo_utils.get_hyper_params import get_hyper_params"
   ]
  },
  {
   "cell_type": "code",
   "execution_count": 2,
   "metadata": {},
   "outputs": [
    {
     "data": {
      "application/javascript": [
       "IPython.OutputArea.prototype._should_scroll = function(lines) {\n",
       "    return false;\n",
       "}\n"
      ],
      "text/plain": [
       "<IPython.core.display.Javascript object>"
      ]
     },
     "metadata": {},
     "output_type": "display_data"
    }
   ],
   "source": [
    "%%javascript\n",
    "IPython.OutputArea.prototype._should_scroll = function(lines) {\n",
    "    return false;\n",
    "}"
   ]
  },
  {
   "cell_type": "code",
   "execution_count": 3,
   "metadata": {},
   "outputs": [],
   "source": [
    "import warnings\n",
    "warnings.filterwarnings('ignore')"
   ]
  },
  {
   "cell_type": "code",
   "execution_count": 4,
   "metadata": {},
   "outputs": [],
   "source": [
    "# d10_data = {\n",
    "# #     'dts_name': testing_dataset,\n",
    "#     'dts_size': 1000,\n",
    "#     'features_range': (500, 501),\n",
    "#     'rbfsampler_gamma': 'UNUSED',\n",
    "#     'nystroem_gamma': 'UNUSED',\n",
    "#     'hparams': {'dt': {'max_depth': None,\n",
    "#                        'min_samples_split': 2,\n",
    "#                        'min_samples_leaf': 1,\n",
    "#                        'min_weight_fraction_leaf': 0.0,\n",
    "#                        'max_leaf_nodes': None,\n",
    "#                        'min_impurity_decrease': 0.0},\n",
    "#                 'logit': {'C': 1000.0},\n",
    "#                 'linear_svc': {'C': 5}}\n",
    "# }\n"
   ]
  },
  {
   "cell_type": "code",
   "execution_count": 5,
   "metadata": {},
   "outputs": [],
   "source": [
    "d10_data = {\n",
    "#     'dts_name': testing_dataset,\n",
    "    'dts_size': 2000,\n",
    "    'features_range': (500, 501),\n",
    "}"
   ]
  },
  {
   "cell_type": "code",
   "execution_count": 6,
   "metadata": {},
   "outputs": [],
   "source": [
    "def get_a_model(model_name, sampler_name, dts_name):\n",
    "    box_type = 'black_bag'\n",
    "    n_estim = 50\n",
    "    # más adelante habrá que soportar distintas box\n",
    "\n",
    "    #     {'model_name': model_name,\n",
    "    #      'sampler_name': 'identity',\n",
    "    #      'sampler_gamma': None,\n",
    "    #      'model_params': {},\n",
    "    #      # 'box_type': 'none',\n",
    "    #      'box_type': box_type,\n",
    "    #      'n_estim': None,\n",
    "    #      'pca': False,\n",
    "    #      'pca_first': False}\n",
    "\n",
    "    ret_dic = {'model_name': model_name,\n",
    "#                'sampler_name': 'identity',\n",
    "               'sampler_name': sampler_name,\n",
    "               'sampler_gamma': None,\n",
    "               'model_params': {},\n",
    "               'box_type': box_type,\n",
    "               'n_estim': n_estim,\n",
    "               'pca': False,\n",
    "               'pca_first': False}\n",
    "\n",
    "    hyper_params = get_hyper_params(dts_name=dts_name, box_name=box_type,\n",
    "                                    model_name=model_name, sampler_name=sampler_name)\n",
    "    gamma = hyper_params.pop('gamma', None)\n",
    "#     ret_dic['sampler_gamma'] = gamma\n",
    "    ret_dic['gamma'] = gamma\n",
    "#     ret_dic['model_params'] = hyper_params\n",
    "    ret_dic['base_model_params'] = hyper_params\n",
    "    \n",
    "    if sampler_name == 'rff':\n",
    "        ret_dic['sampler_name'] = 'rbf'\n",
    "#     elif sampler_name == 'nystroem':\n",
    "#         ret_dic['sampler_name'] = 'nystroem'\n",
    "    \n",
    "    \n",
    "    return ret_dic"
   ]
  },
  {
   "cell_type": "code",
   "execution_count": 7,
   "metadata": {},
   "outputs": [],
   "source": [
    "def test_dt(d10_data):\n",
    "    d10 = Demo10()\n",
    "    new_data = dict(d10_data)\n",
    "    dts_name = new_data['dts_name']\n",
    "    model_name = 'dt'\n",
    "    # dt solo, dt con rff y dt con nystroem\n",
    "    \n",
    "    m1 = get_a_model(model_name=model_name, sampler_name='identity', dts_name=dts_name)\n",
    "    m2 = get_a_model(model_name=model_name, sampler_name='rff', dts_name=dts_name)\n",
    "    m3 = get_a_model(model_name=model_name, sampler_name='nystroem', dts_name=dts_name)\n",
    "    \n",
    "    models = [m1, m2, m3,]\n",
    "    \n",
    "    new_data['models'] = models\n",
    "    d10.non_interactive(**new_data)\n",
    "    \n",
    "def test_logit(d10_data):\n",
    "    d10 = Demo10()\n",
    "    new_data = dict(d10_data)\n",
    "    dts_name = new_data['dts_name']\n",
    "    model_name = 'logit'\n",
    "    # logit solo, logit con rff y logit con nystroem\n",
    "    \n",
    "    m1 = get_a_model(model_name=model_name, sampler_name='identity', dts_name=dts_name)\n",
    "    m2 = get_a_model(model_name=model_name, sampler_name='rff', dts_name=dts_name)\n",
    "    m3 = get_a_model(model_name=model_name, sampler_name='nystroem', dts_name=dts_name)\n",
    "    \n",
    "    models = [m1, m2, m3,]\n",
    "    \n",
    "    new_data['models'] = models\n",
    "    d10.non_interactive(**new_data)\n",
    "    \n",
    "def test_linear_svc(d10_data):\n",
    "    d10 = Demo10()\n",
    "    new_data = dict(d10_data)\n",
    "    dts_name = new_data['dts_name']\n",
    "    model_name = 'linear_svc'\n",
    "    # linear_svc solo, linear_svc con rff y linear_svc con nystroem\n",
    "    \n",
    "    m1 = get_a_model(model_name=model_name, sampler_name='identity', dts_name=dts_name)\n",
    "    m2 = get_a_model(model_name=model_name, sampler_name='rff', dts_name=dts_name)\n",
    "    m3 = get_a_model(model_name=model_name, sampler_name='nystroem', dts_name=dts_name)\n",
    "    \n",
    "    models = [m1, m2, m3,]\n",
    "    \n",
    "    new_data['models'] = models\n",
    "    d10.non_interactive(**new_data)"
   ]
  },
  {
   "cell_type": "code",
   "execution_count": 8,
   "metadata": {
    "code_folding": []
   },
   "outputs": [],
   "source": [
    "def test_dataset(d10_data, dts_name):\n",
    "    new_data = dict(d10_data)\n",
    "    new_data['dts_name'] = dts_name\n",
    "    display(md(f'# {dts_name}'))\n",
    "    test_dt(new_data)\n",
    "    test_logit(new_data)\n",
    "    test_linear_svc(new_data)"
   ]
  },
  {
   "cell_type": "code",
   "execution_count": null,
   "metadata": {},
   "outputs": [],
   "source": [
    "def test_everything():\n",
    "    for dts_name in SUPPORTED_DATASETS:\n",
    "#     for dts_name in ['mnist', 'segment']:\n",
    "        test_dataset(d10_data, dts_name=dts_name)"
   ]
  },
  {
   "cell_type": "code",
   "execution_count": null,
   "metadata": {
    "scrolled": true
   },
   "outputs": [
    {
     "data": {
      "text/markdown": [
       "# segment"
      ],
      "text/plain": [
       "<IPython.core.display.Markdown object>"
      ]
     },
     "metadata": {},
     "output_type": "display_data"
    },
    {
     "data": {
      "text/markdown": [
       "### Demo genérica v10"
      ],
      "text/plain": [
       "<IPython.core.display.Markdown object>"
      ]
     },
     "metadata": {},
     "output_type": "display_data"
    },
    {
     "data": {
      "application/vnd.jupyter.widget-view+json": {
       "model_id": "4b22c96e2bc64e199553de371cae8f7f",
       "version_major": 2,
       "version_minor": 0
      },
      "text/plain": [
       "Accordion(children=(HBox(children=(VBox(children=(HTML(value='<strong>Dataset</strong>: segment'),), layout=La…"
      ]
     },
     "metadata": {},
     "output_type": "display_data"
    },
    {
     "data": {
      "image/png": "[encoded data removed]",
      "text/plain": [
       "<Figure size 921.6x345.6 with 2 Axes>"
      ]
     },
     "metadata": {},
     "output_type": "display_data"
    },
    {
     "data": {
      "text/markdown": [
       "### Demo genérica v10"
      ],
      "text/plain": [
       "<IPython.core.display.Markdown object>"
      ]
     },
     "metadata": {},
     "output_type": "display_data"
    },
    {
     "data": {
      "application/vnd.jupyter.widget-view+json": {
       "model_id": "3798e846223d43288eecaf26deedc45a",
       "version_major": 2,
       "version_minor": 0
      },
      "text/plain": [
       "Accordion(children=(HBox(children=(VBox(children=(HTML(value='<strong>Dataset</strong>: segment'),), layout=La…"
      ]
     },
     "metadata": {},
     "output_type": "display_data"
    },
    {
     "data": {
      "image/png": "[encoded data removed]",
      "text/plain": [
       "<Figure size 921.6x345.6 with 2 Axes>"
      ]
     },
     "metadata": {},
     "output_type": "display_data"
    },
    {
     "data": {
      "text/markdown": [
       "### Demo genérica v10"
      ],
      "text/plain": [
       "<IPython.core.display.Markdown object>"
      ]
     },
     "metadata": {},
     "output_type": "display_data"
    },
    {
     "data": {
      "application/vnd.jupyter.widget-view+json": {
       "model_id": "1967b817e5314f42902153351b7ecae1",
       "version_major": 2,
       "version_minor": 0
      },
      "text/plain": [
       "Accordion(children=(HBox(children=(VBox(children=(HTML(value='<strong>Dataset</strong>: segment'),), layout=La…"
      ]
     },
     "metadata": {},
     "output_type": "display_data"
    },
    {
     "data": {
      "image/png": "[encoded data removed]",
      "text/plain": [
       "<Figure size 921.6x345.6 with 2 Axes>"
      ]
     },
     "metadata": {},
     "output_type": "display_data"
    },
    {
     "data": {
      "text/markdown": [
       "# covertype"
      ],
      "text/plain": [
       "<IPython.core.display.Markdown object>"
      ]
     },
     "metadata": {},
     "output_type": "display_data"
    },
    {
     "data": {
      "text/markdown": [
       "### Demo genérica v10"
      ],
      "text/plain": [
       "<IPython.core.display.Markdown object>"
      ]
     },
     "metadata": {},
     "output_type": "display_data"
    },
    {
     "data": {
      "application/vnd.jupyter.widget-view+json": {
       "model_id": "61affa4bbefb46e395afa2485661a03e",
       "version_major": 2,
       "version_minor": 0
      },
      "text/plain": [
       "Accordion(children=(HBox(children=(VBox(children=(HTML(value='<strong>Dataset</strong>: covertype'),), layout=…"
      ]
     },
     "metadata": {},
     "output_type": "display_data"
    },
    {
     "data": {
      "image/png": "[encoded data removed]",
      "text/plain": [
       "<Figure size 921.6x345.6 with 2 Axes>"
      ]
     },
     "metadata": {},
     "output_type": "display_data"
    },
    {
     "data": {
      "text/markdown": [
       "### Demo genérica v10"
      ],
      "text/plain": [
       "<IPython.core.display.Markdown object>"
      ]
     },
     "metadata": {},
     "output_type": "display_data"
    },
    {
     "data": {
      "application/vnd.jupyter.widget-view+json": {
       "model_id": "2d29cbfe0865448796704eb9951c1e39",
       "version_major": 2,
       "version_minor": 0
      },
      "text/plain": [
       "Accordion(children=(HBox(children=(VBox(children=(HTML(value='<strong>Dataset</strong>: covertype'),), layout=…"
      ]
     },
     "metadata": {},
     "output_type": "display_data"
    },
    {
     "data": {
      "image/png": "[encoded data removed]",
      "text/plain": [
       "<Figure size 921.6x345.6 with 2 Axes>"
      ]
     },
     "metadata": {},
     "output_type": "display_data"
    },
    {
     "data": {
      "text/markdown": [
       "### Demo genérica v10"
      ],
      "text/plain": [
       "<IPython.core.display.Markdown object>"
      ]
     },
     "metadata": {},
     "output_type": "display_data"
    },
    {
     "data": {
      "application/vnd.jupyter.widget-view+json": {
       "model_id": "b54771e1bad44bb8ba6a4c37071353f6",
       "version_major": 2,
       "version_minor": 0
      },
      "text/plain": [
       "Accordion(children=(HBox(children=(VBox(children=(HTML(value='<strong>Dataset</strong>: covertype'),), layout=…"
      ]
     },
     "metadata": {},
     "output_type": "display_data"
    },
    {
     "data": {
      "image/png": "[encoded data removed]",
      "text/plain": [
       "<Figure size 921.6x345.6 with 2 Axes>"
      ]
     },
     "metadata": {},
     "output_type": "display_data"
    },
    {
     "data": {
      "text/markdown": [
       "# digits"
      ],
      "text/plain": [
       "<IPython.core.display.Markdown object>"
      ]
     },
     "metadata": {},
     "output_type": "display_data"
    },
    {
     "data": {
      "text/markdown": [
       "### Demo genérica v10"
      ],
      "text/plain": [
       "<IPython.core.display.Markdown object>"
      ]
     },
     "metadata": {},
     "output_type": "display_data"
    }
   ],
   "source": [
    "test_everything()"
   ]
  },
  {
   "cell_type": "code",
   "execution_count": 9,
   "metadata": {},
   "outputs": [],
   "source": [
    "def test_everything():\n",
    "    for dts_name in SUPPORTED_DATASETS[2:]:\n",
    "        test_dataset(d10_data, dts_name=dts_name)"
   ]
  },
  {
   "cell_type": "code",
   "execution_count": null,
   "metadata": {
    "scrolled": false
   },
   "outputs": [
    {
     "data": {
      "text/markdown": [
       "# digits"
      ],
      "text/plain": [
       "<IPython.core.display.Markdown object>"
      ]
     },
     "metadata": {},
     "output_type": "display_data"
    },
    {
     "data": {
      "text/markdown": [
       "### Demo genérica v10"
      ],
      "text/plain": [
       "<IPython.core.display.Markdown object>"
      ]
     },
     "metadata": {},
     "output_type": "display_data"
    },
    {
     "data": {
      "application/vnd.jupyter.widget-view+json": {
       "model_id": "7a969b489a8345de98403b2cac2a1e2a",
       "version_major": 2,
       "version_minor": 0
      },
      "text/plain": [
       "Accordion(children=(HBox(children=(VBox(children=(HTML(value='<strong>Dataset</strong>: digits'),), layout=Lay…"
      ]
     },
     "metadata": {},
     "output_type": "display_data"
    },
    {
     "data": {
      "image/png": "[encoded data removed]",
      "text/plain": [
       "<Figure size 921.6x345.6 with 2 Axes>"
      ]
     },
     "metadata": {},
     "output_type": "display_data"
    },
    {
     "data": {
      "text/markdown": [
       "### Demo genérica v10"
      ],
      "text/plain": [
       "<IPython.core.display.Markdown object>"
      ]
     },
     "metadata": {},
     "output_type": "display_data"
    },
    {
     "data": {
      "application/vnd.jupyter.widget-view+json": {
       "model_id": "a8588860cd7e462cbee324f447474e7c",
       "version_major": 2,
       "version_minor": 0
      },
      "text/plain": [
       "Accordion(children=(HBox(children=(VBox(children=(HTML(value='<strong>Dataset</strong>: digits'),), layout=Lay…"
      ]
     },
     "metadata": {},
     "output_type": "display_data"
    },
    {
     "data": {
      "image/png": "[encoded data removed]",
      "text/plain": [
       "<Figure size 921.6x345.6 with 2 Axes>"
      ]
     },
     "metadata": {},
     "output_type": "display_data"
    },
    {
     "data": {
      "text/markdown": [
       "### Demo genérica v10"
      ],
      "text/plain": [
       "<IPython.core.display.Markdown object>"
      ]
     },
     "metadata": {},
     "output_type": "display_data"
    },
    {
     "data": {
      "application/vnd.jupyter.widget-view+json": {
       "model_id": "8e0f0ef3b40341d0ab1c5adc45b7c26a",
       "version_major": 2,
       "version_minor": 0
      },
      "text/plain": [
       "Accordion(children=(HBox(children=(VBox(children=(HTML(value='<strong>Dataset</strong>: digits'),), layout=Lay…"
      ]
     },
     "metadata": {},
     "output_type": "display_data"
    },
    {
     "data": {
      "image/png": "[encoded data removed]",
      "text/plain": [
       "<Figure size 921.6x345.6 with 2 Axes>"
      ]
     },
     "metadata": {},
     "output_type": "display_data"
    },
    {
     "data": {
      "text/markdown": [
       "# fall_detection"
      ],
      "text/plain": [
       "<IPython.core.display.Markdown object>"
      ]
     },
     "metadata": {},
     "output_type": "display_data"
    },
    {
     "data": {
      "text/markdown": [
       "### Demo genérica v10"
      ],
      "text/plain": [
       "<IPython.core.display.Markdown object>"
      ]
     },
     "metadata": {},
     "output_type": "display_data"
    },
    {
     "data": {
      "application/vnd.jupyter.widget-view+json": {
       "model_id": "a87a3c78994043e68b780d336402e67a",
       "version_major": 2,
       "version_minor": 0
      },
      "text/plain": [
       "Accordion(children=(HBox(children=(VBox(children=(HTML(value='<strong>Dataset</strong>: fall_detection'),), la…"
      ]
     },
     "metadata": {},
     "output_type": "display_data"
    },
    {
     "data": {
      "image/png": "[encoded data removed]",
      "text/plain": [
       "<Figure size 921.6x345.6 with 2 Axes>"
      ]
     },
     "metadata": {},
     "output_type": "display_data"
    },
    {
     "data": {
      "text/markdown": [
       "### Demo genérica v10"
      ],
      "text/plain": [
       "<IPython.core.display.Markdown object>"
      ]
     },
     "metadata": {},
     "output_type": "display_data"
    },
    {
     "data": {
      "application/vnd.jupyter.widget-view+json": {
       "model_id": "146d3416fb28418bb1c134204cbfd507",
       "version_major": 2,
       "version_minor": 0
      },
      "text/plain": [
       "Accordion(children=(HBox(children=(VBox(children=(HTML(value='<strong>Dataset</strong>: fall_detection'),), la…"
      ]
     },
     "metadata": {},
     "output_type": "display_data"
    },
    {
     "data": {
      "image/png": "[encoded data removed]",
      "text/plain": [
       "<Figure size 921.6x345.6 with 2 Axes>"
      ]
     },
     "metadata": {},
     "output_type": "display_data"
    },
    {
     "data": {
      "text/markdown": [
       "### Demo genérica v10"
      ],
      "text/plain": [
       "<IPython.core.display.Markdown object>"
      ]
     },
     "metadata": {},
     "output_type": "display_data"
    },
    {
     "data": {
      "application/vnd.jupyter.widget-view+json": {
       "model_id": "2bc8e3659c744bc6b457bf346e89d7e5",
       "version_major": 2,
       "version_minor": 0
      },
      "text/plain": [
       "Accordion(children=(HBox(children=(VBox(children=(HTML(value='<strong>Dataset</strong>: fall_detection'),), la…"
      ]
     },
     "metadata": {},
     "output_type": "display_data"
    },
    {
     "data": {
      "image/png": "[encoded data removed]",
      "text/plain": [
       "<Figure size 921.6x345.6 with 2 Axes>"
      ]
     },
     "metadata": {},
     "output_type": "display_data"
    },
    {
     "data": {
      "text/markdown": [
       "# mnist"
      ],
      "text/plain": [
       "<IPython.core.display.Markdown object>"
      ]
     },
     "metadata": {},
     "output_type": "display_data"
    },
    {
     "data": {
      "text/markdown": [
       "### Demo genérica v10"
      ],
      "text/plain": [
       "<IPython.core.display.Markdown object>"
      ]
     },
     "metadata": {},
     "output_type": "display_data"
    },
    {
     "data": {
      "application/vnd.jupyter.widget-view+json": {
       "model_id": "b926473c59a8425cb7ae34ede3de692c",
       "version_major": 2,
       "version_minor": 0
      },
      "text/plain": [
       "Accordion(children=(HBox(children=(VBox(children=(HTML(value='<strong>Dataset</strong>: mnist'),), layout=Layo…"
      ]
     },
     "metadata": {},
     "output_type": "display_data"
    },
    {
     "data": {
      "image/png": "[encoded data removed]",
      "text/plain": [
       "<Figure size 921.6x345.6 with 2 Axes>"
      ]
     },
     "metadata": {},
     "output_type": "display_data"
    },
    {
     "data": {
      "text/markdown": [
       "### Demo genérica v10"
      ],
      "text/plain": [
       "<IPython.core.display.Markdown object>"
      ]
     },
     "metadata": {},
     "output_type": "display_data"
    },
    {
     "data": {
      "application/vnd.jupyter.widget-view+json": {
       "model_id": "52527b16b9734ff2901b7f3afc2ef2e5",
       "version_major": 2,
       "version_minor": 0
      },
      "text/plain": [
       "Accordion(children=(HBox(children=(VBox(children=(HTML(value='<strong>Dataset</strong>: mnist'),), layout=Layo…"
      ]
     },
     "metadata": {},
     "output_type": "display_data"
    },
    {
     "data": {
      "image/png": "[encoded data removed]",
      "text/plain": [
       "<Figure size 921.6x345.6 with 2 Axes>"
      ]
     },
     "metadata": {},
     "output_type": "display_data"
    },
    {
     "data": {
      "text/markdown": [
       "### Demo genérica v10"
      ],
      "text/plain": [
       "<IPython.core.display.Markdown object>"
      ]
     },
     "metadata": {},
     "output_type": "display_data"
    },
    {
     "data": {
      "application/vnd.jupyter.widget-view+json": {
       "model_id": "8089a3933b53489597af3bc84ad085fa",
       "version_major": 2,
       "version_minor": 0
      },
      "text/plain": [
       "Accordion(children=(HBox(children=(VBox(children=(HTML(value='<strong>Dataset</strong>: mnist'),), layout=Layo…"
      ]
     },
     "metadata": {},
     "output_type": "display_data"
    },
    {
     "data": {
      "image/png": "[encoded data removed]",
      "text/plain": [
       "<Figure size 921.6x345.6 with 2 Axes>"
      ]
     },
     "metadata": {},
     "output_type": "display_data"
    },
    {
     "data": {
      "text/markdown": [
       "# pen_digits"
      ],
      "text/plain": [
       "<IPython.core.display.Markdown object>"
      ]
     },
     "metadata": {},
     "output_type": "display_data"
    },
    {
     "data": {
      "text/markdown": [
       "### Demo genérica v10"
      ],
      "text/plain": [
       "<IPython.core.display.Markdown object>"
      ]
     },
     "metadata": {},
     "output_type": "display_data"
    },
    {
     "data": {
      "application/vnd.jupyter.widget-view+json": {
       "model_id": "eb10857d4b2c45e19e4d4f7f6f8c7a8e",
       "version_major": 2,
       "version_minor": 0
      },
      "text/plain": [
       "Accordion(children=(HBox(children=(VBox(children=(HTML(value='<strong>Dataset</strong>: pen_digits'),), layout…"
      ]
     },
     "metadata": {},
     "output_type": "display_data"
    },
    {
     "data": {
      "image/png": "[encoded data removed]",
      "text/plain": [
       "<Figure size 921.6x345.6 with 2 Axes>"
      ]
     },
     "metadata": {},
     "output_type": "display_data"
    },
    {
     "data": {
      "text/markdown": [
       "### Demo genérica v10"
      ],
      "text/plain": [
       "<IPython.core.display.Markdown object>"
      ]
     },
     "metadata": {},
     "output_type": "display_data"
    }
   ],
   "source": [
    "test_everything()"
   ]
  },
  {
   "cell_type": "code",
   "execution_count": null,
   "metadata": {},
   "outputs": [],
   "source": []
  }
 ],
 "metadata": {
  "hide_input": false,
  "kernelspec": {
   "display_name": "Python 3",
   "language": "python",
   "name": "python3"
  },
  "language_info": {
   "codemirror_mode": {
    "name": "ipython",
    "version": 3
   },
   "file_extension": ".py",
   "mimetype": "text/x-python",
   "name": "python",
   "nbconvert_exporter": "python",
   "pygments_lexer": "ipython3",
   "version": "3.6.7"
  },
  "varInspector": {
   "cols": {
    "lenName": 16,
    "lenType": 16,
    "lenVar": 40
   },
   "kernels_config": {
    "python": {
     "delete_cmd_postfix": "",
     "delete_cmd_prefix": "del ",
     "library": "var_list.py",
     "varRefreshCmd": "print(var_dic_list())"
    },
    "r": {
     "delete_cmd_postfix": ") ",
     "delete_cmd_prefix": "rm(",
     "library": "var_list.r",
     "varRefreshCmd": "cat(var_dic_list()) "
    }
   },
   "types_to_exclude": [
    "module",
    "function",
    "builtin_function_or_method",
    "instance",
    "_Feature"
   ],
   "window_display": true
  },
  "widgets": {
   "application/vnd.jupyter.widget-state+json": {
    "state": {
     "02fe079172fc4f3ab4a2d07037d042bd": {
      "model_module": "@jupyter-widgets/base",
      "model_module_version": "1.1.0",
      "model_name": "LayoutModel",
      "state": {}
     },
     "0352b59afe3f470682664294f638d8a6": {
      "model_module": "@jupyter-widgets/controls",
      "model_module_version": "1.4.0",
      "model_name": "DescriptionStyleModel",
      "state": {
       "description_width": ""
      }
     },
     "0397da94c2dd463e95b312ed84a57b26": {
      "model_module": "@jupyter-widgets/controls",
      "model_module_version": "1.4.0",
      "model_name": "VBoxModel",
      "state": {
       "children": [
        "IPY_MODEL_d5104750b13842cc9ab86e2b816c3a3e"
       ],
       "layout": "IPY_MODEL_181bbeb3f8fe4a129026577917c0bae3"
      }
     },
     "03a73053da444a09901d2ce771fd1e91": {
      "model_module": "@jupyter-widgets/controls",
      "model_module_version": "1.4.0",
      "model_name": "ButtonModel",
      "state": {
       "button_style": "warning",
       "description": "Remove model",
       "layout": "IPY_MODEL_ab99ca838b3b4bf1841950f141b05796",
       "style": "IPY_MODEL_23d689fb23524825b8d71730e9cfa168"
      }
     },
     "03bae14cb6924fdfbe244de0cf956bd4": {
      "model_module": "@jupyter-widgets/controls",
      "model_module_version": "1.4.0",
      "model_name": "HTMLModel",
      "state": {
       "layout": "IPY_MODEL_25a18fb136cd4981b99bad36fcb5b22c",
       "style": "IPY_MODEL_6d703308ff394782b30e4304ce961057",
       "value": "<strong>Size</strong>: 2000"
      }
     },
     "0445aed438eb415c89082bf4b9705e6f": {
      "model_module": "@jupyter-widgets/controls",
      "model_module_version": "1.4.0",
      "model_name": "DropdownModel",
      "state": {
       "_options_labels": [
        "segment",
        "covertype",
        "digits",
        "fall_detection",
        "mnist",
        "pen_digits",
        "satellite",
        "vowel"
       ],
       "description": "Dataset:",
       "index": 0,
       "layout": "IPY_MODEL_bcfb074dcb264a5296143099a43bf325",
       "style": "IPY_MODEL_0bce0e109ff24f198edb0ec01937e473"
      }
     },
     "044ff90696604a9eaffb65c6ab3ca0f4": {
      "model_module": "@jupyter-widgets/base",
      "model_module_version": "1.1.0",
      "model_name": "LayoutModel",
      "state": {}
     },
     "057d2828892a4f6882096d559d878aad": {
      "model_module": "@jupyter-widgets/controls",
      "model_module_version": "1.4.0",
      "model_name": "DropdownModel",
      "state": {
       "_options_labels": [
        "black_bag",
        "grey_bag",
        "black_ens",
        "grey_ens",
        "None"
       ],
       "description": "Box Type",
       "index": 4,
       "layout": "IPY_MODEL_5b01ab53a02f45d2975169afb7531804",
       "style": "IPY_MODEL_c624b209310a407585c719a6ffc05698"
      }
     },
     "06904e07cd784dfcb45f9d9bb2196979": {
      "model_module": "@jupyter-widgets/controls",
      "model_module_version": "1.4.0",
      "model_name": "SliderStyleModel",
      "state": {
       "description_width": ""
      }
     },
     "06b6bf333d394ab1908c490a393ad0e4": {
      "model_module": "@jupyter-widgets/base",
      "model_module_version": "1.1.0",
      "model_name": "LayoutModel",
      "state": {}
     },
     "06c27b39ca4e42689f4321448d3e604f": {
      "model_module": "@jupyter-widgets/controls",
      "model_module_version": "1.4.0",
      "model_name": "ButtonModel",
      "state": {
       "button_style": "warning",
       "description": "Remove model",
       "layout": "IPY_MODEL_be4262cb226f408aa13741a57136e808",
       "style": "IPY_MODEL_c2e7d63eb0ff415498f3533c23f1ef75"
      }
     },
     "07e81e23dbda4a16a6fab4e67eaf48bf": {
      "model_module": "@jupyter-widgets/controls",
      "model_module_version": "1.4.0",
      "model_name": "ButtonStyleModel",
      "state": {}
     },
     "085d45445b9e49f5be2023a9e5ee7585": {
      "model_module": "@jupyter-widgets/controls",
      "model_module_version": "1.4.0",
      "model_name": "SliderStyleModel",
      "state": {
       "description_width": ""
      }
     },
     "08fe5efb29934bcb958081982bc7480c": {
      "model_module": "@jupyter-widgets/controls",
      "model_module_version": "1.4.0",
      "model_name": "IntSliderModel",
      "state": {
       "description": "C",
       "layout": "IPY_MODEL_b1f080ccef134164889e8b5c5742613d",
       "max": 10,
       "min": 1,
       "style": "IPY_MODEL_cc8c3f517c644281a87f4c2969e72db9",
       "value": 5
      }
     },
     "0adea043e1c9466aac2eeca51dc6dc32": {
      "model_module": "@jupyter-widgets/base",
      "model_module_version": "1.1.0",
      "model_name": "LayoutModel",
      "state": {}
     },
     "0b1a269521cc4b97a5034211d8f8bd9c": {
      "model_module": "@jupyter-widgets/controls",
      "model_module_version": "1.4.0",
      "model_name": "DescriptionStyleModel",
      "state": {
       "description_width": ""
      }
     },
     "0bb5a3dcba3f4400bce478c187e42aa3": {
      "model_module": "@jupyter-widgets/base",
      "model_module_version": "1.1.0",
      "model_name": "LayoutModel",
      "state": {}
     },
     "0bce0e109ff24f198edb0ec01937e473": {
      "model_module": "@jupyter-widgets/controls",
      "model_module_version": "1.4.0",
      "model_name": "DescriptionStyleModel",
      "state": {
       "description_width": ""
      }
     },
     "0ca0f97119414ef58d62c313a679620a": {
      "model_module": "@jupyter-widgets/controls",
      "model_module_version": "1.4.0",
      "model_name": "ButtonModel",
      "state": {
       "button_style": "info",
       "description": "Demo10",
       "layout": "IPY_MODEL_a5dd429cd5b644d6bb74360397567041",
       "style": "IPY_MODEL_50c664732c6b4d49952b1d300b3753c9"
      }
     },
     "0fa833a159944d94b63587fcf6fa9524": {
      "model_module": "@jupyter-widgets/controls",
      "model_module_version": "1.4.0",
      "model_name": "ButtonStyleModel",
      "state": {}
     },
     "0fb6e8cc02684809a653cc5b73cedee8": {
      "model_module": "@jupyter-widgets/controls",
      "model_module_version": "1.4.0",
      "model_name": "SliderStyleModel",
      "state": {
       "description_width": ""
      }
     },
     "113bbaae8df348a88d24bf9c02ec740e": {
      "model_module": "@jupyter-widgets/base",
      "model_module_version": "1.1.0",
      "model_name": "LayoutModel",
      "state": {
       "visibility": "hidden",
       "width": "800px"
      }
     },
     "1142a29f560140c2a676d122238ba331": {
      "model_module": "@jupyter-widgets/controls",
      "model_module_version": "1.4.0",
      "model_name": "SliderStyleModel",
      "state": {
       "description_width": ""
      }
     },
     "136e51f6476e4af48cc0685980a4f720": {
      "model_module": "@jupyter-widgets/base",
      "model_module_version": "1.1.0",
      "model_name": "LayoutModel",
      "state": {
       "visibility": "hidden",
       "width": "800px"
      }
     },
     "138cd63316d042328006e06be95a28a6": {
      "model_module": "@jupyter-widgets/base",
      "model_module_version": "1.1.0",
      "model_name": "LayoutModel",
      "state": {}
     },
     "13e1aef6e79845eaa30d19f2ab343e2a": {
      "model_module": "@jupyter-widgets/base",
      "model_module_version": "1.1.0",
      "model_name": "LayoutModel",
      "state": {}
     },
     "14112b7e2c774ab4b2364c4dd1a29dc5": {
      "model_module": "@jupyter-widgets/base",
      "model_module_version": "1.1.0",
      "model_name": "LayoutModel",
      "state": {}
     },
     "1475c1c3547543c29dee580dddd63554": {
      "model_module": "@jupyter-widgets/controls",
      "model_module_version": "1.4.0",
      "model_name": "HTMLModel",
      "state": {
       "layout": "IPY_MODEL_ac77f1ffc6da46d4acad0628354299e0",
       "style": "IPY_MODEL_e170497e03e640cd86fc1339fe8510e5",
       "value": "<strong>Size</strong>: 2000"
      }
     },
     "14965f7274cb46ecad55505d41c164af": {
      "model_module": "@jupyter-widgets/controls",
      "model_module_version": "1.4.0",
      "model_name": "ButtonStyleModel",
      "state": {}
     },
     "15a267347b6e4d2da91648dd48870a73": {
      "model_module": "@jupyter-widgets/controls",
      "model_module_version": "1.4.0",
      "model_name": "DropdownModel",
      "state": {
       "_options_labels": [
        "None",
        "rbf",
        "nystroem"
       ],
       "description": "Sampler",
       "index": 0,
       "layout": "IPY_MODEL_67929ccd99584f379bf6ab3a0ecf0a9f",
       "style": "IPY_MODEL_e650a06abd064b2da1fd68fec5d12fe9"
      }
     },
     "15adfaa24f384efa8c456f6f233b29d4": {
      "model_module": "@jupyter-widgets/base",
      "model_module_version": "1.1.0",
      "model_name": "LayoutModel",
      "state": {}
     },
     "15bd3d89794d44aba6e4633b865d594b": {
      "model_module": "@jupyter-widgets/controls",
      "model_module_version": "1.4.0",
      "model_name": "VBoxModel",
      "state": {
       "children": [
        "IPY_MODEL_4bcca7ef2d0d4a10bdc4088a5e08576f",
        "IPY_MODEL_1fb1aeff449841718a9385c771308e6a",
        "IPY_MODEL_5345a176d59c4de99ff0c926177f269d",
        "IPY_MODEL_2b42deb825c641aa80fe8944bb409901",
        "IPY_MODEL_e9b940bac0bd4af3b29b52781b936e00",
        "IPY_MODEL_d672d0fc5a8e4d818fd9327282bb1241",
        "IPY_MODEL_0ca0f97119414ef58d62c313a679620a"
       ],
       "layout": "IPY_MODEL_d5496a2aae274c0d8bba93412d501f36"
      }
     },
     "1776dedc34074f4da42fcf8584af20ec": {
      "model_module": "@jupyter-widgets/controls",
      "model_module_version": "1.4.0",
      "model_name": "SliderStyleModel",
      "state": {
       "description_width": ""
      }
     },
     "17e967467f194d739a1162db297f4c59": {
      "model_module": "@jupyter-widgets/controls",
      "model_module_version": "1.4.0",
      "model_name": "VBoxModel",
      "state": {
       "children": [
        "IPY_MODEL_617e3afaee804057b75a2f5ba2b5c0ff"
       ],
       "layout": "IPY_MODEL_fc24158fe09b48efa5def7f675fc23fe"
      }
     },
     "181bbeb3f8fe4a129026577917c0bae3": {
      "model_module": "@jupyter-widgets/base",
      "model_module_version": "1.1.0",
      "model_name": "LayoutModel",
      "state": {
       "margin": "0px 20px 0px 0px"
      }
     },
     "187e51ba58c24b9eb00761ada280432d": {
      "model_module": "@jupyter-widgets/base",
      "model_module_version": "1.1.0",
      "model_name": "LayoutModel",
      "state": {}
     },
     "1882dfee23784c91b7ba8ce7873931ec": {
      "model_module": "@jupyter-widgets/controls",
      "model_module_version": "1.4.0",
      "model_name": "AccordionModel",
      "state": {
       "_titles": {
        "0": "Info run"
       },
       "children": [
        "IPY_MODEL_6fc46aeb04b14bdd8bef0f39b2a82982"
       ],
       "layout": "IPY_MODEL_d1bb3ab5d9d34dec9a5c6931628a540f"
      }
     },
     "1967b817e5314f42902153351b7ecae1": {
      "model_module": "@jupyter-widgets/controls",
      "model_module_version": "1.4.0",
      "model_name": "AccordionModel",
      "state": {
       "_titles": {
        "0": "Info run"
       },
       "children": [
        "IPY_MODEL_8430db274dec41ada067a25c27ed9a9b"
       ],
       "layout": "IPY_MODEL_85a7d4bc9b2747debc4904e39a3f95c8"
      }
     },
     "1a812a9360184b5da2a32b8c54f5826c": {
      "model_module": "@jupyter-widgets/controls",
      "model_module_version": "1.4.0",
      "model_name": "DropdownModel",
      "state": {
       "_options_labels": [
        "segment",
        "covertype",
        "digits",
        "fall_detection",
        "mnist",
        "pen_digits",
        "satellite",
        "vowel"
       ],
       "description": "Dataset:",
       "index": 0,
       "layout": "IPY_MODEL_e061d62fbb80475c93f087228652e371",
       "style": "IPY_MODEL_7d80f40f07054c65ade16bd5494cb5d9"
      }
     },
     "1a9f437e654b4ec9b5c8647fc5547605": {
      "model_module": "@jupyter-widgets/base",
      "model_module_version": "1.1.0",
      "model_name": "LayoutModel",
      "state": {
       "visibility": "hidden",
       "width": "800px"
      }
     },
     "1c702dc7e38f4d19bf75efd711ca2d59": {
      "model_module": "@jupyter-widgets/base",
      "model_module_version": "1.1.0",
      "model_name": "LayoutModel",
      "state": {}
     },
     "1dcca75125324d52a92df6afdf67ecd3": {
      "model_module": "@jupyter-widgets/controls",
      "model_module_version": "1.4.0",
      "model_name": "DescriptionStyleModel",
      "state": {
       "description_width": ""
      }
     },
     "1e042b1fe042496fae9cf6bcfa70bb57": {
      "model_module": "@jupyter-widgets/base",
      "model_module_version": "1.1.0",
      "model_name": "LayoutModel",
      "state": {
       "display": "none",
       "visibility": "hidden",
       "width": "800px"
      }
     },
     "1e6f198bb649434caa04461016b7e140": {
      "model_module": "@jupyter-widgets/base",
      "model_module_version": "1.1.0",
      "model_name": "LayoutModel",
      "state": {
       "visibility": "hidden",
       "width": "800px"
      }
     },
     "1fb1aeff449841718a9385c771308e6a": {
      "model_module": "@jupyter-widgets/controls",
      "model_module_version": "1.4.0",
      "model_name": "RadioButtonsModel",
      "state": {
       "_options_labels": [
        "1000",
        "2000",
        "5000",
        "10000"
       ],
       "description": "Size",
       "index": 0,
       "layout": "IPY_MODEL_0adea043e1c9466aac2eeca51dc6dc32",
       "style": "IPY_MODEL_a88399e3ec17468397044aa95ca26a48"
      }
     },
     "1fb6d32bb74545ac961fee67d2d3f8a2": {
      "model_module": "@jupyter-widgets/controls",
      "model_module_version": "1.4.0",
      "model_name": "DescriptionStyleModel",
      "state": {
       "description_width": ""
      }
     },
     "204ce503d6424971a13514f16f0f462e": {
      "model_module": "@jupyter-widgets/base",
      "model_module_version": "1.1.0",
      "model_name": "LayoutModel",
      "state": {}
     },
     "2058cbf47f01465bbb8ea734002d6e2f": {
      "model_module": "@jupyter-widgets/controls",
      "model_module_version": "1.4.0",
      "model_name": "FloatLogSliderModel",
      "state": {
       "description": "C",
       "layout": "IPY_MODEL_22f7a68cdc9643ac862751228f97a8bf",
       "max": 5,
       "min": -5,
       "step": 1,
       "style": "IPY_MODEL_c3438b6e76e64d15b93ae89eede1edeb",
       "value": 1000
      }
     },
     "2075066ae96744faa264d252622b1561": {
      "model_module": "@jupyter-widgets/controls",
      "model_module_version": "1.4.0",
      "model_name": "FloatSliderModel",
      "state": {
       "description": "min_impurity_decrease:",
       "layout": "IPY_MODEL_e80a680066604ff8aa1b255224a3bcdf",
       "max": 1,
       "step": 0.1,
       "style": "IPY_MODEL_7f6646e82a2c4a6296786587d1e7c37c"
      }
     },
     "21a4887811ad42a4b6f534f24bb985d2": {
      "model_module": "@jupyter-widgets/base",
      "model_module_version": "1.1.0",
      "model_name": "LayoutModel",
      "state": {}
     },
     "22f7a68cdc9643ac862751228f97a8bf": {
      "model_module": "@jupyter-widgets/base",
      "model_module_version": "1.1.0",
      "model_name": "LayoutModel",
      "state": {
       "display": "none",
       "visibility": "hidden",
       "width": "800px"
      }
     },
     "2305100d16c74e0bad7c29e8819d7c17": {
      "model_module": "@jupyter-widgets/controls",
      "model_module_version": "1.4.0",
      "model_name": "DropdownModel",
      "state": {
       "_options_labels": [
        "None",
        "rbf",
        "nystroem"
       ],
       "description": "Sampler",
       "index": 0,
       "layout": "IPY_MODEL_21a4887811ad42a4b6f534f24bb985d2",
       "style": "IPY_MODEL_1dcca75125324d52a92df6afdf67ecd3"
      }
     },
     "23d689fb23524825b8d71730e9cfa168": {
      "model_module": "@jupyter-widgets/controls",
      "model_module_version": "1.4.0",
      "model_name": "ButtonStyleModel",
      "state": {}
     },
     "24682258283645b6af530e88650ab98d": {
      "model_module": "@jupyter-widgets/controls",
      "model_module_version": "1.4.0",
      "model_name": "DescriptionStyleModel",
      "state": {
       "description_width": ""
      }
     },
     "255e73c72a8140eab27f1bd530c9bcbf": {
      "model_module": "@jupyter-widgets/base",
      "model_module_version": "1.1.0",
      "model_name": "LayoutModel",
      "state": {}
     },
     "25a18fb136cd4981b99bad36fcb5b22c": {
      "model_module": "@jupyter-widgets/base",
      "model_module_version": "1.1.0",
      "model_name": "LayoutModel",
      "state": {}
     },
     "26a1958ed15a4f1c8cc747e790de56e2": {
      "model_module": "@jupyter-widgets/controls",
      "model_module_version": "1.4.0",
      "model_name": "SliderStyleModel",
      "state": {
       "description_width": "initial"
      }
     },
     "26d513634ed147c89eb91bb6263acf2c": {
      "model_module": "@jupyter-widgets/base",
      "model_module_version": "1.1.0",
      "model_name": "LayoutModel",
      "state": {}
     },
     "26de927828a547cd9dbf9ed72eae7c7d": {
      "model_module": "@jupyter-widgets/controls",
      "model_module_version": "1.4.0",
      "model_name": "DescriptionStyleModel",
      "state": {
       "description_width": ""
      }
     },
     "274a001fcafd4ffd8084ec1fd3dfa625": {
      "model_module": "@jupyter-widgets/output",
      "model_module_version": "1.0.0",
      "model_name": "OutputModel",
      "state": {
       "layout": "IPY_MODEL_de284466bc414d24ad90bb9ebc8b56b3"
      }
     },
     "27bcf98bd6c54de2bca250f9af87b2f5": {
      "model_module": "@jupyter-widgets/base",
      "model_module_version": "1.1.0",
      "model_name": "LayoutModel",
      "state": {}
     },
     "27e2ea84ab2f4346bd35a150cfc8d6ac": {
      "model_module": "@jupyter-widgets/controls",
      "model_module_version": "1.4.0",
      "model_name": "IntRangeSliderModel",
      "state": {
       "_model_name": "IntRangeSliderModel",
       "_view_name": "IntRangeSliderView",
       "layout": "IPY_MODEL_49468455b27b4d119641fb870dfac0e1",
       "max": 1000,
       "min": 30,
       "step": 10,
       "style": "IPY_MODEL_d74dc80828a245a9b0b2c1ad06f7f499",
       "value": [
        30,
        100
       ]
      }
     },
     "2919e05a15ef4b66b812209754fdf241": {
      "model_module": "@jupyter-widgets/controls",
      "model_module_version": "1.4.0",
      "model_name": "DescriptionStyleModel",
      "state": {
       "description_width": ""
      }
     },
     "293be5ece35d44ddba65eae03c3eace3": {
      "model_module": "@jupyter-widgets/base",
      "model_module_version": "1.1.0",
      "model_name": "LayoutModel",
      "state": {}
     },
     "29b55051d7ac4de2bed01992dfaf1a02": {
      "model_module": "@jupyter-widgets/controls",
      "model_module_version": "1.4.0",
      "model_name": "VBoxModel",
      "state": {
       "children": [
        "IPY_MODEL_ff553e73faf74d7db9f7291db592489b"
       ],
       "layout": "IPY_MODEL_e58149f361184c788b88a15834b15253"
      }
     },
     "2b42deb825c641aa80fe8944bb409901": {
      "model_module": "@jupyter-widgets/controls",
      "model_module_version": "1.4.0",
      "model_name": "ButtonModel",
      "state": {
       "button_style": "warning",
       "description": "Remove model",
       "layout": "IPY_MODEL_044ff90696604a9eaffb65c6ab3ca0f4",
       "style": "IPY_MODEL_5f22797bbedb4a0f9626fc2122b63ced"
      }
     },
     "2bda1ff047074f81b8852e7fb8cbfdae": {
      "model_module": "@jupyter-widgets/base",
      "model_module_version": "1.1.0",
      "model_name": "LayoutModel",
      "state": {}
     },
     "2c7eaa138ba24f488b4018a368912fe5": {
      "model_module": "@jupyter-widgets/controls",
      "model_module_version": "1.4.0",
      "model_name": "SliderStyleModel",
      "state": {
       "description_width": ""
      }
     },
     "2c8a5924e4c84669a46789d74ba6270d": {
      "model_module": "@jupyter-widgets/controls",
      "model_module_version": "1.4.0",
      "model_name": "SliderStyleModel",
      "state": {
       "description_width": ""
      }
     },
     "2d11e825a84e427b9cf6e4aaa8d0f559": {
      "model_module": "@jupyter-widgets/controls",
      "model_module_version": "1.4.0",
      "model_name": "DescriptionStyleModel",
      "state": {
       "description_width": ""
      }
     },
     "2d29cbfe0865448796704eb9951c1e39": {
      "model_module": "@jupyter-widgets/controls",
      "model_module_version": "1.4.0",
      "model_name": "AccordionModel",
      "state": {
       "_titles": {
        "0": "Info run"
       },
       "children": [
        "IPY_MODEL_97808810750d4115b41e5ae0f9055a75"
       ],
       "layout": "IPY_MODEL_89191bac2eea4faf892ee22a62e67469"
      }
     },
     "2dc6e794b58c4b74b1baf150f759d78f": {
      "model_module": "@jupyter-widgets/base",
      "model_module_version": "1.1.0",
      "model_name": "LayoutModel",
      "state": {
       "display": "flex",
       "visibility": "visible",
       "width": "800px"
      }
     },
     "2dedc21342e94bff8cc1236c9cece1f3": {
      "model_module": "@jupyter-widgets/controls",
      "model_module_version": "1.4.0",
      "model_name": "SliderStyleModel",
      "state": {
       "description_width": ""
      }
     },
     "2f39fb05cb0f4b078e86e8e6c7ee502b": {
      "model_module": "@jupyter-widgets/controls",
      "model_module_version": "1.4.0",
      "model_name": "DropdownModel",
      "state": {
       "_options_labels": [
        "black_bag",
        "grey_bag",
        "black_ens",
        "grey_ens",
        "None"
       ],
       "description": "Box Type",
       "index": 4,
       "layout": "IPY_MODEL_f2dad8c4d0334008ad4b3a5433aa7fdf",
       "style": "IPY_MODEL_59a4bf28546d4095b31694fbabae2aca"
      }
     },
     "2f9bc21aaaea414eac82faab33b5d1fe": {
      "model_module": "@jupyter-widgets/base",
      "model_module_version": "1.1.0",
      "model_name": "LayoutModel",
      "state": {
       "visibility": "hidden",
       "width": "800px"
      }
     },
     "2fbcaecffbdc455585f3d8caf49de194": {
      "model_module": "@jupyter-widgets/controls",
      "model_module_version": "1.4.0",
      "model_name": "DropdownModel",
      "state": {
       "_options_labels": [
        "segment",
        "covertype",
        "digits",
        "fall_detection",
        "mnist",
        "pen_digits",
        "satellite",
        "vowel"
       ],
       "description": "Dataset:",
       "index": 0,
       "layout": "IPY_MODEL_c7014a5a7b1b47b88be0d1b9ed995080",
       "style": "IPY_MODEL_b71b8fd33d5045f686c1849e617e9135"
      }
     },
     "30023e9bb181497b96f6fe804ce61b10": {
      "model_module": "@jupyter-widgets/controls",
      "model_module_version": "1.4.0",
      "model_name": "DescriptionStyleModel",
      "state": {
       "description_width": ""
      }
     },
     "30eebf4aeb4d4bd8959d2cedb9e202e7": {
      "model_module": "@jupyter-widgets/controls",
      "model_module_version": "1.4.0",
      "model_name": "VBoxModel",
      "state": {
       "children": [
        "IPY_MODEL_2fbcaecffbdc455585f3d8caf49de194",
        "IPY_MODEL_53627bd2253c41f1b67b2e66eac87912",
        "IPY_MODEL_c490cfd7f1ab4ea6a30fc489c99cb438",
        "IPY_MODEL_6eac72e443104aeeb240ac4f32dc0b08",
        "IPY_MODEL_ee29dee9d53b4dc0af1d2eb8fab42bd7",
        "IPY_MODEL_46ca904daf3a47fc96ed5c390e23f0c1",
        "IPY_MODEL_3a0963d6c14d4774b5b58569ba07ab73"
       ],
       "layout": "IPY_MODEL_3cfa0f1284dd43b0a0902b821b5bd707"
      }
     },
     "30fb0550d96f4b2b9dac9d3a5a55ebcb": {
      "model_module": "@jupyter-widgets/base",
      "model_module_version": "1.1.0",
      "model_name": "LayoutModel",
      "state": {}
     },
     "30fec70119a24fe1868a90748f8d9746": {
      "model_module": "@jupyter-widgets/base",
      "model_module_version": "1.1.0",
      "model_name": "LayoutModel",
      "state": {}
     },
     "311fab52a00b4f9cb7a832aa3a0cf496": {
      "model_module": "@jupyter-widgets/controls",
      "model_module_version": "1.4.0",
      "model_name": "SliderStyleModel",
      "state": {
       "description_width": ""
      }
     },
     "32bd3132e40f4a2790fac77f76bd7a20": {
      "model_module": "@jupyter-widgets/controls",
      "model_module_version": "1.4.0",
      "model_name": "VBoxModel",
      "state": {
       "children": [
        "IPY_MODEL_d2cb2e4895c64c299dc7bd2ab3aea947",
        "IPY_MODEL_2075066ae96744faa264d252622b1561",
        "IPY_MODEL_e342b5962e0745b6afeb1a6f059582fa",
        "IPY_MODEL_906b30206a6f4451b6355c54d8a520e6",
        "IPY_MODEL_d8fcda5124b94402b197db3342320bc2",
        "IPY_MODEL_5df02b0e96f04adc855913d53d14ba16",
        "IPY_MODEL_2f39fb05cb0f4b078e86e8e6c7ee502b",
        "IPY_MODEL_60a62ca22fbb46b4af7033194576db53"
       ],
       "layout": "IPY_MODEL_f67759eb94e645ed9bdfab48e59b6908"
      }
     },
     "32efde8994a942599ffb34d1a2af471b": {
      "model_module": "@jupyter-widgets/controls",
      "model_module_version": "1.4.0",
      "model_name": "FloatLogSliderModel",
      "state": {
       "description": "Gamma",
       "layout": "IPY_MODEL_2f9bc21aaaea414eac82faab33b5d1fe",
       "max": 2,
       "min": -4,
       "step": 1,
       "style": "IPY_MODEL_f738c2de7fe84e9891b5a0c294927925",
       "value": 0.0001
      }
     },
     "33daec6b1bcb4b069e5936ddc1ab2101": {
      "model_module": "@jupyter-widgets/controls",
      "model_module_version": "1.4.0",
      "model_name": "DescriptionStyleModel",
      "state": {
       "description_width": ""
      }
     },
     "34ac294cc01e4ee5b44cf60ff35067be": {
      "model_module": "@jupyter-widgets/controls",
      "model_module_version": "1.4.0",
      "model_name": "ButtonModel",
      "state": {
       "button_style": "warning",
       "description": "Remove model",
       "layout": "IPY_MODEL_187e51ba58c24b9eb00761ada280432d",
       "style": "IPY_MODEL_eca65479c57044939eecbd7eb9e8ac01"
      }
     },
     "34deb9d8fed44837b0aaa2dab2bebb1d": {
      "model_module": "@jupyter-widgets/base",
      "model_module_version": "1.1.0",
      "model_name": "LayoutModel",
      "state": {}
     },
     "355d33d2a7a047529aa41a926d0a7159": {
      "model_module": "@jupyter-widgets/controls",
      "model_module_version": "1.4.0",
      "model_name": "ButtonModel",
      "state": {
       "button_style": "info",
       "description": "Demo10",
       "layout": "IPY_MODEL_a8a859b46cf24b668f80adb2e1831524",
       "style": "IPY_MODEL_48c553834f1d4bcf9781cb8737b329bd"
      }
     },
     "35807bdb853c457288e9b1a3e6259467": {
      "model_module": "@jupyter-widgets/controls",
      "model_module_version": "1.4.0",
      "model_name": "VBoxModel",
      "state": {
       "children": [
        "IPY_MODEL_ad2ca5c76b944843b9153437428b64b7"
       ],
       "layout": "IPY_MODEL_5d340de4148247cba51633029d038951"
      }
     },
     "359b10868a01429d832d4c779f97f903": {
      "model_module": "@jupyter-widgets/controls",
      "model_module_version": "1.4.0",
      "model_name": "FloatLogSliderModel",
      "state": {
       "description": "Gamma",
       "layout": "IPY_MODEL_b1c65a67fe224a13b51b2c4ffbc03326",
       "max": 2,
       "min": -4,
       "step": 1,
       "style": "IPY_MODEL_06904e07cd784dfcb45f9d9bb2196979",
       "value": 0.0001
      }
     },
     "3744ef528935415bad3f12e4c552b0dd": {
      "model_module": "@jupyter-widgets/controls",
      "model_module_version": "1.4.0",
      "model_name": "IntSliderModel",
      "state": {
       "description": "N. estim.",
       "layout": "IPY_MODEL_7948ed53643e4b87a97ae55b9296926e",
       "max": 200,
       "min": 2,
       "style": "IPY_MODEL_2c8a5924e4c84669a46789d74ba6270d",
       "value": 30
      }
     },
     "3751f1e46a7c48d2a52542c48617ec27": {
      "model_module": "@jupyter-widgets/base",
      "model_module_version": "1.1.0",
      "model_name": "LayoutModel",
      "state": {}
     },
     "3798e846223d43288eecaf26deedc45a": {
      "model_module": "@jupyter-widgets/controls",
      "model_module_version": "1.4.0",
      "model_name": "AccordionModel",
      "state": {
       "_titles": {
        "0": "Info run"
       },
       "children": [
        "IPY_MODEL_7ffe724a979b4406a524873433c442f1"
       ],
       "layout": "IPY_MODEL_06b6bf333d394ab1908c490a393ad0e4"
      }
     },
     "379af5d0cee9463180f160ab630dc70f": {
      "model_module": "@jupyter-widgets/base",
      "model_module_version": "1.1.0",
      "model_name": "LayoutModel",
      "state": {}
     },
     "384b0bd8b9f64cbab5cb1bd78b8b1c97": {
      "model_module": "@jupyter-widgets/base",
      "model_module_version": "1.1.0",
      "model_name": "LayoutModel",
      "state": {}
     },
     "389553671ffb4fc496aab1ef583cda6c": {
      "model_module": "@jupyter-widgets/controls",
      "model_module_version": "1.4.0",
      "model_name": "SliderStyleModel",
      "state": {
       "description_width": ""
      }
     },
     "39ea758241534d72a7893c564fc11ed5": {
      "model_module": "@jupyter-widgets/controls",
      "model_module_version": "1.4.0",
      "model_name": "DescriptionStyleModel",
      "state": {
       "description_width": ""
      }
     },
     "3a0963d6c14d4774b5b58569ba07ab73": {
      "model_module": "@jupyter-widgets/controls",
      "model_module_version": "1.4.0",
      "model_name": "ButtonModel",
      "state": {
       "button_style": "info",
       "description": "Demo10",
       "layout": "IPY_MODEL_30fb0550d96f4b2b9dac9d3a5a55ebcb",
       "style": "IPY_MODEL_c59a5dbc2d834ba6828d168215fec3e7"
      }
     },
     "3b5885b3a2f44135a10443ca685f2cfb": {
      "model_module": "@jupyter-widgets/controls",
      "model_module_version": "1.4.0",
      "model_name": "IntSliderModel",
      "state": {
       "description": "N. estim.",
       "layout": "IPY_MODEL_be0aa42ecfa04e918b7fe96820865fee",
       "max": 200,
       "min": 2,
       "style": "IPY_MODEL_64517b146e1d4402ab20d8c6fd683204",
       "value": 30
      }
     },
     "3c93566ae9af42e19185ad9c5a5727a4": {
      "model_module": "@jupyter-widgets/base",
      "model_module_version": "1.1.0",
      "model_name": "LayoutModel",
      "state": {}
     },
     "3cc4995c79db47c8973d8644c9d81765": {
      "model_module": "@jupyter-widgets/base",
      "model_module_version": "1.1.0",
      "model_name": "LayoutModel",
      "state": {}
     },
     "3cfa0f1284dd43b0a0902b821b5bd707": {
      "model_module": "@jupyter-widgets/base",
      "model_module_version": "1.1.0",
      "model_name": "LayoutModel",
      "state": {}
     },
     "3e28372fa1be4865bccd406c3bbbad93": {
      "model_module": "@jupyter-widgets/base",
      "model_module_version": "1.1.0",
      "model_name": "LayoutModel",
      "state": {
       "display": "flex",
       "visibility": "visible",
       "width": "800px"
      }
     },
     "3fe0f92e10294065a5006edd4bf343a9": {
      "model_module": "@jupyter-widgets/controls",
      "model_module_version": "1.4.0",
      "model_name": "DropdownModel",
      "state": {
       "_options_labels": [
        "None",
        "rbf",
        "nystroem"
       ],
       "description": "Sampler",
       "index": 0,
       "layout": "IPY_MODEL_88fea75a673e440da95aca37f11d9a14",
       "style": "IPY_MODEL_8a0434254ccf412197a4cfcde0032692"
      }
     },
     "414ef60a01e04b30b7439987851da939": {
      "model_module": "@jupyter-widgets/controls",
      "model_module_version": "1.4.0",
      "model_name": "SliderStyleModel",
      "state": {
       "description_width": ""
      }
     },
     "41c7c7ac679945e9b35608da85d3a1e5": {
      "model_module": "@jupyter-widgets/base",
      "model_module_version": "1.1.0",
      "model_name": "LayoutModel",
      "state": {}
     },
     "42357e6768f34661a9d3e86d6cd94d63": {
      "model_module": "@jupyter-widgets/controls",
      "model_module_version": "1.4.0",
      "model_name": "HTMLModel",
      "state": {
       "layout": "IPY_MODEL_cd6ae58a39014f2e821332201615eeab",
       "style": "IPY_MODEL_5e240683f24f4fd4adfc78aaa19e6fad",
       "value": "<strong>Dataset</strong>: covertype"
      }
     },
     "43442e7286c54ea9ac6baae051962f44": {
      "model_module": "@jupyter-widgets/controls",
      "model_module_version": "1.4.0",
      "model_name": "DropdownModel",
      "state": {
       "_options_labels": [
        "dt",
        "logit",
        "linear_svc",
        "rbf_svc"
       ],
       "description": "Model",
       "index": 0,
       "layout": "IPY_MODEL_e98d23439c1b4795b19f327ac8d44465",
       "style": "IPY_MODEL_f87fdbd23a314fd49fba43aac043abc4"
      }
     },
     "44e7dc364b3148b68c8fa7c65d9b657c": {
      "model_module": "@jupyter-widgets/base",
      "model_module_version": "1.1.0",
      "model_name": "LayoutModel",
      "state": {}
     },
     "44ecfa91f258489ebe4f887625666482": {
      "model_module": "@jupyter-widgets/controls",
      "model_module_version": "1.4.0",
      "model_name": "IntSliderModel",
      "state": {
       "description": "C",
       "layout": "IPY_MODEL_a76b197e02c54891b8a51d9c7ff6ad91",
       "max": 10,
       "min": 1,
       "style": "IPY_MODEL_414ef60a01e04b30b7439987851da939",
       "value": 5
      }
     },
     "4502e78cef174b66b991ce32bd703e50": {
      "model_module": "@jupyter-widgets/controls",
      "model_module_version": "1.4.0",
      "model_name": "ButtonModel",
      "state": {
       "button_style": "warning",
       "description": "Remove model",
       "layout": "IPY_MODEL_e393c924d805496ebc9b2a338a1ad198",
       "style": "IPY_MODEL_7325e722d336496599b7761a62815a2e"
      }
     },
     "45942b9dc30345019933799c27d501ce": {
      "model_module": "@jupyter-widgets/base",
      "model_module_version": "1.1.0",
      "model_name": "LayoutModel",
      "state": {
       "display": "none",
       "visibility": "hidden",
       "width": "800px"
      }
     },
     "45d1ce3ffa54488a92caaa7d63845480": {
      "model_module": "@jupyter-widgets/controls",
      "model_module_version": "1.4.0",
      "model_name": "SliderStyleModel",
      "state": {
       "description_width": ""
      }
     },
     "460dc9c8d18a4ca4a1e4c4670cfae9de": {
      "model_module": "@jupyter-widgets/base",
      "model_module_version": "1.1.0",
      "model_name": "LayoutModel",
      "state": {
       "width": "900px"
      }
     },
     "468c731820ad4bd4adc72a0e8a4ff11d": {
      "model_module": "@jupyter-widgets/base",
      "model_module_version": "1.1.0",
      "model_name": "LayoutModel",
      "state": {}
     },
     "46ca904daf3a47fc96ed5c390e23f0c1": {
      "model_module": "@jupyter-widgets/controls",
      "model_module_version": "1.4.0",
      "model_name": "TabModel",
      "state": {
       "_titles": {
        "0": "dt"
       },
       "children": [
        "IPY_MODEL_32bd3132e40f4a2790fac77f76bd7a20"
       ],
       "layout": "IPY_MODEL_4bf5b15e61344c69981af85eda422345"
      }
     },
     "4824780c689843ed997ac72d1b1a5300": {
      "model_module": "@jupyter-widgets/base",
      "model_module_version": "1.1.0",
      "model_name": "LayoutModel",
      "state": {}
     },
     "4862ff4c49184067a18636a8acdc3ae3": {
      "model_module": "@jupyter-widgets/controls",
      "model_module_version": "1.4.0",
      "model_name": "DropdownModel",
      "state": {
       "_options_labels": [
        "dt",
        "logit",
        "linear_svc",
        "rbf_svc"
       ],
       "description": "Model",
       "index": 0,
       "layout": "IPY_MODEL_d01be2c29ee64cb09045b5c29e3414ee",
       "style": "IPY_MODEL_33daec6b1bcb4b069e5936ddc1ab2101"
      }
     },
     "48aaa7c534a3425b9f48e54664485ce3": {
      "model_module": "@jupyter-widgets/base",
      "model_module_version": "1.1.0",
      "model_name": "LayoutModel",
      "state": {}
     },
     "48c553834f1d4bcf9781cb8737b329bd": {
      "model_module": "@jupyter-widgets/controls",
      "model_module_version": "1.4.0",
      "model_name": "ButtonStyleModel",
      "state": {}
     },
     "48d11e7f9065486cb625762ef9139e81": {
      "model_module": "@jupyter-widgets/controls",
      "model_module_version": "1.4.0",
      "model_name": "SliderStyleModel",
      "state": {
       "description_width": ""
      }
     },
     "49468455b27b4d119641fb870dfac0e1": {
      "model_module": "@jupyter-widgets/base",
      "model_module_version": "1.1.0",
      "model_name": "LayoutModel",
      "state": {
       "width": "900px"
      }
     },
     "49d74e3f11d3482f997588540ddb382b": {
      "model_module": "@jupyter-widgets/base",
      "model_module_version": "1.1.0",
      "model_name": "LayoutModel",
      "state": {
       "width": "900px"
      }
     },
     "49e9303a8f0c4b228de036cea3536848": {
      "model_module": "@jupyter-widgets/base",
      "model_module_version": "1.1.0",
      "model_name": "LayoutModel",
      "state": {
       "display": "flex",
       "visibility": "visible",
       "width": "800px"
      }
     },
     "49ea01c42b45455c917e32a8152e627f": {
      "model_module": "@jupyter-widgets/base",
      "model_module_version": "1.1.0",
      "model_name": "LayoutModel",
      "state": {}
     },
     "49fb1bf12dba4cdc85a9ced9ea225c18": {
      "model_module": "@jupyter-widgets/controls",
      "model_module_version": "1.4.0",
      "model_name": "SliderStyleModel",
      "state": {
       "description_width": ""
      }
     },
     "4b22c96e2bc64e199553de371cae8f7f": {
      "model_module": "@jupyter-widgets/controls",
      "model_module_version": "1.4.0",
      "model_name": "AccordionModel",
      "state": {
       "_titles": {
        "0": "Info run"
       },
       "children": [
        "IPY_MODEL_a32b5d13876e4e75a6870fea91c49243"
       ],
       "layout": "IPY_MODEL_0bb5a3dcba3f4400bce478c187e42aa3"
      }
     },
     "4bcca7ef2d0d4a10bdc4088a5e08576f": {
      "model_module": "@jupyter-widgets/controls",
      "model_module_version": "1.4.0",
      "model_name": "DropdownModel",
      "state": {
       "_options_labels": [
        "segment",
        "covertype",
        "digits",
        "fall_detection",
        "mnist",
        "pen_digits",
        "satellite",
        "vowel"
       ],
       "description": "Dataset:",
       "index": 0,
       "layout": "IPY_MODEL_badb486dc93b454191daeb5b2bba48be",
       "style": "IPY_MODEL_b5a02d60da1b4c66bae8b9256df58741"
      }
     },
     "4bf5b15e61344c69981af85eda422345": {
      "model_module": "@jupyter-widgets/base",
      "model_module_version": "1.1.0",
      "model_name": "LayoutModel",
      "state": {}
     },
     "4c16978769b34f49a22b446892b3caab": {
      "model_module": "@jupyter-widgets/controls",
      "model_module_version": "1.4.0",
      "model_name": "HTMLModel",
      "state": {
       "layout": "IPY_MODEL_7a515cf87ee14415892a3325a081c4c2",
       "style": "IPY_MODEL_95d40b9091ca4511b07e016624506764",
       "value": "<strong>Dataset</strong>: segment"
      }
     },
     "4c199c541da747159a0c5361cc731c6e": {
      "model_module": "@jupyter-widgets/base",
      "model_module_version": "1.1.0",
      "model_name": "LayoutModel",
      "state": {}
     },
     "4c2654230ec5446d815b239a064ee85c": {
      "model_module": "@jupyter-widgets/controls",
      "model_module_version": "1.4.0",
      "model_name": "DescriptionStyleModel",
      "state": {
       "description_width": ""
      }
     },
     "4ced99d8d02d4f1ea92d72db88aed7bb": {
      "model_module": "@jupyter-widgets/controls",
      "model_module_version": "1.4.0",
      "model_name": "ButtonStyleModel",
      "state": {}
     },
     "4fe332c34d5746d782acb547ad5ce897": {
      "model_module": "@jupyter-widgets/controls",
      "model_module_version": "1.4.0",
      "model_name": "DescriptionStyleModel",
      "state": {
       "description_width": ""
      }
     },
     "500f6c55798946cfa22be768ba3f469a": {
      "model_module": "@jupyter-widgets/base",
      "model_module_version": "1.1.0",
      "model_name": "LayoutModel",
      "state": {}
     },
     "508171f75cc94ed9a1cb7f0e2a37964c": {
      "model_module": "@jupyter-widgets/controls",
      "model_module_version": "1.4.0",
      "model_name": "VBoxModel",
      "state": {
       "children": [
        "IPY_MODEL_4c16978769b34f49a22b446892b3caab"
       ],
       "layout": "IPY_MODEL_e58149f361184c788b88a15834b15253"
      }
     },
     "50c664732c6b4d49952b1d300b3753c9": {
      "model_module": "@jupyter-widgets/controls",
      "model_module_version": "1.4.0",
      "model_name": "ButtonStyleModel",
      "state": {}
     },
     "50e146dd0944422b9e3023be61b9bb11": {
      "model_module": "@jupyter-widgets/controls",
      "model_module_version": "1.4.0",
      "model_name": "ButtonStyleModel",
      "state": {}
     },
     "514b4e0e9b2a4f0681cb61551d62bc75": {
      "model_module": "@jupyter-widgets/controls",
      "model_module_version": "1.4.0",
      "model_name": "RadioButtonsModel",
      "state": {
       "_options_labels": [
        "1000",
        "2000",
        "5000",
        "10000"
       ],
       "description": "Size",
       "index": 0,
       "layout": "IPY_MODEL_dc6c0681c5b64ae783372afd0207973f",
       "style": "IPY_MODEL_2d11e825a84e427b9cf6e4aaa8d0f559"
      }
     },
     "52cce7470e7c4df28a36b1b91367494f": {
      "model_module": "@jupyter-widgets/controls",
      "model_module_version": "1.4.0",
      "model_name": "DescriptionStyleModel",
      "state": {
       "description_width": ""
      }
     },
     "52f9dd00ccbc467fa03c27d65a29fd32": {
      "model_module": "@jupyter-widgets/controls",
      "model_module_version": "1.4.0",
      "model_name": "FloatLogSliderModel",
      "state": {
       "description": "Gamma",
       "layout": "IPY_MODEL_700d35447ef14cdf93e486ec0031605e",
       "max": 2,
       "min": -4,
       "step": 1,
       "style": "IPY_MODEL_eb435f9addda474b8c1db49a1e1c66c8",
       "value": 0.0001
      }
     },
     "5345a176d59c4de99ff0c926177f269d": {
      "model_module": "@jupyter-widgets/controls",
      "model_module_version": "1.4.0",
      "model_name": "ButtonModel",
      "state": {
       "button_style": "info",
       "description": "Add model",
       "layout": "IPY_MODEL_5b3e8d4eed664bd590b722e65423da5d",
       "style": "IPY_MODEL_92e70a96cfc8491285c1aa208dc76ede"
      }
     },
     "53627bd2253c41f1b67b2e66eac87912": {
      "model_module": "@jupyter-widgets/controls",
      "model_module_version": "1.4.0",
      "model_name": "RadioButtonsModel",
      "state": {
       "_options_labels": [
        "1000",
        "2000",
        "5000",
        "10000"
       ],
       "description": "Size",
       "index": 0,
       "layout": "IPY_MODEL_e29f574e97104164b29430305ecfb512",
       "style": "IPY_MODEL_71b7c45ae88140c09460e9b30d901390"
      }
     },
     "53921f14762648c898e1a1ccd8d01205": {
      "model_module": "@jupyter-widgets/controls",
      "model_module_version": "1.4.0",
      "model_name": "VBoxModel",
      "state": {
       "children": [
        "IPY_MODEL_1475c1c3547543c29dee580dddd63554"
       ],
       "layout": "IPY_MODEL_6b78617c510b4e02b58f7b5b60c14d82"
      }
     },
     "54ef93c33d584b77afffda13b8133e93": {
      "model_module": "@jupyter-widgets/base",
      "model_module_version": "1.1.0",
      "model_name": "LayoutModel",
      "state": {}
     },
     "553ace8f761941589b03425a8168aebe": {
      "model_module": "@jupyter-widgets/base",
      "model_module_version": "1.1.0",
      "model_name": "LayoutModel",
      "state": {
       "visibility": "hidden",
       "width": "800px"
      }
     },
     "556782d8431944dfb38374809006d6c0": {
      "model_module": "@jupyter-widgets/controls",
      "model_module_version": "1.4.0",
      "model_name": "SliderStyleModel",
      "state": {
       "description_width": ""
      }
     },
     "5587a8571b244dd0aea282ca6a8b6d1b": {
      "model_module": "@jupyter-widgets/controls",
      "model_module_version": "1.4.0",
      "model_name": "VBoxModel",
      "state": {
       "children": [
        "IPY_MODEL_9bb8ee689ea14d25918bb2cfaf4077dd"
       ],
       "layout": "IPY_MODEL_181bbeb3f8fe4a129026577917c0bae3"
      }
     },
     "5725fc62394a4ed096df533753ec05b3": {
      "model_module": "@jupyter-widgets/base",
      "model_module_version": "1.1.0",
      "model_name": "LayoutModel",
      "state": {}
     },
     "57af7d8422ef45958fbe3d428d8f686d": {
      "model_module": "@jupyter-widgets/base",
      "model_module_version": "1.1.0",
      "model_name": "LayoutModel",
      "state": {
       "display": "flex",
       "visibility": "visible",
       "width": "800px"
      }
     },
     "57f146e273b8414a9205cdb08fbf07fb": {
      "model_module": "@jupyter-widgets/controls",
      "model_module_version": "1.4.0",
      "model_name": "DropdownModel",
      "state": {
       "_options_labels": [
        "None",
        "rbf",
        "nystroem"
       ],
       "description": "Sampler",
       "index": 0,
       "layout": "IPY_MODEL_ea0e75b441d54fb391e1c56303fd0b4a",
       "style": "IPY_MODEL_24682258283645b6af530e88650ab98d"
      }
     },
     "58ff09c22c1747dcbee3df051a419766": {
      "model_module": "@jupyter-widgets/base",
      "model_module_version": "1.1.0",
      "model_name": "LayoutModel",
      "state": {}
     },
     "59a1827c77c64a94a3b7e4ea64efad16": {
      "model_module": "@jupyter-widgets/controls",
      "model_module_version": "1.4.0",
      "model_name": "TabModel",
      "state": {
       "_titles": {
        "0": "dt"
       },
       "children": [
        "IPY_MODEL_7fcf12ca8f294d7b92c74604ab079623"
       ],
       "layout": "IPY_MODEL_34deb9d8fed44837b0aaa2dab2bebb1d"
      }
     },
     "59a4bf28546d4095b31694fbabae2aca": {
      "model_module": "@jupyter-widgets/controls",
      "model_module_version": "1.4.0",
      "model_name": "DescriptionStyleModel",
      "state": {
       "description_width": ""
      }
     },
     "5a7640390d2f4033ac5a02e12f3bbcea": {
      "model_module": "@jupyter-widgets/base",
      "model_module_version": "1.1.0",
      "model_name": "LayoutModel",
      "state": {}
     },
     "5b01ab53a02f45d2975169afb7531804": {
      "model_module": "@jupyter-widgets/base",
      "model_module_version": "1.1.0",
      "model_name": "LayoutModel",
      "state": {}
     },
     "5b2bcf71e45740049a0aa164b7c501c0": {
      "model_module": "@jupyter-widgets/base",
      "model_module_version": "1.1.0",
      "model_name": "LayoutModel",
      "state": {
       "width": "900px"
      }
     },
     "5b3e8d4eed664bd590b722e65423da5d": {
      "model_module": "@jupyter-widgets/base",
      "model_module_version": "1.1.0",
      "model_name": "LayoutModel",
      "state": {}
     },
     "5bd1acd4800d4372afe2529fc0917593": {
      "model_module": "@jupyter-widgets/controls",
      "model_module_version": "1.4.0",
      "model_name": "FloatSliderModel",
      "state": {
       "description": "min_impurity_decrease:",
       "layout": "IPY_MODEL_6a759a56390b41e487334bc70bbedace",
       "max": 1,
       "step": 0.1,
       "style": "IPY_MODEL_e1c5ac6c98c14c4c8714226e12ae9709"
      }
     },
     "5c5163555537467ba05506009f691a6d": {
      "model_module": "@jupyter-widgets/controls",
      "model_module_version": "1.4.0",
      "model_name": "DescriptionStyleModel",
      "state": {
       "description_width": ""
      }
     },
     "5ccdda3de999400e980ae7b8cdf5afd0": {
      "model_module": "@jupyter-widgets/base",
      "model_module_version": "1.1.0",
      "model_name": "LayoutModel",
      "state": {
       "display": "none",
       "visibility": "hidden",
       "width": "800px"
      }
     },
     "5d340de4148247cba51633029d038951": {
      "model_module": "@jupyter-widgets/base",
      "model_module_version": "1.1.0",
      "model_name": "LayoutModel",
      "state": {
       "margin": "0px 20px 0px 0px"
      }
     },
     "5d6d229b5f844b5ab78f5c5d06b3bcf2": {
      "model_module": "@jupyter-widgets/controls",
      "model_module_version": "1.4.0",
      "model_name": "SliderStyleModel",
      "state": {
       "description_width": ""
      }
     },
     "5df02b0e96f04adc855913d53d14ba16": {
      "model_module": "@jupyter-widgets/controls",
      "model_module_version": "1.4.0",
      "model_name": "FloatLogSliderModel",
      "state": {
       "description": "Gamma",
       "layout": "IPY_MODEL_1a9f437e654b4ec9b5c8647fc5547605",
       "max": 2,
       "min": -4,
       "step": 1,
       "style": "IPY_MODEL_45d1ce3ffa54488a92caaa7d63845480",
       "value": 0.0001
      }
     },
     "5e240683f24f4fd4adfc78aaa19e6fad": {
      "model_module": "@jupyter-widgets/controls",
      "model_module_version": "1.4.0",
      "model_name": "DescriptionStyleModel",
      "state": {
       "description_width": ""
      }
     },
     "5eaa8892df1f4f58a35a99d53b334d8c": {
      "model_module": "@jupyter-widgets/controls",
      "model_module_version": "1.4.0",
      "model_name": "ButtonModel",
      "state": {
       "button_style": "info",
       "description": "Add model",
       "layout": "IPY_MODEL_72f2e6a8ff5142358b357611b9ee4dae",
       "style": "IPY_MODEL_5f80af9852704f77a8ac4b420c88c4de"
      }
     },
     "5f22797bbedb4a0f9626fc2122b63ced": {
      "model_module": "@jupyter-widgets/controls",
      "model_module_version": "1.4.0",
      "model_name": "ButtonStyleModel",
      "state": {}
     },
     "5f80af9852704f77a8ac4b420c88c4de": {
      "model_module": "@jupyter-widgets/controls",
      "model_module_version": "1.4.0",
      "model_name": "ButtonStyleModel",
      "state": {}
     },
     "60a62ca22fbb46b4af7033194576db53": {
      "model_module": "@jupyter-widgets/controls",
      "model_module_version": "1.4.0",
      "model_name": "IntSliderModel",
      "state": {
       "description": "N. estim.",
       "layout": "IPY_MODEL_136e51f6476e4af48cc0685980a4f720",
       "max": 200,
       "min": 2,
       "style": "IPY_MODEL_556782d8431944dfb38374809006d6c0",
       "value": 30
      }
     },
     "60da68c8743c4470852e2bcc59096068": {
      "model_module": "@jupyter-widgets/controls",
      "model_module_version": "1.4.0",
      "model_name": "FloatSliderModel",
      "state": {
       "description": "min_impurity_decrease:",
       "layout": "IPY_MODEL_2dc6e794b58c4b74b1baf150f759d78f",
       "max": 1,
       "step": 0.1,
       "style": "IPY_MODEL_a76bec2327874ff686a97bb70d784e60"
      }
     },
     "610a19ddc831402ca5a4ab5dfb193792": {
      "model_module": "@jupyter-widgets/controls",
      "model_module_version": "1.4.0",
      "model_name": "DescriptionStyleModel",
      "state": {
       "description_width": ""
      }
     },
     "617e3afaee804057b75a2f5ba2b5c0ff": {
      "model_module": "@jupyter-widgets/controls",
      "model_module_version": "1.4.0",
      "model_name": "HTMLModel",
      "state": {
       "layout": "IPY_MODEL_4c199c541da747159a0c5361cc731c6e",
       "style": "IPY_MODEL_610a19ddc831402ca5a4ab5dfb193792",
       "value": "<strong>Size</strong>: 2000"
      }
     },
     "61aa5cc705634cd78a0cdcbaaf225a7a": {
      "model_module": "@jupyter-widgets/controls",
      "model_module_version": "1.4.0",
      "model_name": "SliderStyleModel",
      "state": {
       "description_width": ""
      }
     },
     "61affa4bbefb46e395afa2485661a03e": {
      "model_module": "@jupyter-widgets/controls",
      "model_module_version": "1.4.0",
      "model_name": "AccordionModel",
      "state": {
       "_titles": {
        "0": "Info run"
       },
       "children": [
        "IPY_MODEL_736cf15ff2dc4f2e80e61e0171ebdaca"
       ],
       "layout": "IPY_MODEL_379af5d0cee9463180f160ab630dc70f"
      }
     },
     "6204c3c42c984fc9855827e21d09f6dd": {
      "model_module": "@jupyter-widgets/controls",
      "model_module_version": "1.4.0",
      "model_name": "DescriptionStyleModel",
      "state": {
       "description_width": ""
      }
     },
     "626221ba453f42339667f989e127a5a5": {
      "model_module": "@jupyter-widgets/controls",
      "model_module_version": "1.4.0",
      "model_name": "VBoxModel",
      "state": {
       "children": [
        "IPY_MODEL_f9d010e7862c4a028cdb8fcad92389c5"
       ],
       "layout": "IPY_MODEL_6b78617c510b4e02b58f7b5b60c14d82"
      }
     },
     "62764f048edb494d977ca4dac2caf46f": {
      "model_module": "@jupyter-widgets/controls",
      "model_module_version": "1.4.0",
      "model_name": "DescriptionStyleModel",
      "state": {
       "description_width": ""
      }
     },
     "632847d002fc4e3f86e22acf2557e8d3": {
      "model_module": "@jupyter-widgets/base",
      "model_module_version": "1.1.0",
      "model_name": "LayoutModel",
      "state": {}
     },
     "640e610f838840da9e6cfe7c5917f942": {
      "model_module": "@jupyter-widgets/base",
      "model_module_version": "1.1.0",
      "model_name": "LayoutModel",
      "state": {}
     },
     "64517b146e1d4402ab20d8c6fd683204": {
      "model_module": "@jupyter-widgets/controls",
      "model_module_version": "1.4.0",
      "model_name": "SliderStyleModel",
      "state": {
       "description_width": ""
      }
     },
     "645df7ae36304b3687f043e9a21f4aa1": {
      "model_module": "@jupyter-widgets/controls",
      "model_module_version": "1.4.0",
      "model_name": "VBoxModel",
      "state": {
       "children": [
        "IPY_MODEL_d6b778bc6664436099ffe715d081f9ea"
       ],
       "layout": "IPY_MODEL_669a0a4f67434008aa1903736d9aabdb"
      }
     },
     "65bd686a85294cac8afb9772c6e181eb": {
      "model_module": "@jupyter-widgets/base",
      "model_module_version": "1.1.0",
      "model_name": "LayoutModel",
      "state": {}
     },
     "669a0a4f67434008aa1903736d9aabdb": {
      "model_module": "@jupyter-widgets/base",
      "model_module_version": "1.1.0",
      "model_name": "LayoutModel",
      "state": {
       "margin": "0px 20px 0px 0px"
      }
     },
     "67929ccd99584f379bf6ab3a0ecf0a9f": {
      "model_module": "@jupyter-widgets/base",
      "model_module_version": "1.1.0",
      "model_name": "LayoutModel",
      "state": {}
     },
     "67fa9d8c022c4225b338c4423c8dca2c": {
      "model_module": "@jupyter-widgets/controls",
      "model_module_version": "1.4.0",
      "model_name": "VBoxModel",
      "state": {
       "children": [
        "IPY_MODEL_afa1bdc3499041d18b73e46ea8f205f7",
        "IPY_MODEL_9e7d8211e4b344299a085bcf90e766b7",
        "IPY_MODEL_ff04d2ab6a914612888d8e9365a92c9b",
        "IPY_MODEL_a94dd78cbdad4c9bbd1c35ec88715c94",
        "IPY_MODEL_57f146e273b8414a9205cdb08fbf07fb",
        "IPY_MODEL_52f9dd00ccbc467fa03c27d65a29fd32",
        "IPY_MODEL_73337bfb5bc148f48748d3ec6d5b3063",
        "IPY_MODEL_3744ef528935415bad3f12e4c552b0dd"
       ],
       "layout": "IPY_MODEL_26d513634ed147c89eb91bb6263acf2c"
      }
     },
     "68834b563d834b41afbe256fe5a9313d": {
      "model_module": "@jupyter-widgets/base",
      "model_module_version": "1.1.0",
      "model_name": "LayoutModel",
      "state": {}
     },
     "68a47e2d0adb40f7ac0a980fd2471f30": {
      "model_module": "@jupyter-widgets/controls",
      "model_module_version": "1.4.0",
      "model_name": "DescriptionStyleModel",
      "state": {
       "description_width": ""
      }
     },
     "68ee540363cc44eb8f1d49e5f722a7ca": {
      "model_module": "@jupyter-widgets/controls",
      "model_module_version": "1.4.0",
      "model_name": "VBoxModel",
      "state": {
       "children": [
        "IPY_MODEL_d924ddfd37564c6e91bdb7b829c920d1",
        "IPY_MODEL_eaecc5b7ff42490fb4352069e576c850",
        "IPY_MODEL_d561dc2e91174834b6cb8467dde54411",
        "IPY_MODEL_06c27b39ca4e42689f4321448d3e604f",
        "IPY_MODEL_f401a291aee6468d839e30db63f7a48a",
        "IPY_MODEL_e48e497d64e0421c91abe18cf06b7171",
        "IPY_MODEL_8135cece6db040829e570ade3c3c1f03"
       ],
       "layout": "IPY_MODEL_204ce503d6424971a13514f16f0f462e"
      }
     },
     "690f62fd4d574bc49eb152999c37c758": {
      "model_module": "@jupyter-widgets/controls",
      "model_module_version": "1.4.0",
      "model_name": "FloatLogSliderModel",
      "state": {
       "description": "Gamma",
       "layout": "IPY_MODEL_a4106abca2a84611964fcb9ca4cc382c",
       "max": 2,
       "min": -4,
       "step": 1,
       "style": "IPY_MODEL_cbf05cb865df4b7bb95cab636a88fd2e",
       "value": 0.0001
      }
     },
     "6972c0d125814df98b6a743ba366f808": {
      "model_module": "@jupyter-widgets/controls",
      "model_module_version": "1.4.0",
      "model_name": "VBoxModel",
      "state": {
       "children": [
        "IPY_MODEL_8efc6833b4e24b0eac054aa360f2ca87"
       ],
       "layout": "IPY_MODEL_669a0a4f67434008aa1903736d9aabdb"
      }
     },
     "6a759a56390b41e487334bc70bbedace": {
      "model_module": "@jupyter-widgets/base",
      "model_module_version": "1.1.0",
      "model_name": "LayoutModel",
      "state": {
       "display": "flex",
       "visibility": "visible",
       "width": "800px"
      }
     },
     "6b78617c510b4e02b58f7b5b60c14d82": {
      "model_module": "@jupyter-widgets/base",
      "model_module_version": "1.1.0",
      "model_name": "LayoutModel",
      "state": {
       "margin": "0px 20px 0px 0px"
      }
     },
     "6c2462ca9fb2438499290409369cebd9": {
      "model_module": "@jupyter-widgets/base",
      "model_module_version": "1.1.0",
      "model_name": "LayoutModel",
      "state": {
       "display": "none",
       "visibility": "hidden",
       "width": "800px"
      }
     },
     "6cb27ea185b449419e8a09f7135cea62": {
      "model_module": "@jupyter-widgets/controls",
      "model_module_version": "1.4.0",
      "model_name": "SliderStyleModel",
      "state": {
       "description_width": ""
      }
     },
     "6d0716f843354261867069f9b4d29636": {
      "model_module": "@jupyter-widgets/controls",
      "model_module_version": "1.4.0",
      "model_name": "ButtonStyleModel",
      "state": {}
     },
     "6d703308ff394782b30e4304ce961057": {
      "model_module": "@jupyter-widgets/controls",
      "model_module_version": "1.4.0",
      "model_name": "DescriptionStyleModel",
      "state": {
       "description_width": ""
      }
     },
     "6eac72e443104aeeb240ac4f32dc0b08": {
      "model_module": "@jupyter-widgets/controls",
      "model_module_version": "1.4.0",
      "model_name": "ButtonModel",
      "state": {
       "button_style": "warning",
       "description": "Remove model",
       "layout": "IPY_MODEL_93d270e026a74ffcb0fd08c71185e31a",
       "style": "IPY_MODEL_07e81e23dbda4a16a6fab4e67eaf48bf"
      }
     },
     "6fc46aeb04b14bdd8bef0f39b2a82982": {
      "model_module": "@jupyter-widgets/controls",
      "model_module_version": "1.4.0",
      "model_name": "HBoxModel",
      "state": {
       "children": [
        "IPY_MODEL_645df7ae36304b3687f043e9a21f4aa1",
        "IPY_MODEL_6972c0d125814df98b6a743ba366f808"
       ],
       "layout": "IPY_MODEL_4824780c689843ed997ac72d1b1a5300"
      }
     },
     "700d35447ef14cdf93e486ec0031605e": {
      "model_module": "@jupyter-widgets/base",
      "model_module_version": "1.1.0",
      "model_name": "LayoutModel",
      "state": {
       "visibility": "hidden",
       "width": "800px"
      }
     },
     "705cb211f44440e6913da08122273a6c": {
      "model_module": "@jupyter-widgets/base",
      "model_module_version": "1.1.0",
      "model_name": "LayoutModel",
      "state": {
       "display": "none",
       "visibility": "hidden",
       "width": "800px"
      }
     },
     "716593ae0cfa4e36812b1d2eb1352e0d": {
      "model_module": "@jupyter-widgets/controls",
      "model_module_version": "1.4.0",
      "model_name": "IntSliderModel",
      "state": {
       "description": "C",
       "layout": "IPY_MODEL_1e042b1fe042496fae9cf6bcfa70bb57",
       "max": 10,
       "min": 1,
       "style": "IPY_MODEL_5d6d229b5f844b5ab78f5c5d06b3bcf2",
       "value": 5
      }
     },
     "719d6f0dc74e4ec18dbf61c968b9cdc7": {
      "model_module": "@jupyter-widgets/controls",
      "model_module_version": "1.4.0",
      "model_name": "FloatLogSliderModel",
      "state": {
       "description": "Gamma",
       "layout": "IPY_MODEL_553ace8f761941589b03425a8168aebe",
       "max": 2,
       "min": -4,
       "step": 1,
       "style": "IPY_MODEL_980ec803a1c14fdf94301e2b87560659",
       "value": 0.0001
      }
     },
     "71b7c45ae88140c09460e9b30d901390": {
      "model_module": "@jupyter-widgets/controls",
      "model_module_version": "1.4.0",
      "model_name": "DescriptionStyleModel",
      "state": {
       "description_width": ""
      }
     },
     "727c3f6d0e5e48d1b02b5e2097d04f1f": {
      "model_module": "@jupyter-widgets/controls",
      "model_module_version": "1.4.0",
      "model_name": "VBoxModel",
      "state": {
       "children": [
        "IPY_MODEL_9f5ad6cbc6b241e9a6965db3568a7d20"
       ],
       "layout": "IPY_MODEL_5d340de4148247cba51633029d038951"
      }
     },
     "72c63aa3c8784c148284e3a27f1a9d57": {
      "model_module": "@jupyter-widgets/base",
      "model_module_version": "1.1.0",
      "model_name": "LayoutModel",
      "state": {}
     },
     "72f2e6a8ff5142358b357611b9ee4dae": {
      "model_module": "@jupyter-widgets/base",
      "model_module_version": "1.1.0",
      "model_name": "LayoutModel",
      "state": {}
     },
     "7325e722d336496599b7761a62815a2e": {
      "model_module": "@jupyter-widgets/controls",
      "model_module_version": "1.4.0",
      "model_name": "ButtonStyleModel",
      "state": {}
     },
     "73337bfb5bc148f48748d3ec6d5b3063": {
      "model_module": "@jupyter-widgets/controls",
      "model_module_version": "1.4.0",
      "model_name": "DropdownModel",
      "state": {
       "_options_labels": [
        "black_bag",
        "grey_bag",
        "black_ens",
        "grey_ens",
        "None"
       ],
       "description": "Box Type",
       "index": 4,
       "layout": "IPY_MODEL_7bc2081af23a4fd685a8f12a7d362944",
       "style": "IPY_MODEL_a8d667543def4979acc629adf0b094e8"
      }
     },
     "736cf15ff2dc4f2e80e61e0171ebdaca": {
      "model_module": "@jupyter-widgets/controls",
      "model_module_version": "1.4.0",
      "model_name": "HBoxModel",
      "state": {
       "children": [
        "IPY_MODEL_727c3f6d0e5e48d1b02b5e2097d04f1f",
        "IPY_MODEL_35807bdb853c457288e9b1a3e6259467"
       ],
       "layout": "IPY_MODEL_d8698847029d4434968c74f25f87d8df"
      }
     },
     "741c6e7191b245379fa1aa9b3597225e": {
      "model_module": "@jupyter-widgets/controls",
      "model_module_version": "1.4.0",
      "model_name": "DescriptionStyleModel",
      "state": {
       "description_width": ""
      }
     },
     "742cd13c003242aca86bf20c370ddf10": {
      "model_module": "@jupyter-widgets/controls",
      "model_module_version": "1.4.0",
      "model_name": "ButtonModel",
      "state": {
       "button_style": "info",
       "description": "Demo10",
       "layout": "IPY_MODEL_8a5ba600daed45e79e2f6fd0f9f24ec1",
       "style": "IPY_MODEL_a7f5ec41de4b41348ef8a33459adb9fd"
      }
     },
     "74df3e863af54f0e880e95753e5cdb51": {
      "model_module": "@jupyter-widgets/base",
      "model_module_version": "1.1.0",
      "model_name": "LayoutModel",
      "state": {}
     },
     "75da6adedac74eaaae352ce152281789": {
      "model_module": "@jupyter-widgets/controls",
      "model_module_version": "1.4.0",
      "model_name": "SliderStyleModel",
      "state": {
       "description_width": ""
      }
     },
     "7702ca2433a841e8af390349d8ac43f9": {
      "model_module": "@jupyter-widgets/output",
      "model_module_version": "1.0.0",
      "model_name": "OutputModel",
      "state": {
       "layout": "IPY_MODEL_d9af698738fb44ae9e8273e0db2659a5"
      }
     },
     "78451837c741442489342e2f96d19a55": {
      "model_module": "@jupyter-widgets/base",
      "model_module_version": "1.1.0",
      "model_name": "LayoutModel",
      "state": {
       "display": "none",
       "visibility": "hidden",
       "width": "800px"
      }
     },
     "78a332e3ffd5485c9494d8dd6c5a288c": {
      "model_module": "@jupyter-widgets/base",
      "model_module_version": "1.1.0",
      "model_name": "LayoutModel",
      "state": {}
     },
     "78da65fe8c694866b19fea287b0cce2f": {
      "model_module": "@jupyter-widgets/base",
      "model_module_version": "1.1.0",
      "model_name": "LayoutModel",
      "state": {}
     },
     "792a0e39c12d4cf6bb1a5d5b5b778c43": {
      "model_module": "@jupyter-widgets/controls",
      "model_module_version": "1.4.0",
      "model_name": "DropdownModel",
      "state": {
       "_options_labels": [
        "None",
        "rbf",
        "nystroem"
       ],
       "description": "Sampler",
       "index": 0,
       "layout": "IPY_MODEL_65bd686a85294cac8afb9772c6e181eb",
       "style": "IPY_MODEL_62764f048edb494d977ca4dac2caf46f"
      }
     },
     "7948ed53643e4b87a97ae55b9296926e": {
      "model_module": "@jupyter-widgets/base",
      "model_module_version": "1.1.0",
      "model_name": "LayoutModel",
      "state": {
       "visibility": "hidden",
       "width": "800px"
      }
     },
     "795041dcaf3f444db8353c68b33b7f2e": {
      "model_module": "@jupyter-widgets/controls",
      "model_module_version": "1.4.0",
      "model_name": "SliderStyleModel",
      "state": {
       "description_width": "initial"
      }
     },
     "7a515cf87ee14415892a3325a081c4c2": {
      "model_module": "@jupyter-widgets/base",
      "model_module_version": "1.1.0",
      "model_name": "LayoutModel",
      "state": {}
     },
     "7b3b33b40a8041c7a64a2af5dfab9808": {
      "model_module": "@jupyter-widgets/controls",
      "model_module_version": "1.4.0",
      "model_name": "IntSliderModel",
      "state": {
       "description": "C",
       "layout": "IPY_MODEL_ae07c363c5534c10b7a01e391bfaffe1",
       "max": 10,
       "min": 1,
       "style": "IPY_MODEL_49fb1bf12dba4cdc85a9ced9ea225c18",
       "value": 5
      }
     },
     "7bc2081af23a4fd685a8f12a7d362944": {
      "model_module": "@jupyter-widgets/base",
      "model_module_version": "1.1.0",
      "model_name": "LayoutModel",
      "state": {}
     },
     "7c00f8de143f4e3b85d9b689443fd4f8": {
      "model_module": "@jupyter-widgets/controls",
      "model_module_version": "1.4.0",
      "model_name": "VBoxModel",
      "state": {
       "children": [
        "IPY_MODEL_cb5d5a42d9044771b17f9894c4d6254e",
        "IPY_MODEL_dd8de8c3a48e4ad8a654fe70c4709f9b",
        "IPY_MODEL_5eaa8892df1f4f58a35a99d53b334d8c",
        "IPY_MODEL_df4c316984514cae8a07a06c5b1ec3b4",
        "IPY_MODEL_db48ed757b99444dac043dabd0ae8d4e",
        "IPY_MODEL_fa0a1c2d21144ded9dd6281e886bc461",
        "IPY_MODEL_355d33d2a7a047529aa41a926d0a7159"
       ],
       "layout": "IPY_MODEL_98a7ce1a4b11448fbe9132d943d1edca"
      }
     },
     "7c12ea621e1244b286d2c8dca260c21a": {
      "model_module": "@jupyter-widgets/controls",
      "model_module_version": "1.4.0",
      "model_name": "SliderStyleModel",
      "state": {
       "description_width": ""
      }
     },
     "7c1a16ed065543daaca19cf48678ba59": {
      "model_module": "@jupyter-widgets/controls",
      "model_module_version": "1.4.0",
      "model_name": "ButtonStyleModel",
      "state": {}
     },
     "7cb5f3a01274470b95aecba16cefc1ab": {
      "model_module": "@jupyter-widgets/base",
      "model_module_version": "1.1.0",
      "model_name": "LayoutModel",
      "state": {}
     },
     "7d0780b21ae14102960635a234169b45": {
      "model_module": "@jupyter-widgets/controls",
      "model_module_version": "1.4.0",
      "model_name": "ButtonModel",
      "state": {
       "button_style": "info",
       "description": "Add model",
       "layout": "IPY_MODEL_7dca04ae9399473e9e0db2950c0bfc95",
       "style": "IPY_MODEL_b4e15b61547e4faa8fbac70e4bfbd813"
      }
     },
     "7d80f40f07054c65ade16bd5494cb5d9": {
      "model_module": "@jupyter-widgets/controls",
      "model_module_version": "1.4.0",
      "model_name": "DescriptionStyleModel",
      "state": {
       "description_width": ""
      }
     },
     "7dca04ae9399473e9e0db2950c0bfc95": {
      "model_module": "@jupyter-widgets/base",
      "model_module_version": "1.1.0",
      "model_name": "LayoutModel",
      "state": {}
     },
     "7f593a369d5d44688cb2464e6596eadf": {
      "model_module": "@jupyter-widgets/controls",
      "model_module_version": "1.4.0",
      "model_name": "FloatLogSliderModel",
      "state": {
       "description": "Gamma",
       "layout": "IPY_MODEL_a39293bfd7b84f069c713107c51d2324",
       "max": 2,
       "min": -4,
       "step": 1,
       "style": "IPY_MODEL_ba90e6ca84074f8e8dc1d930f2c6ae4e",
       "value": 0.0001
      }
     },
     "7f6646e82a2c4a6296786587d1e7c37c": {
      "model_module": "@jupyter-widgets/controls",
      "model_module_version": "1.4.0",
      "model_name": "SliderStyleModel",
      "state": {
       "description_width": "initial"
      }
     },
     "7fcf12ca8f294d7b92c74604ab079623": {
      "model_module": "@jupyter-widgets/controls",
      "model_module_version": "1.4.0",
      "model_name": "VBoxModel",
      "state": {
       "children": [
        "IPY_MODEL_de44fb63af824c88bb6a5c320738587b",
        "IPY_MODEL_d7221b9a8bcf42ec938907bcfb7e562c",
        "IPY_MODEL_d93d2a1aadd84dc5b5d4d02170ba518c",
        "IPY_MODEL_08fe5efb29934bcb958081982bc7480c",
        "IPY_MODEL_a4f5fef03f0f4db882da806cf4eabf74",
        "IPY_MODEL_690f62fd4d574bc49eb152999c37c758",
        "IPY_MODEL_057d2828892a4f6882096d559d878aad",
        "IPY_MODEL_3b5885b3a2f44135a10443ca685f2cfb"
       ],
       "layout": "IPY_MODEL_74df3e863af54f0e880e95753e5cdb51"
      }
     },
     "7ffe724a979b4406a524873433c442f1": {
      "model_module": "@jupyter-widgets/controls",
      "model_module_version": "1.4.0",
      "model_name": "HBoxModel",
      "state": {
       "children": [
        "IPY_MODEL_0397da94c2dd463e95b312ed84a57b26",
        "IPY_MODEL_5587a8571b244dd0aea282ca6a8b6d1b"
       ],
       "layout": "IPY_MODEL_468c731820ad4bd4adc72a0e8a4ff11d"
      }
     },
     "8135cece6db040829e570ade3c3c1f03": {
      "model_module": "@jupyter-widgets/controls",
      "model_module_version": "1.4.0",
      "model_name": "ButtonModel",
      "state": {
       "button_style": "info",
       "description": "Demo10",
       "layout": "IPY_MODEL_c06d7d030ebe41388958d92e9260172b",
       "style": "IPY_MODEL_f79a663c8ecf4352aaad56df7c8c3d37"
      }
     },
     "8168bb6c39004356b20680e45c80ec82": {
      "model_module": "@jupyter-widgets/controls",
      "model_module_version": "1.4.0",
      "model_name": "VBoxModel",
      "state": {
       "children": [
        "IPY_MODEL_d8e468771c804a078a1fb42b84e235f9",
        "IPY_MODEL_60da68c8743c4470852e2bcc59096068",
        "IPY_MODEL_2058cbf47f01465bbb8ea734002d6e2f",
        "IPY_MODEL_716593ae0cfa4e36812b1d2eb1352e0d",
        "IPY_MODEL_792a0e39c12d4cf6bb1a5d5b5b778c43",
        "IPY_MODEL_7f593a369d5d44688cb2464e6596eadf",
        "IPY_MODEL_da1df83d500643e181f6630898fea9a1",
        "IPY_MODEL_a6ac76b7294347a8aca553d058bd9677"
       ],
       "layout": "IPY_MODEL_44e7dc364b3148b68c8fa7c65d9b657c"
      }
     },
     "83037f95a0e8477d97c84e948a775bdd": {
      "model_module": "@jupyter-widgets/controls",
      "model_module_version": "1.4.0",
      "model_name": "SliderStyleModel",
      "state": {
       "description_width": ""
      }
     },
     "8430db274dec41ada067a25c27ed9a9b": {
      "model_module": "@jupyter-widgets/controls",
      "model_module_version": "1.4.0",
      "model_name": "HBoxModel",
      "state": {
       "children": [
        "IPY_MODEL_508171f75cc94ed9a1cb7f0e2a37964c",
        "IPY_MODEL_29b55051d7ac4de2bed01992dfaf1a02"
       ],
       "layout": "IPY_MODEL_a74ed92ffccd44abb89759f0c1f2e407"
      }
     },
     "851201c1c5da4e71aa15b0230c790a2b": {
      "model_module": "@jupyter-widgets/base",
      "model_module_version": "1.1.0",
      "model_name": "LayoutModel",
      "state": {}
     },
     "85a7d4bc9b2747debc4904e39a3f95c8": {
      "model_module": "@jupyter-widgets/base",
      "model_module_version": "1.1.0",
      "model_name": "LayoutModel",
      "state": {}
     },
     "86203922999f418a82ae747590f55567": {
      "model_module": "@jupyter-widgets/base",
      "model_module_version": "1.1.0",
      "model_name": "LayoutModel",
      "state": {}
     },
     "8647a06a63734594a834b5d0a5416f49": {
      "model_module": "@jupyter-widgets/controls",
      "model_module_version": "1.4.0",
      "model_name": "SliderStyleModel",
      "state": {
       "description_width": ""
      }
     },
     "86d29f13ff334b97a9686f3f79b70656": {
      "model_module": "@jupyter-widgets/controls",
      "model_module_version": "1.4.0",
      "model_name": "SliderStyleModel",
      "state": {
       "description_width": ""
      }
     },
     "87597f58895d4f26bdbe3047f509c1d6": {
      "model_module": "@jupyter-widgets/controls",
      "model_module_version": "1.4.0",
      "model_name": "IntRangeSliderModel",
      "state": {
       "_model_name": "IntRangeSliderModel",
       "_view_name": "IntRangeSliderView",
       "layout": "IPY_MODEL_cf851c32c2eb46a1a9e2f85f32fe7047",
       "max": 1000,
       "min": 30,
       "step": 10,
       "style": "IPY_MODEL_90ad5781fc6e4885b02404d616620766",
       "value": [
        30,
        100
       ]
      }
     },
     "87a2dfb57d23428a80739d89a2d87d4c": {
      "model_module": "@jupyter-widgets/base",
      "model_module_version": "1.1.0",
      "model_name": "LayoutModel",
      "state": {
       "visibility": "hidden",
       "width": "800px"
      }
     },
     "88fea75a673e440da95aca37f11d9a14": {
      "model_module": "@jupyter-widgets/base",
      "model_module_version": "1.1.0",
      "model_name": "LayoutModel",
      "state": {}
     },
     "89191bac2eea4faf892ee22a62e67469": {
      "model_module": "@jupyter-widgets/base",
      "model_module_version": "1.1.0",
      "model_name": "LayoutModel",
      "state": {}
     },
     "89474250aa684f779f00147635af9532": {
      "model_module": "@jupyter-widgets/controls",
      "model_module_version": "1.4.0",
      "model_name": "RadioButtonsModel",
      "state": {
       "_options_labels": [
        "1000",
        "2000",
        "5000",
        "10000"
       ],
       "description": "Size",
       "index": 0,
       "layout": "IPY_MODEL_632847d002fc4e3f86e22acf2557e8d3",
       "style": "IPY_MODEL_26de927828a547cd9dbf9ed72eae7c7d"
      }
     },
     "89e11260a5ee4195805263bb861decce": {
      "model_module": "@jupyter-widgets/base",
      "model_module_version": "1.1.0",
      "model_name": "LayoutModel",
      "state": {}
     },
     "8a0434254ccf412197a4cfcde0032692": {
      "model_module": "@jupyter-widgets/controls",
      "model_module_version": "1.4.0",
      "model_name": "DescriptionStyleModel",
      "state": {
       "description_width": ""
      }
     },
     "8a5ba600daed45e79e2f6fd0f9f24ec1": {
      "model_module": "@jupyter-widgets/base",
      "model_module_version": "1.1.0",
      "model_name": "LayoutModel",
      "state": {}
     },
     "8efc6833b4e24b0eac054aa360f2ca87": {
      "model_module": "@jupyter-widgets/controls",
      "model_module_version": "1.4.0",
      "model_name": "HTMLModel",
      "state": {
       "layout": "IPY_MODEL_c65fa20d22e8407cb6694949f222cef9",
       "style": "IPY_MODEL_30023e9bb181497b96f6fe804ce61b10",
       "value": "<strong>Size</strong>: 2000"
      }
     },
     "8f294f55a8c84a91900f0f9594e83e30": {
      "model_module": "@jupyter-widgets/controls",
      "model_module_version": "1.4.0",
      "model_name": "VBoxModel",
      "state": {
       "children": [
        "IPY_MODEL_03bae14cb6924fdfbe244de0cf956bd4"
       ],
       "layout": "IPY_MODEL_b0da842eff7447ecb5dc2bcb487dd089"
      }
     },
     "8f8ae377366a43f687d6cf88a9c33ef5": {
      "model_module": "@jupyter-widgets/controls",
      "model_module_version": "1.4.0",
      "model_name": "ButtonModel",
      "state": {
       "button_style": "info",
       "description": "Demo10",
       "layout": "IPY_MODEL_02fe079172fc4f3ab4a2d07037d042bd",
       "style": "IPY_MODEL_d9d499af7ccb4e2fb475c0b309c13074"
      }
     },
     "8f99a05062514e998518a8ef967297e8": {
      "model_module": "@jupyter-widgets/base",
      "model_module_version": "1.1.0",
      "model_name": "LayoutModel",
      "state": {
       "display": "none",
       "visibility": "hidden",
       "width": "800px"
      }
     },
     "90328655df25431081ded18ef3a9fe7d": {
      "model_module": "@jupyter-widgets/controls",
      "model_module_version": "1.4.0",
      "model_name": "ButtonModel",
      "state": {
       "button_style": "info",
       "description": "Add model",
       "layout": "IPY_MODEL_13e1aef6e79845eaa30d19f2ab343e2a",
       "style": "IPY_MODEL_7c1a16ed065543daaca19cf48678ba59"
      }
     },
     "906b30206a6f4451b6355c54d8a520e6": {
      "model_module": "@jupyter-widgets/controls",
      "model_module_version": "1.4.0",
      "model_name": "IntSliderModel",
      "state": {
       "description": "C",
       "layout": "IPY_MODEL_5ccdda3de999400e980ae7b8cdf5afd0",
       "max": 10,
       "min": 1,
       "style": "IPY_MODEL_61aa5cc705634cd78a0cdcbaaf225a7a",
       "value": 5
      }
     },
     "90ad5781fc6e4885b02404d616620766": {
      "model_module": "@jupyter-widgets/controls",
      "model_module_version": "1.4.0",
      "model_name": "SliderStyleModel",
      "state": {
       "description_width": ""
      }
     },
     "913117b0edaa4ce2877048560f56235c": {
      "model_module": "@jupyter-widgets/controls",
      "model_module_version": "1.4.0",
      "model_name": "SliderStyleModel",
      "state": {
       "description_width": "initial"
      }
     },
     "9131ed8857a548eb93e6d497857709bd": {
      "model_module": "@jupyter-widgets/base",
      "model_module_version": "1.1.0",
      "model_name": "LayoutModel",
      "state": {}
     },
     "92e70a96cfc8491285c1aa208dc76ede": {
      "model_module": "@jupyter-widgets/controls",
      "model_module_version": "1.4.0",
      "model_name": "ButtonStyleModel",
      "state": {}
     },
     "93d270e026a74ffcb0fd08c71185e31a": {
      "model_module": "@jupyter-widgets/base",
      "model_module_version": "1.1.0",
      "model_name": "LayoutModel",
      "state": {}
     },
     "9420ca261cb342208877a5109b2bb24e": {
      "model_module": "@jupyter-widgets/controls",
      "model_module_version": "1.4.0",
      "model_name": "DescriptionStyleModel",
      "state": {
       "description_width": ""
      }
     },
     "945110bfeea9419fa565ef1ca2345896": {
      "model_module": "@jupyter-widgets/controls",
      "model_module_version": "1.4.0",
      "model_name": "DescriptionStyleModel",
      "state": {
       "description_width": ""
      }
     },
     "94d7140ae21e4144827fafff861d0fec": {
      "model_module": "@jupyter-widgets/controls",
      "model_module_version": "1.4.0",
      "model_name": "FloatLogSliderModel",
      "state": {
       "description": "C",
       "layout": "IPY_MODEL_705cb211f44440e6913da08122273a6c",
       "max": 5,
       "min": -5,
       "step": 1,
       "style": "IPY_MODEL_7c12ea621e1244b286d2c8dca260c21a",
       "value": 1000
      }
     },
     "95d40b9091ca4511b07e016624506764": {
      "model_module": "@jupyter-widgets/controls",
      "model_module_version": "1.4.0",
      "model_name": "DescriptionStyleModel",
      "state": {
       "description_width": ""
      }
     },
     "9604a2efc92347a9a0b55c6c72f0e82d": {
      "model_module": "@jupyter-widgets/base",
      "model_module_version": "1.1.0",
      "model_name": "LayoutModel",
      "state": {
       "display": "none",
       "visibility": "hidden",
       "width": "800px"
      }
     },
     "97808810750d4115b41e5ae0f9055a75": {
      "model_module": "@jupyter-widgets/controls",
      "model_module_version": "1.4.0",
      "model_name": "HBoxModel",
      "state": {
       "children": [
        "IPY_MODEL_9e3f6eb04c4f4edaaf1aa6b4139e23d6",
        "IPY_MODEL_8f294f55a8c84a91900f0f9594e83e30"
       ],
       "layout": "IPY_MODEL_500f6c55798946cfa22be768ba3f469a"
      }
     },
     "97abf34aadea4323961ebaf5c78ea9cd": {
      "model_module": "@jupyter-widgets/base",
      "model_module_version": "1.1.0",
      "model_name": "LayoutModel",
      "state": {
       "display": "none",
       "visibility": "hidden",
       "width": "800px"
      }
     },
     "97f25937714e4940bbdc27eb407c71fe": {
      "model_module": "@jupyter-widgets/controls",
      "model_module_version": "1.4.0",
      "model_name": "SliderStyleModel",
      "state": {
       "description_width": ""
      }
     },
     "980ec803a1c14fdf94301e2b87560659": {
      "model_module": "@jupyter-widgets/controls",
      "model_module_version": "1.4.0",
      "model_name": "SliderStyleModel",
      "state": {
       "description_width": ""
      }
     },
     "985ac6bf84bc4e148eb1fa76ce089261": {
      "model_module": "@jupyter-widgets/base",
      "model_module_version": "1.1.0",
      "model_name": "LayoutModel",
      "state": {}
     },
     "98a7ce1a4b11448fbe9132d943d1edca": {
      "model_module": "@jupyter-widgets/base",
      "model_module_version": "1.1.0",
      "model_name": "LayoutModel",
      "state": {}
     },
     "98be49225337451485b4f72fd17eb1ad": {
      "model_module": "@jupyter-widgets/base",
      "model_module_version": "1.1.0",
      "model_name": "LayoutModel",
      "state": {}
     },
     "9b536934f3744dc78cefccd63d9e70be": {
      "model_module": "@jupyter-widgets/base",
      "model_module_version": "1.1.0",
      "model_name": "LayoutModel",
      "state": {}
     },
     "9b74fa759111413e89e3cf20adbb074b": {
      "model_module": "@jupyter-widgets/controls",
      "model_module_version": "1.4.0",
      "model_name": "DescriptionStyleModel",
      "state": {
       "description_width": ""
      }
     },
     "9baa6f444e4446419d3eb1d164010c24": {
      "model_module": "@jupyter-widgets/base",
      "model_module_version": "1.1.0",
      "model_name": "LayoutModel",
      "state": {
       "display": "flex",
       "visibility": "visible",
       "width": "800px"
      }
     },
     "9bb8ee689ea14d25918bb2cfaf4077dd": {
      "model_module": "@jupyter-widgets/controls",
      "model_module_version": "1.4.0",
      "model_name": "HTMLModel",
      "state": {
       "layout": "IPY_MODEL_54ef93c33d584b77afffda13b8133e93",
       "style": "IPY_MODEL_9b74fa759111413e89e3cf20adbb074b",
       "value": "<strong>Size</strong>: 2000"
      }
     },
     "9be2aaafb2114f87b4415d8b40d65c2e": {
      "model_module": "@jupyter-widgets/controls",
      "model_module_version": "1.4.0",
      "model_name": "ButtonModel",
      "state": {
       "button_style": "info",
       "description": "Add model",
       "layout": "IPY_MODEL_68834b563d834b41afbe256fe5a9313d",
       "style": "IPY_MODEL_0fa833a159944d94b63587fcf6fa9524"
      }
     },
     "9c07bd6a76c143029fc9a9b8ae60fd81": {
      "model_module": "@jupyter-widgets/controls",
      "model_module_version": "1.4.0",
      "model_name": "VBoxModel",
      "state": {
       "children": [
        "IPY_MODEL_1a812a9360184b5da2a32b8c54f5826c",
        "IPY_MODEL_514b4e0e9b2a4f0681cb61551d62bc75",
        "IPY_MODEL_90328655df25431081ded18ef3a9fe7d",
        "IPY_MODEL_4502e78cef174b66b991ce32bd703e50",
        "IPY_MODEL_87597f58895d4f26bdbe3047f509c1d6",
        "IPY_MODEL_d0fcec7b03204648bd78156a7c7a6df0",
        "IPY_MODEL_d78127e7fe9540ccb6888aee5aefd82b"
       ],
       "layout": "IPY_MODEL_86203922999f418a82ae747590f55567"
      }
     },
     "9c5d54970b5443fd979702c23ec24c94": {
      "model_module": "@jupyter-widgets/controls",
      "model_module_version": "1.4.0",
      "model_name": "DescriptionStyleModel",
      "state": {
       "description_width": ""
      }
     },
     "9c8c8bdb17ac4f778751de93340d2174": {
      "model_module": "@jupyter-widgets/base",
      "model_module_version": "1.1.0",
      "model_name": "LayoutModel",
      "state": {
       "width": "900px"
      }
     },
     "9e3f6eb04c4f4edaaf1aa6b4139e23d6": {
      "model_module": "@jupyter-widgets/controls",
      "model_module_version": "1.4.0",
      "model_name": "VBoxModel",
      "state": {
       "children": [
        "IPY_MODEL_42357e6768f34661a9d3e86d6cd94d63"
       ],
       "layout": "IPY_MODEL_b0da842eff7447ecb5dc2bcb487dd089"
      }
     },
     "9e7d8211e4b344299a085bcf90e766b7": {
      "model_module": "@jupyter-widgets/controls",
      "model_module_version": "1.4.0",
      "model_name": "FloatSliderModel",
      "state": {
       "description": "min_impurity_decrease:",
       "layout": "IPY_MODEL_57af7d8422ef45958fbe3d428d8f686d",
       "max": 1,
       "step": 0.1,
       "style": "IPY_MODEL_913117b0edaa4ce2877048560f56235c"
      }
     },
     "9f5ad6cbc6b241e9a6965db3568a7d20": {
      "model_module": "@jupyter-widgets/controls",
      "model_module_version": "1.4.0",
      "model_name": "HTMLModel",
      "state": {
       "layout": "IPY_MODEL_985ac6bf84bc4e148eb1fa76ce089261",
       "style": "IPY_MODEL_4c2654230ec5446d815b239a064ee85c",
       "value": "<strong>Dataset</strong>: covertype"
      }
     },
     "9ff6cbeaf7f54470995674f10c4081a6": {
      "model_module": "@jupyter-widgets/base",
      "model_module_version": "1.1.0",
      "model_name": "LayoutModel",
      "state": {}
     },
     "a10534ff81d64cc599f06bf7d2457cd0": {
      "model_module": "@jupyter-widgets/controls",
      "model_module_version": "1.4.0",
      "model_name": "IntSliderModel",
      "state": {
       "description": "N. estim.",
       "layout": "IPY_MODEL_1e6f198bb649434caa04461016b7e140",
       "max": 200,
       "min": 2,
       "style": "IPY_MODEL_de6c05fbbccc425cb37feb5eaf63cbbe",
       "value": 30
      }
     },
     "a32b5d13876e4e75a6870fea91c49243": {
      "model_module": "@jupyter-widgets/controls",
      "model_module_version": "1.4.0",
      "model_name": "HBoxModel",
      "state": {
       "children": [
        "IPY_MODEL_daf58b280a4649a997b5a8ce28c069f0",
        "IPY_MODEL_17e967467f194d739a1162db297f4c59"
       ],
       "layout": "IPY_MODEL_f9c3b055f7024ca9852921cd47cf886e"
      }
     },
     "a387077cafec49d9b6447085e729c378": {
      "model_module": "@jupyter-widgets/base",
      "model_module_version": "1.1.0",
      "model_name": "LayoutModel",
      "state": {}
     },
     "a39293bfd7b84f069c713107c51d2324": {
      "model_module": "@jupyter-widgets/base",
      "model_module_version": "1.1.0",
      "model_name": "LayoutModel",
      "state": {
       "visibility": "hidden",
       "width": "800px"
      }
     },
     "a4106abca2a84611964fcb9ca4cc382c": {
      "model_module": "@jupyter-widgets/base",
      "model_module_version": "1.1.0",
      "model_name": "LayoutModel",
      "state": {
       "visibility": "hidden",
       "width": "800px"
      }
     },
     "a452fd3123344e49bbb0e464edae6ed7": {
      "model_module": "@jupyter-widgets/base",
      "model_module_version": "1.1.0",
      "model_name": "LayoutModel",
      "state": {
       "width": "900px"
      }
     },
     "a4f5fef03f0f4db882da806cf4eabf74": {
      "model_module": "@jupyter-widgets/controls",
      "model_module_version": "1.4.0",
      "model_name": "DropdownModel",
      "state": {
       "_options_labels": [
        "None",
        "rbf",
        "nystroem"
       ],
       "description": "Sampler",
       "index": 0,
       "layout": "IPY_MODEL_7cb5f3a01274470b95aecba16cefc1ab",
       "style": "IPY_MODEL_5c5163555537467ba05506009f691a6d"
      }
     },
     "a5dd429cd5b644d6bb74360397567041": {
      "model_module": "@jupyter-widgets/base",
      "model_module_version": "1.1.0",
      "model_name": "LayoutModel",
      "state": {}
     },
     "a688fb879a9c4121b0190190af5b2ecb": {
      "model_module": "@jupyter-widgets/output",
      "model_module_version": "1.0.0",
      "model_name": "OutputModel",
      "state": {
       "layout": "IPY_MODEL_30fec70119a24fe1868a90748f8d9746"
      }
     },
     "a69d69428e43493fb640eb863a5b74a9": {
      "model_module": "@jupyter-widgets/controls",
      "model_module_version": "1.4.0",
      "model_name": "SliderStyleModel",
      "state": {
       "description_width": ""
      }
     },
     "a6ac76b7294347a8aca553d058bd9677": {
      "model_module": "@jupyter-widgets/controls",
      "model_module_version": "1.4.0",
      "model_name": "IntSliderModel",
      "state": {
       "description": "N. estim.",
       "layout": "IPY_MODEL_a9c3fd89b5234b25bb9c097b155994a3",
       "max": 200,
       "min": 2,
       "style": "IPY_MODEL_8647a06a63734594a834b5d0a5416f49",
       "value": 30
      }
     },
     "a703b45f9e5b46e09fd44556e7251ca0": {
      "model_module": "@jupyter-widgets/controls",
      "model_module_version": "1.4.0",
      "model_name": "DescriptionStyleModel",
      "state": {
       "description_width": ""
      }
     },
     "a74ed92ffccd44abb89759f0c1f2e407": {
      "model_module": "@jupyter-widgets/base",
      "model_module_version": "1.1.0",
      "model_name": "LayoutModel",
      "state": {}
     },
     "a76b197e02c54891b8a51d9c7ff6ad91": {
      "model_module": "@jupyter-widgets/base",
      "model_module_version": "1.1.0",
      "model_name": "LayoutModel",
      "state": {
       "display": "none",
       "visibility": "hidden",
       "width": "800px"
      }
     },
     "a76bec2327874ff686a97bb70d784e60": {
      "model_module": "@jupyter-widgets/controls",
      "model_module_version": "1.4.0",
      "model_name": "SliderStyleModel",
      "state": {
       "description_width": "initial"
      }
     },
     "a7f5ec41de4b41348ef8a33459adb9fd": {
      "model_module": "@jupyter-widgets/controls",
      "model_module_version": "1.4.0",
      "model_name": "ButtonStyleModel",
      "state": {}
     },
     "a88399e3ec17468397044aa95ca26a48": {
      "model_module": "@jupyter-widgets/controls",
      "model_module_version": "1.4.0",
      "model_name": "DescriptionStyleModel",
      "state": {
       "description_width": ""
      }
     },
     "a8a859b46cf24b668f80adb2e1831524": {
      "model_module": "@jupyter-widgets/base",
      "model_module_version": "1.1.0",
      "model_name": "LayoutModel",
      "state": {}
     },
     "a8d667543def4979acc629adf0b094e8": {
      "model_module": "@jupyter-widgets/controls",
      "model_module_version": "1.4.0",
      "model_name": "DescriptionStyleModel",
      "state": {
       "description_width": ""
      }
     },
     "a93dd44e34d146bb91166254ec93499a": {
      "model_module": "@jupyter-widgets/controls",
      "model_module_version": "1.4.0",
      "model_name": "DropdownModel",
      "state": {
       "_options_labels": [
        "black_bag",
        "grey_bag",
        "black_ens",
        "grey_ens",
        "None"
       ],
       "description": "Box Type",
       "index": 4,
       "layout": "IPY_MODEL_3c93566ae9af42e19185ad9c5a5727a4",
       "style": "IPY_MODEL_a703b45f9e5b46e09fd44556e7251ca0"
      }
     },
     "a94dd78cbdad4c9bbd1c35ec88715c94": {
      "model_module": "@jupyter-widgets/controls",
      "model_module_version": "1.4.0",
      "model_name": "IntSliderModel",
      "state": {
       "description": "C",
       "layout": "IPY_MODEL_6c2462ca9fb2438499290409369cebd9",
       "max": 10,
       "min": 1,
       "style": "IPY_MODEL_0fb6e8cc02684809a653cc5b73cedee8",
       "value": 5
      }
     },
     "a9c3fd89b5234b25bb9c097b155994a3": {
      "model_module": "@jupyter-widgets/base",
      "model_module_version": "1.1.0",
      "model_name": "LayoutModel",
      "state": {
       "visibility": "hidden",
       "width": "800px"
      }
     },
     "aa100aead9a14e6396be00bf903896bc": {
      "model_module": "@jupyter-widgets/base",
      "model_module_version": "1.1.0",
      "model_name": "LayoutModel",
      "state": {}
     },
     "aa77441207eb4dc8869388beebe7f043": {
      "model_module": "@jupyter-widgets/controls",
      "model_module_version": "1.4.0",
      "model_name": "HTMLModel",
      "state": {
       "layout": "IPY_MODEL_b832224329084e34bc0576efe6555018",
       "style": "IPY_MODEL_1fb6d32bb74545ac961fee67d2d3f8a2",
       "value": "<strong>Dataset</strong>: segment"
      }
     },
     "ab99ca838b3b4bf1841950f141b05796": {
      "model_module": "@jupyter-widgets/base",
      "model_module_version": "1.1.0",
      "model_name": "LayoutModel",
      "state": {}
     },
     "ac77f1ffc6da46d4acad0628354299e0": {
      "model_module": "@jupyter-widgets/base",
      "model_module_version": "1.1.0",
      "model_name": "LayoutModel",
      "state": {}
     },
     "acb3b59c1974448a9acea862e1befe79": {
      "model_module": "@jupyter-widgets/controls",
      "model_module_version": "1.4.0",
      "model_name": "VBoxModel",
      "state": {
       "children": [
        "IPY_MODEL_0445aed438eb415c89082bf4b9705e6f",
        "IPY_MODEL_89474250aa684f779f00147635af9532",
        "IPY_MODEL_9be2aaafb2114f87b4415d8b40d65c2e",
        "IPY_MODEL_03a73053da444a09901d2ce771fd1e91",
        "IPY_MODEL_27e2ea84ab2f4346bd35a150cfc8d6ac",
        "IPY_MODEL_ecd9b26e98c04946bc5be5655ff995aa",
        "IPY_MODEL_8f8ae377366a43f687d6cf88a9c33ef5"
       ],
       "layout": "IPY_MODEL_e2809094fc1d4f3d8508326039d3fa86"
      }
     },
     "aceef23eae8249c08687de49eeeb898b": {
      "model_module": "@jupyter-widgets/base",
      "model_module_version": "1.1.0",
      "model_name": "LayoutModel",
      "state": {}
     },
     "ad2ca5c76b944843b9153437428b64b7": {
      "model_module": "@jupyter-widgets/controls",
      "model_module_version": "1.4.0",
      "model_name": "HTMLModel",
      "state": {
       "layout": "IPY_MODEL_f75910d1bc784f2e8923f4dc2d8a8979",
       "style": "IPY_MODEL_c11802f0c2f9433ea7c5cb274d200ab5",
       "value": "<strong>Size</strong>: 2000"
      }
     },
     "ade684b35a2b413688b12fc122eb0233": {
      "model_module": "@jupyter-widgets/controls",
      "model_module_version": "1.4.0",
      "model_name": "IntRangeSliderModel",
      "state": {
       "_model_name": "IntRangeSliderModel",
       "_view_name": "IntRangeSliderView",
       "layout": "IPY_MODEL_a452fd3123344e49bbb0e464edae6ed7",
       "max": 1000,
       "min": 30,
       "step": 10,
       "style": "IPY_MODEL_2dedc21342e94bff8cc1236c9cece1f3",
       "value": [
        30,
        100
       ]
      }
     },
     "ae07c363c5534c10b7a01e391bfaffe1": {
      "model_module": "@jupyter-widgets/base",
      "model_module_version": "1.1.0",
      "model_name": "LayoutModel",
      "state": {
       "display": "none",
       "visibility": "hidden",
       "width": "800px"
      }
     },
     "aef87cb90fa74154b611d60aed3b552c": {
      "model_module": "@jupyter-widgets/controls",
      "model_module_version": "1.4.0",
      "model_name": "SliderStyleModel",
      "state": {
       "description_width": ""
      }
     },
     "afa1bdc3499041d18b73e46ea8f205f7": {
      "model_module": "@jupyter-widgets/controls",
      "model_module_version": "1.4.0",
      "model_name": "DropdownModel",
      "state": {
       "_options_labels": [
        "dt",
        "logit",
        "linear_svc",
        "rbf_svc"
       ],
       "description": "Model",
       "index": 0,
       "layout": "IPY_MODEL_cb136e64ca1c4a7e838e516434f346d8",
       "style": "IPY_MODEL_dec7f3331dbd42e9aa7b67c2d09a70c2"
      }
     },
     "b0da842eff7447ecb5dc2bcb487dd089": {
      "model_module": "@jupyter-widgets/base",
      "model_module_version": "1.1.0",
      "model_name": "LayoutModel",
      "state": {
       "margin": "0px 20px 0px 0px"
      }
     },
     "b1c65a67fe224a13b51b2c4ffbc03326": {
      "model_module": "@jupyter-widgets/base",
      "model_module_version": "1.1.0",
      "model_name": "LayoutModel",
      "state": {
       "visibility": "hidden",
       "width": "800px"
      }
     },
     "b1f080ccef134164889e8b5c5742613d": {
      "model_module": "@jupyter-widgets/base",
      "model_module_version": "1.1.0",
      "model_name": "LayoutModel",
      "state": {
       "display": "none",
       "visibility": "hidden",
       "width": "800px"
      }
     },
     "b2ebad7bc33c4b4f9f7ad8bc21e9921c": {
      "model_module": "@jupyter-widgets/controls",
      "model_module_version": "1.4.0",
      "model_name": "FloatSliderModel",
      "state": {
       "description": "min_impurity_decrease:",
       "layout": "IPY_MODEL_9baa6f444e4446419d3eb1d164010c24",
       "max": 1,
       "step": 0.1,
       "style": "IPY_MODEL_795041dcaf3f444db8353c68b33b7f2e"
      }
     },
     "b3a42a5be27f4de092362aea07327a96": {
      "model_module": "@jupyter-widgets/controls",
      "model_module_version": "1.4.0",
      "model_name": "SliderStyleModel",
      "state": {
       "description_width": "initial"
      }
     },
     "b4e15b61547e4faa8fbac70e4bfbd813": {
      "model_module": "@jupyter-widgets/controls",
      "model_module_version": "1.4.0",
      "model_name": "ButtonStyleModel",
      "state": {}
     },
     "b54771e1bad44bb8ba6a4c37071353f6": {
      "model_module": "@jupyter-widgets/controls",
      "model_module_version": "1.4.0",
      "model_name": "AccordionModel",
      "state": {
       "_titles": {
        "0": "Info run"
       },
       "children": [
        "IPY_MODEL_bed3f432d18d49bcb6d3795a59c1bd56"
       ],
       "layout": "IPY_MODEL_aa100aead9a14e6396be00bf903896bc"
      }
     },
     "b5a02d60da1b4c66bae8b9256df58741": {
      "model_module": "@jupyter-widgets/controls",
      "model_module_version": "1.4.0",
      "model_name": "DescriptionStyleModel",
      "state": {
       "description_width": ""
      }
     },
     "b71b8fd33d5045f686c1849e617e9135": {
      "model_module": "@jupyter-widgets/controls",
      "model_module_version": "1.4.0",
      "model_name": "DescriptionStyleModel",
      "state": {
       "description_width": ""
      }
     },
     "b832224329084e34bc0576efe6555018": {
      "model_module": "@jupyter-widgets/base",
      "model_module_version": "1.1.0",
      "model_name": "LayoutModel",
      "state": {}
     },
     "ba90e6ca84074f8e8dc1d930f2c6ae4e": {
      "model_module": "@jupyter-widgets/controls",
      "model_module_version": "1.4.0",
      "model_name": "SliderStyleModel",
      "state": {
       "description_width": ""
      }
     },
     "badb486dc93b454191daeb5b2bba48be": {
      "model_module": "@jupyter-widgets/base",
      "model_module_version": "1.1.0",
      "model_name": "LayoutModel",
      "state": {}
     },
     "bb47dd8d5a484be2a94b53d56388761d": {
      "model_module": "@jupyter-widgets/controls",
      "model_module_version": "1.4.0",
      "model_name": "SliderStyleModel",
      "state": {
       "description_width": ""
      }
     },
     "bcfb074dcb264a5296143099a43bf325": {
      "model_module": "@jupyter-widgets/base",
      "model_module_version": "1.1.0",
      "model_name": "LayoutModel",
      "state": {}
     },
     "be0aa42ecfa04e918b7fe96820865fee": {
      "model_module": "@jupyter-widgets/base",
      "model_module_version": "1.1.0",
      "model_name": "LayoutModel",
      "state": {
       "visibility": "hidden",
       "width": "800px"
      }
     },
     "be4262cb226f408aa13741a57136e808": {
      "model_module": "@jupyter-widgets/base",
      "model_module_version": "1.1.0",
      "model_name": "LayoutModel",
      "state": {}
     },
     "bed3f432d18d49bcb6d3795a59c1bd56": {
      "model_module": "@jupyter-widgets/controls",
      "model_module_version": "1.4.0",
      "model_name": "HBoxModel",
      "state": {
       "children": [
        "IPY_MODEL_626221ba453f42339667f989e127a5a5",
        "IPY_MODEL_53921f14762648c898e1a1ccd8d01205"
       ],
       "layout": "IPY_MODEL_138cd63316d042328006e06be95a28a6"
      }
     },
     "c01035facc204f5e894da01f98a31eef": {
      "model_module": "@jupyter-widgets/controls",
      "model_module_version": "1.4.0",
      "model_name": "SliderStyleModel",
      "state": {
       "description_width": ""
      }
     },
     "c01ec9d355f049b895943c179d0b7cf5": {
      "model_module": "@jupyter-widgets/controls",
      "model_module_version": "1.4.0",
      "model_name": "VBoxModel",
      "state": {
       "children": [
        "IPY_MODEL_4862ff4c49184067a18636a8acdc3ae3",
        "IPY_MODEL_5bd1acd4800d4372afe2529fc0917593",
        "IPY_MODEL_fe2266a5a1034cc589f923903cc98cd1",
        "IPY_MODEL_44ecfa91f258489ebe4f887625666482",
        "IPY_MODEL_3fe0f92e10294065a5006edd4bf343a9",
        "IPY_MODEL_32efde8994a942599ffb34d1a2af471b",
        "IPY_MODEL_d59b4677f7054c988ca4a036cf176f0c",
        "IPY_MODEL_ec3f8a08292445cfad22c9401d916fe9"
       ],
       "layout": "IPY_MODEL_e5827806be2f4696933f52b7a97a518f"
      }
     },
     "c06d7d030ebe41388958d92e9260172b": {
      "model_module": "@jupyter-widgets/base",
      "model_module_version": "1.1.0",
      "model_name": "LayoutModel",
      "state": {}
     },
     "c11802f0c2f9433ea7c5cb274d200ab5": {
      "model_module": "@jupyter-widgets/controls",
      "model_module_version": "1.4.0",
      "model_name": "DescriptionStyleModel",
      "state": {
       "description_width": ""
      }
     },
     "c1de5120e1a44ca18e0652da46e3dfba": {
      "model_module": "@jupyter-widgets/base",
      "model_module_version": "1.1.0",
      "model_name": "LayoutModel",
      "state": {}
     },
     "c1e3f85709724d3cae367cedf583d83d": {
      "model_module": "@jupyter-widgets/base",
      "model_module_version": "1.1.0",
      "model_name": "LayoutModel",
      "state": {
       "display": "none",
       "visibility": "hidden",
       "width": "800px"
      }
     },
     "c2b86115a35d4edba1854a0e1da421b2": {
      "model_module": "@jupyter-widgets/controls",
      "model_module_version": "1.4.0",
      "model_name": "DescriptionStyleModel",
      "state": {
       "description_width": ""
      }
     },
     "c2e7d63eb0ff415498f3533c23f1ef75": {
      "model_module": "@jupyter-widgets/controls",
      "model_module_version": "1.4.0",
      "model_name": "ButtonStyleModel",
      "state": {}
     },
     "c3438b6e76e64d15b93ae89eede1edeb": {
      "model_module": "@jupyter-widgets/controls",
      "model_module_version": "1.4.0",
      "model_name": "SliderStyleModel",
      "state": {
       "description_width": ""
      }
     },
     "c3bcb299cfbc42cc869f8ca04649468e": {
      "model_module": "@jupyter-widgets/base",
      "model_module_version": "1.1.0",
      "model_name": "LayoutModel",
      "state": {}
     },
     "c3f4c828972b4151a2c79ebd14211991": {
      "model_module": "@jupyter-widgets/base",
      "model_module_version": "1.1.0",
      "model_name": "LayoutModel",
      "state": {}
     },
     "c4098934524a4452844ec2bc2fdf0515": {
      "model_module": "@jupyter-widgets/controls",
      "model_module_version": "1.4.0",
      "model_name": "DescriptionStyleModel",
      "state": {
       "description_width": ""
      }
     },
     "c48f23e9411c445187fd08a4500af5c7": {
      "model_module": "@jupyter-widgets/output",
      "model_module_version": "1.0.0",
      "model_name": "OutputModel",
      "state": {
       "layout": "IPY_MODEL_dc7be3e4788147bc82a1bbcb787dfdbd"
      }
     },
     "c490cfd7f1ab4ea6a30fc489c99cb438": {
      "model_module": "@jupyter-widgets/controls",
      "model_module_version": "1.4.0",
      "model_name": "ButtonModel",
      "state": {
       "button_style": "info",
       "description": "Add model",
       "layout": "IPY_MODEL_9b536934f3744dc78cefccd63d9e70be",
       "style": "IPY_MODEL_6d0716f843354261867069f9b4d29636"
      }
     },
     "c55d457f6b9d4b6fa72c0a0eed153cdf": {
      "model_module": "@jupyter-widgets/base",
      "model_module_version": "1.1.0",
      "model_name": "LayoutModel",
      "state": {}
     },
     "c59a5dbc2d834ba6828d168215fec3e7": {
      "model_module": "@jupyter-widgets/controls",
      "model_module_version": "1.4.0",
      "model_name": "ButtonStyleModel",
      "state": {}
     },
     "c624b209310a407585c719a6ffc05698": {
      "model_module": "@jupyter-widgets/controls",
      "model_module_version": "1.4.0",
      "model_name": "DescriptionStyleModel",
      "state": {
       "description_width": ""
      }
     },
     "c65fa20d22e8407cb6694949f222cef9": {
      "model_module": "@jupyter-widgets/base",
      "model_module_version": "1.1.0",
      "model_name": "LayoutModel",
      "state": {}
     },
     "c7014a5a7b1b47b88be0d1b9ed995080": {
      "model_module": "@jupyter-widgets/base",
      "model_module_version": "1.1.0",
      "model_name": "LayoutModel",
      "state": {}
     },
     "c91536eaaf5546bcaf848dca07e9bc45": {
      "model_module": "@jupyter-widgets/controls",
      "model_module_version": "1.4.0",
      "model_name": "VBoxModel",
      "state": {
       "children": [
        "IPY_MODEL_43442e7286c54ea9ac6baae051962f44",
        "IPY_MODEL_b2ebad7bc33c4b4f9f7ad8bc21e9921c",
        "IPY_MODEL_d5c4dd5f1e654716bbd6958600c0f6e8",
        "IPY_MODEL_7b3b33b40a8041c7a64a2af5dfab9808",
        "IPY_MODEL_15a267347b6e4d2da91648dd48870a73",
        "IPY_MODEL_359b10868a01429d832d4c779f97f903",
        "IPY_MODEL_df301f5823ab4369b9178ead64d05942",
        "IPY_MODEL_a10534ff81d64cc599f06bf7d2457cd0"
       ],
       "layout": "IPY_MODEL_14112b7e2c774ab4b2364c4dd1a29dc5"
      }
     },
     "cab2351c4b6244cdbff1f2cfba8df389": {
      "model_module": "@jupyter-widgets/base",
      "model_module_version": "1.1.0",
      "model_name": "LayoutModel",
      "state": {}
     },
     "cb136e64ca1c4a7e838e516434f346d8": {
      "model_module": "@jupyter-widgets/base",
      "model_module_version": "1.1.0",
      "model_name": "LayoutModel",
      "state": {}
     },
     "cb5d5a42d9044771b17f9894c4d6254e": {
      "model_module": "@jupyter-widgets/controls",
      "model_module_version": "1.4.0",
      "model_name": "DropdownModel",
      "state": {
       "_options_labels": [
        "segment",
        "covertype",
        "digits",
        "fall_detection",
        "mnist",
        "pen_digits",
        "satellite",
        "vowel"
       ],
       "description": "Dataset:",
       "index": 0,
       "layout": "IPY_MODEL_e0f09934994b4ccd9b1c95f2297c0386",
       "style": "IPY_MODEL_2919e05a15ef4b66b812209754fdf241"
      }
     },
     "cbb79ad129074d07af3e47f7d7537790": {
      "model_module": "@jupyter-widgets/output",
      "model_module_version": "1.0.0",
      "model_name": "OutputModel",
      "state": {
       "layout": "IPY_MODEL_27bcf98bd6c54de2bca250f9af87b2f5"
      }
     },
     "cbf05cb865df4b7bb95cab636a88fd2e": {
      "model_module": "@jupyter-widgets/controls",
      "model_module_version": "1.4.0",
      "model_name": "SliderStyleModel",
      "state": {
       "description_width": ""
      }
     },
     "cc8c3f517c644281a87f4c2969e72db9": {
      "model_module": "@jupyter-widgets/controls",
      "model_module_version": "1.4.0",
      "model_name": "SliderStyleModel",
      "state": {
       "description_width": ""
      }
     },
     "cd219bf9fda840a6805aac2e338e842d": {
      "model_module": "@jupyter-widgets/base",
      "model_module_version": "1.1.0",
      "model_name": "LayoutModel",
      "state": {}
     },
     "cd6ae58a39014f2e821332201615eeab": {
      "model_module": "@jupyter-widgets/base",
      "model_module_version": "1.1.0",
      "model_name": "LayoutModel",
      "state": {}
     },
     "cdbd9e5871ad4edd9e568281b30bfa5b": {
      "model_module": "@jupyter-widgets/controls",
      "model_module_version": "1.4.0",
      "model_name": "DescriptionStyleModel",
      "state": {
       "description_width": ""
      }
     },
     "cedd5539e6974215b4b215fc0b43492d": {
      "model_module": "@jupyter-widgets/controls",
      "model_module_version": "1.4.0",
      "model_name": "SliderStyleModel",
      "state": {
       "description_width": ""
      }
     },
     "cf2dee1bd9af4678bc54fa70d1ecaafa": {
      "model_module": "@jupyter-widgets/base",
      "model_module_version": "1.1.0",
      "model_name": "LayoutModel",
      "state": {}
     },
     "cf851c32c2eb46a1a9e2f85f32fe7047": {
      "model_module": "@jupyter-widgets/base",
      "model_module_version": "1.1.0",
      "model_name": "LayoutModel",
      "state": {
       "width": "900px"
      }
     },
     "d01be2c29ee64cb09045b5c29e3414ee": {
      "model_module": "@jupyter-widgets/base",
      "model_module_version": "1.1.0",
      "model_name": "LayoutModel",
      "state": {}
     },
     "d057cdc77c024989aebf6b2a19943da7": {
      "model_module": "@jupyter-widgets/controls",
      "model_module_version": "1.4.0",
      "model_name": "DescriptionStyleModel",
      "state": {
       "description_width": ""
      }
     },
     "d0fcec7b03204648bd78156a7c7a6df0": {
      "model_module": "@jupyter-widgets/controls",
      "model_module_version": "1.4.0",
      "model_name": "TabModel",
      "state": {
       "_titles": {
        "0": "dt"
       },
       "children": [
        "IPY_MODEL_67fa9d8c022c4225b338c4423c8dca2c"
       ],
       "layout": "IPY_MODEL_aceef23eae8249c08687de49eeeb898b"
      }
     },
     "d1bb3ab5d9d34dec9a5c6931628a540f": {
      "model_module": "@jupyter-widgets/base",
      "model_module_version": "1.1.0",
      "model_name": "LayoutModel",
      "state": {}
     },
     "d2cb2e4895c64c299dc7bd2ab3aea947": {
      "model_module": "@jupyter-widgets/controls",
      "model_module_version": "1.4.0",
      "model_name": "DropdownModel",
      "state": {
       "_options_labels": [
        "dt",
        "logit",
        "linear_svc",
        "rbf_svc"
       ],
       "description": "Model",
       "index": 0,
       "layout": "IPY_MODEL_3cc4995c79db47c8973d8644c9d81765",
       "style": "IPY_MODEL_fea40033248a45ac9ccd77eccad3aad1"
      }
     },
     "d5104750b13842cc9ab86e2b816c3a3e": {
      "model_module": "@jupyter-widgets/controls",
      "model_module_version": "1.4.0",
      "model_name": "HTMLModel",
      "state": {
       "layout": "IPY_MODEL_9131ed8857a548eb93e6d497857709bd",
       "style": "IPY_MODEL_c4098934524a4452844ec2bc2fdf0515",
       "value": "<strong>Dataset</strong>: segment"
      }
     },
     "d5496a2aae274c0d8bba93412d501f36": {
      "model_module": "@jupyter-widgets/base",
      "model_module_version": "1.1.0",
      "model_name": "LayoutModel",
      "state": {}
     },
     "d561dc2e91174834b6cb8467dde54411": {
      "model_module": "@jupyter-widgets/controls",
      "model_module_version": "1.4.0",
      "model_name": "ButtonModel",
      "state": {
       "button_style": "info",
       "description": "Add model",
       "layout": "IPY_MODEL_15adfaa24f384efa8c456f6f233b29d4",
       "style": "IPY_MODEL_4ced99d8d02d4f1ea92d72db88aed7bb"
      }
     },
     "d59b4677f7054c988ca4a036cf176f0c": {
      "model_module": "@jupyter-widgets/controls",
      "model_module_version": "1.4.0",
      "model_name": "DropdownModel",
      "state": {
       "_options_labels": [
        "black_bag",
        "grey_bag",
        "black_ens",
        "grey_ens",
        "None"
       ],
       "description": "Box Type",
       "index": 4,
       "layout": "IPY_MODEL_98be49225337451485b4f72fd17eb1ad",
       "style": "IPY_MODEL_0b1a269521cc4b97a5034211d8f8bd9c"
      }
     },
     "d5c4dd5f1e654716bbd6958600c0f6e8": {
      "model_module": "@jupyter-widgets/controls",
      "model_module_version": "1.4.0",
      "model_name": "FloatLogSliderModel",
      "state": {
       "description": "C",
       "layout": "IPY_MODEL_9604a2efc92347a9a0b55c6c72f0e82d",
       "max": 5,
       "min": -5,
       "step": 1,
       "style": "IPY_MODEL_dec0c5570cab4afb9a3483d14ee03f04",
       "value": 1000
      }
     },
     "d672d0fc5a8e4d818fd9327282bb1241": {
      "model_module": "@jupyter-widgets/controls",
      "model_module_version": "1.4.0",
      "model_name": "TabModel",
      "state": {
       "_titles": {
        "0": "dt"
       },
       "children": [
        "IPY_MODEL_c01ec9d355f049b895943c179d0b7cf5"
       ],
       "layout": "IPY_MODEL_48aaa7c534a3425b9f48e54664485ce3"
      }
     },
     "d6b778bc6664436099ffe715d081f9ea": {
      "model_module": "@jupyter-widgets/controls",
      "model_module_version": "1.4.0",
      "model_name": "HTMLModel",
      "state": {
       "layout": "IPY_MODEL_293be5ece35d44ddba65eae03c3eace3",
       "style": "IPY_MODEL_9420ca261cb342208877a5109b2bb24e",
       "value": "<strong>Dataset</strong>: digits"
      }
     },
     "d7221b9a8bcf42ec938907bcfb7e562c": {
      "model_module": "@jupyter-widgets/controls",
      "model_module_version": "1.4.0",
      "model_name": "FloatSliderModel",
      "state": {
       "description": "min_impurity_decrease:",
       "layout": "IPY_MODEL_49e9303a8f0c4b228de036cea3536848",
       "max": 1,
       "step": 0.1,
       "style": "IPY_MODEL_26a1958ed15a4f1c8cc747e790de56e2"
      }
     },
     "d74dc80828a245a9b0b2c1ad06f7f499": {
      "model_module": "@jupyter-widgets/controls",
      "model_module_version": "1.4.0",
      "model_name": "SliderStyleModel",
      "state": {
       "description_width": ""
      }
     },
     "d78127e7fe9540ccb6888aee5aefd82b": {
      "model_module": "@jupyter-widgets/controls",
      "model_module_version": "1.4.0",
      "model_name": "ButtonModel",
      "state": {
       "button_style": "info",
       "description": "Demo10",
       "layout": "IPY_MODEL_5725fc62394a4ed096df533753ec05b3",
       "style": "IPY_MODEL_14965f7274cb46ecad55505d41c164af"
      }
     },
     "d84c1b1320554ab5b7c3f74be990f4cd": {
      "model_module": "@jupyter-widgets/output",
      "model_module_version": "1.0.0",
      "model_name": "OutputModel",
      "state": {
       "layout": "IPY_MODEL_ddcb6a2aa2564ea0a92679cc711f1ce8"
      }
     },
     "d8698847029d4434968c74f25f87d8df": {
      "model_module": "@jupyter-widgets/base",
      "model_module_version": "1.1.0",
      "model_name": "LayoutModel",
      "state": {}
     },
     "d8b96b3c3aa843ba9935ea1ab324590e": {
      "model_module": "@jupyter-widgets/controls",
      "model_module_version": "1.4.0",
      "model_name": "DropdownModel",
      "state": {
       "_options_labels": [
        "segment",
        "covertype",
        "digits",
        "fall_detection",
        "mnist",
        "pen_digits",
        "satellite",
        "vowel"
       ],
       "description": "Dataset:",
       "index": 0,
       "layout": "IPY_MODEL_49ea01c42b45455c917e32a8152e627f",
       "style": "IPY_MODEL_9c5d54970b5443fd979702c23ec24c94"
      }
     },
     "d8e468771c804a078a1fb42b84e235f9": {
      "model_module": "@jupyter-widgets/controls",
      "model_module_version": "1.4.0",
      "model_name": "DropdownModel",
      "state": {
       "_options_labels": [
        "dt",
        "logit",
        "linear_svc",
        "rbf_svc"
       ],
       "description": "Model",
       "index": 0,
       "layout": "IPY_MODEL_58ff09c22c1747dcbee3df051a419766",
       "style": "IPY_MODEL_741c6e7191b245379fa1aa9b3597225e"
      }
     },
     "d8fcda5124b94402b197db3342320bc2": {
      "model_module": "@jupyter-widgets/controls",
      "model_module_version": "1.4.0",
      "model_name": "DropdownModel",
      "state": {
       "_options_labels": [
        "None",
        "rbf",
        "nystroem"
       ],
       "description": "Sampler",
       "index": 0,
       "layout": "IPY_MODEL_384b0bd8b9f64cbab5cb1bd78b8b1c97",
       "style": "IPY_MODEL_c2b86115a35d4edba1854a0e1da421b2"
      }
     },
     "d924ddfd37564c6e91bdb7b829c920d1": {
      "model_module": "@jupyter-widgets/controls",
      "model_module_version": "1.4.0",
      "model_name": "DropdownModel",
      "state": {
       "_options_labels": [
        "segment",
        "covertype",
        "digits",
        "fall_detection",
        "mnist",
        "pen_digits",
        "satellite",
        "vowel"
       ],
       "description": "Dataset:",
       "index": 0,
       "layout": "IPY_MODEL_a387077cafec49d9b6447085e729c378",
       "style": "IPY_MODEL_ee45ca35c9b445c5b55dc69504667675"
      }
     },
     "d93d2a1aadd84dc5b5d4d02170ba518c": {
      "model_module": "@jupyter-widgets/controls",
      "model_module_version": "1.4.0",
      "model_name": "FloatLogSliderModel",
      "state": {
       "description": "C",
       "layout": "IPY_MODEL_8f99a05062514e998518a8ef967297e8",
       "max": 5,
       "min": -5,
       "step": 1,
       "style": "IPY_MODEL_1776dedc34074f4da42fcf8584af20ec",
       "value": 1000
      }
     },
     "d9af698738fb44ae9e8273e0db2659a5": {
      "model_module": "@jupyter-widgets/base",
      "model_module_version": "1.1.0",
      "model_name": "LayoutModel",
      "state": {}
     },
     "d9d499af7ccb4e2fb475c0b309c13074": {
      "model_module": "@jupyter-widgets/controls",
      "model_module_version": "1.4.0",
      "model_name": "ButtonStyleModel",
      "state": {}
     },
     "da1df83d500643e181f6630898fea9a1": {
      "model_module": "@jupyter-widgets/controls",
      "model_module_version": "1.4.0",
      "model_name": "DropdownModel",
      "state": {
       "_options_labels": [
        "black_bag",
        "grey_bag",
        "black_ens",
        "grey_ens",
        "None"
       ],
       "description": "Box Type",
       "index": 4,
       "layout": "IPY_MODEL_1c702dc7e38f4d19bf75efd711ca2d59",
       "style": "IPY_MODEL_52cce7470e7c4df28a36b1b91367494f"
      }
     },
     "daf58b280a4649a997b5a8ce28c069f0": {
      "model_module": "@jupyter-widgets/controls",
      "model_module_version": "1.4.0",
      "model_name": "VBoxModel",
      "state": {
       "children": [
        "IPY_MODEL_aa77441207eb4dc8869388beebe7f043"
       ],
       "layout": "IPY_MODEL_fc24158fe09b48efa5def7f675fc23fe"
      }
     },
     "db48ed757b99444dac043dabd0ae8d4e": {
      "model_module": "@jupyter-widgets/controls",
      "model_module_version": "1.4.0",
      "model_name": "IntRangeSliderModel",
      "state": {
       "_model_name": "IntRangeSliderModel",
       "_view_name": "IntRangeSliderView",
       "layout": "IPY_MODEL_460dc9c8d18a4ca4a1e4c4670cfae9de",
       "max": 1000,
       "min": 30,
       "step": 10,
       "style": "IPY_MODEL_86d29f13ff334b97a9686f3f79b70656",
       "value": [
        30,
        100
       ]
      }
     },
     "dc6c0681c5b64ae783372afd0207973f": {
      "model_module": "@jupyter-widgets/base",
      "model_module_version": "1.1.0",
      "model_name": "LayoutModel",
      "state": {}
     },
     "dc7be3e4788147bc82a1bbcb787dfdbd": {
      "model_module": "@jupyter-widgets/base",
      "model_module_version": "1.1.0",
      "model_name": "LayoutModel",
      "state": {}
     },
     "dd8de8c3a48e4ad8a654fe70c4709f9b": {
      "model_module": "@jupyter-widgets/controls",
      "model_module_version": "1.4.0",
      "model_name": "RadioButtonsModel",
      "state": {
       "_options_labels": [
        "1000",
        "2000",
        "5000",
        "10000"
       ],
       "description": "Size",
       "index": 0,
       "layout": "IPY_MODEL_2bda1ff047074f81b8852e7fb8cbfdae",
       "style": "IPY_MODEL_d057cdc77c024989aebf6b2a19943da7"
      }
     },
     "dda7b86f1cb84fbc913ee13b8d20e070": {
      "model_module": "@jupyter-widgets/controls",
      "model_module_version": "1.4.0",
      "model_name": "IntSliderModel",
      "state": {
       "description": "C",
       "layout": "IPY_MODEL_97abf34aadea4323961ebaf5c78ea9cd",
       "max": 10,
       "min": 1,
       "style": "IPY_MODEL_2c7eaa138ba24f488b4018a368912fe5",
       "value": 5
      }
     },
     "ddcb6a2aa2564ea0a92679cc711f1ce8": {
      "model_module": "@jupyter-widgets/base",
      "model_module_version": "1.1.0",
      "model_name": "LayoutModel",
      "state": {}
     },
     "de284466bc414d24ad90bb9ebc8b56b3": {
      "model_module": "@jupyter-widgets/base",
      "model_module_version": "1.1.0",
      "model_name": "LayoutModel",
      "state": {}
     },
     "de44fb63af824c88bb6a5c320738587b": {
      "model_module": "@jupyter-widgets/controls",
      "model_module_version": "1.4.0",
      "model_name": "DropdownModel",
      "state": {
       "_options_labels": [
        "dt",
        "logit",
        "linear_svc",
        "rbf_svc"
       ],
       "description": "Model",
       "index": 0,
       "layout": "IPY_MODEL_851201c1c5da4e71aa15b0230c790a2b",
       "style": "IPY_MODEL_68a47e2d0adb40f7ac0a980fd2471f30"
      }
     },
     "de6c05fbbccc425cb37feb5eaf63cbbe": {
      "model_module": "@jupyter-widgets/controls",
      "model_module_version": "1.4.0",
      "model_name": "SliderStyleModel",
      "state": {
       "description_width": ""
      }
     },
     "dec0c5570cab4afb9a3483d14ee03f04": {
      "model_module": "@jupyter-widgets/controls",
      "model_module_version": "1.4.0",
      "model_name": "SliderStyleModel",
      "state": {
       "description_width": ""
      }
     },
     "dec7f3331dbd42e9aa7b67c2d09a70c2": {
      "model_module": "@jupyter-widgets/controls",
      "model_module_version": "1.4.0",
      "model_name": "DescriptionStyleModel",
      "state": {
       "description_width": ""
      }
     },
     "dedcea84237343a0a7d06e885e9d55e7": {
      "model_module": "@jupyter-widgets/controls",
      "model_module_version": "1.4.0",
      "model_name": "DropdownModel",
      "state": {
       "_options_labels": [
        "dt",
        "logit",
        "linear_svc",
        "rbf_svc"
       ],
       "description": "Model",
       "index": 0,
       "layout": "IPY_MODEL_41c7c7ac679945e9b35608da85d3a1e5",
       "style": "IPY_MODEL_cdbd9e5871ad4edd9e568281b30bfa5b"
      }
     },
     "df301f5823ab4369b9178ead64d05942": {
      "model_module": "@jupyter-widgets/controls",
      "model_module_version": "1.4.0",
      "model_name": "DropdownModel",
      "state": {
       "_options_labels": [
        "black_bag",
        "grey_bag",
        "black_ens",
        "grey_ens",
        "None"
       ],
       "description": "Box Type",
       "index": 4,
       "layout": "IPY_MODEL_c3f4c828972b4151a2c79ebd14211991",
       "style": "IPY_MODEL_6204c3c42c984fc9855827e21d09f6dd"
      }
     },
     "df4c316984514cae8a07a06c5b1ec3b4": {
      "model_module": "@jupyter-widgets/controls",
      "model_module_version": "1.4.0",
      "model_name": "ButtonModel",
      "state": {
       "button_style": "warning",
       "description": "Remove model",
       "layout": "IPY_MODEL_cd219bf9fda840a6805aac2e338e842d",
       "style": "IPY_MODEL_50e146dd0944422b9e3023be61b9bb11"
      }
     },
     "e03a887ac79c4083aff3e30464a8dcfe": {
      "model_module": "@jupyter-widgets/controls",
      "model_module_version": "1.4.0",
      "model_name": "RadioButtonsModel",
      "state": {
       "_options_labels": [
        "1000",
        "2000",
        "5000",
        "10000"
       ],
       "description": "Size",
       "index": 0,
       "layout": "IPY_MODEL_e13979a12c6d45dda2105ac96db4f737",
       "style": "IPY_MODEL_0352b59afe3f470682664294f638d8a6"
      }
     },
     "e061d62fbb80475c93f087228652e371": {
      "model_module": "@jupyter-widgets/base",
      "model_module_version": "1.1.0",
      "model_name": "LayoutModel",
      "state": {}
     },
     "e0f09934994b4ccd9b1c95f2297c0386": {
      "model_module": "@jupyter-widgets/base",
      "model_module_version": "1.1.0",
      "model_name": "LayoutModel",
      "state": {}
     },
     "e13979a12c6d45dda2105ac96db4f737": {
      "model_module": "@jupyter-widgets/base",
      "model_module_version": "1.1.0",
      "model_name": "LayoutModel",
      "state": {}
     },
     "e170497e03e640cd86fc1339fe8510e5": {
      "model_module": "@jupyter-widgets/controls",
      "model_module_version": "1.4.0",
      "model_name": "DescriptionStyleModel",
      "state": {
       "description_width": ""
      }
     },
     "e1c5ac6c98c14c4c8714226e12ae9709": {
      "model_module": "@jupyter-widgets/controls",
      "model_module_version": "1.4.0",
      "model_name": "SliderStyleModel",
      "state": {
       "description_width": "initial"
      }
     },
     "e2809094fc1d4f3d8508326039d3fa86": {
      "model_module": "@jupyter-widgets/base",
      "model_module_version": "1.1.0",
      "model_name": "LayoutModel",
      "state": {}
     },
     "e29f574e97104164b29430305ecfb512": {
      "model_module": "@jupyter-widgets/base",
      "model_module_version": "1.1.0",
      "model_name": "LayoutModel",
      "state": {}
     },
     "e342b5962e0745b6afeb1a6f059582fa": {
      "model_module": "@jupyter-widgets/controls",
      "model_module_version": "1.4.0",
      "model_name": "FloatLogSliderModel",
      "state": {
       "description": "C",
       "layout": "IPY_MODEL_45942b9dc30345019933799c27d501ce",
       "max": 5,
       "min": -5,
       "step": 1,
       "style": "IPY_MODEL_1142a29f560140c2a676d122238ba331",
       "value": 1000
      }
     },
     "e393c924d805496ebc9b2a338a1ad198": {
      "model_module": "@jupyter-widgets/base",
      "model_module_version": "1.1.0",
      "model_name": "LayoutModel",
      "state": {}
     },
     "e48e497d64e0421c91abe18cf06b7171": {
      "model_module": "@jupyter-widgets/controls",
      "model_module_version": "1.4.0",
      "model_name": "TabModel",
      "state": {
       "_titles": {
        "0": "dt"
       },
       "children": [
        "IPY_MODEL_fe3c003421654c94ac941fdd9ca6257f"
       ],
       "layout": "IPY_MODEL_c3bcb299cfbc42cc869f8ca04649468e"
      }
     },
     "e58149f361184c788b88a15834b15253": {
      "model_module": "@jupyter-widgets/base",
      "model_module_version": "1.1.0",
      "model_name": "LayoutModel",
      "state": {
       "margin": "0px 20px 0px 0px"
      }
     },
     "e5827806be2f4696933f52b7a97a518f": {
      "model_module": "@jupyter-widgets/base",
      "model_module_version": "1.1.0",
      "model_name": "LayoutModel",
      "state": {}
     },
     "e650a06abd064b2da1fd68fec5d12fe9": {
      "model_module": "@jupyter-widgets/controls",
      "model_module_version": "1.4.0",
      "model_name": "DescriptionStyleModel",
      "state": {
       "description_width": ""
      }
     },
     "e7e072e763ef43fe92928a85b5626d5c": {
      "model_module": "@jupyter-widgets/controls",
      "model_module_version": "1.4.0",
      "model_name": "FloatSliderModel",
      "state": {
       "description": "min_impurity_decrease:",
       "layout": "IPY_MODEL_3e28372fa1be4865bccd406c3bbbad93",
       "max": 1,
       "step": 0.1,
       "style": "IPY_MODEL_b3a42a5be27f4de092362aea07327a96"
      }
     },
     "e80a680066604ff8aa1b255224a3bcdf": {
      "model_module": "@jupyter-widgets/base",
      "model_module_version": "1.1.0",
      "model_name": "LayoutModel",
      "state": {
       "display": "flex",
       "visibility": "visible",
       "width": "800px"
      }
     },
     "e98d23439c1b4795b19f327ac8d44465": {
      "model_module": "@jupyter-widgets/base",
      "model_module_version": "1.1.0",
      "model_name": "LayoutModel",
      "state": {}
     },
     "e9b940bac0bd4af3b29b52781b936e00": {
      "model_module": "@jupyter-widgets/controls",
      "model_module_version": "1.4.0",
      "model_name": "IntRangeSliderModel",
      "state": {
       "_model_name": "IntRangeSliderModel",
       "_view_name": "IntRangeSliderView",
       "layout": "IPY_MODEL_9c8c8bdb17ac4f778751de93340d2174",
       "max": 1000,
       "min": 30,
       "step": 10,
       "style": "IPY_MODEL_311fab52a00b4f9cb7a832aa3a0cf496",
       "value": [
        30,
        100
       ]
      }
     },
     "ea0e75b441d54fb391e1c56303fd0b4a": {
      "model_module": "@jupyter-widgets/base",
      "model_module_version": "1.1.0",
      "model_name": "LayoutModel",
      "state": {}
     },
     "eaecc5b7ff42490fb4352069e576c850": {
      "model_module": "@jupyter-widgets/controls",
      "model_module_version": "1.4.0",
      "model_name": "RadioButtonsModel",
      "state": {
       "_options_labels": [
        "1000",
        "2000",
        "5000",
        "10000"
       ],
       "description": "Size",
       "index": 0,
       "layout": "IPY_MODEL_78a332e3ffd5485c9494d8dd6c5a288c",
       "style": "IPY_MODEL_945110bfeea9419fa565ef1ca2345896"
      }
     },
     "eb435f9addda474b8c1db49a1e1c66c8": {
      "model_module": "@jupyter-widgets/controls",
      "model_module_version": "1.4.0",
      "model_name": "SliderStyleModel",
      "state": {
       "description_width": ""
      }
     },
     "ec3f8a08292445cfad22c9401d916fe9": {
      "model_module": "@jupyter-widgets/controls",
      "model_module_version": "1.4.0",
      "model_name": "IntSliderModel",
      "state": {
       "description": "N. estim.",
       "layout": "IPY_MODEL_113bbaae8df348a88d24bf9c02ec740e",
       "max": 200,
       "min": 2,
       "style": "IPY_MODEL_97f25937714e4940bbdc27eb407c71fe",
       "value": 30
      }
     },
     "eca65479c57044939eecbd7eb9e8ac01": {
      "model_module": "@jupyter-widgets/controls",
      "model_module_version": "1.4.0",
      "model_name": "ButtonStyleModel",
      "state": {}
     },
     "ecd9b26e98c04946bc5be5655ff995aa": {
      "model_module": "@jupyter-widgets/controls",
      "model_module_version": "1.4.0",
      "model_name": "TabModel",
      "state": {
       "_titles": {
        "0": "dt"
       },
       "children": [
        "IPY_MODEL_c91536eaaf5546bcaf848dca07e9bc45"
       ],
       "layout": "IPY_MODEL_c1de5120e1a44ca18e0652da46e3dfba"
      }
     },
     "ed27f02b5d4c49eca4d50fb3dbefa2f4": {
      "model_module": "@jupyter-widgets/controls",
      "model_module_version": "1.4.0",
      "model_name": "VBoxModel",
      "state": {
       "children": [
        "IPY_MODEL_d8b96b3c3aa843ba9935ea1ab324590e",
        "IPY_MODEL_e03a887ac79c4083aff3e30464a8dcfe",
        "IPY_MODEL_7d0780b21ae14102960635a234169b45",
        "IPY_MODEL_34ac294cc01e4ee5b44cf60ff35067be",
        "IPY_MODEL_ade684b35a2b413688b12fc122eb0233",
        "IPY_MODEL_59a1827c77c64a94a3b7e4ea64efad16",
        "IPY_MODEL_742cd13c003242aca86bf20c370ddf10"
       ],
       "layout": "IPY_MODEL_9ff6cbeaf7f54470995674f10c4081a6"
      }
     },
     "ee29dee9d53b4dc0af1d2eb8fab42bd7": {
      "model_module": "@jupyter-widgets/controls",
      "model_module_version": "1.4.0",
      "model_name": "IntRangeSliderModel",
      "state": {
       "_model_name": "IntRangeSliderModel",
       "_view_name": "IntRangeSliderView",
       "layout": "IPY_MODEL_49d74e3f11d3482f997588540ddb382b",
       "max": 1000,
       "min": 30,
       "step": 10,
       "style": "IPY_MODEL_cedd5539e6974215b4b215fc0b43492d",
       "value": [
        30,
        100
       ]
      }
     },
     "ee45ca35c9b445c5b55dc69504667675": {
      "model_module": "@jupyter-widgets/controls",
      "model_module_version": "1.4.0",
      "model_name": "DescriptionStyleModel",
      "state": {
       "description_width": ""
      }
     },
     "eff12747631a4d8781f378c2600cffef": {
      "model_module": "@jupyter-widgets/controls",
      "model_module_version": "1.4.0",
      "model_name": "SliderStyleModel",
      "state": {
       "description_width": ""
      }
     },
     "f0f105f6acb64470b86f11151d482843": {
      "model_module": "@jupyter-widgets/output",
      "model_module_version": "1.0.0",
      "model_name": "OutputModel",
      "state": {
       "layout": "IPY_MODEL_78da65fe8c694866b19fea287b0cce2f"
      }
     },
     "f2dad8c4d0334008ad4b3a5433aa7fdf": {
      "model_module": "@jupyter-widgets/base",
      "model_module_version": "1.1.0",
      "model_name": "LayoutModel",
      "state": {}
     },
     "f401a291aee6468d839e30db63f7a48a": {
      "model_module": "@jupyter-widgets/controls",
      "model_module_version": "1.4.0",
      "model_name": "IntRangeSliderModel",
      "state": {
       "_model_name": "IntRangeSliderModel",
       "_view_name": "IntRangeSliderView",
       "layout": "IPY_MODEL_5b2bcf71e45740049a0aa164b7c501c0",
       "max": 1000,
       "min": 30,
       "step": 10,
       "style": "IPY_MODEL_eff12747631a4d8781f378c2600cffef",
       "value": [
        30,
        100
       ]
      }
     },
     "f67759eb94e645ed9bdfab48e59b6908": {
      "model_module": "@jupyter-widgets/base",
      "model_module_version": "1.1.0",
      "model_name": "LayoutModel",
      "state": {}
     },
     "f738c2de7fe84e9891b5a0c294927925": {
      "model_module": "@jupyter-widgets/controls",
      "model_module_version": "1.4.0",
      "model_name": "SliderStyleModel",
      "state": {
       "description_width": ""
      }
     },
     "f75910d1bc784f2e8923f4dc2d8a8979": {
      "model_module": "@jupyter-widgets/base",
      "model_module_version": "1.1.0",
      "model_name": "LayoutModel",
      "state": {}
     },
     "f79a663c8ecf4352aaad56df7c8c3d37": {
      "model_module": "@jupyter-widgets/controls",
      "model_module_version": "1.4.0",
      "model_name": "ButtonStyleModel",
      "state": {}
     },
     "f87fdbd23a314fd49fba43aac043abc4": {
      "model_module": "@jupyter-widgets/controls",
      "model_module_version": "1.4.0",
      "model_name": "DescriptionStyleModel",
      "state": {
       "description_width": ""
      }
     },
     "f9c3b055f7024ca9852921cd47cf886e": {
      "model_module": "@jupyter-widgets/base",
      "model_module_version": "1.1.0",
      "model_name": "LayoutModel",
      "state": {}
     },
     "f9d010e7862c4a028cdb8fcad92389c5": {
      "model_module": "@jupyter-widgets/controls",
      "model_module_version": "1.4.0",
      "model_name": "HTMLModel",
      "state": {
       "layout": "IPY_MODEL_fd56baf8443a4fa3acd2c300c8f20bd5",
       "style": "IPY_MODEL_4fe332c34d5746d782acb547ad5ce897",
       "value": "<strong>Dataset</strong>: covertype"
      }
     },
     "fa0a1c2d21144ded9dd6281e886bc461": {
      "model_module": "@jupyter-widgets/controls",
      "model_module_version": "1.4.0",
      "model_name": "TabModel",
      "state": {
       "_titles": {
        "0": "dt"
       },
       "children": [
        "IPY_MODEL_8168bb6c39004356b20680e45c80ec82"
       ],
       "layout": "IPY_MODEL_72c63aa3c8784c148284e3a27f1a9d57"
      }
     },
     "fc24158fe09b48efa5def7f675fc23fe": {
      "model_module": "@jupyter-widgets/base",
      "model_module_version": "1.1.0",
      "model_name": "LayoutModel",
      "state": {
       "margin": "0px 20px 0px 0px"
      }
     },
     "fd56baf8443a4fa3acd2c300c8f20bd5": {
      "model_module": "@jupyter-widgets/base",
      "model_module_version": "1.1.0",
      "model_name": "LayoutModel",
      "state": {}
     },
     "fe2266a5a1034cc589f923903cc98cd1": {
      "model_module": "@jupyter-widgets/controls",
      "model_module_version": "1.4.0",
      "model_name": "FloatLogSliderModel",
      "state": {
       "description": "C",
       "layout": "IPY_MODEL_c1e3f85709724d3cae367cedf583d83d",
       "max": 5,
       "min": -5,
       "step": 1,
       "style": "IPY_MODEL_83037f95a0e8477d97c84e948a775bdd",
       "value": 1000
      }
     },
     "fe3c003421654c94ac941fdd9ca6257f": {
      "model_module": "@jupyter-widgets/controls",
      "model_module_version": "1.4.0",
      "model_name": "VBoxModel",
      "state": {
       "children": [
        "IPY_MODEL_dedcea84237343a0a7d06e885e9d55e7",
        "IPY_MODEL_e7e072e763ef43fe92928a85b5626d5c",
        "IPY_MODEL_94d7140ae21e4144827fafff861d0fec",
        "IPY_MODEL_dda7b86f1cb84fbc913ee13b8d20e070",
        "IPY_MODEL_2305100d16c74e0bad7c29e8819d7c17",
        "IPY_MODEL_719d6f0dc74e4ec18dbf61c968b9cdc7",
        "IPY_MODEL_a93dd44e34d146bb91166254ec93499a",
        "IPY_MODEL_ffd1c338466c49858b93351f3ed32760"
       ],
       "layout": "IPY_MODEL_ff1819e276444626b503ef79b71e66db"
      }
     },
     "fea40033248a45ac9ccd77eccad3aad1": {
      "model_module": "@jupyter-widgets/controls",
      "model_module_version": "1.4.0",
      "model_name": "DescriptionStyleModel",
      "state": {
       "description_width": ""
      }
     },
     "ff04d2ab6a914612888d8e9365a92c9b": {
      "model_module": "@jupyter-widgets/controls",
      "model_module_version": "1.4.0",
      "model_name": "FloatLogSliderModel",
      "state": {
       "description": "C",
       "layout": "IPY_MODEL_78451837c741442489342e2f96d19a55",
       "max": 5,
       "min": -5,
       "step": 1,
       "style": "IPY_MODEL_c01035facc204f5e894da01f98a31eef",
       "value": 1000
      }
     },
     "ff1819e276444626b503ef79b71e66db": {
      "model_module": "@jupyter-widgets/base",
      "model_module_version": "1.1.0",
      "model_name": "LayoutModel",
      "state": {}
     },
     "ff553e73faf74d7db9f7291db592489b": {
      "model_module": "@jupyter-widgets/controls",
      "model_module_version": "1.4.0",
      "model_name": "HTMLModel",
      "state": {
       "layout": "IPY_MODEL_cab2351c4b6244cdbff1f2cfba8df389",
       "style": "IPY_MODEL_39ea758241534d72a7893c564fc11ed5",
       "value": "<strong>Size</strong>: 2000"
      }
     },
     "ffd1c338466c49858b93351f3ed32760": {
      "model_module": "@jupyter-widgets/controls",
      "model_module_version": "1.4.0",
      "model_name": "IntSliderModel",
      "state": {
       "description": "N. estim.",
       "layout": "IPY_MODEL_87a2dfb57d23428a80739d89a2d87d4c",
       "max": 200,
       "min": 2,
       "style": "IPY_MODEL_aef87cb90fa74154b611d60aed3b552c",
       "value": 30
      }
     }
    },
    "version_major": 2,
    "version_minor": 0
   }
  }
 },
 "nbformat": 4,
 "nbformat_minor": 2
}
