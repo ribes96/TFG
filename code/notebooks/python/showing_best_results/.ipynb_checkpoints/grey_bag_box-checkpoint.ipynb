{
 "cells": [
  {
   "cell_type": "markdown",
   "metadata": {},
   "source": [
    "Muestra para cada dataset todo lo que se puede hacer con el none_box"
   ]
  },
  {
   "cell_type": "code",
   "execution_count": null,
   "metadata": {},
   "outputs": [],
   "source": [
    "from demo_utils.demo10 import Demo10\n",
    "from demo_utils.general import SUPPORTED_DATASETS\n",
    "from IPython.display import Markdown as md\n",
    "from demo_utils.get_hyper_params import get_hyper_params"
   ]
  },
  {
   "cell_type": "code",
   "execution_count": null,
   "metadata": {},
   "outputs": [],
   "source": [
    "%%javascript\n",
    "IPython.OutputArea.prototype._should_scroll = function(lines) {\n",
    "    return false;\n",
    "}"
   ]
  },
  {
   "cell_type": "code",
   "execution_count": null,
   "metadata": {},
   "outputs": [],
   "source": [
    "import warnings\n",
    "warnings.filterwarnings('ignore')"
   ]
  },
  {
   "cell_type": "code",
   "execution_count": null,
   "metadata": {},
   "outputs": [],
   "source": [
    "# d10_data = {\n",
    "# #     'dts_name': testing_dataset,\n",
    "#     'dts_size': 1000,\n",
    "#     'features_range': (500, 501),\n",
    "#     'rbfsampler_gamma': 'UNUSED',\n",
    "#     'nystroem_gamma': 'UNUSED',\n",
    "#     'hparams': {'dt': {'max_depth': None,\n",
    "#                        'min_samples_split': 2,\n",
    "#                        'min_samples_leaf': 1,\n",
    "#                        'min_weight_fraction_leaf': 0.0,\n",
    "#                        'max_leaf_nodes': None,\n",
    "#                        'min_impurity_decrease': 0.0},\n",
    "#                 'logit': {'C': 1000.0},\n",
    "#                 'linear_svc': {'C': 5}}\n",
    "# }\n"
   ]
  },
  {
   "cell_type": "code",
   "execution_count": null,
   "metadata": {},
   "outputs": [],
   "source": [
    "d10_data = {\n",
    "#     'dts_name': testing_dataset,\n",
    "    'dts_size': 5000,\n",
    "    'features_range': (500, 501),\n",
    "}"
   ]
  },
  {
   "cell_type": "code",
   "execution_count": null,
   "metadata": {},
   "outputs": [],
   "source": [
    "def get_a_model(model_name, sampler_name, dts_name):\n",
    "    box_type = 'grey_bag'\n",
    "    n_estim = 50\n",
    "    # más adelante habrá que soportar distintas box\n",
    "\n",
    "    #     {'model_name': model_name,\n",
    "    #      'sampler_name': 'identity',\n",
    "    #      'sampler_gamma': None,\n",
    "    #      'model_params': {},\n",
    "    #      # 'box_type': 'none',\n",
    "    #      'box_type': box_type,\n",
    "    #      'n_estim': None,\n",
    "    #      'pca': False,\n",
    "    #      'pca_first': False}\n",
    "\n",
    "    ret_dic = {'model_name': model_name,\n",
    "#                'sampler_name': 'identity',\n",
    "               'sampler_name': sampler_name,\n",
    "               'sampler_gamma': None,\n",
    "               'model_params': {},\n",
    "               'box_type': box_type,\n",
    "               'n_estim': n_estim,\n",
    "               'pca': False,\n",
    "               'pca_first': False}\n",
    "\n",
    "    hyper_params = get_hyper_params(dts_name=dts_name, box_name=box_type,\n",
    "                                    model_name=model_name, sampler_name=sampler_name)\n",
    "    gamma = hyper_params.pop('gamma', None)\n",
    "#     ret_dic['sampler_gamma'] = gamma\n",
    "    ret_dic['gamma'] = gamma\n",
    "#     ret_dic['model_params'] = hyper_params\n",
    "    ret_dic['base_model_params'] = hyper_params\n",
    "    \n",
    "    if sampler_name == 'rff':\n",
    "        ret_dic['sampler_name'] = 'rbf'\n",
    "#     elif sampler_name == 'nystroem':\n",
    "#         ret_dic['sampler_name'] = 'nystroem'\n",
    "    \n",
    "    \n",
    "    return ret_dic"
   ]
  },
  {
   "cell_type": "code",
   "execution_count": null,
   "metadata": {},
   "outputs": [],
   "source": [
    "def test_dt(d10_data):\n",
    "    d10 = Demo10()\n",
    "    new_data = dict(d10_data)\n",
    "    dts_name = new_data['dts_name']\n",
    "    model_name = 'dt'\n",
    "    # dt solo, dt con rff y dt con nystroem\n",
    "    \n",
    "    m1 = get_a_model(model_name=model_name, sampler_name='identity', dts_name=dts_name)\n",
    "    m2 = get_a_model(model_name=model_name, sampler_name='rff', dts_name=dts_name)\n",
    "    m3 = get_a_model(model_name=model_name, sampler_name='nystroem', dts_name=dts_name)\n",
    "    \n",
    "    models = [m1, m2, m3,]\n",
    "    \n",
    "    new_data['models'] = models\n",
    "    d10.non_interactive(**new_data)\n",
    "    \n",
    "def test_logit(d10_data):\n",
    "    d10 = Demo10()\n",
    "    new_data = dict(d10_data)\n",
    "    dts_name = new_data['dts_name']\n",
    "    model_name = 'logit'\n",
    "    # logit solo, logit con rff y logit con nystroem\n",
    "    \n",
    "    m1 = get_a_model(model_name=model_name, sampler_name='identity', dts_name=dts_name)\n",
    "    m2 = get_a_model(model_name=model_name, sampler_name='rff', dts_name=dts_name)\n",
    "    m3 = get_a_model(model_name=model_name, sampler_name='nystroem', dts_name=dts_name)\n",
    "    \n",
    "    models = [m1, m2, m3,]\n",
    "    \n",
    "    new_data['models'] = models\n",
    "    d10.non_interactive(**new_data)\n",
    "    \n",
    "def test_linear_svc(d10_data):\n",
    "    d10 = Demo10()\n",
    "    new_data = dict(d10_data)\n",
    "    dts_name = new_data['dts_name']\n",
    "    model_name = 'linear_svc'\n",
    "    # linear_svc solo, linear_svc con rff y linear_svc con nystroem\n",
    "    \n",
    "    m1 = get_a_model(model_name=model_name, sampler_name='identity', dts_name=dts_name)\n",
    "    m2 = get_a_model(model_name=model_name, sampler_name='rff', dts_name=dts_name)\n",
    "    m3 = get_a_model(model_name=model_name, sampler_name='nystroem', dts_name=dts_name)\n",
    "    \n",
    "    models = [m1, m2, m3,]\n",
    "    \n",
    "    new_data['models'] = models\n",
    "    d10.non_interactive(**new_data)"
   ]
  },
  {
   "cell_type": "code",
   "execution_count": null,
   "metadata": {
    "code_folding": []
   },
   "outputs": [],
   "source": [
    "def test_dataset(d10_data, dts_name):\n",
    "    new_data = dict(d10_data)\n",
    "    new_data['dts_name'] = dts_name\n",
    "    display(md(f'# {dts_name}'))\n",
    "    test_dt(new_data)\n",
    "    test_logit(new_data)\n",
    "    test_linear_svc(new_data)"
   ]
  },
  {
   "cell_type": "code",
   "execution_count": null,
   "metadata": {},
   "outputs": [],
   "source": [
    "def test_everything():\n",
    "#     for dts_name in SUPPORTED_DATASETS:\n",
    "    for dts_name in ['segment', 'mnist', 'digits']:\n",
    "        test_dataset(d10_data, dts_name=dts_name)"
   ]
  },
  {
   "cell_type": "code",
   "execution_count": null,
   "metadata": {
    "scrolled": true
   },
   "outputs": [],
   "source": [
    "test_everything()"
   ]
  },
  {
   "cell_type": "code",
   "execution_count": null,
   "metadata": {},
   "outputs": [],
   "source": []
  }
 ],
 "metadata": {
  "hide_input": false,
  "kernelspec": {
   "display_name": "Python 3",
   "language": "python",
   "name": "python3"
  },
  "language_info": {
   "codemirror_mode": {
    "name": "ipython",
    "version": 3
   },
   "file_extension": ".py",
   "mimetype": "text/x-python",
   "name": "python",
   "nbconvert_exporter": "python",
   "pygments_lexer": "ipython3",
   "version": "3.6.7"
  },
  "varInspector": {
   "cols": {
    "lenName": 16,
    "lenType": 16,
    "lenVar": 40
   },
   "kernels_config": {
    "python": {
     "delete_cmd_postfix": "",
     "delete_cmd_prefix": "del ",
     "library": "var_list.py",
     "varRefreshCmd": "print(var_dic_list())"
    },
    "r": {
     "delete_cmd_postfix": ") ",
     "delete_cmd_prefix": "rm(",
     "library": "var_list.r",
     "varRefreshCmd": "cat(var_dic_list()) "
    }
   },
   "position": {
    "height": "144px",
    "left": "873.333px",
    "right": "20px",
    "top": "119px",
    "width": "350px"
   },
   "types_to_exclude": [
    "module",
    "function",
    "builtin_function_or_method",
    "instance",
    "_Feature"
   ],
   "window_display": true
  }
 },
 "nbformat": 4,
 "nbformat_minor": 2
}
