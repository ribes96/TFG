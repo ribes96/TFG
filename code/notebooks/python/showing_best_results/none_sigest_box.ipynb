{
 "cells": [
  {
   "cell_type": "markdown",
   "metadata": {},
   "source": [
    "Muestra para cada dataset todo lo que se puede hacer con el none_box"
   ]
  },
  {
   "cell_type": "code",
   "execution_count": 1,
   "metadata": {},
   "outputs": [],
   "source": [
    "from demo_utils.demo10 import Demo10\n",
    "from demo_utils.general import SUPPORTED_DATASETS\n",
    "from IPython.display import Markdown as md\n",
    "from demo_utils.get_hyper_params import get_hyper_params"
   ]
  },
  {
   "cell_type": "code",
   "execution_count": 2,
   "metadata": {},
   "outputs": [
    {
     "data": {
      "application/javascript": [
       "IPython.OutputArea.prototype._should_scroll = function(lines) {\n",
       "    return false;\n",
       "}\n"
      ],
      "text/plain": [
       "<IPython.core.display.Javascript object>"
      ]
     },
     "metadata": {},
     "output_type": "display_data"
    }
   ],
   "source": [
    "%%javascript\n",
    "IPython.OutputArea.prototype._should_scroll = function(lines) {\n",
    "    return false;\n",
    "}"
   ]
  },
  {
   "cell_type": "code",
   "execution_count": 3,
   "metadata": {},
   "outputs": [],
   "source": [
    "import warnings\n",
    "warnings.filterwarnings('ignore')"
   ]
  },
  {
   "cell_type": "code",
   "execution_count": 4,
   "metadata": {},
   "outputs": [],
   "source": [
    "# d10_data = {\n",
    "# #     'dts_name': testing_dataset,\n",
    "#     'dts_size': 1000,\n",
    "#     'features_range': (500, 501),\n",
    "#     'rbfsampler_gamma': 'UNUSED',\n",
    "#     'nystroem_gamma': 'UNUSED',\n",
    "#     'hparams': {'dt': {'max_depth': None,\n",
    "#                        'min_samples_split': 2,\n",
    "#                        'min_samples_leaf': 1,\n",
    "#                        'min_weight_fraction_leaf': 0.0,\n",
    "#                        'max_leaf_nodes': None,\n",
    "#                        'min_impurity_decrease': 0.0},\n",
    "#                 'logit': {'C': 1000.0},\n",
    "#                 'linear_svc': {'C': 5}}\n",
    "# }\n"
   ]
  },
  {
   "cell_type": "code",
   "execution_count": 5,
   "metadata": {},
   "outputs": [],
   "source": [
    "d10_data = {\n",
    "#     'dts_name': testing_dataset,\n",
    "    'dts_size': 2000,\n",
    "    'features_range': (500, 501),\n",
    "}"
   ]
  },
  {
   "cell_type": "code",
   "execution_count": 6,
   "metadata": {},
   "outputs": [],
   "source": [
    "def get_a_model(model_name, sampler_name, dts_name):\n",
    "    box_type = 'none'\n",
    "    n_estim = None\n",
    "    # más adelante habrá que soportar distintas box\n",
    "\n",
    "    #     {'model_name': model_name,\n",
    "    #      'sampler_name': 'identity',\n",
    "    #      'sampler_gamma': None,\n",
    "    #      'model_params': {},\n",
    "    #      # 'box_type': 'none',\n",
    "    #      'box_type': box_type,\n",
    "    #      'n_estim': None,\n",
    "    #      'pca': False,\n",
    "    #      'pca_first': False}\n",
    "\n",
    "    ret_dic = {'model_name': model_name,\n",
    "#                'sampler_name': 'identity',\n",
    "               'sampler_name': sampler_name,\n",
    "               'sampler_gamma': None,\n",
    "               'model_params': {},\n",
    "               'box_type': box_type,\n",
    "               'n_estim': n_estim,\n",
    "               'pca': False,\n",
    "               'pca_first': False}\n",
    "\n",
    "    hyper_params = get_hyper_params(dts_name=dts_name, box_name=f'{box_type}_sigest',\n",
    "                                    model_name=model_name, sampler_name=sampler_name)\n",
    "    gamma = hyper_params.pop('gamma', None)\n",
    "#     ret_dic['sampler_gamma'] = gamma\n",
    "    ret_dic['gamma'] = gamma\n",
    "#     ret_dic['model_params'] = hyper_params\n",
    "    ret_dic['base_model_params'] = hyper_params\n",
    "    \n",
    "    if sampler_name == 'rff':\n",
    "        ret_dic['sampler_name'] = 'rbf'\n",
    "#     elif sampler_name == 'nystroem':\n",
    "#         ret_dic['sampler_name'] = 'nystroem'\n",
    "    \n",
    "    \n",
    "    return ret_dic"
   ]
  },
  {
   "cell_type": "code",
   "execution_count": 7,
   "metadata": {},
   "outputs": [],
   "source": [
    "def test_dt(d10_data):\n",
    "    d10 = Demo10()\n",
    "    new_data = dict(d10_data)\n",
    "    dts_name = new_data['dts_name']\n",
    "    model_name = 'dt'\n",
    "    # dt solo, dt con rff y dt con nystroem\n",
    "    \n",
    "    m1 = get_a_model(model_name=model_name, sampler_name='identity', dts_name=dts_name)\n",
    "    m2 = get_a_model(model_name=model_name, sampler_name='rff', dts_name=dts_name)\n",
    "    m3 = get_a_model(model_name=model_name, sampler_name='nystroem', dts_name=dts_name)\n",
    "    \n",
    "    models = [m1, m2, m3,]\n",
    "    \n",
    "    new_data['models'] = models\n",
    "    d10.non_interactive(**new_data)\n",
    "    \n",
    "def test_logit(d10_data):\n",
    "    d10 = Demo10()\n",
    "    new_data = dict(d10_data)\n",
    "    dts_name = new_data['dts_name']\n",
    "    model_name = 'logit'\n",
    "    # logit solo, logit con rff y logit con nystroem\n",
    "    \n",
    "    m1 = get_a_model(model_name=model_name, sampler_name='identity', dts_name=dts_name)\n",
    "    m2 = get_a_model(model_name=model_name, sampler_name='rff', dts_name=dts_name)\n",
    "    m3 = get_a_model(model_name=model_name, sampler_name='nystroem', dts_name=dts_name)\n",
    "    \n",
    "    models = [m1, m2, m3,]\n",
    "    \n",
    "    new_data['models'] = models\n",
    "    d10.non_interactive(**new_data)\n",
    "    \n",
    "def test_linear_svc(d10_data):\n",
    "    d10 = Demo10()\n",
    "    new_data = dict(d10_data)\n",
    "    dts_name = new_data['dts_name']\n",
    "    model_name = 'linear_svc'\n",
    "    # linear_svc solo, linear_svc con rff y linear_svc con nystroem\n",
    "    \n",
    "    m1 = get_a_model(model_name=model_name, sampler_name='identity', dts_name=dts_name)\n",
    "    m2 = get_a_model(model_name=model_name, sampler_name='rff', dts_name=dts_name)\n",
    "    m3 = get_a_model(model_name=model_name, sampler_name='nystroem', dts_name=dts_name)\n",
    "    \n",
    "    models = [m1, m2, m3,]\n",
    "    \n",
    "    new_data['models'] = models\n",
    "    d10.non_interactive(**new_data)"
   ]
  },
  {
   "cell_type": "code",
   "execution_count": 8,
   "metadata": {},
   "outputs": [],
   "source": [
    "def test_dataset(d10_data, dts_name):\n",
    "    new_data = dict(d10_data)\n",
    "    new_data['dts_name'] = dts_name\n",
    "    display(md(f'# {dts_name}'))\n",
    "    test_dt(new_data)\n",
    "    test_logit(new_data)\n",
    "    test_linear_svc(new_data)"
   ]
  },
  {
   "cell_type": "code",
   "execution_count": 10,
   "metadata": {},
   "outputs": [],
   "source": [
    "def test_everything():\n",
    "    for dts_name in SUPPORTED_DATASETS:\n",
    "        test_dataset(d10_data, dts_name=dts_name)"
   ]
  },
  {
   "cell_type": "code",
   "execution_count": 10,
   "metadata": {
    "scrolled": true
   },
   "outputs": [
    {
     "data": {
      "text/markdown": [
       "# segment"
      ],
      "text/plain": [
       "<IPython.core.display.Markdown object>"
      ]
     },
     "metadata": {},
     "output_type": "display_data"
    },
    {
     "data": {
      "text/markdown": [
       "### Demo genérica v10"
      ],
      "text/plain": [
       "<IPython.core.display.Markdown object>"
      ]
     },
     "metadata": {},
     "output_type": "display_data"
    },
    {
     "data": {
      "application/vnd.jupyter.widget-view+json": {
       "model_id": "9a84e418b7f846c4b56f4421cbf89f7a",
       "version_major": 2,
       "version_minor": 0
      },
      "text/plain": [
       "Accordion(children=(HBox(children=(VBox(children=(HTML(value='<strong>Dataset</strong>: segment'),), layout=La…"
      ]
     },
     "metadata": {},
     "output_type": "display_data"
    },
    {
     "data": {
      "image/png": "[encoded data removed]",
      "text/plain": [
       "<Figure size 921.6x345.6 with 2 Axes>"
      ]
     },
     "metadata": {},
     "output_type": "display_data"
    },
    {
     "data": {
      "text/markdown": [
       "### Demo genérica v10"
      ],
      "text/plain": [
       "<IPython.core.display.Markdown object>"
      ]
     },
     "metadata": {},
     "output_type": "display_data"
    },
    {
     "data": {
      "application/vnd.jupyter.widget-view+json": {
       "model_id": "3b6f482b6c2a4877ab643bc46f264db7",
       "version_major": 2,
       "version_minor": 0
      },
      "text/plain": [
       "Accordion(children=(HBox(children=(VBox(children=(HTML(value='<strong>Dataset</strong>: segment'),), layout=La…"
      ]
     },
     "metadata": {},
     "output_type": "display_data"
    },
    {
     "data": {
      "image/png": "[encoded data removed]",
      "text/plain": [
       "<Figure size 921.6x345.6 with 2 Axes>"
      ]
     },
     "metadata": {},
     "output_type": "display_data"
    },
    {
     "data": {
      "text/markdown": [
       "### Demo genérica v10"
      ],
      "text/plain": [
       "<IPython.core.display.Markdown object>"
      ]
     },
     "metadata": {},
     "output_type": "display_data"
    },
    {
     "data": {
      "application/vnd.jupyter.widget-view+json": {
       "model_id": "c00b454cb95d4ab8af1bd488041bcc71",
       "version_major": 2,
       "version_minor": 0
      },
      "text/plain": [
       "Accordion(children=(HBox(children=(VBox(children=(HTML(value='<strong>Dataset</strong>: segment'),), layout=La…"
      ]
     },
     "metadata": {},
     "output_type": "display_data"
    },
    {
     "data": {
      "image/png": "[encoded data removed]",
      "text/plain": [
       "<Figure size 921.6x345.6 with 2 Axes>"
      ]
     },
     "metadata": {},
     "output_type": "display_data"
    },
    {
     "data": {
      "text/markdown": [
       "# covertype"
      ],
      "text/plain": [
       "<IPython.core.display.Markdown object>"
      ]
     },
     "metadata": {},
     "output_type": "display_data"
    },
    {
     "data": {
      "text/markdown": [
       "### Demo genérica v10"
      ],
      "text/plain": [
       "<IPython.core.display.Markdown object>"
      ]
     },
     "metadata": {},
     "output_type": "display_data"
    },
    {
     "data": {
      "application/vnd.jupyter.widget-view+json": {
       "model_id": "e50ec55f505c466184224e0dd20653d1",
       "version_major": 2,
       "version_minor": 0
      },
      "text/plain": [
       "Accordion(children=(HBox(children=(VBox(children=(HTML(value='<strong>Dataset</strong>: covertype'),), layout=…"
      ]
     },
     "metadata": {},
     "output_type": "display_data"
    },
    {
     "data": {
      "image/png": "[encoded data removed]",
      "text/plain": [
       "<Figure size 921.6x345.6 with 2 Axes>"
      ]
     },
     "metadata": {},
     "output_type": "display_data"
    },
    {
     "data": {
      "text/markdown": [
       "### Demo genérica v10"
      ],
      "text/plain": [
       "<IPython.core.display.Markdown object>"
      ]
     },
     "metadata": {},
     "output_type": "display_data"
    },
    {
     "data": {
      "application/vnd.jupyter.widget-view+json": {
       "model_id": "4abf728d91674649b1323a390601fb0b",
       "version_major": 2,
       "version_minor": 0
      },
      "text/plain": [
       "Accordion(children=(HBox(children=(VBox(children=(HTML(value='<strong>Dataset</strong>: covertype'),), layout=…"
      ]
     },
     "metadata": {},
     "output_type": "display_data"
    },
    {
     "data": {
      "image/png": "[encoded data removed]",
      "text/plain": [
       "<Figure size 921.6x345.6 with 2 Axes>"
      ]
     },
     "metadata": {},
     "output_type": "display_data"
    },
    {
     "data": {
      "text/markdown": [
       "### Demo genérica v10"
      ],
      "text/plain": [
       "<IPython.core.display.Markdown object>"
      ]
     },
     "metadata": {},
     "output_type": "display_data"
    },
    {
     "data": {
      "application/vnd.jupyter.widget-view+json": {
       "model_id": "7150e11a538b49f8a903aa27471ccde7",
       "version_major": 2,
       "version_minor": 0
      },
      "text/plain": [
       "Accordion(children=(HBox(children=(VBox(children=(HTML(value='<strong>Dataset</strong>: covertype'),), layout=…"
      ]
     },
     "metadata": {},
     "output_type": "display_data"
    },
    {
     "data": {
      "image/png": "[encoded data removed]",
      "text/plain": [
       "<Figure size 921.6x345.6 with 2 Axes>"
      ]
     },
     "metadata": {},
     "output_type": "display_data"
    },
    {
     "data": {
      "text/markdown": [
       "# digits"
      ],
      "text/plain": [
       "<IPython.core.display.Markdown object>"
      ]
     },
     "metadata": {},
     "output_type": "display_data"
    },
    {
     "data": {
      "text/markdown": [
       "### Demo genérica v10"
      ],
      "text/plain": [
       "<IPython.core.display.Markdown object>"
      ]
     },
     "metadata": {},
     "output_type": "display_data"
    },
    {
     "data": {
      "application/vnd.jupyter.widget-view+json": {
       "model_id": "d2210d6504ff4290ba15f64ee45602de",
       "version_major": 2,
       "version_minor": 0
      },
      "text/plain": [
       "Accordion(children=(HBox(children=(VBox(children=(HTML(value='<strong>Dataset</strong>: digits'),), layout=Lay…"
      ]
     },
     "metadata": {},
     "output_type": "display_data"
    },
    {
     "data": {
      "image/png": "[encoded data removed]",
      "text/plain": [
       "<Figure size 921.6x345.6 with 2 Axes>"
      ]
     },
     "metadata": {},
     "output_type": "display_data"
    },
    {
     "data": {
      "text/markdown": [
       "### Demo genérica v10"
      ],
      "text/plain": [
       "<IPython.core.display.Markdown object>"
      ]
     },
     "metadata": {},
     "output_type": "display_data"
    },
    {
     "data": {
      "application/vnd.jupyter.widget-view+json": {
       "model_id": "a54df70ebf4246f7af0352c9771628ba",
       "version_major": 2,
       "version_minor": 0
      },
      "text/plain": [
       "Accordion(children=(HBox(children=(VBox(children=(HTML(value='<strong>Dataset</strong>: digits'),), layout=Lay…"
      ]
     },
     "metadata": {},
     "output_type": "display_data"
    },
    {
     "data": {
      "image/png": "[encoded data removed]",
      "text/plain": [
       "<Figure size 921.6x345.6 with 2 Axes>"
      ]
     },
     "metadata": {},
     "output_type": "display_data"
    },
    {
     "data": {
      "text/markdown": [
       "### Demo genérica v10"
      ],
      "text/plain": [
       "<IPython.core.display.Markdown object>"
      ]
     },
     "metadata": {},
     "output_type": "display_data"
    },
    {
     "data": {
      "application/vnd.jupyter.widget-view+json": {
       "model_id": "0c5051977202424c97cb60b938f15459",
       "version_major": 2,
       "version_minor": 0
      },
      "text/plain": [
       "Accordion(children=(HBox(children=(VBox(children=(HTML(value='<strong>Dataset</strong>: digits'),), layout=Lay…"
      ]
     },
     "metadata": {},
     "output_type": "display_data"
    },
    {
     "data": {
      "image/png": "[encoded data removed]",
      "text/plain": [
       "<Figure size 921.6x345.6 with 2 Axes>"
      ]
     },
     "metadata": {},
     "output_type": "display_data"
    },
    {
     "data": {
      "text/markdown": [
       "# fall_detection"
      ],
      "text/plain": [
       "<IPython.core.display.Markdown object>"
      ]
     },
     "metadata": {},
     "output_type": "display_data"
    },
    {
     "data": {
      "text/markdown": [
       "### Demo genérica v10"
      ],
      "text/plain": [
       "<IPython.core.display.Markdown object>"
      ]
     },
     "metadata": {},
     "output_type": "display_data"
    },
    {
     "data": {
      "application/vnd.jupyter.widget-view+json": {
       "model_id": "1914d0b167ed403d9cf25db08e249b2b",
       "version_major": 2,
       "version_minor": 0
      },
      "text/plain": [
       "Accordion(children=(HBox(children=(VBox(children=(HTML(value='<strong>Dataset</strong>: fall_detection'),), la…"
      ]
     },
     "metadata": {},
     "output_type": "display_data"
    },
    {
     "data": {
      "image/png": "[encoded data removed]",
      "text/plain": [
       "<Figure size 921.6x345.6 with 2 Axes>"
      ]
     },
     "metadata": {},
     "output_type": "display_data"
    },
    {
     "data": {
      "text/markdown": [
       "### Demo genérica v10"
      ],
      "text/plain": [
       "<IPython.core.display.Markdown object>"
      ]
     },
     "metadata": {},
     "output_type": "display_data"
    },
    {
     "data": {
      "application/vnd.jupyter.widget-view+json": {
       "model_id": "2c912053ed6b48bb95fb67cd145c0e26",
       "version_major": 2,
       "version_minor": 0
      },
      "text/plain": [
       "Accordion(children=(HBox(children=(VBox(children=(HTML(value='<strong>Dataset</strong>: fall_detection'),), la…"
      ]
     },
     "metadata": {},
     "output_type": "display_data"
    },
    {
     "data": {
      "image/png": "[encoded data removed]",
      "text/plain": [
       "<Figure size 921.6x345.6 with 2 Axes>"
      ]
     },
     "metadata": {},
     "output_type": "display_data"
    },
    {
     "data": {
      "text/markdown": [
       "### Demo genérica v10"
      ],
      "text/plain": [
       "<IPython.core.display.Markdown object>"
      ]
     },
     "metadata": {},
     "output_type": "display_data"
    },
    {
     "data": {
      "application/vnd.jupyter.widget-view+json": {
       "model_id": "4e2b32db1b204315bca5b0751db796a7",
       "version_major": 2,
       "version_minor": 0
      },
      "text/plain": [
       "Accordion(children=(HBox(children=(VBox(children=(HTML(value='<strong>Dataset</strong>: fall_detection'),), la…"
      ]
     },
     "metadata": {},
     "output_type": "display_data"
    },
    {
     "data": {
      "image/png": "[encoded data removed]",
      "text/plain": [
       "<Figure size 921.6x345.6 with 2 Axes>"
      ]
     },
     "metadata": {},
     "output_type": "display_data"
    },
    {
     "data": {
      "text/markdown": [
       "# mnist"
      ],
      "text/plain": [
       "<IPython.core.display.Markdown object>"
      ]
     },
     "metadata": {},
     "output_type": "display_data"
    },
    {
     "data": {
      "text/markdown": [
       "### Demo genérica v10"
      ],
      "text/plain": [
       "<IPython.core.display.Markdown object>"
      ]
     },
     "metadata": {},
     "output_type": "display_data"
    },
    {
     "data": {
      "application/vnd.jupyter.widget-view+json": {
       "model_id": "64ee49804f94441d8a812b870fce4aea",
       "version_major": 2,
       "version_minor": 0
      },
      "text/plain": [
       "Accordion(children=(HBox(children=(VBox(children=(HTML(value='<strong>Dataset</strong>: mnist'),), layout=Layo…"
      ]
     },
     "metadata": {},
     "output_type": "display_data"
    },
    {
     "data": {
      "image/png": "[encoded data removed]",
      "text/plain": [
       "<Figure size 921.6x345.6 with 2 Axes>"
      ]
     },
     "metadata": {},
     "output_type": "display_data"
    },
    {
     "data": {
      "text/markdown": [
       "### Demo genérica v10"
      ],
      "text/plain": [
       "<IPython.core.display.Markdown object>"
      ]
     },
     "metadata": {},
     "output_type": "display_data"
    },
    {
     "data": {
      "application/vnd.jupyter.widget-view+json": {
       "model_id": "6ce233b8906148e98744050c41b0892d",
       "version_major": 2,
       "version_minor": 0
      },
      "text/plain": [
       "Accordion(children=(HBox(children=(VBox(children=(HTML(value='<strong>Dataset</strong>: mnist'),), layout=Layo…"
      ]
     },
     "metadata": {},
     "output_type": "display_data"
    },
    {
     "data": {
      "image/png": "[encoded data removed]",
      "text/plain": [
       "<Figure size 921.6x345.6 with 2 Axes>"
      ]
     },
     "metadata": {},
     "output_type": "display_data"
    },
    {
     "data": {
      "text/markdown": [
       "### Demo genérica v10"
      ],
      "text/plain": [
       "<IPython.core.display.Markdown object>"
      ]
     },
     "metadata": {},
     "output_type": "display_data"
    },
    {
     "data": {
      "application/vnd.jupyter.widget-view+json": {
       "model_id": "f42a2eaa194041d3b481a8b9d2106a4e",
       "version_major": 2,
       "version_minor": 0
      },
      "text/plain": [
       "Accordion(children=(HBox(children=(VBox(children=(HTML(value='<strong>Dataset</strong>: mnist'),), layout=Layo…"
      ]
     },
     "metadata": {},
     "output_type": "display_data"
    },
    {
     "data": {
      "image/png": "[encoded data removed]",
      "text/plain": [
       "<Figure size 921.6x345.6 with 2 Axes>"
      ]
     },
     "metadata": {},
     "output_type": "display_data"
    },
    {
     "data": {
      "text/markdown": [
       "# pen_digits"
      ],
      "text/plain": [
       "<IPython.core.display.Markdown object>"
      ]
     },
     "metadata": {},
     "output_type": "display_data"
    },
    {
     "data": {
      "text/markdown": [
       "### Demo genérica v10"
      ],
      "text/plain": [
       "<IPython.core.display.Markdown object>"
      ]
     },
     "metadata": {},
     "output_type": "display_data"
    },
    {
     "data": {
      "application/vnd.jupyter.widget-view+json": {
       "model_id": "00796c2385494c6d8e198a615ab2ae66",
       "version_major": 2,
       "version_minor": 0
      },
      "text/plain": [
       "Accordion(children=(HBox(children=(VBox(children=(HTML(value='<strong>Dataset</strong>: pen_digits'),), layout…"
      ]
     },
     "metadata": {},
     "output_type": "display_data"
    },
    {
     "data": {
      "image/png": "[encoded data removed]",
      "text/plain": [
       "<Figure size 921.6x345.6 with 2 Axes>"
      ]
     },
     "metadata": {},
     "output_type": "display_data"
    },
    {
     "data": {
      "text/markdown": [
       "### Demo genérica v10"
      ],
      "text/plain": [
       "<IPython.core.display.Markdown object>"
      ]
     },
     "metadata": {},
     "output_type": "display_data"
    },
    {
     "data": {
      "application/vnd.jupyter.widget-view+json": {
       "model_id": "1d0a2fd733e640a3b7d8894c3390655c",
       "version_major": 2,
       "version_minor": 0
      },
      "text/plain": [
       "Accordion(children=(HBox(children=(VBox(children=(HTML(value='<strong>Dataset</strong>: pen_digits'),), layout…"
      ]
     },
     "metadata": {},
     "output_type": "display_data"
    },
    {
     "data": {
      "image/png": "[encoded data removed]",
      "text/plain": [
       "<Figure size 921.6x345.6 with 2 Axes>"
      ]
     },
     "metadata": {},
     "output_type": "display_data"
    },
    {
     "data": {
      "text/markdown": [
       "### Demo genérica v10"
      ],
      "text/plain": [
       "<IPython.core.display.Markdown object>"
      ]
     },
     "metadata": {},
     "output_type": "display_data"
    },
    {
     "data": {
      "application/vnd.jupyter.widget-view+json": {
       "model_id": "72081e890462465999eb4eb46e7d819c",
       "version_major": 2,
       "version_minor": 0
      },
      "text/plain": [
       "Accordion(children=(HBox(children=(VBox(children=(HTML(value='<strong>Dataset</strong>: pen_digits'),), layout…"
      ]
     },
     "metadata": {},
     "output_type": "display_data"
    },
    {
     "data": {
      "image/png": "[encoded data removed]",
      "text/plain": [
       "<Figure size 921.6x345.6 with 2 Axes>"
      ]
     },
     "metadata": {},
     "output_type": "display_data"
    },
    {
     "data": {
      "text/markdown": [
       "# satellite"
      ],
      "text/plain": [
       "<IPython.core.display.Markdown object>"
      ]
     },
     "metadata": {},
     "output_type": "display_data"
    },
    {
     "ename": "TypeError",
     "evalue": "'NoneType' object is not subscriptable",
     "output_type": "error",
     "traceback": [
      "\u001b[0;31m---------------------------------------------------------------------------\u001b[0m",
      "\u001b[0;31mTypeError\u001b[0m                                 Traceback (most recent call last)",
      "\u001b[0;32m<ipython-input-10-4342265fa9e8>\u001b[0m in \u001b[0;36m<module>\u001b[0;34m\u001b[0m\n\u001b[0;32m----> 1\u001b[0;31m \u001b[0mtest_everything\u001b[0m\u001b[0;34m(\u001b[0m\u001b[0;34m)\u001b[0m\u001b[0;34m\u001b[0m\u001b[0;34m\u001b[0m\u001b[0m\n\u001b[0m",
      "\u001b[0;32m<ipython-input-9-3359b61d65f1>\u001b[0m in \u001b[0;36mtest_everything\u001b[0;34m()\u001b[0m\n\u001b[1;32m      1\u001b[0m \u001b[0;32mdef\u001b[0m \u001b[0mtest_everything\u001b[0m\u001b[0;34m(\u001b[0m\u001b[0;34m)\u001b[0m\u001b[0;34m:\u001b[0m\u001b[0;34m\u001b[0m\u001b[0;34m\u001b[0m\u001b[0m\n\u001b[1;32m      2\u001b[0m     \u001b[0;32mfor\u001b[0m \u001b[0mdts_name\u001b[0m \u001b[0;32min\u001b[0m \u001b[0mSUPPORTED_DATASETS\u001b[0m\u001b[0;34m:\u001b[0m\u001b[0;34m\u001b[0m\u001b[0;34m\u001b[0m\u001b[0m\n\u001b[0;32m----> 3\u001b[0;31m         \u001b[0mtest_dataset\u001b[0m\u001b[0;34m(\u001b[0m\u001b[0md10_data\u001b[0m\u001b[0;34m,\u001b[0m \u001b[0mdts_name\u001b[0m\u001b[0;34m=\u001b[0m\u001b[0mdts_name\u001b[0m\u001b[0;34m)\u001b[0m\u001b[0;34m\u001b[0m\u001b[0;34m\u001b[0m\u001b[0m\n\u001b[0m",
      "\u001b[0;32m<ipython-input-8-f8e6a9737f3b>\u001b[0m in \u001b[0;36mtest_dataset\u001b[0;34m(d10_data, dts_name)\u001b[0m\n\u001b[1;32m      3\u001b[0m     \u001b[0mnew_data\u001b[0m\u001b[0;34m[\u001b[0m\u001b[0;34m'dts_name'\u001b[0m\u001b[0;34m]\u001b[0m \u001b[0;34m=\u001b[0m \u001b[0mdts_name\u001b[0m\u001b[0;34m\u001b[0m\u001b[0;34m\u001b[0m\u001b[0m\n\u001b[1;32m      4\u001b[0m     \u001b[0mdisplay\u001b[0m\u001b[0;34m(\u001b[0m\u001b[0mmd\u001b[0m\u001b[0;34m(\u001b[0m\u001b[0;34mf'# {dts_name}'\u001b[0m\u001b[0;34m)\u001b[0m\u001b[0;34m)\u001b[0m\u001b[0;34m\u001b[0m\u001b[0;34m\u001b[0m\u001b[0m\n\u001b[0;32m----> 5\u001b[0;31m     \u001b[0mtest_dt\u001b[0m\u001b[0;34m(\u001b[0m\u001b[0mnew_data\u001b[0m\u001b[0;34m)\u001b[0m\u001b[0;34m\u001b[0m\u001b[0;34m\u001b[0m\u001b[0m\n\u001b[0m\u001b[1;32m      6\u001b[0m     \u001b[0mtest_logit\u001b[0m\u001b[0;34m(\u001b[0m\u001b[0mnew_data\u001b[0m\u001b[0;34m)\u001b[0m\u001b[0;34m\u001b[0m\u001b[0;34m\u001b[0m\u001b[0m\n\u001b[1;32m      7\u001b[0m     \u001b[0mtest_linear_svc\u001b[0m\u001b[0;34m(\u001b[0m\u001b[0mnew_data\u001b[0m\u001b[0;34m)\u001b[0m\u001b[0;34m\u001b[0m\u001b[0;34m\u001b[0m\u001b[0m\n",
      "\u001b[0;32m<ipython-input-7-9fab6264cdd0>\u001b[0m in \u001b[0;36mtest_dt\u001b[0;34m(d10_data)\u001b[0m\n\u001b[1;32m      6\u001b[0m     \u001b[0;31m# dt solo, dt con rff y dt con nystroem\u001b[0m\u001b[0;34m\u001b[0m\u001b[0;34m\u001b[0m\u001b[0;34m\u001b[0m\u001b[0m\n\u001b[1;32m      7\u001b[0m \u001b[0;34m\u001b[0m\u001b[0m\n\u001b[0;32m----> 8\u001b[0;31m     \u001b[0mm1\u001b[0m \u001b[0;34m=\u001b[0m \u001b[0mget_a_model\u001b[0m\u001b[0;34m(\u001b[0m\u001b[0mmodel_name\u001b[0m\u001b[0;34m=\u001b[0m\u001b[0mmodel_name\u001b[0m\u001b[0;34m,\u001b[0m \u001b[0msampler_name\u001b[0m\u001b[0;34m=\u001b[0m\u001b[0;34m'identity'\u001b[0m\u001b[0;34m,\u001b[0m \u001b[0mdts_name\u001b[0m\u001b[0;34m=\u001b[0m\u001b[0mdts_name\u001b[0m\u001b[0;34m)\u001b[0m\u001b[0;34m\u001b[0m\u001b[0;34m\u001b[0m\u001b[0m\n\u001b[0m\u001b[1;32m      9\u001b[0m     \u001b[0mm2\u001b[0m \u001b[0;34m=\u001b[0m \u001b[0mget_a_model\u001b[0m\u001b[0;34m(\u001b[0m\u001b[0mmodel_name\u001b[0m\u001b[0;34m=\u001b[0m\u001b[0mmodel_name\u001b[0m\u001b[0;34m,\u001b[0m \u001b[0msampler_name\u001b[0m\u001b[0;34m=\u001b[0m\u001b[0;34m'rff'\u001b[0m\u001b[0;34m,\u001b[0m \u001b[0mdts_name\u001b[0m\u001b[0;34m=\u001b[0m\u001b[0mdts_name\u001b[0m\u001b[0;34m)\u001b[0m\u001b[0;34m\u001b[0m\u001b[0;34m\u001b[0m\u001b[0m\n\u001b[1;32m     10\u001b[0m     \u001b[0mm3\u001b[0m \u001b[0;34m=\u001b[0m \u001b[0mget_a_model\u001b[0m\u001b[0;34m(\u001b[0m\u001b[0mmodel_name\u001b[0m\u001b[0;34m=\u001b[0m\u001b[0mmodel_name\u001b[0m\u001b[0;34m,\u001b[0m \u001b[0msampler_name\u001b[0m\u001b[0;34m=\u001b[0m\u001b[0;34m'nystroem'\u001b[0m\u001b[0;34m,\u001b[0m \u001b[0mdts_name\u001b[0m\u001b[0;34m=\u001b[0m\u001b[0mdts_name\u001b[0m\u001b[0;34m)\u001b[0m\u001b[0;34m\u001b[0m\u001b[0;34m\u001b[0m\u001b[0m\n",
      "\u001b[0;32m<ipython-input-6-fd426da7f38a>\u001b[0m in \u001b[0;36mget_a_model\u001b[0;34m(model_name, sampler_name, dts_name)\u001b[0m\n\u001b[1;32m     25\u001b[0m \u001b[0;34m\u001b[0m\u001b[0m\n\u001b[1;32m     26\u001b[0m     hyper_params = get_hyper_params(dts_name=dts_name, box_name=f'{box_type}_sigest',\n\u001b[0;32m---> 27\u001b[0;31m                                     model_name=model_name, sampler_name=sampler_name)\n\u001b[0m\u001b[1;32m     28\u001b[0m     \u001b[0mgamma\u001b[0m \u001b[0;34m=\u001b[0m \u001b[0mhyper_params\u001b[0m\u001b[0;34m.\u001b[0m\u001b[0mpop\u001b[0m\u001b[0;34m(\u001b[0m\u001b[0;34m'gamma'\u001b[0m\u001b[0;34m,\u001b[0m \u001b[0;32mNone\u001b[0m\u001b[0;34m)\u001b[0m\u001b[0;34m\u001b[0m\u001b[0;34m\u001b[0m\u001b[0m\n\u001b[1;32m     29\u001b[0m \u001b[0;31m#     ret_dic['sampler_gamma'] = gamma\u001b[0m\u001b[0;34m\u001b[0m\u001b[0;34m\u001b[0m\u001b[0;34m\u001b[0m\u001b[0m\n",
      "\u001b[0;32m~/git/TFG/code/notebooks/python/demo_utils/demo_utils/get_hyper_params.py\u001b[0m in \u001b[0;36mget_hyper_params\u001b[0;34m(dts_name, box_name, model_name, sampler_name)\u001b[0m\n\u001b[1;32m    185\u001b[0m \u001b[0;34m\u001b[0m\u001b[0m\n\u001b[1;32m    186\u001b[0m     \u001b[0mdic\u001b[0m \u001b[0;34m=\u001b[0m \u001b[0mcall_func\u001b[0m\u001b[0;34m(\u001b[0m\u001b[0;34m)\u001b[0m\u001b[0;34m\u001b[0m\u001b[0;34m\u001b[0m\u001b[0m\n\u001b[0;32m--> 187\u001b[0;31m     \u001b[0mmodel_dic\u001b[0m \u001b[0;34m=\u001b[0m \u001b[0mdic\u001b[0m\u001b[0;34m[\u001b[0m\u001b[0mmodel_name\u001b[0m\u001b[0;34m]\u001b[0m\u001b[0;34m\u001b[0m\u001b[0;34m\u001b[0m\u001b[0m\n\u001b[0m\u001b[1;32m    188\u001b[0m     \u001b[0msampler_dic\u001b[0m \u001b[0;34m=\u001b[0m \u001b[0mmodel_dic\u001b[0m\u001b[0;34m[\u001b[0m\u001b[0msampler_name\u001b[0m\u001b[0;34m]\u001b[0m\u001b[0;34m\u001b[0m\u001b[0;34m\u001b[0m\u001b[0m\n\u001b[1;32m    189\u001b[0m \u001b[0;34m\u001b[0m\u001b[0m\n",
      "\u001b[0;31mTypeError\u001b[0m: 'NoneType' object is not subscriptable"
     ]
    }
   ],
   "source": [
    "test_everything()"
   ]
  },
  {
   "cell_type": "code",
   "execution_count": 11,
   "metadata": {},
   "outputs": [
    {
     "data": {
      "text/markdown": [
       "# satellite"
      ],
      "text/plain": [
       "<IPython.core.display.Markdown object>"
      ]
     },
     "metadata": {},
     "output_type": "display_data"
    },
    {
     "data": {
      "text/markdown": [
       "### Demo genérica v10"
      ],
      "text/plain": [
       "<IPython.core.display.Markdown object>"
      ]
     },
     "metadata": {},
     "output_type": "display_data"
    },
    {
     "data": {
      "application/vnd.jupyter.widget-view+json": {
       "model_id": "691d459d037d4ba6be360a51a537ba04",
       "version_major": 2,
       "version_minor": 0
      },
      "text/plain": [
       "Accordion(children=(HBox(children=(VBox(children=(HTML(value='<strong>Dataset</strong>: satellite'),), layout=…"
      ]
     },
     "metadata": {},
     "output_type": "display_data"
    },
    {
     "data": {
      "image/png": "[encoded data removed]",
      "text/plain": [
       "<Figure size 921.6x345.6 with 2 Axes>"
      ]
     },
     "metadata": {},
     "output_type": "display_data"
    },
    {
     "data": {
      "text/markdown": [
       "### Demo genérica v10"
      ],
      "text/plain": [
       "<IPython.core.display.Markdown object>"
      ]
     },
     "metadata": {},
     "output_type": "display_data"
    },
    {
     "data": {
      "application/vnd.jupyter.widget-view+json": {
       "model_id": "beea0f2486944976b83f301948f1d466",
       "version_major": 2,
       "version_minor": 0
      },
      "text/plain": [
       "Accordion(children=(HBox(children=(VBox(children=(HTML(value='<strong>Dataset</strong>: satellite'),), layout=…"
      ]
     },
     "metadata": {},
     "output_type": "display_data"
    },
    {
     "data": {
      "image/png": "[encoded data removed]",
      "text/plain": [
       "<Figure size 921.6x345.6 with 2 Axes>"
      ]
     },
     "metadata": {},
     "output_type": "display_data"
    },
    {
     "data": {
      "text/markdown": [
       "### Demo genérica v10"
      ],
      "text/plain": [
       "<IPython.core.display.Markdown object>"
      ]
     },
     "metadata": {},
     "output_type": "display_data"
    },
    {
     "data": {
      "application/vnd.jupyter.widget-view+json": {
       "model_id": "9aee9cbbaa234d279d650d979a2e4faa",
       "version_major": 2,
       "version_minor": 0
      },
      "text/plain": [
       "Accordion(children=(HBox(children=(VBox(children=(HTML(value='<strong>Dataset</strong>: satellite'),), layout=…"
      ]
     },
     "metadata": {},
     "output_type": "display_data"
    },
    {
     "data": {
      "image/png": "[encoded data removed]",
      "text/plain": [
       "<Figure size 921.6x345.6 with 2 Axes>"
      ]
     },
     "metadata": {},
     "output_type": "display_data"
    }
   ],
   "source": [
    "test_dataset(d10_data, dts_name='satellite')"
   ]
  },
  {
   "cell_type": "code",
   "execution_count": 12,
   "metadata": {},
   "outputs": [
    {
     "data": {
      "text/markdown": [
       "# vowel"
      ],
      "text/plain": [
       "<IPython.core.display.Markdown object>"
      ]
     },
     "metadata": {},
     "output_type": "display_data"
    },
    {
     "data": {
      "text/markdown": [
       "### Demo genérica v10"
      ],
      "text/plain": [
       "<IPython.core.display.Markdown object>"
      ]
     },
     "metadata": {},
     "output_type": "display_data"
    },
    {
     "data": {
      "application/vnd.jupyter.widget-view+json": {
       "model_id": "d73fb540e9ca4948aef03011efa9c1f0",
       "version_major": 2,
       "version_minor": 0
      },
      "text/plain": [
       "Accordion(children=(HBox(children=(VBox(children=(HTML(value='<strong>Dataset</strong>: vowel'),), layout=Layo…"
      ]
     },
     "metadata": {},
     "output_type": "display_data"
    },
    {
     "data": {
      "image/png": "[encoded data removed]",
      "text/plain": [
       "<Figure size 921.6x345.6 with 2 Axes>"
      ]
     },
     "metadata": {},
     "output_type": "display_data"
    },
    {
     "data": {
      "text/markdown": [
       "### Demo genérica v10"
      ],
      "text/plain": [
       "<IPython.core.display.Markdown object>"
      ]
     },
     "metadata": {},
     "output_type": "display_data"
    },
    {
     "data": {
      "application/vnd.jupyter.widget-view+json": {
       "model_id": "e83e22ae42bd4761a015096ec99c207e",
       "version_major": 2,
       "version_minor": 0
      },
      "text/plain": [
       "Accordion(children=(HBox(children=(VBox(children=(HTML(value='<strong>Dataset</strong>: vowel'),), layout=Layo…"
      ]
     },
     "metadata": {},
     "output_type": "display_data"
    },
    {
     "data": {
      "image/png": "[encoded data removed]",
      "text/plain": [
       "<Figure size 921.6x345.6 with 2 Axes>"
      ]
     },
     "metadata": {},
     "output_type": "display_data"
    },
    {
     "data": {
      "text/markdown": [
       "### Demo genérica v10"
      ],
      "text/plain": [
       "<IPython.core.display.Markdown object>"
      ]
     },
     "metadata": {},
     "output_type": "display_data"
    },
    {
     "data": {
      "application/vnd.jupyter.widget-view+json": {
       "model_id": "f2309a1b6b694251b03346849894dcb1",
       "version_major": 2,
       "version_minor": 0
      },
      "text/plain": [
       "Accordion(children=(HBox(children=(VBox(children=(HTML(value='<strong>Dataset</strong>: vowel'),), layout=Layo…"
      ]
     },
     "metadata": {},
     "output_type": "display_data"
    },
    {
     "data": {
      "image/png": "[encoded data removed]",
      "text/plain": [
       "<Figure size 921.6x345.6 with 2 Axes>"
      ]
     },
     "metadata": {},
     "output_type": "display_data"
    }
   ],
   "source": [
    "test_dataset(d10_data, dts_name='vowel')"
   ]
  },
  {
   "cell_type": "code",
   "execution_count": null,
   "metadata": {},
   "outputs": [],
   "source": []
  }
 ],
 "metadata": {
  "hide_input": false,
  "kernelspec": {
   "display_name": "Python 3",
   "language": "python",
   "name": "python3"
  },
  "language_info": {
   "codemirror_mode": {
    "name": "ipython",
    "version": 3
   },
   "file_extension": ".py",
   "mimetype": "text/x-python",
   "name": "python",
   "nbconvert_exporter": "python",
   "pygments_lexer": "ipython3",
   "version": "3.6.7"
  },
  "notify_time": "5",
  "varInspector": {
   "cols": {
    "lenName": 16,
    "lenType": 16,
    "lenVar": 40
   },
   "kernels_config": {
    "python": {
     "delete_cmd_postfix": "",
     "delete_cmd_prefix": "del ",
     "library": "var_list.py",
     "varRefreshCmd": "print(var_dic_list())"
    },
    "r": {
     "delete_cmd_postfix": ") ",
     "delete_cmd_prefix": "rm(",
     "library": "var_list.r",
     "varRefreshCmd": "cat(var_dic_list()) "
    }
   },
   "types_to_exclude": [
    "module",
    "function",
    "builtin_function_or_method",
    "instance",
    "_Feature"
   ],
   "window_display": true
  },
  "widgets": {
   "application/vnd.jupyter.widget-state+json": {
    "state": {
     "0012eea19d0d4a31afb8ed8f5292102b": {
      "model_module": "@jupyter-widgets/controls",
      "model_module_version": "1.4.0",
      "model_name": "IntRangeSliderModel",
      "state": {
       "_model_name": "IntRangeSliderModel",
       "_view_name": "IntRangeSliderView",
       "layout": "IPY_MODEL_a737f0357aab48e983e47df12f478473",
       "max": 1000,
       "min": 30,
       "step": 10,
       "style": "IPY_MODEL_e551ec006d6a4d3699b9e982ef8ecca6",
       "value": [
        30,
        100
       ]
      }
     },
     "0026a67f836a4809a115693a4f3c5d5c": {
      "model_module": "@jupyter-widgets/base",
      "model_module_version": "1.1.0",
      "model_name": "LayoutModel",
      "state": {}
     },
     "005116c5947d4b27b222132eaf60f5fa": {
      "model_module": "@jupyter-widgets/base",
      "model_module_version": "1.1.0",
      "model_name": "LayoutModel",
      "state": {}
     },
     "0058c56eb7fc494f81b809904d9e5ab7": {
      "model_module": "@jupyter-widgets/output",
      "model_module_version": "1.0.0",
      "model_name": "OutputModel",
      "state": {
       "layout": "IPY_MODEL_3120a729f8be4a7cb24ddb41bdf886f9"
      }
     },
     "006a456aff4a49d7a8650d7a73d33582": {
      "model_module": "@jupyter-widgets/base",
      "model_module_version": "1.1.0",
      "model_name": "LayoutModel",
      "state": {}
     },
     "00796c2385494c6d8e198a615ab2ae66": {
      "model_module": "@jupyter-widgets/controls",
      "model_module_version": "1.4.0",
      "model_name": "AccordionModel",
      "state": {
       "_titles": {
        "0": "Info run"
       },
       "children": [
        "IPY_MODEL_b06605a7f89843fdb92c113a41ed4564"
       ],
       "layout": "IPY_MODEL_0a0bc992fa024c2683916b3798aa7d45"
      }
     },
     "00eb80f6e9694ff997d3c0db57dcb6ca": {
      "model_module": "@jupyter-widgets/base",
      "model_module_version": "1.1.0",
      "model_name": "LayoutModel",
      "state": {}
     },
     "0142c7fce70a488292e7cdd30a416550": {
      "model_module": "@jupyter-widgets/controls",
      "model_module_version": "1.4.0",
      "model_name": "FloatLogSliderModel",
      "state": {
       "description": "C",
       "layout": "IPY_MODEL_655a4e8a161245e693e9b87806637b16",
       "max": 5,
       "min": -5,
       "step": 1,
       "style": "IPY_MODEL_e8b28acbaf1744eaa88d936fd87e40c8",
       "value": 1000
      }
     },
     "014cc717372648d0a8ede43e279b6c6b": {
      "model_module": "@jupyter-widgets/base",
      "model_module_version": "1.1.0",
      "model_name": "LayoutModel",
      "state": {}
     },
     "01564458e49b4a0ca390cec31469109f": {
      "model_module": "@jupyter-widgets/base",
      "model_module_version": "1.1.0",
      "model_name": "LayoutModel",
      "state": {}
     },
     "015c15cc34854a2ca982c1d90a114b7a": {
      "model_module": "@jupyter-widgets/controls",
      "model_module_version": "1.4.0",
      "model_name": "ButtonStyleModel",
      "state": {}
     },
     "0161f15dc0114bbc955aa3323a84432c": {
      "model_module": "@jupyter-widgets/controls",
      "model_module_version": "1.4.0",
      "model_name": "HTMLModel",
      "state": {
       "layout": "IPY_MODEL_006a456aff4a49d7a8650d7a73d33582",
       "style": "IPY_MODEL_282cfd7d83c943f1a9ee5ab69a77e7b9",
       "value": "<strong>Dataset</strong>: satellite"
      }
     },
     "01736b1e95fc4aecbcd7784867d3cf76": {
      "model_module": "@jupyter-widgets/controls",
      "model_module_version": "1.4.0",
      "model_name": "DescriptionStyleModel",
      "state": {
       "description_width": ""
      }
     },
     "01ace6e9313941cda5013dfff36ace5a": {
      "model_module": "@jupyter-widgets/controls",
      "model_module_version": "1.4.0",
      "model_name": "SliderStyleModel",
      "state": {
       "description_width": ""
      }
     },
     "0210fd00a1a0409cad6ed91eba1a1caf": {
      "model_module": "@jupyter-widgets/controls",
      "model_module_version": "1.4.0",
      "model_name": "ButtonModel",
      "state": {
       "button_style": "info",
       "description": "Demo10",
       "layout": "IPY_MODEL_deff747352a14faca75c1a3c5682b838",
       "style": "IPY_MODEL_e3c92d7ad0d6416aac77717c8a4538e1"
      }
     },
     "022b57f8ce914497ae3835fbefbeef2b": {
      "model_module": "@jupyter-widgets/controls",
      "model_module_version": "1.4.0",
      "model_name": "ButtonModel",
      "state": {
       "button_style": "warning",
       "description": "Remove model",
       "layout": "IPY_MODEL_9f2a8fa01fc7457b97d763271ebfc796",
       "style": "IPY_MODEL_015c15cc34854a2ca982c1d90a114b7a"
      }
     },
     "02347534f6564ada8f59b538d5bc4e50": {
      "model_module": "@jupyter-widgets/controls",
      "model_module_version": "1.4.0",
      "model_name": "IntSliderModel",
      "state": {
       "description": "N. estim.",
       "layout": "IPY_MODEL_f3eb3638a65f433081e00ebbefcb0eae",
       "max": 200,
       "min": 2,
       "style": "IPY_MODEL_4003064e3113447583da9dd3948c1c5d",
       "value": 30
      }
     },
     "02585f8113b443d1a83e8e69522ff76c": {
      "model_module": "@jupyter-widgets/base",
      "model_module_version": "1.1.0",
      "model_name": "LayoutModel",
      "state": {
       "display": "flex",
       "visibility": "visible",
       "width": "800px"
      }
     },
     "0262cfa82e3a42858148bfa1271a40dc": {
      "model_module": "@jupyter-widgets/base",
      "model_module_version": "1.1.0",
      "model_name": "LayoutModel",
      "state": {
       "width": "900px"
      }
     },
     "02a24fe69b644e5e84c2a4bca5074b4c": {
      "model_module": "@jupyter-widgets/controls",
      "model_module_version": "1.4.0",
      "model_name": "DescriptionStyleModel",
      "state": {
       "description_width": ""
      }
     },
     "02ddcb403b274d89a27fb70c001e2b2a": {
      "model_module": "@jupyter-widgets/controls",
      "model_module_version": "1.4.0",
      "model_name": "DescriptionStyleModel",
      "state": {
       "description_width": ""
      }
     },
     "030f14399ce44b3788379bb3ba0a1800": {
      "model_module": "@jupyter-widgets/controls",
      "model_module_version": "1.4.0",
      "model_name": "ButtonModel",
      "state": {
       "button_style": "warning",
       "description": "Remove model",
       "layout": "IPY_MODEL_82be8fc48aaa491d8cccae5ff5728717",
       "style": "IPY_MODEL_c5e8481d6395410ea8d2e3a2eeda6bbe"
      }
     },
     "031fd8cda8854bf7aa0a3ad06ddf6f8b": {
      "model_module": "@jupyter-widgets/base",
      "model_module_version": "1.1.0",
      "model_name": "LayoutModel",
      "state": {}
     },
     "03466b31b06a4f8e8f6347cec71c192d": {
      "model_module": "@jupyter-widgets/controls",
      "model_module_version": "1.4.0",
      "model_name": "SliderStyleModel",
      "state": {
       "description_width": ""
      }
     },
     "0375a7e168a0469380aed728d2aa832e": {
      "model_module": "@jupyter-widgets/base",
      "model_module_version": "1.1.0",
      "model_name": "LayoutModel",
      "state": {}
     },
     "038d2382d8ba4ecb81e9372567993fce": {
      "model_module": "@jupyter-widgets/controls",
      "model_module_version": "1.4.0",
      "model_name": "DescriptionStyleModel",
      "state": {
       "description_width": ""
      }
     },
     "03b43881f0824292bac5b3b73812eed7": {
      "model_module": "@jupyter-widgets/base",
      "model_module_version": "1.1.0",
      "model_name": "LayoutModel",
      "state": {}
     },
     "03c6dbd65f564915af3adc2f576d3aaf": {
      "model_module": "@jupyter-widgets/base",
      "model_module_version": "1.1.0",
      "model_name": "LayoutModel",
      "state": {}
     },
     "03d35b1ecf9e4ca5bac731168ca5ec37": {
      "model_module": "@jupyter-widgets/base",
      "model_module_version": "1.1.0",
      "model_name": "LayoutModel",
      "state": {
       "display": "none",
       "visibility": "hidden",
       "width": "800px"
      }
     },
     "0416ace032904777a0a1f14d9debaba8": {
      "model_module": "@jupyter-widgets/base",
      "model_module_version": "1.1.0",
      "model_name": "LayoutModel",
      "state": {}
     },
     "0433de4463dd4f57979ea38f816f3d4a": {
      "model_module": "@jupyter-widgets/controls",
      "model_module_version": "1.4.0",
      "model_name": "ButtonStyleModel",
      "state": {}
     },
     "04480903a86049569d5792f1133d3c47": {
      "model_module": "@jupyter-widgets/controls",
      "model_module_version": "1.4.0",
      "model_name": "DropdownModel",
      "state": {
       "_options_labels": [
        "segment",
        "covertype",
        "digits",
        "fall_detection",
        "mnist",
        "pen_digits",
        "satellite",
        "vowel"
       ],
       "description": "Dataset:",
       "index": 0,
       "layout": "IPY_MODEL_f57394ef41f248a0b9c2a1eb127ee9fd",
       "style": "IPY_MODEL_8efb7c06cb2b4a10b6cff32176254b02"
      }
     },
     "04615f345b234fc9b402867fbebe07af": {
      "model_module": "@jupyter-widgets/controls",
      "model_module_version": "1.4.0",
      "model_name": "SliderStyleModel",
      "state": {
       "description_width": ""
      }
     },
     "0478b5304c454ac281ab32b84d691740": {
      "model_module": "@jupyter-widgets/base",
      "model_module_version": "1.1.0",
      "model_name": "LayoutModel",
      "state": {}
     },
     "04fbf37399d74f98b0189f5e4619b29d": {
      "model_module": "@jupyter-widgets/base",
      "model_module_version": "1.1.0",
      "model_name": "LayoutModel",
      "state": {
       "margin": "0px 20px 0px 0px"
      }
     },
     "04fe6b6010824cbd9a4db1b992523009": {
      "model_module": "@jupyter-widgets/controls",
      "model_module_version": "1.4.0",
      "model_name": "ButtonStyleModel",
      "state": {}
     },
     "0518089f274d4f2193a9126ff604d173": {
      "model_module": "@jupyter-widgets/controls",
      "model_module_version": "1.4.0",
      "model_name": "VBoxModel",
      "state": {
       "children": [
        "IPY_MODEL_973c9ca641544188b7427d339455ef08",
        "IPY_MODEL_a1673b6402844fee8538036bf2462be9",
        "IPY_MODEL_0b1d133804944753867e7fcf0b9ac7f6",
        "IPY_MODEL_f89643cd7027485c9ce764ee50682041",
        "IPY_MODEL_f068d4cc61634341847c8abda2832cda",
        "IPY_MODEL_cc06a179e8b04656a2784b86bb845f7b",
        "IPY_MODEL_971f75bd2aed4a448ddfa8fc3a38c4cb",
        "IPY_MODEL_c26925b9d6844070b130c0d5be0a24e5"
       ],
       "layout": "IPY_MODEL_d6d2e79166f74a3bb23992cdad0cbb0e"
      }
     },
     "05444163a009402f88b922a9f05123ee": {
      "model_module": "@jupyter-widgets/controls",
      "model_module_version": "1.4.0",
      "model_name": "SliderStyleModel",
      "state": {
       "description_width": ""
      }
     },
     "054c7565da6c4c59824c9885bf4d0fcd": {
      "model_module": "@jupyter-widgets/controls",
      "model_module_version": "1.4.0",
      "model_name": "RadioButtonsModel",
      "state": {
       "_options_labels": [
        "1000",
        "2000",
        "5000",
        "10000"
       ],
       "description": "Size",
       "index": 0,
       "layout": "IPY_MODEL_9703c04e5aba48a6810bdf301b7b4241",
       "style": "IPY_MODEL_fd378430ef6a472ea5a16de3b2591c1f"
      }
     },
     "05ca626b763a430897b7b4ef94143307": {
      "model_module": "@jupyter-widgets/controls",
      "model_module_version": "1.4.0",
      "model_name": "DescriptionStyleModel",
      "state": {
       "description_width": ""
      }
     },
     "05ffcbb47828483c8076874c45534cc4": {
      "model_module": "@jupyter-widgets/base",
      "model_module_version": "1.1.0",
      "model_name": "LayoutModel",
      "state": {}
     },
     "0665a67d5bd0427f8c6eee2bec80d872": {
      "model_module": "@jupyter-widgets/base",
      "model_module_version": "1.1.0",
      "model_name": "LayoutModel",
      "state": {}
     },
     "067f713ff6cf47828d52013044435ccf": {
      "model_module": "@jupyter-widgets/base",
      "model_module_version": "1.1.0",
      "model_name": "LayoutModel",
      "state": {}
     },
     "068d7898f8454795a1aa933ba4d685c3": {
      "model_module": "@jupyter-widgets/controls",
      "model_module_version": "1.4.0",
      "model_name": "DropdownModel",
      "state": {
       "_options_labels": [
        "dt",
        "logit",
        "linear_svc",
        "rbf_svc"
       ],
       "description": "Model",
       "index": 0,
       "layout": "IPY_MODEL_a5b032b0b8524a53997754bb873c6cf1",
       "style": "IPY_MODEL_ade8ee36f80b462b943feb03eeab6f81"
      }
     },
     "06c5e5cd65b84e17aaf75a1edb738083": {
      "model_module": "@jupyter-widgets/controls",
      "model_module_version": "1.4.0",
      "model_name": "FloatSliderModel",
      "state": {
       "description": "min_impurity_decrease:",
       "layout": "IPY_MODEL_9ee777f34554425081130edabd6f432e",
       "max": 1,
       "step": 0.1,
       "style": "IPY_MODEL_9fd56e16430d4b2b9f4832b755eb46ff"
      }
     },
     "070eecad26d84092a0ed96d7c9f5b526": {
      "model_module": "@jupyter-widgets/controls",
      "model_module_version": "1.4.0",
      "model_name": "SliderStyleModel",
      "state": {
       "description_width": ""
      }
     },
     "0746136db87b49c296d286d475b9b06c": {
      "model_module": "@jupyter-widgets/controls",
      "model_module_version": "1.4.0",
      "model_name": "ButtonModel",
      "state": {
       "button_style": "warning",
       "description": "Remove model",
       "layout": "IPY_MODEL_543f69283b6c4a81989371f7017153bd",
       "style": "IPY_MODEL_486fdb1e1c6244a284b4c218c911796b"
      }
     },
     "079e82338c2f4d0db41fea8045aa11b6": {
      "model_module": "@jupyter-widgets/controls",
      "model_module_version": "1.4.0",
      "model_name": "TabModel",
      "state": {
       "_titles": {
        "0": "dt"
       },
       "children": [
        "IPY_MODEL_3e5d499afae04dd19920e21357f912d1"
       ],
       "layout": "IPY_MODEL_f901e8af9f014799986f55e5adaf7eee"
      }
     },
     "07f6c37ff6d84f6f9dc728d4c47b06c1": {
      "model_module": "@jupyter-widgets/controls",
      "model_module_version": "1.4.0",
      "model_name": "IntSliderModel",
      "state": {
       "description": "N. estim.",
       "layout": "IPY_MODEL_e453c5a3decd41efa2c26640fe8d70fe",
       "max": 200,
       "min": 2,
       "style": "IPY_MODEL_9fdaa823745d4642a070543fa52ff4ba",
       "value": 30
      }
     },
     "08185223110a4f60ab7f1e10fdf06994": {
      "model_module": "@jupyter-widgets/controls",
      "model_module_version": "1.4.0",
      "model_name": "FloatLogSliderModel",
      "state": {
       "description": "Gamma",
       "layout": "IPY_MODEL_f18feb5f245a4d74bfbd1dd72d4071ee",
       "max": 2,
       "min": -4,
       "step": 1,
       "style": "IPY_MODEL_3a6a3737cb61474e8e3f48e43b60db28",
       "value": 0.0001
      }
     },
     "0837e48600b84f9fbb4adce87700eca2": {
      "model_module": "@jupyter-widgets/base",
      "model_module_version": "1.1.0",
      "model_name": "LayoutModel",
      "state": {}
     },
     "08386fd98fd5487496767c51dfd3eb8e": {
      "model_module": "@jupyter-widgets/controls",
      "model_module_version": "1.4.0",
      "model_name": "VBoxModel",
      "state": {
       "children": [
        "IPY_MODEL_91401ae99c944638ba3326cf8d135b99"
       ],
       "layout": "IPY_MODEL_b0686e4ddb3045dbb8991fe6361127a9"
      }
     },
     "084358a9c1a945f18fcb7d2aafd458f9": {
      "model_module": "@jupyter-widgets/controls",
      "model_module_version": "1.4.0",
      "model_name": "DescriptionStyleModel",
      "state": {
       "description_width": ""
      }
     },
     "08cb73288edf4b15937ae62aea878197": {
      "model_module": "@jupyter-widgets/controls",
      "model_module_version": "1.4.0",
      "model_name": "TabModel",
      "state": {
       "_titles": {
        "0": "dt"
       },
       "children": [
        "IPY_MODEL_6596869098ee4be9a2a779cfbb1688c9"
       ],
       "layout": "IPY_MODEL_7caab8fe499c4cdc9dd83d8ece73ce41"
      }
     },
     "08f62bbc17814ff79797313632001cf3": {
      "model_module": "@jupyter-widgets/base",
      "model_module_version": "1.1.0",
      "model_name": "LayoutModel",
      "state": {}
     },
     "0914214a53354d7da22efd1309371bb6": {
      "model_module": "@jupyter-widgets/controls",
      "model_module_version": "1.4.0",
      "model_name": "HTMLModel",
      "state": {
       "layout": "IPY_MODEL_c3940da40ca94e2888856d8129b12c4e",
       "style": "IPY_MODEL_a32ca7dbc226411a8a8231868dcaa0c2",
       "value": "<strong>Size</strong>: 2000"
      }
     },
     "09c3ec8de92b49cc9a9e965ae227c11a": {
      "model_module": "@jupyter-widgets/controls",
      "model_module_version": "1.4.0",
      "model_name": "ButtonModel",
      "state": {
       "button_style": "info",
       "description": "Add model",
       "layout": "IPY_MODEL_eaf7c32c7c6a4e859ab052eed5a58b69",
       "style": "IPY_MODEL_9ff906a1c4b5493a815ce0012bc6a30a"
      }
     },
     "09efcd1c04b64529858df8872d1fcd8b": {
      "model_module": "@jupyter-widgets/controls",
      "model_module_version": "1.4.0",
      "model_name": "ButtonModel",
      "state": {
       "button_style": "info",
       "description": "Demo10",
       "layout": "IPY_MODEL_977766ecdbe143bba7fdd61c3a8c0ca8",
       "style": "IPY_MODEL_d44f9228ff2848f6963290e0280ad3ad"
      }
     },
     "0a0bc992fa024c2683916b3798aa7d45": {
      "model_module": "@jupyter-widgets/base",
      "model_module_version": "1.1.0",
      "model_name": "LayoutModel",
      "state": {}
     },
     "0a5073e75a18435ab01f5cf6efb36848": {
      "model_module": "@jupyter-widgets/controls",
      "model_module_version": "1.4.0",
      "model_name": "VBoxModel",
      "state": {
       "children": [
        "IPY_MODEL_ba2fffbf28e043ed9e4d6f4b952da0fd",
        "IPY_MODEL_3b478d67af4045a5974130c0cdd6501d",
        "IPY_MODEL_279f18f45411409ca9fde612ee198c53",
        "IPY_MODEL_93f0c8b5e71b4a0fa3bf85a38b90100a",
        "IPY_MODEL_51071bc45563417b857fa5f13df4a31c",
        "IPY_MODEL_fe51c235f2f0481785795cc685720dcd",
        "IPY_MODEL_7886b5dab1f2476aa506a5ee1b5d5b63",
        "IPY_MODEL_eb332227cc184dc9941ee4c10817a0a8"
       ],
       "layout": "IPY_MODEL_967bced0af7a4d78bfd65aea108fffec"
      }
     },
     "0a597335f332471c8f2541a9684bb494": {
      "model_module": "@jupyter-widgets/controls",
      "model_module_version": "1.4.0",
      "model_name": "SliderStyleModel",
      "state": {
       "description_width": ""
      }
     },
     "0a8e8be3b37d44019c41ac10161eda1f": {
      "model_module": "@jupyter-widgets/controls",
      "model_module_version": "1.4.0",
      "model_name": "VBoxModel",
      "state": {
       "children": [
        "IPY_MODEL_11e6b9a2658b481596413645d9fc72b3",
        "IPY_MODEL_75fc4750811b488ab68a85c241d8b54d",
        "IPY_MODEL_f1975adb2db04389bce7a34a8d840bdf",
        "IPY_MODEL_7f4a98e0ccfa4e7a9d786b09b3ebcc8c",
        "IPY_MODEL_c16d379329354a1ea9a5a6cf90a11bd9",
        "IPY_MODEL_bcbfd9adef2745d4a957b4f8b5680e54",
        "IPY_MODEL_35a00c32c04c46888029df49f664db54"
       ],
       "layout": "IPY_MODEL_45ea91a6760b4e78b7e091f31cbeb244"
      }
     },
     "0aa1ab80665a44d69fac7f224953a329": {
      "model_module": "@jupyter-widgets/base",
      "model_module_version": "1.1.0",
      "model_name": "LayoutModel",
      "state": {}
     },
     "0acb3213405547c8b3021966a9fda8a5": {
      "model_module": "@jupyter-widgets/controls",
      "model_module_version": "1.4.0",
      "model_name": "ButtonStyleModel",
      "state": {}
     },
     "0ad7cbd51ca64c0dad3c58750011b1f2": {
      "model_module": "@jupyter-widgets/base",
      "model_module_version": "1.1.0",
      "model_name": "LayoutModel",
      "state": {}
     },
     "0b01c4eb28714a28b956c30db0c3ad74": {
      "model_module": "@jupyter-widgets/controls",
      "model_module_version": "1.4.0",
      "model_name": "SliderStyleModel",
      "state": {
       "description_width": ""
      }
     },
     "0b1d133804944753867e7fcf0b9ac7f6": {
      "model_module": "@jupyter-widgets/controls",
      "model_module_version": "1.4.0",
      "model_name": "FloatLogSliderModel",
      "state": {
       "description": "C",
       "layout": "IPY_MODEL_3289ff41d2fc496d827197f051eb7900",
       "max": 5,
       "min": -5,
       "step": 1,
       "style": "IPY_MODEL_e0c41592d3714d6ea4803e13d4e1c25f",
       "value": 1000
      }
     },
     "0b222cb3f9b840e4b89a5c2c3f80c168": {
      "model_module": "@jupyter-widgets/base",
      "model_module_version": "1.1.0",
      "model_name": "LayoutModel",
      "state": {
       "display": "none",
       "visibility": "hidden",
       "width": "800px"
      }
     },
     "0b3f5ee37d3249098cdeb8dfc0b049b9": {
      "model_module": "@jupyter-widgets/controls",
      "model_module_version": "1.4.0",
      "model_name": "IntRangeSliderModel",
      "state": {
       "_model_name": "IntRangeSliderModel",
       "_view_name": "IntRangeSliderView",
       "layout": "IPY_MODEL_e1265fea61dd495fb10cbf51f493825d",
       "max": 1000,
       "min": 30,
       "step": 10,
       "style": "IPY_MODEL_070eecad26d84092a0ed96d7c9f5b526",
       "value": [
        30,
        100
       ]
      }
     },
     "0b46f6119cf74487ae1a45bfc4dc242f": {
      "model_module": "@jupyter-widgets/controls",
      "model_module_version": "1.4.0",
      "model_name": "ButtonStyleModel",
      "state": {}
     },
     "0b68d51dec7f40a0bc24f7cf4132011c": {
      "model_module": "@jupyter-widgets/controls",
      "model_module_version": "1.4.0",
      "model_name": "IntSliderModel",
      "state": {
       "description": "C",
       "layout": "IPY_MODEL_a529b881d01942ea81c79647b8a202ee",
       "max": 10,
       "min": 1,
       "style": "IPY_MODEL_829c13e96bf6407692e4c31e048c35d2",
       "value": 5
      }
     },
     "0ba51c043bc547b4a5615744a2e3d06e": {
      "model_module": "@jupyter-widgets/controls",
      "model_module_version": "1.4.0",
      "model_name": "HBoxModel",
      "state": {
       "children": [
        "IPY_MODEL_e9677576b77848acaf4bdc5716fafb34",
        "IPY_MODEL_973829e8f7214c3bb46eb96c044ccc29"
       ],
       "layout": "IPY_MODEL_b074df4e30ff4448a9ad65997dbc6f57"
      }
     },
     "0bbfb5b02e5d4e0a9821936714e8c090": {
      "model_module": "@jupyter-widgets/base",
      "model_module_version": "1.1.0",
      "model_name": "LayoutModel",
      "state": {}
     },
     "0beb70e4a7b742988654ea2a51b9ee20": {
      "model_module": "@jupyter-widgets/base",
      "model_module_version": "1.1.0",
      "model_name": "LayoutModel",
      "state": {}
     },
     "0c38329297104a84971c634c4098b4c7": {
      "model_module": "@jupyter-widgets/base",
      "model_module_version": "1.1.0",
      "model_name": "LayoutModel",
      "state": {}
     },
     "0c5051977202424c97cb60b938f15459": {
      "model_module": "@jupyter-widgets/controls",
      "model_module_version": "1.4.0",
      "model_name": "AccordionModel",
      "state": {
       "_titles": {
        "0": "Info run"
       },
       "children": [
        "IPY_MODEL_2514ab019a384e9aa75a6eb1588cbb71"
       ],
       "layout": "IPY_MODEL_7e0d512716554b07b7a1899cbf219e4c"
      }
     },
     "0c53d4ee224d4881a93411f81d3e942d": {
      "model_module": "@jupyter-widgets/base",
      "model_module_version": "1.1.0",
      "model_name": "LayoutModel",
      "state": {}
     },
     "0c54934361ad4b14a3e37be8e30f41e6": {
      "model_module": "@jupyter-widgets/controls",
      "model_module_version": "1.4.0",
      "model_name": "DescriptionStyleModel",
      "state": {
       "description_width": ""
      }
     },
     "0c7e6f7c5d1448759b2aa565587f6072": {
      "model_module": "@jupyter-widgets/controls",
      "model_module_version": "1.4.0",
      "model_name": "SliderStyleModel",
      "state": {
       "description_width": "initial"
      }
     },
     "0c8242ab3e52496780f9c6337848cf0d": {
      "model_module": "@jupyter-widgets/controls",
      "model_module_version": "1.4.0",
      "model_name": "SliderStyleModel",
      "state": {
       "description_width": ""
      }
     },
     "0c936df50830437ea5b3ed1c95bf419e": {
      "model_module": "@jupyter-widgets/controls",
      "model_module_version": "1.4.0",
      "model_name": "SliderStyleModel",
      "state": {
       "description_width": ""
      }
     },
     "0cd2f4c84080410eae18ebe5205b5dec": {
      "model_module": "@jupyter-widgets/controls",
      "model_module_version": "1.4.0",
      "model_name": "FloatLogSliderModel",
      "state": {
       "description": "Gamma",
       "layout": "IPY_MODEL_9a68b063f9b94751bf1ac0c6f35ea9a5",
       "max": 2,
       "min": -4,
       "step": 1,
       "style": "IPY_MODEL_4c9110ccbf054f3fb3b49dd40fe707b9",
       "value": 0.0001
      }
     },
     "0cf7aa7ed11047d5bdd25c89e7a447c6": {
      "model_module": "@jupyter-widgets/controls",
      "model_module_version": "1.4.0",
      "model_name": "IntRangeSliderModel",
      "state": {
       "_model_name": "IntRangeSliderModel",
       "_view_name": "IntRangeSliderView",
       "layout": "IPY_MODEL_a971073a557444258ace7b1e7e22f584",
       "max": 1000,
       "min": 30,
       "step": 10,
       "style": "IPY_MODEL_e18bb21e5ae24f1f9f73c111a9195c41",
       "value": [
        30,
        100
       ]
      }
     },
     "0cf830863dd34313b7adbdc1ff6fd14d": {
      "model_module": "@jupyter-widgets/base",
      "model_module_version": "1.1.0",
      "model_name": "LayoutModel",
      "state": {
       "visibility": "hidden",
       "width": "800px"
      }
     },
     "0d6cffc55d5f44e99eefdf1dc849cb30": {
      "model_module": "@jupyter-widgets/controls",
      "model_module_version": "1.4.0",
      "model_name": "DescriptionStyleModel",
      "state": {
       "description_width": ""
      }
     },
     "0da34f7641b1453ab49c265c140dfd46": {
      "model_module": "@jupyter-widgets/controls",
      "model_module_version": "1.4.0",
      "model_name": "TabModel",
      "state": {
       "_titles": {
        "0": "dt"
       },
       "children": [
        "IPY_MODEL_77cd5b29de4149a99dc06a1daa452f3a"
       ],
       "layout": "IPY_MODEL_a62a5bfee84a4a15825a04a549f0d301"
      }
     },
     "0dcadef500dc4b6aab56de43aa241222": {
      "model_module": "@jupyter-widgets/controls",
      "model_module_version": "1.4.0",
      "model_name": "IntRangeSliderModel",
      "state": {
       "_model_name": "IntRangeSliderModel",
       "_view_name": "IntRangeSliderView",
       "layout": "IPY_MODEL_965054570c0c4d909ac5aea5593581d5",
       "max": 1000,
       "min": 30,
       "step": 10,
       "style": "IPY_MODEL_e381fcad5b534924b2df3adfb01300e6",
       "value": [
        30,
        100
       ]
      }
     },
     "0e17a89c0bfb4cba8fde4e7a64f6b2c9": {
      "model_module": "@jupyter-widgets/controls",
      "model_module_version": "1.4.0",
      "model_name": "DescriptionStyleModel",
      "state": {
       "description_width": ""
      }
     },
     "0e6de316c19c4d57802bc4e3043e1e58": {
      "model_module": "@jupyter-widgets/controls",
      "model_module_version": "1.4.0",
      "model_name": "VBoxModel",
      "state": {
       "children": [
        "IPY_MODEL_ffe0c7c39c394ca0b3c4e1b230fa1c50"
       ],
       "layout": "IPY_MODEL_67339297502c4c7eb8d13d5ef1f9a103"
      }
     },
     "0edb5a1d1f7c4c218cd520e8cec11db0": {
      "model_module": "@jupyter-widgets/base",
      "model_module_version": "1.1.0",
      "model_name": "LayoutModel",
      "state": {}
     },
     "0eeef3152aff4f85b21dea5186c52567": {
      "model_module": "@jupyter-widgets/controls",
      "model_module_version": "1.4.0",
      "model_name": "ButtonStyleModel",
      "state": {}
     },
     "0fb9661533d548429c324044ca2c60b0": {
      "model_module": "@jupyter-widgets/base",
      "model_module_version": "1.1.0",
      "model_name": "LayoutModel",
      "state": {}
     },
     "0fd0a79c9c1c4d4a93034e6c10e54ed3": {
      "model_module": "@jupyter-widgets/controls",
      "model_module_version": "1.4.0",
      "model_name": "VBoxModel",
      "state": {
       "children": [
        "IPY_MODEL_82d5abd61426493b9ddf9eb0ae57aea2"
       ],
       "layout": "IPY_MODEL_5f6ec97b2d424f8d8a1d9bd4a826411d"
      }
     },
     "1007c923b0504da9be9561f7b09a00bb": {
      "model_module": "@jupyter-widgets/base",
      "model_module_version": "1.1.0",
      "model_name": "LayoutModel",
      "state": {}
     },
     "102308946ec14f1baaed48c71defd8b1": {
      "model_module": "@jupyter-widgets/base",
      "model_module_version": "1.1.0",
      "model_name": "LayoutModel",
      "state": {}
     },
     "102c8395f3814e5ab771119919a212a9": {
      "model_module": "@jupyter-widgets/controls",
      "model_module_version": "1.4.0",
      "model_name": "SliderStyleModel",
      "state": {
       "description_width": ""
      }
     },
     "107f49d98b2c481cbb87e84b1e5dc450": {
      "model_module": "@jupyter-widgets/controls",
      "model_module_version": "1.4.0",
      "model_name": "SliderStyleModel",
      "state": {
       "description_width": ""
      }
     },
     "10cc09b0933745bb876fdbea8215f079": {
      "model_module": "@jupyter-widgets/controls",
      "model_module_version": "1.4.0",
      "model_name": "SliderStyleModel",
      "state": {
       "description_width": ""
      }
     },
     "110a4d881e004e6ba8e03ff5342c138d": {
      "model_module": "@jupyter-widgets/controls",
      "model_module_version": "1.4.0",
      "model_name": "VBoxModel",
      "state": {
       "children": [
        "IPY_MODEL_e66b4acb10d4471db4a760ef57e0a4a9",
        "IPY_MODEL_c6c4491e8f394b91913f9718f1fe1918",
        "IPY_MODEL_f028266b48ff4151be4a8544d4b5b905",
        "IPY_MODEL_db2cc3b216a74a57b5a7ac58951ff801",
        "IPY_MODEL_cd61e99a00914fa98d7a8b7bb406a71c",
        "IPY_MODEL_0da34f7641b1453ab49c265c140dfd46",
        "IPY_MODEL_f5523b030a1e46be82a63254da44377b"
       ],
       "layout": "IPY_MODEL_deac3a18316f4ecdbb40b7efc57d353f"
      }
     },
     "113f48b0d3c644a2babbd00742416893": {
      "model_module": "@jupyter-widgets/base",
      "model_module_version": "1.1.0",
      "model_name": "LayoutModel",
      "state": {}
     },
     "11512b1c4591449187b3489639fb7957": {
      "model_module": "@jupyter-widgets/base",
      "model_module_version": "1.1.0",
      "model_name": "LayoutModel",
      "state": {
       "margin": "0px 20px 0px 0px"
      }
     },
     "11626c3059914620afbbb1701fc4ea56": {
      "model_module": "@jupyter-widgets/controls",
      "model_module_version": "1.4.0",
      "model_name": "DropdownModel",
      "state": {
       "_options_labels": [
        "segment",
        "covertype",
        "digits",
        "fall_detection",
        "mnist",
        "pen_digits",
        "satellite",
        "vowel"
       ],
       "description": "Dataset:",
       "index": 0,
       "layout": "IPY_MODEL_5955bf64afac417b9e9c2511dd219d90",
       "style": "IPY_MODEL_6c394ba992334c8e94ffead15a2daf03"
      }
     },
     "11c4c83a7da54793a8bf4df8d03b72b0": {
      "model_module": "@jupyter-widgets/controls",
      "model_module_version": "1.4.0",
      "model_name": "HTMLModel",
      "state": {
       "layout": "IPY_MODEL_7c7e39d5a7e049af87e0013cc3cf60d4",
       "style": "IPY_MODEL_7a9d8ef89f2e4c6885ca5968106bb96d",
       "value": "<strong>Size</strong>: 2000"
      }
     },
     "11e6b9a2658b481596413645d9fc72b3": {
      "model_module": "@jupyter-widgets/controls",
      "model_module_version": "1.4.0",
      "model_name": "DropdownModel",
      "state": {
       "_options_labels": [
        "segment",
        "covertype",
        "digits",
        "fall_detection",
        "mnist",
        "pen_digits",
        "satellite",
        "vowel"
       ],
       "description": "Dataset:",
       "index": 0,
       "layout": "IPY_MODEL_fd87f57b20e949be9a7f072112bd85d5",
       "style": "IPY_MODEL_5a83a5da1e0c4903bc8cad843d41d838"
      }
     },
     "11ef47e69cdc4160a395f46d6523cf45": {
      "model_module": "@jupyter-widgets/controls",
      "model_module_version": "1.4.0",
      "model_name": "DescriptionStyleModel",
      "state": {
       "description_width": ""
      }
     },
     "11f97bdb038a4d14a40be4d4aa607b42": {
      "model_module": "@jupyter-widgets/base",
      "model_module_version": "1.1.0",
      "model_name": "LayoutModel",
      "state": {}
     },
     "120d624c39cd4ab1835ef423759ccd65": {
      "model_module": "@jupyter-widgets/controls",
      "model_module_version": "1.4.0",
      "model_name": "SliderStyleModel",
      "state": {
       "description_width": ""
      }
     },
     "12448d299b094cb3880275917e8ab66f": {
      "model_module": "@jupyter-widgets/base",
      "model_module_version": "1.1.0",
      "model_name": "LayoutModel",
      "state": {}
     },
     "124cf9d40a884818ac832523839fb631": {
      "model_module": "@jupyter-widgets/controls",
      "model_module_version": "1.4.0",
      "model_name": "DescriptionStyleModel",
      "state": {
       "description_width": ""
      }
     },
     "124d4d856583408085c426dd9fd94c4f": {
      "model_module": "@jupyter-widgets/controls",
      "model_module_version": "1.4.0",
      "model_name": "DescriptionStyleModel",
      "state": {
       "description_width": ""
      }
     },
     "124f7aa2e311459486fc0dc119cc6c7f": {
      "model_module": "@jupyter-widgets/controls",
      "model_module_version": "1.4.0",
      "model_name": "SliderStyleModel",
      "state": {
       "description_width": ""
      }
     },
     "1286c6d3cbcd4b32b0590241a3386707": {
      "model_module": "@jupyter-widgets/base",
      "model_module_version": "1.1.0",
      "model_name": "LayoutModel",
      "state": {
       "visibility": "hidden",
       "width": "800px"
      }
     },
     "1296665d89c445aca47aecfe2d0980a7": {
      "model_module": "@jupyter-widgets/controls",
      "model_module_version": "1.4.0",
      "model_name": "DescriptionStyleModel",
      "state": {
       "description_width": ""
      }
     },
     "129c773c624b4f289baf581987decd9e": {
      "model_module": "@jupyter-widgets/base",
      "model_module_version": "1.1.0",
      "model_name": "LayoutModel",
      "state": {}
     },
     "12b167d4349f46fe9b1f47940d20e103": {
      "model_module": "@jupyter-widgets/base",
      "model_module_version": "1.1.0",
      "model_name": "LayoutModel",
      "state": {}
     },
     "12cc017b1da64e2a93a13ffd1b1e022e": {
      "model_module": "@jupyter-widgets/controls",
      "model_module_version": "1.4.0",
      "model_name": "RadioButtonsModel",
      "state": {
       "_options_labels": [
        "1000",
        "2000",
        "5000",
        "10000"
       ],
       "description": "Size",
       "index": 0,
       "layout": "IPY_MODEL_4fbd033fca31409480e160c21f44c766",
       "style": "IPY_MODEL_2ba50edc461a4899b9e9dc6020a0adaa"
      }
     },
     "12e9b9d53d694a75bc58ac099703dc33": {
      "model_module": "@jupyter-widgets/controls",
      "model_module_version": "1.4.0",
      "model_name": "FloatLogSliderModel",
      "state": {
       "description": "C",
       "layout": "IPY_MODEL_451d597e0acf4de99accf3f70f67d575",
       "max": 5,
       "min": -5,
       "step": 1,
       "style": "IPY_MODEL_0c936df50830437ea5b3ed1c95bf419e",
       "value": 1000
      }
     },
     "1347a1081e22407d86b697211980001b": {
      "model_module": "@jupyter-widgets/base",
      "model_module_version": "1.1.0",
      "model_name": "LayoutModel",
      "state": {}
     },
     "1381914b1c8f416cb22b5adecbec6586": {
      "model_module": "@jupyter-widgets/base",
      "model_module_version": "1.1.0",
      "model_name": "LayoutModel",
      "state": {}
     },
     "13897964703447d2a9f84dfd6fa6fbb2": {
      "model_module": "@jupyter-widgets/controls",
      "model_module_version": "1.4.0",
      "model_name": "ButtonModel",
      "state": {
       "button_style": "warning",
       "description": "Remove model",
       "layout": "IPY_MODEL_5864646f931040d89c3d91f9dd39adf7",
       "style": "IPY_MODEL_1b95bff526b64b8497f738fae3616c58"
      }
     },
     "13a8a2c503254b02b4e54d58098fd155": {
      "model_module": "@jupyter-widgets/controls",
      "model_module_version": "1.4.0",
      "model_name": "DropdownModel",
      "state": {
       "_options_labels": [
        "segment",
        "covertype",
        "digits",
        "fall_detection",
        "mnist",
        "pen_digits",
        "satellite",
        "vowel"
       ],
       "description": "Dataset:",
       "index": 0,
       "layout": "IPY_MODEL_a9a811ef75f7457f8207c8ef56e9792a",
       "style": "IPY_MODEL_593779d388e5489b8128a20bf0f3b53e"
      }
     },
     "13c25ae121e74373a9fbf619ca59f9ea": {
      "model_module": "@jupyter-widgets/controls",
      "model_module_version": "1.4.0",
      "model_name": "TabModel",
      "state": {
       "_titles": {
        "0": "dt"
       },
       "children": [
        "IPY_MODEL_c7a67497de5f4062a0be607e4e3fa4f7"
       ],
       "layout": "IPY_MODEL_359aef7bd03141159e03dc384612f0d9"
      }
     },
     "14093cfd8b614ce49d1f5ff7b6e69573": {
      "model_module": "@jupyter-widgets/controls",
      "model_module_version": "1.4.0",
      "model_name": "VBoxModel",
      "state": {
       "children": [
        "IPY_MODEL_ee47ff62b19340aab3113ad0fa02b697"
       ],
       "layout": "IPY_MODEL_142329cf350a4c73be46400549441cc1"
      }
     },
     "140c78b15a614d239d6f33a224e4aa07": {
      "model_module": "@jupyter-widgets/base",
      "model_module_version": "1.1.0",
      "model_name": "LayoutModel",
      "state": {
       "visibility": "hidden",
       "width": "800px"
      }
     },
     "142329cf350a4c73be46400549441cc1": {
      "model_module": "@jupyter-widgets/base",
      "model_module_version": "1.1.0",
      "model_name": "LayoutModel",
      "state": {
       "margin": "0px 20px 0px 0px"
      }
     },
     "14663816327048889c2d0cf8235545da": {
      "model_module": "@jupyter-widgets/output",
      "model_module_version": "1.0.0",
      "model_name": "OutputModel",
      "state": {
       "layout": "IPY_MODEL_ee65a910f5a14538b10885fa15a56317"
      }
     },
     "14711124649b4e14aa6c29a8efa36f19": {
      "model_module": "@jupyter-widgets/controls",
      "model_module_version": "1.4.0",
      "model_name": "DescriptionStyleModel",
      "state": {
       "description_width": ""
      }
     },
     "14ad0d9a8b744b9f8fc51529e3c0d28b": {
      "model_module": "@jupyter-widgets/base",
      "model_module_version": "1.1.0",
      "model_name": "LayoutModel",
      "state": {
       "display": "none",
       "visibility": "hidden",
       "width": "800px"
      }
     },
     "14afee843e6b41109292c8a3ca2b3cbe": {
      "model_module": "@jupyter-widgets/controls",
      "model_module_version": "1.4.0",
      "model_name": "SliderStyleModel",
      "state": {
       "description_width": ""
      }
     },
     "14d582e7a8e64d09bc81c5515ddf8f52": {
      "model_module": "@jupyter-widgets/controls",
      "model_module_version": "1.4.0",
      "model_name": "ButtonModel",
      "state": {
       "button_style": "info",
       "description": "Demo10",
       "layout": "IPY_MODEL_868a97eb71314ee69a6bb0e0c7581765",
       "style": "IPY_MODEL_b61ee3b521db4830a41fb1392366d773"
      }
     },
     "14ded34c872f4b6eb9a29d50b2055909": {
      "model_module": "@jupyter-widgets/controls",
      "model_module_version": "1.4.0",
      "model_name": "DropdownModel",
      "state": {
       "_options_labels": [
        "black_bag",
        "grey_bag",
        "black_ens",
        "grey_ens",
        "None"
       ],
       "description": "Box Type",
       "index": 4,
       "layout": "IPY_MODEL_62932e55978846c4955c7c6c6532a06a",
       "style": "IPY_MODEL_b229605cda014098a5b06953ea2fc45c"
      }
     },
     "151f55e7f4134f99bed3757d9a34957f": {
      "model_module": "@jupyter-widgets/base",
      "model_module_version": "1.1.0",
      "model_name": "LayoutModel",
      "state": {}
     },
     "1540e94f34aa4cb5b8e90151d136109f": {
      "model_module": "@jupyter-widgets/base",
      "model_module_version": "1.1.0",
      "model_name": "LayoutModel",
      "state": {
       "display": "none",
       "visibility": "hidden",
       "width": "800px"
      }
     },
     "15913e285f2649f5956051a42cbf5347": {
      "model_module": "@jupyter-widgets/base",
      "model_module_version": "1.1.0",
      "model_name": "LayoutModel",
      "state": {}
     },
     "159c0f5d93af40458abc7f124c80dcd9": {
      "model_module": "@jupyter-widgets/base",
      "model_module_version": "1.1.0",
      "model_name": "LayoutModel",
      "state": {
       "visibility": "hidden",
       "width": "800px"
      }
     },
     "15a5435fdce14a108cf305af916d0f30": {
      "model_module": "@jupyter-widgets/controls",
      "model_module_version": "1.4.0",
      "model_name": "SliderStyleModel",
      "state": {
       "description_width": ""
      }
     },
     "15fbf35e092f4ed899b291ac22bd0f5d": {
      "model_module": "@jupyter-widgets/controls",
      "model_module_version": "1.4.0",
      "model_name": "SliderStyleModel",
      "state": {
       "description_width": ""
      }
     },
     "1607d629e2be4d81b60d1433df579ee9": {
      "model_module": "@jupyter-widgets/controls",
      "model_module_version": "1.4.0",
      "model_name": "DescriptionStyleModel",
      "state": {
       "description_width": ""
      }
     },
     "16177fe85fc942bf8b6cd581b47086a8": {
      "model_module": "@jupyter-widgets/base",
      "model_module_version": "1.1.0",
      "model_name": "LayoutModel",
      "state": {}
     },
     "16d77dbf4fad4af2a291c70cb7d91770": {
      "model_module": "@jupyter-widgets/controls",
      "model_module_version": "1.4.0",
      "model_name": "ButtonModel",
      "state": {
       "button_style": "info",
       "description": "Add model",
       "layout": "IPY_MODEL_9011483e82134d5e84aa022573fea464",
       "style": "IPY_MODEL_66ead3255962497a874c4ba34f7233c2"
      }
     },
     "16da845a16d541a09621d49c661a0876": {
      "model_module": "@jupyter-widgets/controls",
      "model_module_version": "1.4.0",
      "model_name": "DescriptionStyleModel",
      "state": {
       "description_width": ""
      }
     },
     "17550246aa6d40a9a8e662eec4eae23f": {
      "model_module": "@jupyter-widgets/base",
      "model_module_version": "1.1.0",
      "model_name": "LayoutModel",
      "state": {}
     },
     "176567ef0baa4d21a224b1d904d7becc": {
      "model_module": "@jupyter-widgets/base",
      "model_module_version": "1.1.0",
      "model_name": "LayoutModel",
      "state": {}
     },
     "1770e1544762486c94414a104a5309d2": {
      "model_module": "@jupyter-widgets/controls",
      "model_module_version": "1.4.0",
      "model_name": "DropdownModel",
      "state": {
       "_options_labels": [
        "None",
        "rbf",
        "nystroem"
       ],
       "description": "Sampler",
       "index": 0,
       "layout": "IPY_MODEL_f78b1940158d49a684f8ca07e760abba",
       "style": "IPY_MODEL_3e8013ada1df4e0096ddb8d4a681a998"
      }
     },
     "177cf1befd354a1f916ae97e10c4f3ce": {
      "model_module": "@jupyter-widgets/base",
      "model_module_version": "1.1.0",
      "model_name": "LayoutModel",
      "state": {
       "display": "none",
       "visibility": "hidden",
       "width": "800px"
      }
     },
     "1787329254a74858b70fecb4a405e6b0": {
      "model_module": "@jupyter-widgets/controls",
      "model_module_version": "1.4.0",
      "model_name": "SliderStyleModel",
      "state": {
       "description_width": ""
      }
     },
     "178e6455e7c7437d94afa0a9b6879eb4": {
      "model_module": "@jupyter-widgets/controls",
      "model_module_version": "1.4.0",
      "model_name": "SliderStyleModel",
      "state": {
       "description_width": "initial"
      }
     },
     "17c4594ff5a74d209bd944075d504ab3": {
      "model_module": "@jupyter-widgets/controls",
      "model_module_version": "1.4.0",
      "model_name": "ButtonStyleModel",
      "state": {}
     },
     "17c7f392651948e3bf249047e89eabb6": {
      "model_module": "@jupyter-widgets/base",
      "model_module_version": "1.1.0",
      "model_name": "LayoutModel",
      "state": {}
     },
     "17c9ee98d05d4f2b8a8fa1d5826c06a7": {
      "model_module": "@jupyter-widgets/base",
      "model_module_version": "1.1.0",
      "model_name": "LayoutModel",
      "state": {}
     },
     "181f7e48ad7a4f1fbd2605c9205af9fa": {
      "model_module": "@jupyter-widgets/controls",
      "model_module_version": "1.4.0",
      "model_name": "IntSliderModel",
      "state": {
       "description": "N. estim.",
       "layout": "IPY_MODEL_c9420e89b3af474aa849de6bad60c04a",
       "max": 200,
       "min": 2,
       "style": "IPY_MODEL_26286df479b841b5b543d5cd200f2af6",
       "value": 30
      }
     },
     "1838418cb7cc440c9d81e17a0dabe4a7": {
      "model_module": "@jupyter-widgets/controls",
      "model_module_version": "1.4.0",
      "model_name": "ButtonStyleModel",
      "state": {}
     },
     "1858a45572ec44498d69fc1036ee7a77": {
      "model_module": "@jupyter-widgets/base",
      "model_module_version": "1.1.0",
      "model_name": "LayoutModel",
      "state": {}
     },
     "1864ec8ac41442ceafcbb730e666b41e": {
      "model_module": "@jupyter-widgets/controls",
      "model_module_version": "1.4.0",
      "model_name": "SliderStyleModel",
      "state": {
       "description_width": ""
      }
     },
     "187c51bb787e4e859da862df6843c1ae": {
      "model_module": "@jupyter-widgets/controls",
      "model_module_version": "1.4.0",
      "model_name": "SliderStyleModel",
      "state": {
       "description_width": ""
      }
     },
     "189c8f0018d24a4d8277f0cc110f4fd9": {
      "model_module": "@jupyter-widgets/base",
      "model_module_version": "1.1.0",
      "model_name": "LayoutModel",
      "state": {}
     },
     "18b260de27c0463cb1c1e7764a28f71c": {
      "model_module": "@jupyter-widgets/base",
      "model_module_version": "1.1.0",
      "model_name": "LayoutModel",
      "state": {}
     },
     "18bac363262b4ad0b36d8f5e8cf118b9": {
      "model_module": "@jupyter-widgets/base",
      "model_module_version": "1.1.0",
      "model_name": "LayoutModel",
      "state": {}
     },
     "18fe0b2de8104b15a811066aab19e746": {
      "model_module": "@jupyter-widgets/base",
      "model_module_version": "1.1.0",
      "model_name": "LayoutModel",
      "state": {
       "width": "900px"
      }
     },
     "190196c2d71b4752b8543caa7e3c1bf6": {
      "model_module": "@jupyter-widgets/controls",
      "model_module_version": "1.4.0",
      "model_name": "TabModel",
      "state": {
       "_titles": {
        "0": "dt"
       },
       "children": [
        "IPY_MODEL_1bc8d4dc51894922abdc4fbb213e9270"
       ],
       "layout": "IPY_MODEL_e9942e763dec4b83a8d42f8ded3402e6"
      }
     },
     "1914d0b167ed403d9cf25db08e249b2b": {
      "model_module": "@jupyter-widgets/controls",
      "model_module_version": "1.4.0",
      "model_name": "AccordionModel",
      "state": {
       "_titles": {
        "0": "Info run"
       },
       "children": [
        "IPY_MODEL_9ccbde64eb7c40b1a85849d97a188d1a"
       ],
       "layout": "IPY_MODEL_b6892385c2c2437cbbca7054fa1fade4"
      }
     },
     "192053d610574094a7f0ceb828cba410": {
      "model_module": "@jupyter-widgets/base",
      "model_module_version": "1.1.0",
      "model_name": "LayoutModel",
      "state": {
       "visibility": "hidden",
       "width": "800px"
      }
     },
     "1954b6076aef40ee89d2e5e08529b27a": {
      "model_module": "@jupyter-widgets/base",
      "model_module_version": "1.1.0",
      "model_name": "LayoutModel",
      "state": {}
     },
     "196937797bd64a4fb67f52652d310652": {
      "model_module": "@jupyter-widgets/controls",
      "model_module_version": "1.4.0",
      "model_name": "SliderStyleModel",
      "state": {
       "description_width": "initial"
      }
     },
     "196e92591f6d490c9cc074c16e9220f3": {
      "model_module": "@jupyter-widgets/controls",
      "model_module_version": "1.4.0",
      "model_name": "IntSliderModel",
      "state": {
       "description": "N. estim.",
       "layout": "IPY_MODEL_bb1fa49685be4a99b43ab002042cfb40",
       "max": 200,
       "min": 2,
       "style": "IPY_MODEL_4dc76923adee4765957a347050302d84",
       "value": 30
      }
     },
     "19720b0073e04e87944e4e796c82c236": {
      "model_module": "@jupyter-widgets/controls",
      "model_module_version": "1.4.0",
      "model_name": "FloatLogSliderModel",
      "state": {
       "description": "Gamma",
       "layout": "IPY_MODEL_b1f2c5531f3740318c0838f424f55afc",
       "max": 2,
       "min": -4,
       "step": 1,
       "style": "IPY_MODEL_97048791de0e4c219f1a379217c0d536",
       "value": 0.0001
      }
     },
     "199e809fe84d42f891dfe517f535ccd2": {
      "model_module": "@jupyter-widgets/base",
      "model_module_version": "1.1.0",
      "model_name": "LayoutModel",
      "state": {
       "display": "none",
       "visibility": "hidden",
       "width": "800px"
      }
     },
     "1a224920db1c419493565cec8aed4751": {
      "model_module": "@jupyter-widgets/base",
      "model_module_version": "1.1.0",
      "model_name": "LayoutModel",
      "state": {
       "display": "none",
       "visibility": "hidden",
       "width": "800px"
      }
     },
     "1a449645f4844449be357bfe9ee5e17f": {
      "model_module": "@jupyter-widgets/controls",
      "model_module_version": "1.4.0",
      "model_name": "SliderStyleModel",
      "state": {
       "description_width": ""
      }
     },
     "1a55ec6881a941658122c42f75458684": {
      "model_module": "@jupyter-widgets/controls",
      "model_module_version": "1.4.0",
      "model_name": "DropdownModel",
      "state": {
       "_options_labels": [
        "None",
        "rbf",
        "nystroem"
       ],
       "description": "Sampler",
       "index": 0,
       "layout": "IPY_MODEL_5017c0efaf964f2e9f07c2d7702c3963",
       "style": "IPY_MODEL_c7cc2be3e3494cafb6f19901bf265a4a"
      }
     },
     "1a7dc7e1b5c74ebd86c1a9652a5653b0": {
      "model_module": "@jupyter-widgets/base",
      "model_module_version": "1.1.0",
      "model_name": "LayoutModel",
      "state": {}
     },
     "1aae30d75c294642b99a1027549f4d56": {
      "model_module": "@jupyter-widgets/base",
      "model_module_version": "1.1.0",
      "model_name": "LayoutModel",
      "state": {}
     },
     "1b81f8d2152340a4a819c5d9efa03f26": {
      "model_module": "@jupyter-widgets/base",
      "model_module_version": "1.1.0",
      "model_name": "LayoutModel",
      "state": {}
     },
     "1b95bff526b64b8497f738fae3616c58": {
      "model_module": "@jupyter-widgets/controls",
      "model_module_version": "1.4.0",
      "model_name": "ButtonStyleModel",
      "state": {}
     },
     "1bc8d4dc51894922abdc4fbb213e9270": {
      "model_module": "@jupyter-widgets/controls",
      "model_module_version": "1.4.0",
      "model_name": "VBoxModel",
      "state": {
       "children": [
        "IPY_MODEL_41e85e3eeaf74803bce0b87228343101",
        "IPY_MODEL_8adde38bcbc246ab84b30b55db57acef",
        "IPY_MODEL_b782f04cbf314c1f815e0cba387c16bb",
        "IPY_MODEL_6ff7315fe8fe4d47a731007009ed147b",
        "IPY_MODEL_3b9accf2b91c4fc6bf8ae4937614443b",
        "IPY_MODEL_9e72bd4c2c8e478bb08db676dbe7c0d1",
        "IPY_MODEL_f2362da28c334a68b5e16aa07f21a52e",
        "IPY_MODEL_b969e4decebd49a7a4bbf6de345c5f02"
       ],
       "layout": "IPY_MODEL_3a20dc1b64b84259b1e53285d159ec86"
      }
     },
     "1be6f93c5f624a6689b3f8ff08ad4997": {
      "model_module": "@jupyter-widgets/base",
      "model_module_version": "1.1.0",
      "model_name": "LayoutModel",
      "state": {}
     },
     "1bea0712e07841e985390546661ecdf7": {
      "model_module": "@jupyter-widgets/controls",
      "model_module_version": "1.4.0",
      "model_name": "SliderStyleModel",
      "state": {
       "description_width": ""
      }
     },
     "1c09fd8b8c864f7dbd33a40314a47cc4": {
      "model_module": "@jupyter-widgets/controls",
      "model_module_version": "1.4.0",
      "model_name": "SliderStyleModel",
      "state": {
       "description_width": ""
      }
     },
     "1c41182df2be4d448af9ea790e41656a": {
      "model_module": "@jupyter-widgets/controls",
      "model_module_version": "1.4.0",
      "model_name": "ButtonModel",
      "state": {
       "button_style": "info",
       "description": "Demo10",
       "layout": "IPY_MODEL_ec842f99fbdd4d3cbcab848797983327",
       "style": "IPY_MODEL_04fe6b6010824cbd9a4db1b992523009"
      }
     },
     "1c497ea99c7647da91ce38ea8f9dc8a3": {
      "model_module": "@jupyter-widgets/base",
      "model_module_version": "1.1.0",
      "model_name": "LayoutModel",
      "state": {}
     },
     "1c6019aca6534936a34ee01c50902e28": {
      "model_module": "@jupyter-widgets/controls",
      "model_module_version": "1.4.0",
      "model_name": "DescriptionStyleModel",
      "state": {
       "description_width": ""
      }
     },
     "1c937c452ee74e71bf7d288a315d25dc": {
      "model_module": "@jupyter-widgets/controls",
      "model_module_version": "1.4.0",
      "model_name": "VBoxModel",
      "state": {
       "children": [
        "IPY_MODEL_6805f7eb949d4b0a905beb2dea545322"
       ],
       "layout": "IPY_MODEL_f13d03bbf4664623b5cea1b916228898"
      }
     },
     "1cad2a52ea62448a84a007b970543215": {
      "model_module": "@jupyter-widgets/controls",
      "model_module_version": "1.4.0",
      "model_name": "SliderStyleModel",
      "state": {
       "description_width": ""
      }
     },
     "1cae2f787bce46fda57db54b60ab3d04": {
      "model_module": "@jupyter-widgets/controls",
      "model_module_version": "1.4.0",
      "model_name": "TabModel",
      "state": {
       "_titles": {
        "0": "dt"
       },
       "children": [
        "IPY_MODEL_daeb0a74b58d4188abab0ab83fe2018c"
       ],
       "layout": "IPY_MODEL_8291a8e2de354e96afe628b02a0a2d86"
      }
     },
     "1d01dec2b939456281dbf0920eba12cc": {
      "model_module": "@jupyter-widgets/base",
      "model_module_version": "1.1.0",
      "model_name": "LayoutModel",
      "state": {
       "width": "900px"
      }
     },
     "1d0a2fd733e640a3b7d8894c3390655c": {
      "model_module": "@jupyter-widgets/controls",
      "model_module_version": "1.4.0",
      "model_name": "AccordionModel",
      "state": {
       "_titles": {
        "0": "Info run"
       },
       "children": [
        "IPY_MODEL_fa88a2cdfcb44862a4811b395fa39526"
       ],
       "layout": "IPY_MODEL_7abb69fb352f426c942718c3bb5ec2d1"
      }
     },
     "1d229cdf0f0c49b89e45a7aa54cfe27c": {
      "model_module": "@jupyter-widgets/controls",
      "model_module_version": "1.4.0",
      "model_name": "DescriptionStyleModel",
      "state": {
       "description_width": ""
      }
     },
     "1d57f26efb534782ab8dd17a38777830": {
      "model_module": "@jupyter-widgets/base",
      "model_module_version": "1.1.0",
      "model_name": "LayoutModel",
      "state": {}
     },
     "1dc2e2480c4e444cbf8bd66b44c3c122": {
      "model_module": "@jupyter-widgets/controls",
      "model_module_version": "1.4.0",
      "model_name": "DescriptionStyleModel",
      "state": {
       "description_width": ""
      }
     },
     "1dc946f25b094aa39a60901bdfbb0bce": {
      "model_module": "@jupyter-widgets/base",
      "model_module_version": "1.1.0",
      "model_name": "LayoutModel",
      "state": {}
     },
     "1dfbf52e3c654bfebdbc4a412ae7cf03": {
      "model_module": "@jupyter-widgets/controls",
      "model_module_version": "1.4.0",
      "model_name": "HTMLModel",
      "state": {
       "layout": "IPY_MODEL_c95f56744adb43faa8b2d765f6901180",
       "style": "IPY_MODEL_9c10e8f33794403f8619beaffef4acee",
       "value": "<strong>Dataset</strong>: vowel"
      }
     },
     "1e07096b638e40839b6b695e1e9fe76e": {
      "model_module": "@jupyter-widgets/base",
      "model_module_version": "1.1.0",
      "model_name": "LayoutModel",
      "state": {}
     },
     "1e18a64b11834a2bada1c0ed3d80a39e": {
      "model_module": "@jupyter-widgets/controls",
      "model_module_version": "1.4.0",
      "model_name": "ButtonStyleModel",
      "state": {}
     },
     "1e395e96c4974e15adeed222650fce65": {
      "model_module": "@jupyter-widgets/base",
      "model_module_version": "1.1.0",
      "model_name": "LayoutModel",
      "state": {}
     },
     "1e3e6b7c33b44bd6b7904ee55a2199b0": {
      "model_module": "@jupyter-widgets/controls",
      "model_module_version": "1.4.0",
      "model_name": "DropdownModel",
      "state": {
       "_options_labels": [
        "dt",
        "logit",
        "linear_svc",
        "rbf_svc"
       ],
       "description": "Model",
       "index": 0,
       "layout": "IPY_MODEL_a9f6de259b854292ba3b9e55f514a96f",
       "style": "IPY_MODEL_02ddcb403b274d89a27fb70c001e2b2a"
      }
     },
     "1e91c85c9d2d462db345e1672272c54b": {
      "model_module": "@jupyter-widgets/base",
      "model_module_version": "1.1.0",
      "model_name": "LayoutModel",
      "state": {}
     },
     "1ea0a5652fd54266a2b4eae47960af53": {
      "model_module": "@jupyter-widgets/controls",
      "model_module_version": "1.4.0",
      "model_name": "SliderStyleModel",
      "state": {
       "description_width": ""
      }
     },
     "1f03c8b0c27c48b3a16aac506690ff8f": {
      "model_module": "@jupyter-widgets/controls",
      "model_module_version": "1.4.0",
      "model_name": "DropdownModel",
      "state": {
       "_options_labels": [
        "black_bag",
        "grey_bag",
        "black_ens",
        "grey_ens",
        "None"
       ],
       "description": "Box Type",
       "index": 4,
       "layout": "IPY_MODEL_50fc2fbf98a84867b028f352304c2f3a",
       "style": "IPY_MODEL_55db2f492132485f9556662e48a2c631"
      }
     },
     "1f16d41bbe7c422fbadb6546d31c9446": {
      "model_module": "@jupyter-widgets/controls",
      "model_module_version": "1.4.0",
      "model_name": "FloatLogSliderModel",
      "state": {
       "description": "C",
       "layout": "IPY_MODEL_199e809fe84d42f891dfe517f535ccd2",
       "max": 5,
       "min": -5,
       "step": 1,
       "style": "IPY_MODEL_e49d7eec63a04cf1875aa4c9ff7e9ad2",
       "value": 1000
      }
     },
     "1f23e04c7d6b42399fe7704e7717f9d7": {
      "model_module": "@jupyter-widgets/controls",
      "model_module_version": "1.4.0",
      "model_name": "DescriptionStyleModel",
      "state": {
       "description_width": ""
      }
     },
     "1f34ef65bb9742538c08ca19bb85dda4": {
      "model_module": "@jupyter-widgets/controls",
      "model_module_version": "1.4.0",
      "model_name": "SliderStyleModel",
      "state": {
       "description_width": ""
      }
     },
     "1fc1ff4dc7724326a4f8d725d5292a0d": {
      "model_module": "@jupyter-widgets/controls",
      "model_module_version": "1.4.0",
      "model_name": "HTMLModel",
      "state": {
       "layout": "IPY_MODEL_d7e85ffbed624d6aa32f35f09ebb8e9b",
       "style": "IPY_MODEL_51969563b3814413b063377502a590e5",
       "value": "<strong>Dataset</strong>: mnist"
      }
     },
     "1ffac4e722954b9a80a37d9f485fb962": {
      "model_module": "@jupyter-widgets/base",
      "model_module_version": "1.1.0",
      "model_name": "LayoutModel",
      "state": {}
     },
     "2011575aa0b841d3b37b642f530f6a0e": {
      "model_module": "@jupyter-widgets/base",
      "model_module_version": "1.1.0",
      "model_name": "LayoutModel",
      "state": {}
     },
     "2026ea8e55e24c1c9a212b400f348902": {
      "model_module": "@jupyter-widgets/controls",
      "model_module_version": "1.4.0",
      "model_name": "HBoxModel",
      "state": {
       "children": [
        "IPY_MODEL_718610846be44d049f45a21add5b9248",
        "IPY_MODEL_ac1eb5fca12e413f9419b8c2e7e4ba1e"
       ],
       "layout": "IPY_MODEL_f4de96016cdc448a9180b38e7f1b7d7d"
      }
     },
     "20a90e3a74c741a6a3dc8dce2b2537c7": {
      "model_module": "@jupyter-widgets/base",
      "model_module_version": "1.1.0",
      "model_name": "LayoutModel",
      "state": {}
     },
     "20d319da4f4c415aa11cb53373191894": {
      "model_module": "@jupyter-widgets/controls",
      "model_module_version": "1.4.0",
      "model_name": "DescriptionStyleModel",
      "state": {
       "description_width": ""
      }
     },
     "210f94ce5fbd4e0a836fc9780e20a64f": {
      "model_module": "@jupyter-widgets/base",
      "model_module_version": "1.1.0",
      "model_name": "LayoutModel",
      "state": {
       "visibility": "hidden",
       "width": "800px"
      }
     },
     "2116368b4f724e679a7d2541587fa2ed": {
      "model_module": "@jupyter-widgets/controls",
      "model_module_version": "1.4.0",
      "model_name": "DescriptionStyleModel",
      "state": {
       "description_width": ""
      }
     },
     "219f520a12074aadb3d8846c93cdf763": {
      "model_module": "@jupyter-widgets/controls",
      "model_module_version": "1.4.0",
      "model_name": "HTMLModel",
      "state": {
       "layout": "IPY_MODEL_527214d3b5b94e64b8086078ba732a55",
       "style": "IPY_MODEL_dbf5cb2da4654f1d8f73bfc43ee820d2",
       "value": "<strong>Size</strong>: 2000"
      }
     },
     "21b919f6a3b0472aa96b2321045c5166": {
      "model_module": "@jupyter-widgets/controls",
      "model_module_version": "1.4.0",
      "model_name": "DropdownModel",
      "state": {
       "_options_labels": [
        "black_bag",
        "grey_bag",
        "black_ens",
        "grey_ens",
        "None"
       ],
       "description": "Box Type",
       "index": 4,
       "layout": "IPY_MODEL_859f7ed62be945f3bd4553571b1f064c",
       "style": "IPY_MODEL_79f891c8c9124fcf9420bb8a991fc95a"
      }
     },
     "21bbae21eb31446ab2737d95b87fc02d": {
      "model_module": "@jupyter-widgets/controls",
      "model_module_version": "1.4.0",
      "model_name": "DropdownModel",
      "state": {
       "_options_labels": [
        "segment",
        "covertype",
        "digits",
        "fall_detection",
        "mnist",
        "pen_digits",
        "satellite",
        "vowel"
       ],
       "description": "Dataset:",
       "index": 0,
       "layout": "IPY_MODEL_17c7f392651948e3bf249047e89eabb6",
       "style": "IPY_MODEL_4f14d427a2274f9982974a359d7d8f5c"
      }
     },
     "21bed66f812243c7ae7d31488abf1009": {
      "model_module": "@jupyter-widgets/base",
      "model_module_version": "1.1.0",
      "model_name": "LayoutModel",
      "state": {
       "display": "none",
       "visibility": "hidden",
       "width": "800px"
      }
     },
     "22e650d7150c4dc5b8332ebdcd1c4c7e": {
      "model_module": "@jupyter-widgets/controls",
      "model_module_version": "1.4.0",
      "model_name": "VBoxModel",
      "state": {
       "children": [
        "IPY_MODEL_5e4d91d790e44bb4bf1975088aaefe58"
       ],
       "layout": "IPY_MODEL_65a7a2561d81490a82c54ea88fadaab3"
      }
     },
     "23384e9d374a451e94988f10a62b2094": {
      "model_module": "@jupyter-widgets/base",
      "model_module_version": "1.1.0",
      "model_name": "LayoutModel",
      "state": {
       "display": "none",
       "visibility": "hidden",
       "width": "800px"
      }
     },
     "23e16ef3948b4a1599b053506163581c": {
      "model_module": "@jupyter-widgets/base",
      "model_module_version": "1.1.0",
      "model_name": "LayoutModel",
      "state": {}
     },
     "23f867cc8cdb4a218235fba8de8194c5": {
      "model_module": "@jupyter-widgets/controls",
      "model_module_version": "1.4.0",
      "model_name": "DropdownModel",
      "state": {
       "_options_labels": [
        "dt",
        "logit",
        "linear_svc",
        "rbf_svc"
       ],
       "description": "Model",
       "index": 0,
       "layout": "IPY_MODEL_a5f7a9715abe45908db2d163387080af",
       "style": "IPY_MODEL_a6b1b57981194ab2a29a65c64374d081"
      }
     },
     "2403b746ecbf4b109c0892923ef5e53e": {
      "model_module": "@jupyter-widgets/controls",
      "model_module_version": "1.4.0",
      "model_name": "IntRangeSliderModel",
      "state": {
       "_model_name": "IntRangeSliderModel",
       "_view_name": "IntRangeSliderView",
       "layout": "IPY_MODEL_d53d64693a6d4ac6a8873dc2b26a3ebf",
       "max": 1000,
       "min": 30,
       "step": 10,
       "style": "IPY_MODEL_a456d703e04845cd935ca8aaf6728774",
       "value": [
        30,
        100
       ]
      }
     },
     "249c4fbd8f3d48779bbea6dbaa4d7731": {
      "model_module": "@jupyter-widgets/controls",
      "model_module_version": "1.4.0",
      "model_name": "DescriptionStyleModel",
      "state": {
       "description_width": ""
      }
     },
     "24b9d0a1705e4d88bd10acd1b440210b": {
      "model_module": "@jupyter-widgets/base",
      "model_module_version": "1.1.0",
      "model_name": "LayoutModel",
      "state": {}
     },
     "24eecf6aa8c948eb8ac95c9cd260d569": {
      "model_module": "@jupyter-widgets/base",
      "model_module_version": "1.1.0",
      "model_name": "LayoutModel",
      "state": {}
     },
     "2514ab019a384e9aa75a6eb1588cbb71": {
      "model_module": "@jupyter-widgets/controls",
      "model_module_version": "1.4.0",
      "model_name": "HBoxModel",
      "state": {
       "children": [
        "IPY_MODEL_0e6de316c19c4d57802bc4e3043e1e58",
        "IPY_MODEL_544931fe5b08430d8ea94dba4e770890"
       ],
       "layout": "IPY_MODEL_d586eb1f43ef4f38a02e9f369ef9c7b4"
      }
     },
     "2557039a65c9427e86275bb49fe9dd1c": {
      "model_module": "@jupyter-widgets/base",
      "model_module_version": "1.1.0",
      "model_name": "LayoutModel",
      "state": {}
     },
     "2564b83ddede4e0ab71ecfa75c66c0ff": {
      "model_module": "@jupyter-widgets/controls",
      "model_module_version": "1.4.0",
      "model_name": "DescriptionStyleModel",
      "state": {
       "description_width": ""
      }
     },
     "25718b97e47c4296ab5df03cf3644779": {
      "model_module": "@jupyter-widgets/controls",
      "model_module_version": "1.4.0",
      "model_name": "SliderStyleModel",
      "state": {
       "description_width": ""
      }
     },
     "2572833e87ca45f688d703d77d11294c": {
      "model_module": "@jupyter-widgets/controls",
      "model_module_version": "1.4.0",
      "model_name": "DescriptionStyleModel",
      "state": {
       "description_width": ""
      }
     },
     "259b5862f78c443fbab163b46a2057c3": {
      "model_module": "@jupyter-widgets/controls",
      "model_module_version": "1.4.0",
      "model_name": "ButtonModel",
      "state": {
       "button_style": "info",
       "description": "Add model",
       "layout": "IPY_MODEL_bff08489d1b042bf96aa72190a1094e4",
       "style": "IPY_MODEL_a103ac82a63b4f7280c666794e95290f"
      }
     },
     "25cf099c3399444d898ca27aea1bef8d": {
      "model_module": "@jupyter-widgets/controls",
      "model_module_version": "1.4.0",
      "model_name": "ButtonModel",
      "state": {
       "button_style": "warning",
       "description": "Remove model",
       "layout": "IPY_MODEL_deb46767072141b2be110d02db76b84a",
       "style": "IPY_MODEL_cc787264fc764397bb66348e4db2faee"
      }
     },
     "25fbe3d932364388836a90117321f050": {
      "model_module": "@jupyter-widgets/controls",
      "model_module_version": "1.4.0",
      "model_name": "VBoxModel",
      "state": {
       "children": [
        "IPY_MODEL_ab892235f2ca43e2a36da76bac616452",
        "IPY_MODEL_33c26df7a6fa443c99d59c8ea805aa06",
        "IPY_MODEL_50ae7722d8644438a7ece895fe4b3838",
        "IPY_MODEL_030f14399ce44b3788379bb3ba0a1800",
        "IPY_MODEL_0dcadef500dc4b6aab56de43aa241222",
        "IPY_MODEL_93c87ed135b34e1487019ab5f9a8dca0",
        "IPY_MODEL_09efcd1c04b64529858df8872d1fcd8b"
       ],
       "layout": "IPY_MODEL_3b9f34fc11954059b31ac84c139f3ed5"
      }
     },
     "26286df479b841b5b543d5cd200f2af6": {
      "model_module": "@jupyter-widgets/controls",
      "model_module_version": "1.4.0",
      "model_name": "SliderStyleModel",
      "state": {
       "description_width": ""
      }
     },
     "2630207518314af696590aa9cf1db1b9": {
      "model_module": "@jupyter-widgets/base",
      "model_module_version": "1.1.0",
      "model_name": "LayoutModel",
      "state": {}
     },
     "2633ad4a65f64635b1fd2406004f6720": {
      "model_module": "@jupyter-widgets/base",
      "model_module_version": "1.1.0",
      "model_name": "LayoutModel",
      "state": {}
     },
     "265dba9fcde742609370da69113353ee": {
      "model_module": "@jupyter-widgets/base",
      "model_module_version": "1.1.0",
      "model_name": "LayoutModel",
      "state": {}
     },
     "26d5be53d24d47948b95616b1bd5bf63": {
      "model_module": "@jupyter-widgets/controls",
      "model_module_version": "1.4.0",
      "model_name": "FloatLogSliderModel",
      "state": {
       "description": "C",
       "layout": "IPY_MODEL_14ad0d9a8b744b9f8fc51529e3c0d28b",
       "max": 5,
       "min": -5,
       "step": 1,
       "style": "IPY_MODEL_94d2b469b16b4cd3ad42e03923d9c0ac",
       "value": 1000
      }
     },
     "26e2405fc4d14be597cce461c4d6af83": {
      "model_module": "@jupyter-widgets/controls",
      "model_module_version": "1.4.0",
      "model_name": "SliderStyleModel",
      "state": {
       "description_width": ""
      }
     },
     "2706de44acaf42b6a0b257f60ade8d77": {
      "model_module": "@jupyter-widgets/base",
      "model_module_version": "1.1.0",
      "model_name": "LayoutModel",
      "state": {
       "display": "flex",
       "visibility": "visible",
       "width": "800px"
      }
     },
     "271b801778014b6aa090b7f2646c9475": {
      "model_module": "@jupyter-widgets/controls",
      "model_module_version": "1.4.0",
      "model_name": "IntSliderModel",
      "state": {
       "description": "N. estim.",
       "layout": "IPY_MODEL_dc6ffb3b4cc54d2498d7ba0ba7f0d035",
       "max": 200,
       "min": 2,
       "style": "IPY_MODEL_4dad79fbe94e499b948dd7ebf77b3fd0",
       "value": 30
      }
     },
     "2790c16d6bd748d2868fde9dc6cfba72": {
      "model_module": "@jupyter-widgets/controls",
      "model_module_version": "1.4.0",
      "model_name": "DescriptionStyleModel",
      "state": {
       "description_width": ""
      }
     },
     "279f18f45411409ca9fde612ee198c53": {
      "model_module": "@jupyter-widgets/controls",
      "model_module_version": "1.4.0",
      "model_name": "FloatLogSliderModel",
      "state": {
       "description": "C",
       "layout": "IPY_MODEL_a92d4558291543fc95696ff3abab0363",
       "max": 5,
       "min": -5,
       "step": 1,
       "style": "IPY_MODEL_2d300531efe44e689fabb74d91300795",
       "value": 1000
      }
     },
     "27d575f73d1e4abf9f00bcf5400ffe71": {
      "model_module": "@jupyter-widgets/base",
      "model_module_version": "1.1.0",
      "model_name": "LayoutModel",
      "state": {}
     },
     "27daeb77c0e540398c988a530f86a892": {
      "model_module": "@jupyter-widgets/base",
      "model_module_version": "1.1.0",
      "model_name": "LayoutModel",
      "state": {}
     },
     "27fd681305034d56b80b16503a5bd5c2": {
      "model_module": "@jupyter-widgets/controls",
      "model_module_version": "1.4.0",
      "model_name": "SliderStyleModel",
      "state": {
       "description_width": ""
      }
     },
     "280794c33ff04187bf0338a77a50a67c": {
      "model_module": "@jupyter-widgets/base",
      "model_module_version": "1.1.0",
      "model_name": "LayoutModel",
      "state": {}
     },
     "281311bc40b84e4288d10b62df4cc833": {
      "model_module": "@jupyter-widgets/controls",
      "model_module_version": "1.4.0",
      "model_name": "DescriptionStyleModel",
      "state": {
       "description_width": ""
      }
     },
     "282cfd7d83c943f1a9ee5ab69a77e7b9": {
      "model_module": "@jupyter-widgets/controls",
      "model_module_version": "1.4.0",
      "model_name": "DescriptionStyleModel",
      "state": {
       "description_width": ""
      }
     },
     "283aa71c52e9463092737c2c1621f034": {
      "model_module": "@jupyter-widgets/controls",
      "model_module_version": "1.4.0",
      "model_name": "DescriptionStyleModel",
      "state": {
       "description_width": ""
      }
     },
     "28592864b5aa46c4ab404f1838c6d3f7": {
      "model_module": "@jupyter-widgets/output",
      "model_module_version": "1.0.0",
      "model_name": "OutputModel",
      "state": {
       "layout": "IPY_MODEL_ac0f6c8d17284622b64e5c3a8250944e"
      }
     },
     "287f1ef4aa1c4e1a8ee0f664ce215e0c": {
      "model_module": "@jupyter-widgets/controls",
      "model_module_version": "1.4.0",
      "model_name": "ButtonModel",
      "state": {
       "button_style": "warning",
       "description": "Remove model",
       "layout": "IPY_MODEL_addd7a32d64c42fe9b4f4e4e64407514",
       "style": "IPY_MODEL_bfe2d7cb33f54f29a43f49627bb22c6d"
      }
     },
     "2884c26d7aba4f6f851f86cf00ff7e97": {
      "model_module": "@jupyter-widgets/controls",
      "model_module_version": "1.4.0",
      "model_name": "DescriptionStyleModel",
      "state": {
       "description_width": ""
      }
     },
     "28c79e6e2a334419a217d6250b1dc9c9": {
      "model_module": "@jupyter-widgets/controls",
      "model_module_version": "1.4.0",
      "model_name": "VBoxModel",
      "state": {
       "children": [
        "IPY_MODEL_d7d5ad79034e459e8a56305b7803df12",
        "IPY_MODEL_6866c35478f24828b5fc079a51669a27",
        "IPY_MODEL_ab70a6c2661141ceb5e0a8a5ee0a2848",
        "IPY_MODEL_fd3204853b3e48908f47bfb843fa157a",
        "IPY_MODEL_90fad1ea815f46e1924f633ae6843e72",
        "IPY_MODEL_db0fca0bf01d452d9e6c6cc1f7d1217f",
        "IPY_MODEL_21b919f6a3b0472aa96b2321045c5166",
        "IPY_MODEL_2f25e4000263476ab880c48ba5452a1e"
       ],
       "layout": "IPY_MODEL_c8752fc7e06d42f5af9dfd7571f87772"
      }
     },
     "2917aae8bd2b41b993cda628614e92ca": {
      "model_module": "@jupyter-widgets/base",
      "model_module_version": "1.1.0",
      "model_name": "LayoutModel",
      "state": {}
     },
     "291f55e340ba43619392d32de114d362": {
      "model_module": "@jupyter-widgets/controls",
      "model_module_version": "1.4.0",
      "model_name": "TabModel",
      "state": {
       "_titles": {
        "0": "dt"
       },
       "children": [
        "IPY_MODEL_e1f2d2980f7f472199ebbe525262eb57"
       ],
       "layout": "IPY_MODEL_280794c33ff04187bf0338a77a50a67c"
      }
     },
     "2981fb607b39407bb2ed10a9d669af68": {
      "model_module": "@jupyter-widgets/controls",
      "model_module_version": "1.4.0",
      "model_name": "DescriptionStyleModel",
      "state": {
       "description_width": ""
      }
     },
     "2a09818ec99f4c659a9bed1eff6f4023": {
      "model_module": "@jupyter-widgets/base",
      "model_module_version": "1.1.0",
      "model_name": "LayoutModel",
      "state": {
       "width": "900px"
      }
     },
     "2a5cdc84d3e3499da7ec0c29d99045b1": {
      "model_module": "@jupyter-widgets/controls",
      "model_module_version": "1.4.0",
      "model_name": "ButtonStyleModel",
      "state": {}
     },
     "2aa3fac421de4190a72cd2e0dddd6b47": {
      "model_module": "@jupyter-widgets/controls",
      "model_module_version": "1.4.0",
      "model_name": "IntSliderModel",
      "state": {
       "description": "N. estim.",
       "layout": "IPY_MODEL_78ac6626470d40f499d05a11f552e668",
       "max": 200,
       "min": 2,
       "style": "IPY_MODEL_732b7d47e2e2483bb32cf0a4d4e8fba4",
       "value": 30
      }
     },
     "2aa52ea1418640edb485d58630baa086": {
      "model_module": "@jupyter-widgets/controls",
      "model_module_version": "1.4.0",
      "model_name": "HTMLModel",
      "state": {
       "layout": "IPY_MODEL_9de64be7d2c44eaab364531b847ca179",
       "style": "IPY_MODEL_3845ed5e170b4376b98071c485cb8e69",
       "value": "<strong>Dataset</strong>: satellite"
      }
     },
     "2ad93b5f3e2b40e38a569a7a49267429": {
      "model_module": "@jupyter-widgets/base",
      "model_module_version": "1.1.0",
      "model_name": "LayoutModel",
      "state": {}
     },
     "2aed08b4cb4e48fdb8286d5b1fb4e5ba": {
      "model_module": "@jupyter-widgets/controls",
      "model_module_version": "1.4.0",
      "model_name": "VBoxModel",
      "state": {
       "children": [
        "IPY_MODEL_e95d6d6e36a440dda56624b627d408ec",
        "IPY_MODEL_12cc017b1da64e2a93a13ffd1b1e022e",
        "IPY_MODEL_ed03834961164d86bb243503cab28bb4",
        "IPY_MODEL_3ae5401d936f4a19ab9c4ff5b9c73352",
        "IPY_MODEL_710820d0e5ab42558a13983cb8c6a1ba",
        "IPY_MODEL_df0e81e1511b45e3b6fc405096aaab73",
        "IPY_MODEL_2c94d8859260456e806a2d212a44611e"
       ],
       "layout": "IPY_MODEL_43852b4389c44b02948d0cc693fe4672"
      }
     },
     "2afddbb07bd646a39fbeab3b89f9340b": {
      "model_module": "@jupyter-widgets/base",
      "model_module_version": "1.1.0",
      "model_name": "LayoutModel",
      "state": {}
     },
     "2b057b6837464245b0580ba86792149e": {
      "model_module": "@jupyter-widgets/controls",
      "model_module_version": "1.4.0",
      "model_name": "FloatLogSliderModel",
      "state": {
       "description": "C",
       "layout": "IPY_MODEL_35a2903c1a3f424dad8d3467c453a7e4",
       "max": 5,
       "min": -5,
       "step": 1,
       "style": "IPY_MODEL_b42a7803ec134890ac00ed31ddca81dd",
       "value": 1000
      }
     },
     "2b53f91539b24ba78173432615a04122": {
      "model_module": "@jupyter-widgets/base",
      "model_module_version": "1.1.0",
      "model_name": "LayoutModel",
      "state": {}
     },
     "2b773e167f50454b94dad511db52e30e": {
      "model_module": "@jupyter-widgets/base",
      "model_module_version": "1.1.0",
      "model_name": "LayoutModel",
      "state": {}
     },
     "2b9ab6da7cdb495b9f5471e1cb14ed77": {
      "model_module": "@jupyter-widgets/base",
      "model_module_version": "1.1.0",
      "model_name": "LayoutModel",
      "state": {}
     },
     "2ba50edc461a4899b9e9dc6020a0adaa": {
      "model_module": "@jupyter-widgets/controls",
      "model_module_version": "1.4.0",
      "model_name": "DescriptionStyleModel",
      "state": {
       "description_width": ""
      }
     },
     "2bfbf845f18b40cebeff978d3dc694f4": {
      "model_module": "@jupyter-widgets/controls",
      "model_module_version": "1.4.0",
      "model_name": "SliderStyleModel",
      "state": {
       "description_width": ""
      }
     },
     "2c38ecf7299e47faac6b7682136db6d0": {
      "model_module": "@jupyter-widgets/controls",
      "model_module_version": "1.4.0",
      "model_name": "ButtonStyleModel",
      "state": {}
     },
     "2c6b7e96a4d04758ad18dde7c4f40773": {
      "model_module": "@jupyter-widgets/controls",
      "model_module_version": "1.4.0",
      "model_name": "ButtonModel",
      "state": {
       "button_style": "info",
       "description": "Demo10",
       "layout": "IPY_MODEL_e9a21120c1fd4f7e87de2c8741b1b938",
       "style": "IPY_MODEL_e95eb2c536674506b380db47e7d6e621"
      }
     },
     "2c706204d18c4a67ad7e9f301bb8bd80": {
      "model_module": "@jupyter-widgets/controls",
      "model_module_version": "1.4.0",
      "model_name": "SliderStyleModel",
      "state": {
       "description_width": ""
      }
     },
     "2c771c8e9c10443f80b24ccea068e2d7": {
      "model_module": "@jupyter-widgets/base",
      "model_module_version": "1.1.0",
      "model_name": "LayoutModel",
      "state": {
       "display": "flex",
       "visibility": "visible",
       "width": "800px"
      }
     },
     "2c912053ed6b48bb95fb67cd145c0e26": {
      "model_module": "@jupyter-widgets/controls",
      "model_module_version": "1.4.0",
      "model_name": "AccordionModel",
      "state": {
       "_titles": {
        "0": "Info run"
       },
       "children": [
        "IPY_MODEL_63bbea905fd24324ba92aaf46e489c67"
       ],
       "layout": "IPY_MODEL_24eecf6aa8c948eb8ac95c9cd260d569"
      }
     },
     "2c94d8859260456e806a2d212a44611e": {
      "model_module": "@jupyter-widgets/controls",
      "model_module_version": "1.4.0",
      "model_name": "ButtonModel",
      "state": {
       "button_style": "info",
       "description": "Demo10",
       "layout": "IPY_MODEL_df6ce0e2aac44c1c805d82f95b9379c4",
       "style": "IPY_MODEL_f5374293db1842c995598e8cb2f5e5ae"
      }
     },
     "2cadd0ee8bd1498199d3ac6f9f2da62c": {
      "model_module": "@jupyter-widgets/controls",
      "model_module_version": "1.4.0",
      "model_name": "IntSliderModel",
      "state": {
       "description": "C",
       "layout": "IPY_MODEL_d94d4f0622dd4158abdb12dd0e43fbcf",
       "max": 10,
       "min": 1,
       "style": "IPY_MODEL_74efb62eb003481996cb736c84783271",
       "value": 5
      }
     },
     "2d300531efe44e689fabb74d91300795": {
      "model_module": "@jupyter-widgets/controls",
      "model_module_version": "1.4.0",
      "model_name": "SliderStyleModel",
      "state": {
       "description_width": ""
      }
     },
     "2d5c281f9d8a4f30afc47a67bdb41f7d": {
      "model_module": "@jupyter-widgets/controls",
      "model_module_version": "1.4.0",
      "model_name": "HBoxModel",
      "state": {
       "children": [
        "IPY_MODEL_351f1a665e3d40718bbe332f5c436a58",
        "IPY_MODEL_e6970f2f58c04a6391ef2e8ae99ef891"
       ],
       "layout": "IPY_MODEL_2557039a65c9427e86275bb49fe9dd1c"
      }
     },
     "2d604aef099445d38998f1d9dd7cb66f": {
      "model_module": "@jupyter-widgets/base",
      "model_module_version": "1.1.0",
      "model_name": "LayoutModel",
      "state": {
       "margin": "0px 20px 0px 0px"
      }
     },
     "2db140d1c22d4a1cbecc2b059cabfd02": {
      "model_module": "@jupyter-widgets/base",
      "model_module_version": "1.1.0",
      "model_name": "LayoutModel",
      "state": {}
     },
     "2dd6f98255e5450cbf485837fa3f186c": {
      "model_module": "@jupyter-widgets/controls",
      "model_module_version": "1.4.0",
      "model_name": "DescriptionStyleModel",
      "state": {
       "description_width": ""
      }
     },
     "2dfa158141da4e83b390d4f5c6faf692": {
      "model_module": "@jupyter-widgets/controls",
      "model_module_version": "1.4.0",
      "model_name": "ButtonModel",
      "state": {
       "button_style": "warning",
       "description": "Remove model",
       "layout": "IPY_MODEL_c8d90a1387eb48459f72d46a5515eb03",
       "style": "IPY_MODEL_0eeef3152aff4f85b21dea5186c52567"
      }
     },
     "2e1cf508e8ee45d6be51d766e5ca3759": {
      "model_module": "@jupyter-widgets/controls",
      "model_module_version": "1.4.0",
      "model_name": "VBoxModel",
      "state": {
       "children": [
        "IPY_MODEL_6504961b06e1416997a556591a69b6d7",
        "IPY_MODEL_3261d57cc2cd4765abf508c689f68804",
        "IPY_MODEL_26d5be53d24d47948b95616b1bd5bf63",
        "IPY_MODEL_caffed75a6df41fcb9d76c428928e81b",
        "IPY_MODEL_67ca2fb894ef45c8aa265ab5891a3ba9",
        "IPY_MODEL_648ae126423845af92f0afe194819a7a",
        "IPY_MODEL_a2d94096f12f44808caf5825ec8ff61d",
        "IPY_MODEL_867d39dd926b4dd28bcedea1ef885c2b"
       ],
       "layout": "IPY_MODEL_0beb70e4a7b742988654ea2a51b9ee20"
      }
     },
     "2e3e2a84170648fd91c41946b170d91d": {
      "model_module": "@jupyter-widgets/controls",
      "model_module_version": "1.4.0",
      "model_name": "HTMLModel",
      "state": {
       "layout": "IPY_MODEL_1ffac4e722954b9a80a37d9f485fb962",
       "style": "IPY_MODEL_de3b88a5bbef4779a0779dd517c0c7a9",
       "value": "<strong>Size</strong>: 2000"
      }
     },
     "2ece375025554fc08d0f4f2a722693c6": {
      "model_module": "@jupyter-widgets/controls",
      "model_module_version": "1.4.0",
      "model_name": "DropdownModel",
      "state": {
       "_options_labels": [
        "dt",
        "logit",
        "linear_svc",
        "rbf_svc"
       ],
       "description": "Model",
       "index": 0,
       "layout": "IPY_MODEL_32d83af81dce42dbb6ae898bb3906c72",
       "style": "IPY_MODEL_124d4d856583408085c426dd9fd94c4f"
      }
     },
     "2f25e4000263476ab880c48ba5452a1e": {
      "model_module": "@jupyter-widgets/controls",
      "model_module_version": "1.4.0",
      "model_name": "IntSliderModel",
      "state": {
       "description": "N. estim.",
       "layout": "IPY_MODEL_331fc72bd3b94ffb821fa1e26db543cf",
       "max": 200,
       "min": 2,
       "style": "IPY_MODEL_adff1798e3984800adf239b0f3d5864d",
       "value": 30
      }
     },
     "2f279702f2a644c89f502a4bb21470c2": {
      "model_module": "@jupyter-widgets/controls",
      "model_module_version": "1.4.0",
      "model_name": "ButtonStyleModel",
      "state": {}
     },
     "2f54c9d0447d4777baa3f509b24c2073": {
      "model_module": "@jupyter-widgets/base",
      "model_module_version": "1.1.0",
      "model_name": "LayoutModel",
      "state": {}
     },
     "2f5a2688ea1e4f0aa27c80343ddf6d3c": {
      "model_module": "@jupyter-widgets/controls",
      "model_module_version": "1.4.0",
      "model_name": "ButtonModel",
      "state": {
       "button_style": "info",
       "description": "Demo10",
       "layout": "IPY_MODEL_966dc00be6a740c98f8029f35345eb39",
       "style": "IPY_MODEL_2c38ecf7299e47faac6b7682136db6d0"
      }
     },
     "2f702c2a59034feb89b69626ec202e16": {
      "model_module": "@jupyter-widgets/controls",
      "model_module_version": "1.4.0",
      "model_name": "FloatLogSliderModel",
      "state": {
       "description": "Gamma",
       "layout": "IPY_MODEL_3cceb92a5a3f451c82dac38faa32ec0c",
       "max": 2,
       "min": -4,
       "step": 1,
       "style": "IPY_MODEL_e56bec1c9f4e4badad1bc500a09e0594",
       "value": 0.0001
      }
     },
     "2f84dee3a45b420cb35e9f9467012179": {
      "model_module": "@jupyter-widgets/base",
      "model_module_version": "1.1.0",
      "model_name": "LayoutModel",
      "state": {}
     },
     "2fa8a7502fc14d9e93e9f44c5cb1a774": {
      "model_module": "@jupyter-widgets/base",
      "model_module_version": "1.1.0",
      "model_name": "LayoutModel",
      "state": {}
     },
     "2fa9634f753a41e4b9d7ff46f5e66860": {
      "model_module": "@jupyter-widgets/base",
      "model_module_version": "1.1.0",
      "model_name": "LayoutModel",
      "state": {}
     },
     "2fbb16cfb7a645eeb085e7ec7a15dabb": {
      "model_module": "@jupyter-widgets/base",
      "model_module_version": "1.1.0",
      "model_name": "LayoutModel",
      "state": {}
     },
     "2ffa7639f48c4a0a93721df460626a1f": {
      "model_module": "@jupyter-widgets/base",
      "model_module_version": "1.1.0",
      "model_name": "LayoutModel",
      "state": {}
     },
     "3013e83db6024c8f9ce93e178812cf4a": {
      "model_module": "@jupyter-widgets/base",
      "model_module_version": "1.1.0",
      "model_name": "LayoutModel",
      "state": {}
     },
     "30522af19585482c92c8ba4de848f4d6": {
      "model_module": "@jupyter-widgets/controls",
      "model_module_version": "1.4.0",
      "model_name": "HTMLModel",
      "state": {
       "layout": "IPY_MODEL_61f5f0b2cec04875888fdc329a669539",
       "style": "IPY_MODEL_7bf2c31c47ef4f3ea5d830bce7e8b5c8",
       "value": "<strong>Size</strong>: 2000"
      }
     },
     "30777ae04c4548f585174c65f12298a9": {
      "model_module": "@jupyter-widgets/base",
      "model_module_version": "1.1.0",
      "model_name": "LayoutModel",
      "state": {}
     },
     "30e903f275f74d54b95a484434135754": {
      "model_module": "@jupyter-widgets/controls",
      "model_module_version": "1.4.0",
      "model_name": "VBoxModel",
      "state": {
       "children": [
        "IPY_MODEL_c4882c0df3a74f1fbba53dee5d512aa0",
        "IPY_MODEL_8239729c2f6b4840a2beca8e65fd0e18",
        "IPY_MODEL_e8a4348888d14dfb9aa540f8f181a314",
        "IPY_MODEL_9c5172ab1b0145a1a56ace69870f9b8c",
        "IPY_MODEL_980c37f05ef94f20ad94bae0cbd0a1ae",
        "IPY_MODEL_72c69734cb89410490f0c3c0a815978c",
        "IPY_MODEL_c19a4c96c0524c49b3eb5fa39f1c9d1c"
       ],
       "layout": "IPY_MODEL_59c03af6c08a4a7c8fbfd450fd939e3e"
      }
     },
     "3120a729f8be4a7cb24ddb41bdf886f9": {
      "model_module": "@jupyter-widgets/base",
      "model_module_version": "1.1.0",
      "model_name": "LayoutModel",
      "state": {}
     },
     "314039c116134ee88000cc1a23892719": {
      "model_module": "@jupyter-widgets/base",
      "model_module_version": "1.1.0",
      "model_name": "LayoutModel",
      "state": {
       "visibility": "hidden",
       "width": "800px"
      }
     },
     "3145c47d9ab542d1b744def3799b8eff": {
      "model_module": "@jupyter-widgets/base",
      "model_module_version": "1.1.0",
      "model_name": "LayoutModel",
      "state": {}
     },
     "314b2bc6f2e24d8da59e3819e1253f78": {
      "model_module": "@jupyter-widgets/controls",
      "model_module_version": "1.4.0",
      "model_name": "SliderStyleModel",
      "state": {
       "description_width": ""
      }
     },
     "3170d8884173458898b5150d5790f4fd": {
      "model_module": "@jupyter-widgets/controls",
      "model_module_version": "1.4.0",
      "model_name": "DescriptionStyleModel",
      "state": {
       "description_width": ""
      }
     },
     "317c3eec63b5418a9722b0f60639b048": {
      "model_module": "@jupyter-widgets/controls",
      "model_module_version": "1.4.0",
      "model_name": "SliderStyleModel",
      "state": {
       "description_width": ""
      }
     },
     "31bfa7c8e0a8476ba70aea278a7fdc39": {
      "model_module": "@jupyter-widgets/base",
      "model_module_version": "1.1.0",
      "model_name": "LayoutModel",
      "state": {}
     },
     "3200387edb0c4b51b66762e0b21108ff": {
      "model_module": "@jupyter-widgets/controls",
      "model_module_version": "1.4.0",
      "model_name": "VBoxModel",
      "state": {
       "children": [
        "IPY_MODEL_0914214a53354d7da22efd1309371bb6"
       ],
       "layout": "IPY_MODEL_402eea9903844acbaf4ab0d326a5430d"
      }
     },
     "3261d57cc2cd4765abf508c689f68804": {
      "model_module": "@jupyter-widgets/controls",
      "model_module_version": "1.4.0",
      "model_name": "FloatSliderModel",
      "state": {
       "description": "min_impurity_decrease:",
       "layout": "IPY_MODEL_d00a0996f5ba4ed5b9085e0f56c8c9e1",
       "max": 1,
       "step": 0.1,
       "style": "IPY_MODEL_d4a6c28ec538416e995e3dbf9cd2d62c"
      }
     },
     "327a41922b8e4f4493589c7fce7ab3e1": {
      "model_module": "@jupyter-widgets/controls",
      "model_module_version": "1.4.0",
      "model_name": "FloatLogSliderModel",
      "state": {
       "description": "Gamma",
       "layout": "IPY_MODEL_34e672f0b2b947378799d5214f792052",
       "max": 2,
       "min": -4,
       "step": 1,
       "style": "IPY_MODEL_0c8242ab3e52496780f9c6337848cf0d",
       "value": 0.0001
      }
     },
     "3289ff41d2fc496d827197f051eb7900": {
      "model_module": "@jupyter-widgets/base",
      "model_module_version": "1.1.0",
      "model_name": "LayoutModel",
      "state": {
       "display": "none",
       "visibility": "hidden",
       "width": "800px"
      }
     },
     "32b03b6cf94b46b78d47f8f5ece0c270": {
      "model_module": "@jupyter-widgets/controls",
      "model_module_version": "1.4.0",
      "model_name": "DropdownModel",
      "state": {
       "_options_labels": [
        "None",
        "rbf",
        "nystroem"
       ],
       "description": "Sampler",
       "index": 0,
       "layout": "IPY_MODEL_2f84dee3a45b420cb35e9f9467012179",
       "style": "IPY_MODEL_5e7869d1afa845ae8123d236db1a1d89"
      }
     },
     "32b7703198a44e35b57a4a19626768ce": {
      "model_module": "@jupyter-widgets/controls",
      "model_module_version": "1.4.0",
      "model_name": "HTMLModel",
      "state": {
       "layout": "IPY_MODEL_3991c94c8d834b6e920d5cb149e78bf0",
       "style": "IPY_MODEL_5f046961f1984a889dcd99d798fe3781",
       "value": "<strong>Dataset</strong>: pen_digits"
      }
     },
     "32d83af81dce42dbb6ae898bb3906c72": {
      "model_module": "@jupyter-widgets/base",
      "model_module_version": "1.1.0",
      "model_name": "LayoutModel",
      "state": {}
     },
     "331404cf21614a6ca94f35204d07ccea": {
      "model_module": "@jupyter-widgets/controls",
      "model_module_version": "1.4.0",
      "model_name": "SliderStyleModel",
      "state": {
       "description_width": ""
      }
     },
     "331fc72bd3b94ffb821fa1e26db543cf": {
      "model_module": "@jupyter-widgets/base",
      "model_module_version": "1.1.0",
      "model_name": "LayoutModel",
      "state": {
       "visibility": "hidden",
       "width": "800px"
      }
     },
     "333ff5cef13a464f8d578168cf34a9bc": {
      "model_module": "@jupyter-widgets/base",
      "model_module_version": "1.1.0",
      "model_name": "LayoutModel",
      "state": {}
     },
     "339bf1073c1b43d3805f5c0c674a94f8": {
      "model_module": "@jupyter-widgets/base",
      "model_module_version": "1.1.0",
      "model_name": "LayoutModel",
      "state": {}
     },
     "33c26df7a6fa443c99d59c8ea805aa06": {
      "model_module": "@jupyter-widgets/controls",
      "model_module_version": "1.4.0",
      "model_name": "RadioButtonsModel",
      "state": {
       "_options_labels": [
        "1000",
        "2000",
        "5000",
        "10000"
       ],
       "description": "Size",
       "index": 0,
       "layout": "IPY_MODEL_be1ecef4ffaf420584328f911a537c6e",
       "style": "IPY_MODEL_c9fdd88cc5ae4efc9395606a6d43b759"
      }
     },
     "3439d60e93b94fc29671458774d1c5d8": {
      "model_module": "@jupyter-widgets/controls",
      "model_module_version": "1.4.0",
      "model_name": "VBoxModel",
      "state": {
       "children": [
        "IPY_MODEL_e950650ec6a6438f89cdd8608dbedcc7"
       ],
       "layout": "IPY_MODEL_949bb237988641b78afc8f02198e26a6"
      }
     },
     "345f580fa22d4cf7925dd3b285f597c1": {
      "model_module": "@jupyter-widgets/controls",
      "model_module_version": "1.4.0",
      "model_name": "SliderStyleModel",
      "state": {
       "description_width": ""
      }
     },
     "34959b6d1b4c4a51a4b4d3ed17a2d9a5": {
      "model_module": "@jupyter-widgets/controls",
      "model_module_version": "1.4.0",
      "model_name": "ButtonStyleModel",
      "state": {}
     },
     "34a122fbd8f143028450a966d7a2eb8a": {
      "model_module": "@jupyter-widgets/controls",
      "model_module_version": "1.4.0",
      "model_name": "HBoxModel",
      "state": {
       "children": [
        "IPY_MODEL_474dc33d894643b7bdd95450b922e5da",
        "IPY_MODEL_af7795eaacff45018201f108071882da"
       ],
       "layout": "IPY_MODEL_2b9ab6da7cdb495b9f5471e1cb14ed77"
      }
     },
     "34c120b40d554e9b93fef02d48bd5a15": {
      "model_module": "@jupyter-widgets/controls",
      "model_module_version": "1.4.0",
      "model_name": "SliderStyleModel",
      "state": {
       "description_width": ""
      }
     },
     "34e672f0b2b947378799d5214f792052": {
      "model_module": "@jupyter-widgets/base",
      "model_module_version": "1.1.0",
      "model_name": "LayoutModel",
      "state": {
       "visibility": "hidden",
       "width": "800px"
      }
     },
     "3501773be68d490c8af11623a445b452": {
      "model_module": "@jupyter-widgets/controls",
      "model_module_version": "1.4.0",
      "model_name": "SliderStyleModel",
      "state": {
       "description_width": ""
      }
     },
     "350ac4b6675943ce98ed0ce17e3ddc33": {
      "model_module": "@jupyter-widgets/controls",
      "model_module_version": "1.4.0",
      "model_name": "DropdownModel",
      "state": {
       "_options_labels": [
        "dt",
        "logit",
        "linear_svc",
        "rbf_svc"
       ],
       "description": "Model",
       "index": 0,
       "layout": "IPY_MODEL_20a90e3a74c741a6a3dc8dce2b2537c7",
       "style": "IPY_MODEL_824beff6b0fc4dae83a7a928fa13b0e3"
      }
     },
     "351f1a665e3d40718bbe332f5c436a58": {
      "model_module": "@jupyter-widgets/controls",
      "model_module_version": "1.4.0",
      "model_name": "VBoxModel",
      "state": {
       "children": [
        "IPY_MODEL_1fc1ff4dc7724326a4f8d725d5292a0d"
       ],
       "layout": "IPY_MODEL_43e309f5e2a34e6f80c441a1766dc9e4"
      }
     },
     "35756a30722b4c1182702d9f86125b65": {
      "model_module": "@jupyter-widgets/base",
      "model_module_version": "1.1.0",
      "model_name": "LayoutModel",
      "state": {}
     },
     "359aef7bd03141159e03dc384612f0d9": {
      "model_module": "@jupyter-widgets/base",
      "model_module_version": "1.1.0",
      "model_name": "LayoutModel",
      "state": {}
     },
     "359d36970fb24fc59bf2b34a01822c71": {
      "model_module": "@jupyter-widgets/base",
      "model_module_version": "1.1.0",
      "model_name": "LayoutModel",
      "state": {}
     },
     "35a00c32c04c46888029df49f664db54": {
      "model_module": "@jupyter-widgets/controls",
      "model_module_version": "1.4.0",
      "model_name": "ButtonModel",
      "state": {
       "button_style": "info",
       "description": "Demo10",
       "layout": "IPY_MODEL_86b5a6e7d7eb4c06be6dbbd2a08d8dfe",
       "style": "IPY_MODEL_f5b44a7bd3614778874f06d340d8de64"
      }
     },
     "35a2903c1a3f424dad8d3467c453a7e4": {
      "model_module": "@jupyter-widgets/base",
      "model_module_version": "1.1.0",
      "model_name": "LayoutModel",
      "state": {
       "display": "none",
       "visibility": "hidden",
       "width": "800px"
      }
     },
     "35cc5b94f43c447eb576c7415d8dc9d4": {
      "model_module": "@jupyter-widgets/controls",
      "model_module_version": "1.4.0",
      "model_name": "DropdownModel",
      "state": {
       "_options_labels": [
        "None",
        "rbf",
        "nystroem"
       ],
       "description": "Sampler",
       "index": 0,
       "layout": "IPY_MODEL_2b53f91539b24ba78173432615a04122",
       "style": "IPY_MODEL_e4fc0b1844924c51a1dfa1ca3a5b5e72"
      }
     },
     "35fca8787cb4419d8e9bccbf88a110e3": {
      "model_module": "@jupyter-widgets/controls",
      "model_module_version": "1.4.0",
      "model_name": "FloatLogSliderModel",
      "state": {
       "description": "C",
       "layout": "IPY_MODEL_58bee909cc8845fe910c74f3ad7868fa",
       "max": 5,
       "min": -5,
       "step": 1,
       "style": "IPY_MODEL_2bfbf845f18b40cebeff978d3dc694f4",
       "value": 1000
      }
     },
     "362a5cdfec0e4a6ab533b3be4757a86b": {
      "model_module": "@jupyter-widgets/controls",
      "model_module_version": "1.4.0",
      "model_name": "SliderStyleModel",
      "state": {
       "description_width": ""
      }
     },
     "3686f368e4584ed9ba4da7adc7338a79": {
      "model_module": "@jupyter-widgets/controls",
      "model_module_version": "1.4.0",
      "model_name": "ButtonStyleModel",
      "state": {}
     },
     "372faee5eabe4d79b8e1d744300ca0b2": {
      "model_module": "@jupyter-widgets/controls",
      "model_module_version": "1.4.0",
      "model_name": "FloatLogSliderModel",
      "state": {
       "description": "Gamma",
       "layout": "IPY_MODEL_3ae8897ef4f64925ba5af26241950336",
       "max": 2,
       "min": -4,
       "step": 1,
       "style": "IPY_MODEL_904148305acc4a15a57246328d532ca7",
       "value": 0.0001
      }
     },
     "37628c1af6bd43e78aad7fef15bfefac": {
      "model_module": "@jupyter-widgets/output",
      "model_module_version": "1.0.0",
      "model_name": "OutputModel",
      "state": {
       "layout": "IPY_MODEL_c504562ff6de40a2b8f38024fe1cd6e5"
      }
     },
     "3776942e71774bf9b8c0dcba5cdd110c": {
      "model_module": "@jupyter-widgets/controls",
      "model_module_version": "1.4.0",
      "model_name": "TabModel",
      "state": {
       "_titles": {
        "0": "dt"
       },
       "children": [
        "IPY_MODEL_824db5c0e85a4eb59de27780d968c11f"
       ],
       "layout": "IPY_MODEL_3145c47d9ab542d1b744def3799b8eff"
      }
     },
     "37e5810f64e644a693ff43c34f2cd3da": {
      "model_module": "@jupyter-widgets/controls",
      "model_module_version": "1.4.0",
      "model_name": "DescriptionStyleModel",
      "state": {
       "description_width": ""
      }
     },
     "38453af59e894749ad9d6b75c90dbbfe": {
      "model_module": "@jupyter-widgets/controls",
      "model_module_version": "1.4.0",
      "model_name": "RadioButtonsModel",
      "state": {
       "_options_labels": [
        "1000",
        "2000",
        "5000",
        "10000"
       ],
       "description": "Size",
       "index": 0,
       "layout": "IPY_MODEL_439ab332d2d34f4a9360dad2fc455bf1",
       "style": "IPY_MODEL_9f8df388289a4e31bf6f7a122b37e55d"
      }
     },
     "3845ed5e170b4376b98071c485cb8e69": {
      "model_module": "@jupyter-widgets/controls",
      "model_module_version": "1.4.0",
      "model_name": "DescriptionStyleModel",
      "state": {
       "description_width": ""
      }
     },
     "38a06f3ec3af412a9941753d661701cb": {
      "model_module": "@jupyter-widgets/controls",
      "model_module_version": "1.4.0",
      "model_name": "DropdownModel",
      "state": {
       "_options_labels": [
        "dt",
        "logit",
        "linear_svc",
        "rbf_svc"
       ],
       "description": "Model",
       "index": 0,
       "layout": "IPY_MODEL_c9081d7bf56a4ce79c1ad51b8b2cc687",
       "style": "IPY_MODEL_728bf02186714558b460bcf3cf93bcd4"
      }
     },
     "396809646d39481fb4808c2e5c1754ee": {
      "model_module": "@jupyter-widgets/controls",
      "model_module_version": "1.4.0",
      "model_name": "DropdownModel",
      "state": {
       "_options_labels": [
        "segment",
        "covertype",
        "digits",
        "fall_detection",
        "mnist",
        "pen_digits",
        "satellite",
        "vowel"
       ],
       "description": "Dataset:",
       "index": 0,
       "layout": "IPY_MODEL_bb55281f57f84587a1af2f4b52b3decc",
       "style": "IPY_MODEL_7ff07f5a20144867970078693aa26ee4"
      }
     },
     "39681e64d68a4076ba77dab67de46f20": {
      "model_module": "@jupyter-widgets/base",
      "model_module_version": "1.1.0",
      "model_name": "LayoutModel",
      "state": {}
     },
     "3977aca174b24831a013abf46b1c9c3f": {
      "model_module": "@jupyter-widgets/controls",
      "model_module_version": "1.4.0",
      "model_name": "SliderStyleModel",
      "state": {
       "description_width": ""
      }
     },
     "3985e0efabdd47e5a003ec1d881be2ba": {
      "model_module": "@jupyter-widgets/base",
      "model_module_version": "1.1.0",
      "model_name": "LayoutModel",
      "state": {}
     },
     "3991c94c8d834b6e920d5cb149e78bf0": {
      "model_module": "@jupyter-widgets/base",
      "model_module_version": "1.1.0",
      "model_name": "LayoutModel",
      "state": {}
     },
     "39e2f27f36d64e66aebb7baf05b656fe": {
      "model_module": "@jupyter-widgets/controls",
      "model_module_version": "1.4.0",
      "model_name": "DropdownModel",
      "state": {
       "_options_labels": [
        "None",
        "rbf",
        "nystroem"
       ],
       "description": "Sampler",
       "index": 0,
       "layout": "IPY_MODEL_27daeb77c0e540398c988a530f86a892",
       "style": "IPY_MODEL_471027023a414ee6a34fb0c2fdf7743d"
      }
     },
     "3a19cbed0f5a427691efb18fe04040c1": {
      "model_module": "@jupyter-widgets/controls",
      "model_module_version": "1.4.0",
      "model_name": "VBoxModel",
      "state": {
       "children": [
        "IPY_MODEL_7f7064cab36749eba53432fdd46f4ed9",
        "IPY_MODEL_f11e5185ff4e4d3faf04998e09f5bb13",
        "IPY_MODEL_e9292e5a347348569f6e7e1289e0ee5b",
        "IPY_MODEL_0b68d51dec7f40a0bc24f7cf4132011c",
        "IPY_MODEL_dc00965313ca48a58536f84e1f428c6a",
        "IPY_MODEL_52c05e9bb8a54e96a2d2622723b2ca0f",
        "IPY_MODEL_c31332b123b14053935bd9ce40ff23bd",
        "IPY_MODEL_d4c6acd3cca845f2804ffc86308373e3"
       ],
       "layout": "IPY_MODEL_d09bd50d20c44539b3ba5ba48240fdab"
      }
     },
     "3a20dc1b64b84259b1e53285d159ec86": {
      "model_module": "@jupyter-widgets/base",
      "model_module_version": "1.1.0",
      "model_name": "LayoutModel",
      "state": {}
     },
     "3a5b7f6950d84c60bf3a9b78cdef953d": {
      "model_module": "@jupyter-widgets/controls",
      "model_module_version": "1.4.0",
      "model_name": "HTMLModel",
      "state": {
       "layout": "IPY_MODEL_151f55e7f4134f99bed3757d9a34957f",
       "style": "IPY_MODEL_f362b558425448feb68869d57a9fa521",
       "value": "<strong>Size</strong>: 2000"
      }
     },
     "3a6a3737cb61474e8e3f48e43b60db28": {
      "model_module": "@jupyter-widgets/controls",
      "model_module_version": "1.4.0",
      "model_name": "SliderStyleModel",
      "state": {
       "description_width": ""
      }
     },
     "3a70ed10f0b4451fa95f5b705efa5077": {
      "model_module": "@jupyter-widgets/controls",
      "model_module_version": "1.4.0",
      "model_name": "ButtonStyleModel",
      "state": {}
     },
     "3aa0faaa47604baca39eb567d421afcb": {
      "model_module": "@jupyter-widgets/controls",
      "model_module_version": "1.4.0",
      "model_name": "VBoxModel",
      "state": {
       "children": [
        "IPY_MODEL_97c8840f1ae246d1bc890c80b277e2f8",
        "IPY_MODEL_cff9fb4cffa94afc8718a66ac9d587d4",
        "IPY_MODEL_09c3ec8de92b49cc9a9e965ae227c11a",
        "IPY_MODEL_a1996c02d411479798197c08ddbb95c5",
        "IPY_MODEL_dbeca191a67a4b12aed49a28b3272c0d",
        "IPY_MODEL_8062008f4c1345d599389fdae6795890",
        "IPY_MODEL_a9406d3bb5ab4b49afc90ea7c6bb259b"
       ],
       "layout": "IPY_MODEL_fa7c1100214c4409b598f9dcc28c885b"
      }
     },
     "3aa32879abde4541a22ca474dc375f45": {
      "model_module": "@jupyter-widgets/controls",
      "model_module_version": "1.4.0",
      "model_name": "IntSliderModel",
      "state": {
       "description": "C",
       "layout": "IPY_MODEL_e47a860786e04e6c97610d80007fef2d",
       "max": 10,
       "min": 1,
       "style": "IPY_MODEL_bce28fd5b9b14bcda176113a020ce1b8",
       "value": 5
      }
     },
     "3add75a664374b92baefd7afbb6a3700": {
      "model_module": "@jupyter-widgets/controls",
      "model_module_version": "1.4.0",
      "model_name": "VBoxModel",
      "state": {
       "children": [
        "IPY_MODEL_f181b02ef8a547249f09efc2ebe65d0d"
       ],
       "layout": "IPY_MODEL_8c0b56b29661480ba31042ce0a154b13"
      }
     },
     "3ae5401d936f4a19ab9c4ff5b9c73352": {
      "model_module": "@jupyter-widgets/controls",
      "model_module_version": "1.4.0",
      "model_name": "ButtonModel",
      "state": {
       "button_style": "warning",
       "description": "Remove model",
       "layout": "IPY_MODEL_5abe2a589e5c4eb49c962c00d0e0e7ae",
       "style": "IPY_MODEL_f9ee27cc1e0d4f479e0154a10602f311"
      }
     },
     "3ae8897ef4f64925ba5af26241950336": {
      "model_module": "@jupyter-widgets/base",
      "model_module_version": "1.1.0",
      "model_name": "LayoutModel",
      "state": {
       "visibility": "hidden",
       "width": "800px"
      }
     },
     "3aeb6f8f865a4bc59392739c841ed82f": {
      "model_module": "@jupyter-widgets/controls",
      "model_module_version": "1.4.0",
      "model_name": "VBoxModel",
      "state": {
       "children": [
        "IPY_MODEL_fa7c520b413a4069a8e7fd077dc29a9f"
       ],
       "layout": "IPY_MODEL_7dca51da3d744822b5bbbae9b2631a64"
      }
     },
     "3b0003bdb94a43c89960d0c0a91de889": {
      "model_module": "@jupyter-widgets/controls",
      "model_module_version": "1.4.0",
      "model_name": "DescriptionStyleModel",
      "state": {
       "description_width": ""
      }
     },
     "3b075dd344da4e2dbe9dd5469f94fba1": {
      "model_module": "@jupyter-widgets/controls",
      "model_module_version": "1.4.0",
      "model_name": "SliderStyleModel",
      "state": {
       "description_width": ""
      }
     },
     "3b16c4b746a84055a6bf9db4438322a4": {
      "model_module": "@jupyter-widgets/controls",
      "model_module_version": "1.4.0",
      "model_name": "HBoxModel",
      "state": {
       "children": [
        "IPY_MODEL_72b813083e934c20844bccfc8216a564",
        "IPY_MODEL_7a901af8ec4a4fd6a428657f96b6fbc8"
       ],
       "layout": "IPY_MODEL_8aceaa97309d4ce99ac86919cf3a53f7"
      }
     },
     "3b478d67af4045a5974130c0cdd6501d": {
      "model_module": "@jupyter-widgets/controls",
      "model_module_version": "1.4.0",
      "model_name": "FloatSliderModel",
      "state": {
       "description": "min_impurity_decrease:",
       "layout": "IPY_MODEL_4a55af91682c4f43b133acf66efee51c",
       "max": 1,
       "step": 0.1,
       "style": "IPY_MODEL_e3065fb72002495994e262ed797c80ff"
      }
     },
     "3b49a24bb1bc4d7aa17375e7f2bdc724": {
      "model_module": "@jupyter-widgets/base",
      "model_module_version": "1.1.0",
      "model_name": "LayoutModel",
      "state": {
       "width": "900px"
      }
     },
     "3b6f482b6c2a4877ab643bc46f264db7": {
      "model_module": "@jupyter-widgets/controls",
      "model_module_version": "1.4.0",
      "model_name": "AccordionModel",
      "state": {
       "_titles": {
        "0": "Info run"
       },
       "children": [
        "IPY_MODEL_9db22f76898a4f21b2ae09a27cc934fb"
       ],
       "layout": "IPY_MODEL_0026a67f836a4809a115693a4f3c5d5c"
      }
     },
     "3b8c7fb734d1462db94410b6e51dfd33": {
      "model_module": "@jupyter-widgets/controls",
      "model_module_version": "1.4.0",
      "model_name": "VBoxModel",
      "state": {
       "children": [
        "IPY_MODEL_32b7703198a44e35b57a4a19626768ce"
       ],
       "layout": "IPY_MODEL_d70ece9f07fb4dd8b7e7936c273108f2"
      }
     },
     "3b9accf2b91c4fc6bf8ae4937614443b": {
      "model_module": "@jupyter-widgets/controls",
      "model_module_version": "1.4.0",
      "model_name": "DropdownModel",
      "state": {
       "_options_labels": [
        "None",
        "rbf",
        "nystroem"
       ],
       "description": "Sampler",
       "index": 0,
       "layout": "IPY_MODEL_74274cd92f684b6d898faaf0b84ab1c9",
       "style": "IPY_MODEL_4b7c3a9e765b4f658385351384033ba6"
      }
     },
     "3b9f34fc11954059b31ac84c139f3ed5": {
      "model_module": "@jupyter-widgets/base",
      "model_module_version": "1.1.0",
      "model_name": "LayoutModel",
      "state": {}
     },
     "3bb6c1bed83f4b05902da37bf56fcac1": {
      "model_module": "@jupyter-widgets/base",
      "model_module_version": "1.1.0",
      "model_name": "LayoutModel",
      "state": {}
     },
     "3bc64c9796534abb9494e92ef98c7ad5": {
      "model_module": "@jupyter-widgets/base",
      "model_module_version": "1.1.0",
      "model_name": "LayoutModel",
      "state": {}
     },
     "3c3bfc1055e44409b84be0a532aa9203": {
      "model_module": "@jupyter-widgets/controls",
      "model_module_version": "1.4.0",
      "model_name": "ButtonStyleModel",
      "state": {}
     },
     "3cb1e86106eb45aebc636063406341f6": {
      "model_module": "@jupyter-widgets/controls",
      "model_module_version": "1.4.0",
      "model_name": "VBoxModel",
      "state": {
       "children": [
        "IPY_MODEL_11626c3059914620afbbb1701fc4ea56",
        "IPY_MODEL_73da86142a664417b53c7c28eac55de4",
        "IPY_MODEL_a3336714fa444836a46b8b26af7042b3",
        "IPY_MODEL_022b57f8ce914497ae3835fbefbeef2b",
        "IPY_MODEL_e4a4f447df44486f83833425c8f78088",
        "IPY_MODEL_ee319d90063e46808717d6661f1bb53b",
        "IPY_MODEL_a419b1944e9d4c23b84abe501575cf1b"
       ],
       "layout": "IPY_MODEL_f9a6550cf0974ba6a98c4888bb6ddcc0"
      }
     },
     "3cc8e3bc5990401aacd7df0a9a684bd9": {
      "model_module": "@jupyter-widgets/controls",
      "model_module_version": "1.4.0",
      "model_name": "HTMLModel",
      "state": {
       "layout": "IPY_MODEL_0ad7cbd51ca64c0dad3c58750011b1f2",
       "style": "IPY_MODEL_59041ecf3e794bcc87a4bfeb860f152f",
       "value": "<strong>Dataset</strong>: segment"
      }
     },
     "3cceb92a5a3f451c82dac38faa32ec0c": {
      "model_module": "@jupyter-widgets/base",
      "model_module_version": "1.1.0",
      "model_name": "LayoutModel",
      "state": {
       "visibility": "hidden",
       "width": "800px"
      }
     },
     "3ce20191a45841f1bebafd23e6efba74": {
      "model_module": "@jupyter-widgets/controls",
      "model_module_version": "1.4.0",
      "model_name": "FloatSliderModel",
      "state": {
       "description": "min_impurity_decrease:",
       "layout": "IPY_MODEL_f31ca72f4e3f4aefbca67ed312588f32",
       "max": 1,
       "step": 0.1,
       "style": "IPY_MODEL_3d3bc840add445af870bfa285e50763b"
      }
     },
     "3d1ac2882f664296beedcbb49baa7e2f": {
      "model_module": "@jupyter-widgets/base",
      "model_module_version": "1.1.0",
      "model_name": "LayoutModel",
      "state": {}
     },
     "3d3bc840add445af870bfa285e50763b": {
      "model_module": "@jupyter-widgets/controls",
      "model_module_version": "1.4.0",
      "model_name": "SliderStyleModel",
      "state": {
       "description_width": "initial"
      }
     },
     "3d776e70fd49409aa3f48fb81c98fb9b": {
      "model_module": "@jupyter-widgets/controls",
      "model_module_version": "1.4.0",
      "model_name": "IntSliderModel",
      "state": {
       "description": "C",
       "layout": "IPY_MODEL_f7d27966572d4811a65c5268c5b433bb",
       "max": 10,
       "min": 1,
       "style": "IPY_MODEL_ca6135329adf4b919cf9d4126c1db052",
       "value": 5
      }
     },
     "3d7f33884d934cf1bd4b3d71ddec66fc": {
      "model_module": "@jupyter-widgets/base",
      "model_module_version": "1.1.0",
      "model_name": "LayoutModel",
      "state": {
       "display": "none",
       "visibility": "hidden",
       "width": "800px"
      }
     },
     "3d87af0b4ee34a5b89cacffe9d6042bd": {
      "model_module": "@jupyter-widgets/controls",
      "model_module_version": "1.4.0",
      "model_name": "ButtonModel",
      "state": {
       "button_style": "info",
       "description": "Add model",
       "layout": "IPY_MODEL_dbde7e3497b1406eba40b744494efd26",
       "style": "IPY_MODEL_d5b8f647da734becbbce9123f3f2aa89"
      }
     },
     "3dd00462c66340e9bef7b4635e319217": {
      "model_module": "@jupyter-widgets/controls",
      "model_module_version": "1.4.0",
      "model_name": "SliderStyleModel",
      "state": {
       "description_width": ""
      }
     },
     "3dd85504da724062a3e04763e8ea2e6f": {
      "model_module": "@jupyter-widgets/controls",
      "model_module_version": "1.4.0",
      "model_name": "SliderStyleModel",
      "state": {
       "description_width": ""
      }
     },
     "3de4dc5e8dbb45f78c6cbd0360151b4d": {
      "model_module": "@jupyter-widgets/controls",
      "model_module_version": "1.4.0",
      "model_name": "DescriptionStyleModel",
      "state": {
       "description_width": ""
      }
     },
     "3df0725905814f68a3868998c1839427": {
      "model_module": "@jupyter-widgets/base",
      "model_module_version": "1.1.0",
      "model_name": "LayoutModel",
      "state": {
       "visibility": "hidden",
       "width": "800px"
      }
     },
     "3e2c553e8d88452d8a6535420042b9b7": {
      "model_module": "@jupyter-widgets/controls",
      "model_module_version": "1.4.0",
      "model_name": "DescriptionStyleModel",
      "state": {
       "description_width": ""
      }
     },
     "3e2ed3b9b9d2400baecf7c02b1cc6f60": {
      "model_module": "@jupyter-widgets/base",
      "model_module_version": "1.1.0",
      "model_name": "LayoutModel",
      "state": {}
     },
     "3e50e62dde7f4bf19f1833294bdf2314": {
      "model_module": "@jupyter-widgets/controls",
      "model_module_version": "1.4.0",
      "model_name": "SliderStyleModel",
      "state": {
       "description_width": "initial"
      }
     },
     "3e5d499afae04dd19920e21357f912d1": {
      "model_module": "@jupyter-widgets/controls",
      "model_module_version": "1.4.0",
      "model_name": "VBoxModel",
      "state": {
       "children": [
        "IPY_MODEL_4240c85161a649cb99cfcd3a1b91fb33",
        "IPY_MODEL_ee1641d739264a59b1f9e27fe477af98",
        "IPY_MODEL_7d9bd864ba6b4032a711ed8e2bd2eaf8",
        "IPY_MODEL_6360373e28d64079a16260d227ee4dbc",
        "IPY_MODEL_39e2f27f36d64e66aebb7baf05b656fe",
        "IPY_MODEL_dabc2c4feccd49cc81ef555e1d9227a4",
        "IPY_MODEL_7bddb791ec144b29810d94633ca534db",
        "IPY_MODEL_271b801778014b6aa090b7f2646c9475"
       ],
       "layout": "IPY_MODEL_64e7896dca9c47a99d5d69b13958926c"
      }
     },
     "3e7911e1ff8e4f9a98dddef935340921": {
      "model_module": "@jupyter-widgets/controls",
      "model_module_version": "1.4.0",
      "model_name": "SliderStyleModel",
      "state": {
       "description_width": ""
      }
     },
     "3e8013ada1df4e0096ddb8d4a681a998": {
      "model_module": "@jupyter-widgets/controls",
      "model_module_version": "1.4.0",
      "model_name": "DescriptionStyleModel",
      "state": {
       "description_width": ""
      }
     },
     "3efc9175ea9d44e095515957d509d954": {
      "model_module": "@jupyter-widgets/controls",
      "model_module_version": "1.4.0",
      "model_name": "DescriptionStyleModel",
      "state": {
       "description_width": ""
      }
     },
     "3f443dd3d06841ccac0a8b41138a233b": {
      "model_module": "@jupyter-widgets/base",
      "model_module_version": "1.1.0",
      "model_name": "LayoutModel",
      "state": {}
     },
     "3f6b19fff1a74c7c80c68fef10572b66": {
      "model_module": "@jupyter-widgets/controls",
      "model_module_version": "1.4.0",
      "model_name": "IntSliderModel",
      "state": {
       "description": "C",
       "layout": "IPY_MODEL_3d7f33884d934cf1bd4b3d71ddec66fc",
       "max": 10,
       "min": 1,
       "style": "IPY_MODEL_a2cdceea25d54f668ed0ae2e96e90bb3",
       "value": 5
      }
     },
     "3f9922085c624351bc75873b4a1733b8": {
      "model_module": "@jupyter-widgets/controls",
      "model_module_version": "1.4.0",
      "model_name": "DescriptionStyleModel",
      "state": {
       "description_width": ""
      }
     },
     "4003064e3113447583da9dd3948c1c5d": {
      "model_module": "@jupyter-widgets/controls",
      "model_module_version": "1.4.0",
      "model_name": "SliderStyleModel",
      "state": {
       "description_width": ""
      }
     },
     "402eea9903844acbaf4ab0d326a5430d": {
      "model_module": "@jupyter-widgets/base",
      "model_module_version": "1.1.0",
      "model_name": "LayoutModel",
      "state": {
       "margin": "0px 20px 0px 0px"
      }
     },
     "404c902e473242fd9c0887c973c37fac": {
      "model_module": "@jupyter-widgets/base",
      "model_module_version": "1.1.0",
      "model_name": "LayoutModel",
      "state": {}
     },
     "409b8ae417aa4ce492cc59e17845987c": {
      "model_module": "@jupyter-widgets/base",
      "model_module_version": "1.1.0",
      "model_name": "LayoutModel",
      "state": {}
     },
     "41192c4bcc7640b0b8476cb6fda8c765": {
      "model_module": "@jupyter-widgets/controls",
      "model_module_version": "1.4.0",
      "model_name": "ButtonModel",
      "state": {
       "button_style": "info",
       "description": "Demo10",
       "layout": "IPY_MODEL_17550246aa6d40a9a8e662eec4eae23f",
       "style": "IPY_MODEL_17c4594ff5a74d209bd944075d504ab3"
      }
     },
     "412d22c76ab8414492685736c8d5ccff": {
      "model_module": "@jupyter-widgets/controls",
      "model_module_version": "1.4.0",
      "model_name": "DescriptionStyleModel",
      "state": {
       "description_width": ""
      }
     },
     "412f9935eabc460bb79da5b11b3ec472": {
      "model_module": "@jupyter-widgets/controls",
      "model_module_version": "1.4.0",
      "model_name": "DescriptionStyleModel",
      "state": {
       "description_width": ""
      }
     },
     "41ab47db07bf4dd5b002d5d09659f3dd": {
      "model_module": "@jupyter-widgets/controls",
      "model_module_version": "1.4.0",
      "model_name": "SliderStyleModel",
      "state": {
       "description_width": "initial"
      }
     },
     "41baccfca9644a959ad368664eceddaf": {
      "model_module": "@jupyter-widgets/controls",
      "model_module_version": "1.4.0",
      "model_name": "SliderStyleModel",
      "state": {
       "description_width": ""
      }
     },
     "41c3c2af2d404b9cb3897775048027c5": {
      "model_module": "@jupyter-widgets/controls",
      "model_module_version": "1.4.0",
      "model_name": "IntSliderModel",
      "state": {
       "description": "C",
       "layout": "IPY_MODEL_6b717fc36674429981bfeda47a242880",
       "max": 10,
       "min": 1,
       "style": "IPY_MODEL_491d5ad9ff304a5ca6a70f4fe1c40f6d",
       "value": 5
      }
     },
     "41e85e3eeaf74803bce0b87228343101": {
      "model_module": "@jupyter-widgets/controls",
      "model_module_version": "1.4.0",
      "model_name": "DropdownModel",
      "state": {
       "_options_labels": [
        "dt",
        "logit",
        "linear_svc",
        "rbf_svc"
       ],
       "description": "Model",
       "index": 0,
       "layout": "IPY_MODEL_77f37f9154d0406facfbba79608e4c8d",
       "style": "IPY_MODEL_11ef47e69cdc4160a395f46d6523cf45"
      }
     },
     "42048b1e827644ff97b318b95b1a6d13": {
      "model_module": "@jupyter-widgets/controls",
      "model_module_version": "1.4.0",
      "model_name": "DropdownModel",
      "state": {
       "_options_labels": [
        "black_bag",
        "grey_bag",
        "black_ens",
        "grey_ens",
        "None"
       ],
       "description": "Box Type",
       "index": 4,
       "layout": "IPY_MODEL_cd2b1014dc224ba88d55604f57932199",
       "style": "IPY_MODEL_a9e9462e508b4396b65e2bb6589f746f"
      }
     },
     "4240c85161a649cb99cfcd3a1b91fb33": {
      "model_module": "@jupyter-widgets/controls",
      "model_module_version": "1.4.0",
      "model_name": "DropdownModel",
      "state": {
       "_options_labels": [
        "dt",
        "logit",
        "linear_svc",
        "rbf_svc"
       ],
       "description": "Model",
       "index": 0,
       "layout": "IPY_MODEL_cadf3fdfc8704dd8b0d3447b92883b3a",
       "style": "IPY_MODEL_c46149fac30047288024fa5e31f8fef7"
      }
     },
     "42912965007347a49b6749b4915bedfe": {
      "model_module": "@jupyter-widgets/controls",
      "model_module_version": "1.4.0",
      "model_name": "VBoxModel",
      "state": {
       "children": [
        "IPY_MODEL_82fc494917384bc0ba0ad3b9be040fa8",
        "IPY_MODEL_ebb96f76adff42dfac9307dfe9edef60",
        "IPY_MODEL_709a7bf5b92b4415803d19129147c4d1",
        "IPY_MODEL_c225b4b3cf2e4153aaad73acee86ce8e",
        "IPY_MODEL_83d182d4094b4614bc05c5d244db7746",
        "IPY_MODEL_60a9bd124f4a401ba5487ce2d53889b2",
        "IPY_MODEL_d05eba858e934ae4bc2f01b16824b1ad",
        "IPY_MODEL_7dfee83d2ad54b43b495151d968111bf"
       ],
       "layout": "IPY_MODEL_8153097c0c4a4bad9e0028a56fdec887"
      }
     },
     "4318e7c680384648be1d2fcd3d044e98": {
      "model_module": "@jupyter-widgets/controls",
      "model_module_version": "1.4.0",
      "model_name": "SliderStyleModel",
      "state": {
       "description_width": ""
      }
     },
     "433c6e5359484c24be8d330c0571d7ab": {
      "model_module": "@jupyter-widgets/output",
      "model_module_version": "1.0.0",
      "model_name": "OutputModel",
      "state": {
       "layout": "IPY_MODEL_0375a7e168a0469380aed728d2aa832e"
      }
     },
     "43852b4389c44b02948d0cc693fe4672": {
      "model_module": "@jupyter-widgets/base",
      "model_module_version": "1.1.0",
      "model_name": "LayoutModel",
      "state": {}
     },
     "438662d19d564bf5b3cc198a05a2e759": {
      "model_module": "@jupyter-widgets/base",
      "model_module_version": "1.1.0",
      "model_name": "LayoutModel",
      "state": {}
     },
     "439ab332d2d34f4a9360dad2fc455bf1": {
      "model_module": "@jupyter-widgets/base",
      "model_module_version": "1.1.0",
      "model_name": "LayoutModel",
      "state": {}
     },
     "43e309f5e2a34e6f80c441a1766dc9e4": {
      "model_module": "@jupyter-widgets/base",
      "model_module_version": "1.1.0",
      "model_name": "LayoutModel",
      "state": {
       "margin": "0px 20px 0px 0px"
      }
     },
     "4408bcea463a4a96ac055d54a63ee374": {
      "model_module": "@jupyter-widgets/base",
      "model_module_version": "1.1.0",
      "model_name": "LayoutModel",
      "state": {}
     },
     "440c9fee6b874611b2f624539db7f986": {
      "model_module": "@jupyter-widgets/controls",
      "model_module_version": "1.4.0",
      "model_name": "SliderStyleModel",
      "state": {
       "description_width": ""
      }
     },
     "451d597e0acf4de99accf3f70f67d575": {
      "model_module": "@jupyter-widgets/base",
      "model_module_version": "1.1.0",
      "model_name": "LayoutModel",
      "state": {
       "display": "none",
       "visibility": "hidden",
       "width": "800px"
      }
     },
     "452db8145b7d46f491037665ee989554": {
      "model_module": "@jupyter-widgets/base",
      "model_module_version": "1.1.0",
      "model_name": "LayoutModel",
      "state": {}
     },
     "45328b9081474c778394307cfe6a04e6": {
      "model_module": "@jupyter-widgets/base",
      "model_module_version": "1.1.0",
      "model_name": "LayoutModel",
      "state": {}
     },
     "4565a388872943c7b1fae12077ac09b6": {
      "model_module": "@jupyter-widgets/controls",
      "model_module_version": "1.4.0",
      "model_name": "IntRangeSliderModel",
      "state": {
       "_model_name": "IntRangeSliderModel",
       "_view_name": "IntRangeSliderView",
       "layout": "IPY_MODEL_a4a2e9a142c8410fb30e79a8e1d65ccc",
       "max": 1000,
       "min": 30,
       "step": 10,
       "style": "IPY_MODEL_120d624c39cd4ab1835ef423759ccd65",
       "value": [
        30,
        100
       ]
      }
     },
     "4574a78ff6314767b2b42617047fc0f5": {
      "model_module": "@jupyter-widgets/base",
      "model_module_version": "1.1.0",
      "model_name": "LayoutModel",
      "state": {
       "visibility": "hidden",
       "width": "800px"
      }
     },
     "4582d1c47ca94be0bd2a1c1bf4d8bbb7": {
      "model_module": "@jupyter-widgets/output",
      "model_module_version": "1.0.0",
      "model_name": "OutputModel",
      "state": {
       "layout": "IPY_MODEL_b23b9c3b75624591889e8dca2e9cf156"
      }
     },
     "45dc6c5f7893456783c5d72044c3b4a1": {
      "model_module": "@jupyter-widgets/controls",
      "model_module_version": "1.4.0",
      "model_name": "FloatLogSliderModel",
      "state": {
       "description": "Gamma",
       "layout": "IPY_MODEL_bfb9dfc6bbb74228a5dd04ab9641e8bf",
       "max": 2,
       "min": -4,
       "step": 1,
       "style": "IPY_MODEL_331404cf21614a6ca94f35204d07ccea",
       "value": 0.0001
      }
     },
     "45ea91a6760b4e78b7e091f31cbeb244": {
      "model_module": "@jupyter-widgets/base",
      "model_module_version": "1.1.0",
      "model_name": "LayoutModel",
      "state": {}
     },
     "45fad4c633fe4ca6b09d67f585d83e6e": {
      "model_module": "@jupyter-widgets/controls",
      "model_module_version": "1.4.0",
      "model_name": "DescriptionStyleModel",
      "state": {
       "description_width": ""
      }
     },
     "46050884b870429e8e658025565a5b6f": {
      "model_module": "@jupyter-widgets/controls",
      "model_module_version": "1.4.0",
      "model_name": "ButtonModel",
      "state": {
       "button_style": "warning",
       "description": "Remove model",
       "layout": "IPY_MODEL_d17580e45b6946b4aa7001033a6b0c8c",
       "style": "IPY_MODEL_2a5cdc84d3e3499da7ec0c29d99045b1"
      }
     },
     "4638df1003cf471d9b991ea551a14630": {
      "model_module": "@jupyter-widgets/controls",
      "model_module_version": "1.4.0",
      "model_name": "SliderStyleModel",
      "state": {
       "description_width": ""
      }
     },
     "4657fc6b28b74f858a6498bff6360656": {
      "model_module": "@jupyter-widgets/controls",
      "model_module_version": "1.4.0",
      "model_name": "ButtonStyleModel",
      "state": {}
     },
     "46a7665682db43b887103df5b51daeea": {
      "model_module": "@jupyter-widgets/base",
      "model_module_version": "1.1.0",
      "model_name": "LayoutModel",
      "state": {
       "display": "flex",
       "visibility": "visible",
       "width": "800px"
      }
     },
     "46d5d7d4b56b4596bba50cafb53f7fd8": {
      "model_module": "@jupyter-widgets/base",
      "model_module_version": "1.1.0",
      "model_name": "LayoutModel",
      "state": {}
     },
     "471027023a414ee6a34fb0c2fdf7743d": {
      "model_module": "@jupyter-widgets/controls",
      "model_module_version": "1.4.0",
      "model_name": "DescriptionStyleModel",
      "state": {
       "description_width": ""
      }
     },
     "472c2410e66e4dfbbd0c0d2e0f869366": {
      "model_module": "@jupyter-widgets/controls",
      "model_module_version": "1.4.0",
      "model_name": "RadioButtonsModel",
      "state": {
       "_options_labels": [
        "1000",
        "2000",
        "5000",
        "10000"
       ],
       "description": "Size",
       "index": 0,
       "layout": "IPY_MODEL_067f713ff6cf47828d52013044435ccf",
       "style": "IPY_MODEL_69770eba274d425c87b57b9ea16f9c2a"
      }
     },
     "474d8f554c314eae99dcfc4dd639d19c": {
      "model_module": "@jupyter-widgets/base",
      "model_module_version": "1.1.0",
      "model_name": "LayoutModel",
      "state": {}
     },
     "474dc33d894643b7bdd95450b922e5da": {
      "model_module": "@jupyter-widgets/controls",
      "model_module_version": "1.4.0",
      "model_name": "VBoxModel",
      "state": {
       "children": [
        "IPY_MODEL_aa5392e0f99e4847a6c1baf4e9fe8a75"
       ],
       "layout": "IPY_MODEL_04fbf37399d74f98b0189f5e4619b29d"
      }
     },
     "4785c90c9df94bea882a64720ea3221d": {
      "model_module": "@jupyter-widgets/base",
      "model_module_version": "1.1.0",
      "model_name": "LayoutModel",
      "state": {}
     },
     "47b22fda65494b128ab46f1dc26ad20d": {
      "model_module": "@jupyter-widgets/base",
      "model_module_version": "1.1.0",
      "model_name": "LayoutModel",
      "state": {}
     },
     "47bd6178cf3c4ea2b76bb418eab0dcaa": {
      "model_module": "@jupyter-widgets/controls",
      "model_module_version": "1.4.0",
      "model_name": "VBoxModel",
      "state": {
       "children": [
        "IPY_MODEL_adc51a13de3648f88e678ec224cbffad",
        "IPY_MODEL_b7c7c4a594dd42548aeeb264831d1379",
        "IPY_MODEL_e2783f6a2f794a2cb652c924669b1276",
        "IPY_MODEL_9976b0675eea41b8b790078b189292ce",
        "IPY_MODEL_48361fcac34444f9b7477550ae0de2c7",
        "IPY_MODEL_372faee5eabe4d79b8e1d744300ca0b2",
        "IPY_MODEL_9471d2f1cc6b4206a30cb1eadacd0b0d",
        "IPY_MODEL_94d96e0d1d444d8e9b60f02c598cf858"
       ],
       "layout": "IPY_MODEL_e0e2bd75044d4cd78cdc03ab2e39ee89"
      }
     },
     "4830c086ddb8457d8a96fe9ceee26df3": {
      "model_module": "@jupyter-widgets/controls",
      "model_module_version": "1.4.0",
      "model_name": "FloatSliderModel",
      "state": {
       "description": "min_impurity_decrease:",
       "layout": "IPY_MODEL_558f5de08ed344e0a35b05bed92e97b4",
       "max": 1,
       "step": 0.1,
       "style": "IPY_MODEL_7f0b79370bec4e538057bec165a4b16b"
      }
     },
     "48361fcac34444f9b7477550ae0de2c7": {
      "model_module": "@jupyter-widgets/controls",
      "model_module_version": "1.4.0",
      "model_name": "DropdownModel",
      "state": {
       "_options_labels": [
        "None",
        "rbf",
        "nystroem"
       ],
       "description": "Sampler",
       "index": 0,
       "layout": "IPY_MODEL_ae76262cade44953805d7bb412f39f23",
       "style": "IPY_MODEL_bc2172a42eb74717a17b080d10eaaf2b"
      }
     },
     "48462c2a47ae4af1baac9181315a27e5": {
      "model_module": "@jupyter-widgets/controls",
      "model_module_version": "1.4.0",
      "model_name": "DescriptionStyleModel",
      "state": {
       "description_width": ""
      }
     },
     "486fdb1e1c6244a284b4c218c911796b": {
      "model_module": "@jupyter-widgets/controls",
      "model_module_version": "1.4.0",
      "model_name": "ButtonStyleModel",
      "state": {}
     },
     "4891262a6fdd4cc0be7e5fd7c2108b5d": {
      "model_module": "@jupyter-widgets/controls",
      "model_module_version": "1.4.0",
      "model_name": "VBoxModel",
      "state": {
       "children": [
        "IPY_MODEL_350ac4b6675943ce98ed0ce17e3ddc33",
        "IPY_MODEL_06c5e5cd65b84e17aaf75a1edb738083",
        "IPY_MODEL_12e9b9d53d694a75bc58ac099703dc33",
        "IPY_MODEL_f92ab3ae60c742a8ad6a65456fb3f421",
        "IPY_MODEL_fed605ef2edc4a6db5e29ec41745070a",
        "IPY_MODEL_c258792f781f4569922162bd3763fdc0",
        "IPY_MODEL_14ded34c872f4b6eb9a29d50b2055909",
        "IPY_MODEL_e6ecd432ae0d476484b2b08abc72f9e7"
       ],
       "layout": "IPY_MODEL_789cb40b2e8f465296d81e1400930ab3"
      }
     },
     "48b0d073dc724ca1b354d8afe4e34fab": {
      "model_module": "@jupyter-widgets/output",
      "model_module_version": "1.0.0",
      "model_name": "OutputModel",
      "state": {
       "layout": "IPY_MODEL_978b6b37b0cf4086930a56098efa0330"
      }
     },
     "48cdb21585684afbb7561b28be529834": {
      "model_module": "@jupyter-widgets/base",
      "model_module_version": "1.1.0",
      "model_name": "LayoutModel",
      "state": {}
     },
     "48e5d618671742bc9433fea270dd1d0a": {
      "model_module": "@jupyter-widgets/controls",
      "model_module_version": "1.4.0",
      "model_name": "DropdownModel",
      "state": {
       "_options_labels": [
        "dt",
        "logit",
        "linear_svc",
        "rbf_svc"
       ],
       "description": "Model",
       "index": 0,
       "layout": "IPY_MODEL_ee2d88ffb22149c79a61c1707b148b72",
       "style": "IPY_MODEL_2981fb607b39407bb2ed10a9d669af68"
      }
     },
     "491d5ad9ff304a5ca6a70f4fe1c40f6d": {
      "model_module": "@jupyter-widgets/controls",
      "model_module_version": "1.4.0",
      "model_name": "SliderStyleModel",
      "state": {
       "description_width": ""
      }
     },
     "49250277d166425e8cf1c9f246ea9eb5": {
      "model_module": "@jupyter-widgets/controls",
      "model_module_version": "1.4.0",
      "model_name": "HTMLModel",
      "state": {
       "layout": "IPY_MODEL_92197ffda0e842b5be178452d3f4da20",
       "style": "IPY_MODEL_97811e1fd05d4a20a92df43c00c4e086",
       "value": "<strong>Dataset</strong>: fall_detection"
      }
     },
     "4949932eba424c9fa7f5399ed5738be5": {
      "model_module": "@jupyter-widgets/base",
      "model_module_version": "1.1.0",
      "model_name": "LayoutModel",
      "state": {}
     },
     "4954cbce5e3a40b7b5424db8a52eef1b": {
      "model_module": "@jupyter-widgets/base",
      "model_module_version": "1.1.0",
      "model_name": "LayoutModel",
      "state": {}
     },
     "4968032b85bb41d6a29e4309caf2a955": {
      "model_module": "@jupyter-widgets/controls",
      "model_module_version": "1.4.0",
      "model_name": "ButtonModel",
      "state": {
       "button_style": "info",
       "description": "Demo10",
       "layout": "IPY_MODEL_8d09ad1d2b654d1f9f6ecad4c69899f2",
       "style": "IPY_MODEL_7f53aaefc995436d98c7c363b153e1f0"
      }
     },
     "4970db6f60e34ae986170072c07087a1": {
      "model_module": "@jupyter-widgets/controls",
      "model_module_version": "1.4.0",
      "model_name": "DescriptionStyleModel",
      "state": {
       "description_width": ""
      }
     },
     "49c1916bb20a471298fd0a2a8376e382": {
      "model_module": "@jupyter-widgets/base",
      "model_module_version": "1.1.0",
      "model_name": "LayoutModel",
      "state": {}
     },
     "4a0e4818aa3a4a64bf1654185a72bafd": {
      "model_module": "@jupyter-widgets/controls",
      "model_module_version": "1.4.0",
      "model_name": "SliderStyleModel",
      "state": {
       "description_width": ""
      }
     },
     "4a55af91682c4f43b133acf66efee51c": {
      "model_module": "@jupyter-widgets/base",
      "model_module_version": "1.1.0",
      "model_name": "LayoutModel",
      "state": {
       "display": "flex",
       "visibility": "visible",
       "width": "800px"
      }
     },
     "4abf728d91674649b1323a390601fb0b": {
      "model_module": "@jupyter-widgets/controls",
      "model_module_version": "1.4.0",
      "model_name": "AccordionModel",
      "state": {
       "_titles": {
        "0": "Info run"
       },
       "children": [
        "IPY_MODEL_a946af02e6a741fea5aa8aa87007ba36"
       ],
       "layout": "IPY_MODEL_08f62bbc17814ff79797313632001cf3"
      }
     },
     "4ae147b983254dee90415d43152ae7d6": {
      "model_module": "@jupyter-widgets/base",
      "model_module_version": "1.1.0",
      "model_name": "LayoutModel",
      "state": {}
     },
     "4ae23ab1c6714c788a599036ec561e31": {
      "model_module": "@jupyter-widgets/controls",
      "model_module_version": "1.4.0",
      "model_name": "ButtonStyleModel",
      "state": {}
     },
     "4af52a35726647f8a9a409cd71b3bfec": {
      "model_module": "@jupyter-widgets/controls",
      "model_module_version": "1.4.0",
      "model_name": "DropdownModel",
      "state": {
       "_options_labels": [
        "black_bag",
        "grey_bag",
        "black_ens",
        "grey_ens",
        "None"
       ],
       "description": "Box Type",
       "index": 4,
       "layout": "IPY_MODEL_1be6f93c5f624a6689b3f8ff08ad4997",
       "style": "IPY_MODEL_01736b1e95fc4aecbcd7784867d3cf76"
      }
     },
     "4b621e731a114437ad33734e89aa945c": {
      "model_module": "@jupyter-widgets/controls",
      "model_module_version": "1.4.0",
      "model_name": "VBoxModel",
      "state": {
       "children": [
        "IPY_MODEL_e07662b2d14d4ba9b901b1f9457ade41",
        "IPY_MODEL_994cd3792dcf49a197eeb7f8cec937c3",
        "IPY_MODEL_f345ceaf8baf4313b7e1e0c22036d379",
        "IPY_MODEL_2dfa158141da4e83b390d4f5c6faf692",
        "IPY_MODEL_f8ad274701ba4c70ba1a85c2a399a8cc",
        "IPY_MODEL_dab631bfc31f453bbad8e788c6781ed3",
        "IPY_MODEL_41192c4bcc7640b0b8476cb6fda8c765"
       ],
       "layout": "IPY_MODEL_2011575aa0b841d3b37b642f530f6a0e"
      }
     },
     "4b7c3a9e765b4f658385351384033ba6": {
      "model_module": "@jupyter-widgets/controls",
      "model_module_version": "1.4.0",
      "model_name": "DescriptionStyleModel",
      "state": {
       "description_width": ""
      }
     },
     "4c20f94387e746e68658d4001dc0088b": {
      "model_module": "@jupyter-widgets/controls",
      "model_module_version": "1.4.0",
      "model_name": "ButtonStyleModel",
      "state": {}
     },
     "4c381943afc64da48a24ee4775af74bf": {
      "model_module": "@jupyter-widgets/controls",
      "model_module_version": "1.4.0",
      "model_name": "DescriptionStyleModel",
      "state": {
       "description_width": ""
      }
     },
     "4c44be8653304bdc9ba7c5be767c6390": {
      "model_module": "@jupyter-widgets/controls",
      "model_module_version": "1.4.0",
      "model_name": "DescriptionStyleModel",
      "state": {
       "description_width": ""
      }
     },
     "4c5034993ee340f8abc7a189e45d220e": {
      "model_module": "@jupyter-widgets/controls",
      "model_module_version": "1.4.0",
      "model_name": "TabModel",
      "state": {
       "_titles": {
        "0": "dt"
       },
       "children": [
        "IPY_MODEL_5df8e2f9a770431ca67f84a6766791d1"
       ],
       "layout": "IPY_MODEL_031fd8cda8854bf7aa0a3ad06ddf6f8b"
      }
     },
     "4c520d01d2c445e287b9f93c19f01ebb": {
      "model_module": "@jupyter-widgets/controls",
      "model_module_version": "1.4.0",
      "model_name": "DescriptionStyleModel",
      "state": {
       "description_width": ""
      }
     },
     "4c7c7a2e6ffd421698c9a83f22c67274": {
      "model_module": "@jupyter-widgets/controls",
      "model_module_version": "1.4.0",
      "model_name": "DescriptionStyleModel",
      "state": {
       "description_width": ""
      }
     },
     "4c9110ccbf054f3fb3b49dd40fe707b9": {
      "model_module": "@jupyter-widgets/controls",
      "model_module_version": "1.4.0",
      "model_name": "SliderStyleModel",
      "state": {
       "description_width": ""
      }
     },
     "4c9696724a034dcebfb3308d97f47002": {
      "model_module": "@jupyter-widgets/controls",
      "model_module_version": "1.4.0",
      "model_name": "DescriptionStyleModel",
      "state": {
       "description_width": ""
      }
     },
     "4c9780e7ca8e40998a7d8ab90a2c31a1": {
      "model_module": "@jupyter-widgets/controls",
      "model_module_version": "1.4.0",
      "model_name": "SliderStyleModel",
      "state": {
       "description_width": ""
      }
     },
     "4cb561257f064333b7f78596c6f7b413": {
      "model_module": "@jupyter-widgets/controls",
      "model_module_version": "1.4.0",
      "model_name": "VBoxModel",
      "state": {
       "children": [
        "IPY_MODEL_b8a70f7e672548d4b01894697941225e",
        "IPY_MODEL_7f051f4b015a4c9e8c2274f5f6de0d0b",
        "IPY_MODEL_8e4149f7e02c4205b29f2872126fdfe8",
        "IPY_MODEL_7ac4a3cb937445b598004d40ec804562",
        "IPY_MODEL_5108de1365df400bbcda3ff1bfee68fc",
        "IPY_MODEL_eca1e7f2ac324b45bb4785c5293beaad",
        "IPY_MODEL_e53c3a651f5446a09d4a387ef67f5905"
       ],
       "layout": "IPY_MODEL_1007c923b0504da9be9561f7b09a00bb"
      }
     },
     "4cc66e3a1f48464fa6aeec0fe5a7d9d0": {
      "model_module": "@jupyter-widgets/controls",
      "model_module_version": "1.4.0",
      "model_name": "DescriptionStyleModel",
      "state": {
       "description_width": ""
      }
     },
     "4cf3a4aac8184603865c0c85085cf116": {
      "model_module": "@jupyter-widgets/base",
      "model_module_version": "1.1.0",
      "model_name": "LayoutModel",
      "state": {}
     },
     "4d62a3d92a4b47f08bc54a5ef6cc042e": {
      "model_module": "@jupyter-widgets/controls",
      "model_module_version": "1.4.0",
      "model_name": "SliderStyleModel",
      "state": {
       "description_width": ""
      }
     },
     "4dad79fbe94e499b948dd7ebf77b3fd0": {
      "model_module": "@jupyter-widgets/controls",
      "model_module_version": "1.4.0",
      "model_name": "SliderStyleModel",
      "state": {
       "description_width": ""
      }
     },
     "4dc76923adee4765957a347050302d84": {
      "model_module": "@jupyter-widgets/controls",
      "model_module_version": "1.4.0",
      "model_name": "SliderStyleModel",
      "state": {
       "description_width": ""
      }
     },
     "4e2b32db1b204315bca5b0751db796a7": {
      "model_module": "@jupyter-widgets/controls",
      "model_module_version": "1.4.0",
      "model_name": "AccordionModel",
      "state": {
       "_titles": {
        "0": "Info run"
       },
       "children": [
        "IPY_MODEL_2026ea8e55e24c1c9a212b400f348902"
       ],
       "layout": "IPY_MODEL_3985e0efabdd47e5a003ec1d881be2ba"
      }
     },
     "4e66689dda834e3ca9055688af1f07ad": {
      "model_module": "@jupyter-widgets/controls",
      "model_module_version": "1.4.0",
      "model_name": "SliderStyleModel",
      "state": {
       "description_width": ""
      }
     },
     "4ee89aecff2a4d7d9854f3e4cda3c995": {
      "model_module": "@jupyter-widgets/controls",
      "model_module_version": "1.4.0",
      "model_name": "ButtonStyleModel",
      "state": {}
     },
     "4f14d427a2274f9982974a359d7d8f5c": {
      "model_module": "@jupyter-widgets/controls",
      "model_module_version": "1.4.0",
      "model_name": "DescriptionStyleModel",
      "state": {
       "description_width": ""
      }
     },
     "4f223941b9134f2b8ce382aefa3afd84": {
      "model_module": "@jupyter-widgets/controls",
      "model_module_version": "1.4.0",
      "model_name": "SliderStyleModel",
      "state": {
       "description_width": ""
      }
     },
     "4f2b54473a244559b7b1fd6b7b58e102": {
      "model_module": "@jupyter-widgets/output",
      "model_module_version": "1.0.0",
      "model_name": "OutputModel",
      "state": {
       "layout": "IPY_MODEL_1381914b1c8f416cb22b5adecbec6586"
      }
     },
     "4f4f137603134c23a970aeb06538bba9": {
      "model_module": "@jupyter-widgets/controls",
      "model_module_version": "1.4.0",
      "model_name": "SliderStyleModel",
      "state": {
       "description_width": ""
      }
     },
     "4f786a0103c1447eb204a18b4ed2457c": {
      "model_module": "@jupyter-widgets/base",
      "model_module_version": "1.1.0",
      "model_name": "LayoutModel",
      "state": {
       "display": "flex",
       "visibility": "visible",
       "width": "800px"
      }
     },
     "4f7c5aee0b684d5497cb2e7622ab8f20": {
      "model_module": "@jupyter-widgets/controls",
      "model_module_version": "1.4.0",
      "model_name": "SliderStyleModel",
      "state": {
       "description_width": ""
      }
     },
     "4fbd033fca31409480e160c21f44c766": {
      "model_module": "@jupyter-widgets/base",
      "model_module_version": "1.1.0",
      "model_name": "LayoutModel",
      "state": {}
     },
     "4fbfe9a5f62849bf94e5451d6bb7e00f": {
      "model_module": "@jupyter-widgets/controls",
      "model_module_version": "1.4.0",
      "model_name": "DropdownModel",
      "state": {
       "_options_labels": [
        "None",
        "rbf",
        "nystroem"
       ],
       "description": "Sampler",
       "index": 0,
       "layout": "IPY_MODEL_a6143b9bec374d7f94afd36c1be3bd59",
       "style": "IPY_MODEL_0c54934361ad4b14a3e37be8e30f41e6"
      }
     },
     "4fd8105a450b448ca04c02f52c164c39": {
      "model_module": "@jupyter-widgets/base",
      "model_module_version": "1.1.0",
      "model_name": "LayoutModel",
      "state": {}
     },
     "4feb804430184916a00a1b7bd5603e69": {
      "model_module": "@jupyter-widgets/controls",
      "model_module_version": "1.4.0",
      "model_name": "IntRangeSliderModel",
      "state": {
       "_model_name": "IntRangeSliderModel",
       "_view_name": "IntRangeSliderView",
       "layout": "IPY_MODEL_845ed414db5041068e7608d8ea5ed4b3",
       "max": 1000,
       "min": 30,
       "step": 10,
       "style": "IPY_MODEL_81ead2d7ec0e4e36a3b62bee72777916",
       "value": [
        30,
        100
       ]
      }
     },
     "4ffdf761b9d74f07b7bb517ade308856": {
      "model_module": "@jupyter-widgets/controls",
      "model_module_version": "1.4.0",
      "model_name": "ButtonModel",
      "state": {
       "button_style": "info",
       "description": "Demo10",
       "layout": "IPY_MODEL_005116c5947d4b27b222132eaf60f5fa",
       "style": "IPY_MODEL_ca13db341c7d4a668bcf396efacf32f4"
      }
     },
     "4fff7ebe19c04c588a794f62f863ea86": {
      "model_module": "@jupyter-widgets/controls",
      "model_module_version": "1.4.0",
      "model_name": "ButtonModel",
      "state": {
       "button_style": "info",
       "description": "Add model",
       "layout": "IPY_MODEL_bd98163fe223469e88b0208aad5350cb",
       "style": "IPY_MODEL_5ffa2775f32c498d9425da751c7119ae"
      }
     },
     "5017c0efaf964f2e9f07c2d7702c3963": {
      "model_module": "@jupyter-widgets/base",
      "model_module_version": "1.1.0",
      "model_name": "LayoutModel",
      "state": {}
     },
     "508b7e5c0dc34958b39ab1ca02559de0": {
      "model_module": "@jupyter-widgets/controls",
      "model_module_version": "1.4.0",
      "model_name": "SliderStyleModel",
      "state": {
       "description_width": ""
      }
     },
     "5092559361ef44658c197cb92e83a99a": {
      "model_module": "@jupyter-widgets/controls",
      "model_module_version": "1.4.0",
      "model_name": "FloatSliderModel",
      "state": {
       "description": "min_impurity_decrease:",
       "layout": "IPY_MODEL_02585f8113b443d1a83e8e69522ff76c",
       "max": 1,
       "step": 0.1,
       "style": "IPY_MODEL_df655b0603f443da83427d033a44c518"
      }
     },
     "50a4ebd2ae7e444ab3fc5ccbdb923cad": {
      "model_module": "@jupyter-widgets/controls",
      "model_module_version": "1.4.0",
      "model_name": "ButtonModel",
      "state": {
       "button_style": "warning",
       "description": "Remove model",
       "layout": "IPY_MODEL_f5f1de5972d840b48a5f2e52632255a8",
       "style": "IPY_MODEL_6d0635183c604a5db132787ad5a6d122"
      }
     },
     "50ae7722d8644438a7ece895fe4b3838": {
      "model_module": "@jupyter-widgets/controls",
      "model_module_version": "1.4.0",
      "model_name": "ButtonModel",
      "state": {
       "button_style": "info",
       "description": "Add model",
       "layout": "IPY_MODEL_918f80500ab44e329ed7269e7f5c0ac6",
       "style": "IPY_MODEL_3686f368e4584ed9ba4da7adc7338a79"
      }
     },
     "50b1d51b60834283887e3c1f2e4480ed": {
      "model_module": "@jupyter-widgets/controls",
      "model_module_version": "1.4.0",
      "model_name": "FloatSliderModel",
      "state": {
       "description": "min_impurity_decrease:",
       "layout": "IPY_MODEL_4f786a0103c1447eb204a18b4ed2457c",
       "max": 1,
       "step": 0.1,
       "style": "IPY_MODEL_90f9083102a84ea6b325b5d772b95b0e"
      }
     },
     "50e6b512abd14dda89eaf3c195475c25": {
      "model_module": "@jupyter-widgets/controls",
      "model_module_version": "1.4.0",
      "model_name": "ButtonStyleModel",
      "state": {}
     },
     "50fc2fbf98a84867b028f352304c2f3a": {
      "model_module": "@jupyter-widgets/base",
      "model_module_version": "1.1.0",
      "model_name": "LayoutModel",
      "state": {}
     },
     "51071bc45563417b857fa5f13df4a31c": {
      "model_module": "@jupyter-widgets/controls",
      "model_module_version": "1.4.0",
      "model_name": "DropdownModel",
      "state": {
       "_options_labels": [
        "None",
        "rbf",
        "nystroem"
       ],
       "description": "Sampler",
       "index": 0,
       "layout": "IPY_MODEL_9b3ec92a93f44f3e93f1d0781906bf19",
       "style": "IPY_MODEL_d858d3dc2b744f8d8079f8ff2bccf459"
      }
     },
     "5108de1365df400bbcda3ff1bfee68fc": {
      "model_module": "@jupyter-widgets/controls",
      "model_module_version": "1.4.0",
      "model_name": "IntRangeSliderModel",
      "state": {
       "_model_name": "IntRangeSliderModel",
       "_view_name": "IntRangeSliderView",
       "layout": "IPY_MODEL_636910a7d92f43738b5b470d45bc388c",
       "max": 1000,
       "min": 30,
       "step": 10,
       "style": "IPY_MODEL_c9f3896289b3434bb3d917d744ac9b46",
       "value": [
        30,
        100
       ]
      }
     },
     "511443a04e4142a596712ab7c084407d": {
      "model_module": "@jupyter-widgets/controls",
      "model_module_version": "1.4.0",
      "model_name": "ButtonStyleModel",
      "state": {}
     },
     "518d5cfe94c24f32a601e45268bfc23e": {
      "model_module": "@jupyter-widgets/controls",
      "model_module_version": "1.4.0",
      "model_name": "DropdownModel",
      "state": {
       "_options_labels": [
        "segment",
        "covertype",
        "digits",
        "fall_detection",
        "mnist",
        "pen_digits",
        "satellite",
        "vowel"
       ],
       "description": "Dataset:",
       "index": 0,
       "layout": "IPY_MODEL_c55ca6ea69514341ab8657b586e822b7",
       "style": "IPY_MODEL_a775eaf1d28240f38ca5016e40c2c44e"
      }
     },
     "5192aa7739494d918db4f2611fa42363": {
      "model_module": "@jupyter-widgets/base",
      "model_module_version": "1.1.0",
      "model_name": "LayoutModel",
      "state": {
       "visibility": "hidden",
       "width": "800px"
      }
     },
     "51969563b3814413b063377502a590e5": {
      "model_module": "@jupyter-widgets/controls",
      "model_module_version": "1.4.0",
      "model_name": "DescriptionStyleModel",
      "state": {
       "description_width": ""
      }
     },
     "51989af505b84b5494b50b613f93581a": {
      "model_module": "@jupyter-widgets/controls",
      "model_module_version": "1.4.0",
      "model_name": "HTMLModel",
      "state": {
       "layout": "IPY_MODEL_8acc14f4d43e4e8aa62d22eea0469a22",
       "style": "IPY_MODEL_db977a9924024bc199f7bb06dcd5f5ff",
       "value": "<strong>Size</strong>: 2000"
      }
     },
     "51e5cdb95f9445e490a77bd7f0b923ed": {
      "model_module": "@jupyter-widgets/controls",
      "model_module_version": "1.4.0",
      "model_name": "SliderStyleModel",
      "state": {
       "description_width": ""
      }
     },
     "5218d40956d64a72866a38f02bdbb7dc": {
      "model_module": "@jupyter-widgets/base",
      "model_module_version": "1.1.0",
      "model_name": "LayoutModel",
      "state": {}
     },
     "527214d3b5b94e64b8086078ba732a55": {
      "model_module": "@jupyter-widgets/base",
      "model_module_version": "1.1.0",
      "model_name": "LayoutModel",
      "state": {}
     },
     "529a26a04e17443687d39ea05d832c14": {
      "model_module": "@jupyter-widgets/base",
      "model_module_version": "1.1.0",
      "model_name": "LayoutModel",
      "state": {
       "display": "none",
       "visibility": "hidden",
       "width": "800px"
      }
     },
     "52c05e9bb8a54e96a2d2622723b2ca0f": {
      "model_module": "@jupyter-widgets/controls",
      "model_module_version": "1.4.0",
      "model_name": "FloatLogSliderModel",
      "state": {
       "description": "Gamma",
       "layout": "IPY_MODEL_d1390d8afc0647f7a4e6f93b41e3291c",
       "max": 2,
       "min": -4,
       "step": 1,
       "style": "IPY_MODEL_51e5cdb95f9445e490a77bd7f0b923ed",
       "value": 0.0001
      }
     },
     "52eedea2aec64c1aa70301cabc19bb15": {
      "model_module": "@jupyter-widgets/base",
      "model_module_version": "1.1.0",
      "model_name": "LayoutModel",
      "state": {
       "display": "none",
       "visibility": "hidden",
       "width": "800px"
      }
     },
     "53274220b50c4c21835665186f9594f6": {
      "model_module": "@jupyter-widgets/base",
      "model_module_version": "1.1.0",
      "model_name": "LayoutModel",
      "state": {}
     },
     "543a314442734100a0db87a8c24d3598": {
      "model_module": "@jupyter-widgets/controls",
      "model_module_version": "1.4.0",
      "model_name": "IntSliderModel",
      "state": {
       "description": "N. estim.",
       "layout": "IPY_MODEL_210f94ce5fbd4e0a836fc9780e20a64f",
       "max": 200,
       "min": 2,
       "style": "IPY_MODEL_1787329254a74858b70fecb4a405e6b0",
       "value": 30
      }
     },
     "543f69283b6c4a81989371f7017153bd": {
      "model_module": "@jupyter-widgets/base",
      "model_module_version": "1.1.0",
      "model_name": "LayoutModel",
      "state": {}
     },
     "544931fe5b08430d8ea94dba4e770890": {
      "model_module": "@jupyter-widgets/controls",
      "model_module_version": "1.4.0",
      "model_name": "VBoxModel",
      "state": {
       "children": [
        "IPY_MODEL_947eb04d25a24e948674850c98f9f03c"
       ],
       "layout": "IPY_MODEL_67339297502c4c7eb8d13d5ef1f9a103"
      }
     },
     "54af255124754e1d8baf5da63dcbd592": {
      "model_module": "@jupyter-widgets/base",
      "model_module_version": "1.1.0",
      "model_name": "LayoutModel",
      "state": {}
     },
     "54b7d325ce25456b9f32e1ade86e8f2b": {
      "model_module": "@jupyter-widgets/controls",
      "model_module_version": "1.4.0",
      "model_name": "SliderStyleModel",
      "state": {
       "description_width": "initial"
      }
     },
     "550765515dbc4665a530d5406bf2fb0b": {
      "model_module": "@jupyter-widgets/base",
      "model_module_version": "1.1.0",
      "model_name": "LayoutModel",
      "state": {}
     },
     "554eb73e6dd8438d968a5f1e09333b3f": {
      "model_module": "@jupyter-widgets/base",
      "model_module_version": "1.1.0",
      "model_name": "LayoutModel",
      "state": {}
     },
     "558f5de08ed344e0a35b05bed92e97b4": {
      "model_module": "@jupyter-widgets/base",
      "model_module_version": "1.1.0",
      "model_name": "LayoutModel",
      "state": {
       "display": "flex",
       "visibility": "visible",
       "width": "800px"
      }
     },
     "55db2f492132485f9556662e48a2c631": {
      "model_module": "@jupyter-widgets/controls",
      "model_module_version": "1.4.0",
      "model_name": "DescriptionStyleModel",
      "state": {
       "description_width": ""
      }
     },
     "55e0faa65aa7463da12a8bce08067b0d": {
      "model_module": "@jupyter-widgets/base",
      "model_module_version": "1.1.0",
      "model_name": "LayoutModel",
      "state": {
       "display": "none",
       "visibility": "hidden",
       "width": "800px"
      }
     },
     "5609831eacb445cc96c591ec5dedd94d": {
      "model_module": "@jupyter-widgets/base",
      "model_module_version": "1.1.0",
      "model_name": "LayoutModel",
      "state": {}
     },
     "562ddd8a82c94c62854b314ca9223b9f": {
      "model_module": "@jupyter-widgets/controls",
      "model_module_version": "1.4.0",
      "model_name": "HTMLModel",
      "state": {
       "layout": "IPY_MODEL_e51728e12aed4ff0a5a537549ea7215a",
       "style": "IPY_MODEL_fcfef4af78c64445880e8f1125153f17",
       "value": "<strong>Size</strong>: 2000"
      }
     },
     "56476f73978e41dfb981951d796e64c4": {
      "model_module": "@jupyter-widgets/controls",
      "model_module_version": "1.4.0",
      "model_name": "ButtonStyleModel",
      "state": {}
     },
     "5693a7b211dd4f63bbd714fd13b96cc0": {
      "model_module": "@jupyter-widgets/controls",
      "model_module_version": "1.4.0",
      "model_name": "IntRangeSliderModel",
      "state": {
       "_model_name": "IntRangeSliderModel",
       "_view_name": "IntRangeSliderView",
       "layout": "IPY_MODEL_be306ec481974b9da6652fc837ec6cc5",
       "max": 1000,
       "min": 30,
       "step": 10,
       "style": "IPY_MODEL_25718b97e47c4296ab5df03cf3644779",
       "value": [
        30,
        100
       ]
      }
     },
     "56a261d7f20245548586a687a1b522f4": {
      "model_module": "@jupyter-widgets/controls",
      "model_module_version": "1.4.0",
      "model_name": "IntSliderModel",
      "state": {
       "description": "C",
       "layout": "IPY_MODEL_529a26a04e17443687d39ea05d832c14",
       "max": 10,
       "min": 1,
       "style": "IPY_MODEL_86da8978bfa9488bb9389d45a9863c05",
       "value": 5
      }
     },
     "56dab73e416a43ce820949bd035875b7": {
      "model_module": "@jupyter-widgets/output",
      "model_module_version": "1.0.0",
      "model_name": "OutputModel",
      "state": {
       "layout": "IPY_MODEL_78d8e102ea1c421ba3edef47018e95cc"
      }
     },
     "57685dab90434fbbbb6f12dbfea9199d": {
      "model_module": "@jupyter-widgets/base",
      "model_module_version": "1.1.0",
      "model_name": "LayoutModel",
      "state": {}
     },
     "57a4bd675b0843bc902c583d7ef153ac": {
      "model_module": "@jupyter-widgets/controls",
      "model_module_version": "1.4.0",
      "model_name": "RadioButtonsModel",
      "state": {
       "_options_labels": [
        "1000",
        "2000",
        "5000",
        "10000"
       ],
       "description": "Size",
       "index": 0,
       "layout": "IPY_MODEL_af77f86b5d2a464585f9a4c0cfc1e38a",
       "style": "IPY_MODEL_ba563c9aae2b4cb9966da8af8aeda609"
      }
     },
     "5843dbd92254421a800fa4b7bdcffc94": {
      "model_module": "@jupyter-widgets/base",
      "model_module_version": "1.1.0",
      "model_name": "LayoutModel",
      "state": {}
     },
     "5864646f931040d89c3d91f9dd39adf7": {
      "model_module": "@jupyter-widgets/base",
      "model_module_version": "1.1.0",
      "model_name": "LayoutModel",
      "state": {}
     },
     "58a8fe18bf90469c81a07cbd7ac5f01f": {
      "model_module": "@jupyter-widgets/controls",
      "model_module_version": "1.4.0",
      "model_name": "VBoxModel",
      "state": {
       "children": [
        "IPY_MODEL_ae6d577f2dd94d1c94092ba144efa313"
       ],
       "layout": "IPY_MODEL_f165084980fe4d039095265104bc0d81"
      }
     },
     "58bee909cc8845fe910c74f3ad7868fa": {
      "model_module": "@jupyter-widgets/base",
      "model_module_version": "1.1.0",
      "model_name": "LayoutModel",
      "state": {
       "display": "none",
       "visibility": "hidden",
       "width": "800px"
      }
     },
     "59041ecf3e794bcc87a4bfeb860f152f": {
      "model_module": "@jupyter-widgets/controls",
      "model_module_version": "1.4.0",
      "model_name": "DescriptionStyleModel",
      "state": {
       "description_width": ""
      }
     },
     "5934ad0330e649d58f6f5da0436fb4ce": {
      "model_module": "@jupyter-widgets/controls",
      "model_module_version": "1.4.0",
      "model_name": "IntRangeSliderModel",
      "state": {
       "_model_name": "IntRangeSliderModel",
       "_view_name": "IntRangeSliderView",
       "layout": "IPY_MODEL_1d01dec2b939456281dbf0920eba12cc",
       "max": 1000,
       "min": 30,
       "step": 10,
       "style": "IPY_MODEL_04615f345b234fc9b402867fbebe07af",
       "value": [
        30,
        100
       ]
      }
     },
     "593779d388e5489b8128a20bf0f3b53e": {
      "model_module": "@jupyter-widgets/controls",
      "model_module_version": "1.4.0",
      "model_name": "DescriptionStyleModel",
      "state": {
       "description_width": ""
      }
     },
     "594a13a0d5644a52bad187dc991f03d8": {
      "model_module": "@jupyter-widgets/base",
      "model_module_version": "1.1.0",
      "model_name": "LayoutModel",
      "state": {}
     },
     "5955bf64afac417b9e9c2511dd219d90": {
      "model_module": "@jupyter-widgets/base",
      "model_module_version": "1.1.0",
      "model_name": "LayoutModel",
      "state": {}
     },
     "59a1e6a8fae4482abb1182d44a50f654": {
      "model_module": "@jupyter-widgets/controls",
      "model_module_version": "1.4.0",
      "model_name": "DescriptionStyleModel",
      "state": {
       "description_width": ""
      }
     },
     "59c03af6c08a4a7c8fbfd450fd939e3e": {
      "model_module": "@jupyter-widgets/base",
      "model_module_version": "1.1.0",
      "model_name": "LayoutModel",
      "state": {}
     },
     "59cc8cabf6084d1ea48385e66e2fe8a4": {
      "model_module": "@jupyter-widgets/base",
      "model_module_version": "1.1.0",
      "model_name": "LayoutModel",
      "state": {}
     },
     "5a0d3ad75d214ef5b0e7204fc0a76b14": {
      "model_module": "@jupyter-widgets/base",
      "model_module_version": "1.1.0",
      "model_name": "LayoutModel",
      "state": {}
     },
     "5a83a5da1e0c4903bc8cad843d41d838": {
      "model_module": "@jupyter-widgets/controls",
      "model_module_version": "1.4.0",
      "model_name": "DescriptionStyleModel",
      "state": {
       "description_width": ""
      }
     },
     "5abe2a589e5c4eb49c962c00d0e0e7ae": {
      "model_module": "@jupyter-widgets/base",
      "model_module_version": "1.1.0",
      "model_name": "LayoutModel",
      "state": {}
     },
     "5acf9c2e67cc41d086bb39becea922ce": {
      "model_module": "@jupyter-widgets/controls",
      "model_module_version": "1.4.0",
      "model_name": "HTMLModel",
      "state": {
       "layout": "IPY_MODEL_ef2f30fee4f54c3898f9be961d40b840",
       "style": "IPY_MODEL_1dc2e2480c4e444cbf8bd66b44c3c122",
       "value": "<strong>Size</strong>: 2000"
      }
     },
     "5ae58fa740b742e289c7629cad1a1937": {
      "model_module": "@jupyter-widgets/controls",
      "model_module_version": "1.4.0",
      "model_name": "SliderStyleModel",
      "state": {
       "description_width": ""
      }
     },
     "5b418f86e09c41728078f3674120735a": {
      "model_module": "@jupyter-widgets/controls",
      "model_module_version": "1.4.0",
      "model_name": "DropdownModel",
      "state": {
       "_options_labels": [
        "None",
        "rbf",
        "nystroem"
       ],
       "description": "Sampler",
       "index": 0,
       "layout": "IPY_MODEL_d0d6a5f8aa8243b18063de8112858dce",
       "style": "IPY_MODEL_c7dca407ef054b948b9ea79cea20eb9d"
      }
     },
     "5b4ddb00ec6a44849261770def3163c0": {
      "model_module": "@jupyter-widgets/base",
      "model_module_version": "1.1.0",
      "model_name": "LayoutModel",
      "state": {
       "margin": "0px 20px 0px 0px"
      }
     },
     "5bb50427ff17425bbb8048ef4ad034cf": {
      "model_module": "@jupyter-widgets/controls",
      "model_module_version": "1.4.0",
      "model_name": "VBoxModel",
      "state": {
       "children": [
        "IPY_MODEL_90e713905df54e55b88774b8ac0c2bb0"
       ],
       "layout": "IPY_MODEL_ec4f8394560448639073ed3f9b00b857"
      }
     },
     "5bf8953cbe934d26a7e57d350d01d240": {
      "model_module": "@jupyter-widgets/base",
      "model_module_version": "1.1.0",
      "model_name": "LayoutModel",
      "state": {}
     },
     "5c02a4fb6444402ea0156af7756559c0": {
      "model_module": "@jupyter-widgets/output",
      "model_module_version": "1.0.0",
      "model_name": "OutputModel",
      "state": {
       "layout": "IPY_MODEL_2630207518314af696590aa9cf1db1b9"
      }
     },
     "5c1f6ee5ec7c4fe6bf3490839d54fddf": {
      "model_module": "@jupyter-widgets/controls",
      "model_module_version": "1.4.0",
      "model_name": "SliderStyleModel",
      "state": {
       "description_width": ""
      }
     },
     "5c521bfab7a846a6a392084764c61227": {
      "model_module": "@jupyter-widgets/output",
      "model_module_version": "1.0.0",
      "model_name": "OutputModel",
      "state": {
       "layout": "IPY_MODEL_6423b6f525b949529d94a549f3cc69b5"
      }
     },
     "5cc292282084422d987c194e29ad9546": {
      "model_module": "@jupyter-widgets/controls",
      "model_module_version": "1.4.0",
      "model_name": "HTMLModel",
      "state": {
       "layout": "IPY_MODEL_695ef924c4c34727a90719b0ed1fda70",
       "style": "IPY_MODEL_e40e29dc60794d75b925d5fe6b635af8",
       "value": "<strong>Dataset</strong>: vowel"
      }
     },
     "5ccb529098b1496fb4a63710a6fa26d3": {
      "model_module": "@jupyter-widgets/controls",
      "model_module_version": "1.4.0",
      "model_name": "VBoxModel",
      "state": {
       "children": [
        "IPY_MODEL_90e559943c2b44f7947f04e2f1431661",
        "IPY_MODEL_93bf7680dd1b4e78a3ed2ea7b74d0c80",
        "IPY_MODEL_4fff7ebe19c04c588a794f62f863ea86",
        "IPY_MODEL_d05eb37c65a34b03ade55b4cb3b6b60a",
        "IPY_MODEL_f2f4fa82c504456da70630526ca6f7df",
        "IPY_MODEL_190196c2d71b4752b8543caa7e3c1bf6",
        "IPY_MODEL_c7f7f36c6298406791c177ed93224904"
       ],
       "layout": "IPY_MODEL_a159afa08d0d4c2da86d89dd438d4d6c"
      }
     },
     "5d284edd9d244afc9072b8e5e05fdc8a": {
      "model_module": "@jupyter-widgets/controls",
      "model_module_version": "1.4.0",
      "model_name": "HBoxModel",
      "state": {
       "children": [
        "IPY_MODEL_8e6852699424428ca23fa22ccb6f0917",
        "IPY_MODEL_58a8fe18bf90469c81a07cbd7ac5f01f"
       ],
       "layout": "IPY_MODEL_1aae30d75c294642b99a1027549f4d56"
      }
     },
     "5d5e7d14107e42159cea6aba5ab7a15b": {
      "model_module": "@jupyter-widgets/controls",
      "model_module_version": "1.4.0",
      "model_name": "IntSliderModel",
      "state": {
       "description": "C",
       "layout": "IPY_MODEL_fa1a442b6daa4d96b576425b83a9fba2",
       "max": 10,
       "min": 1,
       "style": "IPY_MODEL_66396694c3174a139a4e3b4b46ab848e",
       "value": 5
      }
     },
     "5d72a309996e44da91d819af01c55509": {
      "model_module": "@jupyter-widgets/controls",
      "model_module_version": "1.4.0",
      "model_name": "VBoxModel",
      "state": {
       "children": [
        "IPY_MODEL_5acf9c2e67cc41d086bb39becea922ce"
       ],
       "layout": "IPY_MODEL_5f6ec97b2d424f8d8a1d9bd4a826411d"
      }
     },
     "5dc2ef7b287e4e5f9aa4febcd9eaea4a": {
      "model_module": "@jupyter-widgets/base",
      "model_module_version": "1.1.0",
      "model_name": "LayoutModel",
      "state": {}
     },
     "5df8e2f9a770431ca67f84a6766791d1": {
      "model_module": "@jupyter-widgets/controls",
      "model_module_version": "1.4.0",
      "model_name": "VBoxModel",
      "state": {
       "children": [
        "IPY_MODEL_068d7898f8454795a1aa933ba4d685c3",
        "IPY_MODEL_fd7f3631b22345619a5a2306c8ac6d7a",
        "IPY_MODEL_bd391d28bd7c49c9a24e689a5ae71030",
        "IPY_MODEL_6d5bd496b6e047cdb4038c3c403b07ee",
        "IPY_MODEL_b7665cba5f1f4b0cae09aa3e5a8ba108",
        "IPY_MODEL_6e4adee2cd6a42b381054ad02cb4f439",
        "IPY_MODEL_42048b1e827644ff97b318b95b1a6d13",
        "IPY_MODEL_196e92591f6d490c9cc074c16e9220f3"
       ],
       "layout": "IPY_MODEL_8d7530b7eb784be4b4352dcfb4cc03a1"
      }
     },
     "5e4d91d790e44bb4bf1975088aaefe58": {
      "model_module": "@jupyter-widgets/controls",
      "model_module_version": "1.4.0",
      "model_name": "HTMLModel",
      "state": {
       "layout": "IPY_MODEL_acd58dfd3e734d18a571f9e74e873a11",
       "style": "IPY_MODEL_2564b83ddede4e0ab71ecfa75c66c0ff",
       "value": "<strong>Dataset</strong>: segment"
      }
     },
     "5e70abb98a2e40b790537e1d32aba7b0": {
      "model_module": "@jupyter-widgets/controls",
      "model_module_version": "1.4.0",
      "model_name": "DescriptionStyleModel",
      "state": {
       "description_width": ""
      }
     },
     "5e7869d1afa845ae8123d236db1a1d89": {
      "model_module": "@jupyter-widgets/controls",
      "model_module_version": "1.4.0",
      "model_name": "DescriptionStyleModel",
      "state": {
       "description_width": ""
      }
     },
     "5e79c5360ee24880b0bd7c5ce8e60a44": {
      "model_module": "@jupyter-widgets/base",
      "model_module_version": "1.1.0",
      "model_name": "LayoutModel",
      "state": {}
     },
     "5e92f035ecec49759a584c1947f84e34": {
      "model_module": "@jupyter-widgets/base",
      "model_module_version": "1.1.0",
      "model_name": "LayoutModel",
      "state": {}
     },
     "5e960e05082042cbb5339dbc07223893": {
      "model_module": "@jupyter-widgets/controls",
      "model_module_version": "1.4.0",
      "model_name": "DescriptionStyleModel",
      "state": {
       "description_width": ""
      }
     },
     "5ea38a031a7e4008a4324cae0a13f4bc": {
      "model_module": "@jupyter-widgets/base",
      "model_module_version": "1.1.0",
      "model_name": "LayoutModel",
      "state": {}
     },
     "5eeb7d65473c4f1596a8022f332e4511": {
      "model_module": "@jupyter-widgets/controls",
      "model_module_version": "1.4.0",
      "model_name": "DescriptionStyleModel",
      "state": {
       "description_width": ""
      }
     },
     "5efbb26a804249f092cbf80a39f4c471": {
      "model_module": "@jupyter-widgets/base",
      "model_module_version": "1.1.0",
      "model_name": "LayoutModel",
      "state": {
       "width": "900px"
      }
     },
     "5f046961f1984a889dcd99d798fe3781": {
      "model_module": "@jupyter-widgets/controls",
      "model_module_version": "1.4.0",
      "model_name": "DescriptionStyleModel",
      "state": {
       "description_width": ""
      }
     },
     "5f6d8347124a48e4a96c057133aa2071": {
      "model_module": "@jupyter-widgets/controls",
      "model_module_version": "1.4.0",
      "model_name": "VBoxModel",
      "state": {
       "children": [
        "IPY_MODEL_6a3faa84d89b46eca37fa54b659d0d1e",
        "IPY_MODEL_c5d9046406aa4d2290139f60008a1d88",
        "IPY_MODEL_99d77123f26345f194ada3a1a4fed15c",
        "IPY_MODEL_a011a0f440fc4ac2b0f20fa0b1c4763b",
        "IPY_MODEL_df3cb84e4ab2425bbacf69ee4583d79a",
        "IPY_MODEL_9859b574af1b4eb3986dbe97186e1258",
        "IPY_MODEL_1c41182df2be4d448af9ea790e41656a"
       ],
       "layout": "IPY_MODEL_8f08a2ada33b4951ad1df60f80bf96e9"
      }
     },
     "5f6ec97b2d424f8d8a1d9bd4a826411d": {
      "model_module": "@jupyter-widgets/base",
      "model_module_version": "1.1.0",
      "model_name": "LayoutModel",
      "state": {
       "margin": "0px 20px 0px 0px"
      }
     },
     "5f87d253c68946d08e718dcc21d60e70": {
      "model_module": "@jupyter-widgets/base",
      "model_module_version": "1.1.0",
      "model_name": "LayoutModel",
      "state": {}
     },
     "5fbd210e051f4588a761cf893ec08f18": {
      "model_module": "@jupyter-widgets/base",
      "model_module_version": "1.1.0",
      "model_name": "LayoutModel",
      "state": {}
     },
     "5ffa2775f32c498d9425da751c7119ae": {
      "model_module": "@jupyter-widgets/controls",
      "model_module_version": "1.4.0",
      "model_name": "ButtonStyleModel",
      "state": {}
     },
     "60475f1f020b44178cf0bf3cf9946ee7": {
      "model_module": "@jupyter-widgets/controls",
      "model_module_version": "1.4.0",
      "model_name": "VBoxModel",
      "state": {
       "children": [
        "IPY_MODEL_f07f858b228548f8ae9b014c023b5b8e",
        "IPY_MODEL_ed1d0e1dccf74769808498a9f303d725",
        "IPY_MODEL_f18b8cc6c7914fb29c328ab842196eed",
        "IPY_MODEL_5d5e7d14107e42159cea6aba5ab7a15b",
        "IPY_MODEL_cb9c60329de447858453444fb8d20b93",
        "IPY_MODEL_a60d1e7a546442e4ae2d0c5e753014aa",
        "IPY_MODEL_8a7030776a3042438bfd388ee839e1fb",
        "IPY_MODEL_02347534f6564ada8f59b538d5bc4e50"
       ],
       "layout": "IPY_MODEL_594a13a0d5644a52bad187dc991f03d8"
      }
     },
     "60a9bd124f4a401ba5487ce2d53889b2": {
      "model_module": "@jupyter-widgets/controls",
      "model_module_version": "1.4.0",
      "model_name": "FloatLogSliderModel",
      "state": {
       "description": "Gamma",
       "layout": "IPY_MODEL_bf9bd170dc0f4e65b733a334d6363beb",
       "max": 2,
       "min": -4,
       "step": 1,
       "style": "IPY_MODEL_d0ba83ddc48642d4828df0ad43b46639",
       "value": 0.0001
      }
     },
     "60babd7af81d43749a82c29f4b7234a9": {
      "model_module": "@jupyter-widgets/base",
      "model_module_version": "1.1.0",
      "model_name": "LayoutModel",
      "state": {}
     },
     "60d108f631ad4437a80e0ef83fe85271": {
      "model_module": "@jupyter-widgets/base",
      "model_module_version": "1.1.0",
      "model_name": "LayoutModel",
      "state": {
       "display": "flex",
       "visibility": "visible",
       "width": "800px"
      }
     },
     "60d2733e87304014912447be61e7f210": {
      "model_module": "@jupyter-widgets/output",
      "model_module_version": "1.0.0",
      "model_name": "OutputModel",
      "state": {
       "layout": "IPY_MODEL_ed0361d1a0b944bdb13aab816185a3b9"
      }
     },
     "60e9c620fa1a434fb63daf0dd6f9868d": {
      "model_module": "@jupyter-widgets/controls",
      "model_module_version": "1.4.0",
      "model_name": "SliderStyleModel",
      "state": {
       "description_width": ""
      }
     },
     "61df99b47dfd475c8b1ff0817538dc8d": {
      "model_module": "@jupyter-widgets/base",
      "model_module_version": "1.1.0",
      "model_name": "LayoutModel",
      "state": {}
     },
     "61f5f0b2cec04875888fdc329a669539": {
      "model_module": "@jupyter-widgets/base",
      "model_module_version": "1.1.0",
      "model_name": "LayoutModel",
      "state": {}
     },
     "620c618e11d8454f885171e4d072a342": {
      "model_module": "@jupyter-widgets/base",
      "model_module_version": "1.1.0",
      "model_name": "LayoutModel",
      "state": {}
     },
     "6212bc99f0b94966b897ad8792a53bee": {
      "model_module": "@jupyter-widgets/controls",
      "model_module_version": "1.4.0",
      "model_name": "DropdownModel",
      "state": {
       "_options_labels": [
        "black_bag",
        "grey_bag",
        "black_ens",
        "grey_ens",
        "None"
       ],
       "description": "Box Type",
       "index": 4,
       "layout": "IPY_MODEL_9ea32af3fba34764960feb381aeebf93",
       "style": "IPY_MODEL_2116368b4f724e679a7d2541587fa2ed"
      }
     },
     "6225f217bb834a77a21318ee444d971b": {
      "model_module": "@jupyter-widgets/base",
      "model_module_version": "1.1.0",
      "model_name": "LayoutModel",
      "state": {
       "display": "flex",
       "visibility": "visible",
       "width": "800px"
      }
     },
     "624e898da82244b688a31b9441084104": {
      "model_module": "@jupyter-widgets/controls",
      "model_module_version": "1.4.0",
      "model_name": "DescriptionStyleModel",
      "state": {
       "description_width": ""
      }
     },
     "62932e55978846c4955c7c6c6532a06a": {
      "model_module": "@jupyter-widgets/base",
      "model_module_version": "1.1.0",
      "model_name": "LayoutModel",
      "state": {}
     },
     "629efab138fe42debde2ce8d69e936b2": {
      "model_module": "@jupyter-widgets/base",
      "model_module_version": "1.1.0",
      "model_name": "LayoutModel",
      "state": {}
     },
     "62e559f8814242f3a6144da3415b4dd8": {
      "model_module": "@jupyter-widgets/controls",
      "model_module_version": "1.4.0",
      "model_name": "DropdownModel",
      "state": {
       "_options_labels": [
        "dt",
        "logit",
        "linear_svc",
        "rbf_svc"
       ],
       "description": "Model",
       "index": 0,
       "layout": "IPY_MODEL_8a2d9accf8da4a30825b0b5e14e9bdd3",
       "style": "IPY_MODEL_6f7070fc9bc34a709542aa1892de275d"
      }
     },
     "6360373e28d64079a16260d227ee4dbc": {
      "model_module": "@jupyter-widgets/controls",
      "model_module_version": "1.4.0",
      "model_name": "IntSliderModel",
      "state": {
       "description": "C",
       "layout": "IPY_MODEL_eb460752954e4733b5b5ded967a31294",
       "max": 10,
       "min": 1,
       "style": "IPY_MODEL_cabfe25357b44a8287e457bb06fdf54e",
       "value": 5
      }
     },
     "636910a7d92f43738b5b470d45bc388c": {
      "model_module": "@jupyter-widgets/base",
      "model_module_version": "1.1.0",
      "model_name": "LayoutModel",
      "state": {
       "width": "900px"
      }
     },
     "636d116782a34ac4baf3748f5f7bd9da": {
      "model_module": "@jupyter-widgets/controls",
      "model_module_version": "1.4.0",
      "model_name": "DescriptionStyleModel",
      "state": {
       "description_width": ""
      }
     },
     "6371cd71140749fb8e1304848e30ab22": {
      "model_module": "@jupyter-widgets/base",
      "model_module_version": "1.1.0",
      "model_name": "LayoutModel",
      "state": {}
     },
     "63bbea905fd24324ba92aaf46e489c67": {
      "model_module": "@jupyter-widgets/controls",
      "model_module_version": "1.4.0",
      "model_name": "HBoxModel",
      "state": {
       "children": [
        "IPY_MODEL_1c937c452ee74e71bf7d288a315d25dc",
        "IPY_MODEL_843b8769639849dfab5c6c9119b7205b"
       ],
       "layout": "IPY_MODEL_3d1ac2882f664296beedcbb49baa7e2f"
      }
     },
     "6423b6f525b949529d94a549f3cc69b5": {
      "model_module": "@jupyter-widgets/base",
      "model_module_version": "1.1.0",
      "model_name": "LayoutModel",
      "state": {}
     },
     "644679a7533a43f7bdedfb2073573e5f": {
      "model_module": "@jupyter-widgets/base",
      "model_module_version": "1.1.0",
      "model_name": "LayoutModel",
      "state": {}
     },
     "644771742d3d4a5384d979bf65b10b1d": {
      "model_module": "@jupyter-widgets/controls",
      "model_module_version": "1.4.0",
      "model_name": "ButtonStyleModel",
      "state": {}
     },
     "6464d5d1f0684d08a28ce2609fea424e": {
      "model_module": "@jupyter-widgets/base",
      "model_module_version": "1.1.0",
      "model_name": "LayoutModel",
      "state": {}
     },
     "648ae126423845af92f0afe194819a7a": {
      "model_module": "@jupyter-widgets/controls",
      "model_module_version": "1.4.0",
      "model_name": "FloatLogSliderModel",
      "state": {
       "description": "Gamma",
       "layout": "IPY_MODEL_9a8061e341984945a39db65b966fc5ac",
       "max": 2,
       "min": -4,
       "step": 1,
       "style": "IPY_MODEL_4a0e4818aa3a4a64bf1654185a72bafd",
       "value": 0.0001
      }
     },
     "64e7896dca9c47a99d5d69b13958926c": {
      "model_module": "@jupyter-widgets/base",
      "model_module_version": "1.1.0",
      "model_name": "LayoutModel",
      "state": {}
     },
     "64ee49804f94441d8a812b870fce4aea": {
      "model_module": "@jupyter-widgets/controls",
      "model_module_version": "1.4.0",
      "model_name": "AccordionModel",
      "state": {
       "_titles": {
        "0": "Info run"
       },
       "children": [
        "IPY_MODEL_2d5c281f9d8a4f30afc47a67bdb41f7d"
       ],
       "layout": "IPY_MODEL_18b260de27c0463cb1c1e7764a28f71c"
      }
     },
     "6504961b06e1416997a556591a69b6d7": {
      "model_module": "@jupyter-widgets/controls",
      "model_module_version": "1.4.0",
      "model_name": "DropdownModel",
      "state": {
       "_options_labels": [
        "dt",
        "logit",
        "linear_svc",
        "rbf_svc"
       ],
       "description": "Model",
       "index": 0,
       "layout": "IPY_MODEL_3013e83db6024c8f9ce93e178812cf4a",
       "style": "IPY_MODEL_2dd6f98255e5450cbf485837fa3f186c"
      }
     },
     "6510ef3e787a4c74813ff66b377472d8": {
      "model_module": "@jupyter-widgets/controls",
      "model_module_version": "1.4.0",
      "model_name": "SliderStyleModel",
      "state": {
       "description_width": ""
      }
     },
     "6533a941cbf04704868125912698ee51": {
      "model_module": "@jupyter-widgets/base",
      "model_module_version": "1.1.0",
      "model_name": "LayoutModel",
      "state": {}
     },
     "655a4e8a161245e693e9b87806637b16": {
      "model_module": "@jupyter-widgets/base",
      "model_module_version": "1.1.0",
      "model_name": "LayoutModel",
      "state": {
       "display": "none",
       "visibility": "hidden",
       "width": "800px"
      }
     },
     "6596869098ee4be9a2a779cfbb1688c9": {
      "model_module": "@jupyter-widgets/controls",
      "model_module_version": "1.4.0",
      "model_name": "VBoxModel",
      "state": {
       "children": [
        "IPY_MODEL_f7818b57dad847eca508b43464ac7ec8",
        "IPY_MODEL_5092559361ef44658c197cb92e83a99a",
        "IPY_MODEL_a8cd02284bf241f3a612860c0a7abe17",
        "IPY_MODEL_2cadd0ee8bd1498199d3ac6f9f2da62c",
        "IPY_MODEL_1a55ec6881a941658122c42f75458684",
        "IPY_MODEL_0cd2f4c84080410eae18ebe5205b5dec",
        "IPY_MODEL_1f03c8b0c27c48b3a16aac506690ff8f",
        "IPY_MODEL_c8420c200979463487057c6972065043"
       ],
       "layout": "IPY_MODEL_f2f0e5ffdb924cf7a0a654208c443814"
      }
     },
     "65a7a2561d81490a82c54ea88fadaab3": {
      "model_module": "@jupyter-widgets/base",
      "model_module_version": "1.1.0",
      "model_name": "LayoutModel",
      "state": {
       "margin": "0px 20px 0px 0px"
      }
     },
     "65db822f1eb44435b74e1a2cb1684a22": {
      "model_module": "@jupyter-widgets/base",
      "model_module_version": "1.1.0",
      "model_name": "LayoutModel",
      "state": {}
     },
     "66396694c3174a139a4e3b4b46ab848e": {
      "model_module": "@jupyter-widgets/controls",
      "model_module_version": "1.4.0",
      "model_name": "SliderStyleModel",
      "state": {
       "description_width": ""
      }
     },
     "663c78a2c48548aabf64aff475cffe83": {
      "model_module": "@jupyter-widgets/controls",
      "model_module_version": "1.4.0",
      "model_name": "SliderStyleModel",
      "state": {
       "description_width": ""
      }
     },
     "665ce0ebd3664ff8a88433db7658a87e": {
      "model_module": "@jupyter-widgets/base",
      "model_module_version": "1.1.0",
      "model_name": "LayoutModel",
      "state": {}
     },
     "6683d2d78f31430292243066d51a9bfc": {
      "model_module": "@jupyter-widgets/controls",
      "model_module_version": "1.4.0",
      "model_name": "ButtonModel",
      "state": {
       "button_style": "info",
       "description": "Demo10",
       "layout": "IPY_MODEL_4cf3a4aac8184603865c0c85085cf116",
       "style": "IPY_MODEL_56476f73978e41dfb981951d796e64c4"
      }
     },
     "66928613387e4cd099c4e69df2648907": {
      "model_module": "@jupyter-widgets/base",
      "model_module_version": "1.1.0",
      "model_name": "LayoutModel",
      "state": {}
     },
     "66a3bdb4889f44f18182d3c1ba20124d": {
      "model_module": "@jupyter-widgets/controls",
      "model_module_version": "1.4.0",
      "model_name": "TabModel",
      "state": {
       "_titles": {
        "0": "dt"
       },
       "children": [
        "IPY_MODEL_0a5073e75a18435ab01f5cf6efb36848"
       ],
       "layout": "IPY_MODEL_452db8145b7d46f491037665ee989554"
      }
     },
     "66a8a0cc74054b2dbf36bd29e7b05ebd": {
      "model_module": "@jupyter-widgets/base",
      "model_module_version": "1.1.0",
      "model_name": "LayoutModel",
      "state": {}
     },
     "66ead3255962497a874c4ba34f7233c2": {
      "model_module": "@jupyter-widgets/controls",
      "model_module_version": "1.4.0",
      "model_name": "ButtonStyleModel",
      "state": {}
     },
     "6708ed154c1745a084052c62ef5c8de4": {
      "model_module": "@jupyter-widgets/controls",
      "model_module_version": "1.4.0",
      "model_name": "DropdownModel",
      "state": {
       "_options_labels": [
        "segment",
        "covertype",
        "digits",
        "fall_detection",
        "mnist",
        "pen_digits",
        "satellite",
        "vowel"
       ],
       "description": "Dataset:",
       "index": 0,
       "layout": "IPY_MODEL_61df99b47dfd475c8b1ff0817538dc8d",
       "style": "IPY_MODEL_ca072651aa0b40b480a39ddbf0a9e960"
      }
     },
     "67339297502c4c7eb8d13d5ef1f9a103": {
      "model_module": "@jupyter-widgets/base",
      "model_module_version": "1.1.0",
      "model_name": "LayoutModel",
      "state": {
       "margin": "0px 20px 0px 0px"
      }
     },
     "67ca2fb894ef45c8aa265ab5891a3ba9": {
      "model_module": "@jupyter-widgets/controls",
      "model_module_version": "1.4.0",
      "model_name": "DropdownModel",
      "state": {
       "_options_labels": [
        "None",
        "rbf",
        "nystroem"
       ],
       "description": "Sampler",
       "index": 0,
       "layout": "IPY_MODEL_88190452075140ba8cf2bb0158b5651e",
       "style": "IPY_MODEL_bafe2c386c6e4889a93e47011cb6bee3"
      }
     },
     "67fa63d0c90449aaaad322f979a2c4f8": {
      "model_module": "@jupyter-widgets/controls",
      "model_module_version": "1.4.0",
      "model_name": "IntSliderModel",
      "state": {
       "description": "C",
       "layout": "IPY_MODEL_a6debab3f44b4aa597cb07b0a6beaf6a",
       "max": 10,
       "min": 1,
       "style": "IPY_MODEL_15fbf35e092f4ed899b291ac22bd0f5d",
       "value": 5
      }
     },
     "6805f7eb949d4b0a905beb2dea545322": {
      "model_module": "@jupyter-widgets/controls",
      "model_module_version": "1.4.0",
      "model_name": "HTMLModel",
      "state": {
       "layout": "IPY_MODEL_629efab138fe42debde2ce8d69e936b2",
       "style": "IPY_MODEL_7e1a2b25268c48f38ad5c84e6ae48378",
       "value": "<strong>Dataset</strong>: fall_detection"
      }
     },
     "6866c35478f24828b5fc079a51669a27": {
      "model_module": "@jupyter-widgets/controls",
      "model_module_version": "1.4.0",
      "model_name": "FloatSliderModel",
      "state": {
       "description": "min_impurity_decrease:",
       "layout": "IPY_MODEL_60d108f631ad4437a80e0ef83fe85271",
       "max": 1,
       "step": 0.1,
       "style": "IPY_MODEL_54b7d325ce25456b9f32e1ade86e8f2b"
      }
     },
     "68ce76c243034e52b9c753d1a80f343c": {
      "model_module": "@jupyter-widgets/controls",
      "model_module_version": "1.4.0",
      "model_name": "HTMLModel",
      "state": {
       "layout": "IPY_MODEL_9d96fe5dee6a4abc8cf26ad9d3b2f896",
       "style": "IPY_MODEL_5eeb7d65473c4f1596a8022f332e4511",
       "value": "<strong>Dataset</strong>: pen_digits"
      }
     },
     "6901ada504f04a6f9c86fff6389129c6": {
      "model_module": "@jupyter-widgets/base",
      "model_module_version": "1.1.0",
      "model_name": "LayoutModel",
      "state": {
       "width": "900px"
      }
     },
     "691d459d037d4ba6be360a51a537ba04": {
      "model_module": "@jupyter-widgets/controls",
      "model_module_version": "1.4.0",
      "model_name": "AccordionModel",
      "state": {
       "_titles": {
        "0": "Info run"
       },
       "children": [
        "IPY_MODEL_3b16c4b746a84055a6bf9db4438322a4"
       ],
       "layout": "IPY_MODEL_1c497ea99c7647da91ce38ea8f9dc8a3"
      }
     },
     "695ef924c4c34727a90719b0ed1fda70": {
      "model_module": "@jupyter-widgets/base",
      "model_module_version": "1.1.0",
      "model_name": "LayoutModel",
      "state": {}
     },
     "69770eba274d425c87b57b9ea16f9c2a": {
      "model_module": "@jupyter-widgets/controls",
      "model_module_version": "1.4.0",
      "model_name": "DescriptionStyleModel",
      "state": {
       "description_width": ""
      }
     },
     "69c63101a6134f19a4f5e139b52ecc48": {
      "model_module": "@jupyter-widgets/controls",
      "model_module_version": "1.4.0",
      "model_name": "VBoxModel",
      "state": {
       "children": [
        "IPY_MODEL_1dfbf52e3c654bfebdbc4a412ae7cf03"
       ],
       "layout": "IPY_MODEL_e67eef315080467c99a86b212b358b2b"
      }
     },
     "69dae1725af5407bac39c8d76a872b94": {
      "model_module": "@jupyter-widgets/controls",
      "model_module_version": "1.4.0",
      "model_name": "VBoxModel",
      "state": {
       "children": [
        "IPY_MODEL_895297c2153e4fc7859ac0870f0dbcae"
       ],
       "layout": "IPY_MODEL_e67eef315080467c99a86b212b358b2b"
      }
     },
     "6a230fbbcb934b1a945525712db456ce": {
      "model_module": "@jupyter-widgets/base",
      "model_module_version": "1.1.0",
      "model_name": "LayoutModel",
      "state": {}
     },
     "6a3faa84d89b46eca37fa54b659d0d1e": {
      "model_module": "@jupyter-widgets/controls",
      "model_module_version": "1.4.0",
      "model_name": "DropdownModel",
      "state": {
       "_options_labels": [
        "segment",
        "covertype",
        "digits",
        "fall_detection",
        "mnist",
        "pen_digits",
        "satellite",
        "vowel"
       ],
       "description": "Dataset:",
       "index": 0,
       "layout": "IPY_MODEL_c6eb8401704747d08e174f61a2dd0d68",
       "style": "IPY_MODEL_0e17a89c0bfb4cba8fde4e7a64f6b2c9"
      }
     },
     "6a5cfd9343fb4b52b97fdb8b3b817b65": {
      "model_module": "@jupyter-widgets/controls",
      "model_module_version": "1.4.0",
      "model_name": "FloatSliderModel",
      "state": {
       "description": "min_impurity_decrease:",
       "layout": "IPY_MODEL_b3f7ed0f28264a458d97e38e71357481",
       "max": 1,
       "step": 0.1,
       "style": "IPY_MODEL_8eb3ecbb7a3f4765b87ae3c32e68c8e4"
      }
     },
     "6a955c20bff94120aa4a87022e509537": {
      "model_module": "@jupyter-widgets/controls",
      "model_module_version": "1.4.0",
      "model_name": "VBoxModel",
      "state": {
       "children": [
        "IPY_MODEL_396809646d39481fb4808c2e5c1754ee",
        "IPY_MODEL_d137645ef69248bbb29ee53b969162db",
        "IPY_MODEL_259b5862f78c443fbab163b46a2057c3",
        "IPY_MODEL_46050884b870429e8e658025565a5b6f",
        "IPY_MODEL_e2e57f7b897846c485c03f7e72127458",
        "IPY_MODEL_78c501d1f9ef41499b6b618967d42447",
        "IPY_MODEL_dd5ab7d68a45482991ef59c7745712d8"
       ],
       "layout": "IPY_MODEL_d3fbf5abd52948ed8304586e16f1604b"
      }
     },
     "6b717fc36674429981bfeda47a242880": {
      "model_module": "@jupyter-widgets/base",
      "model_module_version": "1.1.0",
      "model_name": "LayoutModel",
      "state": {
       "display": "none",
       "visibility": "hidden",
       "width": "800px"
      }
     },
     "6c006116818b49d8a1dbc27b0b64f520": {
      "model_module": "@jupyter-widgets/base",
      "model_module_version": "1.1.0",
      "model_name": "LayoutModel",
      "state": {}
     },
     "6c394ba992334c8e94ffead15a2daf03": {
      "model_module": "@jupyter-widgets/controls",
      "model_module_version": "1.4.0",
      "model_name": "DescriptionStyleModel",
      "state": {
       "description_width": ""
      }
     },
     "6c6a44fd836640988c6f48d94cba6c95": {
      "model_module": "@jupyter-widgets/base",
      "model_module_version": "1.1.0",
      "model_name": "LayoutModel",
      "state": {
       "display": "flex",
       "visibility": "visible",
       "width": "800px"
      }
     },
     "6ce233b8906148e98744050c41b0892d": {
      "model_module": "@jupyter-widgets/controls",
      "model_module_version": "1.4.0",
      "model_name": "AccordionModel",
      "state": {
       "_titles": {
        "0": "Info run"
       },
       "children": [
        "IPY_MODEL_a1dec51afc7249e9b812b87f6df222a0"
       ],
       "layout": "IPY_MODEL_8a5d80d5481f458593046a055ea0590b"
      }
     },
     "6d0635183c604a5db132787ad5a6d122": {
      "model_module": "@jupyter-widgets/controls",
      "model_module_version": "1.4.0",
      "model_name": "ButtonStyleModel",
      "state": {}
     },
     "6d1668dce021462f98fac0fb5911bbe1": {
      "model_module": "@jupyter-widgets/base",
      "model_module_version": "1.1.0",
      "model_name": "LayoutModel",
      "state": {}
     },
     "6d331e1bf05c4a3a9610a0280d27f5ad": {
      "model_module": "@jupyter-widgets/base",
      "model_module_version": "1.1.0",
      "model_name": "LayoutModel",
      "state": {}
     },
     "6d59d44a4dd449f387c7b08076554cf5": {
      "model_module": "@jupyter-widgets/base",
      "model_module_version": "1.1.0",
      "model_name": "LayoutModel",
      "state": {
       "display": "none",
       "visibility": "hidden",
       "width": "800px"
      }
     },
     "6d5bd496b6e047cdb4038c3c403b07ee": {
      "model_module": "@jupyter-widgets/controls",
      "model_module_version": "1.4.0",
      "model_name": "IntSliderModel",
      "state": {
       "description": "C",
       "layout": "IPY_MODEL_fcab2e6ae4b64c9b85509d6237c01a9f",
       "max": 10,
       "min": 1,
       "style": "IPY_MODEL_fb12bec1f30d4cf48f344afd9b636c35",
       "value": 5
      }
     },
     "6db6adda2e994f328dcd83aa40fa8c3d": {
      "model_module": "@jupyter-widgets/base",
      "model_module_version": "1.1.0",
      "model_name": "LayoutModel",
      "state": {
       "display": "none",
       "visibility": "hidden",
       "width": "800px"
      }
     },
     "6dbe2dca13c24b889dbd7cef69459ec6": {
      "model_module": "@jupyter-widgets/controls",
      "model_module_version": "1.4.0",
      "model_name": "SliderStyleModel",
      "state": {
       "description_width": ""
      }
     },
     "6dd57ffcf66f4835b33cf2163443f0e0": {
      "model_module": "@jupyter-widgets/base",
      "model_module_version": "1.1.0",
      "model_name": "LayoutModel",
      "state": {
       "display": "none",
       "visibility": "hidden",
       "width": "800px"
      }
     },
     "6e1f98fa9f3040d38db6ba7e39f995c6": {
      "model_module": "@jupyter-widgets/controls",
      "model_module_version": "1.4.0",
      "model_name": "HBoxModel",
      "state": {
       "children": [
        "IPY_MODEL_14093cfd8b614ce49d1f5ff7b6e69573",
        "IPY_MODEL_bd44cac642404843b4b6b40d903b666d"
       ],
       "layout": "IPY_MODEL_99bc947fd1a34cc78aea2348ec4180a6"
      }
     },
     "6e3587cd91bf4f3fb7eb59f5e68aca11": {
      "model_module": "@jupyter-widgets/base",
      "model_module_version": "1.1.0",
      "model_name": "LayoutModel",
      "state": {}
     },
     "6e4adee2cd6a42b381054ad02cb4f439": {
      "model_module": "@jupyter-widgets/controls",
      "model_module_version": "1.4.0",
      "model_name": "FloatLogSliderModel",
      "state": {
       "description": "Gamma",
       "layout": "IPY_MODEL_fe163a44364e4582be291b4f8d912937",
       "max": 2,
       "min": -4,
       "step": 1,
       "style": "IPY_MODEL_1864ec8ac41442ceafcbb730e666b41e",
       "value": 0.0001
      }
     },
     "6ed63aa5f597409d90b39e4b17d7e40f": {
      "model_module": "@jupyter-widgets/controls",
      "model_module_version": "1.4.0",
      "model_name": "DescriptionStyleModel",
      "state": {
       "description_width": ""
      }
     },
     "6eed26a2f9b04f40901ba6a7c38ad997": {
      "model_module": "@jupyter-widgets/base",
      "model_module_version": "1.1.0",
      "model_name": "LayoutModel",
      "state": {
       "display": "flex",
       "visibility": "visible",
       "width": "800px"
      }
     },
     "6f02090d0acc4aa184995e55596003ec": {
      "model_module": "@jupyter-widgets/controls",
      "model_module_version": "1.4.0",
      "model_name": "ButtonStyleModel",
      "state": {}
     },
     "6f4ffd39b8f4476c8af9bb303b222423": {
      "model_module": "@jupyter-widgets/base",
      "model_module_version": "1.1.0",
      "model_name": "LayoutModel",
      "state": {}
     },
     "6f5ab9e0ea1f476199070c1606bb6ab8": {
      "model_module": "@jupyter-widgets/controls",
      "model_module_version": "1.4.0",
      "model_name": "VBoxModel",
      "state": {
       "children": [
        "IPY_MODEL_51989af505b84b5494b50b613f93581a"
       ],
       "layout": "IPY_MODEL_949bb237988641b78afc8f02198e26a6"
      }
     },
     "6f5f2abbf6cd448ca9a2e3b2de0ddc98": {
      "model_module": "@jupyter-widgets/base",
      "model_module_version": "1.1.0",
      "model_name": "LayoutModel",
      "state": {}
     },
     "6f7070fc9bc34a709542aa1892de275d": {
      "model_module": "@jupyter-widgets/controls",
      "model_module_version": "1.4.0",
      "model_name": "DescriptionStyleModel",
      "state": {
       "description_width": ""
      }
     },
     "6f8a528933be45efad75f75a63976738": {
      "model_module": "@jupyter-widgets/base",
      "model_module_version": "1.1.0",
      "model_name": "LayoutModel",
      "state": {}
     },
     "6f9206a0880148acb50f78e26f253f61": {
      "model_module": "@jupyter-widgets/base",
      "model_module_version": "1.1.0",
      "model_name": "LayoutModel",
      "state": {
       "margin": "0px 20px 0px 0px"
      }
     },
     "6fa8f2c2328f4e41b26faf24ba40b386": {
      "model_module": "@jupyter-widgets/controls",
      "model_module_version": "1.4.0",
      "model_name": "IntSliderModel",
      "state": {
       "description": "C",
       "layout": "IPY_MODEL_7acabda16b8b40f19cff044435673e8e",
       "max": 10,
       "min": 1,
       "style": "IPY_MODEL_3dd00462c66340e9bef7b4635e319217",
       "value": 5
      }
     },
     "6ff7315fe8fe4d47a731007009ed147b": {
      "model_module": "@jupyter-widgets/controls",
      "model_module_version": "1.4.0",
      "model_name": "IntSliderModel",
      "state": {
       "description": "C",
       "layout": "IPY_MODEL_55e0faa65aa7463da12a8bce08067b0d",
       "max": 10,
       "min": 1,
       "style": "IPY_MODEL_4f4f137603134c23a970aeb06538bba9",
       "value": 5
      }
     },
     "70569f6f36394d04b3bd57b429dcd1fc": {
      "model_module": "@jupyter-widgets/base",
      "model_module_version": "1.1.0",
      "model_name": "LayoutModel",
      "state": {
       "display": "flex",
       "visibility": "visible",
       "width": "800px"
      }
     },
     "705cb383326c417dbf9502291b680ee9": {
      "model_module": "@jupyter-widgets/controls",
      "model_module_version": "1.4.0",
      "model_name": "ButtonModel",
      "state": {
       "button_style": "info",
       "description": "Add model",
       "layout": "IPY_MODEL_8f9502dec6794205bb2260680e17960a",
       "style": "IPY_MODEL_7ef3475edabe49dbb5f0542975b9bf53"
      }
     },
     "709a7bf5b92b4415803d19129147c4d1": {
      "model_module": "@jupyter-widgets/controls",
      "model_module_version": "1.4.0",
      "model_name": "FloatLogSliderModel",
      "state": {
       "description": "C",
       "layout": "IPY_MODEL_e9cbf8cca95b412ea9c87e80f6c3cd28",
       "max": 5,
       "min": -5,
       "step": 1,
       "style": "IPY_MODEL_4638df1003cf471d9b991ea551a14630",
       "value": 1000
      }
     },
     "710820d0e5ab42558a13983cb8c6a1ba": {
      "model_module": "@jupyter-widgets/controls",
      "model_module_version": "1.4.0",
      "model_name": "IntRangeSliderModel",
      "state": {
       "_model_name": "IntRangeSliderModel",
       "_view_name": "IntRangeSliderView",
       "layout": "IPY_MODEL_d3101ac94665486abd343c26201363f8",
       "max": 1000,
       "min": 30,
       "step": 10,
       "style": "IPY_MODEL_ed924310fdc94f2dacf9d688296478a8",
       "value": [
        30,
        100
       ]
      }
     },
     "7150e11a538b49f8a903aa27471ccde7": {
      "model_module": "@jupyter-widgets/controls",
      "model_module_version": "1.4.0",
      "model_name": "AccordionModel",
      "state": {
       "_titles": {
        "0": "Info run"
       },
       "children": [
        "IPY_MODEL_6e1f98fa9f3040d38db6ba7e39f995c6"
       ],
       "layout": "IPY_MODEL_2ffa7639f48c4a0a93721df460626a1f"
      }
     },
     "718610846be44d049f45a21add5b9248": {
      "model_module": "@jupyter-widgets/controls",
      "model_module_version": "1.4.0",
      "model_name": "VBoxModel",
      "state": {
       "children": [
        "IPY_MODEL_49250277d166425e8cf1c9f246ea9eb5"
       ],
       "layout": "IPY_MODEL_6f9206a0880148acb50f78e26f253f61"
      }
     },
     "71dd5c8e07e24976bdca757f5adc3bde": {
      "model_module": "@jupyter-widgets/controls",
      "model_module_version": "1.4.0",
      "model_name": "FloatSliderModel",
      "state": {
       "description": "min_impurity_decrease:",
       "layout": "IPY_MODEL_d5cecaf5345e4334b31b294115444c67",
       "max": 1,
       "step": 0.1,
       "style": "IPY_MODEL_81fe1bc39a804055a10cef09fd471b27"
      }
     },
     "72081e890462465999eb4eb46e7d819c": {
      "model_module": "@jupyter-widgets/controls",
      "model_module_version": "1.4.0",
      "model_name": "AccordionModel",
      "state": {
       "_titles": {
        "0": "Info run"
       },
       "children": [
        "IPY_MODEL_b623a4db65f64d15ab8ecf3db0e2a9ce"
       ],
       "layout": "IPY_MODEL_b3670e2143c948f3bc76d9dbd053e911"
      }
     },
     "72353aee81154b92973952048e4e5a03": {
      "model_module": "@jupyter-widgets/controls",
      "model_module_version": "1.4.0",
      "model_name": "DescriptionStyleModel",
      "state": {
       "description_width": ""
      }
     },
     "723dd74ee22b4de198f1fc8e58e3f49a": {
      "model_module": "@jupyter-widgets/controls",
      "model_module_version": "1.4.0",
      "model_name": "RadioButtonsModel",
      "state": {
       "_options_labels": [
        "1000",
        "2000",
        "5000",
        "10000"
       ],
       "description": "Size",
       "index": 0,
       "layout": "IPY_MODEL_fd2970ef8084468695a68c4b19b94364",
       "style": "IPY_MODEL_3f9922085c624351bc75873b4a1733b8"
      }
     },
     "727b8475cb284ab39926054e83d4d604": {
      "model_module": "@jupyter-widgets/controls",
      "model_module_version": "1.4.0",
      "model_name": "VBoxModel",
      "state": {
       "children": [
        "IPY_MODEL_aa0036197d824a1883a80c34bbe3619d"
       ],
       "layout": "IPY_MODEL_2d604aef099445d38998f1d9dd7cb66f"
      }
     },
     "728bf02186714558b460bcf3cf93bcd4": {
      "model_module": "@jupyter-widgets/controls",
      "model_module_version": "1.4.0",
      "model_name": "DescriptionStyleModel",
      "state": {
       "description_width": ""
      }
     },
     "72b6818fa55441cdbfb03f64a4fb4d55": {
      "model_module": "@jupyter-widgets/controls",
      "model_module_version": "1.4.0",
      "model_name": "ButtonStyleModel",
      "state": {}
     },
     "72b813083e934c20844bccfc8216a564": {
      "model_module": "@jupyter-widgets/controls",
      "model_module_version": "1.4.0",
      "model_name": "VBoxModel",
      "state": {
       "children": [
        "IPY_MODEL_0161f15dc0114bbc955aa3323a84432c"
       ],
       "layout": "IPY_MODEL_11512b1c4591449187b3489639fb7957"
      }
     },
     "72c69734cb89410490f0c3c0a815978c": {
      "model_module": "@jupyter-widgets/controls",
      "model_module_version": "1.4.0",
      "model_name": "TabModel",
      "state": {
       "_titles": {
        "0": "dt"
       },
       "children": [
        "IPY_MODEL_84d585d183f04f389041f18418172bb3"
       ],
       "layout": "IPY_MODEL_8946e6d686f54049b04c884e988c023c"
      }
     },
     "732b7d47e2e2483bb32cf0a4d4e8fba4": {
      "model_module": "@jupyter-widgets/controls",
      "model_module_version": "1.4.0",
      "model_name": "SliderStyleModel",
      "state": {
       "description_width": ""
      }
     },
     "7338302fddc64f13929658d292321dc2": {
      "model_module": "@jupyter-widgets/controls",
      "model_module_version": "1.4.0",
      "model_name": "TabModel",
      "state": {
       "_titles": {
        "0": "dt"
       },
       "children": [
        "IPY_MODEL_b1e09805495b496bb133966fbeffb747"
       ],
       "layout": "IPY_MODEL_a0da0e6c36b447429516f87dce790f65"
      }
     },
     "736db0eeadb442d58c754b94e7f1f9fc": {
      "model_module": "@jupyter-widgets/base",
      "model_module_version": "1.1.0",
      "model_name": "LayoutModel",
      "state": {}
     },
     "73da86142a664417b53c7c28eac55de4": {
      "model_module": "@jupyter-widgets/controls",
      "model_module_version": "1.4.0",
      "model_name": "RadioButtonsModel",
      "state": {
       "_options_labels": [
        "1000",
        "2000",
        "5000",
        "10000"
       ],
       "description": "Size",
       "index": 0,
       "layout": "IPY_MODEL_98e0589461ed4a0b8103ca6fbd72d948",
       "style": "IPY_MODEL_787909258ac047b5a8ce5a11fdbe61a0"
      }
     },
     "74274cd92f684b6d898faaf0b84ab1c9": {
      "model_module": "@jupyter-widgets/base",
      "model_module_version": "1.1.0",
      "model_name": "LayoutModel",
      "state": {}
     },
     "744b42ff97f5470bb77244cc6492bb3e": {
      "model_module": "@jupyter-widgets/controls",
      "model_module_version": "1.4.0",
      "model_name": "HBoxModel",
      "state": {
       "children": [
        "IPY_MODEL_b59a56102a4b4cbf8e31b74091e18c94",
        "IPY_MODEL_a176c486f7924d3e8dd1c65bb62a3517"
       ],
       "layout": "IPY_MODEL_f54697c357fe4926ac3401d60f3598c0"
      }
     },
     "74648694231e4a8b8193c8c2f2d52301": {
      "model_module": "@jupyter-widgets/controls",
      "model_module_version": "1.4.0",
      "model_name": "IntSliderModel",
      "state": {
       "description": "N. estim.",
       "layout": "IPY_MODEL_77905677e0fa45939de46c521d286df2",
       "max": 200,
       "min": 2,
       "style": "IPY_MODEL_0a597335f332471c8f2541a9684bb494",
       "value": 30
      }
     },
     "74dbd2c55987493ba3bba4694f3a9352": {
      "model_module": "@jupyter-widgets/controls",
      "model_module_version": "1.4.0",
      "model_name": "VBoxModel",
      "state": {
       "children": [
        "IPY_MODEL_b35d457a27614e2fa68143377f38a637",
        "IPY_MODEL_38453af59e894749ad9d6b75c90dbbfe",
        "IPY_MODEL_705cb383326c417dbf9502291b680ee9",
        "IPY_MODEL_50a4ebd2ae7e444ab3fc5ccbdb923cad",
        "IPY_MODEL_5934ad0330e649d58f6f5da0436fb4ce",
        "IPY_MODEL_d2a43024f8154347895ed215fc9c3b60",
        "IPY_MODEL_b8ce9fb9ce084e6ca621468ce602ccb2"
       ],
       "layout": "IPY_MODEL_24b9d0a1705e4d88bd10acd1b440210b"
      }
     },
     "74efb62eb003481996cb736c84783271": {
      "model_module": "@jupyter-widgets/controls",
      "model_module_version": "1.4.0",
      "model_name": "SliderStyleModel",
      "state": {
       "description_width": ""
      }
     },
     "756407ba7bf1477a819cd157d37f18da": {
      "model_module": "@jupyter-widgets/base",
      "model_module_version": "1.1.0",
      "model_name": "LayoutModel",
      "state": {}
     },
     "75905133cb664e3d8122f89a279fec50": {
      "model_module": "@jupyter-widgets/controls",
      "model_module_version": "1.4.0",
      "model_name": "VBoxModel",
      "state": {
       "children": [
        "IPY_MODEL_972a1141021d4c64855b2b278ab19b81"
       ],
       "layout": "IPY_MODEL_65a7a2561d81490a82c54ea88fadaab3"
      }
     },
     "75aa40dcb1e942eea94b4f4e14146afb": {
      "model_module": "@jupyter-widgets/controls",
      "model_module_version": "1.4.0",
      "model_name": "DescriptionStyleModel",
      "state": {
       "description_width": ""
      }
     },
     "75b256225bcf494a9b93748d065607d0": {
      "model_module": "@jupyter-widgets/controls",
      "model_module_version": "1.4.0",
      "model_name": "DropdownModel",
      "state": {
       "_options_labels": [
        "None",
        "rbf",
        "nystroem"
       ],
       "description": "Sampler",
       "index": 0,
       "layout": "IPY_MODEL_d4888fed9ab64e8bbbffd906ef145381",
       "style": "IPY_MODEL_f553eee454b1447b8d8f1001d03d5dd5"
      }
     },
     "75b6f905edbe4475b12dae7f8aba3168": {
      "model_module": "@jupyter-widgets/base",
      "model_module_version": "1.1.0",
      "model_name": "LayoutModel",
      "state": {
       "display": "none",
       "visibility": "hidden",
       "width": "800px"
      }
     },
     "75ed04a27d6742df974387577dd74241": {
      "model_module": "@jupyter-widgets/controls",
      "model_module_version": "1.4.0",
      "model_name": "FloatLogSliderModel",
      "state": {
       "description": "C",
       "layout": "IPY_MODEL_21bed66f812243c7ae7d31488abf1009",
       "max": 5,
       "min": -5,
       "step": 1,
       "style": "IPY_MODEL_14afee843e6b41109292c8a3ca2b3cbe",
       "value": 1000
      }
     },
     "75fc4750811b488ab68a85c241d8b54d": {
      "model_module": "@jupyter-widgets/controls",
      "model_module_version": "1.4.0",
      "model_name": "RadioButtonsModel",
      "state": {
       "_options_labels": [
        "1000",
        "2000",
        "5000",
        "10000"
       ],
       "description": "Size",
       "index": 0,
       "layout": "IPY_MODEL_6c006116818b49d8a1dbc27b0b64f520",
       "style": "IPY_MODEL_ba46605652f1412895d8ed0cd2f56e1a"
      }
     },
     "7634426784ce47cc8c6bbf704f4d8b8e": {
      "model_module": "@jupyter-widgets/controls",
      "model_module_version": "1.4.0",
      "model_name": "VBoxModel",
      "state": {
       "children": [
        "IPY_MODEL_ef14e95af8154288a14ddd106b8ab3de",
        "IPY_MODEL_766eee42fb64492392da7e9ec2815021",
        "IPY_MODEL_d51209aacd2440029d4d716f7f201893",
        "IPY_MODEL_0746136db87b49c296d286d475b9b06c",
        "IPY_MODEL_0b3f5ee37d3249098cdeb8dfc0b049b9",
        "IPY_MODEL_079e82338c2f4d0db41fea8045aa11b6",
        "IPY_MODEL_14d582e7a8e64d09bc81c5515ddf8f52"
       ],
       "layout": "IPY_MODEL_b3ee48760c7747d582c05cc68c96cb60"
      }
     },
     "7659ef16de354f45868942d772711414": {
      "model_module": "@jupyter-widgets/controls",
      "model_module_version": "1.4.0",
      "model_name": "SliderStyleModel",
      "state": {
       "description_width": ""
      }
     },
     "766eee42fb64492392da7e9ec2815021": {
      "model_module": "@jupyter-widgets/controls",
      "model_module_version": "1.4.0",
      "model_name": "RadioButtonsModel",
      "state": {
       "_options_labels": [
        "1000",
        "2000",
        "5000",
        "10000"
       ],
       "description": "Size",
       "index": 0,
       "layout": "IPY_MODEL_665ce0ebd3664ff8a88433db7658a87e",
       "style": "IPY_MODEL_d09b79e41a614718b150c72db213bbd0"
      }
     },
     "768841001bcf4e98a506dac611a2e9c4": {
      "model_module": "@jupyter-widgets/controls",
      "model_module_version": "1.4.0",
      "model_name": "ButtonModel",
      "state": {
       "button_style": "warning",
       "description": "Remove model",
       "layout": "IPY_MODEL_03c6dbd65f564915af3adc2f576d3aaf",
       "style": "IPY_MODEL_3c3bfc1055e44409b84be0a532aa9203"
      }
     },
     "773b9a90611744c893f660e92ed68931": {
      "model_module": "@jupyter-widgets/base",
      "model_module_version": "1.1.0",
      "model_name": "LayoutModel",
      "state": {}
     },
     "7761224b1c0c4cfc969a2a1bda629a50": {
      "model_module": "@jupyter-widgets/base",
      "model_module_version": "1.1.0",
      "model_name": "LayoutModel",
      "state": {}
     },
     "77735169c21a48c3ba61e20fbbf4cb44": {
      "model_module": "@jupyter-widgets/controls",
      "model_module_version": "1.4.0",
      "model_name": "SliderStyleModel",
      "state": {
       "description_width": ""
      }
     },
     "77905677e0fa45939de46c521d286df2": {
      "model_module": "@jupyter-widgets/base",
      "model_module_version": "1.1.0",
      "model_name": "LayoutModel",
      "state": {
       "visibility": "hidden",
       "width": "800px"
      }
     },
     "77cd5b29de4149a99dc06a1daa452f3a": {
      "model_module": "@jupyter-widgets/controls",
      "model_module_version": "1.4.0",
      "model_name": "VBoxModel",
      "state": {
       "children": [
        "IPY_MODEL_95c60895db0644c2bc4ef8db8c192534",
        "IPY_MODEL_6a5cfd9343fb4b52b97fdb8b3b817b65",
        "IPY_MODEL_a307a07bd0344349af90faf3445742e5",
        "IPY_MODEL_41c3c2af2d404b9cb3897775048027c5",
        "IPY_MODEL_f5974bcafb1441e49205c072551dc856",
        "IPY_MODEL_2f702c2a59034feb89b69626ec202e16",
        "IPY_MODEL_e61ee8a3f49b423fadab07aff4ff81e4",
        "IPY_MODEL_b6da31e513bb4bafa1c4dc0c0d7d7d13"
       ],
       "layout": "IPY_MODEL_976bf54ec1b640b481ebdd62082a775b"
      }
     },
     "77f37f9154d0406facfbba79608e4c8d": {
      "model_module": "@jupyter-widgets/base",
      "model_module_version": "1.1.0",
      "model_name": "LayoutModel",
      "state": {}
     },
     "784ba9bc547c4085955a09251db4c12e": {
      "model_module": "@jupyter-widgets/controls",
      "model_module_version": "1.4.0",
      "model_name": "SliderStyleModel",
      "state": {
       "description_width": ""
      }
     },
     "784bdbe8985d42c7859e70a5ce257226": {
      "model_module": "@jupyter-widgets/controls",
      "model_module_version": "1.4.0",
      "model_name": "DescriptionStyleModel",
      "state": {
       "description_width": ""
      }
     },
     "787909258ac047b5a8ce5a11fdbe61a0": {
      "model_module": "@jupyter-widgets/controls",
      "model_module_version": "1.4.0",
      "model_name": "DescriptionStyleModel",
      "state": {
       "description_width": ""
      }
     },
     "7886b5dab1f2476aa506a5ee1b5d5b63": {
      "model_module": "@jupyter-widgets/controls",
      "model_module_version": "1.4.0",
      "model_name": "DropdownModel",
      "state": {
       "_options_labels": [
        "black_bag",
        "grey_bag",
        "black_ens",
        "grey_ens",
        "None"
       ],
       "description": "Box Type",
       "index": 4,
       "layout": "IPY_MODEL_0416ace032904777a0a1f14d9debaba8",
       "style": "IPY_MODEL_3b0003bdb94a43c89960d0c0a91de889"
      }
     },
     "789cb40b2e8f465296d81e1400930ab3": {
      "model_module": "@jupyter-widgets/base",
      "model_module_version": "1.1.0",
      "model_name": "LayoutModel",
      "state": {}
     },
     "78a85d20078e443ea4ff6411116372fc": {
      "model_module": "@jupyter-widgets/base",
      "model_module_version": "1.1.0",
      "model_name": "LayoutModel",
      "state": {}
     },
     "78ac6626470d40f499d05a11f552e668": {
      "model_module": "@jupyter-widgets/base",
      "model_module_version": "1.1.0",
      "model_name": "LayoutModel",
      "state": {
       "visibility": "hidden",
       "width": "800px"
      }
     },
     "78b59552ad0a4a5f8f2bc2049bee0d46": {
      "model_module": "@jupyter-widgets/base",
      "model_module_version": "1.1.0",
      "model_name": "LayoutModel",
      "state": {
       "display": "none",
       "visibility": "hidden",
       "width": "800px"
      }
     },
     "78bdc4ec9e3d454e85bb0b89569caedd": {
      "model_module": "@jupyter-widgets/controls",
      "model_module_version": "1.4.0",
      "model_name": "DescriptionStyleModel",
      "state": {
       "description_width": ""
      }
     },
     "78c501d1f9ef41499b6b618967d42447": {
      "model_module": "@jupyter-widgets/controls",
      "model_module_version": "1.4.0",
      "model_name": "TabModel",
      "state": {
       "_titles": {
        "0": "dt"
       },
       "children": [
        "IPY_MODEL_42912965007347a49b6749b4915bedfe"
       ],
       "layout": "IPY_MODEL_faebd372ac8e485a9fc66fd47705b36d"
      }
     },
     "78d8e102ea1c421ba3edef47018e95cc": {
      "model_module": "@jupyter-widgets/base",
      "model_module_version": "1.1.0",
      "model_name": "LayoutModel",
      "state": {}
     },
     "790bd99f0fbd466497204fc77e139398": {
      "model_module": "@jupyter-widgets/base",
      "model_module_version": "1.1.0",
      "model_name": "LayoutModel",
      "state": {
       "display": "flex",
       "visibility": "visible",
       "width": "800px"
      }
     },
     "792d94fceaa04399a5471cde03a33f80": {
      "model_module": "@jupyter-widgets/controls",
      "model_module_version": "1.4.0",
      "model_name": "DescriptionStyleModel",
      "state": {
       "description_width": ""
      }
     },
     "79c71daac1a24dc4a69cd820e8e456b7": {
      "model_module": "@jupyter-widgets/base",
      "model_module_version": "1.1.0",
      "model_name": "LayoutModel",
      "state": {}
     },
     "79f891c8c9124fcf9420bb8a991fc95a": {
      "model_module": "@jupyter-widgets/controls",
      "model_module_version": "1.4.0",
      "model_name": "DescriptionStyleModel",
      "state": {
       "description_width": ""
      }
     },
     "7a7df590d6454aec9a58a59316ee15a3": {
      "model_module": "@jupyter-widgets/base",
      "model_module_version": "1.1.0",
      "model_name": "LayoutModel",
      "state": {}
     },
     "7a901af8ec4a4fd6a428657f96b6fbc8": {
      "model_module": "@jupyter-widgets/controls",
      "model_module_version": "1.4.0",
      "model_name": "VBoxModel",
      "state": {
       "children": [
        "IPY_MODEL_219f520a12074aadb3d8846c93cdf763"
       ],
       "layout": "IPY_MODEL_11512b1c4591449187b3489639fb7957"
      }
     },
     "7a9d8ef89f2e4c6885ca5968106bb96d": {
      "model_module": "@jupyter-widgets/controls",
      "model_module_version": "1.4.0",
      "model_name": "DescriptionStyleModel",
      "state": {
       "description_width": ""
      }
     },
     "7abb69fb352f426c942718c3bb5ec2d1": {
      "model_module": "@jupyter-widgets/base",
      "model_module_version": "1.1.0",
      "model_name": "LayoutModel",
      "state": {}
     },
     "7ac4a3cb937445b598004d40ec804562": {
      "model_module": "@jupyter-widgets/controls",
      "model_module_version": "1.4.0",
      "model_name": "ButtonModel",
      "state": {
       "button_style": "warning",
       "description": "Remove model",
       "layout": "IPY_MODEL_6f5f2abbf6cd448ca9a2e3b2de0ddc98",
       "style": "IPY_MODEL_50e6b512abd14dda89eaf3c195475c25"
      }
     },
     "7acabda16b8b40f19cff044435673e8e": {
      "model_module": "@jupyter-widgets/base",
      "model_module_version": "1.1.0",
      "model_name": "LayoutModel",
      "state": {
       "display": "none",
       "visibility": "hidden",
       "width": "800px"
      }
     },
     "7add56166b81467ab3e70d972ba90085": {
      "model_module": "@jupyter-widgets/controls",
      "model_module_version": "1.4.0",
      "model_name": "ButtonStyleModel",
      "state": {}
     },
     "7b5b6cd9003047998b9b38e93e9e9804": {
      "model_module": "@jupyter-widgets/base",
      "model_module_version": "1.1.0",
      "model_name": "LayoutModel",
      "state": {}
     },
     "7b68e0756c0043ee9746f6fd51ba83ab": {
      "model_module": "@jupyter-widgets/controls",
      "model_module_version": "1.4.0",
      "model_name": "ButtonStyleModel",
      "state": {}
     },
     "7b69afe681084e34a5e5682b83c36add": {
      "model_module": "@jupyter-widgets/base",
      "model_module_version": "1.1.0",
      "model_name": "LayoutModel",
      "state": {
       "display": "none",
       "visibility": "hidden",
       "width": "800px"
      }
     },
     "7bddb791ec144b29810d94633ca534db": {
      "model_module": "@jupyter-widgets/controls",
      "model_module_version": "1.4.0",
      "model_name": "DropdownModel",
      "state": {
       "_options_labels": [
        "black_bag",
        "grey_bag",
        "black_ens",
        "grey_ens",
        "None"
       ],
       "description": "Box Type",
       "index": 4,
       "layout": "IPY_MODEL_9041fe4d80a94dfa84a760ee7ee8ab2c",
       "style": "IPY_MODEL_88bb7ca4521e4e1d8c9258451c694a2d"
      }
     },
     "7bf2c31c47ef4f3ea5d830bce7e8b5c8": {
      "model_module": "@jupyter-widgets/controls",
      "model_module_version": "1.4.0",
      "model_name": "DescriptionStyleModel",
      "state": {
       "description_width": ""
      }
     },
     "7c7e39d5a7e049af87e0013cc3cf60d4": {
      "model_module": "@jupyter-widgets/base",
      "model_module_version": "1.1.0",
      "model_name": "LayoutModel",
      "state": {}
     },
     "7c985c2d1b2443af9ec9478a9aa6d000": {
      "model_module": "@jupyter-widgets/controls",
      "model_module_version": "1.4.0",
      "model_name": "DescriptionStyleModel",
      "state": {
       "description_width": ""
      }
     },
     "7caab8fe499c4cdc9dd83d8ece73ce41": {
      "model_module": "@jupyter-widgets/base",
      "model_module_version": "1.1.0",
      "model_name": "LayoutModel",
      "state": {}
     },
     "7ccd39ea9b7448bdb715d42771438b88": {
      "model_module": "@jupyter-widgets/controls",
      "model_module_version": "1.4.0",
      "model_name": "ButtonStyleModel",
      "state": {}
     },
     "7cceb35cf22e4f3392f9ef4e1991c6ad": {
      "model_module": "@jupyter-widgets/base",
      "model_module_version": "1.1.0",
      "model_name": "LayoutModel",
      "state": {}
     },
     "7cf3b1b50ce44754a732880574dfb754": {
      "model_module": "@jupyter-widgets/controls",
      "model_module_version": "1.4.0",
      "model_name": "IntRangeSliderModel",
      "state": {
       "_model_name": "IntRangeSliderModel",
       "_view_name": "IntRangeSliderView",
       "layout": "IPY_MODEL_8b69adaa11af4cf1b82984fe43e07eee",
       "max": 1000,
       "min": 30,
       "step": 10,
       "style": "IPY_MODEL_bb1e15a7b1864713887eafce58673146",
       "value": [
        30,
        100
       ]
      }
     },
     "7d877212233649a28bea6f2c11d4a511": {
      "model_module": "@jupyter-widgets/controls",
      "model_module_version": "1.4.0",
      "model_name": "SliderStyleModel",
      "state": {
       "description_width": "initial"
      }
     },
     "7d9bd864ba6b4032a711ed8e2bd2eaf8": {
      "model_module": "@jupyter-widgets/controls",
      "model_module_version": "1.4.0",
      "model_name": "FloatLogSliderModel",
      "state": {
       "description": "C",
       "layout": "IPY_MODEL_03d35b1ecf9e4ca5bac731168ca5ec37",
       "max": 5,
       "min": -5,
       "step": 1,
       "style": "IPY_MODEL_84bfc2f3c770420999a5f55bca7fcb2f",
       "value": 1000
      }
     },
     "7dc7909b5755497f892abce357fa126a": {
      "model_module": "@jupyter-widgets/base",
      "model_module_version": "1.1.0",
      "model_name": "LayoutModel",
      "state": {
       "display": "flex",
       "visibility": "visible",
       "width": "800px"
      }
     },
     "7dca51da3d744822b5bbbae9b2631a64": {
      "model_module": "@jupyter-widgets/base",
      "model_module_version": "1.1.0",
      "model_name": "LayoutModel",
      "state": {
       "margin": "0px 20px 0px 0px"
      }
     },
     "7dcbf554d8b94521b67a8202461838d7": {
      "model_module": "@jupyter-widgets/controls",
      "model_module_version": "1.4.0",
      "model_name": "DescriptionStyleModel",
      "state": {
       "description_width": ""
      }
     },
     "7dfee83d2ad54b43b495151d968111bf": {
      "model_module": "@jupyter-widgets/controls",
      "model_module_version": "1.4.0",
      "model_name": "IntSliderModel",
      "state": {
       "description": "N. estim.",
       "layout": "IPY_MODEL_b1a8072c38ef41a495e0fb5a426674bf",
       "max": 200,
       "min": 2,
       "style": "IPY_MODEL_c98f2b41a5a64fc58da1f004383120b7",
       "value": 30
      }
     },
     "7e0d512716554b07b7a1899cbf219e4c": {
      "model_module": "@jupyter-widgets/base",
      "model_module_version": "1.1.0",
      "model_name": "LayoutModel",
      "state": {}
     },
     "7e1a2b25268c48f38ad5c84e6ae48378": {
      "model_module": "@jupyter-widgets/controls",
      "model_module_version": "1.4.0",
      "model_name": "DescriptionStyleModel",
      "state": {
       "description_width": ""
      }
     },
     "7e24fc9294a540808449e2ae66dbd175": {
      "model_module": "@jupyter-widgets/base",
      "model_module_version": "1.1.0",
      "model_name": "LayoutModel",
      "state": {
       "visibility": "hidden",
       "width": "800px"
      }
     },
     "7ec9f8ce20ae433caeea5823b10ceaf4": {
      "model_module": "@jupyter-widgets/base",
      "model_module_version": "1.1.0",
      "model_name": "LayoutModel",
      "state": {
       "display": "none",
       "visibility": "hidden",
       "width": "800px"
      }
     },
     "7ef3475edabe49dbb5f0542975b9bf53": {
      "model_module": "@jupyter-widgets/controls",
      "model_module_version": "1.4.0",
      "model_name": "ButtonStyleModel",
      "state": {}
     },
     "7f051f4b015a4c9e8c2274f5f6de0d0b": {
      "model_module": "@jupyter-widgets/controls",
      "model_module_version": "1.4.0",
      "model_name": "RadioButtonsModel",
      "state": {
       "_options_labels": [
        "1000",
        "2000",
        "5000",
        "10000"
       ],
       "description": "Size",
       "index": 0,
       "layout": "IPY_MODEL_2ad93b5f3e2b40e38a569a7a49267429",
       "style": "IPY_MODEL_8ad1a583a3d24c2cb980fbdb87ac88f0"
      }
     },
     "7f0909eefc2e49c885e492f18fa190bc": {
      "model_module": "@jupyter-widgets/controls",
      "model_module_version": "1.4.0",
      "model_name": "ButtonModel",
      "state": {
       "button_style": "info",
       "description": "Add model",
       "layout": "IPY_MODEL_1954b6076aef40ee89d2e5e08529b27a",
       "style": "IPY_MODEL_f33a599f083d4607a70524fe52f69c7f"
      }
     },
     "7f0b79370bec4e538057bec165a4b16b": {
      "model_module": "@jupyter-widgets/controls",
      "model_module_version": "1.4.0",
      "model_name": "SliderStyleModel",
      "state": {
       "description_width": "initial"
      }
     },
     "7f18bc764adc43ab9832bf5fff3aeba3": {
      "model_module": "@jupyter-widgets/base",
      "model_module_version": "1.1.0",
      "model_name": "LayoutModel",
      "state": {}
     },
     "7f4a98e0ccfa4e7a9d786b09b3ebcc8c": {
      "model_module": "@jupyter-widgets/controls",
      "model_module_version": "1.4.0",
      "model_name": "ButtonModel",
      "state": {
       "button_style": "warning",
       "description": "Remove model",
       "layout": "IPY_MODEL_db98e1309f434cceb900a06d93569d8c",
       "style": "IPY_MODEL_f82f23c03f0f4991ae34137226428a17"
      }
     },
     "7f53aaefc995436d98c7c363b153e1f0": {
      "model_module": "@jupyter-widgets/controls",
      "model_module_version": "1.4.0",
      "model_name": "ButtonStyleModel",
      "state": {}
     },
     "7f7064cab36749eba53432fdd46f4ed9": {
      "model_module": "@jupyter-widgets/controls",
      "model_module_version": "1.4.0",
      "model_name": "DropdownModel",
      "state": {
       "_options_labels": [
        "dt",
        "logit",
        "linear_svc",
        "rbf_svc"
       ],
       "description": "Model",
       "index": 0,
       "layout": "IPY_MODEL_1b81f8d2152340a4a819c5d9efa03f26",
       "style": "IPY_MODEL_05ca626b763a430897b7b4ef94143307"
      }
     },
     "7ff07f5a20144867970078693aa26ee4": {
      "model_module": "@jupyter-widgets/controls",
      "model_module_version": "1.4.0",
      "model_name": "DescriptionStyleModel",
      "state": {
       "description_width": ""
      }
     },
     "80251b4170744c2f9931082117ee4c29": {
      "model_module": "@jupyter-widgets/controls",
      "model_module_version": "1.4.0",
      "model_name": "VBoxModel",
      "state": {
       "children": [
        "IPY_MODEL_13a8a2c503254b02b4e54d58098fd155",
        "IPY_MODEL_8d36580062a34f97b9630d18d4d24a3d",
        "IPY_MODEL_fbc2bfc7b81444e78122ddfa0e445eec",
        "IPY_MODEL_f6fc052bf9454b7697ba7c58d9869b43",
        "IPY_MODEL_9cd0eea33b304f3ea89d697cbfb43e21",
        "IPY_MODEL_b01ad4cea374478eb1932b66a645074f",
        "IPY_MODEL_909687b43fbd430a9c93f3736e46173a"
       ],
       "layout": "IPY_MODEL_0665a67d5bd0427f8c6eee2bec80d872"
      }
     },
     "8033f4bb22cb4e359d6da131547801e6": {
      "model_module": "@jupyter-widgets/base",
      "model_module_version": "1.1.0",
      "model_name": "LayoutModel",
      "state": {}
     },
     "8062008f4c1345d599389fdae6795890": {
      "model_module": "@jupyter-widgets/controls",
      "model_module_version": "1.4.0",
      "model_name": "TabModel",
      "state": {
       "_titles": {
        "0": "dt"
       },
       "children": [
        "IPY_MODEL_febbfdf2d54046ecac2fdc8e3de78939"
       ],
       "layout": "IPY_MODEL_7a7df590d6454aec9a58a59316ee15a3"
      }
     },
     "80c45ef391a64990bf699a70805172af": {
      "model_module": "@jupyter-widgets/base",
      "model_module_version": "1.1.0",
      "model_name": "LayoutModel",
      "state": {}
     },
     "810f8b5634e14c46b7788903815a90a8": {
      "model_module": "@jupyter-widgets/controls",
      "model_module_version": "1.4.0",
      "model_name": "HTMLModel",
      "state": {
       "layout": "IPY_MODEL_6464d5d1f0684d08a28ce2609fea424e",
       "style": "IPY_MODEL_3de4dc5e8dbb45f78c6cbd0360151b4d",
       "value": "<strong>Dataset</strong>: mnist"
      }
     },
     "813c81ccb97c4719a32a02a73c6507b5": {
      "model_module": "@jupyter-widgets/controls",
      "model_module_version": "1.4.0",
      "model_name": "SliderStyleModel",
      "state": {
       "description_width": ""
      }
     },
     "81447ade20ba4bf09ad88263b6df06a1": {
      "model_module": "@jupyter-widgets/base",
      "model_module_version": "1.1.0",
      "model_name": "LayoutModel",
      "state": {
       "visibility": "hidden",
       "width": "800px"
      }
     },
     "8153097c0c4a4bad9e0028a56fdec887": {
      "model_module": "@jupyter-widgets/base",
      "model_module_version": "1.1.0",
      "model_name": "LayoutModel",
      "state": {}
     },
     "81a101a96c854159bca26559ca259fb8": {
      "model_module": "@jupyter-widgets/controls",
      "model_module_version": "1.4.0",
      "model_name": "SliderStyleModel",
      "state": {
       "description_width": ""
      }
     },
     "81c35e94dbec485ba38dc3254b78d103": {
      "model_module": "@jupyter-widgets/controls",
      "model_module_version": "1.4.0",
      "model_name": "ButtonModel",
      "state": {
       "button_style": "info",
       "description": "Add model",
       "layout": "IPY_MODEL_4fd8105a450b448ca04c02f52c164c39",
       "style": "IPY_MODEL_4c20f94387e746e68658d4001dc0088b"
      }
     },
     "81cb653c27454b40a34fbee2cfd0463d": {
      "model_module": "@jupyter-widgets/controls",
      "model_module_version": "1.4.0",
      "model_name": "DescriptionStyleModel",
      "state": {
       "description_width": ""
      }
     },
     "81de6170a7d84ff38341719ce4535552": {
      "model_module": "@jupyter-widgets/controls",
      "model_module_version": "1.4.0",
      "model_name": "DropdownModel",
      "state": {
       "_options_labels": [
        "black_bag",
        "grey_bag",
        "black_ens",
        "grey_ens",
        "None"
       ],
       "description": "Box Type",
       "index": 4,
       "layout": "IPY_MODEL_e668182499d04e7b834e20d8f62a777d",
       "style": "IPY_MODEL_281311bc40b84e4288d10b62df4cc833"
      }
     },
     "81ead2d7ec0e4e36a3b62bee72777916": {
      "model_module": "@jupyter-widgets/controls",
      "model_module_version": "1.4.0",
      "model_name": "SliderStyleModel",
      "state": {
       "description_width": ""
      }
     },
     "81fe1bc39a804055a10cef09fd471b27": {
      "model_module": "@jupyter-widgets/controls",
      "model_module_version": "1.4.0",
      "model_name": "SliderStyleModel",
      "state": {
       "description_width": "initial"
      }
     },
     "821040fb902f43ac9273b018900c97f0": {
      "model_module": "@jupyter-widgets/controls",
      "model_module_version": "1.4.0",
      "model_name": "DescriptionStyleModel",
      "state": {
       "description_width": ""
      }
     },
     "8239729c2f6b4840a2beca8e65fd0e18": {
      "model_module": "@jupyter-widgets/controls",
      "model_module_version": "1.4.0",
      "model_name": "RadioButtonsModel",
      "state": {
       "_options_labels": [
        "1000",
        "2000",
        "5000",
        "10000"
       ],
       "description": "Size",
       "index": 0,
       "layout": "IPY_MODEL_0edb5a1d1f7c4c218cd520e8cec11db0",
       "style": "IPY_MODEL_a3be46ce1e4541658763298e01095ad5"
      }
     },
     "824beff6b0fc4dae83a7a928fa13b0e3": {
      "model_module": "@jupyter-widgets/controls",
      "model_module_version": "1.4.0",
      "model_name": "DescriptionStyleModel",
      "state": {
       "description_width": ""
      }
     },
     "824db5c0e85a4eb59de27780d968c11f": {
      "model_module": "@jupyter-widgets/controls",
      "model_module_version": "1.4.0",
      "model_name": "VBoxModel",
      "state": {
       "children": [
        "IPY_MODEL_82dd0bfff4fc48fb879e5cc5ce855240",
        "IPY_MODEL_f20b3d21e3e043cb8b6ff854de9d9d47",
        "IPY_MODEL_aaa90a9c27ad4ffdb3b91cd2ea03c377",
        "IPY_MODEL_ab3bc0bda9e6498684fb4dc8ed6b39aa",
        "IPY_MODEL_5b418f86e09c41728078f3674120735a",
        "IPY_MODEL_b71a090c894f4ffd9c0e4038990e5fb5",
        "IPY_MODEL_a95bb45ced6042eea28e78d486eee05a",
        "IPY_MODEL_543a314442734100a0db87a8c24d3598"
       ],
       "layout": "IPY_MODEL_438662d19d564bf5b3cc198a05a2e759"
      }
     },
     "825fccbd42554dcab043781425aa3476": {
      "model_module": "@jupyter-widgets/controls",
      "model_module_version": "1.4.0",
      "model_name": "FloatLogSliderModel",
      "state": {
       "description": "Gamma",
       "layout": "IPY_MODEL_a6563cdcf09f4e9a83b831d98731de96",
       "max": 2,
       "min": -4,
       "step": 1,
       "style": "IPY_MODEL_440c9fee6b874611b2f624539db7f986",
       "value": 0.0001
      }
     },
     "8291a8e2de354e96afe628b02a0a2d86": {
      "model_module": "@jupyter-widgets/base",
      "model_module_version": "1.1.0",
      "model_name": "LayoutModel",
      "state": {}
     },
     "829c13e96bf6407692e4c31e048c35d2": {
      "model_module": "@jupyter-widgets/controls",
      "model_module_version": "1.4.0",
      "model_name": "SliderStyleModel",
      "state": {
       "description_width": ""
      }
     },
     "82b3fb32c9ae4a6591f5ddfeab58aca4": {
      "model_module": "@jupyter-widgets/controls",
      "model_module_version": "1.4.0",
      "model_name": "DescriptionStyleModel",
      "state": {
       "description_width": ""
      }
     },
     "82be8fc48aaa491d8cccae5ff5728717": {
      "model_module": "@jupyter-widgets/base",
      "model_module_version": "1.1.0",
      "model_name": "LayoutModel",
      "state": {}
     },
     "82d5abd61426493b9ddf9eb0ae57aea2": {
      "model_module": "@jupyter-widgets/controls",
      "model_module_version": "1.4.0",
      "model_name": "HTMLModel",
      "state": {
       "layout": "IPY_MODEL_c9a0ffacbe804758910067769d47b65e",
       "style": "IPY_MODEL_97a55e9d359342a9b62c8bca9fa19432",
       "value": "<strong>Dataset</strong>: mnist"
      }
     },
     "82dd0bfff4fc48fb879e5cc5ce855240": {
      "model_module": "@jupyter-widgets/controls",
      "model_module_version": "1.4.0",
      "model_name": "DropdownModel",
      "state": {
       "_options_labels": [
        "dt",
        "logit",
        "linear_svc",
        "rbf_svc"
       ],
       "description": "Model",
       "index": 0,
       "layout": "IPY_MODEL_359d36970fb24fc59bf2b34a01822c71",
       "style": "IPY_MODEL_d770a3881966408b8561e8783a2ce9fe"
      }
     },
     "82ecbcf0ca9e464abd61472477ea2bf4": {
      "model_module": "@jupyter-widgets/controls",
      "model_module_version": "1.4.0",
      "model_name": "DescriptionStyleModel",
      "state": {
       "description_width": ""
      }
     },
     "82fc494917384bc0ba0ad3b9be040fa8": {
      "model_module": "@jupyter-widgets/controls",
      "model_module_version": "1.4.0",
      "model_name": "DropdownModel",
      "state": {
       "_options_labels": [
        "dt",
        "logit",
        "linear_svc",
        "rbf_svc"
       ],
       "description": "Model",
       "index": 0,
       "layout": "IPY_MODEL_cdaad872d7e84a4488ffb9915346286b",
       "style": "IPY_MODEL_1d229cdf0f0c49b89e45a7aa54cfe27c"
      }
     },
     "833e761f79a3451e8e741bd9c4ae41ba": {
      "model_module": "@jupyter-widgets/base",
      "model_module_version": "1.1.0",
      "model_name": "LayoutModel",
      "state": {}
     },
     "834f3b75153e4c29867db59e548ff715": {
      "model_module": "@jupyter-widgets/base",
      "model_module_version": "1.1.0",
      "model_name": "LayoutModel",
      "state": {}
     },
     "8370419683eb474c8457cb248997dec8": {
      "model_module": "@jupyter-widgets/controls",
      "model_module_version": "1.4.0",
      "model_name": "FloatLogSliderModel",
      "state": {
       "description": "C",
       "layout": "IPY_MODEL_eb1eadf4449645b990d4640ea8734d47",
       "max": 5,
       "min": -5,
       "step": 1,
       "style": "IPY_MODEL_c6848c07ec3b469dbdb22357c85ae9d6",
       "value": 1000
      }
     },
     "83d182d4094b4614bc05c5d244db7746": {
      "model_module": "@jupyter-widgets/controls",
      "model_module_version": "1.4.0",
      "model_name": "DropdownModel",
      "state": {
       "_options_labels": [
        "None",
        "rbf",
        "nystroem"
       ],
       "description": "Sampler",
       "index": 0,
       "layout": "IPY_MODEL_5e79c5360ee24880b0bd7c5ce8e60a44",
       "style": "IPY_MODEL_412f9935eabc460bb79da5b11b3ec472"
      }
     },
     "841c171885934e74833ee5aa6bcdcd1e": {
      "model_module": "@jupyter-widgets/base",
      "model_module_version": "1.1.0",
      "model_name": "LayoutModel",
      "state": {}
     },
     "843b8769639849dfab5c6c9119b7205b": {
      "model_module": "@jupyter-widgets/controls",
      "model_module_version": "1.4.0",
      "model_name": "VBoxModel",
      "state": {
       "children": [
        "IPY_MODEL_2e3e2a84170648fd91c41946b170d91d"
       ],
       "layout": "IPY_MODEL_f13d03bbf4664623b5cea1b916228898"
      }
     },
     "845ed414db5041068e7608d8ea5ed4b3": {
      "model_module": "@jupyter-widgets/base",
      "model_module_version": "1.1.0",
      "model_name": "LayoutModel",
      "state": {
       "width": "900px"
      }
     },
     "845fbc41ddcc4f8387441fc061817f41": {
      "model_module": "@jupyter-widgets/base",
      "model_module_version": "1.1.0",
      "model_name": "LayoutModel",
      "state": {}
     },
     "8460e28e51e140b09fdf6525b6fe04fb": {
      "model_module": "@jupyter-widgets/controls",
      "model_module_version": "1.4.0",
      "model_name": "HTMLModel",
      "state": {
       "layout": "IPY_MODEL_f76130a8642c4cf1b959b1cacf4c12db",
       "style": "IPY_MODEL_b187b538c54a4842ab186ad56420a197",
       "value": "<strong>Size</strong>: 2000"
      }
     },
     "84b12899213747279da3c35e5a532dbe": {
      "model_module": "@jupyter-widgets/controls",
      "model_module_version": "1.4.0",
      "model_name": "SliderStyleModel",
      "state": {
       "description_width": ""
      }
     },
     "84b4369769ef4959838c27c6138362f3": {
      "model_module": "@jupyter-widgets/controls",
      "model_module_version": "1.4.0",
      "model_name": "SliderStyleModel",
      "state": {
       "description_width": "initial"
      }
     },
     "84bfc2f3c770420999a5f55bca7fcb2f": {
      "model_module": "@jupyter-widgets/controls",
      "model_module_version": "1.4.0",
      "model_name": "SliderStyleModel",
      "state": {
       "description_width": ""
      }
     },
     "84d585d183f04f389041f18418172bb3": {
      "model_module": "@jupyter-widgets/controls",
      "model_module_version": "1.4.0",
      "model_name": "VBoxModel",
      "state": {
       "children": [
        "IPY_MODEL_f493ee45f27e4ffea4e5f3c08be8b4c0",
        "IPY_MODEL_e685f2f020434d5cb8fa139dad9a7991",
        "IPY_MODEL_89c215715c7d4589a31cc762bf02b6d5",
        "IPY_MODEL_3d776e70fd49409aa3f48fb81c98fb9b",
        "IPY_MODEL_1770e1544762486c94414a104a5309d2",
        "IPY_MODEL_fecc0a0a8e214420a5f5401cf8935220",
        "IPY_MODEL_c9d6df4a45d147b59d18cbcd79029dd3",
        "IPY_MODEL_74648694231e4a8b8193c8c2f2d52301"
       ],
       "layout": "IPY_MODEL_b4d173a5f82d4ab3a21fa96fdab1a4cc"
      }
     },
     "85355ab9de74440cae9ca0a620d4ec58": {
      "model_module": "@jupyter-widgets/controls",
      "model_module_version": "1.4.0",
      "model_name": "DescriptionStyleModel",
      "state": {
       "description_width": ""
      }
     },
     "8543088766904994a81c3a1ef2236fac": {
      "model_module": "@jupyter-widgets/base",
      "model_module_version": "1.1.0",
      "model_name": "LayoutModel",
      "state": {}
     },
     "859f7ed62be945f3bd4553571b1f064c": {
      "model_module": "@jupyter-widgets/base",
      "model_module_version": "1.1.0",
      "model_name": "LayoutModel",
      "state": {}
     },
     "85a08f1da2d8454a85abf476e1784fe8": {
      "model_module": "@jupyter-widgets/base",
      "model_module_version": "1.1.0",
      "model_name": "LayoutModel",
      "state": {}
     },
     "865a07b0362546b19044c9b75541233b": {
      "model_module": "@jupyter-widgets/controls",
      "model_module_version": "1.4.0",
      "model_name": "ButtonStyleModel",
      "state": {}
     },
     "867d39dd926b4dd28bcedea1ef885c2b": {
      "model_module": "@jupyter-widgets/controls",
      "model_module_version": "1.4.0",
      "model_name": "IntSliderModel",
      "state": {
       "description": "N. estim.",
       "layout": "IPY_MODEL_e0e5c6eef1954e448c3950f9e9afe026",
       "max": 200,
       "min": 2,
       "style": "IPY_MODEL_1ea0a5652fd54266a2b4eae47960af53",
       "value": 30
      }
     },
     "868a97eb71314ee69a6bb0e0c7581765": {
      "model_module": "@jupyter-widgets/base",
      "model_module_version": "1.1.0",
      "model_name": "LayoutModel",
      "state": {}
     },
     "869e821c0a054176a928eea7cf5a899e": {
      "model_module": "@jupyter-widgets/base",
      "model_module_version": "1.1.0",
      "model_name": "LayoutModel",
      "state": {
       "width": "900px"
      }
     },
     "86a9afa86e284177b0d4deb82aac0000": {
      "model_module": "@jupyter-widgets/controls",
      "model_module_version": "1.4.0",
      "model_name": "HTMLModel",
      "state": {
       "layout": "IPY_MODEL_a14d94c8af7349ce89bb046d0fb68a1f",
       "style": "IPY_MODEL_636d116782a34ac4baf3748f5f7bd9da",
       "value": "<strong>Size</strong>: 2000"
      }
     },
     "86b5a6e7d7eb4c06be6dbbd2a08d8dfe": {
      "model_module": "@jupyter-widgets/base",
      "model_module_version": "1.1.0",
      "model_name": "LayoutModel",
      "state": {}
     },
     "86b67a444fb84c69a15065b69f11bb56": {
      "model_module": "@jupyter-widgets/controls",
      "model_module_version": "1.4.0",
      "model_name": "SliderStyleModel",
      "state": {
       "description_width": ""
      }
     },
     "86da8978bfa9488bb9389d45a9863c05": {
      "model_module": "@jupyter-widgets/controls",
      "model_module_version": "1.4.0",
      "model_name": "SliderStyleModel",
      "state": {
       "description_width": ""
      }
     },
     "87069fb4678c4e7885244a45beb6e4e9": {
      "model_module": "@jupyter-widgets/controls",
      "model_module_version": "1.4.0",
      "model_name": "DescriptionStyleModel",
      "state": {
       "description_width": ""
      }
     },
     "8731148ef3394a33a4956adaf8091e5a": {
      "model_module": "@jupyter-widgets/controls",
      "model_module_version": "1.4.0",
      "model_name": "VBoxModel",
      "state": {
       "children": [
        "IPY_MODEL_e692381a8c0c40a5b12691e07d7aa56f",
        "IPY_MODEL_e512f98f8d0548f3a963f6bdba9e575b",
        "IPY_MODEL_3d87af0b4ee34a5b89cacffe9d6042bd",
        "IPY_MODEL_d3083e29c21e4c2cb2f74f1eace6a109",
        "IPY_MODEL_4565a388872943c7b1fae12077ac09b6",
        "IPY_MODEL_4c5034993ee340f8abc7a189e45d220e",
        "IPY_MODEL_0210fd00a1a0409cad6ed91eba1a1caf"
       ],
       "layout": "IPY_MODEL_d844d9c7aee84a45817ac4902dac782c"
      }
     },
     "8769f91842a8453b93e284790d3388e6": {
      "model_module": "@jupyter-widgets/controls",
      "model_module_version": "1.4.0",
      "model_name": "VBoxModel",
      "state": {
       "children": [
        "IPY_MODEL_23f867cc8cdb4a218235fba8de8194c5",
        "IPY_MODEL_4830c086ddb8457d8a96fe9ceee26df3",
        "IPY_MODEL_8370419683eb474c8457cb248997dec8",
        "IPY_MODEL_8c7485abd41c42f2b1bb4faba7e3a7ed",
        "IPY_MODEL_4fbfe9a5f62849bf94e5451d6bb7e00f",
        "IPY_MODEL_825fccbd42554dcab043781425aa3476",
        "IPY_MODEL_a9bbfb436d12446b9a5c692096a26ca4",
        "IPY_MODEL_c1c5f582a1e94cfc870758b7e32664af"
       ],
       "layout": "IPY_MODEL_2f54c9d0447d4777baa3f509b24c2073"
      }
     },
     "87a241daf7d74a029d89af194e442f9d": {
      "model_module": "@jupyter-widgets/controls",
      "model_module_version": "1.4.0",
      "model_name": "ButtonModel",
      "state": {
       "button_style": "info",
       "description": "Add model",
       "layout": "IPY_MODEL_7cceb35cf22e4f3392f9ef4e1991c6ad",
       "style": "IPY_MODEL_0b46f6119cf74487ae1a45bfc4dc242f"
      }
     },
     "87b68b894cae4765a6d608c9c0c9539e": {
      "model_module": "@jupyter-widgets/controls",
      "model_module_version": "1.4.0",
      "model_name": "DescriptionStyleModel",
      "state": {
       "description_width": ""
      }
     },
     "88190452075140ba8cf2bb0158b5651e": {
      "model_module": "@jupyter-widgets/base",
      "model_module_version": "1.1.0",
      "model_name": "LayoutModel",
      "state": {}
     },
     "882d8d94636e41f5ac20bef7563558f2": {
      "model_module": "@jupyter-widgets/output",
      "model_module_version": "1.0.0",
      "model_name": "OutputModel",
      "state": {
       "layout": "IPY_MODEL_834f3b75153e4c29867db59e548ff715"
      }
     },
     "88bb7ca4521e4e1d8c9258451c694a2d": {
      "model_module": "@jupyter-widgets/controls",
      "model_module_version": "1.4.0",
      "model_name": "DescriptionStyleModel",
      "state": {
       "description_width": ""
      }
     },
     "8946e6d686f54049b04c884e988c023c": {
      "model_module": "@jupyter-widgets/base",
      "model_module_version": "1.1.0",
      "model_name": "LayoutModel",
      "state": {}
     },
     "895297c2153e4fc7859ac0870f0dbcae": {
      "model_module": "@jupyter-widgets/controls",
      "model_module_version": "1.4.0",
      "model_name": "HTMLModel",
      "state": {
       "layout": "IPY_MODEL_b86a5afc05fb4949b2da67f06be18b96",
       "style": "IPY_MODEL_c70bf81e9aa64d02a8c7342e1b6a7807",
       "value": "<strong>Size</strong>: 2000"
      }
     },
     "897ed39fd60c4909b9551dea1cfcbdb7": {
      "model_module": "@jupyter-widgets/controls",
      "model_module_version": "1.4.0",
      "model_name": "VBoxModel",
      "state": {
       "children": [
        "IPY_MODEL_b1d4b48a5ca94215b8b483efb1294abd",
        "IPY_MODEL_054c7565da6c4c59824c9885bf4d0fcd",
        "IPY_MODEL_8a9c56ff3d7b4d418d438f8c7f5f1f80",
        "IPY_MODEL_d9e181acf1f443f5817001aee415e138",
        "IPY_MODEL_7cf3b1b50ce44754a732880574dfb754",
        "IPY_MODEL_7338302fddc64f13929658d292321dc2",
        "IPY_MODEL_b945921e97bf4f7bbf562755af5b7772"
       ],
       "layout": "IPY_MODEL_c5bf0deaefaf420eb13ea2d6c805b358"
      }
     },
     "89ab22fae4f945fe8cda67e39c49d859": {
      "model_module": "@jupyter-widgets/base",
      "model_module_version": "1.1.0",
      "model_name": "LayoutModel",
      "state": {}
     },
     "89c215715c7d4589a31cc762bf02b6d5": {
      "model_module": "@jupyter-widgets/controls",
      "model_module_version": "1.4.0",
      "model_name": "FloatLogSliderModel",
      "state": {
       "description": "C",
       "layout": "IPY_MODEL_b4de2e9b79a246fe83bb73eddfd5460e",
       "max": 5,
       "min": -5,
       "step": 1,
       "style": "IPY_MODEL_6dbe2dca13c24b889dbd7cef69459ec6",
       "value": 1000
      }
     },
     "89d084804b05427982b8d31d36fdc7e4": {
      "model_module": "@jupyter-widgets/controls",
      "model_module_version": "1.4.0",
      "model_name": "FloatLogSliderModel",
      "state": {
       "description": "C",
       "layout": "IPY_MODEL_177cf1befd354a1f916ae97e10c4f3ce",
       "max": 5,
       "min": -5,
       "step": 1,
       "style": "IPY_MODEL_ef4159b943104e8692547a9d743e3e9a",
       "value": 1000
      }
     },
     "89e6f9b0c69b45dba112c35a2121bd76": {
      "model_module": "@jupyter-widgets/controls",
      "model_module_version": "1.4.0",
      "model_name": "DescriptionStyleModel",
      "state": {
       "description_width": ""
      }
     },
     "8a139e523a1c439eadcfbd6ab98dd4c9": {
      "model_module": "@jupyter-widgets/base",
      "model_module_version": "1.1.0",
      "model_name": "LayoutModel",
      "state": {
       "visibility": "hidden",
       "width": "800px"
      }
     },
     "8a18de4e3c0343f5a036a426b3969a1a": {
      "model_module": "@jupyter-widgets/controls",
      "model_module_version": "1.4.0",
      "model_name": "SliderStyleModel",
      "state": {
       "description_width": ""
      }
     },
     "8a1a76adfeb34f299199d049f3b02c86": {
      "model_module": "@jupyter-widgets/base",
      "model_module_version": "1.1.0",
      "model_name": "LayoutModel",
      "state": {}
     },
     "8a2c3a9d518546279d6576f94d68e862": {
      "model_module": "@jupyter-widgets/base",
      "model_module_version": "1.1.0",
      "model_name": "LayoutModel",
      "state": {
       "visibility": "hidden",
       "width": "800px"
      }
     },
     "8a2d9accf8da4a30825b0b5e14e9bdd3": {
      "model_module": "@jupyter-widgets/base",
      "model_module_version": "1.1.0",
      "model_name": "LayoutModel",
      "state": {}
     },
     "8a49aa6b1c004ba796f7fb084a728ad0": {
      "model_module": "@jupyter-widgets/controls",
      "model_module_version": "1.4.0",
      "model_name": "DescriptionStyleModel",
      "state": {
       "description_width": ""
      }
     },
     "8a5d80d5481f458593046a055ea0590b": {
      "model_module": "@jupyter-widgets/base",
      "model_module_version": "1.1.0",
      "model_name": "LayoutModel",
      "state": {}
     },
     "8a6508aec4a147eca759274393c842bf": {
      "model_module": "@jupyter-widgets/base",
      "model_module_version": "1.1.0",
      "model_name": "LayoutModel",
      "state": {}
     },
     "8a7030776a3042438bfd388ee839e1fb": {
      "model_module": "@jupyter-widgets/controls",
      "model_module_version": "1.4.0",
      "model_name": "DropdownModel",
      "state": {
       "_options_labels": [
        "black_bag",
        "grey_bag",
        "black_ens",
        "grey_ens",
        "None"
       ],
       "description": "Box Type",
       "index": 4,
       "layout": "IPY_MODEL_8d68a4b5fd354a3dac0d567d13e364b9",
       "style": "IPY_MODEL_a0d86b944e9f48e68232734e47f08e51"
      }
     },
     "8a9c56ff3d7b4d418d438f8c7f5f1f80": {
      "model_module": "@jupyter-widgets/controls",
      "model_module_version": "1.4.0",
      "model_name": "ButtonModel",
      "state": {
       "button_style": "info",
       "description": "Add model",
       "layout": "IPY_MODEL_e13e47908ed64de2ad8ec7bd5e959b8f",
       "style": "IPY_MODEL_7ccd39ea9b7448bdb715d42771438b88"
      }
     },
     "8acc14f4d43e4e8aa62d22eea0469a22": {
      "model_module": "@jupyter-widgets/base",
      "model_module_version": "1.1.0",
      "model_name": "LayoutModel",
      "state": {}
     },
     "8aceaa97309d4ce99ac86919cf3a53f7": {
      "model_module": "@jupyter-widgets/base",
      "model_module_version": "1.1.0",
      "model_name": "LayoutModel",
      "state": {}
     },
     "8ad1a583a3d24c2cb980fbdb87ac88f0": {
      "model_module": "@jupyter-widgets/controls",
      "model_module_version": "1.4.0",
      "model_name": "DescriptionStyleModel",
      "state": {
       "description_width": ""
      }
     },
     "8adde38bcbc246ab84b30b55db57acef": {
      "model_module": "@jupyter-widgets/controls",
      "model_module_version": "1.4.0",
      "model_name": "FloatSliderModel",
      "state": {
       "description": "min_impurity_decrease:",
       "layout": "IPY_MODEL_6eed26a2f9b04f40901ba6a7c38ad997",
       "max": 1,
       "step": 0.1,
       "style": "IPY_MODEL_e07bb98576594ab68d9450378d39be5e"
      }
     },
     "8b41f5d9011c46808a6f9628ec97156e": {
      "model_module": "@jupyter-widgets/controls",
      "model_module_version": "1.4.0",
      "model_name": "DescriptionStyleModel",
      "state": {
       "description_width": ""
      }
     },
     "8b69adaa11af4cf1b82984fe43e07eee": {
      "model_module": "@jupyter-widgets/base",
      "model_module_version": "1.1.0",
      "model_name": "LayoutModel",
      "state": {
       "width": "900px"
      }
     },
     "8bbcb5cefcec4c16b5350813be57e2e8": {
      "model_module": "@jupyter-widgets/base",
      "model_module_version": "1.1.0",
      "model_name": "LayoutModel",
      "state": {}
     },
     "8c0b56b29661480ba31042ce0a154b13": {
      "model_module": "@jupyter-widgets/base",
      "model_module_version": "1.1.0",
      "model_name": "LayoutModel",
      "state": {
       "margin": "0px 20px 0px 0px"
      }
     },
     "8c34178087014a04886734d96667c511": {
      "model_module": "@jupyter-widgets/controls",
      "model_module_version": "1.4.0",
      "model_name": "DescriptionStyleModel",
      "state": {
       "description_width": ""
      }
     },
     "8c7485abd41c42f2b1bb4faba7e3a7ed": {
      "model_module": "@jupyter-widgets/controls",
      "model_module_version": "1.4.0",
      "model_name": "IntSliderModel",
      "state": {
       "description": "C",
       "layout": "IPY_MODEL_7b69afe681084e34a5e5682b83c36add",
       "max": 10,
       "min": 1,
       "style": "IPY_MODEL_9ee8d8ecf1934e2297124e68c78e5ab5",
       "value": 5
      }
     },
     "8d09ad1d2b654d1f9f6ecad4c69899f2": {
      "model_module": "@jupyter-widgets/base",
      "model_module_version": "1.1.0",
      "model_name": "LayoutModel",
      "state": {}
     },
     "8d36580062a34f97b9630d18d4d24a3d": {
      "model_module": "@jupyter-widgets/controls",
      "model_module_version": "1.4.0",
      "model_name": "RadioButtonsModel",
      "state": {
       "_options_labels": [
        "1000",
        "2000",
        "5000",
        "10000"
       ],
       "description": "Size",
       "index": 0,
       "layout": "IPY_MODEL_caf4396cb1dd4c0fa245deca5305d5b1",
       "style": "IPY_MODEL_20d319da4f4c415aa11cb53373191894"
      }
     },
     "8d52a6378326464fb864b74174363f72": {
      "model_module": "@jupyter-widgets/controls",
      "model_module_version": "1.4.0",
      "model_name": "DropdownModel",
      "state": {
       "_options_labels": [
        "segment",
        "covertype",
        "digits",
        "fall_detection",
        "mnist",
        "pen_digits",
        "satellite",
        "vowel"
       ],
       "description": "Dataset:",
       "index": 0,
       "layout": "IPY_MODEL_c2c62b5bd31d45eb8d91c831896cec49",
       "style": "IPY_MODEL_1296665d89c445aca47aecfe2d0980a7"
      }
     },
     "8d68a4b5fd354a3dac0d567d13e364b9": {
      "model_module": "@jupyter-widgets/base",
      "model_module_version": "1.1.0",
      "model_name": "LayoutModel",
      "state": {}
     },
     "8d7530b7eb784be4b4352dcfb4cc03a1": {
      "model_module": "@jupyter-widgets/base",
      "model_module_version": "1.1.0",
      "model_name": "LayoutModel",
      "state": {}
     },
     "8da5e4ca96af4b019226c75fafd34933": {
      "model_module": "@jupyter-widgets/controls",
      "model_module_version": "1.4.0",
      "model_name": "ButtonModel",
      "state": {
       "button_style": "info",
       "description": "Add model",
       "layout": "IPY_MODEL_c2d97c280ca24b5d9a8f7b8b65fa2e1a",
       "style": "IPY_MODEL_90d33e214e9040a2b8d6acfcf621fb07"
      }
     },
     "8daec7dfdb0b4203b0fdb5c891ff2def": {
      "model_module": "@jupyter-widgets/base",
      "model_module_version": "1.1.0",
      "model_name": "LayoutModel",
      "state": {}
     },
     "8dbc076b0d1c437c840b3f266a50b907": {
      "model_module": "@jupyter-widgets/controls",
      "model_module_version": "1.4.0",
      "model_name": "ButtonStyleModel",
      "state": {}
     },
     "8df4164432244d6784938c011b93151d": {
      "model_module": "@jupyter-widgets/controls",
      "model_module_version": "1.4.0",
      "model_name": "DescriptionStyleModel",
      "state": {
       "description_width": ""
      }
     },
     "8e2d891fdcab4a5e80c01096edcbadb3": {
      "model_module": "@jupyter-widgets/base",
      "model_module_version": "1.1.0",
      "model_name": "LayoutModel",
      "state": {}
     },
     "8e4149f7e02c4205b29f2872126fdfe8": {
      "model_module": "@jupyter-widgets/controls",
      "model_module_version": "1.4.0",
      "model_name": "ButtonModel",
      "state": {
       "button_style": "info",
       "description": "Add model",
       "layout": "IPY_MODEL_5a0d3ad75d214ef5b0e7204fc0a76b14",
       "style": "IPY_MODEL_ecf3469dd74743b881c69f372c205f17"
      }
     },
     "8e608e732576473191258968bba1d560": {
      "model_module": "@jupyter-widgets/controls",
      "model_module_version": "1.4.0",
      "model_name": "DescriptionStyleModel",
      "state": {
       "description_width": ""
      }
     },
     "8e6852699424428ca23fa22ccb6f0917": {
      "model_module": "@jupyter-widgets/controls",
      "model_module_version": "1.4.0",
      "model_name": "VBoxModel",
      "state": {
       "children": [
        "IPY_MODEL_2aa52ea1418640edb485d58630baa086"
       ],
       "layout": "IPY_MODEL_f165084980fe4d039095265104bc0d81"
      }
     },
     "8e9f324d42e449228d8a2e2b805d7a00": {
      "model_module": "@jupyter-widgets/controls",
      "model_module_version": "1.4.0",
      "model_name": "SliderStyleModel",
      "state": {
       "description_width": ""
      }
     },
     "8eb3ecbb7a3f4765b87ae3c32e68c8e4": {
      "model_module": "@jupyter-widgets/controls",
      "model_module_version": "1.4.0",
      "model_name": "SliderStyleModel",
      "state": {
       "description_width": "initial"
      }
     },
     "8ebf50bf8590422d9d832d4e74b75ec2": {
      "model_module": "@jupyter-widgets/controls",
      "model_module_version": "1.4.0",
      "model_name": "SliderStyleModel",
      "state": {
       "description_width": ""
      }
     },
     "8ee4c7be287a4eed853d27680f2e79d9": {
      "model_module": "@jupyter-widgets/base",
      "model_module_version": "1.1.0",
      "model_name": "LayoutModel",
      "state": {}
     },
     "8ef558eb6f1a41279d8413a5c42632b4": {
      "model_module": "@jupyter-widgets/base",
      "model_module_version": "1.1.0",
      "model_name": "LayoutModel",
      "state": {}
     },
     "8efb7c06cb2b4a10b6cff32176254b02": {
      "model_module": "@jupyter-widgets/controls",
      "model_module_version": "1.4.0",
      "model_name": "DescriptionStyleModel",
      "state": {
       "description_width": ""
      }
     },
     "8f08a2ada33b4951ad1df60f80bf96e9": {
      "model_module": "@jupyter-widgets/base",
      "model_module_version": "1.1.0",
      "model_name": "LayoutModel",
      "state": {}
     },
     "8f1cbf2e21674493b8ff53355e52f4b9": {
      "model_module": "@jupyter-widgets/base",
      "model_module_version": "1.1.0",
      "model_name": "LayoutModel",
      "state": {}
     },
     "8f896792c03c4b9d9dc4d3edf7af4f6d": {
      "model_module": "@jupyter-widgets/base",
      "model_module_version": "1.1.0",
      "model_name": "LayoutModel",
      "state": {
       "width": "900px"
      }
     },
     "8f9502dec6794205bb2260680e17960a": {
      "model_module": "@jupyter-widgets/base",
      "model_module_version": "1.1.0",
      "model_name": "LayoutModel",
      "state": {}
     },
     "9011483e82134d5e84aa022573fea464": {
      "model_module": "@jupyter-widgets/base",
      "model_module_version": "1.1.0",
      "model_name": "LayoutModel",
      "state": {}
     },
     "901d6ee7d05245fcbc4b6625782e4ccb": {
      "model_module": "@jupyter-widgets/controls",
      "model_module_version": "1.4.0",
      "model_name": "ButtonStyleModel",
      "state": {}
     },
     "904148305acc4a15a57246328d532ca7": {
      "model_module": "@jupyter-widgets/controls",
      "model_module_version": "1.4.0",
      "model_name": "SliderStyleModel",
      "state": {
       "description_width": ""
      }
     },
     "9041fe4d80a94dfa84a760ee7ee8ab2c": {
      "model_module": "@jupyter-widgets/base",
      "model_module_version": "1.1.0",
      "model_name": "LayoutModel",
      "state": {}
     },
     "909687b43fbd430a9c93f3736e46173a": {
      "model_module": "@jupyter-widgets/controls",
      "model_module_version": "1.4.0",
      "model_name": "ButtonModel",
      "state": {
       "button_style": "info",
       "description": "Demo10",
       "layout": "IPY_MODEL_f9916221df42429693b5c053e42d21e8",
       "style": "IPY_MODEL_e9003d761bad44348a8d9e16a2d7e118"
      }
     },
     "90b6d12b16874b798d88df123e62768b": {
      "model_module": "@jupyter-widgets/controls",
      "model_module_version": "1.4.0",
      "model_name": "ButtonStyleModel",
      "state": {}
     },
     "90c66712f251499c95a21639bb495631": {
      "model_module": "@jupyter-widgets/base",
      "model_module_version": "1.1.0",
      "model_name": "LayoutModel",
      "state": {
       "visibility": "hidden",
       "width": "800px"
      }
     },
     "90d33e214e9040a2b8d6acfcf621fb07": {
      "model_module": "@jupyter-widgets/controls",
      "model_module_version": "1.4.0",
      "model_name": "ButtonStyleModel",
      "state": {}
     },
     "90e559943c2b44f7947f04e2f1431661": {
      "model_module": "@jupyter-widgets/controls",
      "model_module_version": "1.4.0",
      "model_name": "DropdownModel",
      "state": {
       "_options_labels": [
        "segment",
        "covertype",
        "digits",
        "fall_detection",
        "mnist",
        "pen_digits",
        "satellite",
        "vowel"
       ],
       "description": "Dataset:",
       "index": 0,
       "layout": "IPY_MODEL_6f8a528933be45efad75f75a63976738",
       "style": "IPY_MODEL_babfddf580b74d26bfb578ca40a4b8ff"
      }
     },
     "90e713905df54e55b88774b8ac0c2bb0": {
      "model_module": "@jupyter-widgets/controls",
      "model_module_version": "1.4.0",
      "model_name": "HTMLModel",
      "state": {
       "layout": "IPY_MODEL_8bbcb5cefcec4c16b5350813be57e2e8",
       "style": "IPY_MODEL_89e6f9b0c69b45dba112c35a2121bd76",
       "value": "<strong>Size</strong>: 2000"
      }
     },
     "90f9083102a84ea6b325b5d772b95b0e": {
      "model_module": "@jupyter-widgets/controls",
      "model_module_version": "1.4.0",
      "model_name": "SliderStyleModel",
      "state": {
       "description_width": "initial"
      }
     },
     "90fad1ea815f46e1924f633ae6843e72": {
      "model_module": "@jupyter-widgets/controls",
      "model_module_version": "1.4.0",
      "model_name": "DropdownModel",
      "state": {
       "_options_labels": [
        "None",
        "rbf",
        "nystroem"
       ],
       "description": "Sampler",
       "index": 0,
       "layout": "IPY_MODEL_ccbcdeb9c2f746618fb2f2a23b93d47e",
       "style": "IPY_MODEL_e1635857ef2f438099de679ee54b1746"
      }
     },
     "9110e6ccbe3e4a50a1669a3507e6ea8a": {
      "model_module": "@jupyter-widgets/controls",
      "model_module_version": "1.4.0",
      "model_name": "DescriptionStyleModel",
      "state": {
       "description_width": ""
      }
     },
     "91401ae99c944638ba3326cf8d135b99": {
      "model_module": "@jupyter-widgets/controls",
      "model_module_version": "1.4.0",
      "model_name": "HTMLModel",
      "state": {
       "layout": "IPY_MODEL_a970d2cc82734c3b947d7c48b784e1cd",
       "style": "IPY_MODEL_8e608e732576473191258968bba1d560",
       "value": "<strong>Size</strong>: 2000"
      }
     },
     "918f80500ab44e329ed7269e7f5c0ac6": {
      "model_module": "@jupyter-widgets/base",
      "model_module_version": "1.1.0",
      "model_name": "LayoutModel",
      "state": {}
     },
     "920739640f4d41269e8e5d2346b3c930": {
      "model_module": "@jupyter-widgets/controls",
      "model_module_version": "1.4.0",
      "model_name": "IntSliderModel",
      "state": {
       "description": "C",
       "layout": "IPY_MODEL_1a224920db1c419493565cec8aed4751",
       "max": 10,
       "min": 1,
       "style": "IPY_MODEL_f07ba74dc7284486b7cf609ceff9363c",
       "value": 5
      }
     },
     "92107c32909a4b8aaa097566d46ed676": {
      "model_module": "@jupyter-widgets/controls",
      "model_module_version": "1.4.0",
      "model_name": "VBoxModel",
      "state": {
       "children": [
        "IPY_MODEL_2ece375025554fc08d0f4f2a722693c6",
        "IPY_MODEL_71dd5c8e07e24976bdca757f5adc3bde",
        "IPY_MODEL_0142c7fce70a488292e7cdd30a416550",
        "IPY_MODEL_3aa32879abde4541a22ca474dc375f45",
        "IPY_MODEL_e363d5db93d14f88965675d1d0b3a668",
        "IPY_MODEL_e52646c2d795415b88398af585bd829b",
        "IPY_MODEL_fe5fc349f0d940a19b4bea885bee2acf",
        "IPY_MODEL_db0598a0a05a4d32b1ebda727abe8416"
       ],
       "layout": "IPY_MODEL_03b43881f0824292bac5b3b73812eed7"
      }
     },
     "92197ffda0e842b5be178452d3f4da20": {
      "model_module": "@jupyter-widgets/base",
      "model_module_version": "1.1.0",
      "model_name": "LayoutModel",
      "state": {}
     },
     "9378edee18d548298262b50b94ea7411": {
      "model_module": "@jupyter-widgets/base",
      "model_module_version": "1.1.0",
      "model_name": "LayoutModel",
      "state": {}
     },
     "938f0243f19e49aaa5381605b0fe90ec": {
      "model_module": "@jupyter-widgets/base",
      "model_module_version": "1.1.0",
      "model_name": "LayoutModel",
      "state": {}
     },
     "93bf7680dd1b4e78a3ed2ea7b74d0c80": {
      "model_module": "@jupyter-widgets/controls",
      "model_module_version": "1.4.0",
      "model_name": "RadioButtonsModel",
      "state": {
       "_options_labels": [
        "1000",
        "2000",
        "5000",
        "10000"
       ],
       "description": "Size",
       "index": 0,
       "layout": "IPY_MODEL_b83df37843bb4cd594645c5852acb1d6",
       "style": "IPY_MODEL_784bdbe8985d42c7859e70a5ce257226"
      }
     },
     "93c87ed135b34e1487019ab5f9a8dca0": {
      "model_module": "@jupyter-widgets/controls",
      "model_module_version": "1.4.0",
      "model_name": "TabModel",
      "state": {
       "_titles": {
        "0": "dt"
       },
       "children": [
        "IPY_MODEL_4891262a6fdd4cc0be7e5fd7c2108b5d"
       ],
       "layout": "IPY_MODEL_aae357a6321843a89da5f1731f0341d2"
      }
     },
     "93f0c8b5e71b4a0fa3bf85a38b90100a": {
      "model_module": "@jupyter-widgets/controls",
      "model_module_version": "1.4.0",
      "model_name": "IntSliderModel",
      "state": {
       "description": "C",
       "layout": "IPY_MODEL_da2e15cd5c3c47148cdf8dda4a29039d",
       "max": 10,
       "min": 1,
       "style": "IPY_MODEL_4e66689dda834e3ca9055688af1f07ad",
       "value": 5
      }
     },
     "94109ac5841c4ebe8277d99c1bc76995": {
      "model_module": "@jupyter-widgets/base",
      "model_module_version": "1.1.0",
      "model_name": "LayoutModel",
      "state": {}
     },
     "941c11689a9e4b02ae01b3f54c614608": {
      "model_module": "@jupyter-widgets/controls",
      "model_module_version": "1.4.0",
      "model_name": "VBoxModel",
      "state": {
       "children": [
        "IPY_MODEL_562ddd8a82c94c62854b314ca9223b9f"
       ],
       "layout": "IPY_MODEL_2d604aef099445d38998f1d9dd7cb66f"
      }
     },
     "9471d2f1cc6b4206a30cb1eadacd0b0d": {
      "model_module": "@jupyter-widgets/controls",
      "model_module_version": "1.4.0",
      "model_name": "DropdownModel",
      "state": {
       "_options_labels": [
        "black_bag",
        "grey_bag",
        "black_ens",
        "grey_ens",
        "None"
       ],
       "description": "Box Type",
       "index": 4,
       "layout": "IPY_MODEL_c0246dbb0c734ab7929b642056df77e0",
       "style": "IPY_MODEL_48462c2a47ae4af1baac9181315a27e5"
      }
     },
     "947eb04d25a24e948674850c98f9f03c": {
      "model_module": "@jupyter-widgets/controls",
      "model_module_version": "1.4.0",
      "model_name": "HTMLModel",
      "state": {
       "layout": "IPY_MODEL_8daec7dfdb0b4203b0fdb5c891ff2def",
       "style": "IPY_MODEL_d223d9cb64164d768971dfe3c2e04dae",
       "value": "<strong>Size</strong>: 2000"
      }
     },
     "949bb237988641b78afc8f02198e26a6": {
      "model_module": "@jupyter-widgets/base",
      "model_module_version": "1.1.0",
      "model_name": "LayoutModel",
      "state": {
       "margin": "0px 20px 0px 0px"
      }
     },
     "94d2b469b16b4cd3ad42e03923d9c0ac": {
      "model_module": "@jupyter-widgets/controls",
      "model_module_version": "1.4.0",
      "model_name": "SliderStyleModel",
      "state": {
       "description_width": ""
      }
     },
     "94d96e0d1d444d8e9b60f02c598cf858": {
      "model_module": "@jupyter-widgets/controls",
      "model_module_version": "1.4.0",
      "model_name": "IntSliderModel",
      "state": {
       "description": "N. estim.",
       "layout": "IPY_MODEL_bfed97f69972487b97e1ecf40e369a01",
       "max": 200,
       "min": 2,
       "style": "IPY_MODEL_813c81ccb97c4719a32a02a73c6507b5",
       "value": 30
      }
     },
     "9512df6b6b1d45fe8e79339718c65d5a": {
      "model_module": "@jupyter-widgets/base",
      "model_module_version": "1.1.0",
      "model_name": "LayoutModel",
      "state": {}
     },
     "95130066e8084436a71e1a2b211ab8a2": {
      "model_module": "@jupyter-widgets/base",
      "model_module_version": "1.1.0",
      "model_name": "LayoutModel",
      "state": {
       "display": "none",
       "visibility": "hidden",
       "width": "800px"
      }
     },
     "95a8fec58ff94657a2057fdf6c67be36": {
      "model_module": "@jupyter-widgets/base",
      "model_module_version": "1.1.0",
      "model_name": "LayoutModel",
      "state": {}
     },
     "95c60895db0644c2bc4ef8db8c192534": {
      "model_module": "@jupyter-widgets/controls",
      "model_module_version": "1.4.0",
      "model_name": "DropdownModel",
      "state": {
       "_options_labels": [
        "dt",
        "logit",
        "linear_svc",
        "rbf_svc"
       ],
       "description": "Model",
       "index": 0,
       "layout": "IPY_MODEL_f5cf1fd17a4b45f3a9cbea9bf865dacd",
       "style": "IPY_MODEL_a475c0fe05594d89aa1f877c9bf967b2"
      }
     },
     "965054570c0c4d909ac5aea5593581d5": {
      "model_module": "@jupyter-widgets/base",
      "model_module_version": "1.1.0",
      "model_name": "LayoutModel",
      "state": {
       "width": "900px"
      }
     },
     "966dc00be6a740c98f8029f35345eb39": {
      "model_module": "@jupyter-widgets/base",
      "model_module_version": "1.1.0",
      "model_name": "LayoutModel",
      "state": {}
     },
     "967bced0af7a4d78bfd65aea108fffec": {
      "model_module": "@jupyter-widgets/base",
      "model_module_version": "1.1.0",
      "model_name": "LayoutModel",
      "state": {}
     },
     "96f3765b558d41e597f29e97c77880ba": {
      "model_module": "@jupyter-widgets/controls",
      "model_module_version": "1.4.0",
      "model_name": "IntRangeSliderModel",
      "state": {
       "_model_name": "IntRangeSliderModel",
       "_view_name": "IntRangeSliderView",
       "layout": "IPY_MODEL_18fe0b2de8104b15a811066aab19e746",
       "max": 1000,
       "min": 30,
       "step": 10,
       "style": "IPY_MODEL_77735169c21a48c3ba61e20fbbf4cb44",
       "value": [
        30,
        100
       ]
      }
     },
     "9703c04e5aba48a6810bdf301b7b4241": {
      "model_module": "@jupyter-widgets/base",
      "model_module_version": "1.1.0",
      "model_name": "LayoutModel",
      "state": {}
     },
     "97048791de0e4c219f1a379217c0d536": {
      "model_module": "@jupyter-widgets/controls",
      "model_module_version": "1.4.0",
      "model_name": "SliderStyleModel",
      "state": {
       "description_width": ""
      }
     },
     "971a21cc8cca461aa5a9d2646131a5cf": {
      "model_module": "@jupyter-widgets/base",
      "model_module_version": "1.1.0",
      "model_name": "LayoutModel",
      "state": {}
     },
     "971f75bd2aed4a448ddfa8fc3a38c4cb": {
      "model_module": "@jupyter-widgets/controls",
      "model_module_version": "1.4.0",
      "model_name": "DropdownModel",
      "state": {
       "_options_labels": [
        "black_bag",
        "grey_bag",
        "black_ens",
        "grey_ens",
        "None"
       ],
       "description": "Box Type",
       "index": 4,
       "layout": "IPY_MODEL_265dba9fcde742609370da69113353ee",
       "style": "IPY_MODEL_d9cf4fd8715f48c0a99a3ce8cb30b802"
      }
     },
     "972a1141021d4c64855b2b278ab19b81": {
      "model_module": "@jupyter-widgets/controls",
      "model_module_version": "1.4.0",
      "model_name": "HTMLModel",
      "state": {
       "layout": "IPY_MODEL_0bbfb5b02e5d4e0a9821936714e8c090",
       "style": "IPY_MODEL_f9728d27d83a475cabc9e3e30ff2aec7",
       "value": "<strong>Size</strong>: 2000"
      }
     },
     "973829e8f7214c3bb46eb96c044ccc29": {
      "model_module": "@jupyter-widgets/controls",
      "model_module_version": "1.4.0",
      "model_name": "VBoxModel",
      "state": {
       "children": [
        "IPY_MODEL_9938e55e50d04328bf0332194d8216b2"
       ],
       "layout": "IPY_MODEL_ef39af51b4c048b68332f186d84175de"
      }
     },
     "973c9ca641544188b7427d339455ef08": {
      "model_module": "@jupyter-widgets/controls",
      "model_module_version": "1.4.0",
      "model_name": "DropdownModel",
      "state": {
       "_options_labels": [
        "dt",
        "logit",
        "linear_svc",
        "rbf_svc"
       ],
       "description": "Model",
       "index": 0,
       "layout": "IPY_MODEL_a04047d91c8d4b7584691e608635852d",
       "style": "IPY_MODEL_3efc9175ea9d44e095515957d509d954"
      }
     },
     "976bf54ec1b640b481ebdd62082a775b": {
      "model_module": "@jupyter-widgets/base",
      "model_module_version": "1.1.0",
      "model_name": "LayoutModel",
      "state": {}
     },
     "977766ecdbe143bba7fdd61c3a8c0ca8": {
      "model_module": "@jupyter-widgets/base",
      "model_module_version": "1.1.0",
      "model_name": "LayoutModel",
      "state": {}
     },
     "97811e1fd05d4a20a92df43c00c4e086": {
      "model_module": "@jupyter-widgets/controls",
      "model_module_version": "1.4.0",
      "model_name": "DescriptionStyleModel",
      "state": {
       "description_width": ""
      }
     },
     "97833b53218548c68781dd26f7fdf52e": {
      "model_module": "@jupyter-widgets/base",
      "model_module_version": "1.1.0",
      "model_name": "LayoutModel",
      "state": {}
     },
     "978b6b37b0cf4086930a56098efa0330": {
      "model_module": "@jupyter-widgets/base",
      "model_module_version": "1.1.0",
      "model_name": "LayoutModel",
      "state": {}
     },
     "97a55e9d359342a9b62c8bca9fa19432": {
      "model_module": "@jupyter-widgets/controls",
      "model_module_version": "1.4.0",
      "model_name": "DescriptionStyleModel",
      "state": {
       "description_width": ""
      }
     },
     "97c8840f1ae246d1bc890c80b277e2f8": {
      "model_module": "@jupyter-widgets/controls",
      "model_module_version": "1.4.0",
      "model_name": "DropdownModel",
      "state": {
       "_options_labels": [
        "segment",
        "covertype",
        "digits",
        "fall_detection",
        "mnist",
        "pen_digits",
        "satellite",
        "vowel"
       ],
       "description": "Dataset:",
       "index": 0,
       "layout": "IPY_MODEL_1dc946f25b094aa39a60901bdfbb0bce",
       "style": "IPY_MODEL_1c6019aca6534936a34ee01c50902e28"
      }
     },
     "980463f72bdd4d86a39beb4cbe12eadf": {
      "model_module": "@jupyter-widgets/base",
      "model_module_version": "1.1.0",
      "model_name": "LayoutModel",
      "state": {}
     },
     "980c37f05ef94f20ad94bae0cbd0a1ae": {
      "model_module": "@jupyter-widgets/controls",
      "model_module_version": "1.4.0",
      "model_name": "IntRangeSliderModel",
      "state": {
       "_model_name": "IntRangeSliderModel",
       "_view_name": "IntRangeSliderView",
       "layout": "IPY_MODEL_d7c3dfc1f20942eab51498d73462dd46",
       "max": 1000,
       "min": 30,
       "step": 10,
       "style": "IPY_MODEL_f1f953a680fa4e2583f315b321ccafee",
       "value": [
        30,
        100
       ]
      }
     },
     "9859b574af1b4eb3986dbe97186e1258": {
      "model_module": "@jupyter-widgets/controls",
      "model_module_version": "1.4.0",
      "model_name": "TabModel",
      "state": {
       "_titles": {
        "0": "dt"
       },
       "children": [
        "IPY_MODEL_47bd6178cf3c4ea2b76bb418eab0dcaa"
       ],
       "layout": "IPY_MODEL_1e91c85c9d2d462db345e1672272c54b"
      }
     },
     "98e0589461ed4a0b8103ca6fbd72d948": {
      "model_module": "@jupyter-widgets/base",
      "model_module_version": "1.1.0",
      "model_name": "LayoutModel",
      "state": {}
     },
     "9938e55e50d04328bf0332194d8216b2": {
      "model_module": "@jupyter-widgets/controls",
      "model_module_version": "1.4.0",
      "model_name": "HTMLModel",
      "state": {
       "layout": "IPY_MODEL_404c902e473242fd9c0887c973c37fac",
       "style": "IPY_MODEL_87b68b894cae4765a6d608c9c0c9539e",
       "value": "<strong>Size</strong>: 2000"
      }
     },
     "994cd3792dcf49a197eeb7f8cec937c3": {
      "model_module": "@jupyter-widgets/controls",
      "model_module_version": "1.4.0",
      "model_name": "RadioButtonsModel",
      "state": {
       "_options_labels": [
        "1000",
        "2000",
        "5000",
        "10000"
       ],
       "description": "Size",
       "index": 0,
       "layout": "IPY_MODEL_7f18bc764adc43ab9832bf5fff3aeba3",
       "style": "IPY_MODEL_8b41f5d9011c46808a6f9628ec97156e"
      }
     },
     "9976b0675eea41b8b790078b189292ce": {
      "model_module": "@jupyter-widgets/controls",
      "model_module_version": "1.4.0",
      "model_name": "IntSliderModel",
      "state": {
       "description": "C",
       "layout": "IPY_MODEL_6dd57ffcf66f4835b33cf2163443f0e0",
       "max": 10,
       "min": 1,
       "style": "IPY_MODEL_4d62a3d92a4b47f08bc54a5ef6cc042e",
       "value": 5
      }
     },
     "99bc947fd1a34cc78aea2348ec4180a6": {
      "model_module": "@jupyter-widgets/base",
      "model_module_version": "1.1.0",
      "model_name": "LayoutModel",
      "state": {}
     },
     "99d77123f26345f194ada3a1a4fed15c": {
      "model_module": "@jupyter-widgets/controls",
      "model_module_version": "1.4.0",
      "model_name": "ButtonModel",
      "state": {
       "button_style": "info",
       "description": "Add model",
       "layout": "IPY_MODEL_0c38329297104a84971c634c4098b4c7",
       "style": "IPY_MODEL_e68817a81d5847f5821d33c57d528d33"
      }
     },
     "9a4ee8f46bf3482181c787e394e3bde7": {
      "model_module": "@jupyter-widgets/base",
      "model_module_version": "1.1.0",
      "model_name": "LayoutModel",
      "state": {}
     },
     "9a59b0b251664a67bd69f392c42c67c4": {
      "model_module": "@jupyter-widgets/controls",
      "model_module_version": "1.4.0",
      "model_name": "DropdownModel",
      "state": {
       "_options_labels": [
        "dt",
        "logit",
        "linear_svc",
        "rbf_svc"
       ],
       "description": "Model",
       "index": 0,
       "layout": "IPY_MODEL_8033f4bb22cb4e359d6da131547801e6",
       "style": "IPY_MODEL_3e2c553e8d88452d8a6535420042b9b7"
      }
     },
     "9a68b063f9b94751bf1ac0c6f35ea9a5": {
      "model_module": "@jupyter-widgets/base",
      "model_module_version": "1.1.0",
      "model_name": "LayoutModel",
      "state": {
       "visibility": "hidden",
       "width": "800px"
      }
     },
     "9a6f4718f55148929a29b27cf0990d88": {
      "model_module": "@jupyter-widgets/controls",
      "model_module_version": "1.4.0",
      "model_name": "HTMLModel",
      "state": {
       "layout": "IPY_MODEL_ac030914d2ee466885aea8be7e83e879",
       "style": "IPY_MODEL_8a49aa6b1c004ba796f7fb084a728ad0",
       "value": "<strong>Size</strong>: 2000"
      }
     },
     "9a8061e341984945a39db65b966fc5ac": {
      "model_module": "@jupyter-widgets/base",
      "model_module_version": "1.1.0",
      "model_name": "LayoutModel",
      "state": {
       "visibility": "hidden",
       "width": "800px"
      }
     },
     "9a84e418b7f846c4b56f4421cbf89f7a": {
      "model_module": "@jupyter-widgets/controls",
      "model_module_version": "1.4.0",
      "model_name": "AccordionModel",
      "state": {
       "_titles": {
        "0": "Info run"
       },
       "children": [
        "IPY_MODEL_f912955e271c4ce09500dcec84605f4d"
       ],
       "layout": "IPY_MODEL_6371cd71140749fb8e1304848e30ab22"
      }
     },
     "9aee9cbbaa234d279d650d979a2e4faa": {
      "model_module": "@jupyter-widgets/controls",
      "model_module_version": "1.4.0",
      "model_name": "AccordionModel",
      "state": {
       "_titles": {
        "0": "Info run"
       },
       "children": [
        "IPY_MODEL_5d284edd9d244afc9072b8e5e05fdc8a"
       ],
       "layout": "IPY_MODEL_a5dbd2b7dad5422eaf83db59a154ed5d"
      }
     },
     "9b3ec92a93f44f3e93f1d0781906bf19": {
      "model_module": "@jupyter-widgets/base",
      "model_module_version": "1.1.0",
      "model_name": "LayoutModel",
      "state": {}
     },
     "9b6a25518b7e49788b160934e5dd7903": {
      "model_module": "@jupyter-widgets/controls",
      "model_module_version": "1.4.0",
      "model_name": "SliderStyleModel",
      "state": {
       "description_width": ""
      }
     },
     "9c10e8f33794403f8619beaffef4acee": {
      "model_module": "@jupyter-widgets/controls",
      "model_module_version": "1.4.0",
      "model_name": "DescriptionStyleModel",
      "state": {
       "description_width": ""
      }
     },
     "9c5172ab1b0145a1a56ace69870f9b8c": {
      "model_module": "@jupyter-widgets/controls",
      "model_module_version": "1.4.0",
      "model_name": "ButtonModel",
      "state": {
       "button_style": "warning",
       "description": "Remove model",
       "layout": "IPY_MODEL_8ef558eb6f1a41279d8413a5c42632b4",
       "style": "IPY_MODEL_901d6ee7d05245fcbc4b6625782e4ccb"
      }
     },
     "9c677cdd81e54c1c80508f24cdc171b2": {
      "model_module": "@jupyter-widgets/controls",
      "model_module_version": "1.4.0",
      "model_name": "RadioButtonsModel",
      "state": {
       "_options_labels": [
        "1000",
        "2000",
        "5000",
        "10000"
       ],
       "description": "Size",
       "index": 0,
       "layout": "IPY_MODEL_39681e64d68a4076ba77dab67de46f20",
       "style": "IPY_MODEL_4c7c7a2e6ffd421698c9a83f22c67274"
      }
     },
     "9ccbde64eb7c40b1a85849d97a188d1a": {
      "model_module": "@jupyter-widgets/controls",
      "model_module_version": "1.4.0",
      "model_name": "HBoxModel",
      "state": {
       "children": [
        "IPY_MODEL_3add75a664374b92baefd7afbb6a3700",
        "IPY_MODEL_ba471eb65fd246fbb90aef87de856f1c"
       ],
       "layout": "IPY_MODEL_baf63e596d3a4c78a13860eab4bc048c"
      }
     },
     "9cd0eea33b304f3ea89d697cbfb43e21": {
      "model_module": "@jupyter-widgets/controls",
      "model_module_version": "1.4.0",
      "model_name": "IntRangeSliderModel",
      "state": {
       "_model_name": "IntRangeSliderModel",
       "_view_name": "IntRangeSliderView",
       "layout": "IPY_MODEL_b559eddbe3214bddb41788d51aec295f",
       "max": 1000,
       "min": 30,
       "step": 10,
       "style": "IPY_MODEL_f94c84b2700b45c8b9c16d4b281b18df",
       "value": [
        30,
        100
       ]
      }
     },
     "9d10b034a74a40ae8ab9f8d8992805f1": {
      "model_module": "@jupyter-widgets/controls",
      "model_module_version": "1.4.0",
      "model_name": "DescriptionStyleModel",
      "state": {
       "description_width": ""
      }
     },
     "9d12b6147e1848278759179237612527": {
      "model_module": "@jupyter-widgets/base",
      "model_module_version": "1.1.0",
      "model_name": "LayoutModel",
      "state": {}
     },
     "9d2f8a86288246e1bf2cb21bb0f86138": {
      "model_module": "@jupyter-widgets/base",
      "model_module_version": "1.1.0",
      "model_name": "LayoutModel",
      "state": {}
     },
     "9d5ba067b91e42e0a880697acc80bb2d": {
      "model_module": "@jupyter-widgets/controls",
      "model_module_version": "1.4.0",
      "model_name": "SliderStyleModel",
      "state": {
       "description_width": ""
      }
     },
     "9d96fe5dee6a4abc8cf26ad9d3b2f896": {
      "model_module": "@jupyter-widgets/base",
      "model_module_version": "1.1.0",
      "model_name": "LayoutModel",
      "state": {}
     },
     "9db22f76898a4f21b2ae09a27cc934fb": {
      "model_module": "@jupyter-widgets/controls",
      "model_module_version": "1.4.0",
      "model_name": "HBoxModel",
      "state": {
       "children": [
        "IPY_MODEL_22e650d7150c4dc5b8332ebdcd1c4c7e",
        "IPY_MODEL_75905133cb664e3d8122f89a279fec50"
       ],
       "layout": "IPY_MODEL_971a21cc8cca461aa5a9d2646131a5cf"
      }
     },
     "9de64be7d2c44eaab364531b847ca179": {
      "model_module": "@jupyter-widgets/base",
      "model_module_version": "1.1.0",
      "model_name": "LayoutModel",
      "state": {}
     },
     "9e72bd4c2c8e478bb08db676dbe7c0d1": {
      "model_module": "@jupyter-widgets/controls",
      "model_module_version": "1.4.0",
      "model_name": "FloatLogSliderModel",
      "state": {
       "description": "Gamma",
       "layout": "IPY_MODEL_dfdb7e274c694377825959a1f7f1db03",
       "max": 2,
       "min": -4,
       "step": 1,
       "style": "IPY_MODEL_03466b31b06a4f8e8f6347cec71c192d",
       "value": 0.0001
      }
     },
     "9ea32af3fba34764960feb381aeebf93": {
      "model_module": "@jupyter-widgets/base",
      "model_module_version": "1.1.0",
      "model_name": "LayoutModel",
      "state": {}
     },
     "9ee74757a48844e6bc109df73e72cf48": {
      "model_module": "@jupyter-widgets/controls",
      "model_module_version": "1.4.0",
      "model_name": "SliderStyleModel",
      "state": {
       "description_width": ""
      }
     },
     "9ee777f34554425081130edabd6f432e": {
      "model_module": "@jupyter-widgets/base",
      "model_module_version": "1.1.0",
      "model_name": "LayoutModel",
      "state": {
       "display": "flex",
       "visibility": "visible",
       "width": "800px"
      }
     },
     "9ee8d8ecf1934e2297124e68c78e5ab5": {
      "model_module": "@jupyter-widgets/controls",
      "model_module_version": "1.4.0",
      "model_name": "SliderStyleModel",
      "state": {
       "description_width": ""
      }
     },
     "9f0978ca74a441088ff2dd6a72db94e4": {
      "model_module": "@jupyter-widgets/controls",
      "model_module_version": "1.4.0",
      "model_name": "SliderStyleModel",
      "state": {
       "description_width": ""
      }
     },
     "9f2a8fa01fc7457b97d763271ebfc796": {
      "model_module": "@jupyter-widgets/base",
      "model_module_version": "1.1.0",
      "model_name": "LayoutModel",
      "state": {}
     },
     "9f377a87db154af69693b0a7173f3540": {
      "model_module": "@jupyter-widgets/controls",
      "model_module_version": "1.4.0",
      "model_name": "VBoxModel",
      "state": {
       "children": [
        "IPY_MODEL_04480903a86049569d5792f1133d3c47",
        "IPY_MODEL_9c677cdd81e54c1c80508f24cdc171b2",
        "IPY_MODEL_16d77dbf4fad4af2a291c70cb7d91770",
        "IPY_MODEL_ddc363abdb1c43b79d81c8246559c980",
        "IPY_MODEL_4feb804430184916a00a1b7bd5603e69",
        "IPY_MODEL_08cb73288edf4b15937ae62aea878197",
        "IPY_MODEL_2f5a2688ea1e4f0aa27c80343ddf6d3c"
       ],
       "layout": "IPY_MODEL_6a230fbbcb934b1a945525712db456ce"
      }
     },
     "9f8df388289a4e31bf6f7a122b37e55d": {
      "model_module": "@jupyter-widgets/controls",
      "model_module_version": "1.4.0",
      "model_name": "DescriptionStyleModel",
      "state": {
       "description_width": ""
      }
     },
     "9fcc2af04d8d4076a32c3134a37ce328": {
      "model_module": "@jupyter-widgets/controls",
      "model_module_version": "1.4.0",
      "model_name": "DropdownModel",
      "state": {
       "_options_labels": [
        "None",
        "rbf",
        "nystroem"
       ],
       "description": "Sampler",
       "index": 0,
       "layout": "IPY_MODEL_66a8a0cc74054b2dbf36bd29e7b05ebd",
       "style": "IPY_MODEL_45fad4c633fe4ca6b09d67f585d83e6e"
      }
     },
     "9fd56e16430d4b2b9f4832b755eb46ff": {
      "model_module": "@jupyter-widgets/controls",
      "model_module_version": "1.4.0",
      "model_name": "SliderStyleModel",
      "state": {
       "description_width": "initial"
      }
     },
     "9fdaa823745d4642a070543fa52ff4ba": {
      "model_module": "@jupyter-widgets/controls",
      "model_module_version": "1.4.0",
      "model_name": "SliderStyleModel",
      "state": {
       "description_width": ""
      }
     },
     "9ff906a1c4b5493a815ce0012bc6a30a": {
      "model_module": "@jupyter-widgets/controls",
      "model_module_version": "1.4.0",
      "model_name": "ButtonStyleModel",
      "state": {}
     },
     "a007ed78fa8740f4b94c920a2122dc90": {
      "model_module": "@jupyter-widgets/controls",
      "model_module_version": "1.4.0",
      "model_name": "RadioButtonsModel",
      "state": {
       "_options_labels": [
        "1000",
        "2000",
        "5000",
        "10000"
       ],
       "description": "Size",
       "index": 0,
       "layout": "IPY_MODEL_ae92658ed9fd4b1f91edc3989cf51665",
       "style": "IPY_MODEL_4cc66e3a1f48464fa6aeec0fe5a7d9d0"
      }
     },
     "a011a0f440fc4ac2b0f20fa0b1c4763b": {
      "model_module": "@jupyter-widgets/controls",
      "model_module_version": "1.4.0",
      "model_name": "ButtonModel",
      "state": {
       "button_style": "warning",
       "description": "Remove model",
       "layout": "IPY_MODEL_f488f572885649a180857f0a475c3ca0",
       "style": "IPY_MODEL_6f02090d0acc4aa184995e55596003ec"
      }
     },
     "a04047d91c8d4b7584691e608635852d": {
      "model_module": "@jupyter-widgets/base",
      "model_module_version": "1.1.0",
      "model_name": "LayoutModel",
      "state": {}
     },
     "a057b209355644f8a7cbcba6f024acc6": {
      "model_module": "@jupyter-widgets/base",
      "model_module_version": "1.1.0",
      "model_name": "LayoutModel",
      "state": {}
     },
     "a0a8fe4e23894213b71e46eed592d266": {
      "model_module": "@jupyter-widgets/base",
      "model_module_version": "1.1.0",
      "model_name": "LayoutModel",
      "state": {}
     },
     "a0d86b944e9f48e68232734e47f08e51": {
      "model_module": "@jupyter-widgets/controls",
      "model_module_version": "1.4.0",
      "model_name": "DescriptionStyleModel",
      "state": {
       "description_width": ""
      }
     },
     "a0da0e6c36b447429516f87dce790f65": {
      "model_module": "@jupyter-widgets/base",
      "model_module_version": "1.1.0",
      "model_name": "LayoutModel",
      "state": {}
     },
     "a0eaf70baad841c98995575fb5580050": {
      "model_module": "@jupyter-widgets/controls",
      "model_module_version": "1.4.0",
      "model_name": "SliderStyleModel",
      "state": {
       "description_width": "initial"
      }
     },
     "a103ac82a63b4f7280c666794e95290f": {
      "model_module": "@jupyter-widgets/controls",
      "model_module_version": "1.4.0",
      "model_name": "ButtonStyleModel",
      "state": {}
     },
     "a10d33aef311435e86d39b7d60b543f0": {
      "model_module": "@jupyter-widgets/controls",
      "model_module_version": "1.4.0",
      "model_name": "SliderStyleModel",
      "state": {
       "description_width": ""
      }
     },
     "a14d94c8af7349ce89bb046d0fb68a1f": {
      "model_module": "@jupyter-widgets/base",
      "model_module_version": "1.1.0",
      "model_name": "LayoutModel",
      "state": {}
     },
     "a159afa08d0d4c2da86d89dd438d4d6c": {
      "model_module": "@jupyter-widgets/base",
      "model_module_version": "1.1.0",
      "model_name": "LayoutModel",
      "state": {}
     },
     "a1673b6402844fee8538036bf2462be9": {
      "model_module": "@jupyter-widgets/controls",
      "model_module_version": "1.4.0",
      "model_name": "FloatSliderModel",
      "state": {
       "description": "min_impurity_decrease:",
       "layout": "IPY_MODEL_790bd99f0fbd466497204fc77e139398",
       "max": 1,
       "step": 0.1,
       "style": "IPY_MODEL_df55dadea96e4baa99c956a97d540b3b"
      }
     },
     "a176c486f7924d3e8dd1c65bb62a3517": {
      "model_module": "@jupyter-widgets/controls",
      "model_module_version": "1.4.0",
      "model_name": "VBoxModel",
      "state": {
       "children": [
        "IPY_MODEL_bef3a12c92594418b5ade36a10ecd1c7"
       ],
       "layout": "IPY_MODEL_d47438d62e6a4a25a6f7e58298b0de43"
      }
     },
     "a18c02364c7244ef897865d5734289f4": {
      "model_module": "@jupyter-widgets/controls",
      "model_module_version": "1.4.0",
      "model_name": "VBoxModel",
      "state": {
       "children": [
        "IPY_MODEL_6708ed154c1745a084052c62ef5c8de4",
        "IPY_MODEL_a759e6638df14e44b7240601ba3793af",
        "IPY_MODEL_f2b0547ecd064cf3b02aea49433d3086",
        "IPY_MODEL_f76f9d6d60024ddebc21b376d7d5bde7",
        "IPY_MODEL_dad26633993546708aa6b2c235fb407e",
        "IPY_MODEL_66a3bdb4889f44f18182d3c1ba20124d",
        "IPY_MODEL_4ffdf761b9d74f07b7bb517ade308856"
       ],
       "layout": "IPY_MODEL_e7aa1cd69aa94c3d988df154b94a374d"
      }
     },
     "a1996c02d411479798197c08ddbb95c5": {
      "model_module": "@jupyter-widgets/controls",
      "model_module_version": "1.4.0",
      "model_name": "ButtonModel",
      "state": {
       "button_style": "warning",
       "description": "Remove model",
       "layout": "IPY_MODEL_5e92f035ecec49759a584c1947f84e34",
       "style": "IPY_MODEL_7b68e0756c0043ee9746f6fd51ba83ab"
      }
     },
     "a19c64f5bba3447595dcfc4da586ece6": {
      "model_module": "@jupyter-widgets/base",
      "model_module_version": "1.1.0",
      "model_name": "LayoutModel",
      "state": {}
     },
     "a1db0c151d5d4811afd2f41b4f0b955d": {
      "model_module": "@jupyter-widgets/controls",
      "model_module_version": "1.4.0",
      "model_name": "ButtonStyleModel",
      "state": {}
     },
     "a1dec51afc7249e9b812b87f6df222a0": {
      "model_module": "@jupyter-widgets/controls",
      "model_module_version": "1.4.0",
      "model_name": "HBoxModel",
      "state": {
       "children": [
        "IPY_MODEL_0fd0a79c9c1c4d4a93034e6c10e54ed3",
        "IPY_MODEL_5d72a309996e44da91d819af01c55509"
       ],
       "layout": "IPY_MODEL_b4dc54a5bfed41f79ae9fbca438f0ca5"
      }
     },
     "a1e887997a5149cea8f5783501bb8aac": {
      "model_module": "@jupyter-widgets/base",
      "model_module_version": "1.1.0",
      "model_name": "LayoutModel",
      "state": {}
     },
     "a27fef3a3b53421db44a705e2095a83b": {
      "model_module": "@jupyter-widgets/base",
      "model_module_version": "1.1.0",
      "model_name": "LayoutModel",
      "state": {}
     },
     "a2cdceea25d54f668ed0ae2e96e90bb3": {
      "model_module": "@jupyter-widgets/controls",
      "model_module_version": "1.4.0",
      "model_name": "SliderStyleModel",
      "state": {
       "description_width": ""
      }
     },
     "a2d94096f12f44808caf5825ec8ff61d": {
      "model_module": "@jupyter-widgets/controls",
      "model_module_version": "1.4.0",
      "model_name": "DropdownModel",
      "state": {
       "_options_labels": [
        "black_bag",
        "grey_bag",
        "black_ens",
        "grey_ens",
        "None"
       ],
       "description": "Box Type",
       "index": 4,
       "layout": "IPY_MODEL_59cc8cabf6084d1ea48385e66e2fe8a4",
       "style": "IPY_MODEL_1f23e04c7d6b42399fe7704e7717f9d7"
      }
     },
     "a307a07bd0344349af90faf3445742e5": {
      "model_module": "@jupyter-widgets/controls",
      "model_module_version": "1.4.0",
      "model_name": "FloatLogSliderModel",
      "state": {
       "description": "C",
       "layout": "IPY_MODEL_75b6f905edbe4475b12dae7f8aba3168",
       "max": 5,
       "min": -5,
       "step": 1,
       "style": "IPY_MODEL_adf906c1a44046f9b7c009fc0829d02a",
       "value": 1000
      }
     },
     "a30dec5213c549e49203f7a0ddbf7372": {
      "model_module": "@jupyter-widgets/controls",
      "model_module_version": "1.4.0",
      "model_name": "FloatSliderModel",
      "state": {
       "description": "min_impurity_decrease:",
       "layout": "IPY_MODEL_7dc7909b5755497f892abce357fa126a",
       "max": 1,
       "step": 0.1,
       "style": "IPY_MODEL_84b4369769ef4959838c27c6138362f3"
      }
     },
     "a328368c5ac04054b56e5c7d5fe527d0": {
      "model_module": "@jupyter-widgets/base",
      "model_module_version": "1.1.0",
      "model_name": "LayoutModel",
      "state": {
       "display": "none",
       "visibility": "hidden",
       "width": "800px"
      }
     },
     "a32ca7dbc226411a8a8231868dcaa0c2": {
      "model_module": "@jupyter-widgets/controls",
      "model_module_version": "1.4.0",
      "model_name": "DescriptionStyleModel",
      "state": {
       "description_width": ""
      }
     },
     "a3336714fa444836a46b8b26af7042b3": {
      "model_module": "@jupyter-widgets/controls",
      "model_module_version": "1.4.0",
      "model_name": "ButtonModel",
      "state": {
       "button_style": "info",
       "description": "Add model",
       "layout": "IPY_MODEL_dceea9d6533c4811b7d1b43b140d58b3",
       "style": "IPY_MODEL_4ee89aecff2a4d7d9854f3e4cda3c995"
      }
     },
     "a358edb867af4a90b789e0611f77d082": {
      "model_module": "@jupyter-widgets/output",
      "model_module_version": "1.0.0",
      "model_name": "OutputModel",
      "state": {
       "layout": "IPY_MODEL_e6a72db3391f4e3cade53dab3130326f"
      }
     },
     "a3a2255afcdb46d9a9767ba71fdb9171": {
      "model_module": "@jupyter-widgets/controls",
      "model_module_version": "1.4.0",
      "model_name": "VBoxModel",
      "state": {
       "children": [
        "IPY_MODEL_518d5cfe94c24f32a601e45268bfc23e",
        "IPY_MODEL_c9744a48d79840d482ed1ea9c7eb36a3",
        "IPY_MODEL_e1c51aae834d461487914b63a2025e76",
        "IPY_MODEL_768841001bcf4e98a506dac611a2e9c4",
        "IPY_MODEL_5693a7b211dd4f63bbd714fd13b96cc0",
        "IPY_MODEL_13c25ae121e74373a9fbf619ca59f9ea",
        "IPY_MODEL_d5ddb66ae62544a4bcc864dcb9c34e40"
       ],
       "layout": "IPY_MODEL_53274220b50c4c21835665186f9594f6"
      }
     },
     "a3be46ce1e4541658763298e01095ad5": {
      "model_module": "@jupyter-widgets/controls",
      "model_module_version": "1.4.0",
      "model_name": "DescriptionStyleModel",
      "state": {
       "description_width": ""
      }
     },
     "a3c42c52ee104ee58e04c5f964badcb8": {
      "model_module": "@jupyter-widgets/base",
      "model_module_version": "1.1.0",
      "model_name": "LayoutModel",
      "state": {}
     },
     "a3e6451bf23a4c83b80164d7755ebac2": {
      "model_module": "@jupyter-widgets/controls",
      "model_module_version": "1.4.0",
      "model_name": "ButtonStyleModel",
      "state": {}
     },
     "a3ff48a604644dce81b56be217cd858f": {
      "model_module": "@jupyter-widgets/controls",
      "model_module_version": "1.4.0",
      "model_name": "DescriptionStyleModel",
      "state": {
       "description_width": ""
      }
     },
     "a419b1944e9d4c23b84abe501575cf1b": {
      "model_module": "@jupyter-widgets/controls",
      "model_module_version": "1.4.0",
      "model_name": "ButtonModel",
      "state": {
       "button_style": "info",
       "description": "Demo10",
       "layout": "IPY_MODEL_0aa1ab80665a44d69fac7f224953a329",
       "style": "IPY_MODEL_a3e6451bf23a4c83b80164d7755ebac2"
      }
     },
     "a456d703e04845cd935ca8aaf6728774": {
      "model_module": "@jupyter-widgets/controls",
      "model_module_version": "1.4.0",
      "model_name": "SliderStyleModel",
      "state": {
       "description_width": ""
      }
     },
     "a475c0fe05594d89aa1f877c9bf967b2": {
      "model_module": "@jupyter-widgets/controls",
      "model_module_version": "1.4.0",
      "model_name": "DescriptionStyleModel",
      "state": {
       "description_width": ""
      }
     },
     "a4807f8b0ee541d9babc300f1821c9ae": {
      "model_module": "@jupyter-widgets/base",
      "model_module_version": "1.1.0",
      "model_name": "LayoutModel",
      "state": {}
     },
     "a4a2e9a142c8410fb30e79a8e1d65ccc": {
      "model_module": "@jupyter-widgets/base",
      "model_module_version": "1.1.0",
      "model_name": "LayoutModel",
      "state": {
       "width": "900px"
      }
     },
     "a4a7ca3c588746ebafb155a3a12e6c5a": {
      "model_module": "@jupyter-widgets/controls",
      "model_module_version": "1.4.0",
      "model_name": "HTMLModel",
      "state": {
       "layout": "IPY_MODEL_ae755c19584a4c6aad9122bc08e35e3a",
       "style": "IPY_MODEL_f724948495934afc9f2c5a6c4935be8b",
       "value": "<strong>Size</strong>: 2000"
      }
     },
     "a4cf44880eb64f8387237a7314c8cd61": {
      "model_module": "@jupyter-widgets/base",
      "model_module_version": "1.1.0",
      "model_name": "LayoutModel",
      "state": {}
     },
     "a4d22137516f4d1198828d8beba4cb38": {
      "model_module": "@jupyter-widgets/controls",
      "model_module_version": "1.4.0",
      "model_name": "FloatLogSliderModel",
      "state": {
       "description": "C",
       "layout": "IPY_MODEL_c81fda94e141487390180e55f3a44f75",
       "max": 5,
       "min": -5,
       "step": 1,
       "style": "IPY_MODEL_4f223941b9134f2b8ce382aefa3afd84",
       "value": 1000
      }
     },
     "a529b881d01942ea81c79647b8a202ee": {
      "model_module": "@jupyter-widgets/base",
      "model_module_version": "1.1.0",
      "model_name": "LayoutModel",
      "state": {
       "display": "none",
       "visibility": "hidden",
       "width": "800px"
      }
     },
     "a54df70ebf4246f7af0352c9771628ba": {
      "model_module": "@jupyter-widgets/controls",
      "model_module_version": "1.4.0",
      "model_name": "AccordionModel",
      "state": {
       "_titles": {
        "0": "Info run"
       },
       "children": [
        "IPY_MODEL_0ba51c043bc547b4a5615744a2e3d06e"
       ],
       "layout": "IPY_MODEL_8a6508aec4a147eca759274393c842bf"
      }
     },
     "a5a0098e6dfc483b84f49e0b72989dff": {
      "model_module": "@jupyter-widgets/base",
      "model_module_version": "1.1.0",
      "model_name": "LayoutModel",
      "state": {}
     },
     "a5b032b0b8524a53997754bb873c6cf1": {
      "model_module": "@jupyter-widgets/base",
      "model_module_version": "1.1.0",
      "model_name": "LayoutModel",
      "state": {}
     },
     "a5dbd2b7dad5422eaf83db59a154ed5d": {
      "model_module": "@jupyter-widgets/base",
      "model_module_version": "1.1.0",
      "model_name": "LayoutModel",
      "state": {}
     },
     "a5f7a9715abe45908db2d163387080af": {
      "model_module": "@jupyter-widgets/base",
      "model_module_version": "1.1.0",
      "model_name": "LayoutModel",
      "state": {}
     },
     "a60d1e7a546442e4ae2d0c5e753014aa": {
      "model_module": "@jupyter-widgets/controls",
      "model_module_version": "1.4.0",
      "model_name": "FloatLogSliderModel",
      "state": {
       "description": "Gamma",
       "layout": "IPY_MODEL_90c66712f251499c95a21639bb495631",
       "max": 2,
       "min": -4,
       "step": 1,
       "style": "IPY_MODEL_5ae58fa740b742e289c7629cad1a1937",
       "value": 0.0001
      }
     },
     "a6143b9bec374d7f94afd36c1be3bd59": {
      "model_module": "@jupyter-widgets/base",
      "model_module_version": "1.1.0",
      "model_name": "LayoutModel",
      "state": {}
     },
     "a62a5bfee84a4a15825a04a549f0d301": {
      "model_module": "@jupyter-widgets/base",
      "model_module_version": "1.1.0",
      "model_name": "LayoutModel",
      "state": {}
     },
     "a62ca623d21f47438efbc83a87c179d2": {
      "model_module": "@jupyter-widgets/controls",
      "model_module_version": "1.4.0",
      "model_name": "FloatSliderModel",
      "state": {
       "description": "min_impurity_decrease:",
       "layout": "IPY_MODEL_6225f217bb834a77a21318ee444d971b",
       "max": 1,
       "step": 0.1,
       "style": "IPY_MODEL_ca83f3636811439ea259145d10ff27f7"
      }
     },
     "a6563cdcf09f4e9a83b831d98731de96": {
      "model_module": "@jupyter-widgets/base",
      "model_module_version": "1.1.0",
      "model_name": "LayoutModel",
      "state": {
       "visibility": "hidden",
       "width": "800px"
      }
     },
     "a6b1b57981194ab2a29a65c64374d081": {
      "model_module": "@jupyter-widgets/controls",
      "model_module_version": "1.4.0",
      "model_name": "DescriptionStyleModel",
      "state": {
       "description_width": ""
      }
     },
     "a6ca5219632348599b36e3c9ea0a8579": {
      "model_module": "@jupyter-widgets/controls",
      "model_module_version": "1.4.0",
      "model_name": "ButtonModel",
      "state": {
       "button_style": "warning",
       "description": "Remove model",
       "layout": "IPY_MODEL_35756a30722b4c1182702d9f86125b65",
       "style": "IPY_MODEL_d884f9e6fa944ff5a9e88df65f27cac3"
      }
     },
     "a6debab3f44b4aa597cb07b0a6beaf6a": {
      "model_module": "@jupyter-widgets/base",
      "model_module_version": "1.1.0",
      "model_name": "LayoutModel",
      "state": {
       "display": "none",
       "visibility": "hidden",
       "width": "800px"
      }
     },
     "a6f2b5ce68bb48efa8a75b37c33fb35d": {
      "model_module": "@jupyter-widgets/base",
      "model_module_version": "1.1.0",
      "model_name": "LayoutModel",
      "state": {}
     },
     "a7123dae33ed43f89b3fc8f108ee43da": {
      "model_module": "@jupyter-widgets/base",
      "model_module_version": "1.1.0",
      "model_name": "LayoutModel",
      "state": {
       "display": "flex",
       "visibility": "visible",
       "width": "800px"
      }
     },
     "a737f0357aab48e983e47df12f478473": {
      "model_module": "@jupyter-widgets/base",
      "model_module_version": "1.1.0",
      "model_name": "LayoutModel",
      "state": {
       "width": "900px"
      }
     },
     "a759e6638df14e44b7240601ba3793af": {
      "model_module": "@jupyter-widgets/controls",
      "model_module_version": "1.4.0",
      "model_name": "RadioButtonsModel",
      "state": {
       "_options_labels": [
        "1000",
        "2000",
        "5000",
        "10000"
       ],
       "description": "Size",
       "index": 0,
       "layout": "IPY_MODEL_e93cc02889644675a279d9beaac677b2",
       "style": "IPY_MODEL_9110e6ccbe3e4a50a1669a3507e6ea8a"
      }
     },
     "a775eaf1d28240f38ca5016e40c2c44e": {
      "model_module": "@jupyter-widgets/controls",
      "model_module_version": "1.4.0",
      "model_name": "DescriptionStyleModel",
      "state": {
       "description_width": ""
      }
     },
     "a7c7f682299e46629be969ca832d27d5": {
      "model_module": "@jupyter-widgets/controls",
      "model_module_version": "1.4.0",
      "model_name": "DropdownModel",
      "state": {
       "_options_labels": [
        "black_bag",
        "grey_bag",
        "black_ens",
        "grey_ens",
        "None"
       ],
       "description": "Box Type",
       "index": 4,
       "layout": "IPY_MODEL_baff2c5acd954faf84450229ed31a4f5",
       "style": "IPY_MODEL_37e5810f64e644a693ff43c34f2cd3da"
      }
     },
     "a81cf05ca1564a95baaa7194b562d30b": {
      "model_module": "@jupyter-widgets/base",
      "model_module_version": "1.1.0",
      "model_name": "LayoutModel",
      "state": {}
     },
     "a8c67e9ff1cb406ea6ebe6e2eb3b7d25": {
      "model_module": "@jupyter-widgets/controls",
      "model_module_version": "1.4.0",
      "model_name": "HTMLModel",
      "state": {
       "layout": "IPY_MODEL_fd3b4fad8eb64f5799948e32befbb15b",
       "style": "IPY_MODEL_fadffb43402c4b2a9269b0d5f810e0d8",
       "value": "<strong>Dataset</strong>: digits"
      }
     },
     "a8cd02284bf241f3a612860c0a7abe17": {
      "model_module": "@jupyter-widgets/controls",
      "model_module_version": "1.4.0",
      "model_name": "FloatLogSliderModel",
      "state": {
       "description": "C",
       "layout": "IPY_MODEL_78b59552ad0a4a5f8f2bc2049bee0d46",
       "max": 5,
       "min": -5,
       "step": 1,
       "style": "IPY_MODEL_3e7911e1ff8e4f9a98dddef935340921",
       "value": 1000
      }
     },
     "a92d4558291543fc95696ff3abab0363": {
      "model_module": "@jupyter-widgets/base",
      "model_module_version": "1.1.0",
      "model_name": "LayoutModel",
      "state": {
       "display": "none",
       "visibility": "hidden",
       "width": "800px"
      }
     },
     "a92e374981d943c1a21463bf0b618fdf": {
      "model_module": "@jupyter-widgets/controls",
      "model_module_version": "1.4.0",
      "model_name": "ButtonStyleModel",
      "state": {}
     },
     "a9406d3bb5ab4b49afc90ea7c6bb259b": {
      "model_module": "@jupyter-widgets/controls",
      "model_module_version": "1.4.0",
      "model_name": "ButtonModel",
      "state": {
       "button_style": "info",
       "description": "Demo10",
       "layout": "IPY_MODEL_fa04feb4822543849edc2a34f0a27016",
       "style": "IPY_MODEL_a92e374981d943c1a21463bf0b618fdf"
      }
     },
     "a946af02e6a741fea5aa8aa87007ba36": {
      "model_module": "@jupyter-widgets/controls",
      "model_module_version": "1.4.0",
      "model_name": "HBoxModel",
      "state": {
       "children": [
        "IPY_MODEL_f0c4e7404ac04d93a0b3a7b9bd0b1089",
        "IPY_MODEL_ff576c3a98bb44f49f648d6603d60124"
       ],
       "layout": "IPY_MODEL_d9123a9537714882bb78da3dd79e02fb"
      }
     },
     "a95bb45ced6042eea28e78d486eee05a": {
      "model_module": "@jupyter-widgets/controls",
      "model_module_version": "1.4.0",
      "model_name": "DropdownModel",
      "state": {
       "_options_labels": [
        "black_bag",
        "grey_bag",
        "black_ens",
        "grey_ens",
        "None"
       ],
       "description": "Box Type",
       "index": 4,
       "layout": "IPY_MODEL_31bfa7c8e0a8476ba70aea278a7fdc39",
       "style": "IPY_MODEL_f4f09d8d6fd74ad3a7721aa523fcabb2"
      }
     },
     "a970d2cc82734c3b947d7c48b784e1cd": {
      "model_module": "@jupyter-widgets/base",
      "model_module_version": "1.1.0",
      "model_name": "LayoutModel",
      "state": {}
     },
     "a971073a557444258ace7b1e7e22f584": {
      "model_module": "@jupyter-widgets/base",
      "model_module_version": "1.1.0",
      "model_name": "LayoutModel",
      "state": {
       "width": "900px"
      }
     },
     "a97e69d1470040f7988de42ae92e454d": {
      "model_module": "@jupyter-widgets/controls",
      "model_module_version": "1.4.0",
      "model_name": "FloatSliderModel",
      "state": {
       "description": "min_impurity_decrease:",
       "layout": "IPY_MODEL_caef700f1bc0455caecbd9f5c57bb70c",
       "max": 1,
       "step": 0.1,
       "style": "IPY_MODEL_3e50e62dde7f4bf19f1833294bdf2314"
      }
     },
     "a9a811ef75f7457f8207c8ef56e9792a": {
      "model_module": "@jupyter-widgets/base",
      "model_module_version": "1.1.0",
      "model_name": "LayoutModel",
      "state": {}
     },
     "a9bbfb436d12446b9a5c692096a26ca4": {
      "model_module": "@jupyter-widgets/controls",
      "model_module_version": "1.4.0",
      "model_name": "DropdownModel",
      "state": {
       "_options_labels": [
        "black_bag",
        "grey_bag",
        "black_ens",
        "grey_ens",
        "None"
       ],
       "description": "Box Type",
       "index": 4,
       "layout": "IPY_MODEL_c30429b1e8ce431a82271f76bc431720",
       "style": "IPY_MODEL_8c34178087014a04886734d96667c511"
      }
     },
     "a9e9462e508b4396b65e2bb6589f746f": {
      "model_module": "@jupyter-widgets/controls",
      "model_module_version": "1.4.0",
      "model_name": "DescriptionStyleModel",
      "state": {
       "description_width": ""
      }
     },
     "a9f6de259b854292ba3b9e55f514a96f": {
      "model_module": "@jupyter-widgets/base",
      "model_module_version": "1.1.0",
      "model_name": "LayoutModel",
      "state": {}
     },
     "aa0036197d824a1883a80c34bbe3619d": {
      "model_module": "@jupyter-widgets/controls",
      "model_module_version": "1.4.0",
      "model_name": "HTMLModel",
      "state": {
       "layout": "IPY_MODEL_48cdb21585684afbb7561b28be529834",
       "style": "IPY_MODEL_bf1f65831fd947198df4b51eb2d39e61",
       "value": "<strong>Dataset</strong>: pen_digits"
      }
     },
     "aa5392e0f99e4847a6c1baf4e9fe8a75": {
      "model_module": "@jupyter-widgets/controls",
      "model_module_version": "1.4.0",
      "model_name": "HTMLModel",
      "state": {
       "layout": "IPY_MODEL_c22559ec899d46f3b44c200d11e545d3",
       "style": "IPY_MODEL_3170d8884173458898b5150d5790f4fd",
       "value": "<strong>Dataset</strong>: vowel"
      }
     },
     "aaa90a9c27ad4ffdb3b91cd2ea03c377": {
      "model_module": "@jupyter-widgets/controls",
      "model_module_version": "1.4.0",
      "model_name": "FloatLogSliderModel",
      "state": {
       "description": "C",
       "layout": "IPY_MODEL_a328368c5ac04054b56e5c7d5fe527d0",
       "max": 5,
       "min": -5,
       "step": 1,
       "style": "IPY_MODEL_345f580fa22d4cf7925dd3b285f597c1",
       "value": 1000
      }
     },
     "aae357a6321843a89da5f1731f0341d2": {
      "model_module": "@jupyter-widgets/base",
      "model_module_version": "1.1.0",
      "model_name": "LayoutModel",
      "state": {}
     },
     "ab027c5ec06f493aae9b3d5bea4586cf": {
      "model_module": "@jupyter-widgets/controls",
      "model_module_version": "1.4.0",
      "model_name": "TabModel",
      "state": {
       "_titles": {
        "0": "dt"
       },
       "children": [
        "IPY_MODEL_0518089f274d4f2193a9126ff604d173"
       ],
       "layout": "IPY_MODEL_a27fef3a3b53421db44a705e2095a83b"
      }
     },
     "ab1112a7c05745979d9ce28403d23218": {
      "model_module": "@jupyter-widgets/controls",
      "model_module_version": "1.4.0",
      "model_name": "DescriptionStyleModel",
      "state": {
       "description_width": ""
      }
     },
     "ab3bc0bda9e6498684fb4dc8ed6b39aa": {
      "model_module": "@jupyter-widgets/controls",
      "model_module_version": "1.4.0",
      "model_name": "IntSliderModel",
      "state": {
       "description": "C",
       "layout": "IPY_MODEL_7ec9f8ce20ae433caeea5823b10ceaf4",
       "max": 10,
       "min": 1,
       "style": "IPY_MODEL_b3f8cb5997d74a78b171d764d4eb08f8",
       "value": 5
      }
     },
     "ab40317cb62c4ad7877796355841dfab": {
      "model_module": "@jupyter-widgets/controls",
      "model_module_version": "1.4.0",
      "model_name": "HBoxModel",
      "state": {
       "children": [
        "IPY_MODEL_69c63101a6134f19a4f5e139b52ecc48",
        "IPY_MODEL_69dae1725af5407bac39c8d76a872b94"
       ],
       "layout": "IPY_MODEL_a4cf44880eb64f8387237a7314c8cd61"
      }
     },
     "ab70a6c2661141ceb5e0a8a5ee0a2848": {
      "model_module": "@jupyter-widgets/controls",
      "model_module_version": "1.4.0",
      "model_name": "FloatLogSliderModel",
      "state": {
       "description": "C",
       "layout": "IPY_MODEL_0b222cb3f9b840e4b89a5c2c3f80c168",
       "max": 5,
       "min": -5,
       "step": 1,
       "style": "IPY_MODEL_ced55234604e4b32b15c74badd3e38c0",
       "value": 1000
      }
     },
     "ab7f77a1974c47e8947dfadf122af371": {
      "model_module": "@jupyter-widgets/base",
      "model_module_version": "1.1.0",
      "model_name": "LayoutModel",
      "state": {}
     },
     "ab892235f2ca43e2a36da76bac616452": {
      "model_module": "@jupyter-widgets/controls",
      "model_module_version": "1.4.0",
      "model_name": "DropdownModel",
      "state": {
       "_options_labels": [
        "segment",
        "covertype",
        "digits",
        "fall_detection",
        "mnist",
        "pen_digits",
        "satellite",
        "vowel"
       ],
       "description": "Dataset:",
       "index": 0,
       "layout": "IPY_MODEL_6d331e1bf05c4a3a9610a0280d27f5ad",
       "style": "IPY_MODEL_1607d629e2be4d81b60d1433df579ee9"
      }
     },
     "ac030914d2ee466885aea8be7e83e879": {
      "model_module": "@jupyter-widgets/base",
      "model_module_version": "1.1.0",
      "model_name": "LayoutModel",
      "state": {}
     },
     "ac0f6c8d17284622b64e5c3a8250944e": {
      "model_module": "@jupyter-widgets/base",
      "model_module_version": "1.1.0",
      "model_name": "LayoutModel",
      "state": {}
     },
     "ac1eb5fca12e413f9419b8c2e7e4ba1e": {
      "model_module": "@jupyter-widgets/controls",
      "model_module_version": "1.4.0",
      "model_name": "VBoxModel",
      "state": {
       "children": [
        "IPY_MODEL_86a9afa86e284177b0d4deb82aac0000"
       ],
       "layout": "IPY_MODEL_6f9206a0880148acb50f78e26f253f61"
      }
     },
     "ac7f8d8a766e49e1b1882bc75cc848ae": {
      "model_module": "@jupyter-widgets/controls",
      "model_module_version": "1.4.0",
      "model_name": "HTMLModel",
      "state": {
       "layout": "IPY_MODEL_01564458e49b4a0ca390cec31469109f",
       "style": "IPY_MODEL_4c520d01d2c445e287b9f93c19f01ebb",
       "value": "<strong>Dataset</strong>: covertype"
      }
     },
     "ac84f3f3152843e6bbbdfbe02ad9b7f0": {
      "model_module": "@jupyter-widgets/controls",
      "model_module_version": "1.4.0",
      "model_name": "ButtonModel",
      "state": {
       "button_style": "info",
       "description": "Demo10",
       "layout": "IPY_MODEL_014cc717372648d0a8ede43e279b6c6b",
       "style": "IPY_MODEL_b0c6b3c9597b4ec8b35ee2cdc3b0c7bc"
      }
     },
     "acd58dfd3e734d18a571f9e74e873a11": {
      "model_module": "@jupyter-widgets/base",
      "model_module_version": "1.1.0",
      "model_name": "LayoutModel",
      "state": {}
     },
     "acebdf8936714bf0ba11866d8d459cdb": {
      "model_module": "@jupyter-widgets/output",
      "model_module_version": "1.0.0",
      "model_name": "OutputModel",
      "state": {
       "layout": "IPY_MODEL_54af255124754e1d8baf5da63dcbd592"
      }
     },
     "ad28b803cb944be4b3500a00edba27dc": {
      "model_module": "@jupyter-widgets/controls",
      "model_module_version": "1.4.0",
      "model_name": "DescriptionStyleModel",
      "state": {
       "description_width": ""
      }
     },
     "adc51a13de3648f88e678ec224cbffad": {
      "model_module": "@jupyter-widgets/controls",
      "model_module_version": "1.4.0",
      "model_name": "DropdownModel",
      "state": {
       "_options_labels": [
        "dt",
        "logit",
        "linear_svc",
        "rbf_svc"
       ],
       "description": "Model",
       "index": 0,
       "layout": "IPY_MODEL_1a7dc7e1b5c74ebd86c1a9652a5653b0",
       "style": "IPY_MODEL_ab1112a7c05745979d9ce28403d23218"
      }
     },
     "add0d14ceb144901a71909cd74e491c6": {
      "model_module": "@jupyter-widgets/controls",
      "model_module_version": "1.4.0",
      "model_name": "TabModel",
      "state": {
       "_titles": {
        "0": "dt"
       },
       "children": [
        "IPY_MODEL_bec077103e584df09faf45a866957b43"
       ],
       "layout": "IPY_MODEL_6d1668dce021462f98fac0fb5911bbe1"
      }
     },
     "addd7a32d64c42fe9b4f4e4e64407514": {
      "model_module": "@jupyter-widgets/base",
      "model_module_version": "1.1.0",
      "model_name": "LayoutModel",
      "state": {}
     },
     "ade8ee36f80b462b943feb03eeab6f81": {
      "model_module": "@jupyter-widgets/controls",
      "model_module_version": "1.4.0",
      "model_name": "DescriptionStyleModel",
      "state": {
       "description_width": ""
      }
     },
     "adf03d692e8a4f529d669dae21fe53e8": {
      "model_module": "@jupyter-widgets/controls",
      "model_module_version": "1.4.0",
      "model_name": "DropdownModel",
      "state": {
       "_options_labels": [
        "segment",
        "covertype",
        "digits",
        "fall_detection",
        "mnist",
        "pen_digits",
        "satellite",
        "vowel"
       ],
       "description": "Dataset:",
       "index": 0,
       "layout": "IPY_MODEL_11f97bdb038a4d14a40be4d4aa607b42",
       "style": "IPY_MODEL_82b3fb32c9ae4a6591f5ddfeab58aca4"
      }
     },
     "adf906c1a44046f9b7c009fc0829d02a": {
      "model_module": "@jupyter-widgets/controls",
      "model_module_version": "1.4.0",
      "model_name": "SliderStyleModel",
      "state": {
       "description_width": ""
      }
     },
     "adff1798e3984800adf239b0f3d5864d": {
      "model_module": "@jupyter-widgets/controls",
      "model_module_version": "1.4.0",
      "model_name": "SliderStyleModel",
      "state": {
       "description_width": ""
      }
     },
     "ae6d577f2dd94d1c94092ba144efa313": {
      "model_module": "@jupyter-widgets/controls",
      "model_module_version": "1.4.0",
      "model_name": "HTMLModel",
      "state": {
       "layout": "IPY_MODEL_e95438fee1414e21b3f079906e45808e",
       "style": "IPY_MODEL_ad28b803cb944be4b3500a00edba27dc",
       "value": "<strong>Size</strong>: 2000"
      }
     },
     "ae755c19584a4c6aad9122bc08e35e3a": {
      "model_module": "@jupyter-widgets/base",
      "model_module_version": "1.1.0",
      "model_name": "LayoutModel",
      "state": {}
     },
     "ae76262cade44953805d7bb412f39f23": {
      "model_module": "@jupyter-widgets/base",
      "model_module_version": "1.1.0",
      "model_name": "LayoutModel",
      "state": {}
     },
     "ae92658ed9fd4b1f91edc3989cf51665": {
      "model_module": "@jupyter-widgets/base",
      "model_module_version": "1.1.0",
      "model_name": "LayoutModel",
      "state": {}
     },
     "ae938747960b48cc9a82e02b86cd8d2f": {
      "model_module": "@jupyter-widgets/base",
      "model_module_version": "1.1.0",
      "model_name": "LayoutModel",
      "state": {}
     },
     "aea317094e044d0686350b322b0cd73b": {
      "model_module": "@jupyter-widgets/controls",
      "model_module_version": "1.4.0",
      "model_name": "DescriptionStyleModel",
      "state": {
       "description_width": ""
      }
     },
     "af2222520e3b4173a6d276f98ed8589f": {
      "model_module": "@jupyter-widgets/base",
      "model_module_version": "1.1.0",
      "model_name": "LayoutModel",
      "state": {}
     },
     "af7795eaacff45018201f108071882da": {
      "model_module": "@jupyter-widgets/controls",
      "model_module_version": "1.4.0",
      "model_name": "VBoxModel",
      "state": {
       "children": [
        "IPY_MODEL_9a6f4718f55148929a29b27cf0990d88"
       ],
       "layout": "IPY_MODEL_04fbf37399d74f98b0189f5e4619b29d"
      }
     },
     "af77f86b5d2a464585f9a4c0cfc1e38a": {
      "model_module": "@jupyter-widgets/base",
      "model_module_version": "1.1.0",
      "model_name": "LayoutModel",
      "state": {}
     },
     "b01ad4cea374478eb1932b66a645074f": {
      "model_module": "@jupyter-widgets/controls",
      "model_module_version": "1.4.0",
      "model_name": "TabModel",
      "state": {
       "_titles": {
        "0": "dt"
       },
       "children": [
        "IPY_MODEL_2e1cf508e8ee45d6be51d766e5ca3759"
       ],
       "layout": "IPY_MODEL_736db0eeadb442d58c754b94e7f1f9fc"
      }
     },
     "b06605a7f89843fdb92c113a41ed4564": {
      "model_module": "@jupyter-widgets/controls",
      "model_module_version": "1.4.0",
      "model_name": "HBoxModel",
      "state": {
       "children": [
        "IPY_MODEL_f400e55db1094b1b89593888fadd56f6",
        "IPY_MODEL_3200387edb0c4b51b66762e0b21108ff"
       ],
       "layout": "IPY_MODEL_ed1eda2d71d1455dba7feab6a091f6b6"
      }
     },
     "b0686e4ddb3045dbb8991fe6361127a9": {
      "model_module": "@jupyter-widgets/base",
      "model_module_version": "1.1.0",
      "model_name": "LayoutModel",
      "state": {
       "margin": "0px 20px 0px 0px"
      }
     },
     "b074df4e30ff4448a9ad65997dbc6f57": {
      "model_module": "@jupyter-widgets/base",
      "model_module_version": "1.1.0",
      "model_name": "LayoutModel",
      "state": {}
     },
     "b0c6b3c9597b4ec8b35ee2cdc3b0c7bc": {
      "model_module": "@jupyter-widgets/controls",
      "model_module_version": "1.4.0",
      "model_name": "ButtonStyleModel",
      "state": {}
     },
     "b0e6fb426e30402bb96bebe0322db9f6": {
      "model_module": "@jupyter-widgets/base",
      "model_module_version": "1.1.0",
      "model_name": "LayoutModel",
      "state": {
       "display": "none",
       "visibility": "hidden",
       "width": "800px"
      }
     },
     "b13d127f4c4e4c9da5ac85a2c802e14e": {
      "model_module": "@jupyter-widgets/controls",
      "model_module_version": "1.4.0",
      "model_name": "HBoxModel",
      "state": {
       "children": [
        "IPY_MODEL_3439d60e93b94fc29671458774d1c5d8",
        "IPY_MODEL_6f5ab9e0ea1f476199070c1606bb6ab8"
       ],
       "layout": "IPY_MODEL_18bac363262b4ad0b36d8f5e8cf118b9"
      }
     },
     "b187b538c54a4842ab186ad56420a197": {
      "model_module": "@jupyter-widgets/controls",
      "model_module_version": "1.4.0",
      "model_name": "DescriptionStyleModel",
      "state": {
       "description_width": ""
      }
     },
     "b1a8072c38ef41a495e0fb5a426674bf": {
      "model_module": "@jupyter-widgets/base",
      "model_module_version": "1.1.0",
      "model_name": "LayoutModel",
      "state": {
       "visibility": "hidden",
       "width": "800px"
      }
     },
     "b1d4b48a5ca94215b8b483efb1294abd": {
      "model_module": "@jupyter-widgets/controls",
      "model_module_version": "1.4.0",
      "model_name": "DropdownModel",
      "state": {
       "_options_labels": [
        "segment",
        "covertype",
        "digits",
        "fall_detection",
        "mnist",
        "pen_digits",
        "satellite",
        "vowel"
       ],
       "description": "Dataset:",
       "index": 0,
       "layout": "IPY_MODEL_833e761f79a3451e8e741bd9c4ae41ba",
       "style": "IPY_MODEL_124cf9d40a884818ac832523839fb631"
      }
     },
     "b1e09805495b496bb133966fbeffb747": {
      "model_module": "@jupyter-widgets/controls",
      "model_module_version": "1.4.0",
      "model_name": "VBoxModel",
      "state": {
       "children": [
        "IPY_MODEL_48e5d618671742bc9433fea270dd1d0a",
        "IPY_MODEL_a30dec5213c549e49203f7a0ddbf7372",
        "IPY_MODEL_ef19ed9987c54616981828b90c210d70",
        "IPY_MODEL_3f6b19fff1a74c7c80c68fef10572b66",
        "IPY_MODEL_32b03b6cf94b46b78d47f8f5ece0c270",
        "IPY_MODEL_f34cd89fb39b42e98dfc6cc3b2c82d2b",
        "IPY_MODEL_81de6170a7d84ff38341719ce4535552",
        "IPY_MODEL_ef94e08dedbb4c81a523b73081985791"
       ],
       "layout": "IPY_MODEL_af2222520e3b4173a6d276f98ed8589f"
      }
     },
     "b1f2c5531f3740318c0838f424f55afc": {
      "model_module": "@jupyter-widgets/base",
      "model_module_version": "1.1.0",
      "model_name": "LayoutModel",
      "state": {
       "visibility": "hidden",
       "width": "800px"
      }
     },
     "b229605cda014098a5b06953ea2fc45c": {
      "model_module": "@jupyter-widgets/controls",
      "model_module_version": "1.4.0",
      "model_name": "DescriptionStyleModel",
      "state": {
       "description_width": ""
      }
     },
     "b23b9c3b75624591889e8dca2e9cf156": {
      "model_module": "@jupyter-widgets/base",
      "model_module_version": "1.1.0",
      "model_name": "LayoutModel",
      "state": {}
     },
     "b2708239bafc4f2b85eba5bb7e839606": {
      "model_module": "@jupyter-widgets/controls",
      "model_module_version": "1.4.0",
      "model_name": "ButtonStyleModel",
      "state": {}
     },
     "b35d457a27614e2fa68143377f38a637": {
      "model_module": "@jupyter-widgets/controls",
      "model_module_version": "1.4.0",
      "model_name": "DropdownModel",
      "state": {
       "_options_labels": [
        "segment",
        "covertype",
        "digits",
        "fall_detection",
        "mnist",
        "pen_digits",
        "satellite",
        "vowel"
       ],
       "description": "Dataset:",
       "index": 0,
       "layout": "IPY_MODEL_d95a80bd889142d9a86ba394624d73a3",
       "style": "IPY_MODEL_f128ffdb516842f5ab3161528f4e5ecf"
      }
     },
     "b3670e2143c948f3bc76d9dbd053e911": {
      "model_module": "@jupyter-widgets/base",
      "model_module_version": "1.1.0",
      "model_name": "LayoutModel",
      "state": {}
     },
     "b370e161f8af43ab988143c598ba26f1": {
      "model_module": "@jupyter-widgets/controls",
      "model_module_version": "1.4.0",
      "model_name": "VBoxModel",
      "state": {
       "children": [
        "IPY_MODEL_62e559f8814242f3a6144da3415b4dd8",
        "IPY_MODEL_de8f1ef7d6984a668b838235963d3637",
        "IPY_MODEL_1f16d41bbe7c422fbadb6546d31c9446",
        "IPY_MODEL_e444e9dd8a95405fb261a9dfe056991e",
        "IPY_MODEL_9fcc2af04d8d4076a32c3134a37ce328",
        "IPY_MODEL_08185223110a4f60ab7f1e10fdf06994",
        "IPY_MODEL_6212bc99f0b94966b897ad8792a53bee",
        "IPY_MODEL_bf045cc75cb84046b7e56710d0c7dcc1"
       ],
       "layout": "IPY_MODEL_bd18212a260541409b971618e50fe609"
      }
     },
     "b375ff05af30445bb5551c61b37d10a6": {
      "model_module": "@jupyter-widgets/controls",
      "model_module_version": "1.4.0",
      "model_name": "DescriptionStyleModel",
      "state": {
       "description_width": ""
      }
     },
     "b3e43aa774464aa59ca5420adc8409df": {
      "model_module": "@jupyter-widgets/base",
      "model_module_version": "1.1.0",
      "model_name": "LayoutModel",
      "state": {}
     },
     "b3ee48760c7747d582c05cc68c96cb60": {
      "model_module": "@jupyter-widgets/base",
      "model_module_version": "1.1.0",
      "model_name": "LayoutModel",
      "state": {}
     },
     "b3f7ed0f28264a458d97e38e71357481": {
      "model_module": "@jupyter-widgets/base",
      "model_module_version": "1.1.0",
      "model_name": "LayoutModel",
      "state": {
       "display": "flex",
       "visibility": "visible",
       "width": "800px"
      }
     },
     "b3f8cb5997d74a78b171d764d4eb08f8": {
      "model_module": "@jupyter-widgets/controls",
      "model_module_version": "1.4.0",
      "model_name": "SliderStyleModel",
      "state": {
       "description_width": ""
      }
     },
     "b42a7803ec134890ac00ed31ddca81dd": {
      "model_module": "@jupyter-widgets/controls",
      "model_module_version": "1.4.0",
      "model_name": "SliderStyleModel",
      "state": {
       "description_width": ""
      }
     },
     "b4d173a5f82d4ab3a21fa96fdab1a4cc": {
      "model_module": "@jupyter-widgets/base",
      "model_module_version": "1.1.0",
      "model_name": "LayoutModel",
      "state": {}
     },
     "b4dc54a5bfed41f79ae9fbca438f0ca5": {
      "model_module": "@jupyter-widgets/base",
      "model_module_version": "1.1.0",
      "model_name": "LayoutModel",
      "state": {}
     },
     "b4de2e9b79a246fe83bb73eddfd5460e": {
      "model_module": "@jupyter-widgets/base",
      "model_module_version": "1.1.0",
      "model_name": "LayoutModel",
      "state": {
       "display": "none",
       "visibility": "hidden",
       "width": "800px"
      }
     },
     "b500e5a0a749416bae51fb22d7826135": {
      "model_module": "@jupyter-widgets/controls",
      "model_module_version": "1.4.0",
      "model_name": "DropdownModel",
      "state": {
       "_options_labels": [
        "segment",
        "covertype",
        "digits",
        "fall_detection",
        "mnist",
        "pen_digits",
        "satellite",
        "vowel"
       ],
       "description": "Dataset:",
       "index": 0,
       "layout": "IPY_MODEL_2b773e167f50454b94dad511db52e30e",
       "style": "IPY_MODEL_5e70abb98a2e40b790537e1d32aba7b0"
      }
     },
     "b51f31b3b8924c78810fde1a4e25a66a": {
      "model_module": "@jupyter-widgets/controls",
      "model_module_version": "1.4.0",
      "model_name": "SliderStyleModel",
      "state": {
       "description_width": ""
      }
     },
     "b520c7a03ec941ea874a8e15238a8bd9": {
      "model_module": "@jupyter-widgets/base",
      "model_module_version": "1.1.0",
      "model_name": "LayoutModel",
      "state": {}
     },
     "b53a18c905384c5387e9f412e8f03c32": {
      "model_module": "@jupyter-widgets/controls",
      "model_module_version": "1.4.0",
      "model_name": "ButtonStyleModel",
      "state": {}
     },
     "b559eddbe3214bddb41788d51aec295f": {
      "model_module": "@jupyter-widgets/base",
      "model_module_version": "1.1.0",
      "model_name": "LayoutModel",
      "state": {
       "width": "900px"
      }
     },
     "b59a56102a4b4cbf8e31b74091e18c94": {
      "model_module": "@jupyter-widgets/controls",
      "model_module_version": "1.4.0",
      "model_name": "VBoxModel",
      "state": {
       "children": [
        "IPY_MODEL_5cc292282084422d987c194e29ad9546"
       ],
       "layout": "IPY_MODEL_d47438d62e6a4a25a6f7e58298b0de43"
      }
     },
     "b6106318b6d8496f92ca17167b66d487": {
      "model_module": "@jupyter-widgets/base",
      "model_module_version": "1.1.0",
      "model_name": "LayoutModel",
      "state": {}
     },
     "b61ee3b521db4830a41fb1392366d773": {
      "model_module": "@jupyter-widgets/controls",
      "model_module_version": "1.4.0",
      "model_name": "ButtonStyleModel",
      "state": {}
     },
     "b61f2276b32d4234a92b40cd06c01dd9": {
      "model_module": "@jupyter-widgets/controls",
      "model_module_version": "1.4.0",
      "model_name": "SliderStyleModel",
      "state": {
       "description_width": "initial"
      }
     },
     "b623a4db65f64d15ab8ecf3db0e2a9ce": {
      "model_module": "@jupyter-widgets/controls",
      "model_module_version": "1.4.0",
      "model_name": "HBoxModel",
      "state": {
       "children": [
        "IPY_MODEL_727b8475cb284ab39926054e83d4d604",
        "IPY_MODEL_941c11689a9e4b02ae01b3f54c614608"
       ],
       "layout": "IPY_MODEL_554eb73e6dd8438d968a5f1e09333b3f"
      }
     },
     "b64978ce0e284e9a829eccf6c91dbdf4": {
      "model_module": "@jupyter-widgets/controls",
      "model_module_version": "1.4.0",
      "model_name": "DescriptionStyleModel",
      "state": {
       "description_width": ""
      }
     },
     "b66931f473344da68ef95c0405c8f596": {
      "model_module": "@jupyter-widgets/base",
      "model_module_version": "1.1.0",
      "model_name": "LayoutModel",
      "state": {}
     },
     "b676a9e144714663addc6b303ec52c77": {
      "model_module": "@jupyter-widgets/base",
      "model_module_version": "1.1.0",
      "model_name": "LayoutModel",
      "state": {}
     },
     "b6892385c2c2437cbbca7054fa1fade4": {
      "model_module": "@jupyter-widgets/base",
      "model_module_version": "1.1.0",
      "model_name": "LayoutModel",
      "state": {}
     },
     "b6da31e513bb4bafa1c4dc0c0d7d7d13": {
      "model_module": "@jupyter-widgets/controls",
      "model_module_version": "1.4.0",
      "model_name": "IntSliderModel",
      "state": {
       "description": "N. estim.",
       "layout": "IPY_MODEL_f15d8e78e2c64d27a26dcdc80fd72b80",
       "max": 200,
       "min": 2,
       "style": "IPY_MODEL_9f0978ca74a441088ff2dd6a72db94e4",
       "value": 30
      }
     },
     "b71a090c894f4ffd9c0e4038990e5fb5": {
      "model_module": "@jupyter-widgets/controls",
      "model_module_version": "1.4.0",
      "model_name": "FloatLogSliderModel",
      "state": {
       "description": "Gamma",
       "layout": "IPY_MODEL_81447ade20ba4bf09ad88263b6df06a1",
       "max": 2,
       "min": -4,
       "step": 1,
       "style": "IPY_MODEL_102c8395f3814e5ab771119919a212a9",
       "value": 0.0001
      }
     },
     "b760a1751aaf43688371fcacab9fb64a": {
      "model_module": "@jupyter-widgets/base",
      "model_module_version": "1.1.0",
      "model_name": "LayoutModel",
      "state": {}
     },
     "b761ff42419047fbbd8335d3a98af9fb": {
      "model_module": "@jupyter-widgets/base",
      "model_module_version": "1.1.0",
      "model_name": "LayoutModel",
      "state": {}
     },
     "b7665cba5f1f4b0cae09aa3e5a8ba108": {
      "model_module": "@jupyter-widgets/controls",
      "model_module_version": "1.4.0",
      "model_name": "DropdownModel",
      "state": {
       "_options_labels": [
        "None",
        "rbf",
        "nystroem"
       ],
       "description": "Sampler",
       "index": 0,
       "layout": "IPY_MODEL_2917aae8bd2b41b993cda628614e92ca",
       "style": "IPY_MODEL_f403b22453fe4eb6a3975e9f1f509693"
      }
     },
     "b7829d466d15462593771951e2ba5297": {
      "model_module": "@jupyter-widgets/controls",
      "model_module_version": "1.4.0",
      "model_name": "SliderStyleModel",
      "state": {
       "description_width": ""
      }
     },
     "b782f04cbf314c1f815e0cba387c16bb": {
      "model_module": "@jupyter-widgets/controls",
      "model_module_version": "1.4.0",
      "model_name": "FloatLogSliderModel",
      "state": {
       "description": "C",
       "layout": "IPY_MODEL_ecdb2c7f9e5545729b9c3148a96d7ee3",
       "max": 5,
       "min": -5,
       "step": 1,
       "style": "IPY_MODEL_84b12899213747279da3c35e5a532dbe",
       "value": 1000
      }
     },
     "b7c7c4a594dd42548aeeb264831d1379": {
      "model_module": "@jupyter-widgets/controls",
      "model_module_version": "1.4.0",
      "model_name": "FloatSliderModel",
      "state": {
       "description": "min_impurity_decrease:",
       "layout": "IPY_MODEL_6c6a44fd836640988c6f48d94cba6c95",
       "max": 1,
       "step": 0.1,
       "style": "IPY_MODEL_41ab47db07bf4dd5b002d5d09659f3dd"
      }
     },
     "b83df37843bb4cd594645c5852acb1d6": {
      "model_module": "@jupyter-widgets/base",
      "model_module_version": "1.1.0",
      "model_name": "LayoutModel",
      "state": {}
     },
     "b86a5afc05fb4949b2da67f06be18b96": {
      "model_module": "@jupyter-widgets/base",
      "model_module_version": "1.1.0",
      "model_name": "LayoutModel",
      "state": {}
     },
     "b8a70f7e672548d4b01894697941225e": {
      "model_module": "@jupyter-widgets/controls",
      "model_module_version": "1.4.0",
      "model_name": "DropdownModel",
      "state": {
       "_options_labels": [
        "segment",
        "covertype",
        "digits",
        "fall_detection",
        "mnist",
        "pen_digits",
        "satellite",
        "vowel"
       ],
       "description": "Dataset:",
       "index": 0,
       "layout": "IPY_MODEL_8543088766904994a81c3a1ef2236fac",
       "style": "IPY_MODEL_5e960e05082042cbb5339dbc07223893"
      }
     },
     "b8ae0305181f4a08afea6d10180395d7": {
      "model_module": "@jupyter-widgets/controls",
      "model_module_version": "1.4.0",
      "model_name": "VBoxModel",
      "state": {
       "children": [
        "IPY_MODEL_ac7f8d8a766e49e1b1882bc75cc848ae"
       ],
       "layout": "IPY_MODEL_ec4f8394560448639073ed3f9b00b857"
      }
     },
     "b8ce9fb9ce084e6ca621468ce602ccb2": {
      "model_module": "@jupyter-widgets/controls",
      "model_module_version": "1.4.0",
      "model_name": "ButtonModel",
      "state": {
       "button_style": "info",
       "description": "Demo10",
       "layout": "IPY_MODEL_773b9a90611744c893f660e92ed68931",
       "style": "IPY_MODEL_7add56166b81467ab3e70d972ba90085"
      }
     },
     "b941f6d07e6e45f5bce12ddc24ec16cc": {
      "model_module": "@jupyter-widgets/controls",
      "model_module_version": "1.4.0",
      "model_name": "DropdownModel",
      "state": {
       "_options_labels": [
        "None",
        "rbf",
        "nystroem"
       ],
       "description": "Sampler",
       "index": 0,
       "layout": "IPY_MODEL_eae6649fa0ae42d79a4e5d2c22270f03",
       "style": "IPY_MODEL_249c4fbd8f3d48779bbea6dbaa4d7731"
      }
     },
     "b945921e97bf4f7bbf562755af5b7772": {
      "model_module": "@jupyter-widgets/controls",
      "model_module_version": "1.4.0",
      "model_name": "ButtonModel",
      "state": {
       "button_style": "info",
       "description": "Demo10",
       "layout": "IPY_MODEL_57685dab90434fbbbb6f12dbfea9199d",
       "style": "IPY_MODEL_72b6818fa55441cdbfb03f64a4fb4d55"
      }
     },
     "b969e4decebd49a7a4bbf6de345c5f02": {
      "model_module": "@jupyter-widgets/controls",
      "model_module_version": "1.4.0",
      "model_name": "IntSliderModel",
      "state": {
       "description": "N. estim.",
       "layout": "IPY_MODEL_e650f861c56a41a2b563f08fd2ca04da",
       "max": 200,
       "min": 2,
       "style": "IPY_MODEL_f0124d16161847df9c5fca4364f51bb5",
       "value": 30
      }
     },
     "b9d546ef859045e7808509a4516edc76": {
      "model_module": "@jupyter-widgets/base",
      "model_module_version": "1.1.0",
      "model_name": "LayoutModel",
      "state": {}
     },
     "b9df24dae82d440a94c0ef499cc314a0": {
      "model_module": "@jupyter-widgets/output",
      "model_module_version": "1.0.0",
      "model_name": "OutputModel",
      "state": {
       "layout": "IPY_MODEL_938f0243f19e49aaa5381605b0fe90ec"
      }
     },
     "ba2f42abf40e4ab9a061a186ed983015": {
      "model_module": "@jupyter-widgets/base",
      "model_module_version": "1.1.0",
      "model_name": "LayoutModel",
      "state": {}
     },
     "ba2fffbf28e043ed9e4d6f4b952da0fd": {
      "model_module": "@jupyter-widgets/controls",
      "model_module_version": "1.4.0",
      "model_name": "DropdownModel",
      "state": {
       "_options_labels": [
        "dt",
        "logit",
        "linear_svc",
        "rbf_svc"
       ],
       "description": "Model",
       "index": 0,
       "layout": "IPY_MODEL_c2ec0c47ba534b6ea1627079b5b80d21",
       "style": "IPY_MODEL_85355ab9de74440cae9ca0a620d4ec58"
      }
     },
     "ba46605652f1412895d8ed0cd2f56e1a": {
      "model_module": "@jupyter-widgets/controls",
      "model_module_version": "1.4.0",
      "model_name": "DescriptionStyleModel",
      "state": {
       "description_width": ""
      }
     },
     "ba46d8a2353a49d5b37a53ed1eac4409": {
      "model_module": "@jupyter-widgets/controls",
      "model_module_version": "1.4.0",
      "model_name": "SliderStyleModel",
      "state": {
       "description_width": ""
      }
     },
     "ba471eb65fd246fbb90aef87de856f1c": {
      "model_module": "@jupyter-widgets/controls",
      "model_module_version": "1.4.0",
      "model_name": "VBoxModel",
      "state": {
       "children": [
        "IPY_MODEL_3a5b7f6950d84c60bf3a9b78cdef953d"
       ],
       "layout": "IPY_MODEL_8c0b56b29661480ba31042ce0a154b13"
      }
     },
     "ba563c9aae2b4cb9966da8af8aeda609": {
      "model_module": "@jupyter-widgets/controls",
      "model_module_version": "1.4.0",
      "model_name": "DescriptionStyleModel",
      "state": {
       "description_width": ""
      }
     },
     "ba7d8430ba1143088e892b10ce7a9a94": {
      "model_module": "@jupyter-widgets/controls",
      "model_module_version": "1.4.0",
      "model_name": "SliderStyleModel",
      "state": {
       "description_width": ""
      }
     },
     "babfddf580b74d26bfb578ca40a4b8ff": {
      "model_module": "@jupyter-widgets/controls",
      "model_module_version": "1.4.0",
      "model_name": "DescriptionStyleModel",
      "state": {
       "description_width": ""
      }
     },
     "baf63e596d3a4c78a13860eab4bc048c": {
      "model_module": "@jupyter-widgets/base",
      "model_module_version": "1.1.0",
      "model_name": "LayoutModel",
      "state": {}
     },
     "bafe2c386c6e4889a93e47011cb6bee3": {
      "model_module": "@jupyter-widgets/controls",
      "model_module_version": "1.4.0",
      "model_name": "DescriptionStyleModel",
      "state": {
       "description_width": ""
      }
     },
     "baff2c5acd954faf84450229ed31a4f5": {
      "model_module": "@jupyter-widgets/base",
      "model_module_version": "1.1.0",
      "model_name": "LayoutModel",
      "state": {}
     },
     "bb1e15a7b1864713887eafce58673146": {
      "model_module": "@jupyter-widgets/controls",
      "model_module_version": "1.4.0",
      "model_name": "SliderStyleModel",
      "state": {
       "description_width": ""
      }
     },
     "bb1fa49685be4a99b43ab002042cfb40": {
      "model_module": "@jupyter-widgets/base",
      "model_module_version": "1.1.0",
      "model_name": "LayoutModel",
      "state": {
       "visibility": "hidden",
       "width": "800px"
      }
     },
     "bb55281f57f84587a1af2f4b52b3decc": {
      "model_module": "@jupyter-widgets/base",
      "model_module_version": "1.1.0",
      "model_name": "LayoutModel",
      "state": {}
     },
     "bbec169d2858438a88bca3fea3bcf9d8": {
      "model_module": "@jupyter-widgets/base",
      "model_module_version": "1.1.0",
      "model_name": "LayoutModel",
      "state": {}
     },
     "bbf11f457b694e179bc85babc99de58f": {
      "model_module": "@jupyter-widgets/base",
      "model_module_version": "1.1.0",
      "model_name": "LayoutModel",
      "state": {
       "visibility": "hidden",
       "width": "800px"
      }
     },
     "bc2172a42eb74717a17b080d10eaaf2b": {
      "model_module": "@jupyter-widgets/controls",
      "model_module_version": "1.4.0",
      "model_name": "DescriptionStyleModel",
      "state": {
       "description_width": ""
      }
     },
     "bc253e7a82904758bd4b2250a58ebc7c": {
      "model_module": "@jupyter-widgets/base",
      "model_module_version": "1.1.0",
      "model_name": "LayoutModel",
      "state": {
       "visibility": "hidden",
       "width": "800px"
      }
     },
     "bcbfd9adef2745d4a957b4f8b5680e54": {
      "model_module": "@jupyter-widgets/controls",
      "model_module_version": "1.4.0",
      "model_name": "TabModel",
      "state": {
       "_titles": {
        "0": "dt"
       },
       "children": [
        "IPY_MODEL_8769f91842a8453b93e284790d3388e6"
       ],
       "layout": "IPY_MODEL_b761ff42419047fbbd8335d3a98af9fb"
      }
     },
     "bce28fd5b9b14bcda176113a020ce1b8": {
      "model_module": "@jupyter-widgets/controls",
      "model_module_version": "1.4.0",
      "model_name": "SliderStyleModel",
      "state": {
       "description_width": ""
      }
     },
     "bce5bda43ee0474186438f684ea12331": {
      "model_module": "@jupyter-widgets/controls",
      "model_module_version": "1.4.0",
      "model_name": "ButtonModel",
      "state": {
       "button_style": "info",
       "description": "Add model",
       "layout": "IPY_MODEL_4949932eba424c9fa7f5399ed5738be5",
       "style": "IPY_MODEL_f3d0e9e2ae2f46dabfb67c102ab4f3aa"
      }
     },
     "bd18212a260541409b971618e50fe609": {
      "model_module": "@jupyter-widgets/base",
      "model_module_version": "1.1.0",
      "model_name": "LayoutModel",
      "state": {}
     },
     "bd391d28bd7c49c9a24e689a5ae71030": {
      "model_module": "@jupyter-widgets/controls",
      "model_module_version": "1.4.0",
      "model_name": "FloatLogSliderModel",
      "state": {
       "description": "C",
       "layout": "IPY_MODEL_d7ff1875842c48bca7aad52b5723223f",
       "max": 5,
       "min": -5,
       "step": 1,
       "style": "IPY_MODEL_0b01c4eb28714a28b956c30db0c3ad74",
       "value": 1000
      }
     },
     "bd44cac642404843b4b6b40d903b666d": {
      "model_module": "@jupyter-widgets/controls",
      "model_module_version": "1.4.0",
      "model_name": "VBoxModel",
      "state": {
       "children": [
        "IPY_MODEL_a4a7ca3c588746ebafb155a3a12e6c5a"
       ],
       "layout": "IPY_MODEL_142329cf350a4c73be46400549441cc1"
      }
     },
     "bd93e928967a451a8a06890cef400cfb": {
      "model_module": "@jupyter-widgets/controls",
      "model_module_version": "1.4.0",
      "model_name": "IntSliderModel",
      "state": {
       "description": "N. estim.",
       "layout": "IPY_MODEL_e1e9c0a67cf14444a546d168e48ddae4",
       "max": 200,
       "min": 2,
       "style": "IPY_MODEL_eccc070f992b411d8c7a5ea7d6369f99",
       "value": 30
      }
     },
     "bd98163fe223469e88b0208aad5350cb": {
      "model_module": "@jupyter-widgets/base",
      "model_module_version": "1.1.0",
      "model_name": "LayoutModel",
      "state": {}
     },
     "be1ecef4ffaf420584328f911a537c6e": {
      "model_module": "@jupyter-widgets/base",
      "model_module_version": "1.1.0",
      "model_name": "LayoutModel",
      "state": {}
     },
     "be306ec481974b9da6652fc837ec6cc5": {
      "model_module": "@jupyter-widgets/base",
      "model_module_version": "1.1.0",
      "model_name": "LayoutModel",
      "state": {
       "width": "900px"
      }
     },
     "be46322671aa4aa6970e676b9ee2db04": {
      "model_module": "@jupyter-widgets/base",
      "model_module_version": "1.1.0",
      "model_name": "LayoutModel",
      "state": {}
     },
     "bea7f076505d4d74aa0afa37bbda88a0": {
      "model_module": "@jupyter-widgets/base",
      "model_module_version": "1.1.0",
      "model_name": "LayoutModel",
      "state": {}
     },
     "beaf43a84a1b40fbaf7515d778df3fc3": {
      "model_module": "@jupyter-widgets/controls",
      "model_module_version": "1.4.0",
      "model_name": "DescriptionStyleModel",
      "state": {
       "description_width": ""
      }
     },
     "bec077103e584df09faf45a866957b43": {
      "model_module": "@jupyter-widgets/controls",
      "model_module_version": "1.4.0",
      "model_name": "VBoxModel",
      "state": {
       "children": [
        "IPY_MODEL_1e3e6b7c33b44bd6b7904ee55a2199b0",
        "IPY_MODEL_e3e306511b7b4f1896a4f86db4d45af8",
        "IPY_MODEL_75ed04a27d6742df974387577dd74241",
        "IPY_MODEL_920739640f4d41269e8e5d2346b3c930",
        "IPY_MODEL_d4cea96c2fd94b3f9f22d6aaedcfff46",
        "IPY_MODEL_c6f3c9ba28d0476794fd204cba91223e",
        "IPY_MODEL_4af52a35726647f8a9a409cd71b3bfec",
        "IPY_MODEL_2aa3fac421de4190a72cd2e0dddd6b47"
       ],
       "layout": "IPY_MODEL_16177fe85fc942bf8b6cd581b47086a8"
      }
     },
     "beea0f2486944976b83f301948f1d466": {
      "model_module": "@jupyter-widgets/controls",
      "model_module_version": "1.4.0",
      "model_name": "AccordionModel",
      "state": {
       "_titles": {
        "0": "Info run"
       },
       "children": [
        "IPY_MODEL_ce4b781a5ae945ae8e6ce91dbf4e5213"
       ],
       "layout": "IPY_MODEL_2fa8a7502fc14d9e93e9f44c5cb1a774"
      }
     },
     "bef3a12c92594418b5ade36a10ecd1c7": {
      "model_module": "@jupyter-widgets/controls",
      "model_module_version": "1.4.0",
      "model_name": "HTMLModel",
      "state": {
       "layout": "IPY_MODEL_d42fc88209d2498681cc1109340fe050",
       "style": "IPY_MODEL_81cb653c27454b40a34fbee2cfd0463d",
       "value": "<strong>Size</strong>: 2000"
      }
     },
     "bf045cc75cb84046b7e56710d0c7dcc1": {
      "model_module": "@jupyter-widgets/controls",
      "model_module_version": "1.4.0",
      "model_name": "IntSliderModel",
      "state": {
       "description": "N. estim.",
       "layout": "IPY_MODEL_ded69aec076b4601a258f48f13ea6bf0",
       "max": 200,
       "min": 2,
       "style": "IPY_MODEL_b51f31b3b8924c78810fde1a4e25a66a",
       "value": 30
      }
     },
     "bf1f65831fd947198df4b51eb2d39e61": {
      "model_module": "@jupyter-widgets/controls",
      "model_module_version": "1.4.0",
      "model_name": "DescriptionStyleModel",
      "state": {
       "description_width": ""
      }
     },
     "bf34fb1761b74fe9afc586e52921aa93": {
      "model_module": "@jupyter-widgets/controls",
      "model_module_version": "1.4.0",
      "model_name": "SliderStyleModel",
      "state": {
       "description_width": ""
      }
     },
     "bf4dec6da3864d2eae3612ba59f97bee": {
      "model_module": "@jupyter-widgets/controls",
      "model_module_version": "1.4.0",
      "model_name": "SliderStyleModel",
      "state": {
       "description_width": ""
      }
     },
     "bf886c159e304b6d9ad23f9f4e5fc372": {
      "model_module": "@jupyter-widgets/controls",
      "model_module_version": "1.4.0",
      "model_name": "IntSliderModel",
      "state": {
       "description": "C",
       "layout": "IPY_MODEL_52eedea2aec64c1aa70301cabc19bb15",
       "max": 10,
       "min": 1,
       "style": "IPY_MODEL_8ebf50bf8590422d9d832d4e74b75ec2",
       "value": 5
      }
     },
     "bf8d4108af2b45d896b661c1beec39c7": {
      "model_module": "@jupyter-widgets/controls",
      "model_module_version": "1.4.0",
      "model_name": "ButtonModel",
      "state": {
       "button_style": "info",
       "description": "Demo10",
       "layout": "IPY_MODEL_0478b5304c454ac281ab32b84d691740",
       "style": "IPY_MODEL_1838418cb7cc440c9d81e17a0dabe4a7"
      }
     },
     "bf9bd170dc0f4e65b733a334d6363beb": {
      "model_module": "@jupyter-widgets/base",
      "model_module_version": "1.1.0",
      "model_name": "LayoutModel",
      "state": {
       "visibility": "hidden",
       "width": "800px"
      }
     },
     "bfb9dfc6bbb74228a5dd04ab9641e8bf": {
      "model_module": "@jupyter-widgets/base",
      "model_module_version": "1.1.0",
      "model_name": "LayoutModel",
      "state": {
       "visibility": "hidden",
       "width": "800px"
      }
     },
     "bfe2d7cb33f54f29a43f49627bb22c6d": {
      "model_module": "@jupyter-widgets/controls",
      "model_module_version": "1.4.0",
      "model_name": "ButtonStyleModel",
      "state": {}
     },
     "bfed97f69972487b97e1ecf40e369a01": {
      "model_module": "@jupyter-widgets/base",
      "model_module_version": "1.1.0",
      "model_name": "LayoutModel",
      "state": {
       "visibility": "hidden",
       "width": "800px"
      }
     },
     "bff08489d1b042bf96aa72190a1094e4": {
      "model_module": "@jupyter-widgets/base",
      "model_module_version": "1.1.0",
      "model_name": "LayoutModel",
      "state": {}
     },
     "bffa932839d64543bf31e4321aadadd6": {
      "model_module": "@jupyter-widgets/output",
      "model_module_version": "1.0.0",
      "model_name": "OutputModel",
      "state": {
       "layout": "IPY_MODEL_756407ba7bf1477a819cd157d37f18da"
      }
     },
     "c00b454cb95d4ab8af1bd488041bcc71": {
      "model_module": "@jupyter-widgets/controls",
      "model_module_version": "1.4.0",
      "model_name": "AccordionModel",
      "state": {
       "_titles": {
        "0": "Info run"
       },
       "children": [
        "IPY_MODEL_b13d127f4c4e4c9da5ac85a2c802e14e"
       ],
       "layout": "IPY_MODEL_d43d98219e91415f9e45a48a9cb19956"
      }
     },
     "c0177bcd4c3648f6aa7f77120946902d": {
      "model_module": "@jupyter-widgets/controls",
      "model_module_version": "1.4.0",
      "model_name": "ButtonStyleModel",
      "state": {}
     },
     "c0246dbb0c734ab7929b642056df77e0": {
      "model_module": "@jupyter-widgets/base",
      "model_module_version": "1.1.0",
      "model_name": "LayoutModel",
      "state": {}
     },
     "c02e55942ebe4dacbb7769827bfc9a34": {
      "model_module": "@jupyter-widgets/output",
      "model_module_version": "1.0.0",
      "model_name": "OutputModel",
      "state": {
       "layout": "IPY_MODEL_ff1d36aa419f4849bc204daeee42ff58"
      }
     },
     "c09b296094ec4eb7924ab5b4d74ce19f": {
      "model_module": "@jupyter-widgets/base",
      "model_module_version": "1.1.0",
      "model_name": "LayoutModel",
      "state": {}
     },
     "c0d3f993db6f45a1ab570e3c73aeac0a": {
      "model_module": "@jupyter-widgets/controls",
      "model_module_version": "1.4.0",
      "model_name": "HBoxModel",
      "state": {
       "children": [
        "IPY_MODEL_d39427dba15e413887e1a13855f5f4eb",
        "IPY_MODEL_08386fd98fd5487496767c51dfd3eb8e"
       ],
       "layout": "IPY_MODEL_9512df6b6b1d45fe8e79339718c65d5a"
      }
     },
     "c0e21b5a5eb54185af60101766baf1d3": {
      "model_module": "@jupyter-widgets/controls",
      "model_module_version": "1.4.0",
      "model_name": "ButtonModel",
      "state": {
       "button_style": "warning",
       "description": "Remove model",
       "layout": "IPY_MODEL_30777ae04c4548f585174c65f12298a9",
       "style": "IPY_MODEL_fea271432fd54020b1c1ba80fc27ea6d"
      }
     },
     "c16d379329354a1ea9a5a6cf90a11bd9": {
      "model_module": "@jupyter-widgets/controls",
      "model_module_version": "1.4.0",
      "model_name": "IntRangeSliderModel",
      "state": {
       "_model_name": "IntRangeSliderModel",
       "_view_name": "IntRangeSliderView",
       "layout": "IPY_MODEL_3b49a24bb1bc4d7aa17375e7f2bdc724",
       "max": 1000,
       "min": 30,
       "step": 10,
       "style": "IPY_MODEL_3dd85504da724062a3e04763e8ea2e6f",
       "value": [
        30,
        100
       ]
      }
     },
     "c19a4c96c0524c49b3eb5fa39f1c9d1c": {
      "model_module": "@jupyter-widgets/controls",
      "model_module_version": "1.4.0",
      "model_name": "ButtonModel",
      "state": {
       "button_style": "info",
       "description": "Demo10",
       "layout": "IPY_MODEL_a3c42c52ee104ee58e04c5f964badcb8",
       "style": "IPY_MODEL_644771742d3d4a5384d979bf65b10b1d"
      }
     },
     "c1c5f582a1e94cfc870758b7e32664af": {
      "model_module": "@jupyter-widgets/controls",
      "model_module_version": "1.4.0",
      "model_name": "IntSliderModel",
      "state": {
       "description": "N. estim.",
       "layout": "IPY_MODEL_f4ae6c45cc4e4744a5588a7f00c9595f",
       "max": 200,
       "min": 2,
       "style": "IPY_MODEL_41baccfca9644a959ad368664eceddaf",
       "value": 30
      }
     },
     "c22559ec899d46f3b44c200d11e545d3": {
      "model_module": "@jupyter-widgets/base",
      "model_module_version": "1.1.0",
      "model_name": "LayoutModel",
      "state": {}
     },
     "c225b4b3cf2e4153aaad73acee86ce8e": {
      "model_module": "@jupyter-widgets/controls",
      "model_module_version": "1.4.0",
      "model_name": "IntSliderModel",
      "state": {
       "description": "C",
       "layout": "IPY_MODEL_6d59d44a4dd449f387c7b08076554cf5",
       "max": 10,
       "min": 1,
       "style": "IPY_MODEL_1f34ef65bb9742538c08ca19bb85dda4",
       "value": 5
      }
     },
     "c258792f781f4569922162bd3763fdc0": {
      "model_module": "@jupyter-widgets/controls",
      "model_module_version": "1.4.0",
      "model_name": "FloatLogSliderModel",
      "state": {
       "description": "Gamma",
       "layout": "IPY_MODEL_140c78b15a614d239d6f33a224e4aa07",
       "max": 2,
       "min": -4,
       "step": 1,
       "style": "IPY_MODEL_3977aca174b24831a013abf46b1c9c3f",
       "value": 0.0001
      }
     },
     "c26925b9d6844070b130c0d5be0a24e5": {
      "model_module": "@jupyter-widgets/controls",
      "model_module_version": "1.4.0",
      "model_name": "IntSliderModel",
      "state": {
       "description": "N. estim.",
       "layout": "IPY_MODEL_159c0f5d93af40458abc7f124c80dcd9",
       "max": 200,
       "min": 2,
       "style": "IPY_MODEL_26e2405fc4d14be597cce461c4d6af83",
       "value": 30
      }
     },
     "c29035075b004fceba1a3af225e792f5": {
      "model_module": "@jupyter-widgets/controls",
      "model_module_version": "1.4.0",
      "model_name": "SliderStyleModel",
      "state": {
       "description_width": ""
      }
     },
     "c2a53efc32134c2884c67f5ca90d5249": {
      "model_module": "@jupyter-widgets/controls",
      "model_module_version": "1.4.0",
      "model_name": "SliderStyleModel",
      "state": {
       "description_width": ""
      }
     },
     "c2c62b5bd31d45eb8d91c831896cec49": {
      "model_module": "@jupyter-widgets/base",
      "model_module_version": "1.1.0",
      "model_name": "LayoutModel",
      "state": {}
     },
     "c2d97c280ca24b5d9a8f7b8b65fa2e1a": {
      "model_module": "@jupyter-widgets/base",
      "model_module_version": "1.1.0",
      "model_name": "LayoutModel",
      "state": {}
     },
     "c2ec0c47ba534b6ea1627079b5b80d21": {
      "model_module": "@jupyter-widgets/base",
      "model_module_version": "1.1.0",
      "model_name": "LayoutModel",
      "state": {}
     },
     "c30429b1e8ce431a82271f76bc431720": {
      "model_module": "@jupyter-widgets/base",
      "model_module_version": "1.1.0",
      "model_name": "LayoutModel",
      "state": {}
     },
     "c31332b123b14053935bd9ce40ff23bd": {
      "model_module": "@jupyter-widgets/controls",
      "model_module_version": "1.4.0",
      "model_name": "DropdownModel",
      "state": {
       "_options_labels": [
        "black_bag",
        "grey_bag",
        "black_ens",
        "grey_ens",
        "None"
       ],
       "description": "Box Type",
       "index": 4,
       "layout": "IPY_MODEL_5dc2ef7b287e4e5f9aa4febcd9eaea4a",
       "style": "IPY_MODEL_624e898da82244b688a31b9441084104"
      }
     },
     "c34a926bd3c84b648691452afefc7af5": {
      "model_module": "@jupyter-widgets/base",
      "model_module_version": "1.1.0",
      "model_name": "LayoutModel",
      "state": {}
     },
     "c3940da40ca94e2888856d8129b12c4e": {
      "model_module": "@jupyter-widgets/base",
      "model_module_version": "1.1.0",
      "model_name": "LayoutModel",
      "state": {}
     },
     "c3e1870bbdbe4ce3a75fab380cc60c43": {
      "model_module": "@jupyter-widgets/output",
      "model_module_version": "1.0.0",
      "model_name": "OutputModel",
      "state": {
       "layout": "IPY_MODEL_d2010e46d95445cda08acc28c4f3a459"
      }
     },
     "c3ec64dc094d4a408a7a6aeffec71980": {
      "model_module": "@jupyter-widgets/controls",
      "model_module_version": "1.4.0",
      "model_name": "DropdownModel",
      "state": {
       "_options_labels": [
        "None",
        "rbf",
        "nystroem"
       ],
       "description": "Sampler",
       "index": 0,
       "layout": "IPY_MODEL_d4ba5c203cb84ac5aa3e2d7c80e027f4",
       "style": "IPY_MODEL_4c9696724a034dcebfb3308d97f47002"
      }
     },
     "c46149fac30047288024fa5e31f8fef7": {
      "model_module": "@jupyter-widgets/controls",
      "model_module_version": "1.4.0",
      "model_name": "DescriptionStyleModel",
      "state": {
       "description_width": ""
      }
     },
     "c4882c0df3a74f1fbba53dee5d512aa0": {
      "model_module": "@jupyter-widgets/controls",
      "model_module_version": "1.4.0",
      "model_name": "DropdownModel",
      "state": {
       "_options_labels": [
        "segment",
        "covertype",
        "digits",
        "fall_detection",
        "mnist",
        "pen_digits",
        "satellite",
        "vowel"
       ],
       "description": "Dataset:",
       "index": 0,
       "layout": "IPY_MODEL_9a4ee8f46bf3482181c787e394e3bde7",
       "style": "IPY_MODEL_084358a9c1a945f18fcb7d2aafd458f9"
      }
     },
     "c4e48900dd714f678a5829ab61c56e96": {
      "model_module": "@jupyter-widgets/controls",
      "model_module_version": "1.4.0",
      "model_name": "DropdownModel",
      "state": {
       "_options_labels": [
        "black_bag",
        "grey_bag",
        "black_ens",
        "grey_ens",
        "None"
       ],
       "description": "Box Type",
       "index": 4,
       "layout": "IPY_MODEL_f005ccf5c4b54becb6e6eab898e809cc",
       "style": "IPY_MODEL_412d22c76ab8414492685736c8d5ccff"
      }
     },
     "c504562ff6de40a2b8f38024fe1cd6e5": {
      "model_module": "@jupyter-widgets/base",
      "model_module_version": "1.1.0",
      "model_name": "LayoutModel",
      "state": {}
     },
     "c504f082b44b45cd853579fd1a428378": {
      "model_module": "@jupyter-widgets/controls",
      "model_module_version": "1.4.0",
      "model_name": "FloatLogSliderModel",
      "state": {
       "description": "Gamma",
       "layout": "IPY_MODEL_314039c116134ee88000cc1a23892719",
       "max": 2,
       "min": -4,
       "step": 1,
       "style": "IPY_MODEL_e5122bd40bf445b18825b57544408cb3",
       "value": 0.0001
      }
     },
     "c55ca6ea69514341ab8657b586e822b7": {
      "model_module": "@jupyter-widgets/base",
      "model_module_version": "1.1.0",
      "model_name": "LayoutModel",
      "state": {}
     },
     "c5908875d14842e7aef25097817828e1": {
      "model_module": "@jupyter-widgets/base",
      "model_module_version": "1.1.0",
      "model_name": "LayoutModel",
      "state": {}
     },
     "c5bf0deaefaf420eb13ea2d6c805b358": {
      "model_module": "@jupyter-widgets/base",
      "model_module_version": "1.1.0",
      "model_name": "LayoutModel",
      "state": {}
     },
     "c5d442ca38d24b3aa0174310c5a77fc7": {
      "model_module": "@jupyter-widgets/output",
      "model_module_version": "1.0.0",
      "model_name": "OutputModel",
      "state": {
       "layout": "IPY_MODEL_620c618e11d8454f885171e4d072a342"
      }
     },
     "c5d9046406aa4d2290139f60008a1d88": {
      "model_module": "@jupyter-widgets/controls",
      "model_module_version": "1.4.0",
      "model_name": "RadioButtonsModel",
      "state": {
       "_options_labels": [
        "1000",
        "2000",
        "5000",
        "10000"
       ],
       "description": "Size",
       "index": 0,
       "layout": "IPY_MODEL_b9d546ef859045e7808509a4516edc76",
       "style": "IPY_MODEL_0d6cffc55d5f44e99eefdf1dc849cb30"
      }
     },
     "c5e8481d6395410ea8d2e3a2eeda6bbe": {
      "model_module": "@jupyter-widgets/controls",
      "model_module_version": "1.4.0",
      "model_name": "ButtonStyleModel",
      "state": {}
     },
     "c5ff696318f6496a998d1ef7c974e7b7": {
      "model_module": "@jupyter-widgets/controls",
      "model_module_version": "1.4.0",
      "model_name": "DescriptionStyleModel",
      "state": {
       "description_width": ""
      }
     },
     "c628420942354ea0b9cd0d78c147d55d": {
      "model_module": "@jupyter-widgets/base",
      "model_module_version": "1.1.0",
      "model_name": "LayoutModel",
      "state": {}
     },
     "c6309cc95cd046d1ae4d0031574fe60e": {
      "model_module": "@jupyter-widgets/controls",
      "model_module_version": "1.4.0",
      "model_name": "HBoxModel",
      "state": {
       "children": [
        "IPY_MODEL_b8ae0305181f4a08afea6d10180395d7",
        "IPY_MODEL_5bb50427ff17425bbb8048ef4ad034cf"
       ],
       "layout": "IPY_MODEL_45328b9081474c778394307cfe6a04e6"
      }
     },
     "c6848c07ec3b469dbdb22357c85ae9d6": {
      "model_module": "@jupyter-widgets/controls",
      "model_module_version": "1.4.0",
      "model_name": "SliderStyleModel",
      "state": {
       "description_width": ""
      }
     },
     "c6b9822a9a584bb3b65d41a5f92d43c9": {
      "model_module": "@jupyter-widgets/base",
      "model_module_version": "1.1.0",
      "model_name": "LayoutModel",
      "state": {}
     },
     "c6c4491e8f394b91913f9718f1fe1918": {
      "model_module": "@jupyter-widgets/controls",
      "model_module_version": "1.4.0",
      "model_name": "RadioButtonsModel",
      "state": {
       "_options_labels": [
        "1000",
        "2000",
        "5000",
        "10000"
       ],
       "description": "Size",
       "index": 0,
       "layout": "IPY_MODEL_f4b67d1c11c841d189dfdd7b3d5c65be",
       "style": "IPY_MODEL_821040fb902f43ac9273b018900c97f0"
      }
     },
     "c6eb8401704747d08e174f61a2dd0d68": {
      "model_module": "@jupyter-widgets/base",
      "model_module_version": "1.1.0",
      "model_name": "LayoutModel",
      "state": {}
     },
     "c6f3c9ba28d0476794fd204cba91223e": {
      "model_module": "@jupyter-widgets/controls",
      "model_module_version": "1.4.0",
      "model_name": "FloatLogSliderModel",
      "state": {
       "description": "Gamma",
       "layout": "IPY_MODEL_f0e22546c4014729bacd04df5b80a086",
       "max": 2,
       "min": -4,
       "step": 1,
       "style": "IPY_MODEL_9d5ba067b91e42e0a880697acc80bb2d",
       "value": 0.0001
      }
     },
     "c70bf81e9aa64d02a8c7342e1b6a7807": {
      "model_module": "@jupyter-widgets/controls",
      "model_module_version": "1.4.0",
      "model_name": "DescriptionStyleModel",
      "state": {
       "description_width": ""
      }
     },
     "c7806d09374c4d81a86367593d7d99e6": {
      "model_module": "@jupyter-widgets/controls",
      "model_module_version": "1.4.0",
      "model_name": "SliderStyleModel",
      "state": {
       "description_width": ""
      }
     },
     "c7a38710fed44bd2afde9d203077d5c5": {
      "model_module": "@jupyter-widgets/output",
      "model_module_version": "1.0.0",
      "model_name": "OutputModel",
      "state": {
       "layout": "IPY_MODEL_fa11dd040b4743a49e6b56531e7b8431"
      }
     },
     "c7a67497de5f4062a0be607e4e3fa4f7": {
      "model_module": "@jupyter-widgets/controls",
      "model_module_version": "1.4.0",
      "model_name": "VBoxModel",
      "state": {
       "children": [
        "IPY_MODEL_d5e27fcc4cf64909874992a86839cd4b",
        "IPY_MODEL_a97e69d1470040f7988de42ae92e454d",
        "IPY_MODEL_35fca8787cb4419d8e9bccbf88a110e3",
        "IPY_MODEL_bf886c159e304b6d9ad23f9f4e5fc372",
        "IPY_MODEL_c3ec64dc094d4a408a7a6aeffec71980",
        "IPY_MODEL_45dc6c5f7893456783c5d72044c3b4a1",
        "IPY_MODEL_c4e48900dd714f678a5829ab61c56e96",
        "IPY_MODEL_181f7e48ad7a4f1fbd2605c9205af9fa"
       ],
       "layout": "IPY_MODEL_129c773c624b4f289baf581987decd9e"
      }
     },
     "c7cc2be3e3494cafb6f19901bf265a4a": {
      "model_module": "@jupyter-widgets/controls",
      "model_module_version": "1.4.0",
      "model_name": "DescriptionStyleModel",
      "state": {
       "description_width": ""
      }
     },
     "c7dca407ef054b948b9ea79cea20eb9d": {
      "model_module": "@jupyter-widgets/controls",
      "model_module_version": "1.4.0",
      "model_name": "DescriptionStyleModel",
      "state": {
       "description_width": ""
      }
     },
     "c7f7f36c6298406791c177ed93224904": {
      "model_module": "@jupyter-widgets/controls",
      "model_module_version": "1.4.0",
      "model_name": "ButtonModel",
      "state": {
       "button_style": "info",
       "description": "Demo10",
       "layout": "IPY_MODEL_4408bcea463a4a96ac055d54a63ee374",
       "style": "IPY_MODEL_c0177bcd4c3648f6aa7f77120946902d"
      }
     },
     "c8065b6a320b49a08484129444173bdd": {
      "model_module": "@jupyter-widgets/base",
      "model_module_version": "1.1.0",
      "model_name": "LayoutModel",
      "state": {}
     },
     "c81fda94e141487390180e55f3a44f75": {
      "model_module": "@jupyter-widgets/base",
      "model_module_version": "1.1.0",
      "model_name": "LayoutModel",
      "state": {
       "display": "none",
       "visibility": "hidden",
       "width": "800px"
      }
     },
     "c8420c200979463487057c6972065043": {
      "model_module": "@jupyter-widgets/controls",
      "model_module_version": "1.4.0",
      "model_name": "IntSliderModel",
      "state": {
       "description": "N. estim.",
       "layout": "IPY_MODEL_bbf11f457b694e179bc85babc99de58f",
       "max": 200,
       "min": 2,
       "style": "IPY_MODEL_3501773be68d490c8af11623a445b452",
       "value": 30
      }
     },
     "c8752fc7e06d42f5af9dfd7571f87772": {
      "model_module": "@jupyter-widgets/base",
      "model_module_version": "1.1.0",
      "model_name": "LayoutModel",
      "state": {}
     },
     "c8d5b1396cb2418cbc960334e52b8ee0": {
      "model_module": "@jupyter-widgets/controls",
      "model_module_version": "1.4.0",
      "model_name": "DescriptionStyleModel",
      "state": {
       "description_width": ""
      }
     },
     "c8d90a1387eb48459f72d46a5515eb03": {
      "model_module": "@jupyter-widgets/base",
      "model_module_version": "1.1.0",
      "model_name": "LayoutModel",
      "state": {}
     },
     "c9081d7bf56a4ce79c1ad51b8b2cc687": {
      "model_module": "@jupyter-widgets/base",
      "model_module_version": "1.1.0",
      "model_name": "LayoutModel",
      "state": {}
     },
     "c9420e89b3af474aa849de6bad60c04a": {
      "model_module": "@jupyter-widgets/base",
      "model_module_version": "1.1.0",
      "model_name": "LayoutModel",
      "state": {
       "visibility": "hidden",
       "width": "800px"
      }
     },
     "c95f56744adb43faa8b2d765f6901180": {
      "model_module": "@jupyter-widgets/base",
      "model_module_version": "1.1.0",
      "model_name": "LayoutModel",
      "state": {}
     },
     "c9744a48d79840d482ed1ea9c7eb36a3": {
      "model_module": "@jupyter-widgets/controls",
      "model_module_version": "1.4.0",
      "model_name": "RadioButtonsModel",
      "state": {
       "_options_labels": [
        "1000",
        "2000",
        "5000",
        "10000"
       ],
       "description": "Size",
       "index": 0,
       "layout": "IPY_MODEL_e9877dd362094ca8a7632a752187213b",
       "style": "IPY_MODEL_f5617f4b3e3240a5801b1bcab861d6f9"
      }
     },
     "c98c6da384884bb492d307c2d052df99": {
      "model_module": "@jupyter-widgets/controls",
      "model_module_version": "1.4.0",
      "model_name": "HTMLModel",
      "state": {
       "layout": "IPY_MODEL_95a8fec58ff94657a2057fdf6c67be36",
       "style": "IPY_MODEL_2572833e87ca45f688d703d77d11294c",
       "value": "<strong>Dataset</strong>: digits"
      }
     },
     "c98f2b41a5a64fc58da1f004383120b7": {
      "model_module": "@jupyter-widgets/controls",
      "model_module_version": "1.4.0",
      "model_name": "SliderStyleModel",
      "state": {
       "description_width": ""
      }
     },
     "c9a0ffacbe804758910067769d47b65e": {
      "model_module": "@jupyter-widgets/base",
      "model_module_version": "1.1.0",
      "model_name": "LayoutModel",
      "state": {}
     },
     "c9d6df4a45d147b59d18cbcd79029dd3": {
      "model_module": "@jupyter-widgets/controls",
      "model_module_version": "1.4.0",
      "model_name": "DropdownModel",
      "state": {
       "_options_labels": [
        "black_bag",
        "grey_bag",
        "black_ens",
        "grey_ens",
        "None"
       ],
       "description": "Box Type",
       "index": 4,
       "layout": "IPY_MODEL_9d2f8a86288246e1bf2cb21bb0f86138",
       "style": "IPY_MODEL_c8d5b1396cb2418cbc960334e52b8ee0"
      }
     },
     "c9f3896289b3434bb3d917d744ac9b46": {
      "model_module": "@jupyter-widgets/controls",
      "model_module_version": "1.4.0",
      "model_name": "SliderStyleModel",
      "state": {
       "description_width": ""
      }
     },
     "c9fdd88cc5ae4efc9395606a6d43b759": {
      "model_module": "@jupyter-widgets/controls",
      "model_module_version": "1.4.0",
      "model_name": "DescriptionStyleModel",
      "state": {
       "description_width": ""
      }
     },
     "ca072651aa0b40b480a39ddbf0a9e960": {
      "model_module": "@jupyter-widgets/controls",
      "model_module_version": "1.4.0",
      "model_name": "DescriptionStyleModel",
      "state": {
       "description_width": ""
      }
     },
     "ca13db341c7d4a668bcf396efacf32f4": {
      "model_module": "@jupyter-widgets/controls",
      "model_module_version": "1.4.0",
      "model_name": "ButtonStyleModel",
      "state": {}
     },
     "ca242cff05604424b5cb13caecfaf6d3": {
      "model_module": "@jupyter-widgets/base",
      "model_module_version": "1.1.0",
      "model_name": "LayoutModel",
      "state": {
       "width": "900px"
      }
     },
     "ca6135329adf4b919cf9d4126c1db052": {
      "model_module": "@jupyter-widgets/controls",
      "model_module_version": "1.4.0",
      "model_name": "SliderStyleModel",
      "state": {
       "description_width": ""
      }
     },
     "ca83f3636811439ea259145d10ff27f7": {
      "model_module": "@jupyter-widgets/controls",
      "model_module_version": "1.4.0",
      "model_name": "SliderStyleModel",
      "state": {
       "description_width": "initial"
      }
     },
     "cabfe25357b44a8287e457bb06fdf54e": {
      "model_module": "@jupyter-widgets/controls",
      "model_module_version": "1.4.0",
      "model_name": "SliderStyleModel",
      "state": {
       "description_width": ""
      }
     },
     "cacc89708c40479981976b999fda4abe": {
      "model_module": "@jupyter-widgets/controls",
      "model_module_version": "1.4.0",
      "model_name": "DescriptionStyleModel",
      "state": {
       "description_width": ""
      }
     },
     "cadf3fdfc8704dd8b0d3447b92883b3a": {
      "model_module": "@jupyter-widgets/base",
      "model_module_version": "1.1.0",
      "model_name": "LayoutModel",
      "state": {}
     },
     "cae33aaced35471293d699e57b588eec": {
      "model_module": "@jupyter-widgets/controls",
      "model_module_version": "1.4.0",
      "model_name": "ButtonStyleModel",
      "state": {}
     },
     "caef700f1bc0455caecbd9f5c57bb70c": {
      "model_module": "@jupyter-widgets/base",
      "model_module_version": "1.1.0",
      "model_name": "LayoutModel",
      "state": {
       "display": "flex",
       "visibility": "visible",
       "width": "800px"
      }
     },
     "caf4396cb1dd4c0fa245deca5305d5b1": {
      "model_module": "@jupyter-widgets/base",
      "model_module_version": "1.1.0",
      "model_name": "LayoutModel",
      "state": {}
     },
     "caffed75a6df41fcb9d76c428928e81b": {
      "model_module": "@jupyter-widgets/controls",
      "model_module_version": "1.4.0",
      "model_name": "IntSliderModel",
      "state": {
       "description": "C",
       "layout": "IPY_MODEL_e28e8bf0b4734f3cbd2c34fd27589bbb",
       "max": 10,
       "min": 1,
       "style": "IPY_MODEL_1c09fd8b8c864f7dbd33a40314a47cc4",
       "value": 5
      }
     },
     "cb2a8f5aac2643a0b098f3b3a7191cde": {
      "model_module": "@jupyter-widgets/controls",
      "model_module_version": "1.4.0",
      "model_name": "VBoxModel",
      "state": {
       "children": [
        "IPY_MODEL_11c4c83a7da54793a8bf4df8d03b72b0"
       ],
       "layout": "IPY_MODEL_5b4ddb00ec6a44849261770def3163c0"
      }
     },
     "cb9258c21e12452c93d96aafa0967eb6": {
      "model_module": "@jupyter-widgets/base",
      "model_module_version": "1.1.0",
      "model_name": "LayoutModel",
      "state": {
       "display": "none",
       "visibility": "hidden",
       "width": "800px"
      }
     },
     "cb9c60329de447858453444fb8d20b93": {
      "model_module": "@jupyter-widgets/controls",
      "model_module_version": "1.4.0",
      "model_name": "DropdownModel",
      "state": {
       "_options_labels": [
        "None",
        "rbf",
        "nystroem"
       ],
       "description": "Sampler",
       "index": 0,
       "layout": "IPY_MODEL_8a1a76adfeb34f299199d049f3b02c86",
       "style": "IPY_MODEL_6ed63aa5f597409d90b39e4b17d7e40f"
      }
     },
     "cbda0ed43a734acea62a3c0ebf88ca90": {
      "model_module": "@jupyter-widgets/base",
      "model_module_version": "1.1.0",
      "model_name": "LayoutModel",
      "state": {
       "display": "flex",
       "visibility": "visible",
       "width": "800px"
      }
     },
     "cbfe7298a4aa4811bceaba56dc4ca076": {
      "model_module": "@jupyter-widgets/controls",
      "model_module_version": "1.4.0",
      "model_name": "SliderStyleModel",
      "state": {
       "description_width": ""
      }
     },
     "cc06a179e8b04656a2784b86bb845f7b": {
      "model_module": "@jupyter-widgets/controls",
      "model_module_version": "1.4.0",
      "model_name": "FloatLogSliderModel",
      "state": {
       "description": "Gamma",
       "layout": "IPY_MODEL_1286c6d3cbcd4b32b0590241a3386707",
       "max": 2,
       "min": -4,
       "step": 1,
       "style": "IPY_MODEL_ba7d8430ba1143088e892b10ce7a9a94",
       "value": 0.0001
      }
     },
     "cc0c7249bebc49e999b071b6a355cbc8": {
      "model_module": "@jupyter-widgets/base",
      "model_module_version": "1.1.0",
      "model_name": "LayoutModel",
      "state": {}
     },
     "cc3b624190f44df28b88c36b2c55e3ee": {
      "model_module": "@jupyter-widgets/controls",
      "model_module_version": "1.4.0",
      "model_name": "DropdownModel",
      "state": {
       "_options_labels": [
        "dt",
        "logit",
        "linear_svc",
        "rbf_svc"
       ],
       "description": "Model",
       "index": 0,
       "layout": "IPY_MODEL_5843dbd92254421a800fa4b7bdcffc94",
       "style": "IPY_MODEL_dc697aac32914da7bb5c4c25e62ae9b0"
      }
     },
     "cc787264fc764397bb66348e4db2faee": {
      "model_module": "@jupyter-widgets/controls",
      "model_module_version": "1.4.0",
      "model_name": "ButtonStyleModel",
      "state": {}
     },
     "ccbcdeb9c2f746618fb2f2a23b93d47e": {
      "model_module": "@jupyter-widgets/base",
      "model_module_version": "1.1.0",
      "model_name": "LayoutModel",
      "state": {}
     },
     "ccc66cd459aa4ec483ac03306e7a940f": {
      "model_module": "@jupyter-widgets/controls",
      "model_module_version": "1.4.0",
      "model_name": "DescriptionStyleModel",
      "state": {
       "description_width": ""
      }
     },
     "cd2b1014dc224ba88d55604f57932199": {
      "model_module": "@jupyter-widgets/base",
      "model_module_version": "1.1.0",
      "model_name": "LayoutModel",
      "state": {}
     },
     "cd61e99a00914fa98d7a8b7bb406a71c": {
      "model_module": "@jupyter-widgets/controls",
      "model_module_version": "1.4.0",
      "model_name": "IntRangeSliderModel",
      "state": {
       "_model_name": "IntRangeSliderModel",
       "_view_name": "IntRangeSliderView",
       "layout": "IPY_MODEL_869e821c0a054176a928eea7cf5a899e",
       "max": 1000,
       "min": 30,
       "step": 10,
       "style": "IPY_MODEL_1bea0712e07841e985390546661ecdf7",
       "value": [
        30,
        100
       ]
      }
     },
     "cdaad872d7e84a4488ffb9915346286b": {
      "model_module": "@jupyter-widgets/base",
      "model_module_version": "1.1.0",
      "model_name": "LayoutModel",
      "state": {}
     },
     "ce4b781a5ae945ae8e6ce91dbf4e5213": {
      "model_module": "@jupyter-widgets/controls",
      "model_module_version": "1.4.0",
      "model_name": "HBoxModel",
      "state": {
       "children": [
        "IPY_MODEL_3aeb6f8f865a4bc59392739c841ed82f",
        "IPY_MODEL_f8a009b949bb414a8591da4c3affaa05"
       ],
       "layout": "IPY_MODEL_a19c64f5bba3447595dcfc4da586ece6"
      }
     },
     "ced55234604e4b32b15c74badd3e38c0": {
      "model_module": "@jupyter-widgets/controls",
      "model_module_version": "1.4.0",
      "model_name": "SliderStyleModel",
      "state": {
       "description_width": ""
      }
     },
     "cf19e60c6eca4bb6b2dafda270d0894c": {
      "model_module": "@jupyter-widgets/controls",
      "model_module_version": "1.4.0",
      "model_name": "VBoxModel",
      "state": {
       "children": [
        "IPY_MODEL_8460e28e51e140b09fdf6525b6fe04fb"
       ],
       "layout": "IPY_MODEL_d70ece9f07fb4dd8b7e7936c273108f2"
      }
     },
     "cf6320108e754067a77448d0e4ceeab5": {
      "model_module": "@jupyter-widgets/controls",
      "model_module_version": "1.4.0",
      "model_name": "SliderStyleModel",
      "state": {
       "description_width": ""
      }
     },
     "cff9fb4cffa94afc8718a66ac9d587d4": {
      "model_module": "@jupyter-widgets/controls",
      "model_module_version": "1.4.0",
      "model_name": "RadioButtonsModel",
      "state": {
       "_options_labels": [
        "1000",
        "2000",
        "5000",
        "10000"
       ],
       "description": "Size",
       "index": 0,
       "layout": "IPY_MODEL_f69115b92eb14493b24b6402c11d2ecc",
       "style": "IPY_MODEL_d29012eaa3544444b26a8674c50b4864"
      }
     },
     "d00a0996f5ba4ed5b9085e0f56c8c9e1": {
      "model_module": "@jupyter-widgets/base",
      "model_module_version": "1.1.0",
      "model_name": "LayoutModel",
      "state": {
       "display": "flex",
       "visibility": "visible",
       "width": "800px"
      }
     },
     "d05eb37c65a34b03ade55b4cb3b6b60a": {
      "model_module": "@jupyter-widgets/controls",
      "model_module_version": "1.4.0",
      "model_name": "ButtonModel",
      "state": {
       "button_style": "warning",
       "description": "Remove model",
       "layout": "IPY_MODEL_c6b9822a9a584bb3b65d41a5f92d43c9",
       "style": "IPY_MODEL_865a07b0362546b19044c9b75541233b"
      }
     },
     "d05eba858e934ae4bc2f01b16824b1ad": {
      "model_module": "@jupyter-widgets/controls",
      "model_module_version": "1.4.0",
      "model_name": "DropdownModel",
      "state": {
       "_options_labels": [
        "black_bag",
        "grey_bag",
        "black_ens",
        "grey_ens",
        "None"
       ],
       "description": "Box Type",
       "index": 4,
       "layout": "IPY_MODEL_c8065b6a320b49a08484129444173bdd",
       "style": "IPY_MODEL_14711124649b4e14aa6c29a8efa36f19"
      }
     },
     "d09b79e41a614718b150c72db213bbd0": {
      "model_module": "@jupyter-widgets/controls",
      "model_module_version": "1.4.0",
      "model_name": "DescriptionStyleModel",
      "state": {
       "description_width": ""
      }
     },
     "d09bd50d20c44539b3ba5ba48240fdab": {
      "model_module": "@jupyter-widgets/base",
      "model_module_version": "1.1.0",
      "model_name": "LayoutModel",
      "state": {}
     },
     "d0a15282de144af2852d428309b1ea4a": {
      "model_module": "@jupyter-widgets/controls",
      "model_module_version": "1.4.0",
      "model_name": "SliderStyleModel",
      "state": {
       "description_width": ""
      }
     },
     "d0ba83ddc48642d4828df0ad43b46639": {
      "model_module": "@jupyter-widgets/controls",
      "model_module_version": "1.4.0",
      "model_name": "SliderStyleModel",
      "state": {
       "description_width": ""
      }
     },
     "d0d56ec0208e420583466cc97248e4b2": {
      "model_module": "@jupyter-widgets/controls",
      "model_module_version": "1.4.0",
      "model_name": "ButtonStyleModel",
      "state": {}
     },
     "d0d6a5f8aa8243b18063de8112858dce": {
      "model_module": "@jupyter-widgets/base",
      "model_module_version": "1.1.0",
      "model_name": "LayoutModel",
      "state": {}
     },
     "d0f35b03c36e4dd3a883375832feab41": {
      "model_module": "@jupyter-widgets/controls",
      "model_module_version": "1.4.0",
      "model_name": "HBoxModel",
      "state": {
       "children": [
        "IPY_MODEL_d40a36eff44c41528d3579312d2367ed",
        "IPY_MODEL_ea77b7acbbc24b95834498cb0c172a2b"
       ],
       "layout": "IPY_MODEL_94109ac5841c4ebe8277d99c1bc76995"
      }
     },
     "d100eb162cfa470daf72df95915c538e": {
      "model_module": "@jupyter-widgets/output",
      "model_module_version": "1.0.0",
      "model_name": "OutputModel",
      "state": {
       "layout": "IPY_MODEL_0c53d4ee224d4881a93411f81d3e942d"
      }
     },
     "d137645ef69248bbb29ee53b969162db": {
      "model_module": "@jupyter-widgets/controls",
      "model_module_version": "1.4.0",
      "model_name": "RadioButtonsModel",
      "state": {
       "_options_labels": [
        "1000",
        "2000",
        "5000",
        "10000"
       ],
       "description": "Size",
       "index": 0,
       "layout": "IPY_MODEL_841c171885934e74833ee5aa6bcdcd1e",
       "style": "IPY_MODEL_4c44be8653304bdc9ba7c5be767c6390"
      }
     },
     "d1390d8afc0647f7a4e6f93b41e3291c": {
      "model_module": "@jupyter-widgets/base",
      "model_module_version": "1.1.0",
      "model_name": "LayoutModel",
      "state": {
       "visibility": "hidden",
       "width": "800px"
      }
     },
     "d17580e45b6946b4aa7001033a6b0c8c": {
      "model_module": "@jupyter-widgets/base",
      "model_module_version": "1.1.0",
      "model_name": "LayoutModel",
      "state": {}
     },
     "d2010e46d95445cda08acc28c4f3a459": {
      "model_module": "@jupyter-widgets/base",
      "model_module_version": "1.1.0",
      "model_name": "LayoutModel",
      "state": {}
     },
     "d2210d6504ff4290ba15f64ee45602de": {
      "model_module": "@jupyter-widgets/controls",
      "model_module_version": "1.4.0",
      "model_name": "AccordionModel",
      "state": {
       "_titles": {
        "0": "Info run"
       },
       "children": [
        "IPY_MODEL_d0f35b03c36e4dd3a883375832feab41"
       ],
       "layout": "IPY_MODEL_2fa9634f753a41e4b9d7ff46f5e66860"
      }
     },
     "d223d9cb64164d768971dfe3c2e04dae": {
      "model_module": "@jupyter-widgets/controls",
      "model_module_version": "1.4.0",
      "model_name": "DescriptionStyleModel",
      "state": {
       "description_width": ""
      }
     },
     "d23c7531e4ec48b0a93721e9313fdb68": {
      "model_module": "@jupyter-widgets/base",
      "model_module_version": "1.1.0",
      "model_name": "LayoutModel",
      "state": {}
     },
     "d2681612e802434795ed9a4c7a518d8f": {
      "model_module": "@jupyter-widgets/base",
      "model_module_version": "1.1.0",
      "model_name": "LayoutModel",
      "state": {}
     },
     "d29012eaa3544444b26a8674c50b4864": {
      "model_module": "@jupyter-widgets/controls",
      "model_module_version": "1.4.0",
      "model_name": "DescriptionStyleModel",
      "state": {
       "description_width": ""
      }
     },
     "d2a43024f8154347895ed215fc9c3b60": {
      "model_module": "@jupyter-widgets/controls",
      "model_module_version": "1.4.0",
      "model_name": "TabModel",
      "state": {
       "_titles": {
        "0": "dt"
       },
       "children": [
        "IPY_MODEL_92107c32909a4b8aaa097566d46ed676"
       ],
       "layout": "IPY_MODEL_2db140d1c22d4a1cbecc2b059cabfd02"
      }
     },
     "d2c5f3f9b421459fad7d46902b772c34": {
      "model_module": "@jupyter-widgets/base",
      "model_module_version": "1.1.0",
      "model_name": "LayoutModel",
      "state": {
       "margin": "0px 20px 0px 0px"
      }
     },
     "d2f87f80236345b7a91dd2e4a540ed17": {
      "model_module": "@jupyter-widgets/output",
      "model_module_version": "1.0.0",
      "model_name": "OutputModel",
      "state": {
       "layout": "IPY_MODEL_6e3587cd91bf4f3fb7eb59f5e68aca11"
      }
     },
     "d3083e29c21e4c2cb2f74f1eace6a109": {
      "model_module": "@jupyter-widgets/controls",
      "model_module_version": "1.4.0",
      "model_name": "ButtonModel",
      "state": {
       "button_style": "warning",
       "description": "Remove model",
       "layout": "IPY_MODEL_a1e887997a5149cea8f5783501bb8aac",
       "style": "IPY_MODEL_3a70ed10f0b4451fa95f5b705efa5077"
      }
     },
     "d3101ac94665486abd343c26201363f8": {
      "model_module": "@jupyter-widgets/base",
      "model_module_version": "1.1.0",
      "model_name": "LayoutModel",
      "state": {
       "width": "900px"
      }
     },
     "d39427dba15e413887e1a13855f5f4eb": {
      "model_module": "@jupyter-widgets/controls",
      "model_module_version": "1.4.0",
      "model_name": "VBoxModel",
      "state": {
       "children": [
        "IPY_MODEL_810f8b5634e14c46b7788903815a90a8"
       ],
       "layout": "IPY_MODEL_b0686e4ddb3045dbb8991fe6361127a9"
      }
     },
     "d3a60be61048432bb6945fd104431438": {
      "model_module": "@jupyter-widgets/controls",
      "model_module_version": "1.4.0",
      "model_name": "IntSliderModel",
      "state": {
       "description": "N. estim.",
       "layout": "IPY_MODEL_fe7730a9f2dc4f5fb388025252436f87",
       "max": 200,
       "min": 2,
       "style": "IPY_MODEL_c2a53efc32134c2884c67f5ca90d5249",
       "value": 30
      }
     },
     "d3fbf5abd52948ed8304586e16f1604b": {
      "model_module": "@jupyter-widgets/base",
      "model_module_version": "1.1.0",
      "model_name": "LayoutModel",
      "state": {}
     },
     "d40a36eff44c41528d3579312d2367ed": {
      "model_module": "@jupyter-widgets/controls",
      "model_module_version": "1.4.0",
      "model_name": "VBoxModel",
      "state": {
       "children": [
        "IPY_MODEL_c98c6da384884bb492d307c2d052df99"
       ],
       "layout": "IPY_MODEL_f4eff4c0eb4048628bd1c0bd321789e7"
      }
     },
     "d42fc88209d2498681cc1109340fe050": {
      "model_module": "@jupyter-widgets/base",
      "model_module_version": "1.1.0",
      "model_name": "LayoutModel",
      "state": {}
     },
     "d43d98219e91415f9e45a48a9cb19956": {
      "model_module": "@jupyter-widgets/base",
      "model_module_version": "1.1.0",
      "model_name": "LayoutModel",
      "state": {}
     },
     "d44f9228ff2848f6963290e0280ad3ad": {
      "model_module": "@jupyter-widgets/controls",
      "model_module_version": "1.4.0",
      "model_name": "ButtonStyleModel",
      "state": {}
     },
     "d47438d62e6a4a25a6f7e58298b0de43": {
      "model_module": "@jupyter-widgets/base",
      "model_module_version": "1.1.0",
      "model_name": "LayoutModel",
      "state": {
       "margin": "0px 20px 0px 0px"
      }
     },
     "d4888fed9ab64e8bbbffd906ef145381": {
      "model_module": "@jupyter-widgets/base",
      "model_module_version": "1.1.0",
      "model_name": "LayoutModel",
      "state": {}
     },
     "d4924514e90f4b0cb21974cded3362a0": {
      "model_module": "@jupyter-widgets/controls",
      "model_module_version": "1.4.0",
      "model_name": "SliderStyleModel",
      "state": {
       "description_width": "initial"
      }
     },
     "d4a6c28ec538416e995e3dbf9cd2d62c": {
      "model_module": "@jupyter-widgets/controls",
      "model_module_version": "1.4.0",
      "model_name": "SliderStyleModel",
      "state": {
       "description_width": "initial"
      }
     },
     "d4ba5c203cb84ac5aa3e2d7c80e027f4": {
      "model_module": "@jupyter-widgets/base",
      "model_module_version": "1.1.0",
      "model_name": "LayoutModel",
      "state": {}
     },
     "d4c6acd3cca845f2804ffc86308373e3": {
      "model_module": "@jupyter-widgets/controls",
      "model_module_version": "1.4.0",
      "model_name": "IntSliderModel",
      "state": {
       "description": "N. estim.",
       "layout": "IPY_MODEL_4574a78ff6314767b2b42617047fc0f5",
       "max": 200,
       "min": 2,
       "style": "IPY_MODEL_9b6a25518b7e49788b160934e5dd7903",
       "value": 30
      }
     },
     "d4cea96c2fd94b3f9f22d6aaedcfff46": {
      "model_module": "@jupyter-widgets/controls",
      "model_module_version": "1.4.0",
      "model_name": "DropdownModel",
      "state": {
       "_options_labels": [
        "None",
        "rbf",
        "nystroem"
       ],
       "description": "Sampler",
       "index": 0,
       "layout": "IPY_MODEL_bbec169d2858438a88bca3fea3bcf9d8",
       "style": "IPY_MODEL_9d10b034a74a40ae8ab9f8d8992805f1"
      }
     },
     "d51209aacd2440029d4d716f7f201893": {
      "model_module": "@jupyter-widgets/controls",
      "model_module_version": "1.4.0",
      "model_name": "ButtonModel",
      "state": {
       "button_style": "info",
       "description": "Add model",
       "layout": "IPY_MODEL_d23c7531e4ec48b0a93721e9313fdb68",
       "style": "IPY_MODEL_da5aa26e60404e0da1b673992250a65d"
      }
     },
     "d53d64693a6d4ac6a8873dc2b26a3ebf": {
      "model_module": "@jupyter-widgets/base",
      "model_module_version": "1.1.0",
      "model_name": "LayoutModel",
      "state": {
       "width": "900px"
      }
     },
     "d586eb1f43ef4f38a02e9f369ef9c7b4": {
      "model_module": "@jupyter-widgets/base",
      "model_module_version": "1.1.0",
      "model_name": "LayoutModel",
      "state": {}
     },
     "d5b8f647da734becbbce9123f3f2aa89": {
      "model_module": "@jupyter-widgets/controls",
      "model_module_version": "1.4.0",
      "model_name": "ButtonStyleModel",
      "state": {}
     },
     "d5cecaf5345e4334b31b294115444c67": {
      "model_module": "@jupyter-widgets/base",
      "model_module_version": "1.1.0",
      "model_name": "LayoutModel",
      "state": {
       "display": "flex",
       "visibility": "visible",
       "width": "800px"
      }
     },
     "d5ddb66ae62544a4bcc864dcb9c34e40": {
      "model_module": "@jupyter-widgets/controls",
      "model_module_version": "1.4.0",
      "model_name": "ButtonModel",
      "state": {
       "button_style": "info",
       "description": "Demo10",
       "layout": "IPY_MODEL_12b167d4349f46fe9b1f47940d20e103",
       "style": "IPY_MODEL_34959b6d1b4c4a51a4b4d3ed17a2d9a5"
      }
     },
     "d5e27fcc4cf64909874992a86839cd4b": {
      "model_module": "@jupyter-widgets/controls",
      "model_module_version": "1.4.0",
      "model_name": "DropdownModel",
      "state": {
       "_options_labels": [
        "dt",
        "logit",
        "linear_svc",
        "rbf_svc"
       ],
       "description": "Model",
       "index": 0,
       "layout": "IPY_MODEL_4785c90c9df94bea882a64720ea3221d",
       "style": "IPY_MODEL_b64978ce0e284e9a829eccf6c91dbdf4"
      }
     },
     "d6609a646c70402ea692bfa239c0135d": {
      "model_module": "@jupyter-widgets/base",
      "model_module_version": "1.1.0",
      "model_name": "LayoutModel",
      "state": {
       "display": "flex",
       "visibility": "visible",
       "width": "800px"
      }
     },
     "d6d2e79166f74a3bb23992cdad0cbb0e": {
      "model_module": "@jupyter-widgets/base",
      "model_module_version": "1.1.0",
      "model_name": "LayoutModel",
      "state": {}
     },
     "d70a8ecedddc4924bd5e319f51d7a627": {
      "model_module": "@jupyter-widgets/controls",
      "model_module_version": "1.4.0",
      "model_name": "VBoxModel",
      "state": {
       "children": [
        "IPY_MODEL_8d52a6378326464fb864b74174363f72",
        "IPY_MODEL_57a4bd675b0843bc902c583d7ef153ac",
        "IPY_MODEL_8da5e4ca96af4b019226c75fafd34933",
        "IPY_MODEL_25cf099c3399444d898ca27aea1bef8d",
        "IPY_MODEL_2403b746ecbf4b109c0892923ef5e53e",
        "IPY_MODEL_ab027c5ec06f493aae9b3d5bea4586cf",
        "IPY_MODEL_bf8d4108af2b45d896b661c1beec39c7"
       ],
       "layout": "IPY_MODEL_78a85d20078e443ea4ff6411116372fc"
      }
     },
     "d70ece9f07fb4dd8b7e7936c273108f2": {
      "model_module": "@jupyter-widgets/base",
      "model_module_version": "1.1.0",
      "model_name": "LayoutModel",
      "state": {
       "margin": "0px 20px 0px 0px"
      }
     },
     "d73fb540e9ca4948aef03011efa9c1f0": {
      "model_module": "@jupyter-widgets/controls",
      "model_module_version": "1.4.0",
      "model_name": "AccordionModel",
      "state": {
       "_titles": {
        "0": "Info run"
       },
       "children": [
        "IPY_MODEL_744b42ff97f5470bb77244cc6492bb3e"
       ],
       "layout": "IPY_MODEL_66928613387e4cd099c4e69df2648907"
      }
     },
     "d770a3881966408b8561e8783a2ce9fe": {
      "model_module": "@jupyter-widgets/controls",
      "model_module_version": "1.4.0",
      "model_name": "DescriptionStyleModel",
      "state": {
       "description_width": ""
      }
     },
     "d7c3dfc1f20942eab51498d73462dd46": {
      "model_module": "@jupyter-widgets/base",
      "model_module_version": "1.1.0",
      "model_name": "LayoutModel",
      "state": {
       "width": "900px"
      }
     },
     "d7c91a9a4d1e496f9a13139d0945ffb0": {
      "model_module": "@jupyter-widgets/base",
      "model_module_version": "1.1.0",
      "model_name": "LayoutModel",
      "state": {}
     },
     "d7d5ad79034e459e8a56305b7803df12": {
      "model_module": "@jupyter-widgets/controls",
      "model_module_version": "1.4.0",
      "model_name": "DropdownModel",
      "state": {
       "_options_labels": [
        "dt",
        "logit",
        "linear_svc",
        "rbf_svc"
       ],
       "description": "Model",
       "index": 0,
       "layout": "IPY_MODEL_b760a1751aaf43688371fcacab9fb64a",
       "style": "IPY_MODEL_02a24fe69b644e5e84c2a4bca5074b4c"
      }
     },
     "d7e85ffbed624d6aa32f35f09ebb8e9b": {
      "model_module": "@jupyter-widgets/base",
      "model_module_version": "1.1.0",
      "model_name": "LayoutModel",
      "state": {}
     },
     "d7ff1875842c48bca7aad52b5723223f": {
      "model_module": "@jupyter-widgets/base",
      "model_module_version": "1.1.0",
      "model_name": "LayoutModel",
      "state": {
       "display": "none",
       "visibility": "hidden",
       "width": "800px"
      }
     },
     "d844d9c7aee84a45817ac4902dac782c": {
      "model_module": "@jupyter-widgets/base",
      "model_module_version": "1.1.0",
      "model_name": "LayoutModel",
      "state": {}
     },
     "d858d3dc2b744f8d8079f8ff2bccf459": {
      "model_module": "@jupyter-widgets/controls",
      "model_module_version": "1.4.0",
      "model_name": "DescriptionStyleModel",
      "state": {
       "description_width": ""
      }
     },
     "d884f9e6fa944ff5a9e88df65f27cac3": {
      "model_module": "@jupyter-widgets/controls",
      "model_module_version": "1.4.0",
      "model_name": "ButtonStyleModel",
      "state": {}
     },
     "d9123a9537714882bb78da3dd79e02fb": {
      "model_module": "@jupyter-widgets/base",
      "model_module_version": "1.1.0",
      "model_name": "LayoutModel",
      "state": {}
     },
     "d94d4f0622dd4158abdb12dd0e43fbcf": {
      "model_module": "@jupyter-widgets/base",
      "model_module_version": "1.1.0",
      "model_name": "LayoutModel",
      "state": {
       "display": "none",
       "visibility": "hidden",
       "width": "800px"
      }
     },
     "d95a80bd889142d9a86ba394624d73a3": {
      "model_module": "@jupyter-widgets/base",
      "model_module_version": "1.1.0",
      "model_name": "LayoutModel",
      "state": {}
     },
     "d9840c073d404f58a67cf011777c0a41": {
      "model_module": "@jupyter-widgets/base",
      "model_module_version": "1.1.0",
      "model_name": "LayoutModel",
      "state": {}
     },
     "d9cf4fd8715f48c0a99a3ce8cb30b802": {
      "model_module": "@jupyter-widgets/controls",
      "model_module_version": "1.4.0",
      "model_name": "DescriptionStyleModel",
      "state": {
       "description_width": ""
      }
     },
     "d9e181acf1f443f5817001aee415e138": {
      "model_module": "@jupyter-widgets/controls",
      "model_module_version": "1.4.0",
      "model_name": "ButtonModel",
      "state": {
       "button_style": "warning",
       "description": "Remove model",
       "layout": "IPY_MODEL_c34a926bd3c84b648691452afefc7af5",
       "style": "IPY_MODEL_d0d56ec0208e420583466cc97248e4b2"
      }
     },
     "da2e15cd5c3c47148cdf8dda4a29039d": {
      "model_module": "@jupyter-widgets/base",
      "model_module_version": "1.1.0",
      "model_name": "LayoutModel",
      "state": {
       "display": "none",
       "visibility": "hidden",
       "width": "800px"
      }
     },
     "da5aa26e60404e0da1b673992250a65d": {
      "model_module": "@jupyter-widgets/controls",
      "model_module_version": "1.4.0",
      "model_name": "ButtonStyleModel",
      "state": {}
     },
     "dab631bfc31f453bbad8e788c6781ed3": {
      "model_module": "@jupyter-widgets/controls",
      "model_module_version": "1.4.0",
      "model_name": "TabModel",
      "state": {
       "_titles": {
        "0": "dt"
       },
       "children": [
        "IPY_MODEL_60475f1f020b44178cf0bf3cf9946ee7"
       ],
       "layout": "IPY_MODEL_5218d40956d64a72866a38f02bdbb7dc"
      }
     },
     "dabc2c4feccd49cc81ef555e1d9227a4": {
      "model_module": "@jupyter-widgets/controls",
      "model_module_version": "1.4.0",
      "model_name": "FloatLogSliderModel",
      "state": {
       "description": "Gamma",
       "layout": "IPY_MODEL_192053d610574094a7f0ceb828cba410",
       "max": 2,
       "min": -4,
       "step": 1,
       "style": "IPY_MODEL_60e9c620fa1a434fb63daf0dd6f9868d",
       "value": 0.0001
      }
     },
     "dad26633993546708aa6b2c235fb407e": {
      "model_module": "@jupyter-widgets/controls",
      "model_module_version": "1.4.0",
      "model_name": "IntRangeSliderModel",
      "state": {
       "_model_name": "IntRangeSliderModel",
       "_view_name": "IntRangeSliderView",
       "layout": "IPY_MODEL_8f896792c03c4b9d9dc4d3edf7af4f6d",
       "max": 1000,
       "min": 30,
       "step": 10,
       "style": "IPY_MODEL_314b2bc6f2e24d8da59e3819e1253f78",
       "value": [
        30,
        100
       ]
      }
     },
     "dae4636f2da64caea2f33cbe40ac6f68": {
      "model_module": "@jupyter-widgets/base",
      "model_module_version": "1.1.0",
      "model_name": "LayoutModel",
      "state": {
       "visibility": "hidden",
       "width": "800px"
      }
     },
     "daeb0a74b58d4188abab0ab83fe2018c": {
      "model_module": "@jupyter-widgets/controls",
      "model_module_version": "1.4.0",
      "model_name": "VBoxModel",
      "state": {
       "children": [
        "IPY_MODEL_9a59b0b251664a67bd69f392c42c67c4",
        "IPY_MODEL_50b1d51b60834283887e3c1f2e4480ed",
        "IPY_MODEL_a4d22137516f4d1198828d8beba4cb38",
        "IPY_MODEL_56a261d7f20245548586a687a1b522f4",
        "IPY_MODEL_35cc5b94f43c447eb576c7415d8dc9d4",
        "IPY_MODEL_327a41922b8e4f4493589c7fce7ab3e1",
        "IPY_MODEL_e9b5e93b7459430aa3579fe965a2a878",
        "IPY_MODEL_bd93e928967a451a8a06890cef400cfb"
       ],
       "layout": "IPY_MODEL_980463f72bdd4d86a39beb4cbe12eadf"
      }
     },
     "db0598a0a05a4d32b1ebda727abe8416": {
      "model_module": "@jupyter-widgets/controls",
      "model_module_version": "1.4.0",
      "model_name": "IntSliderModel",
      "state": {
       "description": "N. estim.",
       "layout": "IPY_MODEL_dae4636f2da64caea2f33cbe40ac6f68",
       "max": 200,
       "min": 2,
       "style": "IPY_MODEL_bf4dec6da3864d2eae3612ba59f97bee",
       "value": 30
      }
     },
     "db0fca0bf01d452d9e6c6cc1f7d1217f": {
      "model_module": "@jupyter-widgets/controls",
      "model_module_version": "1.4.0",
      "model_name": "FloatLogSliderModel",
      "state": {
       "description": "Gamma",
       "layout": "IPY_MODEL_5192aa7739494d918db4f2611fa42363",
       "max": 2,
       "min": -4,
       "step": 1,
       "style": "IPY_MODEL_bf34fb1761b74fe9afc586e52921aa93",
       "value": 0.0001
      }
     },
     "db2cc3b216a74a57b5a7ac58951ff801": {
      "model_module": "@jupyter-widgets/controls",
      "model_module_version": "1.4.0",
      "model_name": "ButtonModel",
      "state": {
       "button_style": "warning",
       "description": "Remove model",
       "layout": "IPY_MODEL_1347a1081e22407d86b697211980001b",
       "style": "IPY_MODEL_fcebcee5eb854a9fa1d2367e1fc109c8"
      }
     },
     "db41244eb771419db177d0534598ec8f": {
      "model_module": "@jupyter-widgets/controls",
      "model_module_version": "1.4.0",
      "model_name": "SliderStyleModel",
      "state": {
       "description_width": "initial"
      }
     },
     "db61034b987543988f804f020e7a5435": {
      "model_module": "@jupyter-widgets/output",
      "model_module_version": "1.0.0",
      "model_name": "OutputModel",
      "state": {
       "layout": "IPY_MODEL_a4807f8b0ee541d9babc300f1821c9ae"
      }
     },
     "db977a9924024bc199f7bb06dcd5f5ff": {
      "model_module": "@jupyter-widgets/controls",
      "model_module_version": "1.4.0",
      "model_name": "DescriptionStyleModel",
      "state": {
       "description_width": ""
      }
     },
     "db98e1309f434cceb900a06d93569d8c": {
      "model_module": "@jupyter-widgets/base",
      "model_module_version": "1.1.0",
      "model_name": "LayoutModel",
      "state": {}
     },
     "dbde7e3497b1406eba40b744494efd26": {
      "model_module": "@jupyter-widgets/base",
      "model_module_version": "1.1.0",
      "model_name": "LayoutModel",
      "state": {}
     },
     "dbeca191a67a4b12aed49a28b3272c0d": {
      "model_module": "@jupyter-widgets/controls",
      "model_module_version": "1.4.0",
      "model_name": "IntRangeSliderModel",
      "state": {
       "_model_name": "IntRangeSliderModel",
       "_view_name": "IntRangeSliderView",
       "layout": "IPY_MODEL_f4f6ee8330d447958433f272c4ba0d77",
       "max": 1000,
       "min": 30,
       "step": 10,
       "style": "IPY_MODEL_e988a139e03949ea98cd9be2cf571c25",
       "value": [
        30,
        100
       ]
      }
     },
     "dbf5cb2da4654f1d8f73bfc43ee820d2": {
      "model_module": "@jupyter-widgets/controls",
      "model_module_version": "1.4.0",
      "model_name": "DescriptionStyleModel",
      "state": {
       "description_width": ""
      }
     },
     "dc00965313ca48a58536f84e1f428c6a": {
      "model_module": "@jupyter-widgets/controls",
      "model_module_version": "1.4.0",
      "model_name": "DropdownModel",
      "state": {
       "_options_labels": [
        "None",
        "rbf",
        "nystroem"
       ],
       "description": "Sampler",
       "index": 0,
       "layout": "IPY_MODEL_5609831eacb445cc96c591ec5dedd94d",
       "style": "IPY_MODEL_aea317094e044d0686350b322b0cd73b"
      }
     },
     "dc48d3d53b644b3e9167f10d3db256e6": {
      "model_module": "@jupyter-widgets/controls",
      "model_module_version": "1.4.0",
      "model_name": "IntRangeSliderModel",
      "state": {
       "_model_name": "IntRangeSliderModel",
       "_view_name": "IntRangeSliderView",
       "layout": "IPY_MODEL_5efbb26a804249f092cbf80a39f4c471",
       "max": 1000,
       "min": 30,
       "step": 10,
       "style": "IPY_MODEL_362a5cdfec0e4a6ab533b3be4757a86b",
       "value": [
        30,
        100
       ]
      }
     },
     "dc52acef69ec46178f5c7f2f39693eaf": {
      "model_module": "@jupyter-widgets/controls",
      "model_module_version": "1.4.0",
      "model_name": "SliderStyleModel",
      "state": {
       "description_width": ""
      }
     },
     "dc67fc1bc724488a9aa9fb1fd4a1839e": {
      "model_module": "@jupyter-widgets/controls",
      "model_module_version": "1.4.0",
      "model_name": "SliderStyleModel",
      "state": {
       "description_width": ""
      }
     },
     "dc697aac32914da7bb5c4c25e62ae9b0": {
      "model_module": "@jupyter-widgets/controls",
      "model_module_version": "1.4.0",
      "model_name": "DescriptionStyleModel",
      "state": {
       "description_width": ""
      }
     },
     "dc6ffb3b4cc54d2498d7ba0ba7f0d035": {
      "model_module": "@jupyter-widgets/base",
      "model_module_version": "1.1.0",
      "model_name": "LayoutModel",
      "state": {
       "visibility": "hidden",
       "width": "800px"
      }
     },
     "dcc34ec2a81e42458885fe351aba5f9c": {
      "model_module": "@jupyter-widgets/controls",
      "model_module_version": "1.4.0",
      "model_name": "DescriptionStyleModel",
      "state": {
       "description_width": ""
      }
     },
     "dccf1a3a43ee47b9966fdaf65e2d7997": {
      "model_module": "@jupyter-widgets/base",
      "model_module_version": "1.1.0",
      "model_name": "LayoutModel",
      "state": {
       "width": "900px"
      }
     },
     "dcdcc76763bd428683d5f07358483b2f": {
      "model_module": "@jupyter-widgets/output",
      "model_module_version": "1.0.0",
      "model_name": "OutputModel",
      "state": {
       "layout": "IPY_MODEL_2633ad4a65f64635b1fd2406004f6720"
      }
     },
     "dceea9d6533c4811b7d1b43b140d58b3": {
      "model_module": "@jupyter-widgets/base",
      "model_module_version": "1.1.0",
      "model_name": "LayoutModel",
      "state": {}
     },
     "dd4a5eca7e42428a9c2438cac1ff9ad1": {
      "model_module": "@jupyter-widgets/controls",
      "model_module_version": "1.4.0",
      "model_name": "DropdownModel",
      "state": {
       "_options_labels": [
        "segment",
        "covertype",
        "digits",
        "fall_detection",
        "mnist",
        "pen_digits",
        "satellite",
        "vowel"
       ],
       "description": "Dataset:",
       "index": 0,
       "layout": "IPY_MODEL_85a08f1da2d8454a85abf476e1784fe8",
       "style": "IPY_MODEL_87069fb4678c4e7885244a45beb6e4e9"
      }
     },
     "dd5ab7d68a45482991ef59c7745712d8": {
      "model_module": "@jupyter-widgets/controls",
      "model_module_version": "1.4.0",
      "model_name": "ButtonModel",
      "state": {
       "button_style": "info",
       "description": "Demo10",
       "layout": "IPY_MODEL_c628420942354ea0b9cd0d78c147d55d",
       "style": "IPY_MODEL_e31dd9621caa4eeea3cccc10e7c1bdd6"
      }
     },
     "dd78796866b24c4ea233ad2bc264056b": {
      "model_module": "@jupyter-widgets/base",
      "model_module_version": "1.1.0",
      "model_name": "LayoutModel",
      "state": {}
     },
     "ddc363abdb1c43b79d81c8246559c980": {
      "model_module": "@jupyter-widgets/controls",
      "model_module_version": "1.4.0",
      "model_name": "ButtonModel",
      "state": {
       "button_style": "warning",
       "description": "Remove model",
       "layout": "IPY_MODEL_7761224b1c0c4cfc969a2a1bda629a50",
       "style": "IPY_MODEL_90b6d12b16874b798d88df123e62768b"
      }
     },
     "ddda824c0e834431860b5dd312cab037": {
      "model_module": "@jupyter-widgets/controls",
      "model_module_version": "1.4.0",
      "model_name": "VBoxModel",
      "state": {
       "children": [
        "IPY_MODEL_21bbae21eb31446ab2737d95b87fc02d",
        "IPY_MODEL_e3cea6fa654e4c21bd12e2855ef0f44e",
        "IPY_MODEL_87a241daf7d74a029d89af194e442f9d",
        "IPY_MODEL_287f1ef4aa1c4e1a8ee0f664ce215e0c",
        "IPY_MODEL_0012eea19d0d4a31afb8ed8f5292102b",
        "IPY_MODEL_1cae2f787bce46fda57db54b60ab3d04",
        "IPY_MODEL_6683d2d78f31430292243066d51a9bfc"
       ],
       "layout": "IPY_MODEL_23e16ef3948b4a1599b053506163581c"
      }
     },
     "de3b88a5bbef4779a0779dd517c0c7a9": {
      "model_module": "@jupyter-widgets/controls",
      "model_module_version": "1.4.0",
      "model_name": "DescriptionStyleModel",
      "state": {
       "description_width": ""
      }
     },
     "de8f1ef7d6984a668b838235963d3637": {
      "model_module": "@jupyter-widgets/controls",
      "model_module_version": "1.4.0",
      "model_name": "FloatSliderModel",
      "state": {
       "description": "min_impurity_decrease:",
       "layout": "IPY_MODEL_2706de44acaf42b6a0b257f60ade8d77",
       "max": 1,
       "step": 0.1,
       "style": "IPY_MODEL_178e6455e7c7437d94afa0a9b6879eb4"
      }
     },
     "deac3a18316f4ecdbb40b7efc57d353f": {
      "model_module": "@jupyter-widgets/base",
      "model_module_version": "1.1.0",
      "model_name": "LayoutModel",
      "state": {}
     },
     "deb46767072141b2be110d02db76b84a": {
      "model_module": "@jupyter-widgets/base",
      "model_module_version": "1.1.0",
      "model_name": "LayoutModel",
      "state": {}
     },
     "ded69aec076b4601a258f48f13ea6bf0": {
      "model_module": "@jupyter-widgets/base",
      "model_module_version": "1.1.0",
      "model_name": "LayoutModel",
      "state": {
       "visibility": "hidden",
       "width": "800px"
      }
     },
     "deff747352a14faca75c1a3c5682b838": {
      "model_module": "@jupyter-widgets/base",
      "model_module_version": "1.1.0",
      "model_name": "LayoutModel",
      "state": {}
     },
     "df0e81e1511b45e3b6fc405096aaab73": {
      "model_module": "@jupyter-widgets/controls",
      "model_module_version": "1.4.0",
      "model_name": "TabModel",
      "state": {
       "_titles": {
        "0": "dt"
       },
       "children": [
        "IPY_MODEL_b370e161f8af43ab988143c598ba26f1"
       ],
       "layout": "IPY_MODEL_8e2d891fdcab4a5e80c01096edcbadb3"
      }
     },
     "df3cb84e4ab2425bbacf69ee4583d79a": {
      "model_module": "@jupyter-widgets/controls",
      "model_module_version": "1.4.0",
      "model_name": "IntRangeSliderModel",
      "state": {
       "_model_name": "IntRangeSliderModel",
       "_view_name": "IntRangeSliderView",
       "layout": "IPY_MODEL_dccf1a3a43ee47b9966fdaf65e2d7997",
       "max": 1000,
       "min": 30,
       "step": 10,
       "style": "IPY_MODEL_e1cb959cf86a4752995e276aab355819",
       "value": [
        30,
        100
       ]
      }
     },
     "df55dadea96e4baa99c956a97d540b3b": {
      "model_module": "@jupyter-widgets/controls",
      "model_module_version": "1.4.0",
      "model_name": "SliderStyleModel",
      "state": {
       "description_width": "initial"
      }
     },
     "df58d1a1d9e147aeaf08f452d4eb279a": {
      "model_module": "@jupyter-widgets/controls",
      "model_module_version": "1.4.0",
      "model_name": "VBoxModel",
      "state": {
       "children": [
        "IPY_MODEL_dd4a5eca7e42428a9c2438cac1ff9ad1",
        "IPY_MODEL_723dd74ee22b4de198f1fc8e58e3f49a",
        "IPY_MODEL_7f0909eefc2e49c885e492f18fa190bc",
        "IPY_MODEL_a6ca5219632348599b36e3c9ea0a8579",
        "IPY_MODEL_0cf7aa7ed11047d5bdd25c89e7a447c6",
        "IPY_MODEL_3776942e71774bf9b8c0dcba5cdd110c",
        "IPY_MODEL_4968032b85bb41d6a29e4309caf2a955"
       ],
       "layout": "IPY_MODEL_ba2f42abf40e4ab9a061a186ed983015"
      }
     },
     "df655b0603f443da83427d033a44c518": {
      "model_module": "@jupyter-widgets/controls",
      "model_module_version": "1.4.0",
      "model_name": "SliderStyleModel",
      "state": {
       "description_width": "initial"
      }
     },
     "df6ce0e2aac44c1c805d82f95b9379c4": {
      "model_module": "@jupyter-widgets/base",
      "model_module_version": "1.1.0",
      "model_name": "LayoutModel",
      "state": {}
     },
     "dfdb7e274c694377825959a1f7f1db03": {
      "model_module": "@jupyter-widgets/base",
      "model_module_version": "1.1.0",
      "model_name": "LayoutModel",
      "state": {
       "visibility": "hidden",
       "width": "800px"
      }
     },
     "e07662b2d14d4ba9b901b1f9457ade41": {
      "model_module": "@jupyter-widgets/controls",
      "model_module_version": "1.4.0",
      "model_name": "DropdownModel",
      "state": {
       "_options_labels": [
        "segment",
        "covertype",
        "digits",
        "fall_detection",
        "mnist",
        "pen_digits",
        "satellite",
        "vowel"
       ],
       "description": "Dataset:",
       "index": 0,
       "layout": "IPY_MODEL_7b5b6cd9003047998b9b38e93e9e9804",
       "style": "IPY_MODEL_c5ff696318f6496a998d1ef7c974e7b7"
      }
     },
     "e07bb98576594ab68d9450378d39be5e": {
      "model_module": "@jupyter-widgets/controls",
      "model_module_version": "1.4.0",
      "model_name": "SliderStyleModel",
      "state": {
       "description_width": "initial"
      }
     },
     "e0c41592d3714d6ea4803e13d4e1c25f": {
      "model_module": "@jupyter-widgets/controls",
      "model_module_version": "1.4.0",
      "model_name": "SliderStyleModel",
      "state": {
       "description_width": ""
      }
     },
     "e0e2bd75044d4cd78cdc03ab2e39ee89": {
      "model_module": "@jupyter-widgets/base",
      "model_module_version": "1.1.0",
      "model_name": "LayoutModel",
      "state": {}
     },
     "e0e5c6eef1954e448c3950f9e9afe026": {
      "model_module": "@jupyter-widgets/base",
      "model_module_version": "1.1.0",
      "model_name": "LayoutModel",
      "state": {
       "visibility": "hidden",
       "width": "800px"
      }
     },
     "e1265fea61dd495fb10cbf51f493825d": {
      "model_module": "@jupyter-widgets/base",
      "model_module_version": "1.1.0",
      "model_name": "LayoutModel",
      "state": {
       "width": "900px"
      }
     },
     "e13e47908ed64de2ad8ec7bd5e959b8f": {
      "model_module": "@jupyter-widgets/base",
      "model_module_version": "1.1.0",
      "model_name": "LayoutModel",
      "state": {}
     },
     "e1635857ef2f438099de679ee54b1746": {
      "model_module": "@jupyter-widgets/controls",
      "model_module_version": "1.4.0",
      "model_name": "DescriptionStyleModel",
      "state": {
       "description_width": ""
      }
     },
     "e18bb21e5ae24f1f9f73c111a9195c41": {
      "model_module": "@jupyter-widgets/controls",
      "model_module_version": "1.4.0",
      "model_name": "SliderStyleModel",
      "state": {
       "description_width": ""
      }
     },
     "e1bf3f5f304b4e96b3518655966b08ea": {
      "model_module": "@jupyter-widgets/base",
      "model_module_version": "1.1.0",
      "model_name": "LayoutModel",
      "state": {}
     },
     "e1c51aae834d461487914b63a2025e76": {
      "model_module": "@jupyter-widgets/controls",
      "model_module_version": "1.4.0",
      "model_name": "ButtonModel",
      "state": {
       "button_style": "info",
       "description": "Add model",
       "layout": "IPY_MODEL_113f48b0d3c644a2babbd00742416893",
       "style": "IPY_MODEL_511443a04e4142a596712ab7c084407d"
      }
     },
     "e1cb959cf86a4752995e276aab355819": {
      "model_module": "@jupyter-widgets/controls",
      "model_module_version": "1.4.0",
      "model_name": "SliderStyleModel",
      "state": {
       "description_width": ""
      }
     },
     "e1e9c0a67cf14444a546d168e48ddae4": {
      "model_module": "@jupyter-widgets/base",
      "model_module_version": "1.1.0",
      "model_name": "LayoutModel",
      "state": {
       "visibility": "hidden",
       "width": "800px"
      }
     },
     "e1f2d2980f7f472199ebbe525262eb57": {
      "model_module": "@jupyter-widgets/controls",
      "model_module_version": "1.4.0",
      "model_name": "VBoxModel",
      "state": {
       "children": [
        "IPY_MODEL_cc3b624190f44df28b88c36b2c55e3ee",
        "IPY_MODEL_a62ca623d21f47438efbc83a87c179d2",
        "IPY_MODEL_2b057b6837464245b0580ba86792149e",
        "IPY_MODEL_6fa8f2c2328f4e41b26faf24ba40b386",
        "IPY_MODEL_b941f6d07e6e45f5bce12ddc24ec16cc",
        "IPY_MODEL_19720b0073e04e87944e4e796c82c236",
        "IPY_MODEL_ed0f51132ced4d02a519515a4b17f00e",
        "IPY_MODEL_07f6c37ff6d84f6f9dc728d4c47b06c1"
       ],
       "layout": "IPY_MODEL_1858a45572ec44498d69fc1036ee7a77"
      }
     },
     "e2783f6a2f794a2cb652c924669b1276": {
      "model_module": "@jupyter-widgets/controls",
      "model_module_version": "1.4.0",
      "model_name": "FloatLogSliderModel",
      "state": {
       "description": "C",
       "layout": "IPY_MODEL_f40477261ab94224a8acecf5ef9fe421",
       "max": 5,
       "min": -5,
       "step": 1,
       "style": "IPY_MODEL_124f7aa2e311459486fc0dc119cc6c7f",
       "value": 1000
      }
     },
     "e28e8bf0b4734f3cbd2c34fd27589bbb": {
      "model_module": "@jupyter-widgets/base",
      "model_module_version": "1.1.0",
      "model_name": "LayoutModel",
      "state": {
       "display": "none",
       "visibility": "hidden",
       "width": "800px"
      }
     },
     "e2e57f7b897846c485c03f7e72127458": {
      "model_module": "@jupyter-widgets/controls",
      "model_module_version": "1.4.0",
      "model_name": "IntRangeSliderModel",
      "state": {
       "_model_name": "IntRangeSliderModel",
       "_view_name": "IntRangeSliderView",
       "layout": "IPY_MODEL_0262cfa82e3a42858148bfa1271a40dc",
       "max": 1000,
       "min": 30,
       "step": 10,
       "style": "IPY_MODEL_cbfe7298a4aa4811bceaba56dc4ca076",
       "value": [
        30,
        100
       ]
      }
     },
     "e2ff56d1929d43f0baa2fcfba02d7a32": {
      "model_module": "@jupyter-widgets/controls",
      "model_module_version": "1.4.0",
      "model_name": "DescriptionStyleModel",
      "state": {
       "description_width": ""
      }
     },
     "e3065fb72002495994e262ed797c80ff": {
      "model_module": "@jupyter-widgets/controls",
      "model_module_version": "1.4.0",
      "model_name": "SliderStyleModel",
      "state": {
       "description_width": "initial"
      }
     },
     "e31dd9621caa4eeea3cccc10e7c1bdd6": {
      "model_module": "@jupyter-widgets/controls",
      "model_module_version": "1.4.0",
      "model_name": "ButtonStyleModel",
      "state": {}
     },
     "e34ffd45bcce4137b22eed069deaa745": {
      "model_module": "@jupyter-widgets/base",
      "model_module_version": "1.1.0",
      "model_name": "LayoutModel",
      "state": {}
     },
     "e363d5db93d14f88965675d1d0b3a668": {
      "model_module": "@jupyter-widgets/controls",
      "model_module_version": "1.4.0",
      "model_name": "DropdownModel",
      "state": {
       "_options_labels": [
        "None",
        "rbf",
        "nystroem"
       ],
       "description": "Sampler",
       "index": 0,
       "layout": "IPY_MODEL_dd78796866b24c4ea233ad2bc264056b",
       "style": "IPY_MODEL_f9c436d550e94652a4d2ede338f419e2"
      }
     },
     "e381fcad5b534924b2df3adfb01300e6": {
      "model_module": "@jupyter-widgets/controls",
      "model_module_version": "1.4.0",
      "model_name": "SliderStyleModel",
      "state": {
       "description_width": ""
      }
     },
     "e3c92d7ad0d6416aac77717c8a4538e1": {
      "model_module": "@jupyter-widgets/controls",
      "model_module_version": "1.4.0",
      "model_name": "ButtonStyleModel",
      "state": {}
     },
     "e3cea6fa654e4c21bd12e2855ef0f44e": {
      "model_module": "@jupyter-widgets/controls",
      "model_module_version": "1.4.0",
      "model_name": "RadioButtonsModel",
      "state": {
       "_options_labels": [
        "1000",
        "2000",
        "5000",
        "10000"
       ],
       "description": "Size",
       "index": 0,
       "layout": "IPY_MODEL_a81cf05ca1564a95baaa7194b562d30b",
       "style": "IPY_MODEL_b375ff05af30445bb5551c61b37d10a6"
      }
     },
     "e3e306511b7b4f1896a4f86db4d45af8": {
      "model_module": "@jupyter-widgets/controls",
      "model_module_version": "1.4.0",
      "model_name": "FloatSliderModel",
      "state": {
       "description": "min_impurity_decrease:",
       "layout": "IPY_MODEL_a7123dae33ed43f89b3fc8f108ee43da",
       "max": 1,
       "step": 0.1,
       "style": "IPY_MODEL_0c7e6f7c5d1448759b2aa565587f6072"
      }
     },
     "e40e29dc60794d75b925d5fe6b635af8": {
      "model_module": "@jupyter-widgets/controls",
      "model_module_version": "1.4.0",
      "model_name": "DescriptionStyleModel",
      "state": {
       "description_width": ""
      }
     },
     "e444e9dd8a95405fb261a9dfe056991e": {
      "model_module": "@jupyter-widgets/controls",
      "model_module_version": "1.4.0",
      "model_name": "IntSliderModel",
      "state": {
       "description": "C",
       "layout": "IPY_MODEL_23384e9d374a451e94988f10a62b2094",
       "max": 10,
       "min": 1,
       "style": "IPY_MODEL_4c9780e7ca8e40998a7d8ab90a2c31a1",
       "value": 5
      }
     },
     "e453c5a3decd41efa2c26640fe8d70fe": {
      "model_module": "@jupyter-widgets/base",
      "model_module_version": "1.1.0",
      "model_name": "LayoutModel",
      "state": {
       "visibility": "hidden",
       "width": "800px"
      }
     },
     "e47a860786e04e6c97610d80007fef2d": {
      "model_module": "@jupyter-widgets/base",
      "model_module_version": "1.1.0",
      "model_name": "LayoutModel",
      "state": {
       "display": "none",
       "visibility": "hidden",
       "width": "800px"
      }
     },
     "e49d7eec63a04cf1875aa4c9ff7e9ad2": {
      "model_module": "@jupyter-widgets/controls",
      "model_module_version": "1.4.0",
      "model_name": "SliderStyleModel",
      "state": {
       "description_width": ""
      }
     },
     "e4a4f447df44486f83833425c8f78088": {
      "model_module": "@jupyter-widgets/controls",
      "model_module_version": "1.4.0",
      "model_name": "IntRangeSliderModel",
      "state": {
       "_model_name": "IntRangeSliderModel",
       "_view_name": "IntRangeSliderView",
       "layout": "IPY_MODEL_2a09818ec99f4c659a9bed1eff6f4023",
       "max": 1000,
       "min": 30,
       "step": 10,
       "style": "IPY_MODEL_8a18de4e3c0343f5a036a426b3969a1a",
       "value": [
        30,
        100
       ]
      }
     },
     "e4fc0b1844924c51a1dfa1ca3a5b5e72": {
      "model_module": "@jupyter-widgets/controls",
      "model_module_version": "1.4.0",
      "model_name": "DescriptionStyleModel",
      "state": {
       "description_width": ""
      }
     },
     "e50ec55f505c466184224e0dd20653d1": {
      "model_module": "@jupyter-widgets/controls",
      "model_module_version": "1.4.0",
      "model_name": "AccordionModel",
      "state": {
       "_titles": {
        "0": "Info run"
       },
       "children": [
        "IPY_MODEL_c6309cc95cd046d1ae4d0031574fe60e"
       ],
       "layout": "IPY_MODEL_c09b296094ec4eb7924ab5b4d74ce19f"
      }
     },
     "e5122bd40bf445b18825b57544408cb3": {
      "model_module": "@jupyter-widgets/controls",
      "model_module_version": "1.4.0",
      "model_name": "SliderStyleModel",
      "state": {
       "description_width": ""
      }
     },
     "e512f98f8d0548f3a963f6bdba9e575b": {
      "model_module": "@jupyter-widgets/controls",
      "model_module_version": "1.4.0",
      "model_name": "RadioButtonsModel",
      "state": {
       "_options_labels": [
        "1000",
        "2000",
        "5000",
        "10000"
       ],
       "description": "Size",
       "index": 0,
       "layout": "IPY_MODEL_b520c7a03ec941ea874a8e15238a8bd9",
       "style": "IPY_MODEL_16da845a16d541a09621d49c661a0876"
      }
     },
     "e51728e12aed4ff0a5a537549ea7215a": {
      "model_module": "@jupyter-widgets/base",
      "model_module_version": "1.1.0",
      "model_name": "LayoutModel",
      "state": {}
     },
     "e52646c2d795415b88398af585bd829b": {
      "model_module": "@jupyter-widgets/controls",
      "model_module_version": "1.4.0",
      "model_name": "FloatLogSliderModel",
      "state": {
       "description": "Gamma",
       "layout": "IPY_MODEL_7e24fc9294a540808449e2ae66dbd175",
       "max": 2,
       "min": -4,
       "step": 1,
       "style": "IPY_MODEL_d0a15282de144af2852d428309b1ea4a",
       "value": 0.0001
      }
     },
     "e53c3a651f5446a09d4a387ef67f5905": {
      "model_module": "@jupyter-widgets/controls",
      "model_module_version": "1.4.0",
      "model_name": "ButtonModel",
      "state": {
       "button_style": "info",
       "description": "Demo10",
       "layout": "IPY_MODEL_5ea38a031a7e4008a4324cae0a13f4bc",
       "style": "IPY_MODEL_b53a18c905384c5387e9f412e8f03c32"
      }
     },
     "e551ec006d6a4d3699b9e982ef8ecca6": {
      "model_module": "@jupyter-widgets/controls",
      "model_module_version": "1.4.0",
      "model_name": "SliderStyleModel",
      "state": {
       "description_width": ""
      }
     },
     "e5527d45939f4497a6f1f328e89434fd": {
      "model_module": "@jupyter-widgets/controls",
      "model_module_version": "1.4.0",
      "model_name": "VBoxModel",
      "state": {
       "children": [
        "IPY_MODEL_adf03d692e8a4f529d669dae21fe53e8",
        "IPY_MODEL_a007ed78fa8740f4b94c920a2122dc90",
        "IPY_MODEL_bce5bda43ee0474186438f684ea12331",
        "IPY_MODEL_13897964703447d2a9f84dfd6fa6fbb2",
        "IPY_MODEL_96f3765b558d41e597f29e97c77880ba",
        "IPY_MODEL_add0d14ceb144901a71909cd74e491c6",
        "IPY_MODEL_2c6b7e96a4d04758ad18dde7c4f40773"
       ],
       "layout": "IPY_MODEL_b66931f473344da68ef95c0405c8f596"
      }
     },
     "e56bec1c9f4e4badad1bc500a09e0594": {
      "model_module": "@jupyter-widgets/controls",
      "model_module_version": "1.4.0",
      "model_name": "SliderStyleModel",
      "state": {
       "description_width": ""
      }
     },
     "e61ee8a3f49b423fadab07aff4ff81e4": {
      "model_module": "@jupyter-widgets/controls",
      "model_module_version": "1.4.0",
      "model_name": "DropdownModel",
      "state": {
       "_options_labels": [
        "black_bag",
        "grey_bag",
        "black_ens",
        "grey_ens",
        "None"
       ],
       "description": "Box Type",
       "index": 4,
       "layout": "IPY_MODEL_5f87d253c68946d08e718dcc21d60e70",
       "style": "IPY_MODEL_cacc89708c40479981976b999fda4abe"
      }
     },
     "e650f861c56a41a2b563f08fd2ca04da": {
      "model_module": "@jupyter-widgets/base",
      "model_module_version": "1.1.0",
      "model_name": "LayoutModel",
      "state": {
       "visibility": "hidden",
       "width": "800px"
      }
     },
     "e668182499d04e7b834e20d8f62a777d": {
      "model_module": "@jupyter-widgets/base",
      "model_module_version": "1.1.0",
      "model_name": "LayoutModel",
      "state": {}
     },
     "e66b4acb10d4471db4a760ef57e0a4a9": {
      "model_module": "@jupyter-widgets/controls",
      "model_module_version": "1.4.0",
      "model_name": "DropdownModel",
      "state": {
       "_options_labels": [
        "segment",
        "covertype",
        "digits",
        "fall_detection",
        "mnist",
        "pen_digits",
        "satellite",
        "vowel"
       ],
       "description": "Dataset:",
       "index": 0,
       "layout": "IPY_MODEL_4954cbce5e3a40b7b5424db8a52eef1b",
       "style": "IPY_MODEL_ccc66cd459aa4ec483ac03306e7a940f"
      }
     },
     "e67eef315080467c99a86b212b358b2b": {
      "model_module": "@jupyter-widgets/base",
      "model_module_version": "1.1.0",
      "model_name": "LayoutModel",
      "state": {
       "margin": "0px 20px 0px 0px"
      }
     },
     "e685f2f020434d5cb8fa139dad9a7991": {
      "model_module": "@jupyter-widgets/controls",
      "model_module_version": "1.4.0",
      "model_name": "FloatSliderModel",
      "state": {
       "description": "min_impurity_decrease:",
       "layout": "IPY_MODEL_2c771c8e9c10443f80b24ccea068e2d7",
       "max": 1,
       "step": 0.1,
       "style": "IPY_MODEL_a0eaf70baad841c98995575fb5580050"
      }
     },
     "e68817a81d5847f5821d33c57d528d33": {
      "model_module": "@jupyter-widgets/controls",
      "model_module_version": "1.4.0",
      "model_name": "ButtonStyleModel",
      "state": {}
     },
     "e692381a8c0c40a5b12691e07d7aa56f": {
      "model_module": "@jupyter-widgets/controls",
      "model_module_version": "1.4.0",
      "model_name": "DropdownModel",
      "state": {
       "_options_labels": [
        "segment",
        "covertype",
        "digits",
        "fall_detection",
        "mnist",
        "pen_digits",
        "satellite",
        "vowel"
       ],
       "description": "Dataset:",
       "index": 0,
       "layout": "IPY_MODEL_ab7f77a1974c47e8947dfadf122af371",
       "style": "IPY_MODEL_82ecbcf0ca9e464abd61472477ea2bf4"
      }
     },
     "e6970f2f58c04a6391ef2e8ae99ef891": {
      "model_module": "@jupyter-widgets/controls",
      "model_module_version": "1.4.0",
      "model_name": "VBoxModel",
      "state": {
       "children": [
        "IPY_MODEL_30522af19585482c92c8ba4de848f4d6"
       ],
       "layout": "IPY_MODEL_43e309f5e2a34e6f80c441a1766dc9e4"
      }
     },
     "e6a72db3391f4e3cade53dab3130326f": {
      "model_module": "@jupyter-widgets/base",
      "model_module_version": "1.1.0",
      "model_name": "LayoutModel",
      "state": {}
     },
     "e6e1d98dc3f240fda3bf8bbbbdd796c3": {
      "model_module": "@jupyter-widgets/base",
      "model_module_version": "1.1.0",
      "model_name": "LayoutModel",
      "state": {
       "visibility": "hidden",
       "width": "800px"
      }
     },
     "e6ecd432ae0d476484b2b08abc72f9e7": {
      "model_module": "@jupyter-widgets/controls",
      "model_module_version": "1.4.0",
      "model_name": "IntSliderModel",
      "state": {
       "description": "N. estim.",
       "layout": "IPY_MODEL_3df0725905814f68a3868998c1839427",
       "max": 200,
       "min": 2,
       "style": "IPY_MODEL_15a5435fdce14a108cf305af916d0f30",
       "value": 30
      }
     },
     "e7633cb848604632862b728a595ea2ea": {
      "model_module": "@jupyter-widgets/base",
      "model_module_version": "1.1.0",
      "model_name": "LayoutModel",
      "state": {}
     },
     "e7aa1cd69aa94c3d988df154b94a374d": {
      "model_module": "@jupyter-widgets/base",
      "model_module_version": "1.1.0",
      "model_name": "LayoutModel",
      "state": {}
     },
     "e83e22ae42bd4761a015096ec99c207e": {
      "model_module": "@jupyter-widgets/controls",
      "model_module_version": "1.4.0",
      "model_name": "AccordionModel",
      "state": {
       "_titles": {
        "0": "Info run"
       },
       "children": [
        "IPY_MODEL_34a122fbd8f143028450a966d7a2eb8a"
       ],
       "layout": "IPY_MODEL_a057b209355644f8a7cbcba6f024acc6"
      }
     },
     "e8a4348888d14dfb9aa540f8f181a314": {
      "model_module": "@jupyter-widgets/controls",
      "model_module_version": "1.4.0",
      "model_name": "ButtonModel",
      "state": {
       "button_style": "info",
       "description": "Add model",
       "layout": "IPY_MODEL_1e07096b638e40839b6b695e1e9fe76e",
       "style": "IPY_MODEL_0acb3213405547c8b3021966a9fda8a5"
      }
     },
     "e8b28acbaf1744eaa88d936fd87e40c8": {
      "model_module": "@jupyter-widgets/controls",
      "model_module_version": "1.4.0",
      "model_name": "SliderStyleModel",
      "state": {
       "description_width": ""
      }
     },
     "e9003d761bad44348a8d9e16a2d7e118": {
      "model_module": "@jupyter-widgets/controls",
      "model_module_version": "1.4.0",
      "model_name": "ButtonStyleModel",
      "state": {}
     },
     "e9292e5a347348569f6e7e1289e0ee5b": {
      "model_module": "@jupyter-widgets/controls",
      "model_module_version": "1.4.0",
      "model_name": "FloatLogSliderModel",
      "state": {
       "description": "C",
       "layout": "IPY_MODEL_1540e94f34aa4cb5b8e90151d136109f",
       "max": 5,
       "min": -5,
       "step": 1,
       "style": "IPY_MODEL_f608a1e57a6941bfa52a23f9535f6d5d",
       "value": 1000
      }
     },
     "e93cc02889644675a279d9beaac677b2": {
      "model_module": "@jupyter-widgets/base",
      "model_module_version": "1.1.0",
      "model_name": "LayoutModel",
      "state": {}
     },
     "e950650ec6a6438f89cdd8608dbedcc7": {
      "model_module": "@jupyter-widgets/controls",
      "model_module_version": "1.4.0",
      "model_name": "HTMLModel",
      "state": {
       "layout": "IPY_MODEL_0837e48600b84f9fbb4adce87700eca2",
       "style": "IPY_MODEL_283aa71c52e9463092737c2c1621f034",
       "value": "<strong>Dataset</strong>: segment"
      }
     },
     "e95438fee1414e21b3f079906e45808e": {
      "model_module": "@jupyter-widgets/base",
      "model_module_version": "1.1.0",
      "model_name": "LayoutModel",
      "state": {}
     },
     "e95d6d6e36a440dda56624b627d408ec": {
      "model_module": "@jupyter-widgets/controls",
      "model_module_version": "1.4.0",
      "model_name": "DropdownModel",
      "state": {
       "_options_labels": [
        "segment",
        "covertype",
        "digits",
        "fall_detection",
        "mnist",
        "pen_digits",
        "satellite",
        "vowel"
       ],
       "description": "Dataset:",
       "index": 0,
       "layout": "IPY_MODEL_644679a7533a43f7bdedfb2073573e5f",
       "style": "IPY_MODEL_f55a005fdf49495781f21fa453364408"
      }
     },
     "e95eb2c536674506b380db47e7d6e621": {
      "model_module": "@jupyter-widgets/controls",
      "model_module_version": "1.4.0",
      "model_name": "ButtonStyleModel",
      "state": {}
     },
     "e9677576b77848acaf4bdc5716fafb34": {
      "model_module": "@jupyter-widgets/controls",
      "model_module_version": "1.4.0",
      "model_name": "VBoxModel",
      "state": {
       "children": [
        "IPY_MODEL_a8c67e9ff1cb406ea6ebe6e2eb3b7d25"
       ],
       "layout": "IPY_MODEL_ef39af51b4c048b68332f186d84175de"
      }
     },
     "e9877dd362094ca8a7632a752187213b": {
      "model_module": "@jupyter-widgets/base",
      "model_module_version": "1.1.0",
      "model_name": "LayoutModel",
      "state": {}
     },
     "e988a139e03949ea98cd9be2cf571c25": {
      "model_module": "@jupyter-widgets/controls",
      "model_module_version": "1.4.0",
      "model_name": "SliderStyleModel",
      "state": {
       "description_width": ""
      }
     },
     "e9942e763dec4b83a8d42f8ded3402e6": {
      "model_module": "@jupyter-widgets/base",
      "model_module_version": "1.1.0",
      "model_name": "LayoutModel",
      "state": {}
     },
     "e9a21120c1fd4f7e87de2c8741b1b938": {
      "model_module": "@jupyter-widgets/base",
      "model_module_version": "1.1.0",
      "model_name": "LayoutModel",
      "state": {}
     },
     "e9b5e93b7459430aa3579fe965a2a878": {
      "model_module": "@jupyter-widgets/controls",
      "model_module_version": "1.4.0",
      "model_name": "DropdownModel",
      "state": {
       "_options_labels": [
        "black_bag",
        "grey_bag",
        "black_ens",
        "grey_ens",
        "None"
       ],
       "description": "Box Type",
       "index": 4,
       "layout": "IPY_MODEL_6533a941cbf04704868125912698ee51",
       "style": "IPY_MODEL_75aa40dcb1e942eea94b4f4e14146afb"
      }
     },
     "e9cbf8cca95b412ea9c87e80f6c3cd28": {
      "model_module": "@jupyter-widgets/base",
      "model_module_version": "1.1.0",
      "model_name": "LayoutModel",
      "state": {
       "display": "none",
       "visibility": "hidden",
       "width": "800px"
      }
     },
     "ea77b7acbbc24b95834498cb0c172a2b": {
      "model_module": "@jupyter-widgets/controls",
      "model_module_version": "1.4.0",
      "model_name": "VBoxModel",
      "state": {
       "children": [
        "IPY_MODEL_f371526771e74b588ba4eec133c7a966"
       ],
       "layout": "IPY_MODEL_f4eff4c0eb4048628bd1c0bd321789e7"
      }
     },
     "eae6649fa0ae42d79a4e5d2c22270f03": {
      "model_module": "@jupyter-widgets/base",
      "model_module_version": "1.1.0",
      "model_name": "LayoutModel",
      "state": {}
     },
     "eaf7c32c7c6a4e859ab052eed5a58b69": {
      "model_module": "@jupyter-widgets/base",
      "model_module_version": "1.1.0",
      "model_name": "LayoutModel",
      "state": {}
     },
     "eb1eadf4449645b990d4640ea8734d47": {
      "model_module": "@jupyter-widgets/base",
      "model_module_version": "1.1.0",
      "model_name": "LayoutModel",
      "state": {
       "display": "none",
       "visibility": "hidden",
       "width": "800px"
      }
     },
     "eb332227cc184dc9941ee4c10817a0a8": {
      "model_module": "@jupyter-widgets/controls",
      "model_module_version": "1.4.0",
      "model_name": "IntSliderModel",
      "state": {
       "description": "N. estim.",
       "layout": "IPY_MODEL_bc253e7a82904758bd4b2250a58ebc7c",
       "max": 200,
       "min": 2,
       "style": "IPY_MODEL_317c3eec63b5418a9722b0f60639b048",
       "value": 30
      }
     },
     "eb460752954e4733b5b5ded967a31294": {
      "model_module": "@jupyter-widgets/base",
      "model_module_version": "1.1.0",
      "model_name": "LayoutModel",
      "state": {
       "display": "none",
       "visibility": "hidden",
       "width": "800px"
      }
     },
     "eb84e660074349be97079f850aaf3309": {
      "model_module": "@jupyter-widgets/controls",
      "model_module_version": "1.4.0",
      "model_name": "VBoxModel",
      "state": {
       "children": [
        "IPY_MODEL_b500e5a0a749416bae51fb22d7826135",
        "IPY_MODEL_472c2410e66e4dfbbd0c0d2e0f869366",
        "IPY_MODEL_81c35e94dbec485ba38dc3254b78d103",
        "IPY_MODEL_c0e21b5a5eb54185af60101766baf1d3",
        "IPY_MODEL_dc48d3d53b644b3e9167f10d3db256e6",
        "IPY_MODEL_291f55e340ba43619392d32de114d362",
        "IPY_MODEL_ac84f3f3152843e6bbbdfbe02ad9b7f0"
       ],
       "layout": "IPY_MODEL_15913e285f2649f5956051a42cbf5347"
      }
     },
     "ebb96f76adff42dfac9307dfe9edef60": {
      "model_module": "@jupyter-widgets/controls",
      "model_module_version": "1.4.0",
      "model_name": "FloatSliderModel",
      "state": {
       "description": "min_impurity_decrease:",
       "layout": "IPY_MODEL_46a7665682db43b887103df5b51daeea",
       "max": 1,
       "step": 0.1,
       "style": "IPY_MODEL_196937797bd64a4fb67f52652d310652"
      }
     },
     "ec4f8394560448639073ed3f9b00b857": {
      "model_module": "@jupyter-widgets/base",
      "model_module_version": "1.1.0",
      "model_name": "LayoutModel",
      "state": {
       "margin": "0px 20px 0px 0px"
      }
     },
     "ec842f99fbdd4d3cbcab848797983327": {
      "model_module": "@jupyter-widgets/base",
      "model_module_version": "1.1.0",
      "model_name": "LayoutModel",
      "state": {}
     },
     "ec917deb8d974f14b7c3ab7b5e6963ff": {
      "model_module": "@jupyter-widgets/controls",
      "model_module_version": "1.4.0",
      "model_name": "DescriptionStyleModel",
      "state": {
       "description_width": ""
      }
     },
     "eca1e7f2ac324b45bb4785c5293beaad": {
      "model_module": "@jupyter-widgets/controls",
      "model_module_version": "1.4.0",
      "model_name": "TabModel",
      "state": {
       "_titles": {
        "0": "dt"
       },
       "children": [
        "IPY_MODEL_28c79e6e2a334419a217d6250b1dc9c9"
       ],
       "layout": "IPY_MODEL_9d12b6147e1848278759179237612527"
      }
     },
     "eccc070f992b411d8c7a5ea7d6369f99": {
      "model_module": "@jupyter-widgets/controls",
      "model_module_version": "1.4.0",
      "model_name": "SliderStyleModel",
      "state": {
       "description_width": ""
      }
     },
     "ecdb2c7f9e5545729b9c3148a96d7ee3": {
      "model_module": "@jupyter-widgets/base",
      "model_module_version": "1.1.0",
      "model_name": "LayoutModel",
      "state": {
       "display": "none",
       "visibility": "hidden",
       "width": "800px"
      }
     },
     "ecf3469dd74743b881c69f372c205f17": {
      "model_module": "@jupyter-widgets/controls",
      "model_module_version": "1.4.0",
      "model_name": "ButtonStyleModel",
      "state": {}
     },
     "ed0361d1a0b944bdb13aab816185a3b9": {
      "model_module": "@jupyter-widgets/base",
      "model_module_version": "1.1.0",
      "model_name": "LayoutModel",
      "state": {}
     },
     "ed03834961164d86bb243503cab28bb4": {
      "model_module": "@jupyter-widgets/controls",
      "model_module_version": "1.4.0",
      "model_name": "ButtonModel",
      "state": {
       "button_style": "info",
       "description": "Add model",
       "layout": "IPY_MODEL_3e2ed3b9b9d2400baecf7c02b1cc6f60",
       "style": "IPY_MODEL_1e18a64b11834a2bada1c0ed3d80a39e"
      }
     },
     "ed0f51132ced4d02a519515a4b17f00e": {
      "model_module": "@jupyter-widgets/controls",
      "model_module_version": "1.4.0",
      "model_name": "DropdownModel",
      "state": {
       "_options_labels": [
        "black_bag",
        "grey_bag",
        "black_ens",
        "grey_ens",
        "None"
       ],
       "description": "Box Type",
       "index": 4,
       "layout": "IPY_MODEL_5bf8953cbe934d26a7e57d350d01d240",
       "style": "IPY_MODEL_ec917deb8d974f14b7c3ab7b5e6963ff"
      }
     },
     "ed1d0e1dccf74769808498a9f303d725": {
      "model_module": "@jupyter-widgets/controls",
      "model_module_version": "1.4.0",
      "model_name": "FloatSliderModel",
      "state": {
       "description": "min_impurity_decrease:",
       "layout": "IPY_MODEL_70569f6f36394d04b3bd57b429dcd1fc",
       "max": 1,
       "step": 0.1,
       "style": "IPY_MODEL_db41244eb771419db177d0534598ec8f"
      }
     },
     "ed1eda2d71d1455dba7feab6a091f6b6": {
      "model_module": "@jupyter-widgets/base",
      "model_module_version": "1.1.0",
      "model_name": "LayoutModel",
      "state": {}
     },
     "ed924310fdc94f2dacf9d688296478a8": {
      "model_module": "@jupyter-widgets/controls",
      "model_module_version": "1.4.0",
      "model_name": "SliderStyleModel",
      "state": {
       "description_width": ""
      }
     },
     "ee1641d739264a59b1f9e27fe477af98": {
      "model_module": "@jupyter-widgets/controls",
      "model_module_version": "1.4.0",
      "model_name": "FloatSliderModel",
      "state": {
       "description": "min_impurity_decrease:",
       "layout": "IPY_MODEL_cbda0ed43a734acea62a3c0ebf88ca90",
       "max": 1,
       "step": 0.1,
       "style": "IPY_MODEL_fdd47ad19c29439e8ec50566814ffa81"
      }
     },
     "ee2d88ffb22149c79a61c1707b148b72": {
      "model_module": "@jupyter-widgets/base",
      "model_module_version": "1.1.0",
      "model_name": "LayoutModel",
      "state": {}
     },
     "ee319d90063e46808717d6661f1bb53b": {
      "model_module": "@jupyter-widgets/controls",
      "model_module_version": "1.4.0",
      "model_name": "TabModel",
      "state": {
       "_titles": {
        "0": "dt"
       },
       "children": [
        "IPY_MODEL_3a19cbed0f5a427691efb18fe04040c1"
       ],
       "layout": "IPY_MODEL_6f4ffd39b8f4476c8af9bb303b222423"
      }
     },
     "ee47ff62b19340aab3113ad0fa02b697": {
      "model_module": "@jupyter-widgets/controls",
      "model_module_version": "1.4.0",
      "model_name": "HTMLModel",
      "state": {
       "layout": "IPY_MODEL_9378edee18d548298262b50b94ea7411",
       "style": "IPY_MODEL_8df4164432244d6784938c011b93151d",
       "value": "<strong>Dataset</strong>: covertype"
      }
     },
     "ee65a910f5a14538b10885fa15a56317": {
      "model_module": "@jupyter-widgets/base",
      "model_module_version": "1.1.0",
      "model_name": "LayoutModel",
      "state": {}
     },
     "ef14e95af8154288a14ddd106b8ab3de": {
      "model_module": "@jupyter-widgets/controls",
      "model_module_version": "1.4.0",
      "model_name": "DropdownModel",
      "state": {
       "_options_labels": [
        "segment",
        "covertype",
        "digits",
        "fall_detection",
        "mnist",
        "pen_digits",
        "satellite",
        "vowel"
       ],
       "description": "Dataset:",
       "index": 0,
       "layout": "IPY_MODEL_8f1cbf2e21674493b8ff53355e52f4b9",
       "style": "IPY_MODEL_2884c26d7aba4f6f851f86cf00ff7e97"
      }
     },
     "ef19ed9987c54616981828b90c210d70": {
      "model_module": "@jupyter-widgets/controls",
      "model_module_version": "1.4.0",
      "model_name": "FloatLogSliderModel",
      "state": {
       "description": "C",
       "layout": "IPY_MODEL_cb9258c21e12452c93d96aafa0967eb6",
       "max": 5,
       "min": -5,
       "step": 1,
       "style": "IPY_MODEL_508b7e5c0dc34958b39ab1ca02559de0",
       "value": 1000
      }
     },
     "ef2f30fee4f54c3898f9be961d40b840": {
      "model_module": "@jupyter-widgets/base",
      "model_module_version": "1.1.0",
      "model_name": "LayoutModel",
      "state": {}
     },
     "ef39af51b4c048b68332f186d84175de": {
      "model_module": "@jupyter-widgets/base",
      "model_module_version": "1.1.0",
      "model_name": "LayoutModel",
      "state": {
       "margin": "0px 20px 0px 0px"
      }
     },
     "ef4159b943104e8692547a9d743e3e9a": {
      "model_module": "@jupyter-widgets/controls",
      "model_module_version": "1.4.0",
      "model_name": "SliderStyleModel",
      "state": {
       "description_width": ""
      }
     },
     "ef4bbe33e19d4c8183c2dc8ce5f309cd": {
      "model_module": "@jupyter-widgets/controls",
      "model_module_version": "1.4.0",
      "model_name": "SliderStyleModel",
      "state": {
       "description_width": ""
      }
     },
     "ef54c0eccd4842d8911f430257bbd9ae": {
      "model_module": "@jupyter-widgets/base",
      "model_module_version": "1.1.0",
      "model_name": "LayoutModel",
      "state": {
       "display": "none",
       "visibility": "hidden",
       "width": "800px"
      }
     },
     "ef94e08dedbb4c81a523b73081985791": {
      "model_module": "@jupyter-widgets/controls",
      "model_module_version": "1.4.0",
      "model_name": "IntSliderModel",
      "state": {
       "description": "N. estim.",
       "layout": "IPY_MODEL_8a2c3a9d518546279d6576f94d68e862",
       "max": 200,
       "min": 2,
       "style": "IPY_MODEL_fecb2b491a1842c1b7d03c2ef7418788",
       "value": 30
      }
     },
     "f005ccf5c4b54becb6e6eab898e809cc": {
      "model_module": "@jupyter-widgets/base",
      "model_module_version": "1.1.0",
      "model_name": "LayoutModel",
      "state": {}
     },
     "f0124d16161847df9c5fca4364f51bb5": {
      "model_module": "@jupyter-widgets/controls",
      "model_module_version": "1.4.0",
      "model_name": "SliderStyleModel",
      "state": {
       "description_width": ""
      }
     },
     "f028266b48ff4151be4a8544d4b5b905": {
      "model_module": "@jupyter-widgets/controls",
      "model_module_version": "1.4.0",
      "model_name": "ButtonModel",
      "state": {
       "button_style": "info",
       "description": "Add model",
       "layout": "IPY_MODEL_65db822f1eb44435b74e1a2cb1684a22",
       "style": "IPY_MODEL_a1db0c151d5d4811afd2f41b4f0b955d"
      }
     },
     "f068d4cc61634341847c8abda2832cda": {
      "model_module": "@jupyter-widgets/controls",
      "model_module_version": "1.4.0",
      "model_name": "DropdownModel",
      "state": {
       "_options_labels": [
        "None",
        "rbf",
        "nystroem"
       ],
       "description": "Sampler",
       "index": 0,
       "layout": "IPY_MODEL_3bb6c1bed83f4b05902da37bf56fcac1",
       "style": "IPY_MODEL_7c985c2d1b2443af9ec9478a9aa6d000"
      }
     },
     "f07ba74dc7284486b7cf609ceff9363c": {
      "model_module": "@jupyter-widgets/controls",
      "model_module_version": "1.4.0",
      "model_name": "SliderStyleModel",
      "state": {
       "description_width": ""
      }
     },
     "f07f858b228548f8ae9b014c023b5b8e": {
      "model_module": "@jupyter-widgets/controls",
      "model_module_version": "1.4.0",
      "model_name": "DropdownModel",
      "state": {
       "_options_labels": [
        "dt",
        "logit",
        "linear_svc",
        "rbf_svc"
       ],
       "description": "Model",
       "index": 0,
       "layout": "IPY_MODEL_60babd7af81d43749a82c29f4b7234a9",
       "style": "IPY_MODEL_78bdc4ec9e3d454e85bb0b89569caedd"
      }
     },
     "f0c4e7404ac04d93a0b3a7b9bd0b1089": {
      "model_module": "@jupyter-widgets/controls",
      "model_module_version": "1.4.0",
      "model_name": "VBoxModel",
      "state": {
       "children": [
        "IPY_MODEL_ffe6b322b64b40ec957c0bab002b5fd5"
       ],
       "layout": "IPY_MODEL_d2c5f3f9b421459fad7d46902b772c34"
      }
     },
     "f0e22546c4014729bacd04df5b80a086": {
      "model_module": "@jupyter-widgets/base",
      "model_module_version": "1.1.0",
      "model_name": "LayoutModel",
      "state": {
       "visibility": "hidden",
       "width": "800px"
      }
     },
     "f103d889cecf42d8a9d6c336e53f8d3f": {
      "model_module": "@jupyter-widgets/base",
      "model_module_version": "1.1.0",
      "model_name": "LayoutModel",
      "state": {
       "display": "flex",
       "visibility": "visible",
       "width": "800px"
      }
     },
     "f11e5185ff4e4d3faf04998e09f5bb13": {
      "model_module": "@jupyter-widgets/controls",
      "model_module_version": "1.4.0",
      "model_name": "FloatSliderModel",
      "state": {
       "description": "min_impurity_decrease:",
       "layout": "IPY_MODEL_f103d889cecf42d8a9d6c336e53f8d3f",
       "max": 1,
       "step": 0.1,
       "style": "IPY_MODEL_b61f2276b32d4234a92b40cd06c01dd9"
      }
     },
     "f128ffdb516842f5ab3161528f4e5ecf": {
      "model_module": "@jupyter-widgets/controls",
      "model_module_version": "1.4.0",
      "model_name": "DescriptionStyleModel",
      "state": {
       "description_width": ""
      }
     },
     "f13d03bbf4664623b5cea1b916228898": {
      "model_module": "@jupyter-widgets/base",
      "model_module_version": "1.1.0",
      "model_name": "LayoutModel",
      "state": {
       "margin": "0px 20px 0px 0px"
      }
     },
     "f14fd0d3e9cf4fb588334500535ea8d4": {
      "model_module": "@jupyter-widgets/controls",
      "model_module_version": "1.4.0",
      "model_name": "SliderStyleModel",
      "state": {
       "description_width": ""
      }
     },
     "f15d8e78e2c64d27a26dcdc80fd72b80": {
      "model_module": "@jupyter-widgets/base",
      "model_module_version": "1.1.0",
      "model_name": "LayoutModel",
      "state": {
       "visibility": "hidden",
       "width": "800px"
      }
     },
     "f165084980fe4d039095265104bc0d81": {
      "model_module": "@jupyter-widgets/base",
      "model_module_version": "1.1.0",
      "model_name": "LayoutModel",
      "state": {
       "margin": "0px 20px 0px 0px"
      }
     },
     "f181b02ef8a547249f09efc2ebe65d0d": {
      "model_module": "@jupyter-widgets/controls",
      "model_module_version": "1.4.0",
      "model_name": "HTMLModel",
      "state": {
       "layout": "IPY_MODEL_409b8ae417aa4ce492cc59e17845987c",
       "style": "IPY_MODEL_792d94fceaa04399a5471cde03a33f80",
       "value": "<strong>Dataset</strong>: fall_detection"
      }
     },
     "f18b8cc6c7914fb29c328ab842196eed": {
      "model_module": "@jupyter-widgets/controls",
      "model_module_version": "1.4.0",
      "model_name": "FloatLogSliderModel",
      "state": {
       "description": "C",
       "layout": "IPY_MODEL_ef54c0eccd4842d8911f430257bbd9ae",
       "max": 5,
       "min": -5,
       "step": 1,
       "style": "IPY_MODEL_5c1f6ee5ec7c4fe6bf3490839d54fddf",
       "value": 1000
      }
     },
     "f18feb5f245a4d74bfbd1dd72d4071ee": {
      "model_module": "@jupyter-widgets/base",
      "model_module_version": "1.1.0",
      "model_name": "LayoutModel",
      "state": {
       "visibility": "hidden",
       "width": "800px"
      }
     },
     "f1975adb2db04389bce7a34a8d840bdf": {
      "model_module": "@jupyter-widgets/controls",
      "model_module_version": "1.4.0",
      "model_name": "ButtonModel",
      "state": {
       "button_style": "info",
       "description": "Add model",
       "layout": "IPY_MODEL_102308946ec14f1baaed48c71defd8b1",
       "style": "IPY_MODEL_b2708239bafc4f2b85eba5bb7e839606"
      }
     },
     "f1f953a680fa4e2583f315b321ccafee": {
      "model_module": "@jupyter-widgets/controls",
      "model_module_version": "1.4.0",
      "model_name": "SliderStyleModel",
      "state": {
       "description_width": ""
      }
     },
     "f20b3d21e3e043cb8b6ff854de9d9d47": {
      "model_module": "@jupyter-widgets/controls",
      "model_module_version": "1.4.0",
      "model_name": "FloatSliderModel",
      "state": {
       "description": "min_impurity_decrease:",
       "layout": "IPY_MODEL_d6609a646c70402ea692bfa239c0135d",
       "max": 1,
       "step": 0.1,
       "style": "IPY_MODEL_d4924514e90f4b0cb21974cded3362a0"
      }
     },
     "f2309a1b6b694251b03346849894dcb1": {
      "model_module": "@jupyter-widgets/controls",
      "model_module_version": "1.4.0",
      "model_name": "AccordionModel",
      "state": {
       "_titles": {
        "0": "Info run"
       },
       "children": [
        "IPY_MODEL_ab40317cb62c4ad7877796355841dfab"
       ],
       "layout": "IPY_MODEL_ae938747960b48cc9a82e02b86cd8d2f"
      }
     },
     "f2362da28c334a68b5e16aa07f21a52e": {
      "model_module": "@jupyter-widgets/controls",
      "model_module_version": "1.4.0",
      "model_name": "DropdownModel",
      "state": {
       "_options_labels": [
        "black_bag",
        "grey_bag",
        "black_ens",
        "grey_ens",
        "None"
       ],
       "description": "Box Type",
       "index": 4,
       "layout": "IPY_MODEL_80c45ef391a64990bf699a70805172af",
       "style": "IPY_MODEL_a3ff48a604644dce81b56be217cd858f"
      }
     },
     "f2b0547ecd064cf3b02aea49433d3086": {
      "model_module": "@jupyter-widgets/controls",
      "model_module_version": "1.4.0",
      "model_name": "ButtonModel",
      "state": {
       "button_style": "info",
       "description": "Add model",
       "layout": "IPY_MODEL_fad39b8064994267b313920eedb26629",
       "style": "IPY_MODEL_cae33aaced35471293d699e57b588eec"
      }
     },
     "f2f0e5ffdb924cf7a0a654208c443814": {
      "model_module": "@jupyter-widgets/base",
      "model_module_version": "1.1.0",
      "model_name": "LayoutModel",
      "state": {}
     },
     "f2f4fa82c504456da70630526ca6f7df": {
      "model_module": "@jupyter-widgets/controls",
      "model_module_version": "1.4.0",
      "model_name": "IntRangeSliderModel",
      "state": {
       "_model_name": "IntRangeSliderModel",
       "_view_name": "IntRangeSliderView",
       "layout": "IPY_MODEL_ca242cff05604424b5cb13caecfaf6d3",
       "max": 1000,
       "min": 30,
       "step": 10,
       "style": "IPY_MODEL_f8fd76a354e0466990fdf705ddeabcd8",
       "value": [
        30,
        100
       ]
      }
     },
     "f31ca72f4e3f4aefbca67ed312588f32": {
      "model_module": "@jupyter-widgets/base",
      "model_module_version": "1.1.0",
      "model_name": "LayoutModel",
      "state": {
       "display": "flex",
       "visibility": "visible",
       "width": "800px"
      }
     },
     "f33a599f083d4607a70524fe52f69c7f": {
      "model_module": "@jupyter-widgets/controls",
      "model_module_version": "1.4.0",
      "model_name": "ButtonStyleModel",
      "state": {}
     },
     "f345ceaf8baf4313b7e1e0c22036d379": {
      "model_module": "@jupyter-widgets/controls",
      "model_module_version": "1.4.0",
      "model_name": "ButtonModel",
      "state": {
       "button_style": "info",
       "description": "Add model",
       "layout": "IPY_MODEL_a6f2b5ce68bb48efa8a75b37c33fb35d",
       "style": "IPY_MODEL_2f279702f2a644c89f502a4bb21470c2"
      }
     },
     "f34cd89fb39b42e98dfc6cc3b2c82d2b": {
      "model_module": "@jupyter-widgets/controls",
      "model_module_version": "1.4.0",
      "model_name": "FloatLogSliderModel",
      "state": {
       "description": "Gamma",
       "layout": "IPY_MODEL_e6e1d98dc3f240fda3bf8bbbbdd796c3",
       "max": 2,
       "min": -4,
       "step": 1,
       "style": "IPY_MODEL_f14fd0d3e9cf4fb588334500535ea8d4",
       "value": 0.0001
      }
     },
     "f362b558425448feb68869d57a9fa521": {
      "model_module": "@jupyter-widgets/controls",
      "model_module_version": "1.4.0",
      "model_name": "DescriptionStyleModel",
      "state": {
       "description_width": ""
      }
     },
     "f371526771e74b588ba4eec133c7a966": {
      "model_module": "@jupyter-widgets/controls",
      "model_module_version": "1.4.0",
      "model_name": "HTMLModel",
      "state": {
       "layout": "IPY_MODEL_5fbd210e051f4588a761cf893ec08f18",
       "style": "IPY_MODEL_038d2382d8ba4ecb81e9372567993fce",
       "value": "<strong>Size</strong>: 2000"
      }
     },
     "f3b285e5485344f8b6be64f81ea9e269": {
      "model_module": "@jupyter-widgets/controls",
      "model_module_version": "1.4.0",
      "model_name": "DescriptionStyleModel",
      "state": {
       "description_width": ""
      }
     },
     "f3d0e9e2ae2f46dabfb67c102ab4f3aa": {
      "model_module": "@jupyter-widgets/controls",
      "model_module_version": "1.4.0",
      "model_name": "ButtonStyleModel",
      "state": {}
     },
     "f3eb3638a65f433081e00ebbefcb0eae": {
      "model_module": "@jupyter-widgets/base",
      "model_module_version": "1.1.0",
      "model_name": "LayoutModel",
      "state": {
       "visibility": "hidden",
       "width": "800px"
      }
     },
     "f400e55db1094b1b89593888fadd56f6": {
      "model_module": "@jupyter-widgets/controls",
      "model_module_version": "1.4.0",
      "model_name": "VBoxModel",
      "state": {
       "children": [
        "IPY_MODEL_68ce76c243034e52b9c753d1a80f343c"
       ],
       "layout": "IPY_MODEL_402eea9903844acbaf4ab0d326a5430d"
      }
     },
     "f403b22453fe4eb6a3975e9f1f509693": {
      "model_module": "@jupyter-widgets/controls",
      "model_module_version": "1.4.0",
      "model_name": "DescriptionStyleModel",
      "state": {
       "description_width": ""
      }
     },
     "f40477261ab94224a8acecf5ef9fe421": {
      "model_module": "@jupyter-widgets/base",
      "model_module_version": "1.1.0",
      "model_name": "LayoutModel",
      "state": {
       "display": "none",
       "visibility": "hidden",
       "width": "800px"
      }
     },
     "f40c2c7ce920480c867943885f057387": {
      "model_module": "@jupyter-widgets/controls",
      "model_module_version": "1.4.0",
      "model_name": "SliderStyleModel",
      "state": {
       "description_width": ""
      }
     },
     "f42a2eaa194041d3b481a8b9d2106a4e": {
      "model_module": "@jupyter-widgets/controls",
      "model_module_version": "1.4.0",
      "model_name": "AccordionModel",
      "state": {
       "_titles": {
        "0": "Info run"
       },
       "children": [
        "IPY_MODEL_c0d3f993db6f45a1ab570e3c73aeac0a"
       ],
       "layout": "IPY_MODEL_fb9bc94ffc404bbe9263fea1989bef49"
      }
     },
     "f488f572885649a180857f0a475c3ca0": {
      "model_module": "@jupyter-widgets/base",
      "model_module_version": "1.1.0",
      "model_name": "LayoutModel",
      "state": {}
     },
     "f493ee45f27e4ffea4e5f3c08be8b4c0": {
      "model_module": "@jupyter-widgets/controls",
      "model_module_version": "1.4.0",
      "model_name": "DropdownModel",
      "state": {
       "_options_labels": [
        "dt",
        "logit",
        "linear_svc",
        "rbf_svc"
       ],
       "description": "Model",
       "index": 0,
       "layout": "IPY_MODEL_47b22fda65494b128ab46f1dc26ad20d",
       "style": "IPY_MODEL_beaf43a84a1b40fbaf7515d778df3fc3"
      }
     },
     "f4ae6c45cc4e4744a5588a7f00c9595f": {
      "model_module": "@jupyter-widgets/base",
      "model_module_version": "1.1.0",
      "model_name": "LayoutModel",
      "state": {
       "visibility": "hidden",
       "width": "800px"
      }
     },
     "f4b67d1c11c841d189dfdd7b3d5c65be": {
      "model_module": "@jupyter-widgets/base",
      "model_module_version": "1.1.0",
      "model_name": "LayoutModel",
      "state": {}
     },
     "f4de96016cdc448a9180b38e7f1b7d7d": {
      "model_module": "@jupyter-widgets/base",
      "model_module_version": "1.1.0",
      "model_name": "LayoutModel",
      "state": {}
     },
     "f4eff4c0eb4048628bd1c0bd321789e7": {
      "model_module": "@jupyter-widgets/base",
      "model_module_version": "1.1.0",
      "model_name": "LayoutModel",
      "state": {
       "margin": "0px 20px 0px 0px"
      }
     },
     "f4f09d8d6fd74ad3a7721aa523fcabb2": {
      "model_module": "@jupyter-widgets/controls",
      "model_module_version": "1.4.0",
      "model_name": "DescriptionStyleModel",
      "state": {
       "description_width": ""
      }
     },
     "f4f6ee8330d447958433f272c4ba0d77": {
      "model_module": "@jupyter-widgets/base",
      "model_module_version": "1.1.0",
      "model_name": "LayoutModel",
      "state": {
       "width": "900px"
      }
     },
     "f5374293db1842c995598e8cb2f5e5ae": {
      "model_module": "@jupyter-widgets/controls",
      "model_module_version": "1.4.0",
      "model_name": "ButtonStyleModel",
      "state": {}
     },
     "f54697c357fe4926ac3401d60f3598c0": {
      "model_module": "@jupyter-widgets/base",
      "model_module_version": "1.1.0",
      "model_name": "LayoutModel",
      "state": {}
     },
     "f5523b030a1e46be82a63254da44377b": {
      "model_module": "@jupyter-widgets/controls",
      "model_module_version": "1.4.0",
      "model_name": "ButtonModel",
      "state": {
       "button_style": "info",
       "description": "Demo10",
       "layout": "IPY_MODEL_d9840c073d404f58a67cf011777c0a41",
       "style": "IPY_MODEL_0433de4463dd4f57979ea38f816f3d4a"
      }
     },
     "f553eee454b1447b8d8f1001d03d5dd5": {
      "model_module": "@jupyter-widgets/controls",
      "model_module_version": "1.4.0",
      "model_name": "DescriptionStyleModel",
      "state": {
       "description_width": ""
      }
     },
     "f55a005fdf49495781f21fa453364408": {
      "model_module": "@jupyter-widgets/controls",
      "model_module_version": "1.4.0",
      "model_name": "DescriptionStyleModel",
      "state": {
       "description_width": ""
      }
     },
     "f5617f4b3e3240a5801b1bcab861d6f9": {
      "model_module": "@jupyter-widgets/controls",
      "model_module_version": "1.4.0",
      "model_name": "DescriptionStyleModel",
      "state": {
       "description_width": ""
      }
     },
     "f57394ef41f248a0b9c2a1eb127ee9fd": {
      "model_module": "@jupyter-widgets/base",
      "model_module_version": "1.1.0",
      "model_name": "LayoutModel",
      "state": {}
     },
     "f5974bcafb1441e49205c072551dc856": {
      "model_module": "@jupyter-widgets/controls",
      "model_module_version": "1.4.0",
      "model_name": "DropdownModel",
      "state": {
       "_options_labels": [
        "None",
        "rbf",
        "nystroem"
       ],
       "description": "Sampler",
       "index": 0,
       "layout": "IPY_MODEL_845fbc41ddcc4f8387441fc061817f41",
       "style": "IPY_MODEL_4970db6f60e34ae986170072c07087a1"
      }
     },
     "f5b44a7bd3614778874f06d340d8de64": {
      "model_module": "@jupyter-widgets/controls",
      "model_module_version": "1.4.0",
      "model_name": "ButtonStyleModel",
      "state": {}
     },
     "f5cf1fd17a4b45f3a9cbea9bf865dacd": {
      "model_module": "@jupyter-widgets/base",
      "model_module_version": "1.1.0",
      "model_name": "LayoutModel",
      "state": {}
     },
     "f5f1de5972d840b48a5f2e52632255a8": {
      "model_module": "@jupyter-widgets/base",
      "model_module_version": "1.1.0",
      "model_name": "LayoutModel",
      "state": {}
     },
     "f608a1e57a6941bfa52a23f9535f6d5d": {
      "model_module": "@jupyter-widgets/controls",
      "model_module_version": "1.4.0",
      "model_name": "SliderStyleModel",
      "state": {
       "description_width": ""
      }
     },
     "f69115b92eb14493b24b6402c11d2ecc": {
      "model_module": "@jupyter-widgets/base",
      "model_module_version": "1.1.0",
      "model_name": "LayoutModel",
      "state": {}
     },
     "f6fc052bf9454b7697ba7c58d9869b43": {
      "model_module": "@jupyter-widgets/controls",
      "model_module_version": "1.4.0",
      "model_name": "ButtonModel",
      "state": {
       "button_style": "warning",
       "description": "Remove model",
       "layout": "IPY_MODEL_b6106318b6d8496f92ca17167b66d487",
       "style": "IPY_MODEL_4657fc6b28b74f858a6498bff6360656"
      }
     },
     "f724948495934afc9f2c5a6c4935be8b": {
      "model_module": "@jupyter-widgets/controls",
      "model_module_version": "1.4.0",
      "model_name": "DescriptionStyleModel",
      "state": {
       "description_width": ""
      }
     },
     "f76130a8642c4cf1b959b1cacf4c12db": {
      "model_module": "@jupyter-widgets/base",
      "model_module_version": "1.1.0",
      "model_name": "LayoutModel",
      "state": {}
     },
     "f76f9d6d60024ddebc21b376d7d5bde7": {
      "model_module": "@jupyter-widgets/controls",
      "model_module_version": "1.4.0",
      "model_name": "ButtonModel",
      "state": {
       "button_style": "warning",
       "description": "Remove model",
       "layout": "IPY_MODEL_189c8f0018d24a4d8277f0cc110f4fd9",
       "style": "IPY_MODEL_4ae23ab1c6714c788a599036ec561e31"
      }
     },
     "f7818b57dad847eca508b43464ac7ec8": {
      "model_module": "@jupyter-widgets/controls",
      "model_module_version": "1.4.0",
      "model_name": "DropdownModel",
      "state": {
       "_options_labels": [
        "dt",
        "logit",
        "linear_svc",
        "rbf_svc"
       ],
       "description": "Model",
       "index": 0,
       "layout": "IPY_MODEL_3bc64c9796534abb9494e92ef98c7ad5",
       "style": "IPY_MODEL_59a1e6a8fae4482abb1182d44a50f654"
      }
     },
     "f78b1940158d49a684f8ca07e760abba": {
      "model_module": "@jupyter-widgets/base",
      "model_module_version": "1.1.0",
      "model_name": "LayoutModel",
      "state": {}
     },
     "f7d27966572d4811a65c5268c5b433bb": {
      "model_module": "@jupyter-widgets/base",
      "model_module_version": "1.1.0",
      "model_name": "LayoutModel",
      "state": {
       "display": "none",
       "visibility": "hidden",
       "width": "800px"
      }
     },
     "f82f23c03f0f4991ae34137226428a17": {
      "model_module": "@jupyter-widgets/controls",
      "model_module_version": "1.4.0",
      "model_name": "ButtonStyleModel",
      "state": {}
     },
     "f89643cd7027485c9ce764ee50682041": {
      "model_module": "@jupyter-widgets/controls",
      "model_module_version": "1.4.0",
      "model_name": "IntSliderModel",
      "state": {
       "description": "C",
       "layout": "IPY_MODEL_6db6adda2e994f328dcd83aa40fa8c3d",
       "max": 10,
       "min": 1,
       "style": "IPY_MODEL_8e9f324d42e449228d8a2e2b805d7a00",
       "value": 5
      }
     },
     "f8a009b949bb414a8591da4c3affaa05": {
      "model_module": "@jupyter-widgets/controls",
      "model_module_version": "1.4.0",
      "model_name": "VBoxModel",
      "state": {
       "children": [
        "IPY_MODEL_fd87bae8982e4474b2375fe5f70a9845"
       ],
       "layout": "IPY_MODEL_7dca51da3d744822b5bbbae9b2631a64"
      }
     },
     "f8ad274701ba4c70ba1a85c2a399a8cc": {
      "model_module": "@jupyter-widgets/controls",
      "model_module_version": "1.4.0",
      "model_name": "IntRangeSliderModel",
      "state": {
       "_model_name": "IntRangeSliderModel",
       "_view_name": "IntRangeSliderView",
       "layout": "IPY_MODEL_6901ada504f04a6f9c86fff6389129c6",
       "max": 1000,
       "min": 30,
       "step": 10,
       "style": "IPY_MODEL_10cc09b0933745bb876fdbea8215f079",
       "value": [
        30,
        100
       ]
      }
     },
     "f8fd76a354e0466990fdf705ddeabcd8": {
      "model_module": "@jupyter-widgets/controls",
      "model_module_version": "1.4.0",
      "model_name": "SliderStyleModel",
      "state": {
       "description_width": ""
      }
     },
     "f901e8af9f014799986f55e5adaf7eee": {
      "model_module": "@jupyter-widgets/base",
      "model_module_version": "1.1.0",
      "model_name": "LayoutModel",
      "state": {}
     },
     "f912955e271c4ce09500dcec84605f4d": {
      "model_module": "@jupyter-widgets/controls",
      "model_module_version": "1.4.0",
      "model_name": "HBoxModel",
      "state": {
       "children": [
        "IPY_MODEL_fcbc7279fed4428390fd8a0f70cef418",
        "IPY_MODEL_cb2a8f5aac2643a0b098f3b3a7191cde"
       ],
       "layout": "IPY_MODEL_176567ef0baa4d21a224b1d904d7becc"
      }
     },
     "f92ab3ae60c742a8ad6a65456fb3f421": {
      "model_module": "@jupyter-widgets/controls",
      "model_module_version": "1.4.0",
      "model_name": "IntSliderModel",
      "state": {
       "description": "C",
       "layout": "IPY_MODEL_95130066e8084436a71e1a2b211ab8a2",
       "max": 10,
       "min": 1,
       "style": "IPY_MODEL_2c706204d18c4a67ad7e9f301bb8bd80",
       "value": 5
      }
     },
     "f94c84b2700b45c8b9c16d4b281b18df": {
      "model_module": "@jupyter-widgets/controls",
      "model_module_version": "1.4.0",
      "model_name": "SliderStyleModel",
      "state": {
       "description_width": ""
      }
     },
     "f9728d27d83a475cabc9e3e30ff2aec7": {
      "model_module": "@jupyter-widgets/controls",
      "model_module_version": "1.4.0",
      "model_name": "DescriptionStyleModel",
      "state": {
       "description_width": ""
      }
     },
     "f9916221df42429693b5c053e42d21e8": {
      "model_module": "@jupyter-widgets/base",
      "model_module_version": "1.1.0",
      "model_name": "LayoutModel",
      "state": {}
     },
     "f9a6550cf0974ba6a98c4888bb6ddcc0": {
      "model_module": "@jupyter-widgets/base",
      "model_module_version": "1.1.0",
      "model_name": "LayoutModel",
      "state": {}
     },
     "f9c436d550e94652a4d2ede338f419e2": {
      "model_module": "@jupyter-widgets/controls",
      "model_module_version": "1.4.0",
      "model_name": "DescriptionStyleModel",
      "state": {
       "description_width": ""
      }
     },
     "f9ee27cc1e0d4f479e0154a10602f311": {
      "model_module": "@jupyter-widgets/controls",
      "model_module_version": "1.4.0",
      "model_name": "ButtonStyleModel",
      "state": {}
     },
     "fa04feb4822543849edc2a34f0a27016": {
      "model_module": "@jupyter-widgets/base",
      "model_module_version": "1.1.0",
      "model_name": "LayoutModel",
      "state": {}
     },
     "fa11dd040b4743a49e6b56531e7b8431": {
      "model_module": "@jupyter-widgets/base",
      "model_module_version": "1.1.0",
      "model_name": "LayoutModel",
      "state": {}
     },
     "fa1a442b6daa4d96b576425b83a9fba2": {
      "model_module": "@jupyter-widgets/base",
      "model_module_version": "1.1.0",
      "model_name": "LayoutModel",
      "state": {
       "display": "none",
       "visibility": "hidden",
       "width": "800px"
      }
     },
     "fa7c1100214c4409b598f9dcc28c885b": {
      "model_module": "@jupyter-widgets/base",
      "model_module_version": "1.1.0",
      "model_name": "LayoutModel",
      "state": {}
     },
     "fa7c520b413a4069a8e7fd077dc29a9f": {
      "model_module": "@jupyter-widgets/controls",
      "model_module_version": "1.4.0",
      "model_name": "HTMLModel",
      "state": {
       "layout": "IPY_MODEL_d2681612e802434795ed9a4c7a518d8f",
       "style": "IPY_MODEL_72353aee81154b92973952048e4e5a03",
       "value": "<strong>Dataset</strong>: satellite"
      }
     },
     "fa88a2cdfcb44862a4811b395fa39526": {
      "model_module": "@jupyter-widgets/controls",
      "model_module_version": "1.4.0",
      "model_name": "HBoxModel",
      "state": {
       "children": [
        "IPY_MODEL_3b8c7fb734d1462db94410b6e51dfd33",
        "IPY_MODEL_cf19e60c6eca4bb6b2dafda270d0894c"
       ],
       "layout": "IPY_MODEL_339bf1073c1b43d3805f5c0c674a94f8"
      }
     },
     "fad39b8064994267b313920eedb26629": {
      "model_module": "@jupyter-widgets/base",
      "model_module_version": "1.1.0",
      "model_name": "LayoutModel",
      "state": {}
     },
     "fadffb43402c4b2a9269b0d5f810e0d8": {
      "model_module": "@jupyter-widgets/controls",
      "model_module_version": "1.4.0",
      "model_name": "DescriptionStyleModel",
      "state": {
       "description_width": ""
      }
     },
     "faebd372ac8e485a9fc66fd47705b36d": {
      "model_module": "@jupyter-widgets/base",
      "model_module_version": "1.1.0",
      "model_name": "LayoutModel",
      "state": {}
     },
     "fb12bec1f30d4cf48f344afd9b636c35": {
      "model_module": "@jupyter-widgets/controls",
      "model_module_version": "1.4.0",
      "model_name": "SliderStyleModel",
      "state": {
       "description_width": ""
      }
     },
     "fb9bc94ffc404bbe9263fea1989bef49": {
      "model_module": "@jupyter-widgets/base",
      "model_module_version": "1.1.0",
      "model_name": "LayoutModel",
      "state": {}
     },
     "fbc2bfc7b81444e78122ddfa0e445eec": {
      "model_module": "@jupyter-widgets/controls",
      "model_module_version": "1.4.0",
      "model_name": "ButtonModel",
      "state": {
       "button_style": "info",
       "description": "Add model",
       "layout": "IPY_MODEL_cc0c7249bebc49e999b071b6a355cbc8",
       "style": "IPY_MODEL_8dbc076b0d1c437c840b3f266a50b907"
      }
     },
     "fcab2e6ae4b64c9b85509d6237c01a9f": {
      "model_module": "@jupyter-widgets/base",
      "model_module_version": "1.1.0",
      "model_name": "LayoutModel",
      "state": {
       "display": "none",
       "visibility": "hidden",
       "width": "800px"
      }
     },
     "fcbc7279fed4428390fd8a0f70cef418": {
      "model_module": "@jupyter-widgets/controls",
      "model_module_version": "1.4.0",
      "model_name": "VBoxModel",
      "state": {
       "children": [
        "IPY_MODEL_3cc8e3bc5990401aacd7df0a9a684bd9"
       ],
       "layout": "IPY_MODEL_5b4ddb00ec6a44849261770def3163c0"
      }
     },
     "fcebcee5eb854a9fa1d2367e1fc109c8": {
      "model_module": "@jupyter-widgets/controls",
      "model_module_version": "1.4.0",
      "model_name": "ButtonStyleModel",
      "state": {}
     },
     "fcfef4af78c64445880e8f1125153f17": {
      "model_module": "@jupyter-widgets/controls",
      "model_module_version": "1.4.0",
      "model_name": "DescriptionStyleModel",
      "state": {
       "description_width": ""
      }
     },
     "fd2970ef8084468695a68c4b19b94364": {
      "model_module": "@jupyter-widgets/base",
      "model_module_version": "1.1.0",
      "model_name": "LayoutModel",
      "state": {}
     },
     "fd3204853b3e48908f47bfb843fa157a": {
      "model_module": "@jupyter-widgets/controls",
      "model_module_version": "1.4.0",
      "model_name": "IntSliderModel",
      "state": {
       "description": "C",
       "layout": "IPY_MODEL_b0e6fb426e30402bb96bebe0322db9f6",
       "max": 10,
       "min": 1,
       "style": "IPY_MODEL_05444163a009402f88b922a9f05123ee",
       "value": 5
      }
     },
     "fd378430ef6a472ea5a16de3b2591c1f": {
      "model_module": "@jupyter-widgets/controls",
      "model_module_version": "1.4.0",
      "model_name": "DescriptionStyleModel",
      "state": {
       "description_width": ""
      }
     },
     "fd3b4fad8eb64f5799948e32befbb15b": {
      "model_module": "@jupyter-widgets/base",
      "model_module_version": "1.1.0",
      "model_name": "LayoutModel",
      "state": {}
     },
     "fd7f3631b22345619a5a2306c8ac6d7a": {
      "model_module": "@jupyter-widgets/controls",
      "model_module_version": "1.4.0",
      "model_name": "FloatSliderModel",
      "state": {
       "description": "min_impurity_decrease:",
       "layout": "IPY_MODEL_fffad535a61340aeabfa9ca0224a9639",
       "max": 1,
       "step": 0.1,
       "style": "IPY_MODEL_7d877212233649a28bea6f2c11d4a511"
      }
     },
     "fd87bae8982e4474b2375fe5f70a9845": {
      "model_module": "@jupyter-widgets/controls",
      "model_module_version": "1.4.0",
      "model_name": "HTMLModel",
      "state": {
       "layout": "IPY_MODEL_a5a0098e6dfc483b84f49e0b72989dff",
       "style": "IPY_MODEL_dcc34ec2a81e42458885fe351aba5f9c",
       "value": "<strong>Size</strong>: 2000"
      }
     },
     "fd87f57b20e949be9a7f072112bd85d5": {
      "model_module": "@jupyter-widgets/base",
      "model_module_version": "1.1.0",
      "model_name": "LayoutModel",
      "state": {}
     },
     "fdd47ad19c29439e8ec50566814ffa81": {
      "model_module": "@jupyter-widgets/controls",
      "model_module_version": "1.4.0",
      "model_name": "SliderStyleModel",
      "state": {
       "description_width": "initial"
      }
     },
     "fe163a44364e4582be291b4f8d912937": {
      "model_module": "@jupyter-widgets/base",
      "model_module_version": "1.1.0",
      "model_name": "LayoutModel",
      "state": {
       "visibility": "hidden",
       "width": "800px"
      }
     },
     "fe51c235f2f0481785795cc685720dcd": {
      "model_module": "@jupyter-widgets/controls",
      "model_module_version": "1.4.0",
      "model_name": "FloatLogSliderModel",
      "state": {
       "description": "Gamma",
       "layout": "IPY_MODEL_0cf830863dd34313b7adbdc1ff6fd14d",
       "max": 2,
       "min": -4,
       "step": 1,
       "style": "IPY_MODEL_ba46d8a2353a49d5b37a53ed1eac4409",
       "value": 0.0001
      }
     },
     "fe5fc349f0d940a19b4bea885bee2acf": {
      "model_module": "@jupyter-widgets/controls",
      "model_module_version": "1.4.0",
      "model_name": "DropdownModel",
      "state": {
       "_options_labels": [
        "black_bag",
        "grey_bag",
        "black_ens",
        "grey_ens",
        "None"
       ],
       "description": "Box Type",
       "index": 4,
       "layout": "IPY_MODEL_89ab22fae4f945fe8cda67e39c49d859",
       "style": "IPY_MODEL_4c381943afc64da48a24ee4775af74bf"
      }
     },
     "fe7730a9f2dc4f5fb388025252436f87": {
      "model_module": "@jupyter-widgets/base",
      "model_module_version": "1.1.0",
      "model_name": "LayoutModel",
      "state": {
       "visibility": "hidden",
       "width": "800px"
      }
     },
     "fea271432fd54020b1c1ba80fc27ea6d": {
      "model_module": "@jupyter-widgets/controls",
      "model_module_version": "1.4.0",
      "model_name": "ButtonStyleModel",
      "state": {}
     },
     "febbfdf2d54046ecac2fdc8e3de78939": {
      "model_module": "@jupyter-widgets/controls",
      "model_module_version": "1.4.0",
      "model_name": "VBoxModel",
      "state": {
       "children": [
        "IPY_MODEL_38a06f3ec3af412a9941753d661701cb",
        "IPY_MODEL_3ce20191a45841f1bebafd23e6efba74",
        "IPY_MODEL_89d084804b05427982b8d31d36fdc7e4",
        "IPY_MODEL_67fa63d0c90449aaaad322f979a2c4f8",
        "IPY_MODEL_75b256225bcf494a9b93748d065607d0",
        "IPY_MODEL_c504f082b44b45cd853579fd1a428378",
        "IPY_MODEL_a7c7f682299e46629be969ca832d27d5",
        "IPY_MODEL_d3a60be61048432bb6945fd104431438"
       ],
       "layout": "IPY_MODEL_b676a9e144714663addc6b303ec52c77"
      }
     },
     "fecb2b491a1842c1b7d03c2ef7418788": {
      "model_module": "@jupyter-widgets/controls",
      "model_module_version": "1.4.0",
      "model_name": "SliderStyleModel",
      "state": {
       "description_width": ""
      }
     },
     "fecc0a0a8e214420a5f5401cf8935220": {
      "model_module": "@jupyter-widgets/controls",
      "model_module_version": "1.4.0",
      "model_name": "FloatLogSliderModel",
      "state": {
       "description": "Gamma",
       "layout": "IPY_MODEL_8a139e523a1c439eadcfbd6ab98dd4c9",
       "max": 2,
       "min": -4,
       "step": 1,
       "style": "IPY_MODEL_784ba9bc547c4085955a09251db4c12e",
       "value": 0.0001
      }
     },
     "fed605ef2edc4a6db5e29ec41745070a": {
      "model_module": "@jupyter-widgets/controls",
      "model_module_version": "1.4.0",
      "model_name": "DropdownModel",
      "state": {
       "_options_labels": [
        "None",
        "rbf",
        "nystroem"
       ],
       "description": "Sampler",
       "index": 0,
       "layout": "IPY_MODEL_1d57f26efb534782ab8dd17a38777830",
       "style": "IPY_MODEL_f3b285e5485344f8b6be64f81ea9e269"
      }
     },
     "ff1d36aa419f4849bc204daeee42ff58": {
      "model_module": "@jupyter-widgets/base",
      "model_module_version": "1.1.0",
      "model_name": "LayoutModel",
      "state": {}
     },
     "ff576c3a98bb44f49f648d6603d60124": {
      "model_module": "@jupyter-widgets/controls",
      "model_module_version": "1.4.0",
      "model_name": "VBoxModel",
      "state": {
       "children": [
        "IPY_MODEL_ff7494be341b4b9cbd2759e3d3edbd0d"
       ],
       "layout": "IPY_MODEL_d2c5f3f9b421459fad7d46902b772c34"
      }
     },
     "ff7494be341b4b9cbd2759e3d3edbd0d": {
      "model_module": "@jupyter-widgets/controls",
      "model_module_version": "1.4.0",
      "model_name": "HTMLModel",
      "state": {
       "layout": "IPY_MODEL_2fbb16cfb7a645eeb085e7ec7a15dabb",
       "style": "IPY_MODEL_7dcbf554d8b94521b67a8202461838d7",
       "value": "<strong>Size</strong>: 2000"
      }
     },
     "ffe0c7c39c394ca0b3c4e1b230fa1c50": {
      "model_module": "@jupyter-widgets/controls",
      "model_module_version": "1.4.0",
      "model_name": "HTMLModel",
      "state": {
       "layout": "IPY_MODEL_474d8f554c314eae99dcfc4dd639d19c",
       "style": "IPY_MODEL_2790c16d6bd748d2868fde9dc6cfba72",
       "value": "<strong>Dataset</strong>: digits"
      }
     },
     "ffe6b322b64b40ec957c0bab002b5fd5": {
      "model_module": "@jupyter-widgets/controls",
      "model_module_version": "1.4.0",
      "model_name": "HTMLModel",
      "state": {
       "layout": "IPY_MODEL_97833b53218548c68781dd26f7fdf52e",
       "style": "IPY_MODEL_e2ff56d1929d43f0baa2fcfba02d7a32",
       "value": "<strong>Dataset</strong>: covertype"
      }
     },
     "fffad535a61340aeabfa9ca0224a9639": {
      "model_module": "@jupyter-widgets/base",
      "model_module_version": "1.1.0",
      "model_name": "LayoutModel",
      "state": {
       "display": "flex",
       "visibility": "visible",
       "width": "800px"
      }
     }
    },
    "version_major": 2,
    "version_minor": 0
   }
  }
 },
 "nbformat": 4,
 "nbformat_minor": 2
}
