{
 "cells": [
  {
   "cell_type": "markdown",
   "metadata": {},
   "source": [
    "# Detección probema MNIST"
   ]
  },
  {
   "cell_type": "code",
   "execution_count": 1,
   "metadata": {},
   "outputs": [
    {
     "data": {
      "application/javascript": [
       "IPython.OutputArea.prototype._should_scroll = function(lines) {\n",
       "    return false;\n",
       "}\n"
      ],
      "text/plain": [
       "<IPython.core.display.Javascript object>"
      ]
     },
     "metadata": {},
     "output_type": "display_data"
    }
   ],
   "source": [
    "%%javascript\n",
    "IPython.OutputArea.prototype._should_scroll = function(lines) {\n",
    "    return false;\n",
    "}"
   ]
  },
  {
   "cell_type": "code",
   "execution_count": 2,
   "metadata": {},
   "outputs": [],
   "source": [
    "from demo_utils.general import get_data\n",
    "from sklearn.kernel_approximation import Nystroem\n",
    "from sklearn.decomposition import PCA\n",
    "from demo_utils.demo0 import Demo0"
   ]
  },
  {
   "cell_type": "code",
   "execution_count": null,
   "metadata": {},
   "outputs": [],
   "source": [
    "d = get_data('mnist', n_ins = 2000)\n",
    "\n",
    "data_train = d['data_train']\n",
    "data_test = d['data_test']\n",
    "target_train = d['target_train']\n",
    "target_test = d['target_test']"
   ]
  },
  {
   "cell_type": "markdown",
   "metadata": {},
   "source": [
    "## Directamente con Nystroem"
   ]
  },
  {
   "cell_type": "code",
   "execution_count": null,
   "metadata": {},
   "outputs": [],
   "source": [
    "nys = Nystroem(gamma=0.2, n_components = 500)\n",
    "pca = PCA(n_components=0.9, svd_solver=\"full\")"
   ]
  },
  {
   "cell_type": "code",
   "execution_count": null,
   "metadata": {},
   "outputs": [],
   "source": [
    "pca.fit(data_train, target_train)"
   ]
  },
  {
   "cell_type": "code",
   "execution_count": null,
   "metadata": {},
   "outputs": [],
   "source": [
    "trans_data = pca.transform(data_train)"
   ]
  },
  {
   "cell_type": "code",
   "execution_count": null,
   "metadata": {},
   "outputs": [],
   "source": [
    "trans_data.shape"
   ]
  },
  {
   "cell_type": "code",
   "execution_count": null,
   "metadata": {},
   "outputs": [],
   "source": [
    "nys.fit(trans_data)"
   ]
  },
  {
   "cell_type": "code",
   "execution_count": null,
   "metadata": {},
   "outputs": [],
   "source": [
    "t = nys.transform(trans_data)"
   ]
  },
  {
   "cell_type": "code",
   "execution_count": null,
   "metadata": {},
   "outputs": [],
   "source": [
    "t.shape"
   ]
  },
  {
   "cell_type": "markdown",
   "metadata": {},
   "source": [
    "No da ningún problema"
   ]
  },
  {
   "cell_type": "markdown",
   "metadata": {},
   "source": [
    "Repetirlo muchas veces"
   ]
  },
  {
   "cell_type": "code",
   "execution_count": null,
   "metadata": {},
   "outputs": [],
   "source": [
    "nys = Nystroem(gamma=0.2, n_components = 500)\n",
    "pca = PCA(n_components=0.9, svd_solver=\"full\")\n",
    "for i in range(20):\n",
    "    print('One iteration')\n",
    "    nys.set_params(n_components=200)\n",
    "    \n",
    "    nys.fit(trans_data)\n",
    "    trans_data = nys.transform(trans_data)\n",
    "    \n",
    "    pca.fit(trans_data, target_train)\n",
    "    t = pca.transform(trans_data)\n",
    "\n",
    "    \n",
    "print('ended')"
   ]
  },
  {
   "cell_type": "markdown",
   "metadata": {},
   "source": [
    "## Usando el get_model que tengo hecho"
   ]
  },
  {
   "cell_type": "code",
   "execution_count": null,
   "metadata": {},
   "outputs": [],
   "source": [
    "from demo_utils.learning import get_model"
   ]
  },
  {
   "cell_type": "code",
   "execution_count": null,
   "metadata": {},
   "outputs": [],
   "source": [
    "mod = get_model(\n",
    "    model_name='dt',\n",
    "    sampler_name='nystroem',\n",
    "    pca_bool=False,\n",
    "    n_estim=20,\n",
    "    box_type='black',\n",
    "    gamma=0.2,\n",
    "    C=1\n",
    ")"
   ]
  },
  {
   "cell_type": "code",
   "execution_count": null,
   "metadata": {},
   "outputs": [],
   "source": [
    "for f in range(2, 800, 100):\n",
    "    mod.set_params(sampler__n_components=f)\n",
    "    mod.fit(data_train, target_train)\n",
    "    train_score = mod.score(data_train, target_train)\n",
    "    test_score = mod.score(data_test, target_test)\n",
    "    print(f)\n",
    "    print(train_score, test_score)"
   ]
  },
  {
   "cell_type": "markdown",
   "metadata": {},
   "source": [
    "No da ningún problema"
   ]
  },
  {
   "cell_type": "markdown",
   "metadata": {},
   "source": [
    "## Usando la demo0"
   ]
  },
  {
   "cell_type": "code",
   "execution_count": 3,
   "metadata": {},
   "outputs": [],
   "source": [
    "demo = Demo0()"
   ]
  },
  {
   "cell_type": "code",
   "execution_count": 6,
   "metadata": {},
   "outputs": [
    {
     "data": {
      "text/markdown": [
       "# Una demo genérica"
      ],
      "text/plain": [
       "<IPython.core.display.Markdown object>"
      ]
     },
     "metadata": {},
     "output_type": "display_data"
    },
    {
     "data": {
      "application/vnd.jupyter.widget-view+json": {
       "model_id": "34fb17e628f6462d9a6383d571fa9929",
       "version_major": 2,
       "version_minor": 0
      },
      "text/plain": [
       "VBox(children=(Dropdown(description='Dataset:', index=4, options=('segment', 'covertype', 'digits', 'fall_dete…"
      ]
     },
     "metadata": {},
     "output_type": "display_data"
    },
    {
     "data": {
      "application/vnd.jupyter.widget-view+json": {
       "model_id": "f81b085d5ed24217aa78f94babb18592",
       "version_major": 2,
       "version_minor": 0
      },
      "text/plain": [
       "Output(outputs=({'output_type': 'display_data', 'data': {'text/plain': '<IPython.core.display.Markdown object>…"
      ]
     },
     "metadata": {},
     "output_type": "display_data"
    },
    {
     "data": {
      "text/html": [],
      "text/plain": [
       "<demo_utils.demo0.Demo0 at 0x7feb581a2748>"
      ]
     },
     "execution_count": 6,
     "metadata": {},
     "output_type": "execute_result"
    },
    {
     "name": "stdout",
     "output_type": "stream",
     "text": [
      "Es un grey\n",
      "El clf que usamos es:\n",
      "BaggingClassifier(base_estimator=Pipeline(memory=None,\n",
      "     steps=[('sampler', Nystroem(coef0=None, degree=None, gamma=0.2, kernel='rbf', kernel_params=None,\n",
      "     n_components=1992, random_state=None)), ('pca', PCA(copy=True, iterated_power='auto', n_components=0.9, random_state=None,\n",
      "  svd_solver='full', tol=0.0, whiten=False)), ('model', LogisticRegression...enalty='l2', random_state=None, solver='lbfgs',\n",
      "          tol=0.0001, verbose=0, warm_start=False))]),\n",
      "         bootstrap=True, bootstrap_features=False, max_features=1.0,\n",
      "         max_samples=1.0, n_estimators=3, n_jobs=None, oob_score=False,\n",
      "         random_state=None, verbose=0, warm_start=False)\n"
     ]
    },
    {
     "name": "stderr",
     "output_type": "stream",
     "text": [
      "/home/hobber/.local/lib/python3.6/site-packages/sklearn/kernel_approximation.py:561: UserWarning: n_components > n_samples. This is not possible.\n",
      "n_components was set to n_samples, which results in inefficient evaluation of the full kernel.\n",
      "  warnings.warn(\"n_components > n_samples. This is not possible.\\n\"\n",
      "/home/hobber/.local/lib/python3.6/site-packages/sklearn/kernel_approximation.py:561: UserWarning: n_components > n_samples. This is not possible.\n",
      "n_components was set to n_samples, which results in inefficient evaluation of the full kernel.\n",
      "  warnings.warn(\"n_components > n_samples. This is not possible.\\n\"\n",
      "/home/hobber/.local/lib/python3.6/site-packages/sklearn/kernel_approximation.py:561: UserWarning: n_components > n_samples. This is not possible.\n",
      "n_components was set to n_samples, which results in inefficient evaluation of the full kernel.\n",
      "  warnings.warn(\"n_components > n_samples. This is not possible.\\n\"\n"
     ]
    },
    {
     "name": "stdout",
     "output_type": "stream",
     "text": [
      "Es un grey\n",
      "El clf que usamos es:\n",
      "BaggingClassifier(base_estimator=Pipeline(memory=None,\n",
      "     steps=[('sampler', Nystroem(coef0=None, degree=None, gamma=0.2, kernel='rbf', kernel_params=None,\n",
      "     n_components=1993, random_state=None)), ('pca', PCA(copy=True, iterated_power='auto', n_components=0.9, random_state=None,\n",
      "  svd_solver='full', tol=0.0, whiten=False)), ('model', LogisticRegression...enalty='l2', random_state=None, solver='lbfgs',\n",
      "          tol=0.0001, verbose=0, warm_start=False))]),\n",
      "         bootstrap=True, bootstrap_features=False, max_features=1.0,\n",
      "         max_samples=1.0, n_estimators=3, n_jobs=None, oob_score=False,\n",
      "         random_state=None, verbose=0, warm_start=False)\n"
     ]
    },
    {
     "name": "stderr",
     "output_type": "stream",
     "text": [
      "/home/hobber/.local/lib/python3.6/site-packages/sklearn/kernel_approximation.py:561: UserWarning: n_components > n_samples. This is not possible.\n",
      "n_components was set to n_samples, which results in inefficient evaluation of the full kernel.\n",
      "  warnings.warn(\"n_components > n_samples. This is not possible.\\n\"\n",
      "/home/hobber/.local/lib/python3.6/site-packages/sklearn/kernel_approximation.py:561: UserWarning: n_components > n_samples. This is not possible.\n",
      "n_components was set to n_samples, which results in inefficient evaluation of the full kernel.\n",
      "  warnings.warn(\"n_components > n_samples. This is not possible.\\n\"\n",
      "/home/hobber/.local/lib/python3.6/site-packages/sklearn/kernel_approximation.py:561: UserWarning: n_components > n_samples. This is not possible.\n",
      "n_components was set to n_samples, which results in inefficient evaluation of the full kernel.\n",
      "  warnings.warn(\"n_components > n_samples. This is not possible.\\n\"\n"
     ]
    },
    {
     "name": "stdout",
     "output_type": "stream",
     "text": [
      "Es un grey\n",
      "El clf que usamos es:\n",
      "BaggingClassifier(base_estimator=Pipeline(memory=None,\n",
      "     steps=[('sampler', Nystroem(coef0=None, degree=None, gamma=0.2, kernel='rbf', kernel_params=None,\n",
      "     n_components=1994, random_state=None)), ('pca', PCA(copy=True, iterated_power='auto', n_components=0.9, random_state=None,\n",
      "  svd_solver='full', tol=0.0, whiten=False)), ('model', LogisticRegression...enalty='l2', random_state=None, solver='lbfgs',\n",
      "          tol=0.0001, verbose=0, warm_start=False))]),\n",
      "         bootstrap=True, bootstrap_features=False, max_features=1.0,\n",
      "         max_samples=1.0, n_estimators=3, n_jobs=None, oob_score=False,\n",
      "         random_state=None, verbose=0, warm_start=False)\n"
     ]
    },
    {
     "name": "stderr",
     "output_type": "stream",
     "text": [
      "/home/hobber/.local/lib/python3.6/site-packages/sklearn/kernel_approximation.py:561: UserWarning: n_components > n_samples. This is not possible.\n",
      "n_components was set to n_samples, which results in inefficient evaluation of the full kernel.\n",
      "  warnings.warn(\"n_components > n_samples. This is not possible.\\n\"\n",
      "/home/hobber/.local/lib/python3.6/site-packages/sklearn/kernel_approximation.py:561: UserWarning: n_components > n_samples. This is not possible.\n",
      "n_components was set to n_samples, which results in inefficient evaluation of the full kernel.\n",
      "  warnings.warn(\"n_components > n_samples. This is not possible.\\n\"\n",
      "/home/hobber/.local/lib/python3.6/site-packages/sklearn/kernel_approximation.py:561: UserWarning: n_components > n_samples. This is not possible.\n",
      "n_components was set to n_samples, which results in inefficient evaluation of the full kernel.\n",
      "  warnings.warn(\"n_components > n_samples. This is not possible.\\n\"\n"
     ]
    },
    {
     "name": "stdout",
     "output_type": "stream",
     "text": [
      "Es un grey\n",
      "El clf que usamos es:\n",
      "BaggingClassifier(base_estimator=Pipeline(memory=None,\n",
      "     steps=[('sampler', Nystroem(coef0=None, degree=None, gamma=0.2, kernel='rbf', kernel_params=None,\n",
      "     n_components=1995, random_state=None)), ('pca', PCA(copy=True, iterated_power='auto', n_components=0.9, random_state=None,\n",
      "  svd_solver='full', tol=0.0, whiten=False)), ('model', LogisticRegression...enalty='l2', random_state=None, solver='lbfgs',\n",
      "          tol=0.0001, verbose=0, warm_start=False))]),\n",
      "         bootstrap=True, bootstrap_features=False, max_features=1.0,\n",
      "         max_samples=1.0, n_estimators=3, n_jobs=None, oob_score=False,\n",
      "         random_state=None, verbose=0, warm_start=False)\n"
     ]
    },
    {
     "name": "stderr",
     "output_type": "stream",
     "text": [
      "/home/hobber/.local/lib/python3.6/site-packages/sklearn/kernel_approximation.py:561: UserWarning: n_components > n_samples. This is not possible.\n",
      "n_components was set to n_samples, which results in inefficient evaluation of the full kernel.\n",
      "  warnings.warn(\"n_components > n_samples. This is not possible.\\n\"\n",
      "/home/hobber/.local/lib/python3.6/site-packages/sklearn/kernel_approximation.py:561: UserWarning: n_components > n_samples. This is not possible.\n",
      "n_components was set to n_samples, which results in inefficient evaluation of the full kernel.\n",
      "  warnings.warn(\"n_components > n_samples. This is not possible.\\n\"\n",
      "/home/hobber/.local/lib/python3.6/site-packages/sklearn/kernel_approximation.py:561: UserWarning: n_components > n_samples. This is not possible.\n",
      "n_components was set to n_samples, which results in inefficient evaluation of the full kernel.\n",
      "  warnings.warn(\"n_components > n_samples. This is not possible.\\n\"\n"
     ]
    },
    {
     "name": "stdout",
     "output_type": "stream",
     "text": [
      "Es un grey\n",
      "El clf que usamos es:\n",
      "BaggingClassifier(base_estimator=Pipeline(memory=None,\n",
      "     steps=[('sampler', Nystroem(coef0=None, degree=None, gamma=0.2, kernel='rbf', kernel_params=None,\n",
      "     n_components=1996, random_state=None)), ('pca', PCA(copy=True, iterated_power='auto', n_components=0.9, random_state=None,\n",
      "  svd_solver='full', tol=0.0, whiten=False)), ('model', LogisticRegression...enalty='l2', random_state=None, solver='lbfgs',\n",
      "          tol=0.0001, verbose=0, warm_start=False))]),\n",
      "         bootstrap=True, bootstrap_features=False, max_features=1.0,\n",
      "         max_samples=1.0, n_estimators=3, n_jobs=None, oob_score=False,\n",
      "         random_state=None, verbose=0, warm_start=False)\n"
     ]
    },
    {
     "name": "stderr",
     "output_type": "stream",
     "text": [
      "/home/hobber/.local/lib/python3.6/site-packages/sklearn/kernel_approximation.py:561: UserWarning: n_components > n_samples. This is not possible.\n",
      "n_components was set to n_samples, which results in inefficient evaluation of the full kernel.\n",
      "  warnings.warn(\"n_components > n_samples. This is not possible.\\n\"\n",
      "/home/hobber/.local/lib/python3.6/site-packages/sklearn/kernel_approximation.py:561: UserWarning: n_components > n_samples. This is not possible.\n",
      "n_components was set to n_samples, which results in inefficient evaluation of the full kernel.\n",
      "  warnings.warn(\"n_components > n_samples. This is not possible.\\n\"\n",
      "/home/hobber/.local/lib/python3.6/site-packages/sklearn/kernel_approximation.py:561: UserWarning: n_components > n_samples. This is not possible.\n",
      "n_components was set to n_samples, which results in inefficient evaluation of the full kernel.\n",
      "  warnings.warn(\"n_components > n_samples. This is not possible.\\n\"\n"
     ]
    },
    {
     "name": "stdout",
     "output_type": "stream",
     "text": [
      "Es un grey\n",
      "El clf que usamos es:\n",
      "BaggingClassifier(base_estimator=Pipeline(memory=None,\n",
      "     steps=[('sampler', Nystroem(coef0=None, degree=None, gamma=0.2, kernel='rbf', kernel_params=None,\n",
      "     n_components=1997, random_state=None)), ('pca', PCA(copy=True, iterated_power='auto', n_components=0.9, random_state=None,\n",
      "  svd_solver='full', tol=0.0, whiten=False)), ('model', LogisticRegression...enalty='l2', random_state=None, solver='lbfgs',\n",
      "          tol=0.0001, verbose=0, warm_start=False))]),\n",
      "         bootstrap=True, bootstrap_features=False, max_features=1.0,\n",
      "         max_samples=1.0, n_estimators=3, n_jobs=None, oob_score=False,\n",
      "         random_state=None, verbose=0, warm_start=False)\n"
     ]
    },
    {
     "name": "stderr",
     "output_type": "stream",
     "text": [
      "/home/hobber/.local/lib/python3.6/site-packages/sklearn/kernel_approximation.py:561: UserWarning: n_components > n_samples. This is not possible.\n",
      "n_components was set to n_samples, which results in inefficient evaluation of the full kernel.\n",
      "  warnings.warn(\"n_components > n_samples. This is not possible.\\n\"\n",
      "/home/hobber/.local/lib/python3.6/site-packages/sklearn/kernel_approximation.py:561: UserWarning: n_components > n_samples. This is not possible.\n",
      "n_components was set to n_samples, which results in inefficient evaluation of the full kernel.\n",
      "  warnings.warn(\"n_components > n_samples. This is not possible.\\n\"\n",
      "/home/hobber/.local/lib/python3.6/site-packages/sklearn/kernel_approximation.py:561: UserWarning: n_components > n_samples. This is not possible.\n",
      "n_components was set to n_samples, which results in inefficient evaluation of the full kernel.\n",
      "  warnings.warn(\"n_components > n_samples. This is not possible.\\n\"\n"
     ]
    },
    {
     "name": "stdout",
     "output_type": "stream",
     "text": [
      "Es un grey\n",
      "El clf que usamos es:\n",
      "BaggingClassifier(base_estimator=Pipeline(memory=None,\n",
      "     steps=[('sampler', Nystroem(coef0=None, degree=None, gamma=0.2, kernel='rbf', kernel_params=None,\n",
      "     n_components=1998, random_state=None)), ('pca', PCA(copy=True, iterated_power='auto', n_components=0.9, random_state=None,\n",
      "  svd_solver='full', tol=0.0, whiten=False)), ('model', LogisticRegression...enalty='l2', random_state=None, solver='lbfgs',\n",
      "          tol=0.0001, verbose=0, warm_start=False))]),\n",
      "         bootstrap=True, bootstrap_features=False, max_features=1.0,\n",
      "         max_samples=1.0, n_estimators=3, n_jobs=None, oob_score=False,\n",
      "         random_state=None, verbose=0, warm_start=False)\n"
     ]
    },
    {
     "name": "stderr",
     "output_type": "stream",
     "text": [
      "/home/hobber/.local/lib/python3.6/site-packages/sklearn/kernel_approximation.py:561: UserWarning: n_components > n_samples. This is not possible.\n",
      "n_components was set to n_samples, which results in inefficient evaluation of the full kernel.\n",
      "  warnings.warn(\"n_components > n_samples. This is not possible.\\n\"\n",
      "/home/hobber/.local/lib/python3.6/site-packages/sklearn/kernel_approximation.py:561: UserWarning: n_components > n_samples. This is not possible.\n",
      "n_components was set to n_samples, which results in inefficient evaluation of the full kernel.\n",
      "  warnings.warn(\"n_components > n_samples. This is not possible.\\n\"\n",
      "/home/hobber/.local/lib/python3.6/site-packages/sklearn/kernel_approximation.py:561: UserWarning: n_components > n_samples. This is not possible.\n",
      "n_components was set to n_samples, which results in inefficient evaluation of the full kernel.\n",
      "  warnings.warn(\"n_components > n_samples. This is not possible.\\n\"\n"
     ]
    },
    {
     "name": "stdout",
     "output_type": "stream",
     "text": [
      "Es un grey\n",
      "El clf que usamos es:\n",
      "BaggingClassifier(base_estimator=Pipeline(memory=None,\n",
      "     steps=[('sampler', Nystroem(coef0=None, degree=None, gamma=0.2, kernel='rbf', kernel_params=None,\n",
      "     n_components=1999, random_state=None)), ('pca', PCA(copy=True, iterated_power='auto', n_components=0.9, random_state=None,\n",
      "  svd_solver='full', tol=0.0, whiten=False)), ('model', LogisticRegression...enalty='l2', random_state=None, solver='lbfgs',\n",
      "          tol=0.0001, verbose=0, warm_start=False))]),\n",
      "         bootstrap=True, bootstrap_features=False, max_features=1.0,\n",
      "         max_samples=1.0, n_estimators=3, n_jobs=None, oob_score=False,\n",
      "         random_state=None, verbose=0, warm_start=False)\n"
     ]
    },
    {
     "name": "stderr",
     "output_type": "stream",
     "text": [
      "/home/hobber/.local/lib/python3.6/site-packages/sklearn/kernel_approximation.py:561: UserWarning: n_components > n_samples. This is not possible.\n",
      "n_components was set to n_samples, which results in inefficient evaluation of the full kernel.\n",
      "  warnings.warn(\"n_components > n_samples. This is not possible.\\n\"\n",
      "/home/hobber/.local/lib/python3.6/site-packages/sklearn/kernel_approximation.py:561: UserWarning: n_components > n_samples. This is not possible.\n",
      "n_components was set to n_samples, which results in inefficient evaluation of the full kernel.\n",
      "  warnings.warn(\"n_components > n_samples. This is not possible.\\n\"\n",
      "/home/hobber/.local/lib/python3.6/site-packages/sklearn/kernel_approximation.py:561: UserWarning: n_components > n_samples. This is not possible.\n",
      "n_components was set to n_samples, which results in inefficient evaluation of the full kernel.\n",
      "  warnings.warn(\"n_components > n_samples. This is not possible.\\n\"\n"
     ]
    }
   ],
   "source": [
    "demo"
   ]
  },
  {
   "cell_type": "code",
   "execution_count": null,
   "metadata": {},
   "outputs": [],
   "source": []
  }
 ],
 "metadata": {
  "kernelspec": {
   "display_name": "Python 3",
   "language": "python",
   "name": "python3"
  },
  "language_info": {
   "codemirror_mode": {
    "name": "ipython",
    "version": 3
   },
   "file_extension": ".py",
   "mimetype": "text/x-python",
   "name": "python",
   "nbconvert_exporter": "python",
   "pygments_lexer": "ipython3",
   "version": "3.6.7"
  }
 },
 "nbformat": 4,
 "nbformat_minor": 2
}
